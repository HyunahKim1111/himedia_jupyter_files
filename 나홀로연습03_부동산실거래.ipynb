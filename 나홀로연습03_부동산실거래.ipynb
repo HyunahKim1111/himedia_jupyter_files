{
 "cells": [
  {
   "cell_type": "code",
   "execution_count": 1,
   "id": "83d66521",
   "metadata": {},
   "outputs": [],
   "source": [
    "import os\n",
    "import csv\n",
    "import pandas as pd\n",
    "import numpy as np\n",
    "import matplotlib.pyplot as plt\n",
    "import seaborn as sns\n",
    "import koreanize_matplotlib"
   ]
  },
  {
   "cell_type": "code",
   "execution_count": 2,
   "id": "3e431a3a",
   "metadata": {
    "scrolled": true
   },
   "outputs": [
    {
     "data": {
      "text/plain": [
       "296"
      ]
     },
     "execution_count": 2,
     "metadata": {},
     "output_type": "execute_result"
    }
   ],
   "source": [
    "file_list = os.listdir(\"C:/bigdata/data/전국부동산실거래가\")\n",
    "len(file_list)"
   ]
  },
  {
   "cell_type": "code",
   "execution_count": 3,
   "id": "3f6e12e2",
   "metadata": {},
   "outputs": [
    {
     "data": {
      "text/plain": [
       "['1999_01.csv',\n",
       " '1999_02.csv',\n",
       " '1999_03.csv',\n",
       " '1999_04.csv',\n",
       " '1999_05.csv',\n",
       " '1999_06.csv',\n",
       " '1999_07.csv',\n",
       " '1999_08.csv',\n",
       " '1999_09.csv',\n",
       " '1999_10.csv',\n",
       " '1999_11.csv',\n",
       " '1999_12.csv',\n",
       " '2000_01.csv',\n",
       " '2000_02.csv',\n",
       " '2000_03.csv',\n",
       " '2000_04.csv',\n",
       " '2000_05.csv',\n",
       " '2000_06.csv',\n",
       " '2000_07.csv',\n",
       " '2000_08.csv',\n",
       " '2000_09.csv',\n",
       " '2000_10.csv',\n",
       " '2000_11.csv',\n",
       " '2000_12.csv',\n",
       " '2001_01.csv',\n",
       " '2001_02.csv',\n",
       " '2001_03.csv',\n",
       " '2001_04.csv',\n",
       " '2001_05.csv',\n",
       " '2001_06.csv',\n",
       " '2001_07.csv',\n",
       " '2001_08.csv',\n",
       " '2001_09.csv',\n",
       " '2001_10.csv',\n",
       " '2001_11.csv',\n",
       " '2001_12.csv',\n",
       " '2002_01.csv',\n",
       " '2002_02.csv',\n",
       " '2002_03.csv',\n",
       " '2002_04.csv',\n",
       " '2002_05.csv',\n",
       " '2002_06.csv',\n",
       " '2002_07.csv',\n",
       " '2002_08.csv',\n",
       " '2002_09.csv',\n",
       " '2002_10.csv',\n",
       " '2002_11.csv',\n",
       " '2002_12.csv',\n",
       " '2003_01.csv',\n",
       " '2003_02.csv',\n",
       " '2003_03.csv',\n",
       " '2003_04.csv',\n",
       " '2003_05.csv',\n",
       " '2003_06.csv',\n",
       " '2003_07.csv',\n",
       " '2003_08.csv',\n",
       " '2003_09.csv',\n",
       " '2003_10.csv',\n",
       " '2003_11.csv',\n",
       " '2003_12.csv',\n",
       " '2004_01.csv',\n",
       " '2004_02.csv',\n",
       " '2004_03.csv',\n",
       " '2004_04.csv',\n",
       " '2004_05.csv',\n",
       " '2004_06.csv',\n",
       " '2004_07.csv',\n",
       " '2004_08.csv',\n",
       " '2004_09.csv',\n",
       " '2004_10.csv',\n",
       " '2004_11.csv',\n",
       " '2004_12.csv',\n",
       " '2005_01.csv',\n",
       " '2005_02.csv',\n",
       " '2005_03.csv',\n",
       " '2005_04.csv',\n",
       " '2005_05.csv',\n",
       " '2005_06.csv',\n",
       " '2005_07.csv',\n",
       " '2005_08.csv',\n",
       " '2005_09.csv',\n",
       " '2005_10.csv',\n",
       " '2005_11.csv',\n",
       " '2005_12.csv',\n",
       " '2006_01.csv',\n",
       " '2006_02.csv',\n",
       " '2006_03.csv',\n",
       " '2006_04.csv',\n",
       " '2006_05.csv',\n",
       " '2006_06.csv',\n",
       " '2006_07.csv',\n",
       " '2006_08.csv',\n",
       " '2006_09.csv',\n",
       " '2006_10.csv',\n",
       " '2006_11.csv',\n",
       " '2006_12.csv',\n",
       " '2007_01.csv',\n",
       " '2007_02.csv',\n",
       " '2007_03.csv',\n",
       " '2007_04.csv',\n",
       " '2007_05.csv',\n",
       " '2007_06.csv',\n",
       " '2007_07.csv',\n",
       " '2007_08.csv',\n",
       " '2007_09.csv',\n",
       " '2007_10.csv',\n",
       " '2007_11.csv',\n",
       " '2007_12.csv',\n",
       " '2008_01.csv',\n",
       " '2008_02.csv',\n",
       " '2008_03.csv',\n",
       " '2008_04.csv',\n",
       " '2008_05.csv',\n",
       " '2008_06.csv',\n",
       " '2008_07.csv',\n",
       " '2008_08.csv',\n",
       " '2008_09.csv',\n",
       " '2008_10.csv',\n",
       " '2008_11.csv',\n",
       " '2008_12.csv',\n",
       " '2009_01.csv',\n",
       " '2009_02.csv',\n",
       " '2009_03.csv',\n",
       " '2009_04.csv',\n",
       " '2009_05.csv',\n",
       " '2009_06.csv',\n",
       " '2009_07.csv',\n",
       " '2009_08.csv',\n",
       " '2009_09.csv',\n",
       " '2009_10.csv',\n",
       " '2009_11.csv',\n",
       " '2009_12.csv',\n",
       " '2010_01.csv',\n",
       " '2010_02.csv',\n",
       " '2010_03.csv',\n",
       " '2010_04.csv',\n",
       " '2010_05.csv',\n",
       " '2010_06.csv',\n",
       " '2010_07.csv',\n",
       " '2010_08.csv',\n",
       " '2010_09.csv',\n",
       " '2010_10.csv',\n",
       " '2010_11.csv',\n",
       " '2010_12.csv',\n",
       " '2011_01.csv',\n",
       " '2011_02.csv',\n",
       " '2011_03.csv',\n",
       " '2011_04.csv',\n",
       " '2011_05.csv',\n",
       " '2011_06.csv',\n",
       " '2011_07.csv',\n",
       " '2011_08.csv',\n",
       " '2011_09.csv',\n",
       " '2011_10.csv',\n",
       " '2011_11.csv',\n",
       " '2011_12.csv',\n",
       " '2012_01.csv',\n",
       " '2012_02.csv',\n",
       " '2012_03.csv',\n",
       " '2012_04.csv',\n",
       " '2012_05.csv',\n",
       " '2012_06.csv',\n",
       " '2012_07.csv',\n",
       " '2012_08.csv',\n",
       " '2012_09.csv',\n",
       " '2012_10.csv',\n",
       " '2012_11.csv',\n",
       " '2012_12.csv',\n",
       " '2013_01.csv',\n",
       " '2013_02.csv',\n",
       " '2013_03.csv',\n",
       " '2013_04.csv',\n",
       " '2014_01.csv',\n",
       " '2014_02.csv',\n",
       " '2014_03.csv',\n",
       " '2014_04.csv',\n",
       " '2014_05.csv',\n",
       " '2014_06.csv',\n",
       " '2014_07.csv',\n",
       " '2014_08.csv',\n",
       " '2014_09.csv',\n",
       " '2014_10.csv',\n",
       " '2014_11.csv',\n",
       " '2014_12.csv',\n",
       " '2015_01.csv',\n",
       " '2015_02.csv',\n",
       " '2015_03.csv',\n",
       " '2015_04.csv',\n",
       " '2015_05.csv',\n",
       " '2015_06.csv',\n",
       " '2015_07.csv',\n",
       " '2015_08.csv',\n",
       " '2015_09.csv',\n",
       " '2015_10.csv',\n",
       " '2015_11.csv',\n",
       " '2015_12.csv',\n",
       " '2016_01.csv',\n",
       " '2016_02.csv',\n",
       " '2016_03.csv',\n",
       " '2016_04.csv',\n",
       " '2016_05.csv',\n",
       " '2016_06.csv',\n",
       " '2016_07.csv',\n",
       " '2016_08.csv',\n",
       " '2016_09.csv',\n",
       " '2016_10.csv',\n",
       " '2016_11.csv',\n",
       " '2016_12.csv',\n",
       " '2017_01.csv',\n",
       " '2017_02.csv',\n",
       " '2017_03.csv',\n",
       " '2017_04.csv',\n",
       " '2017_05.csv',\n",
       " '2017_06.csv',\n",
       " '2017_07.csv',\n",
       " '2017_08.csv',\n",
       " '2017_09.csv',\n",
       " '2017_10.csv',\n",
       " '2017_11.csv',\n",
       " '2017_12.csv',\n",
       " '2018_01.csv',\n",
       " '2018_02.csv',\n",
       " '2018_03.csv',\n",
       " '2018_04.csv',\n",
       " '2018_05.csv',\n",
       " '2018_06.csv',\n",
       " '2018_07.csv',\n",
       " '2018_08.csv',\n",
       " '2018_09.csv',\n",
       " '2018_10.csv',\n",
       " '2018_11.csv',\n",
       " '2018_12.csv',\n",
       " '2019_01.csv',\n",
       " '2019_02.csv',\n",
       " '2019_03.csv',\n",
       " '2019_04.csv',\n",
       " '2019_05.csv',\n",
       " '2019_06.csv',\n",
       " '2019_07.csv',\n",
       " '2019_08.csv',\n",
       " '2019_09.csv',\n",
       " '2019_10.csv',\n",
       " '2019_11.csv',\n",
       " '2019_12.csv',\n",
       " '2020_01.csv',\n",
       " '2020_02.csv',\n",
       " '2020_03.csv',\n",
       " '2020_04.csv',\n",
       " '2020_05.csv',\n",
       " '2020_06.csv',\n",
       " '2020_07.csv',\n",
       " '2020_08.csv',\n",
       " '2020_09.csv',\n",
       " '2020_10.csv',\n",
       " '2020_11.csv',\n",
       " '2020_12.csv',\n",
       " '2021_01.csv',\n",
       " '2021_02.csv',\n",
       " '2021_03.csv',\n",
       " '2021_04.csv',\n",
       " '2021_05.csv',\n",
       " '2021_06.csv',\n",
       " '2021_07.csv',\n",
       " '2021_08.csv',\n",
       " '2021_09.csv',\n",
       " '2021_10.csv',\n",
       " '2021_11.csv',\n",
       " '2021_12.csv',\n",
       " '2022_01.csv',\n",
       " '2022_02.csv',\n",
       " '2022_03.csv',\n",
       " '2022_04.csv',\n",
       " '2022_05.csv',\n",
       " '2022_06.csv',\n",
       " '2022_07.csv',\n",
       " '2022_08.csv',\n",
       " '2022_09.csv',\n",
       " '2022_10.csv',\n",
       " '2022_11.csv',\n",
       " '2022_12.csv',\n",
       " '2023_01.csv',\n",
       " '2023_02.csv',\n",
       " '2023_03.csv',\n",
       " '2023_04.csv',\n",
       " '2023_05.csv',\n",
       " '2023_06.csv',\n",
       " '2023_07.csv',\n",
       " '2023_08.csv',\n",
       " '법정동코드 전체자료.txt',\n",
       " '아파트 매매 상세자료 조회 기술문서.hwp',\n",
       " '아파트주소2좌표변환.csv',\n",
       " '아파트주소2좌표변환.xlsx',\n",
       " '전국부동산실거래가1999-2023.csv',\n",
       " '전국부동산실거래가2013-2023.csv',\n",
       " '전국학군정보.xlsx',\n",
       " '한국은행기준금리1999-2023.xlsx']"
      ]
     },
     "execution_count": 3,
     "metadata": {},
     "output_type": "execute_result"
    }
   ],
   "source": [
    "file_list # 마지막 8개는 다른 파일이 있으니까 부동산 파일만 보려면 거꾸로 -8로 불러와 함."
   ]
  },
  {
   "cell_type": "code",
   "execution_count": 4,
   "id": "af454fbb",
   "metadata": {},
   "outputs": [
    {
     "data": {
      "text/plain": [
       "['1999_01.csv',\n",
       " '1999_02.csv',\n",
       " '1999_03.csv',\n",
       " '1999_04.csv',\n",
       " '1999_05.csv',\n",
       " '1999_06.csv',\n",
       " '1999_07.csv',\n",
       " '1999_08.csv',\n",
       " '1999_09.csv',\n",
       " '1999_10.csv',\n",
       " '1999_11.csv',\n",
       " '1999_12.csv',\n",
       " '2000_01.csv',\n",
       " '2000_02.csv',\n",
       " '2000_03.csv',\n",
       " '2000_04.csv',\n",
       " '2000_05.csv',\n",
       " '2000_06.csv',\n",
       " '2000_07.csv',\n",
       " '2000_08.csv',\n",
       " '2000_09.csv',\n",
       " '2000_10.csv',\n",
       " '2000_11.csv',\n",
       " '2000_12.csv',\n",
       " '2001_01.csv',\n",
       " '2001_02.csv',\n",
       " '2001_03.csv',\n",
       " '2001_04.csv',\n",
       " '2001_05.csv',\n",
       " '2001_06.csv',\n",
       " '2001_07.csv',\n",
       " '2001_08.csv',\n",
       " '2001_09.csv',\n",
       " '2001_10.csv',\n",
       " '2001_11.csv',\n",
       " '2001_12.csv',\n",
       " '2002_01.csv',\n",
       " '2002_02.csv',\n",
       " '2002_03.csv',\n",
       " '2002_04.csv',\n",
       " '2002_05.csv',\n",
       " '2002_06.csv',\n",
       " '2002_07.csv',\n",
       " '2002_08.csv',\n",
       " '2002_09.csv',\n",
       " '2002_10.csv',\n",
       " '2002_11.csv',\n",
       " '2002_12.csv',\n",
       " '2003_01.csv',\n",
       " '2003_02.csv',\n",
       " '2003_03.csv',\n",
       " '2003_04.csv',\n",
       " '2003_05.csv',\n",
       " '2003_06.csv',\n",
       " '2003_07.csv',\n",
       " '2003_08.csv',\n",
       " '2003_09.csv',\n",
       " '2003_10.csv',\n",
       " '2003_11.csv',\n",
       " '2003_12.csv',\n",
       " '2004_01.csv',\n",
       " '2004_02.csv',\n",
       " '2004_03.csv',\n",
       " '2004_04.csv',\n",
       " '2004_05.csv',\n",
       " '2004_06.csv',\n",
       " '2004_07.csv',\n",
       " '2004_08.csv',\n",
       " '2004_09.csv',\n",
       " '2004_10.csv',\n",
       " '2004_11.csv',\n",
       " '2004_12.csv',\n",
       " '2005_01.csv',\n",
       " '2005_02.csv',\n",
       " '2005_03.csv',\n",
       " '2005_04.csv',\n",
       " '2005_05.csv',\n",
       " '2005_06.csv',\n",
       " '2005_07.csv',\n",
       " '2005_08.csv',\n",
       " '2005_09.csv',\n",
       " '2005_10.csv',\n",
       " '2005_11.csv',\n",
       " '2005_12.csv',\n",
       " '2006_01.csv',\n",
       " '2006_02.csv',\n",
       " '2006_03.csv',\n",
       " '2006_04.csv',\n",
       " '2006_05.csv',\n",
       " '2006_06.csv',\n",
       " '2006_07.csv',\n",
       " '2006_08.csv',\n",
       " '2006_09.csv',\n",
       " '2006_10.csv',\n",
       " '2006_11.csv',\n",
       " '2006_12.csv',\n",
       " '2007_01.csv',\n",
       " '2007_02.csv',\n",
       " '2007_03.csv',\n",
       " '2007_04.csv',\n",
       " '2007_05.csv',\n",
       " '2007_06.csv',\n",
       " '2007_07.csv',\n",
       " '2007_08.csv',\n",
       " '2007_09.csv',\n",
       " '2007_10.csv',\n",
       " '2007_11.csv',\n",
       " '2007_12.csv',\n",
       " '2008_01.csv',\n",
       " '2008_02.csv',\n",
       " '2008_03.csv',\n",
       " '2008_04.csv',\n",
       " '2008_05.csv',\n",
       " '2008_06.csv',\n",
       " '2008_07.csv',\n",
       " '2008_08.csv',\n",
       " '2008_09.csv',\n",
       " '2008_10.csv',\n",
       " '2008_11.csv',\n",
       " '2008_12.csv',\n",
       " '2009_01.csv',\n",
       " '2009_02.csv',\n",
       " '2009_03.csv',\n",
       " '2009_04.csv',\n",
       " '2009_05.csv',\n",
       " '2009_06.csv',\n",
       " '2009_07.csv',\n",
       " '2009_08.csv',\n",
       " '2009_09.csv',\n",
       " '2009_10.csv',\n",
       " '2009_11.csv',\n",
       " '2009_12.csv',\n",
       " '2010_01.csv',\n",
       " '2010_02.csv',\n",
       " '2010_03.csv',\n",
       " '2010_04.csv',\n",
       " '2010_05.csv',\n",
       " '2010_06.csv',\n",
       " '2010_07.csv',\n",
       " '2010_08.csv',\n",
       " '2010_09.csv',\n",
       " '2010_10.csv',\n",
       " '2010_11.csv',\n",
       " '2010_12.csv',\n",
       " '2011_01.csv',\n",
       " '2011_02.csv',\n",
       " '2011_03.csv',\n",
       " '2011_04.csv',\n",
       " '2011_05.csv',\n",
       " '2011_06.csv',\n",
       " '2011_07.csv',\n",
       " '2011_08.csv',\n",
       " '2011_09.csv',\n",
       " '2011_10.csv',\n",
       " '2011_11.csv',\n",
       " '2011_12.csv',\n",
       " '2012_01.csv',\n",
       " '2012_02.csv',\n",
       " '2012_03.csv',\n",
       " '2012_04.csv',\n",
       " '2012_05.csv',\n",
       " '2012_06.csv',\n",
       " '2012_07.csv',\n",
       " '2012_08.csv',\n",
       " '2012_09.csv',\n",
       " '2012_10.csv',\n",
       " '2012_11.csv',\n",
       " '2012_12.csv',\n",
       " '2013_01.csv',\n",
       " '2013_02.csv',\n",
       " '2013_03.csv',\n",
       " '2013_04.csv',\n",
       " '2014_01.csv',\n",
       " '2014_02.csv',\n",
       " '2014_03.csv',\n",
       " '2014_04.csv',\n",
       " '2014_05.csv',\n",
       " '2014_06.csv',\n",
       " '2014_07.csv',\n",
       " '2014_08.csv',\n",
       " '2014_09.csv',\n",
       " '2014_10.csv',\n",
       " '2014_11.csv',\n",
       " '2014_12.csv',\n",
       " '2015_01.csv',\n",
       " '2015_02.csv',\n",
       " '2015_03.csv',\n",
       " '2015_04.csv',\n",
       " '2015_05.csv',\n",
       " '2015_06.csv',\n",
       " '2015_07.csv',\n",
       " '2015_08.csv',\n",
       " '2015_09.csv',\n",
       " '2015_10.csv',\n",
       " '2015_11.csv',\n",
       " '2015_12.csv',\n",
       " '2016_01.csv',\n",
       " '2016_02.csv',\n",
       " '2016_03.csv',\n",
       " '2016_04.csv',\n",
       " '2016_05.csv',\n",
       " '2016_06.csv',\n",
       " '2016_07.csv',\n",
       " '2016_08.csv',\n",
       " '2016_09.csv',\n",
       " '2016_10.csv',\n",
       " '2016_11.csv',\n",
       " '2016_12.csv',\n",
       " '2017_01.csv',\n",
       " '2017_02.csv',\n",
       " '2017_03.csv',\n",
       " '2017_04.csv',\n",
       " '2017_05.csv',\n",
       " '2017_06.csv',\n",
       " '2017_07.csv',\n",
       " '2017_08.csv',\n",
       " '2017_09.csv',\n",
       " '2017_10.csv',\n",
       " '2017_11.csv',\n",
       " '2017_12.csv',\n",
       " '2018_01.csv',\n",
       " '2018_02.csv',\n",
       " '2018_03.csv',\n",
       " '2018_04.csv',\n",
       " '2018_05.csv',\n",
       " '2018_06.csv',\n",
       " '2018_07.csv',\n",
       " '2018_08.csv',\n",
       " '2018_09.csv',\n",
       " '2018_10.csv',\n",
       " '2018_11.csv',\n",
       " '2018_12.csv',\n",
       " '2019_01.csv',\n",
       " '2019_02.csv',\n",
       " '2019_03.csv',\n",
       " '2019_04.csv',\n",
       " '2019_05.csv',\n",
       " '2019_06.csv',\n",
       " '2019_07.csv',\n",
       " '2019_08.csv',\n",
       " '2019_09.csv',\n",
       " '2019_10.csv',\n",
       " '2019_11.csv',\n",
       " '2019_12.csv',\n",
       " '2020_01.csv',\n",
       " '2020_02.csv',\n",
       " '2020_03.csv',\n",
       " '2020_04.csv',\n",
       " '2020_05.csv',\n",
       " '2020_06.csv',\n",
       " '2020_07.csv',\n",
       " '2020_08.csv',\n",
       " '2020_09.csv',\n",
       " '2020_10.csv',\n",
       " '2020_11.csv',\n",
       " '2020_12.csv',\n",
       " '2021_01.csv',\n",
       " '2021_02.csv',\n",
       " '2021_03.csv',\n",
       " '2021_04.csv',\n",
       " '2021_05.csv',\n",
       " '2021_06.csv',\n",
       " '2021_07.csv',\n",
       " '2021_08.csv',\n",
       " '2021_09.csv',\n",
       " '2021_10.csv',\n",
       " '2021_11.csv',\n",
       " '2021_12.csv',\n",
       " '2022_01.csv',\n",
       " '2022_02.csv',\n",
       " '2022_03.csv',\n",
       " '2022_04.csv',\n",
       " '2022_05.csv',\n",
       " '2022_06.csv',\n",
       " '2022_07.csv',\n",
       " '2022_08.csv',\n",
       " '2022_09.csv',\n",
       " '2022_10.csv',\n",
       " '2022_11.csv',\n",
       " '2022_12.csv',\n",
       " '2023_01.csv',\n",
       " '2023_02.csv',\n",
       " '2023_03.csv',\n",
       " '2023_04.csv',\n",
       " '2023_05.csv',\n",
       " '2023_06.csv',\n",
       " '2023_07.csv',\n",
       " '2023_08.csv']"
      ]
     },
     "execution_count": 4,
     "metadata": {},
     "output_type": "execute_result"
    }
   ],
   "source": [
    "file_list[:-8]"
   ]
  },
  {
   "cell_type": "code",
   "execution_count": 5,
   "id": "e5f45596",
   "metadata": {},
   "outputs": [],
   "source": [
    "#data = pd.read_csv('C:/bigdata/data/전국부동산실거래가/2023_08.csv')"
   ]
  },
  {
   "cell_type": "markdown",
   "id": "c4e0ea6f",
   "metadata": {},
   "source": [
    "* 'utf-8' codec can't decode byte 0xa1 in position 1: invalid start byte 오류 --> encoding='cp949'"
   ]
  },
  {
   "cell_type": "markdown",
   "id": "01c5784f",
   "metadata": {},
   "source": [
    "* Error tokenizing data. C error: Expected 1 fields in line 16, saw 16 오류 --> skiprows=15  15번째줄까지 다른 내용이 있기 때문에 난 오류"
   ]
  },
  {
   "cell_type": "code",
   "execution_count": 6,
   "id": "7daf2c1a",
   "metadata": {},
   "outputs": [],
   "source": [
    "data = pd.read_csv('C:/bigdata/data/전국부동산실거래가/2023_08.csv',skiprows=15, encoding='cp949')"
   ]
  },
  {
   "cell_type": "code",
   "execution_count": 7,
   "id": "a77b4d13",
   "metadata": {},
   "outputs": [
    {
     "data": {
      "text/html": [
       "<div>\n",
       "<style scoped>\n",
       "    .dataframe tbody tr th:only-of-type {\n",
       "        vertical-align: middle;\n",
       "    }\n",
       "\n",
       "    .dataframe tbody tr th {\n",
       "        vertical-align: top;\n",
       "    }\n",
       "\n",
       "    .dataframe thead th {\n",
       "        text-align: right;\n",
       "    }\n",
       "</style>\n",
       "<table border=\"1\" class=\"dataframe\">\n",
       "  <thead>\n",
       "    <tr style=\"text-align: right;\">\n",
       "      <th></th>\n",
       "      <th>시군구</th>\n",
       "      <th>번지</th>\n",
       "      <th>본번</th>\n",
       "      <th>부번</th>\n",
       "      <th>단지명</th>\n",
       "      <th>전용면적(㎡)</th>\n",
       "      <th>계약년월</th>\n",
       "      <th>계약일</th>\n",
       "      <th>거래금액(만원)</th>\n",
       "      <th>층</th>\n",
       "      <th>건축년도</th>\n",
       "      <th>도로명</th>\n",
       "      <th>해제사유발생일</th>\n",
       "      <th>등기신청일자</th>\n",
       "      <th>거래유형</th>\n",
       "      <th>중개사소재지</th>\n",
       "    </tr>\n",
       "  </thead>\n",
       "  <tbody>\n",
       "    <tr>\n",
       "      <th>0</th>\n",
       "      <td>강원특별자치도 강릉시 견소동</td>\n",
       "      <td>202</td>\n",
       "      <td>0202</td>\n",
       "      <td>0</td>\n",
       "      <td>송정한신</td>\n",
       "      <td>59.800</td>\n",
       "      <td>202308</td>\n",
       "      <td>8</td>\n",
       "      <td>23,000</td>\n",
       "      <td>9</td>\n",
       "      <td>1997.0</td>\n",
       "      <td>경강로2539번길 8</td>\n",
       "      <td>NaN</td>\n",
       "      <td></td>\n",
       "      <td>중개거래</td>\n",
       "      <td>강릉시</td>\n",
       "    </tr>\n",
       "    <tr>\n",
       "      <th>1</th>\n",
       "      <td>강원특별자치도 강릉시 견소동</td>\n",
       "      <td>202</td>\n",
       "      <td>0202</td>\n",
       "      <td>0</td>\n",
       "      <td>송정한신</td>\n",
       "      <td>84.945</td>\n",
       "      <td>202308</td>\n",
       "      <td>14</td>\n",
       "      <td>31,000</td>\n",
       "      <td>13</td>\n",
       "      <td>1997.0</td>\n",
       "      <td>경강로2539번길 8</td>\n",
       "      <td>NaN</td>\n",
       "      <td></td>\n",
       "      <td>중개거래</td>\n",
       "      <td>강릉시</td>\n",
       "    </tr>\n",
       "  </tbody>\n",
       "</table>\n",
       "</div>"
      ],
      "text/plain": [
       "               시군구   번지    본번  부번   단지명  전용면적(㎡)    계약년월  계약일 거래금액(만원)   층  \\\n",
       "0  강원특별자치도 강릉시 견소동  202  0202   0  송정한신   59.800  202308    8   23,000   9   \n",
       "1  강원특별자치도 강릉시 견소동  202  0202   0  송정한신   84.945  202308   14   31,000  13   \n",
       "\n",
       "     건축년도          도로명  해제사유발생일 등기신청일자  거래유형 중개사소재지  \n",
       "0  1997.0  경강로2539번길 8      NaN         중개거래    강릉시  \n",
       "1  1997.0  경강로2539번길 8      NaN         중개거래    강릉시  "
      ]
     },
     "execution_count": 7,
     "metadata": {},
     "output_type": "execute_result"
    }
   ],
   "source": [
    "data.head(2)"
   ]
  },
  {
   "cell_type": "code",
   "execution_count": 8,
   "id": "934fe6a9",
   "metadata": {
    "scrolled": true
   },
   "outputs": [
    {
     "name": "stdout",
     "output_type": "stream",
     "text": [
      "204\r"
     ]
    },
    {
     "name": "stderr",
     "output_type": "stream",
     "text": [
      "C:\\Users\\Jasmine\\AppData\\Local\\Temp\\ipykernel_12364\\3186835542.py:6: DtypeWarning: Columns (2) have mixed types. Specify dtype option on import or set low_memory=False.\n",
      "  data = pd.read_csv(f'C:/bigdata/data/전국부동산실거래가/{i}', skiprows=15, encoding='cp949')\n"
     ]
    },
    {
     "name": "stdout",
     "output_type": "stream",
     "text": [
      "205\r"
     ]
    },
    {
     "name": "stderr",
     "output_type": "stream",
     "text": [
      "C:\\Users\\Jasmine\\AppData\\Local\\Temp\\ipykernel_12364\\3186835542.py:6: DtypeWarning: Columns (2) have mixed types. Specify dtype option on import or set low_memory=False.\n",
      "  data = pd.read_csv(f'C:/bigdata/data/전국부동산실거래가/{i}', skiprows=15, encoding='cp949')\n"
     ]
    },
    {
     "name": "stdout",
     "output_type": "stream",
     "text": [
      "206\r"
     ]
    },
    {
     "name": "stderr",
     "output_type": "stream",
     "text": [
      "C:\\Users\\Jasmine\\AppData\\Local\\Temp\\ipykernel_12364\\3186835542.py:6: DtypeWarning: Columns (2) have mixed types. Specify dtype option on import or set low_memory=False.\n",
      "  data = pd.read_csv(f'C:/bigdata/data/전국부동산실거래가/{i}', skiprows=15, encoding='cp949')\n"
     ]
    },
    {
     "name": "stdout",
     "output_type": "stream",
     "text": [
      "207\r"
     ]
    },
    {
     "name": "stderr",
     "output_type": "stream",
     "text": [
      "C:\\Users\\Jasmine\\AppData\\Local\\Temp\\ipykernel_12364\\3186835542.py:6: DtypeWarning: Columns (2) have mixed types. Specify dtype option on import or set low_memory=False.\n",
      "  data = pd.read_csv(f'C:/bigdata/data/전국부동산실거래가/{i}', skiprows=15, encoding='cp949')\n"
     ]
    },
    {
     "name": "stdout",
     "output_type": "stream",
     "text": [
      "209\r"
     ]
    },
    {
     "name": "stderr",
     "output_type": "stream",
     "text": [
      "C:\\Users\\Jasmine\\AppData\\Local\\Temp\\ipykernel_12364\\3186835542.py:6: DtypeWarning: Columns (2) have mixed types. Specify dtype option on import or set low_memory=False.\n",
      "  data = pd.read_csv(f'C:/bigdata/data/전국부동산실거래가/{i}', skiprows=15, encoding='cp949')\n"
     ]
    },
    {
     "name": "stdout",
     "output_type": "stream",
     "text": [
      "210\r"
     ]
    },
    {
     "name": "stderr",
     "output_type": "stream",
     "text": [
      "C:\\Users\\Jasmine\\AppData\\Local\\Temp\\ipykernel_12364\\3186835542.py:6: DtypeWarning: Columns (2) have mixed types. Specify dtype option on import or set low_memory=False.\n",
      "  data = pd.read_csv(f'C:/bigdata/data/전국부동산실거래가/{i}', skiprows=15, encoding='cp949')\n"
     ]
    },
    {
     "name": "stdout",
     "output_type": "stream",
     "text": [
      "211\r"
     ]
    },
    {
     "name": "stderr",
     "output_type": "stream",
     "text": [
      "C:\\Users\\Jasmine\\AppData\\Local\\Temp\\ipykernel_12364\\3186835542.py:6: DtypeWarning: Columns (2) have mixed types. Specify dtype option on import or set low_memory=False.\n",
      "  data = pd.read_csv(f'C:/bigdata/data/전국부동산실거래가/{i}', skiprows=15, encoding='cp949')\n"
     ]
    },
    {
     "name": "stdout",
     "output_type": "stream",
     "text": [
      "212\r"
     ]
    },
    {
     "name": "stderr",
     "output_type": "stream",
     "text": [
      "C:\\Users\\Jasmine\\AppData\\Local\\Temp\\ipykernel_12364\\3186835542.py:6: DtypeWarning: Columns (2) have mixed types. Specify dtype option on import or set low_memory=False.\n",
      "  data = pd.read_csv(f'C:/bigdata/data/전국부동산실거래가/{i}', skiprows=15, encoding='cp949')\n"
     ]
    },
    {
     "name": "stdout",
     "output_type": "stream",
     "text": [
      "213\r"
     ]
    },
    {
     "name": "stderr",
     "output_type": "stream",
     "text": [
      "C:\\Users\\Jasmine\\AppData\\Local\\Temp\\ipykernel_12364\\3186835542.py:6: DtypeWarning: Columns (2) have mixed types. Specify dtype option on import or set low_memory=False.\n",
      "  data = pd.read_csv(f'C:/bigdata/data/전국부동산실거래가/{i}', skiprows=15, encoding='cp949')\n"
     ]
    },
    {
     "name": "stdout",
     "output_type": "stream",
     "text": [
      "214\r"
     ]
    },
    {
     "name": "stderr",
     "output_type": "stream",
     "text": [
      "C:\\Users\\Jasmine\\AppData\\Local\\Temp\\ipykernel_12364\\3186835542.py:6: DtypeWarning: Columns (2) have mixed types. Specify dtype option on import or set low_memory=False.\n",
      "  data = pd.read_csv(f'C:/bigdata/data/전국부동산실거래가/{i}', skiprows=15, encoding='cp949')\n"
     ]
    },
    {
     "name": "stdout",
     "output_type": "stream",
     "text": [
      "215\r"
     ]
    },
    {
     "name": "stderr",
     "output_type": "stream",
     "text": [
      "C:\\Users\\Jasmine\\AppData\\Local\\Temp\\ipykernel_12364\\3186835542.py:6: DtypeWarning: Columns (2) have mixed types. Specify dtype option on import or set low_memory=False.\n",
      "  data = pd.read_csv(f'C:/bigdata/data/전국부동산실거래가/{i}', skiprows=15, encoding='cp949')\n"
     ]
    },
    {
     "name": "stdout",
     "output_type": "stream",
     "text": [
      "217\r"
     ]
    },
    {
     "name": "stderr",
     "output_type": "stream",
     "text": [
      "C:\\Users\\Jasmine\\AppData\\Local\\Temp\\ipykernel_12364\\3186835542.py:6: DtypeWarning: Columns (2) have mixed types. Specify dtype option on import or set low_memory=False.\n",
      "  data = pd.read_csv(f'C:/bigdata/data/전국부동산실거래가/{i}', skiprows=15, encoding='cp949')\n"
     ]
    },
    {
     "name": "stdout",
     "output_type": "stream",
     "text": [
      "219\r"
     ]
    },
    {
     "name": "stderr",
     "output_type": "stream",
     "text": [
      "C:\\Users\\Jasmine\\AppData\\Local\\Temp\\ipykernel_12364\\3186835542.py:6: DtypeWarning: Columns (2) have mixed types. Specify dtype option on import or set low_memory=False.\n",
      "  data = pd.read_csv(f'C:/bigdata/data/전국부동산실거래가/{i}', skiprows=15, encoding='cp949')\n"
     ]
    },
    {
     "name": "stdout",
     "output_type": "stream",
     "text": [
      "220\r"
     ]
    },
    {
     "name": "stderr",
     "output_type": "stream",
     "text": [
      "C:\\Users\\Jasmine\\AppData\\Local\\Temp\\ipykernel_12364\\3186835542.py:6: DtypeWarning: Columns (2) have mixed types. Specify dtype option on import or set low_memory=False.\n",
      "  data = pd.read_csv(f'C:/bigdata/data/전국부동산실거래가/{i}', skiprows=15, encoding='cp949')\n"
     ]
    },
    {
     "name": "stdout",
     "output_type": "stream",
     "text": [
      "221\r"
     ]
    },
    {
     "name": "stderr",
     "output_type": "stream",
     "text": [
      "C:\\Users\\Jasmine\\AppData\\Local\\Temp\\ipykernel_12364\\3186835542.py:6: DtypeWarning: Columns (2) have mixed types. Specify dtype option on import or set low_memory=False.\n",
      "  data = pd.read_csv(f'C:/bigdata/data/전국부동산실거래가/{i}', skiprows=15, encoding='cp949')\n"
     ]
    },
    {
     "name": "stdout",
     "output_type": "stream",
     "text": [
      "222\r"
     ]
    },
    {
     "name": "stderr",
     "output_type": "stream",
     "text": [
      "C:\\Users\\Jasmine\\AppData\\Local\\Temp\\ipykernel_12364\\3186835542.py:6: DtypeWarning: Columns (2) have mixed types. Specify dtype option on import or set low_memory=False.\n",
      "  data = pd.read_csv(f'C:/bigdata/data/전국부동산실거래가/{i}', skiprows=15, encoding='cp949')\n"
     ]
    },
    {
     "name": "stdout",
     "output_type": "stream",
     "text": [
      "223\r"
     ]
    },
    {
     "name": "stderr",
     "output_type": "stream",
     "text": [
      "C:\\Users\\Jasmine\\AppData\\Local\\Temp\\ipykernel_12364\\3186835542.py:6: DtypeWarning: Columns (2) have mixed types. Specify dtype option on import or set low_memory=False.\n",
      "  data = pd.read_csv(f'C:/bigdata/data/전국부동산실거래가/{i}', skiprows=15, encoding='cp949')\n"
     ]
    },
    {
     "name": "stdout",
     "output_type": "stream",
     "text": [
      "224\r"
     ]
    },
    {
     "name": "stderr",
     "output_type": "stream",
     "text": [
      "C:\\Users\\Jasmine\\AppData\\Local\\Temp\\ipykernel_12364\\3186835542.py:6: DtypeWarning: Columns (2) have mixed types. Specify dtype option on import or set low_memory=False.\n",
      "  data = pd.read_csv(f'C:/bigdata/data/전국부동산실거래가/{i}', skiprows=15, encoding='cp949')\n"
     ]
    },
    {
     "name": "stdout",
     "output_type": "stream",
     "text": [
      "225\r"
     ]
    },
    {
     "name": "stderr",
     "output_type": "stream",
     "text": [
      "C:\\Users\\Jasmine\\AppData\\Local\\Temp\\ipykernel_12364\\3186835542.py:6: DtypeWarning: Columns (2) have mixed types. Specify dtype option on import or set low_memory=False.\n",
      "  data = pd.read_csv(f'C:/bigdata/data/전국부동산실거래가/{i}', skiprows=15, encoding='cp949')\n"
     ]
    },
    {
     "name": "stdout",
     "output_type": "stream",
     "text": [
      "227\r"
     ]
    },
    {
     "name": "stderr",
     "output_type": "stream",
     "text": [
      "C:\\Users\\Jasmine\\AppData\\Local\\Temp\\ipykernel_12364\\3186835542.py:6: DtypeWarning: Columns (2) have mixed types. Specify dtype option on import or set low_memory=False.\n",
      "  data = pd.read_csv(f'C:/bigdata/data/전국부동산실거래가/{i}', skiprows=15, encoding='cp949')\n"
     ]
    },
    {
     "name": "stdout",
     "output_type": "stream",
     "text": [
      "228\r"
     ]
    },
    {
     "name": "stderr",
     "output_type": "stream",
     "text": [
      "C:\\Users\\Jasmine\\AppData\\Local\\Temp\\ipykernel_12364\\3186835542.py:6: DtypeWarning: Columns (2) have mixed types. Specify dtype option on import or set low_memory=False.\n",
      "  data = pd.read_csv(f'C:/bigdata/data/전국부동산실거래가/{i}', skiprows=15, encoding='cp949')\n"
     ]
    },
    {
     "name": "stdout",
     "output_type": "stream",
     "text": [
      "229\r"
     ]
    },
    {
     "name": "stderr",
     "output_type": "stream",
     "text": [
      "C:\\Users\\Jasmine\\AppData\\Local\\Temp\\ipykernel_12364\\3186835542.py:6: DtypeWarning: Columns (2) have mixed types. Specify dtype option on import or set low_memory=False.\n",
      "  data = pd.read_csv(f'C:/bigdata/data/전국부동산실거래가/{i}', skiprows=15, encoding='cp949')\n"
     ]
    },
    {
     "name": "stdout",
     "output_type": "stream",
     "text": [
      "236\r"
     ]
    },
    {
     "name": "stderr",
     "output_type": "stream",
     "text": [
      "C:\\Users\\Jasmine\\AppData\\Local\\Temp\\ipykernel_12364\\3186835542.py:6: DtypeWarning: Columns (2) have mixed types. Specify dtype option on import or set low_memory=False.\n",
      "  data = pd.read_csv(f'C:/bigdata/data/전국부동산실거래가/{i}', skiprows=15, encoding='cp949')\n"
     ]
    },
    {
     "name": "stdout",
     "output_type": "stream",
     "text": [
      "237\r"
     ]
    },
    {
     "name": "stderr",
     "output_type": "stream",
     "text": [
      "C:\\Users\\Jasmine\\AppData\\Local\\Temp\\ipykernel_12364\\3186835542.py:6: DtypeWarning: Columns (2) have mixed types. Specify dtype option on import or set low_memory=False.\n",
      "  data = pd.read_csv(f'C:/bigdata/data/전국부동산실거래가/{i}', skiprows=15, encoding='cp949')\n"
     ]
    },
    {
     "name": "stdout",
     "output_type": "stream",
     "text": [
      "238\r"
     ]
    },
    {
     "name": "stderr",
     "output_type": "stream",
     "text": [
      "C:\\Users\\Jasmine\\AppData\\Local\\Temp\\ipykernel_12364\\3186835542.py:6: DtypeWarning: Columns (2) have mixed types. Specify dtype option on import or set low_memory=False.\n",
      "  data = pd.read_csv(f'C:/bigdata/data/전국부동산실거래가/{i}', skiprows=15, encoding='cp949')\n"
     ]
    },
    {
     "name": "stdout",
     "output_type": "stream",
     "text": [
      "239\r"
     ]
    },
    {
     "name": "stderr",
     "output_type": "stream",
     "text": [
      "C:\\Users\\Jasmine\\AppData\\Local\\Temp\\ipykernel_12364\\3186835542.py:6: DtypeWarning: Columns (2) have mixed types. Specify dtype option on import or set low_memory=False.\n",
      "  data = pd.read_csv(f'C:/bigdata/data/전국부동산실거래가/{i}', skiprows=15, encoding='cp949')\n"
     ]
    },
    {
     "name": "stdout",
     "output_type": "stream",
     "text": [
      "240\r"
     ]
    },
    {
     "name": "stderr",
     "output_type": "stream",
     "text": [
      "C:\\Users\\Jasmine\\AppData\\Local\\Temp\\ipykernel_12364\\3186835542.py:6: DtypeWarning: Columns (2) have mixed types. Specify dtype option on import or set low_memory=False.\n",
      "  data = pd.read_csv(f'C:/bigdata/data/전국부동산실거래가/{i}', skiprows=15, encoding='cp949')\n"
     ]
    },
    {
     "name": "stdout",
     "output_type": "stream",
     "text": [
      "241\r"
     ]
    },
    {
     "name": "stderr",
     "output_type": "stream",
     "text": [
      "C:\\Users\\Jasmine\\AppData\\Local\\Temp\\ipykernel_12364\\3186835542.py:6: DtypeWarning: Columns (2) have mixed types. Specify dtype option on import or set low_memory=False.\n",
      "  data = pd.read_csv(f'C:/bigdata/data/전국부동산실거래가/{i}', skiprows=15, encoding='cp949')\n"
     ]
    },
    {
     "name": "stdout",
     "output_type": "stream",
     "text": [
      "242\r"
     ]
    },
    {
     "name": "stderr",
     "output_type": "stream",
     "text": [
      "C:\\Users\\Jasmine\\AppData\\Local\\Temp\\ipykernel_12364\\3186835542.py:6: DtypeWarning: Columns (2) have mixed types. Specify dtype option on import or set low_memory=False.\n",
      "  data = pd.read_csv(f'C:/bigdata/data/전국부동산실거래가/{i}', skiprows=15, encoding='cp949')\n"
     ]
    },
    {
     "name": "stdout",
     "output_type": "stream",
     "text": [
      "243\r"
     ]
    },
    {
     "name": "stderr",
     "output_type": "stream",
     "text": [
      "C:\\Users\\Jasmine\\AppData\\Local\\Temp\\ipykernel_12364\\3186835542.py:6: DtypeWarning: Columns (2) have mixed types. Specify dtype option on import or set low_memory=False.\n",
      "  data = pd.read_csv(f'C:/bigdata/data/전국부동산실거래가/{i}', skiprows=15, encoding='cp949')\n"
     ]
    },
    {
     "name": "stdout",
     "output_type": "stream",
     "text": [
      "244\r"
     ]
    },
    {
     "name": "stderr",
     "output_type": "stream",
     "text": [
      "C:\\Users\\Jasmine\\AppData\\Local\\Temp\\ipykernel_12364\\3186835542.py:6: DtypeWarning: Columns (2) have mixed types. Specify dtype option on import or set low_memory=False.\n",
      "  data = pd.read_csv(f'C:/bigdata/data/전국부동산실거래가/{i}', skiprows=15, encoding='cp949')\n"
     ]
    },
    {
     "name": "stdout",
     "output_type": "stream",
     "text": [
      "245\r"
     ]
    },
    {
     "name": "stderr",
     "output_type": "stream",
     "text": [
      "C:\\Users\\Jasmine\\AppData\\Local\\Temp\\ipykernel_12364\\3186835542.py:6: DtypeWarning: Columns (2) have mixed types. Specify dtype option on import or set low_memory=False.\n",
      "  data = pd.read_csv(f'C:/bigdata/data/전국부동산실거래가/{i}', skiprows=15, encoding='cp949')\n"
     ]
    },
    {
     "name": "stdout",
     "output_type": "stream",
     "text": [
      "246\r"
     ]
    },
    {
     "name": "stderr",
     "output_type": "stream",
     "text": [
      "C:\\Users\\Jasmine\\AppData\\Local\\Temp\\ipykernel_12364\\3186835542.py:6: DtypeWarning: Columns (2) have mixed types. Specify dtype option on import or set low_memory=False.\n",
      "  data = pd.read_csv(f'C:/bigdata/data/전국부동산실거래가/{i}', skiprows=15, encoding='cp949')\n"
     ]
    },
    {
     "name": "stdout",
     "output_type": "stream",
     "text": [
      "247\r"
     ]
    },
    {
     "name": "stderr",
     "output_type": "stream",
     "text": [
      "C:\\Users\\Jasmine\\AppData\\Local\\Temp\\ipykernel_12364\\3186835542.py:6: DtypeWarning: Columns (2) have mixed types. Specify dtype option on import or set low_memory=False.\n",
      "  data = pd.read_csv(f'C:/bigdata/data/전국부동산실거래가/{i}', skiprows=15, encoding='cp949')\n"
     ]
    },
    {
     "name": "stdout",
     "output_type": "stream",
     "text": [
      "249\r"
     ]
    },
    {
     "name": "stderr",
     "output_type": "stream",
     "text": [
      "C:\\Users\\Jasmine\\AppData\\Local\\Temp\\ipykernel_12364\\3186835542.py:6: DtypeWarning: Columns (2) have mixed types. Specify dtype option on import or set low_memory=False.\n",
      "  data = pd.read_csv(f'C:/bigdata/data/전국부동산실거래가/{i}', skiprows=15, encoding='cp949')\n"
     ]
    },
    {
     "name": "stdout",
     "output_type": "stream",
     "text": [
      "250\r"
     ]
    },
    {
     "name": "stderr",
     "output_type": "stream",
     "text": [
      "C:\\Users\\Jasmine\\AppData\\Local\\Temp\\ipykernel_12364\\3186835542.py:6: DtypeWarning: Columns (2) have mixed types. Specify dtype option on import or set low_memory=False.\n",
      "  data = pd.read_csv(f'C:/bigdata/data/전국부동산실거래가/{i}', skiprows=15, encoding='cp949')\n"
     ]
    },
    {
     "name": "stdout",
     "output_type": "stream",
     "text": [
      "251\r"
     ]
    },
    {
     "name": "stderr",
     "output_type": "stream",
     "text": [
      "C:\\Users\\Jasmine\\AppData\\Local\\Temp\\ipykernel_12364\\3186835542.py:6: DtypeWarning: Columns (2) have mixed types. Specify dtype option on import or set low_memory=False.\n",
      "  data = pd.read_csv(f'C:/bigdata/data/전국부동산실거래가/{i}', skiprows=15, encoding='cp949')\n"
     ]
    },
    {
     "name": "stdout",
     "output_type": "stream",
     "text": [
      "253\r"
     ]
    },
    {
     "name": "stderr",
     "output_type": "stream",
     "text": [
      "C:\\Users\\Jasmine\\AppData\\Local\\Temp\\ipykernel_12364\\3186835542.py:6: DtypeWarning: Columns (2) have mixed types. Specify dtype option on import or set low_memory=False.\n",
      "  data = pd.read_csv(f'C:/bigdata/data/전국부동산실거래가/{i}', skiprows=15, encoding='cp949')\n"
     ]
    },
    {
     "name": "stdout",
     "output_type": "stream",
     "text": [
      "254\r"
     ]
    },
    {
     "name": "stderr",
     "output_type": "stream",
     "text": [
      "C:\\Users\\Jasmine\\AppData\\Local\\Temp\\ipykernel_12364\\3186835542.py:6: DtypeWarning: Columns (2) have mixed types. Specify dtype option on import or set low_memory=False.\n",
      "  data = pd.read_csv(f'C:/bigdata/data/전국부동산실거래가/{i}', skiprows=15, encoding='cp949')\n"
     ]
    },
    {
     "name": "stdout",
     "output_type": "stream",
     "text": [
      "255\r"
     ]
    },
    {
     "name": "stderr",
     "output_type": "stream",
     "text": [
      "C:\\Users\\Jasmine\\AppData\\Local\\Temp\\ipykernel_12364\\3186835542.py:6: DtypeWarning: Columns (2) have mixed types. Specify dtype option on import or set low_memory=False.\n",
      "  data = pd.read_csv(f'C:/bigdata/data/전국부동산실거래가/{i}', skiprows=15, encoding='cp949')\n"
     ]
    },
    {
     "name": "stdout",
     "output_type": "stream",
     "text": [
      "261\r"
     ]
    },
    {
     "name": "stderr",
     "output_type": "stream",
     "text": [
      "C:\\Users\\Jasmine\\AppData\\Local\\Temp\\ipykernel_12364\\3186835542.py:6: DtypeWarning: Columns (2) have mixed types. Specify dtype option on import or set low_memory=False.\n",
      "  data = pd.read_csv(f'C:/bigdata/data/전국부동산실거래가/{i}', skiprows=15, encoding='cp949')\n"
     ]
    },
    {
     "name": "stdout",
     "output_type": "stream",
     "text": [
      "264\r"
     ]
    },
    {
     "name": "stderr",
     "output_type": "stream",
     "text": [
      "C:\\Users\\Jasmine\\AppData\\Local\\Temp\\ipykernel_12364\\3186835542.py:6: DtypeWarning: Columns (2) have mixed types. Specify dtype option on import or set low_memory=False.\n",
      "  data = pd.read_csv(f'C:/bigdata/data/전국부동산실거래가/{i}', skiprows=15, encoding='cp949')\n"
     ]
    },
    {
     "name": "stdout",
     "output_type": "stream",
     "text": [
      "265\r"
     ]
    },
    {
     "name": "stderr",
     "output_type": "stream",
     "text": [
      "C:\\Users\\Jasmine\\AppData\\Local\\Temp\\ipykernel_12364\\3186835542.py:6: DtypeWarning: Columns (2) have mixed types. Specify dtype option on import or set low_memory=False.\n",
      "  data = pd.read_csv(f'C:/bigdata/data/전국부동산실거래가/{i}', skiprows=15, encoding='cp949')\n"
     ]
    },
    {
     "name": "stdout",
     "output_type": "stream",
     "text": [
      "271\r"
     ]
    },
    {
     "name": "stderr",
     "output_type": "stream",
     "text": [
      "C:\\Users\\Jasmine\\AppData\\Local\\Temp\\ipykernel_12364\\3186835542.py:6: DtypeWarning: Columns (2) have mixed types. Specify dtype option on import or set low_memory=False.\n",
      "  data = pd.read_csv(f'C:/bigdata/data/전국부동산실거래가/{i}', skiprows=15, encoding='cp949')\n"
     ]
    },
    {
     "name": "stdout",
     "output_type": "stream",
     "text": [
      "281\r"
     ]
    },
    {
     "name": "stderr",
     "output_type": "stream",
     "text": [
      "C:\\Users\\Jasmine\\AppData\\Local\\Temp\\ipykernel_12364\\3186835542.py:6: DtypeWarning: Columns (2) have mixed types. Specify dtype option on import or set low_memory=False.\n",
      "  data = pd.read_csv(f'C:/bigdata/data/전국부동산실거래가/{i}', skiprows=15, encoding='cp949')\n"
     ]
    },
    {
     "name": "stdout",
     "output_type": "stream",
     "text": [
      "282\r"
     ]
    },
    {
     "name": "stderr",
     "output_type": "stream",
     "text": [
      "C:\\Users\\Jasmine\\AppData\\Local\\Temp\\ipykernel_12364\\3186835542.py:6: DtypeWarning: Columns (2) have mixed types. Specify dtype option on import or set low_memory=False.\n",
      "  data = pd.read_csv(f'C:/bigdata/data/전국부동산실거래가/{i}', skiprows=15, encoding='cp949')\n"
     ]
    },
    {
     "name": "stdout",
     "output_type": "stream",
     "text": [
      "283\r"
     ]
    },
    {
     "name": "stderr",
     "output_type": "stream",
     "text": [
      "C:\\Users\\Jasmine\\AppData\\Local\\Temp\\ipykernel_12364\\3186835542.py:6: DtypeWarning: Columns (2) have mixed types. Specify dtype option on import or set low_memory=False.\n",
      "  data = pd.read_csv(f'C:/bigdata/data/전국부동산실거래가/{i}', skiprows=15, encoding='cp949')\n"
     ]
    },
    {
     "name": "stdout",
     "output_type": "stream",
     "text": [
      "284\r"
     ]
    },
    {
     "name": "stderr",
     "output_type": "stream",
     "text": [
      "C:\\Users\\Jasmine\\AppData\\Local\\Temp\\ipykernel_12364\\3186835542.py:6: DtypeWarning: Columns (2) have mixed types. Specify dtype option on import or set low_memory=False.\n",
      "  data = pd.read_csv(f'C:/bigdata/data/전국부동산실거래가/{i}', skiprows=15, encoding='cp949')\n"
     ]
    },
    {
     "name": "stdout",
     "output_type": "stream",
     "text": [
      "285\r"
     ]
    },
    {
     "name": "stderr",
     "output_type": "stream",
     "text": [
      "C:\\Users\\Jasmine\\AppData\\Local\\Temp\\ipykernel_12364\\3186835542.py:6: DtypeWarning: Columns (2) have mixed types. Specify dtype option on import or set low_memory=False.\n",
      "  data = pd.read_csv(f'C:/bigdata/data/전국부동산실거래가/{i}', skiprows=15, encoding='cp949')\n"
     ]
    },
    {
     "name": "stdout",
     "output_type": "stream",
     "text": [
      "286\r"
     ]
    },
    {
     "name": "stderr",
     "output_type": "stream",
     "text": [
      "C:\\Users\\Jasmine\\AppData\\Local\\Temp\\ipykernel_12364\\3186835542.py:6: DtypeWarning: Columns (2) have mixed types. Specify dtype option on import or set low_memory=False.\n",
      "  data = pd.read_csv(f'C:/bigdata/data/전국부동산실거래가/{i}', skiprows=15, encoding='cp949')\n"
     ]
    },
    {
     "name": "stdout",
     "output_type": "stream",
     "text": [
      "287\r"
     ]
    }
   ],
   "source": [
    "# 폴더에 있는 여러개의 csv파일을 하나의 데이터프레임에 담기\n",
    "# 왜 f포메팅이지??\n",
    "data_hap = pd.DataFrame()\n",
    "for idx, i in enumerate(file_list[:-8]):\n",
    "    print(idx, end=\"\\r\")\n",
    "    data = pd.read_csv(f'C:/bigdata/data/전국부동산실거래가/{i}', skiprows=15, encoding='cp949')\n",
    "    data_hap = pd.concat([data_hap, data])"
   ]
  },
  {
   "cell_type": "markdown",
   "id": "b9127beb",
   "metadata": {},
   "source": [
    "### concat을 하면 인덱스가 섞여있으니 인덱스 정리를 해줘야 해!"
   ]
  },
  {
   "cell_type": "code",
   "execution_count": 9,
   "id": "8636a5ab",
   "metadata": {},
   "outputs": [
    {
     "data": {
      "text/html": [
       "<div>\n",
       "<style scoped>\n",
       "    .dataframe tbody tr th:only-of-type {\n",
       "        vertical-align: middle;\n",
       "    }\n",
       "\n",
       "    .dataframe tbody tr th {\n",
       "        vertical-align: top;\n",
       "    }\n",
       "\n",
       "    .dataframe thead th {\n",
       "        text-align: right;\n",
       "    }\n",
       "</style>\n",
       "<table border=\"1\" class=\"dataframe\">\n",
       "  <thead>\n",
       "    <tr style=\"text-align: right;\">\n",
       "      <th></th>\n",
       "      <th>시군구</th>\n",
       "      <th>번지</th>\n",
       "      <th>본번</th>\n",
       "      <th>부번</th>\n",
       "      <th>단지명</th>\n",
       "      <th>전용면적(㎡)</th>\n",
       "      <th>계약년월</th>\n",
       "      <th>계약일</th>\n",
       "      <th>거래금액(만원)</th>\n",
       "      <th>층</th>\n",
       "      <th>건축년도</th>\n",
       "      <th>도로명</th>\n",
       "      <th>해제사유발생일</th>\n",
       "      <th>등기신청일자</th>\n",
       "      <th>거래유형</th>\n",
       "      <th>중개사소재지</th>\n",
       "    </tr>\n",
       "  </thead>\n",
       "  <tbody>\n",
       "    <tr>\n",
       "      <th>0</th>\n",
       "      <td>강원특별자치도 양구군 양구읍 상리</td>\n",
       "      <td>510</td>\n",
       "      <td>510</td>\n",
       "      <td>0</td>\n",
       "      <td>경림</td>\n",
       "      <td>59.400</td>\n",
       "      <td>200509</td>\n",
       "      <td>23</td>\n",
       "      <td>5,000</td>\n",
       "      <td>11</td>\n",
       "      <td>1998</td>\n",
       "      <td>양록길23번길 11</td>\n",
       "      <td>NaN</td>\n",
       "      <td></td>\n",
       "      <td>-</td>\n",
       "      <td>-</td>\n",
       "    </tr>\n",
       "    <tr>\n",
       "      <th>0</th>\n",
       "      <td>경기도 의정부시 민락동</td>\n",
       "      <td>756-7</td>\n",
       "      <td>756</td>\n",
       "      <td>7</td>\n",
       "      <td>한라비발디</td>\n",
       "      <td>84.990</td>\n",
       "      <td>200510</td>\n",
       "      <td>30</td>\n",
       "      <td>12,750</td>\n",
       "      <td>19</td>\n",
       "      <td>2003</td>\n",
       "      <td>오목로 73</td>\n",
       "      <td>NaN</td>\n",
       "      <td></td>\n",
       "      <td>-</td>\n",
       "      <td>-</td>\n",
       "    </tr>\n",
       "    <tr>\n",
       "      <th>1</th>\n",
       "      <td>경기도 의정부시 신곡동</td>\n",
       "      <td>456</td>\n",
       "      <td>456</td>\n",
       "      <td>0</td>\n",
       "      <td>신일1</td>\n",
       "      <td>59.878</td>\n",
       "      <td>200510</td>\n",
       "      <td>20</td>\n",
       "      <td>5,750</td>\n",
       "      <td>3</td>\n",
       "      <td>1997</td>\n",
       "      <td>시민로245번길 10</td>\n",
       "      <td>NaN</td>\n",
       "      <td></td>\n",
       "      <td>-</td>\n",
       "      <td>-</td>\n",
       "    </tr>\n",
       "    <tr>\n",
       "      <th>2</th>\n",
       "      <td>경기도 의정부시 신곡동</td>\n",
       "      <td>727-1</td>\n",
       "      <td>727</td>\n",
       "      <td>1</td>\n",
       "      <td>풍림</td>\n",
       "      <td>49.830</td>\n",
       "      <td>200510</td>\n",
       "      <td>20</td>\n",
       "      <td>5,500</td>\n",
       "      <td>8</td>\n",
       "      <td>1998</td>\n",
       "      <td>회룡로 245</td>\n",
       "      <td>NaN</td>\n",
       "      <td></td>\n",
       "      <td>-</td>\n",
       "      <td>-</td>\n",
       "    </tr>\n",
       "    <tr>\n",
       "      <th>0</th>\n",
       "      <td>경기도 의정부시 용현동</td>\n",
       "      <td>46</td>\n",
       "      <td>46</td>\n",
       "      <td>0</td>\n",
       "      <td>용현현대1차</td>\n",
       "      <td>129.730</td>\n",
       "      <td>200511</td>\n",
       "      <td>21</td>\n",
       "      <td>12,200</td>\n",
       "      <td>11</td>\n",
       "      <td>1992</td>\n",
       "      <td>오목로 36</td>\n",
       "      <td>NaN</td>\n",
       "      <td></td>\n",
       "      <td>-</td>\n",
       "      <td>-</td>\n",
       "    </tr>\n",
       "  </tbody>\n",
       "</table>\n",
       "</div>"
      ],
      "text/plain": [
       "                  시군구     번지   본번 부번     단지명  전용면적(㎡)    계약년월 계약일 거래금액(만원)  \\\n",
       "0  강원특별자치도 양구군 양구읍 상리    510  510  0      경림   59.400  200509  23    5,000   \n",
       "0        경기도 의정부시 민락동  756-7  756  7   한라비발디   84.990  200510  30   12,750   \n",
       "1        경기도 의정부시 신곡동    456  456  0     신일1   59.878  200510  20    5,750   \n",
       "2        경기도 의정부시 신곡동  727-1  727  1      풍림   49.830  200510  20    5,500   \n",
       "0        경기도 의정부시 용현동     46   46  0  용현현대1차  129.730  200511  21   12,200   \n",
       "\n",
       "    층  건축년도          도로명  해제사유발생일 등기신청일자 거래유형 중개사소재지  \n",
       "0  11  1998   양록길23번길 11      NaN           -      -  \n",
       "0  19  2003       오목로 73      NaN           -      -  \n",
       "1   3  1997  시민로245번길 10      NaN           -      -  \n",
       "2   8  1998      회룡로 245      NaN           -      -  \n",
       "0  11  1992       오목로 36      NaN           -      -  "
      ]
     },
     "execution_count": 9,
     "metadata": {},
     "output_type": "execute_result"
    }
   ],
   "source": [
    "data_hap.head()"
   ]
  },
  {
   "cell_type": "code",
   "execution_count": 10,
   "id": "f642089e",
   "metadata": {},
   "outputs": [],
   "source": [
    "data = data_hap"
   ]
  },
  {
   "cell_type": "code",
   "execution_count": 11,
   "id": "5b4f2485",
   "metadata": {},
   "outputs": [
    {
     "data": {
      "text/plain": [
       "9591343"
      ]
     },
     "execution_count": 11,
     "metadata": {},
     "output_type": "execute_result"
    }
   ],
   "source": [
    "len(data)"
   ]
  },
  {
   "cell_type": "code",
   "execution_count": 12,
   "id": "07d764ac",
   "metadata": {},
   "outputs": [],
   "source": [
    "data = data.reset_index(drop=True)"
   ]
  },
  {
   "cell_type": "code",
   "execution_count": 13,
   "id": "45d2ef08",
   "metadata": {
    "scrolled": false
   },
   "outputs": [
    {
     "data": {
      "text/html": [
       "<div>\n",
       "<style scoped>\n",
       "    .dataframe tbody tr th:only-of-type {\n",
       "        vertical-align: middle;\n",
       "    }\n",
       "\n",
       "    .dataframe tbody tr th {\n",
       "        vertical-align: top;\n",
       "    }\n",
       "\n",
       "    .dataframe thead th {\n",
       "        text-align: right;\n",
       "    }\n",
       "</style>\n",
       "<table border=\"1\" class=\"dataframe\">\n",
       "  <thead>\n",
       "    <tr style=\"text-align: right;\">\n",
       "      <th></th>\n",
       "      <th>시군구</th>\n",
       "      <th>번지</th>\n",
       "      <th>본번</th>\n",
       "      <th>부번</th>\n",
       "      <th>단지명</th>\n",
       "      <th>전용면적(㎡)</th>\n",
       "      <th>계약년월</th>\n",
       "      <th>계약일</th>\n",
       "      <th>거래금액(만원)</th>\n",
       "      <th>층</th>\n",
       "      <th>건축년도</th>\n",
       "      <th>도로명</th>\n",
       "      <th>해제사유발생일</th>\n",
       "      <th>등기신청일자</th>\n",
       "      <th>거래유형</th>\n",
       "      <th>중개사소재지</th>\n",
       "    </tr>\n",
       "  </thead>\n",
       "  <tbody>\n",
       "    <tr>\n",
       "      <th>0</th>\n",
       "      <td>강원특별자치도 양구군 양구읍 상리</td>\n",
       "      <td>510</td>\n",
       "      <td>510</td>\n",
       "      <td>0</td>\n",
       "      <td>경림</td>\n",
       "      <td>59.400</td>\n",
       "      <td>200509</td>\n",
       "      <td>23</td>\n",
       "      <td>5,000</td>\n",
       "      <td>11</td>\n",
       "      <td>1998</td>\n",
       "      <td>양록길23번길 11</td>\n",
       "      <td>NaN</td>\n",
       "      <td></td>\n",
       "      <td>-</td>\n",
       "      <td>-</td>\n",
       "    </tr>\n",
       "    <tr>\n",
       "      <th>1</th>\n",
       "      <td>경기도 의정부시 민락동</td>\n",
       "      <td>756-7</td>\n",
       "      <td>756</td>\n",
       "      <td>7</td>\n",
       "      <td>한라비발디</td>\n",
       "      <td>84.990</td>\n",
       "      <td>200510</td>\n",
       "      <td>30</td>\n",
       "      <td>12,750</td>\n",
       "      <td>19</td>\n",
       "      <td>2003</td>\n",
       "      <td>오목로 73</td>\n",
       "      <td>NaN</td>\n",
       "      <td></td>\n",
       "      <td>-</td>\n",
       "      <td>-</td>\n",
       "    </tr>\n",
       "    <tr>\n",
       "      <th>2</th>\n",
       "      <td>경기도 의정부시 신곡동</td>\n",
       "      <td>456</td>\n",
       "      <td>456</td>\n",
       "      <td>0</td>\n",
       "      <td>신일1</td>\n",
       "      <td>59.878</td>\n",
       "      <td>200510</td>\n",
       "      <td>20</td>\n",
       "      <td>5,750</td>\n",
       "      <td>3</td>\n",
       "      <td>1997</td>\n",
       "      <td>시민로245번길 10</td>\n",
       "      <td>NaN</td>\n",
       "      <td></td>\n",
       "      <td>-</td>\n",
       "      <td>-</td>\n",
       "    </tr>\n",
       "    <tr>\n",
       "      <th>3</th>\n",
       "      <td>경기도 의정부시 신곡동</td>\n",
       "      <td>727-1</td>\n",
       "      <td>727</td>\n",
       "      <td>1</td>\n",
       "      <td>풍림</td>\n",
       "      <td>49.830</td>\n",
       "      <td>200510</td>\n",
       "      <td>20</td>\n",
       "      <td>5,500</td>\n",
       "      <td>8</td>\n",
       "      <td>1998</td>\n",
       "      <td>회룡로 245</td>\n",
       "      <td>NaN</td>\n",
       "      <td></td>\n",
       "      <td>-</td>\n",
       "      <td>-</td>\n",
       "    </tr>\n",
       "    <tr>\n",
       "      <th>4</th>\n",
       "      <td>경기도 의정부시 용현동</td>\n",
       "      <td>46</td>\n",
       "      <td>46</td>\n",
       "      <td>0</td>\n",
       "      <td>용현현대1차</td>\n",
       "      <td>129.730</td>\n",
       "      <td>200511</td>\n",
       "      <td>21</td>\n",
       "      <td>12,200</td>\n",
       "      <td>11</td>\n",
       "      <td>1992</td>\n",
       "      <td>오목로 36</td>\n",
       "      <td>NaN</td>\n",
       "      <td></td>\n",
       "      <td>-</td>\n",
       "      <td>-</td>\n",
       "    </tr>\n",
       "  </tbody>\n",
       "</table>\n",
       "</div>"
      ],
      "text/plain": [
       "                  시군구     번지   본번 부번     단지명  전용면적(㎡)    계약년월 계약일 거래금액(만원)  \\\n",
       "0  강원특별자치도 양구군 양구읍 상리    510  510  0      경림   59.400  200509  23    5,000   \n",
       "1        경기도 의정부시 민락동  756-7  756  7   한라비발디   84.990  200510  30   12,750   \n",
       "2        경기도 의정부시 신곡동    456  456  0     신일1   59.878  200510  20    5,750   \n",
       "3        경기도 의정부시 신곡동  727-1  727  1      풍림   49.830  200510  20    5,500   \n",
       "4        경기도 의정부시 용현동     46   46  0  용현현대1차  129.730  200511  21   12,200   \n",
       "\n",
       "    층  건축년도          도로명  해제사유발생일 등기신청일자 거래유형 중개사소재지  \n",
       "0  11  1998   양록길23번길 11      NaN           -      -  \n",
       "1  19  2003       오목로 73      NaN           -      -  \n",
       "2   3  1997  시민로245번길 10      NaN           -      -  \n",
       "3   8  1998      회룡로 245      NaN           -      -  \n",
       "4  11  1992       오목로 36      NaN           -      -  "
      ]
     },
     "execution_count": 13,
     "metadata": {},
     "output_type": "execute_result"
    }
   ],
   "source": [
    "data.head()"
   ]
  },
  {
   "cell_type": "code",
   "execution_count": 14,
   "id": "ec585e8e",
   "metadata": {},
   "outputs": [],
   "source": [
    "# 전체 컬럼을 열어볼 수 있다.\n",
    "pd.set_option(\"display.max_columns\", None)"
   ]
  },
  {
   "cell_type": "code",
   "execution_count": 15,
   "id": "fd2c343b",
   "metadata": {
    "scrolled": true
   },
   "outputs": [
    {
     "name": "stdout",
     "output_type": "stream",
     "text": [
      "<class 'pandas.core.frame.DataFrame'>\n",
      "RangeIndex: 9591343 entries, 0 to 9591342\n",
      "Data columns (total 16 columns):\n",
      " #   Column    Dtype  \n",
      "---  ------    -----  \n",
      " 0   시군구       object \n",
      " 1   번지        object \n",
      " 2   본번        object \n",
      " 3   부번        object \n",
      " 4   단지명       object \n",
      " 5   전용면적(㎡)   float64\n",
      " 6   계약년월      object \n",
      " 7   계약일       object \n",
      " 8   거래금액(만원)  object \n",
      " 9   층         object \n",
      " 10  건축년도      object \n",
      " 11  도로명       object \n",
      " 12  해제사유발생일   float64\n",
      " 13  등기신청일자    object \n",
      " 14  거래유형      object \n",
      " 15  중개사소재지    object \n",
      "dtypes: float64(2), object(14)\n",
      "memory usage: 1.1+ GB\n"
     ]
    }
   ],
   "source": [
    "data.info()"
   ]
  },
  {
   "cell_type": "code",
   "execution_count": 16,
   "id": "cf1718fa",
   "metadata": {},
   "outputs": [],
   "source": [
    "data.drop(['번지', '본번','부번', '계약일', '해제사유발생일', '등기신청일자','거래유형','중개사소재지'],axis=1, inplace=True)"
   ]
  },
  {
   "cell_type": "code",
   "execution_count": 17,
   "id": "b2d9825d",
   "metadata": {},
   "outputs": [
    {
     "data": {
      "text/html": [
       "<div>\n",
       "<style scoped>\n",
       "    .dataframe tbody tr th:only-of-type {\n",
       "        vertical-align: middle;\n",
       "    }\n",
       "\n",
       "    .dataframe tbody tr th {\n",
       "        vertical-align: top;\n",
       "    }\n",
       "\n",
       "    .dataframe thead th {\n",
       "        text-align: right;\n",
       "    }\n",
       "</style>\n",
       "<table border=\"1\" class=\"dataframe\">\n",
       "  <thead>\n",
       "    <tr style=\"text-align: right;\">\n",
       "      <th></th>\n",
       "      <th>시군구</th>\n",
       "      <th>단지명</th>\n",
       "      <th>전용면적(㎡)</th>\n",
       "      <th>계약년월</th>\n",
       "      <th>거래금액(만원)</th>\n",
       "      <th>층</th>\n",
       "      <th>건축년도</th>\n",
       "      <th>도로명</th>\n",
       "    </tr>\n",
       "  </thead>\n",
       "  <tbody>\n",
       "    <tr>\n",
       "      <th>0</th>\n",
       "      <td>강원특별자치도 양구군 양구읍 상리</td>\n",
       "      <td>경림</td>\n",
       "      <td>59.400</td>\n",
       "      <td>200509</td>\n",
       "      <td>5,000</td>\n",
       "      <td>11</td>\n",
       "      <td>1998</td>\n",
       "      <td>양록길23번길 11</td>\n",
       "    </tr>\n",
       "    <tr>\n",
       "      <th>1</th>\n",
       "      <td>경기도 의정부시 민락동</td>\n",
       "      <td>한라비발디</td>\n",
       "      <td>84.990</td>\n",
       "      <td>200510</td>\n",
       "      <td>12,750</td>\n",
       "      <td>19</td>\n",
       "      <td>2003</td>\n",
       "      <td>오목로 73</td>\n",
       "    </tr>\n",
       "    <tr>\n",
       "      <th>2</th>\n",
       "      <td>경기도 의정부시 신곡동</td>\n",
       "      <td>신일1</td>\n",
       "      <td>59.878</td>\n",
       "      <td>200510</td>\n",
       "      <td>5,750</td>\n",
       "      <td>3</td>\n",
       "      <td>1997</td>\n",
       "      <td>시민로245번길 10</td>\n",
       "    </tr>\n",
       "    <tr>\n",
       "      <th>3</th>\n",
       "      <td>경기도 의정부시 신곡동</td>\n",
       "      <td>풍림</td>\n",
       "      <td>49.830</td>\n",
       "      <td>200510</td>\n",
       "      <td>5,500</td>\n",
       "      <td>8</td>\n",
       "      <td>1998</td>\n",
       "      <td>회룡로 245</td>\n",
       "    </tr>\n",
       "    <tr>\n",
       "      <th>4</th>\n",
       "      <td>경기도 의정부시 용현동</td>\n",
       "      <td>용현현대1차</td>\n",
       "      <td>129.730</td>\n",
       "      <td>200511</td>\n",
       "      <td>12,200</td>\n",
       "      <td>11</td>\n",
       "      <td>1992</td>\n",
       "      <td>오목로 36</td>\n",
       "    </tr>\n",
       "  </tbody>\n",
       "</table>\n",
       "</div>"
      ],
      "text/plain": [
       "                  시군구     단지명  전용면적(㎡)    계약년월 거래금액(만원)   층  건축년도          도로명\n",
       "0  강원특별자치도 양구군 양구읍 상리      경림   59.400  200509    5,000  11  1998   양록길23번길 11\n",
       "1        경기도 의정부시 민락동   한라비발디   84.990  200510   12,750  19  2003       오목로 73\n",
       "2        경기도 의정부시 신곡동     신일1   59.878  200510    5,750   3  1997  시민로245번길 10\n",
       "3        경기도 의정부시 신곡동      풍림   49.830  200510    5,500   8  1998      회룡로 245\n",
       "4        경기도 의정부시 용현동  용현현대1차  129.730  200511   12,200  11  1992       오목로 36"
      ]
     },
     "execution_count": 17,
     "metadata": {},
     "output_type": "execute_result"
    }
   ],
   "source": [
    "data.head()"
   ]
  },
  {
   "cell_type": "code",
   "execution_count": 18,
   "id": "595fe25a",
   "metadata": {
    "scrolled": true
   },
   "outputs": [],
   "source": [
    "# data2[data2[\"Name\"].str.contains(\"John\")] 특정 이름이 들어있는 거 찾을 때 방법.\n",
    "data = data[data['시군구'].str.contains(\"서울\")] "
   ]
  },
  {
   "cell_type": "code",
   "execution_count": 19,
   "id": "83a5275c",
   "metadata": {},
   "outputs": [
    {
     "name": "stdout",
     "output_type": "stream",
     "text": [
      "<class 'pandas.core.frame.DataFrame'>\n",
      "Index: 1215019 entries, 15268 to 9582298\n",
      "Data columns (total 8 columns):\n",
      " #   Column    Non-Null Count    Dtype  \n",
      "---  ------    --------------    -----  \n",
      " 0   시군구       1215019 non-null  object \n",
      " 1   단지명       1215019 non-null  object \n",
      " 2   전용면적(㎡)   1215019 non-null  float64\n",
      " 3   계약년월      1215019 non-null  object \n",
      " 4   거래금액(만원)  1215019 non-null  object \n",
      " 5   층         1215019 non-null  object \n",
      " 6   건축년도      1215019 non-null  object \n",
      " 7   도로명       1215019 non-null  object \n",
      "dtypes: float64(1), object(7)\n",
      "memory usage: 83.4+ MB\n"
     ]
    }
   ],
   "source": [
    "data.info()"
   ]
  },
  {
   "cell_type": "markdown",
   "id": "5ef70de4",
   "metadata": {},
   "source": [
    "data['시군구'] = data[data['시군구'].str.contains(\"서울\")] 이렇게 하면 ValueError: Columns must be same length as key 이런 오류가 뜨네.\n",
    "data = data[data['시군구'].str.contains(\"서울\")] 이렇게 넣어야 해!"
   ]
  },
  {
   "cell_type": "code",
   "execution_count": 20,
   "id": "e8de62d1",
   "metadata": {
    "scrolled": true
   },
   "outputs": [
    {
     "data": {
      "text/html": [
       "<div>\n",
       "<style scoped>\n",
       "    .dataframe tbody tr th:only-of-type {\n",
       "        vertical-align: middle;\n",
       "    }\n",
       "\n",
       "    .dataframe tbody tr th {\n",
       "        vertical-align: top;\n",
       "    }\n",
       "\n",
       "    .dataframe thead th {\n",
       "        text-align: right;\n",
       "    }\n",
       "</style>\n",
       "<table border=\"1\" class=\"dataframe\">\n",
       "  <thead>\n",
       "    <tr style=\"text-align: right;\">\n",
       "      <th></th>\n",
       "      <th>시군구</th>\n",
       "      <th>단지명</th>\n",
       "      <th>전용면적(㎡)</th>\n",
       "      <th>계약년월</th>\n",
       "      <th>거래금액(만원)</th>\n",
       "      <th>층</th>\n",
       "      <th>건축년도</th>\n",
       "      <th>도로명</th>\n",
       "    </tr>\n",
       "  </thead>\n",
       "  <tbody>\n",
       "    <tr>\n",
       "      <th>15268</th>\n",
       "      <td>서울특별시 강남구 개포동</td>\n",
       "      <td>개포6차우성아파트1동~8동</td>\n",
       "      <td>67.28</td>\n",
       "      <td>200601</td>\n",
       "      <td>54,500</td>\n",
       "      <td>3</td>\n",
       "      <td>1987</td>\n",
       "      <td>언주로 3</td>\n",
       "    </tr>\n",
       "    <tr>\n",
       "      <th>15269</th>\n",
       "      <td>서울특별시 강남구 개포동</td>\n",
       "      <td>개포6차우성아파트1동~8동</td>\n",
       "      <td>79.97</td>\n",
       "      <td>200601</td>\n",
       "      <td>67,000</td>\n",
       "      <td>3</td>\n",
       "      <td>1987</td>\n",
       "      <td>언주로 3</td>\n",
       "    </tr>\n",
       "    <tr>\n",
       "      <th>15270</th>\n",
       "      <td>서울특별시 강남구 개포동</td>\n",
       "      <td>개포6차우성아파트1동~8동</td>\n",
       "      <td>79.97</td>\n",
       "      <td>200601</td>\n",
       "      <td>67,500</td>\n",
       "      <td>4</td>\n",
       "      <td>1987</td>\n",
       "      <td>언주로 3</td>\n",
       "    </tr>\n",
       "    <tr>\n",
       "      <th>15271</th>\n",
       "      <td>서울특별시 강남구 개포동</td>\n",
       "      <td>개포우성3차</td>\n",
       "      <td>104.43</td>\n",
       "      <td>200601</td>\n",
       "      <td>73,000</td>\n",
       "      <td>9</td>\n",
       "      <td>1984</td>\n",
       "      <td>개포로 307</td>\n",
       "    </tr>\n",
       "    <tr>\n",
       "      <th>15272</th>\n",
       "      <td>서울특별시 강남구 개포동</td>\n",
       "      <td>개포우성3차</td>\n",
       "      <td>104.43</td>\n",
       "      <td>200601</td>\n",
       "      <td>71,250</td>\n",
       "      <td>6</td>\n",
       "      <td>1984</td>\n",
       "      <td>개포로 307</td>\n",
       "    </tr>\n",
       "  </tbody>\n",
       "</table>\n",
       "</div>"
      ],
      "text/plain": [
       "                 시군구             단지명  전용면적(㎡)    계약년월 거래금액(만원)  층  건축년도  \\\n",
       "15268  서울특별시 강남구 개포동  개포6차우성아파트1동~8동    67.28  200601   54,500  3  1987   \n",
       "15269  서울특별시 강남구 개포동  개포6차우성아파트1동~8동    79.97  200601   67,000  3  1987   \n",
       "15270  서울특별시 강남구 개포동  개포6차우성아파트1동~8동    79.97  200601   67,500  4  1987   \n",
       "15271  서울특별시 강남구 개포동          개포우성3차   104.43  200601   73,000  9  1984   \n",
       "15272  서울특별시 강남구 개포동          개포우성3차   104.43  200601   71,250  6  1984   \n",
       "\n",
       "           도로명  \n",
       "15268    언주로 3  \n",
       "15269    언주로 3  \n",
       "15270    언주로 3  \n",
       "15271  개포로 307  \n",
       "15272  개포로 307  "
      ]
     },
     "execution_count": 20,
     "metadata": {},
     "output_type": "execute_result"
    }
   ],
   "source": [
    "data.head()"
   ]
  },
  {
   "cell_type": "code",
   "execution_count": 21,
   "id": "b17c95f7",
   "metadata": {},
   "outputs": [],
   "source": [
    "# ,때문에 object로 되어있는 금액을 int로 바꾸기\n",
    "data['거래금액(만원)'] = data['거래금액(만원)'].str.replace(',','').astype(int)"
   ]
  },
  {
   "cell_type": "code",
   "execution_count": 22,
   "id": "92627836",
   "metadata": {
    "scrolled": true
   },
   "outputs": [
    {
     "name": "stdout",
     "output_type": "stream",
     "text": [
      "<class 'pandas.core.frame.DataFrame'>\n",
      "Index: 1215019 entries, 15268 to 9582298\n",
      "Data columns (total 8 columns):\n",
      " #   Column    Non-Null Count    Dtype  \n",
      "---  ------    --------------    -----  \n",
      " 0   시군구       1215019 non-null  object \n",
      " 1   단지명       1215019 non-null  object \n",
      " 2   전용면적(㎡)   1215019 non-null  float64\n",
      " 3   계약년월      1215019 non-null  object \n",
      " 4   거래금액(만원)  1215019 non-null  int32  \n",
      " 5   층         1215019 non-null  object \n",
      " 6   건축년도      1215019 non-null  object \n",
      " 7   도로명       1215019 non-null  object \n",
      "dtypes: float64(1), int32(1), object(6)\n",
      "memory usage: 78.8+ MB\n"
     ]
    }
   ],
   "source": [
    "data.info()"
   ]
  },
  {
   "cell_type": "code",
   "execution_count": 23,
   "id": "cf803d1f",
   "metadata": {
    "scrolled": true
   },
   "outputs": [
    {
     "data": {
      "text/html": [
       "<div>\n",
       "<style scoped>\n",
       "    .dataframe tbody tr th:only-of-type {\n",
       "        vertical-align: middle;\n",
       "    }\n",
       "\n",
       "    .dataframe tbody tr th {\n",
       "        vertical-align: top;\n",
       "    }\n",
       "\n",
       "    .dataframe thead th {\n",
       "        text-align: right;\n",
       "    }\n",
       "</style>\n",
       "<table border=\"1\" class=\"dataframe\">\n",
       "  <thead>\n",
       "    <tr style=\"text-align: right;\">\n",
       "      <th></th>\n",
       "      <th>시군구</th>\n",
       "      <th>단지명</th>\n",
       "      <th>전용면적(㎡)</th>\n",
       "      <th>계약년월</th>\n",
       "      <th>거래금액(만원)</th>\n",
       "      <th>층</th>\n",
       "      <th>건축년도</th>\n",
       "      <th>도로명</th>\n",
       "    </tr>\n",
       "  </thead>\n",
       "  <tbody>\n",
       "    <tr>\n",
       "      <th>15268</th>\n",
       "      <td>서울특별시 강남구 개포동</td>\n",
       "      <td>개포6차우성아파트1동~8동</td>\n",
       "      <td>67.28</td>\n",
       "      <td>200601</td>\n",
       "      <td>54500</td>\n",
       "      <td>3</td>\n",
       "      <td>1987</td>\n",
       "      <td>언주로 3</td>\n",
       "    </tr>\n",
       "    <tr>\n",
       "      <th>15269</th>\n",
       "      <td>서울특별시 강남구 개포동</td>\n",
       "      <td>개포6차우성아파트1동~8동</td>\n",
       "      <td>79.97</td>\n",
       "      <td>200601</td>\n",
       "      <td>67000</td>\n",
       "      <td>3</td>\n",
       "      <td>1987</td>\n",
       "      <td>언주로 3</td>\n",
       "    </tr>\n",
       "    <tr>\n",
       "      <th>15270</th>\n",
       "      <td>서울특별시 강남구 개포동</td>\n",
       "      <td>개포6차우성아파트1동~8동</td>\n",
       "      <td>79.97</td>\n",
       "      <td>200601</td>\n",
       "      <td>67500</td>\n",
       "      <td>4</td>\n",
       "      <td>1987</td>\n",
       "      <td>언주로 3</td>\n",
       "    </tr>\n",
       "    <tr>\n",
       "      <th>15271</th>\n",
       "      <td>서울특별시 강남구 개포동</td>\n",
       "      <td>개포우성3차</td>\n",
       "      <td>104.43</td>\n",
       "      <td>200601</td>\n",
       "      <td>73000</td>\n",
       "      <td>9</td>\n",
       "      <td>1984</td>\n",
       "      <td>개포로 307</td>\n",
       "    </tr>\n",
       "    <tr>\n",
       "      <th>15272</th>\n",
       "      <td>서울특별시 강남구 개포동</td>\n",
       "      <td>개포우성3차</td>\n",
       "      <td>104.43</td>\n",
       "      <td>200601</td>\n",
       "      <td>71250</td>\n",
       "      <td>6</td>\n",
       "      <td>1984</td>\n",
       "      <td>개포로 307</td>\n",
       "    </tr>\n",
       "  </tbody>\n",
       "</table>\n",
       "</div>"
      ],
      "text/plain": [
       "                 시군구             단지명  전용면적(㎡)    계약년월  거래금액(만원)  층  건축년도  \\\n",
       "15268  서울특별시 강남구 개포동  개포6차우성아파트1동~8동    67.28  200601     54500  3  1987   \n",
       "15269  서울특별시 강남구 개포동  개포6차우성아파트1동~8동    79.97  200601     67000  3  1987   \n",
       "15270  서울특별시 강남구 개포동  개포6차우성아파트1동~8동    79.97  200601     67500  4  1987   \n",
       "15271  서울특별시 강남구 개포동          개포우성3차   104.43  200601     73000  9  1984   \n",
       "15272  서울특별시 강남구 개포동          개포우성3차   104.43  200601     71250  6  1984   \n",
       "\n",
       "           도로명  \n",
       "15268    언주로 3  \n",
       "15269    언주로 3  \n",
       "15270    언주로 3  \n",
       "15271  개포로 307  \n",
       "15272  개포로 307  "
      ]
     },
     "execution_count": 23,
     "metadata": {},
     "output_type": "execute_result"
    }
   ],
   "source": [
    "data.head()"
   ]
  },
  {
   "cell_type": "code",
   "execution_count": 24,
   "id": "59fe0ce6",
   "metadata": {},
   "outputs": [],
   "source": [
    "data = data.reset_index(drop=True)"
   ]
  },
  {
   "cell_type": "code",
   "execution_count": 25,
   "id": "475c13d5",
   "metadata": {},
   "outputs": [
    {
     "data": {
      "text/html": [
       "<div>\n",
       "<style scoped>\n",
       "    .dataframe tbody tr th:only-of-type {\n",
       "        vertical-align: middle;\n",
       "    }\n",
       "\n",
       "    .dataframe tbody tr th {\n",
       "        vertical-align: top;\n",
       "    }\n",
       "\n",
       "    .dataframe thead th {\n",
       "        text-align: right;\n",
       "    }\n",
       "</style>\n",
       "<table border=\"1\" class=\"dataframe\">\n",
       "  <thead>\n",
       "    <tr style=\"text-align: right;\">\n",
       "      <th></th>\n",
       "      <th>시군구</th>\n",
       "      <th>단지명</th>\n",
       "      <th>전용면적(㎡)</th>\n",
       "      <th>계약년월</th>\n",
       "      <th>거래금액(만원)</th>\n",
       "      <th>층</th>\n",
       "      <th>건축년도</th>\n",
       "      <th>도로명</th>\n",
       "    </tr>\n",
       "  </thead>\n",
       "  <tbody>\n",
       "    <tr>\n",
       "      <th>0</th>\n",
       "      <td>서울특별시 강남구 개포동</td>\n",
       "      <td>개포6차우성아파트1동~8동</td>\n",
       "      <td>67.28</td>\n",
       "      <td>200601</td>\n",
       "      <td>54500</td>\n",
       "      <td>3</td>\n",
       "      <td>1987</td>\n",
       "      <td>언주로 3</td>\n",
       "    </tr>\n",
       "    <tr>\n",
       "      <th>1</th>\n",
       "      <td>서울특별시 강남구 개포동</td>\n",
       "      <td>개포6차우성아파트1동~8동</td>\n",
       "      <td>79.97</td>\n",
       "      <td>200601</td>\n",
       "      <td>67000</td>\n",
       "      <td>3</td>\n",
       "      <td>1987</td>\n",
       "      <td>언주로 3</td>\n",
       "    </tr>\n",
       "    <tr>\n",
       "      <th>2</th>\n",
       "      <td>서울특별시 강남구 개포동</td>\n",
       "      <td>개포6차우성아파트1동~8동</td>\n",
       "      <td>79.97</td>\n",
       "      <td>200601</td>\n",
       "      <td>67500</td>\n",
       "      <td>4</td>\n",
       "      <td>1987</td>\n",
       "      <td>언주로 3</td>\n",
       "    </tr>\n",
       "    <tr>\n",
       "      <th>3</th>\n",
       "      <td>서울특별시 강남구 개포동</td>\n",
       "      <td>개포우성3차</td>\n",
       "      <td>104.43</td>\n",
       "      <td>200601</td>\n",
       "      <td>73000</td>\n",
       "      <td>9</td>\n",
       "      <td>1984</td>\n",
       "      <td>개포로 307</td>\n",
       "    </tr>\n",
       "    <tr>\n",
       "      <th>4</th>\n",
       "      <td>서울특별시 강남구 개포동</td>\n",
       "      <td>개포우성3차</td>\n",
       "      <td>104.43</td>\n",
       "      <td>200601</td>\n",
       "      <td>71250</td>\n",
       "      <td>6</td>\n",
       "      <td>1984</td>\n",
       "      <td>개포로 307</td>\n",
       "    </tr>\n",
       "  </tbody>\n",
       "</table>\n",
       "</div>"
      ],
      "text/plain": [
       "             시군구             단지명  전용면적(㎡)    계약년월  거래금액(만원)  층  건축년도      도로명\n",
       "0  서울특별시 강남구 개포동  개포6차우성아파트1동~8동    67.28  200601     54500  3  1987    언주로 3\n",
       "1  서울특별시 강남구 개포동  개포6차우성아파트1동~8동    79.97  200601     67000  3  1987    언주로 3\n",
       "2  서울특별시 강남구 개포동  개포6차우성아파트1동~8동    79.97  200601     67500  4  1987    언주로 3\n",
       "3  서울특별시 강남구 개포동          개포우성3차   104.43  200601     73000  9  1984  개포로 307\n",
       "4  서울특별시 강남구 개포동          개포우성3차   104.43  200601     71250  6  1984  개포로 307"
      ]
     },
     "execution_count": 25,
     "metadata": {},
     "output_type": "execute_result"
    }
   ],
   "source": [
    "data.head()"
   ]
  },
  {
   "cell_type": "code",
   "execution_count": 26,
   "id": "ea0c7518",
   "metadata": {},
   "outputs": [
    {
     "data": {
      "text/plain": [
       "시군구         0\n",
       "단지명         0\n",
       "전용면적(㎡)     0\n",
       "계약년월        0\n",
       "거래금액(만원)    0\n",
       "층           0\n",
       "건축년도        0\n",
       "도로명         0\n",
       "dtype: int64"
      ]
     },
     "execution_count": 26,
     "metadata": {},
     "output_type": "execute_result"
    }
   ],
   "source": [
    "data.isna().sum()"
   ]
  },
  {
   "cell_type": "code",
   "execution_count": 27,
   "id": "7401c79c",
   "metadata": {
    "scrolled": true
   },
   "outputs": [],
   "source": [
    "sigungu = data['시군구']"
   ]
  },
  {
   "cell_type": "code",
   "execution_count": 28,
   "id": "afd75471",
   "metadata": {},
   "outputs": [],
   "source": [
    "data2 = data['시군구'].str.split(expand=True, n=2)"
   ]
  },
  {
   "cell_type": "code",
   "execution_count": 29,
   "id": "ad53a815",
   "metadata": {},
   "outputs": [
    {
     "data": {
      "text/html": [
       "<div>\n",
       "<style scoped>\n",
       "    .dataframe tbody tr th:only-of-type {\n",
       "        vertical-align: middle;\n",
       "    }\n",
       "\n",
       "    .dataframe tbody tr th {\n",
       "        vertical-align: top;\n",
       "    }\n",
       "\n",
       "    .dataframe thead th {\n",
       "        text-align: right;\n",
       "    }\n",
       "</style>\n",
       "<table border=\"1\" class=\"dataframe\">\n",
       "  <thead>\n",
       "    <tr style=\"text-align: right;\">\n",
       "      <th></th>\n",
       "      <th>0</th>\n",
       "      <th>1</th>\n",
       "      <th>2</th>\n",
       "    </tr>\n",
       "  </thead>\n",
       "  <tbody>\n",
       "    <tr>\n",
       "      <th>0</th>\n",
       "      <td>서울특별시</td>\n",
       "      <td>강남구</td>\n",
       "      <td>개포동</td>\n",
       "    </tr>\n",
       "    <tr>\n",
       "      <th>1</th>\n",
       "      <td>서울특별시</td>\n",
       "      <td>강남구</td>\n",
       "      <td>개포동</td>\n",
       "    </tr>\n",
       "    <tr>\n",
       "      <th>2</th>\n",
       "      <td>서울특별시</td>\n",
       "      <td>강남구</td>\n",
       "      <td>개포동</td>\n",
       "    </tr>\n",
       "    <tr>\n",
       "      <th>3</th>\n",
       "      <td>서울특별시</td>\n",
       "      <td>강남구</td>\n",
       "      <td>개포동</td>\n",
       "    </tr>\n",
       "    <tr>\n",
       "      <th>4</th>\n",
       "      <td>서울특별시</td>\n",
       "      <td>강남구</td>\n",
       "      <td>개포동</td>\n",
       "    </tr>\n",
       "    <tr>\n",
       "      <th>...</th>\n",
       "      <td>...</td>\n",
       "      <td>...</td>\n",
       "      <td>...</td>\n",
       "    </tr>\n",
       "    <tr>\n",
       "      <th>1215014</th>\n",
       "      <td>서울특별시</td>\n",
       "      <td>중랑구</td>\n",
       "      <td>신내동</td>\n",
       "    </tr>\n",
       "    <tr>\n",
       "      <th>1215015</th>\n",
       "      <td>서울특별시</td>\n",
       "      <td>중랑구</td>\n",
       "      <td>신내동</td>\n",
       "    </tr>\n",
       "    <tr>\n",
       "      <th>1215016</th>\n",
       "      <td>서울특별시</td>\n",
       "      <td>중랑구</td>\n",
       "      <td>신내동</td>\n",
       "    </tr>\n",
       "    <tr>\n",
       "      <th>1215017</th>\n",
       "      <td>서울특별시</td>\n",
       "      <td>중랑구</td>\n",
       "      <td>중화동</td>\n",
       "    </tr>\n",
       "    <tr>\n",
       "      <th>1215018</th>\n",
       "      <td>서울특별시</td>\n",
       "      <td>중랑구</td>\n",
       "      <td>중화동</td>\n",
       "    </tr>\n",
       "  </tbody>\n",
       "</table>\n",
       "<p>1215019 rows × 3 columns</p>\n",
       "</div>"
      ],
      "text/plain": [
       "             0    1    2\n",
       "0        서울특별시  강남구  개포동\n",
       "1        서울특별시  강남구  개포동\n",
       "2        서울특별시  강남구  개포동\n",
       "3        서울특별시  강남구  개포동\n",
       "4        서울특별시  강남구  개포동\n",
       "...        ...  ...  ...\n",
       "1215014  서울특별시  중랑구  신내동\n",
       "1215015  서울특별시  중랑구  신내동\n",
       "1215016  서울특별시  중랑구  신내동\n",
       "1215017  서울특별시  중랑구  중화동\n",
       "1215018  서울특별시  중랑구  중화동\n",
       "\n",
       "[1215019 rows x 3 columns]"
      ]
     },
     "execution_count": 29,
     "metadata": {},
     "output_type": "execute_result"
    }
   ],
   "source": [
    "data2"
   ]
  },
  {
   "cell_type": "code",
   "execution_count": 30,
   "id": "38ba45cd",
   "metadata": {},
   "outputs": [],
   "source": [
    "data2.columns=['시','구','동']"
   ]
  },
  {
   "cell_type": "code",
   "execution_count": 31,
   "id": "22b86ffb",
   "metadata": {},
   "outputs": [],
   "source": [
    "data = pd.concat([data2, data], axis=1)"
   ]
  },
  {
   "cell_type": "code",
   "execution_count": 32,
   "id": "9f18c285",
   "metadata": {},
   "outputs": [],
   "source": [
    "data = data.drop('시군구', axis=1)"
   ]
  },
  {
   "cell_type": "code",
   "execution_count": 33,
   "id": "035d47f3",
   "metadata": {
    "scrolled": true
   },
   "outputs": [
    {
     "data": {
      "text/html": [
       "<div>\n",
       "<style scoped>\n",
       "    .dataframe tbody tr th:only-of-type {\n",
       "        vertical-align: middle;\n",
       "    }\n",
       "\n",
       "    .dataframe tbody tr th {\n",
       "        vertical-align: top;\n",
       "    }\n",
       "\n",
       "    .dataframe thead th {\n",
       "        text-align: right;\n",
       "    }\n",
       "</style>\n",
       "<table border=\"1\" class=\"dataframe\">\n",
       "  <thead>\n",
       "    <tr style=\"text-align: right;\">\n",
       "      <th></th>\n",
       "      <th>시</th>\n",
       "      <th>구</th>\n",
       "      <th>동</th>\n",
       "      <th>단지명</th>\n",
       "      <th>전용면적(㎡)</th>\n",
       "      <th>계약년월</th>\n",
       "      <th>거래금액(만원)</th>\n",
       "      <th>층</th>\n",
       "      <th>건축년도</th>\n",
       "      <th>도로명</th>\n",
       "    </tr>\n",
       "  </thead>\n",
       "  <tbody>\n",
       "    <tr>\n",
       "      <th>0</th>\n",
       "      <td>서울특별시</td>\n",
       "      <td>강남구</td>\n",
       "      <td>개포동</td>\n",
       "      <td>개포6차우성아파트1동~8동</td>\n",
       "      <td>67.28</td>\n",
       "      <td>200601</td>\n",
       "      <td>54500</td>\n",
       "      <td>3</td>\n",
       "      <td>1987</td>\n",
       "      <td>언주로 3</td>\n",
       "    </tr>\n",
       "    <tr>\n",
       "      <th>1</th>\n",
       "      <td>서울특별시</td>\n",
       "      <td>강남구</td>\n",
       "      <td>개포동</td>\n",
       "      <td>개포6차우성아파트1동~8동</td>\n",
       "      <td>79.97</td>\n",
       "      <td>200601</td>\n",
       "      <td>67000</td>\n",
       "      <td>3</td>\n",
       "      <td>1987</td>\n",
       "      <td>언주로 3</td>\n",
       "    </tr>\n",
       "    <tr>\n",
       "      <th>2</th>\n",
       "      <td>서울특별시</td>\n",
       "      <td>강남구</td>\n",
       "      <td>개포동</td>\n",
       "      <td>개포6차우성아파트1동~8동</td>\n",
       "      <td>79.97</td>\n",
       "      <td>200601</td>\n",
       "      <td>67500</td>\n",
       "      <td>4</td>\n",
       "      <td>1987</td>\n",
       "      <td>언주로 3</td>\n",
       "    </tr>\n",
       "    <tr>\n",
       "      <th>3</th>\n",
       "      <td>서울특별시</td>\n",
       "      <td>강남구</td>\n",
       "      <td>개포동</td>\n",
       "      <td>개포우성3차</td>\n",
       "      <td>104.43</td>\n",
       "      <td>200601</td>\n",
       "      <td>73000</td>\n",
       "      <td>9</td>\n",
       "      <td>1984</td>\n",
       "      <td>개포로 307</td>\n",
       "    </tr>\n",
       "    <tr>\n",
       "      <th>4</th>\n",
       "      <td>서울특별시</td>\n",
       "      <td>강남구</td>\n",
       "      <td>개포동</td>\n",
       "      <td>개포우성3차</td>\n",
       "      <td>104.43</td>\n",
       "      <td>200601</td>\n",
       "      <td>71250</td>\n",
       "      <td>6</td>\n",
       "      <td>1984</td>\n",
       "      <td>개포로 307</td>\n",
       "    </tr>\n",
       "    <tr>\n",
       "      <th>...</th>\n",
       "      <td>...</td>\n",
       "      <td>...</td>\n",
       "      <td>...</td>\n",
       "      <td>...</td>\n",
       "      <td>...</td>\n",
       "      <td>...</td>\n",
       "      <td>...</td>\n",
       "      <td>...</td>\n",
       "      <td>...</td>\n",
       "      <td>...</td>\n",
       "    </tr>\n",
       "    <tr>\n",
       "      <th>1215014</th>\n",
       "      <td>서울특별시</td>\n",
       "      <td>중랑구</td>\n",
       "      <td>신내동</td>\n",
       "      <td>화성.두산아파트</td>\n",
       "      <td>84.99</td>\n",
       "      <td>202308</td>\n",
       "      <td>73800</td>\n",
       "      <td>11</td>\n",
       "      <td>1995.0</td>\n",
       "      <td>신내로 155</td>\n",
       "    </tr>\n",
       "    <tr>\n",
       "      <th>1215015</th>\n",
       "      <td>서울특별시</td>\n",
       "      <td>중랑구</td>\n",
       "      <td>신내동</td>\n",
       "      <td>화성.두산아파트</td>\n",
       "      <td>84.99</td>\n",
       "      <td>202308</td>\n",
       "      <td>70000</td>\n",
       "      <td>12</td>\n",
       "      <td>1995.0</td>\n",
       "      <td>신내로 155</td>\n",
       "    </tr>\n",
       "    <tr>\n",
       "      <th>1215016</th>\n",
       "      <td>서울특별시</td>\n",
       "      <td>중랑구</td>\n",
       "      <td>신내동</td>\n",
       "      <td>화성.두산아파트</td>\n",
       "      <td>66.96</td>\n",
       "      <td>202308</td>\n",
       "      <td>59000</td>\n",
       "      <td>8</td>\n",
       "      <td>1995.0</td>\n",
       "      <td>신내로 155</td>\n",
       "    </tr>\n",
       "    <tr>\n",
       "      <th>1215017</th>\n",
       "      <td>서울특별시</td>\n",
       "      <td>중랑구</td>\n",
       "      <td>중화동</td>\n",
       "      <td>한신아파트(103~109)</td>\n",
       "      <td>50.37</td>\n",
       "      <td>202308</td>\n",
       "      <td>54200</td>\n",
       "      <td>9</td>\n",
       "      <td>1997.0</td>\n",
       "      <td>동일로 752</td>\n",
       "    </tr>\n",
       "    <tr>\n",
       "      <th>1215018</th>\n",
       "      <td>서울특별시</td>\n",
       "      <td>중랑구</td>\n",
       "      <td>중화동</td>\n",
       "      <td>한신아파트(103~109)</td>\n",
       "      <td>59.76</td>\n",
       "      <td>202308</td>\n",
       "      <td>58000</td>\n",
       "      <td>2</td>\n",
       "      <td>1997.0</td>\n",
       "      <td>동일로 752</td>\n",
       "    </tr>\n",
       "  </tbody>\n",
       "</table>\n",
       "<p>1215019 rows × 10 columns</p>\n",
       "</div>"
      ],
      "text/plain": [
       "             시    구    동             단지명  전용면적(㎡)    계약년월  거래금액(만원)   층  \\\n",
       "0        서울특별시  강남구  개포동  개포6차우성아파트1동~8동    67.28  200601     54500   3   \n",
       "1        서울특별시  강남구  개포동  개포6차우성아파트1동~8동    79.97  200601     67000   3   \n",
       "2        서울특별시  강남구  개포동  개포6차우성아파트1동~8동    79.97  200601     67500   4   \n",
       "3        서울특별시  강남구  개포동          개포우성3차   104.43  200601     73000   9   \n",
       "4        서울특별시  강남구  개포동          개포우성3차   104.43  200601     71250   6   \n",
       "...        ...  ...  ...             ...      ...     ...       ...  ..   \n",
       "1215014  서울특별시  중랑구  신내동        화성.두산아파트    84.99  202308     73800  11   \n",
       "1215015  서울특별시  중랑구  신내동        화성.두산아파트    84.99  202308     70000  12   \n",
       "1215016  서울특별시  중랑구  신내동        화성.두산아파트    66.96  202308     59000   8   \n",
       "1215017  서울특별시  중랑구  중화동  한신아파트(103~109)    50.37  202308     54200   9   \n",
       "1215018  서울특별시  중랑구  중화동  한신아파트(103~109)    59.76  202308     58000   2   \n",
       "\n",
       "           건축년도      도로명  \n",
       "0          1987    언주로 3  \n",
       "1          1987    언주로 3  \n",
       "2          1987    언주로 3  \n",
       "3          1984  개포로 307  \n",
       "4          1984  개포로 307  \n",
       "...         ...      ...  \n",
       "1215014  1995.0  신내로 155  \n",
       "1215015  1995.0  신내로 155  \n",
       "1215016  1995.0  신내로 155  \n",
       "1215017  1997.0  동일로 752  \n",
       "1215018  1997.0  동일로 752  \n",
       "\n",
       "[1215019 rows x 10 columns]"
      ]
     },
     "execution_count": 33,
     "metadata": {},
     "output_type": "execute_result"
    }
   ],
   "source": [
    "data"
   ]
  },
  {
   "cell_type": "markdown",
   "id": "5af88673",
   "metadata": {},
   "source": [
    "* iloc 로 인덱싱을 사용해서 잘라보자.<br>\n",
    " iloc<br>\n",
    "인덱싱/슬라이싱을 사용해서 원하는 행과 컬럼만 가져오기 <br>\n",
    "데이터프레임.iloc[행시작번호:행끝번호, 열시작번호:열끝번호]<br>\n",
    "\n",
    "data2.iloc[4:10, 3:7]"
   ]
  },
  {
   "cell_type": "code",
   "execution_count": 34,
   "id": "394ba691",
   "metadata": {},
   "outputs": [],
   "source": [
    "data = data.iloc[:,:-3]"
   ]
  },
  {
   "cell_type": "code",
   "execution_count": 35,
   "id": "20924d84",
   "metadata": {
    "scrolled": true
   },
   "outputs": [
    {
     "data": {
      "text/html": [
       "<div>\n",
       "<style scoped>\n",
       "    .dataframe tbody tr th:only-of-type {\n",
       "        vertical-align: middle;\n",
       "    }\n",
       "\n",
       "    .dataframe tbody tr th {\n",
       "        vertical-align: top;\n",
       "    }\n",
       "\n",
       "    .dataframe thead th {\n",
       "        text-align: right;\n",
       "    }\n",
       "</style>\n",
       "<table border=\"1\" class=\"dataframe\">\n",
       "  <thead>\n",
       "    <tr style=\"text-align: right;\">\n",
       "      <th></th>\n",
       "      <th>시</th>\n",
       "      <th>구</th>\n",
       "      <th>동</th>\n",
       "      <th>단지명</th>\n",
       "      <th>전용면적(㎡)</th>\n",
       "      <th>계약년월</th>\n",
       "      <th>거래금액(만원)</th>\n",
       "    </tr>\n",
       "  </thead>\n",
       "  <tbody>\n",
       "    <tr>\n",
       "      <th>0</th>\n",
       "      <td>서울특별시</td>\n",
       "      <td>강남구</td>\n",
       "      <td>개포동</td>\n",
       "      <td>개포6차우성아파트1동~8동</td>\n",
       "      <td>67.28</td>\n",
       "      <td>200601</td>\n",
       "      <td>54500</td>\n",
       "    </tr>\n",
       "    <tr>\n",
       "      <th>1</th>\n",
       "      <td>서울특별시</td>\n",
       "      <td>강남구</td>\n",
       "      <td>개포동</td>\n",
       "      <td>개포6차우성아파트1동~8동</td>\n",
       "      <td>79.97</td>\n",
       "      <td>200601</td>\n",
       "      <td>67000</td>\n",
       "    </tr>\n",
       "    <tr>\n",
       "      <th>2</th>\n",
       "      <td>서울특별시</td>\n",
       "      <td>강남구</td>\n",
       "      <td>개포동</td>\n",
       "      <td>개포6차우성아파트1동~8동</td>\n",
       "      <td>79.97</td>\n",
       "      <td>200601</td>\n",
       "      <td>67500</td>\n",
       "    </tr>\n",
       "    <tr>\n",
       "      <th>3</th>\n",
       "      <td>서울특별시</td>\n",
       "      <td>강남구</td>\n",
       "      <td>개포동</td>\n",
       "      <td>개포우성3차</td>\n",
       "      <td>104.43</td>\n",
       "      <td>200601</td>\n",
       "      <td>73000</td>\n",
       "    </tr>\n",
       "    <tr>\n",
       "      <th>4</th>\n",
       "      <td>서울특별시</td>\n",
       "      <td>강남구</td>\n",
       "      <td>개포동</td>\n",
       "      <td>개포우성3차</td>\n",
       "      <td>104.43</td>\n",
       "      <td>200601</td>\n",
       "      <td>71250</td>\n",
       "    </tr>\n",
       "    <tr>\n",
       "      <th>...</th>\n",
       "      <td>...</td>\n",
       "      <td>...</td>\n",
       "      <td>...</td>\n",
       "      <td>...</td>\n",
       "      <td>...</td>\n",
       "      <td>...</td>\n",
       "      <td>...</td>\n",
       "    </tr>\n",
       "    <tr>\n",
       "      <th>1215014</th>\n",
       "      <td>서울특별시</td>\n",
       "      <td>중랑구</td>\n",
       "      <td>신내동</td>\n",
       "      <td>화성.두산아파트</td>\n",
       "      <td>84.99</td>\n",
       "      <td>202308</td>\n",
       "      <td>73800</td>\n",
       "    </tr>\n",
       "    <tr>\n",
       "      <th>1215015</th>\n",
       "      <td>서울특별시</td>\n",
       "      <td>중랑구</td>\n",
       "      <td>신내동</td>\n",
       "      <td>화성.두산아파트</td>\n",
       "      <td>84.99</td>\n",
       "      <td>202308</td>\n",
       "      <td>70000</td>\n",
       "    </tr>\n",
       "    <tr>\n",
       "      <th>1215016</th>\n",
       "      <td>서울특별시</td>\n",
       "      <td>중랑구</td>\n",
       "      <td>신내동</td>\n",
       "      <td>화성.두산아파트</td>\n",
       "      <td>66.96</td>\n",
       "      <td>202308</td>\n",
       "      <td>59000</td>\n",
       "    </tr>\n",
       "    <tr>\n",
       "      <th>1215017</th>\n",
       "      <td>서울특별시</td>\n",
       "      <td>중랑구</td>\n",
       "      <td>중화동</td>\n",
       "      <td>한신아파트(103~109)</td>\n",
       "      <td>50.37</td>\n",
       "      <td>202308</td>\n",
       "      <td>54200</td>\n",
       "    </tr>\n",
       "    <tr>\n",
       "      <th>1215018</th>\n",
       "      <td>서울특별시</td>\n",
       "      <td>중랑구</td>\n",
       "      <td>중화동</td>\n",
       "      <td>한신아파트(103~109)</td>\n",
       "      <td>59.76</td>\n",
       "      <td>202308</td>\n",
       "      <td>58000</td>\n",
       "    </tr>\n",
       "  </tbody>\n",
       "</table>\n",
       "<p>1215019 rows × 7 columns</p>\n",
       "</div>"
      ],
      "text/plain": [
       "             시    구    동             단지명  전용면적(㎡)    계약년월  거래금액(만원)\n",
       "0        서울특별시  강남구  개포동  개포6차우성아파트1동~8동    67.28  200601     54500\n",
       "1        서울특별시  강남구  개포동  개포6차우성아파트1동~8동    79.97  200601     67000\n",
       "2        서울특별시  강남구  개포동  개포6차우성아파트1동~8동    79.97  200601     67500\n",
       "3        서울특별시  강남구  개포동          개포우성3차   104.43  200601     73000\n",
       "4        서울특별시  강남구  개포동          개포우성3차   104.43  200601     71250\n",
       "...        ...  ...  ...             ...      ...     ...       ...\n",
       "1215014  서울특별시  중랑구  신내동        화성.두산아파트    84.99  202308     73800\n",
       "1215015  서울특별시  중랑구  신내동        화성.두산아파트    84.99  202308     70000\n",
       "1215016  서울특별시  중랑구  신내동        화성.두산아파트    66.96  202308     59000\n",
       "1215017  서울특별시  중랑구  중화동  한신아파트(103~109)    50.37  202308     54200\n",
       "1215018  서울특별시  중랑구  중화동  한신아파트(103~109)    59.76  202308     58000\n",
       "\n",
       "[1215019 rows x 7 columns]"
      ]
     },
     "execution_count": 35,
     "metadata": {},
     "output_type": "execute_result"
    }
   ],
   "source": [
    "data"
   ]
  },
  {
   "cell_type": "code",
   "execution_count": 36,
   "id": "aeb275c0",
   "metadata": {
    "scrolled": true
   },
   "outputs": [
    {
     "data": {
      "text/plain": [
       "0          서울특별시 강남구 개포동\n",
       "1          서울특별시 강남구 개포동\n",
       "2          서울특별시 강남구 개포동\n",
       "3          서울특별시 강남구 개포동\n",
       "4          서울특별시 강남구 개포동\n",
       "               ...      \n",
       "1215014    서울특별시 중랑구 신내동\n",
       "1215015    서울특별시 중랑구 신내동\n",
       "1215016    서울특별시 중랑구 신내동\n",
       "1215017    서울특별시 중랑구 중화동\n",
       "1215018    서울특별시 중랑구 중화동\n",
       "Name: 시군구, Length: 1215019, dtype: object"
      ]
     },
     "execution_count": 36,
     "metadata": {},
     "output_type": "execute_result"
    }
   ],
   "source": [
    "sigungu"
   ]
  },
  {
   "cell_type": "code",
   "execution_count": 37,
   "id": "c4d5bc5b",
   "metadata": {},
   "outputs": [],
   "source": [
    "base_rate = pd.read_excel(\"C:/bigdata/data/전국부동산실거래가/한국은행기준금리1999-2023.xlsx\")"
   ]
  },
  {
   "cell_type": "code",
   "execution_count": 38,
   "id": "27531fe0",
   "metadata": {},
   "outputs": [],
   "source": [
    "edu_dist = pd.read_excel(\"C:/bigdata/data/전국부동산실거래가/전국학군정보.xlsx\")"
   ]
  },
  {
   "cell_type": "code",
   "execution_count": 39,
   "id": "b0e2f08f",
   "metadata": {
    "scrolled": true
   },
   "outputs": [
    {
     "data": {
      "text/html": [
       "<div>\n",
       "<style scoped>\n",
       "    .dataframe tbody tr th:only-of-type {\n",
       "        vertical-align: middle;\n",
       "    }\n",
       "\n",
       "    .dataframe tbody tr th {\n",
       "        vertical-align: top;\n",
       "    }\n",
       "\n",
       "    .dataframe thead th {\n",
       "        text-align: right;\n",
       "    }\n",
       "</style>\n",
       "<table border=\"1\" class=\"dataframe\">\n",
       "  <thead>\n",
       "    <tr style=\"text-align: right;\">\n",
       "      <th></th>\n",
       "      <th>변경연도</th>\n",
       "      <th>변경일자</th>\n",
       "      <th>기준금리</th>\n",
       "    </tr>\n",
       "  </thead>\n",
       "  <tbody>\n",
       "    <tr>\n",
       "      <th>0</th>\n",
       "      <td>2023</td>\n",
       "      <td>01월 13일</td>\n",
       "      <td>3.50</td>\n",
       "    </tr>\n",
       "    <tr>\n",
       "      <th>1</th>\n",
       "      <td>2022</td>\n",
       "      <td>11월 24일</td>\n",
       "      <td>3.25</td>\n",
       "    </tr>\n",
       "    <tr>\n",
       "      <th>2</th>\n",
       "      <td>2022</td>\n",
       "      <td>10월 12일</td>\n",
       "      <td>3.00</td>\n",
       "    </tr>\n",
       "    <tr>\n",
       "      <th>3</th>\n",
       "      <td>2022</td>\n",
       "      <td>08월 25일</td>\n",
       "      <td>2.50</td>\n",
       "    </tr>\n",
       "    <tr>\n",
       "      <th>4</th>\n",
       "      <td>2022</td>\n",
       "      <td>07월 13일</td>\n",
       "      <td>2.25</td>\n",
       "    </tr>\n",
       "  </tbody>\n",
       "</table>\n",
       "</div>"
      ],
      "text/plain": [
       "   변경연도     변경일자  기준금리\n",
       "0  2023  01월 13일  3.50\n",
       "1  2022  11월 24일  3.25\n",
       "2  2022  10월 12일  3.00\n",
       "3  2022  08월 25일  2.50\n",
       "4  2022  07월 13일  2.25"
      ]
     },
     "execution_count": 39,
     "metadata": {},
     "output_type": "execute_result"
    }
   ],
   "source": [
    "base_rate.head()"
   ]
  },
  {
   "cell_type": "markdown",
   "id": "a39b8f17",
   "metadata": {},
   "source": [
    "변경일자에 월만 남기기 - 변경연도와 변경일자 합치기 - merge로 합치기"
   ]
  },
  {
   "cell_type": "code",
   "execution_count": 40,
   "id": "c2760738",
   "metadata": {
    "scrolled": true
   },
   "outputs": [],
   "source": [
    "# 변경일자에 앞 두자리 숫자만 추출하기.\n",
    "base_rate['변경일자'] = base_rate['변경일자'].str[:2]"
   ]
  },
  {
   "cell_type": "code",
   "execution_count": 41,
   "id": "5a526585",
   "metadata": {},
   "outputs": [
    {
     "data": {
      "text/plain": [
       "0     01\n",
       "1     11\n",
       "2     10\n",
       "3     08\n",
       "4     07\n",
       "5     05\n",
       "6     04\n",
       "7     01\n",
       "8     11\n",
       "9     08\n",
       "10    05\n",
       "11    03\n",
       "12    10\n",
       "13    07\n",
       "14    11\n",
       "15    11\n",
       "16    06\n",
       "17    06\n",
       "18    03\n",
       "19    10\n",
       "20    08\n",
       "21    05\n",
       "22    10\n",
       "23    07\n",
       "24    06\n",
       "25    03\n",
       "26    01\n",
       "27    11\n",
       "28    07\n",
       "29    02\n",
       "30    01\n",
       "31    12\n",
       "32    11\n",
       "33    10\n",
       "34    10\n",
       "35    08\n",
       "36    08\n",
       "37    07\n",
       "38    08\n",
       "39    06\n",
       "40    02\n",
       "41    12\n",
       "42    10\n",
       "43    11\n",
       "44    08\n",
       "45    07\n",
       "46    05\n",
       "47    05\n",
       "48    09\n",
       "49    08\n",
       "50    07\n",
       "51    02\n",
       "52    10\n",
       "53    02\n",
       "54    05\n",
       "Name: 변경일자, dtype: object"
      ]
     },
     "execution_count": 41,
     "metadata": {},
     "output_type": "execute_result"
    }
   ],
   "source": [
    "base_rate['변경일자']"
   ]
  },
  {
   "cell_type": "code",
   "execution_count": 42,
   "id": "4c9a46cf",
   "metadata": {},
   "outputs": [
    {
     "data": {
      "text/html": [
       "<div>\n",
       "<style scoped>\n",
       "    .dataframe tbody tr th:only-of-type {\n",
       "        vertical-align: middle;\n",
       "    }\n",
       "\n",
       "    .dataframe tbody tr th {\n",
       "        vertical-align: top;\n",
       "    }\n",
       "\n",
       "    .dataframe thead th {\n",
       "        text-align: right;\n",
       "    }\n",
       "</style>\n",
       "<table border=\"1\" class=\"dataframe\">\n",
       "  <thead>\n",
       "    <tr style=\"text-align: right;\">\n",
       "      <th></th>\n",
       "      <th>변경연도</th>\n",
       "      <th>변경일자</th>\n",
       "      <th>기준금리</th>\n",
       "    </tr>\n",
       "  </thead>\n",
       "  <tbody>\n",
       "    <tr>\n",
       "      <th>0</th>\n",
       "      <td>2023</td>\n",
       "      <td>01</td>\n",
       "      <td>3.50</td>\n",
       "    </tr>\n",
       "    <tr>\n",
       "      <th>1</th>\n",
       "      <td>2022</td>\n",
       "      <td>11</td>\n",
       "      <td>3.25</td>\n",
       "    </tr>\n",
       "    <tr>\n",
       "      <th>2</th>\n",
       "      <td>2022</td>\n",
       "      <td>10</td>\n",
       "      <td>3.00</td>\n",
       "    </tr>\n",
       "    <tr>\n",
       "      <th>3</th>\n",
       "      <td>2022</td>\n",
       "      <td>08</td>\n",
       "      <td>2.50</td>\n",
       "    </tr>\n",
       "    <tr>\n",
       "      <th>4</th>\n",
       "      <td>2022</td>\n",
       "      <td>07</td>\n",
       "      <td>2.25</td>\n",
       "    </tr>\n",
       "  </tbody>\n",
       "</table>\n",
       "</div>"
      ],
      "text/plain": [
       "   변경연도 변경일자  기준금리\n",
       "0  2023   01  3.50\n",
       "1  2022   11  3.25\n",
       "2  2022   10  3.00\n",
       "3  2022   08  2.50\n",
       "4  2022   07  2.25"
      ]
     },
     "execution_count": 42,
     "metadata": {},
     "output_type": "execute_result"
    }
   ],
   "source": [
    "base_rate.head()"
   ]
  },
  {
   "cell_type": "code",
   "execution_count": 43,
   "id": "b2655426",
   "metadata": {},
   "outputs": [],
   "source": [
    "# df['합친 열'] = df['열1'] + df['열2']\n",
    "base_rate['기준금리년월'] = base_rate['변경연도'].astype(str) + base_rate['변경일자'].astype(str)"
   ]
  },
  {
   "cell_type": "code",
   "execution_count": 44,
   "id": "efbead2a",
   "metadata": {},
   "outputs": [
    {
     "data": {
      "text/html": [
       "<div>\n",
       "<style scoped>\n",
       "    .dataframe tbody tr th:only-of-type {\n",
       "        vertical-align: middle;\n",
       "    }\n",
       "\n",
       "    .dataframe tbody tr th {\n",
       "        vertical-align: top;\n",
       "    }\n",
       "\n",
       "    .dataframe thead th {\n",
       "        text-align: right;\n",
       "    }\n",
       "</style>\n",
       "<table border=\"1\" class=\"dataframe\">\n",
       "  <thead>\n",
       "    <tr style=\"text-align: right;\">\n",
       "      <th></th>\n",
       "      <th>변경연도</th>\n",
       "      <th>변경일자</th>\n",
       "      <th>기준금리</th>\n",
       "      <th>기준금리년월</th>\n",
       "    </tr>\n",
       "  </thead>\n",
       "  <tbody>\n",
       "    <tr>\n",
       "      <th>0</th>\n",
       "      <td>2023</td>\n",
       "      <td>01</td>\n",
       "      <td>3.50</td>\n",
       "      <td>202301</td>\n",
       "    </tr>\n",
       "    <tr>\n",
       "      <th>1</th>\n",
       "      <td>2022</td>\n",
       "      <td>11</td>\n",
       "      <td>3.25</td>\n",
       "      <td>202211</td>\n",
       "    </tr>\n",
       "    <tr>\n",
       "      <th>2</th>\n",
       "      <td>2022</td>\n",
       "      <td>10</td>\n",
       "      <td>3.00</td>\n",
       "      <td>202210</td>\n",
       "    </tr>\n",
       "    <tr>\n",
       "      <th>3</th>\n",
       "      <td>2022</td>\n",
       "      <td>08</td>\n",
       "      <td>2.50</td>\n",
       "      <td>202208</td>\n",
       "    </tr>\n",
       "    <tr>\n",
       "      <th>4</th>\n",
       "      <td>2022</td>\n",
       "      <td>07</td>\n",
       "      <td>2.25</td>\n",
       "      <td>202207</td>\n",
       "    </tr>\n",
       "  </tbody>\n",
       "</table>\n",
       "</div>"
      ],
      "text/plain": [
       "   변경연도 변경일자  기준금리  기준금리년월\n",
       "0  2023   01  3.50  202301\n",
       "1  2022   11  3.25  202211\n",
       "2  2022   10  3.00  202210\n",
       "3  2022   08  2.50  202208\n",
       "4  2022   07  2.25  202207"
      ]
     },
     "execution_count": 44,
     "metadata": {},
     "output_type": "execute_result"
    }
   ],
   "source": [
    "base_rate.head()"
   ]
  },
  {
   "cell_type": "code",
   "execution_count": 45,
   "id": "be241146",
   "metadata": {},
   "outputs": [],
   "source": [
    "base_rate.drop(['변경일자', '변경연도'], axis=1, inplace=True)"
   ]
  },
  {
   "cell_type": "code",
   "execution_count": 46,
   "id": "9ccd76d5",
   "metadata": {},
   "outputs": [
    {
     "data": {
      "text/html": [
       "<div>\n",
       "<style scoped>\n",
       "    .dataframe tbody tr th:only-of-type {\n",
       "        vertical-align: middle;\n",
       "    }\n",
       "\n",
       "    .dataframe tbody tr th {\n",
       "        vertical-align: top;\n",
       "    }\n",
       "\n",
       "    .dataframe thead th {\n",
       "        text-align: right;\n",
       "    }\n",
       "</style>\n",
       "<table border=\"1\" class=\"dataframe\">\n",
       "  <thead>\n",
       "    <tr style=\"text-align: right;\">\n",
       "      <th></th>\n",
       "      <th>시</th>\n",
       "      <th>구</th>\n",
       "      <th>동</th>\n",
       "      <th>단지명</th>\n",
       "      <th>전용면적(㎡)</th>\n",
       "      <th>계약년월</th>\n",
       "      <th>거래금액(만원)</th>\n",
       "    </tr>\n",
       "  </thead>\n",
       "  <tbody>\n",
       "    <tr>\n",
       "      <th>0</th>\n",
       "      <td>서울특별시</td>\n",
       "      <td>강남구</td>\n",
       "      <td>개포동</td>\n",
       "      <td>개포6차우성아파트1동~8동</td>\n",
       "      <td>67.28</td>\n",
       "      <td>200601</td>\n",
       "      <td>54500</td>\n",
       "    </tr>\n",
       "    <tr>\n",
       "      <th>1</th>\n",
       "      <td>서울특별시</td>\n",
       "      <td>강남구</td>\n",
       "      <td>개포동</td>\n",
       "      <td>개포6차우성아파트1동~8동</td>\n",
       "      <td>79.97</td>\n",
       "      <td>200601</td>\n",
       "      <td>67000</td>\n",
       "    </tr>\n",
       "    <tr>\n",
       "      <th>2</th>\n",
       "      <td>서울특별시</td>\n",
       "      <td>강남구</td>\n",
       "      <td>개포동</td>\n",
       "      <td>개포6차우성아파트1동~8동</td>\n",
       "      <td>79.97</td>\n",
       "      <td>200601</td>\n",
       "      <td>67500</td>\n",
       "    </tr>\n",
       "    <tr>\n",
       "      <th>3</th>\n",
       "      <td>서울특별시</td>\n",
       "      <td>강남구</td>\n",
       "      <td>개포동</td>\n",
       "      <td>개포우성3차</td>\n",
       "      <td>104.43</td>\n",
       "      <td>200601</td>\n",
       "      <td>73000</td>\n",
       "    </tr>\n",
       "    <tr>\n",
       "      <th>4</th>\n",
       "      <td>서울특별시</td>\n",
       "      <td>강남구</td>\n",
       "      <td>개포동</td>\n",
       "      <td>개포우성3차</td>\n",
       "      <td>104.43</td>\n",
       "      <td>200601</td>\n",
       "      <td>71250</td>\n",
       "    </tr>\n",
       "  </tbody>\n",
       "</table>\n",
       "</div>"
      ],
      "text/plain": [
       "       시    구    동             단지명  전용면적(㎡)    계약년월  거래금액(만원)\n",
       "0  서울특별시  강남구  개포동  개포6차우성아파트1동~8동    67.28  200601     54500\n",
       "1  서울특별시  강남구  개포동  개포6차우성아파트1동~8동    79.97  200601     67000\n",
       "2  서울특별시  강남구  개포동  개포6차우성아파트1동~8동    79.97  200601     67500\n",
       "3  서울특별시  강남구  개포동          개포우성3차   104.43  200601     73000\n",
       "4  서울특별시  강남구  개포동          개포우성3차   104.43  200601     71250"
      ]
     },
     "execution_count": 46,
     "metadata": {},
     "output_type": "execute_result"
    }
   ],
   "source": [
    "data.head()"
   ]
  },
  {
   "cell_type": "code",
   "execution_count": 47,
   "id": "c476a9af",
   "metadata": {},
   "outputs": [
    {
     "data": {
      "text/plain": [
       "<Axes: >"
      ]
     },
     "execution_count": 47,
     "metadata": {},
     "output_type": "execute_result"
    },
    {
     "data": {
      "image/png": "[encoded data removed]",
      "text/plain": [
       "<Figure size 640x480 with 1 Axes>"
      ]
     },
     "metadata": {},
     "output_type": "display_data"
    }
   ],
   "source": [
    "data.plot(kind='box')"
   ]
  },
  {
   "cell_type": "code",
   "execution_count": 48,
   "id": "ac4b5342",
   "metadata": {},
   "outputs": [],
   "source": [
    "# 아웃라이어를 계산하는 함수. 우리가 만들어야 해.\n",
    "def outlier(x):\n",
    "    x = x.describe()\n",
    "    out_max = x.loc['75%'] + (1.5*(x.loc['75%']-x.loc['25%']))\n",
    "    out_min = x.loc['25%'] - (1.5*(x.loc['75%']-x.loc['25%']))\n",
    "    ol_result = pd.DataFrame([out_max, out_min], columns=out_max.index, index=['상한값','하한값'])\n",
    "    result=pd.concat([x, ol_result])\n",
    "    return result"
   ]
  },
  {
   "cell_type": "code",
   "execution_count": 49,
   "id": "6c5017d6",
   "metadata": {
    "scrolled": false
   },
   "outputs": [
    {
     "data": {
      "text/html": [
       "<div>\n",
       "<style scoped>\n",
       "    .dataframe tbody tr th:only-of-type {\n",
       "        vertical-align: middle;\n",
       "    }\n",
       "\n",
       "    .dataframe tbody tr th {\n",
       "        vertical-align: top;\n",
       "    }\n",
       "\n",
       "    .dataframe thead th {\n",
       "        text-align: right;\n",
       "    }\n",
       "</style>\n",
       "<table border=\"1\" class=\"dataframe\">\n",
       "  <thead>\n",
       "    <tr style=\"text-align: right;\">\n",
       "      <th></th>\n",
       "      <th>전용면적(㎡)</th>\n",
       "      <th>거래금액(만원)</th>\n",
       "    </tr>\n",
       "  </thead>\n",
       "  <tbody>\n",
       "    <tr>\n",
       "      <th>count</th>\n",
       "      <td>1.215019e+06</td>\n",
       "      <td>1.215019e+06</td>\n",
       "    </tr>\n",
       "    <tr>\n",
       "      <th>mean</th>\n",
       "      <td>7.689058e+01</td>\n",
       "      <td>5.646365e+04</td>\n",
       "    </tr>\n",
       "    <tr>\n",
       "      <th>std</th>\n",
       "      <td>2.922942e+01</td>\n",
       "      <td>4.634110e+04</td>\n",
       "    </tr>\n",
       "    <tr>\n",
       "      <th>min</th>\n",
       "      <td>1.002000e+01</td>\n",
       "      <td>3.500000e+02</td>\n",
       "    </tr>\n",
       "    <tr>\n",
       "      <th>25%</th>\n",
       "      <td>5.960600e+01</td>\n",
       "      <td>2.900000e+04</td>\n",
       "    </tr>\n",
       "    <tr>\n",
       "      <th>50%</th>\n",
       "      <td>8.105000e+01</td>\n",
       "      <td>4.330000e+04</td>\n",
       "    </tr>\n",
       "    <tr>\n",
       "      <th>75%</th>\n",
       "      <td>8.496000e+01</td>\n",
       "      <td>6.800000e+04</td>\n",
       "    </tr>\n",
       "    <tr>\n",
       "      <th>max</th>\n",
       "      <td>4.243200e+02</td>\n",
       "      <td>1.450000e+06</td>\n",
       "    </tr>\n",
       "    <tr>\n",
       "      <th>상한값</th>\n",
       "      <td>1.229910e+02</td>\n",
       "      <td>1.265000e+05</td>\n",
       "    </tr>\n",
       "    <tr>\n",
       "      <th>하한값</th>\n",
       "      <td>2.157500e+01</td>\n",
       "      <td>-2.950000e+04</td>\n",
       "    </tr>\n",
       "  </tbody>\n",
       "</table>\n",
       "</div>"
      ],
      "text/plain": [
       "            전용면적(㎡)      거래금액(만원)\n",
       "count  1.215019e+06  1.215019e+06\n",
       "mean   7.689058e+01  5.646365e+04\n",
       "std    2.922942e+01  4.634110e+04\n",
       "min    1.002000e+01  3.500000e+02\n",
       "25%    5.960600e+01  2.900000e+04\n",
       "50%    8.105000e+01  4.330000e+04\n",
       "75%    8.496000e+01  6.800000e+04\n",
       "max    4.243200e+02  1.450000e+06\n",
       "상한값    1.229910e+02  1.265000e+05\n",
       "하한값    2.157500e+01 -2.950000e+04"
      ]
     },
     "execution_count": 49,
     "metadata": {},
     "output_type": "execute_result"
    }
   ],
   "source": [
    "outlier(data)"
   ]
  },
  {
   "cell_type": "code",
   "execution_count": 50,
   "id": "965d9da4",
   "metadata": {
    "scrolled": true
   },
   "outputs": [
    {
     "data": {
      "text/html": [
       "<div>\n",
       "<style scoped>\n",
       "    .dataframe tbody tr th:only-of-type {\n",
       "        vertical-align: middle;\n",
       "    }\n",
       "\n",
       "    .dataframe tbody tr th {\n",
       "        vertical-align: top;\n",
       "    }\n",
       "\n",
       "    .dataframe thead th {\n",
       "        text-align: right;\n",
       "    }\n",
       "</style>\n",
       "<table border=\"1\" class=\"dataframe\">\n",
       "  <thead>\n",
       "    <tr style=\"text-align: right;\">\n",
       "      <th></th>\n",
       "      <th>시</th>\n",
       "      <th>구</th>\n",
       "      <th>동</th>\n",
       "      <th>단지명</th>\n",
       "      <th>전용면적(㎡)</th>\n",
       "      <th>계약년월</th>\n",
       "      <th>거래금액(만원)</th>\n",
       "    </tr>\n",
       "  </thead>\n",
       "  <tbody>\n",
       "    <tr>\n",
       "      <th>5</th>\n",
       "      <td>서울특별시</td>\n",
       "      <td>강남구</td>\n",
       "      <td>개포동</td>\n",
       "      <td>개포우성3차</td>\n",
       "      <td>161.0000</td>\n",
       "      <td>200601</td>\n",
       "      <td>150000</td>\n",
       "    </tr>\n",
       "    <tr>\n",
       "      <th>6</th>\n",
       "      <td>서울특별시</td>\n",
       "      <td>강남구</td>\n",
       "      <td>개포동</td>\n",
       "      <td>개포우성3차</td>\n",
       "      <td>161.0000</td>\n",
       "      <td>200601</td>\n",
       "      <td>147500</td>\n",
       "    </tr>\n",
       "    <tr>\n",
       "      <th>7</th>\n",
       "      <td>서울특별시</td>\n",
       "      <td>강남구</td>\n",
       "      <td>개포동</td>\n",
       "      <td>개포우성3차</td>\n",
       "      <td>161.0000</td>\n",
       "      <td>200601</td>\n",
       "      <td>160000</td>\n",
       "    </tr>\n",
       "    <tr>\n",
       "      <th>106</th>\n",
       "      <td>서울특별시</td>\n",
       "      <td>강남구</td>\n",
       "      <td>개포동</td>\n",
       "      <td>경남1</td>\n",
       "      <td>123.2800</td>\n",
       "      <td>200601</td>\n",
       "      <td>130000</td>\n",
       "    </tr>\n",
       "    <tr>\n",
       "      <th>111</th>\n",
       "      <td>서울특별시</td>\n",
       "      <td>강남구</td>\n",
       "      <td>개포동</td>\n",
       "      <td>경남1</td>\n",
       "      <td>123.2800</td>\n",
       "      <td>200601</td>\n",
       "      <td>137000</td>\n",
       "    </tr>\n",
       "    <tr>\n",
       "      <th>...</th>\n",
       "      <td>...</td>\n",
       "      <td>...</td>\n",
       "      <td>...</td>\n",
       "      <td>...</td>\n",
       "      <td>...</td>\n",
       "      <td>...</td>\n",
       "      <td>...</td>\n",
       "    </tr>\n",
       "    <tr>\n",
       "      <th>1214947</th>\n",
       "      <td>서울특별시</td>\n",
       "      <td>중구</td>\n",
       "      <td>신당동</td>\n",
       "      <td>청구e편한세상</td>\n",
       "      <td>84.9600</td>\n",
       "      <td>202308</td>\n",
       "      <td>149500</td>\n",
       "    </tr>\n",
       "    <tr>\n",
       "      <th>1214948</th>\n",
       "      <td>서울특별시</td>\n",
       "      <td>중구</td>\n",
       "      <td>신당동</td>\n",
       "      <td>청구e편한세상</td>\n",
       "      <td>84.9500</td>\n",
       "      <td>202308</td>\n",
       "      <td>139500</td>\n",
       "    </tr>\n",
       "    <tr>\n",
       "      <th>1214949</th>\n",
       "      <td>서울특별시</td>\n",
       "      <td>중구</td>\n",
       "      <td>신당동</td>\n",
       "      <td>청구e편한세상</td>\n",
       "      <td>84.9500</td>\n",
       "      <td>202308</td>\n",
       "      <td>139000</td>\n",
       "    </tr>\n",
       "    <tr>\n",
       "      <th>1214963</th>\n",
       "      <td>서울특별시</td>\n",
       "      <td>중구</td>\n",
       "      <td>흥인동</td>\n",
       "      <td>청계천두산위브더제니스</td>\n",
       "      <td>147.3212</td>\n",
       "      <td>202308</td>\n",
       "      <td>161000</td>\n",
       "    </tr>\n",
       "    <tr>\n",
       "      <th>1214964</th>\n",
       "      <td>서울특별시</td>\n",
       "      <td>중구</td>\n",
       "      <td>흥인동</td>\n",
       "      <td>청계천두산위브더제니스</td>\n",
       "      <td>124.2215</td>\n",
       "      <td>202308</td>\n",
       "      <td>140000</td>\n",
       "    </tr>\n",
       "  </tbody>\n",
       "</table>\n",
       "<p>82126 rows × 7 columns</p>\n",
       "</div>"
      ],
      "text/plain": [
       "             시    구    동          단지명   전용면적(㎡)    계약년월  거래금액(만원)\n",
       "5        서울특별시  강남구  개포동       개포우성3차  161.0000  200601    150000\n",
       "6        서울특별시  강남구  개포동       개포우성3차  161.0000  200601    147500\n",
       "7        서울특별시  강남구  개포동       개포우성3차  161.0000  200601    160000\n",
       "106      서울특별시  강남구  개포동          경남1  123.2800  200601    130000\n",
       "111      서울특별시  강남구  개포동          경남1  123.2800  200601    137000\n",
       "...        ...  ...  ...          ...       ...     ...       ...\n",
       "1214947  서울특별시   중구  신당동      청구e편한세상   84.9600  202308    149500\n",
       "1214948  서울특별시   중구  신당동      청구e편한세상   84.9500  202308    139500\n",
       "1214949  서울특별시   중구  신당동      청구e편한세상   84.9500  202308    139000\n",
       "1214963  서울특별시   중구  흥인동  청계천두산위브더제니스  147.3212  202308    161000\n",
       "1214964  서울특별시   중구  흥인동  청계천두산위브더제니스  124.2215  202308    140000\n",
       "\n",
       "[82126 rows x 7 columns]"
      ]
     },
     "execution_count": 50,
     "metadata": {},
     "output_type": "execute_result"
    }
   ],
   "source": [
    "data[data['거래금액(만원)'] > 1.265000e+05] # ???? 이것도 이상값이 높은 순으로 볼 수 있나?"
   ]
  },
  {
   "cell_type": "markdown",
   "id": "a2940095",
   "metadata": {},
   "source": [
    "이상값이 82126개면 너무 많은데? ???? 이것도 이상값이 높은 순으로 볼 수 있나?"
   ]
  },
  {
   "cell_type": "code",
   "execution_count": 51,
   "id": "9f0c524a",
   "metadata": {},
   "outputs": [
    {
     "name": "stdout",
     "output_type": "stream",
     "text": [
      "<class 'pandas.core.series.Series'>\n",
      "RangeIndex: 1215019 entries, 0 to 1215018\n",
      "Series name: 계약년월\n",
      "Non-Null Count    Dtype \n",
      "--------------    ----- \n",
      "1215019 non-null  object\n",
      "dtypes: object(1)\n",
      "memory usage: 9.3+ MB\n"
     ]
    }
   ],
   "source": [
    "data['계약년월'].info()"
   ]
  },
  {
   "cell_type": "code",
   "execution_count": 52,
   "id": "6a5e5814",
   "metadata": {},
   "outputs": [
    {
     "name": "stdout",
     "output_type": "stream",
     "text": [
      "<class 'pandas.core.frame.DataFrame'>\n",
      "RangeIndex: 55 entries, 0 to 54\n",
      "Data columns (total 2 columns):\n",
      " #   Column  Non-Null Count  Dtype  \n",
      "---  ------  --------------  -----  \n",
      " 0   기준금리    55 non-null     float64\n",
      " 1   기준금리년월  55 non-null     object \n",
      "dtypes: float64(1), object(1)\n",
      "memory usage: 1008.0+ bytes\n"
     ]
    }
   ],
   "source": [
    "base_rate.info()"
   ]
  },
  {
   "cell_type": "code",
   "execution_count": 53,
   "id": "a2fbd52e",
   "metadata": {
    "scrolled": true
   },
   "outputs": [],
   "source": [
    "#pd.merge(data, base_rate, how='outer', on='계약년월')"
   ]
  },
  {
   "cell_type": "code",
   "execution_count": 54,
   "id": "b076a376",
   "metadata": {},
   "outputs": [],
   "source": [
    "#data2 = pd.merge(data, base_rate, how='inner', left_on='금리변경년월', right_on='계약년월')"
   ]
  },
  {
   "cell_type": "code",
   "execution_count": 55,
   "id": "18df7712",
   "metadata": {},
   "outputs": [],
   "source": [
    "#groupby를 통해서 독립변수와 종속변수의 관계 파악\n",
    "#data.groupby(['Pclass'])['Survived'].value_counts(sort=False)\n",
    "#=> Pclass별로 Survived한 사람들의 관계를 파악해보자\n",
    "#data2.groupby([\"Sex\", \"Pclass\"])[\"Fare\"].mean()"
   ]
  },
  {
   "cell_type": "code",
   "execution_count": 56,
   "id": "ee2673f0",
   "metadata": {},
   "outputs": [
    {
     "data": {
      "text/plain": [
       "동\n",
       "가락동     [가락(1차)쌍용아파트, 가락금호아파트, 가락미륭아파트, 가락쌍용(2차), 가락우성...\n",
       "가리봉동                                          [효성, 미래하이츠]\n",
       "가산동     [두산, 덕산, 드림캐슬2차, 삼익, 백운한비치(나), 드림캐슬, 주상복합두산, 백...\n",
       "가양동     [가양2단지(성지), 가양6단지, 가양강나루현대, 가양도시개발9-2단지, 가양우성,...\n",
       "갈월동                                               [두리파크빌]\n",
       "                              ...                        \n",
       "효창동     [아이딜, 효창베네스, 효창한신, 화이트타운, 효창, 효창맨션, 세양청마루, 세인트...\n",
       "후암동     [브라운스톤남산, 후암미주, 신후암, 예빌리지, 남산애지앙, 프리마베라빌, 행남그랜...\n",
       "휘경동     [동양1차, 롯데낙천대, 서울가든, 주공1, 현대, 휘경동일하이빌, 휘경미소지움, ...\n",
       "흑석동     [명수대현대, 우리유앤미, 청호, 한강현대, 흑석동양아파트, 한진리버타운, (191...\n",
       "흥인동           [aaa, 동대문와이즈캐슬, 청계천두산위브더제니스, 동대문솔하임, 위더스하임]\n",
       "Name: 단지명, Length: 337, dtype: object"
      ]
     },
     "execution_count": 56,
     "metadata": {},
     "output_type": "execute_result"
    }
   ],
   "source": [
    "data.groupby(['동'])['단지명'].unique()"
   ]
  },
  {
   "cell_type": "code",
   "execution_count": 57,
   "id": "a02948f9",
   "metadata": {},
   "outputs": [
    {
     "data": {
      "text/html": [
       "<div>\n",
       "<style scoped>\n",
       "    .dataframe tbody tr th:only-of-type {\n",
       "        vertical-align: middle;\n",
       "    }\n",
       "\n",
       "    .dataframe tbody tr th {\n",
       "        vertical-align: top;\n",
       "    }\n",
       "\n",
       "    .dataframe thead th {\n",
       "        text-align: right;\n",
       "    }\n",
       "</style>\n",
       "<table border=\"1\" class=\"dataframe\">\n",
       "  <thead>\n",
       "    <tr style=\"text-align: right;\">\n",
       "      <th></th>\n",
       "      <th>시</th>\n",
       "      <th>동</th>\n",
       "      <th>단지명</th>\n",
       "      <th>전용면적(㎡)</th>\n",
       "      <th>계약년월</th>\n",
       "      <th>거래금액(만원)</th>\n",
       "    </tr>\n",
       "    <tr>\n",
       "      <th>구</th>\n",
       "      <th></th>\n",
       "      <th></th>\n",
       "      <th></th>\n",
       "      <th></th>\n",
       "      <th></th>\n",
       "      <th></th>\n",
       "    </tr>\n",
       "  </thead>\n",
       "  <tbody>\n",
       "    <tr>\n",
       "      <th>강남구</th>\n",
       "      <td>1</td>\n",
       "      <td>14</td>\n",
       "      <td>681</td>\n",
       "      <td>2544</td>\n",
       "      <td>204</td>\n",
       "      <td>3413</td>\n",
       "    </tr>\n",
       "    <tr>\n",
       "      <th>강동구</th>\n",
       "      <td>1</td>\n",
       "      <td>9</td>\n",
       "      <td>507</td>\n",
       "      <td>1630</td>\n",
       "      <td>204</td>\n",
       "      <td>3030</td>\n",
       "    </tr>\n",
       "    <tr>\n",
       "      <th>강북구</th>\n",
       "      <td>1</td>\n",
       "      <td>4</td>\n",
       "      <td>138</td>\n",
       "      <td>489</td>\n",
       "      <td>204</td>\n",
       "      <td>1398</td>\n",
       "    </tr>\n",
       "    <tr>\n",
       "      <th>강서구</th>\n",
       "      <td>1</td>\n",
       "      <td>8</td>\n",
       "      <td>613</td>\n",
       "      <td>1652</td>\n",
       "      <td>204</td>\n",
       "      <td>2508</td>\n",
       "    </tr>\n",
       "    <tr>\n",
       "      <th>관악구</th>\n",
       "      <td>1</td>\n",
       "      <td>3</td>\n",
       "      <td>305</td>\n",
       "      <td>1047</td>\n",
       "      <td>204</td>\n",
       "      <td>1784</td>\n",
       "    </tr>\n",
       "    <tr>\n",
       "      <th>광진구</th>\n",
       "      <td>1</td>\n",
       "      <td>7</td>\n",
       "      <td>231</td>\n",
       "      <td>787</td>\n",
       "      <td>204</td>\n",
       "      <td>1735</td>\n",
       "    </tr>\n",
       "    <tr>\n",
       "      <th>구로구</th>\n",
       "      <td>1</td>\n",
       "      <td>10</td>\n",
       "      <td>691</td>\n",
       "      <td>1310</td>\n",
       "      <td>204</td>\n",
       "      <td>2204</td>\n",
       "    </tr>\n",
       "    <tr>\n",
       "      <th>금천구</th>\n",
       "      <td>1</td>\n",
       "      <td>3</td>\n",
       "      <td>175</td>\n",
       "      <td>519</td>\n",
       "      <td>204</td>\n",
       "      <td>1428</td>\n",
       "    </tr>\n",
       "    <tr>\n",
       "      <th>노원구</th>\n",
       "      <td>1</td>\n",
       "      <td>5</td>\n",
       "      <td>316</td>\n",
       "      <td>829</td>\n",
       "      <td>204</td>\n",
       "      <td>2675</td>\n",
       "    </tr>\n",
       "    <tr>\n",
       "      <th>도봉구</th>\n",
       "      <td>1</td>\n",
       "      <td>4</td>\n",
       "      <td>214</td>\n",
       "      <td>647</td>\n",
       "      <td>204</td>\n",
       "      <td>1738</td>\n",
       "    </tr>\n",
       "    <tr>\n",
       "      <th>동대문구</th>\n",
       "      <td>1</td>\n",
       "      <td>10</td>\n",
       "      <td>314</td>\n",
       "      <td>1054</td>\n",
       "      <td>204</td>\n",
       "      <td>1884</td>\n",
       "    </tr>\n",
       "    <tr>\n",
       "      <th>동작구</th>\n",
       "      <td>1</td>\n",
       "      <td>9</td>\n",
       "      <td>248</td>\n",
       "      <td>989</td>\n",
       "      <td>204</td>\n",
       "      <td>2224</td>\n",
       "    </tr>\n",
       "    <tr>\n",
       "      <th>마포구</th>\n",
       "      <td>1</td>\n",
       "      <td>25</td>\n",
       "      <td>344</td>\n",
       "      <td>1172</td>\n",
       "      <td>204</td>\n",
       "      <td>2426</td>\n",
       "    </tr>\n",
       "    <tr>\n",
       "      <th>서대문구</th>\n",
       "      <td>1</td>\n",
       "      <td>16</td>\n",
       "      <td>314</td>\n",
       "      <td>1147</td>\n",
       "      <td>204</td>\n",
       "      <td>2040</td>\n",
       "    </tr>\n",
       "    <tr>\n",
       "      <th>서초구</th>\n",
       "      <td>1</td>\n",
       "      <td>8</td>\n",
       "      <td>788</td>\n",
       "      <td>2888</td>\n",
       "      <td>204</td>\n",
       "      <td>3337</td>\n",
       "    </tr>\n",
       "    <tr>\n",
       "      <th>성동구</th>\n",
       "      <td>1</td>\n",
       "      <td>17</td>\n",
       "      <td>158</td>\n",
       "      <td>559</td>\n",
       "      <td>204</td>\n",
       "      <td>2079</td>\n",
       "    </tr>\n",
       "    <tr>\n",
       "      <th>성북구</th>\n",
       "      <td>1</td>\n",
       "      <td>30</td>\n",
       "      <td>194</td>\n",
       "      <td>673</td>\n",
       "      <td>204</td>\n",
       "      <td>1983</td>\n",
       "    </tr>\n",
       "    <tr>\n",
       "      <th>송파구</th>\n",
       "      <td>1</td>\n",
       "      <td>13</td>\n",
       "      <td>444</td>\n",
       "      <td>1422</td>\n",
       "      <td>204</td>\n",
       "      <td>3487</td>\n",
       "    </tr>\n",
       "    <tr>\n",
       "      <th>양천구</th>\n",
       "      <td>1</td>\n",
       "      <td>3</td>\n",
       "      <td>488</td>\n",
       "      <td>1558</td>\n",
       "      <td>204</td>\n",
       "      <td>2466</td>\n",
       "    </tr>\n",
       "    <tr>\n",
       "      <th>영등포구</th>\n",
       "      <td>1</td>\n",
       "      <td>30</td>\n",
       "      <td>252</td>\n",
       "      <td>897</td>\n",
       "      <td>204</td>\n",
       "      <td>2414</td>\n",
       "    </tr>\n",
       "    <tr>\n",
       "      <th>용산구</th>\n",
       "      <td>1</td>\n",
       "      <td>29</td>\n",
       "      <td>241</td>\n",
       "      <td>1250</td>\n",
       "      <td>204</td>\n",
       "      <td>2265</td>\n",
       "    </tr>\n",
       "    <tr>\n",
       "      <th>은평구</th>\n",
       "      <td>1</td>\n",
       "      <td>11</td>\n",
       "      <td>538</td>\n",
       "      <td>1650</td>\n",
       "      <td>204</td>\n",
       "      <td>2958</td>\n",
       "    </tr>\n",
       "    <tr>\n",
       "      <th>종로구</th>\n",
       "      <td>1</td>\n",
       "      <td>39</td>\n",
       "      <td>143</td>\n",
       "      <td>566</td>\n",
       "      <td>204</td>\n",
       "      <td>1673</td>\n",
       "    </tr>\n",
       "    <tr>\n",
       "      <th>중구</th>\n",
       "      <td>1</td>\n",
       "      <td>26</td>\n",
       "      <td>146</td>\n",
       "      <td>669</td>\n",
       "      <td>204</td>\n",
       "      <td>1731</td>\n",
       "    </tr>\n",
       "    <tr>\n",
       "      <th>중랑구</th>\n",
       "      <td>1</td>\n",
       "      <td>6</td>\n",
       "      <td>284</td>\n",
       "      <td>940</td>\n",
       "      <td>204</td>\n",
       "      <td>1864</td>\n",
       "    </tr>\n",
       "  </tbody>\n",
       "</table>\n",
       "</div>"
      ],
      "text/plain": [
       "      시   동  단지명  전용면적(㎡)  계약년월  거래금액(만원)\n",
       "구                                        \n",
       "강남구   1  14  681     2544   204      3413\n",
       "강동구   1   9  507     1630   204      3030\n",
       "강북구   1   4  138      489   204      1398\n",
       "강서구   1   8  613     1652   204      2508\n",
       "관악구   1   3  305     1047   204      1784\n",
       "광진구   1   7  231      787   204      1735\n",
       "구로구   1  10  691     1310   204      2204\n",
       "금천구   1   3  175      519   204      1428\n",
       "노원구   1   5  316      829   204      2675\n",
       "도봉구   1   4  214      647   204      1738\n",
       "동대문구  1  10  314     1054   204      1884\n",
       "동작구   1   9  248      989   204      2224\n",
       "마포구   1  25  344     1172   204      2426\n",
       "서대문구  1  16  314     1147   204      2040\n",
       "서초구   1   8  788     2888   204      3337\n",
       "성동구   1  17  158      559   204      2079\n",
       "성북구   1  30  194      673   204      1983\n",
       "송파구   1  13  444     1422   204      3487\n",
       "양천구   1   3  488     1558   204      2466\n",
       "영등포구  1  30  252      897   204      2414\n",
       "용산구   1  29  241     1250   204      2265\n",
       "은평구   1  11  538     1650   204      2958\n",
       "종로구   1  39  143      566   204      1673\n",
       "중구    1  26  146      669   204      1731\n",
       "중랑구   1   6  284      940   204      1864"
      ]
     },
     "execution_count": 57,
     "metadata": {},
     "output_type": "execute_result"
    }
   ],
   "source": [
    "data.groupby('구').nunique()"
   ]
  },
  {
   "cell_type": "markdown",
   "id": "34b0d8c6",
   "metadata": {},
   "source": [
    "방법1 - ID로 만들어라. 방법2 - if문으로 계약년월와 기준금이를 연관해서 만들어라"
   ]
  },
  {
   "cell_type": "code",
   "execution_count": 64,
   "id": "4fcb413a",
   "metadata": {},
   "outputs": [],
   "source": [
    "data['계약년월'] = data['계약년월'].astype(int)"
   ]
  },
  {
   "cell_type": "code",
   "execution_count": 66,
   "id": "eccd3ac0",
   "metadata": {},
   "outputs": [],
   "source": [
    "base_rate['기준금리년월'] = base_rate['기준금리년월'].astype(int)"
   ]
  },
  {
   "cell_type": "code",
   "execution_count": 67,
   "id": "afca20d9",
   "metadata": {},
   "outputs": [
    {
     "name": "stdout",
     "output_type": "stream",
     "text": [
      "<class 'pandas.core.frame.DataFrame'>\n",
      "RangeIndex: 55 entries, 0 to 54\n",
      "Data columns (total 2 columns):\n",
      " #   Column  Non-Null Count  Dtype  \n",
      "---  ------  --------------  -----  \n",
      " 0   기준금리    55 non-null     float64\n",
      " 1   기준금리년월  55 non-null     int32  \n",
      "dtypes: float64(1), int32(1)\n",
      "memory usage: 788.0 bytes\n"
     ]
    }
   ],
   "source": [
    "base_rate.info()"
   ]
  },
  {
   "cell_type": "code",
   "execution_count": 65,
   "id": "0f0c7246",
   "metadata": {
    "scrolled": true
   },
   "outputs": [
    {
     "name": "stdout",
     "output_type": "stream",
     "text": [
      "<class 'pandas.core.frame.DataFrame'>\n",
      "RangeIndex: 1215019 entries, 0 to 1215018\n",
      "Data columns (total 7 columns):\n",
      " #   Column    Non-Null Count    Dtype  \n",
      "---  ------    --------------    -----  \n",
      " 0   시         1215019 non-null  object \n",
      " 1   구         1215019 non-null  object \n",
      " 2   동         1215019 non-null  object \n",
      " 3   단지명       1215019 non-null  object \n",
      " 4   전용면적(㎡)   1215019 non-null  float64\n",
      " 5   계약년월      1215019 non-null  int32  \n",
      " 6   거래금액(만원)  1215019 non-null  int32  \n",
      "dtypes: float64(1), int32(2), object(4)\n",
      "memory usage: 55.6+ MB\n"
     ]
    }
   ],
   "source": [
    "data.info()"
   ]
  },
  {
   "cell_type": "code",
   "execution_count": 60,
   "id": "93ef0dc0",
   "metadata": {
    "scrolled": true
   },
   "outputs": [
    {
     "data": {
      "text/html": [
       "<div>\n",
       "<style scoped>\n",
       "    .dataframe tbody tr th:only-of-type {\n",
       "        vertical-align: middle;\n",
       "    }\n",
       "\n",
       "    .dataframe tbody tr th {\n",
       "        vertical-align: top;\n",
       "    }\n",
       "\n",
       "    .dataframe thead th {\n",
       "        text-align: right;\n",
       "    }\n",
       "</style>\n",
       "<table border=\"1\" class=\"dataframe\">\n",
       "  <thead>\n",
       "    <tr style=\"text-align: right;\">\n",
       "      <th></th>\n",
       "      <th>시</th>\n",
       "      <th>구</th>\n",
       "      <th>동</th>\n",
       "      <th>단지명</th>\n",
       "      <th>전용면적(㎡)</th>\n",
       "      <th>계약년월</th>\n",
       "      <th>거래금액(만원)</th>\n",
       "    </tr>\n",
       "  </thead>\n",
       "  <tbody>\n",
       "    <tr>\n",
       "      <th>0</th>\n",
       "      <td>서울특별시</td>\n",
       "      <td>강남구</td>\n",
       "      <td>개포동</td>\n",
       "      <td>개포6차우성아파트1동~8동</td>\n",
       "      <td>67.28</td>\n",
       "      <td>200601</td>\n",
       "      <td>54500</td>\n",
       "    </tr>\n",
       "    <tr>\n",
       "      <th>1</th>\n",
       "      <td>서울특별시</td>\n",
       "      <td>강남구</td>\n",
       "      <td>개포동</td>\n",
       "      <td>개포6차우성아파트1동~8동</td>\n",
       "      <td>79.97</td>\n",
       "      <td>200601</td>\n",
       "      <td>67000</td>\n",
       "    </tr>\n",
       "    <tr>\n",
       "      <th>2</th>\n",
       "      <td>서울특별시</td>\n",
       "      <td>강남구</td>\n",
       "      <td>개포동</td>\n",
       "      <td>개포6차우성아파트1동~8동</td>\n",
       "      <td>79.97</td>\n",
       "      <td>200601</td>\n",
       "      <td>67500</td>\n",
       "    </tr>\n",
       "    <tr>\n",
       "      <th>3</th>\n",
       "      <td>서울특별시</td>\n",
       "      <td>강남구</td>\n",
       "      <td>개포동</td>\n",
       "      <td>개포우성3차</td>\n",
       "      <td>104.43</td>\n",
       "      <td>200601</td>\n",
       "      <td>73000</td>\n",
       "    </tr>\n",
       "    <tr>\n",
       "      <th>4</th>\n",
       "      <td>서울특별시</td>\n",
       "      <td>강남구</td>\n",
       "      <td>개포동</td>\n",
       "      <td>개포우성3차</td>\n",
       "      <td>104.43</td>\n",
       "      <td>200601</td>\n",
       "      <td>71250</td>\n",
       "    </tr>\n",
       "  </tbody>\n",
       "</table>\n",
       "</div>"
      ],
      "text/plain": [
       "       시    구    동             단지명  전용면적(㎡)    계약년월  거래금액(만원)\n",
       "0  서울특별시  강남구  개포동  개포6차우성아파트1동~8동    67.28  200601     54500\n",
       "1  서울특별시  강남구  개포동  개포6차우성아파트1동~8동    79.97  200601     67000\n",
       "2  서울특별시  강남구  개포동  개포6차우성아파트1동~8동    79.97  200601     67500\n",
       "3  서울특별시  강남구  개포동          개포우성3차   104.43  200601     73000\n",
       "4  서울특별시  강남구  개포동          개포우성3차   104.43  200601     71250"
      ]
     },
     "execution_count": 60,
     "metadata": {},
     "output_type": "execute_result"
    }
   ],
   "source": [
    "data.head()"
   ]
  },
  {
   "cell_type": "code",
   "execution_count": 78,
   "id": "4a5b3254",
   "metadata": {},
   "outputs": [
    {
     "data": {
      "text/plain": [
       "array([200601, 200602, 200603, 200604, 200605, 200606, 200607, 200608,\n",
       "       200609, 200610, 200611, 200612, 200701, 200702, 200703, 200704,\n",
       "       200705, 200706, 200707, 200708, 200709, 200710, 200711, 200712,\n",
       "       200801, 200802, 200803, 200804, 200805, 200806, 200807, 200808,\n",
       "       200809, 200810, 200811, 200812, 200901, 200902, 200903, 200904,\n",
       "       200905, 200906, 200907, 200908, 200909, 200910, 200911, 200912,\n",
       "       201001, 201002, 201003, 201004, 201005, 201006, 201007, 201008,\n",
       "       201009, 201010, 201011, 201012, 201101, 201102, 201103, 201104,\n",
       "       201105, 201106, 201107, 201108, 201109, 201110, 201111, 201112,\n",
       "       201201, 201202, 201203, 201204, 201205, 201206, 201207, 201208,\n",
       "       201209, 201210, 201211, 201212, 201301, 201302, 201303, 201304,\n",
       "       201401, 201402, 201403, 201404, 201405, 201406, 201407, 201408,\n",
       "       201409, 201410, 201411, 201412, 201501, 201502, 201503, 201504,\n",
       "       201505, 201506, 201507, 201508, 201509, 201510, 201511, 201512,\n",
       "       201601, 201602, 201603, 201604, 201605, 201606, 201607, 201608,\n",
       "       201609, 201610, 201611, 201612, 201701, 201702, 201703, 201704,\n",
       "       201705, 201706, 201707, 201708, 201709, 201710, 201711, 201712,\n",
       "       201801, 201802, 201803, 201804, 201805, 201806, 201807, 201808,\n",
       "       201809, 201810, 201811, 201812, 201901, 201902, 201903, 201904,\n",
       "       201905, 201906, 201907, 201908, 201909, 201910, 201911, 201912,\n",
       "       202001, 202002, 202003, 202004, 202005, 202006, 202007, 202008,\n",
       "       202009, 202010, 202011, 202012, 202101, 202102, 202103, 202104,\n",
       "       202105, 202106, 202107, 202108, 202109, 202110, 202111, 202112,\n",
       "       202201, 202202, 202203, 202204, 202205, 202206, 202207, 202208,\n",
       "       202209, 202210, 202211, 202212, 202301, 202302, 202303, 202304,\n",
       "       202305, 202306, 202307, 202308])"
      ]
     },
     "execution_count": 78,
     "metadata": {},
     "output_type": "execute_result"
    }
   ],
   "source": [
    "data['계약년월'].unique()"
   ]
  },
  {
   "cell_type": "code",
   "execution_count": 98,
   "id": "8ed7f2f7",
   "metadata": {},
   "outputs": [
    {
     "data": {
      "text/html": [
       "<div>\n",
       "<style scoped>\n",
       "    .dataframe tbody tr th:only-of-type {\n",
       "        vertical-align: middle;\n",
       "    }\n",
       "\n",
       "    .dataframe tbody tr th {\n",
       "        vertical-align: top;\n",
       "    }\n",
       "\n",
       "    .dataframe thead th {\n",
       "        text-align: right;\n",
       "    }\n",
       "</style>\n",
       "<table border=\"1\" class=\"dataframe\">\n",
       "  <thead>\n",
       "    <tr style=\"text-align: right;\">\n",
       "      <th></th>\n",
       "      <th>기준금리</th>\n",
       "      <th>기준금리년월</th>\n",
       "    </tr>\n",
       "  </thead>\n",
       "  <tbody>\n",
       "    <tr>\n",
       "      <th>0</th>\n",
       "      <td>3.50</td>\n",
       "      <td>202301</td>\n",
       "    </tr>\n",
       "    <tr>\n",
       "      <th>1</th>\n",
       "      <td>3.25</td>\n",
       "      <td>202211</td>\n",
       "    </tr>\n",
       "    <tr>\n",
       "      <th>2</th>\n",
       "      <td>3.00</td>\n",
       "      <td>202210</td>\n",
       "    </tr>\n",
       "    <tr>\n",
       "      <th>3</th>\n",
       "      <td>2.50</td>\n",
       "      <td>202208</td>\n",
       "    </tr>\n",
       "    <tr>\n",
       "      <th>4</th>\n",
       "      <td>2.25</td>\n",
       "      <td>202207</td>\n",
       "    </tr>\n",
       "    <tr>\n",
       "      <th>5</th>\n",
       "      <td>1.75</td>\n",
       "      <td>202205</td>\n",
       "    </tr>\n",
       "    <tr>\n",
       "      <th>6</th>\n",
       "      <td>1.50</td>\n",
       "      <td>202204</td>\n",
       "    </tr>\n",
       "    <tr>\n",
       "      <th>7</th>\n",
       "      <td>1.25</td>\n",
       "      <td>202201</td>\n",
       "    </tr>\n",
       "    <tr>\n",
       "      <th>8</th>\n",
       "      <td>1.00</td>\n",
       "      <td>202111</td>\n",
       "    </tr>\n",
       "    <tr>\n",
       "      <th>9</th>\n",
       "      <td>0.75</td>\n",
       "      <td>202108</td>\n",
       "    </tr>\n",
       "    <tr>\n",
       "      <th>10</th>\n",
       "      <td>0.50</td>\n",
       "      <td>202005</td>\n",
       "    </tr>\n",
       "    <tr>\n",
       "      <th>11</th>\n",
       "      <td>0.75</td>\n",
       "      <td>202003</td>\n",
       "    </tr>\n",
       "    <tr>\n",
       "      <th>12</th>\n",
       "      <td>1.25</td>\n",
       "      <td>201910</td>\n",
       "    </tr>\n",
       "    <tr>\n",
       "      <th>13</th>\n",
       "      <td>1.50</td>\n",
       "      <td>201907</td>\n",
       "    </tr>\n",
       "    <tr>\n",
       "      <th>14</th>\n",
       "      <td>1.75</td>\n",
       "      <td>201811</td>\n",
       "    </tr>\n",
       "    <tr>\n",
       "      <th>15</th>\n",
       "      <td>1.50</td>\n",
       "      <td>201711</td>\n",
       "    </tr>\n",
       "    <tr>\n",
       "      <th>16</th>\n",
       "      <td>1.25</td>\n",
       "      <td>201606</td>\n",
       "    </tr>\n",
       "    <tr>\n",
       "      <th>17</th>\n",
       "      <td>1.50</td>\n",
       "      <td>201506</td>\n",
       "    </tr>\n",
       "    <tr>\n",
       "      <th>18</th>\n",
       "      <td>1.75</td>\n",
       "      <td>201503</td>\n",
       "    </tr>\n",
       "    <tr>\n",
       "      <th>19</th>\n",
       "      <td>2.00</td>\n",
       "      <td>201410</td>\n",
       "    </tr>\n",
       "    <tr>\n",
       "      <th>20</th>\n",
       "      <td>2.25</td>\n",
       "      <td>201408</td>\n",
       "    </tr>\n",
       "    <tr>\n",
       "      <th>21</th>\n",
       "      <td>2.50</td>\n",
       "      <td>201305</td>\n",
       "    </tr>\n",
       "    <tr>\n",
       "      <th>22</th>\n",
       "      <td>2.75</td>\n",
       "      <td>201210</td>\n",
       "    </tr>\n",
       "    <tr>\n",
       "      <th>23</th>\n",
       "      <td>3.00</td>\n",
       "      <td>201207</td>\n",
       "    </tr>\n",
       "    <tr>\n",
       "      <th>24</th>\n",
       "      <td>3.25</td>\n",
       "      <td>201106</td>\n",
       "    </tr>\n",
       "    <tr>\n",
       "      <th>25</th>\n",
       "      <td>3.00</td>\n",
       "      <td>201103</td>\n",
       "    </tr>\n",
       "    <tr>\n",
       "      <th>26</th>\n",
       "      <td>2.75</td>\n",
       "      <td>201101</td>\n",
       "    </tr>\n",
       "    <tr>\n",
       "      <th>27</th>\n",
       "      <td>2.50</td>\n",
       "      <td>201011</td>\n",
       "    </tr>\n",
       "    <tr>\n",
       "      <th>28</th>\n",
       "      <td>2.25</td>\n",
       "      <td>201007</td>\n",
       "    </tr>\n",
       "    <tr>\n",
       "      <th>29</th>\n",
       "      <td>2.00</td>\n",
       "      <td>200902</td>\n",
       "    </tr>\n",
       "    <tr>\n",
       "      <th>30</th>\n",
       "      <td>2.50</td>\n",
       "      <td>200901</td>\n",
       "    </tr>\n",
       "    <tr>\n",
       "      <th>31</th>\n",
       "      <td>3.00</td>\n",
       "      <td>200812</td>\n",
       "    </tr>\n",
       "    <tr>\n",
       "      <th>32</th>\n",
       "      <td>4.00</td>\n",
       "      <td>200811</td>\n",
       "    </tr>\n",
       "    <tr>\n",
       "      <th>33</th>\n",
       "      <td>4.25</td>\n",
       "      <td>200810</td>\n",
       "    </tr>\n",
       "    <tr>\n",
       "      <th>34</th>\n",
       "      <td>5.00</td>\n",
       "      <td>200810</td>\n",
       "    </tr>\n",
       "    <tr>\n",
       "      <th>35</th>\n",
       "      <td>5.25</td>\n",
       "      <td>200808</td>\n",
       "    </tr>\n",
       "    <tr>\n",
       "      <th>36</th>\n",
       "      <td>5.00</td>\n",
       "      <td>200708</td>\n",
       "    </tr>\n",
       "    <tr>\n",
       "      <th>37</th>\n",
       "      <td>4.75</td>\n",
       "      <td>200707</td>\n",
       "    </tr>\n",
       "    <tr>\n",
       "      <th>38</th>\n",
       "      <td>4.50</td>\n",
       "      <td>200608</td>\n",
       "    </tr>\n",
       "    <tr>\n",
       "      <th>39</th>\n",
       "      <td>4.25</td>\n",
       "      <td>200606</td>\n",
       "    </tr>\n",
       "    <tr>\n",
       "      <th>40</th>\n",
       "      <td>4.00</td>\n",
       "      <td>200602</td>\n",
       "    </tr>\n",
       "    <tr>\n",
       "      <th>41</th>\n",
       "      <td>3.75</td>\n",
       "      <td>200512</td>\n",
       "    </tr>\n",
       "    <tr>\n",
       "      <th>42</th>\n",
       "      <td>3.50</td>\n",
       "      <td>200510</td>\n",
       "    </tr>\n",
       "    <tr>\n",
       "      <th>43</th>\n",
       "      <td>3.25</td>\n",
       "      <td>200411</td>\n",
       "    </tr>\n",
       "    <tr>\n",
       "      <th>44</th>\n",
       "      <td>3.50</td>\n",
       "      <td>200408</td>\n",
       "    </tr>\n",
       "    <tr>\n",
       "      <th>45</th>\n",
       "      <td>3.75</td>\n",
       "      <td>200307</td>\n",
       "    </tr>\n",
       "    <tr>\n",
       "      <th>46</th>\n",
       "      <td>4.00</td>\n",
       "      <td>200305</td>\n",
       "    </tr>\n",
       "    <tr>\n",
       "      <th>47</th>\n",
       "      <td>4.25</td>\n",
       "      <td>200205</td>\n",
       "    </tr>\n",
       "    <tr>\n",
       "      <th>48</th>\n",
       "      <td>4.00</td>\n",
       "      <td>200109</td>\n",
       "    </tr>\n",
       "    <tr>\n",
       "      <th>49</th>\n",
       "      <td>4.50</td>\n",
       "      <td>200108</td>\n",
       "    </tr>\n",
       "  </tbody>\n",
       "</table>\n",
       "</div>"
      ],
      "text/plain": [
       "    기준금리  기준금리년월\n",
       "0   3.50  202301\n",
       "1   3.25  202211\n",
       "2   3.00  202210\n",
       "3   2.50  202208\n",
       "4   2.25  202207\n",
       "5   1.75  202205\n",
       "6   1.50  202204\n",
       "7   1.25  202201\n",
       "8   1.00  202111\n",
       "9   0.75  202108\n",
       "10  0.50  202005\n",
       "11  0.75  202003\n",
       "12  1.25  201910\n",
       "13  1.50  201907\n",
       "14  1.75  201811\n",
       "15  1.50  201711\n",
       "16  1.25  201606\n",
       "17  1.50  201506\n",
       "18  1.75  201503\n",
       "19  2.00  201410\n",
       "20  2.25  201408\n",
       "21  2.50  201305\n",
       "22  2.75  201210\n",
       "23  3.00  201207\n",
       "24  3.25  201106\n",
       "25  3.00  201103\n",
       "26  2.75  201101\n",
       "27  2.50  201011\n",
       "28  2.25  201007\n",
       "29  2.00  200902\n",
       "30  2.50  200901\n",
       "31  3.00  200812\n",
       "32  4.00  200811\n",
       "33  4.25  200810\n",
       "34  5.00  200810\n",
       "35  5.25  200808\n",
       "36  5.00  200708\n",
       "37  4.75  200707\n",
       "38  4.50  200608\n",
       "39  4.25  200606\n",
       "40  4.00  200602\n",
       "41  3.75  200512\n",
       "42  3.50  200510\n",
       "43  3.25  200411\n",
       "44  3.50  200408\n",
       "45  3.75  200307\n",
       "46  4.00  200305\n",
       "47  4.25  200205\n",
       "48  4.00  200109\n",
       "49  4.50  200108"
      ]
     },
     "execution_count": 98,
     "metadata": {},
     "output_type": "execute_result"
    }
   ],
   "source": [
    "base_rate.head(50) # 5.00 200810 이 200809로 바껴야 해 index  34번 "
   ]
  },
  {
   "cell_type": "code",
   "execution_count": 110,
   "id": "4631a2f5",
   "metadata": {},
   "outputs": [],
   "source": [
    "def interest_rate(x):\n",
    "    if x >= 202301:\n",
    "        return 202301\n",
    "    elif 202211 <= x < 202301:\n",
    "        return 202211\n",
    "    elif x == 202210:\n",
    "        return 202210\n",
    "    elif 202208 <= x < 202210:\n",
    "        return 202208\n",
    "    elif x == 202207:\n",
    "        return 202207\n",
    "    elif 202205 <= x < 202207:\n",
    "        return 202205\n",
    "    elif x == 202204:\n",
    "        return 202204\n",
    "    elif 202201 <= x < 202204:\n",
    "        return 202201\n",
    "    elif 202111 <= x < 202201:\n",
    "        return 202111\n",
    "    elif 202108 <= x < 202111:\n",
    "        return 202108\n",
    "    elif 202005 <= x < 202108:\n",
    "        return 202005\n",
    "    elif 202003 <= x < 202005:\n",
    "        return 202003\n",
    "    elif 201910 <= x < 202003:\n",
    "        return 201910\n",
    "    elif 201907 <= x < 201910:\n",
    "        return 201907\n",
    "    elif 201811 <= x < 201907:\n",
    "        return 201811\n",
    "    elif 201711 <= x < 201811:\n",
    "        return 201711\n",
    "    elif 201606 <= x < 201711:\n",
    "        return 201606\n",
    "    elif 201506 <= x < 201606:\n",
    "        return 201506\n",
    "    elif 201503 <= x < 201506:\n",
    "        return 201503\n",
    "    elif 201410 <= x < 201503:\n",
    "        return 201410\n",
    "    elif 201408 <= x < 201410:\n",
    "        return 201408\n",
    "    elif 201305 <= x < 201408:\n",
    "        return 201305\n",
    "    elif 201210 <= x < 201305:\n",
    "        return 201210\n",
    "    elif 201106 <= x < 201210:\n",
    "        return 201106\n",
    "    elif 201103 <= x < 201106:\n",
    "        return 201103\n",
    "    elif 201101 <= x < 201103:\n",
    "        return 201101\n",
    "    elif 201011 <= x < 201101:\n",
    "        return 201011\n",
    "    elif 201007 <= x < 201011:\n",
    "        return 201007\n",
    "    elif 200902 <= x < 201007:\n",
    "        return 200902\n",
    "    elif x == 200901:\n",
    "        return 200901\n",
    "    elif x == 200812:\n",
    "        return 200812\n",
    "    elif x == 200811:\n",
    "        return 200811\n",
    "    elif x == 200810:\n",
    "        return 200810\n",
    "    elif x == 200809:\n",
    "        return 200809\n",
    "    elif x == 200808:\n",
    "        return 200808\n",
    "    elif 200708 <= x < 200808:\n",
    "        return 200708\n",
    "    elif x == 200707:\n",
    "        return 200707\n",
    "    elif 200606 <= x < 200707:\n",
    "        return 200608\n",
    "    elif 200606 <= x < 200608:\n",
    "        return 200606\n",
    "    elif 200602 <= x < 200606:\n",
    "        return 200602\n",
    "    elif 200512 <= x < 200602:\n",
    "        return 200512\n",
    "    elif 200411 <= x < 200512:\n",
    "        return 200411\n",
    "    elif 200408 <= x < 200411:\n",
    "        return 200408\n",
    "    elif 200307 <= x < 200408:\n",
    "        return 200307\n",
    "    elif 200305 <= x < 200307:\n",
    "        return 200305\n",
    "    elif 200205 <= x < 200305:\n",
    "        return 200205\n",
    "    elif 200109 <= x < 200205:\n",
    "        return 200109\n",
    "    elif x <= 200108:\n",
    "        return 200108"
   ]
  },
  {
   "cell_type": "code",
   "execution_count": 111,
   "id": "8d72cee8",
   "metadata": {
    "scrolled": true
   },
   "outputs": [],
   "source": [
    "#data['age'] = data['age'].apply(age_dist)\n",
    "data['계약년월'] = data['계약년월'].apply(interest_rate)"
   ]
  },
  {
   "cell_type": "code",
   "execution_count": 112,
   "id": "03df5ebf",
   "metadata": {
    "scrolled": true
   },
   "outputs": [
    {
     "data": {
      "text/plain": [
       "0          200512\n",
       "1          200512\n",
       "2          200512\n",
       "3          200512\n",
       "4          200512\n",
       "            ...  \n",
       "1215014    202301\n",
       "1215015    202301\n",
       "1215016    202301\n",
       "1215017    202301\n",
       "1215018    202301\n",
       "Name: 계약년월, Length: 1215019, dtype: int64"
      ]
     },
     "execution_count": 112,
     "metadata": {},
     "output_type": "execute_result"
    }
   ],
   "source": [
    "data['계약년월']"
   ]
  },
  {
   "cell_type": "markdown",
   "id": "9f4eb937",
   "metadata": {},
   "source": [
    "* base_rate에서  # 5.00 200810 이 200809로 바껴야 해 index  34번 \n",
    "* 나스닥지수 분석을 해보자!"
   ]
  },
  {
   "cell_type": "code",
   "execution_count": 116,
   "id": "51adfa0d",
   "metadata": {},
   "outputs": [
    {
     "data": {
      "text/plain": [
       "계약년월\n",
       "201606    158106\n",
       "201506    103808\n",
       "200608    103629\n",
       "201711     94972\n",
       "202005     92937\n",
       "200902     89468\n",
       "200708     75451\n",
       "201106     56205\n",
       "201910     47657\n",
       "201305     46208\n",
       "201410     40084\n",
       "200602     37989\n",
       "201503     37597\n",
       "201210     34240\n",
       "202301     24446\n",
       "201811     23239\n",
       "201907     22485\n",
       "201408     18810\n",
       "201103     13283\n",
       "201101     13205\n",
       "201011     12684\n",
       "201007     12251\n",
       "202108      9309\n",
       "202003      7808\n",
       "200512      5856\n",
       "200707      5766\n",
       "200901      3778\n",
       "202201      3503\n",
       "202205      2989\n",
       "202111      2623\n",
       "200808      2386\n",
       "200809      1849\n",
       "202204      1840\n",
       "202211      1672\n",
       "200812      1523\n",
       "200810      1519\n",
       "202208      1414\n",
       "200811      1163\n",
       "202207       690\n",
       "202210       577\n",
       "Name: count, dtype: int64"
      ]
     },
     "execution_count": 116,
     "metadata": {},
     "output_type": "execute_result"
    }
   ],
   "source": [
    "data['계약년월'].value_counts(ascending=False)"
   ]
  }
 ],
 "metadata": {
  "kernelspec": {
   "display_name": "testenv",
   "language": "python",
   "name": "testenv"
  },
  "language_info": {
   "codemirror_mode": {
    "name": "ipython",
    "version": 3
   },
   "file_extension": ".py",
   "mimetype": "text/x-python",
   "name": "python",
   "nbconvert_exporter": "python",
   "pygments_lexer": "ipython3",
   "version": "3.8.17"
  }
 },
 "nbformat": 4,
 "nbformat_minor": 5
}
