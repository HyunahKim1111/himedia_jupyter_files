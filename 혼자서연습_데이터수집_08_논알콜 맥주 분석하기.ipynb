{
 "cells": [
  {
   "cell_type": "code",
   "execution_count": 1,
   "id": "ed2aad06",
   "metadata": {},
   "outputs": [
    {
     "ename": "ModuleNotFoundError",
     "evalue": "No module named 'tensorflow'",
     "output_type": "error",
     "traceback": [
      "\u001b[1;31m---------------------------------------------------------------------------\u001b[0m",
      "\u001b[1;31mModuleNotFoundError\u001b[0m                       Traceback (most recent call last)",
      "Cell \u001b[1;32mIn[1], line 1\u001b[0m\n\u001b[1;32m----> 1\u001b[0m \u001b[38;5;28;01mfrom\u001b[39;00m \u001b[38;5;21;01mtensorflow\u001b[39;00m\u001b[38;5;21;01m.\u001b[39;00m\u001b[38;5;21;01mkeras\u001b[39;00m\u001b[38;5;21;01m.\u001b[39;00m\u001b[38;5;21;01mpreprocessing\u001b[39;00m\u001b[38;5;21;01m.\u001b[39;00m\u001b[38;5;21;01mtext\u001b[39;00m \u001b[38;5;28;01mimport\u001b[39;00m Tokenizer, text_to_word_sequence\n\u001b[0;32m      2\u001b[0m \u001b[38;5;28;01mfrom\u001b[39;00m \u001b[38;5;21;01mtensorflow\u001b[39;00m\u001b[38;5;21;01m.\u001b[39;00m\u001b[38;5;21;01mkeras\u001b[39;00m\u001b[38;5;21;01m.\u001b[39;00m\u001b[38;5;21;01mpreprocessing\u001b[39;00m\u001b[38;5;21;01m.\u001b[39;00m\u001b[38;5;21;01msequence\u001b[39;00m \u001b[38;5;28;01mimport\u001b[39;00m pad_sequences\n\u001b[0;32m      3\u001b[0m \u001b[38;5;28;01mfrom\u001b[39;00m \u001b[38;5;21;01mtensorflow\u001b[39;00m\u001b[38;5;21;01m.\u001b[39;00m\u001b[38;5;21;01mkeras\u001b[39;00m\u001b[38;5;21;01m.\u001b[39;00m\u001b[38;5;21;01mmodels\u001b[39;00m \u001b[38;5;28;01mimport\u001b[39;00m Sequential\n",
      "\u001b[1;31mModuleNotFoundError\u001b[0m: No module named 'tensorflow'"
     ]
    }
   ],
   "source": [
    "from tensorflow.keras.preprocessing.text import Tokenizer, text_to_word_sequence\n",
    "from tensorflow.keras.preprocessing.sequence import pad_sequences\n",
    "from tensorflow.keras.models import Sequential\n",
    "from tensorflow.keras.layers import Dense, Flatten, Embedding\n",
    "from tensorflow.keras.utils import to_categorical\n",
    "import pandas as pd"
   ]
  },
  {
   "cell_type": "code",
   "execution_count": 5,
   "id": "23f5d46f",
   "metadata": {},
   "outputs": [],
   "source": [
    "import pandas as pd\n",
    "data = pd.read_csv(\"./data/team_project/non_alcoh_beers_20_final.csv\")"
   ]
  },
  {
   "cell_type": "code",
   "execution_count": null,
   "id": "e1049e2c",
   "metadata": {
    "scrolled": false
   },
   "outputs": [],
   "source": [
    "data.head()"
   ]
  },
  {
   "cell_type": "markdown",
   "id": "6775f5e9",
   "metadata": {},
   "source": [
    "* 불용어사전"
   ]
  },
  {
   "cell_type": "code",
   "execution_count": null,
   "id": "a6debe0e",
   "metadata": {},
   "outputs": [],
   "source": [
    "stopwords = pd.read_csv(\"https://raw.githubusercontent.com/haram4th/ablearn/main/%ED%95%9C%EA%B5%AD%EC%96%B4%EB%B6%88%EC%9A%A9%EC%96%B4100.txt\", header=None, sep='\\t')"
   ]
  },
  {
   "cell_type": "code",
   "execution_count": null,
   "id": "c6888787",
   "metadata": {},
   "outputs": [],
   "source": [
    "stopwords = list(stopwords[0])"
   ]
  },
  {
   "cell_type": "code",
   "execution_count": null,
   "id": "b536ad20",
   "metadata": {},
   "outputs": [],
   "source": [
    "stopwords.append(['ㅂ', 'ㅁ','ㅋ','ㅈ','ㄴ','ㅌ','ㄷ','ㅇ','ㅊ','ㄱ','ㄹ','ㅍ','ㅅ','ㅎ','ㅠ','ㅛ','ㅗ','ㅜ','ㅕ','ㅓ','ㅡ','ㅑ','ㅏ'\\\n",
    "                 'ㅐ','ㅣ','ㅔ',',','.','알콜','맥주','맛','맥주맛'])"
   ]
  },
  {
   "cell_type": "code",
   "execution_count": null,
   "id": "32d01f73",
   "metadata": {},
   "outputs": [],
   "source": [
    "data2 = pd.read_csv(\"./data/team_project/non_alcoh_beers_20_ubunto.csv\")"
   ]
  },
  {
   "cell_type": "code",
   "execution_count": null,
   "id": "bddde7f1",
   "metadata": {},
   "outputs": [],
   "source": [
    "data2.head()"
   ]
  },
  {
   "cell_type": "code",
   "execution_count": null,
   "id": "4a4d83f3",
   "metadata": {},
   "outputs": [],
   "source": [
    "docs = data2['리뷰내용']"
   ]
  },
  {
   "cell_type": "code",
   "execution_count": null,
   "id": "7e7d6d84",
   "metadata": {},
   "outputs": [],
   "source": [
    "# 문장 토큰화 하기\n",
    "token = Tokenizer(lower=False)\n",
    "token.fit_on_texts(docs)\n",
    "print(token.word_index)"
   ]
  },
  {
   "cell_type": "code",
   "execution_count": null,
   "id": "55707dea",
   "metadata": {},
   "outputs": [],
   "source": [
    "# 단어를 벡터로 변환\n",
    "vectorized = token.texts_to_sequences(docs)"
   ]
  },
  {
   "cell_type": "code",
   "execution_count": null,
   "id": "fc6a63b1",
   "metadata": {},
   "outputs": [],
   "source": [
    "vectorized"
   ]
  },
  {
   "cell_type": "code",
   "execution_count": null,
   "id": "bd7d39da",
   "metadata": {},
   "outputs": [],
   "source": [
    "# chatGPT에 물어본 가장 긴 리스트 길이 찾는 법.\n",
    "max_len = max (len(i) for i in vectorized)\n",
    "print(\"가장 긴 하위 리스트의 길이: \", max_len)"
   ]
  },
  {
   "cell_type": "code",
   "execution_count": null,
   "id": "19f62fbe",
   "metadata": {
    "scrolled": true
   },
   "outputs": [],
   "source": [
    "# 패딩 추가, pad_sequences(데이터, 가장 긴 문장의 길이)\n",
    "padded_vectorized = pad_sequences(vectorized, 18)\n",
    "print(\"패딩 결과\", padded_vectorized)"
   ]
  },
  {
   "cell_type": "code",
   "execution_count": null,
   "id": "0a5d1630",
   "metadata": {},
   "outputs": [],
   "source": [
    "# 임베딩에 입력된 단어의 수 지정\n",
    "word_size = len(token.word_index) + 1"
   ]
  },
  {
   "cell_type": "code",
   "execution_count": null,
   "id": "03099a1d",
   "metadata": {},
   "outputs": [],
   "source": [
    "word_size"
   ]
  },
  {
   "cell_type": "code",
   "execution_count": null,
   "id": "83435e29",
   "metadata": {},
   "outputs": [],
   "source": [
    "model = Sequential()\n",
    "model.add(Embedding(word_size, 8, input_length=18))\n",
    "model.add(Flatten())\n",
    "model.add(Dense(1, activation=))"
   ]
  },
  {
   "cell_type": "code",
   "execution_count": null,
   "id": "2ca32764",
   "metadata": {},
   "outputs": [],
   "source": [
    "\n",
    "# 단어 임베딩을 포함해서 딥러닝 모델 생성\n",
    "model = Sequential()\n",
    "model.add(Embedding(word_size, 8, input_length=4))\n",
    "model.add(Flatten())\n",
    "model.add(Dense(1, activation='sigmoid'))\n",
    "model.summary()\n",
    "\n",
    "model.compile(loss='binary_crossentropy', optimizer='adam', metrics=['accuracy'])\n",
    "history = model.fit(padded_x, classes, epochs=20)\n",
    "print('Accuracy: ',model.evaluate(padded_x, classes)[1])"
   ]
  },
  {
   "cell_type": "code",
   "execution_count": null,
   "id": "f6039b94",
   "metadata": {},
   "outputs": [],
   "source": []
  },
  {
   "cell_type": "code",
   "execution_count": null,
   "id": "cca2b1f1",
   "metadata": {},
   "outputs": [],
   "source": [
    "data2"
   ]
  },
  {
   "cell_type": "code",
   "execution_count": null,
   "id": "7deff0d8",
   "metadata": {},
   "outputs": [],
   "source": [
    "import string\n",
    "string.punctuation"
   ]
  },
  {
   "cell_type": "code",
   "execution_count": null,
   "id": "be2b1067",
   "metadata": {},
   "outputs": [],
   "source": [
    "# data['description'] = data['description'].apply(lambda x: ''.join([i for i in x if i not in string.punctuation]))"
   ]
  },
  {
   "cell_type": "code",
   "execution_count": null,
   "id": "3c4bf73d",
   "metadata": {},
   "outputs": [],
   "source": []
  },
  {
   "cell_type": "code",
   "execution_count": null,
   "id": "919b3e7f",
   "metadata": {},
   "outputs": [],
   "source": [
    "pip install gensim"
   ]
  },
  {
   "cell_type": "code",
   "execution_count": null,
   "id": "6b4ee68e",
   "metadata": {},
   "outputs": [],
   "source": [
    "from gensim.models import Word2Vec"
   ]
  },
  {
   "cell_type": "code",
   "execution_count": null,
   "id": "fa4d4954",
   "metadata": {},
   "outputs": [],
   "source": [
    "data2['리뷰내용2'].head(10)"
   ]
  },
  {
   "cell_type": "code",
   "execution_count": null,
   "id": "99b64e47",
   "metadata": {},
   "outputs": [],
   "source": [
    "model = Word2Vec(data2['리뷰내용'], window=5, min_count=5, workers=8, sg=0)"
   ]
  },
  {
   "cell_type": "code",
   "execution_count": null,
   "id": "e125f605",
   "metadata": {},
   "outputs": [],
   "source": [
    "model_test = model.wv.most_similar(\"맛\")\n",
    "print(model_test)"
   ]
  },
  {
   "cell_type": "code",
   "execution_count": null,
   "id": "0ac4c2f7",
   "metadata": {},
   "outputs": [],
   "source": [
    "model_test = model.wv.most_similar(\"향\")\n",
    "print(model_test)"
   ]
  },
  {
   "cell_type": "code",
   "execution_count": null,
   "id": "482dbb2e",
   "metadata": {
    "scrolled": true
   },
   "outputs": [],
   "source": [
    "model_test = model.wv.most_similar(\"구매\")\n",
    "print(model_test)"
   ]
  },
  {
   "cell_type": "markdown",
   "id": "8306d52a",
   "metadata": {},
   "source": [
    "* 리뷰에 분석할만한 단어가 많이 없다."
   ]
  },
  {
   "cell_type": "markdown",
   "id": "5e3919e4",
   "metadata": {},
   "source": [
    "# 데이터 베이스에 자료 저장하기\n",
    "* pandas 데이터 프레임을 DB에 바로 저장하기"
   ]
  },
  {
   "cell_type": "code",
   "execution_count": null,
   "id": "fa33804f",
   "metadata": {},
   "outputs": [],
   "source": [
    "data.head()"
   ]
  },
  {
   "cell_type": "code",
   "execution_count": 3,
   "id": "e6e0c399",
   "metadata": {},
   "outputs": [
    {
     "ename": "NameError",
     "evalue": "name 'data' is not defined",
     "output_type": "error",
     "traceback": [
      "\u001b[1;31m---------------------------------------------------------------------------\u001b[0m",
      "\u001b[1;31mNameError\u001b[0m                                 Traceback (most recent call last)",
      "Cell \u001b[1;32mIn[3], line 1\u001b[0m\n\u001b[1;32m----> 1\u001b[0m \u001b[43mdata\u001b[49m\u001b[38;5;241m.\u001b[39minfo()\n",
      "\u001b[1;31mNameError\u001b[0m: name 'data' is not defined"
     ]
    }
   ],
   "source": [
    "data.info()"
   ]
  },
  {
   "cell_type": "code",
   "execution_count": 6,
   "id": "7d443822",
   "metadata": {},
   "outputs": [],
   "source": [
    "import sqlite3"
   ]
  },
  {
   "cell_type": "code",
   "execution_count": null,
   "id": "2bbb1668",
   "metadata": {},
   "outputs": [],
   "source": [
    "con = sqlite3.connect(\"sqlite3_non_alcoh_beer3.db\")\n",
    "cursor = con.cursor()"
   ]
  },
  {
   "cell_type": "code",
   "execution_count": null,
   "id": "15226bce",
   "metadata": {},
   "outputs": [],
   "source": [
    "data.columns"
   ]
  },
  {
   "cell_type": "code",
   "execution_count": null,
   "id": "361ffdb9",
   "metadata": {},
   "outputs": [],
   "source": [
    "cursor.execute(\"CREATE TABLE IF NOT EXISTS non_alcoh_beer('제품명', '가격', '별점', '리뷰내용', '리뷰날짜')\")\n",
    "con.commit()"
   ]
  },
  {
   "cell_type": "code",
   "execution_count": null,
   "id": "4ad0b377",
   "metadata": {},
   "outputs": [],
   "source": [
    "data['제품명'] = data['제품명'].apply(str)"
   ]
  },
  {
   "cell_type": "code",
   "execution_count": null,
   "id": "81adf949",
   "metadata": {},
   "outputs": [],
   "source": [
    "data.to_sql('non_alcoh_beer', con, if_exists='append', index=False)"
   ]
  },
  {
   "cell_type": "code",
   "execution_count": null,
   "id": "9cdd9ff0",
   "metadata": {},
   "outputs": [],
   "source": [
    "cursor.execute(\n",
    "    '''\n",
    "    SELECT * FROM non_alcoh_beer limit 10;\n",
    "    ''')\n",
    "for row in cursor.fetchall():\n",
    "    print(row)"
   ]
  },
  {
   "cell_type": "markdown",
   "id": "40c64730",
   "metadata": {},
   "source": [
    "# mysql을 이용하는 방법"
   ]
  },
  {
   "cell_type": "code",
   "execution_count": 10,
   "id": "5b0866b4",
   "metadata": {},
   "outputs": [
    {
     "data": {
      "text/html": [
       "<div>\n",
       "<style scoped>\n",
       "    .dataframe tbody tr th:only-of-type {\n",
       "        vertical-align: middle;\n",
       "    }\n",
       "\n",
       "    .dataframe tbody tr th {\n",
       "        vertical-align: top;\n",
       "    }\n",
       "\n",
       "    .dataframe thead th {\n",
       "        text-align: right;\n",
       "    }\n",
       "</style>\n",
       "<table border=\"1\" class=\"dataframe\">\n",
       "  <thead>\n",
       "    <tr style=\"text-align: right;\">\n",
       "      <th></th>\n",
       "      <th>제품명</th>\n",
       "      <th>가격</th>\n",
       "      <th>별점</th>\n",
       "      <th>리뷰내용</th>\n",
       "      <th>리뷰날짜</th>\n",
       "    </tr>\n",
       "  </thead>\n",
       "  <tbody>\n",
       "    <tr>\n",
       "      <th>0</th>\n",
       "      <td>논알콜 코젤다크(무알콜맥주) 500ML</td>\n",
       "      <td>2200</td>\n",
       "      <td>4.7</td>\n",
       "      <td>편하게 잘 구매했어요</td>\n",
       "      <td>2023.11.13</td>\n",
       "    </tr>\n",
       "    <tr>\n",
       "      <th>1</th>\n",
       "      <td>논알콜 코젤다크(무알콜맥주) 500ML</td>\n",
       "      <td>2200</td>\n",
       "      <td>4.7</td>\n",
       "      <td>논알코올인데 맛있대요.</td>\n",
       "      <td>2023.11.13</td>\n",
       "    </tr>\n",
       "    <tr>\n",
       "      <th>2</th>\n",
       "      <td>논알콜 코젤다크(무알콜맥주) 500ML</td>\n",
       "      <td>2200</td>\n",
       "      <td>4.7</td>\n",
       "      <td>알코올 섭취하면 안되는 제에겐 필수죠</td>\n",
       "      <td>2023.11.12</td>\n",
       "    </tr>\n",
       "    <tr>\n",
       "      <th>3</th>\n",
       "      <td>논알콜 코젤다크(무알콜맥주) 500ML</td>\n",
       "      <td>2200</td>\n",
       "      <td>4.7</td>\n",
       "      <td>행사할때 구매해서 좋아요</td>\n",
       "      <td>2023.11.11</td>\n",
       "    </tr>\n",
       "    <tr>\n",
       "      <th>4</th>\n",
       "      <td>논알콜 코젤다크(무알콜맥주) 500ML</td>\n",
       "      <td>2200</td>\n",
       "      <td>4.7</td>\n",
       "      <td>좋아하는 맥준데 논알콜이 있는줄 몰랐는데 괜찮네요 좋아요</td>\n",
       "      <td>2023.11.11</td>\n",
       "    </tr>\n",
       "  </tbody>\n",
       "</table>\n",
       "</div>"
      ],
      "text/plain": [
       "                     제품명    가격   별점                             리뷰내용  \\\n",
       "0  논알콜 코젤다크(무알콜맥주) 500ML  2200  4.7                     편하게 잘 구매했어요    \n",
       "1  논알콜 코젤다크(무알콜맥주) 500ML  2200  4.7                     논알코올인데 맛있대요.   \n",
       "2  논알콜 코젤다크(무알콜맥주) 500ML  2200  4.7             알코올 섭취하면 안되는 제에겐 필수죠   \n",
       "3  논알콜 코젤다크(무알콜맥주) 500ML  2200  4.7                   행사할때 구매해서 좋아요    \n",
       "4  논알콜 코젤다크(무알콜맥주) 500ML  2200  4.7  좋아하는 맥준데 논알콜이 있는줄 몰랐는데 괜찮네요 좋아요   \n",
       "\n",
       "         리뷰날짜  \n",
       "0  2023.11.13  \n",
       "1  2023.11.13  \n",
       "2  2023.11.12  \n",
       "3  2023.11.11  \n",
       "4  2023.11.11  "
      ]
     },
     "execution_count": 10,
     "metadata": {},
     "output_type": "execute_result"
    }
   ],
   "source": [
    "data.head()"
   ]
  },
  {
   "cell_type": "code",
   "execution_count": 7,
   "id": "24c488ac",
   "metadata": {},
   "outputs": [],
   "source": [
    "import pymysql\n",
    "from sqlalchemy import create_engine\n",
    "pymysql.install_as_MySQLdb()\n",
    "import MySQLdb"
   ]
  },
  {
   "cell_type": "code",
   "execution_count": 11,
   "id": "f6c054a6",
   "metadata": {},
   "outputs": [],
   "source": [
    "engine = create_engine(\"mysql+mysqldb://root:\"+\"1234\"+ \"@127.0.0.1:3306/non_alcoh_beer\", encoding='utf-8')\n",
    "conn = engine.connect() # 데이터베이스에 접속\n",
    "data.to_sql(name='non_alcoh_beer', con=engine, if_exists='append', index=False)\n",
    "conn.close()"
   ]
  },
  {
   "cell_type": "code",
   "execution_count": null,
   "id": "2a9d44ba",
   "metadata": {},
   "outputs": [],
   "source": []
  }
 ],
 "metadata": {
  "kernelspec": {
   "display_name": "testenv",
   "language": "python",
   "name": "testenv"
  },
  "language_info": {
   "codemirror_mode": {
    "name": "ipython",
    "version": 3
   },
   "file_extension": ".py",
   "mimetype": "text/x-python",
   "name": "python",
   "nbconvert_exporter": "python",
   "pygments_lexer": "ipython3",
   "version": "3.8.17"
  }
 },
 "nbformat": 4,
 "nbformat_minor": 5
}
