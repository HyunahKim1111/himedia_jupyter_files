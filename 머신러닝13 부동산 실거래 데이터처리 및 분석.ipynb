{
 "cells": [
  {
   "cell_type": "code",
   "execution_count": 1,
   "id": "b19253ac",
   "metadata": {},
   "outputs": [],
   "source": [
    "import os\n",
    "import csv\n",
    "import pandas as pd\n",
    "import numpy as np\n",
    "import matplotlib.pyplot as plt\n",
    "import seaborn as sns\n",
    "import koreanize_matplotlib"
   ]
  },
  {
   "cell_type": "markdown",
   "id": "97dcb57a",
   "metadata": {},
   "source": [
    "## 전국 부동산 실거래가 파일이 총 296개 있음. \n",
    "## 파일 목록을 불러와 1개의 데이터 프레임으로 합쳐보세요."
   ]
  },
  {
   "cell_type": "code",
   "execution_count": 2,
   "id": "c979bf2e",
   "metadata": {},
   "outputs": [
    {
     "data": {
      "text/plain": [
       "296"
      ]
     },
     "execution_count": 2,
     "metadata": {},
     "output_type": "execute_result"
    }
   ],
   "source": [
    "# 파일 목록 불러오기\n",
    "file_list = os.listdir(\"C:/bigdata/data/전국부동산실거래가\")\n",
    "len(file_list)"
   ]
  },
  {
   "cell_type": "markdown",
   "id": "efeb7329",
   "metadata": {},
   "source": [
    "* 부동산 실거래가 파일만 불러와서 1개의 데이터 프레임으로 만들기\n",
    "  * 반복문을 사용해서 파일 1개씩 불러오기\n",
    "  * 빈 데이터 프레임 만들어서 합치기(concat)"
   ]
  },
  {
   "cell_type": "code",
   "execution_count": 3,
   "id": "a689e2f2",
   "metadata": {
    "collapsed": true
   },
   "outputs": [
    {
     "data": {
      "text/plain": [
       "['1999_01.csv',\n",
       " '1999_02.csv',\n",
       " '1999_03.csv',\n",
       " '1999_04.csv',\n",
       " '1999_05.csv',\n",
       " '1999_06.csv',\n",
       " '1999_07.csv',\n",
       " '1999_08.csv',\n",
       " '1999_09.csv',\n",
       " '1999_10.csv',\n",
       " '1999_11.csv',\n",
       " '1999_12.csv',\n",
       " '2000_01.csv',\n",
       " '2000_02.csv',\n",
       " '2000_03.csv',\n",
       " '2000_04.csv',\n",
       " '2000_05.csv',\n",
       " '2000_06.csv',\n",
       " '2000_07.csv',\n",
       " '2000_08.csv',\n",
       " '2000_09.csv',\n",
       " '2000_10.csv',\n",
       " '2000_11.csv',\n",
       " '2000_12.csv',\n",
       " '2001_01.csv',\n",
       " '2001_02.csv',\n",
       " '2001_03.csv',\n",
       " '2001_04.csv',\n",
       " '2001_05.csv',\n",
       " '2001_06.csv',\n",
       " '2001_07.csv',\n",
       " '2001_08.csv',\n",
       " '2001_09.csv',\n",
       " '2001_10.csv',\n",
       " '2001_11.csv',\n",
       " '2001_12.csv',\n",
       " '2002_01.csv',\n",
       " '2002_02.csv',\n",
       " '2002_03.csv',\n",
       " '2002_04.csv',\n",
       " '2002_05.csv',\n",
       " '2002_06.csv',\n",
       " '2002_07.csv',\n",
       " '2002_08.csv',\n",
       " '2002_09.csv',\n",
       " '2002_10.csv',\n",
       " '2002_11.csv',\n",
       " '2002_12.csv',\n",
       " '2003_01.csv',\n",
       " '2003_02.csv',\n",
       " '2003_03.csv',\n",
       " '2003_04.csv',\n",
       " '2003_05.csv',\n",
       " '2003_06.csv',\n",
       " '2003_07.csv',\n",
       " '2003_08.csv',\n",
       " '2003_09.csv',\n",
       " '2003_10.csv',\n",
       " '2003_11.csv',\n",
       " '2003_12.csv',\n",
       " '2004_01.csv',\n",
       " '2004_02.csv',\n",
       " '2004_03.csv',\n",
       " '2004_04.csv',\n",
       " '2004_05.csv',\n",
       " '2004_06.csv',\n",
       " '2004_07.csv',\n",
       " '2004_08.csv',\n",
       " '2004_09.csv',\n",
       " '2004_10.csv',\n",
       " '2004_11.csv',\n",
       " '2004_12.csv',\n",
       " '2005_01.csv',\n",
       " '2005_02.csv',\n",
       " '2005_03.csv',\n",
       " '2005_04.csv',\n",
       " '2005_05.csv',\n",
       " '2005_06.csv',\n",
       " '2005_07.csv',\n",
       " '2005_08.csv',\n",
       " '2005_09.csv',\n",
       " '2005_10.csv',\n",
       " '2005_11.csv',\n",
       " '2005_12.csv',\n",
       " '2006_01.csv',\n",
       " '2006_02.csv',\n",
       " '2006_03.csv',\n",
       " '2006_04.csv',\n",
       " '2006_05.csv',\n",
       " '2006_06.csv',\n",
       " '2006_07.csv',\n",
       " '2006_08.csv',\n",
       " '2006_09.csv',\n",
       " '2006_10.csv',\n",
       " '2006_11.csv',\n",
       " '2006_12.csv',\n",
       " '2007_01.csv',\n",
       " '2007_02.csv',\n",
       " '2007_03.csv',\n",
       " '2007_04.csv',\n",
       " '2007_05.csv',\n",
       " '2007_06.csv',\n",
       " '2007_07.csv',\n",
       " '2007_08.csv',\n",
       " '2007_09.csv',\n",
       " '2007_10.csv',\n",
       " '2007_11.csv',\n",
       " '2007_12.csv',\n",
       " '2008_01.csv',\n",
       " '2008_02.csv',\n",
       " '2008_03.csv',\n",
       " '2008_04.csv',\n",
       " '2008_05.csv',\n",
       " '2008_06.csv',\n",
       " '2008_07.csv',\n",
       " '2008_08.csv',\n",
       " '2008_09.csv',\n",
       " '2008_10.csv',\n",
       " '2008_11.csv',\n",
       " '2008_12.csv',\n",
       " '2009_01.csv',\n",
       " '2009_02.csv',\n",
       " '2009_03.csv',\n",
       " '2009_04.csv',\n",
       " '2009_05.csv',\n",
       " '2009_06.csv',\n",
       " '2009_07.csv',\n",
       " '2009_08.csv',\n",
       " '2009_09.csv',\n",
       " '2009_10.csv',\n",
       " '2009_11.csv',\n",
       " '2009_12.csv',\n",
       " '2010_01.csv',\n",
       " '2010_02.csv',\n",
       " '2010_03.csv',\n",
       " '2010_04.csv',\n",
       " '2010_05.csv',\n",
       " '2010_06.csv',\n",
       " '2010_07.csv',\n",
       " '2010_08.csv',\n",
       " '2010_09.csv',\n",
       " '2010_10.csv',\n",
       " '2010_11.csv',\n",
       " '2010_12.csv',\n",
       " '2011_01.csv',\n",
       " '2011_02.csv',\n",
       " '2011_03.csv',\n",
       " '2011_04.csv',\n",
       " '2011_05.csv',\n",
       " '2011_06.csv',\n",
       " '2011_07.csv',\n",
       " '2011_08.csv',\n",
       " '2011_09.csv',\n",
       " '2011_10.csv',\n",
       " '2011_11.csv',\n",
       " '2011_12.csv',\n",
       " '2012_01.csv',\n",
       " '2012_02.csv',\n",
       " '2012_03.csv',\n",
       " '2012_04.csv',\n",
       " '2012_05.csv',\n",
       " '2012_06.csv',\n",
       " '2012_07.csv',\n",
       " '2012_08.csv',\n",
       " '2012_09.csv',\n",
       " '2012_10.csv',\n",
       " '2012_11.csv',\n",
       " '2012_12.csv',\n",
       " '2013_01.csv',\n",
       " '2013_02.csv',\n",
       " '2013_03.csv',\n",
       " '2013_04.csv',\n",
       " '2014_01.csv',\n",
       " '2014_02.csv',\n",
       " '2014_03.csv',\n",
       " '2014_04.csv',\n",
       " '2014_05.csv',\n",
       " '2014_06.csv',\n",
       " '2014_07.csv',\n",
       " '2014_08.csv',\n",
       " '2014_09.csv',\n",
       " '2014_10.csv',\n",
       " '2014_11.csv',\n",
       " '2014_12.csv',\n",
       " '2015_01.csv',\n",
       " '2015_02.csv',\n",
       " '2015_03.csv',\n",
       " '2015_04.csv',\n",
       " '2015_05.csv',\n",
       " '2015_06.csv',\n",
       " '2015_07.csv',\n",
       " '2015_08.csv',\n",
       " '2015_09.csv',\n",
       " '2015_10.csv',\n",
       " '2015_11.csv',\n",
       " '2015_12.csv',\n",
       " '2016_01.csv',\n",
       " '2016_02.csv',\n",
       " '2016_03.csv',\n",
       " '2016_04.csv',\n",
       " '2016_05.csv',\n",
       " '2016_06.csv',\n",
       " '2016_07.csv',\n",
       " '2016_08.csv',\n",
       " '2016_09.csv',\n",
       " '2016_10.csv',\n",
       " '2016_11.csv',\n",
       " '2016_12.csv',\n",
       " '2017_01.csv',\n",
       " '2017_02.csv',\n",
       " '2017_03.csv',\n",
       " '2017_04.csv',\n",
       " '2017_05.csv',\n",
       " '2017_06.csv',\n",
       " '2017_07.csv',\n",
       " '2017_08.csv',\n",
       " '2017_09.csv',\n",
       " '2017_10.csv',\n",
       " '2017_11.csv',\n",
       " '2017_12.csv',\n",
       " '2018_01.csv',\n",
       " '2018_02.csv',\n",
       " '2018_03.csv',\n",
       " '2018_04.csv',\n",
       " '2018_05.csv',\n",
       " '2018_06.csv',\n",
       " '2018_07.csv',\n",
       " '2018_08.csv',\n",
       " '2018_09.csv',\n",
       " '2018_10.csv',\n",
       " '2018_11.csv',\n",
       " '2018_12.csv',\n",
       " '2019_01.csv',\n",
       " '2019_02.csv',\n",
       " '2019_03.csv',\n",
       " '2019_04.csv',\n",
       " '2019_05.csv',\n",
       " '2019_06.csv',\n",
       " '2019_07.csv',\n",
       " '2019_08.csv',\n",
       " '2019_09.csv',\n",
       " '2019_10.csv',\n",
       " '2019_11.csv',\n",
       " '2019_12.csv',\n",
       " '2020_01.csv',\n",
       " '2020_02.csv',\n",
       " '2020_03.csv',\n",
       " '2020_04.csv',\n",
       " '2020_05.csv',\n",
       " '2020_06.csv',\n",
       " '2020_07.csv',\n",
       " '2020_08.csv',\n",
       " '2020_09.csv',\n",
       " '2020_10.csv',\n",
       " '2020_11.csv',\n",
       " '2020_12.csv',\n",
       " '2021_01.csv',\n",
       " '2021_02.csv',\n",
       " '2021_03.csv',\n",
       " '2021_04.csv',\n",
       " '2021_05.csv',\n",
       " '2021_06.csv',\n",
       " '2021_07.csv',\n",
       " '2021_08.csv',\n",
       " '2021_09.csv',\n",
       " '2021_10.csv',\n",
       " '2021_11.csv',\n",
       " '2021_12.csv',\n",
       " '2022_01.csv',\n",
       " '2022_02.csv',\n",
       " '2022_03.csv',\n",
       " '2022_04.csv',\n",
       " '2022_05.csv',\n",
       " '2022_06.csv',\n",
       " '2022_07.csv',\n",
       " '2022_08.csv',\n",
       " '2022_09.csv',\n",
       " '2022_10.csv',\n",
       " '2022_11.csv',\n",
       " '2022_12.csv',\n",
       " '2023_01.csv',\n",
       " '2023_02.csv',\n",
       " '2023_03.csv',\n",
       " '2023_04.csv',\n",
       " '2023_05.csv',\n",
       " '2023_06.csv',\n",
       " '2023_07.csv',\n",
       " '2023_08.csv']"
      ]
     },
     "execution_count": 3,
     "metadata": {},
     "output_type": "execute_result"
    }
   ],
   "source": [
    "file_list[:-8]"
   ]
  },
  {
   "cell_type": "markdown",
   "id": "b7eb7cd5",
   "metadata": {},
   "source": [
    " * 리스트 만들기\n"
   ]
  },
  {
   "cell_type": "code",
   "execution_count": 4,
   "id": "6cb7b597",
   "metadata": {},
   "outputs": [
    {
     "data": {
      "text/plain": [
       "[0, 1, 2, 3, 4, 5, 6, 7, 8, 9, 10, 11, 12, 13, 14, 15]"
      ]
     },
     "execution_count": 4,
     "metadata": {},
     "output_type": "execute_result"
    }
   ],
   "source": [
    "list(range(16))"
   ]
  },
  {
   "cell_type": "code",
   "execution_count": 5,
   "id": "70d6450c",
   "metadata": {},
   "outputs": [
    {
     "data": {
      "text/plain": [
       "[0, 1, 2, 3, 4, 5, 6, 7, 8, 9, 10, 11, 12, 13, 14]"
      ]
     },
     "execution_count": 5,
     "metadata": {},
     "output_type": "execute_result"
    }
   ],
   "source": [
    "[x for x in range((15))]"
   ]
  },
  {
   "cell_type": "code",
   "execution_count": 6,
   "id": "9ddb5722",
   "metadata": {},
   "outputs": [],
   "source": [
    "data = pd.read_csv('C:/bigdata/data/전국부동산실거래가/2023_08.csv', skiprows=15, encoding='cp949')"
   ]
  },
  {
   "cell_type": "code",
   "execution_count": 7,
   "id": "ba303fd6",
   "metadata": {},
   "outputs": [
    {
     "name": "stdout",
     "output_type": "stream",
     "text": [
      "204\r"
     ]
    },
    {
     "name": "stderr",
     "output_type": "stream",
     "text": [
      "C:\\Users\\hi\\AppData\\Local\\Temp\\ipykernel_4944\\1253557502.py:5: DtypeWarning: Columns (2) have mixed types. Specify dtype option on import or set low_memory=False.\n",
      "  data = pd.read_csv(f'C:/bigdata/data/전국부동산실거래가/{i}', skiprows=15, encoding='cp949')\n"
     ]
    },
    {
     "name": "stdout",
     "output_type": "stream",
     "text": [
      "205\r"
     ]
    },
    {
     "name": "stderr",
     "output_type": "stream",
     "text": [
      "C:\\Users\\hi\\AppData\\Local\\Temp\\ipykernel_4944\\1253557502.py:5: DtypeWarning: Columns (2) have mixed types. Specify dtype option on import or set low_memory=False.\n",
      "  data = pd.read_csv(f'C:/bigdata/data/전국부동산실거래가/{i}', skiprows=15, encoding='cp949')\n"
     ]
    },
    {
     "name": "stdout",
     "output_type": "stream",
     "text": [
      "206\r"
     ]
    },
    {
     "name": "stderr",
     "output_type": "stream",
     "text": [
      "C:\\Users\\hi\\AppData\\Local\\Temp\\ipykernel_4944\\1253557502.py:5: DtypeWarning: Columns (2) have mixed types. Specify dtype option on import or set low_memory=False.\n",
      "  data = pd.read_csv(f'C:/bigdata/data/전국부동산실거래가/{i}', skiprows=15, encoding='cp949')\n"
     ]
    },
    {
     "name": "stdout",
     "output_type": "stream",
     "text": [
      "207\r"
     ]
    },
    {
     "name": "stderr",
     "output_type": "stream",
     "text": [
      "C:\\Users\\hi\\AppData\\Local\\Temp\\ipykernel_4944\\1253557502.py:5: DtypeWarning: Columns (2) have mixed types. Specify dtype option on import or set low_memory=False.\n",
      "  data = pd.read_csv(f'C:/bigdata/data/전국부동산실거래가/{i}', skiprows=15, encoding='cp949')\n"
     ]
    },
    {
     "name": "stdout",
     "output_type": "stream",
     "text": [
      "209\r"
     ]
    },
    {
     "name": "stderr",
     "output_type": "stream",
     "text": [
      "C:\\Users\\hi\\AppData\\Local\\Temp\\ipykernel_4944\\1253557502.py:5: DtypeWarning: Columns (2) have mixed types. Specify dtype option on import or set low_memory=False.\n",
      "  data = pd.read_csv(f'C:/bigdata/data/전국부동산실거래가/{i}', skiprows=15, encoding='cp949')\n"
     ]
    },
    {
     "name": "stdout",
     "output_type": "stream",
     "text": [
      "210\r"
     ]
    },
    {
     "name": "stderr",
     "output_type": "stream",
     "text": [
      "C:\\Users\\hi\\AppData\\Local\\Temp\\ipykernel_4944\\1253557502.py:5: DtypeWarning: Columns (2) have mixed types. Specify dtype option on import or set low_memory=False.\n",
      "  data = pd.read_csv(f'C:/bigdata/data/전국부동산실거래가/{i}', skiprows=15, encoding='cp949')\n"
     ]
    },
    {
     "name": "stdout",
     "output_type": "stream",
     "text": [
      "211\r"
     ]
    },
    {
     "name": "stderr",
     "output_type": "stream",
     "text": [
      "C:\\Users\\hi\\AppData\\Local\\Temp\\ipykernel_4944\\1253557502.py:5: DtypeWarning: Columns (2) have mixed types. Specify dtype option on import or set low_memory=False.\n",
      "  data = pd.read_csv(f'C:/bigdata/data/전국부동산실거래가/{i}', skiprows=15, encoding='cp949')\n"
     ]
    },
    {
     "name": "stdout",
     "output_type": "stream",
     "text": [
      "212\r"
     ]
    },
    {
     "name": "stderr",
     "output_type": "stream",
     "text": [
      "C:\\Users\\hi\\AppData\\Local\\Temp\\ipykernel_4944\\1253557502.py:5: DtypeWarning: Columns (2) have mixed types. Specify dtype option on import or set low_memory=False.\n",
      "  data = pd.read_csv(f'C:/bigdata/data/전국부동산실거래가/{i}', skiprows=15, encoding='cp949')\n"
     ]
    },
    {
     "name": "stdout",
     "output_type": "stream",
     "text": [
      "213\r"
     ]
    },
    {
     "name": "stderr",
     "output_type": "stream",
     "text": [
      "C:\\Users\\hi\\AppData\\Local\\Temp\\ipykernel_4944\\1253557502.py:5: DtypeWarning: Columns (2) have mixed types. Specify dtype option on import or set low_memory=False.\n",
      "  data = pd.read_csv(f'C:/bigdata/data/전국부동산실거래가/{i}', skiprows=15, encoding='cp949')\n"
     ]
    },
    {
     "name": "stdout",
     "output_type": "stream",
     "text": [
      "214\r"
     ]
    },
    {
     "name": "stderr",
     "output_type": "stream",
     "text": [
      "C:\\Users\\hi\\AppData\\Local\\Temp\\ipykernel_4944\\1253557502.py:5: DtypeWarning: Columns (2) have mixed types. Specify dtype option on import or set low_memory=False.\n",
      "  data = pd.read_csv(f'C:/bigdata/data/전국부동산실거래가/{i}', skiprows=15, encoding='cp949')\n"
     ]
    },
    {
     "name": "stdout",
     "output_type": "stream",
     "text": [
      "215\r"
     ]
    },
    {
     "name": "stderr",
     "output_type": "stream",
     "text": [
      "C:\\Users\\hi\\AppData\\Local\\Temp\\ipykernel_4944\\1253557502.py:5: DtypeWarning: Columns (2) have mixed types. Specify dtype option on import or set low_memory=False.\n",
      "  data = pd.read_csv(f'C:/bigdata/data/전국부동산실거래가/{i}', skiprows=15, encoding='cp949')\n"
     ]
    },
    {
     "name": "stdout",
     "output_type": "stream",
     "text": [
      "217\r"
     ]
    },
    {
     "name": "stderr",
     "output_type": "stream",
     "text": [
      "C:\\Users\\hi\\AppData\\Local\\Temp\\ipykernel_4944\\1253557502.py:5: DtypeWarning: Columns (2) have mixed types. Specify dtype option on import or set low_memory=False.\n",
      "  data = pd.read_csv(f'C:/bigdata/data/전국부동산실거래가/{i}', skiprows=15, encoding='cp949')\n"
     ]
    },
    {
     "name": "stdout",
     "output_type": "stream",
     "text": [
      "219\r"
     ]
    },
    {
     "name": "stderr",
     "output_type": "stream",
     "text": [
      "C:\\Users\\hi\\AppData\\Local\\Temp\\ipykernel_4944\\1253557502.py:5: DtypeWarning: Columns (2) have mixed types. Specify dtype option on import or set low_memory=False.\n",
      "  data = pd.read_csv(f'C:/bigdata/data/전국부동산실거래가/{i}', skiprows=15, encoding='cp949')\n"
     ]
    },
    {
     "name": "stdout",
     "output_type": "stream",
     "text": [
      "220\r"
     ]
    },
    {
     "name": "stderr",
     "output_type": "stream",
     "text": [
      "C:\\Users\\hi\\AppData\\Local\\Temp\\ipykernel_4944\\1253557502.py:5: DtypeWarning: Columns (2) have mixed types. Specify dtype option on import or set low_memory=False.\n",
      "  data = pd.read_csv(f'C:/bigdata/data/전국부동산실거래가/{i}', skiprows=15, encoding='cp949')\n"
     ]
    },
    {
     "name": "stdout",
     "output_type": "stream",
     "text": [
      "221\r"
     ]
    },
    {
     "name": "stderr",
     "output_type": "stream",
     "text": [
      "C:\\Users\\hi\\AppData\\Local\\Temp\\ipykernel_4944\\1253557502.py:5: DtypeWarning: Columns (2) have mixed types. Specify dtype option on import or set low_memory=False.\n",
      "  data = pd.read_csv(f'C:/bigdata/data/전국부동산실거래가/{i}', skiprows=15, encoding='cp949')\n"
     ]
    },
    {
     "name": "stdout",
     "output_type": "stream",
     "text": [
      "222\r"
     ]
    },
    {
     "name": "stderr",
     "output_type": "stream",
     "text": [
      "C:\\Users\\hi\\AppData\\Local\\Temp\\ipykernel_4944\\1253557502.py:5: DtypeWarning: Columns (2) have mixed types. Specify dtype option on import or set low_memory=False.\n",
      "  data = pd.read_csv(f'C:/bigdata/data/전국부동산실거래가/{i}', skiprows=15, encoding='cp949')\n"
     ]
    },
    {
     "name": "stdout",
     "output_type": "stream",
     "text": [
      "223\r"
     ]
    },
    {
     "name": "stderr",
     "output_type": "stream",
     "text": [
      "C:\\Users\\hi\\AppData\\Local\\Temp\\ipykernel_4944\\1253557502.py:5: DtypeWarning: Columns (2) have mixed types. Specify dtype option on import or set low_memory=False.\n",
      "  data = pd.read_csv(f'C:/bigdata/data/전국부동산실거래가/{i}', skiprows=15, encoding='cp949')\n"
     ]
    },
    {
     "name": "stdout",
     "output_type": "stream",
     "text": [
      "224\r"
     ]
    },
    {
     "name": "stderr",
     "output_type": "stream",
     "text": [
      "C:\\Users\\hi\\AppData\\Local\\Temp\\ipykernel_4944\\1253557502.py:5: DtypeWarning: Columns (2) have mixed types. Specify dtype option on import or set low_memory=False.\n",
      "  data = pd.read_csv(f'C:/bigdata/data/전국부동산실거래가/{i}', skiprows=15, encoding='cp949')\n"
     ]
    },
    {
     "name": "stdout",
     "output_type": "stream",
     "text": [
      "225\r"
     ]
    },
    {
     "name": "stderr",
     "output_type": "stream",
     "text": [
      "C:\\Users\\hi\\AppData\\Local\\Temp\\ipykernel_4944\\1253557502.py:5: DtypeWarning: Columns (2) have mixed types. Specify dtype option on import or set low_memory=False.\n",
      "  data = pd.read_csv(f'C:/bigdata/data/전국부동산실거래가/{i}', skiprows=15, encoding='cp949')\n"
     ]
    },
    {
     "name": "stdout",
     "output_type": "stream",
     "text": [
      "227\r"
     ]
    },
    {
     "name": "stderr",
     "output_type": "stream",
     "text": [
      "C:\\Users\\hi\\AppData\\Local\\Temp\\ipykernel_4944\\1253557502.py:5: DtypeWarning: Columns (2) have mixed types. Specify dtype option on import or set low_memory=False.\n",
      "  data = pd.read_csv(f'C:/bigdata/data/전국부동산실거래가/{i}', skiprows=15, encoding='cp949')\n"
     ]
    },
    {
     "name": "stdout",
     "output_type": "stream",
     "text": [
      "228\r"
     ]
    },
    {
     "name": "stderr",
     "output_type": "stream",
     "text": [
      "C:\\Users\\hi\\AppData\\Local\\Temp\\ipykernel_4944\\1253557502.py:5: DtypeWarning: Columns (2) have mixed types. Specify dtype option on import or set low_memory=False.\n",
      "  data = pd.read_csv(f'C:/bigdata/data/전국부동산실거래가/{i}', skiprows=15, encoding='cp949')\n"
     ]
    },
    {
     "name": "stdout",
     "output_type": "stream",
     "text": [
      "229\r"
     ]
    },
    {
     "name": "stderr",
     "output_type": "stream",
     "text": [
      "C:\\Users\\hi\\AppData\\Local\\Temp\\ipykernel_4944\\1253557502.py:5: DtypeWarning: Columns (2) have mixed types. Specify dtype option on import or set low_memory=False.\n",
      "  data = pd.read_csv(f'C:/bigdata/data/전국부동산실거래가/{i}', skiprows=15, encoding='cp949')\n"
     ]
    },
    {
     "name": "stdout",
     "output_type": "stream",
     "text": [
      "236\r"
     ]
    },
    {
     "name": "stderr",
     "output_type": "stream",
     "text": [
      "C:\\Users\\hi\\AppData\\Local\\Temp\\ipykernel_4944\\1253557502.py:5: DtypeWarning: Columns (2) have mixed types. Specify dtype option on import or set low_memory=False.\n",
      "  data = pd.read_csv(f'C:/bigdata/data/전국부동산실거래가/{i}', skiprows=15, encoding='cp949')\n"
     ]
    },
    {
     "name": "stdout",
     "output_type": "stream",
     "text": [
      "237\r"
     ]
    },
    {
     "name": "stderr",
     "output_type": "stream",
     "text": [
      "C:\\Users\\hi\\AppData\\Local\\Temp\\ipykernel_4944\\1253557502.py:5: DtypeWarning: Columns (2) have mixed types. Specify dtype option on import or set low_memory=False.\n",
      "  data = pd.read_csv(f'C:/bigdata/data/전국부동산실거래가/{i}', skiprows=15, encoding='cp949')\n"
     ]
    },
    {
     "name": "stdout",
     "output_type": "stream",
     "text": [
      "238\r"
     ]
    },
    {
     "name": "stderr",
     "output_type": "stream",
     "text": [
      "C:\\Users\\hi\\AppData\\Local\\Temp\\ipykernel_4944\\1253557502.py:5: DtypeWarning: Columns (2) have mixed types. Specify dtype option on import or set low_memory=False.\n",
      "  data = pd.read_csv(f'C:/bigdata/data/전국부동산실거래가/{i}', skiprows=15, encoding='cp949')\n"
     ]
    },
    {
     "name": "stdout",
     "output_type": "stream",
     "text": [
      "239\r"
     ]
    },
    {
     "name": "stderr",
     "output_type": "stream",
     "text": [
      "C:\\Users\\hi\\AppData\\Local\\Temp\\ipykernel_4944\\1253557502.py:5: DtypeWarning: Columns (2) have mixed types. Specify dtype option on import or set low_memory=False.\n",
      "  data = pd.read_csv(f'C:/bigdata/data/전국부동산실거래가/{i}', skiprows=15, encoding='cp949')\n"
     ]
    },
    {
     "name": "stdout",
     "output_type": "stream",
     "text": [
      "240\r"
     ]
    },
    {
     "name": "stderr",
     "output_type": "stream",
     "text": [
      "C:\\Users\\hi\\AppData\\Local\\Temp\\ipykernel_4944\\1253557502.py:5: DtypeWarning: Columns (2) have mixed types. Specify dtype option on import or set low_memory=False.\n",
      "  data = pd.read_csv(f'C:/bigdata/data/전국부동산실거래가/{i}', skiprows=15, encoding='cp949')\n"
     ]
    },
    {
     "name": "stdout",
     "output_type": "stream",
     "text": [
      "241\r"
     ]
    },
    {
     "name": "stderr",
     "output_type": "stream",
     "text": [
      "C:\\Users\\hi\\AppData\\Local\\Temp\\ipykernel_4944\\1253557502.py:5: DtypeWarning: Columns (2) have mixed types. Specify dtype option on import or set low_memory=False.\n",
      "  data = pd.read_csv(f'C:/bigdata/data/전국부동산실거래가/{i}', skiprows=15, encoding='cp949')\n"
     ]
    },
    {
     "name": "stdout",
     "output_type": "stream",
     "text": [
      "242\r"
     ]
    },
    {
     "name": "stderr",
     "output_type": "stream",
     "text": [
      "C:\\Users\\hi\\AppData\\Local\\Temp\\ipykernel_4944\\1253557502.py:5: DtypeWarning: Columns (2) have mixed types. Specify dtype option on import or set low_memory=False.\n",
      "  data = pd.read_csv(f'C:/bigdata/data/전국부동산실거래가/{i}', skiprows=15, encoding='cp949')\n"
     ]
    },
    {
     "name": "stdout",
     "output_type": "stream",
     "text": [
      "243\r"
     ]
    },
    {
     "name": "stderr",
     "output_type": "stream",
     "text": [
      "C:\\Users\\hi\\AppData\\Local\\Temp\\ipykernel_4944\\1253557502.py:5: DtypeWarning: Columns (2) have mixed types. Specify dtype option on import or set low_memory=False.\n",
      "  data = pd.read_csv(f'C:/bigdata/data/전국부동산실거래가/{i}', skiprows=15, encoding='cp949')\n"
     ]
    },
    {
     "name": "stdout",
     "output_type": "stream",
     "text": [
      "244\r"
     ]
    },
    {
     "name": "stderr",
     "output_type": "stream",
     "text": [
      "C:\\Users\\hi\\AppData\\Local\\Temp\\ipykernel_4944\\1253557502.py:5: DtypeWarning: Columns (2) have mixed types. Specify dtype option on import or set low_memory=False.\n",
      "  data = pd.read_csv(f'C:/bigdata/data/전국부동산실거래가/{i}', skiprows=15, encoding='cp949')\n"
     ]
    },
    {
     "name": "stdout",
     "output_type": "stream",
     "text": [
      "245\r"
     ]
    },
    {
     "name": "stderr",
     "output_type": "stream",
     "text": [
      "C:\\Users\\hi\\AppData\\Local\\Temp\\ipykernel_4944\\1253557502.py:5: DtypeWarning: Columns (2) have mixed types. Specify dtype option on import or set low_memory=False.\n",
      "  data = pd.read_csv(f'C:/bigdata/data/전국부동산실거래가/{i}', skiprows=15, encoding='cp949')\n"
     ]
    },
    {
     "name": "stdout",
     "output_type": "stream",
     "text": [
      "246\r"
     ]
    },
    {
     "name": "stderr",
     "output_type": "stream",
     "text": [
      "C:\\Users\\hi\\AppData\\Local\\Temp\\ipykernel_4944\\1253557502.py:5: DtypeWarning: Columns (2) have mixed types. Specify dtype option on import or set low_memory=False.\n",
      "  data = pd.read_csv(f'C:/bigdata/data/전국부동산실거래가/{i}', skiprows=15, encoding='cp949')\n"
     ]
    },
    {
     "name": "stdout",
     "output_type": "stream",
     "text": [
      "247\r"
     ]
    },
    {
     "name": "stderr",
     "output_type": "stream",
     "text": [
      "C:\\Users\\hi\\AppData\\Local\\Temp\\ipykernel_4944\\1253557502.py:5: DtypeWarning: Columns (2) have mixed types. Specify dtype option on import or set low_memory=False.\n",
      "  data = pd.read_csv(f'C:/bigdata/data/전국부동산실거래가/{i}', skiprows=15, encoding='cp949')\n"
     ]
    },
    {
     "name": "stdout",
     "output_type": "stream",
     "text": [
      "249\r"
     ]
    },
    {
     "name": "stderr",
     "output_type": "stream",
     "text": [
      "C:\\Users\\hi\\AppData\\Local\\Temp\\ipykernel_4944\\1253557502.py:5: DtypeWarning: Columns (2) have mixed types. Specify dtype option on import or set low_memory=False.\n",
      "  data = pd.read_csv(f'C:/bigdata/data/전국부동산실거래가/{i}', skiprows=15, encoding='cp949')\n"
     ]
    },
    {
     "name": "stdout",
     "output_type": "stream",
     "text": [
      "250\r"
     ]
    },
    {
     "name": "stderr",
     "output_type": "stream",
     "text": [
      "C:\\Users\\hi\\AppData\\Local\\Temp\\ipykernel_4944\\1253557502.py:5: DtypeWarning: Columns (2) have mixed types. Specify dtype option on import or set low_memory=False.\n",
      "  data = pd.read_csv(f'C:/bigdata/data/전국부동산실거래가/{i}', skiprows=15, encoding='cp949')\n"
     ]
    },
    {
     "name": "stdout",
     "output_type": "stream",
     "text": [
      "251\r"
     ]
    },
    {
     "name": "stderr",
     "output_type": "stream",
     "text": [
      "C:\\Users\\hi\\AppData\\Local\\Temp\\ipykernel_4944\\1253557502.py:5: DtypeWarning: Columns (2) have mixed types. Specify dtype option on import or set low_memory=False.\n",
      "  data = pd.read_csv(f'C:/bigdata/data/전국부동산실거래가/{i}', skiprows=15, encoding='cp949')\n"
     ]
    },
    {
     "name": "stdout",
     "output_type": "stream",
     "text": [
      "253\r"
     ]
    },
    {
     "name": "stderr",
     "output_type": "stream",
     "text": [
      "C:\\Users\\hi\\AppData\\Local\\Temp\\ipykernel_4944\\1253557502.py:5: DtypeWarning: Columns (2) have mixed types. Specify dtype option on import or set low_memory=False.\n",
      "  data = pd.read_csv(f'C:/bigdata/data/전국부동산실거래가/{i}', skiprows=15, encoding='cp949')\n"
     ]
    },
    {
     "name": "stdout",
     "output_type": "stream",
     "text": [
      "254\r"
     ]
    },
    {
     "name": "stderr",
     "output_type": "stream",
     "text": [
      "C:\\Users\\hi\\AppData\\Local\\Temp\\ipykernel_4944\\1253557502.py:5: DtypeWarning: Columns (2) have mixed types. Specify dtype option on import or set low_memory=False.\n",
      "  data = pd.read_csv(f'C:/bigdata/data/전국부동산실거래가/{i}', skiprows=15, encoding='cp949')\n"
     ]
    },
    {
     "name": "stdout",
     "output_type": "stream",
     "text": [
      "255\r"
     ]
    },
    {
     "name": "stderr",
     "output_type": "stream",
     "text": [
      "C:\\Users\\hi\\AppData\\Local\\Temp\\ipykernel_4944\\1253557502.py:5: DtypeWarning: Columns (2) have mixed types. Specify dtype option on import or set low_memory=False.\n",
      "  data = pd.read_csv(f'C:/bigdata/data/전국부동산실거래가/{i}', skiprows=15, encoding='cp949')\n"
     ]
    },
    {
     "name": "stdout",
     "output_type": "stream",
     "text": [
      "261\r"
     ]
    },
    {
     "name": "stderr",
     "output_type": "stream",
     "text": [
      "C:\\Users\\hi\\AppData\\Local\\Temp\\ipykernel_4944\\1253557502.py:5: DtypeWarning: Columns (2) have mixed types. Specify dtype option on import or set low_memory=False.\n",
      "  data = pd.read_csv(f'C:/bigdata/data/전국부동산실거래가/{i}', skiprows=15, encoding='cp949')\n"
     ]
    },
    {
     "name": "stdout",
     "output_type": "stream",
     "text": [
      "264\r"
     ]
    },
    {
     "name": "stderr",
     "output_type": "stream",
     "text": [
      "C:\\Users\\hi\\AppData\\Local\\Temp\\ipykernel_4944\\1253557502.py:5: DtypeWarning: Columns (2) have mixed types. Specify dtype option on import or set low_memory=False.\n",
      "  data = pd.read_csv(f'C:/bigdata/data/전국부동산실거래가/{i}', skiprows=15, encoding='cp949')\n"
     ]
    },
    {
     "name": "stdout",
     "output_type": "stream",
     "text": [
      "265\r"
     ]
    },
    {
     "name": "stderr",
     "output_type": "stream",
     "text": [
      "C:\\Users\\hi\\AppData\\Local\\Temp\\ipykernel_4944\\1253557502.py:5: DtypeWarning: Columns (2) have mixed types. Specify dtype option on import or set low_memory=False.\n",
      "  data = pd.read_csv(f'C:/bigdata/data/전국부동산실거래가/{i}', skiprows=15, encoding='cp949')\n"
     ]
    },
    {
     "name": "stdout",
     "output_type": "stream",
     "text": [
      "271\r"
     ]
    },
    {
     "name": "stderr",
     "output_type": "stream",
     "text": [
      "C:\\Users\\hi\\AppData\\Local\\Temp\\ipykernel_4944\\1253557502.py:5: DtypeWarning: Columns (2) have mixed types. Specify dtype option on import or set low_memory=False.\n",
      "  data = pd.read_csv(f'C:/bigdata/data/전국부동산실거래가/{i}', skiprows=15, encoding='cp949')\n"
     ]
    },
    {
     "name": "stdout",
     "output_type": "stream",
     "text": [
      "281\r"
     ]
    },
    {
     "name": "stderr",
     "output_type": "stream",
     "text": [
      "C:\\Users\\hi\\AppData\\Local\\Temp\\ipykernel_4944\\1253557502.py:5: DtypeWarning: Columns (2) have mixed types. Specify dtype option on import or set low_memory=False.\n",
      "  data = pd.read_csv(f'C:/bigdata/data/전국부동산실거래가/{i}', skiprows=15, encoding='cp949')\n"
     ]
    },
    {
     "name": "stdout",
     "output_type": "stream",
     "text": [
      "282\r"
     ]
    },
    {
     "name": "stderr",
     "output_type": "stream",
     "text": [
      "C:\\Users\\hi\\AppData\\Local\\Temp\\ipykernel_4944\\1253557502.py:5: DtypeWarning: Columns (2) have mixed types. Specify dtype option on import or set low_memory=False.\n",
      "  data = pd.read_csv(f'C:/bigdata/data/전국부동산실거래가/{i}', skiprows=15, encoding='cp949')\n"
     ]
    },
    {
     "name": "stdout",
     "output_type": "stream",
     "text": [
      "283\r"
     ]
    },
    {
     "name": "stderr",
     "output_type": "stream",
     "text": [
      "C:\\Users\\hi\\AppData\\Local\\Temp\\ipykernel_4944\\1253557502.py:5: DtypeWarning: Columns (2) have mixed types. Specify dtype option on import or set low_memory=False.\n",
      "  data = pd.read_csv(f'C:/bigdata/data/전국부동산실거래가/{i}', skiprows=15, encoding='cp949')\n"
     ]
    },
    {
     "name": "stdout",
     "output_type": "stream",
     "text": [
      "284\r"
     ]
    },
    {
     "name": "stderr",
     "output_type": "stream",
     "text": [
      "C:\\Users\\hi\\AppData\\Local\\Temp\\ipykernel_4944\\1253557502.py:5: DtypeWarning: Columns (2) have mixed types. Specify dtype option on import or set low_memory=False.\n",
      "  data = pd.read_csv(f'C:/bigdata/data/전국부동산실거래가/{i}', skiprows=15, encoding='cp949')\n"
     ]
    },
    {
     "name": "stdout",
     "output_type": "stream",
     "text": [
      "285\r"
     ]
    },
    {
     "name": "stderr",
     "output_type": "stream",
     "text": [
      "C:\\Users\\hi\\AppData\\Local\\Temp\\ipykernel_4944\\1253557502.py:5: DtypeWarning: Columns (2) have mixed types. Specify dtype option on import or set low_memory=False.\n",
      "  data = pd.read_csv(f'C:/bigdata/data/전국부동산실거래가/{i}', skiprows=15, encoding='cp949')\n"
     ]
    },
    {
     "name": "stdout",
     "output_type": "stream",
     "text": [
      "286\r"
     ]
    },
    {
     "name": "stderr",
     "output_type": "stream",
     "text": [
      "C:\\Users\\hi\\AppData\\Local\\Temp\\ipykernel_4944\\1253557502.py:5: DtypeWarning: Columns (2) have mixed types. Specify dtype option on import or set low_memory=False.\n",
      "  data = pd.read_csv(f'C:/bigdata/data/전국부동산실거래가/{i}', skiprows=15, encoding='cp949')\n"
     ]
    },
    {
     "name": "stdout",
     "output_type": "stream",
     "text": [
      "287\r"
     ]
    }
   ],
   "source": [
    "# 폴더에 있는 여러개의 csv파일을 하나의 데이터프레임에 담기\n",
    "data_hap = pd.DataFrame()\n",
    "for idx, i in enumerate(file_list[:-8]):\n",
    "    print(idx, end=\"\\r\") # 작업이 얼마나 되고있는지 눈으로 보고 싶으면 enumerate idx를 사용하면 돼!\n",
    "    data = pd.read_csv(f'C:/bigdata/data/전국부동산실거래가/{i}', skiprows=15, encoding='cp949')\n",
    "    data_hap = pd.concat([data_hap,data])"
   ]
  },
  {
   "cell_type": "code",
   "execution_count": 8,
   "id": "98b1cd5d",
   "metadata": {
    "scrolled": true
   },
   "outputs": [
    {
     "data": {
      "text/plain": [
       "9591343"
      ]
     },
     "execution_count": 8,
     "metadata": {},
     "output_type": "execute_result"
    }
   ],
   "source": [
    "len(data_hap)"
   ]
  },
  {
   "cell_type": "code",
   "execution_count": 9,
   "id": "0452a75f",
   "metadata": {
    "scrolled": true
   },
   "outputs": [
    {
     "data": {
      "text/html": [
       "<div>\n",
       "<style scoped>\n",
       "    .dataframe tbody tr th:only-of-type {\n",
       "        vertical-align: middle;\n",
       "    }\n",
       "\n",
       "    .dataframe tbody tr th {\n",
       "        vertical-align: top;\n",
       "    }\n",
       "\n",
       "    .dataframe thead th {\n",
       "        text-align: right;\n",
       "    }\n",
       "</style>\n",
       "<table border=\"1\" class=\"dataframe\">\n",
       "  <thead>\n",
       "    <tr style=\"text-align: right;\">\n",
       "      <th></th>\n",
       "      <th>시군구</th>\n",
       "      <th>번지</th>\n",
       "      <th>본번</th>\n",
       "      <th>부번</th>\n",
       "      <th>단지명</th>\n",
       "      <th>전용면적(㎡)</th>\n",
       "      <th>계약년월</th>\n",
       "      <th>계약일</th>\n",
       "      <th>거래금액(만원)</th>\n",
       "      <th>층</th>\n",
       "      <th>건축년도</th>\n",
       "      <th>도로명</th>\n",
       "      <th>해제사유발생일</th>\n",
       "      <th>등기신청일자</th>\n",
       "      <th>거래유형</th>\n",
       "      <th>중개사소재지</th>\n",
       "    </tr>\n",
       "  </thead>\n",
       "  <tbody>\n",
       "    <tr>\n",
       "      <th>0</th>\n",
       "      <td>강원특별자치도 양구군 양구읍 상리</td>\n",
       "      <td>510</td>\n",
       "      <td>510</td>\n",
       "      <td>0</td>\n",
       "      <td>경림</td>\n",
       "      <td>59.400</td>\n",
       "      <td>200509</td>\n",
       "      <td>23</td>\n",
       "      <td>5,000</td>\n",
       "      <td>11</td>\n",
       "      <td>1998</td>\n",
       "      <td>양록길23번길 11</td>\n",
       "      <td>NaN</td>\n",
       "      <td></td>\n",
       "      <td>-</td>\n",
       "      <td>-</td>\n",
       "    </tr>\n",
       "    <tr>\n",
       "      <th>0</th>\n",
       "      <td>경기도 의정부시 민락동</td>\n",
       "      <td>756-7</td>\n",
       "      <td>756</td>\n",
       "      <td>7</td>\n",
       "      <td>한라비발디</td>\n",
       "      <td>84.990</td>\n",
       "      <td>200510</td>\n",
       "      <td>30</td>\n",
       "      <td>12,750</td>\n",
       "      <td>19</td>\n",
       "      <td>2003</td>\n",
       "      <td>오목로 73</td>\n",
       "      <td>NaN</td>\n",
       "      <td></td>\n",
       "      <td>-</td>\n",
       "      <td>-</td>\n",
       "    </tr>\n",
       "    <tr>\n",
       "      <th>1</th>\n",
       "      <td>경기도 의정부시 신곡동</td>\n",
       "      <td>456</td>\n",
       "      <td>456</td>\n",
       "      <td>0</td>\n",
       "      <td>신일1</td>\n",
       "      <td>59.878</td>\n",
       "      <td>200510</td>\n",
       "      <td>20</td>\n",
       "      <td>5,750</td>\n",
       "      <td>3</td>\n",
       "      <td>1997</td>\n",
       "      <td>시민로245번길 10</td>\n",
       "      <td>NaN</td>\n",
       "      <td></td>\n",
       "      <td>-</td>\n",
       "      <td>-</td>\n",
       "    </tr>\n",
       "    <tr>\n",
       "      <th>2</th>\n",
       "      <td>경기도 의정부시 신곡동</td>\n",
       "      <td>727-1</td>\n",
       "      <td>727</td>\n",
       "      <td>1</td>\n",
       "      <td>풍림</td>\n",
       "      <td>49.830</td>\n",
       "      <td>200510</td>\n",
       "      <td>20</td>\n",
       "      <td>5,500</td>\n",
       "      <td>8</td>\n",
       "      <td>1998</td>\n",
       "      <td>회룡로 245</td>\n",
       "      <td>NaN</td>\n",
       "      <td></td>\n",
       "      <td>-</td>\n",
       "      <td>-</td>\n",
       "    </tr>\n",
       "    <tr>\n",
       "      <th>0</th>\n",
       "      <td>경기도 의정부시 용현동</td>\n",
       "      <td>46</td>\n",
       "      <td>46</td>\n",
       "      <td>0</td>\n",
       "      <td>용현현대1차</td>\n",
       "      <td>129.730</td>\n",
       "      <td>200511</td>\n",
       "      <td>21</td>\n",
       "      <td>12,200</td>\n",
       "      <td>11</td>\n",
       "      <td>1992</td>\n",
       "      <td>오목로 36</td>\n",
       "      <td>NaN</td>\n",
       "      <td></td>\n",
       "      <td>-</td>\n",
       "      <td>-</td>\n",
       "    </tr>\n",
       "  </tbody>\n",
       "</table>\n",
       "</div>"
      ],
      "text/plain": [
       "                  시군구     번지   본번 부번     단지명  전용면적(㎡)    계약년월 계약일 거래금액(만원)  \\\n",
       "0  강원특별자치도 양구군 양구읍 상리    510  510  0      경림   59.400  200509  23    5,000   \n",
       "0        경기도 의정부시 민락동  756-7  756  7   한라비발디   84.990  200510  30   12,750   \n",
       "1        경기도 의정부시 신곡동    456  456  0     신일1   59.878  200510  20    5,750   \n",
       "2        경기도 의정부시 신곡동  727-1  727  1      풍림   49.830  200510  20    5,500   \n",
       "0        경기도 의정부시 용현동     46   46  0  용현현대1차  129.730  200511  21   12,200   \n",
       "\n",
       "    층  건축년도          도로명  해제사유발생일 등기신청일자 거래유형 중개사소재지  \n",
       "0  11  1998   양록길23번길 11      NaN           -      -  \n",
       "0  19  2003       오목로 73      NaN           -      -  \n",
       "1   3  1997  시민로245번길 10      NaN           -      -  \n",
       "2   8  1998      회룡로 245      NaN           -      -  \n",
       "0  11  1992       오목로 36      NaN           -      -  "
      ]
     },
     "execution_count": 9,
     "metadata": {},
     "output_type": "execute_result"
    }
   ],
   "source": [
    "data_hap.head()"
   ]
  },
  {
   "cell_type": "code",
   "execution_count": null,
   "id": "7477d805",
   "metadata": {
    "scrolled": true
   },
   "outputs": [],
   "source": []
  },
  {
   "cell_type": "markdown",
   "id": "cd1c9121",
   "metadata": {},
   "source": [
    "* concat을 해서 인덱스가 섞여있으니 인덱스를 정리 해줘야 해."
   ]
  },
  {
   "cell_type": "code",
   "execution_count": 10,
   "id": "c9d2ea1a",
   "metadata": {},
   "outputs": [],
   "source": [
    "data = data_hap"
   ]
  },
  {
   "cell_type": "code",
   "execution_count": 11,
   "id": "7b2429b2",
   "metadata": {
    "collapsed": true
   },
   "outputs": [
    {
     "name": "stdout",
     "output_type": "stream",
     "text": [
      "<class 'pandas.core.frame.DataFrame'>\n",
      "Index: 9591343 entries, 0 to 30915\n",
      "Data columns (total 16 columns):\n",
      " #   Column    Dtype  \n",
      "---  ------    -----  \n",
      " 0   시군구       object \n",
      " 1   번지        object \n",
      " 2   본번        object \n",
      " 3   부번        object \n",
      " 4   단지명       object \n",
      " 5   전용면적(㎡)   float64\n",
      " 6   계약년월      object \n",
      " 7   계약일       object \n",
      " 8   거래금액(만원)  object \n",
      " 9   층         object \n",
      " 10  건축년도      object \n",
      " 11  도로명       object \n",
      " 12  해제사유발생일   float64\n",
      " 13  등기신청일자    object \n",
      " 14  거래유형      object \n",
      " 15  중개사소재지    object \n",
      "dtypes: float64(2), object(14)\n",
      "memory usage: 1.2+ GB\n"
     ]
    }
   ],
   "source": [
    "data.info()"
   ]
  },
  {
   "cell_type": "code",
   "execution_count": 12,
   "id": "bceb22f4",
   "metadata": {},
   "outputs": [
    {
     "data": {
      "text/html": [
       "<div>\n",
       "<style scoped>\n",
       "    .dataframe tbody tr th:only-of-type {\n",
       "        vertical-align: middle;\n",
       "    }\n",
       "\n",
       "    .dataframe tbody tr th {\n",
       "        vertical-align: top;\n",
       "    }\n",
       "\n",
       "    .dataframe thead th {\n",
       "        text-align: right;\n",
       "    }\n",
       "</style>\n",
       "<table border=\"1\" class=\"dataframe\">\n",
       "  <thead>\n",
       "    <tr style=\"text-align: right;\">\n",
       "      <th></th>\n",
       "      <th>시군구</th>\n",
       "      <th>번지</th>\n",
       "      <th>본번</th>\n",
       "      <th>부번</th>\n",
       "      <th>단지명</th>\n",
       "      <th>전용면적(㎡)</th>\n",
       "      <th>계약년월</th>\n",
       "      <th>계약일</th>\n",
       "      <th>거래금액(만원)</th>\n",
       "      <th>층</th>\n",
       "      <th>건축년도</th>\n",
       "      <th>도로명</th>\n",
       "      <th>해제사유발생일</th>\n",
       "      <th>등기신청일자</th>\n",
       "      <th>거래유형</th>\n",
       "      <th>중개사소재지</th>\n",
       "    </tr>\n",
       "  </thead>\n",
       "  <tbody>\n",
       "    <tr>\n",
       "      <th>0</th>\n",
       "      <td>강원특별자치도 양구군 양구읍 상리</td>\n",
       "      <td>510</td>\n",
       "      <td>510</td>\n",
       "      <td>0</td>\n",
       "      <td>경림</td>\n",
       "      <td>59.400</td>\n",
       "      <td>200509</td>\n",
       "      <td>23</td>\n",
       "      <td>5,000</td>\n",
       "      <td>11</td>\n",
       "      <td>1998</td>\n",
       "      <td>양록길23번길 11</td>\n",
       "      <td>NaN</td>\n",
       "      <td></td>\n",
       "      <td>-</td>\n",
       "      <td>-</td>\n",
       "    </tr>\n",
       "    <tr>\n",
       "      <th>1</th>\n",
       "      <td>경기도 의정부시 민락동</td>\n",
       "      <td>756-7</td>\n",
       "      <td>756</td>\n",
       "      <td>7</td>\n",
       "      <td>한라비발디</td>\n",
       "      <td>84.990</td>\n",
       "      <td>200510</td>\n",
       "      <td>30</td>\n",
       "      <td>12,750</td>\n",
       "      <td>19</td>\n",
       "      <td>2003</td>\n",
       "      <td>오목로 73</td>\n",
       "      <td>NaN</td>\n",
       "      <td></td>\n",
       "      <td>-</td>\n",
       "      <td>-</td>\n",
       "    </tr>\n",
       "    <tr>\n",
       "      <th>2</th>\n",
       "      <td>경기도 의정부시 신곡동</td>\n",
       "      <td>456</td>\n",
       "      <td>456</td>\n",
       "      <td>0</td>\n",
       "      <td>신일1</td>\n",
       "      <td>59.878</td>\n",
       "      <td>200510</td>\n",
       "      <td>20</td>\n",
       "      <td>5,750</td>\n",
       "      <td>3</td>\n",
       "      <td>1997</td>\n",
       "      <td>시민로245번길 10</td>\n",
       "      <td>NaN</td>\n",
       "      <td></td>\n",
       "      <td>-</td>\n",
       "      <td>-</td>\n",
       "    </tr>\n",
       "    <tr>\n",
       "      <th>3</th>\n",
       "      <td>경기도 의정부시 신곡동</td>\n",
       "      <td>727-1</td>\n",
       "      <td>727</td>\n",
       "      <td>1</td>\n",
       "      <td>풍림</td>\n",
       "      <td>49.830</td>\n",
       "      <td>200510</td>\n",
       "      <td>20</td>\n",
       "      <td>5,500</td>\n",
       "      <td>8</td>\n",
       "      <td>1998</td>\n",
       "      <td>회룡로 245</td>\n",
       "      <td>NaN</td>\n",
       "      <td></td>\n",
       "      <td>-</td>\n",
       "      <td>-</td>\n",
       "    </tr>\n",
       "    <tr>\n",
       "      <th>4</th>\n",
       "      <td>경기도 의정부시 용현동</td>\n",
       "      <td>46</td>\n",
       "      <td>46</td>\n",
       "      <td>0</td>\n",
       "      <td>용현현대1차</td>\n",
       "      <td>129.730</td>\n",
       "      <td>200511</td>\n",
       "      <td>21</td>\n",
       "      <td>12,200</td>\n",
       "      <td>11</td>\n",
       "      <td>1992</td>\n",
       "      <td>오목로 36</td>\n",
       "      <td>NaN</td>\n",
       "      <td></td>\n",
       "      <td>-</td>\n",
       "      <td>-</td>\n",
       "    </tr>\n",
       "    <tr>\n",
       "      <th>...</th>\n",
       "      <td>...</td>\n",
       "      <td>...</td>\n",
       "      <td>...</td>\n",
       "      <td>...</td>\n",
       "      <td>...</td>\n",
       "      <td>...</td>\n",
       "      <td>...</td>\n",
       "      <td>...</td>\n",
       "      <td>...</td>\n",
       "      <td>...</td>\n",
       "      <td>...</td>\n",
       "      <td>...</td>\n",
       "      <td>...</td>\n",
       "      <td>...</td>\n",
       "      <td>...</td>\n",
       "      <td>...</td>\n",
       "    </tr>\n",
       "    <tr>\n",
       "      <th>9591338</th>\n",
       "      <td>충청북도 충주시 호암동</td>\n",
       "      <td>547-6</td>\n",
       "      <td>0547</td>\n",
       "      <td>6</td>\n",
       "      <td>호반현대</td>\n",
       "      <td>84.960</td>\n",
       "      <td>202308</td>\n",
       "      <td>12</td>\n",
       "      <td>15,700</td>\n",
       "      <td>2</td>\n",
       "      <td>1994.0</td>\n",
       "      <td>신촌2길 29</td>\n",
       "      <td>NaN</td>\n",
       "      <td></td>\n",
       "      <td>중개거래</td>\n",
       "      <td>충북 충주시</td>\n",
       "    </tr>\n",
       "    <tr>\n",
       "      <th>9591339</th>\n",
       "      <td>충청북도 충주시 호암동</td>\n",
       "      <td>221-1</td>\n",
       "      <td>0221</td>\n",
       "      <td>1</td>\n",
       "      <td>호암리버빌(2단지)</td>\n",
       "      <td>84.680</td>\n",
       "      <td>202308</td>\n",
       "      <td>10</td>\n",
       "      <td>20,700</td>\n",
       "      <td>3</td>\n",
       "      <td>2002.0</td>\n",
       "      <td>호암중앙2로 5</td>\n",
       "      <td>NaN</td>\n",
       "      <td></td>\n",
       "      <td>중개거래</td>\n",
       "      <td>충북 충주시</td>\n",
       "    </tr>\n",
       "    <tr>\n",
       "      <th>9591340</th>\n",
       "      <td>충청북도 충주시 호암동</td>\n",
       "      <td>1191</td>\n",
       "      <td>1191</td>\n",
       "      <td>0</td>\n",
       "      <td>호암힐데스하임</td>\n",
       "      <td>84.950</td>\n",
       "      <td>202308</td>\n",
       "      <td>21</td>\n",
       "      <td>40,200</td>\n",
       "      <td>11</td>\n",
       "      <td>2019.0</td>\n",
       "      <td>호암토성2로 1</td>\n",
       "      <td>NaN</td>\n",
       "      <td></td>\n",
       "      <td>중개거래</td>\n",
       "      <td>충북 충주시</td>\n",
       "    </tr>\n",
       "    <tr>\n",
       "      <th>9591341</th>\n",
       "      <td>충청북도 충주시 호암동</td>\n",
       "      <td>1191</td>\n",
       "      <td>1191</td>\n",
       "      <td>0</td>\n",
       "      <td>호암힐데스하임</td>\n",
       "      <td>99.870</td>\n",
       "      <td>202308</td>\n",
       "      <td>26</td>\n",
       "      <td>50,000</td>\n",
       "      <td>13</td>\n",
       "      <td>2019.0</td>\n",
       "      <td>호암토성2로 1</td>\n",
       "      <td>NaN</td>\n",
       "      <td></td>\n",
       "      <td>중개거래</td>\n",
       "      <td>충북 충주시</td>\n",
       "    </tr>\n",
       "    <tr>\n",
       "      <th>9591342</th>\n",
       "      <td>충청북도 충주시 호암동</td>\n",
       "      <td>1191</td>\n",
       "      <td>1191</td>\n",
       "      <td>0</td>\n",
       "      <td>호암힐데스하임</td>\n",
       "      <td>99.800</td>\n",
       "      <td>202308</td>\n",
       "      <td>31</td>\n",
       "      <td>46,000</td>\n",
       "      <td>3</td>\n",
       "      <td>2019.0</td>\n",
       "      <td>호암토성2로 1</td>\n",
       "      <td>NaN</td>\n",
       "      <td></td>\n",
       "      <td>중개거래</td>\n",
       "      <td>충북 충주시</td>\n",
       "    </tr>\n",
       "  </tbody>\n",
       "</table>\n",
       "<p>9591343 rows × 16 columns</p>\n",
       "</div>"
      ],
      "text/plain": [
       "                        시군구     번지    본번 부번         단지명  전용면적(㎡)    계약년월 계약일  \\\n",
       "0        강원특별자치도 양구군 양구읍 상리    510   510  0          경림   59.400  200509  23   \n",
       "1              경기도 의정부시 민락동  756-7   756  7       한라비발디   84.990  200510  30   \n",
       "2              경기도 의정부시 신곡동    456   456  0         신일1   59.878  200510  20   \n",
       "3              경기도 의정부시 신곡동  727-1   727  1          풍림   49.830  200510  20   \n",
       "4              경기도 의정부시 용현동     46    46  0      용현현대1차  129.730  200511  21   \n",
       "...                     ...    ...   ... ..         ...      ...     ...  ..   \n",
       "9591338        충청북도 충주시 호암동  547-6  0547  6        호반현대   84.960  202308  12   \n",
       "9591339        충청북도 충주시 호암동  221-1  0221  1  호암리버빌(2단지)   84.680  202308  10   \n",
       "9591340        충청북도 충주시 호암동   1191  1191  0     호암힐데스하임   84.950  202308  21   \n",
       "9591341        충청북도 충주시 호암동   1191  1191  0     호암힐데스하임   99.870  202308  26   \n",
       "9591342        충청북도 충주시 호암동   1191  1191  0     호암힐데스하임   99.800  202308  31   \n",
       "\n",
       "        거래금액(만원)   층    건축년도          도로명  해제사유발생일 등기신청일자  거래유형  중개사소재지  \n",
       "0          5,000  11    1998   양록길23번길 11      NaN            -       -  \n",
       "1         12,750  19    2003       오목로 73      NaN            -       -  \n",
       "2          5,750   3    1997  시민로245번길 10      NaN            -       -  \n",
       "3          5,500   8    1998      회룡로 245      NaN            -       -  \n",
       "4         12,200  11    1992       오목로 36      NaN            -       -  \n",
       "...          ...  ..     ...          ...      ...    ...   ...     ...  \n",
       "9591338   15,700   2  1994.0      신촌2길 29      NaN         중개거래  충북 충주시  \n",
       "9591339   20,700   3  2002.0     호암중앙2로 5      NaN         중개거래  충북 충주시  \n",
       "9591340   40,200  11  2019.0     호암토성2로 1      NaN         중개거래  충북 충주시  \n",
       "9591341   50,000  13  2019.0     호암토성2로 1      NaN         중개거래  충북 충주시  \n",
       "9591342   46,000   3  2019.0     호암토성2로 1      NaN         중개거래  충북 충주시  \n",
       "\n",
       "[9591343 rows x 16 columns]"
      ]
     },
     "execution_count": 12,
     "metadata": {},
     "output_type": "execute_result"
    }
   ],
   "source": [
    "data.reset_index(drop=True) # drop=True를 해주면 인텍스가 없어지고 초기화된 인덱스로 데이터프레임이 만들어진다."
   ]
  },
  {
   "cell_type": "code",
   "execution_count": 13,
   "id": "98ca48b2",
   "metadata": {},
   "outputs": [],
   "source": [
    "data = data.reset_index(drop=True)"
   ]
  },
  {
   "cell_type": "markdown",
   "id": "5c608116",
   "metadata": {},
   "source": [
    "* 데이터 타입 맞추기(숫자나 문자 등), 결측값 처리하기, 삭제 할 컬럼 선정하기"
   ]
  },
  {
   "cell_type": "code",
   "execution_count": 14,
   "id": "6f7f6453",
   "metadata": {},
   "outputs": [
    {
     "name": "stdout",
     "output_type": "stream",
     "text": [
      "<class 'pandas.core.frame.DataFrame'>\n",
      "RangeIndex: 9591343 entries, 0 to 9591342\n",
      "Data columns (total 16 columns):\n",
      " #   Column    Dtype  \n",
      "---  ------    -----  \n",
      " 0   시군구       object \n",
      " 1   번지        object \n",
      " 2   본번        object \n",
      " 3   부번        object \n",
      " 4   단지명       object \n",
      " 5   전용면적(㎡)   float64\n",
      " 6   계약년월      object \n",
      " 7   계약일       object \n",
      " 8   거래금액(만원)  object \n",
      " 9   층         object \n",
      " 10  건축년도      object \n",
      " 11  도로명       object \n",
      " 12  해제사유발생일   float64\n",
      " 13  등기신청일자    object \n",
      " 14  거래유형      object \n",
      " 15  중개사소재지    object \n",
      "dtypes: float64(2), object(14)\n",
      "memory usage: 1.1+ GB\n"
     ]
    }
   ],
   "source": [
    "data.info()"
   ]
  },
  {
   "cell_type": "code",
   "execution_count": 15,
   "id": "ce373bb6",
   "metadata": {},
   "outputs": [
    {
     "data": {
      "text/html": [
       "<div>\n",
       "<style scoped>\n",
       "    .dataframe tbody tr th:only-of-type {\n",
       "        vertical-align: middle;\n",
       "    }\n",
       "\n",
       "    .dataframe tbody tr th {\n",
       "        vertical-align: top;\n",
       "    }\n",
       "\n",
       "    .dataframe thead th {\n",
       "        text-align: right;\n",
       "    }\n",
       "</style>\n",
       "<table border=\"1\" class=\"dataframe\">\n",
       "  <thead>\n",
       "    <tr style=\"text-align: right;\">\n",
       "      <th></th>\n",
       "      <th>시군구</th>\n",
       "      <th>번지</th>\n",
       "      <th>본번</th>\n",
       "      <th>부번</th>\n",
       "      <th>단지명</th>\n",
       "      <th>전용면적(㎡)</th>\n",
       "      <th>계약년월</th>\n",
       "      <th>계약일</th>\n",
       "      <th>거래금액(만원)</th>\n",
       "      <th>층</th>\n",
       "      <th>건축년도</th>\n",
       "      <th>도로명</th>\n",
       "      <th>해제사유발생일</th>\n",
       "      <th>등기신청일자</th>\n",
       "      <th>거래유형</th>\n",
       "      <th>중개사소재지</th>\n",
       "    </tr>\n",
       "  </thead>\n",
       "  <tbody>\n",
       "    <tr>\n",
       "      <th>9591338</th>\n",
       "      <td>충청북도 충주시 호암동</td>\n",
       "      <td>547-6</td>\n",
       "      <td>0547</td>\n",
       "      <td>6</td>\n",
       "      <td>호반현대</td>\n",
       "      <td>84.96</td>\n",
       "      <td>202308</td>\n",
       "      <td>12</td>\n",
       "      <td>15,700</td>\n",
       "      <td>2</td>\n",
       "      <td>1994.0</td>\n",
       "      <td>신촌2길 29</td>\n",
       "      <td>NaN</td>\n",
       "      <td></td>\n",
       "      <td>중개거래</td>\n",
       "      <td>충북 충주시</td>\n",
       "    </tr>\n",
       "    <tr>\n",
       "      <th>9591339</th>\n",
       "      <td>충청북도 충주시 호암동</td>\n",
       "      <td>221-1</td>\n",
       "      <td>0221</td>\n",
       "      <td>1</td>\n",
       "      <td>호암리버빌(2단지)</td>\n",
       "      <td>84.68</td>\n",
       "      <td>202308</td>\n",
       "      <td>10</td>\n",
       "      <td>20,700</td>\n",
       "      <td>3</td>\n",
       "      <td>2002.0</td>\n",
       "      <td>호암중앙2로 5</td>\n",
       "      <td>NaN</td>\n",
       "      <td></td>\n",
       "      <td>중개거래</td>\n",
       "      <td>충북 충주시</td>\n",
       "    </tr>\n",
       "    <tr>\n",
       "      <th>9591340</th>\n",
       "      <td>충청북도 충주시 호암동</td>\n",
       "      <td>1191</td>\n",
       "      <td>1191</td>\n",
       "      <td>0</td>\n",
       "      <td>호암힐데스하임</td>\n",
       "      <td>84.95</td>\n",
       "      <td>202308</td>\n",
       "      <td>21</td>\n",
       "      <td>40,200</td>\n",
       "      <td>11</td>\n",
       "      <td>2019.0</td>\n",
       "      <td>호암토성2로 1</td>\n",
       "      <td>NaN</td>\n",
       "      <td></td>\n",
       "      <td>중개거래</td>\n",
       "      <td>충북 충주시</td>\n",
       "    </tr>\n",
       "    <tr>\n",
       "      <th>9591341</th>\n",
       "      <td>충청북도 충주시 호암동</td>\n",
       "      <td>1191</td>\n",
       "      <td>1191</td>\n",
       "      <td>0</td>\n",
       "      <td>호암힐데스하임</td>\n",
       "      <td>99.87</td>\n",
       "      <td>202308</td>\n",
       "      <td>26</td>\n",
       "      <td>50,000</td>\n",
       "      <td>13</td>\n",
       "      <td>2019.0</td>\n",
       "      <td>호암토성2로 1</td>\n",
       "      <td>NaN</td>\n",
       "      <td></td>\n",
       "      <td>중개거래</td>\n",
       "      <td>충북 충주시</td>\n",
       "    </tr>\n",
       "    <tr>\n",
       "      <th>9591342</th>\n",
       "      <td>충청북도 충주시 호암동</td>\n",
       "      <td>1191</td>\n",
       "      <td>1191</td>\n",
       "      <td>0</td>\n",
       "      <td>호암힐데스하임</td>\n",
       "      <td>99.80</td>\n",
       "      <td>202308</td>\n",
       "      <td>31</td>\n",
       "      <td>46,000</td>\n",
       "      <td>3</td>\n",
       "      <td>2019.0</td>\n",
       "      <td>호암토성2로 1</td>\n",
       "      <td>NaN</td>\n",
       "      <td></td>\n",
       "      <td>중개거래</td>\n",
       "      <td>충북 충주시</td>\n",
       "    </tr>\n",
       "  </tbody>\n",
       "</table>\n",
       "</div>"
      ],
      "text/plain": [
       "                  시군구     번지    본번 부번         단지명  전용면적(㎡)    계약년월 계약일  \\\n",
       "9591338  충청북도 충주시 호암동  547-6  0547  6        호반현대    84.96  202308  12   \n",
       "9591339  충청북도 충주시 호암동  221-1  0221  1  호암리버빌(2단지)    84.68  202308  10   \n",
       "9591340  충청북도 충주시 호암동   1191  1191  0     호암힐데스하임    84.95  202308  21   \n",
       "9591341  충청북도 충주시 호암동   1191  1191  0     호암힐데스하임    99.87  202308  26   \n",
       "9591342  충청북도 충주시 호암동   1191  1191  0     호암힐데스하임    99.80  202308  31   \n",
       "\n",
       "        거래금액(만원)   층    건축년도       도로명  해제사유발생일 등기신청일자  거래유형  중개사소재지  \n",
       "9591338   15,700   2  1994.0   신촌2길 29      NaN         중개거래  충북 충주시  \n",
       "9591339   20,700   3  2002.0  호암중앙2로 5      NaN         중개거래  충북 충주시  \n",
       "9591340   40,200  11  2019.0  호암토성2로 1      NaN         중개거래  충북 충주시  \n",
       "9591341   50,000  13  2019.0  호암토성2로 1      NaN         중개거래  충북 충주시  \n",
       "9591342   46,000   3  2019.0  호암토성2로 1      NaN         중개거래  충북 충주시  "
      ]
     },
     "execution_count": 15,
     "metadata": {},
     "output_type": "execute_result"
    }
   ],
   "source": [
    "data.tail()"
   ]
  },
  {
   "cell_type": "markdown",
   "id": "617b48cf",
   "metadata": {},
   "source": [
    "* 데이터 타입 맞추기"
   ]
  },
  {
   "cell_type": "code",
   "execution_count": 18,
   "id": "d9aef836",
   "metadata": {},
   "outputs": [
    {
     "ename": "NameError",
     "evalue": "name 'df' is not defined",
     "output_type": "error",
     "traceback": [
      "\u001b[1;31m---------------------------------------------------------------------------\u001b[0m",
      "\u001b[1;31mNameError\u001b[0m                                 Traceback (most recent call last)",
      "Cell \u001b[1;32mIn[18], line 1\u001b[0m\n\u001b[1;32m----> 1\u001b[0m df[\u001b[38;5;124m'\u001b[39m\u001b[38;5;124m거래금액\u001b[39m\u001b[38;5;124m'\u001b[39m] \u001b[38;5;241m=\u001b[39m \u001b[43mdf\u001b[49m[\u001b[38;5;124m'\u001b[39m\u001b[38;5;124m거래금액\u001b[39m\u001b[38;5;124m'\u001b[39m]\u001b[38;5;241m.\u001b[39mstr\u001b[38;5;241m.\u001b[39mreplace(\u001b[38;5;124m'\u001b[39m\u001b[38;5;124m,\u001b[39m\u001b[38;5;124m'\u001b[39m, \u001b[38;5;124m'\u001b[39m\u001b[38;5;124m'\u001b[39m)\u001b[38;5;241m.\u001b[39mastype(\u001b[38;5;28mint\u001b[39m)\n",
      "\u001b[1;31mNameError\u001b[0m: name 'df' is not defined"
     ]
    }
   ],
   "source": [
    "df['거래금액'] = df['거래금액'].str.replace(',', '').astype(int) # str을 쓰면 반복문을 쓰는거랑 비슷한 용도!"
   ]
  },
  {
   "cell_type": "code",
   "execution_count": 19,
   "id": "ef6781cc",
   "metadata": {},
   "outputs": [],
   "source": [
    "# 거래금액 , 빼고 int로 변경\n",
    "data['거래금액(만원)'] = data['거래금액(만원)'].str.replace(',', '').astype(int)"
   ]
  },
  {
   "cell_type": "code",
   "execution_count": 20,
   "id": "c011fecf",
   "metadata": {},
   "outputs": [
    {
     "data": {
      "text/plain": [
       "0           5000\n",
       "1          12750\n",
       "2           5750\n",
       "3           5500\n",
       "4          12200\n",
       "           ...  \n",
       "9591338    15700\n",
       "9591339    20700\n",
       "9591340    40200\n",
       "9591341    50000\n",
       "9591342    46000\n",
       "Name: 거래금액(만원), Length: 9591343, dtype: int32"
      ]
     },
     "execution_count": 20,
     "metadata": {},
     "output_type": "execute_result"
    }
   ],
   "source": [
    "data['거래금액(만원)']"
   ]
  },
  {
   "cell_type": "code",
   "execution_count": 21,
   "id": "4fd5d258",
   "metadata": {},
   "outputs": [],
   "source": [
    "# object라는 건축년도를 float로 만들어 봄.\n",
    "data['건축년도'] = data['건축년도'].astype(float)"
   ]
  },
  {
   "cell_type": "code",
   "execution_count": 22,
   "id": "d75ee8bb",
   "metadata": {
    "scrolled": true
   },
   "outputs": [
    {
     "data": {
      "text/plain": [
       "0          1998.0\n",
       "1          2003.0\n",
       "2          1997.0\n",
       "3          1998.0\n",
       "4          1992.0\n",
       "            ...  \n",
       "9591338    1994.0\n",
       "9591339    2002.0\n",
       "9591340    2019.0\n",
       "9591341    2019.0\n",
       "9591342    2019.0\n",
       "Name: 건축년도, Length: 9591343, dtype: float64"
      ]
     },
     "execution_count": 22,
     "metadata": {},
     "output_type": "execute_result"
    }
   ],
   "source": [
    "data['건축년도']"
   ]
  },
  {
   "cell_type": "markdown",
   "id": "ed3a5205",
   "metadata": {},
   "source": [
    "*  결측값 처리하기"
   ]
  },
  {
   "cell_type": "code",
   "execution_count": 23,
   "id": "6e1fd693",
   "metadata": {},
   "outputs": [
    {
     "data": {
      "text/plain": [
       "시군구               0\n",
       "번지              258\n",
       "본번               76\n",
       "부번               76\n",
       "단지명               0\n",
       "전용면적(㎡)           0\n",
       "계약년월              0\n",
       "계약일               0\n",
       "거래금액(만원)          0\n",
       "층                 0\n",
       "건축년도            115\n",
       "도로명               0\n",
       "해제사유발생일     9497436\n",
       "등기신청일자            0\n",
       "거래유형              0\n",
       "중개사소재지            0\n",
       "dtype: int64"
      ]
     },
     "execution_count": 23,
     "metadata": {},
     "output_type": "execute_result"
    }
   ],
   "source": [
    "data.isna().sum()"
   ]
  },
  {
   "cell_type": "markdown",
   "id": "9a83dbd9",
   "metadata": {},
   "source": [
    "* 번지, 부번, 본번, 건축년도, 해제사유발생일에 결측값이 있음."
   ]
  },
  {
   "cell_type": "code",
   "execution_count": 24,
   "id": "5b6f064f",
   "metadata": {},
   "outputs": [
    {
     "data": {
      "text/plain": [
       "115"
      ]
     },
     "execution_count": 24,
     "metadata": {},
     "output_type": "execute_result"
    }
   ],
   "source": [
    "data['건축년도'].isna().sum()"
   ]
  },
  {
   "cell_type": "code",
   "execution_count": 25,
   "id": "770d390e",
   "metadata": {},
   "outputs": [],
   "source": [
    "# 건축년도에 있는 115개의 na값을 삭제함.\n",
    "data['건축년도'] = data['건축년도'].dropna()"
   ]
  },
  {
   "cell_type": "markdown",
   "id": "6cf29c40",
   "metadata": {},
   "source": [
    "* 필요없는 컬럼 삭제"
   ]
  },
  {
   "cell_type": "markdown",
   "id": "0363baa4",
   "metadata": {},
   "source": [
    "drop('컬럼명', axis=1)"
   ]
  },
  {
   "cell_type": "code",
   "execution_count": 30,
   "id": "f3f6f2f4",
   "metadata": {},
   "outputs": [
    {
     "data": {
      "text/plain": [
       "Index(['시군구', '단지명', '전용면적(㎡)', '계약년월', '거래금액(만원)', '층', '건축년도'], dtype='object')"
      ]
     },
     "execution_count": 30,
     "metadata": {},
     "output_type": "execute_result"
    }
   ],
   "source": [
    "data.columns"
   ]
  },
  {
   "cell_type": "code",
   "execution_count": 29,
   "id": "e78830b8",
   "metadata": {},
   "outputs": [
    {
     "ename": "KeyError",
     "evalue": "\"['번지', '본번', '부번', '계약일', '도로명', '해제사유발생일', '등기신청일자', '거래유형', '중개사소재지'] not found in axis\"",
     "output_type": "error",
     "traceback": [
      "\u001b[1;31m---------------------------------------------------------------------------\u001b[0m",
      "\u001b[1;31mKeyError\u001b[0m                                  Traceback (most recent call last)",
      "Cell \u001b[1;32mIn[29], line 1\u001b[0m\n\u001b[1;32m----> 1\u001b[0m data \u001b[38;5;241m=\u001b[39m \u001b[43mdata\u001b[49m\u001b[38;5;241;43m.\u001b[39;49m\u001b[43mdrop\u001b[49m\u001b[43m(\u001b[49m\u001b[43m[\u001b[49m\u001b[38;5;124;43m'\u001b[39;49m\u001b[38;5;124;43m번지\u001b[39;49m\u001b[38;5;124;43m'\u001b[39;49m\u001b[43m,\u001b[49m\u001b[43m \u001b[49m\u001b[38;5;124;43m'\u001b[39;49m\u001b[38;5;124;43m본번\u001b[39;49m\u001b[38;5;124;43m'\u001b[39;49m\u001b[43m,\u001b[49m\u001b[43m \u001b[49m\u001b[38;5;124;43m'\u001b[39;49m\u001b[38;5;124;43m부번\u001b[39;49m\u001b[38;5;124;43m'\u001b[39;49m\u001b[43m,\u001b[49m\u001b[43m \u001b[49m\u001b[38;5;124;43m'\u001b[39;49m\u001b[38;5;124;43m계약일\u001b[39;49m\u001b[38;5;124;43m'\u001b[39;49m\u001b[43m,\u001b[49m\u001b[43m \u001b[49m\u001b[38;5;124;43m'\u001b[39;49m\u001b[38;5;124;43m도로명\u001b[39;49m\u001b[38;5;124;43m'\u001b[39;49m\u001b[43m,\u001b[49m\u001b[43m \u001b[49m\u001b[38;5;124;43m'\u001b[39;49m\u001b[38;5;124;43m해제사유발생일\u001b[39;49m\u001b[38;5;124;43m'\u001b[39;49m\u001b[43m,\u001b[49m\u001b[43m \u001b[49m\u001b[38;5;124;43m'\u001b[39;49m\u001b[38;5;124;43m등기신청일자\u001b[39;49m\u001b[38;5;124;43m'\u001b[39;49m\u001b[43m,\u001b[49m\u001b[43m \u001b[49m\u001b[38;5;124;43m'\u001b[39;49m\u001b[38;5;124;43m거래유형\u001b[39;49m\u001b[38;5;124;43m'\u001b[39;49m\u001b[43m,\u001b[49m\u001b[43m \u001b[49m\u001b[38;5;124;43m'\u001b[39;49m\u001b[38;5;124;43m중개사소재지\u001b[39;49m\u001b[38;5;124;43m'\u001b[39;49m\u001b[43m]\u001b[49m\u001b[43m,\u001b[49m\u001b[43maxis\u001b[49m\u001b[38;5;241;43m=\u001b[39;49m\u001b[38;5;241;43m1\u001b[39;49m\u001b[43m)\u001b[49m\n",
      "File \u001b[1;32m~\\anaconda3\\envs\\testenv\\lib\\site-packages\\pandas\\core\\frame.py:5258\u001b[0m, in \u001b[0;36mDataFrame.drop\u001b[1;34m(self, labels, axis, index, columns, level, inplace, errors)\u001b[0m\n\u001b[0;32m   5110\u001b[0m \u001b[38;5;28;01mdef\u001b[39;00m \u001b[38;5;21mdrop\u001b[39m(\n\u001b[0;32m   5111\u001b[0m     \u001b[38;5;28mself\u001b[39m,\n\u001b[0;32m   5112\u001b[0m     labels: IndexLabel \u001b[38;5;241m=\u001b[39m \u001b[38;5;28;01mNone\u001b[39;00m,\n\u001b[1;32m   (...)\u001b[0m\n\u001b[0;32m   5119\u001b[0m     errors: IgnoreRaise \u001b[38;5;241m=\u001b[39m \u001b[38;5;124m\"\u001b[39m\u001b[38;5;124mraise\u001b[39m\u001b[38;5;124m\"\u001b[39m,\n\u001b[0;32m   5120\u001b[0m ) \u001b[38;5;241m-\u001b[39m\u001b[38;5;241m>\u001b[39m DataFrame \u001b[38;5;241m|\u001b[39m \u001b[38;5;28;01mNone\u001b[39;00m:\n\u001b[0;32m   5121\u001b[0m \u001b[38;5;250m    \u001b[39m\u001b[38;5;124;03m\"\"\"\u001b[39;00m\n\u001b[0;32m   5122\u001b[0m \u001b[38;5;124;03m    Drop specified labels from rows or columns.\u001b[39;00m\n\u001b[0;32m   5123\u001b[0m \n\u001b[1;32m   (...)\u001b[0m\n\u001b[0;32m   5256\u001b[0m \u001b[38;5;124;03m            weight  1.0     0.8\u001b[39;00m\n\u001b[0;32m   5257\u001b[0m \u001b[38;5;124;03m    \"\"\"\u001b[39;00m\n\u001b[1;32m-> 5258\u001b[0m     \u001b[38;5;28;01mreturn\u001b[39;00m \u001b[38;5;28;43msuper\u001b[39;49m\u001b[43m(\u001b[49m\u001b[43m)\u001b[49m\u001b[38;5;241;43m.\u001b[39;49m\u001b[43mdrop\u001b[49m\u001b[43m(\u001b[49m\n\u001b[0;32m   5259\u001b[0m \u001b[43m        \u001b[49m\u001b[43mlabels\u001b[49m\u001b[38;5;241;43m=\u001b[39;49m\u001b[43mlabels\u001b[49m\u001b[43m,\u001b[49m\n\u001b[0;32m   5260\u001b[0m \u001b[43m        \u001b[49m\u001b[43maxis\u001b[49m\u001b[38;5;241;43m=\u001b[39;49m\u001b[43maxis\u001b[49m\u001b[43m,\u001b[49m\n\u001b[0;32m   5261\u001b[0m \u001b[43m        \u001b[49m\u001b[43mindex\u001b[49m\u001b[38;5;241;43m=\u001b[39;49m\u001b[43mindex\u001b[49m\u001b[43m,\u001b[49m\n\u001b[0;32m   5262\u001b[0m \u001b[43m        \u001b[49m\u001b[43mcolumns\u001b[49m\u001b[38;5;241;43m=\u001b[39;49m\u001b[43mcolumns\u001b[49m\u001b[43m,\u001b[49m\n\u001b[0;32m   5263\u001b[0m \u001b[43m        \u001b[49m\u001b[43mlevel\u001b[49m\u001b[38;5;241;43m=\u001b[39;49m\u001b[43mlevel\u001b[49m\u001b[43m,\u001b[49m\n\u001b[0;32m   5264\u001b[0m \u001b[43m        \u001b[49m\u001b[43minplace\u001b[49m\u001b[38;5;241;43m=\u001b[39;49m\u001b[43minplace\u001b[49m\u001b[43m,\u001b[49m\n\u001b[0;32m   5265\u001b[0m \u001b[43m        \u001b[49m\u001b[43merrors\u001b[49m\u001b[38;5;241;43m=\u001b[39;49m\u001b[43merrors\u001b[49m\u001b[43m,\u001b[49m\n\u001b[0;32m   5266\u001b[0m \u001b[43m    \u001b[49m\u001b[43m)\u001b[49m\n",
      "File \u001b[1;32m~\\anaconda3\\envs\\testenv\\lib\\site-packages\\pandas\\core\\generic.py:4549\u001b[0m, in \u001b[0;36mNDFrame.drop\u001b[1;34m(self, labels, axis, index, columns, level, inplace, errors)\u001b[0m\n\u001b[0;32m   4547\u001b[0m \u001b[38;5;28;01mfor\u001b[39;00m axis, labels \u001b[38;5;129;01min\u001b[39;00m axes\u001b[38;5;241m.\u001b[39mitems():\n\u001b[0;32m   4548\u001b[0m     \u001b[38;5;28;01mif\u001b[39;00m labels \u001b[38;5;129;01mis\u001b[39;00m \u001b[38;5;129;01mnot\u001b[39;00m \u001b[38;5;28;01mNone\u001b[39;00m:\n\u001b[1;32m-> 4549\u001b[0m         obj \u001b[38;5;241m=\u001b[39m \u001b[43mobj\u001b[49m\u001b[38;5;241;43m.\u001b[39;49m\u001b[43m_drop_axis\u001b[49m\u001b[43m(\u001b[49m\u001b[43mlabels\u001b[49m\u001b[43m,\u001b[49m\u001b[43m \u001b[49m\u001b[43maxis\u001b[49m\u001b[43m,\u001b[49m\u001b[43m \u001b[49m\u001b[43mlevel\u001b[49m\u001b[38;5;241;43m=\u001b[39;49m\u001b[43mlevel\u001b[49m\u001b[43m,\u001b[49m\u001b[43m \u001b[49m\u001b[43merrors\u001b[49m\u001b[38;5;241;43m=\u001b[39;49m\u001b[43merrors\u001b[49m\u001b[43m)\u001b[49m\n\u001b[0;32m   4551\u001b[0m \u001b[38;5;28;01mif\u001b[39;00m inplace:\n\u001b[0;32m   4552\u001b[0m     \u001b[38;5;28mself\u001b[39m\u001b[38;5;241m.\u001b[39m_update_inplace(obj)\n",
      "File \u001b[1;32m~\\anaconda3\\envs\\testenv\\lib\\site-packages\\pandas\\core\\generic.py:4591\u001b[0m, in \u001b[0;36mNDFrame._drop_axis\u001b[1;34m(self, labels, axis, level, errors, only_slice)\u001b[0m\n\u001b[0;32m   4589\u001b[0m         new_axis \u001b[38;5;241m=\u001b[39m axis\u001b[38;5;241m.\u001b[39mdrop(labels, level\u001b[38;5;241m=\u001b[39mlevel, errors\u001b[38;5;241m=\u001b[39merrors)\n\u001b[0;32m   4590\u001b[0m     \u001b[38;5;28;01melse\u001b[39;00m:\n\u001b[1;32m-> 4591\u001b[0m         new_axis \u001b[38;5;241m=\u001b[39m \u001b[43maxis\u001b[49m\u001b[38;5;241;43m.\u001b[39;49m\u001b[43mdrop\u001b[49m\u001b[43m(\u001b[49m\u001b[43mlabels\u001b[49m\u001b[43m,\u001b[49m\u001b[43m \u001b[49m\u001b[43merrors\u001b[49m\u001b[38;5;241;43m=\u001b[39;49m\u001b[43merrors\u001b[49m\u001b[43m)\u001b[49m\n\u001b[0;32m   4592\u001b[0m     indexer \u001b[38;5;241m=\u001b[39m axis\u001b[38;5;241m.\u001b[39mget_indexer(new_axis)\n\u001b[0;32m   4594\u001b[0m \u001b[38;5;66;03m# Case for non-unique axis\u001b[39;00m\n\u001b[0;32m   4595\u001b[0m \u001b[38;5;28;01melse\u001b[39;00m:\n",
      "File \u001b[1;32m~\\anaconda3\\envs\\testenv\\lib\\site-packages\\pandas\\core\\indexes\\base.py:6699\u001b[0m, in \u001b[0;36mIndex.drop\u001b[1;34m(self, labels, errors)\u001b[0m\n\u001b[0;32m   6697\u001b[0m \u001b[38;5;28;01mif\u001b[39;00m mask\u001b[38;5;241m.\u001b[39many():\n\u001b[0;32m   6698\u001b[0m     \u001b[38;5;28;01mif\u001b[39;00m errors \u001b[38;5;241m!=\u001b[39m \u001b[38;5;124m\"\u001b[39m\u001b[38;5;124mignore\u001b[39m\u001b[38;5;124m\"\u001b[39m:\n\u001b[1;32m-> 6699\u001b[0m         \u001b[38;5;28;01mraise\u001b[39;00m \u001b[38;5;167;01mKeyError\u001b[39;00m(\u001b[38;5;124mf\u001b[39m\u001b[38;5;124m\"\u001b[39m\u001b[38;5;132;01m{\u001b[39;00m\u001b[38;5;28mlist\u001b[39m(labels[mask])\u001b[38;5;132;01m}\u001b[39;00m\u001b[38;5;124m not found in axis\u001b[39m\u001b[38;5;124m\"\u001b[39m)\n\u001b[0;32m   6700\u001b[0m     indexer \u001b[38;5;241m=\u001b[39m indexer[\u001b[38;5;241m~\u001b[39mmask]\n\u001b[0;32m   6701\u001b[0m \u001b[38;5;28;01mreturn\u001b[39;00m \u001b[38;5;28mself\u001b[39m\u001b[38;5;241m.\u001b[39mdelete(indexer)\n",
      "\u001b[1;31mKeyError\u001b[0m: \"['번지', '본번', '부번', '계약일', '도로명', '해제사유발생일', '등기신청일자', '거래유형', '중개사소재지'] not found in axis\""
     ]
    }
   ],
   "source": [
    "data = data.drop(['번지', '본번', '부번', '계약일', '도로명', '해제사유발생일', '등기신청일자', '거래유형', '중개사소재지'],axis=1)"
   ]
  },
  {
   "cell_type": "code",
   "execution_count": 31,
   "id": "ba2f9614",
   "metadata": {},
   "outputs": [
    {
     "data": {
      "text/plain": [
       "시군구           0\n",
       "단지명           0\n",
       "전용면적(㎡)       0\n",
       "계약년월          0\n",
       "거래금액(만원)      0\n",
       "층             0\n",
       "건축년도        115\n",
       "dtype: int64"
      ]
     },
     "execution_count": 31,
     "metadata": {},
     "output_type": "execute_result"
    }
   ],
   "source": [
    "data.isna().sum()"
   ]
  },
  {
   "cell_type": "code",
   "execution_count": 32,
   "id": "b58ba2a7",
   "metadata": {},
   "outputs": [],
   "source": [
    "data = data.dropna()"
   ]
  },
  {
   "cell_type": "code",
   "execution_count": null,
   "id": "59c55be0",
   "metadata": {},
   "outputs": [],
   "source": [
    "data.isna().sum()"
   ]
  },
  {
   "cell_type": "code",
   "execution_count": 35,
   "id": "44a42db3",
   "metadata": {},
   "outputs": [
    {
     "name": "stdout",
     "output_type": "stream",
     "text": [
      "<class 'pandas.core.frame.DataFrame'>\n",
      "RangeIndex: 9591228 entries, 0 to 9591227\n",
      "Data columns (total 7 columns):\n",
      " #   Column    Dtype  \n",
      "---  ------    -----  \n",
      " 0   시군구       object \n",
      " 1   단지명       object \n",
      " 2   전용면적(㎡)   float64\n",
      " 3   계약년월      object \n",
      " 4   거래금액(만원)  int32  \n",
      " 5   층         object \n",
      " 6   건축년도      float64\n",
      "dtypes: float64(2), int32(1), object(4)\n",
      "memory usage: 475.6+ MB\n"
     ]
    }
   ],
   "source": [
    "data.info()"
   ]
  },
  {
   "cell_type": "code",
   "execution_count": 33,
   "id": "7b656eeb",
   "metadata": {},
   "outputs": [],
   "source": [
    "# na값을 drop했으니까 인덱스 리셋을 다시해주자.\n",
    "data = data.reset_index(drop=True)"
   ]
  },
  {
   "cell_type": "code",
   "execution_count": 34,
   "id": "916b675d",
   "metadata": {},
   "outputs": [
    {
     "data": {
      "text/plain": [
       "88"
      ]
     },
     "execution_count": 34,
     "metadata": {},
     "output_type": "execute_result"
    }
   ],
   "source": [
    "data['층'].nunique()"
   ]
  },
  {
   "cell_type": "code",
   "execution_count": null,
   "id": "cf00ce24",
   "metadata": {},
   "outputs": [],
   "source": [
    "data['층'].unique()"
   ]
  },
  {
   "cell_type": "code",
   "execution_count": null,
   "id": "cb0d004f",
   "metadata": {},
   "outputs": [],
   "source": [
    "data[data['층']==82]"
   ]
  },
  {
   "cell_type": "code",
   "execution_count": null,
   "id": "2e60f82b",
   "metadata": {},
   "outputs": [],
   "source": [
    "data[data['층']==-4]"
   ]
  },
  {
   "cell_type": "code",
   "execution_count": null,
   "id": "b66b482d",
   "metadata": {},
   "outputs": [],
   "source": [
    "data['단지명'].nunique()"
   ]
  },
  {
   "cell_type": "code",
   "execution_count": null,
   "id": "25894af4",
   "metadata": {
    "scrolled": true
   },
   "outputs": [],
   "source": [
    "data['거래금액(만원)'].describe()"
   ]
  },
  {
   "cell_type": "code",
   "execution_count": null,
   "id": "f2420572",
   "metadata": {},
   "outputs": [],
   "source": [
    "data['층'] = data['층'].astype('int')"
   ]
  },
  {
   "cell_type": "code",
   "execution_count": null,
   "id": "ae4c4680",
   "metadata": {},
   "outputs": [],
   "source": [
    "data.info()"
   ]
  },
  {
   "cell_type": "code",
   "execution_count": null,
   "id": "55926301",
   "metadata": {},
   "outputs": [],
   "source": [
    "# 시군구를 나눠볼까?\n",
    "data['시군구'].str.split()"
   ]
  },
  {
   "cell_type": "code",
   "execution_count": null,
   "id": "b754e755",
   "metadata": {},
   "outputs": [],
   "source": [
    "data['시군구2'] = data['시군구'].str.split()"
   ]
  },
  {
   "cell_type": "code",
   "execution_count": null,
   "id": "1f8c5a3a",
   "metadata": {
    "scrolled": true
   },
   "outputs": [],
   "source": [
    "data.head()"
   ]
  },
  {
   "cell_type": "code",
   "execution_count": null,
   "id": "b257dc15",
   "metadata": {},
   "outputs": [],
   "source": [
    "# 읍, 면, 리 .. 어떤건 4개로 나눠지고 어떤건 3로 나눠지고\n",
    "data['시군구len'] = data['시군구2'].apply(len)"
   ]
  },
  {
   "cell_type": "code",
   "execution_count": null,
   "id": "e0d3a9bb",
   "metadata": {},
   "outputs": [],
   "source": [
    "data.head()"
   ]
  },
  {
   "cell_type": "code",
   "execution_count": null,
   "id": "1d3814ec",
   "metadata": {},
   "outputs": [],
   "source": [
    "# 2는 뭐지??\n",
    "data['시군구len'].unique()"
   ]
  },
  {
   "cell_type": "code",
   "execution_count": null,
   "id": "248ef8b4",
   "metadata": {},
   "outputs": [],
   "source": [
    "# 2는 세종특별자치시네\n",
    "data[data['시군구len'] ==2]"
   ]
  },
  {
   "cell_type": "code",
   "execution_count": null,
   "id": "20188415",
   "metadata": {},
   "outputs": [],
   "source": [
    "data[data['시군구len'] ==3]"
   ]
  },
  {
   "cell_type": "code",
   "execution_count": null,
   "id": "a77f9f32",
   "metadata": {},
   "outputs": [],
   "source": [
    "data['시군구2'].apply(lambda x: x[0])"
   ]
  },
  {
   "cell_type": "code",
   "execution_count": null,
   "id": "17968145",
   "metadata": {},
   "outputs": [],
   "source": [
    "data['시도'] = data['시군구2']"
   ]
  },
  {
   "cell_type": "code",
   "execution_count": null,
   "id": "9718e20e",
   "metadata": {},
   "outputs": [],
   "source": [
    "def sigungu(x):\n",
    "    if len(x) < 3:\n",
    "        return x[0]"
   ]
  },
  {
   "cell_type": "code",
   "execution_count": null,
   "id": "72175391",
   "metadata": {},
   "outputs": [],
   "source": [
    "data = data.drop(['시군구2', '시군구len'], axis=1)"
   ]
  },
  {
   "cell_type": "code",
   "execution_count": null,
   "id": "490f1081",
   "metadata": {},
   "outputs": [],
   "source": [
    "data.head()"
   ]
  },
  {
   "cell_type": "code",
   "execution_count": null,
   "id": "159b967b",
   "metadata": {},
   "outputs": [],
   "source": [
    "data['시군구'].nunique()"
   ]
  },
  {
   "cell_type": "code",
   "execution_count": null,
   "id": "89d4b432",
   "metadata": {},
   "outputs": [],
   "source": [
    "data['단지명'].nunique()"
   ]
  },
  {
   "cell_type": "code",
   "execution_count": 36,
   "id": "da6ad523",
   "metadata": {},
   "outputs": [
    {
     "data": {
      "text/html": [
       "<div>\n",
       "<style scoped>\n",
       "    .dataframe tbody tr th:only-of-type {\n",
       "        vertical-align: middle;\n",
       "    }\n",
       "\n",
       "    .dataframe tbody tr th {\n",
       "        vertical-align: top;\n",
       "    }\n",
       "\n",
       "    .dataframe thead th {\n",
       "        text-align: right;\n",
       "    }\n",
       "</style>\n",
       "<table border=\"1\" class=\"dataframe\">\n",
       "  <thead>\n",
       "    <tr style=\"text-align: right;\">\n",
       "      <th></th>\n",
       "      <th>시군구</th>\n",
       "      <th>단지명</th>\n",
       "      <th>전용면적(㎡)</th>\n",
       "      <th>계약년월</th>\n",
       "      <th>거래금액(만원)</th>\n",
       "      <th>층</th>\n",
       "      <th>건축년도</th>\n",
       "    </tr>\n",
       "  </thead>\n",
       "  <tbody>\n",
       "    <tr>\n",
       "      <th>0</th>\n",
       "      <td>강원특별자치도 양구군 양구읍 상리</td>\n",
       "      <td>경림</td>\n",
       "      <td>59.400</td>\n",
       "      <td>200509</td>\n",
       "      <td>5000</td>\n",
       "      <td>11</td>\n",
       "      <td>1998.0</td>\n",
       "    </tr>\n",
       "    <tr>\n",
       "      <th>1</th>\n",
       "      <td>경기도 의정부시 민락동</td>\n",
       "      <td>한라비발디</td>\n",
       "      <td>84.990</td>\n",
       "      <td>200510</td>\n",
       "      <td>12750</td>\n",
       "      <td>19</td>\n",
       "      <td>2003.0</td>\n",
       "    </tr>\n",
       "    <tr>\n",
       "      <th>2</th>\n",
       "      <td>경기도 의정부시 신곡동</td>\n",
       "      <td>신일1</td>\n",
       "      <td>59.878</td>\n",
       "      <td>200510</td>\n",
       "      <td>5750</td>\n",
       "      <td>3</td>\n",
       "      <td>1997.0</td>\n",
       "    </tr>\n",
       "    <tr>\n",
       "      <th>3</th>\n",
       "      <td>경기도 의정부시 신곡동</td>\n",
       "      <td>풍림</td>\n",
       "      <td>49.830</td>\n",
       "      <td>200510</td>\n",
       "      <td>5500</td>\n",
       "      <td>8</td>\n",
       "      <td>1998.0</td>\n",
       "    </tr>\n",
       "    <tr>\n",
       "      <th>4</th>\n",
       "      <td>경기도 의정부시 용현동</td>\n",
       "      <td>용현현대1차</td>\n",
       "      <td>129.730</td>\n",
       "      <td>200511</td>\n",
       "      <td>12200</td>\n",
       "      <td>11</td>\n",
       "      <td>1992.0</td>\n",
       "    </tr>\n",
       "  </tbody>\n",
       "</table>\n",
       "</div>"
      ],
      "text/plain": [
       "                  시군구     단지명  전용면적(㎡)    계약년월  거래금액(만원)   층    건축년도\n",
       "0  강원특별자치도 양구군 양구읍 상리      경림   59.400  200509      5000  11  1998.0\n",
       "1        경기도 의정부시 민락동   한라비발디   84.990  200510     12750  19  2003.0\n",
       "2        경기도 의정부시 신곡동     신일1   59.878  200510      5750   3  1997.0\n",
       "3        경기도 의정부시 신곡동      풍림   49.830  200510      5500   8  1998.0\n",
       "4        경기도 의정부시 용현동  용현현대1차  129.730  200511     12200  11  1992.0"
      ]
     },
     "execution_count": 36,
     "metadata": {},
     "output_type": "execute_result"
    }
   ],
   "source": [
    "data.head()"
   ]
  },
  {
   "cell_type": "code",
   "execution_count": 38,
   "id": "e956ba79",
   "metadata": {},
   "outputs": [],
   "source": [
    "data.to_csv(\"./data/부동산실거래가2008-2023.csv\", index=False)"
   ]
  },
  {
   "cell_type": "code",
   "execution_count": null,
   "id": "7e59fc2b",
   "metadata": {},
   "outputs": [],
   "source": []
  },
  {
   "cell_type": "code",
   "execution_count": null,
   "id": "d11a91fd",
   "metadata": {},
   "outputs": [],
   "source": []
  },
  {
   "cell_type": "code",
   "execution_count": 1,
   "id": "72b4194d",
   "metadata": {},
   "outputs": [],
   "source": [
    "from sklearn.preprocessing import LabelEncoder"
   ]
  },
  {
   "cell_type": "code",
   "execution_count": 2,
   "id": "0063d50e",
   "metadata": {
    "scrolled": true
   },
   "outputs": [
    {
     "ename": "NameError",
     "evalue": "name 'data' is not defined",
     "output_type": "error",
     "traceback": [
      "\u001b[1;31m---------------------------------------------------------------------------\u001b[0m",
      "\u001b[1;31mNameError\u001b[0m                                 Traceback (most recent call last)",
      "Cell \u001b[1;32mIn[2], line 3\u001b[0m\n\u001b[0;32m      1\u001b[0m \u001b[38;5;66;03m# 주소를 숫자로 변경 \u001b[39;00m\n\u001b[0;32m      2\u001b[0m le \u001b[38;5;241m=\u001b[39m LabelEncoder()\n\u001b[1;32m----> 3\u001b[0m data[\u001b[38;5;124m'\u001b[39m\u001b[38;5;124m시군구\u001b[39m\u001b[38;5;124m'\u001b[39m] \u001b[38;5;241m=\u001b[39m le\u001b[38;5;241m.\u001b[39mfit_transform(\u001b[43mdata\u001b[49m[\u001b[38;5;124m'\u001b[39m\u001b[38;5;124m시군구\u001b[39m\u001b[38;5;124m'\u001b[39m])\n\u001b[0;32m      4\u001b[0m \u001b[38;5;28mprint\u001b[39m(le\u001b[38;5;241m.\u001b[39mclasses_)\n",
      "\u001b[1;31mNameError\u001b[0m: name 'data' is not defined"
     ]
    }
   ],
   "source": [
    "# 주소를 숫자로 변경 \n",
    "le = LabelEncoder()\n",
    "data['시군구'] = le.fit_transform(data['시군구'])\n",
    "print(le.classes_)"
   ]
  },
  {
   "cell_type": "code",
   "execution_count": null,
   "id": "b5de0be5",
   "metadata": {},
   "outputs": [],
   "source": [
    "data['시군구'][3]"
   ]
  },
  {
   "cell_type": "code",
   "execution_count": null,
   "id": "bbcf16f9",
   "metadata": {
    "scrolled": true
   },
   "outputs": [],
   "source": [
    "# 숫자에 있는 문자가 뭔지 1개의 데이터만 확인.\n",
    "le.inverse_transform(data['시군구'][3:4])"
   ]
  },
  {
   "cell_type": "code",
   "execution_count": null,
   "id": "7866dac7",
   "metadata": {},
   "outputs": [],
   "source": [
    "le.classes_"
   ]
  },
  {
   "cell_type": "code",
   "execution_count": null,
   "id": "bbd52497",
   "metadata": {},
   "outputs": [],
   "source": [
    "# 주소를 숫자로 변경  새로운 거 알기 위해서는 Label에다가 다시 넣어야 해. 컬럼 하나만 가능.\n",
    "le2 = LabelEncoder()\n",
    "data['단지명'] = le2.fit_transform(data['단지명'])\n",
    "print(le.classes_)"
   ]
  },
  {
   "cell_type": "code",
   "execution_count": null,
   "id": "d64b0df7",
   "metadata": {},
   "outputs": [],
   "source": [
    "data['단지명']"
   ]
  },
  {
   "cell_type": "code",
   "execution_count": null,
   "id": "6cb2494e",
   "metadata": {},
   "outputs": [],
   "source": [
    "le2.inverse_transform(data['단지명'][0:1])"
   ]
  },
  {
   "cell_type": "code",
   "execution_count": null,
   "id": "94dbccbc",
   "metadata": {},
   "outputs": [],
   "source": [
    "data = data.rename(columns={\"전용면적(㎡)\" : \"전용면적\"})"
   ]
  },
  {
   "cell_type": "code",
   "execution_count": null,
   "id": "1a16ef84",
   "metadata": {},
   "outputs": [],
   "source": [
    "data.head()"
   ]
  },
  {
   "cell_type": "code",
   "execution_count": null,
   "id": "2bf30da3",
   "metadata": {
    "scrolled": true
   },
   "outputs": [],
   "source": [
    "data.head()"
   ]
  },
  {
   "cell_type": "code",
   "execution_count": null,
   "id": "a34d3353",
   "metadata": {},
   "outputs": [],
   "source": [
    "X = data.drop('거래금액(만원)', axis=1)\n",
    "y = data['거래금액(만원)']"
   ]
  },
  {
   "cell_type": "code",
   "execution_count": null,
   "id": "789dd039",
   "metadata": {},
   "outputs": [],
   "source": [
    "data['전용면적'].plot(kind='box')"
   ]
  },
  {
   "cell_type": "code",
   "execution_count": null,
   "id": "bb78fdf6",
   "metadata": {},
   "outputs": [],
   "source": [
    "data['거래금액(만원)'].plot(kind='box')"
   ]
  },
  {
   "cell_type": "code",
   "execution_count": null,
   "id": "431586e0",
   "metadata": {},
   "outputs": [],
   "source": [
    "cols = X.columns"
   ]
  },
  {
   "cell_type": "code",
   "execution_count": null,
   "id": "c07b3da0",
   "metadata": {},
   "outputs": [],
   "source": [
    "# 치우쳐저 있는 이상값이 많을 때는 RobustScaler 사용하기!\n",
    "from sklearn.preprocessing import RobustScaler\n",
    "rc = RobustScaler()\n",
    "X = rc.fit_transform(X)\n",
    "X = pd.DataFrame(X, columns=cols)"
   ]
  },
  {
   "cell_type": "code",
   "execution_count": null,
   "id": "5c6fe437",
   "metadata": {},
   "outputs": [],
   "source": [
    "X.head()"
   ]
  },
  {
   "cell_type": "code",
   "execution_count": null,
   "id": "7d4e335e",
   "metadata": {},
   "outputs": [],
   "source": [
    "from sklearn.model_selection import train_test_split\n",
    "X_train, X_test, y_train, y_test = train_test_split(X, y, test_size=0.4, random_state=10)\n",
    "X_valid, X_test, y_valid, y_test = train_test_split(X_test, y_test, test_size=0.5, random_state=10)\n",
    "# X_valid는 X_test에 들어있던 애들이 X_test 2 X_valid에 2로 쪼개져서 들어간다."
   ]
  },
  {
   "cell_type": "code",
   "execution_count": null,
   "id": "c76f0153",
   "metadata": {},
   "outputs": [],
   "source": [
    "from sklearn.linear_model import LinearRegression\n",
    "from sklearn.metrics import accuracy_score, mean_squared_error, r2_score"
   ]
  },
  {
   "cell_type": "code",
   "execution_count": null,
   "id": "ba430625",
   "metadata": {},
   "outputs": [],
   "source": [
    "lr = LinearRegression()\n",
    "lr.fit(X_train, y_train)\n",
    "pred = lr.predict(X_valid)\n",
    "print(mean_squared_error(y_valid, pred))\n",
    "print(r2_score(y_valid, pred))"
   ]
  },
  {
   "cell_type": "code",
   "execution_count": null,
   "id": "090e2392",
   "metadata": {},
   "outputs": [],
   "source": [
    "from sklearn.tree import DecisionTreeRegressor\n",
    "from sklearn.metrics import mean_squared_error, r2_score"
   ]
  },
  {
   "cell_type": "code",
   "execution_count": null,
   "id": "e6fb4334",
   "metadata": {},
   "outputs": [],
   "source": [
    "dtr = DecisionTreeRegressor()\n",
    "dtr.fit(X_train, y_train)\n",
    "pred = dtr.predict(X_valid)\n",
    "print(mean_squared_error(y_valid, pred))\n",
    "print(r2_score(y_valid, pred))"
   ]
  },
  {
   "cell_type": "code",
   "execution_count": null,
   "id": "5b4e74a6",
   "metadata": {},
   "outputs": [],
   "source": [
    "print(y_valid)"
   ]
  },
  {
   "cell_type": "code",
   "execution_count": null,
   "id": "e61b22b4",
   "metadata": {},
   "outputs": [],
   "source": [
    "print(pred)"
   ]
  },
  {
   "cell_type": "code",
   "execution_count": null,
   "id": "875e37fa",
   "metadata": {},
   "outputs": [],
   "source": [
    "y_valid.shape"
   ]
  },
  {
   "cell_type": "code",
   "execution_count": null,
   "id": "bf0574a3",
   "metadata": {},
   "outputs": [],
   "source": [
    "pred.shape"
   ]
  },
  {
   "cell_type": "code",
   "execution_count": null,
   "id": "c976e5fa",
   "metadata": {},
   "outputs": [],
   "source": [
    "pd.DataFrame([y_valid,pred], columns=['y_valid','pred'] )"
   ]
  },
  {
   "cell_type": "code",
   "execution_count": null,
   "id": "9a52849b",
   "metadata": {},
   "outputs": [],
   "source": [
    "print(type(pred))"
   ]
  },
  {
   "cell_type": "code",
   "execution_count": null,
   "id": "9a64c18f",
   "metadata": {},
   "outputs": [],
   "source": [
    "print(type(y_valid))"
   ]
  },
  {
   "cell_type": "code",
   "execution_count": null,
   "id": "f28daaec",
   "metadata": {},
   "outputs": [],
   "source": [
    "y_valid = y_valid.to_numpy()"
   ]
  },
  {
   "cell_type": "code",
   "execution_count": null,
   "id": "b2d8be18",
   "metadata": {},
   "outputs": [],
   "source": [
    "pd.DataFrame([y_valid,pred])"
   ]
  },
  {
   "cell_type": "code",
   "execution_count": null,
   "id": "f8448af5",
   "metadata": {},
   "outputs": [],
   "source": [
    "pd.DataFrame([pred,y_valid])"
   ]
  },
  {
   "cell_type": "code",
   "execution_count": null,
   "id": "752cfa0b",
   "metadata": {
    "scrolled": true
   },
   "outputs": [],
   "source": [
    "np.concatenate((y_valid, pred), axis=1)"
   ]
  },
  {
   "cell_type": "code",
   "execution_count": null,
   "id": "414a538a",
   "metadata": {},
   "outputs": [],
   "source": [
    "pred2 = dtr.predict(X_test)\n",
    "print(mean_squared_error(y_test, pred2))\n",
    "print(r2_score(y_test, pred2))"
   ]
  },
  {
   "cell_type": "code",
   "execution_count": null,
   "id": "0d2bba13",
   "metadata": {},
   "outputs": [],
   "source": [
    "data.head()"
   ]
  },
  {
   "cell_type": "markdown",
   "id": "6b293923",
   "metadata": {},
   "source": [
    "# 모델2 만들고 사용하기"
   ]
  },
  {
   "cell_type": "code",
   "execution_count": null,
   "id": "ad42387c",
   "metadata": {},
   "outputs": [],
   "source": [
    "data2 = data[['전용면적','계약년월','거래금액(만원)','층','건축년도']].copy()"
   ]
  },
  {
   "cell_type": "code",
   "execution_count": null,
   "id": "f29f8ded",
   "metadata": {},
   "outputs": [],
   "source": [
    "data2"
   ]
  },
  {
   "cell_type": "code",
   "execution_count": null,
   "id": "cf804ca9",
   "metadata": {},
   "outputs": [],
   "source": [
    "X2 = data.drop('거래금액(만원)', axis=1)\n",
    "y2 = data['거래금액(만원)']"
   ]
  },
  {
   "cell_type": "code",
   "execution_count": null,
   "id": "f8327791",
   "metadata": {},
   "outputs": [],
   "source": [
    "X2.info()"
   ]
  },
  {
   "cell_type": "code",
   "execution_count": null,
   "id": "008c1de3",
   "metadata": {},
   "outputs": [],
   "source": [
    "X2.columns"
   ]
  },
  {
   "cell_type": "code",
   "execution_count": null,
   "id": "d493b429",
   "metadata": {},
   "outputs": [],
   "source": [
    "from sklearn.preprocessing import RobustScaler\n",
    "rc2 = RobustScaler()\n",
    "temp = rc2.fit_transform(X2.drop('계약년월', axis=1))\n",
    "temp = pd.DataFrame(temp, columns=['전용면적', '층', '건축년도'])\n",
    "temp.head()"
   ]
  },
  {
   "cell_type": "code",
   "execution_count": null,
   "id": "314d0b3e",
   "metadata": {},
   "outputs": [],
   "source": [
    "X2 = pd.get_dummies(X2, drop_first=True)"
   ]
  },
  {
   "cell_type": "code",
   "execution_count": null,
   "id": "2d678516",
   "metadata": {},
   "outputs": [],
   "source": [
    "y2"
   ]
  },
  {
   "cell_type": "code",
   "execution_count": null,
   "id": "ac6d519e",
   "metadata": {},
   "outputs": [],
   "source": [
    "X2"
   ]
  },
  {
   "cell_type": "code",
   "execution_count": null,
   "id": "cf917381",
   "metadata": {},
   "outputs": [],
   "source": [
    "from sklearn.preprocessing import RobustScaler\n",
    "rc2 = RobustScaler()\n",
    "X2 = rc2.fit_transform(X2.drop())\n",
    "X2 = pd.DataFrame(X2, columns=cols)"
   ]
  },
  {
   "cell_type": "code",
   "execution_count": null,
   "id": "6a8005a5",
   "metadata": {},
   "outputs": [],
   "source": [
    "from sklearn.model_selection import train_test_split\n",
    "X_train, X_test, y_train, y_test = train_test_split(X, y, test_size=0.4, random_state=10)\n",
    "X_valid, X_test, y_valid, y_test = train_test_split(X_test, y_test, test_size=0.5, random_state=10)"
   ]
  },
  {
   "cell_type": "code",
   "execution_count": null,
   "id": "d44edfcd",
   "metadata": {},
   "outputs": [],
   "source": []
  },
  {
   "cell_type": "code",
   "execution_count": null,
   "id": "2546e9ea",
   "metadata": {},
   "outputs": [],
   "source": []
  },
  {
   "cell_type": "code",
   "execution_count": null,
   "id": "d6a2868f",
   "metadata": {},
   "outputs": [],
   "source": []
  }
 ],
 "metadata": {
  "kernelspec": {
   "display_name": "testenv",
   "language": "python",
   "name": "testenv"
  },
  "language_info": {
   "codemirror_mode": {
    "name": "ipython",
    "version": 3
   },
   "file_extension": ".py",
   "mimetype": "text/x-python",
   "name": "python",
   "nbconvert_exporter": "python",
   "pygments_lexer": "ipython3",
   "version": "3.8.17"
  }
 },
 "nbformat": 4,
 "nbformat_minor": 5
}
