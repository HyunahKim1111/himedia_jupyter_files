{
 "cells": [
  {
   "cell_type": "code",
   "execution_count": 2,
   "id": "7ef40737-ad24-4ec0-bd9f-7a3c5d8158b8",
   "metadata": {
    "scrolled": true
   },
   "outputs": [
    {
     "name": "stderr",
     "output_type": "stream",
     "text": [
      "Setting default log level to \"WARN\".\n",
      "To adjust logging level use sc.setLogLevel(newLevel). For SparkR, use setLogLevel(newLevel).\n",
      "23/12/08 16:03:41 WARN NativeCodeLoader: Unable to load native-hadoop library for your platform... using builtin-java classes where applicable\n",
      "23/12/08 16:03:42 WARN Utils: Service 'SparkUI' could not bind on port 4040. Attempting port 4041.\n"
     ]
    },
    {
     "data": {
      "text/html": [
       "\n",
       "            <div>\n",
       "                <p><b>SparkSession - in-memory</b></p>\n",
       "                \n",
       "        <div>\n",
       "            <p><b>SparkContext</b></p>\n",
       "\n",
       "            <p><a href=\"http://spark-master:4041\">Spark UI</a></p>\n",
       "\n",
       "            <dl>\n",
       "              <dt>Version</dt>\n",
       "                <dd><code>v3.5.0</code></dd>\n",
       "              <dt>Master</dt>\n",
       "                <dd><code>local[*]</code></dd>\n",
       "              <dt>AppName</dt>\n",
       "                <dd><code>pyspark-shell</code></dd>\n",
       "            </dl>\n",
       "        </div>\n",
       "        \n",
       "            </div>\n",
       "        "
      ],
      "text/plain": [
       "<pyspark.sql.session.SparkSession at 0x7f5a76686450>"
      ]
     },
     "execution_count": 2,
     "metadata": {},
     "output_type": "execute_result"
    }
   ],
   "source": [
    "from pyspark.sql import SparkSession\n",
    "spark = SparkSession.builder.getOrCreate()\n",
    "spark"
   ]
  },
  {
   "cell_type": "code",
   "execution_count": 3,
   "id": "77172e2c-88ec-4707-b390-969259034abe",
   "metadata": {},
   "outputs": [
    {
     "name": "stderr",
     "output_type": "stream",
     "text": [
      "                                                                                \r"
     ]
    }
   ],
   "source": [
    "data = spark.read.csv('./Taitanic_train.csv', header=True)"
   ]
  },
  {
   "cell_type": "code",
   "execution_count": 4,
   "id": "efccfac3-278c-4fb7-959c-cb4369b8c7a1",
   "metadata": {},
   "outputs": [
    {
     "name": "stdout",
     "output_type": "stream",
     "text": [
      "+-----------+--------+------+--------------------+------+----+-----+-----+----------------+-------+-----+--------+\n",
      "|PassengerId|Survived|Pclass|                Name|   Sex| Age|SibSp|Parch|          Ticket|   Fare|Cabin|Embarked|\n",
      "+-----------+--------+------+--------------------+------+----+-----+-----+----------------+-------+-----+--------+\n",
      "|          1|       0|     3|Braund, Mr. Owen ...|  male|  22|    1|    0|       A/5 21171|   7.25| NULL|       S|\n",
      "|          2|       1|     1|Cumings, Mrs. Joh...|female|  38|    1|    0|        PC 17599|71.2833|  C85|       C|\n",
      "|          3|       1|     3|Heikkinen, Miss. ...|female|  26|    0|    0|STON/O2. 3101282|  7.925| NULL|       S|\n",
      "|          4|       1|     1|Futrelle, Mrs. Ja...|female|  35|    1|    0|          113803|   53.1| C123|       S|\n",
      "|          5|       0|     3|Allen, Mr. Willia...|  male|  35|    0|    0|          373450|   8.05| NULL|       S|\n",
      "|          6|       0|     3|    Moran, Mr. James|  male|NULL|    0|    0|          330877| 8.4583| NULL|       Q|\n",
      "|          7|       0|     1|McCarthy, Mr. Tim...|  male|  54|    0|    0|           17463|51.8625|  E46|       S|\n",
      "|          8|       0|     3|Palsson, Master. ...|  male|   2|    3|    1|          349909| 21.075| NULL|       S|\n",
      "|          9|       1|     3|Johnson, Mrs. Osc...|female|  27|    0|    2|          347742|11.1333| NULL|       S|\n",
      "|         10|       1|     2|Nasser, Mrs. Nich...|female|  14|    1|    0|          237736|30.0708| NULL|       C|\n",
      "|         11|       1|     3|Sandstrom, Miss. ...|female|   4|    1|    1|         PP 9549|   16.7|   G6|       S|\n",
      "|         12|       1|     1|Bonnell, Miss. El...|female|  58|    0|    0|          113783|  26.55| C103|       S|\n",
      "|         13|       0|     3|Saundercock, Mr. ...|  male|  20|    0|    0|       A/5. 2151|   8.05| NULL|       S|\n",
      "|         14|       0|     3|Andersson, Mr. An...|  male|  39|    1|    5|          347082| 31.275| NULL|       S|\n",
      "|         15|       0|     3|Vestrom, Miss. Hu...|female|  14|    0|    0|          350406| 7.8542| NULL|       S|\n",
      "|         16|       1|     2|Hewlett, Mrs. (Ma...|female|  55|    0|    0|          248706|     16| NULL|       S|\n",
      "|         17|       0|     3|Rice, Master. Eugene|  male|   2|    4|    1|          382652| 29.125| NULL|       Q|\n",
      "|         18|       1|     2|Williams, Mr. Cha...|  male|NULL|    0|    0|          244373|     13| NULL|       S|\n",
      "|         19|       0|     3|Vander Planke, Mr...|female|  31|    1|    0|          345763|     18| NULL|       S|\n",
      "|         20|       1|     3|Masselmani, Mrs. ...|female|NULL|    0|    0|            2649|  7.225| NULL|       C|\n",
      "+-----------+--------+------+--------------------+------+----+-----+-----+----------------+-------+-----+--------+\n",
      "only showing top 20 rows\n",
      "\n"
     ]
    }
   ],
   "source": [
    "data.show()"
   ]
  },
  {
   "cell_type": "code",
   "execution_count": 5,
   "id": "20c2994c-1042-41d4-8d6c-b697fd501c9b",
   "metadata": {},
   "outputs": [
    {
     "name": "stderr",
     "output_type": "stream",
     "text": [
      "23/12/08 16:03:54 WARN SparkStringUtils: Truncated the string representation of a plan since it was too large. This behavior can be adjusted by setting 'spark.sql.debug.maxToStringFields'.\n",
      "[Stage 2:>                                                          (0 + 1) / 1]\r"
     ]
    },
    {
     "name": "stdout",
     "output_type": "stream",
     "text": [
      "-RECORD 0---------------------------\n",
      " summary     | count                \n",
      " PassengerId | 891                  \n",
      " Survived    | 891                  \n",
      " Pclass      | 891                  \n",
      " Name        | 891                  \n",
      " Sex         | 891                  \n",
      " Age         | 714                  \n",
      " SibSp       | 891                  \n",
      " Parch       | 891                  \n",
      " Ticket      | 891                  \n",
      " Fare        | 891                  \n",
      " Cabin       | 204                  \n",
      " Embarked    | 889                  \n",
      "-RECORD 1---------------------------\n",
      " summary     | mean                 \n",
      " PassengerId | 446.0                \n",
      " Survived    | 0.3838383838383838   \n",
      " Pclass      | 2.308641975308642    \n",
      " Name        | NULL                 \n",
      " Sex         | NULL                 \n",
      " Age         | 29.69911764705882    \n",
      " SibSp       | 0.5230078563411896   \n",
      " Parch       | 0.38159371492704824  \n",
      " Ticket      | 260318.54916792738   \n",
      " Fare        | 32.2042079685746     \n",
      " Cabin       | NULL                 \n",
      " Embarked    | NULL                 \n",
      "-RECORD 2---------------------------\n",
      " summary     | stddev               \n",
      " PassengerId | 257.3538420152301    \n",
      " Survived    | 0.48659245426485753  \n",
      " Pclass      | 0.8360712409770491   \n",
      " Name        | NULL                 \n",
      " Sex         | NULL                 \n",
      " Age         | 14.526497332334035   \n",
      " SibSp       | 1.1027434322934315   \n",
      " Parch       | 0.8060572211299488   \n",
      " Ticket      | 471609.26868834975   \n",
      " Fare        | 49.69342859718089    \n",
      " Cabin       | NULL                 \n",
      " Embarked    | NULL                 \n",
      "-RECORD 3---------------------------\n",
      " summary     | min                  \n",
      " PassengerId | 1                    \n",
      " Survived    | 0                    \n",
      " Pclass      | 1                    \n",
      " Name        | \"Andersson, Mr. A... \n",
      " Sex         | female               \n",
      " Age         | 0.42                 \n",
      " SibSp       | 0                    \n",
      " Parch       | 0                    \n",
      " Ticket      | 110152               \n",
      " Fare        | 0                    \n",
      " Cabin       | A10                  \n",
      " Embarked    | C                    \n",
      "-RECORD 4---------------------------\n",
      " summary     | max                  \n",
      " PassengerId | 99                   \n",
      " Survived    | 1                    \n",
      " Pclass      | 3                    \n",
      " Name        | van Melkebeke, Mr... \n",
      " Sex         | male                 \n",
      " Age         | 9                    \n",
      " SibSp       | 8                    \n",
      " Parch       | 6                    \n",
      " Ticket      | WE/P 5735            \n",
      " Fare        | 93.5                 \n",
      " Cabin       | T                    \n",
      " Embarked    | S                    \n",
      "\n"
     ]
    },
    {
     "name": "stderr",
     "output_type": "stream",
     "text": [
      "                                                                                \r"
     ]
    }
   ],
   "source": [
    "data.describe().show(vertical=True)"
   ]
  },
  {
   "cell_type": "code",
   "execution_count": 6,
   "id": "2b32f02b-02f6-4460-a791-4090c5a07be1",
   "metadata": {},
   "outputs": [
    {
     "name": "stderr",
     "output_type": "stream",
     "text": [
      "/home/himedia/.conda/envs/spark3/lib/python3.11/site-packages/pyspark/pandas/__init__.py:50: UserWarning: 'PYARROW_IGNORE_TIMEZONE' environment variable was not set. It is required to set this environment variable to '1' in both driver and executor sides if you use pyarrow>=2.0.0. pandas-on-Spark will set it for you but it does not work if there is a Spark context already launched.\n",
      "  warnings.warn(\n"
     ]
    }
   ],
   "source": [
    "import pyspark.pandas as ps"
   ]
  },
  {
   "cell_type": "code",
   "execution_count": 7,
   "id": "d5801aca-8a8f-431d-933f-ff5524d812c8",
   "metadata": {},
   "outputs": [
    {
     "data": {
      "text/html": [
       "<div>\n",
       "<style scoped>\n",
       "    .dataframe tbody tr th:only-of-type {\n",
       "        vertical-align: middle;\n",
       "    }\n",
       "\n",
       "    .dataframe tbody tr th {\n",
       "        vertical-align: top;\n",
       "    }\n",
       "\n",
       "    .dataframe thead th {\n",
       "        text-align: right;\n",
       "    }\n",
       "</style>\n",
       "<table border=\"1\" class=\"dataframe\">\n",
       "  <thead>\n",
       "    <tr style=\"text-align: right;\">\n",
       "      <th></th>\n",
       "      <th>summary</th>\n",
       "      <th>PassengerId</th>\n",
       "      <th>Survived</th>\n",
       "      <th>Pclass</th>\n",
       "      <th>Name</th>\n",
       "      <th>Sex</th>\n",
       "      <th>Age</th>\n",
       "      <th>SibSp</th>\n",
       "      <th>Parch</th>\n",
       "      <th>Ticket</th>\n",
       "      <th>Fare</th>\n",
       "      <th>Cabin</th>\n",
       "      <th>Embarked</th>\n",
       "    </tr>\n",
       "  </thead>\n",
       "  <tbody>\n",
       "    <tr>\n",
       "      <th>0</th>\n",
       "      <td>count</td>\n",
       "      <td>891</td>\n",
       "      <td>891</td>\n",
       "      <td>891</td>\n",
       "      <td>891</td>\n",
       "      <td>891</td>\n",
       "      <td>714</td>\n",
       "      <td>891</td>\n",
       "      <td>891</td>\n",
       "      <td>891</td>\n",
       "      <td>891</td>\n",
       "      <td>204</td>\n",
       "      <td>889</td>\n",
       "    </tr>\n",
       "    <tr>\n",
       "      <th>1</th>\n",
       "      <td>mean</td>\n",
       "      <td>446.0</td>\n",
       "      <td>0.3838383838383838</td>\n",
       "      <td>2.308641975308642</td>\n",
       "      <td>None</td>\n",
       "      <td>None</td>\n",
       "      <td>29.69911764705882</td>\n",
       "      <td>0.5230078563411896</td>\n",
       "      <td>0.38159371492704824</td>\n",
       "      <td>260318.54916792738</td>\n",
       "      <td>32.2042079685746</td>\n",
       "      <td>None</td>\n",
       "      <td>None</td>\n",
       "    </tr>\n",
       "    <tr>\n",
       "      <th>2</th>\n",
       "      <td>stddev</td>\n",
       "      <td>257.3538420152301</td>\n",
       "      <td>0.48659245426485753</td>\n",
       "      <td>0.8360712409770491</td>\n",
       "      <td>None</td>\n",
       "      <td>None</td>\n",
       "      <td>14.526497332334035</td>\n",
       "      <td>1.1027434322934315</td>\n",
       "      <td>0.8060572211299488</td>\n",
       "      <td>471609.26868834975</td>\n",
       "      <td>49.69342859718089</td>\n",
       "      <td>None</td>\n",
       "      <td>None</td>\n",
       "    </tr>\n",
       "    <tr>\n",
       "      <th>3</th>\n",
       "      <td>min</td>\n",
       "      <td>1</td>\n",
       "      <td>0</td>\n",
       "      <td>1</td>\n",
       "      <td>\"Andersson, Mr. August Edvard (\"\"Wennerstrom\"\")\"</td>\n",
       "      <td>female</td>\n",
       "      <td>0.42</td>\n",
       "      <td>0</td>\n",
       "      <td>0</td>\n",
       "      <td>110152</td>\n",
       "      <td>0</td>\n",
       "      <td>A10</td>\n",
       "      <td>C</td>\n",
       "    </tr>\n",
       "    <tr>\n",
       "      <th>4</th>\n",
       "      <td>max</td>\n",
       "      <td>99</td>\n",
       "      <td>1</td>\n",
       "      <td>3</td>\n",
       "      <td>van Melkebeke, Mr. Philemon</td>\n",
       "      <td>male</td>\n",
       "      <td>9</td>\n",
       "      <td>8</td>\n",
       "      <td>6</td>\n",
       "      <td>WE/P 5735</td>\n",
       "      <td>93.5</td>\n",
       "      <td>T</td>\n",
       "      <td>S</td>\n",
       "    </tr>\n",
       "  </tbody>\n",
       "</table>\n",
       "</div>"
      ],
      "text/plain": [
       "  summary        PassengerId             Survived              Pclass  \\\n",
       "0   count                891                  891                 891   \n",
       "1    mean              446.0   0.3838383838383838   2.308641975308642   \n",
       "2  stddev  257.3538420152301  0.48659245426485753  0.8360712409770491   \n",
       "3     min                  1                    0                   1   \n",
       "4     max                 99                    1                   3   \n",
       "\n",
       "                                               Name     Sex  \\\n",
       "0                                               891     891   \n",
       "1                                              None    None   \n",
       "2                                              None    None   \n",
       "3  \"Andersson, Mr. August Edvard (\"\"Wennerstrom\"\")\"  female   \n",
       "4                       van Melkebeke, Mr. Philemon    male   \n",
       "\n",
       "                  Age               SibSp                Parch  \\\n",
       "0                 714                 891                  891   \n",
       "1   29.69911764705882  0.5230078563411896  0.38159371492704824   \n",
       "2  14.526497332334035  1.1027434322934315   0.8060572211299488   \n",
       "3                0.42                   0                    0   \n",
       "4                   9                   8                    6   \n",
       "\n",
       "               Ticket               Fare Cabin Embarked  \n",
       "0                 891                891   204      889  \n",
       "1  260318.54916792738   32.2042079685746  None     None  \n",
       "2  471609.26868834975  49.69342859718089  None     None  \n",
       "3              110152                  0   A10        C  \n",
       "4           WE/P 5735               93.5     T        S  "
      ]
     },
     "execution_count": 7,
     "metadata": {},
     "output_type": "execute_result"
    }
   ],
   "source": [
    "data.describe().toPandas()"
   ]
  },
  {
   "cell_type": "code",
   "execution_count": 8,
   "id": "50aab308-b1f7-48bc-aab6-546ae9ee5d6b",
   "metadata": {},
   "outputs": [
    {
     "name": "stdout",
     "output_type": "stream",
     "text": [
      "+-----------+--------+------+--------------------+------+---+-----+-----+----------------+-------+-----+--------+\n",
      "|PassengerId|Survived|Pclass|                Name|   Sex|Age|SibSp|Parch|          Ticket|   Fare|Cabin|Embarked|\n",
      "+-----------+--------+------+--------------------+------+---+-----+-----+----------------+-------+-----+--------+\n",
      "|          1|       0|     3|Braund, Mr. Owen ...|  male| 22|    1|    0|       A/5 21171|   7.25| NULL|       S|\n",
      "|          2|       1|     1|Cumings, Mrs. Joh...|female| 38|    1|    0|        PC 17599|71.2833|  C85|       C|\n",
      "|          3|       1|     3|Heikkinen, Miss. ...|female| 26|    0|    0|STON/O2. 3101282|  7.925| NULL|       S|\n",
      "+-----------+--------+------+--------------------+------+---+-----+-----+----------------+-------+-----+--------+\n",
      "only showing top 3 rows\n",
      "\n"
     ]
    },
    {
     "ename": "AttributeError",
     "evalue": "'NoneType' object has no attribute 'toPandas'",
     "output_type": "error",
     "traceback": [
      "\u001b[0;31m---------------------------------------------------------------------------\u001b[0m",
      "\u001b[0;31mAttributeError\u001b[0m                            Traceback (most recent call last)",
      "Cell \u001b[0;32mIn[8], line 1\u001b[0m\n\u001b[0;32m----> 1\u001b[0m data\u001b[38;5;241m.\u001b[39mshow(\u001b[38;5;241m3\u001b[39m)\u001b[38;5;241m.\u001b[39mtoPandas()\n",
      "\u001b[0;31mAttributeError\u001b[0m: 'NoneType' object has no attribute 'toPandas'"
     ]
    }
   ],
   "source": [
    "data.show(3).toPandas()"
   ]
  },
  {
   "cell_type": "code",
   "execution_count": 9,
   "id": "c0cbbb70-3f0c-4aa8-b9b0-14b406e39374",
   "metadata": {},
   "outputs": [],
   "source": [
    "data = data.withColumn('Family', data['SibSp'] + data['Parch'])"
   ]
  },
  {
   "cell_type": "code",
   "execution_count": 10,
   "id": "3fcf3a11-3a99-4384-92b2-8038663b2214",
   "metadata": {
    "scrolled": true
   },
   "outputs": [
    {
     "name": "stdout",
     "output_type": "stream",
     "text": [
      "+-----------+--------+------+--------------------+------+----+-----+-----+----------------+-------+-----+--------+------+\n",
      "|PassengerId|Survived|Pclass|                Name|   Sex| Age|SibSp|Parch|          Ticket|   Fare|Cabin|Embarked|Family|\n",
      "+-----------+--------+------+--------------------+------+----+-----+-----+----------------+-------+-----+--------+------+\n",
      "|          1|       0|     3|Braund, Mr. Owen ...|  male|  22|    1|    0|       A/5 21171|   7.25| NULL|       S|   1.0|\n",
      "|          2|       1|     1|Cumings, Mrs. Joh...|female|  38|    1|    0|        PC 17599|71.2833|  C85|       C|   1.0|\n",
      "|          3|       1|     3|Heikkinen, Miss. ...|female|  26|    0|    0|STON/O2. 3101282|  7.925| NULL|       S|   0.0|\n",
      "|          4|       1|     1|Futrelle, Mrs. Ja...|female|  35|    1|    0|          113803|   53.1| C123|       S|   1.0|\n",
      "|          5|       0|     3|Allen, Mr. Willia...|  male|  35|    0|    0|          373450|   8.05| NULL|       S|   0.0|\n",
      "|          6|       0|     3|    Moran, Mr. James|  male|NULL|    0|    0|          330877| 8.4583| NULL|       Q|   0.0|\n",
      "|          7|       0|     1|McCarthy, Mr. Tim...|  male|  54|    0|    0|           17463|51.8625|  E46|       S|   0.0|\n",
      "|          8|       0|     3|Palsson, Master. ...|  male|   2|    3|    1|          349909| 21.075| NULL|       S|   4.0|\n",
      "|          9|       1|     3|Johnson, Mrs. Osc...|female|  27|    0|    2|          347742|11.1333| NULL|       S|   2.0|\n",
      "|         10|       1|     2|Nasser, Mrs. Nich...|female|  14|    1|    0|          237736|30.0708| NULL|       C|   1.0|\n",
      "|         11|       1|     3|Sandstrom, Miss. ...|female|   4|    1|    1|         PP 9549|   16.7|   G6|       S|   2.0|\n",
      "|         12|       1|     1|Bonnell, Miss. El...|female|  58|    0|    0|          113783|  26.55| C103|       S|   0.0|\n",
      "|         13|       0|     3|Saundercock, Mr. ...|  male|  20|    0|    0|       A/5. 2151|   8.05| NULL|       S|   0.0|\n",
      "|         14|       0|     3|Andersson, Mr. An...|  male|  39|    1|    5|          347082| 31.275| NULL|       S|   6.0|\n",
      "|         15|       0|     3|Vestrom, Miss. Hu...|female|  14|    0|    0|          350406| 7.8542| NULL|       S|   0.0|\n",
      "|         16|       1|     2|Hewlett, Mrs. (Ma...|female|  55|    0|    0|          248706|     16| NULL|       S|   0.0|\n",
      "|         17|       0|     3|Rice, Master. Eugene|  male|   2|    4|    1|          382652| 29.125| NULL|       Q|   5.0|\n",
      "|         18|       1|     2|Williams, Mr. Cha...|  male|NULL|    0|    0|          244373|     13| NULL|       S|   0.0|\n",
      "|         19|       0|     3|Vander Planke, Mr...|female|  31|    1|    0|          345763|     18| NULL|       S|   1.0|\n",
      "|         20|       1|     3|Masselmani, Mrs. ...|female|NULL|    0|    0|            2649|  7.225| NULL|       C|   0.0|\n",
      "+-----------+--------+------+--------------------+------+----+-----+-----+----------------+-------+-----+--------+------+\n",
      "only showing top 20 rows\n",
      "\n"
     ]
    }
   ],
   "source": [
    "data.show()"
   ]
  },
  {
   "cell_type": "code",
   "execution_count": 11,
   "id": "51aaa2a7-057f-49a1-ac43-a7cb9f58a923",
   "metadata": {},
   "outputs": [],
   "source": [
    "data = data.drop('PassengerId', 'Cabin')"
   ]
  },
  {
   "cell_type": "code",
   "execution_count": 12,
   "id": "bacb3147-9e31-41c0-b0a7-89bd65ef55cb",
   "metadata": {},
   "outputs": [
    {
     "name": "stdout",
     "output_type": "stream",
     "text": [
      "+--------+------+--------------------+------+----+-----+-----+----------------+-------+--------+------+\n",
      "|Survived|Pclass|                Name|   Sex| Age|SibSp|Parch|          Ticket|   Fare|Embarked|Family|\n",
      "+--------+------+--------------------+------+----+-----+-----+----------------+-------+--------+------+\n",
      "|       0|     3|Braund, Mr. Owen ...|  male|  22|    1|    0|       A/5 21171|   7.25|       S|   1.0|\n",
      "|       1|     1|Cumings, Mrs. Joh...|female|  38|    1|    0|        PC 17599|71.2833|       C|   1.0|\n",
      "|       1|     3|Heikkinen, Miss. ...|female|  26|    0|    0|STON/O2. 3101282|  7.925|       S|   0.0|\n",
      "|       1|     1|Futrelle, Mrs. Ja...|female|  35|    1|    0|          113803|   53.1|       S|   1.0|\n",
      "|       0|     3|Allen, Mr. Willia...|  male|  35|    0|    0|          373450|   8.05|       S|   0.0|\n",
      "|       0|     3|    Moran, Mr. James|  male|NULL|    0|    0|          330877| 8.4583|       Q|   0.0|\n",
      "|       0|     1|McCarthy, Mr. Tim...|  male|  54|    0|    0|           17463|51.8625|       S|   0.0|\n",
      "|       0|     3|Palsson, Master. ...|  male|   2|    3|    1|          349909| 21.075|       S|   4.0|\n",
      "|       1|     3|Johnson, Mrs. Osc...|female|  27|    0|    2|          347742|11.1333|       S|   2.0|\n",
      "|       1|     2|Nasser, Mrs. Nich...|female|  14|    1|    0|          237736|30.0708|       C|   1.0|\n",
      "|       1|     3|Sandstrom, Miss. ...|female|   4|    1|    1|         PP 9549|   16.7|       S|   2.0|\n",
      "|       1|     1|Bonnell, Miss. El...|female|  58|    0|    0|          113783|  26.55|       S|   0.0|\n",
      "|       0|     3|Saundercock, Mr. ...|  male|  20|    0|    0|       A/5. 2151|   8.05|       S|   0.0|\n",
      "|       0|     3|Andersson, Mr. An...|  male|  39|    1|    5|          347082| 31.275|       S|   6.0|\n",
      "|       0|     3|Vestrom, Miss. Hu...|female|  14|    0|    0|          350406| 7.8542|       S|   0.0|\n",
      "|       1|     2|Hewlett, Mrs. (Ma...|female|  55|    0|    0|          248706|     16|       S|   0.0|\n",
      "|       0|     3|Rice, Master. Eugene|  male|   2|    4|    1|          382652| 29.125|       Q|   5.0|\n",
      "|       1|     2|Williams, Mr. Cha...|  male|NULL|    0|    0|          244373|     13|       S|   0.0|\n",
      "|       0|     3|Vander Planke, Mr...|female|  31|    1|    0|          345763|     18|       S|   1.0|\n",
      "|       1|     3|Masselmani, Mrs. ...|female|NULL|    0|    0|            2649|  7.225|       C|   0.0|\n",
      "+--------+------+--------------------+------+----+-----+-----+----------------+-------+--------+------+\n",
      "only showing top 20 rows\n",
      "\n"
     ]
    }
   ],
   "source": [
    "data.show()"
   ]
  },
  {
   "cell_type": "code",
   "execution_count": 13,
   "id": "5b0f3315-6989-4821-8f51-a662d55dacde",
   "metadata": {},
   "outputs": [
    {
     "name": "stdout",
     "output_type": "stream",
     "text": [
      "+-----------------+\n",
      "|         avg(Age)|\n",
      "+-----------------+\n",
      "|29.69911764705882|\n",
      "+-----------------+\n",
      "\n"
     ]
    }
   ],
   "source": [
    "import pyspark.sql.functions as f\n",
    "data.select(f.mean('Age')).show()"
   ]
  },
  {
   "cell_type": "code",
   "execution_count": 14,
   "id": "2dcf6eda-50da-448e-92cb-8feb92e24ad4",
   "metadata": {},
   "outputs": [],
   "source": [
    "data = data.na.fill('29','Age')"
   ]
  },
  {
   "cell_type": "code",
   "execution_count": 15,
   "id": "b4b30119-10b4-498e-b05d-6feaa12354c8",
   "metadata": {},
   "outputs": [
    {
     "name": "stdout",
     "output_type": "stream",
     "text": [
      "-RECORD 0------------------------\n",
      " summary  | count                \n",
      " Survived | 891                  \n",
      " Pclass   | 891                  \n",
      " Name     | 891                  \n",
      " Sex      | 891                  \n",
      " Age      | 891                  \n",
      " SibSp    | 891                  \n",
      " Parch    | 891                  \n",
      " Ticket   | 891                  \n",
      " Fare     | 891                  \n",
      " Embarked | 889                  \n",
      " Family   | 891                  \n",
      "-RECORD 1------------------------\n",
      " summary  | mean                 \n",
      " Survived | 0.3838383838383838   \n",
      " Pclass   | 2.308641975308642    \n",
      " Name     | NULL                 \n",
      " Sex      | NULL                 \n",
      " Age      | 29.56023569023569    \n",
      " SibSp    | 0.5230078563411896   \n",
      " Parch    | 0.38159371492704824  \n",
      " Ticket   | 260318.54916792738   \n",
      " Fare     | 32.2042079685746     \n",
      " Embarked | NULL                 \n",
      " Family   | 0.9046015712682379   \n",
      "-RECORD 2------------------------\n",
      " summary  | stddev               \n",
      " Survived | 0.48659245426485753  \n",
      " Pclass   | 0.8360712409770491   \n",
      " Name     | NULL                 \n",
      " Sex      | NULL                 \n",
      " Age      | 13.005010341761801   \n",
      " SibSp    | 1.1027434322934315   \n",
      " Parch    | 0.8060572211299488   \n",
      " Ticket   | 471609.26868834975   \n",
      " Fare     | 49.69342859718089    \n",
      " Embarked | NULL                 \n",
      " Family   | 1.613458541355087    \n",
      "-RECORD 3------------------------\n",
      " summary  | min                  \n",
      " Survived | 0                    \n",
      " Pclass   | 1                    \n",
      " Name     | \"Andersson, Mr. A... \n",
      " Sex      | female               \n",
      " Age      | 0.42                 \n",
      " SibSp    | 0                    \n",
      " Parch    | 0                    \n",
      " Ticket   | 110152               \n",
      " Fare     | 0                    \n",
      " Embarked | C                    \n",
      " Family   | 0.0                  \n",
      "-RECORD 4------------------------\n",
      " summary  | max                  \n",
      " Survived | 1                    \n",
      " Pclass   | 3                    \n",
      " Name     | van Melkebeke, Mr... \n",
      " Sex      | male                 \n",
      " Age      | 9                    \n",
      " SibSp    | 8                    \n",
      " Parch    | 6                    \n",
      " Ticket   | WE/P 5735            \n",
      " Fare     | 93.5                 \n",
      " Embarked | S                    \n",
      " Family   | 10.0                 \n",
      "\n"
     ]
    }
   ],
   "source": [
    "data.describe().show(vertical=True)"
   ]
  },
  {
   "cell_type": "code",
   "execution_count": 16,
   "id": "839e8ea2-5187-4c7a-8a3f-0e93fcf386c1",
   "metadata": {},
   "outputs": [],
   "source": [
    "from pyspark.ml.feature import Imputer"
   ]
  },
  {
   "cell_type": "code",
   "execution_count": 17,
   "id": "c5d91dd4-dd4c-46aa-afdb-a34878e08931",
   "metadata": {},
   "outputs": [
    {
     "ename": "IllegalArgumentException",
     "evalue": "requirement failed: Column Embarked must be of type numeric but was actually of type string.",
     "output_type": "error",
     "traceback": [
      "\u001b[0;31m---------------------------------------------------------------------------\u001b[0m",
      "\u001b[0;31mIllegalArgumentException\u001b[0m                  Traceback (most recent call last)",
      "Cell \u001b[0;32mIn[17], line 2\u001b[0m\n\u001b[1;32m      1\u001b[0m imputer \u001b[38;5;241m=\u001b[39m Imputer(inputCols\u001b[38;5;241m=\u001b[39m[\u001b[38;5;124m'\u001b[39m\u001b[38;5;124mEmbarked\u001b[39m\u001b[38;5;124m'\u001b[39m], outputCols\u001b[38;5;241m=\u001b[39m[\u001b[38;5;124m'\u001b[39m\u001b[38;5;124mEmbarked\u001b[39m\u001b[38;5;124m'\u001b[39m])\u001b[38;5;241m.\u001b[39msetStrategy(\u001b[38;5;124m'\u001b[39m\u001b[38;5;124mmode\u001b[39m\u001b[38;5;124m'\u001b[39m)\n\u001b[0;32m----> 2\u001b[0m imputer\u001b[38;5;241m.\u001b[39mfit(data)\u001b[38;5;241m.\u001b[39mtransform(data)\u001b[38;5;241m.\u001b[39mshow()\n",
      "File \u001b[0;32m~/.conda/envs/spark3/lib/python3.11/site-packages/pyspark/ml/base.py:205\u001b[0m, in \u001b[0;36mEstimator.fit\u001b[0;34m(self, dataset, params)\u001b[0m\n\u001b[1;32m    203\u001b[0m         \u001b[38;5;28;01mreturn\u001b[39;00m \u001b[38;5;28mself\u001b[39m\u001b[38;5;241m.\u001b[39mcopy(params)\u001b[38;5;241m.\u001b[39m_fit(dataset)\n\u001b[1;32m    204\u001b[0m     \u001b[38;5;28;01melse\u001b[39;00m:\n\u001b[0;32m--> 205\u001b[0m         \u001b[38;5;28;01mreturn\u001b[39;00m \u001b[38;5;28mself\u001b[39m\u001b[38;5;241m.\u001b[39m_fit(dataset)\n\u001b[1;32m    206\u001b[0m \u001b[38;5;28;01melse\u001b[39;00m:\n\u001b[1;32m    207\u001b[0m     \u001b[38;5;28;01mraise\u001b[39;00m \u001b[38;5;167;01mTypeError\u001b[39;00m(\n\u001b[1;32m    208\u001b[0m         \u001b[38;5;124m\"\u001b[39m\u001b[38;5;124mParams must be either a param map or a list/tuple of param maps, \u001b[39m\u001b[38;5;124m\"\u001b[39m\n\u001b[1;32m    209\u001b[0m         \u001b[38;5;124m\"\u001b[39m\u001b[38;5;124mbut got \u001b[39m\u001b[38;5;132;01m%s\u001b[39;00m\u001b[38;5;124m.\u001b[39m\u001b[38;5;124m\"\u001b[39m \u001b[38;5;241m%\u001b[39m \u001b[38;5;28mtype\u001b[39m(params)\n\u001b[1;32m    210\u001b[0m     )\n",
      "File \u001b[0;32m~/.conda/envs/spark3/lib/python3.11/site-packages/pyspark/ml/wrapper.py:381\u001b[0m, in \u001b[0;36mJavaEstimator._fit\u001b[0;34m(self, dataset)\u001b[0m\n\u001b[1;32m    380\u001b[0m \u001b[38;5;28;01mdef\u001b[39;00m \u001b[38;5;21m_fit\u001b[39m(\u001b[38;5;28mself\u001b[39m, dataset: DataFrame) \u001b[38;5;241m-\u001b[39m\u001b[38;5;241m>\u001b[39m JM:\n\u001b[0;32m--> 381\u001b[0m     java_model \u001b[38;5;241m=\u001b[39m \u001b[38;5;28mself\u001b[39m\u001b[38;5;241m.\u001b[39m_fit_java(dataset)\n\u001b[1;32m    382\u001b[0m     model \u001b[38;5;241m=\u001b[39m \u001b[38;5;28mself\u001b[39m\u001b[38;5;241m.\u001b[39m_create_model(java_model)\n\u001b[1;32m    383\u001b[0m     \u001b[38;5;28;01mreturn\u001b[39;00m \u001b[38;5;28mself\u001b[39m\u001b[38;5;241m.\u001b[39m_copyValues(model)\n",
      "File \u001b[0;32m~/.conda/envs/spark3/lib/python3.11/site-packages/pyspark/ml/wrapper.py:378\u001b[0m, in \u001b[0;36mJavaEstimator._fit_java\u001b[0;34m(self, dataset)\u001b[0m\n\u001b[1;32m    375\u001b[0m \u001b[38;5;28;01massert\u001b[39;00m \u001b[38;5;28mself\u001b[39m\u001b[38;5;241m.\u001b[39m_java_obj \u001b[38;5;129;01mis\u001b[39;00m \u001b[38;5;129;01mnot\u001b[39;00m \u001b[38;5;28;01mNone\u001b[39;00m\n\u001b[1;32m    377\u001b[0m \u001b[38;5;28mself\u001b[39m\u001b[38;5;241m.\u001b[39m_transfer_params_to_java()\n\u001b[0;32m--> 378\u001b[0m \u001b[38;5;28;01mreturn\u001b[39;00m \u001b[38;5;28mself\u001b[39m\u001b[38;5;241m.\u001b[39m_java_obj\u001b[38;5;241m.\u001b[39mfit(dataset\u001b[38;5;241m.\u001b[39m_jdf)\n",
      "File \u001b[0;32m~/.conda/envs/spark3/lib/python3.11/site-packages/py4j/java_gateway.py:1322\u001b[0m, in \u001b[0;36mJavaMember.__call__\u001b[0;34m(self, *args)\u001b[0m\n\u001b[1;32m   1316\u001b[0m command \u001b[38;5;241m=\u001b[39m proto\u001b[38;5;241m.\u001b[39mCALL_COMMAND_NAME \u001b[38;5;241m+\u001b[39m\\\n\u001b[1;32m   1317\u001b[0m     \u001b[38;5;28mself\u001b[39m\u001b[38;5;241m.\u001b[39mcommand_header \u001b[38;5;241m+\u001b[39m\\\n\u001b[1;32m   1318\u001b[0m     args_command \u001b[38;5;241m+\u001b[39m\\\n\u001b[1;32m   1319\u001b[0m     proto\u001b[38;5;241m.\u001b[39mEND_COMMAND_PART\n\u001b[1;32m   1321\u001b[0m answer \u001b[38;5;241m=\u001b[39m \u001b[38;5;28mself\u001b[39m\u001b[38;5;241m.\u001b[39mgateway_client\u001b[38;5;241m.\u001b[39msend_command(command)\n\u001b[0;32m-> 1322\u001b[0m return_value \u001b[38;5;241m=\u001b[39m get_return_value(\n\u001b[1;32m   1323\u001b[0m     answer, \u001b[38;5;28mself\u001b[39m\u001b[38;5;241m.\u001b[39mgateway_client, \u001b[38;5;28mself\u001b[39m\u001b[38;5;241m.\u001b[39mtarget_id, \u001b[38;5;28mself\u001b[39m\u001b[38;5;241m.\u001b[39mname)\n\u001b[1;32m   1325\u001b[0m \u001b[38;5;28;01mfor\u001b[39;00m temp_arg \u001b[38;5;129;01min\u001b[39;00m temp_args:\n\u001b[1;32m   1326\u001b[0m     \u001b[38;5;28;01mif\u001b[39;00m \u001b[38;5;28mhasattr\u001b[39m(temp_arg, \u001b[38;5;124m\"\u001b[39m\u001b[38;5;124m_detach\u001b[39m\u001b[38;5;124m\"\u001b[39m):\n",
      "File \u001b[0;32m~/.conda/envs/spark3/lib/python3.11/site-packages/pyspark/errors/exceptions/captured.py:185\u001b[0m, in \u001b[0;36mcapture_sql_exception.<locals>.deco\u001b[0;34m(*a, **kw)\u001b[0m\n\u001b[1;32m    181\u001b[0m converted \u001b[38;5;241m=\u001b[39m convert_exception(e\u001b[38;5;241m.\u001b[39mjava_exception)\n\u001b[1;32m    182\u001b[0m \u001b[38;5;28;01mif\u001b[39;00m \u001b[38;5;129;01mnot\u001b[39;00m \u001b[38;5;28misinstance\u001b[39m(converted, UnknownException):\n\u001b[1;32m    183\u001b[0m     \u001b[38;5;66;03m# Hide where the exception came from that shows a non-Pythonic\u001b[39;00m\n\u001b[1;32m    184\u001b[0m     \u001b[38;5;66;03m# JVM exception message.\u001b[39;00m\n\u001b[0;32m--> 185\u001b[0m     \u001b[38;5;28;01mraise\u001b[39;00m converted \u001b[38;5;28;01mfrom\u001b[39;00m \u001b[38;5;28;01mNone\u001b[39;00m\n\u001b[1;32m    186\u001b[0m \u001b[38;5;28;01melse\u001b[39;00m:\n\u001b[1;32m    187\u001b[0m     \u001b[38;5;28;01mraise\u001b[39;00m\n",
      "\u001b[0;31mIllegalArgumentException\u001b[0m: requirement failed: Column Embarked must be of type numeric but was actually of type string."
     ]
    }
   ],
   "source": [
    "imputer = Imputer(inputCols=['Embarked'], outputCols=['Embarked']).setStrategy('mode')\n",
    "imputer.fit(data).transform(data).show()"
   ]
  },
  {
   "cell_type": "markdown",
   "id": "b3a6747b-0c0c-4d2d-b766-f8b1033586c6",
   "metadata": {},
   "source": [
    "* imputer는 숫자만 가능! embarked는 string이라 불가능하다."
   ]
  },
  {
   "cell_type": "code",
   "execution_count": 18,
   "id": "bd1fe8b2-5ff4-4bd7-9390-63c37469af73",
   "metadata": {},
   "outputs": [],
   "source": [
    "data = data.withColumn('Age', data['Age'].cast('Integer'))"
   ]
  },
  {
   "cell_type": "code",
   "execution_count": 19,
   "id": "a6cf4c98-d9aa-40e3-87ca-1ddb2e8c3f78",
   "metadata": {},
   "outputs": [],
   "source": [
    "data = data.withColumn('SibSp', data['SibSp'].cast('Integer'))"
   ]
  },
  {
   "cell_type": "code",
   "execution_count": 20,
   "id": "366d1289-8f71-4d58-a728-dd84f067cf3b",
   "metadata": {},
   "outputs": [],
   "source": [
    "data = data.withColumn('Pclass', data['Pclass'].cast('Integer'))"
   ]
  },
  {
   "cell_type": "code",
   "execution_count": 21,
   "id": "e881fba9-1123-49b4-ad7b-b1803aa7bf12",
   "metadata": {},
   "outputs": [],
   "source": [
    "data = data.withColumn('Parch', data['Parch'].cast('Integer'))"
   ]
  },
  {
   "cell_type": "code",
   "execution_count": 22,
   "id": "70b31302-7bc2-48f2-94e2-13964f8cfaa5",
   "metadata": {},
   "outputs": [],
   "source": [
    "data = data.withColumn('Fare', data['Fare'].cast('Float'))"
   ]
  },
  {
   "cell_type": "code",
   "execution_count": 23,
   "id": "2da11323-af24-4336-a96b-3c4eba129172",
   "metadata": {},
   "outputs": [],
   "source": [
    "data = data.withColumn('Family', data['Family'].cast('Integer'))"
   ]
  },
  {
   "cell_type": "code",
   "execution_count": 24,
   "id": "79116cd7-4a83-4603-9be4-c667fd833b1a",
   "metadata": {},
   "outputs": [],
   "source": [
    "data = data.withColumn('Survived', data['Survived'].cast('Integer'))"
   ]
  },
  {
   "cell_type": "code",
   "execution_count": 25,
   "id": "186e323e-3517-4ea1-ad52-adab5e9bc663",
   "metadata": {},
   "outputs": [
    {
     "name": "stdout",
     "output_type": "stream",
     "text": [
      "root\n",
      " |-- Survived: integer (nullable = true)\n",
      " |-- Pclass: integer (nullable = true)\n",
      " |-- Name: string (nullable = true)\n",
      " |-- Sex: string (nullable = true)\n",
      " |-- Age: integer (nullable = true)\n",
      " |-- SibSp: integer (nullable = true)\n",
      " |-- Parch: integer (nullable = true)\n",
      " |-- Ticket: string (nullable = true)\n",
      " |-- Fare: float (nullable = true)\n",
      " |-- Embarked: string (nullable = true)\n",
      " |-- Family: integer (nullable = true)\n",
      "\n"
     ]
    }
   ],
   "source": [
    "data.printSchema()"
   ]
  },
  {
   "cell_type": "code",
   "execution_count": 26,
   "id": "b0532a2a-c3b8-4e12-9717-ff0408b5c4bc",
   "metadata": {},
   "outputs": [
    {
     "data": {
      "text/plain": [
       "DataFrame[Survived: int, Pclass: int, Name: string, Sex: string, Age: int, SibSp: int, Parch: int, Ticket: string, Fare: float, Embarked: string, Family: int]"
      ]
     },
     "execution_count": 26,
     "metadata": {},
     "output_type": "execute_result"
    }
   ],
   "source": [
    "data.na.drop(subset='Embarked')"
   ]
  },
  {
   "cell_type": "code",
   "execution_count": 27,
   "id": "d19b106f-3e5b-4126-849a-d6f6067a9027",
   "metadata": {},
   "outputs": [],
   "source": [
    "data = data.na.drop(subset='Embarked')"
   ]
  },
  {
   "cell_type": "code",
   "execution_count": 28,
   "id": "2f4196b1-1a90-4f82-8165-9f4006175ba5",
   "metadata": {
    "scrolled": true
   },
   "outputs": [
    {
     "name": "stdout",
     "output_type": "stream",
     "text": [
      "-RECORD 0------------------------\n",
      " summary  | count                \n",
      " Survived | 889                  \n",
      " Pclass   | 889                  \n",
      " Name     | 889                  \n",
      " Sex      | 889                  \n",
      " Age      | 889                  \n",
      " SibSp    | 889                  \n",
      " Parch    | 889                  \n",
      " Ticket   | 889                  \n",
      " Fare     | 889                  \n",
      " Embarked | 889                  \n",
      " Family   | 889                  \n",
      "-RECORD 1------------------------\n",
      " summary  | mean                 \n",
      " Survived | 0.38245219347581555  \n",
      " Pclass   | 2.3115860517435323   \n",
      " Name     | NULL                 \n",
      " Sex      | NULL                 \n",
      " Age      | 29.498312710911136   \n",
      " SibSp    | 0.5241844769403825   \n",
      " Parch    | 0.38245219347581555  \n",
      " Ticket   | 260763.9104704097    \n",
      " Fare     | 32.09668095012618    \n",
      " Embarked | NULL                 \n",
      " Family   | 0.906636670416198    \n",
      "-RECORD 2------------------------\n",
      " summary  | stddev               \n",
      " Survived | 0.48625968831477334  \n",
      " Pclass   | 0.8346997785705753   \n",
      " Name     | NULL                 \n",
      " Sex      | NULL                 \n",
      " Age      | 12.97963787638553    \n",
      " SibSp    | 1.103704875596923    \n",
      " Parch    | 0.8067607445174785   \n",
      " Ticket   | 472255.95121695305   \n",
      " Fare     | 49.697504884074355   \n",
      " Embarked | NULL                 \n",
      " Family   | 1.6147025929141485   \n",
      "-RECORD 3------------------------\n",
      " summary  | min                  \n",
      " Survived | 0                    \n",
      " Pclass   | 1                    \n",
      " Name     | \"Andersson, Mr. A... \n",
      " Sex      | female               \n",
      " Age      | 0                    \n",
      " SibSp    | 0                    \n",
      " Parch    | 0                    \n",
      " Ticket   | 110152               \n",
      " Fare     | 0.0                  \n",
      " Embarked | C                    \n",
      " Family   | 0                    \n",
      "-RECORD 4------------------------\n",
      " summary  | max                  \n",
      " Survived | 1                    \n",
      " Pclass   | 3                    \n",
      " Name     | van Melkebeke, Mr... \n",
      " Sex      | male                 \n",
      " Age      | 80                   \n",
      " SibSp    | 8                    \n",
      " Parch    | 6                    \n",
      " Ticket   | WE/P 5735            \n",
      " Fare     | 512.3292             \n",
      " Embarked | S                    \n",
      " Family   | 10                   \n",
      "\n"
     ]
    }
   ],
   "source": [
    "data.describe().show(vertical=True)"
   ]
  },
  {
   "cell_type": "markdown",
   "id": "7c2129f6-a294-4f5d-9ef1-977f227793d4",
   "metadata": {},
   "source": [
    "* 결측값처리 완료"
   ]
  },
  {
   "cell_type": "code",
   "execution_count": 29,
   "id": "9ea097b3-7b81-4627-9f94-4d6f0f193daf",
   "metadata": {},
   "outputs": [
    {
     "name": "stdout",
     "output_type": "stream",
     "text": [
      "+--------+------+--------------------+------+---+-----+-----+-------+-------+--------+------+\n",
      "|Survived|Pclass|                Name|   Sex|Age|SibSp|Parch| Ticket|   Fare|Embarked|Family|\n",
      "+--------+------+--------------------+------+---+-----+-----+-------+-------+--------+------+\n",
      "|       0|     3|Rice, Master. Eugene|  male|  2|    4|    1| 382652| 29.125|       Q|     5|\n",
      "|       0|     3|Panula, Master. J...|  male|  7|    4|    1|3101295|39.6875|       S|     5|\n",
      "|       1|     3|Andersson, Miss. ...|female| 17|    4|    2|3101281|  7.925|       S|     6|\n",
      "|       0|     3|Andersson, Miss. ...|female|  2|    4|    2| 347082| 31.275|       S|     6|\n",
      "|       0|     3|Panula, Master. E...|  male|  1|    4|    1|3101295|39.6875|       S|     5|\n",
      "|       0|     3|Rice, Master. Arthur|  male|  4|    4|    1| 382652| 29.125|       Q|     5|\n",
      "|       0|     3|Asplund, Master. ...|  male|  9|    4|    2| 347077|31.3875|       S|     6|\n",
      "|       1|     3|Asplund, Miss. Li...|female|  5|    4|    2| 347077|31.3875|       S|     6|\n",
      "|       1|     3|Asplund, Master. ...|  male|  3|    4|    2| 347077|31.3875|       S|     6|\n",
      "|       0|     3|Panula, Mr. Ernes...|  male| 16|    4|    1|3101295|39.6875|       S|     5|\n",
      "|       0|     3|  Rice, Master. Eric|  male|  7|    4|    1| 382652| 29.125|       Q|     5|\n",
      "|       0|     3|Andersson, Miss. ...|female|  9|    4|    2| 347082| 31.275|       S|     6|\n",
      "|       0|     3|Andersson, Miss. ...|female| 11|    4|    2| 347082| 31.275|       S|     6|\n",
      "|       0|     3|Panula, Mr. Jaako...|  male| 14|    4|    1|3101295|39.6875|       S|     5|\n",
      "|       0|     3|Rice, Master. Geo...|  male|  8|    4|    1| 382652| 29.125|       Q|     5|\n",
      "|       0|     3|Andersson, Miss. ...|female|  6|    4|    2| 347082| 31.275|       S|     6|\n",
      "|       0|     3|Panula, Master. U...|  male|  2|    4|    1|3101295|39.6875|       S|     5|\n",
      "|       0|     3|Andersson, Master...|  male|  4|    4|    2| 347082| 31.275|       S|     6|\n",
      "+--------+------+--------------------+------+---+-----+-----+-------+-------+--------+------+\n",
      "\n"
     ]
    }
   ],
   "source": [
    "data.filter('SibSp==4').show()"
   ]
  },
  {
   "cell_type": "code",
   "execution_count": 33,
   "id": "1d20c997-8d2b-440a-835a-19c85c1ee1b2",
   "metadata": {},
   "outputs": [
    {
     "name": "stdout",
     "output_type": "stream",
     "text": [
      "+--------+------+--------------------+----+---+-----+-----+------+------+--------+------+\n",
      "|Survived|Pclass|                Name| Sex|Age|SibSp|Parch|Ticket|  Fare|Embarked|Family|\n",
      "+--------+------+--------------------+----+---+-----+-----+------+------+--------+------+\n",
      "|       0|     3|Rice, Master. Eugene|male|  2|    4|    1|382652|29.125|       Q|     5|\n",
      "|       0|     3|Rice, Master. Arthur|male|  4|    4|    1|382652|29.125|       Q|     5|\n",
      "|       0|     3|  Rice, Master. Eric|male|  7|    4|    1|382652|29.125|       Q|     5|\n",
      "|       0|     3|Rice, Master. Geo...|male|  8|    4|    1|382652|29.125|       Q|     5|\n",
      "+--------+------+--------------------+----+---+-----+-----+------+------+--------+------+\n",
      "\n"
     ]
    }
   ],
   "source": [
    "data.filter((data['SibSp']==4) & (data['Ticket']==382652)).show()"
   ]
  },
  {
   "cell_type": "code",
   "execution_count": 34,
   "id": "f61c4f61-781b-4273-aab2-26c949b66c4d",
   "metadata": {},
   "outputs": [
    {
     "name": "stdout",
     "output_type": "stream",
     "text": [
      "+--------+------+--------------------+------+---+-----+-----+------+------+--------+------+\n",
      "|Survived|Pclass|                Name|   Sex|Age|SibSp|Parch|Ticket|  Fare|Embarked|Family|\n",
      "+--------+------+--------------------+------+---+-----+-----+------+------+--------+------+\n",
      "|       0|     3|Rice, Master. Eugene|  male|  2|    4|    1|382652|29.125|       Q|     5|\n",
      "|       0|     3|Rice, Master. Arthur|  male|  4|    4|    1|382652|29.125|       Q|     5|\n",
      "|       0|     3|  Rice, Master. Eric|  male|  7|    4|    1|382652|29.125|       Q|     5|\n",
      "|       0|     3|Rice, Master. Geo...|  male|  8|    4|    1|382652|29.125|       Q|     5|\n",
      "|       0|     3|Rice, Mrs. Willia...|female| 39|    0|    5|382652|29.125|       Q|     5|\n",
      "+--------+------+--------------------+------+---+-----+-----+------+------+--------+------+\n",
      "\n"
     ]
    }
   ],
   "source": [
    "data.filter('Ticket==382652').show()"
   ]
  },
  {
   "cell_type": "code",
   "execution_count": 35,
   "id": "c7cc199c-e57e-4b6c-8a77-2bb92dd9dfa0",
   "metadata": {},
   "outputs": [
    {
     "name": "stdout",
     "output_type": "stream",
     "text": [
      "+--------+------+--------------------+----+---+-----+-----+-------+-------+--------+------+\n",
      "|Survived|Pclass|                Name| Sex|Age|SibSp|Parch| Ticket|   Fare|Embarked|Family|\n",
      "+--------+------+--------------------+----+---+-----+-----+-------+-------+--------+------+\n",
      "|       0|     3|Panula, Master. J...|male|  7|    4|    1|3101295|39.6875|       S|     5|\n",
      "|       0|     3|Panula, Master. E...|male|  1|    4|    1|3101295|39.6875|       S|     5|\n",
      "|       0|     3|Panula, Mr. Ernes...|male| 16|    4|    1|3101295|39.6875|       S|     5|\n",
      "|       0|     3|Panula, Mr. Jaako...|male| 14|    4|    1|3101295|39.6875|       S|     5|\n",
      "|       0|     3|Panula, Master. U...|male|  2|    4|    1|3101295|39.6875|       S|     5|\n",
      "+--------+------+--------------------+----+---+-----+-----+-------+-------+--------+------+\n",
      "\n"
     ]
    }
   ],
   "source": [
    "data.filter((data['SibSp']==4) & (data['Ticket']==3101295)).show()"
   ]
  },
  {
   "cell_type": "code",
   "execution_count": 36,
   "id": "1bb411d7-03cd-44be-a641-19756b57e0ab",
   "metadata": {},
   "outputs": [
    {
     "name": "stdout",
     "output_type": "stream",
     "text": [
      "+--------+------+--------------------+------+---+-----+-----+-------+-------+--------+------+\n",
      "|Survived|Pclass|                Name|   Sex|Age|SibSp|Parch| Ticket|   Fare|Embarked|Family|\n",
      "+--------+------+--------------------+------+---+-----+-----+-------+-------+--------+------+\n",
      "|       0|     3|Panula, Master. J...|  male|  7|    4|    1|3101295|39.6875|       S|     5|\n",
      "|       0|     3|Panula, Master. E...|  male|  1|    4|    1|3101295|39.6875|       S|     5|\n",
      "|       0|     3|Panula, Mr. Ernes...|  male| 16|    4|    1|3101295|39.6875|       S|     5|\n",
      "|       0|     3|Panula, Mrs. Juha...|female| 41|    0|    5|3101295|39.6875|       S|     5|\n",
      "|       0|     3|Panula, Mr. Jaako...|  male| 14|    4|    1|3101295|39.6875|       S|     5|\n",
      "|       0|     3|Panula, Master. U...|  male|  2|    4|    1|3101295|39.6875|       S|     5|\n",
      "+--------+------+--------------------+------+---+-----+-----+-------+-------+--------+------+\n",
      "\n"
     ]
    }
   ],
   "source": [
    "data.filter('Ticket==3101295').show()"
   ]
  },
  {
   "cell_type": "code",
   "execution_count": 37,
   "id": "c16fdc4f-4bd5-4bb7-8291-febd228244af",
   "metadata": {},
   "outputs": [
    {
     "name": "stdout",
     "output_type": "stream",
     "text": [
      "+--------+------+--------------------+------+---+-----+-----+------+-------+--------+------+\n",
      "|Survived|Pclass|                Name|   Sex|Age|SibSp|Parch|Ticket|   Fare|Embarked|Family|\n",
      "+--------+------+--------------------+------+---+-----+-----+------+-------+--------+------+\n",
      "|       0|     3|Asplund, Master. ...|  male|  9|    4|    2|347077|31.3875|       S|     6|\n",
      "|       1|     3|Asplund, Miss. Li...|female|  5|    4|    2|347077|31.3875|       S|     6|\n",
      "|       1|     3|Asplund, Master. ...|  male|  3|    4|    2|347077|31.3875|       S|     6|\n",
      "+--------+------+--------------------+------+---+-----+-----+------+-------+--------+------+\n",
      "\n"
     ]
    }
   ],
   "source": [
    "data.filter((data['SibSp']==4) & (data['Ticket']==347077)).show()"
   ]
  },
  {
   "cell_type": "code",
   "execution_count": 38,
   "id": "63fdb237-fa95-4563-bda0-39be48782356",
   "metadata": {},
   "outputs": [
    {
     "name": "stdout",
     "output_type": "stream",
     "text": [
      "+--------+------+--------------------+------+---+-----+-----+------+-------+--------+------+\n",
      "|Survived|Pclass|                Name|   Sex|Age|SibSp|Parch|Ticket|   Fare|Embarked|Family|\n",
      "+--------+------+--------------------+------+---+-----+-----+------+-------+--------+------+\n",
      "|       1|     3|Asplund, Mrs. Car...|female| 38|    1|    5|347077|31.3875|       S|     6|\n",
      "|       0|     3|Asplund, Master. ...|  male|  9|    4|    2|347077|31.3875|       S|     6|\n",
      "|       1|     3|Asplund, Miss. Li...|female|  5|    4|    2|347077|31.3875|       S|     6|\n",
      "|       1|     3|Asplund, Master. ...|  male|  3|    4|    2|347077|31.3875|       S|     6|\n",
      "+--------+------+--------------------+------+---+-----+-----+------+-------+--------+------+\n",
      "\n"
     ]
    }
   ],
   "source": [
    "data.filter('Ticket==347077').show()"
   ]
  },
  {
   "cell_type": "code",
   "execution_count": 39,
   "id": "e63b791f-dd6f-44ed-8688-82e6c4e76a1a",
   "metadata": {},
   "outputs": [
    {
     "name": "stdout",
     "output_type": "stream",
     "text": [
      "+--------+------+--------------------+------+---+-----+-----+------------+-------+--------+------+\n",
      "|Survived|Pclass|                Name|   Sex|Age|SibSp|Parch|      Ticket|   Fare|Embarked|Family|\n",
      "+--------+------+--------------------+------+---+-----+-----+------------+-------+--------+------+\n",
      "|       0|     3|Vander Planke, Mi...|female| 18|    2|    0|      345764|   18.0|       S|     2|\n",
      "|       0|     3| Samaan, Mr. Youssef|  male| 29|    2|    0|        2662|21.6792|       C|     2|\n",
      "|       0|     3|   Kink, Mr. Vincenz|  male| 26|    2|    0|      315151| 8.6625|       S|     2|\n",
      "|       0|     3|Gustafsson, Mr. A...|  male| 37|    2|    0|     3101276|  7.925|       S|     2|\n",
      "|       0|     2|Hickman, Mr. Stan...|  male| 21|    2|    0|S.O.C. 14879|   73.5|       S|     2|\n",
      "|       0|     3|\"Ford, Miss. Robi...|female|  9|    2|    2|  W./C. 6608| 34.375|       S|     4|\n",
      "|       1|     2|Becker, Master. R...|  male|  1|    2|    1|      230136|   39.0|       S|     3|\n",
      "|       0|     1|Minahan, Dr. Will...|  male| 44|    2|    0|       19928|   90.0|       Q|     2|\n",
      "|       1|     3|  McCoy, Mr. Bernard|  male| 29|    2|    0|      367226|  23.25|       Q|     2|\n",
      "|       1|     1|Ryerson, Miss. Em...|female| 18|    2|    2|    PC 17608|262.375|       C|     4|\n",
      "|       1|     3|  McCoy, Miss. Agnes|female| 29|    2|    0|      367226|  23.25|       Q|     2|\n",
      "|       0|     3|Vander Planke, Mr...|  male| 16|    2|    0|      345764|   18.0|       S|     2|\n",
      "|       0|     3|Gustafsson, Mr. J...|  male| 28|    2|    0|     3101277|  7.925|       S|     2|\n",
      "|       0|     3|\"Ford, Miss. Dool...|female| 21|    2|    2|  W./C. 6608| 34.375|       S|     4|\n",
      "|       1|     2|Richards, Mrs. Si...|female| 24|    2|    3|       29106|  18.75|       S|     5|\n",
      "|       1|     3|Baclini, Miss. Ma...|female|  5|    2|    1|        2666|19.2583|       C|     3|\n",
      "|       1|     3|Baclini, Miss. He...|female|  0|    2|    1|        2666|19.2583|       C|     3|\n",
      "|       0|     2|Hocking, Mr. Rich...|  male| 23|    2|    1|       29104|   11.5|       S|     3|\n",
      "|       0|     3|Davies, Mr. Alfred J|  male| 24|    2|    0|   A/4 48871|  24.15|       S|     2|\n",
      "|       1|     1|Appleton, Mrs. Ed...|female| 53|    2|    0|       11769|51.4792|       S|     2|\n",
      "+--------+------+--------------------+------+---+-----+-----+------------+-------+--------+------+\n",
      "only showing top 20 rows\n",
      "\n"
     ]
    }
   ],
   "source": [
    "data.filter('SibSp==2').show()"
   ]
  },
  {
   "cell_type": "code",
   "execution_count": 40,
   "id": "ac569e16-425e-4e09-9576-315a5ba85def",
   "metadata": {},
   "outputs": [
    {
     "name": "stdout",
     "output_type": "stream",
     "text": [
      "+--------+------+--------------------+------+---+-----+-----+------+-------+--------+------+\n",
      "|Survived|Pclass|                Name|   Sex|Age|SibSp|Parch|Ticket|   Fare|Embarked|Family|\n",
      "+--------+------+--------------------+------+---+-----+-----+------+-------+--------+------+\n",
      "|       1|     3|Baclini, Miss. Ma...|female|  5|    2|    1|  2666|19.2583|       C|     3|\n",
      "|       1|     3|Baclini, Miss. He...|female|  0|    2|    1|  2666|19.2583|       C|     3|\n",
      "|       1|     3|Baclini, Miss. Eu...|female|  0|    2|    1|  2666|19.2583|       C|     3|\n",
      "|       1|     3|Baclini, Mrs. Sol...|female| 24|    0|    3|  2666|19.2583|       C|     3|\n",
      "+--------+------+--------------------+------+---+-----+-----+------+-------+--------+------+\n",
      "\n"
     ]
    }
   ],
   "source": [
    "data.filter('Ticket==2666').show()"
   ]
  },
  {
   "cell_type": "code",
   "execution_count": 41,
   "id": "b22af8cc-4643-44a4-bf0d-08189af4f980",
   "metadata": {},
   "outputs": [
    {
     "name": "stdout",
     "output_type": "stream",
     "text": [
      "+--------+------+------------------+------+---+-----+-----+------+-----+--------+------+\n",
      "|Survived|Pclass|              Name|   Sex|Age|SibSp|Parch|Ticket| Fare|Embarked|Family|\n",
      "+--------+------+------------------+------+---+-----+-----+------+-----+--------+------+\n",
      "|       1|     3|McCoy, Mr. Bernard|  male| 29|    2|    0|367226|23.25|       Q|     2|\n",
      "|       1|     3|McCoy, Miss. Agnes|female| 29|    2|    0|367226|23.25|       Q|     2|\n",
      "+--------+------+------------------+------+---+-----+-----+------+-----+--------+------+\n",
      "\n"
     ]
    }
   ],
   "source": [
    "data.filter('Ticket==367226').show()"
   ]
  },
  {
   "cell_type": "code",
   "execution_count": 42,
   "id": "dbdca8ed-82e6-4146-94a8-4690a28a0786",
   "metadata": {},
   "outputs": [
    {
     "name": "stdout",
     "output_type": "stream",
     "text": [
      "+--------+------+--------------------+------+---+-----+-----+------+----+--------+------+\n",
      "|Survived|Pclass|                Name|   Sex|Age|SibSp|Parch|Ticket|Fare|Embarked|Family|\n",
      "+--------+------+--------------------+------+---+-----+-----+------+----+--------+------+\n",
      "|       0|     3|Vander Planke, Mi...|female| 18|    2|    0|345764|18.0|       S|     2|\n",
      "|       0|     3|Vander Planke, Mr...|  male| 16|    2|    0|345764|18.0|       S|     2|\n",
      "+--------+------+--------------------+------+---+-----+-----+------+----+--------+------+\n",
      "\n"
     ]
    }
   ],
   "source": [
    "data.filter('Ticket==345764').show()"
   ]
  },
  {
   "cell_type": "code",
   "execution_count": 43,
   "id": "b04bd6c8-9cd8-45c3-9bc4-59877c39912b",
   "metadata": {},
   "outputs": [
    {
     "name": "stdout",
     "output_type": "stream",
     "text": [
      "+--------+------+--------------------+------+---+-----+-----+------+----+--------+------+\n",
      "|Survived|Pclass|                Name|   Sex|Age|SibSp|Parch|Ticket|Fare|Embarked|Family|\n",
      "+--------+------+--------------------+------+---+-----+-----+------+----+--------+------+\n",
      "|       0|     1|Minahan, Dr. Will...|  male| 44|    2|    0| 19928|90.0|       Q|     2|\n",
      "|       1|     1|Minahan, Miss. Da...|female| 33|    1|    0| 19928|90.0|       Q|     1|\n",
      "+--------+------+--------------------+------+---+-----+-----+------+----+--------+------+\n",
      "\n"
     ]
    }
   ],
   "source": [
    "data.filter('Ticket==19928').show()"
   ]
  },
  {
   "cell_type": "code",
   "execution_count": 44,
   "id": "18227c5f-8b4e-4be1-832d-68acbee08191",
   "metadata": {},
   "outputs": [
    {
     "name": "stdout",
     "output_type": "stream",
     "text": [
      "+--------+------+--------------------+------+---+-----+-----+-------------+--------+--------+------+\n",
      "|Survived|Pclass|                Name|   Sex|Age|SibSp|Parch|       Ticket|    Fare|Embarked|Family|\n",
      "+--------+------+--------------------+------+---+-----+-----+-------------+--------+--------+------+\n",
      "|       1|     1|Cumings, Mrs. Joh...|female| 38|    1|    0|     PC 17599| 71.2833|       C|     1|\n",
      "|       1|     1|Futrelle, Mrs. Ja...|female| 35|    1|    0|       113803|    53.1|       S|     1|\n",
      "|       0|     1|McCarthy, Mr. Tim...|  male| 54|    0|    0|        17463| 51.8625|       S|     0|\n",
      "|       1|     2|Nasser, Mrs. Nich...|female| 14|    1|    0|       237736| 30.0708|       C|     1|\n",
      "|       1|     1|Bonnell, Miss. El...|female| 58|    0|    0|       113783|   26.55|       S|     0|\n",
      "|       1|     2|Hewlett, Mrs. (Ma...|female| 55|    0|    0|       248706|    16.0|       S|     0|\n",
      "|       1|     2|Williams, Mr. Cha...|  male| 29|    0|    0|       244373|    13.0|       S|     0|\n",
      "|       0|     2|Fynney, Mr. Joseph J|  male| 35|    0|    0|       239865|    26.0|       S|     0|\n",
      "|       1|     2|Beesley, Mr. Lawr...|  male| 34|    0|    0|       248698|    13.0|       S|     0|\n",
      "|       1|     1|Sloper, Mr. Willi...|  male| 28|    0|    0|       113788|    35.5|       S|     0|\n",
      "|       0|     1|Fortune, Mr. Char...|  male| 19|    3|    2|        19950|   263.0|       S|     5|\n",
      "|       0|     1|Uruchurtu, Don. M...|  male| 40|    0|    0|     PC 17601| 27.7208|       C|     0|\n",
      "|       1|     1|Spencer, Mrs. Wil...|female| 29|    1|    0|     PC 17569|146.5208|       C|     1|\n",
      "|       0|     2|Wheadon, Mr. Edwa...|  male| 66|    0|    0|   C.A. 24579|    10.5|       S|     0|\n",
      "|       0|     1|Meyer, Mr. Edgar ...|  male| 28|    1|    0|     PC 17604| 82.1708|       C|     1|\n",
      "|       0|     1|Holverson, Mr. Al...|  male| 42|    1|    0|       113789|    52.0|       S|     1|\n",
      "|       0|     2|Turpin, Mrs. Will...|female| 27|    1|    0|        11668|    21.0|       S|     1|\n",
      "|       1|     2|Laroche, Miss. Si...|female|  3|    1|    2|SC/Paris 2123| 41.5792|       C|     3|\n",
      "|       1|     1|Harper, Mrs. Henr...|female| 49|    1|    0|     PC 17572| 76.7292|       C|     1|\n",
      "|       1|     2|Faunthorpe, Mrs. ...|female| 29|    1|    0|         2926|    26.0|       S|     1|\n",
      "+--------+------+--------------------+------+---+-----+-----+-------------+--------+--------+------+\n",
      "only showing top 20 rows\n",
      "\n"
     ]
    }
   ],
   "source": [
    "data.filter(~(data['Pclass']==3)).show()"
   ]
  },
  {
   "cell_type": "code",
   "execution_count": 50,
   "id": "6a13f7a9-480a-4ad5-9f88-7e783b08e7d1",
   "metadata": {},
   "outputs": [
    {
     "name": "stdout",
     "output_type": "stream",
     "text": [
      "+------+--------+---------------+\n",
      "|Pclass|Survived|count(Survived)|\n",
      "+------+--------+---------------+\n",
      "|     1|       0|             80|\n",
      "|     1|       1|            134|\n",
      "|     2|       1|             87|\n",
      "|     2|       0|             97|\n",
      "|     3|       1|            119|\n",
      "|     3|       0|            372|\n",
      "+------+--------+---------------+\n",
      "\n"
     ]
    }
   ],
   "source": [
    "data.groupby('Pclass','Survived').agg({'Survived':'count'}).orderBy('Pclass').show()"
   ]
  },
  {
   "cell_type": "code",
   "execution_count": 51,
   "id": "23aa5dc8-8513-45bb-ac41-5c0969f48ddc",
   "metadata": {},
   "outputs": [
    {
     "name": "stdout",
     "output_type": "stream",
     "text": [
      "+------+-------------+\n",
      "|Pclass|count(Ticket)|\n",
      "+------+-------------+\n",
      "|     1|          214|\n",
      "|     2|          184|\n",
      "|     3|          491|\n",
      "+------+-------------+\n",
      "\n"
     ]
    }
   ],
   "source": [
    "data.groupby('Pclass').agg({'Ticket':'count'}).orderBy('Pclass').show()"
   ]
  },
  {
   "cell_type": "code",
   "execution_count": 52,
   "id": "ed9d471c-f5f6-4f8a-9743-89537cf950be",
   "metadata": {},
   "outputs": [
    {
     "name": "stdout",
     "output_type": "stream",
     "text": [
      "+---+---------------+\n",
      "|Age|count(Survived)|\n",
      "+---+---------------+\n",
      "|  0|              7|\n",
      "|  1|              7|\n",
      "|  2|             10|\n",
      "|  3|              6|\n",
      "|  4|             10|\n",
      "|  5|              4|\n",
      "|  6|              3|\n",
      "|  7|              3|\n",
      "|  8|              4|\n",
      "|  9|              8|\n",
      "| 10|              2|\n",
      "| 11|              4|\n",
      "| 12|              1|\n",
      "| 13|              2|\n",
      "| 14|              7|\n",
      "| 15|              5|\n",
      "| 16|             17|\n",
      "| 17|             13|\n",
      "| 18|             26|\n",
      "| 19|             25|\n",
      "+---+---------------+\n",
      "only showing top 20 rows\n",
      "\n"
     ]
    }
   ],
   "source": [
    "data.groupby('Age').agg({'Survived':'count'}).orderBy('Age').show()"
   ]
  },
  {
   "cell_type": "code",
   "execution_count": 57,
   "id": "7984b061-a954-41bd-b05b-a8d678e30690",
   "metadata": {},
   "outputs": [
    {
     "name": "stdout",
     "output_type": "stream",
     "text": [
      "+--------+------+--------------------+------+---+-----+-----+----------------+-------+--------+------+\n",
      "|Survived|Pclass|                Name|   Sex|Age|SibSp|Parch|          Ticket|   Fare|Embarked|Family|\n",
      "+--------+------+--------------------+------+---+-----+-----+----------------+-------+--------+------+\n",
      "|       0|     3|Braund, Mr. Owen ...|  male| 22|    1|    0|       A/5 21171|   7.25|       S|     1|\n",
      "|       1|     1|Cumings, Mrs. Joh...|female| 38|    1|    0|        PC 17599|71.2833|       C|     1|\n",
      "|       1|     3|Heikkinen, Miss. ...|female| 26|    0|    0|STON/O2. 3101282|  7.925|       S|     0|\n",
      "|       1|     1|Futrelle, Mrs. Ja...|female| 35|    1|    0|          113803|   53.1|       S|     1|\n",
      "|       0|     3|Allen, Mr. Willia...|  male| 35|    0|    0|          373450|   8.05|       S|     0|\n",
      "|       0|     3|    Moran, Mr. James|  male| 29|    0|    0|          330877| 8.4583|       Q|     0|\n",
      "|       0|     1|McCarthy, Mr. Tim...|  male| 54|    0|    0|           17463|51.8625|       S|     0|\n",
      "|       0|     3|Palsson, Master. ...|  male|  2|    3|    1|          349909| 21.075|       S|     4|\n",
      "|       1|     3|Johnson, Mrs. Osc...|female| 27|    0|    2|          347742|11.1333|       S|     2|\n",
      "|       1|     2|Nasser, Mrs. Nich...|female| 14|    1|    0|          237736|30.0708|       C|     1|\n",
      "|       1|     3|Sandstrom, Miss. ...|female|  4|    1|    1|         PP 9549|   16.7|       S|     2|\n",
      "|       1|     1|Bonnell, Miss. El...|female| 58|    0|    0|          113783|  26.55|       S|     0|\n",
      "|       0|     3|Saundercock, Mr. ...|  male| 20|    0|    0|       A/5. 2151|   8.05|       S|     0|\n",
      "|       0|     3|Andersson, Mr. An...|  male| 39|    1|    5|          347082| 31.275|       S|     6|\n",
      "|       0|     3|Vestrom, Miss. Hu...|female| 14|    0|    0|          350406| 7.8542|       S|     0|\n",
      "|       1|     2|Hewlett, Mrs. (Ma...|female| 55|    0|    0|          248706|   16.0|       S|     0|\n",
      "|       0|     3|Rice, Master. Eugene|  male|  2|    4|    1|          382652| 29.125|       Q|     5|\n",
      "|       1|     2|Williams, Mr. Cha...|  male| 29|    0|    0|          244373|   13.0|       S|     0|\n",
      "|       0|     3|Vander Planke, Mr...|female| 31|    1|    0|          345763|   18.0|       S|     1|\n",
      "|       1|     3|Masselmani, Mrs. ...|female| 29|    0|    0|            2649|  7.225|       C|     0|\n",
      "+--------+------+--------------------+------+---+-----+-----+----------------+-------+--------+------+\n",
      "only showing top 20 rows\n",
      "\n"
     ]
    }
   ],
   "source": [
    "data.show()"
   ]
  },
  {
   "cell_type": "code",
   "execution_count": 30,
   "id": "2f2984df-0af1-46f4-a73a-977a235c7b56",
   "metadata": {},
   "outputs": [],
   "source": [
    "data =data.drop('Name','Ticket', 'Fare', 'SibSp', 'Parch')"
   ]
  },
  {
   "cell_type": "code",
   "execution_count": 31,
   "id": "e7ba0dfe-68de-41f0-aabd-9a9d46aad366",
   "metadata": {},
   "outputs": [
    {
     "name": "stdout",
     "output_type": "stream",
     "text": [
      "+--------+------+------+---+--------+------+\n",
      "|Survived|Pclass|   Sex|Age|Embarked|Family|\n",
      "+--------+------+------+---+--------+------+\n",
      "|       0|     3|  male| 22|       S|     1|\n",
      "|       1|     1|female| 38|       C|     1|\n",
      "|       1|     3|female| 26|       S|     0|\n",
      "|       1|     1|female| 35|       S|     1|\n",
      "|       0|     3|  male| 35|       S|     0|\n",
      "|       0|     3|  male| 29|       Q|     0|\n",
      "|       0|     1|  male| 54|       S|     0|\n",
      "|       0|     3|  male|  2|       S|     4|\n",
      "|       1|     3|female| 27|       S|     2|\n",
      "|       1|     2|female| 14|       C|     1|\n",
      "|       1|     3|female|  4|       S|     2|\n",
      "|       1|     1|female| 58|       S|     0|\n",
      "|       0|     3|  male| 20|       S|     0|\n",
      "|       0|     3|  male| 39|       S|     6|\n",
      "|       0|     3|female| 14|       S|     0|\n",
      "|       1|     2|female| 55|       S|     0|\n",
      "|       0|     3|  male|  2|       Q|     5|\n",
      "|       1|     2|  male| 29|       S|     0|\n",
      "|       0|     3|female| 31|       S|     1|\n",
      "|       1|     3|female| 29|       C|     0|\n",
      "+--------+------+------+---+--------+------+\n",
      "only showing top 20 rows\n",
      "\n"
     ]
    }
   ],
   "source": [
    "data.show()"
   ]
  },
  {
   "cell_type": "code",
   "execution_count": 63,
   "id": "226c5933-decf-4f21-af1e-fee331c372b6",
   "metadata": {
    "scrolled": true
   },
   "outputs": [
    {
     "name": "stdout",
     "output_type": "stream",
     "text": [
      "root\n",
      " |-- Survived: integer (nullable = true)\n",
      " |-- Pclass: integer (nullable = true)\n",
      " |-- Sex: string (nullable = true)\n",
      " |-- Age: integer (nullable = true)\n",
      " |-- SibSp: integer (nullable = true)\n",
      " |-- Parch: integer (nullable = true)\n",
      " |-- Embarked: string (nullable = true)\n",
      " |-- Family: integer (nullable = true)\n",
      "\n"
     ]
    }
   ],
   "source": [
    "data.printSchema()"
   ]
  },
  {
   "cell_type": "markdown",
   "id": "cda9697d-c70b-48ee-bcb6-1e1cb8090c18",
   "metadata": {},
   "source": [
    "* 분석을 해보자! "
   ]
  },
  {
   "cell_type": "code",
   "execution_count": 32,
   "id": "abe8ce00-9cf3-4a6f-a174-7da691f54f5c",
   "metadata": {},
   "outputs": [],
   "source": [
    "# 레이블 인코딩 하기\n",
    "from pyspark.ml.feature import StringIndexer\n",
    "indexer = StringIndexer(inputCols=['Sex','Embarked'], outputCols=[\"SexIndex\", \"EmbarkedIndex\"])\n",
    "df = indexer.fit(data).transform(data)"
   ]
  },
  {
   "cell_type": "code",
   "execution_count": 33,
   "id": "8b4021db-52e5-4a04-888d-ca89a0ce041a",
   "metadata": {},
   "outputs": [],
   "source": [
    "# 원핫 인코딩하기\n",
    "from pyspark.ml.feature import OneHotEncoder\n",
    "encoder = OneHotEncoder(inputCols=['SexIndex','EmbarkedIndex'], outputCols=['Sex_vec', 'Embarked_vec'])\n",
    "df = encoder.fit(df).transform(df)"
   ]
  },
  {
   "cell_type": "code",
   "execution_count": 34,
   "id": "a6fd5ff0-405e-46a1-a109-43c10267226c",
   "metadata": {},
   "outputs": [
    {
     "data": {
      "text/plain": [
       "DataFrame[Survived: int, Pclass: int, Sex: string, Age: int, Embarked: string, Family: int, SexIndex: double, EmbarkedIndex: double, Sex_vec: vector, Embarked_vec: vector]"
      ]
     },
     "execution_count": 34,
     "metadata": {},
     "output_type": "execute_result"
    }
   ],
   "source": [
    "df"
   ]
  },
  {
   "cell_type": "code",
   "execution_count": 35,
   "id": "0e34d38a-27b2-419d-a85b-116ab0ba0437",
   "metadata": {
    "scrolled": true
   },
   "outputs": [
    {
     "name": "stdout",
     "output_type": "stream",
     "text": [
      "+--------+------+------+---+--------+------+--------+-------------+-------------+-------------+--------------------+\n",
      "|Survived|Pclass|   Sex|Age|Embarked|Family|SexIndex|EmbarkedIndex|      Sex_vec| Embarked_vec|            Features|\n",
      "+--------+------+------+---+--------+------+--------+-------------+-------------+-------------+--------------------+\n",
      "|       0|     3|  male| 22|       S|     1|     0.0|          0.0|(1,[0],[1.0])|(2,[0],[1.0])|[3.0,22.0,1.0,1.0...|\n",
      "|       1|     1|female| 38|       C|     1|     1.0|          1.0|    (1,[],[])|(2,[1],[1.0])|[1.0,38.0,1.0,0.0...|\n",
      "|       1|     3|female| 26|       S|     0|     1.0|          0.0|    (1,[],[])|(2,[0],[1.0])|[3.0,26.0,0.0,0.0...|\n",
      "|       1|     1|female| 35|       S|     1|     1.0|          0.0|    (1,[],[])|(2,[0],[1.0])|[1.0,35.0,1.0,0.0...|\n",
      "|       0|     3|  male| 35|       S|     0|     0.0|          0.0|(1,[0],[1.0])|(2,[0],[1.0])|[3.0,35.0,0.0,1.0...|\n",
      "|       0|     3|  male| 29|       Q|     0|     0.0|          2.0|(1,[0],[1.0])|    (2,[],[])|[3.0,29.0,0.0,1.0...|\n",
      "|       0|     1|  male| 54|       S|     0|     0.0|          0.0|(1,[0],[1.0])|(2,[0],[1.0])|[1.0,54.0,0.0,1.0...|\n",
      "|       0|     3|  male|  2|       S|     4|     0.0|          0.0|(1,[0],[1.0])|(2,[0],[1.0])|[3.0,2.0,4.0,1.0,...|\n",
      "|       1|     3|female| 27|       S|     2|     1.0|          0.0|    (1,[],[])|(2,[0],[1.0])|[3.0,27.0,2.0,0.0...|\n",
      "|       1|     2|female| 14|       C|     1|     1.0|          1.0|    (1,[],[])|(2,[1],[1.0])|[2.0,14.0,1.0,0.0...|\n",
      "|       1|     3|female|  4|       S|     2|     1.0|          0.0|    (1,[],[])|(2,[0],[1.0])|[3.0,4.0,2.0,0.0,...|\n",
      "|       1|     1|female| 58|       S|     0|     1.0|          0.0|    (1,[],[])|(2,[0],[1.0])|[1.0,58.0,0.0,0.0...|\n",
      "|       0|     3|  male| 20|       S|     0|     0.0|          0.0|(1,[0],[1.0])|(2,[0],[1.0])|[3.0,20.0,0.0,1.0...|\n",
      "|       0|     3|  male| 39|       S|     6|     0.0|          0.0|(1,[0],[1.0])|(2,[0],[1.0])|[3.0,39.0,6.0,1.0...|\n",
      "|       0|     3|female| 14|       S|     0|     1.0|          0.0|    (1,[],[])|(2,[0],[1.0])|[3.0,14.0,0.0,0.0...|\n",
      "|       1|     2|female| 55|       S|     0|     1.0|          0.0|    (1,[],[])|(2,[0],[1.0])|[2.0,55.0,0.0,0.0...|\n",
      "|       0|     3|  male|  2|       Q|     5|     0.0|          2.0|(1,[0],[1.0])|    (2,[],[])|[3.0,2.0,5.0,1.0,...|\n",
      "|       1|     2|  male| 29|       S|     0|     0.0|          0.0|(1,[0],[1.0])|(2,[0],[1.0])|[2.0,29.0,0.0,1.0...|\n",
      "|       0|     3|female| 31|       S|     1|     1.0|          0.0|    (1,[],[])|(2,[0],[1.0])|[3.0,31.0,1.0,0.0...|\n",
      "|       1|     3|female| 29|       C|     0|     1.0|          1.0|    (1,[],[])|(2,[1],[1.0])|[3.0,29.0,0.0,0.0...|\n",
      "+--------+------+------+---+--------+------+--------+-------------+-------------+-------------+--------------------+\n",
      "only showing top 20 rows\n",
      "\n"
     ]
    }
   ],
   "source": [
    "# 독립변수를 하나의 벡터로 만들기\n",
    "from pyspark.ml.feature import VectorAssembler\n",
    "feature_assembler = VectorAssembler(inputCols = ['Pclass', 'Age', 'Family', 'Sex_vec', 'Embarked_vec'], outputCol='Features')\n",
    "df = feature_assembler.transform(df)\n",
    "df.show()"
   ]
  },
  {
   "cell_type": "code",
   "execution_count": 36,
   "id": "84e67a07-fac4-49c3-acd3-d07bf2e371c3",
   "metadata": {},
   "outputs": [
    {
     "name": "stdout",
     "output_type": "stream",
     "text": [
      "+--------+--------------------+\n",
      "|Survived|            Features|\n",
      "+--------+--------------------+\n",
      "|       0|[3.0,22.0,1.0,1.0...|\n",
      "|       1|[1.0,38.0,1.0,0.0...|\n",
      "|       1|[3.0,26.0,0.0,0.0...|\n",
      "|       1|[1.0,35.0,1.0,0.0...|\n",
      "|       0|[3.0,35.0,0.0,1.0...|\n",
      "|       0|[3.0,29.0,0.0,1.0...|\n",
      "|       0|[1.0,54.0,0.0,1.0...|\n",
      "|       0|[3.0,2.0,4.0,1.0,...|\n",
      "|       1|[3.0,27.0,2.0,0.0...|\n",
      "|       1|[2.0,14.0,1.0,0.0...|\n",
      "|       1|[3.0,4.0,2.0,0.0,...|\n",
      "|       1|[1.0,58.0,0.0,0.0...|\n",
      "|       0|[3.0,20.0,0.0,1.0...|\n",
      "|       0|[3.0,39.0,6.0,1.0...|\n",
      "|       0|[3.0,14.0,0.0,0.0...|\n",
      "|       1|[2.0,55.0,0.0,0.0...|\n",
      "|       0|[3.0,2.0,5.0,1.0,...|\n",
      "|       1|[2.0,29.0,0.0,1.0...|\n",
      "|       0|[3.0,31.0,1.0,0.0...|\n",
      "|       1|[3.0,29.0,0.0,0.0...|\n",
      "+--------+--------------------+\n",
      "only showing top 20 rows\n",
      "\n"
     ]
    }
   ],
   "source": [
    "new_df = df.drop('Pclass', 'Age','Sex',  'Family', 'Embarked', 'SexIndex', 'EmbarkedIndex', 'Sex_vec', 'Embarked_vec')\n",
    "new_df.show()"
   ]
  },
  {
   "cell_type": "markdown",
   "id": "478101bd-3bfb-45ff-b943-6eda8f3f38b9",
   "metadata": {},
   "source": [
    "* 트레인과 테스트로 홀드아웃"
   ]
  },
  {
   "cell_type": "code",
   "execution_count": 37,
   "id": "29e447c4-b0ba-4f3d-b438-9156c0464bba",
   "metadata": {},
   "outputs": [],
   "source": [
    "(train_data, test_data) = new_df.randomSplit([0.6, 0.4], seed=10)"
   ]
  },
  {
   "cell_type": "markdown",
   "id": "a726f4ec-e741-4658-9848-98a85c3efd97",
   "metadata": {},
   "source": [
    "* 분석하기!"
   ]
  },
  {
   "cell_type": "code",
   "execution_count": 38,
   "id": "dd606ccc-6962-4790-8efd-609cc77b66dd",
   "metadata": {},
   "outputs": [
    {
     "name": "stdout",
     "output_type": "stream",
     "text": [
      "+--------+--------------------+-------------+--------------------+----------+\n",
      "|Survived|            Features|rawPrediction|         probability|prediction|\n",
      "+--------+--------------------+-------------+--------------------+----------+\n",
      "|       0|(6,[0,1],[3.0,21.0])|  [30.0,32.0]|[0.48387096774193...|       1.0|\n",
      "|       0|(6,[0,1],[3.0,29.0])|  [30.0,32.0]|[0.48387096774193...|       1.0|\n",
      "|       0|[1.0,2.0,3.0,0.0,...|  [7.0,101.0]|[0.06481481481481...|       1.0|\n",
      "|       0|[1.0,18.0,1.0,1.0...| [257.0,53.0]|[0.82903225806451...|       0.0|\n",
      "|       0|[1.0,19.0,1.0,1.0...| [257.0,53.0]|[0.82903225806451...|       0.0|\n",
      "|       0|[1.0,21.0,1.0,1.0...| [257.0,53.0]|[0.82903225806451...|       0.0|\n",
      "|       0|[1.0,24.0,1.0,1.0...| [257.0,53.0]|[0.82903225806451...|       0.0|\n",
      "|       0|[1.0,28.0,0.0,1.0...| [257.0,53.0]|[0.82903225806451...|       0.0|\n",
      "|       0|[1.0,28.0,1.0,1.0...| [257.0,53.0]|[0.82903225806451...|       0.0|\n",
      "|       0|[1.0,29.0,0.0,1.0...| [257.0,53.0]|[0.82903225806451...|       0.0|\n",
      "|       0|[1.0,29.0,0.0,1.0...| [257.0,53.0]|[0.82903225806451...|       0.0|\n",
      "|       0|[1.0,29.0,0.0,1.0...| [257.0,53.0]|[0.82903225806451...|       0.0|\n",
      "|       0|[1.0,29.0,0.0,1.0...| [257.0,53.0]|[0.82903225806451...|       0.0|\n",
      "|       0|[1.0,29.0,0.0,1.0...| [257.0,53.0]|[0.82903225806451...|       0.0|\n",
      "|       0|[1.0,29.0,0.0,1.0...| [257.0,53.0]|[0.82903225806451...|       0.0|\n",
      "|       0|[1.0,29.0,0.0,1.0...| [257.0,53.0]|[0.82903225806451...|       0.0|\n",
      "|       0|[1.0,29.0,1.0,1.0...| [257.0,53.0]|[0.82903225806451...|       0.0|\n",
      "|       0|[1.0,31.0,0.0,1.0...| [257.0,53.0]|[0.82903225806451...|       0.0|\n",
      "|       0|[1.0,31.0,1.0,1.0...| [257.0,53.0]|[0.82903225806451...|       0.0|\n",
      "|       0|[1.0,33.0,0.0,1.0...| [257.0,53.0]|[0.82903225806451...|       0.0|\n",
      "+--------+--------------------+-------------+--------------------+----------+\n",
      "only showing top 20 rows\n",
      "\n"
     ]
    },
    {
     "ename": "TypeError",
     "evalue": "object of type 'Column' has no len()",
     "output_type": "error",
     "traceback": [
      "\u001b[0;31m---------------------------------------------------------------------------\u001b[0m",
      "\u001b[0;31mTypeError\u001b[0m                                 Traceback (most recent call last)",
      "Cell \u001b[0;32mIn[38], line 8\u001b[0m\n\u001b[1;32m      5\u001b[0m pred\u001b[38;5;241m.\u001b[39mshow()\n\u001b[1;32m      7\u001b[0m \u001b[38;5;28;01mfrom\u001b[39;00m \u001b[38;5;21;01msklearn\u001b[39;00m\u001b[38;5;21;01m.\u001b[39;00m\u001b[38;5;21;01mmetrics\u001b[39;00m \u001b[38;5;28;01mimport\u001b[39;00m accuracy_score, classification_report\n\u001b[0;32m----> 8\u001b[0m \u001b[38;5;28mprint\u001b[39m(accuracy_score(pred[\u001b[38;5;124m'\u001b[39m\u001b[38;5;124mprediction\u001b[39m\u001b[38;5;124m'\u001b[39m], pred[\u001b[38;5;124m'\u001b[39m\u001b[38;5;124mSurvived\u001b[39m\u001b[38;5;124m'\u001b[39m]))\n\u001b[1;32m      9\u001b[0m \u001b[38;5;28mprint\u001b[39m(classification_report(pred[\u001b[38;5;124m'\u001b[39m\u001b[38;5;124mprediction\u001b[39m\u001b[38;5;124m'\u001b[39m], pred[\u001b[38;5;124m'\u001b[39m\u001b[38;5;124mSurvived\u001b[39m\u001b[38;5;124m'\u001b[39m]))\n",
      "File \u001b[0;32m~/.conda/envs/spark3/lib/python3.11/site-packages/sklearn/utils/_param_validation.py:214\u001b[0m, in \u001b[0;36mvalidate_params.<locals>.decorator.<locals>.wrapper\u001b[0;34m(*args, **kwargs)\u001b[0m\n\u001b[1;32m    208\u001b[0m \u001b[38;5;28;01mtry\u001b[39;00m:\n\u001b[1;32m    209\u001b[0m     \u001b[38;5;28;01mwith\u001b[39;00m config_context(\n\u001b[1;32m    210\u001b[0m         skip_parameter_validation\u001b[38;5;241m=\u001b[39m(\n\u001b[1;32m    211\u001b[0m             prefer_skip_nested_validation \u001b[38;5;129;01mor\u001b[39;00m global_skip_validation\n\u001b[1;32m    212\u001b[0m         )\n\u001b[1;32m    213\u001b[0m     ):\n\u001b[0;32m--> 214\u001b[0m         \u001b[38;5;28;01mreturn\u001b[39;00m func(\u001b[38;5;241m*\u001b[39margs, \u001b[38;5;241m*\u001b[39m\u001b[38;5;241m*\u001b[39mkwargs)\n\u001b[1;32m    215\u001b[0m \u001b[38;5;28;01mexcept\u001b[39;00m InvalidParameterError \u001b[38;5;28;01mas\u001b[39;00m e:\n\u001b[1;32m    216\u001b[0m     \u001b[38;5;66;03m# When the function is just a wrapper around an estimator, we allow\u001b[39;00m\n\u001b[1;32m    217\u001b[0m     \u001b[38;5;66;03m# the function to delegate validation to the estimator, but we replace\u001b[39;00m\n\u001b[1;32m    218\u001b[0m     \u001b[38;5;66;03m# the name of the estimator by the name of the function in the error\u001b[39;00m\n\u001b[1;32m    219\u001b[0m     \u001b[38;5;66;03m# message to avoid confusion.\u001b[39;00m\n\u001b[1;32m    220\u001b[0m     msg \u001b[38;5;241m=\u001b[39m re\u001b[38;5;241m.\u001b[39msub(\n\u001b[1;32m    221\u001b[0m         \u001b[38;5;124mr\u001b[39m\u001b[38;5;124m\"\u001b[39m\u001b[38;5;124mparameter of \u001b[39m\u001b[38;5;124m\\\u001b[39m\u001b[38;5;124mw+ must be\u001b[39m\u001b[38;5;124m\"\u001b[39m,\n\u001b[1;32m    222\u001b[0m         \u001b[38;5;124mf\u001b[39m\u001b[38;5;124m\"\u001b[39m\u001b[38;5;124mparameter of \u001b[39m\u001b[38;5;132;01m{\u001b[39;00mfunc\u001b[38;5;241m.\u001b[39m\u001b[38;5;18m__qualname__\u001b[39m\u001b[38;5;132;01m}\u001b[39;00m\u001b[38;5;124m must be\u001b[39m\u001b[38;5;124m\"\u001b[39m,\n\u001b[1;32m    223\u001b[0m         \u001b[38;5;28mstr\u001b[39m(e),\n\u001b[1;32m    224\u001b[0m     )\n",
      "File \u001b[0;32m~/.conda/envs/spark3/lib/python3.11/site-packages/sklearn/metrics/_classification.py:220\u001b[0m, in \u001b[0;36maccuracy_score\u001b[0;34m(y_true, y_pred, normalize, sample_weight)\u001b[0m\n\u001b[1;32m    154\u001b[0m \u001b[38;5;250m\u001b[39m\u001b[38;5;124;03m\"\"\"Accuracy classification score.\u001b[39;00m\n\u001b[1;32m    155\u001b[0m \n\u001b[1;32m    156\u001b[0m \u001b[38;5;124;03mIn multilabel classification, this function computes subset accuracy:\u001b[39;00m\n\u001b[0;32m   (...)\u001b[0m\n\u001b[1;32m    216\u001b[0m \u001b[38;5;124;03m0.5\u001b[39;00m\n\u001b[1;32m    217\u001b[0m \u001b[38;5;124;03m\"\"\"\u001b[39;00m\n\u001b[1;32m    219\u001b[0m \u001b[38;5;66;03m# Compute accuracy for each possible representation\u001b[39;00m\n\u001b[0;32m--> 220\u001b[0m y_type, y_true, y_pred \u001b[38;5;241m=\u001b[39m _check_targets(y_true, y_pred)\n\u001b[1;32m    221\u001b[0m check_consistent_length(y_true, y_pred, sample_weight)\n\u001b[1;32m    222\u001b[0m \u001b[38;5;28;01mif\u001b[39;00m y_type\u001b[38;5;241m.\u001b[39mstartswith(\u001b[38;5;124m\"\u001b[39m\u001b[38;5;124mmultilabel\u001b[39m\u001b[38;5;124m\"\u001b[39m):\n",
      "File \u001b[0;32m~/.conda/envs/spark3/lib/python3.11/site-packages/sklearn/metrics/_classification.py:84\u001b[0m, in \u001b[0;36m_check_targets\u001b[0;34m(y_true, y_pred)\u001b[0m\n\u001b[1;32m     57\u001b[0m \u001b[38;5;28;01mdef\u001b[39;00m \u001b[38;5;21m_check_targets\u001b[39m(y_true, y_pred):\n\u001b[1;32m     58\u001b[0m \u001b[38;5;250m    \u001b[39m\u001b[38;5;124;03m\"\"\"Check that y_true and y_pred belong to the same classification task.\u001b[39;00m\n\u001b[1;32m     59\u001b[0m \n\u001b[1;32m     60\u001b[0m \u001b[38;5;124;03m    This converts multiclass or binary types to a common shape, and raises a\u001b[39;00m\n\u001b[0;32m   (...)\u001b[0m\n\u001b[1;32m     82\u001b[0m \u001b[38;5;124;03m    y_pred : array or indicator matrix\u001b[39;00m\n\u001b[1;32m     83\u001b[0m \u001b[38;5;124;03m    \"\"\"\u001b[39;00m\n\u001b[0;32m---> 84\u001b[0m     check_consistent_length(y_true, y_pred)\n\u001b[1;32m     85\u001b[0m     type_true \u001b[38;5;241m=\u001b[39m type_of_target(y_true, input_name\u001b[38;5;241m=\u001b[39m\u001b[38;5;124m\"\u001b[39m\u001b[38;5;124my_true\u001b[39m\u001b[38;5;124m\"\u001b[39m)\n\u001b[1;32m     86\u001b[0m     type_pred \u001b[38;5;241m=\u001b[39m type_of_target(y_pred, input_name\u001b[38;5;241m=\u001b[39m\u001b[38;5;124m\"\u001b[39m\u001b[38;5;124my_pred\u001b[39m\u001b[38;5;124m\"\u001b[39m)\n",
      "File \u001b[0;32m~/.conda/envs/spark3/lib/python3.11/site-packages/sklearn/utils/validation.py:404\u001b[0m, in \u001b[0;36mcheck_consistent_length\u001b[0;34m(*arrays)\u001b[0m\n\u001b[1;32m    393\u001b[0m \u001b[38;5;28;01mdef\u001b[39;00m \u001b[38;5;21mcheck_consistent_length\u001b[39m(\u001b[38;5;241m*\u001b[39marrays):\n\u001b[1;32m    394\u001b[0m \u001b[38;5;250m    \u001b[39m\u001b[38;5;124;03m\"\"\"Check that all arrays have consistent first dimensions.\u001b[39;00m\n\u001b[1;32m    395\u001b[0m \n\u001b[1;32m    396\u001b[0m \u001b[38;5;124;03m    Checks whether all objects in arrays have the same shape or length.\u001b[39;00m\n\u001b[0;32m   (...)\u001b[0m\n\u001b[1;32m    401\u001b[0m \u001b[38;5;124;03m        Objects that will be checked for consistent length.\u001b[39;00m\n\u001b[1;32m    402\u001b[0m \u001b[38;5;124;03m    \"\"\"\u001b[39;00m\n\u001b[0;32m--> 404\u001b[0m     lengths \u001b[38;5;241m=\u001b[39m [_num_samples(X) \u001b[38;5;28;01mfor\u001b[39;00m X \u001b[38;5;129;01min\u001b[39;00m arrays \u001b[38;5;28;01mif\u001b[39;00m X \u001b[38;5;129;01mis\u001b[39;00m \u001b[38;5;129;01mnot\u001b[39;00m \u001b[38;5;28;01mNone\u001b[39;00m]\n\u001b[1;32m    405\u001b[0m     uniques \u001b[38;5;241m=\u001b[39m np\u001b[38;5;241m.\u001b[39munique(lengths)\n\u001b[1;32m    406\u001b[0m     \u001b[38;5;28;01mif\u001b[39;00m \u001b[38;5;28mlen\u001b[39m(uniques) \u001b[38;5;241m>\u001b[39m \u001b[38;5;241m1\u001b[39m:\n",
      "File \u001b[0;32m~/.conda/envs/spark3/lib/python3.11/site-packages/sklearn/utils/validation.py:404\u001b[0m, in \u001b[0;36m<listcomp>\u001b[0;34m(.0)\u001b[0m\n\u001b[1;32m    393\u001b[0m \u001b[38;5;28;01mdef\u001b[39;00m \u001b[38;5;21mcheck_consistent_length\u001b[39m(\u001b[38;5;241m*\u001b[39marrays):\n\u001b[1;32m    394\u001b[0m \u001b[38;5;250m    \u001b[39m\u001b[38;5;124;03m\"\"\"Check that all arrays have consistent first dimensions.\u001b[39;00m\n\u001b[1;32m    395\u001b[0m \n\u001b[1;32m    396\u001b[0m \u001b[38;5;124;03m    Checks whether all objects in arrays have the same shape or length.\u001b[39;00m\n\u001b[0;32m   (...)\u001b[0m\n\u001b[1;32m    401\u001b[0m \u001b[38;5;124;03m        Objects that will be checked for consistent length.\u001b[39;00m\n\u001b[1;32m    402\u001b[0m \u001b[38;5;124;03m    \"\"\"\u001b[39;00m\n\u001b[0;32m--> 404\u001b[0m     lengths \u001b[38;5;241m=\u001b[39m [_num_samples(X) \u001b[38;5;28;01mfor\u001b[39;00m X \u001b[38;5;129;01min\u001b[39;00m arrays \u001b[38;5;28;01mif\u001b[39;00m X \u001b[38;5;129;01mis\u001b[39;00m \u001b[38;5;129;01mnot\u001b[39;00m \u001b[38;5;28;01mNone\u001b[39;00m]\n\u001b[1;32m    405\u001b[0m     uniques \u001b[38;5;241m=\u001b[39m np\u001b[38;5;241m.\u001b[39munique(lengths)\n\u001b[1;32m    406\u001b[0m     \u001b[38;5;28;01mif\u001b[39;00m \u001b[38;5;28mlen\u001b[39m(uniques) \u001b[38;5;241m>\u001b[39m \u001b[38;5;241m1\u001b[39m:\n",
      "File \u001b[0;32m~/.conda/envs/spark3/lib/python3.11/site-packages/sklearn/utils/validation.py:344\u001b[0m, in \u001b[0;36m_num_samples\u001b[0;34m(x)\u001b[0m\n\u001b[1;32m    341\u001b[0m         \u001b[38;5;28;01mraise\u001b[39;00m \u001b[38;5;167;01mTypeError\u001b[39;00m(message)\n\u001b[1;32m    343\u001b[0m \u001b[38;5;28;01mif\u001b[39;00m \u001b[38;5;28mhasattr\u001b[39m(x, \u001b[38;5;124m\"\u001b[39m\u001b[38;5;124mshape\u001b[39m\u001b[38;5;124m\"\u001b[39m) \u001b[38;5;129;01mand\u001b[39;00m x\u001b[38;5;241m.\u001b[39mshape \u001b[38;5;129;01mis\u001b[39;00m \u001b[38;5;129;01mnot\u001b[39;00m \u001b[38;5;28;01mNone\u001b[39;00m:\n\u001b[0;32m--> 344\u001b[0m     \u001b[38;5;28;01mif\u001b[39;00m \u001b[38;5;28mlen\u001b[39m(x\u001b[38;5;241m.\u001b[39mshape) \u001b[38;5;241m==\u001b[39m \u001b[38;5;241m0\u001b[39m:\n\u001b[1;32m    345\u001b[0m         \u001b[38;5;28;01mraise\u001b[39;00m \u001b[38;5;167;01mTypeError\u001b[39;00m(\n\u001b[1;32m    346\u001b[0m             \u001b[38;5;124m\"\u001b[39m\u001b[38;5;124mSingleton array \u001b[39m\u001b[38;5;132;01m%r\u001b[39;00m\u001b[38;5;124m cannot be considered a valid collection.\u001b[39m\u001b[38;5;124m\"\u001b[39m \u001b[38;5;241m%\u001b[39m x\n\u001b[1;32m    347\u001b[0m         )\n\u001b[1;32m    348\u001b[0m     \u001b[38;5;66;03m# Check that shape is returning an integer or default to len\u001b[39;00m\n\u001b[1;32m    349\u001b[0m     \u001b[38;5;66;03m# Dask dataframes may not return numeric shape[0] value\u001b[39;00m\n",
      "\u001b[0;31mTypeError\u001b[0m: object of type 'Column' has no len()"
     ]
    }
   ],
   "source": [
    "from pyspark.ml.classification import DecisionTreeClassifier\n",
    "dtc = DecisionTreeClassifier(featuresCol='Features', labelCol='Survived', maxDepth=3)\n",
    "dtc = dtc.fit(train_data)\n",
    "pred = dtc.transform(test_data)\n",
    "pred.show()\n",
    "\n",
    "from sklearn.metrics import accuracy_score, classification_report\n",
    "print(accuracy_score(pred['prediction'], pred['Survived']))\n",
    "print(classification_report(pred['prediction'], pred['Survived']))"
   ]
  },
  {
   "cell_type": "code",
   "execution_count": 116,
   "id": "9cfbf904-0438-4111-8fb0-2fa0fdccd725",
   "metadata": {},
   "outputs": [
    {
     "name": "stdout",
     "output_type": "stream",
     "text": [
      "Collecting scikit-learn\n",
      "  Downloading scikit_learn-1.3.2-cp311-cp311-manylinux_2_17_x86_64.manylinux2014_x86_64.whl.metadata (11 kB)\n",
      "Requirement already satisfied: numpy<2.0,>=1.17.3 in /home/himedia/.conda/envs/spark3/lib/python3.11/site-packages (from scikit-learn) (1.26.2)\n",
      "Collecting scipy>=1.5.0 (from scikit-learn)\n",
      "  Downloading scipy-1.11.4-cp311-cp311-manylinux_2_17_x86_64.manylinux2014_x86_64.whl.metadata (60 kB)\n",
      "\u001b[2K     \u001b[90m━━━━━━━━━━━━━━━━━━━━━━━━━━━━━━━━━━━━━━━━\u001b[0m \u001b[32m60.4/60.4 kB\u001b[0m \u001b[31m1.2 MB/s\u001b[0m eta \u001b[36m0:00:00\u001b[0ma \u001b[36m0:00:01\u001b[0m\n",
      "\u001b[?25hCollecting joblib>=1.1.1 (from scikit-learn)\n",
      "  Downloading joblib-1.3.2-py3-none-any.whl.metadata (5.4 kB)\n",
      "Collecting threadpoolctl>=2.0.0 (from scikit-learn)\n",
      "  Downloading threadpoolctl-3.2.0-py3-none-any.whl.metadata (10.0 kB)\n",
      "Downloading scikit_learn-1.3.2-cp311-cp311-manylinux_2_17_x86_64.manylinux2014_x86_64.whl (10.9 MB)\n",
      "\u001b[2K   \u001b[90m━━━━━━━━━━━━━━━━━━━━━━━━━━━━━━━━━━━━━━━━\u001b[0m \u001b[32m10.9/10.9 MB\u001b[0m \u001b[31m8.2 MB/s\u001b[0m eta \u001b[36m0:00:00\u001b[0m:00:01\u001b[0m00:01\u001b[0m\n",
      "\u001b[?25hDownloading joblib-1.3.2-py3-none-any.whl (302 kB)\n",
      "\u001b[2K   \u001b[90m━━━━━━━━━━━━━━━━━━━━━━━━━━━━━━━━━━━━━━━━\u001b[0m \u001b[32m302.2/302.2 kB\u001b[0m \u001b[31m5.4 MB/s\u001b[0m eta \u001b[36m0:00:00\u001b[0m:00:01\u001b[0m\n",
      "\u001b[?25hDownloading scipy-1.11.4-cp311-cp311-manylinux_2_17_x86_64.manylinux2014_x86_64.whl (36.4 MB)\n",
      "\u001b[2K   \u001b[90m━━━━━━━━━━━━━━━━━━━━━━━━━━━━━━━━━━━━━━━━\u001b[0m \u001b[32m36.4/36.4 MB\u001b[0m \u001b[31m5.3 MB/s\u001b[0m eta \u001b[36m0:00:00\u001b[0m:00:01\u001b[0m00:01\u001b[0m\n",
      "\u001b[?25hDownloading threadpoolctl-3.2.0-py3-none-any.whl (15 kB)\n",
      "Installing collected packages: threadpoolctl, scipy, joblib, scikit-learn\n",
      "Successfully installed joblib-1.3.2 scikit-learn-1.3.2 scipy-1.11.4 threadpoolctl-3.2.0\n",
      "Note: you may need to restart the kernel to use updated packages.\n"
     ]
    }
   ],
   "source": [
    "pip install scikit-learn"
   ]
  },
  {
   "cell_type": "code",
   "execution_count": 41,
   "id": "976d8889-58a0-4725-92cc-0df5e53c6321",
   "metadata": {},
   "outputs": [
    {
     "name": "stdout",
     "output_type": "stream",
     "text": [
      "+--------+--------------------+-------------+--------------------+----------+\n",
      "|Survived|            Features|rawPrediction|         probability|prediction|\n",
      "+--------+--------------------+-------------+--------------------+----------+\n",
      "|       0|(6,[0,1],[3.0,21.0])|  [30.0,32.0]|[0.48387096774193...|       1.0|\n",
      "|       0|(6,[0,1],[3.0,29.0])|  [30.0,32.0]|[0.48387096774193...|       1.0|\n",
      "|       0|[1.0,2.0,3.0,0.0,...|  [7.0,101.0]|[0.06481481481481...|       1.0|\n",
      "|       0|[1.0,18.0,1.0,1.0...| [257.0,53.0]|[0.82903225806451...|       0.0|\n",
      "|       0|[1.0,19.0,1.0,1.0...| [257.0,53.0]|[0.82903225806451...|       0.0|\n",
      "|       0|[1.0,21.0,1.0,1.0...| [257.0,53.0]|[0.82903225806451...|       0.0|\n",
      "|       0|[1.0,24.0,1.0,1.0...| [257.0,53.0]|[0.82903225806451...|       0.0|\n",
      "|       0|[1.0,28.0,0.0,1.0...| [257.0,53.0]|[0.82903225806451...|       0.0|\n",
      "|       0|[1.0,28.0,1.0,1.0...| [257.0,53.0]|[0.82903225806451...|       0.0|\n",
      "|       0|[1.0,29.0,0.0,1.0...| [257.0,53.0]|[0.82903225806451...|       0.0|\n",
      "|       0|[1.0,29.0,0.0,1.0...| [257.0,53.0]|[0.82903225806451...|       0.0|\n",
      "|       0|[1.0,29.0,0.0,1.0...| [257.0,53.0]|[0.82903225806451...|       0.0|\n",
      "|       0|[1.0,29.0,0.0,1.0...| [257.0,53.0]|[0.82903225806451...|       0.0|\n",
      "|       0|[1.0,29.0,0.0,1.0...| [257.0,53.0]|[0.82903225806451...|       0.0|\n",
      "|       0|[1.0,29.0,0.0,1.0...| [257.0,53.0]|[0.82903225806451...|       0.0|\n",
      "|       0|[1.0,29.0,0.0,1.0...| [257.0,53.0]|[0.82903225806451...|       0.0|\n",
      "|       0|[1.0,29.0,1.0,1.0...| [257.0,53.0]|[0.82903225806451...|       0.0|\n",
      "|       0|[1.0,31.0,0.0,1.0...| [257.0,53.0]|[0.82903225806451...|       0.0|\n",
      "|       0|[1.0,31.0,1.0,1.0...| [257.0,53.0]|[0.82903225806451...|       0.0|\n",
      "|       0|[1.0,33.0,0.0,1.0...| [257.0,53.0]|[0.82903225806451...|       0.0|\n",
      "+--------+--------------------+-------------+--------------------+----------+\n",
      "only showing top 20 rows\n",
      "\n",
      "0.8409703504043127\n",
      "              precision    recall  f1-score   support\n",
      "\n",
      "         0.0       0.90      0.85      0.88       245\n",
      "         1.0       0.74      0.83      0.78       126\n",
      "\n",
      "    accuracy                           0.84       371\n",
      "   macro avg       0.82      0.84      0.83       371\n",
      "weighted avg       0.85      0.84      0.84       371\n",
      "\n"
     ]
    }
   ],
   "source": [
    "from pyspark.ml.classification import DecisionTreeClassifier\n",
    "dtc = DecisionTreeClassifier(featuresCol='Features', labelCol='Survived', maxDepth=3)\n",
    "dtc = dtc.fit(train_data)\n",
    "pred = dtc.transform(test_data)\n",
    "pred.show()\n",
    "\n",
    "# Pandas DataFrame로 변환 후 평가\n",
    "pred_pd = predictions.toPandas()\n",
    "print(accuracy_score(pred_pd['prediction'], pred_pd['Survived']))\n",
    "print(classification_report(pred_pd['prediction'], pred_pd['Survived']))"
   ]
  },
  {
   "cell_type": "code",
   "execution_count": 24,
   "id": "7d84b1b6-68f7-4687-a094-9a4ffdf7762b",
   "metadata": {},
   "outputs": [
    {
     "ename": "IllegalArgumentException",
     "evalue": "requirement failed: Column Embarked must be of type numeric but was actually of type string.",
     "output_type": "error",
     "traceback": [
      "\u001b[0;31m---------------------------------------------------------------------------\u001b[0m",
      "\u001b[0;31mIllegalArgumentException\u001b[0m                  Traceback (most recent call last)",
      "Cell \u001b[0;32mIn[24], line 2\u001b[0m\n\u001b[1;32m      1\u001b[0m imputer \u001b[38;5;241m=\u001b[39m Imputer(inputCols\u001b[38;5;241m=\u001b[39m[\u001b[38;5;124m'\u001b[39m\u001b[38;5;124mEmbarked\u001b[39m\u001b[38;5;124m'\u001b[39m], outputCols\u001b[38;5;241m=\u001b[39m[\u001b[38;5;124m'\u001b[39m\u001b[38;5;124mEmbarked\u001b[39m\u001b[38;5;124m'\u001b[39m])\u001b[38;5;241m.\u001b[39msetStrategy(\u001b[38;5;124m'\u001b[39m\u001b[38;5;124mmode\u001b[39m\u001b[38;5;124m'\u001b[39m)\n\u001b[0;32m----> 2\u001b[0m imputer\u001b[38;5;241m.\u001b[39mfit(data)\u001b[38;5;241m.\u001b[39mtransform(data)\u001b[38;5;241m.\u001b[39mshow()\n",
      "File \u001b[0;32m~/.conda/envs/spark3/lib/python3.11/site-packages/pyspark/ml/base.py:205\u001b[0m, in \u001b[0;36mEstimator.fit\u001b[0;34m(self, dataset, params)\u001b[0m\n\u001b[1;32m    203\u001b[0m         \u001b[38;5;28;01mreturn\u001b[39;00m \u001b[38;5;28mself\u001b[39m\u001b[38;5;241m.\u001b[39mcopy(params)\u001b[38;5;241m.\u001b[39m_fit(dataset)\n\u001b[1;32m    204\u001b[0m     \u001b[38;5;28;01melse\u001b[39;00m:\n\u001b[0;32m--> 205\u001b[0m         \u001b[38;5;28;01mreturn\u001b[39;00m \u001b[38;5;28mself\u001b[39m\u001b[38;5;241m.\u001b[39m_fit(dataset)\n\u001b[1;32m    206\u001b[0m \u001b[38;5;28;01melse\u001b[39;00m:\n\u001b[1;32m    207\u001b[0m     \u001b[38;5;28;01mraise\u001b[39;00m \u001b[38;5;167;01mTypeError\u001b[39;00m(\n\u001b[1;32m    208\u001b[0m         \u001b[38;5;124m\"\u001b[39m\u001b[38;5;124mParams must be either a param map or a list/tuple of param maps, \u001b[39m\u001b[38;5;124m\"\u001b[39m\n\u001b[1;32m    209\u001b[0m         \u001b[38;5;124m\"\u001b[39m\u001b[38;5;124mbut got \u001b[39m\u001b[38;5;132;01m%s\u001b[39;00m\u001b[38;5;124m.\u001b[39m\u001b[38;5;124m\"\u001b[39m \u001b[38;5;241m%\u001b[39m \u001b[38;5;28mtype\u001b[39m(params)\n\u001b[1;32m    210\u001b[0m     )\n",
      "File \u001b[0;32m~/.conda/envs/spark3/lib/python3.11/site-packages/pyspark/ml/wrapper.py:381\u001b[0m, in \u001b[0;36mJavaEstimator._fit\u001b[0;34m(self, dataset)\u001b[0m\n\u001b[1;32m    380\u001b[0m \u001b[38;5;28;01mdef\u001b[39;00m \u001b[38;5;21m_fit\u001b[39m(\u001b[38;5;28mself\u001b[39m, dataset: DataFrame) \u001b[38;5;241m-\u001b[39m\u001b[38;5;241m>\u001b[39m JM:\n\u001b[0;32m--> 381\u001b[0m     java_model \u001b[38;5;241m=\u001b[39m \u001b[38;5;28mself\u001b[39m\u001b[38;5;241m.\u001b[39m_fit_java(dataset)\n\u001b[1;32m    382\u001b[0m     model \u001b[38;5;241m=\u001b[39m \u001b[38;5;28mself\u001b[39m\u001b[38;5;241m.\u001b[39m_create_model(java_model)\n\u001b[1;32m    383\u001b[0m     \u001b[38;5;28;01mreturn\u001b[39;00m \u001b[38;5;28mself\u001b[39m\u001b[38;5;241m.\u001b[39m_copyValues(model)\n",
      "File \u001b[0;32m~/.conda/envs/spark3/lib/python3.11/site-packages/pyspark/ml/wrapper.py:378\u001b[0m, in \u001b[0;36mJavaEstimator._fit_java\u001b[0;34m(self, dataset)\u001b[0m\n\u001b[1;32m    375\u001b[0m \u001b[38;5;28;01massert\u001b[39;00m \u001b[38;5;28mself\u001b[39m\u001b[38;5;241m.\u001b[39m_java_obj \u001b[38;5;129;01mis\u001b[39;00m \u001b[38;5;129;01mnot\u001b[39;00m \u001b[38;5;28;01mNone\u001b[39;00m\n\u001b[1;32m    377\u001b[0m \u001b[38;5;28mself\u001b[39m\u001b[38;5;241m.\u001b[39m_transfer_params_to_java()\n\u001b[0;32m--> 378\u001b[0m \u001b[38;5;28;01mreturn\u001b[39;00m \u001b[38;5;28mself\u001b[39m\u001b[38;5;241m.\u001b[39m_java_obj\u001b[38;5;241m.\u001b[39mfit(dataset\u001b[38;5;241m.\u001b[39m_jdf)\n",
      "File \u001b[0;32m~/.conda/envs/spark3/lib/python3.11/site-packages/py4j/java_gateway.py:1322\u001b[0m, in \u001b[0;36mJavaMember.__call__\u001b[0;34m(self, *args)\u001b[0m\n\u001b[1;32m   1316\u001b[0m command \u001b[38;5;241m=\u001b[39m proto\u001b[38;5;241m.\u001b[39mCALL_COMMAND_NAME \u001b[38;5;241m+\u001b[39m\\\n\u001b[1;32m   1317\u001b[0m     \u001b[38;5;28mself\u001b[39m\u001b[38;5;241m.\u001b[39mcommand_header \u001b[38;5;241m+\u001b[39m\\\n\u001b[1;32m   1318\u001b[0m     args_command \u001b[38;5;241m+\u001b[39m\\\n\u001b[1;32m   1319\u001b[0m     proto\u001b[38;5;241m.\u001b[39mEND_COMMAND_PART\n\u001b[1;32m   1321\u001b[0m answer \u001b[38;5;241m=\u001b[39m \u001b[38;5;28mself\u001b[39m\u001b[38;5;241m.\u001b[39mgateway_client\u001b[38;5;241m.\u001b[39msend_command(command)\n\u001b[0;32m-> 1322\u001b[0m return_value \u001b[38;5;241m=\u001b[39m get_return_value(\n\u001b[1;32m   1323\u001b[0m     answer, \u001b[38;5;28mself\u001b[39m\u001b[38;5;241m.\u001b[39mgateway_client, \u001b[38;5;28mself\u001b[39m\u001b[38;5;241m.\u001b[39mtarget_id, \u001b[38;5;28mself\u001b[39m\u001b[38;5;241m.\u001b[39mname)\n\u001b[1;32m   1325\u001b[0m \u001b[38;5;28;01mfor\u001b[39;00m temp_arg \u001b[38;5;129;01min\u001b[39;00m temp_args:\n\u001b[1;32m   1326\u001b[0m     \u001b[38;5;28;01mif\u001b[39;00m \u001b[38;5;28mhasattr\u001b[39m(temp_arg, \u001b[38;5;124m\"\u001b[39m\u001b[38;5;124m_detach\u001b[39m\u001b[38;5;124m\"\u001b[39m):\n",
      "File \u001b[0;32m~/.conda/envs/spark3/lib/python3.11/site-packages/pyspark/errors/exceptions/captured.py:185\u001b[0m, in \u001b[0;36mcapture_sql_exception.<locals>.deco\u001b[0;34m(*a, **kw)\u001b[0m\n\u001b[1;32m    181\u001b[0m converted \u001b[38;5;241m=\u001b[39m convert_exception(e\u001b[38;5;241m.\u001b[39mjava_exception)\n\u001b[1;32m    182\u001b[0m \u001b[38;5;28;01mif\u001b[39;00m \u001b[38;5;129;01mnot\u001b[39;00m \u001b[38;5;28misinstance\u001b[39m(converted, UnknownException):\n\u001b[1;32m    183\u001b[0m     \u001b[38;5;66;03m# Hide where the exception came from that shows a non-Pythonic\u001b[39;00m\n\u001b[1;32m    184\u001b[0m     \u001b[38;5;66;03m# JVM exception message.\u001b[39;00m\n\u001b[0;32m--> 185\u001b[0m     \u001b[38;5;28;01mraise\u001b[39;00m converted \u001b[38;5;28;01mfrom\u001b[39;00m \u001b[38;5;28;01mNone\u001b[39;00m\n\u001b[1;32m    186\u001b[0m \u001b[38;5;28;01melse\u001b[39;00m:\n\u001b[1;32m    187\u001b[0m     \u001b[38;5;28;01mraise\u001b[39;00m\n",
      "\u001b[0;31mIllegalArgumentException\u001b[0m: requirement failed: Column Embarked must be of type numeric but was actually of type string."
     ]
    }
   ],
   "source": []
  },
  {
   "cell_type": "markdown",
   "id": "2095b680-8af2-48d0-87f4-7ba390e2b863",
   "metadata": {},
   "source": [
    "* imputer는 숫자만 가능! embarked는 string이라 불가능!"
   ]
  },
  {
   "cell_type": "code",
   "execution_count": 84,
   "id": "9b2b059f-55a4-4bc4-9f66-9dc0f7946949",
   "metadata": {},
   "outputs": [
    {
     "ename": "AttributeError",
     "evalue": "module 'pyspark.sql.functions' has no attribute 'mode'",
     "output_type": "error",
     "traceback": [
      "\u001b[0;31m---------------------------------------------------------------------------\u001b[0m",
      "\u001b[0;31mAttributeError\u001b[0m                            Traceback (most recent call last)",
      "Cell \u001b[0;32mIn[84], line 1\u001b[0m\n\u001b[0;32m----> 1\u001b[0m data\u001b[38;5;241m.\u001b[39mselect(f\u001b[38;5;241m.\u001b[39mmode(\u001b[38;5;124m'\u001b[39m\u001b[38;5;124mEmbarked\u001b[39m\u001b[38;5;124m'\u001b[39m))\u001b[38;5;241m.\u001b[39mshow()\n",
      "\u001b[0;31mAttributeError\u001b[0m: module 'pyspark.sql.functions' has no attribute 'mode'"
     ]
    }
   ],
   "source": [
    "data.select(f.mode('Embarked')).show()"
   ]
  },
  {
   "cell_type": "code",
   "execution_count": 86,
   "id": "d9dcbfe9-a836-4f6f-a181-df7abb80e692",
   "metadata": {},
   "outputs": [],
   "source": [
    "data = data.na.drop(subset='Embarked')"
   ]
  },
  {
   "cell_type": "code",
   "execution_count": 87,
   "id": "aeec501b-dda0-4466-a97c-aa80e3b2730a",
   "metadata": {},
   "outputs": [
    {
     "name": "stdout",
     "output_type": "stream",
     "text": [
      "+--------+------+--------------------+------+---+-----+-----+----------------+-------+--------+------+\n",
      "|Survived|Pclass|                Name|   Sex|Age|SibSp|Parch|          Ticket|   Fare|Embarked|Family|\n",
      "+--------+------+--------------------+------+---+-----+-----+----------------+-------+--------+------+\n",
      "|       0|     3|Braund, Mr. Owen ...|  male| 22|    1|    0|       A/5 21171|   7.25|       S|     1|\n",
      "|       1|     1|Cumings, Mrs. Joh...|female| 38|    1|    0|        PC 17599|71.2833|       C|     1|\n",
      "|       1|     3|Heikkinen, Miss. ...|female| 26|    0|    0|STON/O2. 3101282|  7.925|       S|     0|\n",
      "|       1|     1|Futrelle, Mrs. Ja...|female| 35|    1|    0|          113803|   53.1|       S|     1|\n",
      "|       0|     3|Allen, Mr. Willia...|  male| 35|    0|    0|          373450|   8.05|       S|     0|\n",
      "|       0|     3|    Moran, Mr. James|  male| 29|    0|    0|          330877| 8.4583|       Q|     0|\n",
      "|       0|     1|McCarthy, Mr. Tim...|  male| 54|    0|    0|           17463|51.8625|       S|     0|\n",
      "|       0|     3|Palsson, Master. ...|  male|  2|    3|    1|          349909| 21.075|       S|     4|\n",
      "|       1|     3|Johnson, Mrs. Osc...|female| 27|    0|    2|          347742|11.1333|       S|     2|\n",
      "|       1|     2|Nasser, Mrs. Nich...|female| 14|    1|    0|          237736|30.0708|       C|     1|\n",
      "|       1|     3|Sandstrom, Miss. ...|female|  4|    1|    1|         PP 9549|   16.7|       S|     2|\n",
      "|       1|     1|Bonnell, Miss. El...|female| 58|    0|    0|          113783|  26.55|       S|     0|\n",
      "|       0|     3|Saundercock, Mr. ...|  male| 20|    0|    0|       A/5. 2151|   8.05|       S|     0|\n",
      "|       0|     3|Andersson, Mr. An...|  male| 39|    1|    5|          347082| 31.275|       S|     6|\n",
      "|       0|     3|Vestrom, Miss. Hu...|female| 14|    0|    0|          350406| 7.8542|       S|     0|\n",
      "|       1|     2|Hewlett, Mrs. (Ma...|female| 55|    0|    0|          248706|   16.0|       S|     0|\n",
      "|       0|     3|Rice, Master. Eugene|  male|  2|    4|    1|          382652| 29.125|       Q|     5|\n",
      "|       1|     2|Williams, Mr. Cha...|  male| 29|    0|    0|          244373|   13.0|       S|     0|\n",
      "|       0|     3|Vander Planke, Mr...|female| 31|    1|    0|          345763|   18.0|       S|     1|\n",
      "|       1|     3|Masselmani, Mrs. ...|female| 29|    0|    0|            2649|  7.225|       C|     0|\n",
      "+--------+------+--------------------+------+---+-----+-----+----------------+-------+--------+------+\n",
      "only showing top 20 rows\n",
      "\n"
     ]
    }
   ],
   "source": [
    "data.show()"
   ]
  },
  {
   "cell_type": "code",
   "execution_count": 88,
   "id": "eb95a1a2-f68a-4ac4-a9f8-042df66e7c9d",
   "metadata": {},
   "outputs": [
    {
     "name": "stdout",
     "output_type": "stream",
     "text": [
      "-RECORD 0------------------------\n",
      " summary  | count                \n",
      " Survived | 889                  \n",
      " Pclass   | 889                  \n",
      " Name     | 889                  \n",
      " Sex      | 889                  \n",
      " Age      | 889                  \n",
      " SibSp    | 889                  \n",
      " Parch    | 889                  \n",
      " Ticket   | 889                  \n",
      " Fare     | 889                  \n",
      " Embarked | 889                  \n",
      " Family   | 889                  \n",
      "-RECORD 1------------------------\n",
      " summary  | mean                 \n",
      " Survived | 0.38245219347581555  \n",
      " Pclass   | 2.3115860517435323   \n",
      " Name     | null                 \n",
      " Sex      | null                 \n",
      " Age      | 29.498312710911136   \n",
      " SibSp    | 0.5241844769403825   \n",
      " Parch    | 0.38245219347581555  \n",
      " Ticket   | 260763.9104704097    \n",
      " Fare     | 32.09668095012618    \n",
      " Embarked | null                 \n",
      " Family   | 0.906636670416198    \n",
      "-RECORD 2------------------------\n",
      " summary  | stddev               \n",
      " Survived | 0.48625968831477334  \n",
      " Pclass   | 0.8346997785705753   \n",
      " Name     | null                 \n",
      " Sex      | null                 \n",
      " Age      | 12.97963787638553    \n",
      " SibSp    | 1.103704875596923    \n",
      " Parch    | 0.8067607445174785   \n",
      " Ticket   | 472255.95121695305   \n",
      " Fare     | 49.697504884074355   \n",
      " Embarked | null                 \n",
      " Family   | 1.6147025929141485   \n",
      "-RECORD 3------------------------\n",
      " summary  | min                  \n",
      " Survived | 0                    \n",
      " Pclass   | 1                    \n",
      " Name     | \"Andersson, Mr. A... \n",
      " Sex      | female               \n",
      " Age      | 0                    \n",
      " SibSp    | 0                    \n",
      " Parch    | 0                    \n",
      " Ticket   | 110152               \n",
      " Fare     | 0.0                  \n",
      " Embarked | C                    \n",
      " Family   | 0                    \n",
      "-RECORD 4------------------------\n",
      " summary  | max                  \n",
      " Survived | 1                    \n",
      " Pclass   | 3                    \n",
      " Name     | van Melkebeke, Mr... \n",
      " Sex      | male                 \n",
      " Age      | 80                   \n",
      " SibSp    | 8                    \n",
      " Parch    | 6                    \n",
      " Ticket   | WE/P 5735            \n",
      " Fare     | 512.3292             \n",
      " Embarked | S                    \n",
      " Family   | 10                   \n",
      "\n"
     ]
    }
   ],
   "source": [
    "data.describe().show(vertical=True)"
   ]
  },
  {
   "cell_type": "code",
   "execution_count": 89,
   "id": "0159b0be-69a3-441a-bc6d-930d82ae8e4f",
   "metadata": {},
   "outputs": [
    {
     "name": "stdout",
     "output_type": "stream",
     "text": [
      "root\n",
      " |-- Survived: string (nullable = true)\n",
      " |-- Pclass: integer (nullable = true)\n",
      " |-- Name: string (nullable = true)\n",
      " |-- Sex: string (nullable = true)\n",
      " |-- Age: integer (nullable = true)\n",
      " |-- SibSp: integer (nullable = true)\n",
      " |-- Parch: integer (nullable = true)\n",
      " |-- Ticket: string (nullable = true)\n",
      " |-- Fare: float (nullable = true)\n",
      " |-- Embarked: string (nullable = true)\n",
      " |-- Family: integer (nullable = true)\n",
      "\n"
     ]
    }
   ],
   "source": [
    "data.printSchema()"
   ]
  },
  {
   "cell_type": "code",
   "execution_count": 90,
   "id": "d6fe634a-481f-4d36-883c-f21040862875",
   "metadata": {},
   "outputs": [],
   "source": [
    "data = data.withColumn('Survived', data['Survived'].cast('Integer'))"
   ]
  },
  {
   "cell_type": "code",
   "execution_count": 91,
   "id": "1aeabfc9-3204-4472-9def-67307b6adfb2",
   "metadata": {},
   "outputs": [
    {
     "name": "stdout",
     "output_type": "stream",
     "text": [
      "root\n",
      " |-- Survived: integer (nullable = true)\n",
      " |-- Pclass: integer (nullable = true)\n",
      " |-- Name: string (nullable = true)\n",
      " |-- Sex: string (nullable = true)\n",
      " |-- Age: integer (nullable = true)\n",
      " |-- SibSp: integer (nullable = true)\n",
      " |-- Parch: integer (nullable = true)\n",
      " |-- Ticket: string (nullable = true)\n",
      " |-- Fare: float (nullable = true)\n",
      " |-- Embarked: string (nullable = true)\n",
      " |-- Family: integer (nullable = true)\n",
      "\n"
     ]
    }
   ],
   "source": [
    "data.printSchema()"
   ]
  },
  {
   "cell_type": "code",
   "execution_count": 92,
   "id": "1c6d9450-95ce-41ac-b0f4-6d7528bfaa8d",
   "metadata": {},
   "outputs": [
    {
     "name": "stdout",
     "output_type": "stream",
     "text": [
      "+--------+------+--------------------+------+---+-----+-----+----------------+-------+--------+------+\n",
      "|Survived|Pclass|                Name|   Sex|Age|SibSp|Parch|          Ticket|   Fare|Embarked|Family|\n",
      "+--------+------+--------------------+------+---+-----+-----+----------------+-------+--------+------+\n",
      "|       0|     3|Braund, Mr. Owen ...|  male| 22|    1|    0|       A/5 21171|   7.25|       S|     1|\n",
      "|       1|     1|Cumings, Mrs. Joh...|female| 38|    1|    0|        PC 17599|71.2833|       C|     1|\n",
      "|       1|     3|Heikkinen, Miss. ...|female| 26|    0|    0|STON/O2. 3101282|  7.925|       S|     0|\n",
      "|       1|     1|Futrelle, Mrs. Ja...|female| 35|    1|    0|          113803|   53.1|       S|     1|\n",
      "|       0|     3|Allen, Mr. Willia...|  male| 35|    0|    0|          373450|   8.05|       S|     0|\n",
      "|       0|     3|    Moran, Mr. James|  male| 29|    0|    0|          330877| 8.4583|       Q|     0|\n",
      "|       0|     1|McCarthy, Mr. Tim...|  male| 54|    0|    0|           17463|51.8625|       S|     0|\n",
      "|       0|     3|Palsson, Master. ...|  male|  2|    3|    1|          349909| 21.075|       S|     4|\n",
      "|       1|     3|Johnson, Mrs. Osc...|female| 27|    0|    2|          347742|11.1333|       S|     2|\n",
      "|       1|     2|Nasser, Mrs. Nich...|female| 14|    1|    0|          237736|30.0708|       C|     1|\n",
      "|       1|     3|Sandstrom, Miss. ...|female|  4|    1|    1|         PP 9549|   16.7|       S|     2|\n",
      "|       1|     1|Bonnell, Miss. El...|female| 58|    0|    0|          113783|  26.55|       S|     0|\n",
      "|       0|     3|Saundercock, Mr. ...|  male| 20|    0|    0|       A/5. 2151|   8.05|       S|     0|\n",
      "|       0|     3|Andersson, Mr. An...|  male| 39|    1|    5|          347082| 31.275|       S|     6|\n",
      "|       0|     3|Vestrom, Miss. Hu...|female| 14|    0|    0|          350406| 7.8542|       S|     0|\n",
      "|       1|     2|Hewlett, Mrs. (Ma...|female| 55|    0|    0|          248706|   16.0|       S|     0|\n",
      "|       0|     3|Rice, Master. Eugene|  male|  2|    4|    1|          382652| 29.125|       Q|     5|\n",
      "|       1|     2|Williams, Mr. Cha...|  male| 29|    0|    0|          244373|   13.0|       S|     0|\n",
      "|       0|     3|Vander Planke, Mr...|female| 31|    1|    0|          345763|   18.0|       S|     1|\n",
      "|       1|     3|Masselmani, Mrs. ...|female| 29|    0|    0|            2649|  7.225|       C|     0|\n",
      "+--------+------+--------------------+------+---+-----+-----+----------------+-------+--------+------+\n",
      "only showing top 20 rows\n",
      "\n"
     ]
    }
   ],
   "source": [
    "data.show()"
   ]
  },
  {
   "cell_type": "code",
   "execution_count": 102,
   "id": "a0f0c1d6-24e5-412f-9e91-2b9b187332aa",
   "metadata": {},
   "outputs": [
    {
     "name": "stdout",
     "output_type": "stream",
     "text": [
      "+--------+------+--------------------+------+---+-----+-----+-------+-------+--------+------+\n",
      "|Survived|Pclass|                Name|   Sex|Age|SibSp|Parch| Ticket|   Fare|Embarked|Family|\n",
      "+--------+------+--------------------+------+---+-----+-----+-------+-------+--------+------+\n",
      "|       0|     3|Rice, Master. Eugene|  male|  2|    4|    1| 382652| 29.125|       Q|     5|\n",
      "|       0|     3|Panula, Master. J...|  male|  7|    4|    1|3101295|39.6875|       S|     5|\n",
      "|       1|     3|Andersson, Miss. ...|female| 17|    4|    2|3101281|  7.925|       S|     6|\n",
      "|       0|     3|Andersson, Miss. ...|female|  2|    4|    2| 347082| 31.275|       S|     6|\n",
      "|       0|     3|Panula, Master. E...|  male|  1|    4|    1|3101295|39.6875|       S|     5|\n",
      "|       0|     3|Rice, Master. Arthur|  male|  4|    4|    1| 382652| 29.125|       Q|     5|\n",
      "|       0|     3|Asplund, Master. ...|  male|  9|    4|    2| 347077|31.3875|       S|     6|\n",
      "|       1|     3|Asplund, Miss. Li...|female|  5|    4|    2| 347077|31.3875|       S|     6|\n",
      "|       1|     3|Asplund, Master. ...|  male|  3|    4|    2| 347077|31.3875|       S|     6|\n",
      "|       0|     3|Panula, Mr. Ernes...|  male| 16|    4|    1|3101295|39.6875|       S|     5|\n",
      "|       0|     3|  Rice, Master. Eric|  male|  7|    4|    1| 382652| 29.125|       Q|     5|\n",
      "|       0|     3|Andersson, Miss. ...|female|  9|    4|    2| 347082| 31.275|       S|     6|\n",
      "|       0|     3|Andersson, Miss. ...|female| 11|    4|    2| 347082| 31.275|       S|     6|\n",
      "|       0|     3|Panula, Mr. Jaako...|  male| 14|    4|    1|3101295|39.6875|       S|     5|\n",
      "|       0|     3|Rice, Master. Geo...|  male|  8|    4|    1| 382652| 29.125|       Q|     5|\n",
      "|       0|     3|Andersson, Miss. ...|female|  6|    4|    2| 347082| 31.275|       S|     6|\n",
      "|       0|     3|Panula, Master. U...|  male|  2|    4|    1|3101295|39.6875|       S|     5|\n",
      "|       0|     3|Andersson, Master...|  male|  4|    4|    2| 347082| 31.275|       S|     6|\n",
      "+--------+------+--------------------+------+---+-----+-----+-------+-------+--------+------+\n",
      "\n"
     ]
    }
   ],
   "source": [
    "data.filter('SibSp==4').show()"
   ]
  },
  {
   "cell_type": "code",
   "execution_count": 101,
   "id": "c3893883-adbb-467b-a3ac-9cfa17cf72aa",
   "metadata": {},
   "outputs": [
    {
     "name": "stdout",
     "output_type": "stream",
     "text": [
      "+--------+------+--------------------+----+---+-----+-----+------+------+--------+------+\n",
      "|Survived|Pclass|                Name| Sex|Age|SibSp|Parch|Ticket|  Fare|Embarked|Family|\n",
      "+--------+------+--------------------+----+---+-----+-----+------+------+--------+------+\n",
      "|       0|     3|Rice, Master. Eugene|male|  2|    4|    1|382652|29.125|       Q|     5|\n",
      "|       0|     3|Rice, Master. Arthur|male|  4|    4|    1|382652|29.125|       Q|     5|\n",
      "|       0|     3|  Rice, Master. Eric|male|  7|    4|    1|382652|29.125|       Q|     5|\n",
      "|       0|     3|Rice, Master. Geo...|male|  8|    4|    1|382652|29.125|       Q|     5|\n",
      "+--------+------+--------------------+----+---+-----+-----+------+------+--------+------+\n",
      "\n"
     ]
    }
   ],
   "source": [
    "data.filter((data['SibSp']==4) & (data['Ticket']==382652)).show()"
   ]
  },
  {
   "cell_type": "code",
   "execution_count": 109,
   "id": "04699118-23b3-4baf-a57f-69c9860a13f5",
   "metadata": {},
   "outputs": [
    {
     "name": "stdout",
     "output_type": "stream",
     "text": [
      "+--------+------+--------------------+------+---+-----+-----+------+------+--------+------+\n",
      "|Survived|Pclass|                Name|   Sex|Age|SibSp|Parch|Ticket|  Fare|Embarked|Family|\n",
      "+--------+------+--------------------+------+---+-----+-----+------+------+--------+------+\n",
      "|       0|     3|Rice, Master. Eugene|  male|  2|    4|    1|382652|29.125|       Q|     5|\n",
      "|       0|     3|Rice, Master. Arthur|  male|  4|    4|    1|382652|29.125|       Q|     5|\n",
      "|       0|     3|  Rice, Master. Eric|  male|  7|    4|    1|382652|29.125|       Q|     5|\n",
      "|       0|     3|Rice, Master. Geo...|  male|  8|    4|    1|382652|29.125|       Q|     5|\n",
      "|       0|     3|Rice, Mrs. Willia...|female| 39|    0|    5|382652|29.125|       Q|     5|\n",
      "+--------+------+--------------------+------+---+-----+-----+------+------+--------+------+\n",
      "\n"
     ]
    }
   ],
   "source": [
    "data.filter('Ticket==382652').show()"
   ]
  },
  {
   "cell_type": "code",
   "execution_count": 104,
   "id": "39fc4cfa-86cc-4211-995b-9bc7d90c4689",
   "metadata": {
    "scrolled": true
   },
   "outputs": [
    {
     "name": "stdout",
     "output_type": "stream",
     "text": [
      "+--------+------+--------------------+----+---+-----+-----+-------+-------+--------+------+\n",
      "|Survived|Pclass|                Name| Sex|Age|SibSp|Parch| Ticket|   Fare|Embarked|Family|\n",
      "+--------+------+--------------------+----+---+-----+-----+-------+-------+--------+------+\n",
      "|       0|     3|Panula, Master. J...|male|  7|    4|    1|3101295|39.6875|       S|     5|\n",
      "|       0|     3|Panula, Master. E...|male|  1|    4|    1|3101295|39.6875|       S|     5|\n",
      "|       0|     3|Panula, Mr. Ernes...|male| 16|    4|    1|3101295|39.6875|       S|     5|\n",
      "|       0|     3|Panula, Mr. Jaako...|male| 14|    4|    1|3101295|39.6875|       S|     5|\n",
      "|       0|     3|Panula, Master. U...|male|  2|    4|    1|3101295|39.6875|       S|     5|\n",
      "+--------+------+--------------------+----+---+-----+-----+-------+-------+--------+------+\n",
      "\n"
     ]
    }
   ],
   "source": [
    "data.filter((data['SibSp']==4) & (data['Ticket']==3101295)).show()"
   ]
  },
  {
   "cell_type": "code",
   "execution_count": 110,
   "id": "a616d871-2bc1-49d4-867e-b7a240b6b71c",
   "metadata": {},
   "outputs": [
    {
     "name": "stdout",
     "output_type": "stream",
     "text": [
      "+--------+------+--------------------+------+---+-----+-----+-------+-------+--------+------+\n",
      "|Survived|Pclass|                Name|   Sex|Age|SibSp|Parch| Ticket|   Fare|Embarked|Family|\n",
      "+--------+------+--------------------+------+---+-----+-----+-------+-------+--------+------+\n",
      "|       0|     3|Panula, Master. J...|  male|  7|    4|    1|3101295|39.6875|       S|     5|\n",
      "|       0|     3|Panula, Master. E...|  male|  1|    4|    1|3101295|39.6875|       S|     5|\n",
      "|       0|     3|Panula, Mr. Ernes...|  male| 16|    4|    1|3101295|39.6875|       S|     5|\n",
      "|       0|     3|Panula, Mrs. Juha...|female| 41|    0|    5|3101295|39.6875|       S|     5|\n",
      "|       0|     3|Panula, Mr. Jaako...|  male| 14|    4|    1|3101295|39.6875|       S|     5|\n",
      "|       0|     3|Panula, Master. U...|  male|  2|    4|    1|3101295|39.6875|       S|     5|\n",
      "+--------+------+--------------------+------+---+-----+-----+-------+-------+--------+------+\n",
      "\n"
     ]
    }
   ],
   "source": [
    "data.filter('Ticket==3101295').show()"
   ]
  },
  {
   "cell_type": "code",
   "execution_count": 105,
   "id": "2d28eee1-2cf5-4224-b592-d9ad5435f3cf",
   "metadata": {},
   "outputs": [
    {
     "name": "stdout",
     "output_type": "stream",
     "text": [
      "+--------+------+--------------------+------+---+-----+-----+------+-------+--------+------+\n",
      "|Survived|Pclass|                Name|   Sex|Age|SibSp|Parch|Ticket|   Fare|Embarked|Family|\n",
      "+--------+------+--------------------+------+---+-----+-----+------+-------+--------+------+\n",
      "|       0|     3|Asplund, Master. ...|  male|  9|    4|    2|347077|31.3875|       S|     6|\n",
      "|       1|     3|Asplund, Miss. Li...|female|  5|    4|    2|347077|31.3875|       S|     6|\n",
      "|       1|     3|Asplund, Master. ...|  male|  3|    4|    2|347077|31.3875|       S|     6|\n",
      "+--------+------+--------------------+------+---+-----+-----+------+-------+--------+------+\n",
      "\n"
     ]
    }
   ],
   "source": [
    "data.filter((data['SibSp']==4) & (data['Ticket']==347077)).show()"
   ]
  },
  {
   "cell_type": "code",
   "execution_count": 107,
   "id": "295bad07-933a-41d8-a4c2-330fbf711fd0",
   "metadata": {
    "scrolled": true
   },
   "outputs": [
    {
     "name": "stdout",
     "output_type": "stream",
     "text": [
      "+--------+------+--------------------+------+---+-----+-----+------+-------+--------+------+\n",
      "|Survived|Pclass|                Name|   Sex|Age|SibSp|Parch|Ticket|   Fare|Embarked|Family|\n",
      "+--------+------+--------------------+------+---+-----+-----+------+-------+--------+------+\n",
      "|       1|     3|Asplund, Mrs. Car...|female| 38|    1|    5|347077|31.3875|       S|     6|\n",
      "|       0|     3|Asplund, Master. ...|  male|  9|    4|    2|347077|31.3875|       S|     6|\n",
      "|       1|     3|Asplund, Miss. Li...|female|  5|    4|    2|347077|31.3875|       S|     6|\n",
      "|       1|     3|Asplund, Master. ...|  male|  3|    4|    2|347077|31.3875|       S|     6|\n",
      "+--------+------+--------------------+------+---+-----+-----+------+-------+--------+------+\n",
      "\n"
     ]
    }
   ],
   "source": [
    "data.filter('Ticket==347077').show()"
   ]
  },
  {
   "cell_type": "code",
   "execution_count": 112,
   "id": "83f35c11-e9a6-46cd-9efc-ce182ae8cd6d",
   "metadata": {
    "scrolled": true
   },
   "outputs": [
    {
     "name": "stdout",
     "output_type": "stream",
     "text": [
      "+--------+------+--------------------+------+---+-----+-----+------------+-------+--------+------+\n",
      "|Survived|Pclass|                Name|   Sex|Age|SibSp|Parch|      Ticket|   Fare|Embarked|Family|\n",
      "+--------+------+--------------------+------+---+-----+-----+------------+-------+--------+------+\n",
      "|       0|     3|Vander Planke, Mi...|female| 18|    2|    0|      345764|   18.0|       S|     2|\n",
      "|       0|     3| Samaan, Mr. Youssef|  male| 29|    2|    0|        2662|21.6792|       C|     2|\n",
      "|       0|     3|   Kink, Mr. Vincenz|  male| 26|    2|    0|      315151| 8.6625|       S|     2|\n",
      "|       0|     3|Gustafsson, Mr. A...|  male| 37|    2|    0|     3101276|  7.925|       S|     2|\n",
      "|       0|     2|Hickman, Mr. Stan...|  male| 21|    2|    0|S.O.C. 14879|   73.5|       S|     2|\n",
      "|       0|     3|\"Ford, Miss. Robi...|female|  9|    2|    2|  W./C. 6608| 34.375|       S|     4|\n",
      "|       1|     2|Becker, Master. R...|  male|  1|    2|    1|      230136|   39.0|       S|     3|\n",
      "|       0|     1|Minahan, Dr. Will...|  male| 44|    2|    0|       19928|   90.0|       Q|     2|\n",
      "|       1|     3|  McCoy, Mr. Bernard|  male| 29|    2|    0|      367226|  23.25|       Q|     2|\n",
      "|       1|     1|Ryerson, Miss. Em...|female| 18|    2|    2|    PC 17608|262.375|       C|     4|\n",
      "|       1|     3|  McCoy, Miss. Agnes|female| 29|    2|    0|      367226|  23.25|       Q|     2|\n",
      "|       0|     3|Vander Planke, Mr...|  male| 16|    2|    0|      345764|   18.0|       S|     2|\n",
      "|       0|     3|Gustafsson, Mr. J...|  male| 28|    2|    0|     3101277|  7.925|       S|     2|\n",
      "|       0|     3|\"Ford, Miss. Dool...|female| 21|    2|    2|  W./C. 6608| 34.375|       S|     4|\n",
      "|       1|     2|Richards, Mrs. Si...|female| 24|    2|    3|       29106|  18.75|       S|     5|\n",
      "|       1|     3|Baclini, Miss. Ma...|female|  5|    2|    1|        2666|19.2583|       C|     3|\n",
      "|       1|     3|Baclini, Miss. He...|female|  0|    2|    1|        2666|19.2583|       C|     3|\n",
      "|       0|     2|Hocking, Mr. Rich...|  male| 23|    2|    1|       29104|   11.5|       S|     3|\n",
      "|       0|     3|Davies, Mr. Alfred J|  male| 24|    2|    0|   A/4 48871|  24.15|       S|     2|\n",
      "|       1|     1|Appleton, Mrs. Ed...|female| 53|    2|    0|       11769|51.4792|       S|     2|\n",
      "+--------+------+--------------------+------+---+-----+-----+------------+-------+--------+------+\n",
      "only showing top 20 rows\n",
      "\n"
     ]
    }
   ],
   "source": [
    "data.filter('SibSp==2').show()"
   ]
  },
  {
   "cell_type": "code",
   "execution_count": 115,
   "id": "32525afc-321b-4ea8-af44-7289ce22bf63",
   "metadata": {
    "scrolled": true
   },
   "outputs": [
    {
     "name": "stdout",
     "output_type": "stream",
     "text": [
      "+--------+------+--------------------+------+---+-----+-----+------+-------+--------+------+\n",
      "|Survived|Pclass|                Name|   Sex|Age|SibSp|Parch|Ticket|   Fare|Embarked|Family|\n",
      "+--------+------+--------------------+------+---+-----+-----+------+-------+--------+------+\n",
      "|       1|     3|Baclini, Miss. Ma...|female|  5|    2|    1|  2666|19.2583|       C|     3|\n",
      "|       1|     3|Baclini, Miss. He...|female|  0|    2|    1|  2666|19.2583|       C|     3|\n",
      "|       1|     3|Baclini, Miss. Eu...|female|  0|    2|    1|  2666|19.2583|       C|     3|\n",
      "|       1|     3|Baclini, Mrs. Sol...|female| 24|    0|    3|  2666|19.2583|       C|     3|\n",
      "+--------+------+--------------------+------+---+-----+-----+------+-------+--------+------+\n",
      "\n"
     ]
    }
   ],
   "source": [
    "data.filter('Ticket==2666').show()"
   ]
  },
  {
   "cell_type": "code",
   "execution_count": 116,
   "id": "ba7b9add-5c38-4e09-85df-45d097b94142",
   "metadata": {
    "scrolled": true
   },
   "outputs": [
    {
     "name": "stdout",
     "output_type": "stream",
     "text": [
      "+--------+------+------------------+------+---+-----+-----+------+-----+--------+------+\n",
      "|Survived|Pclass|              Name|   Sex|Age|SibSp|Parch|Ticket| Fare|Embarked|Family|\n",
      "+--------+------+------------------+------+---+-----+-----+------+-----+--------+------+\n",
      "|       1|     3|McCoy, Mr. Bernard|  male| 29|    2|    0|367226|23.25|       Q|     2|\n",
      "|       1|     3|McCoy, Miss. Agnes|female| 29|    2|    0|367226|23.25|       Q|     2|\n",
      "+--------+------+------------------+------+---+-----+-----+------+-----+--------+------+\n",
      "\n"
     ]
    }
   ],
   "source": [
    "data.filter('Ticket==367226').show()"
   ]
  },
  {
   "cell_type": "code",
   "execution_count": 117,
   "id": "34a54c4b-bdf0-41c5-806d-064c743c93d8",
   "metadata": {},
   "outputs": [
    {
     "name": "stdout",
     "output_type": "stream",
     "text": [
      "+--------+------+--------------------+------+---+-----+-----+------+----+--------+------+\n",
      "|Survived|Pclass|                Name|   Sex|Age|SibSp|Parch|Ticket|Fare|Embarked|Family|\n",
      "+--------+------+--------------------+------+---+-----+-----+------+----+--------+------+\n",
      "|       0|     3|Vander Planke, Mi...|female| 18|    2|    0|345764|18.0|       S|     2|\n",
      "|       0|     3|Vander Planke, Mr...|  male| 16|    2|    0|345764|18.0|       S|     2|\n",
      "+--------+------+--------------------+------+---+-----+-----+------+----+--------+------+\n",
      "\n"
     ]
    }
   ],
   "source": [
    "data.filter('Ticket==345764').show()"
   ]
  },
  {
   "cell_type": "code",
   "execution_count": 118,
   "id": "4eb33d93-9d67-4221-9ff9-4148981a6033",
   "metadata": {
    "scrolled": true
   },
   "outputs": [
    {
     "name": "stdout",
     "output_type": "stream",
     "text": [
      "+--------+------+--------------------+------+---+-----+-----+------+----+--------+------+\n",
      "|Survived|Pclass|                Name|   Sex|Age|SibSp|Parch|Ticket|Fare|Embarked|Family|\n",
      "+--------+------+--------------------+------+---+-----+-----+------+----+--------+------+\n",
      "|       0|     1|Minahan, Dr. Will...|  male| 44|    2|    0| 19928|90.0|       Q|     2|\n",
      "|       1|     1|Minahan, Miss. Da...|female| 33|    1|    0| 19928|90.0|       Q|     1|\n",
      "+--------+------+--------------------+------+---+-----+-----+------+----+--------+------+\n",
      "\n"
     ]
    }
   ],
   "source": [
    "data.filter('Ticket==19928').show()"
   ]
  },
  {
   "cell_type": "code",
   "execution_count": 146,
   "id": "9f207878-f03c-4a69-921a-acfd5087098d",
   "metadata": {
    "scrolled": true
   },
   "outputs": [
    {
     "name": "stdout",
     "output_type": "stream",
     "text": [
      "+--------+------+--------------------+------+---+-----+-----+-------------+--------+--------+------+\n",
      "|Survived|Pclass|                Name|   Sex|Age|SibSp|Parch|       Ticket|    Fare|Embarked|Family|\n",
      "+--------+------+--------------------+------+---+-----+-----+-------------+--------+--------+------+\n",
      "|       1|     1|Cumings, Mrs. Joh...|female| 38|    1|    0|     PC 17599| 71.2833|       C|     1|\n",
      "|       1|     1|Futrelle, Mrs. Ja...|female| 35|    1|    0|       113803|    53.1|       S|     1|\n",
      "|       0|     1|McCarthy, Mr. Tim...|  male| 54|    0|    0|        17463| 51.8625|       S|     0|\n",
      "|       1|     2|Nasser, Mrs. Nich...|female| 14|    1|    0|       237736| 30.0708|       C|     1|\n",
      "|       1|     1|Bonnell, Miss. El...|female| 58|    0|    0|       113783|   26.55|       S|     0|\n",
      "|       1|     2|Hewlett, Mrs. (Ma...|female| 55|    0|    0|       248706|    16.0|       S|     0|\n",
      "|       1|     2|Williams, Mr. Cha...|  male| 29|    0|    0|       244373|    13.0|       S|     0|\n",
      "|       0|     2|Fynney, Mr. Joseph J|  male| 35|    0|    0|       239865|    26.0|       S|     0|\n",
      "|       1|     2|Beesley, Mr. Lawr...|  male| 34|    0|    0|       248698|    13.0|       S|     0|\n",
      "|       1|     1|Sloper, Mr. Willi...|  male| 28|    0|    0|       113788|    35.5|       S|     0|\n",
      "|       0|     1|Fortune, Mr. Char...|  male| 19|    3|    2|        19950|   263.0|       S|     5|\n",
      "|       0|     1|Uruchurtu, Don. M...|  male| 40|    0|    0|     PC 17601| 27.7208|       C|     0|\n",
      "|       1|     1|Spencer, Mrs. Wil...|female| 29|    1|    0|     PC 17569|146.5208|       C|     1|\n",
      "|       0|     2|Wheadon, Mr. Edwa...|  male| 66|    0|    0|   C.A. 24579|    10.5|       S|     0|\n",
      "|       0|     1|Meyer, Mr. Edgar ...|  male| 28|    1|    0|     PC 17604| 82.1708|       C|     1|\n",
      "|       0|     1|Holverson, Mr. Al...|  male| 42|    1|    0|       113789|    52.0|       S|     1|\n",
      "|       0|     2|Turpin, Mrs. Will...|female| 27|    1|    0|        11668|    21.0|       S|     1|\n",
      "|       1|     2|Laroche, Miss. Si...|female|  3|    1|    2|SC/Paris 2123| 41.5792|       C|     3|\n",
      "|       1|     1|Harper, Mrs. Henr...|female| 49|    1|    0|     PC 17572| 76.7292|       C|     1|\n",
      "|       1|     2|Faunthorpe, Mrs. ...|female| 29|    1|    0|         2926|    26.0|       S|     1|\n",
      "+--------+------+--------------------+------+---+-----+-----+-------------+--------+--------+------+\n",
      "only showing top 20 rows\n",
      "\n"
     ]
    }
   ],
   "source": [
    "data.filter(~(data['Pclass']==3)).show()"
   ]
  },
  {
   "cell_type": "code",
   "execution_count": 147,
   "id": "effdc5e9-8733-495e-824e-24760fe05003",
   "metadata": {},
   "outputs": [
    {
     "ename": "AttributeError",
     "evalue": "'GroupedData' object has no attribute 'show'",
     "output_type": "error",
     "traceback": [
      "\u001b[0;31m---------------------------------------------------------------------------\u001b[0m",
      "\u001b[0;31mAttributeError\u001b[0m                            Traceback (most recent call last)",
      "Cell \u001b[0;32mIn[147], line 1\u001b[0m\n\u001b[0;32m----> 1\u001b[0m data\u001b[38;5;241m.\u001b[39mfilter(\u001b[38;5;241m~\u001b[39m(data[\u001b[38;5;124m'\u001b[39m\u001b[38;5;124mPclass\u001b[39m\u001b[38;5;124m'\u001b[39m]\u001b[38;5;241m==\u001b[39m\u001b[38;5;241m3\u001b[39m))\u001b[38;5;241m.\u001b[39mgroupby(\u001b[38;5;124m'\u001b[39m\u001b[38;5;124mPclass\u001b[39m\u001b[38;5;124m'\u001b[39m)\u001b[38;5;241m.\u001b[39mshow()\n",
      "\u001b[0;31mAttributeError\u001b[0m: 'GroupedData' object has no attribute 'show'"
     ]
    }
   ],
   "source": [
    "data.filter(~(data['Pclass']==3)).groupby('Pclass').show()"
   ]
  },
  {
   "cell_type": "code",
   "execution_count": 133,
   "id": "2070b820-56c1-413b-a743-645d410b6728",
   "metadata": {},
   "outputs": [
    {
     "name": "stdout",
     "output_type": "stream",
     "text": [
      "+------+--------+---------------+\n",
      "|Pclass|Survived|count(Survived)|\n",
      "+------+--------+---------------+\n",
      "|     1|       1|            134|\n",
      "|     1|       0|             80|\n",
      "|     2|       1|             87|\n",
      "|     2|       0|             97|\n",
      "|     3|       1|            119|\n",
      "|     3|       0|            372|\n",
      "+------+--------+---------------+\n",
      "\n"
     ]
    }
   ],
   "source": [
    "data.groupby('Pclass','Survived').agg({'Survived':'count'}).orderBy('Pclass').show()"
   ]
  },
  {
   "cell_type": "code",
   "execution_count": 132,
   "id": "ef164549-4199-46cd-98db-c017e36a1570",
   "metadata": {},
   "outputs": [
    {
     "name": "stdout",
     "output_type": "stream",
     "text": [
      "+------+-------------+\n",
      "|Pclass|count(Ticket)|\n",
      "+------+-------------+\n",
      "|     1|          214|\n",
      "|     2|          184|\n",
      "|     3|          491|\n",
      "+------+-------------+\n",
      "\n"
     ]
    }
   ],
   "source": [
    "data.groupby('Pclass').agg({'Ticket':'count'}).orderBy('Pclass').show()"
   ]
  },
  {
   "cell_type": "code",
   "execution_count": 137,
   "id": "97ba71c3-dfc0-4e9e-969c-9277810cf480",
   "metadata": {
    "scrolled": true
   },
   "outputs": [
    {
     "name": "stdout",
     "output_type": "stream",
     "text": [
      "+---+---------------+\n",
      "|Age|count(Survived)|\n",
      "+---+---------------+\n",
      "|  0|              7|\n",
      "|  1|              7|\n",
      "|  2|             10|\n",
      "|  3|              6|\n",
      "|  4|             10|\n",
      "|  5|              4|\n",
      "|  6|              3|\n",
      "|  7|              3|\n",
      "|  8|              4|\n",
      "|  9|              8|\n",
      "| 10|              2|\n",
      "| 11|              4|\n",
      "| 12|              1|\n",
      "| 13|              2|\n",
      "| 14|              7|\n",
      "| 15|              5|\n",
      "| 16|             17|\n",
      "| 17|             13|\n",
      "| 18|             26|\n",
      "| 19|             25|\n",
      "+---+---------------+\n",
      "only showing top 20 rows\n",
      "\n"
     ]
    }
   ],
   "source": [
    "data.groupby('Age').agg({'Survived':'count'}).orderBy('Age').show()"
   ]
  },
  {
   "cell_type": "code",
   "execution_count": 148,
   "id": "303e2f68-40a4-48fa-a744-c7152de06293",
   "metadata": {},
   "outputs": [
    {
     "name": "stdout",
     "output_type": "stream",
     "text": [
      "+--------+------+--------------------+------+---+-----+-----+----------------+-------+--------+------+\n",
      "|Survived|Pclass|                Name|   Sex|Age|SibSp|Parch|          Ticket|   Fare|Embarked|Family|\n",
      "+--------+------+--------------------+------+---+-----+-----+----------------+-------+--------+------+\n",
      "|       0|     3|Braund, Mr. Owen ...|  male| 22|    1|    0|       A/5 21171|   7.25|       S|     1|\n",
      "|       1|     1|Cumings, Mrs. Joh...|female| 38|    1|    0|        PC 17599|71.2833|       C|     1|\n",
      "|       1|     3|Heikkinen, Miss. ...|female| 26|    0|    0|STON/O2. 3101282|  7.925|       S|     0|\n",
      "|       1|     1|Futrelle, Mrs. Ja...|female| 35|    1|    0|          113803|   53.1|       S|     1|\n",
      "|       0|     3|Allen, Mr. Willia...|  male| 35|    0|    0|          373450|   8.05|       S|     0|\n",
      "|       0|     3|    Moran, Mr. James|  male| 29|    0|    0|          330877| 8.4583|       Q|     0|\n",
      "|       0|     1|McCarthy, Mr. Tim...|  male| 54|    0|    0|           17463|51.8625|       S|     0|\n",
      "|       0|     3|Palsson, Master. ...|  male|  2|    3|    1|          349909| 21.075|       S|     4|\n",
      "|       1|     3|Johnson, Mrs. Osc...|female| 27|    0|    2|          347742|11.1333|       S|     2|\n",
      "|       1|     2|Nasser, Mrs. Nich...|female| 14|    1|    0|          237736|30.0708|       C|     1|\n",
      "|       1|     3|Sandstrom, Miss. ...|female|  4|    1|    1|         PP 9549|   16.7|       S|     2|\n",
      "|       1|     1|Bonnell, Miss. El...|female| 58|    0|    0|          113783|  26.55|       S|     0|\n",
      "|       0|     3|Saundercock, Mr. ...|  male| 20|    0|    0|       A/5. 2151|   8.05|       S|     0|\n",
      "|       0|     3|Andersson, Mr. An...|  male| 39|    1|    5|          347082| 31.275|       S|     6|\n",
      "|       0|     3|Vestrom, Miss. Hu...|female| 14|    0|    0|          350406| 7.8542|       S|     0|\n",
      "|       1|     2|Hewlett, Mrs. (Ma...|female| 55|    0|    0|          248706|   16.0|       S|     0|\n",
      "|       0|     3|Rice, Master. Eugene|  male|  2|    4|    1|          382652| 29.125|       Q|     5|\n",
      "|       1|     2|Williams, Mr. Cha...|  male| 29|    0|    0|          244373|   13.0|       S|     0|\n",
      "|       0|     3|Vander Planke, Mr...|female| 31|    1|    0|          345763|   18.0|       S|     1|\n",
      "|       1|     3|Masselmani, Mrs. ...|female| 29|    0|    0|            2649|  7.225|       C|     0|\n",
      "+--------+------+--------------------+------+---+-----+-----+----------------+-------+--------+------+\n",
      "only showing top 20 rows\n",
      "\n"
     ]
    }
   ],
   "source": [
    "data.show()"
   ]
  },
  {
   "cell_type": "code",
   "execution_count": null,
   "id": "72139e09-aec2-4888-8216-969c5510c2e6",
   "metadata": {},
   "outputs": [],
   "source": [
    "data.drop('Name',)"
   ]
  },
  {
   "cell_type": "code",
   "execution_count": null,
   "id": "78465f0a-ffb3-4ff9-bc78-b4482591f293",
   "metadata": {},
   "outputs": [],
   "source": []
  }
 ],
 "metadata": {
  "kernelspec": {
   "display_name": "Python 3 (ipykernel)",
   "language": "python",
   "name": "python3"
  },
  "language_info": {
   "codemirror_mode": {
    "name": "ipython",
    "version": 3
   },
   "file_extension": ".py",
   "mimetype": "text/x-python",
   "name": "python",
   "nbconvert_exporter": "python",
   "pygments_lexer": "ipython3",
   "version": "3.11.5"
  }
 },
 "nbformat": 4,
 "nbformat_minor": 5
}
