{
 "cells": [
  {
   "cell_type": "code",
   "execution_count": 1,
   "id": "21e2e46b",
   "metadata": {},
   "outputs": [],
   "source": [
    "import requests # 서버에 http 프로토콜로 요청\n",
    "from bs4 import BeautifulSoup as bs # html 파싱\n",
    "import time  # 5초간 휴식할 때 사용 \n",
    "from datetime import datetime # 오늘 년월일 추출할 때 사용\n",
    "import pandas as pd # 데이터프레임 만듦\n",
    "import selenium"
   ]
  },
  {
   "cell_type": "code",
   "execution_count": null,
   "id": "b9dea143",
   "metadata": {},
   "outputs": [],
   "source": [
    "# https://front.homeplus.co.kr/search?entry=direct&keyword=%EB%A7%A5%EC%A3%BC%EC%95%88%EC%A3%BC"
   ]
  },
  {
   "cell_type": "code",
   "execution_count": 55,
   "id": "b55df2fc",
   "metadata": {},
   "outputs": [],
   "source": [
    "url = \"https://front.homeplus.co.kr/search?entry=direct&keyword=%EB%A7%A5%EC%A3%BC%EC%95%88%EC%A3%BC\""
   ]
  },
  {
   "cell_type": "code",
   "execution_count": 88,
   "id": "3f3d59d9",
   "metadata": {},
   "outputs": [],
   "source": [
    "header = {\"User-Agent\":\"Mozilla/5.0 (Windows NT 10.0; Win64; x64) AppleWebKit/537.36 (KHTML, like Gecko) Chrome/119.0.0.0 Safari/537.36\"}"
   ]
  },
  {
   "cell_type": "code",
   "execution_count": 89,
   "id": "a1a29998",
   "metadata": {},
   "outputs": [
    {
     "name": "stdout",
     "output_type": "stream",
     "text": [
      "{'entry': 'direct', 'keyword': '맥주안주', 'headers': {'User-Agent': 'Mozilla/5.0 (Windows NT 10.0; Win64; x64) AppleWebKit/537.36 (KHTML, like Gecko) Chrome/119.0.0.0 Safari/537.36'}}\n"
     ]
    }
   ],
   "source": [
    "# params = dict(entry='direct', keyword=\"맥주안주\",headers = header)\n",
    "# print(params)"
   ]
  },
  {
   "cell_type": "code",
   "execution_count": 90,
   "id": "282d59ca",
   "metadata": {},
   "outputs": [
    {
     "name": "stdout",
     "output_type": "stream",
     "text": [
      "https://front.homeplus.co.kr/search?entry=direct&keyword=%EB%A7%A5%EC%A3%BC%EC%95%88%EC%A3%BC\n",
      "200\n"
     ]
    }
   ],
   "source": [
    "r = requests.get(url)\n",
    "print(r.url)\n",
    "print(r.status_code)"
   ]
  },
  {
   "cell_type": "code",
   "execution_count": 91,
   "id": "4c7c5ed9",
   "metadata": {},
   "outputs": [],
   "source": [
    "soup = bs(r.text, 'lxml')"
   ]
  },
  {
   "cell_type": "code",
   "execution_count": 92,
   "id": "c78b35df",
   "metadata": {
    "scrolled": true
   },
   "outputs": [
    {
     "name": "stdout",
     "output_type": "stream",
     "text": [
      "<!DOCTYPE html>\n",
      "<html lang=\"ko\"><head><meta charset=\"utf-8\"/><meta content=\"text/html; charset=utf-8\" http-equiv=\"Content-Type\"/><meta content=\"IE=edge\" http-equiv=\"X-UA-Compatible\"/><meta content=\"width=device-width,initial-scale=1\" name=\"viewport\"/>\n",
      "<meta content=\"맥주안주도 원하는 시간에 당일 배송! 첫구매 혜택부터 다양한 할인혜택까지.\" name=\"description\"/>\n",
      "<meta content=\"맥주안주, 맥주안주배송, 맥주안주배달, 맥주안주할인\" name=\"keywords\"/>\n",
      "<link href=\"https://mfront.homeplus.co.kr/search?entry=direct&amp;keyword=맥주안주\" media=\"only screen and (max-width: 640px)\" rel=\"alternate\"/>\n",
      "<link href=\"https://front.homeplus.co.kr/search?entry=direct&amp;keyword=맥주안주\" rel=\"canonical\"/>\n",
      "<meta content=\"홈플러스\" data-react-helmet=\"true\" property=\"og:site_name\"/>\n",
      "<meta content=\"https://front.homeplus.co.kr/search?entry=direct&amp;keyword=맥주안주\" data-react-helmet=\"true\" property=\"og:url\"/>\n",
      "<meta content=\"website\" data-react-helmet=\"true\" property=\"og:type\"/>\n",
      "<meta content=\"맥주안주 | 홈플러스\" property=\"og:title\"/>\n",
      "<meta content=\"맥주안주 | 홈플러스\" name=\"title\"/>\n",
      "<meta content=\"https://front.homeplus.co.kr/static/images/homeplus_200.png\" property=\"og:image\"/>\n",
      "<meta content=\"https://front.homeplus.co.kr/static/images/homeplus_200.png\" property=\"og:image:secure_url\"/>\n",
      "<meta content=\"맥주안주도 원하는 시간에 당일 배송! 첫구매 혜택부터 다양한 할인혜택까지.\" property=\"og:description\"/>\n",
      "<meta content=\"https://front.homeplus.co.kr/search?entry=direct&amp;keyword=맥주안주\" name=\"twitter:url\"/>\n",
      "<meta content=\"summary\" name=\"twitter:card\"/>\n",
      "<meta content=\"맥주안주 | 홈플러스\" name=\"twitter:title\"/>\n",
      "<meta content=\"https://front.homeplus.co.kr/static/images/homeplus_200.png\" property=\"og:image\"/>\n",
      "<meta content=\"맥주안주도 원하는 시간에 당일 배송! 첫구매 혜택부터 다양한 할인혜택까지.\" name=\"twitter:description\"/>\n",
      "<title>맥주안주 | 홈플러스</title>\n",
      "<meta content=\"1cr6nvbiltg2ivfg9mo0dkvlxuhlke\" name=\"facebook-domain-verification\"/><meta content=\"0da8b47fc951fce34b76d83f991a829dc5bd9a47\" name=\"naver-site-verification\"/><meta content=\"sRT5frC4joD6EuUC80y9S2it8zwy4u9cG9_zrlU6QNU\" name=\"google-site-verification\"/><meta content=\"#000000\" name=\"theme-color\"/><link href=\"https://front.homeplus.co.kr/static/manifest.json\" rel=\"manifest\"/><link href=\"/static/style/popupReceiptPrintStyle.css\" rel=\"stylesheet\"/><script src=\"/static/lib/jquery-2.2.4.min.js\"></script><script src=\"https://oapi.map.naver.com/openapi/v3/maps.js?ncpClientId=4p1jbwlm9k\" type=\"text/javascript\"></script><style>.samsungcard-header-wrapper{z-index:1000;position:relative;width:100%;min-width:1280px;border-bottom:1px solid #d0d0d0;background:#fff;color:#101010;font-family:'맑은 고딕','Malgun Gothic','Apple SD Gothic Neo','돋움',Dotum,Arial,Sans-serif;font-size:13px;line-height:1.62;font-style:normal}.samsungcard-header-wrapper .header-box{position:relative;width:1280px;height:72px;margin:0 auto}.samsungcard-header-wrapper .header-box .logo{width:100%;height:100%;background:url(http://static12.samsungcard.com/images/mallinmall/cml/fo/partners/logo.png) 0 center no-repeat;margin:0;padding:0}.samsungcard-header-wrapper .header-box h1.logo span{float:left;display:block;width:267px;height:100%}.samsungcard-header-wrapper .header-box h1.logo span a{overflow:hidden;display:block;width:100%;height:100%;font-size:0;line-height:0;text-indent:-500px}.samsungcard-header-wrapper .header-box h1.logo em{float:left;display:block;width:134px;height:100%;font-size:0;line-height:0;text-indent:-5000px;background:url(http://static12.samsungcard.com/images/mallinmall/cml/fo/partners/btn_point_on.gif) 0 center no-repeat;margin-left:20px;overflow:hidden}.samsungcard-header-wrapper .header-box .links-shp{position:absolute;right:0;top:21px;padding:0;margin:0}.samsungcard-header-wrapper .header-box .links-shp li{float:left;margin-left:48px;list-style:none}.samsungcard-header-wrapper .header-box .links-shp li a{font-size:20px;line-height:1.2;letter-spacing:-1px;font-weight:700;color:#101010;text-decoration:none}.samsungcard-header-wrapper .description{width:100%;padding:0;border-top:1px solid #d0d0d0;background:#f4f4f4;box-shadow:inset 0 2px 3px 0 rgba(0,0,0,.08)}.samsungcard-header-wrapper .description p{width:1260px;padding:6px 0 9px 24px;margin:0 auto;color:#303030;background:url(http://static12.samsungcard.com/images/mallinmall/cml/fo/partners/ico_tip.gif) 0 10px no-repeat;box-sizing:border-box}.samsungcard-header-wrapper .description p em{font-style:normal;font-weight:700}</style><link href=\"https://dev.visualwebsiteoptimizer.com\" rel=\"preconnect\"/><link href=\"/static/css/7.ca59ab5c.chunk.css\" rel=\"stylesheet\"/></head><body><noscript>이 어플리케이션을 보려면 자바스크립트를 활성화해야 합니다. <img alt=\"facebook-pixel-noscript\" height=\"1\" src=\"https://www.facebook.com/tr?id=%FACEBOOK_PIXEL_CODE%&amp;ev=PageView&amp;noscript=1\" style=\"display:none\" width=\"1\"/></noscript><script>var HplusAffiliate=JSON.parse(document.cookie.split(\"; \").reduce((function(t,s){var a=s.split(\"=\");return\"HplusAffiliate\"===a[0]?decodeURIComponent(a[1]):t}),\"\")||\"null\")||{channelId:\"\"};if(\"1000003\"===HplusAffiliate.channelId){const t='<script src=\"https://allthatcdn.aws.shinhancard.com/conts/partners/header/allthat.js\"><\\/script>';document.write(t);const s='<div id=\"allthat\"></div>';document.write(s)}else if(\"1000032\"===HplusAffiliate.channelId){var scripts='<script src=\"https://lifes.kbcard.com/cxl/js/pc2018/common/js/partner_gnb_A_UTF.js\"><\\/script>';document.write(scripts);var iframe='<iframe src=\"https://lifes.kbcard.com/CXLRICOC0006.cms\"></iframe>'}else if(\"1000033\"===HplusAffiliate.channelId){var html=\"\";html+='<div class=\"samsungcard-header-wrapper\">',html+='   <div class=\"header-box\">',html+='       <h1 class=\"logo\">',html+='           <span><a href=\"javascript:location.href=\"http://mallinmall.samsungcard.com/\" target=\"_top\">SAMSUNG CARD 국내제휴몰</a></span>',html+='           <em class=\"point-on\">포인트적립 가능</em>',html+=\"       </h1>\",html+='       <ul class=\"links-shp\">',html+='           <li><a href=\"http://shopping.samsungcard.com/\" target=\"_blank\">삼성카드 쇼핑</a></li>',html+=\"       </ul>\",html+=\"   </div>\",html+='   <div class=\"description\"><p>삼성카드 쇼핑은 통신판매 중개자로서, 아래 매장은 <em>해당 쇼핑몰의 책임하에 운영</em>되고 있습니다.</p></div>',html+=\"</div>\",document.write(html)}</script><div id=\"root\"></div><div id=\"modal-container\"></div><script>!function(e){function t(t){for(var n,c,f=t[0],u=t[1],i=t[2],l=0,p=[];l<f.length;l++)c=f[l],Object.prototype.hasOwnProperty.call(a,c)&&a[c]&&p.push(a[c][0]),a[c]=0;for(n in u)Object.prototype.hasOwnProperty.call(u,n)&&(e[n]=u[n]);for(d&&d(t);p.length;)p.shift()();return o.push.apply(o,i||[]),r()}function r(){for(var e,t=0;t<o.length;t++){for(var r=o[t],n=!0,f=1;f<r.length;f++){var u=r[f];0!==a[u]&&(n=!1)}n&&(o.splice(t--,1),e=c(c.s=r[0]))}return e}var n={},a={6:0},o=[];function c(t){if(n[t])return n[t].exports;var r=n[t]={i:t,l:!1,exports:{}};return e[t].call(r.exports,r,r.exports,c),r.l=!0,r.exports}c.e=function(e){var t=[],r=a[e];if(0!==r)if(r)t.push(r[2]);else{var n=new Promise((function(t,n){r=a[e]=[t,n]}));t.push(r[2]=n);var o,f=document.createElement(\"script\");f.charset=\"utf-8\",f.timeout=120,c.nc&&f.setAttribute(\"nonce\",c.nc),f.src=function(e){return c.p+\"static/js/\"+({}[e]||e)+\".\"+{0:\"d7d0a146\",1:\"e72abd29\",2:\"f1015727\",3:\"1c544cfa\",4:\"34da4179\",8:\"eaa649e7\",9:\"4d82ac40\",10:\"b7ff836c\",11:\"76716436\",12:\"296255a5\",13:\"d07ff80f\",14:\"37d1d587\",15:\"aa8e22f8\",16:\"560575b9\",17:\"50fef140\",18:\"a3df338e\",19:\"7937295d\",20:\"ca188fc4\",21:\"c5a3f4c8\",22:\"1f6db047\",23:\"d14e7097\",24:\"e63599e6\",25:\"2e4517d5\",26:\"7a67ad23\",27:\"415782ac\",28:\"de2d655a\",29:\"2450da08\",30:\"0f2428e8\",31:\"9bc5c926\",32:\"9c28175b\",33:\"d5de8fd1\",34:\"aa5cd524\",35:\"6a0420a4\",36:\"972c7acd\",37:\"628031fc\",38:\"8d0f94c0\",39:\"7c86762a\",40:\"76c37881\",41:\"465961c3\",42:\"e90e0b4b\",43:\"5faf0c8a\",44:\"be13a47d\",45:\"15f60c58\",46:\"c5cdbf35\",47:\"358826d9\",48:\"00c5f08d\",49:\"17205349\",50:\"e4b94a62\"}[e]+\".chunk.js\"}(e);var u=new Error;o=function(t){f.onerror=f.onload=null,clearTimeout(i);var r=a[e];if(0!==r){if(r){var n=t&&(\"load\"===t.type?\"missing\":t.type),o=t&&t.target&&t.target.src;u.message=\"Loading chunk \"+e+\" failed.\\n(\"+n+\": \"+o+\")\",u.name=\"ChunkLoadError\",u.type=n,u.request=o,r[1](u)}a[e]=void 0}};var i=setTimeout((function(){o({type:\"timeout\",target:f})}),12e4);f.onerror=f.onload=o,document.head.appendChild(f)}return Promise.all(t)},c.m=e,c.c=n,c.d=function(e,t,r){c.o(e,t)||Object.defineProperty(e,t,{enumerable:!0,get:r})},c.r=function(e){\"undefined\"!=typeof Symbol&&Symbol.toStringTag&&Object.defineProperty(e,Symbol.toStringTag,{value:\"Module\"}),Object.defineProperty(e,\"__esModule\",{value:!0})},c.t=function(e,t){if(1&t&&(e=c(e)),8&t)return e;if(4&t&&\"object\"==typeof e&&e&&e.__esModule)return e;var r=Object.create(null);if(c.r(r),Object.defineProperty(r,\"default\",{enumerable:!0,value:e}),2&t&&\"string\"!=typeof e)for(var n in e)c.d(r,n,function(t){return e[t]}.bind(null,n));return r},c.n=function(e){var t=e&&e.__esModule?function(){return e.default}:function(){return e};return c.d(t,\"a\",t),t},c.o=function(e,t){return Object.prototype.hasOwnProperty.call(e,t)},c.p=\"/\",c.oe=function(e){throw e};var f=this.webpackJsonphp=this.webpackJsonphp||[],u=f.push.bind(f);f.push=t,f=f.slice();for(var i=0;i<f.length;i++)t(f[i]);var d=u;r()}([])</script><script src=\"/static/js/7.67df6706.chunk.js\"></script><script src=\"/static/js/main.6c4ba8f8.chunk.js\"></script></body></html>\n"
     ]
    }
   ],
   "source": [
    "print(soup)"
   ]
  },
  {
   "cell_type": "markdown",
   "id": "b929f9dd",
   "metadata": {},
   "source": [
    "requests로는 아무것도 볼 수 없다. selenium을 해보자"
   ]
  },
  {
   "cell_type": "code",
   "execution_count": 1,
   "id": "1530301f",
   "metadata": {},
   "outputs": [],
   "source": [
    "# selenium 4\n",
    "from selenium import webdriver\n",
    "from selenium.webdriver.chrome.service import Service as ChromeService\n",
    "from webdriver_manager.chrome import ChromeDriverManager\n",
    "from selenium.webdriver.common.keys import Keys\n",
    "from selenium.webdriver.common.by import By\n",
    "from bs4 import BeautifulSoup as bs\n",
    "import time"
   ]
  },
  {
   "cell_type": "code",
   "execution_count": 2,
   "id": "159b66a3",
   "metadata": {},
   "outputs": [
    {
     "name": "stdout",
     "output_type": "stream",
     "text": [
      "검색할 제품 입력: 맥주안주\n"
     ]
    }
   ],
   "source": [
    "# 웹 드라이버를 버전에 맞게 자동으로 다운 받고 옵션을 추가해 줌.\n",
    "driver = webdriver.Chrome(service=ChromeService(ChromeDriverManager().install()))\n",
    "driver.set_window_size(1920, 1080) # 웹 브라우저 해상도 조절\n",
    "keyword = input(\"검색할 제품 입력: \")\n",
    "driver.get(f\"https://front.homeplus.co.kr/search?entry=recent&keyword={keyword}\") # 크롤링 할 웹사이트 주소"
   ]
  },
  {
   "cell_type": "code",
   "execution_count": null,
   "id": "49a72d60",
   "metadata": {},
   "outputs": [],
   "source": [
    "snacks_for_beer = []\n",
    "for page in range(2,11):\n",
    "    print(f\"{page}페이지\")\n",
    "    y = 0 # 마우스 스크롤 시작 지점\n",
    "    y_step = 1000 # 마우스 스크롤 길이\n",
    "    for i in range(1, 6):\n",
    "        y =  y + y_step\n",
    "        script = f\"window.scrollTo({0},{y})\"  # 자바 스크립트로 위치 지정\n",
    "        driver.execute_script(script)         # 스크롤 실행\n",
    "        time.sleep(2)\n",
    "    page_html = driver.page_source \n",
    "    soup = BeautifulSoup(page_html, \"lxml\")\n",
    "    snacks_for_beer.append(soup)\n",
    "    driver.find_element(By.CSS_SELECTOR, f\"#content > div.style_content__xWg5l > div.pagination_pagination__fsf34 > div > a:nth-child({page})\").click() # 다음페이지 넘김 버튼 클릭\n",
    "    time.sleep(2)"
   ]
  },
  {
   "cell_type": "code",
   "execution_count": null,
   "id": "3c66dfc4",
   "metadata": {},
   "outputs": [],
   "source": [
    "//*[@id=\"root\"]/div/div[3]/div[2]/div[2]/div/div/div[3]/button[1]"
   ]
  },
  {
   "cell_type": "code",
   "execution_count": null,
   "id": "30051e95",
   "metadata": {},
   "outputs": [],
   "source": []
  },
  {
   "cell_type": "code",
   "execution_count": 35,
   "id": "ea3f40a6",
   "metadata": {
    "collapsed": true
   },
   "outputs": [
    {
     "name": "stdout",
     "output_type": "stream",
     "text": [
      "현재 버튼숫자5\n",
      "현재 페이지2\n",
      "현재 버튼숫자5\n",
      "현재 페이지3\n",
      "현재 버튼숫자5\n",
      "현재 페이지4\n",
      "현재 버튼숫자5\n",
      "현재 페이지5\n",
      "현재 버튼숫자5\n",
      "현재 페이지6\n",
      "현재 버튼숫자5\n",
      "현재 페이지7\n"
     ]
    },
    {
     "ename": "KeyboardInterrupt",
     "evalue": "",
     "output_type": "error",
     "traceback": [
      "\u001b[1;31m---------------------------------------------------------------------------\u001b[0m",
      "\u001b[1;31mKeyboardInterrupt\u001b[0m                         Traceback (most recent call last)",
      "Cell \u001b[1;32mIn[35], line 5\u001b[0m\n\u001b[0;32m      3\u001b[0m \u001b[38;5;28;01mwhile\u001b[39;00m pages \u001b[38;5;241m<\u001b[39m\u001b[38;5;241m=\u001b[39m \u001b[38;5;241m10\u001b[39m:\n\u001b[0;32m      4\u001b[0m     page_html \u001b[38;5;241m=\u001b[39m driver\u001b[38;5;241m.\u001b[39mpage_source\n\u001b[1;32m----> 5\u001b[0m     \u001b[43mtime\u001b[49m\u001b[38;5;241;43m.\u001b[39;49m\u001b[43msleep\u001b[49m\u001b[43m(\u001b[49m\u001b[38;5;241;43m3\u001b[39;49m\u001b[43m)\u001b[49m\n\u001b[0;32m      6\u001b[0m     \u001b[38;5;28mprint\u001b[39m(\u001b[38;5;124mf\u001b[39m\u001b[38;5;124m\"\u001b[39m\u001b[38;5;124m현재 버튼숫자\u001b[39m\u001b[38;5;132;01m{\u001b[39;00mnth_child\u001b[38;5;132;01m}\u001b[39;00m\u001b[38;5;124m\"\u001b[39m)\n\u001b[0;32m      7\u001b[0m     \u001b[38;5;28mprint\u001b[39m(\u001b[38;5;124mf\u001b[39m\u001b[38;5;124m\"\u001b[39m\u001b[38;5;124m현재 페이지\u001b[39m\u001b[38;5;132;01m{\u001b[39;00mpages\u001b[38;5;132;01m}\u001b[39;00m\u001b[38;5;124m\"\u001b[39m)\n",
      "\u001b[1;31mKeyboardInterrupt\u001b[0m: "
     ]
    }
   ],
   "source": [
    "pages = 2\n",
    "\n",
    "while pages <= 10:\n",
    "    page_html = driver.page_source\n",
    "    time.sleep(3)\n",
    "#     print(f\"현재 버튼숫자{nth_child}\")\n",
    "#     print(f\"현재 페이지{pages}\")\n",
    "\n",
    "    driver.find_element(By.CSS_SELECTOR,f\"#root > div > div.css-1di1x1r-container > div.css-oiwa5q-defaultStyle-gridRow-IntegratedSearch > div.mainWrap > div > div > div.pagination-js.css-dpcmyw-defaultStyle > button:nth-child({pages})\").click()\n",
    "    pages += 1\n",
    "    time.sleep(3)\n",
    "    \n",
    "#     if pages % 10 == 0:\n",
    "#         nth_child = 4\n",
    "#         driver.find_element(By.CSS_SELECTOR,\".css-15xqn45-defaultStyle-icon_057-Icon\").click()\n"
   ]
  },
  {
   "cell_type": "code",
   "execution_count": 37,
   "id": "8d65ef25",
   "metadata": {},
   "outputs": [
    {
     "ename": "KeyboardInterrupt",
     "evalue": "",
     "output_type": "error",
     "traceback": [
      "\u001b[1;31m---------------------------------------------------------------------------\u001b[0m",
      "\u001b[1;31mKeyboardInterrupt\u001b[0m                         Traceback (most recent call last)",
      "Cell \u001b[1;32mIn[37], line 7\u001b[0m\n\u001b[0;32m      5\u001b[0m snacks_for_beer\u001b[38;5;241m.\u001b[39mappend(soup)\n\u001b[0;32m      6\u001b[0m driver\u001b[38;5;241m.\u001b[39mfind_element(By\u001b[38;5;241m.\u001b[39mCSS_SELECTOR, \u001b[38;5;124mf\u001b[39m\u001b[38;5;124m\"\u001b[39m\u001b[38;5;124m#root > div > div.css-1di1x1r-container > div.css-oiwa5q-defaultStyle-gridRow-IntegratedSearch > div.mainWrap > div > div > div.pagination-js.css-dpcmyw-defaultStyle > button:nth-child(\u001b[39m\u001b[38;5;132;01m{\u001b[39;00mpage\u001b[38;5;132;01m}\u001b[39;00m\u001b[38;5;124m)\u001b[39m\u001b[38;5;124m\"\u001b[39m)\u001b[38;5;241m.\u001b[39mclick() \u001b[38;5;66;03m# 다음페이지로 넘김 버튼 클릭\u001b[39;00m\n\u001b[1;32m----> 7\u001b[0m \u001b[43mtime\u001b[49m\u001b[38;5;241;43m.\u001b[39;49m\u001b[43msleep\u001b[49m\u001b[43m(\u001b[49m\u001b[38;5;241;43m5\u001b[39;49m\u001b[43m)\u001b[49m\n",
      "\u001b[1;31mKeyboardInterrupt\u001b[0m: "
     ]
    }
   ],
   "source": [
    "snacks_for_beer = []\n",
    "for page in range(2,11):\n",
    "    page_html = driver.page_source \n",
    "    soup = bs(page_html,\"lxml\")\n",
    "    snacks_for_beer.append(soup)\n",
    "    driver.find_element(By.CSS_SELECTOR, f\"#root > div > div.css-1di1x1r-container > div.css-oiwa5q-defaultStyle-gridRow-IntegratedSearch > div.mainWrap > div > div > div.pagination-js.css-dpcmyw-defaultStyle > button:nth-child({page})\").click() # 다음페이지로 넘김 버튼 클릭\n",
    "    time.sleep(5)"
   ]
  },
  {
   "cell_type": "code",
   "execution_count": null,
   "id": "104ed5c9",
   "metadata": {},
   "outputs": [],
   "source": [
    "#root > div > div.css-1di1x1r-container > div.css-oiwa5q-defaultStyle-gridRow-IntegratedSearch > div.mainWrap > div > div > div.pagination-js.css-dpcmyw-defaultStyle > button:nth-child(7)"
   ]
  },
  {
   "cell_type": "code",
   "execution_count": 8,
   "id": "74b6c4f1",
   "metadata": {},
   "outputs": [],
   "source": [
    "driver.find_element(By.CSS_SELECTOR,f\"#root > div > div.css-1di1x1r-container > div.css-oiwa5q-defaultStyle-gridRow-IntegratedSearch > div.mainWrap > div > div > div.pagination-js.css-dpcmyw-defaultStyle > button:nth-child({nth_child})\").click()"
   ]
  },
  {
   "cell_type": "code",
   "execution_count": 96,
   "id": "f63760c2",
   "metadata": {},
   "outputs": [],
   "source": [
    "driver.find_element(By.CSS_SELECTOR,\"#root > div > div.css-1di1x1r-container > div.css-oiwa5q-defaultStyle-gridRow-IntegratedSearch > div.mainWrap > div > div > div.pagination-js.css-dpcmyw-defaultStyle > button:nth-child(2)\").click()"
   ]
  },
  {
   "cell_type": "code",
   "execution_count": 100,
   "id": "cc5d49eb",
   "metadata": {},
   "outputs": [],
   "source": []
  },
  {
   "cell_type": "code",
   "execution_count": 65,
   "id": "d586c0c9",
   "metadata": {},
   "outputs": [],
   "source": [
    "all_page = [] "
   ]
  },
  {
   "cell_type": "code",
   "execution_count": null,
   "id": "f8cb71a7",
   "metadata": {},
   "outputs": [],
   "source": []
  },
  {
   "cell_type": "code",
   "execution_count": 85,
   "id": "f4e3b8ba",
   "metadata": {
    "scrolled": true
   },
   "outputs": [
    {
     "name": "stdout",
     "output_type": "stream",
     "text": [
      "테라 맥주깐부 오징어튀김 스낵 120G\n",
      "\n",
      "9,990\n",
      "https://image.homeplus.kr/it/069157757s0208\n",
      "리코스 나쵸칩 454g X6개 아이들 간식 호프 맥주 안주\n",
      "\n",
      "79,400\n",
      "https://image.homeplus.kr/it/10000302747715s0208\n",
      "볶음땅콩 3.75kg 아이들 간식 호프 맥주 안주 업소\n",
      "\n",
      "62,700\n",
      "https://image.homeplus.kr/it/10000302747700s0208\n",
      "커피땅콩 비앤지 1kg 아이들 간식 호프 맥주 안주\n",
      "\n",
      "16,600\n",
      "https://image.homeplus.kr/it/10000302747698s0208\n",
      "나쵸칩 리코스 454g 아이들 간식 호프 맥주 안주 업소\n",
      "\n",
      "16,300\n",
      "https://image.homeplus.kr/it/10000302747688s0208\n",
      "나쵸칩 원형 320g 아이들 간식 호프 맥주 안주 업소\n",
      "\n",
      "10,800\n",
      "https://image.homeplus.kr/it/10000302747330s0208\n",
      "나쵸칩 원형 320g x12개 아이들 간식 호프 맥주 안주\n",
      "\n",
      "91,900\n",
      "https://image.homeplus.kr/it/10000302747327s0208\n",
      "커피맛땅콩 700g 아이들 간식 호프 맥주 안주 업소\n",
      "\n",
      "12,300\n",
      "https://image.homeplus.kr/it/10000302747323s0208\n",
      "나쵸칩 리코스454g x10개 아이들 간식 호프 맥주 안주\n",
      "\n",
      "130,000\n",
      "https://image.homeplus.kr/it/10000302747315s0208\n",
      "리코스 나쵸칩 454g 아이들 간식 호프 맥주 안주 업소\n",
      "\n",
      "16,300\n",
      "https://image.homeplus.kr/it/10000302747265s0208\n",
      "쿠수카 카사바칩 180g 맥주안주 술안주 마늘맛 갈릭맛\n",
      "\n",
      "3,600\n",
      "https://image.homeplus.kr/it/10000302744369s0208\n",
      "카메다 카키노타네 일본 감씨과자 스낵 (30gx6입) 4개 / 국내배송 쌀과자 맥주안주 \n",
      "\n",
      "21,600\n",
      "https://image.homeplus.kr/it/10000302704276s0208\n",
      "카메다 카키노타네 일본 감씨과자 스낵 (30gx6입) 3개 / 국내배송 쌀과자 맥주안주 \n",
      "\n",
      "17,200\n",
      "https://image.homeplus.kr/it/10000302703778s0208\n",
      "카메다 카키노타네 일본 감씨과자 스낵 (30gx6입) 1개 / 국내배송 쌀과자 맥주안주 \n",
      "\n",
      "5,000\n",
      "https://image.homeplus.kr/it/10000302703776s0208\n",
      "바프 허니버터 190gx4개 아몬드 견과류 맥주안주\n",
      "\n",
      "42,300\n",
      "https://image.homeplus.kr/it/10000302668065s0208\n",
      "견과 간식 아몬드 구운 350g 아이들 스낵 맥주 안주\n",
      "\n",
      "11,900\n",
      "https://image.homeplus.kr/it/10000302667956s0208\n",
      "견과 간식 땅콩분태 볶음 350g 아이들 스낵 맥주 안주\n",
      "\n",
      "8,300\n",
      "https://image.homeplus.kr/it/10000302667954s0208\n",
      "영양간식 맥주 혼술 안주 은행튀김 400g\n",
      "\n",
      "21,500\n",
      "https://image.homeplus.kr/it/10000302667837s0208\n",
      "카바노치 햄 와인 맥주 안주 50g\n",
      "\n",
      "6,000\n",
      "https://image.homeplus.kr/it/10000302658058s0208\n",
      "[스낵] 간식 과자 매일좋은 견과 350g 맥주 호프 안주\n",
      "\n",
      "12,600\n",
      "https://image.homeplus.kr/it/10000302644136s0208\n",
      "[스낵] 과자 옥돌콘 300g 아이들 간식 호프 맥주 안주\n",
      "\n",
      "6,800\n",
      "https://image.homeplus.kr/it/10000302644125s0208\n",
      "[스낵] 과자 통마늘칩 200g 아이들 간식 호프 맥주 안주\n",
      "\n",
      "15,500\n",
      "https://image.homeplus.kr/it/10000302644107s0208\n",
      "[스낵] 아이들 간식 과자 캐슈넛 350g 맥주 호프 안주\n",
      "\n",
      "13,800\n",
      "https://image.homeplus.kr/it/10000302644073s0208\n",
      "[스낵] 과자 김맛나 250g 아이들 간식 호프 맥주 안주\n",
      "\n",
      "7,600\n",
      "https://image.homeplus.kr/it/10000302644055s0208\n",
      "[스낵] 과자 꿀땅콩 350g 아이들 간식 호프 맥주 안주\n",
      "\n",
      "7,100\n"
     ]
    },
    {
     "ename": "TypeError",
     "evalue": "'NoneType' object is not subscriptable",
     "output_type": "error",
     "traceback": [
      "\u001b[1;31m---------------------------------------------------------------------------\u001b[0m",
      "\u001b[1;31mTypeError\u001b[0m                                 Traceback (most recent call last)",
      "Cell \u001b[1;32mIn[85], line 7\u001b[0m\n\u001b[0;32m      5\u001b[0m \u001b[38;5;28mprint\u001b[39m()\n\u001b[0;32m      6\u001b[0m \u001b[38;5;28mprint\u001b[39m(i\u001b[38;5;241m.\u001b[39mselect_one(\u001b[38;5;124m\"\u001b[39m\u001b[38;5;124m.priceValue\u001b[39m\u001b[38;5;124m\"\u001b[39m)\u001b[38;5;241m.\u001b[39mtext)\n\u001b[1;32m----> 7\u001b[0m \u001b[38;5;28mprint\u001b[39m(\u001b[43mi\u001b[49m\u001b[38;5;241;43m.\u001b[39;49m\u001b[43mselect_one\u001b[49m\u001b[43m(\u001b[49m\u001b[38;5;124;43m\"\u001b[39;49m\u001b[38;5;124;43m.lazy-load-image-background.lazy-load-image-loaded img\u001b[39;49m\u001b[38;5;124;43m\"\u001b[39;49m\u001b[43m)\u001b[49m\u001b[43m[\u001b[49m\u001b[38;5;124;43m\"\u001b[39;49m\u001b[38;5;124;43msrc\u001b[39;49m\u001b[38;5;124;43m\"\u001b[39;49m\u001b[43m]\u001b[49m)\n",
      "\u001b[1;31mTypeError\u001b[0m: 'NoneType' object is not subscriptable"
     ]
    }
   ],
   "source": [
    "a = driver.page_source\n",
    "soup = bs(a,\"lxml\")\n",
    "\n",
    "for i in soup.select(\".unitItemBox.mid.cardType.css-11rkkav-itemDisplayStyle\"):\n",
    "    print(i.select_one(\".productTitle.css-y9z3ts-defaultStyle-Linked\").text)\n",
    "    print()\n",
    "    print(i.select_one(\".priceValue\").text)\n",
    "    print(i.select_one(\".lazy-load-image-background.lazy-load-image-loaded img\")[\"src\"])\n",
    "    "
   ]
  },
  {
   "cell_type": "code",
   "execution_count": null,
   "id": "8e3abbcf",
   "metadata": {},
   "outputs": [],
   "source": [
    "#root > div > div.css-1di1x1r-container > div.css-oiwa5q-defaultStyle-gridRow-IntegratedSearch > div.mainWrap > div > div > div.pagination-js.css-dpcmyw-defaultStyle > button:nth-child(4)"
   ]
  }
 ],
 "metadata": {
  "kernelspec": {
   "display_name": "testenv",
   "language": "python",
   "name": "testenv"
  },
  "language_info": {
   "codemirror_mode": {
    "name": "ipython",
    "version": 3
   },
   "file_extension": ".py",
   "mimetype": "text/x-python",
   "name": "python",
   "nbconvert_exporter": "python",
   "pygments_lexer": "ipython3",
   "version": "3.8.17"
  }
 },
 "nbformat": 4,
 "nbformat_minor": 5
}
