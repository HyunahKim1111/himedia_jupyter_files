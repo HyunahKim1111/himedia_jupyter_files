{
 "cells": [
  {
   "cell_type": "code",
   "execution_count": 1,
   "id": "96d7773d",
   "metadata": {},
   "outputs": [],
   "source": [
    "import pandas as pd\n",
    "import numpy as np\n",
    "from tensorflow.keras.models import Sequential\n",
    "from tensorflow.keras.layers import Dense"
   ]
  },
  {
   "cell_type": "markdown",
   "id": "0e6c47b8",
   "metadata": {},
   "source": [
    "tensorflow는 구글에서 만든 딥러닝 프로그램. 딥러닝은 인공신경망"
   ]
  },
  {
   "cell_type": "code",
   "execution_count": 2,
   "id": "32a3cc4b",
   "metadata": {},
   "outputs": [
    {
     "data": {
      "text/html": [
       "<div>\n",
       "<style scoped>\n",
       "    .dataframe tbody tr th:only-of-type {\n",
       "        vertical-align: middle;\n",
       "    }\n",
       "\n",
       "    .dataframe tbody tr th {\n",
       "        vertical-align: top;\n",
       "    }\n",
       "\n",
       "    .dataframe thead th {\n",
       "        text-align: right;\n",
       "    }\n",
       "</style>\n",
       "<table border=\"1\" class=\"dataframe\">\n",
       "  <thead>\n",
       "    <tr style=\"text-align: right;\">\n",
       "      <th></th>\n",
       "      <th>0</th>\n",
       "      <th>1</th>\n",
       "      <th>2</th>\n",
       "      <th>3</th>\n",
       "      <th>4</th>\n",
       "      <th>5</th>\n",
       "      <th>6</th>\n",
       "      <th>7</th>\n",
       "      <th>8</th>\n",
       "      <th>9</th>\n",
       "      <th>10</th>\n",
       "      <th>11</th>\n",
       "      <th>12</th>\n",
       "      <th>13</th>\n",
       "      <th>14</th>\n",
       "      <th>15</th>\n",
       "      <th>16</th>\n",
       "    </tr>\n",
       "  </thead>\n",
       "  <tbody>\n",
       "    <tr>\n",
       "      <th>0</th>\n",
       "      <td>1</td>\n",
       "      <td>2.88</td>\n",
       "      <td>2.16</td>\n",
       "      <td>1</td>\n",
       "      <td>0</td>\n",
       "      <td>0</td>\n",
       "      <td>0</td>\n",
       "      <td>1</td>\n",
       "      <td>1</td>\n",
       "      <td>3</td>\n",
       "      <td>0</td>\n",
       "      <td>0</td>\n",
       "      <td>0</td>\n",
       "      <td>1</td>\n",
       "      <td>0</td>\n",
       "      <td>60</td>\n",
       "      <td>0</td>\n",
       "    </tr>\n",
       "    <tr>\n",
       "      <th>1</th>\n",
       "      <td>2</td>\n",
       "      <td>3.40</td>\n",
       "      <td>1.88</td>\n",
       "      <td>0</td>\n",
       "      <td>0</td>\n",
       "      <td>0</td>\n",
       "      <td>0</td>\n",
       "      <td>0</td>\n",
       "      <td>0</td>\n",
       "      <td>1</td>\n",
       "      <td>0</td>\n",
       "      <td>0</td>\n",
       "      <td>0</td>\n",
       "      <td>1</td>\n",
       "      <td>0</td>\n",
       "      <td>51</td>\n",
       "      <td>0</td>\n",
       "    </tr>\n",
       "  </tbody>\n",
       "</table>\n",
       "</div>"
      ],
      "text/plain": [
       "   0     1     2   3   4   5   6   7   8   9   10  11  12  13  14  15  16\n",
       "0   1  2.88  2.16   1   0   0   0   1   1   3   0   0   0   1   0  60   0\n",
       "1   2  3.40  1.88   0   0   0   0   0   0   1   0   0   0   1   0  51   0"
      ]
     },
     "execution_count": 2,
     "metadata": {},
     "output_type": "execute_result"
    }
   ],
   "source": [
    "data = pd.read_csv(\"./data/data/ThoraricSurgery3.csv\", header=None)\n",
    "data.head(2)"
   ]
  },
  {
   "cell_type": "code",
   "execution_count": 3,
   "id": "4aeb4ec1",
   "metadata": {},
   "outputs": [],
   "source": [
    "X = data.drop(16, axis=1)\n",
    "y = data[16]"
   ]
  },
  {
   "cell_type": "code",
   "execution_count": 4,
   "id": "3abf48fb",
   "metadata": {},
   "outputs": [],
   "source": [
    "model = Sequential()\n",
    "model.add(Dense(30, input_dim=16, activation='relu'))\n",
    "model.add(Dense(60, input_dim=16, activation='relu'))\n",
    "model.add(Dense(1, activation='sigmoid'))# 이진분류면 시그모이드 3개 이상이면 softmax"
   ]
  },
  {
   "cell_type": "markdown",
   "id": "2a448f64",
   "metadata": {},
   "source": [
    "* Dense는 인공신경망에 층을 주는 것임. input_dim=16 들어가는 컬럼 개수, activation='relu'활성화 함수는 relu로 사용하겠다. 분류분석이니까 activation='sigmoid'를 써준거다. loss='binary_crossentropy' 에러율이 낮은 것. "
   ]
  },
  {
   "cell_type": "markdown",
   "id": "7fb8b581",
   "metadata": {},
   "source": [
    "epochs=50 50번 역전파하면서 오류치를 낮추는거야. batch_size=16 470개의 데이터를 16개씩나눠서 분석하라는 뜻. batch_size 전체 데이터셋을 몇번으로 나눌거니? 메모리 문제때문에. 너무 크면 과적합, 작으면 성능에 문제가 있으 수 있어. 컴퓨터 상황 봐서 가능한 크게 잡는 게 좋긴 해."
   ]
  },
  {
   "cell_type": "markdown",
   "id": "4299b8da",
   "metadata": {},
   "source": [
    "model.add(Dense(30, input_dim=16, activation='relu')) -->이거 하나가 은닉층이야!\n",
    "많이 쌓으면 시간, 메모리를 많이 잡아먹는다는 단점. Sequential()에 모델을 쌓기만 하면 돼."
   ]
  },
  {
   "cell_type": "markdown",
   "id": "f4e72e06",
   "metadata": {},
   "source": [
    "* loss='binary_crossentropy' loss에 뭘 넣느냐에 따라서 회귀분석을 할지, 분류분석을 할지 결정할 수 있어. 예를 들어 loss에 회귀분석을 할 때는 평균 제곱 계열 mean_squared_error를, 분류를 할 때는 binary_crossentropy를 넣는다."
   ]
  },
  {
   "cell_type": "markdown",
   "id": "191fe027",
   "metadata": {},
   "source": [
    "* optimizer='adam' 오차를 어떻게 줄일거냐? 대부분 adam을 쓴다."
   ]
  },
  {
   "cell_type": "code",
   "execution_count": 5,
   "id": "833f35e4",
   "metadata": {},
   "outputs": [],
   "source": [
    "model.compile(loss='binary')"
   ]
  },
  {
   "cell_type": "code",
   "execution_count": 6,
   "id": "6aff106a",
   "metadata": {},
   "outputs": [
    {
     "name": "stdout",
     "output_type": "stream",
     "text": [
      "Epoch 1/50\n",
      "30/30 [==============================] - 1s 2ms/step - loss: 0.4667 - accuracy: 0.8447\n",
      "Epoch 2/50\n",
      "30/30 [==============================] - 0s 2ms/step - loss: 0.4791 - accuracy: 0.8426\n",
      "Epoch 3/50\n",
      "30/30 [==============================] - 0s 1ms/step - loss: 0.4372 - accuracy: 0.8511\n",
      "Epoch 4/50\n",
      "30/30 [==============================] - 0s 2ms/step - loss: 0.4357 - accuracy: 0.8511\n",
      "Epoch 5/50\n",
      "30/30 [==============================] - 0s 1ms/step - loss: 0.4328 - accuracy: 0.8511\n",
      "Epoch 6/50\n",
      "30/30 [==============================] - 0s 2ms/step - loss: 0.4346 - accuracy: 0.8511\n",
      "Epoch 7/50\n",
      "30/30 [==============================] - 0s 1ms/step - loss: 0.4326 - accuracy: 0.8511\n",
      "Epoch 8/50\n",
      "30/30 [==============================] - 0s 2ms/step - loss: 0.4361 - accuracy: 0.8511\n",
      "Epoch 9/50\n",
      "30/30 [==============================] - 0s 1ms/step - loss: 0.4385 - accuracy: 0.8511\n",
      "Epoch 10/50\n",
      "30/30 [==============================] - 0s 1ms/step - loss: 0.4366 - accuracy: 0.8511\n",
      "Epoch 11/50\n",
      "30/30 [==============================] - 0s 1ms/step - loss: 0.4254 - accuracy: 0.8511\n",
      "Epoch 12/50\n",
      "30/30 [==============================] - 0s 1ms/step - loss: 0.4306 - accuracy: 0.8511\n",
      "Epoch 13/50\n",
      "30/30 [==============================] - 0s 2ms/step - loss: 0.4431 - accuracy: 0.8511\n",
      "Epoch 14/50\n",
      "30/30 [==============================] - 0s 1ms/step - loss: 0.4243 - accuracy: 0.8511\n",
      "Epoch 15/50\n",
      "30/30 [==============================] - 0s 1ms/step - loss: 0.4156 - accuracy: 0.8511\n",
      "Epoch 16/50\n",
      "30/30 [==============================] - 0s 1ms/step - loss: 0.4244 - accuracy: 0.8511\n",
      "Epoch 17/50\n",
      "30/30 [==============================] - 0s 1ms/step - loss: 0.4198 - accuracy: 0.8511\n",
      "Epoch 18/50\n",
      "30/30 [==============================] - 0s 1ms/step - loss: 0.4182 - accuracy: 0.8511\n",
      "Epoch 19/50\n",
      "30/30 [==============================] - 0s 1ms/step - loss: 0.4062 - accuracy: 0.8511\n",
      "Epoch 20/50\n",
      "30/30 [==============================] - 0s 1ms/step - loss: 0.4309 - accuracy: 0.8511\n",
      "Epoch 21/50\n",
      "30/30 [==============================] - 0s 1ms/step - loss: 0.4168 - accuracy: 0.8511\n",
      "Epoch 22/50\n",
      "30/30 [==============================] - 0s 1ms/step - loss: 0.4085 - accuracy: 0.8511\n",
      "Epoch 23/50\n",
      "30/30 [==============================] - 0s 2ms/step - loss: 0.4148 - accuracy: 0.8511\n",
      "Epoch 24/50\n",
      "30/30 [==============================] - 0s 1ms/step - loss: 0.4066 - accuracy: 0.8511\n",
      "Epoch 25/50\n",
      "30/30 [==============================] - 0s 1ms/step - loss: 0.4096 - accuracy: 0.8511\n",
      "Epoch 26/50\n",
      "30/30 [==============================] - 0s 1ms/step - loss: 0.4046 - accuracy: 0.8511\n",
      "Epoch 27/50\n",
      "30/30 [==============================] - 0s 2ms/step - loss: 0.4075 - accuracy: 0.8511\n",
      "Epoch 28/50\n",
      "30/30 [==============================] - 0s 1ms/step - loss: 0.4030 - accuracy: 0.8511\n",
      "Epoch 29/50\n",
      "30/30 [==============================] - 0s 1ms/step - loss: 0.4185 - accuracy: 0.8489\n",
      "Epoch 30/50\n",
      "30/30 [==============================] - 0s 1ms/step - loss: 0.4160 - accuracy: 0.8532\n",
      "Epoch 31/50\n",
      "30/30 [==============================] - 0s 1ms/step - loss: 0.3990 - accuracy: 0.8489\n",
      "Epoch 32/50\n",
      "30/30 [==============================] - 0s 1ms/step - loss: 0.4268 - accuracy: 0.8532\n",
      "Epoch 33/50\n",
      "30/30 [==============================] - 0s 1ms/step - loss: 0.4151 - accuracy: 0.8511\n",
      "Epoch 34/50\n",
      "30/30 [==============================] - 0s 1ms/step - loss: 0.4192 - accuracy: 0.8468\n",
      "Epoch 35/50\n",
      "30/30 [==============================] - 0s 1ms/step - loss: 0.4184 - accuracy: 0.8447\n",
      "Epoch 36/50\n",
      "30/30 [==============================] - 0s 1ms/step - loss: 0.4250 - accuracy: 0.8532\n",
      "Epoch 37/50\n",
      "30/30 [==============================] - 0s 1ms/step - loss: 0.3950 - accuracy: 0.8489\n",
      "Epoch 38/50\n",
      "30/30 [==============================] - 0s 1ms/step - loss: 0.3997 - accuracy: 0.8511\n",
      "Epoch 39/50\n",
      "30/30 [==============================] - 0s 1ms/step - loss: 0.3996 - accuracy: 0.8511\n",
      "Epoch 40/50\n",
      "30/30 [==============================] - 0s 1ms/step - loss: 0.3914 - accuracy: 0.8511\n",
      "Epoch 41/50\n",
      "30/30 [==============================] - 0s 1ms/step - loss: 0.4015 - accuracy: 0.8511\n",
      "Epoch 42/50\n",
      "30/30 [==============================] - 0s 1ms/step - loss: 0.3956 - accuracy: 0.8489\n",
      "Epoch 43/50\n",
      "30/30 [==============================] - 0s 1ms/step - loss: 0.3898 - accuracy: 0.8489\n",
      "Epoch 44/50\n",
      "30/30 [==============================] - 0s 1ms/step - loss: 0.4148 - accuracy: 0.8426\n",
      "Epoch 45/50\n",
      "30/30 [==============================] - 0s 1ms/step - loss: 0.3922 - accuracy: 0.8553\n",
      "Epoch 46/50\n",
      "30/30 [==============================] - 0s 1ms/step - loss: 0.3891 - accuracy: 0.8489\n",
      "Epoch 47/50\n",
      "30/30 [==============================] - 0s 2ms/step - loss: 0.4050 - accuracy: 0.8511\n",
      "Epoch 48/50\n",
      "30/30 [==============================] - 0s 1ms/step - loss: 0.3939 - accuracy: 0.8489\n",
      "Epoch 49/50\n",
      "30/30 [==============================] - 0s 1ms/step - loss: 0.3827 - accuracy: 0.8468\n",
      "Epoch 50/50\n",
      "30/30 [==============================] - 0s 1ms/step - loss: 0.3892 - accuracy: 0.8468\n"
     ]
    }
   ],
   "source": [
    "model.compile(loss='binary_crossentropy', optimizer='adam', metrics=['accuracy'])\n",
    "history = model.fit(X, y, epochs=50, batch_size=16)"
   ]
  }
 ],
 "metadata": {
  "kernelspec": {
   "display_name": "tensorflow",
   "language": "python",
   "name": "tensorflow"
  },
  "language_info": {
   "codemirror_mode": {
    "name": "ipython",
    "version": 3
   },
   "file_extension": ".py",
   "mimetype": "text/x-python",
   "name": "python",
   "nbconvert_exporter": "python",
   "pygments_lexer": "ipython3",
   "version": "3.9.18"
  }
 },
 "nbformat": 4,
 "nbformat_minor": 5
}
