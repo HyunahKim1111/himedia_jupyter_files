{
 "cells": [
  {
   "cell_type": "code",
   "execution_count": 1,
   "id": "b1801b15",
   "metadata": {},
   "outputs": [],
   "source": [
    "import selenium\n",
    "from selenium import webdriver\n",
    "from selenium.webdriver.chrome.service import Service as ChromeService\n",
    "from webdriver_manager.chrome import ChromeDriverManager\n",
    "from selenium.webdriver.common.keys import Keys\n",
    "from selenium.webdriver.common.by import By\n",
    "from bs4 import BeautifulSoup as bs\n",
    "import time\n",
    "import newyes24_dbio as ydb\n",
    "import pandas as pd "
   ]
  },
  {
   "cell_type": "code",
   "execution_count": 2,
   "id": "c7972c64",
   "metadata": {},
   "outputs": [],
   "source": [
    "# 웹 드라이버를 버전에 맞게 자동으로 다운 받고 옵션을 추가해 줌.\n",
    "driver = webdriver.Chrome(service=ChromeService(ChromeDriverManager().install()))\n",
    "driver.set_window_size(1920, 1080) # 웹 브라우저 해상도 조절\n",
    "driver.get(\"https://www.yes24.com/Product/Category/MonthWeekBestSeller\") # 크롤링 할 웹사이트 주소\n",
    "driver.find_element(By.CSS_SELECTOR, \"option[value='120']\").click() # 120개 보기가 클릭이 됨. 처음하자마자 120이 찍히도록 올려놓자."
   ]
  },
  {
   "cell_type": "code",
   "execution_count": 3,
   "id": "55c8e1c2",
   "metadata": {},
   "outputs": [],
   "source": [
    "driver.find_element(By.CSS_SELECTOR, \"option[value='120']\").click() # 120개 보기가 클릭이 됨."
   ]
  },
  {
   "cell_type": "code",
   "execution_count": 4,
   "id": "6f80553a",
   "metadata": {},
   "outputs": [],
   "source": [
    "all_books = [] #all_books에 page가 로딩이 돼서 모여있을 것임.\n",
    "for page in range(1,4):\n",
    "    time.sleep(8)\n",
    "    page_html = driver.page_source\n",
    "    soup = bs(page_html, \"lxml\") #page_html\n",
    "    book_list = soup.select('#yesBestList > li')\n",
    "    all_books.append(book_list)\n",
    "    driver.find_element(By.CSS_SELECTOR, f\"a[title='{page+1}']\").click\n",
    "driver.close()"
   ]
  },
  {
   "cell_type": "code",
   "execution_count": 5,
   "id": "7feae364",
   "metadata": {
    "scrolled": true
   },
   "outputs": [
    {
     "data": {
      "text/plain": [
       "120"
      ]
     },
     "execution_count": 5,
     "metadata": {},
     "output_type": "execute_result"
    }
   ],
   "source": [
    "len(all_books[0]) # 페이지에는 다 저장이 돼 있으니 for문을 돌려서 정보를 뽑으면 돼."
   ]
  },
  {
   "cell_type": "code",
   "execution_count": 6,
   "id": "035b41c3",
   "metadata": {},
   "outputs": [],
   "source": [
    "yy = 2023\n",
    "mon = 8"
   ]
  },
  {
   "cell_type": "code",
   "execution_count": 7,
   "id": "8c35e86f",
   "metadata": {},
   "outputs": [
    {
     "name": "stdout",
     "output_type": "stream",
     "text": [
      "359/360 세부정보 데이터 추출 중\r"
     ]
    },
    {
     "data": {
      "text/html": [
       "<div>\n",
       "<style scoped>\n",
       "    .dataframe tbody tr th:only-of-type {\n",
       "        vertical-align: middle;\n",
       "    }\n",
       "\n",
       "    .dataframe tbody tr th {\n",
       "        vertical-align: top;\n",
       "    }\n",
       "\n",
       "    .dataframe thead th {\n",
       "        text-align: right;\n",
       "    }\n",
       "</style>\n",
       "<table border=\"1\" class=\"dataframe\">\n",
       "  <thead>\n",
       "    <tr style=\"text-align: right;\">\n",
       "      <th></th>\n",
       "      <th>yy</th>\n",
       "      <th>mon</th>\n",
       "      <th>title_h</th>\n",
       "      <th>title_f</th>\n",
       "      <th>title_m</th>\n",
       "      <th>title_e</th>\n",
       "      <th>detail_link</th>\n",
       "      <th>author</th>\n",
       "      <th>publisher</th>\n",
       "      <th>pub_date</th>\n",
       "      <th>...</th>\n",
       "      <th>review_link</th>\n",
       "      <th>rating</th>\n",
       "      <th>tags</th>\n",
       "      <th>book_id</th>\n",
       "      <th>page</th>\n",
       "      <th>weight</th>\n",
       "      <th>size</th>\n",
       "      <th>category</th>\n",
       "      <th>book_intro</th>\n",
       "      <th>pub_book_intro</th>\n",
       "    </tr>\n",
       "  </thead>\n",
       "  <tbody>\n",
       "    <tr>\n",
       "      <th>0</th>\n",
       "      <td>2023</td>\n",
       "      <td>8</td>\n",
       "      <td>[도서]</td>\n",
       "      <td></td>\n",
       "      <td>세이노의 가르침</td>\n",
       "      <td></td>\n",
       "      <td>https://www.yes24.com/Product/Goods/117014613</td>\n",
       "      <td>[세이노(SayNo)]</td>\n",
       "      <td>데이원</td>\n",
       "      <td>2023년 03월</td>\n",
       "      <td>...</td>\n",
       "      <td>https://www.yes24.com/Product/Goods/117014613?...</td>\n",
       "      <td>9.1</td>\n",
       "      <td>[#성공신화, #성공하고싶다면, #삶이고민될때, #인생지침서, #크레마클럽에있어요]</td>\n",
       "      <td>117014613</td>\n",
       "      <td>736쪽</td>\n",
       "      <td>1,030g</td>\n",
       "      <td>153*224*40mm</td>\n",
       "      <td>[성공학/경력관리, 국내도서, 처세술/삶의 자세, 자기계발]</td>\n",
       "      <td>\\n\\r\\n재야의 명저 『세이노의 가르침』 2023년판 정식 출간!순자산 천억 원대...</td>\n",
       "      <td>\\n\\n\\r\\n재야의 명저 『세이노의 가르침』 2023년판 정식 출간!순자산 천억 ...</td>\n",
       "    </tr>\n",
       "    <tr>\n",
       "      <th>1</th>\n",
       "      <td>2023</td>\n",
       "      <td>8</td>\n",
       "      <td>[도서]</td>\n",
       "      <td></td>\n",
       "      <td>세이노의 가르침</td>\n",
       "      <td></td>\n",
       "      <td>https://www.yes24.com/Product/Goods/117014613</td>\n",
       "      <td>[세이노(SayNo)]</td>\n",
       "      <td>데이원</td>\n",
       "      <td>2023년 03월</td>\n",
       "      <td>...</td>\n",
       "      <td>https://www.yes24.com/Product/Goods/117014613?...</td>\n",
       "      <td>9.1</td>\n",
       "      <td>[#성공신화, #성공하고싶다면, #삶이고민될때, #인생지침서, #크레마클럽에있어요]</td>\n",
       "      <td>117014613</td>\n",
       "      <td>736쪽</td>\n",
       "      <td>1,030g</td>\n",
       "      <td>153*224*40mm</td>\n",
       "      <td>[성공학/경력관리, 국내도서, 처세술/삶의 자세, 자기계발]</td>\n",
       "      <td>\\n\\r\\n재야의 명저 『세이노의 가르침』 2023년판 정식 출간!순자산 천억 원대...</td>\n",
       "      <td>\\n\\n\\r\\n재야의 명저 『세이노의 가르침』 2023년판 정식 출간!순자산 천억 ...</td>\n",
       "    </tr>\n",
       "  </tbody>\n",
       "</table>\n",
       "<p>2 rows × 22 columns</p>\n",
       "</div>"
      ],
      "text/plain": [
       "     yy  mon title_h title_f   title_m title_e  \\\n",
       "0  2023    8    [도서]          세이노의 가르침           \n",
       "1  2023    8    [도서]          세이노의 가르침           \n",
       "\n",
       "                                     detail_link        author publisher  \\\n",
       "0  https://www.yes24.com/Product/Goods/117014613  [세이노(SayNo)]       데이원   \n",
       "1  https://www.yes24.com/Product/Goods/117014613  [세이노(SayNo)]       데이원   \n",
       "\n",
       "    pub_date  ...                                        review_link rating  \\\n",
       "0  2023년 03월  ...  https://www.yes24.com/Product/Goods/117014613?...    9.1   \n",
       "1  2023년 03월  ...  https://www.yes24.com/Product/Goods/117014613?...    9.1   \n",
       "\n",
       "                                             tags    book_id   page    weight  \\\n",
       "0  [#성공신화, #성공하고싶다면, #삶이고민될때, #인생지침서, #크레마클럽에있어요]  117014613  736쪽    1,030g    \n",
       "1  [#성공신화, #성공하고싶다면, #삶이고민될때, #인생지침서, #크레마클럽에있어요]  117014613  736쪽    1,030g    \n",
       "\n",
       "            size                           category  \\\n",
       "0   153*224*40mm  [성공학/경력관리, 국내도서, 처세술/삶의 자세, 자기계발]   \n",
       "1   153*224*40mm  [성공학/경력관리, 국내도서, 처세술/삶의 자세, 자기계발]   \n",
       "\n",
       "                                          book_intro  \\\n",
       "0  \\n\\r\\n재야의 명저 『세이노의 가르침』 2023년판 정식 출간!순자산 천억 원대...   \n",
       "1  \\n\\r\\n재야의 명저 『세이노의 가르침』 2023년판 정식 출간!순자산 천억 원대...   \n",
       "\n",
       "                                      pub_book_intro  \n",
       "0  \\n\\n\\r\\n재야의 명저 『세이노의 가르침』 2023년판 정식 출간!순자산 천억 ...  \n",
       "1  \\n\\n\\r\\n재야의 명저 『세이노의 가르침』 2023년판 정식 출간!순자산 천억 ...  \n",
       "\n",
       "[2 rows x 22 columns]"
      ]
     },
     "metadata": {},
     "output_type": "display_data"
    },
    {
     "name": "stdout",
     "output_type": "stream",
     "text": [
      "<class 'pandas.core.frame.DataFrame'>\n",
      "Int64Index: 1080 entries, 0 to 1079\n",
      "Data columns (total 22 columns):\n",
      " #   Column          Non-Null Count  Dtype \n",
      "---  ------          --------------  ----- \n",
      " 0   yy              1080 non-null   int64 \n",
      " 1   mon             1080 non-null   int64 \n",
      " 2   title_h         1080 non-null   object\n",
      " 3   title_f         1080 non-null   object\n",
      " 4   title_m         1080 non-null   object\n",
      " 5   title_e         1080 non-null   object\n",
      " 6   detail_link     1080 non-null   object\n",
      " 7   author          1080 non-null   object\n",
      " 8   publisher       1080 non-null   object\n",
      " 9   pub_date        1080 non-null   object\n",
      " 10  price           1080 non-null   object\n",
      " 11  n_reviews       1080 non-null   object\n",
      " 12  review_link     1080 non-null   object\n",
      " 13  rating          1080 non-null   object\n",
      " 14  tags            1080 non-null   object\n",
      " 15  book_id         1080 non-null   object\n",
      " 16  page            1080 non-null   object\n",
      " 17  weight          1080 non-null   object\n",
      " 18  size            1080 non-null   object\n",
      " 19  category        1080 non-null   object\n",
      " 20  book_intro      1080 non-null   object\n",
      " 21  pub_book_intro  1080 non-null   object\n",
      "dtypes: int64(2), object(20)\n",
      "memory usage: 194.1+ KB\n"
     ]
    }
   ],
   "source": [
    "# 8월 베스트셀러 1-3페이지 리스트\n",
    "result = pd.DataFrame()\n",
    "for book_list2 in all_books:\n",
    "    temp = ydb.extract_bookinfo(yy, mon, book_list2)\n",
    "    df = pd.DataFrame(temp, columns=['yy', 'mon', 'title_h', 'title_f', 'title_m', 'title_e', 'detail_link', 'author', 'publisher', 'pub_date', 'price', 'n_reviews', 'review_link', 'rating', 'tags'])\n",
    "    result = pd.concat([result, df])\n",
    "# 8월 베스트셀러 1-3페이지 목록의 세부정보 링크로 세부정보 수집\n",
    "detail_page_data = ydb.detail_page_info(result['detail_link']) #detail_link만 가져와서 []list에 담아준 것임.\n",
    "result['book_id'] = result['detail_link'].apply(lambda x:x.split(\"/\")[-1])#book_id라는 컬럼 네임 한번 더 만들기\n",
    "final_result_df = pd.merge(result, detail_page_data, how='inner', on=\"book_id\") #bood_id가 같은 애만 합치겠다.\n",
    "display(final_result_df.head(2))\n",
    "final_result_df.info()#최종적으로 몇개가 있는지 확인"
   ]
  },
  {
   "cell_type": "markdown",
   "id": "25cf84d3",
   "metadata": {},
   "source": [
    "mysql에 데이터 프레임 저장하기\n",
    "* pip install pymysql - python에서 mysql에 접속할 때 필요\n",
    "* pip install sqlalchemy - sql문을 간결하게 사용하기 위해서 사용 ORM"
   ]
  },
  {
   "cell_type": "code",
   "execution_count": 8,
   "id": "9694541b",
   "metadata": {},
   "outputs": [],
   "source": [
    "import pymysql\n",
    "from sqlalchemy import create_engine\n",
    "pymysql.install_as_MySQLdb()\n",
    "import MySQLdb\n"
   ]
  },
  {
   "cell_type": "code",
   "execution_count": 9,
   "id": "0ac9fe7b",
   "metadata": {},
   "outputs": [],
   "source": [
    "for col in final_result_df.columns:\n",
    "    final_result_df[col] = final_result_df[col].apply(str) # 모든 자료형 문자로 바꾸기"
   ]
  },
  {
   "cell_type": "code",
   "execution_count": 10,
   "id": "078b0fde",
   "metadata": {},
   "outputs": [],
   "source": [
    "engine = create_engine(\"mysql+mysqldb://root:\"+\"1234\"+ \"@127.0.0.1:3306/yes24best\", encoding='utf-8')\n",
    "conn = engine.connect() # 데이터베이스에 접속\n",
    "final_result_df.to_sql(name='best202308', con=engine, if_exists='append', index=False)\n",
    "conn.close()"
   ]
  },
  {
   "cell_type": "code",
   "execution_count": null,
   "id": "0705669a",
   "metadata": {},
   "outputs": [],
   "source": []
  },
  {
   "cell_type": "code",
   "execution_count": null,
   "id": "dfcc3658",
   "metadata": {},
   "outputs": [],
   "source": []
  }
 ],
 "metadata": {
  "kernelspec": {
   "display_name": "testenv",
   "language": "python",
   "name": "testenv"
  },
  "language_info": {
   "codemirror_mode": {
    "name": "ipython",
    "version": 3
   },
   "file_extension": ".py",
   "mimetype": "text/x-python",
   "name": "python",
   "nbconvert_exporter": "python",
   "pygments_lexer": "ipython3",
   "version": "3.8.17"
  }
 },
 "nbformat": 4,
 "nbformat_minor": 5
}
