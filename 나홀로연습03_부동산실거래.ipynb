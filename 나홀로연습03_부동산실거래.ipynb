{
 "cells": [
  {
   "cell_type": "code",
   "execution_count": 3,
   "id": "83d66521",
   "metadata": {},
   "outputs": [],
   "source": [
    "import os\n",
    "import csv\n",
    "import pandas as pd\n",
    "import numpy as np\n",
    "import matplotlib.pyplot as plt\n",
    "import seaborn as sns\n",
    "import koreanize_matplotlib"
   ]
  },
  {
   "cell_type": "code",
   "execution_count": 4,
   "id": "3e431a3a",
   "metadata": {
    "scrolled": true
   },
   "outputs": [
    {
     "data": {
      "text/plain": [
       "296"
      ]
     },
     "execution_count": 4,
     "metadata": {},
     "output_type": "execute_result"
    }
   ],
   "source": [
    "file_list = os.listdir(\"C:/bigdata/data/전국부동산실거래가\")\n",
    "len(file_list)"
   ]
  },
  {
   "cell_type": "code",
   "execution_count": 3,
   "id": "3f6e12e2",
   "metadata": {},
   "outputs": [
    {
     "data": {
      "text/plain": [
       "['1999_01.csv',\n",
       " '1999_02.csv',\n",
       " '1999_03.csv',\n",
       " '1999_04.csv',\n",
       " '1999_05.csv',\n",
       " '1999_06.csv',\n",
       " '1999_07.csv',\n",
       " '1999_08.csv',\n",
       " '1999_09.csv',\n",
       " '1999_10.csv',\n",
       " '1999_11.csv',\n",
       " '1999_12.csv',\n",
       " '2000_01.csv',\n",
       " '2000_02.csv',\n",
       " '2000_03.csv',\n",
       " '2000_04.csv',\n",
       " '2000_05.csv',\n",
       " '2000_06.csv',\n",
       " '2000_07.csv',\n",
       " '2000_08.csv',\n",
       " '2000_09.csv',\n",
       " '2000_10.csv',\n",
       " '2000_11.csv',\n",
       " '2000_12.csv',\n",
       " '2001_01.csv',\n",
       " '2001_02.csv',\n",
       " '2001_03.csv',\n",
       " '2001_04.csv',\n",
       " '2001_05.csv',\n",
       " '2001_06.csv',\n",
       " '2001_07.csv',\n",
       " '2001_08.csv',\n",
       " '2001_09.csv',\n",
       " '2001_10.csv',\n",
       " '2001_11.csv',\n",
       " '2001_12.csv',\n",
       " '2002_01.csv',\n",
       " '2002_02.csv',\n",
       " '2002_03.csv',\n",
       " '2002_04.csv',\n",
       " '2002_05.csv',\n",
       " '2002_06.csv',\n",
       " '2002_07.csv',\n",
       " '2002_08.csv',\n",
       " '2002_09.csv',\n",
       " '2002_10.csv',\n",
       " '2002_11.csv',\n",
       " '2002_12.csv',\n",
       " '2003_01.csv',\n",
       " '2003_02.csv',\n",
       " '2003_03.csv',\n",
       " '2003_04.csv',\n",
       " '2003_05.csv',\n",
       " '2003_06.csv',\n",
       " '2003_07.csv',\n",
       " '2003_08.csv',\n",
       " '2003_09.csv',\n",
       " '2003_10.csv',\n",
       " '2003_11.csv',\n",
       " '2003_12.csv',\n",
       " '2004_01.csv',\n",
       " '2004_02.csv',\n",
       " '2004_03.csv',\n",
       " '2004_04.csv',\n",
       " '2004_05.csv',\n",
       " '2004_06.csv',\n",
       " '2004_07.csv',\n",
       " '2004_08.csv',\n",
       " '2004_09.csv',\n",
       " '2004_10.csv',\n",
       " '2004_11.csv',\n",
       " '2004_12.csv',\n",
       " '2005_01.csv',\n",
       " '2005_02.csv',\n",
       " '2005_03.csv',\n",
       " '2005_04.csv',\n",
       " '2005_05.csv',\n",
       " '2005_06.csv',\n",
       " '2005_07.csv',\n",
       " '2005_08.csv',\n",
       " '2005_09.csv',\n",
       " '2005_10.csv',\n",
       " '2005_11.csv',\n",
       " '2005_12.csv',\n",
       " '2006_01.csv',\n",
       " '2006_02.csv',\n",
       " '2006_03.csv',\n",
       " '2006_04.csv',\n",
       " '2006_05.csv',\n",
       " '2006_06.csv',\n",
       " '2006_07.csv',\n",
       " '2006_08.csv',\n",
       " '2006_09.csv',\n",
       " '2006_10.csv',\n",
       " '2006_11.csv',\n",
       " '2006_12.csv',\n",
       " '2007_01.csv',\n",
       " '2007_02.csv',\n",
       " '2007_03.csv',\n",
       " '2007_04.csv',\n",
       " '2007_05.csv',\n",
       " '2007_06.csv',\n",
       " '2007_07.csv',\n",
       " '2007_08.csv',\n",
       " '2007_09.csv',\n",
       " '2007_10.csv',\n",
       " '2007_11.csv',\n",
       " '2007_12.csv',\n",
       " '2008_01.csv',\n",
       " '2008_02.csv',\n",
       " '2008_03.csv',\n",
       " '2008_04.csv',\n",
       " '2008_05.csv',\n",
       " '2008_06.csv',\n",
       " '2008_07.csv',\n",
       " '2008_08.csv',\n",
       " '2008_09.csv',\n",
       " '2008_10.csv',\n",
       " '2008_11.csv',\n",
       " '2008_12.csv',\n",
       " '2009_01.csv',\n",
       " '2009_02.csv',\n",
       " '2009_03.csv',\n",
       " '2009_04.csv',\n",
       " '2009_05.csv',\n",
       " '2009_06.csv',\n",
       " '2009_07.csv',\n",
       " '2009_08.csv',\n",
       " '2009_09.csv',\n",
       " '2009_10.csv',\n",
       " '2009_11.csv',\n",
       " '2009_12.csv',\n",
       " '2010_01.csv',\n",
       " '2010_02.csv',\n",
       " '2010_03.csv',\n",
       " '2010_04.csv',\n",
       " '2010_05.csv',\n",
       " '2010_06.csv',\n",
       " '2010_07.csv',\n",
       " '2010_08.csv',\n",
       " '2010_09.csv',\n",
       " '2010_10.csv',\n",
       " '2010_11.csv',\n",
       " '2010_12.csv',\n",
       " '2011_01.csv',\n",
       " '2011_02.csv',\n",
       " '2011_03.csv',\n",
       " '2011_04.csv',\n",
       " '2011_05.csv',\n",
       " '2011_06.csv',\n",
       " '2011_07.csv',\n",
       " '2011_08.csv',\n",
       " '2011_09.csv',\n",
       " '2011_10.csv',\n",
       " '2011_11.csv',\n",
       " '2011_12.csv',\n",
       " '2012_01.csv',\n",
       " '2012_02.csv',\n",
       " '2012_03.csv',\n",
       " '2012_04.csv',\n",
       " '2012_05.csv',\n",
       " '2012_06.csv',\n",
       " '2012_07.csv',\n",
       " '2012_08.csv',\n",
       " '2012_09.csv',\n",
       " '2012_10.csv',\n",
       " '2012_11.csv',\n",
       " '2012_12.csv',\n",
       " '2013_01.csv',\n",
       " '2013_02.csv',\n",
       " '2013_03.csv',\n",
       " '2013_04.csv',\n",
       " '2014_01.csv',\n",
       " '2014_02.csv',\n",
       " '2014_03.csv',\n",
       " '2014_04.csv',\n",
       " '2014_05.csv',\n",
       " '2014_06.csv',\n",
       " '2014_07.csv',\n",
       " '2014_08.csv',\n",
       " '2014_09.csv',\n",
       " '2014_10.csv',\n",
       " '2014_11.csv',\n",
       " '2014_12.csv',\n",
       " '2015_01.csv',\n",
       " '2015_02.csv',\n",
       " '2015_03.csv',\n",
       " '2015_04.csv',\n",
       " '2015_05.csv',\n",
       " '2015_06.csv',\n",
       " '2015_07.csv',\n",
       " '2015_08.csv',\n",
       " '2015_09.csv',\n",
       " '2015_10.csv',\n",
       " '2015_11.csv',\n",
       " '2015_12.csv',\n",
       " '2016_01.csv',\n",
       " '2016_02.csv',\n",
       " '2016_03.csv',\n",
       " '2016_04.csv',\n",
       " '2016_05.csv',\n",
       " '2016_06.csv',\n",
       " '2016_07.csv',\n",
       " '2016_08.csv',\n",
       " '2016_09.csv',\n",
       " '2016_10.csv',\n",
       " '2016_11.csv',\n",
       " '2016_12.csv',\n",
       " '2017_01.csv',\n",
       " '2017_02.csv',\n",
       " '2017_03.csv',\n",
       " '2017_04.csv',\n",
       " '2017_05.csv',\n",
       " '2017_06.csv',\n",
       " '2017_07.csv',\n",
       " '2017_08.csv',\n",
       " '2017_09.csv',\n",
       " '2017_10.csv',\n",
       " '2017_11.csv',\n",
       " '2017_12.csv',\n",
       " '2018_01.csv',\n",
       " '2018_02.csv',\n",
       " '2018_03.csv',\n",
       " '2018_04.csv',\n",
       " '2018_05.csv',\n",
       " '2018_06.csv',\n",
       " '2018_07.csv',\n",
       " '2018_08.csv',\n",
       " '2018_09.csv',\n",
       " '2018_10.csv',\n",
       " '2018_11.csv',\n",
       " '2018_12.csv',\n",
       " '2019_01.csv',\n",
       " '2019_02.csv',\n",
       " '2019_03.csv',\n",
       " '2019_04.csv',\n",
       " '2019_05.csv',\n",
       " '2019_06.csv',\n",
       " '2019_07.csv',\n",
       " '2019_08.csv',\n",
       " '2019_09.csv',\n",
       " '2019_10.csv',\n",
       " '2019_11.csv',\n",
       " '2019_12.csv',\n",
       " '2020_01.csv',\n",
       " '2020_02.csv',\n",
       " '2020_03.csv',\n",
       " '2020_04.csv',\n",
       " '2020_05.csv',\n",
       " '2020_06.csv',\n",
       " '2020_07.csv',\n",
       " '2020_08.csv',\n",
       " '2020_09.csv',\n",
       " '2020_10.csv',\n",
       " '2020_11.csv',\n",
       " '2020_12.csv',\n",
       " '2021_01.csv',\n",
       " '2021_02.csv',\n",
       " '2021_03.csv',\n",
       " '2021_04.csv',\n",
       " '2021_05.csv',\n",
       " '2021_06.csv',\n",
       " '2021_07.csv',\n",
       " '2021_08.csv',\n",
       " '2021_09.csv',\n",
       " '2021_10.csv',\n",
       " '2021_11.csv',\n",
       " '2021_12.csv',\n",
       " '2022_01.csv',\n",
       " '2022_02.csv',\n",
       " '2022_03.csv',\n",
       " '2022_04.csv',\n",
       " '2022_05.csv',\n",
       " '2022_06.csv',\n",
       " '2022_07.csv',\n",
       " '2022_08.csv',\n",
       " '2022_09.csv',\n",
       " '2022_10.csv',\n",
       " '2022_11.csv',\n",
       " '2022_12.csv',\n",
       " '2023_01.csv',\n",
       " '2023_02.csv',\n",
       " '2023_03.csv',\n",
       " '2023_04.csv',\n",
       " '2023_05.csv',\n",
       " '2023_06.csv',\n",
       " '2023_07.csv',\n",
       " '2023_08.csv',\n",
       " '법정동코드 전체자료.txt',\n",
       " '아파트 매매 상세자료 조회 기술문서.hwp',\n",
       " '아파트주소2좌표변환.csv',\n",
       " '아파트주소2좌표변환.xlsx',\n",
       " '전국부동산실거래가1999-2023.csv',\n",
       " '전국부동산실거래가2013-2023.csv',\n",
       " '전국학군정보.xlsx',\n",
       " '한국은행기준금리1999-2023.xlsx']"
      ]
     },
     "execution_count": 3,
     "metadata": {},
     "output_type": "execute_result"
    }
   ],
   "source": [
    "file_list # 마지막 8개는 다른 파일이 있으니까 부동산 파일만 보려면 거꾸로 -8로 불러와 함."
   ]
  },
  {
   "cell_type": "code",
   "execution_count": 4,
   "id": "af454fbb",
   "metadata": {},
   "outputs": [
    {
     "data": {
      "text/plain": [
       "['1999_01.csv',\n",
       " '1999_02.csv',\n",
       " '1999_03.csv',\n",
       " '1999_04.csv',\n",
       " '1999_05.csv',\n",
       " '1999_06.csv',\n",
       " '1999_07.csv',\n",
       " '1999_08.csv',\n",
       " '1999_09.csv',\n",
       " '1999_10.csv',\n",
       " '1999_11.csv',\n",
       " '1999_12.csv',\n",
       " '2000_01.csv',\n",
       " '2000_02.csv',\n",
       " '2000_03.csv',\n",
       " '2000_04.csv',\n",
       " '2000_05.csv',\n",
       " '2000_06.csv',\n",
       " '2000_07.csv',\n",
       " '2000_08.csv',\n",
       " '2000_09.csv',\n",
       " '2000_10.csv',\n",
       " '2000_11.csv',\n",
       " '2000_12.csv',\n",
       " '2001_01.csv',\n",
       " '2001_02.csv',\n",
       " '2001_03.csv',\n",
       " '2001_04.csv',\n",
       " '2001_05.csv',\n",
       " '2001_06.csv',\n",
       " '2001_07.csv',\n",
       " '2001_08.csv',\n",
       " '2001_09.csv',\n",
       " '2001_10.csv',\n",
       " '2001_11.csv',\n",
       " '2001_12.csv',\n",
       " '2002_01.csv',\n",
       " '2002_02.csv',\n",
       " '2002_03.csv',\n",
       " '2002_04.csv',\n",
       " '2002_05.csv',\n",
       " '2002_06.csv',\n",
       " '2002_07.csv',\n",
       " '2002_08.csv',\n",
       " '2002_09.csv',\n",
       " '2002_10.csv',\n",
       " '2002_11.csv',\n",
       " '2002_12.csv',\n",
       " '2003_01.csv',\n",
       " '2003_02.csv',\n",
       " '2003_03.csv',\n",
       " '2003_04.csv',\n",
       " '2003_05.csv',\n",
       " '2003_06.csv',\n",
       " '2003_07.csv',\n",
       " '2003_08.csv',\n",
       " '2003_09.csv',\n",
       " '2003_10.csv',\n",
       " '2003_11.csv',\n",
       " '2003_12.csv',\n",
       " '2004_01.csv',\n",
       " '2004_02.csv',\n",
       " '2004_03.csv',\n",
       " '2004_04.csv',\n",
       " '2004_05.csv',\n",
       " '2004_06.csv',\n",
       " '2004_07.csv',\n",
       " '2004_08.csv',\n",
       " '2004_09.csv',\n",
       " '2004_10.csv',\n",
       " '2004_11.csv',\n",
       " '2004_12.csv',\n",
       " '2005_01.csv',\n",
       " '2005_02.csv',\n",
       " '2005_03.csv',\n",
       " '2005_04.csv',\n",
       " '2005_05.csv',\n",
       " '2005_06.csv',\n",
       " '2005_07.csv',\n",
       " '2005_08.csv',\n",
       " '2005_09.csv',\n",
       " '2005_10.csv',\n",
       " '2005_11.csv',\n",
       " '2005_12.csv',\n",
       " '2006_01.csv',\n",
       " '2006_02.csv',\n",
       " '2006_03.csv',\n",
       " '2006_04.csv',\n",
       " '2006_05.csv',\n",
       " '2006_06.csv',\n",
       " '2006_07.csv',\n",
       " '2006_08.csv',\n",
       " '2006_09.csv',\n",
       " '2006_10.csv',\n",
       " '2006_11.csv',\n",
       " '2006_12.csv',\n",
       " '2007_01.csv',\n",
       " '2007_02.csv',\n",
       " '2007_03.csv',\n",
       " '2007_04.csv',\n",
       " '2007_05.csv',\n",
       " '2007_06.csv',\n",
       " '2007_07.csv',\n",
       " '2007_08.csv',\n",
       " '2007_09.csv',\n",
       " '2007_10.csv',\n",
       " '2007_11.csv',\n",
       " '2007_12.csv',\n",
       " '2008_01.csv',\n",
       " '2008_02.csv',\n",
       " '2008_03.csv',\n",
       " '2008_04.csv',\n",
       " '2008_05.csv',\n",
       " '2008_06.csv',\n",
       " '2008_07.csv',\n",
       " '2008_08.csv',\n",
       " '2008_09.csv',\n",
       " '2008_10.csv',\n",
       " '2008_11.csv',\n",
       " '2008_12.csv',\n",
       " '2009_01.csv',\n",
       " '2009_02.csv',\n",
       " '2009_03.csv',\n",
       " '2009_04.csv',\n",
       " '2009_05.csv',\n",
       " '2009_06.csv',\n",
       " '2009_07.csv',\n",
       " '2009_08.csv',\n",
       " '2009_09.csv',\n",
       " '2009_10.csv',\n",
       " '2009_11.csv',\n",
       " '2009_12.csv',\n",
       " '2010_01.csv',\n",
       " '2010_02.csv',\n",
       " '2010_03.csv',\n",
       " '2010_04.csv',\n",
       " '2010_05.csv',\n",
       " '2010_06.csv',\n",
       " '2010_07.csv',\n",
       " '2010_08.csv',\n",
       " '2010_09.csv',\n",
       " '2010_10.csv',\n",
       " '2010_11.csv',\n",
       " '2010_12.csv',\n",
       " '2011_01.csv',\n",
       " '2011_02.csv',\n",
       " '2011_03.csv',\n",
       " '2011_04.csv',\n",
       " '2011_05.csv',\n",
       " '2011_06.csv',\n",
       " '2011_07.csv',\n",
       " '2011_08.csv',\n",
       " '2011_09.csv',\n",
       " '2011_10.csv',\n",
       " '2011_11.csv',\n",
       " '2011_12.csv',\n",
       " '2012_01.csv',\n",
       " '2012_02.csv',\n",
       " '2012_03.csv',\n",
       " '2012_04.csv',\n",
       " '2012_05.csv',\n",
       " '2012_06.csv',\n",
       " '2012_07.csv',\n",
       " '2012_08.csv',\n",
       " '2012_09.csv',\n",
       " '2012_10.csv',\n",
       " '2012_11.csv',\n",
       " '2012_12.csv',\n",
       " '2013_01.csv',\n",
       " '2013_02.csv',\n",
       " '2013_03.csv',\n",
       " '2013_04.csv',\n",
       " '2014_01.csv',\n",
       " '2014_02.csv',\n",
       " '2014_03.csv',\n",
       " '2014_04.csv',\n",
       " '2014_05.csv',\n",
       " '2014_06.csv',\n",
       " '2014_07.csv',\n",
       " '2014_08.csv',\n",
       " '2014_09.csv',\n",
       " '2014_10.csv',\n",
       " '2014_11.csv',\n",
       " '2014_12.csv',\n",
       " '2015_01.csv',\n",
       " '2015_02.csv',\n",
       " '2015_03.csv',\n",
       " '2015_04.csv',\n",
       " '2015_05.csv',\n",
       " '2015_06.csv',\n",
       " '2015_07.csv',\n",
       " '2015_08.csv',\n",
       " '2015_09.csv',\n",
       " '2015_10.csv',\n",
       " '2015_11.csv',\n",
       " '2015_12.csv',\n",
       " '2016_01.csv',\n",
       " '2016_02.csv',\n",
       " '2016_03.csv',\n",
       " '2016_04.csv',\n",
       " '2016_05.csv',\n",
       " '2016_06.csv',\n",
       " '2016_07.csv',\n",
       " '2016_08.csv',\n",
       " '2016_09.csv',\n",
       " '2016_10.csv',\n",
       " '2016_11.csv',\n",
       " '2016_12.csv',\n",
       " '2017_01.csv',\n",
       " '2017_02.csv',\n",
       " '2017_03.csv',\n",
       " '2017_04.csv',\n",
       " '2017_05.csv',\n",
       " '2017_06.csv',\n",
       " '2017_07.csv',\n",
       " '2017_08.csv',\n",
       " '2017_09.csv',\n",
       " '2017_10.csv',\n",
       " '2017_11.csv',\n",
       " '2017_12.csv',\n",
       " '2018_01.csv',\n",
       " '2018_02.csv',\n",
       " '2018_03.csv',\n",
       " '2018_04.csv',\n",
       " '2018_05.csv',\n",
       " '2018_06.csv',\n",
       " '2018_07.csv',\n",
       " '2018_08.csv',\n",
       " '2018_09.csv',\n",
       " '2018_10.csv',\n",
       " '2018_11.csv',\n",
       " '2018_12.csv',\n",
       " '2019_01.csv',\n",
       " '2019_02.csv',\n",
       " '2019_03.csv',\n",
       " '2019_04.csv',\n",
       " '2019_05.csv',\n",
       " '2019_06.csv',\n",
       " '2019_07.csv',\n",
       " '2019_08.csv',\n",
       " '2019_09.csv',\n",
       " '2019_10.csv',\n",
       " '2019_11.csv',\n",
       " '2019_12.csv',\n",
       " '2020_01.csv',\n",
       " '2020_02.csv',\n",
       " '2020_03.csv',\n",
       " '2020_04.csv',\n",
       " '2020_05.csv',\n",
       " '2020_06.csv',\n",
       " '2020_07.csv',\n",
       " '2020_08.csv',\n",
       " '2020_09.csv',\n",
       " '2020_10.csv',\n",
       " '2020_11.csv',\n",
       " '2020_12.csv',\n",
       " '2021_01.csv',\n",
       " '2021_02.csv',\n",
       " '2021_03.csv',\n",
       " '2021_04.csv',\n",
       " '2021_05.csv',\n",
       " '2021_06.csv',\n",
       " '2021_07.csv',\n",
       " '2021_08.csv',\n",
       " '2021_09.csv',\n",
       " '2021_10.csv',\n",
       " '2021_11.csv',\n",
       " '2021_12.csv',\n",
       " '2022_01.csv',\n",
       " '2022_02.csv',\n",
       " '2022_03.csv',\n",
       " '2022_04.csv',\n",
       " '2022_05.csv',\n",
       " '2022_06.csv',\n",
       " '2022_07.csv',\n",
       " '2022_08.csv',\n",
       " '2022_09.csv',\n",
       " '2022_10.csv',\n",
       " '2022_11.csv',\n",
       " '2022_12.csv',\n",
       " '2023_01.csv',\n",
       " '2023_02.csv',\n",
       " '2023_03.csv',\n",
       " '2023_04.csv',\n",
       " '2023_05.csv',\n",
       " '2023_06.csv',\n",
       " '2023_07.csv',\n",
       " '2023_08.csv']"
      ]
     },
     "execution_count": 4,
     "metadata": {},
     "output_type": "execute_result"
    }
   ],
   "source": [
    "file_list[:-8]"
   ]
  },
  {
   "cell_type": "code",
   "execution_count": 5,
   "id": "e5f45596",
   "metadata": {},
   "outputs": [],
   "source": [
    "#data = pd.read_csv('C:/bigdata/data/전국부동산실거래가/2023_08.csv')"
   ]
  },
  {
   "cell_type": "markdown",
   "id": "c4e0ea6f",
   "metadata": {},
   "source": [
    "* 'utf-8' codec can't decode byte 0xa1 in position 1: invalid start byte 오류 --> encoding='cp949'"
   ]
  },
  {
   "cell_type": "markdown",
   "id": "01c5784f",
   "metadata": {},
   "source": [
    "* Error tokenizing data. C error: Expected 1 fields in line 16, saw 16 오류 --> skiprows=15  15번째줄까지 다른 내용이 있기 때문에 난 오류"
   ]
  },
  {
   "cell_type": "code",
   "execution_count": 5,
   "id": "7daf2c1a",
   "metadata": {},
   "outputs": [],
   "source": [
    "data = pd.read_csv('C:/bigdata/data/전국부동산실거래가/2023_08.csv',skiprows=15, encoding='cp949')"
   ]
  },
  {
   "cell_type": "code",
   "execution_count": 7,
   "id": "a77b4d13",
   "metadata": {},
   "outputs": [
    {
     "data": {
      "text/html": [
       "<div>\n",
       "<style scoped>\n",
       "    .dataframe tbody tr th:only-of-type {\n",
       "        vertical-align: middle;\n",
       "    }\n",
       "\n",
       "    .dataframe tbody tr th {\n",
       "        vertical-align: top;\n",
       "    }\n",
       "\n",
       "    .dataframe thead th {\n",
       "        text-align: right;\n",
       "    }\n",
       "</style>\n",
       "<table border=\"1\" class=\"dataframe\">\n",
       "  <thead>\n",
       "    <tr style=\"text-align: right;\">\n",
       "      <th></th>\n",
       "      <th>시군구</th>\n",
       "      <th>번지</th>\n",
       "      <th>본번</th>\n",
       "      <th>부번</th>\n",
       "      <th>단지명</th>\n",
       "      <th>전용면적(㎡)</th>\n",
       "      <th>계약년월</th>\n",
       "      <th>계약일</th>\n",
       "      <th>거래금액(만원)</th>\n",
       "      <th>층</th>\n",
       "      <th>건축년도</th>\n",
       "      <th>도로명</th>\n",
       "      <th>해제사유발생일</th>\n",
       "      <th>등기신청일자</th>\n",
       "      <th>거래유형</th>\n",
       "      <th>중개사소재지</th>\n",
       "    </tr>\n",
       "  </thead>\n",
       "  <tbody>\n",
       "    <tr>\n",
       "      <th>0</th>\n",
       "      <td>강원특별자치도 강릉시 견소동</td>\n",
       "      <td>202</td>\n",
       "      <td>0202</td>\n",
       "      <td>0</td>\n",
       "      <td>송정한신</td>\n",
       "      <td>59.800</td>\n",
       "      <td>202308</td>\n",
       "      <td>8</td>\n",
       "      <td>23,000</td>\n",
       "      <td>9</td>\n",
       "      <td>1997.0</td>\n",
       "      <td>경강로2539번길 8</td>\n",
       "      <td>NaN</td>\n",
       "      <td></td>\n",
       "      <td>중개거래</td>\n",
       "      <td>강릉시</td>\n",
       "    </tr>\n",
       "    <tr>\n",
       "      <th>1</th>\n",
       "      <td>강원특별자치도 강릉시 견소동</td>\n",
       "      <td>202</td>\n",
       "      <td>0202</td>\n",
       "      <td>0</td>\n",
       "      <td>송정한신</td>\n",
       "      <td>84.945</td>\n",
       "      <td>202308</td>\n",
       "      <td>14</td>\n",
       "      <td>31,000</td>\n",
       "      <td>13</td>\n",
       "      <td>1997.0</td>\n",
       "      <td>경강로2539번길 8</td>\n",
       "      <td>NaN</td>\n",
       "      <td></td>\n",
       "      <td>중개거래</td>\n",
       "      <td>강릉시</td>\n",
       "    </tr>\n",
       "  </tbody>\n",
       "</table>\n",
       "</div>"
      ],
      "text/plain": [
       "               시군구   번지    본번  부번   단지명  전용면적(㎡)    계약년월  계약일 거래금액(만원)   층  \\\n",
       "0  강원특별자치도 강릉시 견소동  202  0202   0  송정한신   59.800  202308    8   23,000   9   \n",
       "1  강원특별자치도 강릉시 견소동  202  0202   0  송정한신   84.945  202308   14   31,000  13   \n",
       "\n",
       "     건축년도          도로명  해제사유발생일 등기신청일자  거래유형 중개사소재지  \n",
       "0  1997.0  경강로2539번길 8      NaN         중개거래    강릉시  \n",
       "1  1997.0  경강로2539번길 8      NaN         중개거래    강릉시  "
      ]
     },
     "execution_count": 7,
     "metadata": {},
     "output_type": "execute_result"
    }
   ],
   "source": [
    "data.head(2)"
   ]
  },
  {
   "cell_type": "code",
   "execution_count": 6,
   "id": "934fe6a9",
   "metadata": {
    "scrolled": true
   },
   "outputs": [
    {
     "name": "stdout",
     "output_type": "stream",
     "text": [
      "204\r"
     ]
    },
    {
     "name": "stderr",
     "output_type": "stream",
     "text": [
      "C:\\Users\\Jasmine\\AppData\\Local\\Temp\\ipykernel_14960\\3186835542.py:6: DtypeWarning: Columns (2) have mixed types. Specify dtype option on import or set low_memory=False.\n",
      "  data = pd.read_csv(f'C:/bigdata/data/전국부동산실거래가/{i}', skiprows=15, encoding='cp949')\n"
     ]
    },
    {
     "name": "stdout",
     "output_type": "stream",
     "text": [
      "205\r"
     ]
    },
    {
     "name": "stderr",
     "output_type": "stream",
     "text": [
      "C:\\Users\\Jasmine\\AppData\\Local\\Temp\\ipykernel_14960\\3186835542.py:6: DtypeWarning: Columns (2) have mixed types. Specify dtype option on import or set low_memory=False.\n",
      "  data = pd.read_csv(f'C:/bigdata/data/전국부동산실거래가/{i}', skiprows=15, encoding='cp949')\n"
     ]
    },
    {
     "name": "stdout",
     "output_type": "stream",
     "text": [
      "206\r"
     ]
    },
    {
     "name": "stderr",
     "output_type": "stream",
     "text": [
      "C:\\Users\\Jasmine\\AppData\\Local\\Temp\\ipykernel_14960\\3186835542.py:6: DtypeWarning: Columns (2) have mixed types. Specify dtype option on import or set low_memory=False.\n",
      "  data = pd.read_csv(f'C:/bigdata/data/전국부동산실거래가/{i}', skiprows=15, encoding='cp949')\n"
     ]
    },
    {
     "name": "stdout",
     "output_type": "stream",
     "text": [
      "207\r"
     ]
    },
    {
     "name": "stderr",
     "output_type": "stream",
     "text": [
      "C:\\Users\\Jasmine\\AppData\\Local\\Temp\\ipykernel_14960\\3186835542.py:6: DtypeWarning: Columns (2) have mixed types. Specify dtype option on import or set low_memory=False.\n",
      "  data = pd.read_csv(f'C:/bigdata/data/전국부동산실거래가/{i}', skiprows=15, encoding='cp949')\n"
     ]
    },
    {
     "name": "stdout",
     "output_type": "stream",
     "text": [
      "209\r"
     ]
    },
    {
     "name": "stderr",
     "output_type": "stream",
     "text": [
      "C:\\Users\\Jasmine\\AppData\\Local\\Temp\\ipykernel_14960\\3186835542.py:6: DtypeWarning: Columns (2) have mixed types. Specify dtype option on import or set low_memory=False.\n",
      "  data = pd.read_csv(f'C:/bigdata/data/전국부동산실거래가/{i}', skiprows=15, encoding='cp949')\n"
     ]
    },
    {
     "name": "stdout",
     "output_type": "stream",
     "text": [
      "210\r"
     ]
    },
    {
     "name": "stderr",
     "output_type": "stream",
     "text": [
      "C:\\Users\\Jasmine\\AppData\\Local\\Temp\\ipykernel_14960\\3186835542.py:6: DtypeWarning: Columns (2) have mixed types. Specify dtype option on import or set low_memory=False.\n",
      "  data = pd.read_csv(f'C:/bigdata/data/전국부동산실거래가/{i}', skiprows=15, encoding='cp949')\n"
     ]
    },
    {
     "name": "stdout",
     "output_type": "stream",
     "text": [
      "211\r"
     ]
    },
    {
     "name": "stderr",
     "output_type": "stream",
     "text": [
      "C:\\Users\\Jasmine\\AppData\\Local\\Temp\\ipykernel_14960\\3186835542.py:6: DtypeWarning: Columns (2) have mixed types. Specify dtype option on import or set low_memory=False.\n",
      "  data = pd.read_csv(f'C:/bigdata/data/전국부동산실거래가/{i}', skiprows=15, encoding='cp949')\n"
     ]
    },
    {
     "name": "stdout",
     "output_type": "stream",
     "text": [
      "212\r"
     ]
    },
    {
     "name": "stderr",
     "output_type": "stream",
     "text": [
      "C:\\Users\\Jasmine\\AppData\\Local\\Temp\\ipykernel_14960\\3186835542.py:6: DtypeWarning: Columns (2) have mixed types. Specify dtype option on import or set low_memory=False.\n",
      "  data = pd.read_csv(f'C:/bigdata/data/전국부동산실거래가/{i}', skiprows=15, encoding='cp949')\n"
     ]
    },
    {
     "name": "stdout",
     "output_type": "stream",
     "text": [
      "213\r"
     ]
    },
    {
     "name": "stderr",
     "output_type": "stream",
     "text": [
      "C:\\Users\\Jasmine\\AppData\\Local\\Temp\\ipykernel_14960\\3186835542.py:6: DtypeWarning: Columns (2) have mixed types. Specify dtype option on import or set low_memory=False.\n",
      "  data = pd.read_csv(f'C:/bigdata/data/전국부동산실거래가/{i}', skiprows=15, encoding='cp949')\n"
     ]
    },
    {
     "name": "stdout",
     "output_type": "stream",
     "text": [
      "214\r"
     ]
    },
    {
     "name": "stderr",
     "output_type": "stream",
     "text": [
      "C:\\Users\\Jasmine\\AppData\\Local\\Temp\\ipykernel_14960\\3186835542.py:6: DtypeWarning: Columns (2) have mixed types. Specify dtype option on import or set low_memory=False.\n",
      "  data = pd.read_csv(f'C:/bigdata/data/전국부동산실거래가/{i}', skiprows=15, encoding='cp949')\n"
     ]
    },
    {
     "name": "stdout",
     "output_type": "stream",
     "text": [
      "215\r"
     ]
    },
    {
     "name": "stderr",
     "output_type": "stream",
     "text": [
      "C:\\Users\\Jasmine\\AppData\\Local\\Temp\\ipykernel_14960\\3186835542.py:6: DtypeWarning: Columns (2) have mixed types. Specify dtype option on import or set low_memory=False.\n",
      "  data = pd.read_csv(f'C:/bigdata/data/전국부동산실거래가/{i}', skiprows=15, encoding='cp949')\n"
     ]
    },
    {
     "name": "stdout",
     "output_type": "stream",
     "text": [
      "217\r"
     ]
    },
    {
     "name": "stderr",
     "output_type": "stream",
     "text": [
      "C:\\Users\\Jasmine\\AppData\\Local\\Temp\\ipykernel_14960\\3186835542.py:6: DtypeWarning: Columns (2) have mixed types. Specify dtype option on import or set low_memory=False.\n",
      "  data = pd.read_csv(f'C:/bigdata/data/전국부동산실거래가/{i}', skiprows=15, encoding='cp949')\n"
     ]
    },
    {
     "name": "stdout",
     "output_type": "stream",
     "text": [
      "219\r"
     ]
    },
    {
     "name": "stderr",
     "output_type": "stream",
     "text": [
      "C:\\Users\\Jasmine\\AppData\\Local\\Temp\\ipykernel_14960\\3186835542.py:6: DtypeWarning: Columns (2) have mixed types. Specify dtype option on import or set low_memory=False.\n",
      "  data = pd.read_csv(f'C:/bigdata/data/전국부동산실거래가/{i}', skiprows=15, encoding='cp949')\n"
     ]
    },
    {
     "name": "stdout",
     "output_type": "stream",
     "text": [
      "220\r"
     ]
    },
    {
     "name": "stderr",
     "output_type": "stream",
     "text": [
      "C:\\Users\\Jasmine\\AppData\\Local\\Temp\\ipykernel_14960\\3186835542.py:6: DtypeWarning: Columns (2) have mixed types. Specify dtype option on import or set low_memory=False.\n",
      "  data = pd.read_csv(f'C:/bigdata/data/전국부동산실거래가/{i}', skiprows=15, encoding='cp949')\n"
     ]
    },
    {
     "name": "stdout",
     "output_type": "stream",
     "text": [
      "221\r"
     ]
    },
    {
     "name": "stderr",
     "output_type": "stream",
     "text": [
      "C:\\Users\\Jasmine\\AppData\\Local\\Temp\\ipykernel_14960\\3186835542.py:6: DtypeWarning: Columns (2) have mixed types. Specify dtype option on import or set low_memory=False.\n",
      "  data = pd.read_csv(f'C:/bigdata/data/전국부동산실거래가/{i}', skiprows=15, encoding='cp949')\n"
     ]
    },
    {
     "name": "stdout",
     "output_type": "stream",
     "text": [
      "222\r"
     ]
    },
    {
     "name": "stderr",
     "output_type": "stream",
     "text": [
      "C:\\Users\\Jasmine\\AppData\\Local\\Temp\\ipykernel_14960\\3186835542.py:6: DtypeWarning: Columns (2) have mixed types. Specify dtype option on import or set low_memory=False.\n",
      "  data = pd.read_csv(f'C:/bigdata/data/전국부동산실거래가/{i}', skiprows=15, encoding='cp949')\n"
     ]
    },
    {
     "name": "stdout",
     "output_type": "stream",
     "text": [
      "223\r"
     ]
    },
    {
     "name": "stderr",
     "output_type": "stream",
     "text": [
      "C:\\Users\\Jasmine\\AppData\\Local\\Temp\\ipykernel_14960\\3186835542.py:6: DtypeWarning: Columns (2) have mixed types. Specify dtype option on import or set low_memory=False.\n",
      "  data = pd.read_csv(f'C:/bigdata/data/전국부동산실거래가/{i}', skiprows=15, encoding='cp949')\n"
     ]
    },
    {
     "name": "stdout",
     "output_type": "stream",
     "text": [
      "224\r"
     ]
    },
    {
     "name": "stderr",
     "output_type": "stream",
     "text": [
      "C:\\Users\\Jasmine\\AppData\\Local\\Temp\\ipykernel_14960\\3186835542.py:6: DtypeWarning: Columns (2) have mixed types. Specify dtype option on import or set low_memory=False.\n",
      "  data = pd.read_csv(f'C:/bigdata/data/전국부동산실거래가/{i}', skiprows=15, encoding='cp949')\n"
     ]
    },
    {
     "name": "stdout",
     "output_type": "stream",
     "text": [
      "225\r"
     ]
    },
    {
     "name": "stderr",
     "output_type": "stream",
     "text": [
      "C:\\Users\\Jasmine\\AppData\\Local\\Temp\\ipykernel_14960\\3186835542.py:6: DtypeWarning: Columns (2) have mixed types. Specify dtype option on import or set low_memory=False.\n",
      "  data = pd.read_csv(f'C:/bigdata/data/전국부동산실거래가/{i}', skiprows=15, encoding='cp949')\n"
     ]
    },
    {
     "name": "stdout",
     "output_type": "stream",
     "text": [
      "227\r"
     ]
    },
    {
     "name": "stderr",
     "output_type": "stream",
     "text": [
      "C:\\Users\\Jasmine\\AppData\\Local\\Temp\\ipykernel_14960\\3186835542.py:6: DtypeWarning: Columns (2) have mixed types. Specify dtype option on import or set low_memory=False.\n",
      "  data = pd.read_csv(f'C:/bigdata/data/전국부동산실거래가/{i}', skiprows=15, encoding='cp949')\n"
     ]
    },
    {
     "name": "stdout",
     "output_type": "stream",
     "text": [
      "228\r"
     ]
    },
    {
     "name": "stderr",
     "output_type": "stream",
     "text": [
      "C:\\Users\\Jasmine\\AppData\\Local\\Temp\\ipykernel_14960\\3186835542.py:6: DtypeWarning: Columns (2) have mixed types. Specify dtype option on import or set low_memory=False.\n",
      "  data = pd.read_csv(f'C:/bigdata/data/전국부동산실거래가/{i}', skiprows=15, encoding='cp949')\n"
     ]
    },
    {
     "name": "stdout",
     "output_type": "stream",
     "text": [
      "229\r"
     ]
    },
    {
     "name": "stderr",
     "output_type": "stream",
     "text": [
      "C:\\Users\\Jasmine\\AppData\\Local\\Temp\\ipykernel_14960\\3186835542.py:6: DtypeWarning: Columns (2) have mixed types. Specify dtype option on import or set low_memory=False.\n",
      "  data = pd.read_csv(f'C:/bigdata/data/전국부동산실거래가/{i}', skiprows=15, encoding='cp949')\n"
     ]
    },
    {
     "name": "stdout",
     "output_type": "stream",
     "text": [
      "236\r"
     ]
    },
    {
     "name": "stderr",
     "output_type": "stream",
     "text": [
      "C:\\Users\\Jasmine\\AppData\\Local\\Temp\\ipykernel_14960\\3186835542.py:6: DtypeWarning: Columns (2) have mixed types. Specify dtype option on import or set low_memory=False.\n",
      "  data = pd.read_csv(f'C:/bigdata/data/전국부동산실거래가/{i}', skiprows=15, encoding='cp949')\n"
     ]
    },
    {
     "name": "stdout",
     "output_type": "stream",
     "text": [
      "237\r"
     ]
    },
    {
     "name": "stderr",
     "output_type": "stream",
     "text": [
      "C:\\Users\\Jasmine\\AppData\\Local\\Temp\\ipykernel_14960\\3186835542.py:6: DtypeWarning: Columns (2) have mixed types. Specify dtype option on import or set low_memory=False.\n",
      "  data = pd.read_csv(f'C:/bigdata/data/전국부동산실거래가/{i}', skiprows=15, encoding='cp949')\n"
     ]
    },
    {
     "name": "stdout",
     "output_type": "stream",
     "text": [
      "238\r"
     ]
    },
    {
     "name": "stderr",
     "output_type": "stream",
     "text": [
      "C:\\Users\\Jasmine\\AppData\\Local\\Temp\\ipykernel_14960\\3186835542.py:6: DtypeWarning: Columns (2) have mixed types. Specify dtype option on import or set low_memory=False.\n",
      "  data = pd.read_csv(f'C:/bigdata/data/전국부동산실거래가/{i}', skiprows=15, encoding='cp949')\n"
     ]
    },
    {
     "name": "stdout",
     "output_type": "stream",
     "text": [
      "239\r"
     ]
    },
    {
     "name": "stderr",
     "output_type": "stream",
     "text": [
      "C:\\Users\\Jasmine\\AppData\\Local\\Temp\\ipykernel_14960\\3186835542.py:6: DtypeWarning: Columns (2) have mixed types. Specify dtype option on import or set low_memory=False.\n",
      "  data = pd.read_csv(f'C:/bigdata/data/전국부동산실거래가/{i}', skiprows=15, encoding='cp949')\n"
     ]
    },
    {
     "name": "stdout",
     "output_type": "stream",
     "text": [
      "240\r"
     ]
    },
    {
     "name": "stderr",
     "output_type": "stream",
     "text": [
      "C:\\Users\\Jasmine\\AppData\\Local\\Temp\\ipykernel_14960\\3186835542.py:6: DtypeWarning: Columns (2) have mixed types. Specify dtype option on import or set low_memory=False.\n",
      "  data = pd.read_csv(f'C:/bigdata/data/전국부동산실거래가/{i}', skiprows=15, encoding='cp949')\n"
     ]
    },
    {
     "name": "stdout",
     "output_type": "stream",
     "text": [
      "241\r"
     ]
    },
    {
     "name": "stderr",
     "output_type": "stream",
     "text": [
      "C:\\Users\\Jasmine\\AppData\\Local\\Temp\\ipykernel_14960\\3186835542.py:6: DtypeWarning: Columns (2) have mixed types. Specify dtype option on import or set low_memory=False.\n",
      "  data = pd.read_csv(f'C:/bigdata/data/전국부동산실거래가/{i}', skiprows=15, encoding='cp949')\n"
     ]
    },
    {
     "name": "stdout",
     "output_type": "stream",
     "text": [
      "242\r"
     ]
    },
    {
     "name": "stderr",
     "output_type": "stream",
     "text": [
      "C:\\Users\\Jasmine\\AppData\\Local\\Temp\\ipykernel_14960\\3186835542.py:6: DtypeWarning: Columns (2) have mixed types. Specify dtype option on import or set low_memory=False.\n",
      "  data = pd.read_csv(f'C:/bigdata/data/전국부동산실거래가/{i}', skiprows=15, encoding='cp949')\n"
     ]
    },
    {
     "name": "stdout",
     "output_type": "stream",
     "text": [
      "243\r"
     ]
    },
    {
     "name": "stderr",
     "output_type": "stream",
     "text": [
      "C:\\Users\\Jasmine\\AppData\\Local\\Temp\\ipykernel_14960\\3186835542.py:6: DtypeWarning: Columns (2) have mixed types. Specify dtype option on import or set low_memory=False.\n",
      "  data = pd.read_csv(f'C:/bigdata/data/전국부동산실거래가/{i}', skiprows=15, encoding='cp949')\n"
     ]
    },
    {
     "name": "stdout",
     "output_type": "stream",
     "text": [
      "244\r"
     ]
    },
    {
     "name": "stderr",
     "output_type": "stream",
     "text": [
      "C:\\Users\\Jasmine\\AppData\\Local\\Temp\\ipykernel_14960\\3186835542.py:6: DtypeWarning: Columns (2) have mixed types. Specify dtype option on import or set low_memory=False.\n",
      "  data = pd.read_csv(f'C:/bigdata/data/전국부동산실거래가/{i}', skiprows=15, encoding='cp949')\n"
     ]
    },
    {
     "name": "stdout",
     "output_type": "stream",
     "text": [
      "245\r"
     ]
    },
    {
     "name": "stderr",
     "output_type": "stream",
     "text": [
      "C:\\Users\\Jasmine\\AppData\\Local\\Temp\\ipykernel_14960\\3186835542.py:6: DtypeWarning: Columns (2) have mixed types. Specify dtype option on import or set low_memory=False.\n",
      "  data = pd.read_csv(f'C:/bigdata/data/전국부동산실거래가/{i}', skiprows=15, encoding='cp949')\n"
     ]
    },
    {
     "name": "stdout",
     "output_type": "stream",
     "text": [
      "246\r"
     ]
    },
    {
     "name": "stderr",
     "output_type": "stream",
     "text": [
      "C:\\Users\\Jasmine\\AppData\\Local\\Temp\\ipykernel_14960\\3186835542.py:6: DtypeWarning: Columns (2) have mixed types. Specify dtype option on import or set low_memory=False.\n",
      "  data = pd.read_csv(f'C:/bigdata/data/전국부동산실거래가/{i}', skiprows=15, encoding='cp949')\n"
     ]
    },
    {
     "name": "stdout",
     "output_type": "stream",
     "text": [
      "247\r"
     ]
    },
    {
     "name": "stderr",
     "output_type": "stream",
     "text": [
      "C:\\Users\\Jasmine\\AppData\\Local\\Temp\\ipykernel_14960\\3186835542.py:6: DtypeWarning: Columns (2) have mixed types. Specify dtype option on import or set low_memory=False.\n",
      "  data = pd.read_csv(f'C:/bigdata/data/전국부동산실거래가/{i}', skiprows=15, encoding='cp949')\n"
     ]
    },
    {
     "name": "stdout",
     "output_type": "stream",
     "text": [
      "249\r"
     ]
    },
    {
     "name": "stderr",
     "output_type": "stream",
     "text": [
      "C:\\Users\\Jasmine\\AppData\\Local\\Temp\\ipykernel_14960\\3186835542.py:6: DtypeWarning: Columns (2) have mixed types. Specify dtype option on import or set low_memory=False.\n",
      "  data = pd.read_csv(f'C:/bigdata/data/전국부동산실거래가/{i}', skiprows=15, encoding='cp949')\n"
     ]
    },
    {
     "name": "stdout",
     "output_type": "stream",
     "text": [
      "250\r"
     ]
    },
    {
     "name": "stderr",
     "output_type": "stream",
     "text": [
      "C:\\Users\\Jasmine\\AppData\\Local\\Temp\\ipykernel_14960\\3186835542.py:6: DtypeWarning: Columns (2) have mixed types. Specify dtype option on import or set low_memory=False.\n",
      "  data = pd.read_csv(f'C:/bigdata/data/전국부동산실거래가/{i}', skiprows=15, encoding='cp949')\n"
     ]
    },
    {
     "name": "stdout",
     "output_type": "stream",
     "text": [
      "251\r"
     ]
    },
    {
     "name": "stderr",
     "output_type": "stream",
     "text": [
      "C:\\Users\\Jasmine\\AppData\\Local\\Temp\\ipykernel_14960\\3186835542.py:6: DtypeWarning: Columns (2) have mixed types. Specify dtype option on import or set low_memory=False.\n",
      "  data = pd.read_csv(f'C:/bigdata/data/전국부동산실거래가/{i}', skiprows=15, encoding='cp949')\n"
     ]
    },
    {
     "name": "stdout",
     "output_type": "stream",
     "text": [
      "253\r"
     ]
    },
    {
     "name": "stderr",
     "output_type": "stream",
     "text": [
      "C:\\Users\\Jasmine\\AppData\\Local\\Temp\\ipykernel_14960\\3186835542.py:6: DtypeWarning: Columns (2) have mixed types. Specify dtype option on import or set low_memory=False.\n",
      "  data = pd.read_csv(f'C:/bigdata/data/전국부동산실거래가/{i}', skiprows=15, encoding='cp949')\n"
     ]
    },
    {
     "name": "stdout",
     "output_type": "stream",
     "text": [
      "254\r"
     ]
    },
    {
     "name": "stderr",
     "output_type": "stream",
     "text": [
      "C:\\Users\\Jasmine\\AppData\\Local\\Temp\\ipykernel_14960\\3186835542.py:6: DtypeWarning: Columns (2) have mixed types. Specify dtype option on import or set low_memory=False.\n",
      "  data = pd.read_csv(f'C:/bigdata/data/전국부동산실거래가/{i}', skiprows=15, encoding='cp949')\n"
     ]
    },
    {
     "name": "stdout",
     "output_type": "stream",
     "text": [
      "255\r"
     ]
    },
    {
     "name": "stderr",
     "output_type": "stream",
     "text": [
      "C:\\Users\\Jasmine\\AppData\\Local\\Temp\\ipykernel_14960\\3186835542.py:6: DtypeWarning: Columns (2) have mixed types. Specify dtype option on import or set low_memory=False.\n",
      "  data = pd.read_csv(f'C:/bigdata/data/전국부동산실거래가/{i}', skiprows=15, encoding='cp949')\n"
     ]
    },
    {
     "name": "stdout",
     "output_type": "stream",
     "text": [
      "261\r"
     ]
    },
    {
     "name": "stderr",
     "output_type": "stream",
     "text": [
      "C:\\Users\\Jasmine\\AppData\\Local\\Temp\\ipykernel_14960\\3186835542.py:6: DtypeWarning: Columns (2) have mixed types. Specify dtype option on import or set low_memory=False.\n",
      "  data = pd.read_csv(f'C:/bigdata/data/전국부동산실거래가/{i}', skiprows=15, encoding='cp949')\n"
     ]
    },
    {
     "name": "stdout",
     "output_type": "stream",
     "text": [
      "264\r"
     ]
    },
    {
     "name": "stderr",
     "output_type": "stream",
     "text": [
      "C:\\Users\\Jasmine\\AppData\\Local\\Temp\\ipykernel_14960\\3186835542.py:6: DtypeWarning: Columns (2) have mixed types. Specify dtype option on import or set low_memory=False.\n",
      "  data = pd.read_csv(f'C:/bigdata/data/전국부동산실거래가/{i}', skiprows=15, encoding='cp949')\n"
     ]
    },
    {
     "name": "stdout",
     "output_type": "stream",
     "text": [
      "265\r"
     ]
    },
    {
     "name": "stderr",
     "output_type": "stream",
     "text": [
      "C:\\Users\\Jasmine\\AppData\\Local\\Temp\\ipykernel_14960\\3186835542.py:6: DtypeWarning: Columns (2) have mixed types. Specify dtype option on import or set low_memory=False.\n",
      "  data = pd.read_csv(f'C:/bigdata/data/전국부동산실거래가/{i}', skiprows=15, encoding='cp949')\n"
     ]
    },
    {
     "name": "stdout",
     "output_type": "stream",
     "text": [
      "271\r"
     ]
    },
    {
     "name": "stderr",
     "output_type": "stream",
     "text": [
      "C:\\Users\\Jasmine\\AppData\\Local\\Temp\\ipykernel_14960\\3186835542.py:6: DtypeWarning: Columns (2) have mixed types. Specify dtype option on import or set low_memory=False.\n",
      "  data = pd.read_csv(f'C:/bigdata/data/전국부동산실거래가/{i}', skiprows=15, encoding='cp949')\n"
     ]
    },
    {
     "name": "stdout",
     "output_type": "stream",
     "text": [
      "281\r"
     ]
    },
    {
     "name": "stderr",
     "output_type": "stream",
     "text": [
      "C:\\Users\\Jasmine\\AppData\\Local\\Temp\\ipykernel_14960\\3186835542.py:6: DtypeWarning: Columns (2) have mixed types. Specify dtype option on import or set low_memory=False.\n",
      "  data = pd.read_csv(f'C:/bigdata/data/전국부동산실거래가/{i}', skiprows=15, encoding='cp949')\n"
     ]
    },
    {
     "name": "stdout",
     "output_type": "stream",
     "text": [
      "282\r"
     ]
    },
    {
     "name": "stderr",
     "output_type": "stream",
     "text": [
      "C:\\Users\\Jasmine\\AppData\\Local\\Temp\\ipykernel_14960\\3186835542.py:6: DtypeWarning: Columns (2) have mixed types. Specify dtype option on import or set low_memory=False.\n",
      "  data = pd.read_csv(f'C:/bigdata/data/전국부동산실거래가/{i}', skiprows=15, encoding='cp949')\n"
     ]
    },
    {
     "name": "stdout",
     "output_type": "stream",
     "text": [
      "283\r"
     ]
    },
    {
     "name": "stderr",
     "output_type": "stream",
     "text": [
      "C:\\Users\\Jasmine\\AppData\\Local\\Temp\\ipykernel_14960\\3186835542.py:6: DtypeWarning: Columns (2) have mixed types. Specify dtype option on import or set low_memory=False.\n",
      "  data = pd.read_csv(f'C:/bigdata/data/전국부동산실거래가/{i}', skiprows=15, encoding='cp949')\n"
     ]
    },
    {
     "name": "stdout",
     "output_type": "stream",
     "text": [
      "284\r"
     ]
    },
    {
     "name": "stderr",
     "output_type": "stream",
     "text": [
      "C:\\Users\\Jasmine\\AppData\\Local\\Temp\\ipykernel_14960\\3186835542.py:6: DtypeWarning: Columns (2) have mixed types. Specify dtype option on import or set low_memory=False.\n",
      "  data = pd.read_csv(f'C:/bigdata/data/전국부동산실거래가/{i}', skiprows=15, encoding='cp949')\n"
     ]
    },
    {
     "name": "stdout",
     "output_type": "stream",
     "text": [
      "285\r"
     ]
    },
    {
     "name": "stderr",
     "output_type": "stream",
     "text": [
      "C:\\Users\\Jasmine\\AppData\\Local\\Temp\\ipykernel_14960\\3186835542.py:6: DtypeWarning: Columns (2) have mixed types. Specify dtype option on import or set low_memory=False.\n",
      "  data = pd.read_csv(f'C:/bigdata/data/전국부동산실거래가/{i}', skiprows=15, encoding='cp949')\n"
     ]
    },
    {
     "name": "stdout",
     "output_type": "stream",
     "text": [
      "286\r"
     ]
    },
    {
     "name": "stderr",
     "output_type": "stream",
     "text": [
      "C:\\Users\\Jasmine\\AppData\\Local\\Temp\\ipykernel_14960\\3186835542.py:6: DtypeWarning: Columns (2) have mixed types. Specify dtype option on import or set low_memory=False.\n",
      "  data = pd.read_csv(f'C:/bigdata/data/전국부동산실거래가/{i}', skiprows=15, encoding='cp949')\n"
     ]
    },
    {
     "name": "stdout",
     "output_type": "stream",
     "text": [
      "287\r"
     ]
    }
   ],
   "source": [
    "# 폴더에 있는 여러개의 csv파일을 하나의 데이터프레임에 담기\n",
    "# 왜 f포메팅이지??\n",
    "data_hap = pd.DataFrame()\n",
    "for idx, i in enumerate(file_list[:-8]):\n",
    "    print(idx, end=\"\\r\")\n",
    "    data = pd.read_csv(f'C:/bigdata/data/전국부동산실거래가/{i}', skiprows=15, encoding='cp949')\n",
    "    data_hap = pd.concat([data_hap, data])"
   ]
  },
  {
   "cell_type": "markdown",
   "id": "b9127beb",
   "metadata": {},
   "source": [
    "### concat을 하면 인덱스가 섞여있으니 인덱스 정리를 해줘야 해!"
   ]
  },
  {
   "cell_type": "code",
   "execution_count": 8,
   "id": "f642089e",
   "metadata": {},
   "outputs": [],
   "source": [
    "data = data_hap"
   ]
  },
  {
   "cell_type": "code",
   "execution_count": 9,
   "id": "5b4f2485",
   "metadata": {},
   "outputs": [
    {
     "data": {
      "text/plain": [
       "9591343"
      ]
     },
     "execution_count": 9,
     "metadata": {},
     "output_type": "execute_result"
    }
   ],
   "source": [
    "len(data)"
   ]
  },
  {
   "cell_type": "code",
   "execution_count": 10,
   "id": "07d764ac",
   "metadata": {},
   "outputs": [],
   "source": [
    "data = data.reset_index(drop=True)"
   ]
  },
  {
   "cell_type": "code",
   "execution_count": 11,
   "id": "45d2ef08",
   "metadata": {
    "scrolled": false
   },
   "outputs": [
    {
     "data": {
      "text/html": [
       "<div>\n",
       "<style scoped>\n",
       "    .dataframe tbody tr th:only-of-type {\n",
       "        vertical-align: middle;\n",
       "    }\n",
       "\n",
       "    .dataframe tbody tr th {\n",
       "        vertical-align: top;\n",
       "    }\n",
       "\n",
       "    .dataframe thead th {\n",
       "        text-align: right;\n",
       "    }\n",
       "</style>\n",
       "<table border=\"1\" class=\"dataframe\">\n",
       "  <thead>\n",
       "    <tr style=\"text-align: right;\">\n",
       "      <th></th>\n",
       "      <th>시군구</th>\n",
       "      <th>번지</th>\n",
       "      <th>본번</th>\n",
       "      <th>부번</th>\n",
       "      <th>단지명</th>\n",
       "      <th>전용면적(㎡)</th>\n",
       "      <th>계약년월</th>\n",
       "      <th>계약일</th>\n",
       "      <th>거래금액(만원)</th>\n",
       "      <th>층</th>\n",
       "      <th>건축년도</th>\n",
       "      <th>도로명</th>\n",
       "      <th>해제사유발생일</th>\n",
       "      <th>등기신청일자</th>\n",
       "      <th>거래유형</th>\n",
       "      <th>중개사소재지</th>\n",
       "    </tr>\n",
       "  </thead>\n",
       "  <tbody>\n",
       "    <tr>\n",
       "      <th>0</th>\n",
       "      <td>강원특별자치도 양구군 양구읍 상리</td>\n",
       "      <td>510</td>\n",
       "      <td>510</td>\n",
       "      <td>0</td>\n",
       "      <td>경림</td>\n",
       "      <td>59.400</td>\n",
       "      <td>200509</td>\n",
       "      <td>23</td>\n",
       "      <td>5,000</td>\n",
       "      <td>11</td>\n",
       "      <td>1998</td>\n",
       "      <td>양록길23번길 11</td>\n",
       "      <td>NaN</td>\n",
       "      <td></td>\n",
       "      <td>-</td>\n",
       "      <td>-</td>\n",
       "    </tr>\n",
       "    <tr>\n",
       "      <th>1</th>\n",
       "      <td>경기도 의정부시 민락동</td>\n",
       "      <td>756-7</td>\n",
       "      <td>756</td>\n",
       "      <td>7</td>\n",
       "      <td>한라비발디</td>\n",
       "      <td>84.990</td>\n",
       "      <td>200510</td>\n",
       "      <td>30</td>\n",
       "      <td>12,750</td>\n",
       "      <td>19</td>\n",
       "      <td>2003</td>\n",
       "      <td>오목로 73</td>\n",
       "      <td>NaN</td>\n",
       "      <td></td>\n",
       "      <td>-</td>\n",
       "      <td>-</td>\n",
       "    </tr>\n",
       "    <tr>\n",
       "      <th>2</th>\n",
       "      <td>경기도 의정부시 신곡동</td>\n",
       "      <td>456</td>\n",
       "      <td>456</td>\n",
       "      <td>0</td>\n",
       "      <td>신일1</td>\n",
       "      <td>59.878</td>\n",
       "      <td>200510</td>\n",
       "      <td>20</td>\n",
       "      <td>5,750</td>\n",
       "      <td>3</td>\n",
       "      <td>1997</td>\n",
       "      <td>시민로245번길 10</td>\n",
       "      <td>NaN</td>\n",
       "      <td></td>\n",
       "      <td>-</td>\n",
       "      <td>-</td>\n",
       "    </tr>\n",
       "    <tr>\n",
       "      <th>3</th>\n",
       "      <td>경기도 의정부시 신곡동</td>\n",
       "      <td>727-1</td>\n",
       "      <td>727</td>\n",
       "      <td>1</td>\n",
       "      <td>풍림</td>\n",
       "      <td>49.830</td>\n",
       "      <td>200510</td>\n",
       "      <td>20</td>\n",
       "      <td>5,500</td>\n",
       "      <td>8</td>\n",
       "      <td>1998</td>\n",
       "      <td>회룡로 245</td>\n",
       "      <td>NaN</td>\n",
       "      <td></td>\n",
       "      <td>-</td>\n",
       "      <td>-</td>\n",
       "    </tr>\n",
       "    <tr>\n",
       "      <th>4</th>\n",
       "      <td>경기도 의정부시 용현동</td>\n",
       "      <td>46</td>\n",
       "      <td>46</td>\n",
       "      <td>0</td>\n",
       "      <td>용현현대1차</td>\n",
       "      <td>129.730</td>\n",
       "      <td>200511</td>\n",
       "      <td>21</td>\n",
       "      <td>12,200</td>\n",
       "      <td>11</td>\n",
       "      <td>1992</td>\n",
       "      <td>오목로 36</td>\n",
       "      <td>NaN</td>\n",
       "      <td></td>\n",
       "      <td>-</td>\n",
       "      <td>-</td>\n",
       "    </tr>\n",
       "  </tbody>\n",
       "</table>\n",
       "</div>"
      ],
      "text/plain": [
       "                  시군구     번지   본번 부번     단지명  전용면적(㎡)    계약년월 계약일 거래금액(만원)  \\\n",
       "0  강원특별자치도 양구군 양구읍 상리    510  510  0      경림   59.400  200509  23    5,000   \n",
       "1        경기도 의정부시 민락동  756-7  756  7   한라비발디   84.990  200510  30   12,750   \n",
       "2        경기도 의정부시 신곡동    456  456  0     신일1   59.878  200510  20    5,750   \n",
       "3        경기도 의정부시 신곡동  727-1  727  1      풍림   49.830  200510  20    5,500   \n",
       "4        경기도 의정부시 용현동     46   46  0  용현현대1차  129.730  200511  21   12,200   \n",
       "\n",
       "    층  건축년도          도로명  해제사유발생일 등기신청일자 거래유형 중개사소재지  \n",
       "0  11  1998   양록길23번길 11      NaN           -      -  \n",
       "1  19  2003       오목로 73      NaN           -      -  \n",
       "2   3  1997  시민로245번길 10      NaN           -      -  \n",
       "3   8  1998      회룡로 245      NaN           -      -  \n",
       "4  11  1992       오목로 36      NaN           -      -  "
      ]
     },
     "execution_count": 11,
     "metadata": {},
     "output_type": "execute_result"
    }
   ],
   "source": [
    "data.head()"
   ]
  },
  {
   "cell_type": "code",
   "execution_count": 12,
   "id": "ec585e8e",
   "metadata": {},
   "outputs": [],
   "source": [
    "# 전체 컬럼을 열어볼 수 있다.\n",
    "pd.set_option(\"display.max_columns\", None)"
   ]
  },
  {
   "cell_type": "code",
   "execution_count": 13,
   "id": "fd2c343b",
   "metadata": {
    "scrolled": true
   },
   "outputs": [
    {
     "name": "stdout",
     "output_type": "stream",
     "text": [
      "<class 'pandas.core.frame.DataFrame'>\n",
      "RangeIndex: 9591343 entries, 0 to 9591342\n",
      "Data columns (total 16 columns):\n",
      " #   Column    Dtype  \n",
      "---  ------    -----  \n",
      " 0   시군구       object \n",
      " 1   번지        object \n",
      " 2   본번        object \n",
      " 3   부번        object \n",
      " 4   단지명       object \n",
      " 5   전용면적(㎡)   float64\n",
      " 6   계약년월      object \n",
      " 7   계약일       object \n",
      " 8   거래금액(만원)  object \n",
      " 9   층         object \n",
      " 10  건축년도      object \n",
      " 11  도로명       object \n",
      " 12  해제사유발생일   float64\n",
      " 13  등기신청일자    object \n",
      " 14  거래유형      object \n",
      " 15  중개사소재지    object \n",
      "dtypes: float64(2), object(14)\n",
      "memory usage: 1.1+ GB\n"
     ]
    }
   ],
   "source": [
    "data.info()"
   ]
  },
  {
   "cell_type": "code",
   "execution_count": 14,
   "id": "cf1718fa",
   "metadata": {},
   "outputs": [],
   "source": [
    "data.drop(['번지', '본번','부번', '계약일', '해제사유발생일', '등기신청일자','거래유형','중개사소재지'],axis=1, inplace=True)"
   ]
  },
  {
   "cell_type": "code",
   "execution_count": 15,
   "id": "b2d9825d",
   "metadata": {},
   "outputs": [
    {
     "data": {
      "text/html": [
       "<div>\n",
       "<style scoped>\n",
       "    .dataframe tbody tr th:only-of-type {\n",
       "        vertical-align: middle;\n",
       "    }\n",
       "\n",
       "    .dataframe tbody tr th {\n",
       "        vertical-align: top;\n",
       "    }\n",
       "\n",
       "    .dataframe thead th {\n",
       "        text-align: right;\n",
       "    }\n",
       "</style>\n",
       "<table border=\"1\" class=\"dataframe\">\n",
       "  <thead>\n",
       "    <tr style=\"text-align: right;\">\n",
       "      <th></th>\n",
       "      <th>시군구</th>\n",
       "      <th>단지명</th>\n",
       "      <th>전용면적(㎡)</th>\n",
       "      <th>계약년월</th>\n",
       "      <th>거래금액(만원)</th>\n",
       "      <th>층</th>\n",
       "      <th>건축년도</th>\n",
       "      <th>도로명</th>\n",
       "    </tr>\n",
       "  </thead>\n",
       "  <tbody>\n",
       "    <tr>\n",
       "      <th>0</th>\n",
       "      <td>강원특별자치도 양구군 양구읍 상리</td>\n",
       "      <td>경림</td>\n",
       "      <td>59.400</td>\n",
       "      <td>200509</td>\n",
       "      <td>5,000</td>\n",
       "      <td>11</td>\n",
       "      <td>1998</td>\n",
       "      <td>양록길23번길 11</td>\n",
       "    </tr>\n",
       "    <tr>\n",
       "      <th>1</th>\n",
       "      <td>경기도 의정부시 민락동</td>\n",
       "      <td>한라비발디</td>\n",
       "      <td>84.990</td>\n",
       "      <td>200510</td>\n",
       "      <td>12,750</td>\n",
       "      <td>19</td>\n",
       "      <td>2003</td>\n",
       "      <td>오목로 73</td>\n",
       "    </tr>\n",
       "    <tr>\n",
       "      <th>2</th>\n",
       "      <td>경기도 의정부시 신곡동</td>\n",
       "      <td>신일1</td>\n",
       "      <td>59.878</td>\n",
       "      <td>200510</td>\n",
       "      <td>5,750</td>\n",
       "      <td>3</td>\n",
       "      <td>1997</td>\n",
       "      <td>시민로245번길 10</td>\n",
       "    </tr>\n",
       "    <tr>\n",
       "      <th>3</th>\n",
       "      <td>경기도 의정부시 신곡동</td>\n",
       "      <td>풍림</td>\n",
       "      <td>49.830</td>\n",
       "      <td>200510</td>\n",
       "      <td>5,500</td>\n",
       "      <td>8</td>\n",
       "      <td>1998</td>\n",
       "      <td>회룡로 245</td>\n",
       "    </tr>\n",
       "    <tr>\n",
       "      <th>4</th>\n",
       "      <td>경기도 의정부시 용현동</td>\n",
       "      <td>용현현대1차</td>\n",
       "      <td>129.730</td>\n",
       "      <td>200511</td>\n",
       "      <td>12,200</td>\n",
       "      <td>11</td>\n",
       "      <td>1992</td>\n",
       "      <td>오목로 36</td>\n",
       "    </tr>\n",
       "  </tbody>\n",
       "</table>\n",
       "</div>"
      ],
      "text/plain": [
       "                  시군구     단지명  전용면적(㎡)    계약년월 거래금액(만원)   층  건축년도          도로명\n",
       "0  강원특별자치도 양구군 양구읍 상리      경림   59.400  200509    5,000  11  1998   양록길23번길 11\n",
       "1        경기도 의정부시 민락동   한라비발디   84.990  200510   12,750  19  2003       오목로 73\n",
       "2        경기도 의정부시 신곡동     신일1   59.878  200510    5,750   3  1997  시민로245번길 10\n",
       "3        경기도 의정부시 신곡동      풍림   49.830  200510    5,500   8  1998      회룡로 245\n",
       "4        경기도 의정부시 용현동  용현현대1차  129.730  200511   12,200  11  1992       오목로 36"
      ]
     },
     "execution_count": 15,
     "metadata": {},
     "output_type": "execute_result"
    }
   ],
   "source": [
    "data.head()"
   ]
  },
  {
   "cell_type": "code",
   "execution_count": 16,
   "id": "595fe25a",
   "metadata": {
    "scrolled": true
   },
   "outputs": [],
   "source": [
    "# data2[data2[\"Name\"].str.contains(\"John\")] 특정 이름이 들어있는 거 찾을 때 방법.\n",
    "data = data[data['시군구'].str.contains(\"서울\")] "
   ]
  },
  {
   "cell_type": "code",
   "execution_count": 17,
   "id": "83a5275c",
   "metadata": {},
   "outputs": [
    {
     "name": "stdout",
     "output_type": "stream",
     "text": [
      "<class 'pandas.core.frame.DataFrame'>\n",
      "Index: 1215019 entries, 15268 to 9582298\n",
      "Data columns (total 8 columns):\n",
      " #   Column    Non-Null Count    Dtype  \n",
      "---  ------    --------------    -----  \n",
      " 0   시군구       1215019 non-null  object \n",
      " 1   단지명       1215019 non-null  object \n",
      " 2   전용면적(㎡)   1215019 non-null  float64\n",
      " 3   계약년월      1215019 non-null  object \n",
      " 4   거래금액(만원)  1215019 non-null  object \n",
      " 5   층         1215019 non-null  object \n",
      " 6   건축년도      1215019 non-null  object \n",
      " 7   도로명       1215019 non-null  object \n",
      "dtypes: float64(1), object(7)\n",
      "memory usage: 83.4+ MB\n"
     ]
    }
   ],
   "source": [
    "data.info()"
   ]
  },
  {
   "cell_type": "markdown",
   "id": "5ef70de4",
   "metadata": {},
   "source": [
    "data['시군구'] = data[data['시군구'].str.contains(\"서울\")] 이렇게 하면 ValueError: Columns must be same length as key 이런 오류가 뜨네.\n",
    "data = data[data['시군구'].str.contains(\"서울\")] 이렇게 넣어야 해!"
   ]
  },
  {
   "cell_type": "code",
   "execution_count": 18,
   "id": "e8de62d1",
   "metadata": {
    "scrolled": true
   },
   "outputs": [
    {
     "data": {
      "text/html": [
       "<div>\n",
       "<style scoped>\n",
       "    .dataframe tbody tr th:only-of-type {\n",
       "        vertical-align: middle;\n",
       "    }\n",
       "\n",
       "    .dataframe tbody tr th {\n",
       "        vertical-align: top;\n",
       "    }\n",
       "\n",
       "    .dataframe thead th {\n",
       "        text-align: right;\n",
       "    }\n",
       "</style>\n",
       "<table border=\"1\" class=\"dataframe\">\n",
       "  <thead>\n",
       "    <tr style=\"text-align: right;\">\n",
       "      <th></th>\n",
       "      <th>시군구</th>\n",
       "      <th>단지명</th>\n",
       "      <th>전용면적(㎡)</th>\n",
       "      <th>계약년월</th>\n",
       "      <th>거래금액(만원)</th>\n",
       "      <th>층</th>\n",
       "      <th>건축년도</th>\n",
       "      <th>도로명</th>\n",
       "    </tr>\n",
       "  </thead>\n",
       "  <tbody>\n",
       "    <tr>\n",
       "      <th>15268</th>\n",
       "      <td>서울특별시 강남구 개포동</td>\n",
       "      <td>개포6차우성아파트1동~8동</td>\n",
       "      <td>67.28</td>\n",
       "      <td>200601</td>\n",
       "      <td>54,500</td>\n",
       "      <td>3</td>\n",
       "      <td>1987</td>\n",
       "      <td>언주로 3</td>\n",
       "    </tr>\n",
       "    <tr>\n",
       "      <th>15269</th>\n",
       "      <td>서울특별시 강남구 개포동</td>\n",
       "      <td>개포6차우성아파트1동~8동</td>\n",
       "      <td>79.97</td>\n",
       "      <td>200601</td>\n",
       "      <td>67,000</td>\n",
       "      <td>3</td>\n",
       "      <td>1987</td>\n",
       "      <td>언주로 3</td>\n",
       "    </tr>\n",
       "    <tr>\n",
       "      <th>15270</th>\n",
       "      <td>서울특별시 강남구 개포동</td>\n",
       "      <td>개포6차우성아파트1동~8동</td>\n",
       "      <td>79.97</td>\n",
       "      <td>200601</td>\n",
       "      <td>67,500</td>\n",
       "      <td>4</td>\n",
       "      <td>1987</td>\n",
       "      <td>언주로 3</td>\n",
       "    </tr>\n",
       "    <tr>\n",
       "      <th>15271</th>\n",
       "      <td>서울특별시 강남구 개포동</td>\n",
       "      <td>개포우성3차</td>\n",
       "      <td>104.43</td>\n",
       "      <td>200601</td>\n",
       "      <td>73,000</td>\n",
       "      <td>9</td>\n",
       "      <td>1984</td>\n",
       "      <td>개포로 307</td>\n",
       "    </tr>\n",
       "    <tr>\n",
       "      <th>15272</th>\n",
       "      <td>서울특별시 강남구 개포동</td>\n",
       "      <td>개포우성3차</td>\n",
       "      <td>104.43</td>\n",
       "      <td>200601</td>\n",
       "      <td>71,250</td>\n",
       "      <td>6</td>\n",
       "      <td>1984</td>\n",
       "      <td>개포로 307</td>\n",
       "    </tr>\n",
       "  </tbody>\n",
       "</table>\n",
       "</div>"
      ],
      "text/plain": [
       "                 시군구             단지명  전용면적(㎡)    계약년월 거래금액(만원)  층  건축년도  \\\n",
       "15268  서울특별시 강남구 개포동  개포6차우성아파트1동~8동    67.28  200601   54,500  3  1987   \n",
       "15269  서울특별시 강남구 개포동  개포6차우성아파트1동~8동    79.97  200601   67,000  3  1987   \n",
       "15270  서울특별시 강남구 개포동  개포6차우성아파트1동~8동    79.97  200601   67,500  4  1987   \n",
       "15271  서울특별시 강남구 개포동          개포우성3차   104.43  200601   73,000  9  1984   \n",
       "15272  서울특별시 강남구 개포동          개포우성3차   104.43  200601   71,250  6  1984   \n",
       "\n",
       "           도로명  \n",
       "15268    언주로 3  \n",
       "15269    언주로 3  \n",
       "15270    언주로 3  \n",
       "15271  개포로 307  \n",
       "15272  개포로 307  "
      ]
     },
     "execution_count": 18,
     "metadata": {},
     "output_type": "execute_result"
    }
   ],
   "source": [
    "data.head()"
   ]
  },
  {
   "cell_type": "code",
   "execution_count": 19,
   "id": "b17c95f7",
   "metadata": {},
   "outputs": [],
   "source": [
    "# ,때문에 object로 되어있는 금액을 int로 바꾸기\n",
    "data['거래금액(만원)'] = data['거래금액(만원)'].str.replace(',','').astype(int)"
   ]
  },
  {
   "cell_type": "code",
   "execution_count": 20,
   "id": "92627836",
   "metadata": {
    "scrolled": true
   },
   "outputs": [
    {
     "name": "stdout",
     "output_type": "stream",
     "text": [
      "<class 'pandas.core.frame.DataFrame'>\n",
      "Index: 1215019 entries, 15268 to 9582298\n",
      "Data columns (total 8 columns):\n",
      " #   Column    Non-Null Count    Dtype  \n",
      "---  ------    --------------    -----  \n",
      " 0   시군구       1215019 non-null  object \n",
      " 1   단지명       1215019 non-null  object \n",
      " 2   전용면적(㎡)   1215019 non-null  float64\n",
      " 3   계약년월      1215019 non-null  object \n",
      " 4   거래금액(만원)  1215019 non-null  int32  \n",
      " 5   층         1215019 non-null  object \n",
      " 6   건축년도      1215019 non-null  object \n",
      " 7   도로명       1215019 non-null  object \n",
      "dtypes: float64(1), int32(1), object(6)\n",
      "memory usage: 78.8+ MB\n"
     ]
    }
   ],
   "source": [
    "data.info()"
   ]
  },
  {
   "cell_type": "code",
   "execution_count": 21,
   "id": "cf803d1f",
   "metadata": {
    "scrolled": true
   },
   "outputs": [
    {
     "data": {
      "text/html": [
       "<div>\n",
       "<style scoped>\n",
       "    .dataframe tbody tr th:only-of-type {\n",
       "        vertical-align: middle;\n",
       "    }\n",
       "\n",
       "    .dataframe tbody tr th {\n",
       "        vertical-align: top;\n",
       "    }\n",
       "\n",
       "    .dataframe thead th {\n",
       "        text-align: right;\n",
       "    }\n",
       "</style>\n",
       "<table border=\"1\" class=\"dataframe\">\n",
       "  <thead>\n",
       "    <tr style=\"text-align: right;\">\n",
       "      <th></th>\n",
       "      <th>시군구</th>\n",
       "      <th>단지명</th>\n",
       "      <th>전용면적(㎡)</th>\n",
       "      <th>계약년월</th>\n",
       "      <th>거래금액(만원)</th>\n",
       "      <th>층</th>\n",
       "      <th>건축년도</th>\n",
       "      <th>도로명</th>\n",
       "    </tr>\n",
       "  </thead>\n",
       "  <tbody>\n",
       "    <tr>\n",
       "      <th>15268</th>\n",
       "      <td>서울특별시 강남구 개포동</td>\n",
       "      <td>개포6차우성아파트1동~8동</td>\n",
       "      <td>67.28</td>\n",
       "      <td>200601</td>\n",
       "      <td>54500</td>\n",
       "      <td>3</td>\n",
       "      <td>1987</td>\n",
       "      <td>언주로 3</td>\n",
       "    </tr>\n",
       "    <tr>\n",
       "      <th>15269</th>\n",
       "      <td>서울특별시 강남구 개포동</td>\n",
       "      <td>개포6차우성아파트1동~8동</td>\n",
       "      <td>79.97</td>\n",
       "      <td>200601</td>\n",
       "      <td>67000</td>\n",
       "      <td>3</td>\n",
       "      <td>1987</td>\n",
       "      <td>언주로 3</td>\n",
       "    </tr>\n",
       "    <tr>\n",
       "      <th>15270</th>\n",
       "      <td>서울특별시 강남구 개포동</td>\n",
       "      <td>개포6차우성아파트1동~8동</td>\n",
       "      <td>79.97</td>\n",
       "      <td>200601</td>\n",
       "      <td>67500</td>\n",
       "      <td>4</td>\n",
       "      <td>1987</td>\n",
       "      <td>언주로 3</td>\n",
       "    </tr>\n",
       "    <tr>\n",
       "      <th>15271</th>\n",
       "      <td>서울특별시 강남구 개포동</td>\n",
       "      <td>개포우성3차</td>\n",
       "      <td>104.43</td>\n",
       "      <td>200601</td>\n",
       "      <td>73000</td>\n",
       "      <td>9</td>\n",
       "      <td>1984</td>\n",
       "      <td>개포로 307</td>\n",
       "    </tr>\n",
       "    <tr>\n",
       "      <th>15272</th>\n",
       "      <td>서울특별시 강남구 개포동</td>\n",
       "      <td>개포우성3차</td>\n",
       "      <td>104.43</td>\n",
       "      <td>200601</td>\n",
       "      <td>71250</td>\n",
       "      <td>6</td>\n",
       "      <td>1984</td>\n",
       "      <td>개포로 307</td>\n",
       "    </tr>\n",
       "  </tbody>\n",
       "</table>\n",
       "</div>"
      ],
      "text/plain": [
       "                 시군구             단지명  전용면적(㎡)    계약년월  거래금액(만원)  층  건축년도  \\\n",
       "15268  서울특별시 강남구 개포동  개포6차우성아파트1동~8동    67.28  200601     54500  3  1987   \n",
       "15269  서울특별시 강남구 개포동  개포6차우성아파트1동~8동    79.97  200601     67000  3  1987   \n",
       "15270  서울특별시 강남구 개포동  개포6차우성아파트1동~8동    79.97  200601     67500  4  1987   \n",
       "15271  서울특별시 강남구 개포동          개포우성3차   104.43  200601     73000  9  1984   \n",
       "15272  서울특별시 강남구 개포동          개포우성3차   104.43  200601     71250  6  1984   \n",
       "\n",
       "           도로명  \n",
       "15268    언주로 3  \n",
       "15269    언주로 3  \n",
       "15270    언주로 3  \n",
       "15271  개포로 307  \n",
       "15272  개포로 307  "
      ]
     },
     "execution_count": 21,
     "metadata": {},
     "output_type": "execute_result"
    }
   ],
   "source": [
    "data.head()"
   ]
  },
  {
   "cell_type": "code",
   "execution_count": 22,
   "id": "59fe0ce6",
   "metadata": {},
   "outputs": [],
   "source": [
    "data = data.reset_index(drop=True)"
   ]
  },
  {
   "cell_type": "code",
   "execution_count": 102,
   "id": "475c13d5",
   "metadata": {},
   "outputs": [
    {
     "name": "stdout",
     "output_type": "stream",
     "text": [
      "<class 'pandas.core.frame.DataFrame'>\n",
      "RangeIndex: 1215019 entries, 0 to 1215018\n",
      "Data columns (total 7 columns):\n",
      " #   Column    Non-Null Count    Dtype  \n",
      "---  ------    --------------    -----  \n",
      " 0   구         1215019 non-null  int32  \n",
      " 1   동         1215019 non-null  int32  \n",
      " 2   단지명       1215019 non-null  int32  \n",
      " 3   전용면적(㎡)   1215019 non-null  float64\n",
      " 4   계약년월      1215019 non-null  int32  \n",
      " 5   거래금액(만원)  1215019 non-null  int32  \n",
      " 6   기준금리      1215019 non-null  float64\n",
      "dtypes: float64(2), int32(5)\n",
      "memory usage: 41.7 MB\n"
     ]
    }
   ],
   "source": [
    "data.info()"
   ]
  },
  {
   "cell_type": "code",
   "execution_count": 105,
   "id": "105008b0",
   "metadata": {},
   "outputs": [
    {
     "data": {
      "text/plain": [
       "<Axes: xlabel='전용면적(㎡)', ylabel='거래금액(만원)'>"
      ]
     },
     "execution_count": 105,
     "metadata": {},
     "output_type": "execute_result"
    },
    {
     "data": {
      "image/png": "[encoded data removed]",
      "text/plain": [
       "<Figure size 640x480 with 1 Axes>"
      ]
     },
     "metadata": {},
     "output_type": "display_data"
    }
   ],
   "source": [
    "sns.scatterplot(data=data['거래금액(만원)'], x=data['전용면적(㎡)'], y=data['거래금액(만원)'])"
   ]
  },
  {
   "cell_type": "code",
   "execution_count": 106,
   "id": "ef9286da",
   "metadata": {},
   "outputs": [
    {
     "ename": "KeyboardInterrupt",
     "evalue": "",
     "output_type": "error",
     "traceback": [
      "\u001b[1;31m---------------------------------------------------------------------------\u001b[0m",
      "\u001b[1;31mKeyboardInterrupt\u001b[0m                         Traceback (most recent call last)",
      "Cell \u001b[1;32mIn[106], line 6\u001b[0m\n\u001b[0;32m      4\u001b[0m row \u001b[38;5;241m=\u001b[39m \u001b[38;5;28mint\u001b[39m(i\u001b[38;5;241m/\u001b[39m\u001b[38;5;241m4\u001b[39m)\n\u001b[0;32m      5\u001b[0m col \u001b[38;5;241m=\u001b[39m i\u001b[38;5;241m%\u001b[39m\u001b[38;5;241m4\u001b[39m\n\u001b[1;32m----> 6\u001b[0m \u001b[43msns\u001b[49m\u001b[38;5;241;43m.\u001b[39;49m\u001b[43mregplot\u001b[49m\u001b[43m(\u001b[49m\u001b[43mdata\u001b[49m\u001b[38;5;241;43m=\u001b[39;49m\u001b[43mdata\u001b[49m\u001b[43m,\u001b[49m\u001b[43m \u001b[49m\u001b[43mx\u001b[49m\u001b[38;5;241;43m=\u001b[39;49m\u001b[43mfeature\u001b[49m\u001b[43m,\u001b[49m\u001b[43m \u001b[49m\u001b[43my\u001b[49m\u001b[38;5;241;43m=\u001b[39;49m\u001b[38;5;124;43m'\u001b[39;49m\u001b[38;5;124;43m거래금액(만원)\u001b[39;49m\u001b[38;5;124;43m'\u001b[39;49m\u001b[43m,\u001b[49m\u001b[43m \u001b[49m\u001b[43max\u001b[49m\u001b[38;5;241;43m=\u001b[39;49m\u001b[43maxs\u001b[49m\u001b[43m[\u001b[49m\u001b[43mrow\u001b[49m\u001b[43m]\u001b[49m\u001b[43m[\u001b[49m\u001b[43mcol\u001b[49m\u001b[43m]\u001b[49m\u001b[43m)\u001b[49m\n",
      "File \u001b[1;32m~\\anaconda3\\envs\\testenv\\lib\\site-packages\\seaborn\\regression.py:759\u001b[0m, in \u001b[0;36mregplot\u001b[1;34m(data, x, y, x_estimator, x_bins, x_ci, scatter, fit_reg, ci, n_boot, units, seed, order, logistic, lowess, robust, logx, x_partial, y_partial, truncate, dropna, x_jitter, y_jitter, label, color, marker, scatter_kws, line_kws, ax)\u001b[0m\n\u001b[0;32m    757\u001b[0m scatter_kws[\u001b[38;5;124m\"\u001b[39m\u001b[38;5;124mmarker\u001b[39m\u001b[38;5;124m\"\u001b[39m] \u001b[38;5;241m=\u001b[39m marker\n\u001b[0;32m    758\u001b[0m line_kws \u001b[38;5;241m=\u001b[39m {} \u001b[38;5;28;01mif\u001b[39;00m line_kws \u001b[38;5;129;01mis\u001b[39;00m \u001b[38;5;28;01mNone\u001b[39;00m \u001b[38;5;28;01melse\u001b[39;00m copy\u001b[38;5;241m.\u001b[39mcopy(line_kws)\n\u001b[1;32m--> 759\u001b[0m \u001b[43mplotter\u001b[49m\u001b[38;5;241;43m.\u001b[39;49m\u001b[43mplot\u001b[49m\u001b[43m(\u001b[49m\u001b[43max\u001b[49m\u001b[43m,\u001b[49m\u001b[43m \u001b[49m\u001b[43mscatter_kws\u001b[49m\u001b[43m,\u001b[49m\u001b[43m \u001b[49m\u001b[43mline_kws\u001b[49m\u001b[43m)\u001b[49m\n\u001b[0;32m    760\u001b[0m \u001b[38;5;28;01mreturn\u001b[39;00m ax\n",
      "File \u001b[1;32m~\\anaconda3\\envs\\testenv\\lib\\site-packages\\seaborn\\regression.py:368\u001b[0m, in \u001b[0;36m_RegressionPlotter.plot\u001b[1;34m(self, ax, scatter_kws, line_kws)\u001b[0m\n\u001b[0;32m    365\u001b[0m     \u001b[38;5;28mself\u001b[39m\u001b[38;5;241m.\u001b[39mscatterplot(ax, scatter_kws)\n\u001b[0;32m    367\u001b[0m \u001b[38;5;28;01mif\u001b[39;00m \u001b[38;5;28mself\u001b[39m\u001b[38;5;241m.\u001b[39mfit_reg:\n\u001b[1;32m--> 368\u001b[0m     \u001b[38;5;28;43mself\u001b[39;49m\u001b[38;5;241;43m.\u001b[39;49m\u001b[43mlineplot\u001b[49m\u001b[43m(\u001b[49m\u001b[43max\u001b[49m\u001b[43m,\u001b[49m\u001b[43m \u001b[49m\u001b[43mline_kws\u001b[49m\u001b[43m)\u001b[49m\n\u001b[0;32m    370\u001b[0m \u001b[38;5;66;03m# Label the axes\u001b[39;00m\n\u001b[0;32m    371\u001b[0m \u001b[38;5;28;01mif\u001b[39;00m \u001b[38;5;28mhasattr\u001b[39m(\u001b[38;5;28mself\u001b[39m\u001b[38;5;241m.\u001b[39mx, \u001b[38;5;124m\"\u001b[39m\u001b[38;5;124mname\u001b[39m\u001b[38;5;124m\"\u001b[39m):\n",
      "File \u001b[1;32m~\\anaconda3\\envs\\testenv\\lib\\site-packages\\seaborn\\regression.py:413\u001b[0m, in \u001b[0;36m_RegressionPlotter.lineplot\u001b[1;34m(self, ax, kws)\u001b[0m\n\u001b[0;32m    411\u001b[0m \u001b[38;5;250m\u001b[39m\u001b[38;5;124;03m\"\"\"Draw the model.\"\"\"\u001b[39;00m\n\u001b[0;32m    412\u001b[0m \u001b[38;5;66;03m# Fit the regression model\u001b[39;00m\n\u001b[1;32m--> 413\u001b[0m grid, yhat, err_bands \u001b[38;5;241m=\u001b[39m \u001b[38;5;28;43mself\u001b[39;49m\u001b[38;5;241;43m.\u001b[39;49m\u001b[43mfit_regression\u001b[49m\u001b[43m(\u001b[49m\u001b[43max\u001b[49m\u001b[43m)\u001b[49m\n\u001b[0;32m    414\u001b[0m edges \u001b[38;5;241m=\u001b[39m grid[\u001b[38;5;241m0\u001b[39m], grid[\u001b[38;5;241m-\u001b[39m\u001b[38;5;241m1\u001b[39m]\n\u001b[0;32m    416\u001b[0m \u001b[38;5;66;03m# Get set default aesthetics\u001b[39;00m\n",
      "File \u001b[1;32m~\\anaconda3\\envs\\testenv\\lib\\site-packages\\seaborn\\regression.py:219\u001b[0m, in \u001b[0;36m_RegressionPlotter.fit_regression\u001b[1;34m(self, ax, x_range, grid)\u001b[0m\n\u001b[0;32m    217\u001b[0m     yhat, yhat_boots \u001b[38;5;241m=\u001b[39m \u001b[38;5;28mself\u001b[39m\u001b[38;5;241m.\u001b[39mfit_logx(grid)\n\u001b[0;32m    218\u001b[0m \u001b[38;5;28;01melse\u001b[39;00m:\n\u001b[1;32m--> 219\u001b[0m     yhat, yhat_boots \u001b[38;5;241m=\u001b[39m \u001b[38;5;28;43mself\u001b[39;49m\u001b[38;5;241;43m.\u001b[39;49m\u001b[43mfit_fast\u001b[49m\u001b[43m(\u001b[49m\u001b[43mgrid\u001b[49m\u001b[43m)\u001b[49m\n\u001b[0;32m    221\u001b[0m \u001b[38;5;66;03m# Compute the confidence interval at each grid point\u001b[39;00m\n\u001b[0;32m    222\u001b[0m \u001b[38;5;28;01mif\u001b[39;00m ci \u001b[38;5;129;01mis\u001b[39;00m \u001b[38;5;28;01mNone\u001b[39;00m:\n",
      "File \u001b[1;32m~\\anaconda3\\envs\\testenv\\lib\\site-packages\\seaborn\\regression.py:240\u001b[0m, in \u001b[0;36m_RegressionPlotter.fit_fast\u001b[1;34m(self, grid)\u001b[0m\n\u001b[0;32m    237\u001b[0m \u001b[38;5;28;01mif\u001b[39;00m \u001b[38;5;28mself\u001b[39m\u001b[38;5;241m.\u001b[39mci \u001b[38;5;129;01mis\u001b[39;00m \u001b[38;5;28;01mNone\u001b[39;00m:\n\u001b[0;32m    238\u001b[0m     \u001b[38;5;28;01mreturn\u001b[39;00m yhat, \u001b[38;5;28;01mNone\u001b[39;00m\n\u001b[1;32m--> 240\u001b[0m beta_boots \u001b[38;5;241m=\u001b[39m \u001b[43malgo\u001b[49m\u001b[38;5;241;43m.\u001b[39;49m\u001b[43mbootstrap\u001b[49m\u001b[43m(\u001b[49m\u001b[43mX\u001b[49m\u001b[43m,\u001b[49m\u001b[43m \u001b[49m\u001b[43my\u001b[49m\u001b[43m,\u001b[49m\n\u001b[0;32m    241\u001b[0m \u001b[43m                            \u001b[49m\u001b[43mfunc\u001b[49m\u001b[38;5;241;43m=\u001b[39;49m\u001b[43mreg_func\u001b[49m\u001b[43m,\u001b[49m\n\u001b[0;32m    242\u001b[0m \u001b[43m                            \u001b[49m\u001b[43mn_boot\u001b[49m\u001b[38;5;241;43m=\u001b[39;49m\u001b[38;5;28;43mself\u001b[39;49m\u001b[38;5;241;43m.\u001b[39;49m\u001b[43mn_boot\u001b[49m\u001b[43m,\u001b[49m\n\u001b[0;32m    243\u001b[0m \u001b[43m                            \u001b[49m\u001b[43munits\u001b[49m\u001b[38;5;241;43m=\u001b[39;49m\u001b[38;5;28;43mself\u001b[39;49m\u001b[38;5;241;43m.\u001b[39;49m\u001b[43munits\u001b[49m\u001b[43m,\u001b[49m\n\u001b[0;32m    244\u001b[0m \u001b[43m                            \u001b[49m\u001b[43mseed\u001b[49m\u001b[38;5;241;43m=\u001b[39;49m\u001b[38;5;28;43mself\u001b[39;49m\u001b[38;5;241;43m.\u001b[39;49m\u001b[43mseed\u001b[49m\u001b[43m)\u001b[49m\u001b[38;5;241m.\u001b[39mT\n\u001b[0;32m    245\u001b[0m yhat_boots \u001b[38;5;241m=\u001b[39m grid\u001b[38;5;241m.\u001b[39mdot(beta_boots)\u001b[38;5;241m.\u001b[39mT\n\u001b[0;32m    246\u001b[0m \u001b[38;5;28;01mreturn\u001b[39;00m yhat, yhat_boots\n",
      "File \u001b[1;32m~\\anaconda3\\envs\\testenv\\lib\\site-packages\\seaborn\\algorithms.py:98\u001b[0m, in \u001b[0;36mbootstrap\u001b[1;34m(*args, **kwargs)\u001b[0m\n\u001b[0;32m     96\u001b[0m     resampler \u001b[38;5;241m=\u001b[39m integers(\u001b[38;5;241m0\u001b[39m, n, n, dtype\u001b[38;5;241m=\u001b[39mnp\u001b[38;5;241m.\u001b[39mintp)  \u001b[38;5;66;03m# intp is indexing dtype\u001b[39;00m\n\u001b[0;32m     97\u001b[0m     sample \u001b[38;5;241m=\u001b[39m [a\u001b[38;5;241m.\u001b[39mtake(resampler, axis\u001b[38;5;241m=\u001b[39m\u001b[38;5;241m0\u001b[39m) \u001b[38;5;28;01mfor\u001b[39;00m a \u001b[38;5;129;01min\u001b[39;00m args]\n\u001b[1;32m---> 98\u001b[0m     boot_dist\u001b[38;5;241m.\u001b[39mappend(\u001b[43mf\u001b[49m\u001b[43m(\u001b[49m\u001b[38;5;241;43m*\u001b[39;49m\u001b[43msample\u001b[49m\u001b[43m,\u001b[49m\u001b[43m \u001b[49m\u001b[38;5;241;43m*\u001b[39;49m\u001b[38;5;241;43m*\u001b[39;49m\u001b[43mfunc_kwargs\u001b[49m\u001b[43m)\u001b[49m)\n\u001b[0;32m     99\u001b[0m \u001b[38;5;28;01mreturn\u001b[39;00m np\u001b[38;5;241m.\u001b[39marray(boot_dist)\n",
      "File \u001b[1;32m~\\anaconda3\\envs\\testenv\\lib\\site-packages\\seaborn\\regression.py:232\u001b[0m, in \u001b[0;36m_RegressionPlotter.fit_fast.<locals>.reg_func\u001b[1;34m(_x, _y)\u001b[0m\n\u001b[0;32m    231\u001b[0m \u001b[38;5;28;01mdef\u001b[39;00m \u001b[38;5;21mreg_func\u001b[39m(_x, _y):\n\u001b[1;32m--> 232\u001b[0m     \u001b[38;5;28;01mreturn\u001b[39;00m \u001b[43mnp\u001b[49m\u001b[38;5;241;43m.\u001b[39;49m\u001b[43mlinalg\u001b[49m\u001b[38;5;241;43m.\u001b[39;49m\u001b[43mpinv\u001b[49m\u001b[43m(\u001b[49m\u001b[43m_x\u001b[49m\u001b[43m)\u001b[49m\u001b[38;5;241m.\u001b[39mdot(_y)\n",
      "File \u001b[1;32m<__array_function__ internals>:200\u001b[0m, in \u001b[0;36mpinv\u001b[1;34m(*args, **kwargs)\u001b[0m\n",
      "File \u001b[1;32m~\\anaconda3\\envs\\testenv\\lib\\site-packages\\numpy\\linalg\\linalg.py:1983\u001b[0m, in \u001b[0;36mpinv\u001b[1;34m(a, rcond, hermitian)\u001b[0m\n\u001b[0;32m   1981\u001b[0m     \u001b[38;5;28;01mreturn\u001b[39;00m wrap(res)\n\u001b[0;32m   1982\u001b[0m a \u001b[38;5;241m=\u001b[39m a\u001b[38;5;241m.\u001b[39mconjugate()\n\u001b[1;32m-> 1983\u001b[0m u, s, vt \u001b[38;5;241m=\u001b[39m \u001b[43msvd\u001b[49m\u001b[43m(\u001b[49m\u001b[43ma\u001b[49m\u001b[43m,\u001b[49m\u001b[43m \u001b[49m\u001b[43mfull_matrices\u001b[49m\u001b[38;5;241;43m=\u001b[39;49m\u001b[38;5;28;43;01mFalse\u001b[39;49;00m\u001b[43m,\u001b[49m\u001b[43m \u001b[49m\u001b[43mhermitian\u001b[49m\u001b[38;5;241;43m=\u001b[39;49m\u001b[43mhermitian\u001b[49m\u001b[43m)\u001b[49m\n\u001b[0;32m   1985\u001b[0m \u001b[38;5;66;03m# discard small singular values\u001b[39;00m\n\u001b[0;32m   1986\u001b[0m cutoff \u001b[38;5;241m=\u001b[39m rcond[\u001b[38;5;241m.\u001b[39m\u001b[38;5;241m.\u001b[39m\u001b[38;5;241m.\u001b[39m, newaxis] \u001b[38;5;241m*\u001b[39m amax(s, axis\u001b[38;5;241m=\u001b[39m\u001b[38;5;241m-\u001b[39m\u001b[38;5;241m1\u001b[39m, keepdims\u001b[38;5;241m=\u001b[39m\u001b[38;5;28;01mTrue\u001b[39;00m)\n",
      "File \u001b[1;32m<__array_function__ internals>:200\u001b[0m, in \u001b[0;36msvd\u001b[1;34m(*args, **kwargs)\u001b[0m\n",
      "File \u001b[1;32m~\\anaconda3\\envs\\testenv\\lib\\site-packages\\numpy\\linalg\\linalg.py:1642\u001b[0m, in \u001b[0;36msvd\u001b[1;34m(a, full_matrices, compute_uv, hermitian)\u001b[0m\n\u001b[0;32m   1639\u001b[0m         gufunc \u001b[38;5;241m=\u001b[39m _umath_linalg\u001b[38;5;241m.\u001b[39msvd_n_s\n\u001b[0;32m   1641\u001b[0m signature \u001b[38;5;241m=\u001b[39m \u001b[38;5;124m'\u001b[39m\u001b[38;5;124mD->DdD\u001b[39m\u001b[38;5;124m'\u001b[39m \u001b[38;5;28;01mif\u001b[39;00m isComplexType(t) \u001b[38;5;28;01melse\u001b[39;00m \u001b[38;5;124m'\u001b[39m\u001b[38;5;124md->ddd\u001b[39m\u001b[38;5;124m'\u001b[39m\n\u001b[1;32m-> 1642\u001b[0m u, s, vh \u001b[38;5;241m=\u001b[39m \u001b[43mgufunc\u001b[49m\u001b[43m(\u001b[49m\u001b[43ma\u001b[49m\u001b[43m,\u001b[49m\u001b[43m \u001b[49m\u001b[43msignature\u001b[49m\u001b[38;5;241;43m=\u001b[39;49m\u001b[43msignature\u001b[49m\u001b[43m,\u001b[49m\u001b[43m \u001b[49m\u001b[43mextobj\u001b[49m\u001b[38;5;241;43m=\u001b[39;49m\u001b[43mextobj\u001b[49m\u001b[43m)\u001b[49m\n\u001b[0;32m   1643\u001b[0m u \u001b[38;5;241m=\u001b[39m u\u001b[38;5;241m.\u001b[39mastype(result_t, copy\u001b[38;5;241m=\u001b[39m\u001b[38;5;28;01mFalse\u001b[39;00m)\n\u001b[0;32m   1644\u001b[0m s \u001b[38;5;241m=\u001b[39m s\u001b[38;5;241m.\u001b[39mastype(_realType(result_t), copy\u001b[38;5;241m=\u001b[39m\u001b[38;5;28;01mFalse\u001b[39;00m)\n",
      "\u001b[1;31mKeyboardInterrupt\u001b[0m: "
     ]
    },
    {
     "data": {
      "image/png": "[encoded data removed]",
      "text/plain": [
       "<Figure size 1600x1600 with 16 Axes>"
      ]
     },
     "metadata": {},
     "output_type": "display_data"
    }
   ],
   "source": [
    "#각 독립변수의 산포도 그래프\n",
    "fig, axs = plt.subplots(figsize=(16,16), ncols=4, nrows=4)\n",
    "for i , feature in enumerate(data):\n",
    "    row = int(i/4)\n",
    "    col = i%4\n",
    "    sns.regplot(data=data, x=feature, y='거래금액(만원)', ax=axs[row][col])"
   ]
  },
  {
   "cell_type": "code",
   "execution_count": 26,
   "id": "ea0c7518",
   "metadata": {},
   "outputs": [
    {
     "data": {
      "text/plain": [
       "시군구         0\n",
       "단지명         0\n",
       "전용면적(㎡)     0\n",
       "계약년월        0\n",
       "거래금액(만원)    0\n",
       "층           0\n",
       "건축년도        0\n",
       "도로명         0\n",
       "dtype: int64"
      ]
     },
     "execution_count": 26,
     "metadata": {},
     "output_type": "execute_result"
    }
   ],
   "source": [
    "data.isna().sum()"
   ]
  },
  {
   "cell_type": "code",
   "execution_count": 27,
   "id": "7401c79c",
   "metadata": {
    "scrolled": true
   },
   "outputs": [],
   "source": [
    "sigungu = data['시군구']"
   ]
  },
  {
   "cell_type": "code",
   "execution_count": 28,
   "id": "afd75471",
   "metadata": {},
   "outputs": [],
   "source": [
    "data2 = data['시군구'].str.split(expand=True, n=2)"
   ]
  },
  {
   "cell_type": "code",
   "execution_count": 29,
   "id": "ad53a815",
   "metadata": {},
   "outputs": [
    {
     "data": {
      "text/html": [
       "<div>\n",
       "<style scoped>\n",
       "    .dataframe tbody tr th:only-of-type {\n",
       "        vertical-align: middle;\n",
       "    }\n",
       "\n",
       "    .dataframe tbody tr th {\n",
       "        vertical-align: top;\n",
       "    }\n",
       "\n",
       "    .dataframe thead th {\n",
       "        text-align: right;\n",
       "    }\n",
       "</style>\n",
       "<table border=\"1\" class=\"dataframe\">\n",
       "  <thead>\n",
       "    <tr style=\"text-align: right;\">\n",
       "      <th></th>\n",
       "      <th>0</th>\n",
       "      <th>1</th>\n",
       "      <th>2</th>\n",
       "    </tr>\n",
       "  </thead>\n",
       "  <tbody>\n",
       "    <tr>\n",
       "      <th>0</th>\n",
       "      <td>서울특별시</td>\n",
       "      <td>강남구</td>\n",
       "      <td>개포동</td>\n",
       "    </tr>\n",
       "    <tr>\n",
       "      <th>1</th>\n",
       "      <td>서울특별시</td>\n",
       "      <td>강남구</td>\n",
       "      <td>개포동</td>\n",
       "    </tr>\n",
       "    <tr>\n",
       "      <th>2</th>\n",
       "      <td>서울특별시</td>\n",
       "      <td>강남구</td>\n",
       "      <td>개포동</td>\n",
       "    </tr>\n",
       "    <tr>\n",
       "      <th>3</th>\n",
       "      <td>서울특별시</td>\n",
       "      <td>강남구</td>\n",
       "      <td>개포동</td>\n",
       "    </tr>\n",
       "    <tr>\n",
       "      <th>4</th>\n",
       "      <td>서울특별시</td>\n",
       "      <td>강남구</td>\n",
       "      <td>개포동</td>\n",
       "    </tr>\n",
       "    <tr>\n",
       "      <th>...</th>\n",
       "      <td>...</td>\n",
       "      <td>...</td>\n",
       "      <td>...</td>\n",
       "    </tr>\n",
       "    <tr>\n",
       "      <th>1215014</th>\n",
       "      <td>서울특별시</td>\n",
       "      <td>중랑구</td>\n",
       "      <td>신내동</td>\n",
       "    </tr>\n",
       "    <tr>\n",
       "      <th>1215015</th>\n",
       "      <td>서울특별시</td>\n",
       "      <td>중랑구</td>\n",
       "      <td>신내동</td>\n",
       "    </tr>\n",
       "    <tr>\n",
       "      <th>1215016</th>\n",
       "      <td>서울특별시</td>\n",
       "      <td>중랑구</td>\n",
       "      <td>신내동</td>\n",
       "    </tr>\n",
       "    <tr>\n",
       "      <th>1215017</th>\n",
       "      <td>서울특별시</td>\n",
       "      <td>중랑구</td>\n",
       "      <td>중화동</td>\n",
       "    </tr>\n",
       "    <tr>\n",
       "      <th>1215018</th>\n",
       "      <td>서울특별시</td>\n",
       "      <td>중랑구</td>\n",
       "      <td>중화동</td>\n",
       "    </tr>\n",
       "  </tbody>\n",
       "</table>\n",
       "<p>1215019 rows × 3 columns</p>\n",
       "</div>"
      ],
      "text/plain": [
       "             0    1    2\n",
       "0        서울특별시  강남구  개포동\n",
       "1        서울특별시  강남구  개포동\n",
       "2        서울특별시  강남구  개포동\n",
       "3        서울특별시  강남구  개포동\n",
       "4        서울특별시  강남구  개포동\n",
       "...        ...  ...  ...\n",
       "1215014  서울특별시  중랑구  신내동\n",
       "1215015  서울특별시  중랑구  신내동\n",
       "1215016  서울특별시  중랑구  신내동\n",
       "1215017  서울특별시  중랑구  중화동\n",
       "1215018  서울특별시  중랑구  중화동\n",
       "\n",
       "[1215019 rows x 3 columns]"
      ]
     },
     "execution_count": 29,
     "metadata": {},
     "output_type": "execute_result"
    }
   ],
   "source": [
    "data2"
   ]
  },
  {
   "cell_type": "code",
   "execution_count": 30,
   "id": "38ba45cd",
   "metadata": {},
   "outputs": [],
   "source": [
    "data2.columns=['시','구','동']"
   ]
  },
  {
   "cell_type": "code",
   "execution_count": 31,
   "id": "22b86ffb",
   "metadata": {},
   "outputs": [],
   "source": [
    "data = pd.concat([data2, data], axis=1)"
   ]
  },
  {
   "cell_type": "code",
   "execution_count": 32,
   "id": "9f18c285",
   "metadata": {},
   "outputs": [],
   "source": [
    "data = data.drop('시군구', axis=1)"
   ]
  },
  {
   "cell_type": "code",
   "execution_count": 33,
   "id": "035d47f3",
   "metadata": {
    "scrolled": true
   },
   "outputs": [
    {
     "data": {
      "text/html": [
       "<div>\n",
       "<style scoped>\n",
       "    .dataframe tbody tr th:only-of-type {\n",
       "        vertical-align: middle;\n",
       "    }\n",
       "\n",
       "    .dataframe tbody tr th {\n",
       "        vertical-align: top;\n",
       "    }\n",
       "\n",
       "    .dataframe thead th {\n",
       "        text-align: right;\n",
       "    }\n",
       "</style>\n",
       "<table border=\"1\" class=\"dataframe\">\n",
       "  <thead>\n",
       "    <tr style=\"text-align: right;\">\n",
       "      <th></th>\n",
       "      <th>시</th>\n",
       "      <th>구</th>\n",
       "      <th>동</th>\n",
       "      <th>단지명</th>\n",
       "      <th>전용면적(㎡)</th>\n",
       "      <th>계약년월</th>\n",
       "      <th>거래금액(만원)</th>\n",
       "      <th>층</th>\n",
       "      <th>건축년도</th>\n",
       "      <th>도로명</th>\n",
       "    </tr>\n",
       "  </thead>\n",
       "  <tbody>\n",
       "    <tr>\n",
       "      <th>0</th>\n",
       "      <td>서울특별시</td>\n",
       "      <td>강남구</td>\n",
       "      <td>개포동</td>\n",
       "      <td>개포6차우성아파트1동~8동</td>\n",
       "      <td>67.28</td>\n",
       "      <td>200601</td>\n",
       "      <td>54500</td>\n",
       "      <td>3</td>\n",
       "      <td>1987</td>\n",
       "      <td>언주로 3</td>\n",
       "    </tr>\n",
       "    <tr>\n",
       "      <th>1</th>\n",
       "      <td>서울특별시</td>\n",
       "      <td>강남구</td>\n",
       "      <td>개포동</td>\n",
       "      <td>개포6차우성아파트1동~8동</td>\n",
       "      <td>79.97</td>\n",
       "      <td>200601</td>\n",
       "      <td>67000</td>\n",
       "      <td>3</td>\n",
       "      <td>1987</td>\n",
       "      <td>언주로 3</td>\n",
       "    </tr>\n",
       "    <tr>\n",
       "      <th>2</th>\n",
       "      <td>서울특별시</td>\n",
       "      <td>강남구</td>\n",
       "      <td>개포동</td>\n",
       "      <td>개포6차우성아파트1동~8동</td>\n",
       "      <td>79.97</td>\n",
       "      <td>200601</td>\n",
       "      <td>67500</td>\n",
       "      <td>4</td>\n",
       "      <td>1987</td>\n",
       "      <td>언주로 3</td>\n",
       "    </tr>\n",
       "    <tr>\n",
       "      <th>3</th>\n",
       "      <td>서울특별시</td>\n",
       "      <td>강남구</td>\n",
       "      <td>개포동</td>\n",
       "      <td>개포우성3차</td>\n",
       "      <td>104.43</td>\n",
       "      <td>200601</td>\n",
       "      <td>73000</td>\n",
       "      <td>9</td>\n",
       "      <td>1984</td>\n",
       "      <td>개포로 307</td>\n",
       "    </tr>\n",
       "    <tr>\n",
       "      <th>4</th>\n",
       "      <td>서울특별시</td>\n",
       "      <td>강남구</td>\n",
       "      <td>개포동</td>\n",
       "      <td>개포우성3차</td>\n",
       "      <td>104.43</td>\n",
       "      <td>200601</td>\n",
       "      <td>71250</td>\n",
       "      <td>6</td>\n",
       "      <td>1984</td>\n",
       "      <td>개포로 307</td>\n",
       "    </tr>\n",
       "    <tr>\n",
       "      <th>...</th>\n",
       "      <td>...</td>\n",
       "      <td>...</td>\n",
       "      <td>...</td>\n",
       "      <td>...</td>\n",
       "      <td>...</td>\n",
       "      <td>...</td>\n",
       "      <td>...</td>\n",
       "      <td>...</td>\n",
       "      <td>...</td>\n",
       "      <td>...</td>\n",
       "    </tr>\n",
       "    <tr>\n",
       "      <th>1215014</th>\n",
       "      <td>서울특별시</td>\n",
       "      <td>중랑구</td>\n",
       "      <td>신내동</td>\n",
       "      <td>화성.두산아파트</td>\n",
       "      <td>84.99</td>\n",
       "      <td>202308</td>\n",
       "      <td>73800</td>\n",
       "      <td>11</td>\n",
       "      <td>1995.0</td>\n",
       "      <td>신내로 155</td>\n",
       "    </tr>\n",
       "    <tr>\n",
       "      <th>1215015</th>\n",
       "      <td>서울특별시</td>\n",
       "      <td>중랑구</td>\n",
       "      <td>신내동</td>\n",
       "      <td>화성.두산아파트</td>\n",
       "      <td>84.99</td>\n",
       "      <td>202308</td>\n",
       "      <td>70000</td>\n",
       "      <td>12</td>\n",
       "      <td>1995.0</td>\n",
       "      <td>신내로 155</td>\n",
       "    </tr>\n",
       "    <tr>\n",
       "      <th>1215016</th>\n",
       "      <td>서울특별시</td>\n",
       "      <td>중랑구</td>\n",
       "      <td>신내동</td>\n",
       "      <td>화성.두산아파트</td>\n",
       "      <td>66.96</td>\n",
       "      <td>202308</td>\n",
       "      <td>59000</td>\n",
       "      <td>8</td>\n",
       "      <td>1995.0</td>\n",
       "      <td>신내로 155</td>\n",
       "    </tr>\n",
       "    <tr>\n",
       "      <th>1215017</th>\n",
       "      <td>서울특별시</td>\n",
       "      <td>중랑구</td>\n",
       "      <td>중화동</td>\n",
       "      <td>한신아파트(103~109)</td>\n",
       "      <td>50.37</td>\n",
       "      <td>202308</td>\n",
       "      <td>54200</td>\n",
       "      <td>9</td>\n",
       "      <td>1997.0</td>\n",
       "      <td>동일로 752</td>\n",
       "    </tr>\n",
       "    <tr>\n",
       "      <th>1215018</th>\n",
       "      <td>서울특별시</td>\n",
       "      <td>중랑구</td>\n",
       "      <td>중화동</td>\n",
       "      <td>한신아파트(103~109)</td>\n",
       "      <td>59.76</td>\n",
       "      <td>202308</td>\n",
       "      <td>58000</td>\n",
       "      <td>2</td>\n",
       "      <td>1997.0</td>\n",
       "      <td>동일로 752</td>\n",
       "    </tr>\n",
       "  </tbody>\n",
       "</table>\n",
       "<p>1215019 rows × 10 columns</p>\n",
       "</div>"
      ],
      "text/plain": [
       "             시    구    동             단지명  전용면적(㎡)    계약년월  거래금액(만원)   층  \\\n",
       "0        서울특별시  강남구  개포동  개포6차우성아파트1동~8동    67.28  200601     54500   3   \n",
       "1        서울특별시  강남구  개포동  개포6차우성아파트1동~8동    79.97  200601     67000   3   \n",
       "2        서울특별시  강남구  개포동  개포6차우성아파트1동~8동    79.97  200601     67500   4   \n",
       "3        서울특별시  강남구  개포동          개포우성3차   104.43  200601     73000   9   \n",
       "4        서울특별시  강남구  개포동          개포우성3차   104.43  200601     71250   6   \n",
       "...        ...  ...  ...             ...      ...     ...       ...  ..   \n",
       "1215014  서울특별시  중랑구  신내동        화성.두산아파트    84.99  202308     73800  11   \n",
       "1215015  서울특별시  중랑구  신내동        화성.두산아파트    84.99  202308     70000  12   \n",
       "1215016  서울특별시  중랑구  신내동        화성.두산아파트    66.96  202308     59000   8   \n",
       "1215017  서울특별시  중랑구  중화동  한신아파트(103~109)    50.37  202308     54200   9   \n",
       "1215018  서울특별시  중랑구  중화동  한신아파트(103~109)    59.76  202308     58000   2   \n",
       "\n",
       "           건축년도      도로명  \n",
       "0          1987    언주로 3  \n",
       "1          1987    언주로 3  \n",
       "2          1987    언주로 3  \n",
       "3          1984  개포로 307  \n",
       "4          1984  개포로 307  \n",
       "...         ...      ...  \n",
       "1215014  1995.0  신내로 155  \n",
       "1215015  1995.0  신내로 155  \n",
       "1215016  1995.0  신내로 155  \n",
       "1215017  1997.0  동일로 752  \n",
       "1215018  1997.0  동일로 752  \n",
       "\n",
       "[1215019 rows x 10 columns]"
      ]
     },
     "execution_count": 33,
     "metadata": {},
     "output_type": "execute_result"
    }
   ],
   "source": [
    "data"
   ]
  },
  {
   "cell_type": "markdown",
   "id": "5af88673",
   "metadata": {},
   "source": [
    "* iloc 로 인덱싱을 사용해서 잘라보자.<br>\n",
    " iloc<br>\n",
    "인덱싱/슬라이싱을 사용해서 원하는 행과 컬럼만 가져오기 <br>\n",
    "데이터프레임.iloc[행시작번호:행끝번호, 열시작번호:열끝번호]<br>\n",
    "\n",
    "data2.iloc[4:10, 3:7]"
   ]
  },
  {
   "cell_type": "code",
   "execution_count": 34,
   "id": "394ba691",
   "metadata": {},
   "outputs": [],
   "source": [
    "data = data.iloc[:,:-3]"
   ]
  },
  {
   "cell_type": "code",
   "execution_count": 35,
   "id": "20924d84",
   "metadata": {
    "scrolled": true
   },
   "outputs": [
    {
     "data": {
      "text/html": [
       "<div>\n",
       "<style scoped>\n",
       "    .dataframe tbody tr th:only-of-type {\n",
       "        vertical-align: middle;\n",
       "    }\n",
       "\n",
       "    .dataframe tbody tr th {\n",
       "        vertical-align: top;\n",
       "    }\n",
       "\n",
       "    .dataframe thead th {\n",
       "        text-align: right;\n",
       "    }\n",
       "</style>\n",
       "<table border=\"1\" class=\"dataframe\">\n",
       "  <thead>\n",
       "    <tr style=\"text-align: right;\">\n",
       "      <th></th>\n",
       "      <th>시</th>\n",
       "      <th>구</th>\n",
       "      <th>동</th>\n",
       "      <th>단지명</th>\n",
       "      <th>전용면적(㎡)</th>\n",
       "      <th>계약년월</th>\n",
       "      <th>거래금액(만원)</th>\n",
       "    </tr>\n",
       "  </thead>\n",
       "  <tbody>\n",
       "    <tr>\n",
       "      <th>0</th>\n",
       "      <td>서울특별시</td>\n",
       "      <td>강남구</td>\n",
       "      <td>개포동</td>\n",
       "      <td>개포6차우성아파트1동~8동</td>\n",
       "      <td>67.28</td>\n",
       "      <td>200601</td>\n",
       "      <td>54500</td>\n",
       "    </tr>\n",
       "    <tr>\n",
       "      <th>1</th>\n",
       "      <td>서울특별시</td>\n",
       "      <td>강남구</td>\n",
       "      <td>개포동</td>\n",
       "      <td>개포6차우성아파트1동~8동</td>\n",
       "      <td>79.97</td>\n",
       "      <td>200601</td>\n",
       "      <td>67000</td>\n",
       "    </tr>\n",
       "    <tr>\n",
       "      <th>2</th>\n",
       "      <td>서울특별시</td>\n",
       "      <td>강남구</td>\n",
       "      <td>개포동</td>\n",
       "      <td>개포6차우성아파트1동~8동</td>\n",
       "      <td>79.97</td>\n",
       "      <td>200601</td>\n",
       "      <td>67500</td>\n",
       "    </tr>\n",
       "    <tr>\n",
       "      <th>3</th>\n",
       "      <td>서울특별시</td>\n",
       "      <td>강남구</td>\n",
       "      <td>개포동</td>\n",
       "      <td>개포우성3차</td>\n",
       "      <td>104.43</td>\n",
       "      <td>200601</td>\n",
       "      <td>73000</td>\n",
       "    </tr>\n",
       "    <tr>\n",
       "      <th>4</th>\n",
       "      <td>서울특별시</td>\n",
       "      <td>강남구</td>\n",
       "      <td>개포동</td>\n",
       "      <td>개포우성3차</td>\n",
       "      <td>104.43</td>\n",
       "      <td>200601</td>\n",
       "      <td>71250</td>\n",
       "    </tr>\n",
       "    <tr>\n",
       "      <th>...</th>\n",
       "      <td>...</td>\n",
       "      <td>...</td>\n",
       "      <td>...</td>\n",
       "      <td>...</td>\n",
       "      <td>...</td>\n",
       "      <td>...</td>\n",
       "      <td>...</td>\n",
       "    </tr>\n",
       "    <tr>\n",
       "      <th>1215014</th>\n",
       "      <td>서울특별시</td>\n",
       "      <td>중랑구</td>\n",
       "      <td>신내동</td>\n",
       "      <td>화성.두산아파트</td>\n",
       "      <td>84.99</td>\n",
       "      <td>202308</td>\n",
       "      <td>73800</td>\n",
       "    </tr>\n",
       "    <tr>\n",
       "      <th>1215015</th>\n",
       "      <td>서울특별시</td>\n",
       "      <td>중랑구</td>\n",
       "      <td>신내동</td>\n",
       "      <td>화성.두산아파트</td>\n",
       "      <td>84.99</td>\n",
       "      <td>202308</td>\n",
       "      <td>70000</td>\n",
       "    </tr>\n",
       "    <tr>\n",
       "      <th>1215016</th>\n",
       "      <td>서울특별시</td>\n",
       "      <td>중랑구</td>\n",
       "      <td>신내동</td>\n",
       "      <td>화성.두산아파트</td>\n",
       "      <td>66.96</td>\n",
       "      <td>202308</td>\n",
       "      <td>59000</td>\n",
       "    </tr>\n",
       "    <tr>\n",
       "      <th>1215017</th>\n",
       "      <td>서울특별시</td>\n",
       "      <td>중랑구</td>\n",
       "      <td>중화동</td>\n",
       "      <td>한신아파트(103~109)</td>\n",
       "      <td>50.37</td>\n",
       "      <td>202308</td>\n",
       "      <td>54200</td>\n",
       "    </tr>\n",
       "    <tr>\n",
       "      <th>1215018</th>\n",
       "      <td>서울특별시</td>\n",
       "      <td>중랑구</td>\n",
       "      <td>중화동</td>\n",
       "      <td>한신아파트(103~109)</td>\n",
       "      <td>59.76</td>\n",
       "      <td>202308</td>\n",
       "      <td>58000</td>\n",
       "    </tr>\n",
       "  </tbody>\n",
       "</table>\n",
       "<p>1215019 rows × 7 columns</p>\n",
       "</div>"
      ],
      "text/plain": [
       "             시    구    동             단지명  전용면적(㎡)    계약년월  거래금액(만원)\n",
       "0        서울특별시  강남구  개포동  개포6차우성아파트1동~8동    67.28  200601     54500\n",
       "1        서울특별시  강남구  개포동  개포6차우성아파트1동~8동    79.97  200601     67000\n",
       "2        서울특별시  강남구  개포동  개포6차우성아파트1동~8동    79.97  200601     67500\n",
       "3        서울특별시  강남구  개포동          개포우성3차   104.43  200601     73000\n",
       "4        서울특별시  강남구  개포동          개포우성3차   104.43  200601     71250\n",
       "...        ...  ...  ...             ...      ...     ...       ...\n",
       "1215014  서울특별시  중랑구  신내동        화성.두산아파트    84.99  202308     73800\n",
       "1215015  서울특별시  중랑구  신내동        화성.두산아파트    84.99  202308     70000\n",
       "1215016  서울특별시  중랑구  신내동        화성.두산아파트    66.96  202308     59000\n",
       "1215017  서울특별시  중랑구  중화동  한신아파트(103~109)    50.37  202308     54200\n",
       "1215018  서울특별시  중랑구  중화동  한신아파트(103~109)    59.76  202308     58000\n",
       "\n",
       "[1215019 rows x 7 columns]"
      ]
     },
     "execution_count": 35,
     "metadata": {},
     "output_type": "execute_result"
    }
   ],
   "source": [
    "data"
   ]
  },
  {
   "cell_type": "code",
   "execution_count": 36,
   "id": "aeb275c0",
   "metadata": {
    "scrolled": true
   },
   "outputs": [
    {
     "data": {
      "text/plain": [
       "0          서울특별시 강남구 개포동\n",
       "1          서울특별시 강남구 개포동\n",
       "2          서울특별시 강남구 개포동\n",
       "3          서울특별시 강남구 개포동\n",
       "4          서울특별시 강남구 개포동\n",
       "               ...      \n",
       "1215014    서울특별시 중랑구 신내동\n",
       "1215015    서울특별시 중랑구 신내동\n",
       "1215016    서울특별시 중랑구 신내동\n",
       "1215017    서울특별시 중랑구 중화동\n",
       "1215018    서울특별시 중랑구 중화동\n",
       "Name: 시군구, Length: 1215019, dtype: object"
      ]
     },
     "execution_count": 36,
     "metadata": {},
     "output_type": "execute_result"
    }
   ],
   "source": [
    "sigungu"
   ]
  },
  {
   "cell_type": "code",
   "execution_count": 37,
   "id": "c4d5bc5b",
   "metadata": {},
   "outputs": [],
   "source": [
    "base_rate = pd.read_excel(\"C:/bigdata/data/전국부동산실거래가/한국은행기준금리1999-2023.xlsx\")"
   ]
  },
  {
   "cell_type": "code",
   "execution_count": 38,
   "id": "27531fe0",
   "metadata": {},
   "outputs": [],
   "source": [
    "edu_dist = pd.read_excel(\"C:/bigdata/data/전국부동산실거래가/전국학군정보.xlsx\")"
   ]
  },
  {
   "cell_type": "code",
   "execution_count": 39,
   "id": "b0e2f08f",
   "metadata": {
    "scrolled": true
   },
   "outputs": [
    {
     "data": {
      "text/html": [
       "<div>\n",
       "<style scoped>\n",
       "    .dataframe tbody tr th:only-of-type {\n",
       "        vertical-align: middle;\n",
       "    }\n",
       "\n",
       "    .dataframe tbody tr th {\n",
       "        vertical-align: top;\n",
       "    }\n",
       "\n",
       "    .dataframe thead th {\n",
       "        text-align: right;\n",
       "    }\n",
       "</style>\n",
       "<table border=\"1\" class=\"dataframe\">\n",
       "  <thead>\n",
       "    <tr style=\"text-align: right;\">\n",
       "      <th></th>\n",
       "      <th>변경연도</th>\n",
       "      <th>변경일자</th>\n",
       "      <th>기준금리</th>\n",
       "    </tr>\n",
       "  </thead>\n",
       "  <tbody>\n",
       "    <tr>\n",
       "      <th>0</th>\n",
       "      <td>2023</td>\n",
       "      <td>01월 13일</td>\n",
       "      <td>3.50</td>\n",
       "    </tr>\n",
       "    <tr>\n",
       "      <th>1</th>\n",
       "      <td>2022</td>\n",
       "      <td>11월 24일</td>\n",
       "      <td>3.25</td>\n",
       "    </tr>\n",
       "    <tr>\n",
       "      <th>2</th>\n",
       "      <td>2022</td>\n",
       "      <td>10월 12일</td>\n",
       "      <td>3.00</td>\n",
       "    </tr>\n",
       "    <tr>\n",
       "      <th>3</th>\n",
       "      <td>2022</td>\n",
       "      <td>08월 25일</td>\n",
       "      <td>2.50</td>\n",
       "    </tr>\n",
       "    <tr>\n",
       "      <th>4</th>\n",
       "      <td>2022</td>\n",
       "      <td>07월 13일</td>\n",
       "      <td>2.25</td>\n",
       "    </tr>\n",
       "  </tbody>\n",
       "</table>\n",
       "</div>"
      ],
      "text/plain": [
       "   변경연도     변경일자  기준금리\n",
       "0  2023  01월 13일  3.50\n",
       "1  2022  11월 24일  3.25\n",
       "2  2022  10월 12일  3.00\n",
       "3  2022  08월 25일  2.50\n",
       "4  2022  07월 13일  2.25"
      ]
     },
     "execution_count": 39,
     "metadata": {},
     "output_type": "execute_result"
    }
   ],
   "source": [
    "base_rate.head()"
   ]
  },
  {
   "cell_type": "markdown",
   "id": "a39b8f17",
   "metadata": {},
   "source": [
    "변경일자에 월만 남기기 - 변경연도와 변경일자 합치기 - merge로 합치기"
   ]
  },
  {
   "cell_type": "code",
   "execution_count": 40,
   "id": "c2760738",
   "metadata": {
    "scrolled": true
   },
   "outputs": [],
   "source": [
    "# 변경일자에 앞 두자리 숫자만 추출하기.\n",
    "base_rate['변경일자'] = base_rate['변경일자'].str[:2]"
   ]
  },
  {
   "cell_type": "code",
   "execution_count": 41,
   "id": "5a526585",
   "metadata": {},
   "outputs": [
    {
     "data": {
      "text/plain": [
       "0    01\n",
       "1    11\n",
       "2    10\n",
       "3    08\n",
       "4    07\n",
       "Name: 변경일자, dtype: object"
      ]
     },
     "execution_count": 41,
     "metadata": {},
     "output_type": "execute_result"
    }
   ],
   "source": [
    "base_rate['변경일자'].head()"
   ]
  },
  {
   "cell_type": "code",
   "execution_count": 42,
   "id": "4c9a46cf",
   "metadata": {},
   "outputs": [
    {
     "data": {
      "text/html": [
       "<div>\n",
       "<style scoped>\n",
       "    .dataframe tbody tr th:only-of-type {\n",
       "        vertical-align: middle;\n",
       "    }\n",
       "\n",
       "    .dataframe tbody tr th {\n",
       "        vertical-align: top;\n",
       "    }\n",
       "\n",
       "    .dataframe thead th {\n",
       "        text-align: right;\n",
       "    }\n",
       "</style>\n",
       "<table border=\"1\" class=\"dataframe\">\n",
       "  <thead>\n",
       "    <tr style=\"text-align: right;\">\n",
       "      <th></th>\n",
       "      <th>변경연도</th>\n",
       "      <th>변경일자</th>\n",
       "      <th>기준금리</th>\n",
       "    </tr>\n",
       "  </thead>\n",
       "  <tbody>\n",
       "    <tr>\n",
       "      <th>0</th>\n",
       "      <td>2023</td>\n",
       "      <td>01</td>\n",
       "      <td>3.50</td>\n",
       "    </tr>\n",
       "    <tr>\n",
       "      <th>1</th>\n",
       "      <td>2022</td>\n",
       "      <td>11</td>\n",
       "      <td>3.25</td>\n",
       "    </tr>\n",
       "    <tr>\n",
       "      <th>2</th>\n",
       "      <td>2022</td>\n",
       "      <td>10</td>\n",
       "      <td>3.00</td>\n",
       "    </tr>\n",
       "    <tr>\n",
       "      <th>3</th>\n",
       "      <td>2022</td>\n",
       "      <td>08</td>\n",
       "      <td>2.50</td>\n",
       "    </tr>\n",
       "    <tr>\n",
       "      <th>4</th>\n",
       "      <td>2022</td>\n",
       "      <td>07</td>\n",
       "      <td>2.25</td>\n",
       "    </tr>\n",
       "  </tbody>\n",
       "</table>\n",
       "</div>"
      ],
      "text/plain": [
       "   변경연도 변경일자  기준금리\n",
       "0  2023   01  3.50\n",
       "1  2022   11  3.25\n",
       "2  2022   10  3.00\n",
       "3  2022   08  2.50\n",
       "4  2022   07  2.25"
      ]
     },
     "execution_count": 42,
     "metadata": {},
     "output_type": "execute_result"
    }
   ],
   "source": [
    "base_rate.head()"
   ]
  },
  {
   "cell_type": "code",
   "execution_count": 43,
   "id": "b2655426",
   "metadata": {},
   "outputs": [],
   "source": [
    "# df['합친 열'] = df['열1'] + df['열2']\n",
    "base_rate['기준금리년월'] = base_rate['변경연도'].astype(str) + base_rate['변경일자'].astype(str)"
   ]
  },
  {
   "cell_type": "code",
   "execution_count": 44,
   "id": "efbead2a",
   "metadata": {},
   "outputs": [
    {
     "data": {
      "text/html": [
       "<div>\n",
       "<style scoped>\n",
       "    .dataframe tbody tr th:only-of-type {\n",
       "        vertical-align: middle;\n",
       "    }\n",
       "\n",
       "    .dataframe tbody tr th {\n",
       "        vertical-align: top;\n",
       "    }\n",
       "\n",
       "    .dataframe thead th {\n",
       "        text-align: right;\n",
       "    }\n",
       "</style>\n",
       "<table border=\"1\" class=\"dataframe\">\n",
       "  <thead>\n",
       "    <tr style=\"text-align: right;\">\n",
       "      <th></th>\n",
       "      <th>변경연도</th>\n",
       "      <th>변경일자</th>\n",
       "      <th>기준금리</th>\n",
       "      <th>기준금리년월</th>\n",
       "    </tr>\n",
       "  </thead>\n",
       "  <tbody>\n",
       "    <tr>\n",
       "      <th>0</th>\n",
       "      <td>2023</td>\n",
       "      <td>01</td>\n",
       "      <td>3.50</td>\n",
       "      <td>202301</td>\n",
       "    </tr>\n",
       "    <tr>\n",
       "      <th>1</th>\n",
       "      <td>2022</td>\n",
       "      <td>11</td>\n",
       "      <td>3.25</td>\n",
       "      <td>202211</td>\n",
       "    </tr>\n",
       "    <tr>\n",
       "      <th>2</th>\n",
       "      <td>2022</td>\n",
       "      <td>10</td>\n",
       "      <td>3.00</td>\n",
       "      <td>202210</td>\n",
       "    </tr>\n",
       "    <tr>\n",
       "      <th>3</th>\n",
       "      <td>2022</td>\n",
       "      <td>08</td>\n",
       "      <td>2.50</td>\n",
       "      <td>202208</td>\n",
       "    </tr>\n",
       "    <tr>\n",
       "      <th>4</th>\n",
       "      <td>2022</td>\n",
       "      <td>07</td>\n",
       "      <td>2.25</td>\n",
       "      <td>202207</td>\n",
       "    </tr>\n",
       "  </tbody>\n",
       "</table>\n",
       "</div>"
      ],
      "text/plain": [
       "   변경연도 변경일자  기준금리  기준금리년월\n",
       "0  2023   01  3.50  202301\n",
       "1  2022   11  3.25  202211\n",
       "2  2022   10  3.00  202210\n",
       "3  2022   08  2.50  202208\n",
       "4  2022   07  2.25  202207"
      ]
     },
     "execution_count": 44,
     "metadata": {},
     "output_type": "execute_result"
    }
   ],
   "source": [
    "base_rate.head()"
   ]
  },
  {
   "cell_type": "code",
   "execution_count": 45,
   "id": "be241146",
   "metadata": {},
   "outputs": [],
   "source": [
    "base_rate.drop(['변경일자', '변경연도'], axis=1, inplace=True)"
   ]
  },
  {
   "cell_type": "code",
   "execution_count": 46,
   "id": "9ccd76d5",
   "metadata": {},
   "outputs": [
    {
     "data": {
      "text/html": [
       "<div>\n",
       "<style scoped>\n",
       "    .dataframe tbody tr th:only-of-type {\n",
       "        vertical-align: middle;\n",
       "    }\n",
       "\n",
       "    .dataframe tbody tr th {\n",
       "        vertical-align: top;\n",
       "    }\n",
       "\n",
       "    .dataframe thead th {\n",
       "        text-align: right;\n",
       "    }\n",
       "</style>\n",
       "<table border=\"1\" class=\"dataframe\">\n",
       "  <thead>\n",
       "    <tr style=\"text-align: right;\">\n",
       "      <th></th>\n",
       "      <th>시</th>\n",
       "      <th>구</th>\n",
       "      <th>동</th>\n",
       "      <th>단지명</th>\n",
       "      <th>전용면적(㎡)</th>\n",
       "      <th>계약년월</th>\n",
       "      <th>거래금액(만원)</th>\n",
       "    </tr>\n",
       "  </thead>\n",
       "  <tbody>\n",
       "    <tr>\n",
       "      <th>0</th>\n",
       "      <td>서울특별시</td>\n",
       "      <td>강남구</td>\n",
       "      <td>개포동</td>\n",
       "      <td>개포6차우성아파트1동~8동</td>\n",
       "      <td>67.28</td>\n",
       "      <td>200601</td>\n",
       "      <td>54500</td>\n",
       "    </tr>\n",
       "    <tr>\n",
       "      <th>1</th>\n",
       "      <td>서울특별시</td>\n",
       "      <td>강남구</td>\n",
       "      <td>개포동</td>\n",
       "      <td>개포6차우성아파트1동~8동</td>\n",
       "      <td>79.97</td>\n",
       "      <td>200601</td>\n",
       "      <td>67000</td>\n",
       "    </tr>\n",
       "    <tr>\n",
       "      <th>2</th>\n",
       "      <td>서울특별시</td>\n",
       "      <td>강남구</td>\n",
       "      <td>개포동</td>\n",
       "      <td>개포6차우성아파트1동~8동</td>\n",
       "      <td>79.97</td>\n",
       "      <td>200601</td>\n",
       "      <td>67500</td>\n",
       "    </tr>\n",
       "    <tr>\n",
       "      <th>3</th>\n",
       "      <td>서울특별시</td>\n",
       "      <td>강남구</td>\n",
       "      <td>개포동</td>\n",
       "      <td>개포우성3차</td>\n",
       "      <td>104.43</td>\n",
       "      <td>200601</td>\n",
       "      <td>73000</td>\n",
       "    </tr>\n",
       "    <tr>\n",
       "      <th>4</th>\n",
       "      <td>서울특별시</td>\n",
       "      <td>강남구</td>\n",
       "      <td>개포동</td>\n",
       "      <td>개포우성3차</td>\n",
       "      <td>104.43</td>\n",
       "      <td>200601</td>\n",
       "      <td>71250</td>\n",
       "    </tr>\n",
       "  </tbody>\n",
       "</table>\n",
       "</div>"
      ],
      "text/plain": [
       "       시    구    동             단지명  전용면적(㎡)    계약년월  거래금액(만원)\n",
       "0  서울특별시  강남구  개포동  개포6차우성아파트1동~8동    67.28  200601     54500\n",
       "1  서울특별시  강남구  개포동  개포6차우성아파트1동~8동    79.97  200601     67000\n",
       "2  서울특별시  강남구  개포동  개포6차우성아파트1동~8동    79.97  200601     67500\n",
       "3  서울특별시  강남구  개포동          개포우성3차   104.43  200601     73000\n",
       "4  서울특별시  강남구  개포동          개포우성3차   104.43  200601     71250"
      ]
     },
     "execution_count": 46,
     "metadata": {},
     "output_type": "execute_result"
    }
   ],
   "source": [
    "data.head()"
   ]
  },
  {
   "cell_type": "code",
   "execution_count": 47,
   "id": "c476a9af",
   "metadata": {},
   "outputs": [
    {
     "data": {
      "text/plain": [
       "<Axes: >"
      ]
     },
     "execution_count": 47,
     "metadata": {},
     "output_type": "execute_result"
    },
    {
     "data": {
      "image/png": "[encoded data removed]",
      "text/plain": [
       "<Figure size 640x480 with 1 Axes>"
      ]
     },
     "metadata": {},
     "output_type": "display_data"
    }
   ],
   "source": [
    "data.plot(kind='box')"
   ]
  },
  {
   "cell_type": "code",
   "execution_count": 48,
   "id": "ac4b5342",
   "metadata": {},
   "outputs": [],
   "source": [
    "# 아웃라이어를 계산하는 함수. 우리가 만들어야 해.\n",
    "def outlier(x):\n",
    "    x = x.describe()\n",
    "    out_max = x.loc['75%'] + (1.5*(x.loc['75%']-x.loc['25%']))\n",
    "    out_min = x.loc['25%'] - (1.5*(x.loc['75%']-x.loc['25%']))\n",
    "    ol_result = pd.DataFrame([out_max, out_min], columns=out_max.index, index=['상한값','하한값'])\n",
    "    result=pd.concat([x, ol_result])\n",
    "    return result"
   ]
  },
  {
   "cell_type": "code",
   "execution_count": 49,
   "id": "6c5017d6",
   "metadata": {
    "scrolled": false
   },
   "outputs": [
    {
     "data": {
      "text/html": [
       "<div>\n",
       "<style scoped>\n",
       "    .dataframe tbody tr th:only-of-type {\n",
       "        vertical-align: middle;\n",
       "    }\n",
       "\n",
       "    .dataframe tbody tr th {\n",
       "        vertical-align: top;\n",
       "    }\n",
       "\n",
       "    .dataframe thead th {\n",
       "        text-align: right;\n",
       "    }\n",
       "</style>\n",
       "<table border=\"1\" class=\"dataframe\">\n",
       "  <thead>\n",
       "    <tr style=\"text-align: right;\">\n",
       "      <th></th>\n",
       "      <th>전용면적(㎡)</th>\n",
       "      <th>거래금액(만원)</th>\n",
       "    </tr>\n",
       "  </thead>\n",
       "  <tbody>\n",
       "    <tr>\n",
       "      <th>count</th>\n",
       "      <td>1.215019e+06</td>\n",
       "      <td>1.215019e+06</td>\n",
       "    </tr>\n",
       "    <tr>\n",
       "      <th>mean</th>\n",
       "      <td>7.689058e+01</td>\n",
       "      <td>5.646365e+04</td>\n",
       "    </tr>\n",
       "    <tr>\n",
       "      <th>std</th>\n",
       "      <td>2.922942e+01</td>\n",
       "      <td>4.634110e+04</td>\n",
       "    </tr>\n",
       "    <tr>\n",
       "      <th>min</th>\n",
       "      <td>1.002000e+01</td>\n",
       "      <td>3.500000e+02</td>\n",
       "    </tr>\n",
       "    <tr>\n",
       "      <th>25%</th>\n",
       "      <td>5.960600e+01</td>\n",
       "      <td>2.900000e+04</td>\n",
       "    </tr>\n",
       "    <tr>\n",
       "      <th>50%</th>\n",
       "      <td>8.105000e+01</td>\n",
       "      <td>4.330000e+04</td>\n",
       "    </tr>\n",
       "    <tr>\n",
       "      <th>75%</th>\n",
       "      <td>8.496000e+01</td>\n",
       "      <td>6.800000e+04</td>\n",
       "    </tr>\n",
       "    <tr>\n",
       "      <th>max</th>\n",
       "      <td>4.243200e+02</td>\n",
       "      <td>1.450000e+06</td>\n",
       "    </tr>\n",
       "    <tr>\n",
       "      <th>상한값</th>\n",
       "      <td>1.229910e+02</td>\n",
       "      <td>1.265000e+05</td>\n",
       "    </tr>\n",
       "    <tr>\n",
       "      <th>하한값</th>\n",
       "      <td>2.157500e+01</td>\n",
       "      <td>-2.950000e+04</td>\n",
       "    </tr>\n",
       "  </tbody>\n",
       "</table>\n",
       "</div>"
      ],
      "text/plain": [
       "            전용면적(㎡)      거래금액(만원)\n",
       "count  1.215019e+06  1.215019e+06\n",
       "mean   7.689058e+01  5.646365e+04\n",
       "std    2.922942e+01  4.634110e+04\n",
       "min    1.002000e+01  3.500000e+02\n",
       "25%    5.960600e+01  2.900000e+04\n",
       "50%    8.105000e+01  4.330000e+04\n",
       "75%    8.496000e+01  6.800000e+04\n",
       "max    4.243200e+02  1.450000e+06\n",
       "상한값    1.229910e+02  1.265000e+05\n",
       "하한값    2.157500e+01 -2.950000e+04"
      ]
     },
     "execution_count": 49,
     "metadata": {},
     "output_type": "execute_result"
    }
   ],
   "source": [
    "outlier(data)"
   ]
  },
  {
   "cell_type": "code",
   "execution_count": 50,
   "id": "965d9da4",
   "metadata": {
    "scrolled": false
   },
   "outputs": [
    {
     "data": {
      "text/html": [
       "<div>\n",
       "<style scoped>\n",
       "    .dataframe tbody tr th:only-of-type {\n",
       "        vertical-align: middle;\n",
       "    }\n",
       "\n",
       "    .dataframe tbody tr th {\n",
       "        vertical-align: top;\n",
       "    }\n",
       "\n",
       "    .dataframe thead th {\n",
       "        text-align: right;\n",
       "    }\n",
       "</style>\n",
       "<table border=\"1\" class=\"dataframe\">\n",
       "  <thead>\n",
       "    <tr style=\"text-align: right;\">\n",
       "      <th></th>\n",
       "      <th>시</th>\n",
       "      <th>구</th>\n",
       "      <th>동</th>\n",
       "      <th>단지명</th>\n",
       "      <th>전용면적(㎡)</th>\n",
       "      <th>계약년월</th>\n",
       "      <th>거래금액(만원)</th>\n",
       "    </tr>\n",
       "  </thead>\n",
       "  <tbody>\n",
       "    <tr>\n",
       "      <th>1181494</th>\n",
       "      <td>서울특별시</td>\n",
       "      <td>강남구</td>\n",
       "      <td>청담동</td>\n",
       "      <td>PH129</td>\n",
       "      <td>273.960</td>\n",
       "      <td>202204</td>\n",
       "      <td>1450000</td>\n",
       "    </tr>\n",
       "    <tr>\n",
       "      <th>1183018</th>\n",
       "      <td>서울특별시</td>\n",
       "      <td>용산구</td>\n",
       "      <td>한남동</td>\n",
       "      <td>파르크한남</td>\n",
       "      <td>268.670</td>\n",
       "      <td>202204</td>\n",
       "      <td>1350000</td>\n",
       "    </tr>\n",
       "    <tr>\n",
       "      <th>1188029</th>\n",
       "      <td>서울특별시</td>\n",
       "      <td>성동구</td>\n",
       "      <td>성수동1가</td>\n",
       "      <td>아크로서울포레스트</td>\n",
       "      <td>264.546</td>\n",
       "      <td>202209</td>\n",
       "      <td>1300000</td>\n",
       "    </tr>\n",
       "    <tr>\n",
       "      <th>1177739</th>\n",
       "      <td>서울특별시</td>\n",
       "      <td>용산구</td>\n",
       "      <td>한남동</td>\n",
       "      <td>파르크한남</td>\n",
       "      <td>268.950</td>\n",
       "      <td>202112</td>\n",
       "      <td>1200000</td>\n",
       "    </tr>\n",
       "    <tr>\n",
       "      <th>1176537</th>\n",
       "      <td>서울특별시</td>\n",
       "      <td>용산구</td>\n",
       "      <td>한남동</td>\n",
       "      <td>파르크한남</td>\n",
       "      <td>268.670</td>\n",
       "      <td>202111</td>\n",
       "      <td>1170000</td>\n",
       "    </tr>\n",
       "    <tr>\n",
       "      <th>...</th>\n",
       "      <td>...</td>\n",
       "      <td>...</td>\n",
       "      <td>...</td>\n",
       "      <td>...</td>\n",
       "      <td>...</td>\n",
       "      <td>...</td>\n",
       "      <td>...</td>\n",
       "    </tr>\n",
       "    <tr>\n",
       "      <th>1007132</th>\n",
       "      <td>서울특별시</td>\n",
       "      <td>동작구</td>\n",
       "      <td>상도동</td>\n",
       "      <td>e편한세상상도노빌리티</td>\n",
       "      <td>108.980</td>\n",
       "      <td>201908</td>\n",
       "      <td>126600</td>\n",
       "    </tr>\n",
       "    <tr>\n",
       "      <th>416499</th>\n",
       "      <td>서울특별시</td>\n",
       "      <td>종로구</td>\n",
       "      <td>평창동</td>\n",
       "      <td>롯데캐슬로잔</td>\n",
       "      <td>191.725</td>\n",
       "      <td>201202</td>\n",
       "      <td>126569</td>\n",
       "    </tr>\n",
       "    <tr>\n",
       "      <th>376964</th>\n",
       "      <td>서울특별시</td>\n",
       "      <td>성북구</td>\n",
       "      <td>하월곡동</td>\n",
       "      <td>코업스타클래스</td>\n",
       "      <td>170.450</td>\n",
       "      <td>201104</td>\n",
       "      <td>126530</td>\n",
       "    </tr>\n",
       "    <tr>\n",
       "      <th>372524</th>\n",
       "      <td>서울특별시</td>\n",
       "      <td>성북구</td>\n",
       "      <td>하월곡동</td>\n",
       "      <td>코업스타클래스</td>\n",
       "      <td>170.450</td>\n",
       "      <td>201103</td>\n",
       "      <td>126530</td>\n",
       "    </tr>\n",
       "    <tr>\n",
       "      <th>372522</th>\n",
       "      <td>서울특별시</td>\n",
       "      <td>성북구</td>\n",
       "      <td>하월곡동</td>\n",
       "      <td>코업스타클래스</td>\n",
       "      <td>170.450</td>\n",
       "      <td>201103</td>\n",
       "      <td>126530</td>\n",
       "    </tr>\n",
       "  </tbody>\n",
       "</table>\n",
       "<p>82126 rows × 7 columns</p>\n",
       "</div>"
      ],
      "text/plain": [
       "             시    구      동          단지명  전용면적(㎡)    계약년월  거래금액(만원)\n",
       "1181494  서울특별시  강남구    청담동        PH129  273.960  202204   1450000\n",
       "1183018  서울특별시  용산구    한남동        파르크한남  268.670  202204   1350000\n",
       "1188029  서울특별시  성동구  성수동1가    아크로서울포레스트  264.546  202209   1300000\n",
       "1177739  서울특별시  용산구    한남동        파르크한남  268.950  202112   1200000\n",
       "1176537  서울특별시  용산구    한남동        파르크한남  268.670  202111   1170000\n",
       "...        ...  ...    ...          ...      ...     ...       ...\n",
       "1007132  서울특별시  동작구    상도동  e편한세상상도노빌리티  108.980  201908    126600\n",
       "416499   서울특별시  종로구    평창동       롯데캐슬로잔  191.725  201202    126569\n",
       "376964   서울특별시  성북구   하월곡동      코업스타클래스  170.450  201104    126530\n",
       "372524   서울특별시  성북구   하월곡동      코업스타클래스  170.450  201103    126530\n",
       "372522   서울특별시  성북구   하월곡동      코업스타클래스  170.450  201103    126530\n",
       "\n",
       "[82126 rows x 7 columns]"
      ]
     },
     "execution_count": 50,
     "metadata": {},
     "output_type": "execute_result"
    }
   ],
   "source": [
    "data[data['거래금액(만원)'] > 1.265000e+05].sort_values(by='거래금액(만원)', ascending=False) "
   ]
  },
  {
   "cell_type": "code",
   "execution_count": 51,
   "id": "71e47521",
   "metadata": {
    "scrolled": true
   },
   "outputs": [
    {
     "name": "stdout",
     "output_type": "stream",
     "text": [
      "<class 'pandas.core.frame.DataFrame'>\n",
      "RangeIndex: 1215019 entries, 0 to 1215018\n",
      "Data columns (total 7 columns):\n",
      " #   Column    Non-Null Count    Dtype  \n",
      "---  ------    --------------    -----  \n",
      " 0   시         1215019 non-null  object \n",
      " 1   구         1215019 non-null  object \n",
      " 2   동         1215019 non-null  object \n",
      " 3   단지명       1215019 non-null  object \n",
      " 4   전용면적(㎡)   1215019 non-null  float64\n",
      " 5   계약년월      1215019 non-null  object \n",
      " 6   거래금액(만원)  1215019 non-null  int32  \n",
      "dtypes: float64(1), int32(1), object(5)\n",
      "memory usage: 60.3+ MB\n"
     ]
    }
   ],
   "source": [
    "data.info()"
   ]
  },
  {
   "cell_type": "code",
   "execution_count": 52,
   "id": "478dbac9",
   "metadata": {},
   "outputs": [
    {
     "data": {
      "text/plain": [
       "6.759235863801306"
      ]
     },
     "execution_count": 52,
     "metadata": {},
     "output_type": "execute_result"
    }
   ],
   "source": [
    "82126 / 1215019 * 100"
   ]
  },
  {
   "cell_type": "markdown",
   "id": "a2940095",
   "metadata": {},
   "source": [
    "이상값이 82126개면 전체 데이터의 약 7% 이것도 이상값이 높은 순으로 볼 수 있나? 이 이상값을 살리면 예측율이 낮아질텐데 지울수도 없잖아?"
   ]
  },
  {
   "cell_type": "code",
   "execution_count": 53,
   "id": "9f0c524a",
   "metadata": {},
   "outputs": [
    {
     "name": "stdout",
     "output_type": "stream",
     "text": [
      "<class 'pandas.core.series.Series'>\n",
      "RangeIndex: 1215019 entries, 0 to 1215018\n",
      "Series name: 계약년월\n",
      "Non-Null Count    Dtype \n",
      "--------------    ----- \n",
      "1215019 non-null  object\n",
      "dtypes: object(1)\n",
      "memory usage: 9.3+ MB\n"
     ]
    }
   ],
   "source": [
    "data['계약년월'].info()"
   ]
  },
  {
   "cell_type": "code",
   "execution_count": 54,
   "id": "6a5e5814",
   "metadata": {},
   "outputs": [
    {
     "name": "stdout",
     "output_type": "stream",
     "text": [
      "<class 'pandas.core.frame.DataFrame'>\n",
      "RangeIndex: 55 entries, 0 to 54\n",
      "Data columns (total 2 columns):\n",
      " #   Column  Non-Null Count  Dtype  \n",
      "---  ------  --------------  -----  \n",
      " 0   기준금리    55 non-null     float64\n",
      " 1   기준금리년월  55 non-null     object \n",
      "dtypes: float64(1), object(1)\n",
      "memory usage: 1008.0+ bytes\n"
     ]
    }
   ],
   "source": [
    "base_rate.info()"
   ]
  },
  {
   "cell_type": "code",
   "execution_count": 55,
   "id": "18df7712",
   "metadata": {},
   "outputs": [],
   "source": [
    "#groupby를 통해서 독립변수와 종속변수의 관계 파악\n",
    "#data.groupby(['Pclass'])['Survived'].value_counts(sort=False)\n",
    "#=> Pclass별로 Survived한 사람들의 관계를 파악해보자\n",
    "#data2.groupby([\"Sex\", \"Pclass\"])[\"Fare\"].mean()"
   ]
  },
  {
   "cell_type": "code",
   "execution_count": 56,
   "id": "ee2673f0",
   "metadata": {},
   "outputs": [
    {
     "data": {
      "text/plain": [
       "동\n",
       "가락동     [가락(1차)쌍용아파트, 가락금호아파트, 가락미륭아파트, 가락쌍용(2차), 가락우성...\n",
       "가리봉동                                          [효성, 미래하이츠]\n",
       "가산동     [두산, 덕산, 드림캐슬2차, 삼익, 백운한비치(나), 드림캐슬, 주상복합두산, 백...\n",
       "가양동     [가양2단지(성지), 가양6단지, 가양강나루현대, 가양도시개발9-2단지, 가양우성,...\n",
       "갈월동                                               [두리파크빌]\n",
       "                              ...                        \n",
       "효창동     [아이딜, 효창베네스, 효창한신, 화이트타운, 효창, 효창맨션, 세양청마루, 세인트...\n",
       "후암동     [브라운스톤남산, 후암미주, 신후암, 예빌리지, 남산애지앙, 프리마베라빌, 행남그랜...\n",
       "휘경동     [동양1차, 롯데낙천대, 서울가든, 주공1, 현대, 휘경동일하이빌, 휘경미소지움, ...\n",
       "흑석동     [명수대현대, 우리유앤미, 청호, 한강현대, 흑석동양아파트, 한진리버타운, (191...\n",
       "흥인동           [aaa, 동대문와이즈캐슬, 청계천두산위브더제니스, 동대문솔하임, 위더스하임]\n",
       "Name: 단지명, Length: 337, dtype: object"
      ]
     },
     "execution_count": 56,
     "metadata": {},
     "output_type": "execute_result"
    }
   ],
   "source": [
    "data.groupby(['동'])['단지명'].unique()"
   ]
  },
  {
   "cell_type": "code",
   "execution_count": 57,
   "id": "a02948f9",
   "metadata": {},
   "outputs": [
    {
     "data": {
      "text/html": [
       "<div>\n",
       "<style scoped>\n",
       "    .dataframe tbody tr th:only-of-type {\n",
       "        vertical-align: middle;\n",
       "    }\n",
       "\n",
       "    .dataframe tbody tr th {\n",
       "        vertical-align: top;\n",
       "    }\n",
       "\n",
       "    .dataframe thead th {\n",
       "        text-align: right;\n",
       "    }\n",
       "</style>\n",
       "<table border=\"1\" class=\"dataframe\">\n",
       "  <thead>\n",
       "    <tr style=\"text-align: right;\">\n",
       "      <th></th>\n",
       "      <th>시</th>\n",
       "      <th>동</th>\n",
       "      <th>단지명</th>\n",
       "      <th>전용면적(㎡)</th>\n",
       "      <th>계약년월</th>\n",
       "      <th>거래금액(만원)</th>\n",
       "    </tr>\n",
       "    <tr>\n",
       "      <th>구</th>\n",
       "      <th></th>\n",
       "      <th></th>\n",
       "      <th></th>\n",
       "      <th></th>\n",
       "      <th></th>\n",
       "      <th></th>\n",
       "    </tr>\n",
       "  </thead>\n",
       "  <tbody>\n",
       "    <tr>\n",
       "      <th>강남구</th>\n",
       "      <td>1</td>\n",
       "      <td>14</td>\n",
       "      <td>681</td>\n",
       "      <td>2544</td>\n",
       "      <td>204</td>\n",
       "      <td>3413</td>\n",
       "    </tr>\n",
       "    <tr>\n",
       "      <th>강동구</th>\n",
       "      <td>1</td>\n",
       "      <td>9</td>\n",
       "      <td>507</td>\n",
       "      <td>1630</td>\n",
       "      <td>204</td>\n",
       "      <td>3030</td>\n",
       "    </tr>\n",
       "    <tr>\n",
       "      <th>강북구</th>\n",
       "      <td>1</td>\n",
       "      <td>4</td>\n",
       "      <td>138</td>\n",
       "      <td>489</td>\n",
       "      <td>204</td>\n",
       "      <td>1398</td>\n",
       "    </tr>\n",
       "    <tr>\n",
       "      <th>강서구</th>\n",
       "      <td>1</td>\n",
       "      <td>8</td>\n",
       "      <td>613</td>\n",
       "      <td>1652</td>\n",
       "      <td>204</td>\n",
       "      <td>2508</td>\n",
       "    </tr>\n",
       "    <tr>\n",
       "      <th>관악구</th>\n",
       "      <td>1</td>\n",
       "      <td>3</td>\n",
       "      <td>305</td>\n",
       "      <td>1047</td>\n",
       "      <td>204</td>\n",
       "      <td>1784</td>\n",
       "    </tr>\n",
       "    <tr>\n",
       "      <th>광진구</th>\n",
       "      <td>1</td>\n",
       "      <td>7</td>\n",
       "      <td>231</td>\n",
       "      <td>787</td>\n",
       "      <td>204</td>\n",
       "      <td>1735</td>\n",
       "    </tr>\n",
       "    <tr>\n",
       "      <th>구로구</th>\n",
       "      <td>1</td>\n",
       "      <td>10</td>\n",
       "      <td>691</td>\n",
       "      <td>1310</td>\n",
       "      <td>204</td>\n",
       "      <td>2204</td>\n",
       "    </tr>\n",
       "    <tr>\n",
       "      <th>금천구</th>\n",
       "      <td>1</td>\n",
       "      <td>3</td>\n",
       "      <td>175</td>\n",
       "      <td>519</td>\n",
       "      <td>204</td>\n",
       "      <td>1428</td>\n",
       "    </tr>\n",
       "    <tr>\n",
       "      <th>노원구</th>\n",
       "      <td>1</td>\n",
       "      <td>5</td>\n",
       "      <td>316</td>\n",
       "      <td>829</td>\n",
       "      <td>204</td>\n",
       "      <td>2675</td>\n",
       "    </tr>\n",
       "    <tr>\n",
       "      <th>도봉구</th>\n",
       "      <td>1</td>\n",
       "      <td>4</td>\n",
       "      <td>214</td>\n",
       "      <td>647</td>\n",
       "      <td>204</td>\n",
       "      <td>1738</td>\n",
       "    </tr>\n",
       "    <tr>\n",
       "      <th>동대문구</th>\n",
       "      <td>1</td>\n",
       "      <td>10</td>\n",
       "      <td>314</td>\n",
       "      <td>1054</td>\n",
       "      <td>204</td>\n",
       "      <td>1884</td>\n",
       "    </tr>\n",
       "    <tr>\n",
       "      <th>동작구</th>\n",
       "      <td>1</td>\n",
       "      <td>9</td>\n",
       "      <td>248</td>\n",
       "      <td>989</td>\n",
       "      <td>204</td>\n",
       "      <td>2224</td>\n",
       "    </tr>\n",
       "    <tr>\n",
       "      <th>마포구</th>\n",
       "      <td>1</td>\n",
       "      <td>25</td>\n",
       "      <td>344</td>\n",
       "      <td>1172</td>\n",
       "      <td>204</td>\n",
       "      <td>2426</td>\n",
       "    </tr>\n",
       "    <tr>\n",
       "      <th>서대문구</th>\n",
       "      <td>1</td>\n",
       "      <td>16</td>\n",
       "      <td>314</td>\n",
       "      <td>1147</td>\n",
       "      <td>204</td>\n",
       "      <td>2040</td>\n",
       "    </tr>\n",
       "    <tr>\n",
       "      <th>서초구</th>\n",
       "      <td>1</td>\n",
       "      <td>8</td>\n",
       "      <td>788</td>\n",
       "      <td>2888</td>\n",
       "      <td>204</td>\n",
       "      <td>3337</td>\n",
       "    </tr>\n",
       "    <tr>\n",
       "      <th>성동구</th>\n",
       "      <td>1</td>\n",
       "      <td>17</td>\n",
       "      <td>158</td>\n",
       "      <td>559</td>\n",
       "      <td>204</td>\n",
       "      <td>2079</td>\n",
       "    </tr>\n",
       "    <tr>\n",
       "      <th>성북구</th>\n",
       "      <td>1</td>\n",
       "      <td>30</td>\n",
       "      <td>194</td>\n",
       "      <td>673</td>\n",
       "      <td>204</td>\n",
       "      <td>1983</td>\n",
       "    </tr>\n",
       "    <tr>\n",
       "      <th>송파구</th>\n",
       "      <td>1</td>\n",
       "      <td>13</td>\n",
       "      <td>444</td>\n",
       "      <td>1422</td>\n",
       "      <td>204</td>\n",
       "      <td>3487</td>\n",
       "    </tr>\n",
       "    <tr>\n",
       "      <th>양천구</th>\n",
       "      <td>1</td>\n",
       "      <td>3</td>\n",
       "      <td>488</td>\n",
       "      <td>1558</td>\n",
       "      <td>204</td>\n",
       "      <td>2466</td>\n",
       "    </tr>\n",
       "    <tr>\n",
       "      <th>영등포구</th>\n",
       "      <td>1</td>\n",
       "      <td>30</td>\n",
       "      <td>252</td>\n",
       "      <td>897</td>\n",
       "      <td>204</td>\n",
       "      <td>2414</td>\n",
       "    </tr>\n",
       "    <tr>\n",
       "      <th>용산구</th>\n",
       "      <td>1</td>\n",
       "      <td>29</td>\n",
       "      <td>241</td>\n",
       "      <td>1250</td>\n",
       "      <td>204</td>\n",
       "      <td>2265</td>\n",
       "    </tr>\n",
       "    <tr>\n",
       "      <th>은평구</th>\n",
       "      <td>1</td>\n",
       "      <td>11</td>\n",
       "      <td>538</td>\n",
       "      <td>1650</td>\n",
       "      <td>204</td>\n",
       "      <td>2958</td>\n",
       "    </tr>\n",
       "    <tr>\n",
       "      <th>종로구</th>\n",
       "      <td>1</td>\n",
       "      <td>39</td>\n",
       "      <td>143</td>\n",
       "      <td>566</td>\n",
       "      <td>204</td>\n",
       "      <td>1673</td>\n",
       "    </tr>\n",
       "    <tr>\n",
       "      <th>중구</th>\n",
       "      <td>1</td>\n",
       "      <td>26</td>\n",
       "      <td>146</td>\n",
       "      <td>669</td>\n",
       "      <td>204</td>\n",
       "      <td>1731</td>\n",
       "    </tr>\n",
       "    <tr>\n",
       "      <th>중랑구</th>\n",
       "      <td>1</td>\n",
       "      <td>6</td>\n",
       "      <td>284</td>\n",
       "      <td>940</td>\n",
       "      <td>204</td>\n",
       "      <td>1864</td>\n",
       "    </tr>\n",
       "  </tbody>\n",
       "</table>\n",
       "</div>"
      ],
      "text/plain": [
       "      시   동  단지명  전용면적(㎡)  계약년월  거래금액(만원)\n",
       "구                                        \n",
       "강남구   1  14  681     2544   204      3413\n",
       "강동구   1   9  507     1630   204      3030\n",
       "강북구   1   4  138      489   204      1398\n",
       "강서구   1   8  613     1652   204      2508\n",
       "관악구   1   3  305     1047   204      1784\n",
       "광진구   1   7  231      787   204      1735\n",
       "구로구   1  10  691     1310   204      2204\n",
       "금천구   1   3  175      519   204      1428\n",
       "노원구   1   5  316      829   204      2675\n",
       "도봉구   1   4  214      647   204      1738\n",
       "동대문구  1  10  314     1054   204      1884\n",
       "동작구   1   9  248      989   204      2224\n",
       "마포구   1  25  344     1172   204      2426\n",
       "서대문구  1  16  314     1147   204      2040\n",
       "서초구   1   8  788     2888   204      3337\n",
       "성동구   1  17  158      559   204      2079\n",
       "성북구   1  30  194      673   204      1983\n",
       "송파구   1  13  444     1422   204      3487\n",
       "양천구   1   3  488     1558   204      2466\n",
       "영등포구  1  30  252      897   204      2414\n",
       "용산구   1  29  241     1250   204      2265\n",
       "은평구   1  11  538     1650   204      2958\n",
       "종로구   1  39  143      566   204      1673\n",
       "중구    1  26  146      669   204      1731\n",
       "중랑구   1   6  284      940   204      1864"
      ]
     },
     "execution_count": 57,
     "metadata": {},
     "output_type": "execute_result"
    }
   ],
   "source": [
    "data.groupby('구').nunique()"
   ]
  },
  {
   "cell_type": "markdown",
   "id": "34b0d8c6",
   "metadata": {},
   "source": [
    "방법1 - ID로 만들어라. 방법2 - if문으로 계약년월와 기준금이를 연관해서 만들어라"
   ]
  },
  {
   "cell_type": "code",
   "execution_count": 58,
   "id": "4fcb413a",
   "metadata": {},
   "outputs": [],
   "source": [
    "data['계약년월'] = data['계약년월'].astype(int)"
   ]
  },
  {
   "cell_type": "code",
   "execution_count": 59,
   "id": "eccd3ac0",
   "metadata": {},
   "outputs": [],
   "source": [
    "base_rate['기준금리년월'] = base_rate['기준금리년월'].astype(int)"
   ]
  },
  {
   "cell_type": "code",
   "execution_count": 60,
   "id": "afca20d9",
   "metadata": {},
   "outputs": [
    {
     "name": "stdout",
     "output_type": "stream",
     "text": [
      "<class 'pandas.core.frame.DataFrame'>\n",
      "RangeIndex: 55 entries, 0 to 54\n",
      "Data columns (total 2 columns):\n",
      " #   Column  Non-Null Count  Dtype  \n",
      "---  ------  --------------  -----  \n",
      " 0   기준금리    55 non-null     float64\n",
      " 1   기준금리년월  55 non-null     int32  \n",
      "dtypes: float64(1), int32(1)\n",
      "memory usage: 788.0 bytes\n"
     ]
    }
   ],
   "source": [
    "base_rate.info()"
   ]
  },
  {
   "cell_type": "code",
   "execution_count": 61,
   "id": "0f0c7246",
   "metadata": {
    "scrolled": true
   },
   "outputs": [
    {
     "name": "stdout",
     "output_type": "stream",
     "text": [
      "<class 'pandas.core.frame.DataFrame'>\n",
      "RangeIndex: 1215019 entries, 0 to 1215018\n",
      "Data columns (total 7 columns):\n",
      " #   Column    Non-Null Count    Dtype  \n",
      "---  ------    --------------    -----  \n",
      " 0   시         1215019 non-null  object \n",
      " 1   구         1215019 non-null  object \n",
      " 2   동         1215019 non-null  object \n",
      " 3   단지명       1215019 non-null  object \n",
      " 4   전용면적(㎡)   1215019 non-null  float64\n",
      " 5   계약년월      1215019 non-null  int32  \n",
      " 6   거래금액(만원)  1215019 non-null  int32  \n",
      "dtypes: float64(1), int32(2), object(4)\n",
      "memory usage: 55.6+ MB\n"
     ]
    }
   ],
   "source": [
    "data.info()"
   ]
  },
  {
   "cell_type": "code",
   "execution_count": 62,
   "id": "93ef0dc0",
   "metadata": {
    "scrolled": true
   },
   "outputs": [
    {
     "data": {
      "text/html": [
       "<div>\n",
       "<style scoped>\n",
       "    .dataframe tbody tr th:only-of-type {\n",
       "        vertical-align: middle;\n",
       "    }\n",
       "\n",
       "    .dataframe tbody tr th {\n",
       "        vertical-align: top;\n",
       "    }\n",
       "\n",
       "    .dataframe thead th {\n",
       "        text-align: right;\n",
       "    }\n",
       "</style>\n",
       "<table border=\"1\" class=\"dataframe\">\n",
       "  <thead>\n",
       "    <tr style=\"text-align: right;\">\n",
       "      <th></th>\n",
       "      <th>시</th>\n",
       "      <th>구</th>\n",
       "      <th>동</th>\n",
       "      <th>단지명</th>\n",
       "      <th>전용면적(㎡)</th>\n",
       "      <th>계약년월</th>\n",
       "      <th>거래금액(만원)</th>\n",
       "    </tr>\n",
       "  </thead>\n",
       "  <tbody>\n",
       "    <tr>\n",
       "      <th>0</th>\n",
       "      <td>서울특별시</td>\n",
       "      <td>강남구</td>\n",
       "      <td>개포동</td>\n",
       "      <td>개포6차우성아파트1동~8동</td>\n",
       "      <td>67.28</td>\n",
       "      <td>200601</td>\n",
       "      <td>54500</td>\n",
       "    </tr>\n",
       "    <tr>\n",
       "      <th>1</th>\n",
       "      <td>서울특별시</td>\n",
       "      <td>강남구</td>\n",
       "      <td>개포동</td>\n",
       "      <td>개포6차우성아파트1동~8동</td>\n",
       "      <td>79.97</td>\n",
       "      <td>200601</td>\n",
       "      <td>67000</td>\n",
       "    </tr>\n",
       "    <tr>\n",
       "      <th>2</th>\n",
       "      <td>서울특별시</td>\n",
       "      <td>강남구</td>\n",
       "      <td>개포동</td>\n",
       "      <td>개포6차우성아파트1동~8동</td>\n",
       "      <td>79.97</td>\n",
       "      <td>200601</td>\n",
       "      <td>67500</td>\n",
       "    </tr>\n",
       "    <tr>\n",
       "      <th>3</th>\n",
       "      <td>서울특별시</td>\n",
       "      <td>강남구</td>\n",
       "      <td>개포동</td>\n",
       "      <td>개포우성3차</td>\n",
       "      <td>104.43</td>\n",
       "      <td>200601</td>\n",
       "      <td>73000</td>\n",
       "    </tr>\n",
       "    <tr>\n",
       "      <th>4</th>\n",
       "      <td>서울특별시</td>\n",
       "      <td>강남구</td>\n",
       "      <td>개포동</td>\n",
       "      <td>개포우성3차</td>\n",
       "      <td>104.43</td>\n",
       "      <td>200601</td>\n",
       "      <td>71250</td>\n",
       "    </tr>\n",
       "  </tbody>\n",
       "</table>\n",
       "</div>"
      ],
      "text/plain": [
       "       시    구    동             단지명  전용면적(㎡)    계약년월  거래금액(만원)\n",
       "0  서울특별시  강남구  개포동  개포6차우성아파트1동~8동    67.28  200601     54500\n",
       "1  서울특별시  강남구  개포동  개포6차우성아파트1동~8동    79.97  200601     67000\n",
       "2  서울특별시  강남구  개포동  개포6차우성아파트1동~8동    79.97  200601     67500\n",
       "3  서울특별시  강남구  개포동          개포우성3차   104.43  200601     73000\n",
       "4  서울특별시  강남구  개포동          개포우성3차   104.43  200601     71250"
      ]
     },
     "execution_count": 62,
     "metadata": {},
     "output_type": "execute_result"
    }
   ],
   "source": [
    "data.head()"
   ]
  },
  {
   "cell_type": "code",
   "execution_count": 63,
   "id": "4a5b3254",
   "metadata": {},
   "outputs": [
    {
     "data": {
      "text/plain": [
       "array([200601, 200602, 200603, 200604, 200605, 200606, 200607, 200608,\n",
       "       200609, 200610, 200611, 200612, 200701, 200702, 200703, 200704,\n",
       "       200705, 200706, 200707, 200708, 200709, 200710, 200711, 200712,\n",
       "       200801, 200802, 200803, 200804, 200805, 200806, 200807, 200808,\n",
       "       200809, 200810, 200811, 200812, 200901, 200902, 200903, 200904,\n",
       "       200905, 200906, 200907, 200908, 200909, 200910, 200911, 200912,\n",
       "       201001, 201002, 201003, 201004, 201005, 201006, 201007, 201008,\n",
       "       201009, 201010, 201011, 201012, 201101, 201102, 201103, 201104,\n",
       "       201105, 201106, 201107, 201108, 201109, 201110, 201111, 201112,\n",
       "       201201, 201202, 201203, 201204, 201205, 201206, 201207, 201208,\n",
       "       201209, 201210, 201211, 201212, 201301, 201302, 201303, 201304,\n",
       "       201401, 201402, 201403, 201404, 201405, 201406, 201407, 201408,\n",
       "       201409, 201410, 201411, 201412, 201501, 201502, 201503, 201504,\n",
       "       201505, 201506, 201507, 201508, 201509, 201510, 201511, 201512,\n",
       "       201601, 201602, 201603, 201604, 201605, 201606, 201607, 201608,\n",
       "       201609, 201610, 201611, 201612, 201701, 201702, 201703, 201704,\n",
       "       201705, 201706, 201707, 201708, 201709, 201710, 201711, 201712,\n",
       "       201801, 201802, 201803, 201804, 201805, 201806, 201807, 201808,\n",
       "       201809, 201810, 201811, 201812, 201901, 201902, 201903, 201904,\n",
       "       201905, 201906, 201907, 201908, 201909, 201910, 201911, 201912,\n",
       "       202001, 202002, 202003, 202004, 202005, 202006, 202007, 202008,\n",
       "       202009, 202010, 202011, 202012, 202101, 202102, 202103, 202104,\n",
       "       202105, 202106, 202107, 202108, 202109, 202110, 202111, 202112,\n",
       "       202201, 202202, 202203, 202204, 202205, 202206, 202207, 202208,\n",
       "       202209, 202210, 202211, 202212, 202301, 202302, 202303, 202304,\n",
       "       202305, 202306, 202307, 202308])"
      ]
     },
     "execution_count": 63,
     "metadata": {},
     "output_type": "execute_result"
    }
   ],
   "source": [
    "data['계약년월'].unique()"
   ]
  },
  {
   "cell_type": "code",
   "execution_count": 64,
   "id": "8ed7f2f7",
   "metadata": {
    "scrolled": true
   },
   "outputs": [],
   "source": [
    "base_rate = base_rate.drop(34) # 34번 인덱스를 빼버림. axis=1 안 하면 해당 행이 빠지는 것임."
   ]
  },
  {
   "cell_type": "code",
   "execution_count": 65,
   "id": "0541602b",
   "metadata": {},
   "outputs": [],
   "source": [
    "#인덱스 34번 뺐으니까 인덱스 정리해주자!\n",
    "base_rate = base_rate.reset_index(drop=True)"
   ]
  },
  {
   "cell_type": "code",
   "execution_count": 66,
   "id": "f85ebf51",
   "metadata": {},
   "outputs": [
    {
     "data": {
      "text/html": [
       "<div>\n",
       "<style scoped>\n",
       "    .dataframe tbody tr th:only-of-type {\n",
       "        vertical-align: middle;\n",
       "    }\n",
       "\n",
       "    .dataframe tbody tr th {\n",
       "        vertical-align: top;\n",
       "    }\n",
       "\n",
       "    .dataframe thead th {\n",
       "        text-align: right;\n",
       "    }\n",
       "</style>\n",
       "<table border=\"1\" class=\"dataframe\">\n",
       "  <thead>\n",
       "    <tr style=\"text-align: right;\">\n",
       "      <th></th>\n",
       "      <th>기준금리</th>\n",
       "      <th>기준금리년월</th>\n",
       "    </tr>\n",
       "  </thead>\n",
       "  <tbody>\n",
       "    <tr>\n",
       "      <th>0</th>\n",
       "      <td>3.50</td>\n",
       "      <td>202301</td>\n",
       "    </tr>\n",
       "    <tr>\n",
       "      <th>1</th>\n",
       "      <td>3.25</td>\n",
       "      <td>202211</td>\n",
       "    </tr>\n",
       "    <tr>\n",
       "      <th>2</th>\n",
       "      <td>3.00</td>\n",
       "      <td>202210</td>\n",
       "    </tr>\n",
       "    <tr>\n",
       "      <th>3</th>\n",
       "      <td>2.50</td>\n",
       "      <td>202208</td>\n",
       "    </tr>\n",
       "    <tr>\n",
       "      <th>4</th>\n",
       "      <td>2.25</td>\n",
       "      <td>202207</td>\n",
       "    </tr>\n",
       "    <tr>\n",
       "      <th>5</th>\n",
       "      <td>1.75</td>\n",
       "      <td>202205</td>\n",
       "    </tr>\n",
       "    <tr>\n",
       "      <th>6</th>\n",
       "      <td>1.50</td>\n",
       "      <td>202204</td>\n",
       "    </tr>\n",
       "    <tr>\n",
       "      <th>7</th>\n",
       "      <td>1.25</td>\n",
       "      <td>202201</td>\n",
       "    </tr>\n",
       "    <tr>\n",
       "      <th>8</th>\n",
       "      <td>1.00</td>\n",
       "      <td>202111</td>\n",
       "    </tr>\n",
       "    <tr>\n",
       "      <th>9</th>\n",
       "      <td>0.75</td>\n",
       "      <td>202108</td>\n",
       "    </tr>\n",
       "    <tr>\n",
       "      <th>10</th>\n",
       "      <td>0.50</td>\n",
       "      <td>202005</td>\n",
       "    </tr>\n",
       "    <tr>\n",
       "      <th>11</th>\n",
       "      <td>0.75</td>\n",
       "      <td>202003</td>\n",
       "    </tr>\n",
       "    <tr>\n",
       "      <th>12</th>\n",
       "      <td>1.25</td>\n",
       "      <td>201910</td>\n",
       "    </tr>\n",
       "    <tr>\n",
       "      <th>13</th>\n",
       "      <td>1.50</td>\n",
       "      <td>201907</td>\n",
       "    </tr>\n",
       "    <tr>\n",
       "      <th>14</th>\n",
       "      <td>1.75</td>\n",
       "      <td>201811</td>\n",
       "    </tr>\n",
       "    <tr>\n",
       "      <th>15</th>\n",
       "      <td>1.50</td>\n",
       "      <td>201711</td>\n",
       "    </tr>\n",
       "    <tr>\n",
       "      <th>16</th>\n",
       "      <td>1.25</td>\n",
       "      <td>201606</td>\n",
       "    </tr>\n",
       "    <tr>\n",
       "      <th>17</th>\n",
       "      <td>1.50</td>\n",
       "      <td>201506</td>\n",
       "    </tr>\n",
       "    <tr>\n",
       "      <th>18</th>\n",
       "      <td>1.75</td>\n",
       "      <td>201503</td>\n",
       "    </tr>\n",
       "    <tr>\n",
       "      <th>19</th>\n",
       "      <td>2.00</td>\n",
       "      <td>201410</td>\n",
       "    </tr>\n",
       "    <tr>\n",
       "      <th>20</th>\n",
       "      <td>2.25</td>\n",
       "      <td>201408</td>\n",
       "    </tr>\n",
       "    <tr>\n",
       "      <th>21</th>\n",
       "      <td>2.50</td>\n",
       "      <td>201305</td>\n",
       "    </tr>\n",
       "    <tr>\n",
       "      <th>22</th>\n",
       "      <td>2.75</td>\n",
       "      <td>201210</td>\n",
       "    </tr>\n",
       "    <tr>\n",
       "      <th>23</th>\n",
       "      <td>3.00</td>\n",
       "      <td>201207</td>\n",
       "    </tr>\n",
       "    <tr>\n",
       "      <th>24</th>\n",
       "      <td>3.25</td>\n",
       "      <td>201106</td>\n",
       "    </tr>\n",
       "    <tr>\n",
       "      <th>25</th>\n",
       "      <td>3.00</td>\n",
       "      <td>201103</td>\n",
       "    </tr>\n",
       "    <tr>\n",
       "      <th>26</th>\n",
       "      <td>2.75</td>\n",
       "      <td>201101</td>\n",
       "    </tr>\n",
       "    <tr>\n",
       "      <th>27</th>\n",
       "      <td>2.50</td>\n",
       "      <td>201011</td>\n",
       "    </tr>\n",
       "    <tr>\n",
       "      <th>28</th>\n",
       "      <td>2.25</td>\n",
       "      <td>201007</td>\n",
       "    </tr>\n",
       "    <tr>\n",
       "      <th>29</th>\n",
       "      <td>2.00</td>\n",
       "      <td>200902</td>\n",
       "    </tr>\n",
       "    <tr>\n",
       "      <th>30</th>\n",
       "      <td>2.50</td>\n",
       "      <td>200901</td>\n",
       "    </tr>\n",
       "    <tr>\n",
       "      <th>31</th>\n",
       "      <td>3.00</td>\n",
       "      <td>200812</td>\n",
       "    </tr>\n",
       "    <tr>\n",
       "      <th>32</th>\n",
       "      <td>4.00</td>\n",
       "      <td>200811</td>\n",
       "    </tr>\n",
       "    <tr>\n",
       "      <th>33</th>\n",
       "      <td>4.25</td>\n",
       "      <td>200810</td>\n",
       "    </tr>\n",
       "    <tr>\n",
       "      <th>34</th>\n",
       "      <td>5.25</td>\n",
       "      <td>200808</td>\n",
       "    </tr>\n",
       "    <tr>\n",
       "      <th>35</th>\n",
       "      <td>5.00</td>\n",
       "      <td>200708</td>\n",
       "    </tr>\n",
       "    <tr>\n",
       "      <th>36</th>\n",
       "      <td>4.75</td>\n",
       "      <td>200707</td>\n",
       "    </tr>\n",
       "    <tr>\n",
       "      <th>37</th>\n",
       "      <td>4.50</td>\n",
       "      <td>200608</td>\n",
       "    </tr>\n",
       "    <tr>\n",
       "      <th>38</th>\n",
       "      <td>4.25</td>\n",
       "      <td>200606</td>\n",
       "    </tr>\n",
       "    <tr>\n",
       "      <th>39</th>\n",
       "      <td>4.00</td>\n",
       "      <td>200602</td>\n",
       "    </tr>\n",
       "    <tr>\n",
       "      <th>40</th>\n",
       "      <td>3.75</td>\n",
       "      <td>200512</td>\n",
       "    </tr>\n",
       "    <tr>\n",
       "      <th>41</th>\n",
       "      <td>3.50</td>\n",
       "      <td>200510</td>\n",
       "    </tr>\n",
       "    <tr>\n",
       "      <th>42</th>\n",
       "      <td>3.25</td>\n",
       "      <td>200411</td>\n",
       "    </tr>\n",
       "    <tr>\n",
       "      <th>43</th>\n",
       "      <td>3.50</td>\n",
       "      <td>200408</td>\n",
       "    </tr>\n",
       "    <tr>\n",
       "      <th>44</th>\n",
       "      <td>3.75</td>\n",
       "      <td>200307</td>\n",
       "    </tr>\n",
       "    <tr>\n",
       "      <th>45</th>\n",
       "      <td>4.00</td>\n",
       "      <td>200305</td>\n",
       "    </tr>\n",
       "    <tr>\n",
       "      <th>46</th>\n",
       "      <td>4.25</td>\n",
       "      <td>200205</td>\n",
       "    </tr>\n",
       "    <tr>\n",
       "      <th>47</th>\n",
       "      <td>4.00</td>\n",
       "      <td>200109</td>\n",
       "    </tr>\n",
       "    <tr>\n",
       "      <th>48</th>\n",
       "      <td>4.50</td>\n",
       "      <td>200108</td>\n",
       "    </tr>\n",
       "    <tr>\n",
       "      <th>49</th>\n",
       "      <td>4.75</td>\n",
       "      <td>200107</td>\n",
       "    </tr>\n",
       "    <tr>\n",
       "      <th>50</th>\n",
       "      <td>5.00</td>\n",
       "      <td>200102</td>\n",
       "    </tr>\n",
       "    <tr>\n",
       "      <th>51</th>\n",
       "      <td>5.25</td>\n",
       "      <td>200010</td>\n",
       "    </tr>\n",
       "    <tr>\n",
       "      <th>52</th>\n",
       "      <td>5.00</td>\n",
       "      <td>200002</td>\n",
       "    </tr>\n",
       "    <tr>\n",
       "      <th>53</th>\n",
       "      <td>4.75</td>\n",
       "      <td>199905</td>\n",
       "    </tr>\n",
       "  </tbody>\n",
       "</table>\n",
       "</div>"
      ],
      "text/plain": [
       "    기준금리  기준금리년월\n",
       "0   3.50  202301\n",
       "1   3.25  202211\n",
       "2   3.00  202210\n",
       "3   2.50  202208\n",
       "4   2.25  202207\n",
       "5   1.75  202205\n",
       "6   1.50  202204\n",
       "7   1.25  202201\n",
       "8   1.00  202111\n",
       "9   0.75  202108\n",
       "10  0.50  202005\n",
       "11  0.75  202003\n",
       "12  1.25  201910\n",
       "13  1.50  201907\n",
       "14  1.75  201811\n",
       "15  1.50  201711\n",
       "16  1.25  201606\n",
       "17  1.50  201506\n",
       "18  1.75  201503\n",
       "19  2.00  201410\n",
       "20  2.25  201408\n",
       "21  2.50  201305\n",
       "22  2.75  201210\n",
       "23  3.00  201207\n",
       "24  3.25  201106\n",
       "25  3.00  201103\n",
       "26  2.75  201101\n",
       "27  2.50  201011\n",
       "28  2.25  201007\n",
       "29  2.00  200902\n",
       "30  2.50  200901\n",
       "31  3.00  200812\n",
       "32  4.00  200811\n",
       "33  4.25  200810\n",
       "34  5.25  200808\n",
       "35  5.00  200708\n",
       "36  4.75  200707\n",
       "37  4.50  200608\n",
       "38  4.25  200606\n",
       "39  4.00  200602\n",
       "40  3.75  200512\n",
       "41  3.50  200510\n",
       "42  3.25  200411\n",
       "43  3.50  200408\n",
       "44  3.75  200307\n",
       "45  4.00  200305\n",
       "46  4.25  200205\n",
       "47  4.00  200109\n",
       "48  4.50  200108\n",
       "49  4.75  200107\n",
       "50  5.00  200102\n",
       "51  5.25  200010\n",
       "52  5.00  200002\n",
       "53  4.75  199905"
      ]
     },
     "execution_count": 66,
     "metadata": {},
     "output_type": "execute_result"
    }
   ],
   "source": [
    "base_rate"
   ]
  },
  {
   "cell_type": "code",
   "execution_count": 67,
   "id": "4631a2f5",
   "metadata": {},
   "outputs": [],
   "source": [
    "def interest_rate(x):\n",
    "    if x >= 202301:\n",
    "        return 202301\n",
    "    elif 202211 <= x < 202301:\n",
    "        return 202211\n",
    "    elif x == 202210:\n",
    "        return 202210\n",
    "    elif 202208 <= x < 202210:\n",
    "        return 202208\n",
    "    elif x == 202207:\n",
    "        return 202207\n",
    "    elif 202205 <= x < 202207:\n",
    "        return 202205\n",
    "    elif x == 202204:\n",
    "        return 202204\n",
    "    elif 202201 <= x < 202204:\n",
    "        return 202201\n",
    "    elif 202111 <= x < 202201:\n",
    "        return 202111\n",
    "    elif 202108 <= x < 202111:\n",
    "        return 202108\n",
    "    elif 202005 <= x < 202108:\n",
    "        return 202005\n",
    "    elif 202003 <= x < 202005:\n",
    "        return 202003\n",
    "    elif 201910 <= x < 202003:\n",
    "        return 201910\n",
    "    elif 201907 <= x < 201910:\n",
    "        return 201907\n",
    "    elif 201811 <= x < 201907:\n",
    "        return 201811\n",
    "    elif 201711 <= x < 201811:\n",
    "        return 201711\n",
    "    elif 201606 <= x < 201711:\n",
    "        return 201606\n",
    "    elif 201506 <= x < 201606:\n",
    "        return 201506\n",
    "    elif 201503 <= x < 201506:\n",
    "        return 201503\n",
    "    elif 201410 <= x < 201503:\n",
    "        return 201410\n",
    "    elif 201408 <= x < 201410:\n",
    "        return 201408\n",
    "    elif 201305 <= x < 201408:\n",
    "        return 201305\n",
    "    elif 201210 <= x < 201305:\n",
    "        return 201210\n",
    "    elif 201106 <= x < 201210:\n",
    "        return 201106\n",
    "    elif 201103 <= x < 201106:\n",
    "        return 201103\n",
    "    elif 201101 <= x < 201103:\n",
    "        return 201101\n",
    "    elif 201011 <= x < 201101:\n",
    "        return 201011\n",
    "    elif 201007 <= x < 201011:\n",
    "        return 201007\n",
    "    elif 200902 <= x < 201007:\n",
    "        return 200902\n",
    "    elif x == 200901:\n",
    "        return 200901\n",
    "    elif x == 200812:\n",
    "        return 200812\n",
    "    elif x == 200811:\n",
    "        return 200811\n",
    "    elif x == 200810:\n",
    "        return 200810\n",
    "    elif 200808 <= x < 200810:\n",
    "        return 200808\n",
    "    elif 200708 <= x < 200808:\n",
    "        return 200708\n",
    "    elif x == 200707:\n",
    "        return 200707\n",
    "    elif 200606 <= x < 200707:\n",
    "        return 200608\n",
    "    elif 200606 <= x < 200608:\n",
    "        return 200606\n",
    "    elif 200602 <= x < 200606:\n",
    "        return 200602\n",
    "    elif 200512 <= x < 200602:\n",
    "        return 200512\n",
    "    elif 200411 <= x < 200512:\n",
    "        return 200411\n",
    "    elif 200408 <= x < 200411:\n",
    "        return 200408\n",
    "    elif 200307 <= x < 200408:\n",
    "        return 200307\n",
    "    elif 200305 <= x < 200307:\n",
    "        return 200305\n",
    "    elif 200205 <= x < 200305:\n",
    "        return 200205\n",
    "    elif 200109 <= x < 200205:\n",
    "        return 200109\n",
    "    elif x <= 200108:\n",
    "        return 200108"
   ]
  },
  {
   "cell_type": "code",
   "execution_count": 68,
   "id": "8d72cee8",
   "metadata": {
    "scrolled": true
   },
   "outputs": [],
   "source": [
    "#data['age'] = data['age'].apply(age_dist)\n",
    "data['계약년월'] = data['계약년월'].apply(interest_rate)"
   ]
  },
  {
   "cell_type": "code",
   "execution_count": 69,
   "id": "03df5ebf",
   "metadata": {
    "scrolled": true
   },
   "outputs": [
    {
     "data": {
      "text/plain": [
       "0          200512\n",
       "1          200512\n",
       "2          200512\n",
       "3          200512\n",
       "4          200512\n",
       "            ...  \n",
       "1215014    202301\n",
       "1215015    202301\n",
       "1215016    202301\n",
       "1215017    202301\n",
       "1215018    202301\n",
       "Name: 계약년월, Length: 1215019, dtype: int64"
      ]
     },
     "execution_count": 69,
     "metadata": {},
     "output_type": "execute_result"
    }
   ],
   "source": [
    "data['계약년월']"
   ]
  },
  {
   "cell_type": "markdown",
   "id": "9f4eb937",
   "metadata": {},
   "source": [
    "* 나스닥지수 분석을 해보자!"
   ]
  },
  {
   "cell_type": "code",
   "execution_count": 70,
   "id": "51adfa0d",
   "metadata": {},
   "outputs": [
    {
     "data": {
      "text/plain": [
       "계약년월\n",
       "201606    158106\n",
       "201506    103808\n",
       "200608    103629\n",
       "201711     94972\n",
       "202005     92937\n",
       "200902     89468\n",
       "200708     75451\n",
       "201106     56205\n",
       "201910     47657\n",
       "201305     46208\n",
       "201410     40084\n",
       "200602     37989\n",
       "201503     37597\n",
       "201210     34240\n",
       "202301     24446\n",
       "201811     23239\n",
       "201907     22485\n",
       "201408     18810\n",
       "201103     13283\n",
       "201101     13205\n",
       "201011     12684\n",
       "201007     12251\n",
       "202108      9309\n",
       "202003      7808\n",
       "200512      5856\n",
       "200707      5766\n",
       "200808      4235\n",
       "200901      3778\n",
       "202201      3503\n",
       "202205      2989\n",
       "202111      2623\n",
       "202204      1840\n",
       "202211      1672\n",
       "200812      1523\n",
       "200810      1519\n",
       "202208      1414\n",
       "200811      1163\n",
       "202207       690\n",
       "202210       577\n",
       "Name: count, dtype: int64"
      ]
     },
     "execution_count": 70,
     "metadata": {},
     "output_type": "execute_result"
    }
   ],
   "source": [
    "data['계약년월'].value_counts(ascending=False)"
   ]
  },
  {
   "cell_type": "code",
   "execution_count": 71,
   "id": "11ff00ce",
   "metadata": {},
   "outputs": [],
   "source": [
    "data = pd.merge(data,base_rate, how=\"inner\", left_on=\"계약년월\", right_on=\"기준금리년월\")"
   ]
  },
  {
   "cell_type": "code",
   "execution_count": 72,
   "id": "d90c327c",
   "metadata": {
    "scrolled": true
   },
   "outputs": [
    {
     "data": {
      "text/html": [
       "<div>\n",
       "<style scoped>\n",
       "    .dataframe tbody tr th:only-of-type {\n",
       "        vertical-align: middle;\n",
       "    }\n",
       "\n",
       "    .dataframe tbody tr th {\n",
       "        vertical-align: top;\n",
       "    }\n",
       "\n",
       "    .dataframe thead th {\n",
       "        text-align: right;\n",
       "    }\n",
       "</style>\n",
       "<table border=\"1\" class=\"dataframe\">\n",
       "  <thead>\n",
       "    <tr style=\"text-align: right;\">\n",
       "      <th></th>\n",
       "      <th>시</th>\n",
       "      <th>구</th>\n",
       "      <th>동</th>\n",
       "      <th>단지명</th>\n",
       "      <th>전용면적(㎡)</th>\n",
       "      <th>계약년월</th>\n",
       "      <th>거래금액(만원)</th>\n",
       "      <th>기준금리</th>\n",
       "      <th>기준금리년월</th>\n",
       "    </tr>\n",
       "  </thead>\n",
       "  <tbody>\n",
       "    <tr>\n",
       "      <th>0</th>\n",
       "      <td>서울특별시</td>\n",
       "      <td>강남구</td>\n",
       "      <td>개포동</td>\n",
       "      <td>개포6차우성아파트1동~8동</td>\n",
       "      <td>67.28</td>\n",
       "      <td>200512</td>\n",
       "      <td>54500</td>\n",
       "      <td>3.75</td>\n",
       "      <td>200512</td>\n",
       "    </tr>\n",
       "    <tr>\n",
       "      <th>1</th>\n",
       "      <td>서울특별시</td>\n",
       "      <td>강남구</td>\n",
       "      <td>개포동</td>\n",
       "      <td>개포6차우성아파트1동~8동</td>\n",
       "      <td>79.97</td>\n",
       "      <td>200512</td>\n",
       "      <td>67000</td>\n",
       "      <td>3.75</td>\n",
       "      <td>200512</td>\n",
       "    </tr>\n",
       "    <tr>\n",
       "      <th>2</th>\n",
       "      <td>서울특별시</td>\n",
       "      <td>강남구</td>\n",
       "      <td>개포동</td>\n",
       "      <td>개포6차우성아파트1동~8동</td>\n",
       "      <td>79.97</td>\n",
       "      <td>200512</td>\n",
       "      <td>67500</td>\n",
       "      <td>3.75</td>\n",
       "      <td>200512</td>\n",
       "    </tr>\n",
       "    <tr>\n",
       "      <th>3</th>\n",
       "      <td>서울특별시</td>\n",
       "      <td>강남구</td>\n",
       "      <td>개포동</td>\n",
       "      <td>개포우성3차</td>\n",
       "      <td>104.43</td>\n",
       "      <td>200512</td>\n",
       "      <td>73000</td>\n",
       "      <td>3.75</td>\n",
       "      <td>200512</td>\n",
       "    </tr>\n",
       "    <tr>\n",
       "      <th>4</th>\n",
       "      <td>서울특별시</td>\n",
       "      <td>강남구</td>\n",
       "      <td>개포동</td>\n",
       "      <td>개포우성3차</td>\n",
       "      <td>104.43</td>\n",
       "      <td>200512</td>\n",
       "      <td>71250</td>\n",
       "      <td>3.75</td>\n",
       "      <td>200512</td>\n",
       "    </tr>\n",
       "  </tbody>\n",
       "</table>\n",
       "</div>"
      ],
      "text/plain": [
       "       시    구    동             단지명  전용면적(㎡)    계약년월  거래금액(만원)  기준금리  기준금리년월\n",
       "0  서울특별시  강남구  개포동  개포6차우성아파트1동~8동    67.28  200512     54500  3.75  200512\n",
       "1  서울특별시  강남구  개포동  개포6차우성아파트1동~8동    79.97  200512     67000  3.75  200512\n",
       "2  서울특별시  강남구  개포동  개포6차우성아파트1동~8동    79.97  200512     67500  3.75  200512\n",
       "3  서울특별시  강남구  개포동          개포우성3차   104.43  200512     73000  3.75  200512\n",
       "4  서울특별시  강남구  개포동          개포우성3차   104.43  200512     71250  3.75  200512"
      ]
     },
     "execution_count": 72,
     "metadata": {},
     "output_type": "execute_result"
    }
   ],
   "source": [
    "data.head()"
   ]
  },
  {
   "cell_type": "code",
   "execution_count": 73,
   "id": "af1927eb",
   "metadata": {},
   "outputs": [],
   "source": [
    "data = data.drop('기준금리년월', axis=1)"
   ]
  },
  {
   "cell_type": "code",
   "execution_count": 74,
   "id": "755b607c",
   "metadata": {
    "scrolled": true
   },
   "outputs": [
    {
     "data": {
      "text/html": [
       "<div>\n",
       "<style scoped>\n",
       "    .dataframe tbody tr th:only-of-type {\n",
       "        vertical-align: middle;\n",
       "    }\n",
       "\n",
       "    .dataframe tbody tr th {\n",
       "        vertical-align: top;\n",
       "    }\n",
       "\n",
       "    .dataframe thead th {\n",
       "        text-align: right;\n",
       "    }\n",
       "</style>\n",
       "<table border=\"1\" class=\"dataframe\">\n",
       "  <thead>\n",
       "    <tr style=\"text-align: right;\">\n",
       "      <th></th>\n",
       "      <th>시</th>\n",
       "      <th>구</th>\n",
       "      <th>동</th>\n",
       "      <th>단지명</th>\n",
       "      <th>전용면적(㎡)</th>\n",
       "      <th>계약년월</th>\n",
       "      <th>거래금액(만원)</th>\n",
       "      <th>기준금리</th>\n",
       "    </tr>\n",
       "  </thead>\n",
       "  <tbody>\n",
       "    <tr>\n",
       "      <th>0</th>\n",
       "      <td>서울특별시</td>\n",
       "      <td>강남구</td>\n",
       "      <td>개포동</td>\n",
       "      <td>개포6차우성아파트1동~8동</td>\n",
       "      <td>67.28</td>\n",
       "      <td>200512</td>\n",
       "      <td>54500</td>\n",
       "      <td>3.75</td>\n",
       "    </tr>\n",
       "    <tr>\n",
       "      <th>1</th>\n",
       "      <td>서울특별시</td>\n",
       "      <td>강남구</td>\n",
       "      <td>개포동</td>\n",
       "      <td>개포6차우성아파트1동~8동</td>\n",
       "      <td>79.97</td>\n",
       "      <td>200512</td>\n",
       "      <td>67000</td>\n",
       "      <td>3.75</td>\n",
       "    </tr>\n",
       "    <tr>\n",
       "      <th>2</th>\n",
       "      <td>서울특별시</td>\n",
       "      <td>강남구</td>\n",
       "      <td>개포동</td>\n",
       "      <td>개포6차우성아파트1동~8동</td>\n",
       "      <td>79.97</td>\n",
       "      <td>200512</td>\n",
       "      <td>67500</td>\n",
       "      <td>3.75</td>\n",
       "    </tr>\n",
       "    <tr>\n",
       "      <th>3</th>\n",
       "      <td>서울특별시</td>\n",
       "      <td>강남구</td>\n",
       "      <td>개포동</td>\n",
       "      <td>개포우성3차</td>\n",
       "      <td>104.43</td>\n",
       "      <td>200512</td>\n",
       "      <td>73000</td>\n",
       "      <td>3.75</td>\n",
       "    </tr>\n",
       "    <tr>\n",
       "      <th>4</th>\n",
       "      <td>서울특별시</td>\n",
       "      <td>강남구</td>\n",
       "      <td>개포동</td>\n",
       "      <td>개포우성3차</td>\n",
       "      <td>104.43</td>\n",
       "      <td>200512</td>\n",
       "      <td>71250</td>\n",
       "      <td>3.75</td>\n",
       "    </tr>\n",
       "  </tbody>\n",
       "</table>\n",
       "</div>"
      ],
      "text/plain": [
       "       시    구    동             단지명  전용면적(㎡)    계약년월  거래금액(만원)  기준금리\n",
       "0  서울특별시  강남구  개포동  개포6차우성아파트1동~8동    67.28  200512     54500  3.75\n",
       "1  서울특별시  강남구  개포동  개포6차우성아파트1동~8동    79.97  200512     67000  3.75\n",
       "2  서울특별시  강남구  개포동  개포6차우성아파트1동~8동    79.97  200512     67500  3.75\n",
       "3  서울특별시  강남구  개포동          개포우성3차   104.43  200512     73000  3.75\n",
       "4  서울특별시  강남구  개포동          개포우성3차   104.43  200512     71250  3.75"
      ]
     },
     "execution_count": 74,
     "metadata": {},
     "output_type": "execute_result"
    }
   ],
   "source": [
    "data.head()"
   ]
  },
  {
   "cell_type": "code",
   "execution_count": 75,
   "id": "89e8743a",
   "metadata": {},
   "outputs": [],
   "source": [
    "data['계약년월'] = data['계약년월'].astype(str)"
   ]
  },
  {
   "cell_type": "code",
   "execution_count": 76,
   "id": "1d1b2d66",
   "metadata": {},
   "outputs": [
    {
     "name": "stdout",
     "output_type": "stream",
     "text": [
      "<class 'pandas.core.frame.DataFrame'>\n",
      "RangeIndex: 1215019 entries, 0 to 1215018\n",
      "Data columns (total 8 columns):\n",
      " #   Column    Non-Null Count    Dtype  \n",
      "---  ------    --------------    -----  \n",
      " 0   시         1215019 non-null  object \n",
      " 1   구         1215019 non-null  object \n",
      " 2   동         1215019 non-null  object \n",
      " 3   단지명       1215019 non-null  object \n",
      " 4   전용면적(㎡)   1215019 non-null  float64\n",
      " 5   계약년월      1215019 non-null  object \n",
      " 6   거래금액(만원)  1215019 non-null  int32  \n",
      " 7   기준금리      1215019 non-null  float64\n",
      "dtypes: float64(2), int32(1), object(5)\n",
      "memory usage: 69.5+ MB\n"
     ]
    }
   ],
   "source": [
    "data.info()"
   ]
  },
  {
   "cell_type": "markdown",
   "id": "56e1ebda",
   "metadata": {},
   "source": [
    "- 문자를 숫자로 바꾸는 방법\n",
    "- label encoding - 문자를 숫자로 바꾸기. (숫자는 다 문자로 바꿔야 해)\n",
    "- skleaarn에서 embedding찾아서 문자로 돼 있는 데이터를 숫자로 변환."
   ]
  },
  {
   "cell_type": "code",
   "execution_count": 77,
   "id": "415c8d15",
   "metadata": {},
   "outputs": [],
   "source": [
    "from sklearn.preprocessing import LabelEncoder"
   ]
  },
  {
   "cell_type": "code",
   "execution_count": 78,
   "id": "f409246f",
   "metadata": {},
   "outputs": [],
   "source": [
    "lb_ec = LabelEncoder()\n",
    "data['구'] = lb_ec.fit_transform(data['구'])\n",
    "data['동'] = lb_ec.fit_transform(data['동'])\n",
    "data['단지명'] = lb_ec.fit_transform(data['단지명'])\n",
    "data['계약년월'] = lb_ec.fit_transform(data['계약년월'])\n",
    "#print(lb_ec.classes_)"
   ]
  },
  {
   "cell_type": "code",
   "execution_count": 79,
   "id": "e23bd88f",
   "metadata": {},
   "outputs": [
    {
     "data": {
      "text/html": [
       "<div>\n",
       "<style scoped>\n",
       "    .dataframe tbody tr th:only-of-type {\n",
       "        vertical-align: middle;\n",
       "    }\n",
       "\n",
       "    .dataframe tbody tr th {\n",
       "        vertical-align: top;\n",
       "    }\n",
       "\n",
       "    .dataframe thead th {\n",
       "        text-align: right;\n",
       "    }\n",
       "</style>\n",
       "<table border=\"1\" class=\"dataframe\">\n",
       "  <thead>\n",
       "    <tr style=\"text-align: right;\">\n",
       "      <th></th>\n",
       "      <th>시</th>\n",
       "      <th>구</th>\n",
       "      <th>동</th>\n",
       "      <th>단지명</th>\n",
       "      <th>전용면적(㎡)</th>\n",
       "      <th>계약년월</th>\n",
       "      <th>거래금액(만원)</th>\n",
       "      <th>기준금리</th>\n",
       "    </tr>\n",
       "  </thead>\n",
       "  <tbody>\n",
       "    <tr>\n",
       "      <th>0</th>\n",
       "      <td>서울특별시</td>\n",
       "      <td>0</td>\n",
       "      <td>8</td>\n",
       "      <td>676</td>\n",
       "      <td>67.28</td>\n",
       "      <td>0</td>\n",
       "      <td>54500</td>\n",
       "      <td>3.75</td>\n",
       "    </tr>\n",
       "    <tr>\n",
       "      <th>1</th>\n",
       "      <td>서울특별시</td>\n",
       "      <td>0</td>\n",
       "      <td>8</td>\n",
       "      <td>676</td>\n",
       "      <td>79.97</td>\n",
       "      <td>0</td>\n",
       "      <td>67000</td>\n",
       "      <td>3.75</td>\n",
       "    </tr>\n",
       "  </tbody>\n",
       "</table>\n",
       "</div>"
      ],
      "text/plain": [
       "       시  구  동  단지명  전용면적(㎡)  계약년월  거래금액(만원)  기준금리\n",
       "0  서울특별시  0  8  676    67.28     0     54500  3.75\n",
       "1  서울특별시  0  8  676    79.97     0     67000  3.75"
      ]
     },
     "execution_count": 79,
     "metadata": {},
     "output_type": "execute_result"
    }
   ],
   "source": [
    "data.head(2)"
   ]
  },
  {
   "cell_type": "code",
   "execution_count": 80,
   "id": "d45f3f70",
   "metadata": {},
   "outputs": [
    {
     "name": "stdout",
     "output_type": "stream",
     "text": [
      "<class 'pandas.core.frame.DataFrame'>\n",
      "RangeIndex: 1215019 entries, 0 to 1215018\n",
      "Data columns (total 8 columns):\n",
      " #   Column    Non-Null Count    Dtype  \n",
      "---  ------    --------------    -----  \n",
      " 0   시         1215019 non-null  object \n",
      " 1   구         1215019 non-null  int32  \n",
      " 2   동         1215019 non-null  int32  \n",
      " 3   단지명       1215019 non-null  int32  \n",
      " 4   전용면적(㎡)   1215019 non-null  float64\n",
      " 5   계약년월      1215019 non-null  int32  \n",
      " 6   거래금액(만원)  1215019 non-null  int32  \n",
      " 7   기준금리      1215019 non-null  float64\n",
      "dtypes: float64(2), int32(5), object(1)\n",
      "memory usage: 51.0+ MB\n"
     ]
    }
   ],
   "source": [
    "data.info()"
   ]
  },
  {
   "cell_type": "code",
   "execution_count": 81,
   "id": "fb2b9c78",
   "metadata": {},
   "outputs": [],
   "source": [
    "final_data = data"
   ]
  },
  {
   "cell_type": "code",
   "execution_count": 82,
   "id": "97ebfeb8",
   "metadata": {},
   "outputs": [],
   "source": [
    "final_data.drop('시',axis=1,inplace=True)"
   ]
  },
  {
   "cell_type": "code",
   "execution_count": 83,
   "id": "4f57886b",
   "metadata": {},
   "outputs": [
    {
     "data": {
      "text/html": [
       "<div>\n",
       "<style scoped>\n",
       "    .dataframe tbody tr th:only-of-type {\n",
       "        vertical-align: middle;\n",
       "    }\n",
       "\n",
       "    .dataframe tbody tr th {\n",
       "        vertical-align: top;\n",
       "    }\n",
       "\n",
       "    .dataframe thead th {\n",
       "        text-align: right;\n",
       "    }\n",
       "</style>\n",
       "<table border=\"1\" class=\"dataframe\">\n",
       "  <thead>\n",
       "    <tr style=\"text-align: right;\">\n",
       "      <th></th>\n",
       "      <th>구</th>\n",
       "      <th>동</th>\n",
       "      <th>단지명</th>\n",
       "      <th>전용면적(㎡)</th>\n",
       "      <th>계약년월</th>\n",
       "      <th>거래금액(만원)</th>\n",
       "      <th>기준금리</th>\n",
       "    </tr>\n",
       "  </thead>\n",
       "  <tbody>\n",
       "    <tr>\n",
       "      <th>0</th>\n",
       "      <td>0</td>\n",
       "      <td>8</td>\n",
       "      <td>676</td>\n",
       "      <td>67.28</td>\n",
       "      <td>0</td>\n",
       "      <td>54500</td>\n",
       "      <td>3.75</td>\n",
       "    </tr>\n",
       "    <tr>\n",
       "      <th>1</th>\n",
       "      <td>0</td>\n",
       "      <td>8</td>\n",
       "      <td>676</td>\n",
       "      <td>79.97</td>\n",
       "      <td>0</td>\n",
       "      <td>67000</td>\n",
       "      <td>3.75</td>\n",
       "    </tr>\n",
       "    <tr>\n",
       "      <th>2</th>\n",
       "      <td>0</td>\n",
       "      <td>8</td>\n",
       "      <td>676</td>\n",
       "      <td>79.97</td>\n",
       "      <td>0</td>\n",
       "      <td>67500</td>\n",
       "      <td>3.75</td>\n",
       "    </tr>\n",
       "    <tr>\n",
       "      <th>3</th>\n",
       "      <td>0</td>\n",
       "      <td>8</td>\n",
       "      <td>681</td>\n",
       "      <td>104.43</td>\n",
       "      <td>0</td>\n",
       "      <td>73000</td>\n",
       "      <td>3.75</td>\n",
       "    </tr>\n",
       "    <tr>\n",
       "      <th>4</th>\n",
       "      <td>0</td>\n",
       "      <td>8</td>\n",
       "      <td>681</td>\n",
       "      <td>104.43</td>\n",
       "      <td>0</td>\n",
       "      <td>71250</td>\n",
       "      <td>3.75</td>\n",
       "    </tr>\n",
       "  </tbody>\n",
       "</table>\n",
       "</div>"
      ],
      "text/plain": [
       "   구  동  단지명  전용면적(㎡)  계약년월  거래금액(만원)  기준금리\n",
       "0  0  8  676    67.28     0     54500  3.75\n",
       "1  0  8  676    79.97     0     67000  3.75\n",
       "2  0  8  676    79.97     0     67500  3.75\n",
       "3  0  8  681   104.43     0     73000  3.75\n",
       "4  0  8  681   104.43     0     71250  3.75"
      ]
     },
     "execution_count": 83,
     "metadata": {},
     "output_type": "execute_result"
    }
   ],
   "source": [
    "final_data.head()"
   ]
  },
  {
   "cell_type": "code",
   "execution_count": 84,
   "id": "8a33e299",
   "metadata": {},
   "outputs": [],
   "source": [
    "X = final_data.drop('거래금액(만원)',axis=1)\n",
    "y = final_data['거래금액(만원)']"
   ]
  },
  {
   "cell_type": "code",
   "execution_count": 85,
   "id": "fcd24332",
   "metadata": {},
   "outputs": [],
   "source": [
    "from sklearn.model_selection import train_test_split"
   ]
  },
  {
   "cell_type": "code",
   "execution_count": 86,
   "id": "c6fa587b",
   "metadata": {},
   "outputs": [],
   "source": [
    "X_train, X_test, y_train, y_test = train_test_split(X, y, test_size=0.4, random_state=10)\n",
    "X_valid, X_test, y_valid, y_test = train_test_split(X_test, y_test, test_size=0.5, random_state=10)"
   ]
  },
  {
   "cell_type": "code",
   "execution_count": 97,
   "id": "33ba27cf",
   "metadata": {},
   "outputs": [],
   "source": [
    "# 회귀분석을 해보자!\n",
    "from sklearn.linear_model import LinearRegression\n",
    "from sklearn.metrics import mean_squared_error, r2_score\n",
    "from math import sqrt"
   ]
  },
  {
   "cell_type": "code",
   "execution_count": 99,
   "id": "66136d2c",
   "metadata": {
    "scrolled": true
   },
   "outputs": [
    {
     "name": "stdout",
     "output_type": "stream",
     "text": [
      "coef:  [-2778.7378774  -1489.65515904  -174.04269535 22875.25133167\n",
      " 26660.62221153  5571.47806138]\n",
      "intercept:  64653.580615527804\n",
      "mse:  3094057855.750818\n",
      "rmse:  55624.25600177334\n",
      "R-squared:  -0.4448744720272704\n"
     ]
    }
   ],
   "source": [
    "lr = LinearRegression()\n",
    "lr.fit(X_train, y_train)\n",
    "pred = lr.predict(X_valid)\n",
    "print('coef: ', lr.coef_)\n",
    "print('intercept: ', lr.intercept_)\n",
    "print('mse: ', mean_squared_error(y_test, pred))\n",
    "print('rmse: ', sqrt(mean_squared_error(y_test, pred)))\n",
    "print('R-squared: ', r2_score(y_test, pred)) "
   ]
  },
  {
   "cell_type": "code",
   "execution_count": 89,
   "id": "6c9961a1",
   "metadata": {},
   "outputs": [],
   "source": [
    "# 의사결정나무 회귀분석을 해보자!\n",
    "from sklearn.tree import DecisionTreeRegressor\n",
    "from sklearn.metrics import mean_squared_error, r2_score"
   ]
  },
  {
   "cell_type": "code",
   "execution_count": 90,
   "id": "ec0be65a",
   "metadata": {
    "scrolled": true
   },
   "outputs": [
    {
     "name": "stdout",
     "output_type": "stream",
     "text": [
      "109251533.2318563\n",
      "0.9490133427842943\n"
     ]
    }
   ],
   "source": [
    "dtr = DecisionTreeRegressor()\n",
    "dtr.fit(X_train, y_train)\n",
    "pred = dtr.predict(X_valid)\n",
    "print(mean_squared_error(y_valid, pred))\n",
    "print(r2_score(y_valid, pred))"
   ]
  },
  {
   "cell_type": "markdown",
   "id": "34c05cd0",
   "metadata": {},
   "source": [
    "* 결론 : LinearRegression보다 DecisionTreeRegressor이 R2를 보면 더 설명력이 좋네!"
   ]
  },
  {
   "cell_type": "markdown",
   "id": "aa21136a",
   "metadata": {},
   "source": [
    "- 독립변수간 단위 차이가 많이 나니까 정규화를 해줄 필요가 있구나. 스케일링을 해보자!\n",
    "- 정규화(스케일링) : 단위차이를 맞춰줌\n",
    "- 이상값이 많을 때는 RobustScaler로 스케일링을 해보자! 0~1값으로 스케일링!"
   ]
  },
  {
   "cell_type": "code",
   "execution_count": 91,
   "id": "f9f93335",
   "metadata": {},
   "outputs": [],
   "source": [
    "# 컬럼 이름바꾸기\n",
    "# data = data.rename(columns={\"전용면적(㎡)\" : \"전용면적\"})"
   ]
  },
  {
   "cell_type": "code",
   "execution_count": 92,
   "id": "1f6b20b5",
   "metadata": {},
   "outputs": [],
   "source": [
    "from sklearn.preprocessing import RobustScaler\n",
    "rc = RobustScaler()\n",
    "X_scale = rc.fit_transform(X)\n",
    "X_scale = pd.DataFrame(X_scale, columns=X.columns)"
   ]
  },
  {
   "cell_type": "code",
   "execution_count": 93,
   "id": "a4acc9b6",
   "metadata": {
    "scrolled": true
   },
   "outputs": [
    {
     "data": {
      "text/html": [
       "<div>\n",
       "<style scoped>\n",
       "    .dataframe tbody tr th:only-of-type {\n",
       "        vertical-align: middle;\n",
       "    }\n",
       "\n",
       "    .dataframe tbody tr th {\n",
       "        vertical-align: top;\n",
       "    }\n",
       "\n",
       "    .dataframe thead th {\n",
       "        text-align: right;\n",
       "    }\n",
       "</style>\n",
       "<table border=\"1\" class=\"dataframe\">\n",
       "  <thead>\n",
       "    <tr style=\"text-align: right;\">\n",
       "      <th></th>\n",
       "      <th>구</th>\n",
       "      <th>동</th>\n",
       "      <th>단지명</th>\n",
       "      <th>전용면적(㎡)</th>\n",
       "      <th>계약년월</th>\n",
       "      <th>기준금리</th>\n",
       "    </tr>\n",
       "  </thead>\n",
       "  <tbody>\n",
       "    <tr>\n",
       "      <th>0</th>\n",
       "      <td>-0.909091</td>\n",
       "      <td>-0.905063</td>\n",
       "      <td>-0.823482</td>\n",
       "      <td>-0.543110</td>\n",
       "      <td>-1.538462</td>\n",
       "      <td>1.000</td>\n",
       "    </tr>\n",
       "    <tr>\n",
       "      <th>1</th>\n",
       "      <td>-0.909091</td>\n",
       "      <td>-0.905063</td>\n",
       "      <td>-0.823482</td>\n",
       "      <td>-0.042597</td>\n",
       "      <td>-1.538462</td>\n",
       "      <td>1.000</td>\n",
       "    </tr>\n",
       "    <tr>\n",
       "      <th>2</th>\n",
       "      <td>-0.909091</td>\n",
       "      <td>-0.905063</td>\n",
       "      <td>-0.823482</td>\n",
       "      <td>-0.042597</td>\n",
       "      <td>-1.538462</td>\n",
       "      <td>1.000</td>\n",
       "    </tr>\n",
       "    <tr>\n",
       "      <th>3</th>\n",
       "      <td>-0.909091</td>\n",
       "      <td>-0.905063</td>\n",
       "      <td>-0.822151</td>\n",
       "      <td>0.922142</td>\n",
       "      <td>-1.538462</td>\n",
       "      <td>1.000</td>\n",
       "    </tr>\n",
       "    <tr>\n",
       "      <th>4</th>\n",
       "      <td>-0.909091</td>\n",
       "      <td>-0.905063</td>\n",
       "      <td>-0.822151</td>\n",
       "      <td>0.922142</td>\n",
       "      <td>-1.538462</td>\n",
       "      <td>1.000</td>\n",
       "    </tr>\n",
       "    <tr>\n",
       "      <th>...</th>\n",
       "      <td>...</td>\n",
       "      <td>...</td>\n",
       "      <td>...</td>\n",
       "      <td>...</td>\n",
       "      <td>...</td>\n",
       "      <td>...</td>\n",
       "    </tr>\n",
       "    <tr>\n",
       "      <th>1215014</th>\n",
       "      <td>1.272727</td>\n",
       "      <td>0.145570</td>\n",
       "      <td>1.025559</td>\n",
       "      <td>0.155400</td>\n",
       "      <td>1.384615</td>\n",
       "      <td>0.875</td>\n",
       "    </tr>\n",
       "    <tr>\n",
       "      <th>1215015</th>\n",
       "      <td>1.272727</td>\n",
       "      <td>0.145570</td>\n",
       "      <td>1.025559</td>\n",
       "      <td>0.155400</td>\n",
       "      <td>1.384615</td>\n",
       "      <td>0.875</td>\n",
       "    </tr>\n",
       "    <tr>\n",
       "      <th>1215016</th>\n",
       "      <td>1.272727</td>\n",
       "      <td>0.145570</td>\n",
       "      <td>1.025559</td>\n",
       "      <td>-0.555731</td>\n",
       "      <td>1.384615</td>\n",
       "      <td>0.875</td>\n",
       "    </tr>\n",
       "    <tr>\n",
       "      <th>1215017</th>\n",
       "      <td>1.272727</td>\n",
       "      <td>0.791139</td>\n",
       "      <td>0.899894</td>\n",
       "      <td>-1.210065</td>\n",
       "      <td>1.384615</td>\n",
       "      <td>0.875</td>\n",
       "    </tr>\n",
       "    <tr>\n",
       "      <th>1215018</th>\n",
       "      <td>1.272727</td>\n",
       "      <td>0.791139</td>\n",
       "      <td>0.899894</td>\n",
       "      <td>-0.839710</td>\n",
       "      <td>1.384615</td>\n",
       "      <td>0.875</td>\n",
       "    </tr>\n",
       "  </tbody>\n",
       "</table>\n",
       "<p>1215019 rows × 6 columns</p>\n",
       "</div>"
      ],
      "text/plain": [
       "                구         동       단지명   전용면적(㎡)      계약년월   기준금리\n",
       "0       -0.909091 -0.905063 -0.823482 -0.543110 -1.538462  1.000\n",
       "1       -0.909091 -0.905063 -0.823482 -0.042597 -1.538462  1.000\n",
       "2       -0.909091 -0.905063 -0.823482 -0.042597 -1.538462  1.000\n",
       "3       -0.909091 -0.905063 -0.822151  0.922142 -1.538462  1.000\n",
       "4       -0.909091 -0.905063 -0.822151  0.922142 -1.538462  1.000\n",
       "...           ...       ...       ...       ...       ...    ...\n",
       "1215014  1.272727  0.145570  1.025559  0.155400  1.384615  0.875\n",
       "1215015  1.272727  0.145570  1.025559  0.155400  1.384615  0.875\n",
       "1215016  1.272727  0.145570  1.025559 -0.555731  1.384615  0.875\n",
       "1215017  1.272727  0.791139  0.899894 -1.210065  1.384615  0.875\n",
       "1215018  1.272727  0.791139  0.899894 -0.839710  1.384615  0.875\n",
       "\n",
       "[1215019 rows x 6 columns]"
      ]
     },
     "execution_count": 93,
     "metadata": {},
     "output_type": "execute_result"
    }
   ],
   "source": [
    "X_scale"
   ]
  },
  {
   "cell_type": "code",
   "execution_count": 108,
   "id": "a96c8fbb",
   "metadata": {},
   "outputs": [],
   "source": [
    "# RobustScaler로 스케일링 한 X_scale 데이터로 다시 돌려보기!\n",
    "from sklearn.model_selection import train_test_split\n",
    "X_train, X_test, y_train, y_test = train_test_split(X_scale, y, test_size=0.4, random_state=10)\n",
    "X_valid, X_test, y_valid, y_test = train_test_split(X_test, y_test, test_size=0.5, random_state=10)"
   ]
  },
  {
   "cell_type": "code",
   "execution_count": 109,
   "id": "3493bf43",
   "metadata": {},
   "outputs": [
    {
     "name": "stdout",
     "output_type": "stream",
     "text": [
      "109260960.99893318\n",
      "0.949008942934571\n"
     ]
    }
   ],
   "source": [
    "from sklearn.tree import DecisionTreeRegressor\n",
    "from sklearn.metrics import mean_squared_error, r2_score\n",
    "dtr = DecisionTreeRegressor()\n",
    "dtr.fit(X_train, y_train)\n",
    "pred = dtr.predict(X_valid)\n",
    "print(mean_squared_error(y_valid, pred))\n",
    "print(r2_score(y_valid, pred))"
   ]
  },
  {
   "cell_type": "markdown",
   "id": "066c46f5",
   "metadata": {},
   "source": [
    "* 스케일링 한 X_scale로 넣어봤는데도 결과는 똑같네?"
   ]
  },
  {
   "cell_type": "code",
   "execution_count": 110,
   "id": "85fbd237",
   "metadata": {
    "scrolled": true
   },
   "outputs": [
    {
     "data": {
      "text/html": [
       "<div>\n",
       "<style scoped>\n",
       "    .dataframe tbody tr th:only-of-type {\n",
       "        vertical-align: middle;\n",
       "    }\n",
       "\n",
       "    .dataframe tbody tr th {\n",
       "        vertical-align: top;\n",
       "    }\n",
       "\n",
       "    .dataframe thead th {\n",
       "        text-align: right;\n",
       "    }\n",
       "</style>\n",
       "<table border=\"1\" class=\"dataframe\">\n",
       "  <thead>\n",
       "    <tr style=\"text-align: right;\">\n",
       "      <th></th>\n",
       "      <th>실제값</th>\n",
       "      <th>예측값</th>\n",
       "    </tr>\n",
       "  </thead>\n",
       "  <tbody>\n",
       "    <tr>\n",
       "      <th>64301</th>\n",
       "      <td>29500</td>\n",
       "      <td>69000.000000</td>\n",
       "    </tr>\n",
       "    <tr>\n",
       "      <th>1004583</th>\n",
       "      <td>100000</td>\n",
       "      <td>35830.000000</td>\n",
       "    </tr>\n",
       "    <tr>\n",
       "      <th>1077025</th>\n",
       "      <td>93500</td>\n",
       "      <td>38923.529412</td>\n",
       "    </tr>\n",
       "    <tr>\n",
       "      <th>739087</th>\n",
       "      <td>60000</td>\n",
       "      <td>14900.000000</td>\n",
       "    </tr>\n",
       "    <tr>\n",
       "      <th>778</th>\n",
       "      <td>25300</td>\n",
       "      <td>39461.482759</td>\n",
       "    </tr>\n",
       "    <tr>\n",
       "      <th>...</th>\n",
       "      <td>...</td>\n",
       "      <td>...</td>\n",
       "    </tr>\n",
       "    <tr>\n",
       "      <th>175474</th>\n",
       "      <td>37000</td>\n",
       "      <td>80000.000000</td>\n",
       "    </tr>\n",
       "    <tr>\n",
       "      <th>357084</th>\n",
       "      <td>18300</td>\n",
       "      <td>43800.000000</td>\n",
       "    </tr>\n",
       "    <tr>\n",
       "      <th>848395</th>\n",
       "      <td>37500</td>\n",
       "      <td>101837.500000</td>\n",
       "    </tr>\n",
       "    <tr>\n",
       "      <th>1199258</th>\n",
       "      <td>115000</td>\n",
       "      <td>48643.750000</td>\n",
       "    </tr>\n",
       "    <tr>\n",
       "      <th>820031</th>\n",
       "      <td>59900</td>\n",
       "      <td>26700.000000</td>\n",
       "    </tr>\n",
       "  </tbody>\n",
       "</table>\n",
       "<p>243004 rows × 2 columns</p>\n",
       "</div>"
      ],
      "text/plain": [
       "            실제값            예측값\n",
       "64301     29500   69000.000000\n",
       "1004583  100000   35830.000000\n",
       "1077025   93500   38923.529412\n",
       "739087    60000   14900.000000\n",
       "778       25300   39461.482759\n",
       "...         ...            ...\n",
       "175474    37000   80000.000000\n",
       "357084    18300   43800.000000\n",
       "848395    37500  101837.500000\n",
       "1199258  115000   48643.750000\n",
       "820031    59900   26700.000000\n",
       "\n",
       "[243004 rows x 2 columns]"
      ]
     },
     "execution_count": 110,
     "metadata": {},
     "output_type": "execute_result"
    }
   ],
   "source": [
    "result = pd.DataFrame({'실제값': y_test, \"예측값\": pred})\n",
    "result"
   ]
  },
  {
   "cell_type": "markdown",
   "id": "3b635082",
   "metadata": {},
   "source": [
    "* 예측이 형편없군"
   ]
  },
  {
   "cell_type": "code",
   "execution_count": 112,
   "id": "62c49ba7",
   "metadata": {},
   "outputs": [],
   "source": [
    "import statsmodels.api as sm"
   ]
  },
  {
   "cell_type": "code",
   "execution_count": 113,
   "id": "58e0520d",
   "metadata": {},
   "outputs": [
    {
     "name": "stdout",
     "output_type": "stream",
     "text": [
      "                                 OLS Regression Results                                \n",
      "=======================================================================================\n",
      "Dep. Variable:               거래금액(만원)   R-squared (uncentered):            -2593461.550\n",
      "Model:                            OLS   Adj. R-squared (uncentered):       -2593482.896\n",
      "Method:                 Least Squares   F-statistic:                         -1.215e+05\n",
      "Date:                Thu, 02 Nov 2023   Prob (F-statistic):                        1.00\n",
      "Time:                        22:34:18   Log-Likelihood:                     -9.1473e+06\n",
      "No. Observations:              729011   AIC:                                  1.829e+07\n",
      "Df Residuals:                  729005   BIC:                                  1.829e+07\n",
      "Df Model:                           6                                                  \n",
      "Covariance Type:            nonrobust                                                  \n",
      "==============================================================================\n",
      "                 coef    std err          t      P>|t|      [0.025      0.975]\n",
      "------------------------------------------------------------------------------\n",
      "구           8723.2325    129.948     67.129      0.000    8468.539    8977.926\n",
      "동            754.4727    139.918      5.392      0.000     480.239    1028.706\n",
      "단지명         7529.0712    143.900     52.321      0.000    7247.031    7811.111\n",
      "전용면적(㎡)     1.692e+04     69.089    244.924      0.000    1.68e+04    1.71e+04\n",
      "계약년월        3.166e+04    192.679    164.336      0.000    3.13e+04     3.2e+04\n",
      "기준금리         4.27e+04    197.411    216.322      0.000    4.23e+04    4.31e+04\n",
      "==============================================================================\n",
      "Omnibus:                   450305.445   Durbin-Watson:                   0.780\n",
      "Prob(Omnibus):                  0.000   Jarque-Bera (JB):         10693588.678\n",
      "Skew:                           2.565   Prob(JB):                         0.00\n",
      "Kurtosis:                      21.048   Cond. No.                         3.88\n",
      "==============================================================================\n",
      "\n",
      "Notes:\n",
      "[1] R² is computed without centering (uncentered) since the model does not contain a constant.\n",
      "[2] Standard Errors assume that the covariance matrix of the errors is correctly specified.\n"
     ]
    }
   ],
   "source": [
    "ols = sm.OLS(y_train, X_train)\n",
    "model = ols.fit()\n",
    "print(model.summary())"
   ]
  },
  {
   "cell_type": "markdown",
   "id": "5d95d692",
   "metadata": {},
   "source": [
    "- 릿지 회귀분석(Ridge Regression)\n",
    "- L2규제, w(가중치)의 절대값을 가능한 한 작게 만들어 0에 가깝게 만든다.\n",
    "- 모든 특성(Feature, 독립변수)이 주는 영향력을 최소화"
   ]
  },
  {
   "cell_type": "code",
   "execution_count": 114,
   "id": "af2bbd32",
   "metadata": {
    "scrolled": true
   },
   "outputs": [
    {
     "name": "stdout",
     "output_type": "stream",
     "text": [
      "coef:  [-2778.72265741 -1489.64800182  -174.04574268 22875.22392701\n",
      " 26660.36839025  5571.24273012]\n",
      "intercept:  64653.58493117744\n",
      "mse:  3094054350.520975\n",
      "rmse:  55624.224493659014\n",
      "R-squared:  -0.44487283514219755\n"
     ]
    }
   ],
   "source": [
    "from sklearn.linear_model import Ridge\n",
    "ridge = Ridge()\n",
    "ridge.fit(X_train, y_train)\n",
    "pred2 = ridge.predict(X_valid)\n",
    "print('coef: ', ridge.coef_)\n",
    "print('intercept: ', ridge.intercept_)\n",
    "print('mse: ', mean_squared_error(y_test, pred2))\n",
    "print('rmse: ', sqrt(mean_squared_error(y_test, pred2)))\n",
    "print('R-squared: ', r2_score(y_test, pred2)) "
   ]
  },
  {
   "cell_type": "code",
   "execution_count": 115,
   "id": "195bcc53",
   "metadata": {
    "scrolled": true
   },
   "outputs": [
    {
     "name": "stdout",
     "output_type": "stream",
     "text": [
      "alpha:  0\n",
      "--------------------------------------------------\n",
      "coef:  [-2778.7378774  -1489.65515904  -174.04269535 22875.25133167\n",
      " 26660.62221153  5571.47806138]\n",
      "intercept:  64653.580615527775\n",
      "mse:  3094057855.7508206\n",
      "rmse:  55624.25600177337\n",
      "R-squared:  -0.4448744720272717\n",
      "0 훈련 세트 점수: 0.443883647700161 \n",
      "0 테스트 세트 점수: 0.4421471989549526 \n",
      "\n",
      "alpha:  0.1\n",
      "--------------------------------------------------\n",
      "coef:  [-2778.73635539 -1489.65444331  -174.04300009 22875.2485912\n",
      " 26660.59682907  5571.45452791]\n",
      "intercept:  64653.581047115185\n",
      "mse:  3094057505.22458\n",
      "rmse:  55624.252850933466\n",
      "R-squared:  -0.4448743083372435\n",
      "0.1 훈련 세트 점수: 0.44388364770010513 \n",
      "0.1 테스트 세트 점수: 0.4421472008407019 \n",
      "\n",
      "alpha:  1\n",
      "--------------------------------------------------\n",
      "coef:  [-2778.72265741 -1489.64800182  -174.04574268 22875.22392701\n",
      " 26660.36839025  5571.24273012]\n",
      "intercept:  64653.58493117744\n",
      "mse:  3094054350.520975\n",
      "rmse:  55624.224493659014\n",
      "R-squared:  -0.44487283514219755\n",
      "1 훈련 세트 점수: 0.44388364769457656 \n",
      "1 테스트 세트 점수: 0.4421472178072283 \n",
      "\n",
      "alpha:  10\n",
      "--------------------------------------------------\n",
      "coef:  [-2778.58568562 -1489.58359033  -174.07316585 22874.97729324\n",
      " 26658.08432639  5569.12509441]\n",
      "intercept:  64653.62374957744\n",
      "mse:  3094022806.70861\n",
      "rmse:  55623.94094909682\n",
      "R-squared:  -0.44485810469714426\n",
      "10 훈련 세트 점수: 0.44388364714185924 \n",
      "10 테스트 세트 점수: 0.44214738695599254 \n",
      "\n",
      "alpha:  100\n",
      "--------------------------------------------------\n",
      "coef:  [-2777.21676532 -1488.93981359  -174.34711918 22872.51176257\n",
      " 26635.27607761  5547.98289763]\n",
      "intercept:  64654.00971498714\n",
      "mse:  3093707690.362152\n",
      "rmse:  55621.10831655687\n",
      "R-squared:  -0.4447109505113005\n",
      "100 훈련 세트 점수: 0.44388359200833205 \n",
      "100 테스트 세트 점수: 0.44214902693319014 \n",
      "\n"
     ]
    }
   ],
   "source": [
    "for alpha in [0, 0.1, 1, 10, 100]:\n",
    "    ridge = Ridge(alpha=alpha)\n",
    "    ridge.fit(X_train, y_train)\n",
    "    pred2 = ridge.predict(X_valid)\n",
    "    print(\"alpha: \", alpha)\n",
    "    print(\"-\"*50)\n",
    "    print('coef: ', ridge.coef_)\n",
    "    print('intercept: ', ridge.intercept_)\n",
    "    print('mse: ', mean_squared_error(y_test, pred2))\n",
    "    print('rmse: ', sqrt(mean_squared_error(y_test, pred2)))\n",
    "    print('R-squared: ', r2_score(y_test, pred2))  \n",
    "    print(alpha, f\"훈련 세트 점수: {ridge.score(X_train, y_train)} \")\n",
    "    print(alpha, f\"테스트 세트 점수: {ridge.score(X_test, y_test)} \")\n",
    "    print()"
   ]
  },
  {
   "cell_type": "markdown",
   "id": "bbe8d41e",
   "metadata": {},
   "source": [
    "- Lasso(라쏘, L1규제)\n",
    "- w(가중치)의 절대값에 패널티를 부여해서 0으로 만들고 제거\n",
    "- 특성(feature, 독립변수)이 너무 많을 때 유용"
   ]
  },
  {
   "cell_type": "code",
   "execution_count": 117,
   "id": "a3cd1939",
   "metadata": {
    "scrolled": true
   },
   "outputs": [
    {
     "name": "stdout",
     "output_type": "stream",
     "text": [
      "coef:  [-2776.25457289 -1487.67061957  -171.50747408 22874.18124249\n",
      " 26649.63308926  5559.73472724]\n",
      "intercept:  64653.858639119\n",
      "mse:  3093937401.820085\n",
      "rmse:  55623.17324479146\n",
      "R-squared:  -0.44481822200943455\n",
      "100 훈련 세트 점수: 0.44388363331001357 \n",
      "100 테스트 세트 점수: 0.4421483479348808 \n"
     ]
    }
   ],
   "source": [
    "from sklearn.linear_model import Lasso\n",
    "\n",
    "lasso = Lasso()\n",
    "lasso.fit(X_train, y_train)\n",
    "pred2 = lasso.predict(X_valid)\n",
    "print('coef: ', lasso.coef_)\n",
    "print('intercept: ', lasso.intercept_)\n",
    "print('mse: ', mean_squared_error(y_test, pred2))\n",
    "print('rmse: ', sqrt(mean_squared_error(y_test, pred2)))\n",
    "print('R-squared: ', r2_score(y_test, pred2))  \n",
    "print(alpha, f\"훈련 세트 점수: {lasso.score(X_train, y_train)} \")\n",
    "print(alpha, f\"테스트 세트 점수: {lasso.score(X_test, y_test)} \")"
   ]
  },
  {
   "cell_type": "markdown",
   "id": "5744bf18",
   "metadata": {},
   "source": [
    "ElasticNet(엘라스틱넷 회귀분석)"
   ]
  },
  {
   "cell_type": "code",
   "execution_count": 118,
   "id": "e84d91ea",
   "metadata": {
    "scrolled": false
   },
   "outputs": [
    {
     "name": "stdout",
     "output_type": "stream",
     "text": [
      "coef:  [ -771.90432825  -478.97847896  -316.23621669 16531.9498744\n",
      "  9484.77770893 -4452.44896158]\n",
      "intercept:  62504.329081063675\n",
      "mse:  2597644403.3132977\n",
      "rmse:  50967.091375840726\n",
      "R-squared:  -0.21305749948270103\n",
      "100 훈련 세트 점수: 0.39155101831846206 \n",
      "100 테스트 세트 점수: 0.391550540591071 \n"
     ]
    }
   ],
   "source": [
    "from sklearn.linear_model import ElasticNet\n",
    "el_net = ElasticNet()\n",
    "el_net.fit(X_train, y_train)\n",
    "pred2 = el_net.predict(X_valid)\n",
    "print('coef: ', el_net.coef_)\n",
    "print('intercept: ', el_net.intercept_)\n",
    "print('mse: ', mean_squared_error(y_test, pred2))\n",
    "print('rmse: ', sqrt(mean_squared_error(y_test, pred2)))\n",
    "print('R-squared: ', r2_score(y_test, pred2))  \n",
    "print(alpha, f\"훈련 세트 점수: {el_net.score(X_train, y_train)} \")\n",
    "print(alpha, f\"테스트 세트 점수: {el_net.score(X_test, y_test)} \")"
   ]
  },
  {
   "cell_type": "code",
   "execution_count": 120,
   "id": "6bde85de",
   "metadata": {},
   "outputs": [],
   "source": [
    "from sklearn.cluster import KMeans"
   ]
  },
  {
   "cell_type": "code",
   "execution_count": 121,
   "id": "d9b05609",
   "metadata": {
    "scrolled": true
   },
   "outputs": [
    {
     "name": "stderr",
     "output_type": "stream",
     "text": [
      "C:\\Users\\Jasmine\\anaconda3\\envs\\testenv\\lib\\site-packages\\sklearn\\cluster\\_kmeans.py:1412: FutureWarning: The default value of `n_init` will change from 10 to 'auto' in 1.4. Set the value of `n_init` explicitly to suppress the warning\n",
      "  super()._check_params_vs_input(X, default_n_init=10)\n"
     ]
    }
   ],
   "source": [
    "km = KMeans(n_clusters = 3)\n",
    "km.fit(X_scale)\n",
    "result = km.labels_"
   ]
  },
  {
   "cell_type": "code",
   "execution_count": 123,
   "id": "10539a84",
   "metadata": {},
   "outputs": [
    {
     "data": {
      "text/plain": [
       "array([2, 2, 2, ..., 1, 1, 1])"
      ]
     },
     "execution_count": 123,
     "metadata": {},
     "output_type": "execute_result"
    }
   ],
   "source": [
    "result"
   ]
  },
  {
   "cell_type": "code",
   "execution_count": 126,
   "id": "f937d007",
   "metadata": {},
   "outputs": [
    {
     "data": {
      "text/html": [
       "<div>\n",
       "<style scoped>\n",
       "    .dataframe tbody tr th:only-of-type {\n",
       "        vertical-align: middle;\n",
       "    }\n",
       "\n",
       "    .dataframe tbody tr th {\n",
       "        vertical-align: top;\n",
       "    }\n",
       "\n",
       "    .dataframe thead th {\n",
       "        text-align: right;\n",
       "    }\n",
       "</style>\n",
       "<table border=\"1\" class=\"dataframe\">\n",
       "  <thead>\n",
       "    <tr style=\"text-align: right;\">\n",
       "      <th></th>\n",
       "      <th>구</th>\n",
       "      <th>동</th>\n",
       "      <th>단지명</th>\n",
       "      <th>전용면적(㎡)</th>\n",
       "      <th>계약년월</th>\n",
       "      <th>거래금액(만원)</th>\n",
       "      <th>기준금리</th>\n",
       "      <th>label</th>\n",
       "    </tr>\n",
       "  </thead>\n",
       "  <tbody>\n",
       "    <tr>\n",
       "      <th>0</th>\n",
       "      <td>0</td>\n",
       "      <td>8</td>\n",
       "      <td>676</td>\n",
       "      <td>67.28</td>\n",
       "      <td>0</td>\n",
       "      <td>54500</td>\n",
       "      <td>3.75</td>\n",
       "      <td>2</td>\n",
       "    </tr>\n",
       "    <tr>\n",
       "      <th>1</th>\n",
       "      <td>0</td>\n",
       "      <td>8</td>\n",
       "      <td>676</td>\n",
       "      <td>79.97</td>\n",
       "      <td>0</td>\n",
       "      <td>67000</td>\n",
       "      <td>3.75</td>\n",
       "      <td>2</td>\n",
       "    </tr>\n",
       "    <tr>\n",
       "      <th>2</th>\n",
       "      <td>0</td>\n",
       "      <td>8</td>\n",
       "      <td>676</td>\n",
       "      <td>79.97</td>\n",
       "      <td>0</td>\n",
       "      <td>67500</td>\n",
       "      <td>3.75</td>\n",
       "      <td>2</td>\n",
       "    </tr>\n",
       "    <tr>\n",
       "      <th>3</th>\n",
       "      <td>0</td>\n",
       "      <td>8</td>\n",
       "      <td>681</td>\n",
       "      <td>104.43</td>\n",
       "      <td>0</td>\n",
       "      <td>73000</td>\n",
       "      <td>3.75</td>\n",
       "      <td>2</td>\n",
       "    </tr>\n",
       "    <tr>\n",
       "      <th>4</th>\n",
       "      <td>0</td>\n",
       "      <td>8</td>\n",
       "      <td>681</td>\n",
       "      <td>104.43</td>\n",
       "      <td>0</td>\n",
       "      <td>71250</td>\n",
       "      <td>3.75</td>\n",
       "      <td>2</td>\n",
       "    </tr>\n",
       "    <tr>\n",
       "      <th>5</th>\n",
       "      <td>0</td>\n",
       "      <td>8</td>\n",
       "      <td>681</td>\n",
       "      <td>161.00</td>\n",
       "      <td>0</td>\n",
       "      <td>150000</td>\n",
       "      <td>3.75</td>\n",
       "      <td>0</td>\n",
       "    </tr>\n",
       "    <tr>\n",
       "      <th>6</th>\n",
       "      <td>0</td>\n",
       "      <td>8</td>\n",
       "      <td>681</td>\n",
       "      <td>161.00</td>\n",
       "      <td>0</td>\n",
       "      <td>147500</td>\n",
       "      <td>3.75</td>\n",
       "      <td>0</td>\n",
       "    </tr>\n",
       "    <tr>\n",
       "      <th>7</th>\n",
       "      <td>0</td>\n",
       "      <td>8</td>\n",
       "      <td>681</td>\n",
       "      <td>161.00</td>\n",
       "      <td>0</td>\n",
       "      <td>160000</td>\n",
       "      <td>3.75</td>\n",
       "      <td>0</td>\n",
       "    </tr>\n",
       "    <tr>\n",
       "      <th>8</th>\n",
       "      <td>0</td>\n",
       "      <td>8</td>\n",
       "      <td>684</td>\n",
       "      <td>35.64</td>\n",
       "      <td>0</td>\n",
       "      <td>38000</td>\n",
       "      <td>3.75</td>\n",
       "      <td>2</td>\n",
       "    </tr>\n",
       "    <tr>\n",
       "      <th>9</th>\n",
       "      <td>0</td>\n",
       "      <td>8</td>\n",
       "      <td>684</td>\n",
       "      <td>45.26</td>\n",
       "      <td>0</td>\n",
       "      <td>51000</td>\n",
       "      <td>3.75</td>\n",
       "      <td>2</td>\n",
       "    </tr>\n",
       "    <tr>\n",
       "      <th>10</th>\n",
       "      <td>0</td>\n",
       "      <td>8</td>\n",
       "      <td>684</td>\n",
       "      <td>50.64</td>\n",
       "      <td>0</td>\n",
       "      <td>67000</td>\n",
       "      <td>3.75</td>\n",
       "      <td>2</td>\n",
       "    </tr>\n",
       "    <tr>\n",
       "      <th>11</th>\n",
       "      <td>0</td>\n",
       "      <td>8</td>\n",
       "      <td>684</td>\n",
       "      <td>50.64</td>\n",
       "      <td>0</td>\n",
       "      <td>65700</td>\n",
       "      <td>3.75</td>\n",
       "      <td>2</td>\n",
       "    </tr>\n",
       "    <tr>\n",
       "      <th>12</th>\n",
       "      <td>0</td>\n",
       "      <td>8</td>\n",
       "      <td>684</td>\n",
       "      <td>58.08</td>\n",
       "      <td>0</td>\n",
       "      <td>94000</td>\n",
       "      <td>3.75</td>\n",
       "      <td>2</td>\n",
       "    </tr>\n",
       "    <tr>\n",
       "      <th>13</th>\n",
       "      <td>0</td>\n",
       "      <td>8</td>\n",
       "      <td>684</td>\n",
       "      <td>50.38</td>\n",
       "      <td>0</td>\n",
       "      <td>66000</td>\n",
       "      <td>3.75</td>\n",
       "      <td>2</td>\n",
       "    </tr>\n",
       "    <tr>\n",
       "      <th>14</th>\n",
       "      <td>0</td>\n",
       "      <td>8</td>\n",
       "      <td>684</td>\n",
       "      <td>42.55</td>\n",
       "      <td>0</td>\n",
       "      <td>53000</td>\n",
       "      <td>3.75</td>\n",
       "      <td>2</td>\n",
       "    </tr>\n",
       "    <tr>\n",
       "      <th>15</th>\n",
       "      <td>0</td>\n",
       "      <td>8</td>\n",
       "      <td>684</td>\n",
       "      <td>58.08</td>\n",
       "      <td>0</td>\n",
       "      <td>94000</td>\n",
       "      <td>3.75</td>\n",
       "      <td>2</td>\n",
       "    </tr>\n",
       "    <tr>\n",
       "      <th>16</th>\n",
       "      <td>0</td>\n",
       "      <td>8</td>\n",
       "      <td>684</td>\n",
       "      <td>56.57</td>\n",
       "      <td>0</td>\n",
       "      <td>94500</td>\n",
       "      <td>3.75</td>\n",
       "      <td>2</td>\n",
       "    </tr>\n",
       "    <tr>\n",
       "      <th>17</th>\n",
       "      <td>0</td>\n",
       "      <td>8</td>\n",
       "      <td>684</td>\n",
       "      <td>41.98</td>\n",
       "      <td>0</td>\n",
       "      <td>54000</td>\n",
       "      <td>3.75</td>\n",
       "      <td>2</td>\n",
       "    </tr>\n",
       "    <tr>\n",
       "      <th>18</th>\n",
       "      <td>0</td>\n",
       "      <td>8</td>\n",
       "      <td>684</td>\n",
       "      <td>42.55</td>\n",
       "      <td>0</td>\n",
       "      <td>54000</td>\n",
       "      <td>3.75</td>\n",
       "      <td>2</td>\n",
       "    </tr>\n",
       "    <tr>\n",
       "      <th>19</th>\n",
       "      <td>0</td>\n",
       "      <td>8</td>\n",
       "      <td>684</td>\n",
       "      <td>35.87</td>\n",
       "      <td>0</td>\n",
       "      <td>5500</td>\n",
       "      <td>3.75</td>\n",
       "      <td>2</td>\n",
       "    </tr>\n",
       "    <tr>\n",
       "      <th>20</th>\n",
       "      <td>0</td>\n",
       "      <td>8</td>\n",
       "      <td>684</td>\n",
       "      <td>35.64</td>\n",
       "      <td>0</td>\n",
       "      <td>38700</td>\n",
       "      <td>3.75</td>\n",
       "      <td>2</td>\n",
       "    </tr>\n",
       "    <tr>\n",
       "      <th>21</th>\n",
       "      <td>0</td>\n",
       "      <td>8</td>\n",
       "      <td>684</td>\n",
       "      <td>50.38</td>\n",
       "      <td>0</td>\n",
       "      <td>68000</td>\n",
       "      <td>3.75</td>\n",
       "      <td>2</td>\n",
       "    </tr>\n",
       "    <tr>\n",
       "      <th>22</th>\n",
       "      <td>0</td>\n",
       "      <td>8</td>\n",
       "      <td>684</td>\n",
       "      <td>50.64</td>\n",
       "      <td>0</td>\n",
       "      <td>69250</td>\n",
       "      <td>3.75</td>\n",
       "      <td>2</td>\n",
       "    </tr>\n",
       "    <tr>\n",
       "      <th>23</th>\n",
       "      <td>0</td>\n",
       "      <td>8</td>\n",
       "      <td>684</td>\n",
       "      <td>50.64</td>\n",
       "      <td>0</td>\n",
       "      <td>70000</td>\n",
       "      <td>3.75</td>\n",
       "      <td>2</td>\n",
       "    </tr>\n",
       "    <tr>\n",
       "      <th>24</th>\n",
       "      <td>0</td>\n",
       "      <td>8</td>\n",
       "      <td>684</td>\n",
       "      <td>41.98</td>\n",
       "      <td>0</td>\n",
       "      <td>55000</td>\n",
       "      <td>3.75</td>\n",
       "      <td>2</td>\n",
       "    </tr>\n",
       "    <tr>\n",
       "      <th>25</th>\n",
       "      <td>0</td>\n",
       "      <td>8</td>\n",
       "      <td>684</td>\n",
       "      <td>50.64</td>\n",
       "      <td>0</td>\n",
       "      <td>70000</td>\n",
       "      <td>3.75</td>\n",
       "      <td>2</td>\n",
       "    </tr>\n",
       "    <tr>\n",
       "      <th>26</th>\n",
       "      <td>0</td>\n",
       "      <td>8</td>\n",
       "      <td>684</td>\n",
       "      <td>50.64</td>\n",
       "      <td>0</td>\n",
       "      <td>20250</td>\n",
       "      <td>3.75</td>\n",
       "      <td>2</td>\n",
       "    </tr>\n",
       "    <tr>\n",
       "      <th>27</th>\n",
       "      <td>0</td>\n",
       "      <td>8</td>\n",
       "      <td>684</td>\n",
       "      <td>49.56</td>\n",
       "      <td>0</td>\n",
       "      <td>70000</td>\n",
       "      <td>3.75</td>\n",
       "      <td>2</td>\n",
       "    </tr>\n",
       "    <tr>\n",
       "      <th>28</th>\n",
       "      <td>0</td>\n",
       "      <td>8</td>\n",
       "      <td>684</td>\n",
       "      <td>49.56</td>\n",
       "      <td>0</td>\n",
       "      <td>70000</td>\n",
       "      <td>3.75</td>\n",
       "      <td>2</td>\n",
       "    </tr>\n",
       "    <tr>\n",
       "      <th>29</th>\n",
       "      <td>0</td>\n",
       "      <td>8</td>\n",
       "      <td>684</td>\n",
       "      <td>35.64</td>\n",
       "      <td>0</td>\n",
       "      <td>41500</td>\n",
       "      <td>3.75</td>\n",
       "      <td>2</td>\n",
       "    </tr>\n",
       "  </tbody>\n",
       "</table>\n",
       "</div>"
      ],
      "text/plain": [
       "    구  동  단지명  전용면적(㎡)  계약년월  거래금액(만원)  기준금리  label\n",
       "0   0  8  676    67.28     0     54500  3.75      2\n",
       "1   0  8  676    79.97     0     67000  3.75      2\n",
       "2   0  8  676    79.97     0     67500  3.75      2\n",
       "3   0  8  681   104.43     0     73000  3.75      2\n",
       "4   0  8  681   104.43     0     71250  3.75      2\n",
       "5   0  8  681   161.00     0    150000  3.75      0\n",
       "6   0  8  681   161.00     0    147500  3.75      0\n",
       "7   0  8  681   161.00     0    160000  3.75      0\n",
       "8   0  8  684    35.64     0     38000  3.75      2\n",
       "9   0  8  684    45.26     0     51000  3.75      2\n",
       "10  0  8  684    50.64     0     67000  3.75      2\n",
       "11  0  8  684    50.64     0     65700  3.75      2\n",
       "12  0  8  684    58.08     0     94000  3.75      2\n",
       "13  0  8  684    50.38     0     66000  3.75      2\n",
       "14  0  8  684    42.55     0     53000  3.75      2\n",
       "15  0  8  684    58.08     0     94000  3.75      2\n",
       "16  0  8  684    56.57     0     94500  3.75      2\n",
       "17  0  8  684    41.98     0     54000  3.75      2\n",
       "18  0  8  684    42.55     0     54000  3.75      2\n",
       "19  0  8  684    35.87     0      5500  3.75      2\n",
       "20  0  8  684    35.64     0     38700  3.75      2\n",
       "21  0  8  684    50.38     0     68000  3.75      2\n",
       "22  0  8  684    50.64     0     69250  3.75      2\n",
       "23  0  8  684    50.64     0     70000  3.75      2\n",
       "24  0  8  684    41.98     0     55000  3.75      2\n",
       "25  0  8  684    50.64     0     70000  3.75      2\n",
       "26  0  8  684    50.64     0     20250  3.75      2\n",
       "27  0  8  684    49.56     0     70000  3.75      2\n",
       "28  0  8  684    49.56     0     70000  3.75      2\n",
       "29  0  8  684    35.64     0     41500  3.75      2"
      ]
     },
     "execution_count": 126,
     "metadata": {},
     "output_type": "execute_result"
    }
   ],
   "source": [
    "data['label'] = result\n",
    "data.head(30)"
   ]
  },
  {
   "cell_type": "code",
   "execution_count": 125,
   "id": "eaf8d6e4",
   "metadata": {},
   "outputs": [],
   "source": [
    "from sklearn.metrics import accuracy_score"
   ]
  },
  {
   "cell_type": "code",
   "execution_count": 127,
   "id": "020654ba",
   "metadata": {},
   "outputs": [
    {
     "name": "stdout",
     "output_type": "stream",
     "text": [
      "0.0\n"
     ]
    }
   ],
   "source": [
    "print(accuracy_score(data['거래금액(만원)'], data['label']))"
   ]
  },
  {
   "cell_type": "code",
   "execution_count": 128,
   "id": "642c89ae",
   "metadata": {},
   "outputs": [
    {
     "data": {
      "text/html": [
       "<div>\n",
       "<style scoped>\n",
       "    .dataframe tbody tr th:only-of-type {\n",
       "        vertical-align: middle;\n",
       "    }\n",
       "\n",
       "    .dataframe tbody tr th {\n",
       "        vertical-align: top;\n",
       "    }\n",
       "\n",
       "    .dataframe thead th {\n",
       "        text-align: right;\n",
       "    }\n",
       "</style>\n",
       "<table border=\"1\" class=\"dataframe\">\n",
       "  <thead>\n",
       "    <tr style=\"text-align: right;\">\n",
       "      <th></th>\n",
       "      <th>구</th>\n",
       "      <th>동</th>\n",
       "      <th>단지명</th>\n",
       "      <th>전용면적(㎡)</th>\n",
       "      <th>계약년월</th>\n",
       "      <th>거래금액(만원)</th>\n",
       "      <th>기준금리</th>\n",
       "      <th>label</th>\n",
       "    </tr>\n",
       "  </thead>\n",
       "  <tbody>\n",
       "    <tr>\n",
       "      <th>count</th>\n",
       "      <td>175743.00000</td>\n",
       "      <td>175743.000000</td>\n",
       "      <td>175743.000000</td>\n",
       "      <td>175743.000000</td>\n",
       "      <td>175743.000000</td>\n",
       "      <td>1.757430e+05</td>\n",
       "      <td>175743.000000</td>\n",
       "      <td>175743.0</td>\n",
       "    </tr>\n",
       "    <tr>\n",
       "      <th>mean</th>\n",
       "      <td>11.64678</td>\n",
       "      <td>165.020160</td>\n",
       "      <td>3933.370461</td>\n",
       "      <td>128.984707</td>\n",
       "      <td>19.318124</td>\n",
       "      <td>1.065189e+05</td>\n",
       "      <td>1.920737</td>\n",
       "      <td>0.0</td>\n",
       "    </tr>\n",
       "    <tr>\n",
       "      <th>std</th>\n",
       "      <td>7.08697</td>\n",
       "      <td>89.959165</td>\n",
       "      <td>2119.430881</td>\n",
       "      <td>26.695327</td>\n",
       "      <td>7.357409</td>\n",
       "      <td>7.372620e+04</td>\n",
       "      <td>0.997511</td>\n",
       "      <td>0.0</td>\n",
       "    </tr>\n",
       "    <tr>\n",
       "      <th>min</th>\n",
       "      <td>0.00000</td>\n",
       "      <td>0.000000</td>\n",
       "      <td>9.000000</td>\n",
       "      <td>95.800000</td>\n",
       "      <td>0.000000</td>\n",
       "      <td>7.900000e+02</td>\n",
       "      <td>0.500000</td>\n",
       "      <td>0.0</td>\n",
       "    </tr>\n",
       "    <tr>\n",
       "      <th>25%</th>\n",
       "      <td>5.00000</td>\n",
       "      <td>101.000000</td>\n",
       "      <td>2251.000000</td>\n",
       "      <td>114.502000</td>\n",
       "      <td>15.000000</td>\n",
       "      <td>5.900000e+04</td>\n",
       "      <td>1.250000</td>\n",
       "      <td>0.0</td>\n",
       "    </tr>\n",
       "    <tr>\n",
       "      <th>50%</th>\n",
       "      <td>14.00000</td>\n",
       "      <td>154.000000</td>\n",
       "      <td>3600.000000</td>\n",
       "      <td>119.490000</td>\n",
       "      <td>21.000000</td>\n",
       "      <td>8.450000e+04</td>\n",
       "      <td>1.500000</td>\n",
       "      <td>0.0</td>\n",
       "    </tr>\n",
       "    <tr>\n",
       "      <th>75%</th>\n",
       "      <td>17.00000</td>\n",
       "      <td>249.000000</td>\n",
       "      <td>5697.000000</td>\n",
       "      <td>136.325000</td>\n",
       "      <td>23.000000</td>\n",
       "      <td>1.300000e+05</td>\n",
       "      <td>2.500000</td>\n",
       "      <td>0.0</td>\n",
       "    </tr>\n",
       "    <tr>\n",
       "      <th>max</th>\n",
       "      <td>24.00000</td>\n",
       "      <td>336.000000</td>\n",
       "      <td>7758.000000</td>\n",
       "      <td>424.320000</td>\n",
       "      <td>38.000000</td>\n",
       "      <td>1.450000e+06</td>\n",
       "      <td>5.250000</td>\n",
       "      <td>0.0</td>\n",
       "    </tr>\n",
       "  </tbody>\n",
       "</table>\n",
       "</div>"
      ],
      "text/plain": [
       "                  구              동            단지명        전용면적(㎡)  \\\n",
       "count  175743.00000  175743.000000  175743.000000  175743.000000   \n",
       "mean       11.64678     165.020160    3933.370461     128.984707   \n",
       "std         7.08697      89.959165    2119.430881      26.695327   \n",
       "min         0.00000       0.000000       9.000000      95.800000   \n",
       "25%         5.00000     101.000000    2251.000000     114.502000   \n",
       "50%        14.00000     154.000000    3600.000000     119.490000   \n",
       "75%        17.00000     249.000000    5697.000000     136.325000   \n",
       "max        24.00000     336.000000    7758.000000     424.320000   \n",
       "\n",
       "                계약년월      거래금액(만원)           기준금리     label  \n",
       "count  175743.000000  1.757430e+05  175743.000000  175743.0  \n",
       "mean       19.318124  1.065189e+05       1.920737       0.0  \n",
       "std         7.357409  7.372620e+04       0.997511       0.0  \n",
       "min         0.000000  7.900000e+02       0.500000       0.0  \n",
       "25%        15.000000  5.900000e+04       1.250000       0.0  \n",
       "50%        21.000000  8.450000e+04       1.500000       0.0  \n",
       "75%        23.000000  1.300000e+05       2.500000       0.0  \n",
       "max        38.000000  1.450000e+06       5.250000       0.0  "
      ]
     },
     "execution_count": 128,
     "metadata": {},
     "output_type": "execute_result"
    }
   ],
   "source": [
    "data[data['label'] == 0].describe()"
   ]
  },
  {
   "cell_type": "code",
   "execution_count": 129,
   "id": "303a12c2",
   "metadata": {},
   "outputs": [
    {
     "data": {
      "text/html": [
       "<div>\n",
       "<style scoped>\n",
       "    .dataframe tbody tr th:only-of-type {\n",
       "        vertical-align: middle;\n",
       "    }\n",
       "\n",
       "    .dataframe tbody tr th {\n",
       "        vertical-align: top;\n",
       "    }\n",
       "\n",
       "    .dataframe thead th {\n",
       "        text-align: right;\n",
       "    }\n",
       "</style>\n",
       "<table border=\"1\" class=\"dataframe\">\n",
       "  <thead>\n",
       "    <tr style=\"text-align: right;\">\n",
       "      <th></th>\n",
       "      <th>구</th>\n",
       "      <th>동</th>\n",
       "      <th>단지명</th>\n",
       "      <th>전용면적(㎡)</th>\n",
       "      <th>계약년월</th>\n",
       "      <th>거래금액(만원)</th>\n",
       "      <th>기준금리</th>\n",
       "      <th>label</th>\n",
       "    </tr>\n",
       "  </thead>\n",
       "  <tbody>\n",
       "    <tr>\n",
       "      <th>count</th>\n",
       "      <td>815034.000000</td>\n",
       "      <td>815034.000000</td>\n",
       "      <td>815034.000000</td>\n",
       "      <td>815034.000000</td>\n",
       "      <td>815034.000000</td>\n",
       "      <td>815034.000000</td>\n",
       "      <td>815034.000000</td>\n",
       "      <td>815034.0</td>\n",
       "    </tr>\n",
       "    <tr>\n",
       "      <th>mean</th>\n",
       "      <td>10.759736</td>\n",
       "      <td>154.874045</td>\n",
       "      <td>3965.913829</td>\n",
       "      <td>67.617409</td>\n",
       "      <td>20.799378</td>\n",
       "      <td>52323.644858</td>\n",
       "      <td>1.749311</td>\n",
       "      <td>1.0</td>\n",
       "    </tr>\n",
       "    <tr>\n",
       "      <th>std</th>\n",
       "      <td>6.778489</td>\n",
       "      <td>94.396455</td>\n",
       "      <td>2139.640829</td>\n",
       "      <td>18.172143</td>\n",
       "      <td>6.117212</td>\n",
       "      <td>34558.484683</td>\n",
       "      <td>0.760171</td>\n",
       "      <td>0.0</td>\n",
       "    </tr>\n",
       "    <tr>\n",
       "      <th>min</th>\n",
       "      <td>0.000000</td>\n",
       "      <td>0.000000</td>\n",
       "      <td>0.000000</td>\n",
       "      <td>10.020000</td>\n",
       "      <td>9.000000</td>\n",
       "      <td>350.000000</td>\n",
       "      <td>0.500000</td>\n",
       "      <td>1.0</td>\n",
       "    </tr>\n",
       "    <tr>\n",
       "      <th>25%</th>\n",
       "      <td>5.000000</td>\n",
       "      <td>84.000000</td>\n",
       "      <td>2155.000000</td>\n",
       "      <td>59.260000</td>\n",
       "      <td>17.000000</td>\n",
       "      <td>30400.000000</td>\n",
       "      <td>1.250000</td>\n",
       "      <td>1.0</td>\n",
       "    </tr>\n",
       "    <tr>\n",
       "      <th>50%</th>\n",
       "      <td>10.000000</td>\n",
       "      <td>149.000000</td>\n",
       "      <td>3753.000000</td>\n",
       "      <td>66.870000</td>\n",
       "      <td>22.000000</td>\n",
       "      <td>42700.000000</td>\n",
       "      <td>1.500000</td>\n",
       "      <td>1.0</td>\n",
       "    </tr>\n",
       "    <tr>\n",
       "      <th>75%</th>\n",
       "      <td>17.000000</td>\n",
       "      <td>243.000000</td>\n",
       "      <td>5912.000000</td>\n",
       "      <td>84.830000</td>\n",
       "      <td>24.000000</td>\n",
       "      <td>63500.000000</td>\n",
       "      <td>2.000000</td>\n",
       "      <td>1.0</td>\n",
       "    </tr>\n",
       "    <tr>\n",
       "      <th>max</th>\n",
       "      <td>24.000000</td>\n",
       "      <td>336.000000</td>\n",
       "      <td>7757.000000</td>\n",
       "      <td>100.500000</td>\n",
       "      <td>38.000000</td>\n",
       "      <td>466000.000000</td>\n",
       "      <td>3.500000</td>\n",
       "      <td>1.0</td>\n",
       "    </tr>\n",
       "  </tbody>\n",
       "</table>\n",
       "</div>"
      ],
      "text/plain": [
       "                   구              동            단지명        전용면적(㎡)  \\\n",
       "count  815034.000000  815034.000000  815034.000000  815034.000000   \n",
       "mean       10.759736     154.874045    3965.913829      67.617409   \n",
       "std         6.778489      94.396455    2139.640829      18.172143   \n",
       "min         0.000000       0.000000       0.000000      10.020000   \n",
       "25%         5.000000      84.000000    2155.000000      59.260000   \n",
       "50%        10.000000     149.000000    3753.000000      66.870000   \n",
       "75%        17.000000     243.000000    5912.000000      84.830000   \n",
       "max        24.000000     336.000000    7757.000000     100.500000   \n",
       "\n",
       "                계약년월       거래금액(만원)           기준금리     label  \n",
       "count  815034.000000  815034.000000  815034.000000  815034.0  \n",
       "mean       20.799378   52323.644858       1.749311       1.0  \n",
       "std         6.117212   34558.484683       0.760171       0.0  \n",
       "min         9.000000     350.000000       0.500000       1.0  \n",
       "25%        17.000000   30400.000000       1.250000       1.0  \n",
       "50%        22.000000   42700.000000       1.500000       1.0  \n",
       "75%        24.000000   63500.000000       2.000000       1.0  \n",
       "max        38.000000  466000.000000       3.500000       1.0  "
      ]
     },
     "execution_count": 129,
     "metadata": {},
     "output_type": "execute_result"
    }
   ],
   "source": [
    "data[data['label'] == 1].describe()"
   ]
  },
  {
   "cell_type": "code",
   "execution_count": 130,
   "id": "2765afd8",
   "metadata": {
    "scrolled": true
   },
   "outputs": [
    {
     "data": {
      "text/html": [
       "<div>\n",
       "<style scoped>\n",
       "    .dataframe tbody tr th:only-of-type {\n",
       "        vertical-align: middle;\n",
       "    }\n",
       "\n",
       "    .dataframe tbody tr th {\n",
       "        vertical-align: top;\n",
       "    }\n",
       "\n",
       "    .dataframe thead th {\n",
       "        text-align: right;\n",
       "    }\n",
       "</style>\n",
       "<table border=\"1\" class=\"dataframe\">\n",
       "  <thead>\n",
       "    <tr style=\"text-align: right;\">\n",
       "      <th></th>\n",
       "      <th>구</th>\n",
       "      <th>동</th>\n",
       "      <th>단지명</th>\n",
       "      <th>전용면적(㎡)</th>\n",
       "      <th>계약년월</th>\n",
       "      <th>거래금액(만원)</th>\n",
       "      <th>기준금리</th>\n",
       "      <th>label</th>\n",
       "    </tr>\n",
       "  </thead>\n",
       "  <tbody>\n",
       "    <tr>\n",
       "      <th>count</th>\n",
       "      <td>224242.000000</td>\n",
       "      <td>224242.000000</td>\n",
       "      <td>224242.000000</td>\n",
       "      <td>224242.000000</td>\n",
       "      <td>224242.000000</td>\n",
       "      <td>224242.000000</td>\n",
       "      <td>224242.000000</td>\n",
       "      <td>224242.0</td>\n",
       "    </tr>\n",
       "    <tr>\n",
       "      <th>mean</th>\n",
       "      <td>10.477939</td>\n",
       "      <td>156.192002</td>\n",
       "      <td>4101.512210</td>\n",
       "      <td>69.767794</td>\n",
       "      <td>2.602229</td>\n",
       "      <td>32281.690656</td>\n",
       "      <td>4.574648</td>\n",
       "      <td>2.0</td>\n",
       "    </tr>\n",
       "    <tr>\n",
       "      <th>std</th>\n",
       "      <td>6.647226</td>\n",
       "      <td>94.269194</td>\n",
       "      <td>2124.230347</td>\n",
       "      <td>19.501526</td>\n",
       "      <td>1.328257</td>\n",
       "      <td>20602.381320</td>\n",
       "      <td>0.390243</td>\n",
       "      <td>0.0</td>\n",
       "    </tr>\n",
       "    <tr>\n",
       "      <th>min</th>\n",
       "      <td>0.000000</td>\n",
       "      <td>0.000000</td>\n",
       "      <td>1.000000</td>\n",
       "      <td>13.220000</td>\n",
       "      <td>0.000000</td>\n",
       "      <td>500.000000</td>\n",
       "      <td>3.000000</td>\n",
       "      <td>2.0</td>\n",
       "    </tr>\n",
       "    <tr>\n",
       "      <th>25%</th>\n",
       "      <td>6.000000</td>\n",
       "      <td>85.000000</td>\n",
       "      <td>2183.000000</td>\n",
       "      <td>58.770000</td>\n",
       "      <td>2.000000</td>\n",
       "      <td>18500.000000</td>\n",
       "      <td>4.500000</td>\n",
       "      <td>2.0</td>\n",
       "    </tr>\n",
       "    <tr>\n",
       "      <th>50%</th>\n",
       "      <td>9.000000</td>\n",
       "      <td>151.000000</td>\n",
       "      <td>4089.000000</td>\n",
       "      <td>66.600000</td>\n",
       "      <td>2.000000</td>\n",
       "      <td>27000.000000</td>\n",
       "      <td>4.500000</td>\n",
       "      <td>2.0</td>\n",
       "    </tr>\n",
       "    <tr>\n",
       "      <th>75%</th>\n",
       "      <td>16.000000</td>\n",
       "      <td>243.000000</td>\n",
       "      <td>6080.000000</td>\n",
       "      <td>84.850000</td>\n",
       "      <td>4.000000</td>\n",
       "      <td>40000.000000</td>\n",
       "      <td>5.000000</td>\n",
       "      <td>2.0</td>\n",
       "    </tr>\n",
       "    <tr>\n",
       "      <th>max</th>\n",
       "      <td>24.000000</td>\n",
       "      <td>336.000000</td>\n",
       "      <td>7757.000000</td>\n",
       "      <td>120.760000</td>\n",
       "      <td>8.000000</td>\n",
       "      <td>650000.000000</td>\n",
       "      <td>5.250000</td>\n",
       "      <td>2.0</td>\n",
       "    </tr>\n",
       "  </tbody>\n",
       "</table>\n",
       "</div>"
      ],
      "text/plain": [
       "                   구              동            단지명        전용면적(㎡)  \\\n",
       "count  224242.000000  224242.000000  224242.000000  224242.000000   \n",
       "mean       10.477939     156.192002    4101.512210      69.767794   \n",
       "std         6.647226      94.269194    2124.230347      19.501526   \n",
       "min         0.000000       0.000000       1.000000      13.220000   \n",
       "25%         6.000000      85.000000    2183.000000      58.770000   \n",
       "50%         9.000000     151.000000    4089.000000      66.600000   \n",
       "75%        16.000000     243.000000    6080.000000      84.850000   \n",
       "max        24.000000     336.000000    7757.000000     120.760000   \n",
       "\n",
       "                계약년월       거래금액(만원)           기준금리     label  \n",
       "count  224242.000000  224242.000000  224242.000000  224242.0  \n",
       "mean        2.602229   32281.690656       4.574648       2.0  \n",
       "std         1.328257   20602.381320       0.390243       0.0  \n",
       "min         0.000000     500.000000       3.000000       2.0  \n",
       "25%         2.000000   18500.000000       4.500000       2.0  \n",
       "50%         2.000000   27000.000000       4.500000       2.0  \n",
       "75%         4.000000   40000.000000       5.000000       2.0  \n",
       "max         8.000000  650000.000000       5.250000       2.0  "
      ]
     },
     "execution_count": 130,
     "metadata": {},
     "output_type": "execute_result"
    }
   ],
   "source": [
    "data[data['label'] == 2].describe()"
   ]
  },
  {
   "cell_type": "code",
   "execution_count": 131,
   "id": "0b309893",
   "metadata": {},
   "outputs": [
    {
     "data": {
      "text/plain": [
       "2439499.440590837"
      ]
     },
     "execution_count": 131,
     "metadata": {},
     "output_type": "execute_result"
    }
   ],
   "source": [
    "km.inertia_ #이게 뭐지?"
   ]
  },
  {
   "cell_type": "markdown",
   "id": "2037fe6b",
   "metadata": {},
   "source": [
    "k-means의 k값을 얻기 위해 엘보우 메소드 사용하기"
   ]
  },
  {
   "cell_type": "code",
   "execution_count": 132,
   "id": "e283b5d0",
   "metadata": {
    "scrolled": true
   },
   "outputs": [
    {
     "name": "stderr",
     "output_type": "stream",
     "text": [
      "C:\\Users\\Jasmine\\anaconda3\\envs\\testenv\\lib\\site-packages\\sklearn\\cluster\\_kmeans.py:1412: FutureWarning: The default value of `n_init` will change from 10 to 'auto' in 1.4. Set the value of `n_init` explicitly to suppress the warning\n",
      "  super()._check_params_vs_input(X, default_n_init=10)\n",
      "C:\\Users\\Jasmine\\anaconda3\\envs\\testenv\\lib\\site-packages\\sklearn\\cluster\\_kmeans.py:1412: FutureWarning: The default value of `n_init` will change from 10 to 'auto' in 1.4. Set the value of `n_init` explicitly to suppress the warning\n",
      "  super()._check_params_vs_input(X, default_n_init=10)\n",
      "C:\\Users\\Jasmine\\anaconda3\\envs\\testenv\\lib\\site-packages\\sklearn\\cluster\\_kmeans.py:1412: FutureWarning: The default value of `n_init` will change from 10 to 'auto' in 1.4. Set the value of `n_init` explicitly to suppress the warning\n",
      "  super()._check_params_vs_input(X, default_n_init=10)\n",
      "C:\\Users\\Jasmine\\anaconda3\\envs\\testenv\\lib\\site-packages\\sklearn\\cluster\\_kmeans.py:1412: FutureWarning: The default value of `n_init` will change from 10 to 'auto' in 1.4. Set the value of `n_init` explicitly to suppress the warning\n",
      "  super()._check_params_vs_input(X, default_n_init=10)\n",
      "C:\\Users\\Jasmine\\anaconda3\\envs\\testenv\\lib\\site-packages\\sklearn\\cluster\\_kmeans.py:1412: FutureWarning: The default value of `n_init` will change from 10 to 'auto' in 1.4. Set the value of `n_init` explicitly to suppress the warning\n",
      "  super()._check_params_vs_input(X, default_n_init=10)\n",
      "C:\\Users\\Jasmine\\anaconda3\\envs\\testenv\\lib\\site-packages\\sklearn\\cluster\\_kmeans.py:1412: FutureWarning: The default value of `n_init` will change from 10 to 'auto' in 1.4. Set the value of `n_init` explicitly to suppress the warning\n",
      "  super()._check_params_vs_input(X, default_n_init=10)\n",
      "C:\\Users\\Jasmine\\anaconda3\\envs\\testenv\\lib\\site-packages\\sklearn\\cluster\\_kmeans.py:1412: FutureWarning: The default value of `n_init` will change from 10 to 'auto' in 1.4. Set the value of `n_init` explicitly to suppress the warning\n",
      "  super()._check_params_vs_input(X, default_n_init=10)\n",
      "C:\\Users\\Jasmine\\anaconda3\\envs\\testenv\\lib\\site-packages\\sklearn\\cluster\\_kmeans.py:1412: FutureWarning: The default value of `n_init` will change from 10 to 'auto' in 1.4. Set the value of `n_init` explicitly to suppress the warning\n",
      "  super()._check_params_vs_input(X, default_n_init=10)\n",
      "C:\\Users\\Jasmine\\anaconda3\\envs\\testenv\\lib\\site-packages\\sklearn\\cluster\\_kmeans.py:1412: FutureWarning: The default value of `n_init` will change from 10 to 'auto' in 1.4. Set the value of `n_init` explicitly to suppress the warning\n",
      "  super()._check_params_vs_input(X, default_n_init=10)\n",
      "C:\\Users\\Jasmine\\anaconda3\\envs\\testenv\\lib\\site-packages\\sklearn\\cluster\\_kmeans.py:1412: FutureWarning: The default value of `n_init` will change from 10 to 'auto' in 1.4. Set the value of `n_init` explicitly to suppress the warning\n",
      "  super()._check_params_vs_input(X, default_n_init=10)\n",
      "C:\\Users\\Jasmine\\anaconda3\\envs\\testenv\\lib\\site-packages\\sklearn\\cluster\\_kmeans.py:1412: FutureWarning: The default value of `n_init` will change from 10 to 'auto' in 1.4. Set the value of `n_init` explicitly to suppress the warning\n",
      "  super()._check_params_vs_input(X, default_n_init=10)\n",
      "C:\\Users\\Jasmine\\anaconda3\\envs\\testenv\\lib\\site-packages\\sklearn\\cluster\\_kmeans.py:1412: FutureWarning: The default value of `n_init` will change from 10 to 'auto' in 1.4. Set the value of `n_init` explicitly to suppress the warning\n",
      "  super()._check_params_vs_input(X, default_n_init=10)\n",
      "C:\\Users\\Jasmine\\anaconda3\\envs\\testenv\\lib\\site-packages\\sklearn\\cluster\\_kmeans.py:1412: FutureWarning: The default value of `n_init` will change from 10 to 'auto' in 1.4. Set the value of `n_init` explicitly to suppress the warning\n",
      "  super()._check_params_vs_input(X, default_n_init=10)\n",
      "C:\\Users\\Jasmine\\anaconda3\\envs\\testenv\\lib\\site-packages\\sklearn\\cluster\\_kmeans.py:1412: FutureWarning: The default value of `n_init` will change from 10 to 'auto' in 1.4. Set the value of `n_init` explicitly to suppress the warning\n",
      "  super()._check_params_vs_input(X, default_n_init=10)\n",
      "C:\\Users\\Jasmine\\anaconda3\\envs\\testenv\\lib\\site-packages\\sklearn\\cluster\\_kmeans.py:1412: FutureWarning: The default value of `n_init` will change from 10 to 'auto' in 1.4. Set the value of `n_init` explicitly to suppress the warning\n",
      "  super()._check_params_vs_input(X, default_n_init=10)\n",
      "C:\\Users\\Jasmine\\anaconda3\\envs\\testenv\\lib\\site-packages\\sklearn\\cluster\\_kmeans.py:1412: FutureWarning: The default value of `n_init` will change from 10 to 'auto' in 1.4. Set the value of `n_init` explicitly to suppress the warning\n",
      "  super()._check_params_vs_input(X, default_n_init=10)\n",
      "C:\\Users\\Jasmine\\anaconda3\\envs\\testenv\\lib\\site-packages\\sklearn\\cluster\\_kmeans.py:1412: FutureWarning: The default value of `n_init` will change from 10 to 'auto' in 1.4. Set the value of `n_init` explicitly to suppress the warning\n",
      "  super()._check_params_vs_input(X, default_n_init=10)\n",
      "C:\\Users\\Jasmine\\anaconda3\\envs\\testenv\\lib\\site-packages\\sklearn\\cluster\\_kmeans.py:1412: FutureWarning: The default value of `n_init` will change from 10 to 'auto' in 1.4. Set the value of `n_init` explicitly to suppress the warning\n",
      "  super()._check_params_vs_input(X, default_n_init=10)\n",
      "C:\\Users\\Jasmine\\anaconda3\\envs\\testenv\\lib\\site-packages\\sklearn\\cluster\\_kmeans.py:1412: FutureWarning: The default value of `n_init` will change from 10 to 'auto' in 1.4. Set the value of `n_init` explicitly to suppress the warning\n",
      "  super()._check_params_vs_input(X, default_n_init=10)\n",
      "C:\\Users\\Jasmine\\anaconda3\\envs\\testenv\\lib\\site-packages\\sklearn\\cluster\\_kmeans.py:1412: FutureWarning: The default value of `n_init` will change from 10 to 'auto' in 1.4. Set the value of `n_init` explicitly to suppress the warning\n",
      "  super()._check_params_vs_input(X, default_n_init=10)\n"
     ]
    }
   ],
   "source": [
    "distance = []\n",
    "for i in range(1,21):\n",
    "    km=KMeans(n_clusters = i)\n",
    "    km.fit(X_scale)\n",
    "    distance.append(km.inertia_)"
   ]
  },
  {
   "cell_type": "code",
   "execution_count": 133,
   "id": "4eb616f6",
   "metadata": {},
   "outputs": [
    {
     "data": {
      "text/plain": [
       "<Axes: >"
      ]
     },
     "execution_count": 133,
     "metadata": {},
     "output_type": "execute_result"
    },
    {
     "data": {
      "image/png": "[encoded data removed]",
      "text/plain": [
       "<Figure size 2000x1000 with 1 Axes>"
      ]
     },
     "metadata": {},
     "output_type": "display_data"
    }
   ],
   "source": [
    "plt.figure(figsize=(20,10))\n",
    "sns.lineplot(x = range(1,21), y =distance, marker='o', markersize=10, markerfacecolor='red')"
   ]
  }
 ],
 "metadata": {
  "kernelspec": {
   "display_name": "testenv",
   "language": "python",
   "name": "testenv"
  },
  "language_info": {
   "codemirror_mode": {
    "name": "ipython",
    "version": 3
   },
   "file_extension": ".py",
   "mimetype": "text/x-python",
   "name": "python",
   "nbconvert_exporter": "python",
   "pygments_lexer": "ipython3",
   "version": "3.8.17"
  }
 },
 "nbformat": 4,
 "nbformat_minor": 5
}
