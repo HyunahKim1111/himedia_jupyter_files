{
 "cells": [
  {
   "cell_type": "code",
   "execution_count": 1,
   "id": "1c15cd16",
   "metadata": {},
   "outputs": [],
   "source": [
    "import requests\n",
    "import json\n",
    "import time\n",
    "import pandas as pd"
   ]
  },
  {
   "cell_type": "code",
   "execution_count": null,
   "id": "43547e9c",
   "metadata": {},
   "outputs": [],
   "source": [
    "#pageNo 증가시키기\n",
    "# 언제까지? 마지막페이지까지 "
   ]
  },
  {
   "cell_type": "code",
   "execution_count": 2,
   "id": "c2ade451",
   "metadata": {},
   "outputs": [],
   "source": [
    "s_key = \"IO/EdnZ45auz8e6mcFKmXH/ZDn7lirSzzkWblTjoMfS331/hBMrvQ5v3KLTs6yfo1gM4Kdp0kRJaYqcRbkvt5w==\""
   ]
  },
  {
   "cell_type": "code",
   "execution_count": 38,
   "id": "15350ba3",
   "metadata": {},
   "outputs": [
    {
     "name": "stdout",
     "output_type": "stream",
     "text": [
      "http://apis.data.go.kr/B553077/api/open/sdsc2/storeListInUpjong?ServiceKey=IO%2FEdnZ45auz8e6mcFKmXH%2FZDn7lirSzzkWblTjoMfS331%2FhBMrvQ5v3KLTs6yfo1gM4Kdp0kRJaYqcRbkvt5w%3D%3D&pageNo=1&numOfRows=1000&divId=indsSclsCd&key=I21006&type=json\n",
      "200\n",
      "\n",
      "http://apis.data.go.kr/B553077/api/open/sdsc2/storeListInUpjong?ServiceKey=IO%2FEdnZ45auz8e6mcFKmXH%2FZDn7lirSzzkWblTjoMfS331%2FhBMrvQ5v3KLTs6yfo1gM4Kdp0kRJaYqcRbkvt5w%3D%3D&pageNo=2&numOfRows=1000&divId=indsSclsCd&key=I21006&type=json\n",
      "200\n",
      "\n",
      "http://apis.data.go.kr/B553077/api/open/sdsc2/storeListInUpjong?ServiceKey=IO%2FEdnZ45auz8e6mcFKmXH%2FZDn7lirSzzkWblTjoMfS331%2FhBMrvQ5v3KLTs6yfo1gM4Kdp0kRJaYqcRbkvt5w%3D%3D&pageNo=3&numOfRows=1000&divId=indsSclsCd&key=I21006&type=json\n",
      "200\n",
      "\n",
      "http://apis.data.go.kr/B553077/api/open/sdsc2/storeListInUpjong?ServiceKey=IO%2FEdnZ45auz8e6mcFKmXH%2FZDn7lirSzzkWblTjoMfS331%2FhBMrvQ5v3KLTs6yfo1gM4Kdp0kRJaYqcRbkvt5w%3D%3D&pageNo=4&numOfRows=1000&divId=indsSclsCd&key=I21006&type=json\n",
      "200\n",
      "\n",
      "http://apis.data.go.kr/B553077/api/open/sdsc2/storeListInUpjong?ServiceKey=IO%2FEdnZ45auz8e6mcFKmXH%2FZDn7lirSzzkWblTjoMfS331%2FhBMrvQ5v3KLTs6yfo1gM4Kdp0kRJaYqcRbkvt5w%3D%3D&pageNo=5&numOfRows=1000&divId=indsSclsCd&key=I21006&type=json\n",
      "200\n",
      "\n",
      "http://apis.data.go.kr/B553077/api/open/sdsc2/storeListInUpjong?ServiceKey=IO%2FEdnZ45auz8e6mcFKmXH%2FZDn7lirSzzkWblTjoMfS331%2FhBMrvQ5v3KLTs6yfo1gM4Kdp0kRJaYqcRbkvt5w%3D%3D&pageNo=6&numOfRows=1000&divId=indsSclsCd&key=I21006&type=json\n",
      "200\n",
      "\n",
      "http://apis.data.go.kr/B553077/api/open/sdsc2/storeListInUpjong?ServiceKey=IO%2FEdnZ45auz8e6mcFKmXH%2FZDn7lirSzzkWblTjoMfS331%2FhBMrvQ5v3KLTs6yfo1gM4Kdp0kRJaYqcRbkvt5w%3D%3D&pageNo=7&numOfRows=1000&divId=indsSclsCd&key=I21006&type=json\n",
      "200\n",
      "\n",
      "http://apis.data.go.kr/B553077/api/open/sdsc2/storeListInUpjong?ServiceKey=IO%2FEdnZ45auz8e6mcFKmXH%2FZDn7lirSzzkWblTjoMfS331%2FhBMrvQ5v3KLTs6yfo1gM4Kdp0kRJaYqcRbkvt5w%3D%3D&pageNo=8&numOfRows=1000&divId=indsSclsCd&key=I21006&type=json\n",
      "200\n",
      "\n",
      "http://apis.data.go.kr/B553077/api/open/sdsc2/storeListInUpjong?ServiceKey=IO%2FEdnZ45auz8e6mcFKmXH%2FZDn7lirSzzkWblTjoMfS331%2FhBMrvQ5v3KLTs6yfo1gM4Kdp0kRJaYqcRbkvt5w%3D%3D&pageNo=9&numOfRows=1000&divId=indsSclsCd&key=I21006&type=json\n",
      "200\n",
      "\n",
      "http://apis.data.go.kr/B553077/api/open/sdsc2/storeListInUpjong?ServiceKey=IO%2FEdnZ45auz8e6mcFKmXH%2FZDn7lirSzzkWblTjoMfS331%2FhBMrvQ5v3KLTs6yfo1gM4Kdp0kRJaYqcRbkvt5w%3D%3D&pageNo=10&numOfRows=1000&divId=indsSclsCd&key=I21006&type=json\n",
      "200\n",
      "\n",
      "http://apis.data.go.kr/B553077/api/open/sdsc2/storeListInUpjong?ServiceKey=IO%2FEdnZ45auz8e6mcFKmXH%2FZDn7lirSzzkWblTjoMfS331%2FhBMrvQ5v3KLTs6yfo1gM4Kdp0kRJaYqcRbkvt5w%3D%3D&pageNo=11&numOfRows=1000&divId=indsSclsCd&key=I21006&type=json\n",
      "200\n",
      "\n",
      "http://apis.data.go.kr/B553077/api/open/sdsc2/storeListInUpjong?ServiceKey=IO%2FEdnZ45auz8e6mcFKmXH%2FZDn7lirSzzkWblTjoMfS331%2FhBMrvQ5v3KLTs6yfo1gM4Kdp0kRJaYqcRbkvt5w%3D%3D&pageNo=12&numOfRows=1000&divId=indsSclsCd&key=I21006&type=json\n",
      "200\n",
      "\n",
      "http://apis.data.go.kr/B553077/api/open/sdsc2/storeListInUpjong?ServiceKey=IO%2FEdnZ45auz8e6mcFKmXH%2FZDn7lirSzzkWblTjoMfS331%2FhBMrvQ5v3KLTs6yfo1gM4Kdp0kRJaYqcRbkvt5w%3D%3D&pageNo=13&numOfRows=1000&divId=indsSclsCd&key=I21006&type=json\n",
      "200\n",
      "\n",
      "http://apis.data.go.kr/B553077/api/open/sdsc2/storeListInUpjong?ServiceKey=IO%2FEdnZ45auz8e6mcFKmXH%2FZDn7lirSzzkWblTjoMfS331%2FhBMrvQ5v3KLTs6yfo1gM4Kdp0kRJaYqcRbkvt5w%3D%3D&pageNo=14&numOfRows=1000&divId=indsSclsCd&key=I21006&type=json\n",
      "200\n",
      "\n",
      "http://apis.data.go.kr/B553077/api/open/sdsc2/storeListInUpjong?ServiceKey=IO%2FEdnZ45auz8e6mcFKmXH%2FZDn7lirSzzkWblTjoMfS331%2FhBMrvQ5v3KLTs6yfo1gM4Kdp0kRJaYqcRbkvt5w%3D%3D&pageNo=15&numOfRows=1000&divId=indsSclsCd&key=I21006&type=json\n",
      "200\n",
      "\n",
      "http://apis.data.go.kr/B553077/api/open/sdsc2/storeListInUpjong?ServiceKey=IO%2FEdnZ45auz8e6mcFKmXH%2FZDn7lirSzzkWblTjoMfS331%2FhBMrvQ5v3KLTs6yfo1gM4Kdp0kRJaYqcRbkvt5w%3D%3D&pageNo=16&numOfRows=1000&divId=indsSclsCd&key=I21006&type=json\n",
      "200\n",
      "\n",
      "http://apis.data.go.kr/B553077/api/open/sdsc2/storeListInUpjong?ServiceKey=IO%2FEdnZ45auz8e6mcFKmXH%2FZDn7lirSzzkWblTjoMfS331%2FhBMrvQ5v3KLTs6yfo1gM4Kdp0kRJaYqcRbkvt5w%3D%3D&pageNo=17&numOfRows=1000&divId=indsSclsCd&key=I21006&type=json\n",
      "200\n",
      "\n",
      "http://apis.data.go.kr/B553077/api/open/sdsc2/storeListInUpjong?ServiceKey=IO%2FEdnZ45auz8e6mcFKmXH%2FZDn7lirSzzkWblTjoMfS331%2FhBMrvQ5v3KLTs6yfo1gM4Kdp0kRJaYqcRbkvt5w%3D%3D&pageNo=18&numOfRows=1000&divId=indsSclsCd&key=I21006&type=json\n",
      "200\n",
      "\n",
      "http://apis.data.go.kr/B553077/api/open/sdsc2/storeListInUpjong?ServiceKey=IO%2FEdnZ45auz8e6mcFKmXH%2FZDn7lirSzzkWblTjoMfS331%2FhBMrvQ5v3KLTs6yfo1gM4Kdp0kRJaYqcRbkvt5w%3D%3D&pageNo=19&numOfRows=1000&divId=indsSclsCd&key=I21006&type=json\n",
      "200\n",
      "\n",
      "http://apis.data.go.kr/B553077/api/open/sdsc2/storeListInUpjong?ServiceKey=IO%2FEdnZ45auz8e6mcFKmXH%2FZDn7lirSzzkWblTjoMfS331%2FhBMrvQ5v3KLTs6yfo1gM4Kdp0kRJaYqcRbkvt5w%3D%3D&pageNo=20&numOfRows=1000&divId=indsSclsCd&key=I21006&type=json\n",
      "200\n",
      "\n",
      "http://apis.data.go.kr/B553077/api/open/sdsc2/storeListInUpjong?ServiceKey=IO%2FEdnZ45auz8e6mcFKmXH%2FZDn7lirSzzkWblTjoMfS331%2FhBMrvQ5v3KLTs6yfo1gM4Kdp0kRJaYqcRbkvt5w%3D%3D&pageNo=21&numOfRows=1000&divId=indsSclsCd&key=I21006&type=json\n",
      "200\n",
      "\n",
      "http://apis.data.go.kr/B553077/api/open/sdsc2/storeListInUpjong?ServiceKey=IO%2FEdnZ45auz8e6mcFKmXH%2FZDn7lirSzzkWblTjoMfS331%2FhBMrvQ5v3KLTs6yfo1gM4Kdp0kRJaYqcRbkvt5w%3D%3D&pageNo=22&numOfRows=1000&divId=indsSclsCd&key=I21006&type=json\n",
      "200\n",
      "\n",
      "http://apis.data.go.kr/B553077/api/open/sdsc2/storeListInUpjong?ServiceKey=IO%2FEdnZ45auz8e6mcFKmXH%2FZDn7lirSzzkWblTjoMfS331%2FhBMrvQ5v3KLTs6yfo1gM4Kdp0kRJaYqcRbkvt5w%3D%3D&pageNo=23&numOfRows=1000&divId=indsSclsCd&key=I21006&type=json\n",
      "200\n",
      "\n",
      "http://apis.data.go.kr/B553077/api/open/sdsc2/storeListInUpjong?ServiceKey=IO%2FEdnZ45auz8e6mcFKmXH%2FZDn7lirSzzkWblTjoMfS331%2FhBMrvQ5v3KLTs6yfo1gM4Kdp0kRJaYqcRbkvt5w%3D%3D&pageNo=24&numOfRows=1000&divId=indsSclsCd&key=I21006&type=json\n",
      "200\n",
      "\n",
      "http://apis.data.go.kr/B553077/api/open/sdsc2/storeListInUpjong?ServiceKey=IO%2FEdnZ45auz8e6mcFKmXH%2FZDn7lirSzzkWblTjoMfS331%2FhBMrvQ5v3KLTs6yfo1gM4Kdp0kRJaYqcRbkvt5w%3D%3D&pageNo=25&numOfRows=1000&divId=indsSclsCd&key=I21006&type=json\n",
      "200\n",
      "\n",
      "http://apis.data.go.kr/B553077/api/open/sdsc2/storeListInUpjong?ServiceKey=IO%2FEdnZ45auz8e6mcFKmXH%2FZDn7lirSzzkWblTjoMfS331%2FhBMrvQ5v3KLTs6yfo1gM4Kdp0kRJaYqcRbkvt5w%3D%3D&pageNo=26&numOfRows=1000&divId=indsSclsCd&key=I21006&type=json\n",
      "200\n",
      "\n",
      "http://apis.data.go.kr/B553077/api/open/sdsc2/storeListInUpjong?ServiceKey=IO%2FEdnZ45auz8e6mcFKmXH%2FZDn7lirSzzkWblTjoMfS331%2FhBMrvQ5v3KLTs6yfo1gM4Kdp0kRJaYqcRbkvt5w%3D%3D&pageNo=27&numOfRows=1000&divId=indsSclsCd&key=I21006&type=json\n",
      "200\n",
      "\n",
      "http://apis.data.go.kr/B553077/api/open/sdsc2/storeListInUpjong?ServiceKey=IO%2FEdnZ45auz8e6mcFKmXH%2FZDn7lirSzzkWblTjoMfS331%2FhBMrvQ5v3KLTs6yfo1gM4Kdp0kRJaYqcRbkvt5w%3D%3D&pageNo=28&numOfRows=1000&divId=indsSclsCd&key=I21006&type=json\n",
      "200\n",
      "\n",
      "http://apis.data.go.kr/B553077/api/open/sdsc2/storeListInUpjong?ServiceKey=IO%2FEdnZ45auz8e6mcFKmXH%2FZDn7lirSzzkWblTjoMfS331%2FhBMrvQ5v3KLTs6yfo1gM4Kdp0kRJaYqcRbkvt5w%3D%3D&pageNo=29&numOfRows=1000&divId=indsSclsCd&key=I21006&type=json\n",
      "200\n",
      "\n",
      "http://apis.data.go.kr/B553077/api/open/sdsc2/storeListInUpjong?ServiceKey=IO%2FEdnZ45auz8e6mcFKmXH%2FZDn7lirSzzkWblTjoMfS331%2FhBMrvQ5v3KLTs6yfo1gM4Kdp0kRJaYqcRbkvt5w%3D%3D&pageNo=30&numOfRows=1000&divId=indsSclsCd&key=I21006&type=json\n",
      "200\n",
      "\n",
      "http://apis.data.go.kr/B553077/api/open/sdsc2/storeListInUpjong?ServiceKey=IO%2FEdnZ45auz8e6mcFKmXH%2FZDn7lirSzzkWblTjoMfS331%2FhBMrvQ5v3KLTs6yfo1gM4Kdp0kRJaYqcRbkvt5w%3D%3D&pageNo=31&numOfRows=1000&divId=indsSclsCd&key=I21006&type=json\n",
      "200\n",
      "\n",
      "http://apis.data.go.kr/B553077/api/open/sdsc2/storeListInUpjong?ServiceKey=IO%2FEdnZ45auz8e6mcFKmXH%2FZDn7lirSzzkWblTjoMfS331%2FhBMrvQ5v3KLTs6yfo1gM4Kdp0kRJaYqcRbkvt5w%3D%3D&pageNo=32&numOfRows=1000&divId=indsSclsCd&key=I21006&type=json\n",
      "200\n",
      "\n",
      "http://apis.data.go.kr/B553077/api/open/sdsc2/storeListInUpjong?ServiceKey=IO%2FEdnZ45auz8e6mcFKmXH%2FZDn7lirSzzkWblTjoMfS331%2FhBMrvQ5v3KLTs6yfo1gM4Kdp0kRJaYqcRbkvt5w%3D%3D&pageNo=33&numOfRows=1000&divId=indsSclsCd&key=I21006&type=json\n",
      "200\n",
      "\n",
      "http://apis.data.go.kr/B553077/api/open/sdsc2/storeListInUpjong?ServiceKey=IO%2FEdnZ45auz8e6mcFKmXH%2FZDn7lirSzzkWblTjoMfS331%2FhBMrvQ5v3KLTs6yfo1gM4Kdp0kRJaYqcRbkvt5w%3D%3D&pageNo=34&numOfRows=1000&divId=indsSclsCd&key=I21006&type=json\n",
      "200\n",
      "\n"
     ]
    },
    {
     "name": "stdout",
     "output_type": "stream",
     "text": [
      "http://apis.data.go.kr/B553077/api/open/sdsc2/storeListInUpjong?ServiceKey=IO%2FEdnZ45auz8e6mcFKmXH%2FZDn7lirSzzkWblTjoMfS331%2FhBMrvQ5v3KLTs6yfo1gM4Kdp0kRJaYqcRbkvt5w%3D%3D&pageNo=35&numOfRows=1000&divId=indsSclsCd&key=I21006&type=json\n",
      "200\n",
      "\n",
      "http://apis.data.go.kr/B553077/api/open/sdsc2/storeListInUpjong?ServiceKey=IO%2FEdnZ45auz8e6mcFKmXH%2FZDn7lirSzzkWblTjoMfS331%2FhBMrvQ5v3KLTs6yfo1gM4Kdp0kRJaYqcRbkvt5w%3D%3D&pageNo=36&numOfRows=1000&divId=indsSclsCd&key=I21006&type=json\n",
      "200\n",
      "\n",
      "http://apis.data.go.kr/B553077/api/open/sdsc2/storeListInUpjong?ServiceKey=IO%2FEdnZ45auz8e6mcFKmXH%2FZDn7lirSzzkWblTjoMfS331%2FhBMrvQ5v3KLTs6yfo1gM4Kdp0kRJaYqcRbkvt5w%3D%3D&pageNo=37&numOfRows=1000&divId=indsSclsCd&key=I21006&type=json\n",
      "200\n",
      "\n",
      "http://apis.data.go.kr/B553077/api/open/sdsc2/storeListInUpjong?ServiceKey=IO%2FEdnZ45auz8e6mcFKmXH%2FZDn7lirSzzkWblTjoMfS331%2FhBMrvQ5v3KLTs6yfo1gM4Kdp0kRJaYqcRbkvt5w%3D%3D&pageNo=38&numOfRows=1000&divId=indsSclsCd&key=I21006&type=json\n",
      "200\n",
      "\n",
      "http://apis.data.go.kr/B553077/api/open/sdsc2/storeListInUpjong?ServiceKey=IO%2FEdnZ45auz8e6mcFKmXH%2FZDn7lirSzzkWblTjoMfS331%2FhBMrvQ5v3KLTs6yfo1gM4Kdp0kRJaYqcRbkvt5w%3D%3D&pageNo=39&numOfRows=1000&divId=indsSclsCd&key=I21006&type=json\n",
      "200\n",
      "\n",
      "http://apis.data.go.kr/B553077/api/open/sdsc2/storeListInUpjong?ServiceKey=IO%2FEdnZ45auz8e6mcFKmXH%2FZDn7lirSzzkWblTjoMfS331%2FhBMrvQ5v3KLTs6yfo1gM4Kdp0kRJaYqcRbkvt5w%3D%3D&pageNo=40&numOfRows=1000&divId=indsSclsCd&key=I21006&type=json\n",
      "200\n",
      "\n"
     ]
    }
   ],
   "source": [
    "# 전체 페이지 저장 할 리스트\n",
    "# while True 반복문\n",
    "# 전체 데이터 / 1000 : 전체페이지 수\n",
    "# 페이지 증가 pageNo\n",
    "# page > 전체 페이지 수 = 반복문 종료\n",
    "# all_pages = []\n",
    "# params['pageNo'] = 1\n",
    "# while True:\n",
    "#     if params['pageNo'] > pates_num\n",
    "#         break\n",
    "#         print(params['pageNo'], end=\" \")\n",
    "#         params['pageNo'] +=1\n",
    "page = 1\n",
    "all_pages = []\n",
    "while True:\n",
    "    pates_num = response['body']['totalCount'] / 1000 \n",
    "    if page > pates_num:\n",
    "        break\n",
    "    url = 'http://apis.data.go.kr/B553077/api/open/sdsc2/storeListInUpjong'\n",
    "    params = dict(ServiceKey=s_key, pageNo=page, numOfRows=1000, divId='indsSclsCd', key='I21006', type='json')\n",
    "    r = requests.get(url, params=params)\n",
    "    print(r.url)\n",
    "    print(r.status_code) # 200은 정상\n",
    "    response = r.json() # 웹에서 바로 온 거는 바로 보임.\n",
    "    all_pages.append(response)\n",
    "    print()\n",
    "    page += 1"
   ]
  },
  {
   "cell_type": "code",
   "execution_count": 37,
   "id": "7e5fea24",
   "metadata": {},
   "outputs": [
    {
     "name": "stdout",
     "output_type": "stream",
     "text": [
      "40.805\n",
      "13\n",
      "12\n"
     ]
    }
   ],
   "source": [
    "pates_num = response['body']['totalCount'] / 1000 \n",
    "print(pates_num)\n",
    "print(params['pageNo'])\n",
    "print(len(all_pages))"
   ]
  },
  {
   "cell_type": "code",
   "execution_count": 29,
   "id": "ebcad21d",
   "metadata": {},
   "outputs": [
    {
     "name": "stdout",
     "output_type": "stream",
     "text": [
      "40.805\n"
     ]
    }
   ],
   "source": [
    "all_pages = []\n",
    "while True:\n",
    "    \n",
    "    params['pageNo'] = 1\n",
    "    if params['pageNo'] > pates_num\n",
    "        break\n",
    "        print(params['pageNo'], end=\" \")\n",
    "        params['pageNo'] +=1"
   ]
  },
  {
   "cell_type": "code",
   "execution_count": 32,
   "id": "6a6475d1",
   "metadata": {},
   "outputs": [
    {
     "name": "stdout",
     "output_type": "stream",
     "text": [
      "<class 'dict'>\n"
     ]
    }
   ],
   "source": [
    "print(type(response))"
   ]
  },
  {
   "cell_type": "code",
   "execution_count": 10,
   "id": "465d7385",
   "metadata": {},
   "outputs": [
    {
     "name": "stdout",
     "output_type": "stream",
     "text": [
      "<class 'dict'>\n"
     ]
    }
   ],
   "source": [
    "print(type(response))"
   ]
  },
  {
   "cell_type": "code",
   "execution_count": 11,
   "id": "9c06dd81",
   "metadata": {},
   "outputs": [
    {
     "name": "stdout",
     "output_type": "stream",
     "text": [
      "dict_values(['MA010120220800001311', '페리카나', '', 'I2', '음식', 'I210', '기타 간이', 'I21006', '치킨', 'I56193', '치킨 전문점', '11', '서울특별시', '11110', '종로구', '11110615', '종로1.2.3.4가동', '1111013700', '낙원동', '1111013700100490000', '1', '대지', 49, '', '서울특별시 종로구 낙원동 49', '111102100001', '서울특별시 종로구 삼일대로', 434, 1, '1111013700100490000014132', '', '서울특별시 종로구 삼일대로 434-1', '110320', '03133', '', '', '', 126.988163693915, 37.5735319468428])\n",
      "dict_values(['MA010120220800003146', '깐부치킨', '', 'I2', '음식', 'I210', '기타 간이', 'I21006', '치킨', 'I56194', '김밥 및 기타 간이 음식점업', '41', '경기도', '41210', '광명시', '41210640', '소하1동', '4121010400', '소하동', '4121010400113390001', '1', '대지', 1339, 1, '경기도 광명시 소하동 1339-1', '412103187036', '경기도 광명시 소하로', 81, '', '4121010400113390001000001', '', '경기도 광명시 소하로 81', '423051', '14316', '', '1', '', 126.883999818678, 37.4476275527218])\n",
      "dict_values(['MA010120220800006500', '김종용누룽지통닭', '', 'I2', '음식', 'I210', '기타 간이', 'I21006', '치킨', 'I56193', '치킨 전문점', '11', '서울특별시', '11200', '성동구', '11200550', '사근동', '1120010700', '행당동', '1120010700100190046', '1', '대지', 19, 46, '서울특별시 성동구 행당동 19-46', '112004109207', '서울특별시 성동구 마조로5길', 7, '', '1120010700100190046019611', '한양대중목욕탕', '서울특별시 성동구 마조로5길 7', '133817', '04760', '', '2', '', 127.040356840342, 37.5599204715403])\n",
      "dict_values(['MA010120220800007898', '코리안숯불닭바베큐', '', 'I2', '음식', 'I210', '기타 간이', 'I21006', '치킨', 'I56193', '치킨 전문점', '41', '경기도', '41115', '수원시 팔달구', '41115700', '지동', '4111513900', '지동', '4111513900102210027', '1', '대지', 221, 27, '경기도 수원시 팔달구 지동 221-27', '411153175031', '경기도 수원시 팔달구 세지로', 369, '', '4111513900102210027019153', '', '경기도 수원시 팔달구 세지로 369', '442837', '16242', '', '', '', 127.026556187436, 37.2835134702135])\n",
      "dict_values(['MA010120220800009322', '페리카나치킨', '', 'I2', '음식', 'I210', '기타 간이', 'I21006', '치킨', 'I56193', '치킨 전문점', '11', '서울특별시', '11305', '강북구', '11305555', '송천동', '1130510100', '미아동', '1130510100103220025', '1', '대지', 322, 25, '서울특별시 강북구 미아동 322-25', '113054124093', '서울특별시 강북구 도봉로29길', 10, '', '1130510100103220025020436', '', '서울특별시 강북구 도봉로29길 10', '142815', '01176', '', '1', '', 127.027647662939, 37.6207178739775])\n",
      "dict_values(['MA010120220800009839', '매일치킨', '', 'I2', '음식', 'I210', '기타 간이', 'I21006', '치킨', 'I56193', '치킨 전문점', '11', '서울특별시', '11110', '종로구', '11110630', '종로5.6가동', '1111016700', '충신동', '1111016700100510000', '1', '대지', 51, '', '서울특별시 종로구 충신동 51', '111104100223', '서울특별시 종로구 율곡로19길', 9, '', '1111016700100510000012087', '', '서울특별시 종로구 율곡로19길 9', '110844', '03100', '', '', '', 127.005394955817, 37.5759940632849])\n",
      "dict_values(['MA010120220800010432', '팜카페앤드전통차', '', 'I2', '음식', 'I210', '기타 간이', 'I21006', '치킨', 'I56193', '치킨 전문점', '11', '서울특별시', '11110', '종로구', '11110615', '종로1.2.3.4가동', '1111015300', '돈의동', '1111015300101370000', '1', '대지', 137, '', '서울특별시 종로구 돈의동 137', '111104100056', '서울특별시 종로구 돈화문로5가길', 1, '', '1111015300101370000017924', '피카디리플러스', '서울특별시 종로구 돈화문로5가길 1', '110808', '03139', '', '6', '', 126.991208911517, 37.5710170721997])\n",
      "dict_values(['MA010120220800012252', '둘둘치킨', '', 'I2', '음식', 'I210', '기타 간이', 'I21006', '치킨', 'I56193', '치킨 전문점', '11', '서울특별시', '11110', '종로구', '11110710', '숭인2동', '1111017500', '숭인동', '1111017500102010004', '1', '대지', 201, 4, '서울특별시 종로구 숭인동 201-4', '111104100372', '서울특별시 종로구 종로66길', 18, '', '1111017500102010004001211', '신원빌딩', '서울특별시 종로구 종로66길 18', '110825', '03115', '', '1', '', 127.021778247911, 37.5741306489708])\n",
      "dict_values(['MA010120220800012332', '본투비', '', 'I2', '음식', 'I210', '기타 간이', 'I21006', '치킨', 'I56193', '치킨 전문점', '11', '서울특별시', '11110', '종로구', '11110630', '종로5.6가동', '1111016200', '효제동', '1111016200103200002', '1', '대지', 320, 2, '서울특별시 종로구 효제동 320-2', '111103100002', '서울특별시 종로구 대학로', 5, '', '1111016200103200002012561', '', '서울특별시 종로구 대학로 5', '110480', '03129', '', '', '', 127.001706565983, 37.5715838644375])\n",
      "dict_values(['MA010120220800012733', '둘둘치킨', '', 'I2', '음식', 'I210', '기타 간이', 'I21006', '치킨', 'I56193', '치킨 전문점', '11', '서울특별시', '11350', '노원구', '11350560', '월계1동', '1135010200', '월계동', '1135010200100580002', '1', '대지', 58, 2, '서울특별시 노원구 월계동 58-2', '113504130310', '서울특별시 노원구 석계로1길', 10, '', '1135010200100580002019598', '장수회관', '서울특별시 노원구 석계로1길 10', '139841', '01902', '', '1', '', 127.064096588966, 37.6156243801993])\n"
     ]
    }
   ],
   "source": [
    "chicken_shops = []\n",
    "for item in response['body']['items']:\n",
    "    print(item.values())\n",
    "    chicken_shops.append(list(item.values()))"
   ]
  },
  {
   "cell_type": "code",
   "execution_count": 12,
   "id": "e15ab3d4",
   "metadata": {},
   "outputs": [
    {
     "name": "stdout",
     "output_type": "stream",
     "text": [
      "[dict_values(['MA010120220800001311', '페리카나', '', 'I2', '음식', 'I210', '기타 간이', 'I21006', '치킨', 'I56193', '치킨 전문점', '11', '서울특별시', '11110', '종로구', '11110615', '종로1.2.3.4가동', '1111013700', '낙원동', '1111013700100490000', '1', '대지', 49, '', '서울특별시 종로구 낙원동 49', '111102100001', '서울특별시 종로구 삼일대로', 434, 1, '1111013700100490000014132', '', '서울특별시 종로구 삼일대로 434-1', '110320', '03133', '', '', '', 126.988163693915, 37.5735319468428]), dict_values(['MA010120220800003146', '깐부치킨', '', 'I2', '음식', 'I210', '기타 간이', 'I21006', '치킨', 'I56194', '김밥 및 기타 간이 음식점업', '41', '경기도', '41210', '광명시', '41210640', '소하1동', '4121010400', '소하동', '4121010400113390001', '1', '대지', 1339, 1, '경기도 광명시 소하동 1339-1', '412103187036', '경기도 광명시 소하로', 81, '', '4121010400113390001000001', '', '경기도 광명시 소하로 81', '423051', '14316', '', '1', '', 126.883999818678, 37.4476275527218]), dict_values(['MA010120220800006500', '김종용누룽지통닭', '', 'I2', '음식', 'I210', '기타 간이', 'I21006', '치킨', 'I56193', '치킨 전문점', '11', '서울특별시', '11200', '성동구', '11200550', '사근동', '1120010700', '행당동', '1120010700100190046', '1', '대지', 19, 46, '서울특별시 성동구 행당동 19-46', '112004109207', '서울특별시 성동구 마조로5길', 7, '', '1120010700100190046019611', '한양대중목욕탕', '서울특별시 성동구 마조로5길 7', '133817', '04760', '', '2', '', 127.040356840342, 37.5599204715403]), dict_values(['MA010120220800007898', '코리안숯불닭바베큐', '', 'I2', '음식', 'I210', '기타 간이', 'I21006', '치킨', 'I56193', '치킨 전문점', '41', '경기도', '41115', '수원시 팔달구', '41115700', '지동', '4111513900', '지동', '4111513900102210027', '1', '대지', 221, 27, '경기도 수원시 팔달구 지동 221-27', '411153175031', '경기도 수원시 팔달구 세지로', 369, '', '4111513900102210027019153', '', '경기도 수원시 팔달구 세지로 369', '442837', '16242', '', '', '', 127.026556187436, 37.2835134702135]), dict_values(['MA010120220800009322', '페리카나치킨', '', 'I2', '음식', 'I210', '기타 간이', 'I21006', '치킨', 'I56193', '치킨 전문점', '11', '서울특별시', '11305', '강북구', '11305555', '송천동', '1130510100', '미아동', '1130510100103220025', '1', '대지', 322, 25, '서울특별시 강북구 미아동 322-25', '113054124093', '서울특별시 강북구 도봉로29길', 10, '', '1130510100103220025020436', '', '서울특별시 강북구 도봉로29길 10', '142815', '01176', '', '1', '', 127.027647662939, 37.6207178739775]), dict_values(['MA010120220800009839', '매일치킨', '', 'I2', '음식', 'I210', '기타 간이', 'I21006', '치킨', 'I56193', '치킨 전문점', '11', '서울특별시', '11110', '종로구', '11110630', '종로5.6가동', '1111016700', '충신동', '1111016700100510000', '1', '대지', 51, '', '서울특별시 종로구 충신동 51', '111104100223', '서울특별시 종로구 율곡로19길', 9, '', '1111016700100510000012087', '', '서울특별시 종로구 율곡로19길 9', '110844', '03100', '', '', '', 127.005394955817, 37.5759940632849]), dict_values(['MA010120220800010432', '팜카페앤드전통차', '', 'I2', '음식', 'I210', '기타 간이', 'I21006', '치킨', 'I56193', '치킨 전문점', '11', '서울특별시', '11110', '종로구', '11110615', '종로1.2.3.4가동', '1111015300', '돈의동', '1111015300101370000', '1', '대지', 137, '', '서울특별시 종로구 돈의동 137', '111104100056', '서울특별시 종로구 돈화문로5가길', 1, '', '1111015300101370000017924', '피카디리플러스', '서울특별시 종로구 돈화문로5가길 1', '110808', '03139', '', '6', '', 126.991208911517, 37.5710170721997]), dict_values(['MA010120220800012252', '둘둘치킨', '', 'I2', '음식', 'I210', '기타 간이', 'I21006', '치킨', 'I56193', '치킨 전문점', '11', '서울특별시', '11110', '종로구', '11110710', '숭인2동', '1111017500', '숭인동', '1111017500102010004', '1', '대지', 201, 4, '서울특별시 종로구 숭인동 201-4', '111104100372', '서울특별시 종로구 종로66길', 18, '', '1111017500102010004001211', '신원빌딩', '서울특별시 종로구 종로66길 18', '110825', '03115', '', '1', '', 127.021778247911, 37.5741306489708]), dict_values(['MA010120220800012332', '본투비', '', 'I2', '음식', 'I210', '기타 간이', 'I21006', '치킨', 'I56193', '치킨 전문점', '11', '서울특별시', '11110', '종로구', '11110630', '종로5.6가동', '1111016200', '효제동', '1111016200103200002', '1', '대지', 320, 2, '서울특별시 종로구 효제동 320-2', '111103100002', '서울특별시 종로구 대학로', 5, '', '1111016200103200002012561', '', '서울특별시 종로구 대학로 5', '110480', '03129', '', '', '', 127.001706565983, 37.5715838644375]), dict_values(['MA010120220800012733', '둘둘치킨', '', 'I2', '음식', 'I210', '기타 간이', 'I21006', '치킨', 'I56193', '치킨 전문점', '11', '서울특별시', '11350', '노원구', '11350560', '월계1동', '1135010200', '월계동', '1135010200100580002', '1', '대지', 58, 2, '서울특별시 노원구 월계동 58-2', '113504130310', '서울특별시 노원구 석계로1길', 10, '', '1135010200100580002019598', '장수회관', '서울특별시 노원구 석계로1길 10', '139841', '01902', '', '1', '', 127.064096588966, 37.6156243801993])]\n"
     ]
    }
   ],
   "source": [
    "print(chicken_shops)"
   ]
  }
 ],
 "metadata": {
  "kernelspec": {
   "display_name": "testenv",
   "language": "python",
   "name": "testenv"
  },
  "language_info": {
   "codemirror_mode": {
    "name": "ipython",
    "version": 3
   },
   "file_extension": ".py",
   "mimetype": "text/x-python",
   "name": "python",
   "nbconvert_exporter": "python",
   "pygments_lexer": "ipython3",
   "version": "3.8.17"
  }
 },
 "nbformat": 4,
 "nbformat_minor": 5
}
