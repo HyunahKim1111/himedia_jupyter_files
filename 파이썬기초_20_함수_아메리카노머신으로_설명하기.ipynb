{
 "cells": [
  {
   "cell_type": "markdown",
   "id": "bd5f3a42",
   "metadata": {},
   "source": [
    "함수(function,기능)"
   ]
  },
  {
   "cell_type": "code",
   "execution_count": 4,
   "id": "59d203ea",
   "metadata": {},
   "outputs": [],
   "source": [
    "def coffee(capsule):\n",
    "#     print(\"press button\")\n",
    "#     print(\"커피 추출\")\n",
    "    return capsule + \"추출'\""
   ]
  },
  {
   "cell_type": "code",
   "execution_count": 3,
   "id": "ce25cb86",
   "metadata": {},
   "outputs": [
    {
     "data": {
      "text/plain": [
       "\"아메리카도추출'\""
      ]
     },
     "execution_count": 3,
     "metadata": {},
     "output_type": "execute_result"
    }
   ],
   "source": [
    "coffee(\"아메리카노\")"
   ]
  },
  {
   "cell_type": "code",
   "execution_count": null,
   "id": "8c076033",
   "metadata": {},
   "outputs": [],
   "source": [
    "def coffee(water, milk, capsule):\n",
    "#     print(\"press button\")\n",
    "#     print(\"커피 추출\")\n",
    "    return capsule + \"추출'\""
   ]
  },
  {
   "cell_type": "code",
   "execution_count": 5,
   "id": "fba83569",
   "metadata": {},
   "outputs": [
    {
     "data": {
      "text/plain": [
       "\"아메리카노추출'\""
      ]
     },
     "execution_count": 5,
     "metadata": {},
     "output_type": "execute_result"
    }
   ],
   "source": [
    "coffee(\"물\", \"우유\", \"아메리카노\")"
   ]
  },
  {
   "cell_type": "code",
   "execution_count": null,
   "id": "a866bd03",
   "metadata": {},
   "outputs": [],
   "source": []
  }
 ],
 "metadata": {
  "kernelspec": {
   "display_name": "testenv",
   "language": "python",
   "name": "testenv"
  },
  "language_info": {
   "codemirror_mode": {
    "name": "ipython",
    "version": 3
   },
   "file_extension": ".py",
   "mimetype": "text/x-python",
   "name": "python",
   "nbconvert_exporter": "python",
   "pygments_lexer": "ipython3",
   "version": "3.8.17"
  }
 },
 "nbformat": 4,
 "nbformat_minor": 5
}
