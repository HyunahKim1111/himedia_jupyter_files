{
 "cells": [
  {
   "cell_type": "code",
   "execution_count": 6,
   "id": "9cc848ef",
   "metadata": {},
   "outputs": [],
   "source": [
    "import requests"
   ]
  },
  {
   "cell_type": "code",
   "execution_count": 7,
   "id": "8b2c3c0a",
   "metadata": {},
   "outputs": [],
   "source": [
    "url = 'https://api.odcloud.kr/api/RealEstateTradingSvc/v1/getRealEstateTradingCountYear?page=1&perPage=100&returnType=JSON&cond%5BREGION_CD%3A%3AEQ%5D=11000&cond%5BRESEARCH_DATE%3A%3ALTE%5D=2023&cond%5BRESEARCH_DATE%3A%3AGTE%5D=2023&cond%5BDEAL_OBJ%3A%3AEQ%5D=05&serviceKey='"
   ]
  },
  {
   "cell_type": "code",
   "execution_count": 4,
   "id": "eaa5715c",
   "metadata": {},
   "outputs": [],
   "source": [
    "s_key = 'IO%2FEdnZ45auz8e6mcFKmXH%2FZDn7lirSzzkWblTjoMfS331%2FhBMrvQ5v3KLTs6yfo1gM4Kdp0kRJaYqcRbkvt5w%3D%3D'"
   ]
  },
  {
   "cell_type": "code",
   "execution_count": null,
   "id": "45a70e20",
   "metadata": {},
   "outputs": [],
   "source": [
    "params = dict()"
   ]
  },
  {
   "cell_type": "code",
   "execution_count": 8,
   "id": "0bac81fd",
   "metadata": {},
   "outputs": [
    {
     "name": "stdout",
     "output_type": "stream",
     "text": [
      "https://api.odcloud.kr/api/RealEstateTradingSvc/v1/getRealEstateTradingCountYear?page=1&perPage=100&returnType=JSON&cond%5BREGION_CD%3A%3AEQ%5D=11000&cond%5BRESEARCH_DATE%3A%3ALTE%5D=2023&cond%5BRESEARCH_DATE%3A%3AGTE%5D=2023&cond%5BDEAL_OBJ%3A%3AEQ%5D=05\n",
      "401\n"
     ]
    }
   ],
   "source": [
    "r = requests.get(url, params=payload)\n",
    "print(r.url)\n",
    "print(r.status_code)"
   ]
  },
  {
   "cell_type": "code",
   "execution_count": null,
   "id": "a75ec1a0",
   "metadata": {},
   "outputs": [],
   "source": [
    "r = requests.get(url, params=payload)\n",
    "print(r.url)\n",
    "print(r.status_code)"
   ]
  }
 ],
 "metadata": {
  "kernelspec": {
   "display_name": "testenv",
   "language": "python",
   "name": "testenv"
  },
  "language_info": {
   "codemirror_mode": {
    "name": "ipython",
    "version": 3
   },
   "file_extension": ".py",
   "mimetype": "text/x-python",
   "name": "python",
   "nbconvert_exporter": "python",
   "pygments_lexer": "ipython3",
   "version": "3.8.17"
  }
 },
 "nbformat": 4,
 "nbformat_minor": 5
}
