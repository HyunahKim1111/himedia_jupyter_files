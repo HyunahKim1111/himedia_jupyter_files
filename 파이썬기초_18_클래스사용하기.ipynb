{
 "cells": [
  {
   "cell_type": "markdown",
   "id": "YvwtRFZjntwT",
   "metadata": {
    "id": "YvwtRFZjntwT"
   },
   "source": [
    "# 1. class 사용하기\n"
   ]
  },
  {
   "cell_type": "code",
   "execution_count": null,
   "id": "b941b783",
   "metadata": {},
   "outputs": [],
   "source": [
    "# 클래스:커피머신 공장 맥널티 \n",
    "\n",
    "class 맥널티 커피머신:\n",
    "    def 원두통(self커피머신, 원두): # class 안에 있는 함수는 method라고 부름. 그리고 method는 만들 때 self가 들어감.\n",
    "        self.원두 = 원두\n",
    "        원두를 그라인더로 보냄\n",
    "        return 원두 가루\n",
    "    \n",
    "    def포터필터(self, 원두 가루):\n",
    "        return탬핑\n",
    "    \n",
    "    def 커피 추출버튼(self, 포터필터, 뜨거운 물):\n",
    "        return 커피\n",
    "        "
   ]
  },
  {
   "cell_type": "code",
   "execution_count": null,
   "id": "33df1618",
   "metadata": {},
   "outputs": [],
   "source": [
    "coffee_현아 = 커피머신() #기능이 있는 커피 머신을 산 것임."
   ]
  },
  {
   "cell_type": "code",
   "execution_count": null,
   "id": "28028b61",
   "metadata": {},
   "outputs": [],
   "source": [
    "coffee_현아.원두통(케냐AA)\n",
    "coffee_현아.포터필터()\n",
    "coffee_현아.커피 추출버튼()\n",
    "# 이렇게 해야지 커피가 나와. 원두통을 눌러야 커피가 나와. 이 경우는 원두통이 반드시 있어야 해."
   ]
  },
  {
   "cell_type": "code",
   "execution_count": null,
   "id": "80dd4701",
   "metadata": {},
   "outputs": [],
   "source": [
    "# 클래스:커피머신 공장 맥널티 \n",
    "# 생성자를 만들어 줌:커피머신을 사자마자 원두를 넣어서 가져옴. 그래서 그거 계속 쓰면 됨.\n",
    "\n",
    "class 맥널티 커피머신:\n",
    "    def __init__(self(커피머신),원두):\n",
    "        self.원두 = 원두\n",
    "        \n",
    "    def 물통(self, 물):\n",
    "        self.물 = 물\n",
    "        \n",
    "    def 원두통(self): # class 안에 있는 함수는 method라고 부름. 그리고 method는 만들 때 self가 들어감.\n",
    "        self.원두 = 원두\n",
    "        원두를 그라인더로 보냄\n",
    "        return 원두 가루\n",
    "    \n",
    "    def포터필터(self, 원두 가루):\n",
    "        return탬핑\n",
    "    \n",
    "    def 커피 추출버튼(self, 포터필터, 뜨거운 물):\n",
    "        return 커피\n",
    "        "
   ]
  },
  {
   "cell_type": "code",
   "execution_count": null,
   "id": "901f83b8",
   "metadata": {},
   "outputs": [],
   "source": [
    "coffee2 = 맥널티 커피머신(케냐 AA)\n",
    "coffee2.포터필터()\n",
    "coffee2.커피 추출버튼()"
   ]
  },
  {
   "cell_type": "code",
   "execution_count": null,
   "id": "1ff03389",
   "metadata": {},
   "outputs": [],
   "source": [
    "# 상속\n",
    "* 원래 있는 기능 + 새로운 기능"
   ]
  },
  {
   "cell_type": "code",
   "execution_count": null,
   "id": "0cfa0c96",
   "metadata": {},
   "outputs": [],
   "source": [
    "class new맥널티_2(맥널티 커피머신):\n",
    "    def 제빙기능(self, 물):\n",
    "        return 얼음\n",
    "    def 아이스아메리카노(self, 얼음):\n",
    "        return 아이스아메리카노"
   ]
  },
  {
   "cell_type": "code",
   "execution_count": null,
   "id": "efc9a112",
   "metadata": {},
   "outputs": [],
   "source": [
    "class premium 맥널티_3(맥널티 커피머신, new맥널티_2):\n",
    "    def 스팀기능(self, 물):\n",
    "        return 스팀\n",
    "    def 라떼(self, 스팀, 우유):\n",
    "        return 카페라떼"
   ]
  },
  {
   "cell_type": "code",
   "execution_count": null,
   "id": "0a0af91e",
   "metadata": {},
   "outputs": [],
   "source": [
    "# 오버라이딩\n",
    "* 상속받은 클래스의 메소드를 동일한 이름으로 다시 만들거나 업그레이드 하는 것"
   ]
  },
  {
   "cell_type": "code",
   "execution_count": null,
   "id": "48c49fff",
   "metadata": {},
   "outputs": [],
   "source": [
    "class 맥널티_4(맥널티 커피머신):\n",
    "    def 물통(self):\n",
    "        자동 급수 물통으로 교체 # 커피머신의 기존 물통을 자동급수로 교체\n",
    "        return 물"
   ]
  },
  {
   "cell_type": "markdown",
   "id": "ToRWq38q2Ia3",
   "metadata": {
    "id": "ToRWq38q2Ia3"
   },
   "source": [
    "계산기의 더하기 코드\n",
    "기존의 값을 기억하고 있는 계산기 만들기"
   ]
  },
  {
   "cell_type": "code",
   "execution_count": null,
   "id": "vRhvwdIZ2H8Y",
   "metadata": {
    "colab": {
     "base_uri": "https://localhost:8080/"
    },
    "executionInfo": {
     "elapsed": 303,
     "status": "ok",
     "timestamp": 1692278363612,
     "user": {
      "displayName": "황성민",
      "userId": "04059793346518192521"
     },
     "user_tz": -540
    },
    "id": "vRhvwdIZ2H8Y",
    "outputId": "6763e081-f5eb-4e53-9abd-3fc36fe14eba"
   },
   "outputs": [
    {
     "name": "stdout",
     "output_type": "stream",
     "text": [
      "3\n",
      "7\n"
     ]
    }
   ],
   "source": [
    "result = 0\n",
    "\n",
    "def add(num):\n",
    "    global result\n",
    "    result += num  # 결괏값(result)에 입력값(num) 더하기\n",
    "    return result  # 결괏값 리턴\n",
    "\n",
    "print(add(3))\n",
    "print(add(4))"
   ]
  },
  {
   "cell_type": "markdown",
   "id": "DPA53FlVoen8",
   "metadata": {
    "id": "DPA53FlVoen8"
   },
   "source": [
    "2대의 계산기가 필요한 상황"
   ]
  },
  {
   "cell_type": "code",
   "execution_count": null,
   "id": "z3q82eEh2eqP",
   "metadata": {
    "colab": {
     "base_uri": "https://localhost:8080/"
    },
    "executionInfo": {
     "elapsed": 496,
     "status": "ok",
     "timestamp": 1692278364392,
     "user": {
      "displayName": "황성민",
      "userId": "04059793346518192521"
     },
     "user_tz": -540
    },
    "id": "z3q82eEh2eqP",
    "outputId": "61f3b9c7-960a-4e56-daca-fafe6d33f64c"
   },
   "outputs": [
    {
     "name": "stdout",
     "output_type": "stream",
     "text": [
      "3\n",
      "7\n",
      "3\n",
      "10\n"
     ]
    }
   ],
   "source": [
    "result1 = 0\n",
    "result2 = 0\n",
    "\n",
    "def add1(num):  # 계산기1\n",
    "    global result1\n",
    "    result1 += num\n",
    "    return result1\n",
    "\n",
    "def add2(num):  # 계산기2\n",
    "    global result2\n",
    "    result2 += num\n",
    "    return result2\n",
    "\n",
    "print(add1(3))\n",
    "print(add1(4))\n",
    "print(add2(3))\n",
    "print(add2(7))"
   ]
  },
  {
   "cell_type": "markdown",
   "id": "hmIrWhfu2jgo",
   "metadata": {
    "id": "hmIrWhfu2jgo"
   },
   "source": [
    "계산기가 3,4,5...로 늘어난다면?"
   ]
  },
  {
   "cell_type": "code",
   "execution_count": 1,
   "id": "nulRDA1k2emn",
   "metadata": {
    "colab": {
     "base_uri": "https://localhost:8080/"
    },
    "executionInfo": {
     "elapsed": 364,
     "status": "ok",
     "timestamp": 1692579368239,
     "user": {
      "displayName": "황성민",
      "userId": "04059793346518192521"
     },
     "user_tz": -540
    },
    "id": "nulRDA1k2emn",
    "outputId": "d2dd3d9a-22bf-4527-96bf-aee4d6eeaf3c"
   },
   "outputs": [
    {
     "name": "stdout",
     "output_type": "stream",
     "text": [
      "3\n",
      "7\n",
      "3\n",
      "10\n"
     ]
    }
   ],
   "source": [
    "class Calculator:\n",
    "    def __init__(self):\n",
    "        self.result = 0\n",
    "\n",
    "    def add(self, num):\n",
    "        self.result += num\n",
    "        return self.result\n",
    "\n",
    "cal1 = Calculator()\n",
    "cal2 = Calculator()\n",
    "\n",
    "print(cal1.add(3))\n",
    "print(cal1.add(4))\n",
    "print(cal2.add(3))\n",
    "print(cal2.add(7))"
   ]
  },
  {
   "cell_type": "markdown",
   "id": "QB_WM-3X20Na",
   "metadata": {
    "id": "QB_WM-3X20Na"
   },
   "source": [
    "* Calculator 클래스로 만든 별개의 계산기 cal1, cal2(파이썬에서는 이것을 ‘객체’라고 부른다)가 각각의 역할을 수행\n",
    "* 계산기의 결괏값 역시 다른 계산기의 결괏값과 상관없이 독립적인 값을 유지\n",
    "*"
   ]
  },
  {
   "cell_type": "markdown",
   "id": "ZdjZFDEN5tnU",
   "metadata": {
    "id": "ZdjZFDEN5tnU"
   },
   "source": [
    "빼기 기능 추가"
   ]
  },
  {
   "cell_type": "code",
   "execution_count": null,
   "id": "QgsVV4R72egP",
   "metadata": {
    "id": "QgsVV4R72egP"
   },
   "outputs": [],
   "source": [
    "class Calculator:\n",
    "    def __init__(self):\n",
    "        self.result = 0\n",
    "\n",
    "    def add(self, num):\n",
    "        self.result += num\n",
    "        return self.result\n",
    "\n",
    "    def sub(self, num):\n",
    "        self.result -= num\n",
    "        return self.result"
   ]
  },
  {
   "cell_type": "markdown",
   "id": "gQ-bRDsMkfLy",
   "metadata": {
    "id": "gQ-bRDsMkfLy"
   },
   "source": [
    "사칙 연산 가능을 가진 FourCal 클래스 만들기"
   ]
  },
  {
   "cell_type": "markdown",
   "id": "hLF-qhITk31J",
   "metadata": {
    "id": "hLF-qhITk31J"
   },
   "source": [
    "클래스 안에 구현된 함수는 다른 말로 메서드(method)"
   ]
  },
  {
   "cell_type": "markdown",
   "id": "9PnTFKqLk5vx",
   "metadata": {
    "id": "9PnTFKqLk5vx"
   },
   "source": [
    "```\n",
    "def 함수_이름(매개변수):\n",
    "    수행할_문장\n",
    "```\n",
    "메서드\n",
    "```\n",
    "def setdata(self, first, second):   # 메서드의 매개변수\n",
    "    self.first = first              # 메서드의 수행문\n",
    "    self.second = second            # 메서드의 수행문\n",
    "```"
   ]
  },
  {
   "cell_type": "code",
   "execution_count": 3,
   "id": "1Lr81XxY2eYH",
   "metadata": {
    "executionInfo": {
     "elapsed": 354,
     "status": "ok",
     "timestamp": 1692579615643,
     "user": {
      "displayName": "황성민",
      "userId": "04059793346518192521"
     },
     "user_tz": -540
    },
    "id": "1Lr81XxY2eYH"
   },
   "outputs": [],
   "source": [
    "class FourCal:\n",
    "  def setdata(self, first, second):\n",
    "    self.first = first\n",
    "    self.second = second\n"
   ]
  },
  {
   "cell_type": "code",
   "execution_count": 4,
   "id": "BVJ3OPJX2d_o",
   "metadata": {
    "executionInfo": {
     "elapsed": 500,
     "status": "ok",
     "timestamp": 1692579618390,
     "user": {
      "displayName": "황성민",
      "userId": "04059793346518192521"
     },
     "user_tz": -540
    },
    "id": "BVJ3OPJX2d_o"
   },
   "outputs": [],
   "source": [
    "a = FourCal()\n",
    "a.setdata(4, 2)"
   ]
  },
  {
   "cell_type": "markdown",
   "id": "MZimF7rJoj_q",
   "metadata": {
    "id": "MZimF7rJoj_q"
   },
   "source": [
    "setdata 메서드에는 self, first, second 총 3개의 매개변수가 필요한데 실제로는 a.setdata(4, 2)처럼 2개의 값만 전달했다. 왜 그럴까? a.setdata(4, 2)처럼 호출하면 setdata 메서드의 첫 번째 매개변수 self에는 setdata 메서드를 호출한 객체 a가 자동으로 전달되기 때문"
   ]
  },
  {
   "cell_type": "markdown",
   "id": "w0Er1wENoT1F",
   "metadata": {
    "id": "w0Er1wENoT1F"
   },
   "source": [
    "![05_1_class2.png](data:image/png;base64,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)"
   ]
  },
  {
   "cell_type": "code",
   "execution_count": 5,
   "id": "IY_isbMdlZPR",
   "metadata": {
    "executionInfo": {
     "elapsed": 316,
     "status": "ok",
     "timestamp": 1692579622137,
     "user": {
      "displayName": "황성민",
      "userId": "04059793346518192521"
     },
     "user_tz": -540
    },
    "id": "IY_isbMdlZPR"
   },
   "outputs": [],
   "source": [
    "a = FourCal()\n",
    "b = FourCal()\n"
   ]
  },
  {
   "cell_type": "code",
   "execution_count": 6,
   "id": "YN_7Yb-LlZMC",
   "metadata": {
    "colab": {
     "base_uri": "https://localhost:8080/"
    },
    "executionInfo": {
     "elapsed": 318,
     "status": "ok",
     "timestamp": 1692579627457,
     "user": {
      "displayName": "황성민",
      "userId": "04059793346518192521"
     },
     "user_tz": -540
    },
    "id": "YN_7Yb-LlZMC",
    "outputId": "cb6a8326-8458-4a83-901f-e3827277715c"
   },
   "outputs": [
    {
     "data": {
      "text/plain": [
       "4"
      ]
     },
     "execution_count": 6,
     "metadata": {},
     "output_type": "execute_result"
    }
   ],
   "source": [
    "a.setdata(4, 2)\n",
    "a.first"
   ]
  },
  {
   "cell_type": "code",
   "execution_count": 7,
   "id": "NHDn8HF6lZI5",
   "metadata": {
    "colab": {
     "base_uri": "https://localhost:8080/"
    },
    "executionInfo": {
     "elapsed": 318,
     "status": "ok",
     "timestamp": 1692579639761,
     "user": {
      "displayName": "황성민",
      "userId": "04059793346518192521"
     },
     "user_tz": -540
    },
    "id": "NHDn8HF6lZI5",
    "outputId": "e7862f98-7bda-4983-f2de-312847ef9dc9"
   },
   "outputs": [
    {
     "data": {
      "text/plain": [
       "3"
      ]
     },
     "execution_count": 7,
     "metadata": {},
     "output_type": "execute_result"
    }
   ],
   "source": [
    "b.setdata(3, 7)\n",
    "b.first"
   ]
  },
  {
   "cell_type": "code",
   "execution_count": 8,
   "id": "iAK5zDyblZEx",
   "metadata": {
    "colab": {
     "base_uri": "https://localhost:8080/"
    },
    "executionInfo": {
     "elapsed": 335,
     "status": "ok",
     "timestamp": 1692579659089,
     "user": {
      "displayName": "황성민",
      "userId": "04059793346518192521"
     },
     "user_tz": -540
    },
    "id": "iAK5zDyblZEx",
    "outputId": "7ace4ab0-1c52-4245-848b-1b34e6f5f712"
   },
   "outputs": [
    {
     "data": {
      "text/plain": [
       "4"
      ]
     },
     "execution_count": 8,
     "metadata": {},
     "output_type": "execute_result"
    }
   ],
   "source": [
    "a.first"
   ]
  },
  {
   "cell_type": "markdown",
   "id": "djNZxW3tpFYM",
   "metadata": {
    "id": "djNZxW3tpFYM"
   },
   "source": [
    "* 클래스는 자체는 자판기 공장\n",
    "\n",
    "* 클래스 내부를 쉽게 설명하면 자판기라고 할 수 있다.\n",
    "\n",
    "* 클래스에서 데이터를 받는 부분(인스턴스 변수) = 동전투입구\n",
    "\n",
    "* 그 아래의 메소드(함수)들 = 각기 다른 음료수 버튼이라고 할 수 있다."
   ]
  },
  {
   "cell_type": "markdown",
   "id": "Kh-B9fUEpcPS",
   "metadata": {
    "id": "Kh-B9fUEpcPS"
   },
   "source": [
    "더하기 기능 만들기"
   ]
  },
  {
   "cell_type": "code",
   "execution_count": 9,
   "id": "_AA3sAK-lY_y",
   "metadata": {
    "executionInfo": {
     "elapsed": 323,
     "status": "ok",
     "timestamp": 1692579797254,
     "user": {
      "displayName": "황성민",
      "userId": "04059793346518192521"
     },
     "user_tz": -540
    },
    "id": "_AA3sAK-lY_y"
   },
   "outputs": [],
   "source": [
    "class FourCal:\n",
    "  def setdata(self, first, second):  # 인스턴스 메소드\n",
    "    self.first = first\n",
    "    self.second = second\n",
    "  def add(self):\n",
    "    result = self.first + self.second\n",
    "    return result"
   ]
  },
  {
   "cell_type": "code",
   "execution_count": 10,
   "id": "Bd8Q3RSxlY6J",
   "metadata": {
    "executionInfo": {
     "elapsed": 350,
     "status": "ok",
     "timestamp": 1692579803850,
     "user": {
      "displayName": "황성민",
      "userId": "04059793346518192521"
     },
     "user_tz": -540
    },
    "id": "Bd8Q3RSxlY6J"
   },
   "outputs": [],
   "source": [
    "a = FourCal()\n",
    "a.setdata(4, 2)"
   ]
  },
  {
   "cell_type": "code",
   "execution_count": 11,
   "id": "DgIA21Wmpril",
   "metadata": {
    "colab": {
     "base_uri": "https://localhost:8080/"
    },
    "executionInfo": {
     "elapsed": 453,
     "status": "ok",
     "timestamp": 1692579812075,
     "user": {
      "displayName": "황성민",
      "userId": "04059793346518192521"
     },
     "user_tz": -540
    },
    "id": "DgIA21Wmpril",
    "outputId": "e7b92ce6-3f08-4063-e18e-c902fb7fbbcb"
   },
   "outputs": [
    {
     "data": {
      "text/plain": [
       "6"
      ]
     },
     "execution_count": 11,
     "metadata": {},
     "output_type": "execute_result"
    }
   ],
   "source": [
    "a.add()\n"
   ]
  },
  {
   "cell_type": "markdown",
   "id": "AAerbjpDq1ym",
   "metadata": {
    "id": "AAerbjpDq1ym"
   },
   "source": [
    "곱하기, 빼기, 나누기 기능 만들기"
   ]
  },
  {
   "cell_type": "code",
   "execution_count": 20,
   "id": "Kz1uLcY-prfa",
   "metadata": {
    "executionInfo": {
     "elapsed": 322,
     "status": "ok",
     "timestamp": 1692579992999,
     "user": {
      "displayName": "황성민",
      "userId": "04059793346518192521"
     },
     "user_tz": -540
    },
    "id": "Kz1uLcY-prfa"
   },
   "outputs": [],
   "source": [
    "class FourCal:\n",
    "  def setdata(self, first, second):\n",
    "    self.first = first\n",
    "    self.second = second\n",
    "  def add(self):\n",
    "    result = self.first + self.second\n",
    "    return result\n",
    "  def mul(self):\n",
    "    result = self.first * self.second\n",
    "    return result\n",
    "  def sub(self):\n",
    "    result = self.first - self.second\n",
    "    return result\n",
    "  def div(self):\n",
    "    result = self.first / self.second\n",
    "    return result\n"
   ]
  },
  {
   "cell_type": "code",
   "execution_count": 13,
   "id": "YGSipr6sprcC",
   "metadata": {
    "executionInfo": {
     "elapsed": 327,
     "status": "ok",
     "timestamp": 1692579835930,
     "user": {
      "displayName": "황성민",
      "userId": "04059793346518192521"
     },
     "user_tz": -540
    },
    "id": "YGSipr6sprcC"
   },
   "outputs": [],
   "source": [
    "a = FourCal()\n",
    "b = FourCal()\n",
    "a.setdata(4, 2)\n",
    "b.setdata(3, 8)\n"
   ]
  },
  {
   "cell_type": "code",
   "execution_count": 15,
   "id": "dETFEvEfprWT",
   "metadata": {
    "colab": {
     "base_uri": "https://localhost:8080/"
    },
    "executionInfo": {
     "elapsed": 9,
     "status": "ok",
     "timestamp": 1692579887876,
     "user": {
      "displayName": "황성민",
      "userId": "04059793346518192521"
     },
     "user_tz": -540
    },
    "id": "dETFEvEfprWT",
    "outputId": "6c4d2915-3c21-417c-d19a-d712074d16d9"
   },
   "outputs": [
    {
     "name": "stdout",
     "output_type": "stream",
     "text": [
      "6\n",
      "8\n",
      "2\n",
      "2.0\n",
      "11\n",
      "24\n",
      "-5\n",
      "0.375\n"
     ]
    }
   ],
   "source": [
    "print(a.add())\n",
    "print(a.mul())\n",
    "print(a.sub())\n",
    "print(a.div())\n",
    "print(b.add())\n",
    "print(b.mul())\n",
    "print(b.sub())\n",
    "print(b.div())"
   ]
  },
  {
   "cell_type": "markdown",
   "id": "WAODlyF2o_Yg",
   "metadata": {
    "id": "WAODlyF2o_Yg"
   },
   "source": [
    "# 생성자"
   ]
  },
  {
   "cell_type": "markdown",
   "id": "_EQogNXTpv5G",
   "metadata": {
    "id": "_EQogNXTpv5G"
   },
   "source": [
    "인스턴스 변수에 값을 넣지 않고 클래스의 메서드를 실행하려고 하면 에러가 난다.(함수에서 고정인수를 넣지 않았을 때와 동일)"
   ]
  },
  {
   "cell_type": "code",
   "execution_count": 21,
   "id": "X2-_wDx6prQa",
   "metadata": {
    "executionInfo": {
     "elapsed": 329,
     "status": "ok",
     "timestamp": 1692579998123,
     "user": {
      "displayName": "황성민",
      "userId": "04059793346518192521"
     },
     "user_tz": -540
    },
    "id": "X2-_wDx6prQa"
   },
   "outputs": [],
   "source": [
    "a = FourCal()\n",
    "# a.add()"
   ]
  },
  {
   "cell_type": "markdown",
   "id": "0uRO1AZr03de",
   "metadata": {
    "id": "0uRO1AZr03de"
   },
   "source": [
    "* 객체에 first, second와 같은 초깃값을 설정해야 할 필요가 있을 때는 setdata와 같은 메서드를 호출하여 초깃값을 설정하기보다 생성자를 구현하는 것이 안전한 방법\n",
    "* 생성자(constructor)란 객체가 생성될 때 자동으로 호출되는 메서드를 의미한다. 파이썬 메서드명으로 __init__를 사용하면 이 메서드는 생성자가 된다."
   ]
  },
  {
   "cell_type": "code",
   "execution_count": 22,
   "id": "rbkctk9XprNK",
   "metadata": {
    "executionInfo": {
     "elapsed": 339,
     "status": "ok",
     "timestamp": 1692580014105,
     "user": {
      "displayName": "황성민",
      "userId": "04059793346518192521"
     },
     "user_tz": -540
    },
    "id": "rbkctk9XprNK"
   },
   "outputs": [],
   "source": [
    "class FourCal:\n",
    "  def __init__(self, first, second):  # 생성자\n",
    "    self.first = first   # self.first = 인스턴스 변수\n",
    "    self.second = second  # self.second = 인스턴스 변수\n",
    "  # def setdata(self, first, second):\n",
    "  #   self.first = first\n",
    "  #   self.second = second\n",
    "  def add(self):\n",
    "    result = self.first + self.second\n",
    "    return result\n",
    "  def mul(self):\n",
    "    result = self.first * self.second\n",
    "    return result\n",
    "  def sub(self):\n",
    "    result = self.first - self.second\n",
    "    return result\n",
    "  def div(self):\n",
    "    result = self.first / self.second\n",
    "    return result"
   ]
  },
  {
   "cell_type": "code",
   "execution_count": 23,
   "id": "rTxHSassprHS",
   "metadata": {
    "colab": {
     "base_uri": "https://localhost:8080/",
     "height": 183
    },
    "executionInfo": {
     "elapsed": 315,
     "status": "error",
     "timestamp": 1692580018600,
     "user": {
      "displayName": "황성민",
      "userId": "04059793346518192521"
     },
     "user_tz": -540
    },
    "id": "rTxHSassprHS",
    "outputId": "ce786732-ae1f-478e-890b-82750d1fb8b7"
   },
   "outputs": [
    {
     "ename": "TypeError",
     "evalue": "ignored",
     "output_type": "error",
     "traceback": [
      "\u001b[0;31m---------------------------------------------------------------------------\u001b[0m",
      "\u001b[0;31mTypeError\u001b[0m                                 Traceback (most recent call last)",
      "\u001b[0;32m<ipython-input-23-5cfa1e393ba9>\u001b[0m in \u001b[0;36m<cell line: 1>\u001b[0;34m()\u001b[0m\n\u001b[0;32m----> 1\u001b[0;31m \u001b[0ma\u001b[0m \u001b[0;34m=\u001b[0m \u001b[0mFourCal\u001b[0m\u001b[0;34m(\u001b[0m\u001b[0;34m)\u001b[0m\u001b[0;34m\u001b[0m\u001b[0;34m\u001b[0m\u001b[0m\n\u001b[0m",
      "\u001b[0;31mTypeError\u001b[0m: FourCal.__init__() missing 2 required positional arguments: 'first' and 'second'"
     ]
    }
   ],
   "source": [
    "a = FourCal()"
   ]
  },
  {
   "cell_type": "code",
   "execution_count": 24,
   "id": "1V1_8O_bprD7",
   "metadata": {
    "executionInfo": {
     "elapsed": 330,
     "status": "ok",
     "timestamp": 1692580041763,
     "user": {
      "displayName": "황성민",
      "userId": "04059793346518192521"
     },
     "user_tz": -540
    },
    "id": "1V1_8O_bprD7"
   },
   "outputs": [],
   "source": [
    "a = FourCal(4, 2)"
   ]
  },
  {
   "cell_type": "code",
   "execution_count": 25,
   "id": "J0dv5L_Vpq_F",
   "metadata": {
    "colab": {
     "base_uri": "https://localhost:8080/"
    },
    "executionInfo": {
     "elapsed": 321,
     "status": "ok",
     "timestamp": 1692580068319,
     "user": {
      "displayName": "황성민",
      "userId": "04059793346518192521"
     },
     "user_tz": -540
    },
    "id": "J0dv5L_Vpq_F",
    "outputId": "5a8b66e3-738f-44c6-c241-a3d773e7103f"
   },
   "outputs": [
    {
     "data": {
      "text/plain": [
       "4"
      ]
     },
     "execution_count": 25,
     "metadata": {},
     "output_type": "execute_result"
    }
   ],
   "source": [
    "a.first"
   ]
  },
  {
   "cell_type": "code",
   "execution_count": 26,
   "id": "VRwEhM1Npq2H",
   "metadata": {
    "colab": {
     "base_uri": "https://localhost:8080/"
    },
    "executionInfo": {
     "elapsed": 321,
     "status": "ok",
     "timestamp": 1692580070185,
     "user": {
      "displayName": "황성민",
      "userId": "04059793346518192521"
     },
     "user_tz": -540
    },
    "id": "VRwEhM1Npq2H",
    "outputId": "06d7ba1e-dc2e-43b1-a505-209a3c39ddb9"
   },
   "outputs": [
    {
     "data": {
      "text/plain": [
       "2"
      ]
     },
     "execution_count": 26,
     "metadata": {},
     "output_type": "execute_result"
    }
   ],
   "source": [
    "a.second"
   ]
  },
  {
   "cell_type": "code",
   "execution_count": 27,
   "id": "adVipcksokUr",
   "metadata": {
    "colab": {
     "base_uri": "https://localhost:8080/"
    },
    "executionInfo": {
     "elapsed": 7,
     "status": "ok",
     "timestamp": 1692580076329,
     "user": {
      "displayName": "황성민",
      "userId": "04059793346518192521"
     },
     "user_tz": -540
    },
    "id": "adVipcksokUr",
    "outputId": "da295cbc-a269-4fbf-deae-367aea6b3203"
   },
   "outputs": [
    {
     "data": {
      "text/plain": [
       "6"
      ]
     },
     "execution_count": 27,
     "metadata": {},
     "output_type": "execute_result"
    }
   ],
   "source": [
    "a.add()"
   ]
  },
  {
   "cell_type": "code",
   "execution_count": 28,
   "id": "tF9XoqeuomFa",
   "metadata": {
    "colab": {
     "base_uri": "https://localhost:8080/"
    },
    "executionInfo": {
     "elapsed": 7,
     "status": "ok",
     "timestamp": 1692580082730,
     "user": {
      "displayName": "황성민",
      "userId": "04059793346518192521"
     },
     "user_tz": -540
    },
    "id": "tF9XoqeuomFa",
    "outputId": "d189dc74-5708-4b09-c8b7-f1704d9ea770"
   },
   "outputs": [
    {
     "data": {
      "text/plain": [
       "2"
      ]
     },
     "execution_count": 28,
     "metadata": {},
     "output_type": "execute_result"
    }
   ],
   "source": [
    "a.sub()"
   ]
  },
  {
   "cell_type": "markdown",
   "id": "vEmwbwaw2k2E",
   "metadata": {
    "id": "vEmwbwaw2k2E"
   },
   "source": [
    "# 클래스의 상속\n",
    "* 어떤 클래스를 만들 때 다른 클래스의 기능을 물려받을 수 있게 만드는 것\n",
    "* 기존 클래스 + 기능을 추가할 때\n",
    "* A클래스를 상속받아 B클래스를 생성한다고 할 때, B 클래스는 A 클래스의 모든 기능을 사용할 수 있다.\n",
    "```\n",
    "class 클래스_이름(상속할_클래스_이름)\n",
    "```"
   ]
  },
  {
   "cell_type": "code",
   "execution_count": 29,
   "id": "SH3OQTI710kw",
   "metadata": {
    "executionInfo": {
     "elapsed": 323,
     "status": "ok",
     "timestamp": 1692580256441,
     "user": {
      "displayName": "황성민",
      "userId": "04059793346518192521"
     },
     "user_tz": -540
    },
    "id": "SH3OQTI710kw"
   },
   "outputs": [],
   "source": [
    "class MoreFourCal(FourCal):\n",
    "  pass"
   ]
  },
  {
   "cell_type": "markdown",
   "id": "VFzfGvir4YZF",
   "metadata": {
    "id": "VFzfGvir4YZF"
   },
   "source": [
    "MoreFourCal 클래스는 FourCal 클래스를 상속했으므로 FourCal 클래스의 모든 기능을 사용할 수 있다."
   ]
  },
  {
   "cell_type": "code",
   "execution_count": 30,
   "id": "yUFwTijH10iF",
   "metadata": {
    "executionInfo": {
     "elapsed": 347,
     "status": "ok",
     "timestamp": 1692580282285,
     "user": {
      "displayName": "황성민",
      "userId": "04059793346518192521"
     },
     "user_tz": -540
    },
    "id": "yUFwTijH10iF"
   },
   "outputs": [],
   "source": [
    "a = MoreFourCal(4, 2)"
   ]
  },
  {
   "cell_type": "code",
   "execution_count": 33,
   "id": "C1dOz14jpgpL",
   "metadata": {
    "colab": {
     "base_uri": "https://localhost:8080/"
    },
    "executionInfo": {
     "elapsed": 5,
     "status": "ok",
     "timestamp": 1692580331204,
     "user": {
      "displayName": "황성민",
      "userId": "04059793346518192521"
     },
     "user_tz": -540
    },
    "id": "C1dOz14jpgpL",
    "outputId": "630b9463-10af-4345-883c-c83741d61026"
   },
   "outputs": [
    {
     "data": {
      "text/plain": [
       "4"
      ]
     },
     "execution_count": 33,
     "metadata": {},
     "output_type": "execute_result"
    }
   ],
   "source": [
    "a.first"
   ]
  },
  {
   "cell_type": "code",
   "execution_count": 34,
   "id": "WgR2hk_TpkjD",
   "metadata": {
    "colab": {
     "base_uri": "https://localhost:8080/"
    },
    "executionInfo": {
     "elapsed": 317,
     "status": "ok",
     "timestamp": 1692580339064,
     "user": {
      "displayName": "황성민",
      "userId": "04059793346518192521"
     },
     "user_tz": -540
    },
    "id": "WgR2hk_TpkjD",
    "outputId": "7456ae63-6b4d-4732-eb0f-1f02db428536"
   },
   "outputs": [
    {
     "data": {
      "text/plain": [
       "2"
      ]
     },
     "execution_count": 34,
     "metadata": {},
     "output_type": "execute_result"
    }
   ],
   "source": [
    "a.second"
   ]
  },
  {
   "cell_type": "code",
   "execution_count": 31,
   "id": "I-74zQUN10fC",
   "metadata": {
    "colab": {
     "base_uri": "https://localhost:8080/"
    },
    "executionInfo": {
     "elapsed": 333,
     "status": "ok",
     "timestamp": 1692580312181,
     "user": {
      "displayName": "황성민",
      "userId": "04059793346518192521"
     },
     "user_tz": -540
    },
    "id": "I-74zQUN10fC",
    "outputId": "8e7cee5c-43a9-4ad0-9749-b569a402f00f"
   },
   "outputs": [
    {
     "data": {
      "text/plain": [
       "6"
      ]
     },
     "execution_count": 31,
     "metadata": {},
     "output_type": "execute_result"
    }
   ],
   "source": [
    "a.add()"
   ]
  },
  {
   "cell_type": "code",
   "execution_count": 32,
   "id": "eLD4t7Jy10ZN",
   "metadata": {
    "colab": {
     "base_uri": "https://localhost:8080/"
    },
    "executionInfo": {
     "elapsed": 325,
     "status": "ok",
     "timestamp": 1692580315088,
     "user": {
      "displayName": "황성민",
      "userId": "04059793346518192521"
     },
     "user_tz": -540
    },
    "id": "eLD4t7Jy10ZN",
    "outputId": "52ca5257-4c7c-46d3-ede1-bbc405b24dc7"
   },
   "outputs": [
    {
     "data": {
      "text/plain": [
       "8"
      ]
     },
     "execution_count": 32,
     "metadata": {},
     "output_type": "execute_result"
    }
   ],
   "source": [
    "a.mul()"
   ]
  },
  {
   "cell_type": "code",
   "execution_count": null,
   "id": "ll4cWq6h10V7",
   "metadata": {
    "colab": {
     "base_uri": "https://localhost:8080/"
    },
    "executionInfo": {
     "elapsed": 2,
     "status": "ok",
     "timestamp": 1692282259230,
     "user": {
      "displayName": "황성민",
      "userId": "04059793346518192521"
     },
     "user_tz": -540
    },
    "id": "ll4cWq6h10V7",
    "outputId": "deb0a159-0e17-4f3e-8828-c6fa654f7d4c"
   },
   "outputs": [
    {
     "data": {
      "text/plain": [
       "2"
      ]
     },
     "execution_count": 29,
     "metadata": {},
     "output_type": "execute_result"
    }
   ],
   "source": [
    "a.sub()"
   ]
  },
  {
   "cell_type": "code",
   "execution_count": null,
   "id": "cjmK0vTo10Sr",
   "metadata": {
    "colab": {
     "base_uri": "https://localhost:8080/"
    },
    "executionInfo": {
     "elapsed": 282,
     "status": "ok",
     "timestamp": 1692282265206,
     "user": {
      "displayName": "황성민",
      "userId": "04059793346518192521"
     },
     "user_tz": -540
    },
    "id": "cjmK0vTo10Sr",
    "outputId": "6216c3b4-a3b1-4226-eef0-980d2b365cca"
   },
   "outputs": [
    {
     "data": {
      "text/plain": [
       "2.0"
      ]
     },
     "execution_count": 30,
     "metadata": {},
     "output_type": "execute_result"
    }
   ],
   "source": [
    "a.div()"
   ]
  },
  {
   "cell_type": "markdown",
   "id": "8RJQm3GZ4nqX",
   "metadata": {
    "id": "8RJQm3GZ4nqX"
   },
   "source": [
    "$ a^b $을 계산하는 MoreFourCal 클래스를 만들어 보자."
   ]
  },
  {
   "cell_type": "code",
   "execution_count": 35,
   "id": "DWN-rHte10Mb",
   "metadata": {
    "executionInfo": {
     "elapsed": 320,
     "status": "ok",
     "timestamp": 1692580375917,
     "user": {
      "displayName": "황성민",
      "userId": "04059793346518192521"
     },
     "user_tz": -540
    },
    "id": "DWN-rHte10Mb"
   },
   "outputs": [],
   "source": [
    "class MoreFourCal(FourCal):\n",
    "  def pow(self):\n",
    "    result = self.first ** self.second\n",
    "    return result"
   ]
  },
  {
   "cell_type": "code",
   "execution_count": 36,
   "id": "zZ5cdPIp4j7c",
   "metadata": {
    "executionInfo": {
     "elapsed": 3,
     "status": "ok",
     "timestamp": 1692580380767,
     "user": {
      "displayName": "황성민",
      "userId": "04059793346518192521"
     },
     "user_tz": -540
    },
    "id": "zZ5cdPIp4j7c"
   },
   "outputs": [],
   "source": [
    "a = MoreFourCal(4, 2)"
   ]
  },
  {
   "cell_type": "code",
   "execution_count": 37,
   "id": "jnNgmMTV4j4e",
   "metadata": {
    "colab": {
     "base_uri": "https://localhost:8080/"
    },
    "executionInfo": {
     "elapsed": 333,
     "status": "ok",
     "timestamp": 1692580386857,
     "user": {
      "displayName": "황성민",
      "userId": "04059793346518192521"
     },
     "user_tz": -540
    },
    "id": "jnNgmMTV4j4e",
    "outputId": "422a53b8-a020-433b-d6cb-a0d07c4e788b"
   },
   "outputs": [
    {
     "data": {
      "text/plain": [
       "6"
      ]
     },
     "execution_count": 37,
     "metadata": {},
     "output_type": "execute_result"
    }
   ],
   "source": [
    "a.add()"
   ]
  },
  {
   "cell_type": "code",
   "execution_count": 38,
   "id": "OdFUU8dZ4j1W",
   "metadata": {
    "colab": {
     "base_uri": "https://localhost:8080/"
    },
    "executionInfo": {
     "elapsed": 333,
     "status": "ok",
     "timestamp": 1692580393831,
     "user": {
      "displayName": "황성민",
      "userId": "04059793346518192521"
     },
     "user_tz": -540
    },
    "id": "OdFUU8dZ4j1W",
    "outputId": "8dea5874-5e16-4962-bd11-b42c26d68513"
   },
   "outputs": [
    {
     "data": {
      "text/plain": [
       "16"
      ]
     },
     "execution_count": 38,
     "metadata": {},
     "output_type": "execute_result"
    }
   ],
   "source": [
    "a.pow()"
   ]
  },
  {
   "cell_type": "markdown",
   "id": "RSvsvn0A4-z-",
   "metadata": {
    "id": "RSvsvn0A4-z-"
   },
   "source": [
    "상속은 MoreFourCal 클래스처럼 기존 클래스(FourCal)는 그대로 놔둔 채 클래스의 기능을 확장할 때 주로 사용"
   ]
  },
  {
   "cell_type": "markdown",
   "id": "0nEhUU435A3Y",
   "metadata": {
    "id": "0nEhUU435A3Y"
   },
   "source": [
    "# 메서드 오버라이딩"
   ]
  },
  {
   "cell_type": "code",
   "execution_count": 40,
   "id": "np1yMl3H4jyZ",
   "metadata": {
    "colab": {
     "base_uri": "https://localhost:8080/",
     "height": 310
    },
    "executionInfo": {
     "elapsed": 345,
     "status": "error",
     "timestamp": 1692581615337,
     "user": {
      "displayName": "황성민",
      "userId": "04059793346518192521"
     },
     "user_tz": -540
    },
    "id": "np1yMl3H4jyZ",
    "outputId": "795527f5-4595-4f0b-838c-e5c3e6ca5e31"
   },
   "outputs": [
    {
     "ename": "ZeroDivisionError",
     "evalue": "ignored",
     "output_type": "error",
     "traceback": [
      "\u001b[0;31m---------------------------------------------------------------------------\u001b[0m",
      "\u001b[0;31mZeroDivisionError\u001b[0m                         Traceback (most recent call last)",
      "\u001b[0;32m<ipython-input-40-5e9b2f546e11>\u001b[0m in \u001b[0;36m<cell line: 2>\u001b[0;34m()\u001b[0m\n\u001b[1;32m      1\u001b[0m \u001b[0ma\u001b[0m \u001b[0;34m=\u001b[0m \u001b[0mFourCal\u001b[0m\u001b[0;34m(\u001b[0m\u001b[0;36m4\u001b[0m\u001b[0;34m,\u001b[0m \u001b[0;36m0\u001b[0m\u001b[0;34m)\u001b[0m\u001b[0;34m\u001b[0m\u001b[0;34m\u001b[0m\u001b[0m\n\u001b[0;32m----> 2\u001b[0;31m \u001b[0ma\u001b[0m\u001b[0;34m.\u001b[0m\u001b[0mdiv\u001b[0m\u001b[0;34m(\u001b[0m\u001b[0;34m)\u001b[0m\u001b[0;34m\u001b[0m\u001b[0;34m\u001b[0m\u001b[0m\n\u001b[0m",
      "\u001b[0;32m<ipython-input-22-a182471b1ca5>\u001b[0m in \u001b[0;36mdiv\u001b[0;34m(self)\u001b[0m\n\u001b[1;32m     16\u001b[0m     \u001b[0;32mreturn\u001b[0m \u001b[0mresult\u001b[0m\u001b[0;34m\u001b[0m\u001b[0;34m\u001b[0m\u001b[0m\n\u001b[1;32m     17\u001b[0m   \u001b[0;32mdef\u001b[0m \u001b[0mdiv\u001b[0m\u001b[0;34m(\u001b[0m\u001b[0mself\u001b[0m\u001b[0;34m)\u001b[0m\u001b[0;34m:\u001b[0m\u001b[0;34m\u001b[0m\u001b[0;34m\u001b[0m\u001b[0m\n\u001b[0;32m---> 18\u001b[0;31m     \u001b[0mresult\u001b[0m \u001b[0;34m=\u001b[0m \u001b[0mself\u001b[0m\u001b[0;34m.\u001b[0m\u001b[0mfirst\u001b[0m \u001b[0;34m/\u001b[0m \u001b[0mself\u001b[0m\u001b[0;34m.\u001b[0m\u001b[0msecond\u001b[0m\u001b[0;34m\u001b[0m\u001b[0;34m\u001b[0m\u001b[0m\n\u001b[0m\u001b[1;32m     19\u001b[0m     \u001b[0;32mreturn\u001b[0m \u001b[0mresult\u001b[0m\u001b[0;34m\u001b[0m\u001b[0;34m\u001b[0m\u001b[0m\n",
      "\u001b[0;31mZeroDivisionError\u001b[0m: division by zero"
     ]
    }
   ],
   "source": [
    "a = FourCal(4, 0)\n",
    "a.div()"
   ]
  },
  {
   "cell_type": "code",
   "execution_count": 41,
   "id": "O6zMhIofugIV",
   "metadata": {
    "executionInfo": {
     "elapsed": 5,
     "status": "ok",
     "timestamp": 1692581634881,
     "user": {
      "displayName": "황성민",
      "userId": "04059793346518192521"
     },
     "user_tz": -540
    },
    "id": "O6zMhIofugIV"
   },
   "outputs": [],
   "source": [
    "c = MoreFourCal(4, 0)"
   ]
  },
  {
   "cell_type": "code",
   "execution_count": 42,
   "id": "EAoesr9_uipc",
   "metadata": {
    "colab": {
     "base_uri": "https://localhost:8080/",
     "height": 292
    },
    "executionInfo": {
     "elapsed": 12,
     "status": "error",
     "timestamp": 1692581641456,
     "user": {
      "displayName": "황성민",
      "userId": "04059793346518192521"
     },
     "user_tz": -540
    },
    "id": "EAoesr9_uipc",
    "outputId": "f2ea8509-a60e-49b5-a49e-c9c4734a5747"
   },
   "outputs": [
    {
     "ename": "ZeroDivisionError",
     "evalue": "ignored",
     "output_type": "error",
     "traceback": [
      "\u001b[0;31m---------------------------------------------------------------------------\u001b[0m",
      "\u001b[0;31mZeroDivisionError\u001b[0m                         Traceback (most recent call last)",
      "\u001b[0;32m<ipython-input-42-5508fe2f734f>\u001b[0m in \u001b[0;36m<cell line: 1>\u001b[0;34m()\u001b[0m\n\u001b[0;32m----> 1\u001b[0;31m \u001b[0mc\u001b[0m\u001b[0;34m.\u001b[0m\u001b[0mdiv\u001b[0m\u001b[0;34m(\u001b[0m\u001b[0;34m)\u001b[0m\u001b[0;34m\u001b[0m\u001b[0;34m\u001b[0m\u001b[0m\n\u001b[0m",
      "\u001b[0;32m<ipython-input-22-a182471b1ca5>\u001b[0m in \u001b[0;36mdiv\u001b[0;34m(self)\u001b[0m\n\u001b[1;32m     16\u001b[0m     \u001b[0;32mreturn\u001b[0m \u001b[0mresult\u001b[0m\u001b[0;34m\u001b[0m\u001b[0;34m\u001b[0m\u001b[0m\n\u001b[1;32m     17\u001b[0m   \u001b[0;32mdef\u001b[0m \u001b[0mdiv\u001b[0m\u001b[0;34m(\u001b[0m\u001b[0mself\u001b[0m\u001b[0;34m)\u001b[0m\u001b[0;34m:\u001b[0m\u001b[0;34m\u001b[0m\u001b[0;34m\u001b[0m\u001b[0m\n\u001b[0;32m---> 18\u001b[0;31m     \u001b[0mresult\u001b[0m \u001b[0;34m=\u001b[0m \u001b[0mself\u001b[0m\u001b[0;34m.\u001b[0m\u001b[0mfirst\u001b[0m \u001b[0;34m/\u001b[0m \u001b[0mself\u001b[0m\u001b[0;34m.\u001b[0m\u001b[0msecond\u001b[0m\u001b[0;34m\u001b[0m\u001b[0;34m\u001b[0m\u001b[0m\n\u001b[0m\u001b[1;32m     19\u001b[0m     \u001b[0;32mreturn\u001b[0m \u001b[0mresult\u001b[0m\u001b[0;34m\u001b[0m\u001b[0;34m\u001b[0m\u001b[0m\n",
      "\u001b[0;31mZeroDivisionError\u001b[0m: division by zero"
     ]
    }
   ],
   "source": [
    "c.div()"
   ]
  },
  {
   "cell_type": "markdown",
   "id": "K6Smrpo65_1H",
   "metadata": {
    "id": "K6Smrpo65_1H"
   },
   "source": [
    "4와 0을 지정하고 div 메서드를 호출하면 4를 0으로 나누려고 하므로 ZeroDivisionError 오류가 발생한다. 0으로 나눌 때 오류가 아닌 값 0을 리턴받고 싶다면?"
   ]
  },
  {
   "cell_type": "code",
   "execution_count": 43,
   "id": "hYcc9OLY5y68",
   "metadata": {
    "executionInfo": {
     "elapsed": 3,
     "status": "ok",
     "timestamp": 1692581682715,
     "user": {
      "displayName": "황성민",
      "userId": "04059793346518192521"
     },
     "user_tz": -540
    },
    "id": "hYcc9OLY5y68"
   },
   "outputs": [],
   "source": [
    "class SafeFourCal(FourCal):\n",
    "  def div(self):\n",
    "    if self.second == 0:  # 나누는 값이 0인 경우 0을 리턴하도록 수정\n",
    "      return 0\n",
    "    else:\n",
    "      return self.first / self.second"
   ]
  },
  {
   "cell_type": "markdown",
   "id": "DblvcKxP6VSy",
   "metadata": {
    "id": "DblvcKxP6VSy"
   },
   "source": [
    "FourCal 클래스에 있는 div 메서드를 동일한 이름으로 다시 작성했다. 이렇게 부모 클래스(상속한 클래스)에 있는 메서드를 동일한 이름으로 다시 만드는 것을 메서드 오버라이딩(method overriding)"
   ]
  },
  {
   "cell_type": "code",
   "execution_count": 44,
   "id": "sA-vAVxC5yq2",
   "metadata": {
    "executionInfo": {
     "elapsed": 315,
     "status": "ok",
     "timestamp": 1692581694744,
     "user": {
      "displayName": "황성민",
      "userId": "04059793346518192521"
     },
     "user_tz": -540
    },
    "id": "sA-vAVxC5yq2"
   },
   "outputs": [],
   "source": [
    "a = SafeFourCal(4, 0)"
   ]
  },
  {
   "cell_type": "code",
   "execution_count": 45,
   "id": "jaZKtmcV5ynb",
   "metadata": {
    "colab": {
     "base_uri": "https://localhost:8080/"
    },
    "executionInfo": {
     "elapsed": 7,
     "status": "ok",
     "timestamp": 1692581696932,
     "user": {
      "displayName": "황성민",
      "userId": "04059793346518192521"
     },
     "user_tz": -540
    },
    "id": "jaZKtmcV5ynb",
    "outputId": "db02ca39-f20c-403d-acb6-68abc6d427b7"
   },
   "outputs": [
    {
     "data": {
      "text/plain": [
       "0"
      ]
     },
     "execution_count": 45,
     "metadata": {},
     "output_type": "execute_result"
    }
   ],
   "source": [
    "a.div()"
   ]
  },
  {
   "cell_type": "code",
   "execution_count": 46,
   "id": "UVYGqohSu4jb",
   "metadata": {
    "colab": {
     "base_uri": "https://localhost:8080/"
    },
    "executionInfo": {
     "elapsed": 8,
     "status": "ok",
     "timestamp": 1692581745430,
     "user": {
      "displayName": "황성민",
      "userId": "04059793346518192521"
     },
     "user_tz": -540
    },
    "id": "UVYGqohSu4jb",
    "outputId": "8517f0ac-fc82-474e-c8d2-5b7568e53886"
   },
   "outputs": [
    {
     "data": {
      "text/plain": [
       "1.3333333333333333"
      ]
     },
     "execution_count": 46,
     "metadata": {},
     "output_type": "execute_result"
    }
   ],
   "source": [
    "b = SafeFourCal(4, 3)\n",
    "b.div()"
   ]
  },
  {
   "cell_type": "markdown",
   "id": "-e4fIJ156eDu",
   "metadata": {
    "id": "-e4fIJ156eDu"
   },
   "source": [
    "# 클래스변수"
   ]
  },
  {
   "cell_type": "code",
   "execution_count": null,
   "id": "3UyHktIO5yjw",
   "metadata": {
    "id": "3UyHktIO5yjw"
   },
   "outputs": [],
   "source": [
    "class Family:\n",
    "  lastname = \"김\""
   ]
  },
  {
   "cell_type": "code",
   "execution_count": null,
   "id": "qho9rXdm5ygh",
   "metadata": {
    "colab": {
     "base_uri": "https://localhost:8080/",
     "height": 35
    },
    "executionInfo": {
     "elapsed": 3,
     "status": "ok",
     "timestamp": 1692282818431,
     "user": {
      "displayName": "황성민",
      "userId": "04059793346518192521"
     },
     "user_tz": -540
    },
    "id": "qho9rXdm5ygh",
    "outputId": "119058e7-b365-40af-bbc5-4bd12f1d8664"
   },
   "outputs": [
    {
     "data": {
      "application/vnd.google.colaboratory.intrinsic+json": {
       "type": "string"
      },
      "text/plain": [
       "'김'"
      ]
     },
     "execution_count": 40,
     "metadata": {},
     "output_type": "execute_result"
    }
   ],
   "source": [
    "Family.lastname"
   ]
  },
  {
   "cell_type": "code",
   "execution_count": null,
   "id": "0r6C7PfI4ju6",
   "metadata": {
    "id": "0r6C7PfI4ju6"
   },
   "outputs": [],
   "source": [
    "a = Family()\n",
    "b = Family()"
   ]
  },
  {
   "cell_type": "code",
   "execution_count": null,
   "id": "QkdrQf2N6p8q",
   "metadata": {
    "colab": {
     "base_uri": "https://localhost:8080/",
     "height": 35
    },
    "executionInfo": {
     "elapsed": 288,
     "status": "ok",
     "timestamp": 1692282893781,
     "user": {
      "displayName": "황성민",
      "userId": "04059793346518192521"
     },
     "user_tz": -540
    },
    "id": "QkdrQf2N6p8q",
    "outputId": "4ae2f2de-3bda-4211-86e4-3866b9f0cf61"
   },
   "outputs": [
    {
     "data": {
      "application/vnd.google.colaboratory.intrinsic+json": {
       "type": "string"
      },
      "text/plain": [
       "'김'"
      ]
     },
     "execution_count": 42,
     "metadata": {},
     "output_type": "execute_result"
    }
   ],
   "source": [
    "a.lastname"
   ]
  },
  {
   "cell_type": "code",
   "execution_count": null,
   "id": "srKIXYuM6p5v",
   "metadata": {
    "colab": {
     "base_uri": "https://localhost:8080/",
     "height": 35
    },
    "executionInfo": {
     "elapsed": 3,
     "status": "ok",
     "timestamp": 1692282903035,
     "user": {
      "displayName": "황성민",
      "userId": "04059793346518192521"
     },
     "user_tz": -540
    },
    "id": "srKIXYuM6p5v",
    "outputId": "5b1e7814-d1d9-41ab-a7e0-27041b01f09c"
   },
   "outputs": [
    {
     "data": {
      "application/vnd.google.colaboratory.intrinsic+json": {
       "type": "string"
      },
      "text/plain": [
       "'김'"
      ]
     },
     "execution_count": 43,
     "metadata": {},
     "output_type": "execute_result"
    }
   ],
   "source": [
    "b.lastname"
   ]
  },
  {
   "cell_type": "code",
   "execution_count": null,
   "id": "TGDkqCUD6p3A",
   "metadata": {
    "id": "TGDkqCUD6p3A"
   },
   "outputs": [],
   "source": [
    "Family.lastname = \"박\""
   ]
  },
  {
   "cell_type": "code",
   "execution_count": null,
   "id": "1FLLoWzp6p0Q",
   "metadata": {
    "colab": {
     "base_uri": "https://localhost:8080/",
     "height": 35
    },
    "executionInfo": {
     "elapsed": 4,
     "status": "ok",
     "timestamp": 1692282915324,
     "user": {
      "displayName": "황성민",
      "userId": "04059793346518192521"
     },
     "user_tz": -540
    },
    "id": "1FLLoWzp6p0Q",
    "outputId": "124e0c39-4ba5-459f-ef48-4f8f2b1a6733"
   },
   "outputs": [
    {
     "data": {
      "application/vnd.google.colaboratory.intrinsic+json": {
       "type": "string"
      },
      "text/plain": [
       "'박'"
      ]
     },
     "execution_count": 45,
     "metadata": {},
     "output_type": "execute_result"
    }
   ],
   "source": [
    "a.lastname"
   ]
  },
  {
   "cell_type": "code",
   "execution_count": null,
   "id": "VlcbCRqf6pxJ",
   "metadata": {
    "colab": {
     "base_uri": "https://localhost:8080/",
     "height": 35
    },
    "executionInfo": {
     "elapsed": 362,
     "status": "ok",
     "timestamp": 1692282921645,
     "user": {
      "displayName": "황성민",
      "userId": "04059793346518192521"
     },
     "user_tz": -540
    },
    "id": "VlcbCRqf6pxJ",
    "outputId": "642cec09-aa92-4b09-bd2c-850ed75f7e22"
   },
   "outputs": [
    {
     "data": {
      "application/vnd.google.colaboratory.intrinsic+json": {
       "type": "string"
      },
      "text/plain": [
       "'박'"
      ]
     },
     "execution_count": 46,
     "metadata": {},
     "output_type": "execute_result"
    }
   ],
   "source": [
    "b.lastname"
   ]
  },
  {
   "cell_type": "markdown",
   "id": "fhQKLtUO7Ewr",
   "metadata": {
    "id": "fhQKLtUO7Ewr"
   },
   "source": [
    "클래스변수는 객체변수와 달리 클래스로 만든 모든 객체에 공유된다"
   ]
  },
  {
   "cell_type": "code",
   "execution_count": null,
   "id": "RUplh0LG6puB",
   "metadata": {
    "id": "RUplh0LG6puB"
   },
   "outputs": [],
   "source": []
  },
  {
   "cell_type": "markdown",
   "id": "Qv889Qsr7dZN",
   "metadata": {
    "id": "Qv889Qsr7dZN"
   },
   "source": [
    "클래스변수와 동일한 이름의 객체변수를 생성하면?"
   ]
  },
  {
   "cell_type": "code",
   "execution_count": null,
   "id": "44rAOXx86prA",
   "metadata": {
    "colab": {
     "base_uri": "https://localhost:8080/",
     "height": 35
    },
    "executionInfo": {
     "elapsed": 4,
     "status": "ok",
     "timestamp": 1692283053341,
     "user": {
      "displayName": "황성민",
      "userId": "04059793346518192521"
     },
     "user_tz": -540
    },
    "id": "44rAOXx86prA",
    "outputId": "47d99889-f4ea-49dd-c197-7d55acfd40db"
   },
   "outputs": [
    {
     "data": {
      "application/vnd.google.colaboratory.intrinsic+json": {
       "type": "string"
      },
      "text/plain": [
       "'최'"
      ]
     },
     "execution_count": 47,
     "metadata": {},
     "output_type": "execute_result"
    }
   ],
   "source": [
    "a.lastname = \"최\"\n",
    "a.lastname"
   ]
  },
  {
   "cell_type": "code",
   "execution_count": null,
   "id": "8IDzZkHf6pn1",
   "metadata": {
    "colab": {
     "base_uri": "https://localhost:8080/",
     "height": 35
    },
    "executionInfo": {
     "elapsed": 3,
     "status": "ok",
     "timestamp": 1692283062152,
     "user": {
      "displayName": "황성민",
      "userId": "04059793346518192521"
     },
     "user_tz": -540
    },
    "id": "8IDzZkHf6pn1",
    "outputId": "25544914-5ee1-414d-87fc-5d10c57532d7"
   },
   "outputs": [
    {
     "data": {
      "application/vnd.google.colaboratory.intrinsic+json": {
       "type": "string"
      },
      "text/plain": [
       "'박'"
      ]
     },
     "execution_count": 48,
     "metadata": {},
     "output_type": "execute_result"
    }
   ],
   "source": [
    "Family.lastname"
   ]
  },
  {
   "cell_type": "code",
   "execution_count": null,
   "id": "v1KbwOEM6pkU",
   "metadata": {
    "colab": {
     "base_uri": "https://localhost:8080/",
     "height": 35
    },
    "executionInfo": {
     "elapsed": 4,
     "status": "ok",
     "timestamp": 1692283071177,
     "user": {
      "displayName": "황성민",
      "userId": "04059793346518192521"
     },
     "user_tz": -540
    },
    "id": "v1KbwOEM6pkU",
    "outputId": "c35dd8a2-a552-4a24-bad0-3288e03f02c4"
   },
   "outputs": [
    {
     "data": {
      "application/vnd.google.colaboratory.intrinsic+json": {
       "type": "string"
      },
      "text/plain": [
       "'박'"
      ]
     },
     "execution_count": 49,
     "metadata": {},
     "output_type": "execute_result"
    }
   ],
   "source": [
    "b.lastname"
   ]
  },
  {
   "cell_type": "code",
   "execution_count": null,
   "id": "SynTbYl16pgp",
   "metadata": {
    "colab": {
     "base_uri": "https://localhost:8080/",
     "height": 35
    },
    "executionInfo": {
     "elapsed": 3,
     "status": "ok",
     "timestamp": 1692283081885,
     "user": {
      "displayName": "황성민",
      "userId": "04059793346518192521"
     },
     "user_tz": -540
    },
    "id": "SynTbYl16pgp",
    "outputId": "3f678935-2a00-41d5-9799-4848695db2d2"
   },
   "outputs": [
    {
     "data": {
      "application/vnd.google.colaboratory.intrinsic+json": {
       "type": "string"
      },
      "text/plain": [
       "'최'"
      ]
     },
     "execution_count": 50,
     "metadata": {},
     "output_type": "execute_result"
    }
   ],
   "source": [
    "a.lastname"
   ]
  },
  {
   "cell_type": "markdown",
   "id": "TGO0P_VzAeHk",
   "metadata": {
    "id": "TGO0P_VzAeHk"
   },
   "source": [
    "비공개 클래스 속성\n",
    "* __(밑줄 두 개)로 시작하면 비공개 속성이 된다."
   ]
  },
  {
   "cell_type": "code",
   "execution_count": null,
   "id": "3o73A5Ec7qFk",
   "metadata": {
    "colab": {
     "base_uri": "https://localhost:8080/"
    },
    "executionInfo": {
     "elapsed": 2,
     "status": "ok",
     "timestamp": 1692284499544,
     "user": {
      "displayName": "황성민",
      "userId": "04059793346518192521"
     },
     "user_tz": -540
    },
    "id": "3o73A5Ec7qFk",
    "outputId": "56c488f0-76f9-4990-94b7-d56d203f498e"
   },
   "outputs": [
    {
     "name": "stdout",
     "output_type": "stream",
     "text": [
      "10\n"
     ]
    }
   ],
   "source": [
    "class Knight:\n",
    "  __item_limit = 10    # 비공개 클래스 속성\n",
    "\n",
    "  def print_item_limit(self):\n",
    "    print(Knight.__item_limit)    # 클래스 안에서만 접근할 수 있음\n",
    "\n",
    "\n",
    "x = Knight()\n",
    "x.print_item_limit()    # 10\n",
    "\n"
   ]
  },
  {
   "cell_type": "code",
   "execution_count": null,
   "id": "qonaN62r7qCg",
   "metadata": {
    "colab": {
     "base_uri": "https://localhost:8080/",
     "height": 183
    },
    "executionInfo": {
     "elapsed": 279,
     "status": "error",
     "timestamp": 1692284509637,
     "user": {
      "displayName": "황성민",
      "userId": "04059793346518192521"
     },
     "user_tz": -540
    },
    "id": "qonaN62r7qCg",
    "outputId": "b576618a-8577-44e5-9728-c3e34a039531"
   },
   "outputs": [
    {
     "ename": "AttributeError",
     "evalue": "ignored",
     "output_type": "error",
     "traceback": [
      "\u001b[0;31m---------------------------------------------------------------------------\u001b[0m",
      "\u001b[0;31mAttributeError\u001b[0m                            Traceback (most recent call last)",
      "\u001b[0;32m<ipython-input-53-760a6189ce11>\u001b[0m in \u001b[0;36m<cell line: 1>\u001b[0;34m()\u001b[0m\n\u001b[0;32m----> 1\u001b[0;31m \u001b[0mprint\u001b[0m\u001b[0;34m(\u001b[0m\u001b[0mKnight\u001b[0m\u001b[0;34m.\u001b[0m\u001b[0m__item_limit\u001b[0m\u001b[0;34m)\u001b[0m    \u001b[0;31m# 클래스 바깥에서는 접근할 수 없음\u001b[0m\u001b[0;34m\u001b[0m\u001b[0;34m\u001b[0m\u001b[0m\n\u001b[0m",
      "\u001b[0;31mAttributeError\u001b[0m: type object 'Knight' has no attribute '__item_limit'"
     ]
    }
   ],
   "source": [
    "print(Knight.__item_limit)    # 클래스 바깥에서는 접근할 수 없음"
   ]
  },
  {
   "cell_type": "code",
   "execution_count": null,
   "id": "6Fn6jFlx7p_4",
   "metadata": {
    "id": "6Fn6jFlx7p_4"
   },
   "outputs": [],
   "source": []
  },
  {
   "cell_type": "code",
   "execution_count": null,
   "id": "kZr6mByQ7p8y",
   "metadata": {
    "id": "kZr6mByQ7p8y"
   },
   "outputs": [],
   "source": []
  },
  {
   "cell_type": "code",
   "execution_count": null,
   "id": "4qu_kxrN7p5Y",
   "metadata": {
    "id": "4qu_kxrN7p5Y"
   },
   "outputs": [],
   "source": []
  },
  {
   "cell_type": "code",
   "execution_count": null,
   "id": "CNPTk6N17p10",
   "metadata": {
    "id": "CNPTk6N17p10"
   },
   "outputs": [],
   "source": []
  },
  {
   "cell_type": "code",
   "execution_count": null,
   "id": "dd296875",
   "metadata": {
    "id": "dd296875"
   },
   "outputs": [],
   "source": [
    "class Calculator:\n",
    "    def __init__(self):\n",
    "        self.result = 0\n",
    "\n",
    "    def add(self, num):\n",
    "        self.result += num\n",
    "        return self.result\n",
    "\n",
    "    def sub(self, num):\n",
    "        self.result -= num\n",
    "        return self.result\n",
    "cal1 = Calculator()\n",
    "cal2 = Calculator()"
   ]
  },
  {
   "cell_type": "code",
   "execution_count": null,
   "id": "6f5dd5b9",
   "metadata": {
    "id": "6f5dd5b9",
    "scrolled": true
   },
   "outputs": [],
   "source": [
    "cal1.add(3)"
   ]
  },
  {
   "cell_type": "code",
   "execution_count": null,
   "id": "51921829",
   "metadata": {
    "id": "51921829"
   },
   "outputs": [],
   "source": [
    "cal1.add(4)"
   ]
  },
  {
   "cell_type": "code",
   "execution_count": null,
   "id": "a15bc441",
   "metadata": {
    "id": "a15bc441"
   },
   "outputs": [],
   "source": [
    "cal1.add(3)"
   ]
  },
  {
   "cell_type": "code",
   "execution_count": null,
   "id": "98eb6e17",
   "metadata": {
    "id": "98eb6e17"
   },
   "outputs": [],
   "source": [
    "cal2.add(3)"
   ]
  },
  {
   "cell_type": "code",
   "execution_count": null,
   "id": "a0afb688",
   "metadata": {
    "id": "a0afb688",
    "scrolled": true
   },
   "outputs": [],
   "source": [
    "cal2.add(7)"
   ]
  },
  {
   "cell_type": "code",
   "execution_count": null,
   "id": "05be65fa",
   "metadata": {
    "id": "05be65fa"
   },
   "outputs": [],
   "source": [
    "cal2.sub(5)"
   ]
  },
  {
   "cell_type": "code",
   "execution_count": null,
   "id": "5d382dbe",
   "metadata": {
    "id": "5d382dbe"
   },
   "outputs": [],
   "source": []
  },
  {
   "cell_type": "code",
   "execution_count": null,
   "id": "73d63c3e",
   "metadata": {
    "id": "73d63c3e"
   },
   "outputs": [],
   "source": [
    "class FourCal:\n",
    "    def __init__(self):\n",
    "        self.result = 0\n",
    "\n",
    "    def add(self, a, b):\n",
    "        self.result = a + b\n",
    "        return self.result\n",
    "\n",
    "    def mul(self, a, b):\n",
    "        self.result = a * b\n",
    "        return self.result\n",
    "\n",
    "    def sub(self, a, b):\n",
    "        self.result = a - b\n",
    "        return self.result\n",
    "\n",
    "    def div(self, a, b):\n",
    "        self.result = a / b\n",
    "        return self.result\n"
   ]
  },
  {
   "cell_type": "code",
   "execution_count": null,
   "id": "8ba82a6e",
   "metadata": {
    "id": "8ba82a6e"
   },
   "outputs": [],
   "source": [
    "a = FourCal()"
   ]
  },
  {
   "cell_type": "code",
   "execution_count": null,
   "id": "6e34eb1a",
   "metadata": {
    "id": "6e34eb1a"
   },
   "outputs": [],
   "source": [
    "a.add(4, 2)"
   ]
  },
  {
   "cell_type": "code",
   "execution_count": null,
   "id": "9b3be8af",
   "metadata": {
    "id": "9b3be8af"
   },
   "outputs": [],
   "source": [
    "a.mul(4, 2)"
   ]
  },
  {
   "cell_type": "code",
   "execution_count": null,
   "id": "40fd0898",
   "metadata": {
    "id": "40fd0898",
    "scrolled": true
   },
   "outputs": [],
   "source": [
    "a.div(4, 2)"
   ]
  },
  {
   "cell_type": "code",
   "execution_count": null,
   "id": "20043f8a",
   "metadata": {
    "id": "20043f8a"
   },
   "outputs": [],
   "source": [
    "a.sub(4,2)"
   ]
  }
 ],
 "metadata": {
  "colab": {
   "provenance": []
  },
  "kernelspec": {
   "display_name": "Python 3 (ipykernel)",
   "language": "python",
   "name": "python3"
  },
  "language_info": {
   "codemirror_mode": {
    "name": "ipython",
    "version": 3
   },
   "file_extension": ".py",
   "mimetype": "text/x-python",
   "name": "python",
   "nbconvert_exporter": "python",
   "pygments_lexer": "ipython3",
   "version": "3.11.4"
  }
 },
 "nbformat": 4,
 "nbformat_minor": 5
}
