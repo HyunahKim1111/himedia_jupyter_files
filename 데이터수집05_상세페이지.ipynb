{
 "cells": [
  {
   "cell_type": "code",
   "execution_count": 6,
   "id": "0368c6d5",
   "metadata": {},
   "outputs": [],
   "source": [
    "import requests # 서버에 http 프로토콜로 요청\n",
    "from bs4 import BeautifulSoup as bs # html 파싱\n",
    "import time  # 5초간 휴식할 때 사용 \n",
    "from datetime import datetime # 오늘 년월일 추출할 때 사용\n",
    "import pandas as pd # 데이터프레임 만듦"
   ]
  },
  {
   "cell_type": "code",
   "execution_count": 7,
   "id": "c0b42291",
   "metadata": {},
   "outputs": [],
   "source": [
    "url = \"https://www.yes24.com/Product/Goods/117014613\"\n",
    "r = requests.get(url) # yest24 서버에 url로 자료 요청\n",
    "soup = bs(r.text, 'lxml')# yes2 서버에서 받은 응답 값 텍스트를 beautifulSoup으로 파싱"
   ]
  },
  {
   "cell_type": "code",
   "execution_count": 160,
   "id": "0937adb6",
   "metadata": {},
   "outputs": [
    {
     "name": "stdout",
     "output_type": "stream",
     "text": [
      "736 1,030g 153*224*40mm ['국내도서', '자기계발', '처세술/삶의 자세'] 재야의 명저 『세이노의 가르침』 2023년판 정식 출간!순자산 천억 원대 자산가, 세이노의 ‘요즘 생각’을 만나다2000년부터 발표된 그의 주옥같은 글들. 독자들이 자발적으로 만든 제본서는 물론, 전자책과 앱까지 나왔던 『세이노의 가르침』이 드디어 전국 서점에서 독자들을 마주한다. 여러 판본을 모으고 저자의 확인을 거쳐 최근 생각을 추가로 수록하였다. 정식 출간본에만 추가로 수록된 글들은 목차와 본문에 별도 표시하였다. 더 많은 사람이 이 책을 보고 힘을 얻길 바라기에 인세도 안 받는 저자의  마음을 담아, 700쪽이 넘는 분량에도 7천 원 안팎에 책을 구매할 수 있도록 했다. 정식 출간 전자책 또한 무료로 선보인다.*필명 ‘세이노(Say No)’는 당신이 믿고 있는 것들에 ‘No!’를 외치고 제대로 살아가라는 뜻이다. 세이노는 지난 20여 년간 여러 칼럼을 통해 인생 선배로서 부와 성공에 대한 지혜와 함께 삶에 대한 체험적 지식을 나누어 주었다. 그래서 그의 글을 좋아하는 사람들은 그를 ‘세이노 스승님’이라 부른다. 피보다 진하게 살아라!이 책은 부자 되는 법을 가르치는 책이 아니다. 목차를 훑어보자. 재테크 기법 같은 것은 전혀 나오지 않는다. 이 책의 저자는 돈이 삶의 우열을 결정하지 않는다고 설파한다. 대신, 삶을 어떻게 살아갈지에 대한 고민을 나눈다. 스스로의 인생을 위해 삶의 자세부터 바로잡고, ‘피보다 진하게 살라’ 한다. 세이노 사전에서 ‘노력’이란, 힘들고 어려운 일일수록 치열하게 열심히 해내는 것이다. 하기 싫었던 일조차 좋아질 만큼! 돈에 기죽지 마라!저자는 돈에 대해서는 물론, 직접 겪은 자만이 알 수 있는 가난과 부의 실체에 대해서도 숨김없이 털어놓는다. 자본주의 사회에서 돈 없이 살아갈 수 있는 사람은 없다. 이 사회에서 돈은 마치 ‘피’와 같다. 피가 우리 몸 전체를 순환하며 생명을 유지시키듯, 돈은 돌고 돌아야 한다. 그래서 저자는 피가 부족한 이를 위해 피를 나누듯 이 책을 썼다. 이 책을 읽는 이들이 삶을 살아가는 데 필요한 지혜를 수혈받길 바란다. 그리하여 어디의 누구든 어떤 이유로든, 살아가면서 소중한 걸 포기하지 않는 세상이 되기를 꿈꾼다. 돈보다 소중한 것이 너무도 많으니까. *조선일보 기자와 데이원 편집부가 합동으로 세이노의 보유 자산을 조사하였습니다. 구체적 증거도 없이 자산 규모가 회자되는 인물들에게 종종 현혹되는 현실에 대해 검증이 필요하다는 사명감으로 조사에 임했으며, 전체 자산의 세부 구성과 납세 기록 등을 꼼꼼히 살펴보는 과정을 통해, 세이노가 최소 1천억 원 이상의 순자산 보유자라는 사실을 확인하였음을 밝힙니다.*〈세이노의 가르침〉 전자책을 무료 공개합니다. 종이책 발행일인 2023년 3월 2일에 맞추어 주요 서점에서 무료 전자책이 공개되고 데이원 블로그에서도 무료 다운로드 가능한 PDF와 epub 파일이 공개됩니다. 어떠한 암호도 걸려 있지 않은 파일이고 아무런 비용도 받지 않을 것입니다. (blog.naver.com/dayonepress)*〈세이노의 가르침〉은 저자에게 판매수익이 지급되지 않습니다. 저자는 다른 이에게 지식을 나누는 데에 있어 일체의 비용을 받지 않습니다. 사칭에 유의하세요.                    \n"
     ]
    }
   ],
   "source": [
    "pageNum = soup.select_one('.b_size > tr:nth-child(2)>td.txt.lastCol').text.split('|')[0].strip(\" 쪽\")\n",
    "weight = soup.select_one('.b_size > tr:nth-child(2)>td.txt.lastCol').text.split('|')[1].strip()# pageNum\n",
    "size = soup.select_one('.b_size > tr:nth-child(2)>td.txt.lastCol').text.split('|')[2].strip() # size\n",
    "category = soup.select_one('.yesAlertDl').text.strip().split('\\n')[4:15:2][:3] # category\n",
    "infoText = soup.select_one('#infoset_introduce :nth-child(2) > .infoWrap_txt').text.strip('\\n\\r ') #infoText\n",
    "pubReview = soup.select_one('#infoset_pubReivew :nth-child(2) > .infoWrap_txt').text.strip('\\n') #pubReview\n",
    "print(pageNum, weight, size, category, infoText, pubReview)"
   ]
  },
  {
   "cell_type": "code",
   "execution_count": 47,
   "id": "31c04da0",
   "metadata": {},
   "outputs": [
    {
     "data": {
      "text/plain": [
       "'1,030g'"
      ]
     },
     "execution_count": 47,
     "metadata": {},
     "output_type": "execute_result"
    }
   ],
   "source": [
    "soup.select_one('.b_size > tr:nth-child(2)>td.txt.lastCol').text.split('|')[1].strip() # weight"
   ]
  },
  {
   "cell_type": "code",
   "execution_count": 48,
   "id": "1b6ade54",
   "metadata": {},
   "outputs": [
    {
     "data": {
      "text/plain": [
       "'153*224*40mm'"
      ]
     },
     "execution_count": 48,
     "metadata": {},
     "output_type": "execute_result"
    }
   ],
   "source": [
    "soup.select_one('.b_size > tr:nth-child(2)>td.txt.lastCol').text.split('|')[2].strip() # size"
   ]
  },
  {
   "cell_type": "code",
   "execution_count": 93,
   "id": "393e6cf5",
   "metadata": {},
   "outputs": [
    {
     "data": {
      "text/plain": [
       "['국내도서', '자기계발', '처세술/삶의 자세']"
      ]
     },
     "execution_count": 93,
     "metadata": {},
     "output_type": "execute_result"
    }
   ],
   "source": [
    "soup.select_one('.yesAlertDl').text.strip().split('\\n')[4:15:2][:3] # category"
   ]
  },
  {
   "cell_type": "code",
   "execution_count": 115,
   "id": "da947c3f",
   "metadata": {
    "scrolled": true
   },
   "outputs": [
    {
     "data": {
      "text/plain": [
       "'재야의 명저 『세이노의 가르침』 2023년판 정식 출간!순자산 천억 원대 자산가, 세이노의 ‘요즘 생각’을 만나다2000년부터 발표된 그의 주옥같은 글들. 독자들이 자발적으로 만든 제본서는 물론, 전자책과 앱까지 나왔던 『세이노의 가르침』이 드디어 전국 서점에서 독자들을 마주한다. 여러 판본을 모으고 저자의 확인을 거쳐 최근 생각을 추가로 수록하였다. 정식 출간본에만 추가로 수록된 글들은 목차와 본문에 별도 표시하였다. 더 많은 사람이 이 책을 보고 힘을 얻길 바라기에 인세도 안 받는 저자의  마음을 담아, 700쪽이 넘는 분량에도 7천 원 안팎에 책을 구매할 수 있도록 했다. 정식 출간 전자책 또한 무료로 선보인다.*필명 ‘세이노(Say No)’는 당신이 믿고 있는 것들에 ‘No!’를 외치고 제대로 살아가라는 뜻이다. 세이노는 지난 20여 년간 여러 칼럼을 통해 인생 선배로서 부와 성공에 대한 지혜와 함께 삶에 대한 체험적 지식을 나누어 주었다. 그래서 그의 글을 좋아하는 사람들은 그를 ‘세이노 스승님’이라 부른다.'"
      ]
     },
     "execution_count": 115,
     "metadata": {},
     "output_type": "execute_result"
    }
   ],
   "source": [
    "soup.select_one('#infoset_introduce :nth-child(2) > .infoWrap_txt').text.strip('\\n\\r ') #infoText"
   ]
  },
  {
   "cell_type": "code",
   "execution_count": 113,
   "id": "f42f7f0a",
   "metadata": {
    "scrolled": true
   },
   "outputs": [
    {
     "data": {
      "text/plain": [
       "'피보다 진하게 살아라!이 책은 부자 되는 법을 가르치는 책이 아니다. 목차를 훑어보자. 재테크 기법 같은 것은 전혀 나오지 않는다. 이 책의 저자는 돈이 삶의 우열을 결정하지 않는다고 설파한다. 대신, 삶을 어떻게 살아갈지에 대한 고민을 나눈다. 스스로의 인생을 위해 삶의 자세부터 바로잡고, ‘피보다 진하게 살라’ 한다. 세이노 사전에서 ‘노력’이란, 힘들고 어려운 일일수록 치열하게 열심히 해내는 것이다. 하기 싫었던 일조차 좋아질 만큼! 돈에 기죽지 마라!저자는 돈에 대해서는 물론, 직접 겪은 자만이 알 수 있는 가난과 부의 실체에 대해서도 숨김없이 털어놓는다. 자본주의 사회에서 돈 없이 살아갈 수 있는 사람은 없다. 이 사회에서 돈은 마치 ‘피’와 같다. 피가 우리 몸 전체를 순환하며 생명을 유지시키듯, 돈은 돌고 돌아야 한다. 그래서 저자는 피가 부족한 이를 위해 피를 나누듯 이 책을 썼다. 이 책을 읽는 이들이 삶을 살아가는 데 필요한 지혜를 수혈받길 바란다. 그리하여 어디의 누구든 어떤 이유로든, 살아가면서 소중한 걸 포기하지 않는 세상이 되기를 꿈꾼다. 돈보다 소중한 것이 너무도 많으니까. *조선일보 기자와 데이원 편집부가 합동으로 세이노의 보유 자산을 조사하였습니다. 구체적 증거도 없이 자산 규모가 회자되는 인물들에게 종종 현혹되는 현실에 대해 검증이 필요하다는 사명감으로 조사에 임했으며, 전체 자산의 세부 구성과 납세 기록 등을 꼼꼼히 살펴보는 과정을 통해, 세이노가 최소 1천억 원 이상의 순자산 보유자라는 사실을 확인하였음을 밝힙니다.*〈세이노의 가르침〉 전자책을 무료 공개합니다. 종이책 발행일인 2023년 3월 2일에 맞추어 주요 서점에서 무료 전자책이 공개되고 데이원 블로그에서도 무료 다운로드 가능한 PDF와 epub 파일이 공개됩니다. 어떠한 암호도 걸려 있지 않은 파일이고 아무런 비용도 받지 않을 것입니다. (blog.naver.com/dayonepress)*〈세이노의 가르침〉은 저자에게 판매수익이 지급되지 않습니다. 저자는 다른 이에게 지식을 나누는 데에 있어 일체의 비용을 받지 않습니다. 사칭에 유의하세요.                    '"
      ]
     },
     "execution_count": 113,
     "metadata": {},
     "output_type": "execute_result"
    }
   ],
   "source": [
    "soup.select_one('#infoset_pubReivew :nth-child(2) > .infoWrap_txt').text.strip('\\n') #pubReview"
   ]
  }
 ],
 "metadata": {
  "kernelspec": {
   "display_name": "testenv",
   "language": "python",
   "name": "testenv"
  },
  "language_info": {
   "codemirror_mode": {
    "name": "ipython",
    "version": 3
   },
   "file_extension": ".py",
   "mimetype": "text/x-python",
   "name": "python",
   "nbconvert_exporter": "python",
   "pygments_lexer": "ipython3",
   "version": "3.8.17"
  }
 },
 "nbformat": 4,
 "nbformat_minor": 5
}
