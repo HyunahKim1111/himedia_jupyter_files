{
 "cells": [
  {
   "cell_type": "code",
   "execution_count": 53,
   "id": "b5384ed9",
   "metadata": {},
   "outputs": [],
   "source": [
    "import os\n",
    "import sys\n",
    "import urllib.request\n",
    "import json\n",
    "import pandas as pd"
   ]
  },
  {
   "cell_type": "code",
   "execution_count": 54,
   "id": "97742663",
   "metadata": {},
   "outputs": [],
   "source": [
    "url = 'http://apis.data.go.kr/1471000/KidMnuInfoService/getKidMnuInfoService'"
   ]
  },
  {
   "cell_type": "code",
   "execution_count": 55,
   "id": "63cfcece",
   "metadata": {},
   "outputs": [],
   "source": [
    "s_key = 'IO/EdnZ45auz8e6mcFKmXH/ZDn7lirSzzkWblTjoMfS331/hBMrvQ5v3KLTs6yfo1gM4Kdp0kRJaYqcRbkvt5w=='\n"
   ]
  },
  {
   "cell_type": "code",
   "execution_count": 56,
   "id": "d8ec70ca",
   "metadata": {},
   "outputs": [],
   "source": [
    "payload = dict(serviceKey = s_key, type='json')"
   ]
  },
  {
   "cell_type": "code",
   "execution_count": 57,
   "id": "f58a3704",
   "metadata": {},
   "outputs": [
    {
     "data": {
      "text/plain": [
       "{'serviceKey': 'IO/EdnZ45auz8e6mcFKmXH/ZDn7lirSzzkWblTjoMfS331/hBMrvQ5v3KLTs6yfo1gM4Kdp0kRJaYqcRbkvt5w==',\n",
       " 'type': 'json'}"
      ]
     },
     "execution_count": 57,
     "metadata": {},
     "output_type": "execute_result"
    }
   ],
   "source": [
    "payload"
   ]
  },
  {
   "cell_type": "code",
   "execution_count": 58,
   "id": "d5f25526",
   "metadata": {},
   "outputs": [],
   "source": [
    "r = requests.get(url, params=payload)"
   ]
  },
  {
   "cell_type": "code",
   "execution_count": 59,
   "id": "bfb3f975",
   "metadata": {},
   "outputs": [
    {
     "data": {
      "text/plain": [
       "<Response [200]>"
      ]
     },
     "execution_count": 59,
     "metadata": {},
     "output_type": "execute_result"
    }
   ],
   "source": [
    "r"
   ]
  },
  {
   "cell_type": "code",
   "execution_count": 60,
   "id": "16a1e531",
   "metadata": {},
   "outputs": [
    {
     "data": {
      "text/plain": [
       "{'header': {'resultCode': '00', 'resultMsg': 'NORMAL SERVICE.'},\n",
       " 'body': {'pageNo': 1,\n",
       "  'totalCount': 569,\n",
       "  'numOfRows': 10,\n",
       "  'items': [{'MEAL_CLSF_NM': '밥류',\n",
       "    'MEAL_NM': '현미밥',\n",
       "    'COOK_MTH_CONT': '① 쌀과 현미를 섞어서 불린다.<br>② 적당량의 물을 부어 밥을 짓는다.',\n",
       "    'MATRL_NM': '쌀, 멥쌀, 논벼, 백미 국내산, 일반형, 일품 55g, 쌀, 멥쌀, 논벼, 현미, 일반형 5g, ',\n",
       "    'CALORIE_QY': '209.1',\n",
       "    'CARBOH_QY': '46.0',\n",
       "    'PROTEIN_QY': '4.0',\n",
       "    'FAT_QY': '0.4',\n",
       "    'CELLU_QY': '0.7',\n",
       "    'CALCIUM_QY': '7.8',\n",
       "    'PHOSPH_QY': '50.2',\n",
       "    'FE_QY': '0.9',\n",
       "    'NATRIUM_QY': '1.2',\n",
       "    'POTASSIUM_QY': '65.5',\n",
       "    'VITAMINA_QY': '0.0',\n",
       "    'THIAMIN_QY': '0.1',\n",
       "    'RIBOFLAMIN_QY': '0.0',\n",
       "    'NIACIN_QY': '0.9',\n",
       "    'VITAMINC_QY': '0.0',\n",
       "    'MEAL_PICTR_FILE_NM': '1001.jpg'},\n",
       "   {'MEAL_CLSF_NM': '밥류',\n",
       "    'MEAL_NM': '백미밥',\n",
       "    'COOK_MTH_CONT': '① 쌀을 불린다.<br>② 적당량의 물을 부어 밥을 짓는다.',\n",
       "    'MATRL_NM': '쌀, 멥쌀, 논벼, 백미 국내산, 일반형, 일품 60g, ',\n",
       "    'CALORIE_QY': '208.8',\n",
       "    'CARBOH_QY': '46.1',\n",
       "    'PROTEIN_QY': '4.0',\n",
       "    'FAT_QY': '0.2',\n",
       "    'CELLU_QY': '0.6',\n",
       "    'CALCIUM_QY': '8.4',\n",
       "    'PHOSPH_QY': '40.2',\n",
       "    'FE_QY': '0.8',\n",
       "    'NATRIUM_QY': '1.2',\n",
       "    'POTASSIUM_QY': '61.2',\n",
       "    'VITAMINA_QY': '0.0',\n",
       "    'THIAMIN_QY': '0.1',\n",
       "    'RIBOFLAMIN_QY': '0.0',\n",
       "    'NIACIN_QY': '0.8',\n",
       "    'VITAMINC_QY': '0.0',\n",
       "    'MEAL_PICTR_FILE_NM': '1002.jpg'},\n",
       "   {'MEAL_CLSF_NM': '밥류',\n",
       "    'MEAL_NM': '보리밥',\n",
       "    'COOK_MTH_CONT': '① 쌀과 보리를 섞어서 불린다.<br>② 적당량의 물을 부어 밥을 짓는다. ',\n",
       "    'MATRL_NM': '쌀, 멥쌀, 논벼, 백미 국내산, 일반형, 일품 55g, 보리, 겉보리, 보리쌀 5g, ',\n",
       "    'CALORIE_QY': '209.2',\n",
       "    'CARBOH_QY': '46.0',\n",
       "    'PROTEIN_QY': '4.2',\n",
       "    'FAT_QY': '0.3',\n",
       "    'CELLU_QY': '1.1',\n",
       "    'CALCIUM_QY': '9.6',\n",
       "    'PHOSPH_QY': '46.5',\n",
       "    'FE_QY': '0.9',\n",
       "    'NATRIUM_QY': '1.4',\n",
       "    'POTASSIUM_QY': '65.6',\n",
       "    'VITAMINA_QY': '0.0',\n",
       "    'THIAMIN_QY': '0.1',\n",
       "    'RIBOFLAMIN_QY': '0.0',\n",
       "    'NIACIN_QY': '1.1',\n",
       "    'VITAMINC_QY': '0.0',\n",
       "    'MEAL_PICTR_FILE_NM': '1003.jpg'},\n",
       "   {'MEAL_CLSF_NM': '밥류',\n",
       "    'MEAL_NM': '흑미밥',\n",
       "    'COOK_MTH_CONT': '① 쌀과 흑미를 섞어서 불린다.<br>② 적당량의 물을 부어 밥을 짓는다.',\n",
       "    'MATRL_NM': '쌀, 멥쌀, 논벼, 백미 국내산, 일반형, 일품 55g, 쌀, 흑미, 멥쌀 5g, ',\n",
       "    'CALORIE_QY': '209.4',\n",
       "    'CARBOH_QY': '46.0',\n",
       "    'PROTEIN_QY': '4.0',\n",
       "    'FAT_QY': '0.3',\n",
       "    'CELLU_QY': '0.7',\n",
       "    'CALCIUM_QY': '8.5',\n",
       "    'PHOSPH_QY': '50.0',\n",
       "    'FE_QY': '0.8',\n",
       "    'NATRIUM_QY': '1.2',\n",
       "    'POTASSIUM_QY': '62.0',\n",
       "    'VITAMINA_QY': '0.0',\n",
       "    'THIAMIN_QY': '0.1',\n",
       "    'RIBOFLAMIN_QY': '0.0',\n",
       "    'NIACIN_QY': '1.0',\n",
       "    'VITAMINC_QY': '0.0',\n",
       "    'MEAL_PICTR_FILE_NM': '1004.jpg'},\n",
       "   {'MEAL_CLSF_NM': '밥류',\n",
       "    'MEAL_NM': '기장밥',\n",
       "    'COOK_MTH_CONT': '① 쌀과 기장을 섞어서 불린다.<br>② 적당량의 물을 부어 밥을 짓는다.',\n",
       "    'MATRL_NM': '쌀, 멥쌀, 논벼, 백미 국내산, 일반형, 일품 55g, 기장,  도정곡 5g, ',\n",
       "    'CALORIE_QY': '209.0',\n",
       "    'CARBOH_QY': '45.8',\n",
       "    'PROTEIN_QY': '4.2',\n",
       "    'FAT_QY': '0.3',\n",
       "    'CELLU_QY': '0.6',\n",
       "    'CALCIUM_QY': '8.2',\n",
       "    'PHOSPH_QY': '49.1',\n",
       "    'FE_QY': '0.8',\n",
       "    'NATRIUM_QY': '1.2',\n",
       "    'POTASSIUM_QY': '65.6',\n",
       "    'VITAMINA_QY': '0.0',\n",
       "    'THIAMIN_QY': '0.1',\n",
       "    'RIBOFLAMIN_QY': '0.0',\n",
       "    'NIACIN_QY': '0.9',\n",
       "    'VITAMINC_QY': '0.0',\n",
       "    'MEAL_PICTR_FILE_NM': '1005.jpg'},\n",
       "   {'MEAL_CLSF_NM': '밥류',\n",
       "    'MEAL_NM': '수수밥',\n",
       "    'COOK_MTH_CONT': '① 쌀과 수수를 섞어서 불린다.<br>② 적당량의 물을 부어 밥을 짓는다.',\n",
       "    'MATRL_NM': '쌀, 멥쌀, 논벼, 백미 국내산, 일반형, 일품 55g, 수수, 도정곡 5g, ',\n",
       "    'CALORIE_QY': '209.6',\n",
       "    'CARBOH_QY': '45.9',\n",
       "    'PROTEIN_QY': '4.1',\n",
       "    'FAT_QY': '0.4',\n",
       "    'CELLU_QY': '0.8',\n",
       "    'CALCIUM_QY': '8.0',\n",
       "    'PHOSPH_QY': '47.4',\n",
       "    'FE_QY': '0.8',\n",
       "    'NATRIUM_QY': '1.2',\n",
       "    'POTASSIUM_QY': '75.1',\n",
       "    'VITAMINA_QY': '0.0',\n",
       "    'THIAMIN_QY': '0.1',\n",
       "    'RIBOFLAMIN_QY': '0.0',\n",
       "    'NIACIN_QY': '0.9',\n",
       "    'VITAMINC_QY': '0.0',\n",
       "    'MEAL_PICTR_FILE_NM': '1006.jpg'},\n",
       "   {'MEAL_CLSF_NM': '밥류',\n",
       "    'MEAL_NM': '잡곡밥',\n",
       "    'COOK_MTH_CONT': '① 쌀과 찹쌀, 기장, 팥, 수수를 섞어서 불린다.<br>② 적당량의 물을 부어 밥을 짓는다.',\n",
       "    'MATRL_NM': '쌀, 멥쌀, 논벼, 백미 국내산, 일반형, 일품 35g, 쌀, 찹쌀, 백미 15g, 기장,  도정곡 3g, 팥, 검정팥 3g, 수수, 도정곡 3g, ',\n",
       "    'CALORIE_QY': '209.5',\n",
       "    'CARBOH_QY': '45.0',\n",
       "    'PROTEIN_QY': '4.7',\n",
       "    'FAT_QY': '0.4',\n",
       "    'CELLU_QY': '1.1',\n",
       "    'CALCIUM_QY': '8.3',\n",
       "    'PHOSPH_QY': '72.5',\n",
       "    'FE_QY': '1.1',\n",
       "    'NATRIUM_QY': '1.4',\n",
       "    'POTASSIUM_QY': '117.4',\n",
       "    'VITAMINA_QY': '0.0',\n",
       "    'THIAMIN_QY': '0.1',\n",
       "    'RIBOFLAMIN_QY': '0.0',\n",
       "    'NIACIN_QY': '1.0',\n",
       "    'VITAMINC_QY': '0.0',\n",
       "    'MEAL_PICTR_FILE_NM': '1007.jpg'},\n",
       "   {'MEAL_CLSF_NM': '밥류',\n",
       "    'MEAL_NM': '검정콩밥',\n",
       "    'COOK_MTH_CONT': '① 쌀과 흑태를 섞어서 불린다.<br>② 적당량의 물을 부어 밥을 짓는다.',\n",
       "    'MATRL_NM': '쌀, 멥쌀, 논벼, 백미 국내산, 일반형, 일품 55g, 대두, 검정콩, 흑태 5g, ',\n",
       "    'CALORIE_QY': '211.6',\n",
       "    'CARBOH_QY': '43.9',\n",
       "    'PROTEIN_QY': '5.4',\n",
       "    'FAT_QY': '1.0',\n",
       "    'CELLU_QY': '1.4',\n",
       "    'CALCIUM_QY': '14.8',\n",
       "    'PHOSPH_QY': '62.6',\n",
       "    'FE_QY': '1.1',\n",
       "    'NATRIUM_QY': '1.4',\n",
       "    'POTASSIUM_QY': '118.0',\n",
       "    'VITAMINA_QY': '0.0',\n",
       "    'THIAMIN_QY': '0.1',\n",
       "    'RIBOFLAMIN_QY': '0.0',\n",
       "    'NIACIN_QY': '0.9',\n",
       "    'VITAMINC_QY': '0.0',\n",
       "    'MEAL_PICTR_FILE_NM': '1008.jpg'},\n",
       "   {'MEAL_CLSF_NM': '밥류',\n",
       "    'MEAL_NM': '차조밥',\n",
       "    'COOK_MTH_CONT': '① 쌀과 차조를 섞어서 불린다.<br>② 적당량의 물을 부어 밥을 짓는다.',\n",
       "    'MATRL_NM': '쌀, 멥쌀, 논벼, 백미 국내산, 일반형, 일품 55g, 차조 5g, ',\n",
       "    'CALORIE_QY': '209.6',\n",
       "    'CARBOH_QY': '45.9',\n",
       "    'PROTEIN_QY': '4.1',\n",
       "    'FAT_QY': '0.4',\n",
       "    'CELLU_QY': '0.6',\n",
       "    'CALCIUM_QY': '8.6',\n",
       "    'PHOSPH_QY': '51.9',\n",
       "    'FE_QY': '0.9',\n",
       "    'NATRIUM_QY': '1.4',\n",
       "    'POTASSIUM_QY': '72.6',\n",
       "    'VITAMINA_QY': '0.0',\n",
       "    'THIAMIN_QY': '0.1',\n",
       "    'RIBOFLAMIN_QY': '0.0',\n",
       "    'NIACIN_QY': '1.0',\n",
       "    'VITAMINC_QY': '0.0',\n",
       "    'MEAL_PICTR_FILE_NM': '1009.jpg'},\n",
       "   {'MEAL_CLSF_NM': '밥류',\n",
       "    'MEAL_NM': '자장밥',\n",
       "    'COOK_MTH_CONT': '① 재료들을 적당한 크기로 썬다.<br>② 돼지고기와 야채를 볶는다.<br>③ 자장소스를 넣고 볶은 후 물을 부어 끓인다.<br>④ 전분과 물을 1:1 비율로 섞어 넣는다.<br>⑤ 설탕으로 간을 하고 적당한 농도가 날 때까지 끓인다.',\n",
       "    'MATRL_NM': '쌀, 멥쌀, 논벼, 백미 국내산, 일반형, 일품 50g, 감자, 생것 20g, 전분, 감자녹말 1.5g, 설탕, 백설탕 1.5g, 양배추, 생것 15g, 양파, 생것, 국내산 13g, 호박, 개량종, 생것 12g, 돼지고기, 사태, 날것 5g, 콩기름 1g, 짜장, 레토르트 18g, ',\n",
       "    'CALORIE_QY': '249.3',\n",
       "    'CARBOH_QY': '48.2',\n",
       "    'PROTEIN_QY': '6.1',\n",
       "    'FAT_QY': '3.2',\n",
       "    'CELLU_QY': '1.9',\n",
       "    'CALCIUM_QY': '25.0',\n",
       "    'PHOSPH_QY': '79.2',\n",
       "    'FE_QY': '1.2',\n",
       "    'NATRIUM_QY': '99.7',\n",
       "    'POTASSIUM_QY': '275.3',\n",
       "    'VITAMINA_QY': '11.0',\n",
       "    'THIAMIN_QY': '0.1',\n",
       "    'RIBOFLAMIN_QY': '0.1',\n",
       "    'NIACIN_QY': '1.4',\n",
       "    'VITAMINC_QY': '10.6',\n",
       "    'MEAL_PICTR_FILE_NM': '1010.jpg'}]}}"
      ]
     },
     "execution_count": 60,
     "metadata": {},
     "output_type": "execute_result"
    }
   ],
   "source": [
    "r.json()"
   ]
  },
  {
   "cell_type": "code",
   "execution_count": null,
   "id": "c2f20aae",
   "metadata": {},
   "outputs": [],
   "source": []
  },
  {
   "cell_type": "code",
   "execution_count": null,
   "id": "279f2e8a",
   "metadata": {},
   "outputs": [],
   "source": []
  }
 ],
 "metadata": {
  "kernelspec": {
   "display_name": "testenv",
   "language": "python",
   "name": "testenv"
  },
  "language_info": {
   "codemirror_mode": {
    "name": "ipython",
    "version": 3
   },
   "file_extension": ".py",
   "mimetype": "text/x-python",
   "name": "python",
   "nbconvert_exporter": "python",
   "pygments_lexer": "ipython3",
   "version": "3.8.17"
  }
 },
 "nbformat": 4,
 "nbformat_minor": 5
}
