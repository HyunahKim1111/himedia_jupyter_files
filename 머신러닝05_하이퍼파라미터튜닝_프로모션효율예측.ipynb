{
 "cells": [
  {
   "cell_type": "markdown",
   "id": "45783e93",
   "metadata": {},
   "source": [
    "# 쇼핑몰 프로모션 효율 예측 분석"
   ]
  },
  {
   "cell_type": "code",
   "execution_count": 3,
   "id": "f260725f",
   "metadata": {},
   "outputs": [],
   "source": [
    "import pandas as pd\n",
    "import numpy as np\n",
    "import matplotlib as plt\n",
    "import seaborn as sns\n",
    "import koreanize_matplotlib"
   ]
  },
  {
   "cell_type": "code",
   "execution_count": 4,
   "id": "7705ac02",
   "metadata": {},
   "outputs": [],
   "source": [
    "mem = pd.read_csv(\"https://raw.githubusercontent.com/haram4th/ablearn/main/member.csv\")\n",
    "tran = pd.read_csv(\"https://raw.githubusercontent.com/haram4th/ablearn/main/transaction.csv\")"
   ]
  },
  {
   "cell_type": "markdown",
   "id": "a730e197",
   "metadata": {},
   "source": [
    "* 쇼핑몰 고객 데이터, 프로모션 쿠폰을 발행하고 사용 여부 데이터를 수집\n",
    "* mem: 고객id, 최근 방문일(recency), 사는지역(zip_code), 추천여부(is_referral), 주요접속채널(channel), 쿠폰 사용 여부(conversion)\n",
    "* tran: 고객id, 구매수량(num_item), 총 구매금액 정보(total_amount)가 있음.\n",
    "* 전통적 마케팅 분석 방법인 RFM기법을 사용해 고객 데이터에서 파생변수 생성 후 분석\n",
    "* Recency: 현재일 - 최근 구매일\n",
    "* Frequency: 구매 빈도\n",
    "* Monetary: 구매 금액"
   ]
  },
  {
   "cell_type": "code",
   "execution_count": 5,
   "id": "de3b9000",
   "metadata": {},
   "outputs": [
    {
     "name": "stdout",
     "output_type": "stream",
     "text": [
      "<class 'pandas.core.frame.DataFrame'>\n",
      "RangeIndex: 64000 entries, 0 to 63999\n",
      "Data columns (total 6 columns):\n",
      " #   Column       Non-Null Count  Dtype \n",
      "---  ------       --------------  ----- \n",
      " 0   id           64000 non-null  int64 \n",
      " 1   recency      64000 non-null  int64 \n",
      " 2   zip_code     64000 non-null  object\n",
      " 3   is_referral  64000 non-null  int64 \n",
      " 4   channel      64000 non-null  object\n",
      " 5   conversion   64000 non-null  int64 \n",
      "dtypes: int64(4), object(2)\n",
      "memory usage: 2.9+ MB\n"
     ]
    }
   ],
   "source": [
    "mem.info()"
   ]
  },
  {
   "cell_type": "code",
   "execution_count": 6,
   "id": "24fa47a3",
   "metadata": {},
   "outputs": [
    {
     "name": "stdout",
     "output_type": "stream",
     "text": [
      "<class 'pandas.core.frame.DataFrame'>\n",
      "RangeIndex: 196836 entries, 0 to 196835\n",
      "Data columns (total 3 columns):\n",
      " #   Column        Non-Null Count   Dtype\n",
      "---  ------        --------------   -----\n",
      " 0   id            196836 non-null  int64\n",
      " 1   num_item      196836 non-null  int64\n",
      " 2   total_amount  196836 non-null  int64\n",
      "dtypes: int64(3)\n",
      "memory usage: 4.5 MB\n"
     ]
    }
   ],
   "source": [
    "tran.info()"
   ]
  },
  {
   "cell_type": "code",
   "execution_count": 7,
   "id": "912f284e",
   "metadata": {
    "scrolled": true
   },
   "outputs": [
    {
     "data": {
      "text/plain": [
       "id      recency  zip_code   is_referral  channel       conversion\n",
       "100001  6        Urban      1            Phone         0             1\n",
       "700201  5        Urban      0            Multichannel  0             1\n",
       "699949  1        Urban      0            Multichannel  0             1\n",
       "699958  6        Surburban  1            Phone         0             1\n",
       "699971  3        Surburban  1            Phone         1             1\n",
       "                                                                    ..\n",
       "400704  12       Surburban  0            Web           0             1\n",
       "400724  6        Surburban  0            Phone         0             1\n",
       "400752  11       Surburban  0            Phone         1             1\n",
       "400770  2        Surburban  1            Phone         0             1\n",
       "999997  4        Surburban  0            Multichannel  0             1\n",
       "Name: count, Length: 64000, dtype: int64"
      ]
     },
     "execution_count": 7,
     "metadata": {},
     "output_type": "execute_result"
    }
   ],
   "source": [
    "mem.value_counts()"
   ]
  },
  {
   "cell_type": "code",
   "execution_count": 8,
   "id": "6051a83d",
   "metadata": {},
   "outputs": [
    {
     "data": {
      "text/plain": [
       "<Axes: >"
      ]
     },
     "execution_count": 8,
     "metadata": {},
     "output_type": "execute_result"
    },
    {
     "data": {
      "image/png": "[encoded data removed]",
      "text/plain": [
       "<Figure size 640x480 with 1 Axes>"
      ]
     },
     "metadata": {},
     "output_type": "display_data"
    }
   ],
   "source": [
    "mem['recency'].plot(kind='box')"
   ]
  },
  {
   "cell_type": "code",
   "execution_count": 9,
   "id": "e0d0487e",
   "metadata": {},
   "outputs": [
    {
     "data": {
      "text/plain": [
       "id      num_item  total_amount\n",
       "362633  2         25000           3\n",
       "388503  1         16000           3\n",
       "837062  1         29000           3\n",
       "776672  1         23000           3\n",
       "138844  4         17000           3\n",
       "                                 ..\n",
       "401475  2         16000           1\n",
       "                  24000           1\n",
       "        3         11000           1\n",
       "                  22000           1\n",
       "999997  2         13000           1\n",
       "Name: count, Length: 194954, dtype: int64"
      ]
     },
     "execution_count": 9,
     "metadata": {},
     "output_type": "execute_result"
    }
   ],
   "source": [
    "tran.value_counts()"
   ]
  },
  {
   "cell_type": "code",
   "execution_count": 10,
   "id": "42bf78d5",
   "metadata": {},
   "outputs": [
    {
     "data": {
      "text/plain": [
       "<Axes: >"
      ]
     },
     "execution_count": 10,
     "metadata": {},
     "output_type": "execute_result"
    },
    {
     "data": {
      "image/png": "[encoded data removed]",
      "text/plain": [
       "<Figure size 640x480 with 1 Axes>"
      ]
     },
     "metadata": {},
     "output_type": "display_data"
    }
   ],
   "source": [
    "tran['num_item'].plot(kind='box')"
   ]
  },
  {
   "cell_type": "markdown",
   "id": "0070a706",
   "metadata": {},
   "source": [
    "* 쇼핑몰 고객 데이터, 프로모션 쿠폰을 발행하고 사용 여부 데이터를 수집\n",
    "* mem: 고객id, 최근 방문일(recency), 사는지역(zip_code), 추천여부(is_referral), 주요접속채널(channel), 쿠폰 사용 여부(conversion)\n",
    "* tran: 고객id, 구매수량(num_item), 총 구매금액 정보(total_amount)가 있음.\n",
    "* 전통적 마케팅 분석 방법인 RFM기법을 사용해 고객 데이터에서 파생변수 생성 후 분석\n",
    "* Recency: 현재일 - 최근 구매일\n",
    "* Frequency: 구매 빈도\n",
    "* Monetary: 구매 금액"
   ]
  },
  {
   "cell_type": "code",
   "execution_count": 11,
   "id": "be511303",
   "metadata": {},
   "outputs": [],
   "source": [
    "# data = pd.merge(mem,tran, how=\"left\", on=\"id\")"
   ]
  },
  {
   "cell_type": "markdown",
   "id": "0bbf6851",
   "metadata": {},
   "source": [
    "* id별로 고객이 구매한 전체 아이템의 개수와 총 금액을 구해보자."
   ]
  },
  {
   "cell_type": "code",
   "execution_count": 12,
   "id": "4ddfcd7e",
   "metadata": {},
   "outputs": [],
   "source": [
    "tran_total = tran.groupby('id')[['num_item','total_amount']].sum()"
   ]
  },
  {
   "cell_type": "code",
   "execution_count": 13,
   "id": "c2fb9113",
   "metadata": {},
   "outputs": [
    {
     "data": {
      "text/html": [
       "<div>\n",
       "<style scoped>\n",
       "    .dataframe tbody tr th:only-of-type {\n",
       "        vertical-align: middle;\n",
       "    }\n",
       "\n",
       "    .dataframe tbody tr th {\n",
       "        vertical-align: top;\n",
       "    }\n",
       "\n",
       "    .dataframe thead th {\n",
       "        text-align: right;\n",
       "    }\n",
       "</style>\n",
       "<table border=\"1\" class=\"dataframe\">\n",
       "  <thead>\n",
       "    <tr style=\"text-align: right;\">\n",
       "      <th></th>\n",
       "      <th>num_item</th>\n",
       "      <th>total_amount</th>\n",
       "    </tr>\n",
       "    <tr>\n",
       "      <th>id</th>\n",
       "      <th></th>\n",
       "      <th></th>\n",
       "    </tr>\n",
       "  </thead>\n",
       "  <tbody>\n",
       "    <tr>\n",
       "      <th>100001</th>\n",
       "      <td>7</td>\n",
       "      <td>52000</td>\n",
       "    </tr>\n",
       "    <tr>\n",
       "      <th>100008</th>\n",
       "      <td>5</td>\n",
       "      <td>26000</td>\n",
       "    </tr>\n",
       "    <tr>\n",
       "      <th>100032</th>\n",
       "      <td>8</td>\n",
       "      <td>62000</td>\n",
       "    </tr>\n",
       "    <tr>\n",
       "      <th>100036</th>\n",
       "      <td>15</td>\n",
       "      <td>129000</td>\n",
       "    </tr>\n",
       "    <tr>\n",
       "      <th>100070</th>\n",
       "      <td>13</td>\n",
       "      <td>85000</td>\n",
       "    </tr>\n",
       "    <tr>\n",
       "      <th>...</th>\n",
       "      <td>...</td>\n",
       "      <td>...</td>\n",
       "    </tr>\n",
       "    <tr>\n",
       "      <th>999932</th>\n",
       "      <td>5</td>\n",
       "      <td>32000</td>\n",
       "    </tr>\n",
       "    <tr>\n",
       "      <th>999981</th>\n",
       "      <td>8</td>\n",
       "      <td>91000</td>\n",
       "    </tr>\n",
       "    <tr>\n",
       "      <th>999990</th>\n",
       "      <td>9</td>\n",
       "      <td>84000</td>\n",
       "    </tr>\n",
       "    <tr>\n",
       "      <th>999995</th>\n",
       "      <td>2</td>\n",
       "      <td>27000</td>\n",
       "    </tr>\n",
       "    <tr>\n",
       "      <th>999997</th>\n",
       "      <td>2</td>\n",
       "      <td>13000</td>\n",
       "    </tr>\n",
       "  </tbody>\n",
       "</table>\n",
       "<p>64000 rows × 2 columns</p>\n",
       "</div>"
      ],
      "text/plain": [
       "        num_item  total_amount\n",
       "id                            \n",
       "100001         7         52000\n",
       "100008         5         26000\n",
       "100032         8         62000\n",
       "100036        15        129000\n",
       "100070        13         85000\n",
       "...          ...           ...\n",
       "999932         5         32000\n",
       "999981         8         91000\n",
       "999990         9         84000\n",
       "999995         2         27000\n",
       "999997         2         13000\n",
       "\n",
       "[64000 rows x 2 columns]"
      ]
     },
     "execution_count": 13,
     "metadata": {},
     "output_type": "execute_result"
    }
   ],
   "source": [
    "tran_total"
   ]
  },
  {
   "cell_type": "code",
   "execution_count": 14,
   "id": "98e5308a",
   "metadata": {},
   "outputs": [
    {
     "data": {
      "text/html": [
       "<div>\n",
       "<style scoped>\n",
       "    .dataframe tbody tr th:only-of-type {\n",
       "        vertical-align: middle;\n",
       "    }\n",
       "\n",
       "    .dataframe tbody tr th {\n",
       "        vertical-align: top;\n",
       "    }\n",
       "\n",
       "    .dataframe thead th {\n",
       "        text-align: right;\n",
       "    }\n",
       "</style>\n",
       "<table border=\"1\" class=\"dataframe\">\n",
       "  <thead>\n",
       "    <tr style=\"text-align: right;\">\n",
       "      <th></th>\n",
       "      <th>num_item</th>\n",
       "      <th>total_amount</th>\n",
       "    </tr>\n",
       "  </thead>\n",
       "  <tbody>\n",
       "    <tr>\n",
       "      <th>count</th>\n",
       "      <td>64000.000000</td>\n",
       "      <td>64000.000000</td>\n",
       "    </tr>\n",
       "    <tr>\n",
       "      <th>mean</th>\n",
       "      <td>9.467703</td>\n",
       "      <td>67161.375000</td>\n",
       "    </tr>\n",
       "    <tr>\n",
       "      <th>std</th>\n",
       "      <td>5.037690</td>\n",
       "      <td>33653.059354</td>\n",
       "    </tr>\n",
       "    <tr>\n",
       "      <th>min</th>\n",
       "      <td>1.000000</td>\n",
       "      <td>8000.000000</td>\n",
       "    </tr>\n",
       "    <tr>\n",
       "      <th>25%</th>\n",
       "      <td>5.000000</td>\n",
       "      <td>39000.000000</td>\n",
       "    </tr>\n",
       "    <tr>\n",
       "      <th>50%</th>\n",
       "      <td>9.000000</td>\n",
       "      <td>66000.000000</td>\n",
       "    </tr>\n",
       "    <tr>\n",
       "      <th>75%</th>\n",
       "      <td>13.000000</td>\n",
       "      <td>93000.000000</td>\n",
       "    </tr>\n",
       "    <tr>\n",
       "      <th>max</th>\n",
       "      <td>28.000000</td>\n",
       "      <td>184000.000000</td>\n",
       "    </tr>\n",
       "  </tbody>\n",
       "</table>\n",
       "</div>"
      ],
      "text/plain": [
       "           num_item   total_amount\n",
       "count  64000.000000   64000.000000\n",
       "mean       9.467703   67161.375000\n",
       "std        5.037690   33653.059354\n",
       "min        1.000000    8000.000000\n",
       "25%        5.000000   39000.000000\n",
       "50%        9.000000   66000.000000\n",
       "75%       13.000000   93000.000000\n",
       "max       28.000000  184000.000000"
      ]
     },
     "execution_count": 14,
     "metadata": {},
     "output_type": "execute_result"
    }
   ],
   "source": [
    "tran_total.describe()"
   ]
  },
  {
   "cell_type": "code",
   "execution_count": 15,
   "id": "682fc034",
   "metadata": {},
   "outputs": [],
   "source": [
    "tran_total['mean_amount'] = tran_total['total_amount'] // tran_total['num_item'] # // 몫만 구하자"
   ]
  },
  {
   "cell_type": "code",
   "execution_count": 16,
   "id": "6731bbed",
   "metadata": {
    "scrolled": true
   },
   "outputs": [
    {
     "data": {
      "text/plain": [
       "id\n",
       "100001     7428\n",
       "100008     5200\n",
       "100032     7750\n",
       "100036     8600\n",
       "100070     6538\n",
       "          ...  \n",
       "999932     6400\n",
       "999981    11375\n",
       "999990     9333\n",
       "999995    13500\n",
       "999997     6500\n",
       "Name: mean_amount, Length: 64000, dtype: int64"
      ]
     },
     "execution_count": 16,
     "metadata": {},
     "output_type": "execute_result"
    }
   ],
   "source": [
    "tran_total['mean_amount'] # 고객별 구매 평균"
   ]
  },
  {
   "cell_type": "markdown",
   "id": "077c8caf",
   "metadata": {},
   "source": [
    "* 고객이 얼마나 자주 구매했는지 구매빈도를 구해보자."
   ]
  },
  {
   "cell_type": "code",
   "execution_count": 17,
   "id": "3c883884",
   "metadata": {},
   "outputs": [],
   "source": [
    "frequency = tran['id'].value_counts()"
   ]
  },
  {
   "cell_type": "code",
   "execution_count": 18,
   "id": "ce5cc3f0",
   "metadata": {},
   "outputs": [
    {
     "name": "stdout",
     "output_type": "stream",
     "text": [
      "<class 'pandas.core.series.Series'>\n"
     ]
    }
   ],
   "source": [
    "print(type(frequency))"
   ]
  },
  {
   "cell_type": "code",
   "execution_count": 19,
   "id": "f9fa0704",
   "metadata": {},
   "outputs": [],
   "source": [
    "frequency = pd.DataFrame(frequency)"
   ]
  },
  {
   "cell_type": "code",
   "execution_count": 20,
   "id": "978080d3",
   "metadata": {},
   "outputs": [
    {
     "data": {
      "text/html": [
       "<div>\n",
       "<style scoped>\n",
       "    .dataframe tbody tr th:only-of-type {\n",
       "        vertical-align: middle;\n",
       "    }\n",
       "\n",
       "    .dataframe tbody tr th {\n",
       "        vertical-align: top;\n",
       "    }\n",
       "\n",
       "    .dataframe thead th {\n",
       "        text-align: right;\n",
       "    }\n",
       "</style>\n",
       "<table border=\"1\" class=\"dataframe\">\n",
       "  <thead>\n",
       "    <tr style=\"text-align: right;\">\n",
       "      <th></th>\n",
       "      <th>count</th>\n",
       "    </tr>\n",
       "    <tr>\n",
       "      <th>id</th>\n",
       "      <th></th>\n",
       "    </tr>\n",
       "  </thead>\n",
       "  <tbody>\n",
       "    <tr>\n",
       "      <th>691067</th>\n",
       "      <td>5</td>\n",
       "    </tr>\n",
       "    <tr>\n",
       "      <th>720147</th>\n",
       "      <td>5</td>\n",
       "    </tr>\n",
       "    <tr>\n",
       "      <th>422265</th>\n",
       "      <td>5</td>\n",
       "    </tr>\n",
       "    <tr>\n",
       "      <th>670720</th>\n",
       "      <td>5</td>\n",
       "    </tr>\n",
       "    <tr>\n",
       "      <th>154620</th>\n",
       "      <td>5</td>\n",
       "    </tr>\n",
       "    <tr>\n",
       "      <th>...</th>\n",
       "      <td>...</td>\n",
       "    </tr>\n",
       "    <tr>\n",
       "      <th>881780</th>\n",
       "      <td>1</td>\n",
       "    </tr>\n",
       "    <tr>\n",
       "      <th>154471</th>\n",
       "      <td>1</td>\n",
       "    </tr>\n",
       "    <tr>\n",
       "      <th>480462</th>\n",
       "      <td>1</td>\n",
       "    </tr>\n",
       "    <tr>\n",
       "      <th>126129</th>\n",
       "      <td>1</td>\n",
       "    </tr>\n",
       "    <tr>\n",
       "      <th>156423</th>\n",
       "      <td>1</td>\n",
       "    </tr>\n",
       "  </tbody>\n",
       "</table>\n",
       "<p>64000 rows × 1 columns</p>\n",
       "</div>"
      ],
      "text/plain": [
       "        count\n",
       "id           \n",
       "691067      5\n",
       "720147      5\n",
       "422265      5\n",
       "670720      5\n",
       "154620      5\n",
       "...       ...\n",
       "881780      1\n",
       "154471      1\n",
       "480462      1\n",
       "126129      1\n",
       "156423      1\n",
       "\n",
       "[64000 rows x 1 columns]"
      ]
     },
     "execution_count": 20,
     "metadata": {},
     "output_type": "execute_result"
    }
   ],
   "source": [
    "frequency"
   ]
  },
  {
   "cell_type": "markdown",
   "id": "762ca8ac",
   "metadata": {},
   "source": [
    "* frequency를 tran_total이랑 합치자"
   ]
  },
  {
   "cell_type": "code",
   "execution_count": 21,
   "id": "f9cb2aa1",
   "metadata": {},
   "outputs": [],
   "source": [
    "tran_total = tran_total.join(frequency, on='id')"
   ]
  },
  {
   "cell_type": "code",
   "execution_count": 22,
   "id": "b781b30f",
   "metadata": {},
   "outputs": [
    {
     "data": {
      "text/html": [
       "<div>\n",
       "<style scoped>\n",
       "    .dataframe tbody tr th:only-of-type {\n",
       "        vertical-align: middle;\n",
       "    }\n",
       "\n",
       "    .dataframe tbody tr th {\n",
       "        vertical-align: top;\n",
       "    }\n",
       "\n",
       "    .dataframe thead th {\n",
       "        text-align: right;\n",
       "    }\n",
       "</style>\n",
       "<table border=\"1\" class=\"dataframe\">\n",
       "  <thead>\n",
       "    <tr style=\"text-align: right;\">\n",
       "      <th></th>\n",
       "      <th>num_item</th>\n",
       "      <th>total_amount</th>\n",
       "      <th>mean_amount</th>\n",
       "      <th>count</th>\n",
       "    </tr>\n",
       "    <tr>\n",
       "      <th>id</th>\n",
       "      <th></th>\n",
       "      <th></th>\n",
       "      <th></th>\n",
       "      <th></th>\n",
       "    </tr>\n",
       "  </thead>\n",
       "  <tbody>\n",
       "    <tr>\n",
       "      <th>100001</th>\n",
       "      <td>7</td>\n",
       "      <td>52000</td>\n",
       "      <td>7428</td>\n",
       "      <td>2</td>\n",
       "    </tr>\n",
       "    <tr>\n",
       "      <th>100008</th>\n",
       "      <td>5</td>\n",
       "      <td>26000</td>\n",
       "      <td>5200</td>\n",
       "      <td>1</td>\n",
       "    </tr>\n",
       "    <tr>\n",
       "      <th>100032</th>\n",
       "      <td>8</td>\n",
       "      <td>62000</td>\n",
       "      <td>7750</td>\n",
       "      <td>3</td>\n",
       "    </tr>\n",
       "    <tr>\n",
       "      <th>100036</th>\n",
       "      <td>15</td>\n",
       "      <td>129000</td>\n",
       "      <td>8600</td>\n",
       "      <td>5</td>\n",
       "    </tr>\n",
       "    <tr>\n",
       "      <th>100070</th>\n",
       "      <td>13</td>\n",
       "      <td>85000</td>\n",
       "      <td>6538</td>\n",
       "      <td>4</td>\n",
       "    </tr>\n",
       "    <tr>\n",
       "      <th>...</th>\n",
       "      <td>...</td>\n",
       "      <td>...</td>\n",
       "      <td>...</td>\n",
       "      <td>...</td>\n",
       "    </tr>\n",
       "    <tr>\n",
       "      <th>999932</th>\n",
       "      <td>5</td>\n",
       "      <td>32000</td>\n",
       "      <td>6400</td>\n",
       "      <td>1</td>\n",
       "    </tr>\n",
       "    <tr>\n",
       "      <th>999981</th>\n",
       "      <td>8</td>\n",
       "      <td>91000</td>\n",
       "      <td>11375</td>\n",
       "      <td>4</td>\n",
       "    </tr>\n",
       "    <tr>\n",
       "      <th>999990</th>\n",
       "      <td>9</td>\n",
       "      <td>84000</td>\n",
       "      <td>9333</td>\n",
       "      <td>3</td>\n",
       "    </tr>\n",
       "    <tr>\n",
       "      <th>999995</th>\n",
       "      <td>2</td>\n",
       "      <td>27000</td>\n",
       "      <td>13500</td>\n",
       "      <td>1</td>\n",
       "    </tr>\n",
       "    <tr>\n",
       "      <th>999997</th>\n",
       "      <td>2</td>\n",
       "      <td>13000</td>\n",
       "      <td>6500</td>\n",
       "      <td>1</td>\n",
       "    </tr>\n",
       "  </tbody>\n",
       "</table>\n",
       "<p>64000 rows × 4 columns</p>\n",
       "</div>"
      ],
      "text/plain": [
       "        num_item  total_amount  mean_amount  count\n",
       "id                                                \n",
       "100001         7         52000         7428      2\n",
       "100008         5         26000         5200      1\n",
       "100032         8         62000         7750      3\n",
       "100036        15        129000         8600      5\n",
       "100070        13         85000         6538      4\n",
       "...          ...           ...          ...    ...\n",
       "999932         5         32000         6400      1\n",
       "999981         8         91000        11375      4\n",
       "999990         9         84000         9333      3\n",
       "999995         2         27000        13500      1\n",
       "999997         2         13000         6500      1\n",
       "\n",
       "[64000 rows x 4 columns]"
      ]
     },
     "execution_count": 22,
     "metadata": {},
     "output_type": "execute_result"
    }
   ],
   "source": [
    "tran_total"
   ]
  },
  {
   "cell_type": "markdown",
   "id": "9b201993",
   "metadata": {},
   "source": [
    "rename해서 count를 frequency 로 바꾸자"
   ]
  },
  {
   "cell_type": "code",
   "execution_count": 23,
   "id": "73bbcb53",
   "metadata": {},
   "outputs": [],
   "source": [
    "tran_total = tran_total.rename(columns={'count':'frequency'})"
   ]
  },
  {
   "cell_type": "code",
   "execution_count": 24,
   "id": "e56837fd",
   "metadata": {},
   "outputs": [],
   "source": [
    "data = pd.merge(mem, tran_total, how='inner', on='id')"
   ]
  },
  {
   "cell_type": "code",
   "execution_count": 25,
   "id": "010e8f77",
   "metadata": {
    "scrolled": true
   },
   "outputs": [
    {
     "data": {
      "text/html": [
       "<div>\n",
       "<style scoped>\n",
       "    .dataframe tbody tr th:only-of-type {\n",
       "        vertical-align: middle;\n",
       "    }\n",
       "\n",
       "    .dataframe tbody tr th {\n",
       "        vertical-align: top;\n",
       "    }\n",
       "\n",
       "    .dataframe thead th {\n",
       "        text-align: right;\n",
       "    }\n",
       "</style>\n",
       "<table border=\"1\" class=\"dataframe\">\n",
       "  <thead>\n",
       "    <tr style=\"text-align: right;\">\n",
       "      <th></th>\n",
       "      <th>id</th>\n",
       "      <th>recency</th>\n",
       "      <th>zip_code</th>\n",
       "      <th>is_referral</th>\n",
       "      <th>channel</th>\n",
       "      <th>conversion</th>\n",
       "      <th>num_item</th>\n",
       "      <th>total_amount</th>\n",
       "      <th>mean_amount</th>\n",
       "      <th>frequency</th>\n",
       "    </tr>\n",
       "  </thead>\n",
       "  <tbody>\n",
       "    <tr>\n",
       "      <th>0</th>\n",
       "      <td>906145</td>\n",
       "      <td>10</td>\n",
       "      <td>Surburban</td>\n",
       "      <td>0</td>\n",
       "      <td>Phone</td>\n",
       "      <td>0</td>\n",
       "      <td>10</td>\n",
       "      <td>94000</td>\n",
       "      <td>9400</td>\n",
       "      <td>3</td>\n",
       "    </tr>\n",
       "    <tr>\n",
       "      <th>1</th>\n",
       "      <td>184478</td>\n",
       "      <td>6</td>\n",
       "      <td>Rural</td>\n",
       "      <td>1</td>\n",
       "      <td>Web</td>\n",
       "      <td>0</td>\n",
       "      <td>4</td>\n",
       "      <td>29000</td>\n",
       "      <td>7250</td>\n",
       "      <td>1</td>\n",
       "    </tr>\n",
       "    <tr>\n",
       "      <th>2</th>\n",
       "      <td>394235</td>\n",
       "      <td>7</td>\n",
       "      <td>Surburban</td>\n",
       "      <td>1</td>\n",
       "      <td>Web</td>\n",
       "      <td>0</td>\n",
       "      <td>8</td>\n",
       "      <td>41000</td>\n",
       "      <td>5125</td>\n",
       "      <td>2</td>\n",
       "    </tr>\n",
       "    <tr>\n",
       "      <th>3</th>\n",
       "      <td>130152</td>\n",
       "      <td>9</td>\n",
       "      <td>Rural</td>\n",
       "      <td>1</td>\n",
       "      <td>Web</td>\n",
       "      <td>0</td>\n",
       "      <td>7</td>\n",
       "      <td>83000</td>\n",
       "      <td>11857</td>\n",
       "      <td>4</td>\n",
       "    </tr>\n",
       "    <tr>\n",
       "      <th>4</th>\n",
       "      <td>940352</td>\n",
       "      <td>2</td>\n",
       "      <td>Urban</td>\n",
       "      <td>0</td>\n",
       "      <td>Web</td>\n",
       "      <td>0</td>\n",
       "      <td>3</td>\n",
       "      <td>31000</td>\n",
       "      <td>10333</td>\n",
       "      <td>1</td>\n",
       "    </tr>\n",
       "    <tr>\n",
       "      <th>...</th>\n",
       "      <td>...</td>\n",
       "      <td>...</td>\n",
       "      <td>...</td>\n",
       "      <td>...</td>\n",
       "      <td>...</td>\n",
       "      <td>...</td>\n",
       "      <td>...</td>\n",
       "      <td>...</td>\n",
       "      <td>...</td>\n",
       "      <td>...</td>\n",
       "    </tr>\n",
       "    <tr>\n",
       "      <th>63995</th>\n",
       "      <td>838295</td>\n",
       "      <td>10</td>\n",
       "      <td>Urban</td>\n",
       "      <td>0</td>\n",
       "      <td>Web</td>\n",
       "      <td>0</td>\n",
       "      <td>14</td>\n",
       "      <td>104000</td>\n",
       "      <td>7428</td>\n",
       "      <td>4</td>\n",
       "    </tr>\n",
       "    <tr>\n",
       "      <th>63996</th>\n",
       "      <td>547316</td>\n",
       "      <td>5</td>\n",
       "      <td>Urban</td>\n",
       "      <td>1</td>\n",
       "      <td>Phone</td>\n",
       "      <td>0</td>\n",
       "      <td>9</td>\n",
       "      <td>89000</td>\n",
       "      <td>9888</td>\n",
       "      <td>5</td>\n",
       "    </tr>\n",
       "    <tr>\n",
       "      <th>63997</th>\n",
       "      <td>131575</td>\n",
       "      <td>6</td>\n",
       "      <td>Urban</td>\n",
       "      <td>1</td>\n",
       "      <td>Phone</td>\n",
       "      <td>0</td>\n",
       "      <td>8</td>\n",
       "      <td>61000</td>\n",
       "      <td>7625</td>\n",
       "      <td>2</td>\n",
       "    </tr>\n",
       "    <tr>\n",
       "      <th>63998</th>\n",
       "      <td>603659</td>\n",
       "      <td>1</td>\n",
       "      <td>Surburban</td>\n",
       "      <td>1</td>\n",
       "      <td>Multichannel</td>\n",
       "      <td>0</td>\n",
       "      <td>16</td>\n",
       "      <td>108000</td>\n",
       "      <td>6750</td>\n",
       "      <td>5</td>\n",
       "    </tr>\n",
       "    <tr>\n",
       "      <th>63999</th>\n",
       "      <td>254229</td>\n",
       "      <td>1</td>\n",
       "      <td>Surburban</td>\n",
       "      <td>0</td>\n",
       "      <td>Web</td>\n",
       "      <td>0</td>\n",
       "      <td>17</td>\n",
       "      <td>122000</td>\n",
       "      <td>7176</td>\n",
       "      <td>5</td>\n",
       "    </tr>\n",
       "  </tbody>\n",
       "</table>\n",
       "<p>64000 rows × 10 columns</p>\n",
       "</div>"
      ],
      "text/plain": [
       "           id  recency   zip_code  is_referral       channel  conversion  \\\n",
       "0      906145       10  Surburban            0         Phone           0   \n",
       "1      184478        6      Rural            1           Web           0   \n",
       "2      394235        7  Surburban            1           Web           0   \n",
       "3      130152        9      Rural            1           Web           0   \n",
       "4      940352        2      Urban            0           Web           0   \n",
       "...       ...      ...        ...          ...           ...         ...   \n",
       "63995  838295       10      Urban            0           Web           0   \n",
       "63996  547316        5      Urban            1         Phone           0   \n",
       "63997  131575        6      Urban            1         Phone           0   \n",
       "63998  603659        1  Surburban            1  Multichannel           0   \n",
       "63999  254229        1  Surburban            0           Web           0   \n",
       "\n",
       "       num_item  total_amount  mean_amount  frequency  \n",
       "0            10         94000         9400          3  \n",
       "1             4         29000         7250          1  \n",
       "2             8         41000         5125          2  \n",
       "3             7         83000        11857          4  \n",
       "4             3         31000        10333          1  \n",
       "...         ...           ...          ...        ...  \n",
       "63995        14        104000         7428          4  \n",
       "63996         9         89000         9888          5  \n",
       "63997         8         61000         7625          2  \n",
       "63998        16        108000         6750          5  \n",
       "63999        17        122000         7176          5  \n",
       "\n",
       "[64000 rows x 10 columns]"
      ]
     },
     "execution_count": 25,
     "metadata": {},
     "output_type": "execute_result"
    }
   ],
   "source": [
    "data"
   ]
  },
  {
   "cell_type": "code",
   "execution_count": 26,
   "id": "80b304a4",
   "metadata": {
    "scrolled": true
   },
   "outputs": [
    {
     "data": {
      "text/plain": [
       "zip_code\n",
       "Surburban    28776\n",
       "Urban        25661\n",
       "Rural         9563\n",
       "Name: count, dtype: int64"
      ]
     },
     "execution_count": 26,
     "metadata": {},
     "output_type": "execute_result"
    }
   ],
   "source": [
    "data['zip_code'].value_counts()"
   ]
  },
  {
   "cell_type": "code",
   "execution_count": 27,
   "id": "b4f90940",
   "metadata": {},
   "outputs": [
    {
     "data": {
      "text/plain": [
       "zip_code   conversion\n",
       "Rural      0              7764\n",
       "           1              1799\n",
       "Surburban  0             24749\n",
       "           1              4027\n",
       "Urban      0             22093\n",
       "           1              3568\n",
       "Name: count, dtype: int64"
      ]
     },
     "execution_count": 27,
     "metadata": {},
     "output_type": "execute_result"
    }
   ],
   "source": [
    "data.groupby('zip_code')['conversion'].value_counts(sort=False)"
   ]
  },
  {
   "cell_type": "code",
   "execution_count": 28,
   "id": "11a7050d",
   "metadata": {},
   "outputs": [],
   "source": [
    "def c_ratio(x):\n",
    "    for idx, item in zip(x.index, x):\n",
    "        if idx[1] == 0:\n",
    "            under_50 = item\n",
    "        else:\n",
    "            upper_50 = item\n",
    "            class_ratio = upper_50/(upper_50+under_50) * 100\n",
    "            print(idx, f'{class_ratio:.2f}%')"
   ]
  },
  {
   "cell_type": "code",
   "execution_count": 29,
   "id": "6ee40d6c",
   "metadata": {},
   "outputs": [
    {
     "name": "stdout",
     "output_type": "stream",
     "text": [
      "('Rural', 1) 18.81%\n",
      "('Surburban', 1) 13.99%\n",
      "('Urban', 1) 13.90%\n"
     ]
    }
   ],
   "source": [
    "c_ratio(data.groupby('zip_code')['conversion'].value_counts(sort=False))"
   ]
  },
  {
   "cell_type": "code",
   "execution_count": 30,
   "id": "c1a2bd82",
   "metadata": {
    "scrolled": true
   },
   "outputs": [
    {
     "data": {
      "text/html": [
       "<div>\n",
       "<style scoped>\n",
       "    .dataframe tbody tr th:only-of-type {\n",
       "        vertical-align: middle;\n",
       "    }\n",
       "\n",
       "    .dataframe tbody tr th {\n",
       "        vertical-align: top;\n",
       "    }\n",
       "\n",
       "    .dataframe thead th {\n",
       "        text-align: right;\n",
       "    }\n",
       "</style>\n",
       "<table border=\"1\" class=\"dataframe\">\n",
       "  <thead>\n",
       "    <tr style=\"text-align: right;\">\n",
       "      <th></th>\n",
       "      <th>num_item</th>\n",
       "      <th>total_amount</th>\n",
       "      <th>mean_amount</th>\n",
       "      <th>frequency</th>\n",
       "    </tr>\n",
       "    <tr>\n",
       "      <th>zip_code</th>\n",
       "      <th></th>\n",
       "      <th></th>\n",
       "      <th></th>\n",
       "      <th></th>\n",
       "    </tr>\n",
       "  </thead>\n",
       "  <tbody>\n",
       "    <tr>\n",
       "      <th>Rural</th>\n",
       "      <td>9.677298</td>\n",
       "      <td>68149.325525</td>\n",
       "      <td>8036.516156</td>\n",
       "      <td>3.109380</td>\n",
       "    </tr>\n",
       "    <tr>\n",
       "      <th>Surburban</th>\n",
       "      <td>9.438873</td>\n",
       "      <td>67007.541006</td>\n",
       "      <td>8096.941514</td>\n",
       "      <td>3.068529</td>\n",
       "    </tr>\n",
       "    <tr>\n",
       "      <th>Urban</th>\n",
       "      <td>9.421924</td>\n",
       "      <td>66965.706714</td>\n",
       "      <td>8144.102841</td>\n",
       "      <td>3.070847</td>\n",
       "    </tr>\n",
       "  </tbody>\n",
       "</table>\n",
       "</div>"
      ],
      "text/plain": [
       "           num_item  total_amount  mean_amount  frequency\n",
       "zip_code                                                 \n",
       "Rural      9.677298  68149.325525  8036.516156   3.109380\n",
       "Surburban  9.438873  67007.541006  8096.941514   3.068529\n",
       "Urban      9.421924  66965.706714  8144.102841   3.070847"
      ]
     },
     "execution_count": 30,
     "metadata": {},
     "output_type": "execute_result"
    }
   ],
   "source": [
    "data.groupby('zip_code')[['num_item','total_amount','mean_amount','frequency']].mean()"
   ]
  },
  {
   "cell_type": "code",
   "execution_count": 31,
   "id": "cb6f78be",
   "metadata": {},
   "outputs": [
    {
     "data": {
      "text/plain": [
       "channel\n",
       "Web             28217\n",
       "Phone           28021\n",
       "Multichannel     7762\n",
       "Name: count, dtype: int64"
      ]
     },
     "execution_count": 31,
     "metadata": {},
     "output_type": "execute_result"
    }
   ],
   "source": [
    "data['channel'].value_counts()"
   ]
  },
  {
   "cell_type": "code",
   "execution_count": 32,
   "id": "26557b6e",
   "metadata": {},
   "outputs": [
    {
     "data": {
      "text/html": [
       "<div>\n",
       "<style scoped>\n",
       "    .dataframe tbody tr th:only-of-type {\n",
       "        vertical-align: middle;\n",
       "    }\n",
       "\n",
       "    .dataframe tbody tr th {\n",
       "        vertical-align: top;\n",
       "    }\n",
       "\n",
       "    .dataframe thead th {\n",
       "        text-align: right;\n",
       "    }\n",
       "</style>\n",
       "<table border=\"1\" class=\"dataframe\">\n",
       "  <thead>\n",
       "    <tr style=\"text-align: right;\">\n",
       "      <th></th>\n",
       "      <th>num_item</th>\n",
       "      <th>total_amount</th>\n",
       "      <th>mean_amount</th>\n",
       "      <th>frequency</th>\n",
       "    </tr>\n",
       "    <tr>\n",
       "      <th>channel</th>\n",
       "      <th></th>\n",
       "      <th></th>\n",
       "      <th></th>\n",
       "      <th></th>\n",
       "    </tr>\n",
       "  </thead>\n",
       "  <tbody>\n",
       "    <tr>\n",
       "      <th>Multichannel</th>\n",
       "      <td>9.473718</td>\n",
       "      <td>67182.169544</td>\n",
       "      <td>8106.270549</td>\n",
       "      <td>3.063772</td>\n",
       "    </tr>\n",
       "    <tr>\n",
       "      <th>Phone</th>\n",
       "      <td>9.416937</td>\n",
       "      <td>66936.155027</td>\n",
       "      <td>8129.841619</td>\n",
       "      <td>3.073445</td>\n",
       "    </tr>\n",
       "    <tr>\n",
       "      <th>Web</th>\n",
       "      <td>9.516462</td>\n",
       "      <td>67379.310345</td>\n",
       "      <td>8084.114257</td>\n",
       "      <td>3.080909</td>\n",
       "    </tr>\n",
       "  </tbody>\n",
       "</table>\n",
       "</div>"
      ],
      "text/plain": [
       "              num_item  total_amount  mean_amount  frequency\n",
       "channel                                                     \n",
       "Multichannel  9.473718  67182.169544  8106.270549   3.063772\n",
       "Phone         9.416937  66936.155027  8129.841619   3.073445\n",
       "Web           9.516462  67379.310345  8084.114257   3.080909"
      ]
     },
     "execution_count": 32,
     "metadata": {},
     "output_type": "execute_result"
    }
   ],
   "source": [
    "data.groupby('channel')[['num_item','total_amount','mean_amount','frequency']].mean()"
   ]
  },
  {
   "cell_type": "code",
   "execution_count": 33,
   "id": "c31c4a95",
   "metadata": {},
   "outputs": [
    {
     "data": {
      "text/plain": [
       "is_referral  conversion\n",
       "0            0             26343\n",
       "             1              5513\n",
       "1            0             28263\n",
       "             1              3881\n",
       "Name: count, dtype: int64"
      ]
     },
     "execution_count": 33,
     "metadata": {},
     "output_type": "execute_result"
    }
   ],
   "source": [
    "data.groupby('is_referral')['conversion'].value_counts(sort=False)"
   ]
  },
  {
   "cell_type": "code",
   "execution_count": 34,
   "id": "aa9085f9",
   "metadata": {},
   "outputs": [
    {
     "name": "stdout",
     "output_type": "stream",
     "text": [
      "(0, 1) 17.31%\n",
      "(1, 1) 12.07%\n"
     ]
    }
   ],
   "source": [
    "c_ratio(data.groupby('is_referral')['conversion'].value_counts(sort=False))"
   ]
  },
  {
   "cell_type": "code",
   "execution_count": 35,
   "id": "7654e42c",
   "metadata": {},
   "outputs": [],
   "source": [
    "data = pd.get_dummies(data, columns=['zip_code','channel'],drop_first=True)"
   ]
  },
  {
   "cell_type": "code",
   "execution_count": 36,
   "id": "5114019e",
   "metadata": {},
   "outputs": [
    {
     "data": {
      "text/html": [
       "<div>\n",
       "<style scoped>\n",
       "    .dataframe tbody tr th:only-of-type {\n",
       "        vertical-align: middle;\n",
       "    }\n",
       "\n",
       "    .dataframe tbody tr th {\n",
       "        vertical-align: top;\n",
       "    }\n",
       "\n",
       "    .dataframe thead th {\n",
       "        text-align: right;\n",
       "    }\n",
       "</style>\n",
       "<table border=\"1\" class=\"dataframe\">\n",
       "  <thead>\n",
       "    <tr style=\"text-align: right;\">\n",
       "      <th></th>\n",
       "      <th>id</th>\n",
       "      <th>recency</th>\n",
       "      <th>is_referral</th>\n",
       "      <th>conversion</th>\n",
       "      <th>num_item</th>\n",
       "      <th>total_amount</th>\n",
       "      <th>mean_amount</th>\n",
       "      <th>frequency</th>\n",
       "      <th>zip_code_Surburban</th>\n",
       "      <th>zip_code_Urban</th>\n",
       "      <th>channel_Phone</th>\n",
       "      <th>channel_Web</th>\n",
       "    </tr>\n",
       "  </thead>\n",
       "  <tbody>\n",
       "    <tr>\n",
       "      <th>0</th>\n",
       "      <td>906145</td>\n",
       "      <td>10</td>\n",
       "      <td>0</td>\n",
       "      <td>0</td>\n",
       "      <td>10</td>\n",
       "      <td>94000</td>\n",
       "      <td>9400</td>\n",
       "      <td>3</td>\n",
       "      <td>True</td>\n",
       "      <td>False</td>\n",
       "      <td>True</td>\n",
       "      <td>False</td>\n",
       "    </tr>\n",
       "    <tr>\n",
       "      <th>1</th>\n",
       "      <td>184478</td>\n",
       "      <td>6</td>\n",
       "      <td>1</td>\n",
       "      <td>0</td>\n",
       "      <td>4</td>\n",
       "      <td>29000</td>\n",
       "      <td>7250</td>\n",
       "      <td>1</td>\n",
       "      <td>False</td>\n",
       "      <td>False</td>\n",
       "      <td>False</td>\n",
       "      <td>True</td>\n",
       "    </tr>\n",
       "    <tr>\n",
       "      <th>2</th>\n",
       "      <td>394235</td>\n",
       "      <td>7</td>\n",
       "      <td>1</td>\n",
       "      <td>0</td>\n",
       "      <td>8</td>\n",
       "      <td>41000</td>\n",
       "      <td>5125</td>\n",
       "      <td>2</td>\n",
       "      <td>True</td>\n",
       "      <td>False</td>\n",
       "      <td>False</td>\n",
       "      <td>True</td>\n",
       "    </tr>\n",
       "    <tr>\n",
       "      <th>3</th>\n",
       "      <td>130152</td>\n",
       "      <td>9</td>\n",
       "      <td>1</td>\n",
       "      <td>0</td>\n",
       "      <td>7</td>\n",
       "      <td>83000</td>\n",
       "      <td>11857</td>\n",
       "      <td>4</td>\n",
       "      <td>False</td>\n",
       "      <td>False</td>\n",
       "      <td>False</td>\n",
       "      <td>True</td>\n",
       "    </tr>\n",
       "    <tr>\n",
       "      <th>4</th>\n",
       "      <td>940352</td>\n",
       "      <td>2</td>\n",
       "      <td>0</td>\n",
       "      <td>0</td>\n",
       "      <td>3</td>\n",
       "      <td>31000</td>\n",
       "      <td>10333</td>\n",
       "      <td>1</td>\n",
       "      <td>False</td>\n",
       "      <td>True</td>\n",
       "      <td>False</td>\n",
       "      <td>True</td>\n",
       "    </tr>\n",
       "    <tr>\n",
       "      <th>...</th>\n",
       "      <td>...</td>\n",
       "      <td>...</td>\n",
       "      <td>...</td>\n",
       "      <td>...</td>\n",
       "      <td>...</td>\n",
       "      <td>...</td>\n",
       "      <td>...</td>\n",
       "      <td>...</td>\n",
       "      <td>...</td>\n",
       "      <td>...</td>\n",
       "      <td>...</td>\n",
       "      <td>...</td>\n",
       "    </tr>\n",
       "    <tr>\n",
       "      <th>63995</th>\n",
       "      <td>838295</td>\n",
       "      <td>10</td>\n",
       "      <td>0</td>\n",
       "      <td>0</td>\n",
       "      <td>14</td>\n",
       "      <td>104000</td>\n",
       "      <td>7428</td>\n",
       "      <td>4</td>\n",
       "      <td>False</td>\n",
       "      <td>True</td>\n",
       "      <td>False</td>\n",
       "      <td>True</td>\n",
       "    </tr>\n",
       "    <tr>\n",
       "      <th>63996</th>\n",
       "      <td>547316</td>\n",
       "      <td>5</td>\n",
       "      <td>1</td>\n",
       "      <td>0</td>\n",
       "      <td>9</td>\n",
       "      <td>89000</td>\n",
       "      <td>9888</td>\n",
       "      <td>5</td>\n",
       "      <td>False</td>\n",
       "      <td>True</td>\n",
       "      <td>True</td>\n",
       "      <td>False</td>\n",
       "    </tr>\n",
       "    <tr>\n",
       "      <th>63997</th>\n",
       "      <td>131575</td>\n",
       "      <td>6</td>\n",
       "      <td>1</td>\n",
       "      <td>0</td>\n",
       "      <td>8</td>\n",
       "      <td>61000</td>\n",
       "      <td>7625</td>\n",
       "      <td>2</td>\n",
       "      <td>False</td>\n",
       "      <td>True</td>\n",
       "      <td>True</td>\n",
       "      <td>False</td>\n",
       "    </tr>\n",
       "    <tr>\n",
       "      <th>63998</th>\n",
       "      <td>603659</td>\n",
       "      <td>1</td>\n",
       "      <td>1</td>\n",
       "      <td>0</td>\n",
       "      <td>16</td>\n",
       "      <td>108000</td>\n",
       "      <td>6750</td>\n",
       "      <td>5</td>\n",
       "      <td>True</td>\n",
       "      <td>False</td>\n",
       "      <td>False</td>\n",
       "      <td>False</td>\n",
       "    </tr>\n",
       "    <tr>\n",
       "      <th>63999</th>\n",
       "      <td>254229</td>\n",
       "      <td>1</td>\n",
       "      <td>0</td>\n",
       "      <td>0</td>\n",
       "      <td>17</td>\n",
       "      <td>122000</td>\n",
       "      <td>7176</td>\n",
       "      <td>5</td>\n",
       "      <td>True</td>\n",
       "      <td>False</td>\n",
       "      <td>False</td>\n",
       "      <td>True</td>\n",
       "    </tr>\n",
       "  </tbody>\n",
       "</table>\n",
       "<p>64000 rows × 12 columns</p>\n",
       "</div>"
      ],
      "text/plain": [
       "           id  recency  is_referral  conversion  num_item  total_amount  \\\n",
       "0      906145       10            0           0        10         94000   \n",
       "1      184478        6            1           0         4         29000   \n",
       "2      394235        7            1           0         8         41000   \n",
       "3      130152        9            1           0         7         83000   \n",
       "4      940352        2            0           0         3         31000   \n",
       "...       ...      ...          ...         ...       ...           ...   \n",
       "63995  838295       10            0           0        14        104000   \n",
       "63996  547316        5            1           0         9         89000   \n",
       "63997  131575        6            1           0         8         61000   \n",
       "63998  603659        1            1           0        16        108000   \n",
       "63999  254229        1            0           0        17        122000   \n",
       "\n",
       "       mean_amount  frequency  zip_code_Surburban  zip_code_Urban  \\\n",
       "0             9400          3                True           False   \n",
       "1             7250          1               False           False   \n",
       "2             5125          2                True           False   \n",
       "3            11857          4               False           False   \n",
       "4            10333          1               False            True   \n",
       "...            ...        ...                 ...             ...   \n",
       "63995         7428          4               False            True   \n",
       "63996         9888          5               False            True   \n",
       "63997         7625          2               False            True   \n",
       "63998         6750          5                True           False   \n",
       "63999         7176          5                True           False   \n",
       "\n",
       "       channel_Phone  channel_Web  \n",
       "0               True        False  \n",
       "1              False         True  \n",
       "2              False         True  \n",
       "3              False         True  \n",
       "4              False         True  \n",
       "...              ...          ...  \n",
       "63995          False         True  \n",
       "63996           True        False  \n",
       "63997           True        False  \n",
       "63998          False        False  \n",
       "63999          False         True  \n",
       "\n",
       "[64000 rows x 12 columns]"
      ]
     },
     "execution_count": 36,
     "metadata": {},
     "output_type": "execute_result"
    }
   ],
   "source": [
    "data"
   ]
  },
  {
   "cell_type": "code",
   "execution_count": 37,
   "id": "85020ea8",
   "metadata": {},
   "outputs": [],
   "source": [
    "X = data.drop(['id', 'conversion'], axis=1)\n",
    "y = data['conversion']"
   ]
  },
  {
   "cell_type": "code",
   "execution_count": 38,
   "id": "726519e9",
   "metadata": {},
   "outputs": [],
   "source": [
    "from sklearn.preprocessing import MinMaxScaler, StandardScaler"
   ]
  },
  {
   "cell_type": "code",
   "execution_count": 39,
   "id": "2bc7cc87",
   "metadata": {},
   "outputs": [],
   "source": [
    "scale = MinMaxScaler()\n",
    "X_mx_scaled = scale.fit_transform(X)\n",
    "scale2 = StandardScaler()\n",
    "X_std_scaled = scale2.fit_transform(X)"
   ]
  },
  {
   "cell_type": "code",
   "execution_count": 40,
   "id": "8b312df2",
   "metadata": {},
   "outputs": [
    {
     "data": {
      "text/html": [
       "<div>\n",
       "<style scoped>\n",
       "    .dataframe tbody tr th:only-of-type {\n",
       "        vertical-align: middle;\n",
       "    }\n",
       "\n",
       "    .dataframe tbody tr th {\n",
       "        vertical-align: top;\n",
       "    }\n",
       "\n",
       "    .dataframe thead th {\n",
       "        text-align: right;\n",
       "    }\n",
       "</style>\n",
       "<table border=\"1\" class=\"dataframe\">\n",
       "  <thead>\n",
       "    <tr style=\"text-align: right;\">\n",
       "      <th></th>\n",
       "      <th>recency</th>\n",
       "      <th>is_referral</th>\n",
       "      <th>num_item</th>\n",
       "      <th>total_amount</th>\n",
       "      <th>mean_amount</th>\n",
       "      <th>frequency</th>\n",
       "      <th>zip_code_Surburban</th>\n",
       "      <th>zip_code_Urban</th>\n",
       "      <th>channel_Phone</th>\n",
       "      <th>channel_Web</th>\n",
       "    </tr>\n",
       "  </thead>\n",
       "  <tbody>\n",
       "    <tr>\n",
       "      <th>0</th>\n",
       "      <td>0.818182</td>\n",
       "      <td>0.0</td>\n",
       "      <td>0.333333</td>\n",
       "      <td>0.488636</td>\n",
       "      <td>0.233533</td>\n",
       "      <td>0.50</td>\n",
       "      <td>1.0</td>\n",
       "      <td>0.0</td>\n",
       "      <td>1.0</td>\n",
       "      <td>0.0</td>\n",
       "    </tr>\n",
       "    <tr>\n",
       "      <th>1</th>\n",
       "      <td>0.454545</td>\n",
       "      <td>1.0</td>\n",
       "      <td>0.111111</td>\n",
       "      <td>0.119318</td>\n",
       "      <td>0.169162</td>\n",
       "      <td>0.00</td>\n",
       "      <td>0.0</td>\n",
       "      <td>0.0</td>\n",
       "      <td>0.0</td>\n",
       "      <td>1.0</td>\n",
       "    </tr>\n",
       "    <tr>\n",
       "      <th>2</th>\n",
       "      <td>0.545455</td>\n",
       "      <td>1.0</td>\n",
       "      <td>0.259259</td>\n",
       "      <td>0.187500</td>\n",
       "      <td>0.105539</td>\n",
       "      <td>0.25</td>\n",
       "      <td>1.0</td>\n",
       "      <td>0.0</td>\n",
       "      <td>0.0</td>\n",
       "      <td>1.0</td>\n",
       "    </tr>\n",
       "    <tr>\n",
       "      <th>3</th>\n",
       "      <td>0.727273</td>\n",
       "      <td>1.0</td>\n",
       "      <td>0.222222</td>\n",
       "      <td>0.426136</td>\n",
       "      <td>0.307096</td>\n",
       "      <td>0.75</td>\n",
       "      <td>0.0</td>\n",
       "      <td>0.0</td>\n",
       "      <td>0.0</td>\n",
       "      <td>1.0</td>\n",
       "    </tr>\n",
       "    <tr>\n",
       "      <th>4</th>\n",
       "      <td>0.090909</td>\n",
       "      <td>0.0</td>\n",
       "      <td>0.074074</td>\n",
       "      <td>0.130682</td>\n",
       "      <td>0.261467</td>\n",
       "      <td>0.00</td>\n",
       "      <td>0.0</td>\n",
       "      <td>1.0</td>\n",
       "      <td>0.0</td>\n",
       "      <td>1.0</td>\n",
       "    </tr>\n",
       "  </tbody>\n",
       "</table>\n",
       "</div>"
      ],
      "text/plain": [
       "    recency  is_referral  num_item  total_amount  mean_amount  frequency  \\\n",
       "0  0.818182          0.0  0.333333      0.488636     0.233533       0.50   \n",
       "1  0.454545          1.0  0.111111      0.119318     0.169162       0.00   \n",
       "2  0.545455          1.0  0.259259      0.187500     0.105539       0.25   \n",
       "3  0.727273          1.0  0.222222      0.426136     0.307096       0.75   \n",
       "4  0.090909          0.0  0.074074      0.130682     0.261467       0.00   \n",
       "\n",
       "   zip_code_Surburban  zip_code_Urban  channel_Phone  channel_Web  \n",
       "0                 1.0             0.0            1.0          0.0  \n",
       "1                 0.0             0.0            0.0          1.0  \n",
       "2                 1.0             0.0            0.0          1.0  \n",
       "3                 0.0             0.0            0.0          1.0  \n",
       "4                 0.0             1.0            0.0          1.0  "
      ]
     },
     "execution_count": 40,
     "metadata": {},
     "output_type": "execute_result"
    }
   ],
   "source": [
    "X_std_scaled = pd.DataFrame(X_mx_scaled, columns=X.columns)\n",
    "X_std_scaled.head()"
   ]
  },
  {
   "cell_type": "markdown",
   "id": "e99d8abe",
   "metadata": {},
   "source": [
    "홀드아웃하자"
   ]
  },
  {
   "cell_type": "code",
   "execution_count": 41,
   "id": "952dbca6",
   "metadata": {},
   "outputs": [],
   "source": [
    "from sklearn.model_selection import train_test_split"
   ]
  },
  {
   "cell_type": "code",
   "execution_count": 42,
   "id": "c05a53c6",
   "metadata": {},
   "outputs": [],
   "source": [
    "# MinMax 스케일링 한 데이터셋\n",
    "X_train, X_test, y_train, y_test = train_test_split(X_mx_scaled, y, test_size=0.3, random_state=10)\n",
    "X_valid, X_test, y_valid, y_test = train_test_split(X_test, y_test, test_size=0.5, random_state=10)"
   ]
  },
  {
   "cell_type": "code",
   "execution_count": 43,
   "id": "33bb35c9",
   "metadata": {
    "scrolled": true
   },
   "outputs": [
    {
     "ename": "AttributeError",
     "evalue": "'numpy.ndarray' object has no attribute 'info'",
     "output_type": "error",
     "traceback": [
      "\u001b[1;31m---------------------------------------------------------------------------\u001b[0m",
      "\u001b[1;31mAttributeError\u001b[0m                            Traceback (most recent call last)",
      "Cell \u001b[1;32mIn[43], line 1\u001b[0m\n\u001b[1;32m----> 1\u001b[0m \u001b[43mX_train\u001b[49m\u001b[38;5;241;43m.\u001b[39;49m\u001b[43minfo\u001b[49m()\n",
      "\u001b[1;31mAttributeError\u001b[0m: 'numpy.ndarray' object has no attribute 'info'"
     ]
    }
   ],
   "source": [
    "X_train.info()"
   ]
  },
  {
   "cell_type": "code",
   "execution_count": null,
   "id": "498196dc",
   "metadata": {
    "scrolled": true
   },
   "outputs": [],
   "source": [
    "X_valid.info()"
   ]
  },
  {
   "cell_type": "code",
   "execution_count": null,
   "id": "cd99fab2",
   "metadata": {},
   "outputs": [],
   "source": [
    "X_test.info()"
   ]
  },
  {
   "cell_type": "code",
   "execution_count": 44,
   "id": "6d4b239e",
   "metadata": {},
   "outputs": [],
   "source": [
    "# Standard 스케일링 한 데이터셋\n",
    "X_train2, X_test2, y_train2, y_test2 = train_test_split(X_std_scaled, y, test_size=0.3, random_state=10)\n",
    "X_valid2, X_test2, y_valid2, y_test2 = train_test_split(X_test2, y_test2, test_size=0.5, random_state=10)"
   ]
  },
  {
   "cell_type": "code",
   "execution_count": 45,
   "id": "97e9fd42",
   "metadata": {},
   "outputs": [
    {
     "data": {
      "text/plain": [
       "conversion\n",
       "0    54606\n",
       "1     9394\n",
       "Name: count, dtype: int64"
      ]
     },
     "execution_count": 45,
     "metadata": {},
     "output_type": "execute_result"
    }
   ],
   "source": [
    "y.value_counts()"
   ]
  },
  {
   "cell_type": "code",
   "execution_count": 46,
   "id": "465f3319",
   "metadata": {},
   "outputs": [],
   "source": [
    "from sklearn.ensemble import RandomForestClassifier\n",
    "from sklearn.metrics import accuracy_score, confusion_matrix, classification_report"
   ]
  },
  {
   "cell_type": "code",
   "execution_count": null,
   "id": "69890496",
   "metadata": {},
   "outputs": [],
   "source": []
  },
  {
   "cell_type": "code",
   "execution_count": 47,
   "id": "a16e6dc6",
   "metadata": {
    "scrolled": false
   },
   "outputs": [
    {
     "name": "stdout",
     "output_type": "stream",
     "text": [
      "0.8496875\n",
      "[[8157    0]\n",
      " [1443    0]]\n",
      "              precision    recall  f1-score   support\n",
      "\n",
      "           0       0.85      1.00      0.92      8157\n",
      "           1       0.00      0.00      0.00      1443\n",
      "\n",
      "    accuracy                           0.85      9600\n",
      "   macro avg       0.42      0.50      0.46      9600\n",
      "weighted avg       0.72      0.85      0.78      9600\n",
      "\n"
     ]
    },
    {
     "name": "stderr",
     "output_type": "stream",
     "text": [
      "C:\\Users\\hi\\anaconda3\\envs\\testenv\\lib\\site-packages\\sklearn\\metrics\\_classification.py:1469: UndefinedMetricWarning: Precision and F-score are ill-defined and being set to 0.0 in labels with no predicted samples. Use `zero_division` parameter to control this behavior.\n",
      "  _warn_prf(average, modifier, msg_start, len(result))\n",
      "C:\\Users\\hi\\anaconda3\\envs\\testenv\\lib\\site-packages\\sklearn\\metrics\\_classification.py:1469: UndefinedMetricWarning: Precision and F-score are ill-defined and being set to 0.0 in labels with no predicted samples. Use `zero_division` parameter to control this behavior.\n",
      "  _warn_prf(average, modifier, msg_start, len(result))\n",
      "C:\\Users\\hi\\anaconda3\\envs\\testenv\\lib\\site-packages\\sklearn\\metrics\\_classification.py:1469: UndefinedMetricWarning: Precision and F-score are ill-defined and being set to 0.0 in labels with no predicted samples. Use `zero_division` parameter to control this behavior.\n",
      "  _warn_prf(average, modifier, msg_start, len(result))\n"
     ]
    }
   ],
   "source": [
    "rfc_mx = RandomForestClassifier(n_estimators=100, max_depth=3, n_jobs=-1, random_state=10) # 파라미터 \n",
    "rfc_mx.fit(X_train, y_train)\n",
    "pred_mx = rfc_mx.predict(X_valid)\n",
    "print(accuracy_score(y_valid, pred_mx))\n",
    "print(confusion_matrix(y_valid, pred_mx))\n",
    "print(classification_report(y_valid, pred_mx))"
   ]
  },
  {
   "cell_type": "markdown",
   "id": "0721a625",
   "metadata": {},
   "source": [
    "* 왜 1에 대한 값이 다 0이 나왔을까?"
   ]
  },
  {
   "cell_type": "code",
   "execution_count": 48,
   "id": "5922a86b",
   "metadata": {},
   "outputs": [
    {
     "data": {
      "text/plain": [
       "conversion\n",
       "0    54606\n",
       "1     9394\n",
       "Name: count, dtype: int64"
      ]
     },
     "execution_count": 48,
     "metadata": {},
     "output_type": "execute_result"
    }
   ],
   "source": [
    "y.value_counts() # 비율 차이가 너무 커서 그런가?"
   ]
  },
  {
   "cell_type": "code",
   "execution_count": 49,
   "id": "b2feb8f2",
   "metadata": {},
   "outputs": [
    {
     "name": "stdout",
     "output_type": "stream",
     "text": [
      "0.8496875\n",
      "[[8157    0]\n",
      " [1443    0]]\n",
      "              precision    recall  f1-score   support\n",
      "\n",
      "           0       0.85      1.00      0.92      8157\n",
      "           1       0.00      0.00      0.00      1443\n",
      "\n",
      "    accuracy                           0.85      9600\n",
      "   macro avg       0.42      0.50      0.46      9600\n",
      "weighted avg       0.72      0.85      0.78      9600\n",
      "\n"
     ]
    },
    {
     "name": "stderr",
     "output_type": "stream",
     "text": [
      "C:\\Users\\hi\\anaconda3\\envs\\testenv\\lib\\site-packages\\sklearn\\metrics\\_classification.py:1469: UndefinedMetricWarning: Precision and F-score are ill-defined and being set to 0.0 in labels with no predicted samples. Use `zero_division` parameter to control this behavior.\n",
      "  _warn_prf(average, modifier, msg_start, len(result))\n",
      "C:\\Users\\hi\\anaconda3\\envs\\testenv\\lib\\site-packages\\sklearn\\metrics\\_classification.py:1469: UndefinedMetricWarning: Precision and F-score are ill-defined and being set to 0.0 in labels with no predicted samples. Use `zero_division` parameter to control this behavior.\n",
      "  _warn_prf(average, modifier, msg_start, len(result))\n",
      "C:\\Users\\hi\\anaconda3\\envs\\testenv\\lib\\site-packages\\sklearn\\metrics\\_classification.py:1469: UndefinedMetricWarning: Precision and F-score are ill-defined and being set to 0.0 in labels with no predicted samples. Use `zero_division` parameter to control this behavior.\n",
      "  _warn_prf(average, modifier, msg_start, len(result))\n"
     ]
    }
   ],
   "source": [
    "rfc_std = RandomForestClassifier(n_estimators=1000, max_depth=3, n_jobs=-1, random_state=10) # random_state 랜덤도 숫자가 있어. 랜덤표가 있다. 숫자를 지정해줘야지 결과가 나오는 순서가 같아져.\n",
    "rfc_std.fit(X_train2, y_train2)\n",
    "pred_std = rfc_std.predict(X_valid2)\n",
    "print(accuracy_score(y_valid2, pred_std))\n",
    "print(confusion_matrix(y_valid2, pred_std))\n",
    "print(classification_report(y_valid2, pred_std))"
   ]
  },
  {
   "cell_type": "code",
   "execution_count": 50,
   "id": "a977ba34",
   "metadata": {
    "scrolled": true
   },
   "outputs": [
    {
     "name": "stdout",
     "output_type": "stream",
     "text": [
      "0.8638541666666667\n",
      "              precision    recall  f1-score   support\n",
      "\n",
      "           0       0.87      0.99      0.93      8157\n",
      "           1       0.73      0.15      0.25      1443\n",
      "\n",
      "    accuracy                           0.86      9600\n",
      "   macro avg       0.80      0.57      0.59      9600\n",
      "weighted avg       0.85      0.86      0.82      9600\n",
      "\n"
     ]
    }
   ],
   "source": [
    "from xgboost import XGBClassifier\n",
    "xgb_mx = XGBClassifier(n_estimators= 1000, n_jobs=-1, learning_rate=0.01, random_state=10) # learning_rate 오차의 간격을 어떻게 할꺼냐 \n",
    "xgb_mx.fit(X_train, y_train)\n",
    "pred_xgb_mx = xgb_mx.predict(X_valid)\n",
    "print(accuracy_score(y_valid, pred_xgb_mx))\n",
    "print(classification_report(y_valid, pred_xgb_mx))"
   ]
  },
  {
   "cell_type": "code",
   "execution_count": 51,
   "id": "6b00e255",
   "metadata": {},
   "outputs": [
    {
     "name": "stdout",
     "output_type": "stream",
     "text": [
      "0.8638541666666667\n",
      "              precision    recall  f1-score   support\n",
      "\n",
      "           0       0.87      0.99      0.93      8157\n",
      "           1       0.73      0.15      0.25      1443\n",
      "\n",
      "    accuracy                           0.86      9600\n",
      "   macro avg       0.80      0.57      0.59      9600\n",
      "weighted avg       0.85      0.86      0.82      9600\n",
      "\n"
     ]
    }
   ],
   "source": [
    "from xgboost import XGBClassifier\n",
    "xgb_std = XGBClassifier(n_estimators= 1000, n_jobs=-1, learning_rate=0.01, random_state=10)\n",
    "xgb_std.fit(X_train2, y_train2)\n",
    "pred_xgb_std = xgb_std.predict(X_valid2)\n",
    "print(accuracy_score(y_valid2, pred_xgb_std))\n",
    "print(classification_report(y_valid2, pred_xgb_std))"
   ]
  },
  {
   "cell_type": "markdown",
   "id": "996d7ab0",
   "metadata": {},
   "source": [
    "# 하이퍼 파라미터 튜닝"
   ]
  },
  {
   "cell_type": "markdown",
   "id": "e1e55c5b",
   "metadata": {},
   "source": [
    "## 그리드서치(Grid Search)\n",
    "* manual Search에 비해, Grid Search는 체계적인 방식으로 하이퍼파라미터 최적화를 수행.\n",
    "* Grid Search는 모든 parameter의 경우의 수에 대해 Cross-validation 결과가 가장 좋은 parameter를 고르는 방법\n",
    "* 전체 탐색 대상 구간, 간격은 분석가의 지정이 필요하나, 균등하고 전역적인 탐색이 가능하다는 장점이 있음.\n",
    "* 단, 하이퍼파라미터의 개수가 많아질수록 전체 탐색 시간이 기하급수적으로 증가한다는 아주 치명적인 단점이 있음."
   ]
  },
  {
   "cell_type": "code",
   "execution_count": 52,
   "id": "199d91f4",
   "metadata": {},
   "outputs": [],
   "source": [
    "from sklearn.model_selection import GridSearchCV"
   ]
  },
  {
   "cell_type": "code",
   "execution_count": 53,
   "id": "213fb4c3",
   "metadata": {},
   "outputs": [],
   "source": [
    "params = dict(max_depth=[3,5,10], n_estimators=[100,500,1000], learning_rate=[0.01, 0.05, 0.1]) "
   ]
  },
  {
   "cell_type": "markdown",
   "id": "43af916e",
   "metadata": {},
   "source": [
    "3,5,10은 경우의 수이고 각 경우의 수의 n_estimators와 learning_rate를 거쳐서 총 27번을 거치게 됨. 모든 경우의 수를 다 계산해서 돌려라."
   ]
  },
  {
   "cell_type": "code",
   "execution_count": 54,
   "id": "11d42052",
   "metadata": {},
   "outputs": [
    {
     "data": {
      "text/plain": [
       "{'max_depth': [3, 5, 10],\n",
       " 'n_estimators': [100, 500, 1000],\n",
       " 'learning_rate': [0.01, 0.05, 0.1]}"
      ]
     },
     "execution_count": 54,
     "metadata": {},
     "output_type": "execute_result"
    }
   ],
   "source": [
    "params "
   ]
  },
  {
   "cell_type": "code",
   "execution_count": 55,
   "id": "6c9b7054",
   "metadata": {},
   "outputs": [
    {
     "name": "stdout",
     "output_type": "stream",
     "text": [
      "Fitting 5 folds for each of 27 candidates, totalling 135 fits\n",
      "['mean_fit_time', 'mean_score_time', 'mean_test_score', 'param_learning_rate', 'param_max_depth', 'param_n_estimators', 'params', 'rank_test_score', 'split0_test_score', 'split1_test_score', 'split2_test_score', 'split3_test_score', 'split4_test_score', 'std_fit_time', 'std_score_time', 'std_test_score']\n",
      "최적 하이퍼 파라미터:  {'learning_rate': 0.05, 'max_depth': 3, 'n_estimators': 500}\n",
      "최고 예측 정확도: 0.8673\n"
     ]
    }
   ],
   "source": [
    "grid_cv = GridSearchCV(xgb_mx, param_grid=params, cv=5, n_jobs=-1, verbose=3) #cv는 k-fold를 몇개를 해줄거냐\n",
    "grid_cv.fit(X_train, y_train)\n",
    "pred = grid_cv.predict(X_valid)\n",
    "print(sorted(grid_cv.cv_results_.keys()))\n",
    "print(f'최적 하이퍼 파라미터: ', grid_cv.best_params_)\n",
    "print(f'최고 예측 정확도: {grid_cv.best_score_ :.4f}')"
   ]
  },
  {
   "cell_type": "code",
   "execution_count": 56,
   "id": "e2983a4d",
   "metadata": {},
   "outputs": [
    {
     "name": "stdout",
     "output_type": "stream",
     "text": [
      "0.8654166666666666\n",
      "              precision    recall  f1-score   support\n",
      "\n",
      "           0       0.87      0.99      0.93      8157\n",
      "           1       0.77      0.15      0.25      1443\n",
      "\n",
      "    accuracy                           0.87      9600\n",
      "   macro avg       0.82      0.57      0.59      9600\n",
      "weighted avg       0.85      0.87      0.82      9600\n",
      "\n"
     ]
    }
   ],
   "source": [
    "from xgboost import XGBClassifier\n",
    "xgb_mx = XGBClassifier(max_depth = 3, n_estimators= 500, n_jobs=-1, learning_rate=0.05, random_state=10)\n",
    "xgb_mx.fit(X_train, y_train)\n",
    "pred_xgb_mx = xgb_mx.predict(X_valid)\n",
    "print(accuracy_score(y_valid, pred_xgb_mx))\n",
    "print(classification_report(y_valid, pred_xgb_mx))"
   ]
  },
  {
   "cell_type": "markdown",
   "id": "f1950253",
   "metadata": {},
   "source": [
    "## 랜덤서치\n",
    "* Grid Search가 전수조사라면 RandomSearch는 표본조사\n",
    "* 하이퍼파라미터 값을 랜덤 샘플링 해 선정\n",
    "* RandomSearch는 GridSearch에 비해 불필요한 반복 수행 회수를 대폭 줄이면서, 동시에 정해진 간격 사이에 위치한 값들에 대해서도 확률적으로 탐색이 가능하므로, 최적 하이퍼파라미터를 더 빨리 찾을 수 있다."
   ]
  },
  {
   "cell_type": "code",
   "execution_count": 57,
   "id": "f798b4de",
   "metadata": {},
   "outputs": [],
   "source": [
    "from sklearn.model_selection import RandomizedSearchCV"
   ]
  },
  {
   "cell_type": "code",
   "execution_count": 58,
   "id": "c6256474",
   "metadata": {},
   "outputs": [
    {
     "name": "stdout",
     "output_type": "stream",
     "text": [
      "Fitting 5 folds for each of 27 candidates, totalling 135 fits\n"
     ]
    },
    {
     "name": "stderr",
     "output_type": "stream",
     "text": [
      "C:\\Users\\hi\\anaconda3\\envs\\testenv\\lib\\site-packages\\sklearn\\model_selection\\_search.py:307: UserWarning: The total space of parameters 27 is smaller than n_iter=100. Running 27 iterations. For exhaustive searches, use GridSearchCV.\n",
      "  warnings.warn(\n"
     ]
    },
    {
     "name": "stdout",
     "output_type": "stream",
     "text": [
      "['mean_fit_time', 'mean_score_time', 'mean_test_score', 'param_learning_rate', 'param_max_depth', 'param_n_estimators', 'params', 'rank_test_score', 'split0_test_score', 'split1_test_score', 'split2_test_score', 'split3_test_score', 'split4_test_score', 'std_fit_time', 'std_score_time', 'std_test_score']\n",
      "최적 하이퍼 파라미터:  {'n_estimators': 500, 'max_depth': 3, 'learning_rate': 0.05}\n",
      "최고 예측 정확도: 0.8673\n"
     ]
    }
   ],
   "source": [
    "rand_cv = RandomizedSearchCV(xgb_mx, param_distributions=params, n_iter=100, cv=5, n_jobs=-1, verbose=3) # n_iter=100 : Search를 몇번할거냐\n",
    "rand_cv.fit(X_train, y_train)\n",
    "pred = rand_cv.predict(X_valid)\n",
    "print(sorted(rand_cv.cv_results_.keys()))\n",
    "print(f'최적 하이퍼 파라미터: ', rand_cv.best_params_)\n",
    "print(f'최고 예측 정확도: {rand_cv.best_score_ :.4f}')"
   ]
  },
  {
   "cell_type": "code",
   "execution_count": 59,
   "id": "a848d8c8",
   "metadata": {},
   "outputs": [
    {
     "name": "stdout",
     "output_type": "stream",
     "text": [
      "0.8664583333333333\n",
      "              precision    recall  f1-score   support\n",
      "\n",
      "           0       0.87      0.99      0.93      8191\n",
      "           1       0.74      0.14      0.23      1409\n",
      "\n",
      "    accuracy                           0.87      9600\n",
      "   macro avg       0.80      0.57      0.58      9600\n",
      "weighted avg       0.85      0.87      0.83      9600\n",
      "\n"
     ]
    }
   ],
   "source": [
    "pred_xgb_mx = xgb_mx.predict(X_test)\n",
    "print(accuracy_score(y_test, pred_xgb_mx))\n",
    "print(classification_report(y_test, pred_xgb_mx))"
   ]
  },
  {
   "cell_type": "markdown",
   "id": "a6c52a38",
   "metadata": {},
   "source": [
    "<!-- ## 베이지안 옵티마이저\n",
    "* Bayesian Optimization은 베이즈 정리에 의해서 사후 확률을 통해 최적값을 예측해 최적 파라미터를 업데이트\n",
    "* 설치 필요 -->"
   ]
  },
  {
   "cell_type": "code",
   "execution_count": 60,
   "id": "728389ac",
   "metadata": {},
   "outputs": [],
   "source": [
    "# from skopt import BayesSearchCV"
   ]
  },
  {
   "cell_type": "code",
   "execution_count": 61,
   "id": "87db8aa7",
   "metadata": {},
   "outputs": [],
   "source": [
    "#bocv = BayesSearchCV(xgb_mx, search_spaces=params, cv=5, n_jobs=-1, verbose=3)\n",
    "#bocv.fit(X_train, y_train)\n",
    "#print(f\"val score: {bocv.best_score_:.4f}\")\n",
    "#print(f\"test score: {bocv.score(X_valid, y_valid)}\")\n",
    "#print(f\"최적 파라미터: {bocv.best_params_}\")"
   ]
  },
  {
   "cell_type": "markdown",
   "id": "fedb8875",
   "metadata": {},
   "source": [
    "## imbalanced-learn 홈페이지에 들어가면 축소, 증폭하는 알고리즘을 알 수 있음 예) smote 데이터 증폭을 할 때 사용"
   ]
  },
  {
   "cell_type": "code",
   "execution_count": 62,
   "id": "e9eb54da",
   "metadata": {},
   "outputs": [],
   "source": [
    "from imblearn.over_sampling import SMOTE"
   ]
  },
  {
   "cell_type": "code",
   "execution_count": 63,
   "id": "bcea2936",
   "metadata": {},
   "outputs": [],
   "source": [
    "sm = SMOTE(random_state=42)\n",
    "X_res, y_res = sm.fit_resample(X_train, y_train)"
   ]
  },
  {
   "cell_type": "code",
   "execution_count": 64,
   "id": "4316feb8",
   "metadata": {},
   "outputs": [
    {
     "data": {
      "text/plain": [
       "conversion\n",
       "0    38258\n",
       "1    38258\n",
       "Name: count, dtype: int64"
      ]
     },
     "execution_count": 64,
     "metadata": {},
     "output_type": "execute_result"
    }
   ],
   "source": [
    "y_res.value_counts() # 개수가 맞춰짐."
   ]
  },
  {
   "cell_type": "code",
   "execution_count": 65,
   "id": "4b4d2910",
   "metadata": {},
   "outputs": [],
   "source": [
    "X_train_smt, X_test_smt, y_train_smt, y_test_smt = train_test_split(X_res, y_res, test_size=0.4, random_state=10)"
   ]
  },
  {
   "cell_type": "code",
   "execution_count": 66,
   "id": "ea62f900",
   "metadata": {},
   "outputs": [
    {
     "name": "stderr",
     "output_type": "stream",
     "text": [
      "C:\\Users\\hi\\anaconda3\\envs\\testenv\\lib\\site-packages\\sklearn\\model_selection\\_search.py:307: UserWarning: The total space of parameters 27 is smaller than n_iter=100. Running 27 iterations. For exhaustive searches, use GridSearchCV.\n",
      "  warnings.warn(\n"
     ]
    },
    {
     "name": "stdout",
     "output_type": "stream",
     "text": [
      "Fitting 5 folds for each of 27 candidates, totalling 135 fits\n",
      "['mean_fit_time', 'mean_score_time', 'mean_test_score', 'param_learning_rate', 'param_max_depth', 'param_n_estimators', 'params', 'rank_test_score', 'split0_test_score', 'split1_test_score', 'split2_test_score', 'split3_test_score', 'split4_test_score', 'std_fit_time', 'std_score_time', 'std_test_score']\n",
      "최적 하이퍼 파라미터:  {'n_estimators': 500, 'max_depth': 10, 'learning_rate': 0.1}\n",
      "최고 예측 정확도: 0.8794\n"
     ]
    }
   ],
   "source": [
    "rand_cv = RandomizedSearchCV(xgb_mx, param_distributions=params, n_iter=100, cv=5, n_jobs=-1, verbose=3) # n_iter=100 : Search를 몇번할거냐\n",
    "rand_cv.fit(X_train_smt, y_train_smt)\n",
    "pred = rand_cv.predict(X_test_smt)\n",
    "print(sorted(rand_cv.cv_results_.keys()))\n",
    "print(f'최적 하이퍼 파라미터: ', rand_cv.best_params_)\n",
    "print(f'최고 예측 정확도: {rand_cv.best_score_ :.4f}')"
   ]
  },
  {
   "cell_type": "code",
   "execution_count": 67,
   "id": "8f719baa",
   "metadata": {},
   "outputs": [
    {
     "name": "stdout",
     "output_type": "stream",
     "text": [
      "0.887411376482504\n",
      "              precision    recall  f1-score   support\n",
      "\n",
      "           0       0.86      0.93      0.89     15298\n",
      "           1       0.92      0.85      0.88     15309\n",
      "\n",
      "    accuracy                           0.89     30607\n",
      "   macro avg       0.89      0.89      0.89     30607\n",
      "weighted avg       0.89      0.89      0.89     30607\n",
      "\n"
     ]
    }
   ],
   "source": [
    "xgb_mx = XGBClassifier(max_depth = 10, n_estimators= 500, n_jobs=-1, learning_rate=0.1, random_state=10)\n",
    "xgb_mx.fit(X_train_smt, y_train_smt)\n",
    "pred_xgb_mx_smt = xgb_mx.predict(X_test_smt)\n",
    "print(accuracy_score(y_test_smt, pred_xgb_mx_smt))\n",
    "print(classification_report(y_test_smt, pred_xgb_mx_smt))"
   ]
  },
  {
   "cell_type": "code",
   "execution_count": 68,
   "id": "de931193",
   "metadata": {},
   "outputs": [
    {
     "name": "stdout",
     "output_type": "stream",
     "text": [
      "0.8292708333333333\n",
      "              precision    recall  f1-score   support\n",
      "\n",
      "           0       0.88      0.93      0.90      8191\n",
      "           1       0.38      0.27      0.31      1409\n",
      "\n",
      "    accuracy                           0.83      9600\n",
      "   macro avg       0.63      0.60      0.61      9600\n",
      "weighted avg       0.81      0.83      0.82      9600\n",
      "\n"
     ]
    }
   ],
   "source": [
    "pred_xgb_mx_smt_test = xgb_mx.predict(X_test)\n",
    "print(accuracy_score(y_test, pred_xgb_mx_smt_test))\n",
    "print(classification_report(y_test, pred_xgb_mx_smt_test))"
   ]
  },
  {
   "cell_type": "code",
   "execution_count": 69,
   "id": "1ec8da06",
   "metadata": {},
   "outputs": [],
   "source": [
    "from imblearn.under_sampling import ClusterCentroids\n",
    "from sklearn.cluster import MiniBatchKMeans"
   ]
  },
  {
   "cell_type": "code",
   "execution_count": 70,
   "id": "810e3a33",
   "metadata": {},
   "outputs": [],
   "source": [
    "cc = ClusterCentroids(\n",
    "    estimator=MiniBatchKMeans(n_init=1, random_state=0), random_state=42\n",
    ")\n",
    "X_res2, y_res2 = cc.fit_resample(X, y)"
   ]
  },
  {
   "cell_type": "code",
   "execution_count": 71,
   "id": "c83296a1",
   "metadata": {},
   "outputs": [
    {
     "data": {
      "text/plain": [
       "conversion\n",
       "0    9394\n",
       "1    9394\n",
       "Name: count, dtype: int64"
      ]
     },
     "execution_count": 71,
     "metadata": {},
     "output_type": "execute_result"
    }
   ],
   "source": [
    "y_res2.value_counts()"
   ]
  },
  {
   "cell_type": "code",
   "execution_count": 72,
   "id": "0b42253f",
   "metadata": {},
   "outputs": [
    {
     "name": "stderr",
     "output_type": "stream",
     "text": [
      "C:\\Users\\hi\\anaconda3\\envs\\testenv\\lib\\site-packages\\sklearn\\model_selection\\_search.py:307: UserWarning: The total space of parameters 27 is smaller than n_iter=100. Running 27 iterations. For exhaustive searches, use GridSearchCV.\n",
      "  warnings.warn(\n"
     ]
    },
    {
     "name": "stdout",
     "output_type": "stream",
     "text": [
      "Fitting 5 folds for each of 27 candidates, totalling 135 fits\n",
      "['mean_fit_time', 'mean_score_time', 'mean_test_score', 'param_learning_rate', 'param_max_depth', 'param_n_estimators', 'params', 'rank_test_score', 'split0_test_score', 'split1_test_score', 'split2_test_score', 'split3_test_score', 'split4_test_score', 'std_fit_time', 'std_score_time', 'std_test_score']\n",
      "최적 하이퍼 파라미터:  {'n_estimators': 500, 'max_depth': 10, 'learning_rate': 0.1}\n",
      "최고 예측 정확도: 0.8794\n"
     ]
    }
   ],
   "source": [
    "rand_cv = RandomizedSearchCV(xgb_mx, param_distributions=params, n_iter=25, cv=5, n_jobs=-1, verbose=3) # n_iter=100 : Search를 몇번할거냐\n",
    "rand_cv.fit(X_res2, y_res2)\n",
    "pred = rand_cv.predict(X_valid)\n",
    "print(sorted(rand_cv.cv_results_.keys()))\n",
    "print(f'최적 하이퍼 파라미터: ', rand_cv.best_params_)\n",
    "print(f'최고 예측 정확도: {rand_cv.best_score_ :.4f}')"
   ]
  },
  {
   "cell_type": "code",
   "execution_count": null,
   "id": "aafc64ab",
   "metadata": {},
   "outputs": [],
   "source": []
  }
 ],
 "metadata": {
  "kernelspec": {
   "display_name": "testenv",
   "language": "python",
   "name": "testenv"
  },
  "language_info": {
   "codemirror_mode": {
    "name": "ipython",
    "version": 3
   },
   "file_extension": ".py",
   "mimetype": "text/x-python",
   "name": "python",
   "nbconvert_exporter": "python",
   "pygments_lexer": "ipython3",
   "version": "3.8.17"
  }
 },
 "nbformat": 4,
 "nbformat_minor": 5
}
