{
 "cells": [
  {
   "cell_type": "markdown",
   "id": "6a176916",
   "metadata": {},
   "source": [
    "#  __init__함수는 클래스 내에 있는 변수의 초깃값을 지정할 때 사용\n",
    "# 초깃값이란 객체를 처음 만들 때 지정하는 값이다. Human클래스의 초깃값으로 blood와 hobby를 설정.\n",
    "* 초깃값은 객체를 생성할 때 입력하는 호출 인수를 통해 지정 됨."
   ]
  },
  {
   "cell_type": "code",
   "execution_count": 1,
   "id": "8775e677",
   "metadata": {},
   "outputs": [],
   "source": [
    "class Human:\n",
    "\n",
    "    def __init__(self, blood, hobby):\n",
    "        self.blood = blood\n",
    "        self.hobby = hobby\n",
    "        \n",
    "    def run(self, time):\n",
    "        print(time, \"초 동안 달린다.\")"
   ]
  },
  {
   "cell_type": "markdown",
   "id": "ea816537",
   "metadata": {},
   "source": [
    "* 만든 클래스를 기반으로 객체를 생성해보자."
   ]
  },
  {
   "cell_type": "code",
   "execution_count": 6,
   "id": "7f7bb196",
   "metadata": {},
   "outputs": [
    {
     "name": "stdout",
     "output_type": "stream",
     "text": [
      "A\n",
      "music\n",
      "20 초 동안 달린다.\n"
     ]
    }
   ],
   "source": [
    "# 철수라는 객체를 만듦. 객체 cheolsoo는 blood = 'A', hobby = 'soccer'라는 초깃값으로 생성한다. 영희도 마찬가지다.\n",
    "cheolsoo = Human('A', 'soccer')\n",
    "yonghee = Human('B', 'music')\n",
    "print(cheolsoo.blood)\n",
    "print(yonghee.hobby)\n",
    "yonghee.run(20)"
   ]
  },
  {
   "cell_type": "code",
   "execution_count": 4,
   "id": "d71b63d9",
   "metadata": {},
   "outputs": [
    {
     "name": "stdout",
     "output_type": "stream",
     "text": [
      "10 초 동안 달린다.\n"
     ]
    }
   ],
   "source": [
    "#객체안에 run메서드를 실행하기. 입력변수로 10을 입력하면 10초동안 달린다는 메세지가 출력 됨.\n",
    "cheolsoo.run(10)"
   ]
  },
  {
   "cell_type": "code",
   "execution_count": null,
   "id": "f02769cf",
   "metadata": {},
   "outputs": [],
   "source": [
    "# del을 이용해 객체를 삭제할 수 있음.\n",
    "del cheolsoo"
   ]
  }
 ],
 "metadata": {
  "kernelspec": {
   "display_name": "testenv",
   "language": "python",
   "name": "testenv"
  },
  "language_info": {
   "codemirror_mode": {
    "name": "ipython",
    "version": 3
   },
   "file_extension": ".py",
   "mimetype": "text/x-python",
   "name": "python",
   "nbconvert_exporter": "python",
   "pygments_lexer": "ipython3",
   "version": "3.8.17"
  }
 },
 "nbformat": 4,
 "nbformat_minor": 5
}
