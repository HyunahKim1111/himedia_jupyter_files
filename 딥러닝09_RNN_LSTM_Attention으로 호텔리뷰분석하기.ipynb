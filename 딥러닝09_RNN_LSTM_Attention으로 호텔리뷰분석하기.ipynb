{
 "cells": [
  {
   "cell_type": "code",
   "execution_count": 1,
   "id": "70b4740c",
   "metadata": {},
   "outputs": [],
   "source": [
    "from tensorflow.keras.preprocessing.text import Tokenizer, text_to_word_sequence\n",
    "from tensorflow.keras.preprocessing.sequence import pad_sequences\n",
    "from tensorflow.keras.models import Sequential\n",
    "from tensorflow.keras.layers import Dense, Flatten, Embedding\n",
    "from tensorflow.keras.callbacks import ModelCheckpoint, EarlyStopping\n",
    "from tensorflow.keras.utils import to_categorical\n",
    "from numpy import array"
   ]
  },
  {
   "cell_type": "code",
   "execution_count": 2,
   "id": "c7b74b16",
   "metadata": {},
   "outputs": [],
   "source": [
    "import pandas as pd\n",
    "import numpy as np\n",
    "import matplotlib.pyplot as plt\n",
    "import seaborn as sns\n",
    "import koreanize_matplotlib\n",
    "import os"
   ]
  },
  {
   "cell_type": "code",
   "execution_count": 3,
   "id": "a6e59d41",
   "metadata": {},
   "outputs": [
    {
     "data": {
      "text/html": [
       "<div>\n",
       "<style scoped>\n",
       "    .dataframe tbody tr th:only-of-type {\n",
       "        vertical-align: middle;\n",
       "    }\n",
       "\n",
       "    .dataframe tbody tr th {\n",
       "        vertical-align: top;\n",
       "    }\n",
       "\n",
       "    .dataframe thead th {\n",
       "        text-align: right;\n",
       "    }\n",
       "</style>\n",
       "<table border=\"1\" class=\"dataframe\">\n",
       "  <thead>\n",
       "    <tr style=\"text-align: right;\">\n",
       "      <th></th>\n",
       "      <th>Unnamed: 0.1</th>\n",
       "      <th>Unnamed: 0</th>\n",
       "      <th>hotelId</th>\n",
       "      <th>hotelName</th>\n",
       "      <th>tripType</th>\n",
       "      <th>tripTypeText</th>\n",
       "      <th>reviewDate</th>\n",
       "      <th>rating</th>\n",
       "      <th>description</th>\n",
       "      <th>isKorNot</th>\n",
       "    </tr>\n",
       "  </thead>\n",
       "  <tbody>\n",
       "    <tr>\n",
       "      <th>0</th>\n",
       "      <td>0</td>\n",
       "      <td>356</td>\n",
       "      <td>105343</td>\n",
       "      <td>서울 웨스틴조선호텔 (The Westin Chosun Seoul)</td>\n",
       "      <td>family</td>\n",
       "      <td>1박 가족 여행</td>\n",
       "      <td>2019년 1월 26일</td>\n",
       "      <td>10.0</td>\n",
       "      <td>직원들 서비스나 마인드 완벽합니다 다만 노후된 시설과 좁은 라운지가 호텔 이름에 비...</td>\n",
       "      <td>True</td>\n",
       "    </tr>\n",
       "    <tr>\n",
       "      <th>1</th>\n",
       "      <td>1</td>\n",
       "      <td>357</td>\n",
       "      <td>105343</td>\n",
       "      <td>서울 웨스틴조선호텔 (The Westin Chosun Seoul)</td>\n",
       "      <td>family</td>\n",
       "      <td>1박 가족 여행</td>\n",
       "      <td>2019년 2월 4일</td>\n",
       "      <td>10.0</td>\n",
       "      <td>웨스틴조선은 모든면에서 최고의 숙소라고 생각합니다 분위기 편의성 직원친절도까지 모두...</td>\n",
       "      <td>True</td>\n",
       "    </tr>\n",
       "  </tbody>\n",
       "</table>\n",
       "</div>"
      ],
      "text/plain": [
       "   Unnamed: 0.1  Unnamed: 0  hotelId                             hotelName  \\\n",
       "0             0         356   105343  서울 웨스틴조선호텔 (The Westin Chosun Seoul)   \n",
       "1             1         357   105343  서울 웨스틴조선호텔 (The Westin Chosun Seoul)   \n",
       "\n",
       "  tripType tripTypeText    reviewDate  rating  \\\n",
       "0   family     1박 가족 여행  2019년 1월 26일    10.0   \n",
       "1   family     1박 가족 여행   2019년 2월 4일    10.0   \n",
       "\n",
       "                                         description  isKorNot  \n",
       "0  직원들 서비스나 마인드 완벽합니다 다만 노후된 시설과 좁은 라운지가 호텔 이름에 비...      True  \n",
       "1  웨스틴조선은 모든면에서 최고의 숙소라고 생각합니다 분위기 편의성 직원친절도까지 모두...      True  "
      ]
     },
     "execution_count": 3,
     "metadata": {},
     "output_type": "execute_result"
    }
   ],
   "source": [
    "data = pd.read_csv(\"https://raw.githubusercontent.com/haram4th/ablearn/main/hotel_review_75000.csv\")\n",
    "data.head(2)"
   ]
  },
  {
   "cell_type": "code",
   "execution_count": 4,
   "id": "66175e01",
   "metadata": {},
   "outputs": [
    {
     "data": {
      "text/plain": [
       "Index(['Unnamed: 0.1', 'Unnamed: 0', 'hotelId', 'hotelName', 'tripType',\n",
       "       'tripTypeText', 'reviewDate', 'rating', 'description', 'isKorNot'],\n",
       "      dtype='object')"
      ]
     },
     "execution_count": 4,
     "metadata": {},
     "output_type": "execute_result"
    }
   ],
   "source": [
    "data.columns"
   ]
  },
  {
   "cell_type": "code",
   "execution_count": 5,
   "id": "a847fbb6",
   "metadata": {},
   "outputs": [],
   "source": [
    "data = data[['rating', 'description']]"
   ]
  },
  {
   "cell_type": "code",
   "execution_count": 6,
   "id": "f65b25b9",
   "metadata": {},
   "outputs": [
    {
     "name": "stdout",
     "output_type": "stream",
     "text": [
      "<class 'pandas.core.frame.DataFrame'>\n",
      "RangeIndex: 75000 entries, 0 to 74999\n",
      "Data columns (total 2 columns):\n",
      " #   Column       Non-Null Count  Dtype  \n",
      "---  ------       --------------  -----  \n",
      " 0   rating       75000 non-null  float64\n",
      " 1   description  75000 non-null  object \n",
      "dtypes: float64(1), object(1)\n",
      "memory usage: 1.1+ MB\n"
     ]
    }
   ],
   "source": [
    "data.info()"
   ]
  },
  {
   "cell_type": "markdown",
   "id": "04c0b966",
   "metadata": {},
   "source": [
    "* rating 8 이상이면 긍정 1, 미만은 부정 0 으로 해서 target 컬럼 생성\n",
    "* description컬럼 토크나이징, 시퀀스로 변환, 임베딩\n",
    "* train, valid, test로 데이터 분할\n",
    "* 딥러닝 네트워크 생성 후 분석\n",
    "* early_stopping, modelcheckpoint \n",
    "* 그래프로 loss 출력"
   ]
  },
  {
   "cell_type": "code",
   "execution_count": 7,
   "id": "f065fbbc",
   "metadata": {},
   "outputs": [
    {
     "data": {
      "text/html": [
       "<div>\n",
       "<style scoped>\n",
       "    .dataframe tbody tr th:only-of-type {\n",
       "        vertical-align: middle;\n",
       "    }\n",
       "\n",
       "    .dataframe tbody tr th {\n",
       "        vertical-align: top;\n",
       "    }\n",
       "\n",
       "    .dataframe thead th {\n",
       "        text-align: right;\n",
       "    }\n",
       "</style>\n",
       "<table border=\"1\" class=\"dataframe\">\n",
       "  <thead>\n",
       "    <tr style=\"text-align: right;\">\n",
       "      <th></th>\n",
       "      <th>rating</th>\n",
       "      <th>description</th>\n",
       "    </tr>\n",
       "  </thead>\n",
       "  <tbody>\n",
       "    <tr>\n",
       "      <th>0</th>\n",
       "      <td>10.0</td>\n",
       "      <td>직원들 서비스나 마인드 완벽합니다 다만 노후된 시설과 좁은 라운지가 호텔 이름에 비...</td>\n",
       "    </tr>\n",
       "    <tr>\n",
       "      <th>1</th>\n",
       "      <td>10.0</td>\n",
       "      <td>웨스틴조선은 모든면에서 최고의 숙소라고 생각합니다 분위기 편의성 직원친절도까지 모두...</td>\n",
       "    </tr>\n",
       "  </tbody>\n",
       "</table>\n",
       "</div>"
      ],
      "text/plain": [
       "   rating                                        description\n",
       "0    10.0  직원들 서비스나 마인드 완벽합니다 다만 노후된 시설과 좁은 라운지가 호텔 이름에 비...\n",
       "1    10.0  웨스틴조선은 모든면에서 최고의 숙소라고 생각합니다 분위기 편의성 직원친절도까지 모두..."
      ]
     },
     "execution_count": 7,
     "metadata": {},
     "output_type": "execute_result"
    }
   ],
   "source": [
    "data.head(2)"
   ]
  },
  {
   "cell_type": "code",
   "execution_count": 8,
   "id": "0bcdda99",
   "metadata": {},
   "outputs": [],
   "source": [
    "data['target'] = data['rating'].apply(lambda x: 1 if x >=8 else 0)"
   ]
  },
  {
   "cell_type": "code",
   "execution_count": 9,
   "id": "78e4d9f0",
   "metadata": {},
   "outputs": [
    {
     "data": {
      "text/html": [
       "<div>\n",
       "<style scoped>\n",
       "    .dataframe tbody tr th:only-of-type {\n",
       "        vertical-align: middle;\n",
       "    }\n",
       "\n",
       "    .dataframe tbody tr th {\n",
       "        vertical-align: top;\n",
       "    }\n",
       "\n",
       "    .dataframe thead th {\n",
       "        text-align: right;\n",
       "    }\n",
       "</style>\n",
       "<table border=\"1\" class=\"dataframe\">\n",
       "  <thead>\n",
       "    <tr style=\"text-align: right;\">\n",
       "      <th></th>\n",
       "      <th>rating</th>\n",
       "      <th>description</th>\n",
       "      <th>target</th>\n",
       "    </tr>\n",
       "  </thead>\n",
       "  <tbody>\n",
       "    <tr>\n",
       "      <th>0</th>\n",
       "      <td>10.0</td>\n",
       "      <td>직원들 서비스나 마인드 완벽합니다 다만 노후된 시설과 좁은 라운지가 호텔 이름에 비...</td>\n",
       "      <td>1</td>\n",
       "    </tr>\n",
       "    <tr>\n",
       "      <th>1</th>\n",
       "      <td>10.0</td>\n",
       "      <td>웨스틴조선은 모든면에서 최고의 숙소라고 생각합니다 분위기 편의성 직원친절도까지 모두...</td>\n",
       "      <td>1</td>\n",
       "    </tr>\n",
       "    <tr>\n",
       "      <th>2</th>\n",
       "      <td>10.0</td>\n",
       "      <td>서울시내에서 호캉스를 누릴 수 있는 곳아침 뷔페가 맛있는 곳룸서비스가 좋았음요구사항...</td>\n",
       "      <td>1</td>\n",
       "    </tr>\n",
       "    <tr>\n",
       "      <th>3</th>\n",
       "      <td>10.0</td>\n",
       "      <td>가격에 맞게 만족했습니다</td>\n",
       "      <td>1</td>\n",
       "    </tr>\n",
       "    <tr>\n",
       "      <th>4</th>\n",
       "      <td>10.0</td>\n",
       "      <td>처음 세명으로 셋팅 되어있지 않은점 빼고는 직원들의 친절도 및 서비스는 모두 맘에 ...</td>\n",
       "      <td>1</td>\n",
       "    </tr>\n",
       "  </tbody>\n",
       "</table>\n",
       "</div>"
      ],
      "text/plain": [
       "   rating                                        description  target\n",
       "0    10.0  직원들 서비스나 마인드 완벽합니다 다만 노후된 시설과 좁은 라운지가 호텔 이름에 비...       1\n",
       "1    10.0  웨스틴조선은 모든면에서 최고의 숙소라고 생각합니다 분위기 편의성 직원친절도까지 모두...       1\n",
       "2    10.0  서울시내에서 호캉스를 누릴 수 있는 곳아침 뷔페가 맛있는 곳룸서비스가 좋았음요구사항...       1\n",
       "3    10.0                                      가격에 맞게 만족했습니다       1\n",
       "4    10.0  처음 세명으로 셋팅 되어있지 않은점 빼고는 직원들의 친절도 및 서비스는 모두 맘에 ...       1"
      ]
     },
     "execution_count": 9,
     "metadata": {},
     "output_type": "execute_result"
    }
   ],
   "source": [
    "data.head()"
   ]
  },
  {
   "cell_type": "code",
   "execution_count": 10,
   "id": "8b63ab4a",
   "metadata": {
    "scrolled": true
   },
   "outputs": [
    {
     "data": {
      "text/plain": [
       "pandas.core.series.Series"
      ]
     },
     "execution_count": 10,
     "metadata": {},
     "output_type": "execute_result"
    }
   ],
   "source": [
    "type(data['description']) # 리스트, np.array"
   ]
  },
  {
   "cell_type": "code",
   "execution_count": 11,
   "id": "57f7c909",
   "metadata": {},
   "outputs": [],
   "source": [
    "text = data['description'][0]"
   ]
  },
  {
   "cell_type": "code",
   "execution_count": 12,
   "id": "0675a9ee",
   "metadata": {},
   "outputs": [
    {
     "name": "stdout",
     "output_type": "stream",
     "text": [
      "원문:  직원들 서비스나 마인드 완벽합니다 다만 노후된 시설과 좁은 라운지가 호텔 이름에 비해 약간 부족합니다\n",
      "토큰화:  ['직원들', '서비스나', '마인드', '완벽합니다', '다만', '노후된', '시설과', '좁은', '라운지가', '호텔', '이름에', '비해', '약간', '부족합니다']\n"
     ]
    }
   ],
   "source": [
    "result = text_to_word_sequence(data['description'][0])\n",
    "print(\"원문: \", text)\n",
    "print(\"토큰화: \", result) #토큰, 코퍼스(corpus)"
   ]
  },
  {
   "cell_type": "code",
   "execution_count": 13,
   "id": "91049914",
   "metadata": {},
   "outputs": [],
   "source": [
    "# 단어 빈도수 세기\n",
    "docs = data['description']"
   ]
  },
  {
   "cell_type": "markdown",
   "id": "8774dea8",
   "metadata": {},
   "source": [
    "# 토크나이저 사용법"
   ]
  },
  {
   "cell_type": "code",
   "execution_count": 14,
   "id": "ee81e135",
   "metadata": {},
   "outputs": [],
   "source": [
    "# 문장 토큰화 하기\n",
    "token = Tokenizer(lower=False)\n",
    "token.fit_on_texts(docs)"
   ]
  },
  {
   "cell_type": "code",
   "execution_count": 15,
   "id": "59932b39",
   "metadata": {
    "collapsed": true
   },
   "outputs": [
    {
     "name": "stderr",
     "output_type": "stream",
     "text": [
      "IOPub data rate exceeded.\n",
      "The notebook server will temporarily stop sending output\n",
      "to the client in order to avoid crashing it.\n",
      "To change this limit, set the config variable\n",
      "`--NotebookApp.iopub_data_rate_limit`.\n",
      "\n",
      "Current values:\n",
      "NotebookApp.iopub_data_rate_limit=1000000.0 (bytes/sec)\n",
      "NotebookApp.rate_limit_window=3.0 (secs)\n",
      "\n"
     ]
    }
   ],
   "source": [
    "print('단어 카운트: ', token.word_counts)"
   ]
  },
  {
   "cell_type": "code",
   "execution_count": 16,
   "id": "7cc4e726",
   "metadata": {
    "collapsed": true
   },
   "outputs": [
    {
     "name": "stdout",
     "output_type": "stream",
     "text": [
      "문장 카운트: 75000\n"
     ]
    }
   ],
   "source": [
    "print('문장 카운트:', token.document_count)"
   ]
  },
  {
   "cell_type": "code",
   "execution_count": 17,
   "id": "f500c076",
   "metadata": {
    "collapsed": true
   },
   "outputs": [
    {
     "name": "stdout",
     "output_type": "stream",
     "text": [
      "각 단어가 몇 개의 문장에 포함되어 있는가?  "
     ]
    },
    {
     "name": "stderr",
     "output_type": "stream",
     "text": [
      "IOPub data rate exceeded.\n",
      "The notebook server will temporarily stop sending output\n",
      "to the client in order to avoid crashing it.\n",
      "To change this limit, set the config variable\n",
      "`--NotebookApp.iopub_data_rate_limit`.\n",
      "\n",
      "Current values:\n",
      "NotebookApp.iopub_data_rate_limit=1000000.0 (bytes/sec)\n",
      "NotebookApp.rate_limit_window=3.0 (secs)\n",
      "\n"
     ]
    }
   ],
   "source": [
    "print('각 단어가 몇 개의 문장에 포함되어 있는가? ', token.word_docs)"
   ]
  },
  {
   "cell_type": "code",
   "execution_count": 18,
   "id": "c0cb006e",
   "metadata": {
    "collapsed": true
   },
   "outputs": [
    {
     "name": "stdout",
     "output_type": "stream",
     "text": [
      "각 단어에 매겨진 인덱스: "
     ]
    },
    {
     "name": "stderr",
     "output_type": "stream",
     "text": [
      "IOPub data rate exceeded.\n",
      "The notebook server will temporarily stop sending output\n",
      "to the client in order to avoid crashing it.\n",
      "To change this limit, set the config variable\n",
      "`--NotebookApp.iopub_data_rate_limit`.\n",
      "\n",
      "Current values:\n",
      "NotebookApp.iopub_data_rate_limit=1000000.0 (bytes/sec)\n",
      "NotebookApp.rate_limit_window=3.0 (secs)\n",
      "\n"
     ]
    }
   ],
   "source": [
    "print('각 단어에 매겨진 인덱스:', token.word_index)"
   ]
  },
  {
   "cell_type": "code",
   "execution_count": 19,
   "id": "9d80feb7",
   "metadata": {
    "collapsed": true
   },
   "outputs": [
    {
     "data": {
      "text/plain": [
       "261893"
      ]
     },
     "execution_count": 19,
     "metadata": {},
     "output_type": "execute_result"
    }
   ],
   "source": [
    "len(token.word_index)"
   ]
  },
  {
   "cell_type": "markdown",
   "id": "ee892da7",
   "metadata": {},
   "source": [
    "# 단어의 원-핫 인코딩"
   ]
  },
  {
   "cell_type": "code",
   "execution_count": 20,
   "id": "ed794e08",
   "metadata": {},
   "outputs": [
    {
     "name": "stdout",
     "output_type": "stream",
     "text": [
      "{'직원들': 1, '서비스나': 2, '마인드': 3, '완벽합니다': 4, '다만': 5, '노후된': 6, '시설과': 7, '좁은': 8, '라운지가': 9, '호텔': 10, '이름에': 11, '비해': 12, '약간': 13, '부족합니다': 14}\n"
     ]
    }
   ],
   "source": [
    "text = data['description'][0]\n",
    "token = Tokenizer(lower=False)\n",
    "token.fit_on_texts([text])\n",
    "print(token.word_index)"
   ]
  },
  {
   "cell_type": "code",
   "execution_count": 21,
   "id": "371a2999",
   "metadata": {},
   "outputs": [],
   "source": [
    "# 단어를 벡터로 변환\n",
    "x = token.texts_to_sequences([text])"
   ]
  },
  {
   "cell_type": "code",
   "execution_count": 22,
   "id": "cabf7e6e",
   "metadata": {},
   "outputs": [
    {
     "data": {
      "text/plain": [
       "14"
      ]
     },
     "execution_count": 22,
     "metadata": {},
     "output_type": "execute_result"
    }
   ],
   "source": [
    "len(token.word_index)"
   ]
  },
  {
   "cell_type": "code",
   "execution_count": 39,
   "id": "206b0ff8",
   "metadata": {},
   "outputs": [],
   "source": [
    "# 인덱스에 1을 추가해서 원-핫 인코딩 배열 만들기\n",
    "word_size = len(token.word_index) + 1"
   ]
  },
  {
   "cell_type": "code",
   "execution_count": 40,
   "id": "aac6263b",
   "metadata": {},
   "outputs": [
    {
     "data": {
      "text/plain": [
       "261894"
      ]
     },
     "execution_count": 40,
     "metadata": {},
     "output_type": "execute_result"
    }
   ],
   "source": [
    "word_size"
   ]
  },
  {
   "cell_type": "code",
   "execution_count": 24,
   "id": "cf2517a1",
   "metadata": {},
   "outputs": [
    {
     "name": "stdout",
     "output_type": "stream",
     "text": [
      "[[[0. 1. 0. 0. 0. 0. 0. 0. 0. 0. 0. 0. 0. 0. 0.]\n",
      "  [0. 0. 1. 0. 0. 0. 0. 0. 0. 0. 0. 0. 0. 0. 0.]\n",
      "  [0. 0. 0. 1. 0. 0. 0. 0. 0. 0. 0. 0. 0. 0. 0.]\n",
      "  [0. 0. 0. 0. 1. 0. 0. 0. 0. 0. 0. 0. 0. 0. 0.]\n",
      "  [0. 0. 0. 0. 0. 1. 0. 0. 0. 0. 0. 0. 0. 0. 0.]\n",
      "  [0. 0. 0. 0. 0. 0. 1. 0. 0. 0. 0. 0. 0. 0. 0.]\n",
      "  [0. 0. 0. 0. 0. 0. 0. 1. 0. 0. 0. 0. 0. 0. 0.]\n",
      "  [0. 0. 0. 0. 0. 0. 0. 0. 1. 0. 0. 0. 0. 0. 0.]\n",
      "  [0. 0. 0. 0. 0. 0. 0. 0. 0. 1. 0. 0. 0. 0. 0.]\n",
      "  [0. 0. 0. 0. 0. 0. 0. 0. 0. 0. 1. 0. 0. 0. 0.]\n",
      "  [0. 0. 0. 0. 0. 0. 0. 0. 0. 0. 0. 1. 0. 0. 0.]\n",
      "  [0. 0. 0. 0. 0. 0. 0. 0. 0. 0. 0. 0. 1. 0. 0.]\n",
      "  [0. 0. 0. 0. 0. 0. 0. 0. 0. 0. 0. 0. 0. 1. 0.]\n",
      "  [0. 0. 0. 0. 0. 0. 0. 0. 0. 0. 0. 0. 0. 0. 1.]]]\n"
     ]
    }
   ],
   "source": [
    "x = to_categorical(x, num_classes=word_size)\n",
    "print(x)"
   ]
  },
  {
   "cell_type": "code",
   "execution_count": 25,
   "id": "cb262741",
   "metadata": {},
   "outputs": [
    {
     "data": {
      "text/plain": [
       "(1, 14, 15)"
      ]
     },
     "execution_count": 25,
     "metadata": {},
     "output_type": "execute_result"
    }
   ],
   "source": [
    "x.shape"
   ]
  },
  {
   "cell_type": "markdown",
   "id": "c2417360",
   "metadata": {},
   "source": [
    "# 텍스트를 읽고 긍정, 부정 예측하기"
   ]
  },
  {
   "cell_type": "code",
   "execution_count": 26,
   "id": "def71167",
   "metadata": {},
   "outputs": [],
   "source": [
    "docs = data['description']\n",
    "\n",
    "# 긍정 리뷰는 1, 부정리뷰는 0으로 클래스 지정\n",
    "classes = data['target']"
   ]
  },
  {
   "cell_type": "code",
   "execution_count": 27,
   "id": "d73b514e",
   "metadata": {},
   "outputs": [
    {
     "data": {
      "text/plain": [
       "261893"
      ]
     },
     "execution_count": 27,
     "metadata": {},
     "output_type": "execute_result"
    }
   ],
   "source": [
    "# 토큰화\n",
    "token = Tokenizer(lower=False)\n",
    "token.fit_on_texts(docs)\n",
    "len(token.word_index)"
   ]
  },
  {
   "cell_type": "code",
   "execution_count": 28,
   "id": "3cbcfa2f",
   "metadata": {},
   "outputs": [
    {
     "name": "stderr",
     "output_type": "stream",
     "text": [
      "IOPub data rate exceeded.\n",
      "The notebook server will temporarily stop sending output\n",
      "to the client in order to avoid crashing it.\n",
      "To change this limit, set the config variable\n",
      "`--NotebookApp.iopub_data_rate_limit`.\n",
      "\n",
      "Current values:\n",
      "NotebookApp.iopub_data_rate_limit=1000000.0 (bytes/sec)\n",
      "NotebookApp.rate_limit_window=3.0 (secs)\n",
      "\n"
     ]
    }
   ],
   "source": [
    "# 단어에 숫자를 부여\n",
    "x = token.texts_to_sequences(docs)\n",
    "print(x)"
   ]
  },
  {
   "cell_type": "code",
   "execution_count": 29,
   "id": "15cb5360",
   "metadata": {},
   "outputs": [
    {
     "data": {
      "text/plain": [
       "0        [268, 1162, 5870, 5689, 26, 1875, 661, 581, 48...\n",
       "1        [67077, 1725, 308, 4636, 488, 566, 6066, 67078...\n",
       "2        [21641, 1628, 8335, 7, 17, 42175, 3242, 849, 6...\n",
       "3                                         [117, 2276, 178]\n",
       "4        [214, 42176, 12702, 2929, 21643, 224, 326, 110...\n",
       "                               ...                        \n",
       "74995    [2226, 47880, 261879, 6346, 507, 261880, 26188...\n",
       "74996    [216, 16, 261888, 136, 21461, 93, 4619, 9183, ...\n",
       "74997    [27422, 20, 321, 261889, 4, 1159, 14804, 34736...\n",
       "74998    [407, 67, 1, 47, 896, 973, 1440, 196, 38, 2287...\n",
       "74999    [203, 1800, 57849, 12186, 165, 261892, 4611, 4...\n",
       "Length: 75000, dtype: object"
      ]
     },
     "execution_count": 29,
     "metadata": {},
     "output_type": "execute_result"
    }
   ],
   "source": [
    "# 최대값 찾는 방법\n",
    "x2 = pd.Series(x)\n",
    "x2"
   ]
  },
  {
   "cell_type": "code",
   "execution_count": 30,
   "id": "a1880083",
   "metadata": {},
   "outputs": [
    {
     "data": {
      "text/plain": [
       "377"
      ]
     },
     "execution_count": 30,
     "metadata": {},
     "output_type": "execute_result"
    }
   ],
   "source": [
    "x2_len = x2.apply(len)\n",
    "x2_len.max()"
   ]
  },
  {
   "cell_type": "code",
   "execution_count": 31,
   "id": "d330cec9",
   "metadata": {},
   "outputs": [
    {
     "name": "stdout",
     "output_type": "stream",
     "text": [
      "패딩 결과 [[     0      0      0 ...    101     83   2604]\n",
      " [     0      0      0 ...  67078     31   3858]\n",
      " [     0      0      0 ...  67082    665   4111]\n",
      " ...\n",
      " [     0      0      0 ...    195  42071  39796]\n",
      " [     0      0      0 ... 261891    502    437]\n",
      " [     0      0      0 ...   3199   8900     64]]\n"
     ]
    }
   ],
   "source": [
    "# 패딩 추가 pad_sequences(데이터, 가장 긴 문장의 길이)\n",
    "padded_x = pad_sequences(x, 377)\n",
    "print(\"패딩 결과\", padded_x )"
   ]
  },
  {
   "cell_type": "code",
   "execution_count": 32,
   "id": "5d082a49",
   "metadata": {},
   "outputs": [],
   "source": [
    "#임베딩에 입력된 단어의 수 지정\n",
    "word_size = len(token.word_index) + 1"
   ]
  },
  {
   "cell_type": "code",
   "execution_count": 33,
   "id": "d40d331a",
   "metadata": {},
   "outputs": [],
   "source": [
    "from sklearn.model_selection import train_test_split\n",
    "X_train, X_test, y_train, y_test = train_test_split(padded_x, classes, test_size=0.4, random_state=7)\n",
    "X_valid, X_test, y_valid, y_test = train_test_split(X_test, y_test, test_size=0.5, random_state=7)"
   ]
  },
  {
   "cell_type": "code",
   "execution_count": 34,
   "id": "1b6f7633",
   "metadata": {},
   "outputs": [
    {
     "data": {
      "text/plain": [
       "261894"
      ]
     },
     "execution_count": 34,
     "metadata": {},
     "output_type": "execute_result"
    }
   ],
   "source": [
    "word_size"
   ]
  },
  {
   "cell_type": "code",
   "execution_count": 35,
   "id": "ec48d82f",
   "metadata": {},
   "outputs": [
    {
     "name": "stdout",
     "output_type": "stream",
     "text": [
      "Model: \"sequential\"\n",
      "_________________________________________________________________\n",
      " Layer (type)                Output Shape              Param #   \n",
      "=================================================================\n",
      " embedding (Embedding)       (None, 377, 32)           8380608   \n",
      "                                                                 \n",
      " flatten (Flatten)           (None, 12064)             0         \n",
      "                                                                 \n",
      " dense (Dense)               (None, 1)                 12065     \n",
      "                                                                 \n",
      "=================================================================\n",
      "Total params: 8,392,673\n",
      "Trainable params: 8,392,673\n",
      "Non-trainable params: 0\n",
      "_________________________________________________________________\n"
     ]
    }
   ],
   "source": [
    "# 단어 임베딩을 포함해서 딥러닝 모델 생성\n",
    "model = Sequential()\n",
    "model.add(Embedding(word_size, 32, input_length=377)) \n",
    "model.add(Flatten())\n",
    "model.add(Dense(1, activation='sigmoid'))\n",
    "model.summary()"
   ]
  },
  {
   "cell_type": "code",
   "execution_count": 36,
   "id": "3050c15f",
   "metadata": {},
   "outputs": [],
   "source": [
    "modelpath = \"./model/{epoch:02d}-{val_accuracy:.4f}.hdf5\"\n",
    "checkpointer = ModelCheckpoint(filepath=modelpath, monitor='val_loss', verbose=1, save_best_only=True)\n",
    "early_stopping_callback = EarlyStopping(monitor='val_loss', patience=2)"
   ]
  },
  {
   "cell_type": "code",
   "execution_count": 37,
   "id": "c1a479d6",
   "metadata": {
    "scrolled": true
   },
   "outputs": [
    {
     "name": "stdout",
     "output_type": "stream",
     "text": [
      "Epoch 1/5\n",
      "1407/1407 [==============================] - 73s 51ms/step - loss: 0.3628 - accuracy: 0.8391 - val_loss: 0.3087 - val_accuracy: 0.8691\n",
      "Epoch 2/5\n",
      "1407/1407 [==============================] - 85s 60ms/step - loss: 0.1798 - accuracy: 0.9336 - val_loss: 0.3343 - val_accuracy: 0.8650\n",
      "Epoch 3/5\n",
      "1407/1407 [==============================] - 84s 60ms/step - loss: 0.0801 - accuracy: 0.9756 - val_loss: 0.3919 - val_accuracy: 0.8562\n",
      "Epoch 4/5\n",
      "1407/1407 [==============================] - 84s 60ms/step - loss: 0.0406 - accuracy: 0.9887 - val_loss: 0.4527 - val_accuracy: 0.8501\n",
      "Epoch 5/5\n",
      "1407/1407 [==============================] - 84s 60ms/step - loss: 0.0246 - accuracy: 0.9934 - val_loss: 0.5207 - val_accuracy: 0.8471\n",
      "469/469 [==============================] - 2s 4ms/step - loss: 0.5246 - accuracy: 0.8458\n",
      "Accuracy:  0.84579998254776\n"
     ]
    }
   ],
   "source": [
    "model.compile(loss= 'binary_crossentropy', optimizer='adam', metrics=['accuracy'])\n",
    "history = model.fit(X_train, y_train, epochs=5, validation_data=(X_valid, y_valid))\n",
    "print('Accuracy: ', model.evaluate(X_test, y_test)[1])"
   ]
  },
  {
   "cell_type": "code",
   "execution_count": 47,
   "id": "147dcdbe",
   "metadata": {},
   "outputs": [],
   "source": [
    "def plt_show(x):\n",
    "    y_val_loss = history.history['val_loss']\n",
    "    y_loss = history.history['loss']\n",
    "    x_len = np.arange(len(y_loss))\n",
    "    plt.plot(x_len, y_val_loss, marker='.', c=\"red\", label='Testset_loss')\n",
    "    plt.plot(x_len, y_loss, marker='.', c=\"blue\", label='trainset_loss')\n",
    "    plt.legend(loc='upper right')\n",
    "    plt.grid()\n",
    "    plt.xlabel('epoch')\n",
    "    plt.ylabel('loss')\n",
    "    plt.show()"
   ]
  },
  {
   "cell_type": "markdown",
   "id": "be0cd646",
   "metadata": {},
   "source": [
    "# RNN, LSTM 텍스트 분석하기\n",
    "## RNN\n",
    "* RNN(Recurrent Neural Network): 시간적으로 연속성이 있는 데이터를 처리하려고 만든 인공 신경망\n",
    "* 이전 은닉층이 현재 은닉층에 입력이 되면서 '반복되는 순호나 구조를 갖음'\n",
    "* RNN의 가장 큰 차이점은 기억(memory)을 갖는 신경망\n",
    "* 텍스트 분석, 시계열 데이터 분석에 활용\n",
    "## LSTM\n",
    "* RNN은 입력이 길어지면 가장 먼저 입력된 정보를 잊어버린다.(기울기 소실문제가 생김)\n",
    "* 기울기 소멸 문제를 해결하기 위해 망각 게이트, 입력 게이트, 출력 게이트 추가\n",
    "* 정보가 소실되지 않고 계속 기억되도록 함."
   ]
  },
  {
   "cell_type": "code",
   "execution_count": 41,
   "id": "bdc8a42a",
   "metadata": {},
   "outputs": [],
   "source": [
    "from tensorflow.keras.layers import LSTM"
   ]
  },
  {
   "cell_type": "code",
   "execution_count": 43,
   "id": "82d368ee",
   "metadata": {},
   "outputs": [
    {
     "name": "stdout",
     "output_type": "stream",
     "text": [
      "Model: \"sequential_2\"\n",
      "_________________________________________________________________\n",
      " Layer (type)                Output Shape              Param #   \n",
      "=================================================================\n",
      " embedding_1 (Embedding)     (None, 377, 32)           8380608   \n",
      "                                                                 \n",
      " lstm (LSTM)                 (None, 377)               618280    \n",
      "                                                                 \n",
      " dense_1 (Dense)             (None, 1)                 378       \n",
      "                                                                 \n",
      "=================================================================\n",
      "Total params: 8,999,266\n",
      "Trainable params: 8,999,266\n",
      "Non-trainable params: 0\n",
      "_________________________________________________________________\n"
     ]
    }
   ],
   "source": [
    "model = Sequential()\n",
    "model.add(Embedding(word_size, 32, input_length=377))\n",
    "model.add(LSTM(377, activation='tanh')) # LSTM에서는 하이퍼볼릭 탄젠트 활성화 함수를 사용.\n",
    "model.add(Dense(1, activation='sigmoid'))\n",
    "model.summary()"
   ]
  },
  {
   "cell_type": "code",
   "execution_count": 44,
   "id": "01fa13d5",
   "metadata": {},
   "outputs": [],
   "source": [
    "modelpath = \"./model/{epoch:02d}-{val_accuracy:.4f}.hdf5\"\n",
    "checkpointer = ModelCheckpoint(filepath=modelpath, monitor='val_loss', verbose=1, save_best_only=True)\n",
    "early_stopping_callback = EarlyStopping(monitor='val_loss', patience=2)"
   ]
  },
  {
   "cell_type": "code",
   "execution_count": 45,
   "id": "a2cd9739",
   "metadata": {},
   "outputs": [
    {
     "name": "stdout",
     "output_type": "stream",
     "text": [
      "Epoch 1/5\n",
      "1407/1407 [==============================] - 1453s 1s/step - loss: 0.3602 - accuracy: 0.8457 - val_loss: 0.3110 - val_accuracy: 0.8745\n",
      "Epoch 2/5\n",
      "1407/1407 [==============================] - 400s 284ms/step - loss: 0.1662 - accuracy: 0.9407 - val_loss: 0.3617 - val_accuracy: 0.8596\n",
      "Epoch 3/5\n",
      "1407/1407 [==============================] - 395s 281ms/step - loss: 0.0700 - accuracy: 0.9777 - val_loss: 0.4718 - val_accuracy: 0.8406\n",
      "Epoch 4/5\n",
      "1407/1407 [==============================] - 397s 282ms/step - loss: 0.0390 - accuracy: 0.9874 - val_loss: 0.5781 - val_accuracy: 0.8462\n",
      "Epoch 5/5\n",
      "1407/1407 [==============================] - 405s 288ms/step - loss: 0.0273 - accuracy: 0.9919 - val_loss: 0.8151 - val_accuracy: 0.8391\n",
      "469/469 [==============================] - 43s 92ms/step - loss: 0.8345 - accuracy: 0.8325\n",
      "Accuracy:  0.8325333595275879\n"
     ]
    }
   ],
   "source": [
    "model.compile(loss= 'binary_crossentropy', optimizer='adam', metrics=['accuracy'])\n",
    "history = model.fit(X_train, y_train, epochs=5, validation_data=(X_valid, y_valid))\n",
    "print('Accuracy: ', model.evaluate(X_test, y_test)[1])"
   ]
  },
  {
   "cell_type": "code",
   "execution_count": 48,
   "id": "5f35120f",
   "metadata": {},
   "outputs": [
    {
     "data": {
      "image/png": "[encoded data removed]",
      "text/plain": [
       "<Figure size 640x480 with 1 Axes>"
      ]
     },
     "metadata": {},
     "output_type": "display_data"
    }
   ],
   "source": [
    "plt_show(history)\n",
    "\n",
    "# def plt_show(x):\n",
    "#     y_val_loss = history.history['val_loss']\n",
    "#     y_loss = history.history['loss']\n",
    "#     x_len = np.arange(len(y_loss))\n",
    "#     plt.plot(x_len, y_val_loss, marker='.', c=\"red\", label='Testset_loss')\n",
    "#     plt.plot(x_len, y_loss, marker='.', c=\"blue\", label='trainset_loss')\n",
    "#     plt.legend(loc='upper right')\n",
    "#     plt.grid()\n",
    "#     plt.xlabel('epoch')\n",
    "#     plt.ylabel('loss')\n",
    "#     plt.show()\n",
    "# 이 함수 만든거를 plt_show(history)로 호출한거야!"
   ]
  },
  {
   "cell_type": "markdown",
   "id": "24b016a0",
   "metadata": {},
   "source": [
    "# LSTM과 CNN 조합 모델로 분석"
   ]
  },
  {
   "cell_type": "code",
   "execution_count": 51,
   "id": "df2a9860",
   "metadata": {},
   "outputs": [],
   "source": [
    "from tensorflow.keras.layers import Dropout, Activation, Conv1D, MaxPooling1D"
   ]
  },
  {
   "cell_type": "markdown",
   "id": "bcd9a76f",
   "metadata": {},
   "source": [
    "문자니까 1차원이라 Conv1D, MaxPooling1D 얘네들을 불러옴."
   ]
  },
  {
   "cell_type": "code",
   "execution_count": 52,
   "id": "3ac3481e",
   "metadata": {},
   "outputs": [
    {
     "name": "stdout",
     "output_type": "stream",
     "text": [
      "Model: \"sequential_5\"\n",
      "_________________________________________________________________\n",
      " Layer (type)                Output Shape              Param #   \n",
      "=================================================================\n",
      " embedding_4 (Embedding)     (None, 377, 32)           8380608   \n",
      "                                                                 \n",
      " dropout (Dropout)           (None, 377, 32)           0         \n",
      "                                                                 \n",
      " conv1d (Conv1D)             (None, 373, 64)           10304     \n",
      "                                                                 \n",
      " max_pooling1d (MaxPooling1D  (None, 93, 64)           0         \n",
      " )                                                               \n",
      "                                                                 \n",
      " lstm_1 (LSTM)               (None, 377)               666536    \n",
      "                                                                 \n",
      " dense_2 (Dense)             (None, 1)                 378       \n",
      "                                                                 \n",
      " activation (Activation)     (None, 1)                 0         \n",
      "                                                                 \n",
      "=================================================================\n",
      "Total params: 9,057,826\n",
      "Trainable params: 9,057,826\n",
      "Non-trainable params: 0\n",
      "_________________________________________________________________\n"
     ]
    }
   ],
   "source": [
    "model = Sequential()\n",
    "model.add(Embedding(word_size, 32, input_length=377))\n",
    "model.add(Dropout(0.5))\n",
    "model.add(Conv1D(64, 5, padding='valid', activation='relu', strides=1))\n",
    "model.add(MaxPooling1D(pool_size=4))\n",
    "model.add(LSTM(377))\n",
    "model.add(Dense(128, activation='relu'))\n",
    "model.add(Dense(64, activation='relu'))\n",
    "model.add(Dense(32, activation='relu'))\n",
    "model.add(Dense(1))\n",
    "model.add(Activation('sigmoid'))\n",
    "model.summary()"
   ]
  },
  {
   "cell_type": "code",
   "execution_count": 53,
   "id": "d68c062b",
   "metadata": {
    "scrolled": true
   },
   "outputs": [
    {
     "name": "stdout",
     "output_type": "stream",
     "text": [
      "Epoch 1/5\n",
      "1407/1407 [==============================] - 183s 128ms/step - loss: 0.3858 - accuracy: 0.8296 - val_loss: 0.3323 - val_accuracy: 0.8611\n",
      "Epoch 2/5\n",
      "1407/1407 [==============================] - 184s 130ms/step - loss: 0.2284 - accuracy: 0.9109 - val_loss: 0.3526 - val_accuracy: 0.8537\n",
      "Epoch 3/5\n",
      "1407/1407 [==============================] - 188s 134ms/step - loss: 0.1283 - accuracy: 0.9534 - val_loss: 0.4416 - val_accuracy: 0.8429\n",
      "Epoch 4/5\n",
      "1407/1407 [==============================] - 179s 127ms/step - loss: 0.0845 - accuracy: 0.9705 - val_loss: 0.5820 - val_accuracy: 0.8397\n",
      "Epoch 5/5\n",
      "1407/1407 [==============================] - 181s 128ms/step - loss: 0.0683 - accuracy: 0.9768 - val_loss: 0.6027 - val_accuracy: 0.8389\n",
      "469/469 [==============================] - 15s 31ms/step - loss: 0.6143 - accuracy: 0.8346\n",
      "Accuracy:  0.8345999717712402\n"
     ]
    },
    {
     "data": {
      "image/png": "[encoded data removed]",
      "text/plain": [
       "<Figure size 640x480 with 1 Axes>"
      ]
     },
     "metadata": {},
     "output_type": "display_data"
    }
   ],
   "source": [
    "modelpath = \"./model/{epoch:02d}-{val_accuracy:.4f}.hdf5\"\n",
    "checkpointer = ModelCheckpoint(filepath=modelpath, monitor='val_loss', verbose=1, save_best_only=True)\n",
    "early_stopping_callback = EarlyStopping(monitor='val_loss', patience=2)\n",
    "model.compile(loss= 'binary_crossentropy', optimizer='adam', metrics=['accuracy'])\n",
    "history = model.fit(X_train, y_train, epochs=5, validation_data=(X_valid, y_valid))\n",
    "print('Accuracy: ', model.evaluate(X_test, y_test)[1])\n",
    "plt_show(history)"
   ]
  },
  {
   "cell_type": "markdown",
   "id": "b0d1c39d",
   "metadata": {},
   "source": [
    "# Attention을 이용한 분석\n",
    "* 확률적으로 필요한 단어를 예측해서 그것만 사용하도록 만들어짐.\n",
    "* 생성형 AI 인공지능 모델이 여기에서 나온거!"
   ]
  },
  {
   "cell_type": "code",
   "execution_count": 54,
   "id": "db965998",
   "metadata": {},
   "outputs": [
    {
     "name": "stdout",
     "output_type": "stream",
     "text": [
      "Collecting attention\n",
      "  Downloading attention-5.0.0-py3-none-any.whl (9.0 kB)\n",
      "Requirement already satisfied: numpy>=1.18.1 in c:\\users\\hi\\anaconda3\\envs\\tf\\lib\\site-packages (from attention) (1.22.4)\n",
      "Requirement already satisfied: tensorflow>=2.1 in c:\\users\\hi\\anaconda3\\envs\\tf\\lib\\site-packages (from attention) (2.10.1)\n",
      "Requirement already satisfied: absl-py>=1.0.0 in c:\\users\\hi\\anaconda3\\envs\\tf\\lib\\site-packages (from tensorflow>=2.1->attention) (2.0.0)\n",
      "Requirement already satisfied: astunparse>=1.6.0 in c:\\users\\hi\\anaconda3\\envs\\tf\\lib\\site-packages (from tensorflow>=2.1->attention) (1.6.3)\n",
      "Requirement already satisfied: flatbuffers>=2.0 in c:\\users\\hi\\anaconda3\\envs\\tf\\lib\\site-packages (from tensorflow>=2.1->attention) (23.5.26)\n",
      "Requirement already satisfied: gast<=0.4.0,>=0.2.1 in c:\\users\\hi\\anaconda3\\envs\\tf\\lib\\site-packages (from tensorflow>=2.1->attention) (0.4.0)\n",
      "Requirement already satisfied: google-pasta>=0.1.1 in c:\\users\\hi\\anaconda3\\envs\\tf\\lib\\site-packages (from tensorflow>=2.1->attention) (0.2.0)\n",
      "Requirement already satisfied: h5py>=2.9.0 in c:\\users\\hi\\anaconda3\\envs\\tf\\lib\\site-packages (from tensorflow>=2.1->attention) (3.10.0)\n",
      "Requirement already satisfied: keras-preprocessing>=1.1.1 in c:\\users\\hi\\anaconda3\\envs\\tf\\lib\\site-packages (from tensorflow>=2.1->attention) (1.1.2)\n",
      "Requirement already satisfied: libclang>=13.0.0 in c:\\users\\hi\\anaconda3\\envs\\tf\\lib\\site-packages (from tensorflow>=2.1->attention) (16.0.6)\n",
      "Requirement already satisfied: opt-einsum>=2.3.2 in c:\\users\\hi\\anaconda3\\envs\\tf\\lib\\site-packages (from tensorflow>=2.1->attention) (3.3.0)\n",
      "Requirement already satisfied: packaging in c:\\users\\hi\\anaconda3\\envs\\tf\\lib\\site-packages (from tensorflow>=2.1->attention) (23.1)\n",
      "Requirement already satisfied: protobuf<3.20,>=3.9.2 in c:\\users\\hi\\anaconda3\\envs\\tf\\lib\\site-packages (from tensorflow>=2.1->attention) (3.19.6)\n",
      "Requirement already satisfied: setuptools in c:\\users\\hi\\anaconda3\\envs\\tf\\lib\\site-packages (from tensorflow>=2.1->attention) (68.0.0)\n",
      "Requirement already satisfied: six>=1.12.0 in c:\\users\\hi\\anaconda3\\envs\\tf\\lib\\site-packages (from tensorflow>=2.1->attention) (1.16.0)\n",
      "Requirement already satisfied: termcolor>=1.1.0 in c:\\users\\hi\\anaconda3\\envs\\tf\\lib\\site-packages (from tensorflow>=2.1->attention) (2.3.0)\n",
      "Requirement already satisfied: typing-extensions>=3.6.6 in c:\\users\\hi\\anaconda3\\envs\\tf\\lib\\site-packages (from tensorflow>=2.1->attention) (4.7.1)\n",
      "Requirement already satisfied: wrapt>=1.11.0 in c:\\users\\hi\\anaconda3\\envs\\tf\\lib\\site-packages (from tensorflow>=2.1->attention) (1.15.0)\n",
      "Requirement already satisfied: tensorflow-io-gcs-filesystem>=0.23.1 in c:\\users\\hi\\anaconda3\\envs\\tf\\lib\\site-packages (from tensorflow>=2.1->attention) (0.31.0)\n",
      "Requirement already satisfied: grpcio<2.0,>=1.24.3 in c:\\users\\hi\\anaconda3\\envs\\tf\\lib\\site-packages (from tensorflow>=2.1->attention) (1.59.0)\n",
      "Requirement already satisfied: tensorboard<2.11,>=2.10 in c:\\users\\hi\\anaconda3\\envs\\tf\\lib\\site-packages (from tensorflow>=2.1->attention) (2.10.1)\n",
      "Requirement already satisfied: tensorflow-estimator<2.11,>=2.10.0 in c:\\users\\hi\\anaconda3\\envs\\tf\\lib\\site-packages (from tensorflow>=2.1->attention) (2.10.0)\n",
      "Requirement already satisfied: keras<2.11,>=2.10.0 in c:\\users\\hi\\anaconda3\\envs\\tf\\lib\\site-packages (from tensorflow>=2.1->attention) (2.10.0)\n",
      "Requirement already satisfied: wheel<1.0,>=0.23.0 in c:\\users\\hi\\anaconda3\\envs\\tf\\lib\\site-packages (from astunparse>=1.6.0->tensorflow>=2.1->attention) (0.41.2)\n",
      "Requirement already satisfied: google-auth<3,>=1.6.3 in c:\\users\\hi\\anaconda3\\envs\\tf\\lib\\site-packages (from tensorboard<2.11,>=2.10->tensorflow>=2.1->attention) (2.23.3)\n",
      "Requirement already satisfied: google-auth-oauthlib<0.5,>=0.4.1 in c:\\users\\hi\\anaconda3\\envs\\tf\\lib\\site-packages (from tensorboard<2.11,>=2.10->tensorflow>=2.1->attention) (0.4.6)\n",
      "Requirement already satisfied: markdown>=2.6.8 in c:\\users\\hi\\anaconda3\\envs\\tf\\lib\\site-packages (from tensorboard<2.11,>=2.10->tensorflow>=2.1->attention) (3.5)\n",
      "Requirement already satisfied: requests<3,>=2.21.0 in c:\\users\\hi\\anaconda3\\envs\\tf\\lib\\site-packages (from tensorboard<2.11,>=2.10->tensorflow>=2.1->attention) (2.28.2)\n",
      "Requirement already satisfied: tensorboard-data-server<0.7.0,>=0.6.0 in c:\\users\\hi\\anaconda3\\envs\\tf\\lib\\site-packages (from tensorboard<2.11,>=2.10->tensorflow>=2.1->attention) (0.6.1)\n",
      "Requirement already satisfied: tensorboard-plugin-wit>=1.6.0 in c:\\users\\hi\\anaconda3\\envs\\tf\\lib\\site-packages (from tensorboard<2.11,>=2.10->tensorflow>=2.1->attention) (1.8.1)\n",
      "Requirement already satisfied: werkzeug>=1.0.1 in c:\\users\\hi\\anaconda3\\envs\\tf\\lib\\site-packages (from tensorboard<2.11,>=2.10->tensorflow>=2.1->attention) (3.0.1)\n",
      "Requirement already satisfied: cachetools<6.0,>=2.0.0 in c:\\users\\hi\\anaconda3\\envs\\tf\\lib\\site-packages (from google-auth<3,>=1.6.3->tensorboard<2.11,>=2.10->tensorflow>=2.1->attention) (5.3.2)\n",
      "Requirement already satisfied: pyasn1-modules>=0.2.1 in c:\\users\\hi\\anaconda3\\envs\\tf\\lib\\site-packages (from google-auth<3,>=1.6.3->tensorboard<2.11,>=2.10->tensorflow>=2.1->attention) (0.3.0)\n",
      "Requirement already satisfied: rsa<5,>=3.1.4 in c:\\users\\hi\\anaconda3\\envs\\tf\\lib\\site-packages (from google-auth<3,>=1.6.3->tensorboard<2.11,>=2.10->tensorflow>=2.1->attention) (4.9)\n",
      "Requirement already satisfied: requests-oauthlib>=0.7.0 in c:\\users\\hi\\anaconda3\\envs\\tf\\lib\\site-packages (from google-auth-oauthlib<0.5,>=0.4.1->tensorboard<2.11,>=2.10->tensorflow>=2.1->attention) (1.3.1)\n",
      "Requirement already satisfied: importlib-metadata>=4.4 in c:\\users\\hi\\anaconda3\\envs\\tf\\lib\\site-packages (from markdown>=2.6.8->tensorboard<2.11,>=2.10->tensorflow>=2.1->attention) (6.0.0)\n",
      "Requirement already satisfied: charset-normalizer<4,>=2 in c:\\users\\hi\\anaconda3\\envs\\tf\\lib\\site-packages (from requests<3,>=2.21.0->tensorboard<2.11,>=2.10->tensorflow>=2.1->attention) (3.3.1)\n",
      "Requirement already satisfied: idna<4,>=2.5 in c:\\users\\hi\\anaconda3\\envs\\tf\\lib\\site-packages (from requests<3,>=2.21.0->tensorboard<2.11,>=2.10->tensorflow>=2.1->attention) (3.4)\n",
      "Requirement already satisfied: urllib3<1.27,>=1.21.1 in c:\\users\\hi\\anaconda3\\envs\\tf\\lib\\site-packages (from requests<3,>=2.21.0->tensorboard<2.11,>=2.10->tensorflow>=2.1->attention) (1.26.18)\n",
      "Requirement already satisfied: certifi>=2017.4.17 in c:\\users\\hi\\anaconda3\\envs\\tf\\lib\\site-packages (from requests<3,>=2.21.0->tensorboard<2.11,>=2.10->tensorflow>=2.1->attention) (2023.7.22)\n",
      "Requirement already satisfied: MarkupSafe>=2.1.1 in c:\\users\\hi\\anaconda3\\envs\\tf\\lib\\site-packages (from werkzeug>=1.0.1->tensorboard<2.11,>=2.10->tensorflow>=2.1->attention) (2.1.1)\n",
      "Requirement already satisfied: zipp>=0.5 in c:\\users\\hi\\anaconda3\\envs\\tf\\lib\\site-packages (from importlib-metadata>=4.4->markdown>=2.6.8->tensorboard<2.11,>=2.10->tensorflow>=2.1->attention) (3.11.0)\n",
      "Requirement already satisfied: pyasn1<0.6.0,>=0.4.6 in c:\\users\\hi\\anaconda3\\envs\\tf\\lib\\site-packages (from pyasn1-modules>=0.2.1->google-auth<3,>=1.6.3->tensorboard<2.11,>=2.10->tensorflow>=2.1->attention) (0.5.0)\n",
      "Requirement already satisfied: oauthlib>=3.0.0 in c:\\users\\hi\\anaconda3\\envs\\tf\\lib\\site-packages (from requests-oauthlib>=0.7.0->google-auth-oauthlib<0.5,>=0.4.1->tensorboard<2.11,>=2.10->tensorflow>=2.1->attention) (3.2.2)\n",
      "Installing collected packages: attention\n",
      "Successfully installed attention-5.0.0\n"
     ]
    }
   ],
   "source": [
    "! pip install attention"
   ]
  },
  {
   "cell_type": "code",
   "execution_count": 55,
   "id": "f28b66a1",
   "metadata": {},
   "outputs": [],
   "source": [
    "from attention import Attention"
   ]
  },
  {
   "cell_type": "code",
   "execution_count": 59,
   "id": "16bcf759",
   "metadata": {},
   "outputs": [
    {
     "name": "stdout",
     "output_type": "stream",
     "text": [
      "Model: \"sequential_8\"\n",
      "_________________________________________________________________\n",
      " Layer (type)                Output Shape              Param #   \n",
      "=================================================================\n",
      " embedding_6 (Embedding)     (None, 377, 32)           8380608   \n",
      "                                                                 \n",
      " dropout_3 (Dropout)         (None, 377, 32)           0         \n",
      "                                                                 \n",
      " lstm_3 (LSTM)               (None, 377, 64)           24832     \n",
      "                                                                 \n",
      " attention_1 (Attention)     (None, 128)               20480     \n",
      "                                                                 \n",
      " dropout_4 (Dropout)         (None, 128)               0         \n",
      "                                                                 \n",
      " dense_8 (Dense)             (None, 256)               33024     \n",
      "                                                                 \n",
      " dense_9 (Dense)             (None, 128)               32896     \n",
      "                                                                 \n",
      " dense_10 (Dense)            (None, 64)                8256      \n",
      "                                                                 \n",
      " dense_11 (Dense)            (None, 32)                2080      \n",
      "                                                                 \n",
      " dense_12 (Dense)            (None, 1)                 33        \n",
      "                                                                 \n",
      " activation_2 (Activation)   (None, 1)                 0         \n",
      "                                                                 \n",
      "=================================================================\n",
      "Total params: 8,502,209\n",
      "Trainable params: 8,502,209\n",
      "Non-trainable params: 0\n",
      "_________________________________________________________________\n"
     ]
    }
   ],
   "source": [
    "model = Sequential()\n",
    "model.add(Embedding(word_size, 32, input_length=377))\n",
    "model.add(Dropout(0.5))\n",
    "model.add(LSTM(64, return_sequences=True))\n",
    "model.add(Attention())\n",
    "model.add(Dropout(0.5))\n",
    "model.add(Dense(256, activation='relu'))\n",
    "model.add(Dense(128, activation='relu'))\n",
    "model.add(Dense(64, activation='relu'))\n",
    "model.add(Dense(32, activation='relu'))\n",
    "model.add(Dense(1))\n",
    "model.add(Activation('sigmoid'))\n",
    "model.summary()"
   ]
  },
  {
   "cell_type": "code",
   "execution_count": 60,
   "id": "aadee60a",
   "metadata": {},
   "outputs": [
    {
     "name": "stdout",
     "output_type": "stream",
     "text": [
      "Epoch 1/5\n",
      "1407/1407 [==============================] - 150s 105ms/step - loss: 0.3634 - accuracy: 0.8437 - val_loss: 0.3275 - val_accuracy: 0.8713\n",
      "Epoch 2/5\n",
      "1407/1407 [==============================] - 133s 94ms/step - loss: 0.2002 - accuracy: 0.9254 - val_loss: 0.3535 - val_accuracy: 0.8647\n",
      "Epoch 3/5\n",
      "1407/1407 [==============================] - 126s 90ms/step - loss: 0.1058 - accuracy: 0.9649 - val_loss: 0.4504 - val_accuracy: 0.8509\n",
      "Epoch 4/5\n",
      "1407/1407 [==============================] - 142s 101ms/step - loss: 0.0644 - accuracy: 0.9784 - val_loss: 0.6260 - val_accuracy: 0.8474\n",
      "Epoch 5/5\n",
      "1407/1407 [==============================] - 142s 101ms/step - loss: 0.0461 - accuracy: 0.9859 - val_loss: 0.7112 - val_accuracy: 0.8465\n",
      "469/469 [==============================] - 7s 16ms/step - loss: 0.7239 - accuracy: 0.8420\n",
      "Accuracy:  0.8420000076293945\n"
     ]
    },
    {
     "data": {
      "image/png": "[encoded data removed]",
      "text/plain": [
       "<Figure size 640x480 with 1 Axes>"
      ]
     },
     "metadata": {},
     "output_type": "display_data"
    }
   ],
   "source": [
    "modelpath = \"./model/{epoch:02d}-{val_accuracy:.4f}.hdf5\"\n",
    "checkpointer = ModelCheckpoint(filepath=modelpath, monitor='val_loss', verbose=1, save_best_only=True)\n",
    "early_stopping_callback = EarlyStopping(monitor='val_loss', patience=2)\n",
    "model.compile(loss= 'binary_crossentropy', optimizer='adam', metrics=['accuracy'])\n",
    "history = model.fit(X_train, y_train, epochs=5, validation_data=(X_valid, y_valid))\n",
    "print('Accuracy: ', model.evaluate(X_test, y_test)[1])\n",
    "plt_show(history)"
   ]
  },
  {
   "cell_type": "code",
   "execution_count": null,
   "id": "c2ec61d4",
   "metadata": {},
   "outputs": [],
   "source": []
  }
 ],
 "metadata": {
  "kernelspec": {
   "display_name": "Python 3 (ipykernel)",
   "language": "python",
   "name": "python3"
  },
  "language_info": {
   "codemirror_mode": {
    "name": "ipython",
    "version": 3
   },
   "file_extension": ".py",
   "mimetype": "text/x-python",
   "name": "python",
   "nbconvert_exporter": "python",
   "pygments_lexer": "ipython3",
   "version": "3.9.18"
  }
 },
 "nbformat": 4,
 "nbformat_minor": 5
}
