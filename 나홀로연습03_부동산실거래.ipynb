{
 "cells": [
  {
   "cell_type": "code",
   "execution_count": 2,
   "id": "83d66521",
   "metadata": {},
   "outputs": [],
   "source": [
    "import os\n",
    "import csv\n",
    "import pandas as pd\n",
    "import numpy as np\n",
    "import matplotlib.pyplot as plt\n",
    "import seaborn as sns\n",
    "import koreanize_matplotlib"
   ]
  },
  {
   "cell_type": "code",
   "execution_count": 3,
   "id": "3e431a3a",
   "metadata": {
    "scrolled": true
   },
   "outputs": [
    {
     "data": {
      "text/plain": [
       "296"
      ]
     },
     "execution_count": 3,
     "metadata": {},
     "output_type": "execute_result"
    }
   ],
   "source": [
    "file_list = os.listdir(\"C:/bigdata/data/전국부동산실거래가\")\n",
    "len(file_list)"
   ]
  },
  {
   "cell_type": "code",
   "execution_count": 4,
   "id": "3f6e12e2",
   "metadata": {},
   "outputs": [
    {
     "data": {
      "text/plain": [
       "['1999_01.csv',\n",
       " '1999_02.csv',\n",
       " '1999_03.csv',\n",
       " '1999_04.csv',\n",
       " '1999_05.csv',\n",
       " '1999_06.csv',\n",
       " '1999_07.csv',\n",
       " '1999_08.csv',\n",
       " '1999_09.csv',\n",
       " '1999_10.csv',\n",
       " '1999_11.csv',\n",
       " '1999_12.csv',\n",
       " '2000_01.csv',\n",
       " '2000_02.csv',\n",
       " '2000_03.csv',\n",
       " '2000_04.csv',\n",
       " '2000_05.csv',\n",
       " '2000_06.csv',\n",
       " '2000_07.csv',\n",
       " '2000_08.csv',\n",
       " '2000_09.csv',\n",
       " '2000_10.csv',\n",
       " '2000_11.csv',\n",
       " '2000_12.csv',\n",
       " '2001_01.csv',\n",
       " '2001_02.csv',\n",
       " '2001_03.csv',\n",
       " '2001_04.csv',\n",
       " '2001_05.csv',\n",
       " '2001_06.csv',\n",
       " '2001_07.csv',\n",
       " '2001_08.csv',\n",
       " '2001_09.csv',\n",
       " '2001_10.csv',\n",
       " '2001_11.csv',\n",
       " '2001_12.csv',\n",
       " '2002_01.csv',\n",
       " '2002_02.csv',\n",
       " '2002_03.csv',\n",
       " '2002_04.csv',\n",
       " '2002_05.csv',\n",
       " '2002_06.csv',\n",
       " '2002_07.csv',\n",
       " '2002_08.csv',\n",
       " '2002_09.csv',\n",
       " '2002_10.csv',\n",
       " '2002_11.csv',\n",
       " '2002_12.csv',\n",
       " '2003_01.csv',\n",
       " '2003_02.csv',\n",
       " '2003_03.csv',\n",
       " '2003_04.csv',\n",
       " '2003_05.csv',\n",
       " '2003_06.csv',\n",
       " '2003_07.csv',\n",
       " '2003_08.csv',\n",
       " '2003_09.csv',\n",
       " '2003_10.csv',\n",
       " '2003_11.csv',\n",
       " '2003_12.csv',\n",
       " '2004_01.csv',\n",
       " '2004_02.csv',\n",
       " '2004_03.csv',\n",
       " '2004_04.csv',\n",
       " '2004_05.csv',\n",
       " '2004_06.csv',\n",
       " '2004_07.csv',\n",
       " '2004_08.csv',\n",
       " '2004_09.csv',\n",
       " '2004_10.csv',\n",
       " '2004_11.csv',\n",
       " '2004_12.csv',\n",
       " '2005_01.csv',\n",
       " '2005_02.csv',\n",
       " '2005_03.csv',\n",
       " '2005_04.csv',\n",
       " '2005_05.csv',\n",
       " '2005_06.csv',\n",
       " '2005_07.csv',\n",
       " '2005_08.csv',\n",
       " '2005_09.csv',\n",
       " '2005_10.csv',\n",
       " '2005_11.csv',\n",
       " '2005_12.csv',\n",
       " '2006_01.csv',\n",
       " '2006_02.csv',\n",
       " '2006_03.csv',\n",
       " '2006_04.csv',\n",
       " '2006_05.csv',\n",
       " '2006_06.csv',\n",
       " '2006_07.csv',\n",
       " '2006_08.csv',\n",
       " '2006_09.csv',\n",
       " '2006_10.csv',\n",
       " '2006_11.csv',\n",
       " '2006_12.csv',\n",
       " '2007_01.csv',\n",
       " '2007_02.csv',\n",
       " '2007_03.csv',\n",
       " '2007_04.csv',\n",
       " '2007_05.csv',\n",
       " '2007_06.csv',\n",
       " '2007_07.csv',\n",
       " '2007_08.csv',\n",
       " '2007_09.csv',\n",
       " '2007_10.csv',\n",
       " '2007_11.csv',\n",
       " '2007_12.csv',\n",
       " '2008_01.csv',\n",
       " '2008_02.csv',\n",
       " '2008_03.csv',\n",
       " '2008_04.csv',\n",
       " '2008_05.csv',\n",
       " '2008_06.csv',\n",
       " '2008_07.csv',\n",
       " '2008_08.csv',\n",
       " '2008_09.csv',\n",
       " '2008_10.csv',\n",
       " '2008_11.csv',\n",
       " '2008_12.csv',\n",
       " '2009_01.csv',\n",
       " '2009_02.csv',\n",
       " '2009_03.csv',\n",
       " '2009_04.csv',\n",
       " '2009_05.csv',\n",
       " '2009_06.csv',\n",
       " '2009_07.csv',\n",
       " '2009_08.csv',\n",
       " '2009_09.csv',\n",
       " '2009_10.csv',\n",
       " '2009_11.csv',\n",
       " '2009_12.csv',\n",
       " '2010_01.csv',\n",
       " '2010_02.csv',\n",
       " '2010_03.csv',\n",
       " '2010_04.csv',\n",
       " '2010_05.csv',\n",
       " '2010_06.csv',\n",
       " '2010_07.csv',\n",
       " '2010_08.csv',\n",
       " '2010_09.csv',\n",
       " '2010_10.csv',\n",
       " '2010_11.csv',\n",
       " '2010_12.csv',\n",
       " '2011_01.csv',\n",
       " '2011_02.csv',\n",
       " '2011_03.csv',\n",
       " '2011_04.csv',\n",
       " '2011_05.csv',\n",
       " '2011_06.csv',\n",
       " '2011_07.csv',\n",
       " '2011_08.csv',\n",
       " '2011_09.csv',\n",
       " '2011_10.csv',\n",
       " '2011_11.csv',\n",
       " '2011_12.csv',\n",
       " '2012_01.csv',\n",
       " '2012_02.csv',\n",
       " '2012_03.csv',\n",
       " '2012_04.csv',\n",
       " '2012_05.csv',\n",
       " '2012_06.csv',\n",
       " '2012_07.csv',\n",
       " '2012_08.csv',\n",
       " '2012_09.csv',\n",
       " '2012_10.csv',\n",
       " '2012_11.csv',\n",
       " '2012_12.csv',\n",
       " '2013_01.csv',\n",
       " '2013_02.csv',\n",
       " '2013_03.csv',\n",
       " '2013_04.csv',\n",
       " '2014_01.csv',\n",
       " '2014_02.csv',\n",
       " '2014_03.csv',\n",
       " '2014_04.csv',\n",
       " '2014_05.csv',\n",
       " '2014_06.csv',\n",
       " '2014_07.csv',\n",
       " '2014_08.csv',\n",
       " '2014_09.csv',\n",
       " '2014_10.csv',\n",
       " '2014_11.csv',\n",
       " '2014_12.csv',\n",
       " '2015_01.csv',\n",
       " '2015_02.csv',\n",
       " '2015_03.csv',\n",
       " '2015_04.csv',\n",
       " '2015_05.csv',\n",
       " '2015_06.csv',\n",
       " '2015_07.csv',\n",
       " '2015_08.csv',\n",
       " '2015_09.csv',\n",
       " '2015_10.csv',\n",
       " '2015_11.csv',\n",
       " '2015_12.csv',\n",
       " '2016_01.csv',\n",
       " '2016_02.csv',\n",
       " '2016_03.csv',\n",
       " '2016_04.csv',\n",
       " '2016_05.csv',\n",
       " '2016_06.csv',\n",
       " '2016_07.csv',\n",
       " '2016_08.csv',\n",
       " '2016_09.csv',\n",
       " '2016_10.csv',\n",
       " '2016_11.csv',\n",
       " '2016_12.csv',\n",
       " '2017_01.csv',\n",
       " '2017_02.csv',\n",
       " '2017_03.csv',\n",
       " '2017_04.csv',\n",
       " '2017_05.csv',\n",
       " '2017_06.csv',\n",
       " '2017_07.csv',\n",
       " '2017_08.csv',\n",
       " '2017_09.csv',\n",
       " '2017_10.csv',\n",
       " '2017_11.csv',\n",
       " '2017_12.csv',\n",
       " '2018_01.csv',\n",
       " '2018_02.csv',\n",
       " '2018_03.csv',\n",
       " '2018_04.csv',\n",
       " '2018_05.csv',\n",
       " '2018_06.csv',\n",
       " '2018_07.csv',\n",
       " '2018_08.csv',\n",
       " '2018_09.csv',\n",
       " '2018_10.csv',\n",
       " '2018_11.csv',\n",
       " '2018_12.csv',\n",
       " '2019_01.csv',\n",
       " '2019_02.csv',\n",
       " '2019_03.csv',\n",
       " '2019_04.csv',\n",
       " '2019_05.csv',\n",
       " '2019_06.csv',\n",
       " '2019_07.csv',\n",
       " '2019_08.csv',\n",
       " '2019_09.csv',\n",
       " '2019_10.csv',\n",
       " '2019_11.csv',\n",
       " '2019_12.csv',\n",
       " '2020_01.csv',\n",
       " '2020_02.csv',\n",
       " '2020_03.csv',\n",
       " '2020_04.csv',\n",
       " '2020_05.csv',\n",
       " '2020_06.csv',\n",
       " '2020_07.csv',\n",
       " '2020_08.csv',\n",
       " '2020_09.csv',\n",
       " '2020_10.csv',\n",
       " '2020_11.csv',\n",
       " '2020_12.csv',\n",
       " '2021_01.csv',\n",
       " '2021_02.csv',\n",
       " '2021_03.csv',\n",
       " '2021_04.csv',\n",
       " '2021_05.csv',\n",
       " '2021_06.csv',\n",
       " '2021_07.csv',\n",
       " '2021_08.csv',\n",
       " '2021_09.csv',\n",
       " '2021_10.csv',\n",
       " '2021_11.csv',\n",
       " '2021_12.csv',\n",
       " '2022_01.csv',\n",
       " '2022_02.csv',\n",
       " '2022_03.csv',\n",
       " '2022_04.csv',\n",
       " '2022_05.csv',\n",
       " '2022_06.csv',\n",
       " '2022_07.csv',\n",
       " '2022_08.csv',\n",
       " '2022_09.csv',\n",
       " '2022_10.csv',\n",
       " '2022_11.csv',\n",
       " '2022_12.csv',\n",
       " '2023_01.csv',\n",
       " '2023_02.csv',\n",
       " '2023_03.csv',\n",
       " '2023_04.csv',\n",
       " '2023_05.csv',\n",
       " '2023_06.csv',\n",
       " '2023_07.csv',\n",
       " '2023_08.csv',\n",
       " '법정동코드 전체자료.txt',\n",
       " '아파트 매매 상세자료 조회 기술문서.hwp',\n",
       " '아파트주소2좌표변환.csv',\n",
       " '아파트주소2좌표변환.xlsx',\n",
       " '전국부동산실거래가1999-2023.csv',\n",
       " '전국부동산실거래가2013-2023.csv',\n",
       " '전국학군정보.xlsx',\n",
       " '한국은행기준금리1999-2023.xlsx']"
      ]
     },
     "execution_count": 4,
     "metadata": {},
     "output_type": "execute_result"
    }
   ],
   "source": [
    "file_list # 마지막 8개는 다른 파일이 있으니까 부동산 파일만 보려면 거꾸로 -8로 불러와 함."
   ]
  },
  {
   "cell_type": "code",
   "execution_count": 5,
   "id": "af454fbb",
   "metadata": {},
   "outputs": [
    {
     "data": {
      "text/plain": [
       "['1999_01.csv',\n",
       " '1999_02.csv',\n",
       " '1999_03.csv',\n",
       " '1999_04.csv',\n",
       " '1999_05.csv',\n",
       " '1999_06.csv',\n",
       " '1999_07.csv',\n",
       " '1999_08.csv',\n",
       " '1999_09.csv',\n",
       " '1999_10.csv',\n",
       " '1999_11.csv',\n",
       " '1999_12.csv',\n",
       " '2000_01.csv',\n",
       " '2000_02.csv',\n",
       " '2000_03.csv',\n",
       " '2000_04.csv',\n",
       " '2000_05.csv',\n",
       " '2000_06.csv',\n",
       " '2000_07.csv',\n",
       " '2000_08.csv',\n",
       " '2000_09.csv',\n",
       " '2000_10.csv',\n",
       " '2000_11.csv',\n",
       " '2000_12.csv',\n",
       " '2001_01.csv',\n",
       " '2001_02.csv',\n",
       " '2001_03.csv',\n",
       " '2001_04.csv',\n",
       " '2001_05.csv',\n",
       " '2001_06.csv',\n",
       " '2001_07.csv',\n",
       " '2001_08.csv',\n",
       " '2001_09.csv',\n",
       " '2001_10.csv',\n",
       " '2001_11.csv',\n",
       " '2001_12.csv',\n",
       " '2002_01.csv',\n",
       " '2002_02.csv',\n",
       " '2002_03.csv',\n",
       " '2002_04.csv',\n",
       " '2002_05.csv',\n",
       " '2002_06.csv',\n",
       " '2002_07.csv',\n",
       " '2002_08.csv',\n",
       " '2002_09.csv',\n",
       " '2002_10.csv',\n",
       " '2002_11.csv',\n",
       " '2002_12.csv',\n",
       " '2003_01.csv',\n",
       " '2003_02.csv',\n",
       " '2003_03.csv',\n",
       " '2003_04.csv',\n",
       " '2003_05.csv',\n",
       " '2003_06.csv',\n",
       " '2003_07.csv',\n",
       " '2003_08.csv',\n",
       " '2003_09.csv',\n",
       " '2003_10.csv',\n",
       " '2003_11.csv',\n",
       " '2003_12.csv',\n",
       " '2004_01.csv',\n",
       " '2004_02.csv',\n",
       " '2004_03.csv',\n",
       " '2004_04.csv',\n",
       " '2004_05.csv',\n",
       " '2004_06.csv',\n",
       " '2004_07.csv',\n",
       " '2004_08.csv',\n",
       " '2004_09.csv',\n",
       " '2004_10.csv',\n",
       " '2004_11.csv',\n",
       " '2004_12.csv',\n",
       " '2005_01.csv',\n",
       " '2005_02.csv',\n",
       " '2005_03.csv',\n",
       " '2005_04.csv',\n",
       " '2005_05.csv',\n",
       " '2005_06.csv',\n",
       " '2005_07.csv',\n",
       " '2005_08.csv',\n",
       " '2005_09.csv',\n",
       " '2005_10.csv',\n",
       " '2005_11.csv',\n",
       " '2005_12.csv',\n",
       " '2006_01.csv',\n",
       " '2006_02.csv',\n",
       " '2006_03.csv',\n",
       " '2006_04.csv',\n",
       " '2006_05.csv',\n",
       " '2006_06.csv',\n",
       " '2006_07.csv',\n",
       " '2006_08.csv',\n",
       " '2006_09.csv',\n",
       " '2006_10.csv',\n",
       " '2006_11.csv',\n",
       " '2006_12.csv',\n",
       " '2007_01.csv',\n",
       " '2007_02.csv',\n",
       " '2007_03.csv',\n",
       " '2007_04.csv',\n",
       " '2007_05.csv',\n",
       " '2007_06.csv',\n",
       " '2007_07.csv',\n",
       " '2007_08.csv',\n",
       " '2007_09.csv',\n",
       " '2007_10.csv',\n",
       " '2007_11.csv',\n",
       " '2007_12.csv',\n",
       " '2008_01.csv',\n",
       " '2008_02.csv',\n",
       " '2008_03.csv',\n",
       " '2008_04.csv',\n",
       " '2008_05.csv',\n",
       " '2008_06.csv',\n",
       " '2008_07.csv',\n",
       " '2008_08.csv',\n",
       " '2008_09.csv',\n",
       " '2008_10.csv',\n",
       " '2008_11.csv',\n",
       " '2008_12.csv',\n",
       " '2009_01.csv',\n",
       " '2009_02.csv',\n",
       " '2009_03.csv',\n",
       " '2009_04.csv',\n",
       " '2009_05.csv',\n",
       " '2009_06.csv',\n",
       " '2009_07.csv',\n",
       " '2009_08.csv',\n",
       " '2009_09.csv',\n",
       " '2009_10.csv',\n",
       " '2009_11.csv',\n",
       " '2009_12.csv',\n",
       " '2010_01.csv',\n",
       " '2010_02.csv',\n",
       " '2010_03.csv',\n",
       " '2010_04.csv',\n",
       " '2010_05.csv',\n",
       " '2010_06.csv',\n",
       " '2010_07.csv',\n",
       " '2010_08.csv',\n",
       " '2010_09.csv',\n",
       " '2010_10.csv',\n",
       " '2010_11.csv',\n",
       " '2010_12.csv',\n",
       " '2011_01.csv',\n",
       " '2011_02.csv',\n",
       " '2011_03.csv',\n",
       " '2011_04.csv',\n",
       " '2011_05.csv',\n",
       " '2011_06.csv',\n",
       " '2011_07.csv',\n",
       " '2011_08.csv',\n",
       " '2011_09.csv',\n",
       " '2011_10.csv',\n",
       " '2011_11.csv',\n",
       " '2011_12.csv',\n",
       " '2012_01.csv',\n",
       " '2012_02.csv',\n",
       " '2012_03.csv',\n",
       " '2012_04.csv',\n",
       " '2012_05.csv',\n",
       " '2012_06.csv',\n",
       " '2012_07.csv',\n",
       " '2012_08.csv',\n",
       " '2012_09.csv',\n",
       " '2012_10.csv',\n",
       " '2012_11.csv',\n",
       " '2012_12.csv',\n",
       " '2013_01.csv',\n",
       " '2013_02.csv',\n",
       " '2013_03.csv',\n",
       " '2013_04.csv',\n",
       " '2014_01.csv',\n",
       " '2014_02.csv',\n",
       " '2014_03.csv',\n",
       " '2014_04.csv',\n",
       " '2014_05.csv',\n",
       " '2014_06.csv',\n",
       " '2014_07.csv',\n",
       " '2014_08.csv',\n",
       " '2014_09.csv',\n",
       " '2014_10.csv',\n",
       " '2014_11.csv',\n",
       " '2014_12.csv',\n",
       " '2015_01.csv',\n",
       " '2015_02.csv',\n",
       " '2015_03.csv',\n",
       " '2015_04.csv',\n",
       " '2015_05.csv',\n",
       " '2015_06.csv',\n",
       " '2015_07.csv',\n",
       " '2015_08.csv',\n",
       " '2015_09.csv',\n",
       " '2015_10.csv',\n",
       " '2015_11.csv',\n",
       " '2015_12.csv',\n",
       " '2016_01.csv',\n",
       " '2016_02.csv',\n",
       " '2016_03.csv',\n",
       " '2016_04.csv',\n",
       " '2016_05.csv',\n",
       " '2016_06.csv',\n",
       " '2016_07.csv',\n",
       " '2016_08.csv',\n",
       " '2016_09.csv',\n",
       " '2016_10.csv',\n",
       " '2016_11.csv',\n",
       " '2016_12.csv',\n",
       " '2017_01.csv',\n",
       " '2017_02.csv',\n",
       " '2017_03.csv',\n",
       " '2017_04.csv',\n",
       " '2017_05.csv',\n",
       " '2017_06.csv',\n",
       " '2017_07.csv',\n",
       " '2017_08.csv',\n",
       " '2017_09.csv',\n",
       " '2017_10.csv',\n",
       " '2017_11.csv',\n",
       " '2017_12.csv',\n",
       " '2018_01.csv',\n",
       " '2018_02.csv',\n",
       " '2018_03.csv',\n",
       " '2018_04.csv',\n",
       " '2018_05.csv',\n",
       " '2018_06.csv',\n",
       " '2018_07.csv',\n",
       " '2018_08.csv',\n",
       " '2018_09.csv',\n",
       " '2018_10.csv',\n",
       " '2018_11.csv',\n",
       " '2018_12.csv',\n",
       " '2019_01.csv',\n",
       " '2019_02.csv',\n",
       " '2019_03.csv',\n",
       " '2019_04.csv',\n",
       " '2019_05.csv',\n",
       " '2019_06.csv',\n",
       " '2019_07.csv',\n",
       " '2019_08.csv',\n",
       " '2019_09.csv',\n",
       " '2019_10.csv',\n",
       " '2019_11.csv',\n",
       " '2019_12.csv',\n",
       " '2020_01.csv',\n",
       " '2020_02.csv',\n",
       " '2020_03.csv',\n",
       " '2020_04.csv',\n",
       " '2020_05.csv',\n",
       " '2020_06.csv',\n",
       " '2020_07.csv',\n",
       " '2020_08.csv',\n",
       " '2020_09.csv',\n",
       " '2020_10.csv',\n",
       " '2020_11.csv',\n",
       " '2020_12.csv',\n",
       " '2021_01.csv',\n",
       " '2021_02.csv',\n",
       " '2021_03.csv',\n",
       " '2021_04.csv',\n",
       " '2021_05.csv',\n",
       " '2021_06.csv',\n",
       " '2021_07.csv',\n",
       " '2021_08.csv',\n",
       " '2021_09.csv',\n",
       " '2021_10.csv',\n",
       " '2021_11.csv',\n",
       " '2021_12.csv',\n",
       " '2022_01.csv',\n",
       " '2022_02.csv',\n",
       " '2022_03.csv',\n",
       " '2022_04.csv',\n",
       " '2022_05.csv',\n",
       " '2022_06.csv',\n",
       " '2022_07.csv',\n",
       " '2022_08.csv',\n",
       " '2022_09.csv',\n",
       " '2022_10.csv',\n",
       " '2022_11.csv',\n",
       " '2022_12.csv',\n",
       " '2023_01.csv',\n",
       " '2023_02.csv',\n",
       " '2023_03.csv',\n",
       " '2023_04.csv',\n",
       " '2023_05.csv',\n",
       " '2023_06.csv',\n",
       " '2023_07.csv',\n",
       " '2023_08.csv']"
      ]
     },
     "execution_count": 5,
     "metadata": {},
     "output_type": "execute_result"
    }
   ],
   "source": [
    "file_list[:-8]"
   ]
  },
  {
   "cell_type": "code",
   "execution_count": 6,
   "id": "e5f45596",
   "metadata": {},
   "outputs": [],
   "source": [
    "#data = pd.read_csv('C:/bigdata/data/전국부동산실거래가/2023_08.csv')"
   ]
  },
  {
   "cell_type": "markdown",
   "id": "c4e0ea6f",
   "metadata": {},
   "source": [
    "* 'utf-8' codec can't decode byte 0xa1 in position 1: invalid start byte 오류 --> encoding='cp949'"
   ]
  },
  {
   "cell_type": "markdown",
   "id": "01c5784f",
   "metadata": {},
   "source": [
    "* Error tokenizing data. C error: Expected 1 fields in line 16, saw 16 오류 --> skiprows=15  15번째줄까지 다른 내용이 있기 때문에 난 오류"
   ]
  },
  {
   "cell_type": "code",
   "execution_count": 7,
   "id": "7daf2c1a",
   "metadata": {},
   "outputs": [],
   "source": [
    "data = pd.read_csv('C:/bigdata/data/전국부동산실거래가/2023_08.csv',skiprows=15, encoding='cp949')"
   ]
  },
  {
   "cell_type": "code",
   "execution_count": 8,
   "id": "a77b4d13",
   "metadata": {},
   "outputs": [
    {
     "data": {
      "text/html": [
       "<div>\n",
       "<style scoped>\n",
       "    .dataframe tbody tr th:only-of-type {\n",
       "        vertical-align: middle;\n",
       "    }\n",
       "\n",
       "    .dataframe tbody tr th {\n",
       "        vertical-align: top;\n",
       "    }\n",
       "\n",
       "    .dataframe thead th {\n",
       "        text-align: right;\n",
       "    }\n",
       "</style>\n",
       "<table border=\"1\" class=\"dataframe\">\n",
       "  <thead>\n",
       "    <tr style=\"text-align: right;\">\n",
       "      <th></th>\n",
       "      <th>시군구</th>\n",
       "      <th>번지</th>\n",
       "      <th>본번</th>\n",
       "      <th>부번</th>\n",
       "      <th>단지명</th>\n",
       "      <th>전용면적(㎡)</th>\n",
       "      <th>계약년월</th>\n",
       "      <th>계약일</th>\n",
       "      <th>거래금액(만원)</th>\n",
       "      <th>층</th>\n",
       "      <th>건축년도</th>\n",
       "      <th>도로명</th>\n",
       "      <th>해제사유발생일</th>\n",
       "      <th>등기신청일자</th>\n",
       "      <th>거래유형</th>\n",
       "      <th>중개사소재지</th>\n",
       "    </tr>\n",
       "  </thead>\n",
       "  <tbody>\n",
       "    <tr>\n",
       "      <th>0</th>\n",
       "      <td>강원특별자치도 강릉시 견소동</td>\n",
       "      <td>202</td>\n",
       "      <td>0202</td>\n",
       "      <td>0</td>\n",
       "      <td>송정한신</td>\n",
       "      <td>59.800</td>\n",
       "      <td>202308</td>\n",
       "      <td>8</td>\n",
       "      <td>23,000</td>\n",
       "      <td>9</td>\n",
       "      <td>1997.0</td>\n",
       "      <td>경강로2539번길 8</td>\n",
       "      <td>NaN</td>\n",
       "      <td></td>\n",
       "      <td>중개거래</td>\n",
       "      <td>강릉시</td>\n",
       "    </tr>\n",
       "    <tr>\n",
       "      <th>1</th>\n",
       "      <td>강원특별자치도 강릉시 견소동</td>\n",
       "      <td>202</td>\n",
       "      <td>0202</td>\n",
       "      <td>0</td>\n",
       "      <td>송정한신</td>\n",
       "      <td>84.945</td>\n",
       "      <td>202308</td>\n",
       "      <td>14</td>\n",
       "      <td>31,000</td>\n",
       "      <td>13</td>\n",
       "      <td>1997.0</td>\n",
       "      <td>경강로2539번길 8</td>\n",
       "      <td>NaN</td>\n",
       "      <td></td>\n",
       "      <td>중개거래</td>\n",
       "      <td>강릉시</td>\n",
       "    </tr>\n",
       "  </tbody>\n",
       "</table>\n",
       "</div>"
      ],
      "text/plain": [
       "               시군구   번지    본번  부번   단지명  전용면적(㎡)    계약년월  계약일 거래금액(만원)   층  \\\n",
       "0  강원특별자치도 강릉시 견소동  202  0202   0  송정한신   59.800  202308    8   23,000   9   \n",
       "1  강원특별자치도 강릉시 견소동  202  0202   0  송정한신   84.945  202308   14   31,000  13   \n",
       "\n",
       "     건축년도          도로명  해제사유발생일 등기신청일자  거래유형 중개사소재지  \n",
       "0  1997.0  경강로2539번길 8      NaN         중개거래    강릉시  \n",
       "1  1997.0  경강로2539번길 8      NaN         중개거래    강릉시  "
      ]
     },
     "execution_count": 8,
     "metadata": {},
     "output_type": "execute_result"
    }
   ],
   "source": [
    "data.head(2)"
   ]
  },
  {
   "cell_type": "code",
   "execution_count": 9,
   "id": "934fe6a9",
   "metadata": {
    "scrolled": true
   },
   "outputs": [
    {
     "name": "stdout",
     "output_type": "stream",
     "text": [
      "204\r"
     ]
    },
    {
     "name": "stderr",
     "output_type": "stream",
     "text": [
      "C:\\Users\\hi\\AppData\\Local\\Temp\\ipykernel_4988\\3186835542.py:6: DtypeWarning: Columns (2) have mixed types. Specify dtype option on import or set low_memory=False.\n",
      "  data = pd.read_csv(f'C:/bigdata/data/전국부동산실거래가/{i}', skiprows=15, encoding='cp949')\n"
     ]
    },
    {
     "name": "stdout",
     "output_type": "stream",
     "text": [
      "205\r"
     ]
    },
    {
     "name": "stderr",
     "output_type": "stream",
     "text": [
      "C:\\Users\\hi\\AppData\\Local\\Temp\\ipykernel_4988\\3186835542.py:6: DtypeWarning: Columns (2) have mixed types. Specify dtype option on import or set low_memory=False.\n",
      "  data = pd.read_csv(f'C:/bigdata/data/전국부동산실거래가/{i}', skiprows=15, encoding='cp949')\n"
     ]
    },
    {
     "name": "stdout",
     "output_type": "stream",
     "text": [
      "206\r"
     ]
    },
    {
     "name": "stderr",
     "output_type": "stream",
     "text": [
      "C:\\Users\\hi\\AppData\\Local\\Temp\\ipykernel_4988\\3186835542.py:6: DtypeWarning: Columns (2) have mixed types. Specify dtype option on import or set low_memory=False.\n",
      "  data = pd.read_csv(f'C:/bigdata/data/전국부동산실거래가/{i}', skiprows=15, encoding='cp949')\n"
     ]
    },
    {
     "name": "stdout",
     "output_type": "stream",
     "text": [
      "207\r"
     ]
    },
    {
     "name": "stderr",
     "output_type": "stream",
     "text": [
      "C:\\Users\\hi\\AppData\\Local\\Temp\\ipykernel_4988\\3186835542.py:6: DtypeWarning: Columns (2) have mixed types. Specify dtype option on import or set low_memory=False.\n",
      "  data = pd.read_csv(f'C:/bigdata/data/전국부동산실거래가/{i}', skiprows=15, encoding='cp949')\n"
     ]
    },
    {
     "name": "stdout",
     "output_type": "stream",
     "text": [
      "209\r"
     ]
    },
    {
     "name": "stderr",
     "output_type": "stream",
     "text": [
      "C:\\Users\\hi\\AppData\\Local\\Temp\\ipykernel_4988\\3186835542.py:6: DtypeWarning: Columns (2) have mixed types. Specify dtype option on import or set low_memory=False.\n",
      "  data = pd.read_csv(f'C:/bigdata/data/전국부동산실거래가/{i}', skiprows=15, encoding='cp949')\n"
     ]
    },
    {
     "name": "stdout",
     "output_type": "stream",
     "text": [
      "210\r"
     ]
    },
    {
     "name": "stderr",
     "output_type": "stream",
     "text": [
      "C:\\Users\\hi\\AppData\\Local\\Temp\\ipykernel_4988\\3186835542.py:6: DtypeWarning: Columns (2) have mixed types. Specify dtype option on import or set low_memory=False.\n",
      "  data = pd.read_csv(f'C:/bigdata/data/전국부동산실거래가/{i}', skiprows=15, encoding='cp949')\n"
     ]
    },
    {
     "name": "stdout",
     "output_type": "stream",
     "text": [
      "211\r"
     ]
    },
    {
     "name": "stderr",
     "output_type": "stream",
     "text": [
      "C:\\Users\\hi\\AppData\\Local\\Temp\\ipykernel_4988\\3186835542.py:6: DtypeWarning: Columns (2) have mixed types. Specify dtype option on import or set low_memory=False.\n",
      "  data = pd.read_csv(f'C:/bigdata/data/전국부동산실거래가/{i}', skiprows=15, encoding='cp949')\n"
     ]
    },
    {
     "name": "stdout",
     "output_type": "stream",
     "text": [
      "212\r"
     ]
    },
    {
     "name": "stderr",
     "output_type": "stream",
     "text": [
      "C:\\Users\\hi\\AppData\\Local\\Temp\\ipykernel_4988\\3186835542.py:6: DtypeWarning: Columns (2) have mixed types. Specify dtype option on import or set low_memory=False.\n",
      "  data = pd.read_csv(f'C:/bigdata/data/전국부동산실거래가/{i}', skiprows=15, encoding='cp949')\n"
     ]
    },
    {
     "name": "stdout",
     "output_type": "stream",
     "text": [
      "213\r"
     ]
    },
    {
     "name": "stderr",
     "output_type": "stream",
     "text": [
      "C:\\Users\\hi\\AppData\\Local\\Temp\\ipykernel_4988\\3186835542.py:6: DtypeWarning: Columns (2) have mixed types. Specify dtype option on import or set low_memory=False.\n",
      "  data = pd.read_csv(f'C:/bigdata/data/전국부동산실거래가/{i}', skiprows=15, encoding='cp949')\n"
     ]
    },
    {
     "name": "stdout",
     "output_type": "stream",
     "text": [
      "214\r"
     ]
    },
    {
     "name": "stderr",
     "output_type": "stream",
     "text": [
      "C:\\Users\\hi\\AppData\\Local\\Temp\\ipykernel_4988\\3186835542.py:6: DtypeWarning: Columns (2) have mixed types. Specify dtype option on import or set low_memory=False.\n",
      "  data = pd.read_csv(f'C:/bigdata/data/전국부동산실거래가/{i}', skiprows=15, encoding='cp949')\n"
     ]
    },
    {
     "name": "stdout",
     "output_type": "stream",
     "text": [
      "215\r"
     ]
    },
    {
     "name": "stderr",
     "output_type": "stream",
     "text": [
      "C:\\Users\\hi\\AppData\\Local\\Temp\\ipykernel_4988\\3186835542.py:6: DtypeWarning: Columns (2) have mixed types. Specify dtype option on import or set low_memory=False.\n",
      "  data = pd.read_csv(f'C:/bigdata/data/전국부동산실거래가/{i}', skiprows=15, encoding='cp949')\n"
     ]
    },
    {
     "name": "stdout",
     "output_type": "stream",
     "text": [
      "217\r"
     ]
    },
    {
     "name": "stderr",
     "output_type": "stream",
     "text": [
      "C:\\Users\\hi\\AppData\\Local\\Temp\\ipykernel_4988\\3186835542.py:6: DtypeWarning: Columns (2) have mixed types. Specify dtype option on import or set low_memory=False.\n",
      "  data = pd.read_csv(f'C:/bigdata/data/전국부동산실거래가/{i}', skiprows=15, encoding='cp949')\n"
     ]
    },
    {
     "name": "stdout",
     "output_type": "stream",
     "text": [
      "219\r"
     ]
    },
    {
     "name": "stderr",
     "output_type": "stream",
     "text": [
      "C:\\Users\\hi\\AppData\\Local\\Temp\\ipykernel_4988\\3186835542.py:6: DtypeWarning: Columns (2) have mixed types. Specify dtype option on import or set low_memory=False.\n",
      "  data = pd.read_csv(f'C:/bigdata/data/전국부동산실거래가/{i}', skiprows=15, encoding='cp949')\n"
     ]
    },
    {
     "name": "stdout",
     "output_type": "stream",
     "text": [
      "220\r"
     ]
    },
    {
     "name": "stderr",
     "output_type": "stream",
     "text": [
      "C:\\Users\\hi\\AppData\\Local\\Temp\\ipykernel_4988\\3186835542.py:6: DtypeWarning: Columns (2) have mixed types. Specify dtype option on import or set low_memory=False.\n",
      "  data = pd.read_csv(f'C:/bigdata/data/전국부동산실거래가/{i}', skiprows=15, encoding='cp949')\n"
     ]
    },
    {
     "name": "stdout",
     "output_type": "stream",
     "text": [
      "221\r"
     ]
    },
    {
     "name": "stderr",
     "output_type": "stream",
     "text": [
      "C:\\Users\\hi\\AppData\\Local\\Temp\\ipykernel_4988\\3186835542.py:6: DtypeWarning: Columns (2) have mixed types. Specify dtype option on import or set low_memory=False.\n",
      "  data = pd.read_csv(f'C:/bigdata/data/전국부동산실거래가/{i}', skiprows=15, encoding='cp949')\n"
     ]
    },
    {
     "name": "stdout",
     "output_type": "stream",
     "text": [
      "222\r"
     ]
    },
    {
     "name": "stderr",
     "output_type": "stream",
     "text": [
      "C:\\Users\\hi\\AppData\\Local\\Temp\\ipykernel_4988\\3186835542.py:6: DtypeWarning: Columns (2) have mixed types. Specify dtype option on import or set low_memory=False.\n",
      "  data = pd.read_csv(f'C:/bigdata/data/전국부동산실거래가/{i}', skiprows=15, encoding='cp949')\n"
     ]
    },
    {
     "name": "stdout",
     "output_type": "stream",
     "text": [
      "223\r"
     ]
    },
    {
     "name": "stderr",
     "output_type": "stream",
     "text": [
      "C:\\Users\\hi\\AppData\\Local\\Temp\\ipykernel_4988\\3186835542.py:6: DtypeWarning: Columns (2) have mixed types. Specify dtype option on import or set low_memory=False.\n",
      "  data = pd.read_csv(f'C:/bigdata/data/전국부동산실거래가/{i}', skiprows=15, encoding='cp949')\n"
     ]
    },
    {
     "name": "stdout",
     "output_type": "stream",
     "text": [
      "224\r"
     ]
    },
    {
     "name": "stderr",
     "output_type": "stream",
     "text": [
      "C:\\Users\\hi\\AppData\\Local\\Temp\\ipykernel_4988\\3186835542.py:6: DtypeWarning: Columns (2) have mixed types. Specify dtype option on import or set low_memory=False.\n",
      "  data = pd.read_csv(f'C:/bigdata/data/전국부동산실거래가/{i}', skiprows=15, encoding='cp949')\n"
     ]
    },
    {
     "name": "stdout",
     "output_type": "stream",
     "text": [
      "225\r"
     ]
    },
    {
     "name": "stderr",
     "output_type": "stream",
     "text": [
      "C:\\Users\\hi\\AppData\\Local\\Temp\\ipykernel_4988\\3186835542.py:6: DtypeWarning: Columns (2) have mixed types. Specify dtype option on import or set low_memory=False.\n",
      "  data = pd.read_csv(f'C:/bigdata/data/전국부동산실거래가/{i}', skiprows=15, encoding='cp949')\n"
     ]
    },
    {
     "name": "stdout",
     "output_type": "stream",
     "text": [
      "227\r"
     ]
    },
    {
     "name": "stderr",
     "output_type": "stream",
     "text": [
      "C:\\Users\\hi\\AppData\\Local\\Temp\\ipykernel_4988\\3186835542.py:6: DtypeWarning: Columns (2) have mixed types. Specify dtype option on import or set low_memory=False.\n",
      "  data = pd.read_csv(f'C:/bigdata/data/전국부동산실거래가/{i}', skiprows=15, encoding='cp949')\n"
     ]
    },
    {
     "name": "stdout",
     "output_type": "stream",
     "text": [
      "228\r"
     ]
    },
    {
     "name": "stderr",
     "output_type": "stream",
     "text": [
      "C:\\Users\\hi\\AppData\\Local\\Temp\\ipykernel_4988\\3186835542.py:6: DtypeWarning: Columns (2) have mixed types. Specify dtype option on import or set low_memory=False.\n",
      "  data = pd.read_csv(f'C:/bigdata/data/전국부동산실거래가/{i}', skiprows=15, encoding='cp949')\n"
     ]
    },
    {
     "name": "stdout",
     "output_type": "stream",
     "text": [
      "229\r"
     ]
    },
    {
     "name": "stderr",
     "output_type": "stream",
     "text": [
      "C:\\Users\\hi\\AppData\\Local\\Temp\\ipykernel_4988\\3186835542.py:6: DtypeWarning: Columns (2) have mixed types. Specify dtype option on import or set low_memory=False.\n",
      "  data = pd.read_csv(f'C:/bigdata/data/전국부동산실거래가/{i}', skiprows=15, encoding='cp949')\n"
     ]
    },
    {
     "name": "stdout",
     "output_type": "stream",
     "text": [
      "236\r"
     ]
    },
    {
     "name": "stderr",
     "output_type": "stream",
     "text": [
      "C:\\Users\\hi\\AppData\\Local\\Temp\\ipykernel_4988\\3186835542.py:6: DtypeWarning: Columns (2) have mixed types. Specify dtype option on import or set low_memory=False.\n",
      "  data = pd.read_csv(f'C:/bigdata/data/전국부동산실거래가/{i}', skiprows=15, encoding='cp949')\n"
     ]
    },
    {
     "name": "stdout",
     "output_type": "stream",
     "text": [
      "237\r"
     ]
    },
    {
     "name": "stderr",
     "output_type": "stream",
     "text": [
      "C:\\Users\\hi\\AppData\\Local\\Temp\\ipykernel_4988\\3186835542.py:6: DtypeWarning: Columns (2) have mixed types. Specify dtype option on import or set low_memory=False.\n",
      "  data = pd.read_csv(f'C:/bigdata/data/전국부동산실거래가/{i}', skiprows=15, encoding='cp949')\n"
     ]
    },
    {
     "name": "stdout",
     "output_type": "stream",
     "text": [
      "238\r"
     ]
    },
    {
     "name": "stderr",
     "output_type": "stream",
     "text": [
      "C:\\Users\\hi\\AppData\\Local\\Temp\\ipykernel_4988\\3186835542.py:6: DtypeWarning: Columns (2) have mixed types. Specify dtype option on import or set low_memory=False.\n",
      "  data = pd.read_csv(f'C:/bigdata/data/전국부동산실거래가/{i}', skiprows=15, encoding='cp949')\n"
     ]
    },
    {
     "name": "stdout",
     "output_type": "stream",
     "text": [
      "239\r"
     ]
    },
    {
     "name": "stderr",
     "output_type": "stream",
     "text": [
      "C:\\Users\\hi\\AppData\\Local\\Temp\\ipykernel_4988\\3186835542.py:6: DtypeWarning: Columns (2) have mixed types. Specify dtype option on import or set low_memory=False.\n",
      "  data = pd.read_csv(f'C:/bigdata/data/전국부동산실거래가/{i}', skiprows=15, encoding='cp949')\n"
     ]
    },
    {
     "name": "stdout",
     "output_type": "stream",
     "text": [
      "240\r"
     ]
    },
    {
     "name": "stderr",
     "output_type": "stream",
     "text": [
      "C:\\Users\\hi\\AppData\\Local\\Temp\\ipykernel_4988\\3186835542.py:6: DtypeWarning: Columns (2) have mixed types. Specify dtype option on import or set low_memory=False.\n",
      "  data = pd.read_csv(f'C:/bigdata/data/전국부동산실거래가/{i}', skiprows=15, encoding='cp949')\n"
     ]
    },
    {
     "name": "stdout",
     "output_type": "stream",
     "text": [
      "241\r"
     ]
    },
    {
     "name": "stderr",
     "output_type": "stream",
     "text": [
      "C:\\Users\\hi\\AppData\\Local\\Temp\\ipykernel_4988\\3186835542.py:6: DtypeWarning: Columns (2) have mixed types. Specify dtype option on import or set low_memory=False.\n",
      "  data = pd.read_csv(f'C:/bigdata/data/전국부동산실거래가/{i}', skiprows=15, encoding='cp949')\n"
     ]
    },
    {
     "name": "stdout",
     "output_type": "stream",
     "text": [
      "242\r"
     ]
    },
    {
     "name": "stderr",
     "output_type": "stream",
     "text": [
      "C:\\Users\\hi\\AppData\\Local\\Temp\\ipykernel_4988\\3186835542.py:6: DtypeWarning: Columns (2) have mixed types. Specify dtype option on import or set low_memory=False.\n",
      "  data = pd.read_csv(f'C:/bigdata/data/전국부동산실거래가/{i}', skiprows=15, encoding='cp949')\n"
     ]
    },
    {
     "name": "stdout",
     "output_type": "stream",
     "text": [
      "243\r"
     ]
    },
    {
     "name": "stderr",
     "output_type": "stream",
     "text": [
      "C:\\Users\\hi\\AppData\\Local\\Temp\\ipykernel_4988\\3186835542.py:6: DtypeWarning: Columns (2) have mixed types. Specify dtype option on import or set low_memory=False.\n",
      "  data = pd.read_csv(f'C:/bigdata/data/전국부동산실거래가/{i}', skiprows=15, encoding='cp949')\n"
     ]
    },
    {
     "name": "stdout",
     "output_type": "stream",
     "text": [
      "244\r"
     ]
    },
    {
     "name": "stderr",
     "output_type": "stream",
     "text": [
      "C:\\Users\\hi\\AppData\\Local\\Temp\\ipykernel_4988\\3186835542.py:6: DtypeWarning: Columns (2) have mixed types. Specify dtype option on import or set low_memory=False.\n",
      "  data = pd.read_csv(f'C:/bigdata/data/전국부동산실거래가/{i}', skiprows=15, encoding='cp949')\n"
     ]
    },
    {
     "name": "stdout",
     "output_type": "stream",
     "text": [
      "245\r"
     ]
    },
    {
     "name": "stderr",
     "output_type": "stream",
     "text": [
      "C:\\Users\\hi\\AppData\\Local\\Temp\\ipykernel_4988\\3186835542.py:6: DtypeWarning: Columns (2) have mixed types. Specify dtype option on import or set low_memory=False.\n",
      "  data = pd.read_csv(f'C:/bigdata/data/전국부동산실거래가/{i}', skiprows=15, encoding='cp949')\n"
     ]
    },
    {
     "name": "stdout",
     "output_type": "stream",
     "text": [
      "246\r"
     ]
    },
    {
     "name": "stderr",
     "output_type": "stream",
     "text": [
      "C:\\Users\\hi\\AppData\\Local\\Temp\\ipykernel_4988\\3186835542.py:6: DtypeWarning: Columns (2) have mixed types. Specify dtype option on import or set low_memory=False.\n",
      "  data = pd.read_csv(f'C:/bigdata/data/전국부동산실거래가/{i}', skiprows=15, encoding='cp949')\n"
     ]
    },
    {
     "name": "stdout",
     "output_type": "stream",
     "text": [
      "247\r"
     ]
    },
    {
     "name": "stderr",
     "output_type": "stream",
     "text": [
      "C:\\Users\\hi\\AppData\\Local\\Temp\\ipykernel_4988\\3186835542.py:6: DtypeWarning: Columns (2) have mixed types. Specify dtype option on import or set low_memory=False.\n",
      "  data = pd.read_csv(f'C:/bigdata/data/전국부동산실거래가/{i}', skiprows=15, encoding='cp949')\n"
     ]
    },
    {
     "name": "stdout",
     "output_type": "stream",
     "text": [
      "249\r"
     ]
    },
    {
     "name": "stderr",
     "output_type": "stream",
     "text": [
      "C:\\Users\\hi\\AppData\\Local\\Temp\\ipykernel_4988\\3186835542.py:6: DtypeWarning: Columns (2) have mixed types. Specify dtype option on import or set low_memory=False.\n",
      "  data = pd.read_csv(f'C:/bigdata/data/전국부동산실거래가/{i}', skiprows=15, encoding='cp949')\n"
     ]
    },
    {
     "name": "stdout",
     "output_type": "stream",
     "text": [
      "250\r"
     ]
    },
    {
     "name": "stderr",
     "output_type": "stream",
     "text": [
      "C:\\Users\\hi\\AppData\\Local\\Temp\\ipykernel_4988\\3186835542.py:6: DtypeWarning: Columns (2) have mixed types. Specify dtype option on import or set low_memory=False.\n",
      "  data = pd.read_csv(f'C:/bigdata/data/전국부동산실거래가/{i}', skiprows=15, encoding='cp949')\n"
     ]
    },
    {
     "name": "stdout",
     "output_type": "stream",
     "text": [
      "251\r"
     ]
    },
    {
     "name": "stderr",
     "output_type": "stream",
     "text": [
      "C:\\Users\\hi\\AppData\\Local\\Temp\\ipykernel_4988\\3186835542.py:6: DtypeWarning: Columns (2) have mixed types. Specify dtype option on import or set low_memory=False.\n",
      "  data = pd.read_csv(f'C:/bigdata/data/전국부동산실거래가/{i}', skiprows=15, encoding='cp949')\n"
     ]
    },
    {
     "name": "stdout",
     "output_type": "stream",
     "text": [
      "253\r"
     ]
    },
    {
     "name": "stderr",
     "output_type": "stream",
     "text": [
      "C:\\Users\\hi\\AppData\\Local\\Temp\\ipykernel_4988\\3186835542.py:6: DtypeWarning: Columns (2) have mixed types. Specify dtype option on import or set low_memory=False.\n",
      "  data = pd.read_csv(f'C:/bigdata/data/전국부동산실거래가/{i}', skiprows=15, encoding='cp949')\n"
     ]
    },
    {
     "name": "stdout",
     "output_type": "stream",
     "text": [
      "254\r"
     ]
    },
    {
     "name": "stderr",
     "output_type": "stream",
     "text": [
      "C:\\Users\\hi\\AppData\\Local\\Temp\\ipykernel_4988\\3186835542.py:6: DtypeWarning: Columns (2) have mixed types. Specify dtype option on import or set low_memory=False.\n",
      "  data = pd.read_csv(f'C:/bigdata/data/전국부동산실거래가/{i}', skiprows=15, encoding='cp949')\n"
     ]
    },
    {
     "name": "stdout",
     "output_type": "stream",
     "text": [
      "255\r"
     ]
    },
    {
     "name": "stderr",
     "output_type": "stream",
     "text": [
      "C:\\Users\\hi\\AppData\\Local\\Temp\\ipykernel_4988\\3186835542.py:6: DtypeWarning: Columns (2) have mixed types. Specify dtype option on import or set low_memory=False.\n",
      "  data = pd.read_csv(f'C:/bigdata/data/전국부동산실거래가/{i}', skiprows=15, encoding='cp949')\n"
     ]
    },
    {
     "name": "stdout",
     "output_type": "stream",
     "text": [
      "261\r"
     ]
    },
    {
     "name": "stderr",
     "output_type": "stream",
     "text": [
      "C:\\Users\\hi\\AppData\\Local\\Temp\\ipykernel_4988\\3186835542.py:6: DtypeWarning: Columns (2) have mixed types. Specify dtype option on import or set low_memory=False.\n",
      "  data = pd.read_csv(f'C:/bigdata/data/전국부동산실거래가/{i}', skiprows=15, encoding='cp949')\n"
     ]
    },
    {
     "name": "stdout",
     "output_type": "stream",
     "text": [
      "264\r"
     ]
    },
    {
     "name": "stderr",
     "output_type": "stream",
     "text": [
      "C:\\Users\\hi\\AppData\\Local\\Temp\\ipykernel_4988\\3186835542.py:6: DtypeWarning: Columns (2) have mixed types. Specify dtype option on import or set low_memory=False.\n",
      "  data = pd.read_csv(f'C:/bigdata/data/전국부동산실거래가/{i}', skiprows=15, encoding='cp949')\n"
     ]
    },
    {
     "name": "stdout",
     "output_type": "stream",
     "text": [
      "265\r"
     ]
    },
    {
     "name": "stderr",
     "output_type": "stream",
     "text": [
      "C:\\Users\\hi\\AppData\\Local\\Temp\\ipykernel_4988\\3186835542.py:6: DtypeWarning: Columns (2) have mixed types. Specify dtype option on import or set low_memory=False.\n",
      "  data = pd.read_csv(f'C:/bigdata/data/전국부동산실거래가/{i}', skiprows=15, encoding='cp949')\n"
     ]
    },
    {
     "name": "stdout",
     "output_type": "stream",
     "text": [
      "271\r"
     ]
    },
    {
     "name": "stderr",
     "output_type": "stream",
     "text": [
      "C:\\Users\\hi\\AppData\\Local\\Temp\\ipykernel_4988\\3186835542.py:6: DtypeWarning: Columns (2) have mixed types. Specify dtype option on import or set low_memory=False.\n",
      "  data = pd.read_csv(f'C:/bigdata/data/전국부동산실거래가/{i}', skiprows=15, encoding='cp949')\n"
     ]
    },
    {
     "name": "stdout",
     "output_type": "stream",
     "text": [
      "281\r"
     ]
    },
    {
     "name": "stderr",
     "output_type": "stream",
     "text": [
      "C:\\Users\\hi\\AppData\\Local\\Temp\\ipykernel_4988\\3186835542.py:6: DtypeWarning: Columns (2) have mixed types. Specify dtype option on import or set low_memory=False.\n",
      "  data = pd.read_csv(f'C:/bigdata/data/전국부동산실거래가/{i}', skiprows=15, encoding='cp949')\n"
     ]
    },
    {
     "name": "stdout",
     "output_type": "stream",
     "text": [
      "282\r"
     ]
    },
    {
     "name": "stderr",
     "output_type": "stream",
     "text": [
      "C:\\Users\\hi\\AppData\\Local\\Temp\\ipykernel_4988\\3186835542.py:6: DtypeWarning: Columns (2) have mixed types. Specify dtype option on import or set low_memory=False.\n",
      "  data = pd.read_csv(f'C:/bigdata/data/전국부동산실거래가/{i}', skiprows=15, encoding='cp949')\n"
     ]
    },
    {
     "name": "stdout",
     "output_type": "stream",
     "text": [
      "283\r"
     ]
    },
    {
     "name": "stderr",
     "output_type": "stream",
     "text": [
      "C:\\Users\\hi\\AppData\\Local\\Temp\\ipykernel_4988\\3186835542.py:6: DtypeWarning: Columns (2) have mixed types. Specify dtype option on import or set low_memory=False.\n",
      "  data = pd.read_csv(f'C:/bigdata/data/전국부동산실거래가/{i}', skiprows=15, encoding='cp949')\n"
     ]
    },
    {
     "name": "stdout",
     "output_type": "stream",
     "text": [
      "284\r"
     ]
    },
    {
     "name": "stderr",
     "output_type": "stream",
     "text": [
      "C:\\Users\\hi\\AppData\\Local\\Temp\\ipykernel_4988\\3186835542.py:6: DtypeWarning: Columns (2) have mixed types. Specify dtype option on import or set low_memory=False.\n",
      "  data = pd.read_csv(f'C:/bigdata/data/전국부동산실거래가/{i}', skiprows=15, encoding='cp949')\n"
     ]
    },
    {
     "name": "stdout",
     "output_type": "stream",
     "text": [
      "285\r"
     ]
    },
    {
     "name": "stderr",
     "output_type": "stream",
     "text": [
      "C:\\Users\\hi\\AppData\\Local\\Temp\\ipykernel_4988\\3186835542.py:6: DtypeWarning: Columns (2) have mixed types. Specify dtype option on import or set low_memory=False.\n",
      "  data = pd.read_csv(f'C:/bigdata/data/전국부동산실거래가/{i}', skiprows=15, encoding='cp949')\n"
     ]
    },
    {
     "name": "stdout",
     "output_type": "stream",
     "text": [
      "286\r"
     ]
    },
    {
     "name": "stderr",
     "output_type": "stream",
     "text": [
      "C:\\Users\\hi\\AppData\\Local\\Temp\\ipykernel_4988\\3186835542.py:6: DtypeWarning: Columns (2) have mixed types. Specify dtype option on import or set low_memory=False.\n",
      "  data = pd.read_csv(f'C:/bigdata/data/전국부동산실거래가/{i}', skiprows=15, encoding='cp949')\n"
     ]
    },
    {
     "name": "stdout",
     "output_type": "stream",
     "text": [
      "287\r"
     ]
    }
   ],
   "source": [
    "# 폴더에 있는 여러개의 csv파일을 하나의 데이터프레임에 담기\n",
    "# 왜 f포메팅이지??\n",
    "data_hap = pd.DataFrame()\n",
    "for idx, i in enumerate(file_list[:-8]):\n",
    "    print(idx, end=\"\\r\")\n",
    "    data = pd.read_csv(f'C:/bigdata/data/전국부동산실거래가/{i}', skiprows=15, encoding='cp949')\n",
    "    data_hap = pd.concat([data_hap, data])"
   ]
  },
  {
   "cell_type": "markdown",
   "id": "b9127beb",
   "metadata": {},
   "source": [
    "### concat을 하면 인덱스가 섞여있으니 인덱스 정리를 해줘야 해!"
   ]
  },
  {
   "cell_type": "code",
   "execution_count": 30,
   "id": "8636a5ab",
   "metadata": {},
   "outputs": [
    {
     "data": {
      "text/html": [
       "<div>\n",
       "<style scoped>\n",
       "    .dataframe tbody tr th:only-of-type {\n",
       "        vertical-align: middle;\n",
       "    }\n",
       "\n",
       "    .dataframe tbody tr th {\n",
       "        vertical-align: top;\n",
       "    }\n",
       "\n",
       "    .dataframe thead th {\n",
       "        text-align: right;\n",
       "    }\n",
       "</style>\n",
       "<table border=\"1\" class=\"dataframe\">\n",
       "  <thead>\n",
       "    <tr style=\"text-align: right;\">\n",
       "      <th></th>\n",
       "      <th>시군구</th>\n",
       "      <th>번지</th>\n",
       "      <th>본번</th>\n",
       "      <th>부번</th>\n",
       "      <th>단지명</th>\n",
       "      <th>전용면적(㎡)</th>\n",
       "      <th>계약년월</th>\n",
       "      <th>계약일</th>\n",
       "      <th>거래금액(만원)</th>\n",
       "      <th>층</th>\n",
       "      <th>건축년도</th>\n",
       "      <th>도로명</th>\n",
       "      <th>해제사유발생일</th>\n",
       "      <th>등기신청일자</th>\n",
       "      <th>거래유형</th>\n",
       "      <th>중개사소재지</th>\n",
       "    </tr>\n",
       "  </thead>\n",
       "  <tbody>\n",
       "    <tr>\n",
       "      <th>0</th>\n",
       "      <td>강원특별자치도 양구군 양구읍 상리</td>\n",
       "      <td>510</td>\n",
       "      <td>510</td>\n",
       "      <td>0</td>\n",
       "      <td>경림</td>\n",
       "      <td>59.400</td>\n",
       "      <td>200509</td>\n",
       "      <td>23</td>\n",
       "      <td>5,000</td>\n",
       "      <td>11</td>\n",
       "      <td>1998</td>\n",
       "      <td>양록길23번길 11</td>\n",
       "      <td>NaN</td>\n",
       "      <td></td>\n",
       "      <td>-</td>\n",
       "      <td>-</td>\n",
       "    </tr>\n",
       "    <tr>\n",
       "      <th>0</th>\n",
       "      <td>경기도 의정부시 민락동</td>\n",
       "      <td>756-7</td>\n",
       "      <td>756</td>\n",
       "      <td>7</td>\n",
       "      <td>한라비발디</td>\n",
       "      <td>84.990</td>\n",
       "      <td>200510</td>\n",
       "      <td>30</td>\n",
       "      <td>12,750</td>\n",
       "      <td>19</td>\n",
       "      <td>2003</td>\n",
       "      <td>오목로 73</td>\n",
       "      <td>NaN</td>\n",
       "      <td></td>\n",
       "      <td>-</td>\n",
       "      <td>-</td>\n",
       "    </tr>\n",
       "    <tr>\n",
       "      <th>1</th>\n",
       "      <td>경기도 의정부시 신곡동</td>\n",
       "      <td>456</td>\n",
       "      <td>456</td>\n",
       "      <td>0</td>\n",
       "      <td>신일1</td>\n",
       "      <td>59.878</td>\n",
       "      <td>200510</td>\n",
       "      <td>20</td>\n",
       "      <td>5,750</td>\n",
       "      <td>3</td>\n",
       "      <td>1997</td>\n",
       "      <td>시민로245번길 10</td>\n",
       "      <td>NaN</td>\n",
       "      <td></td>\n",
       "      <td>-</td>\n",
       "      <td>-</td>\n",
       "    </tr>\n",
       "    <tr>\n",
       "      <th>2</th>\n",
       "      <td>경기도 의정부시 신곡동</td>\n",
       "      <td>727-1</td>\n",
       "      <td>727</td>\n",
       "      <td>1</td>\n",
       "      <td>풍림</td>\n",
       "      <td>49.830</td>\n",
       "      <td>200510</td>\n",
       "      <td>20</td>\n",
       "      <td>5,500</td>\n",
       "      <td>8</td>\n",
       "      <td>1998</td>\n",
       "      <td>회룡로 245</td>\n",
       "      <td>NaN</td>\n",
       "      <td></td>\n",
       "      <td>-</td>\n",
       "      <td>-</td>\n",
       "    </tr>\n",
       "    <tr>\n",
       "      <th>0</th>\n",
       "      <td>경기도 의정부시 용현동</td>\n",
       "      <td>46</td>\n",
       "      <td>46</td>\n",
       "      <td>0</td>\n",
       "      <td>용현현대1차</td>\n",
       "      <td>129.730</td>\n",
       "      <td>200511</td>\n",
       "      <td>21</td>\n",
       "      <td>12,200</td>\n",
       "      <td>11</td>\n",
       "      <td>1992</td>\n",
       "      <td>오목로 36</td>\n",
       "      <td>NaN</td>\n",
       "      <td></td>\n",
       "      <td>-</td>\n",
       "      <td>-</td>\n",
       "    </tr>\n",
       "  </tbody>\n",
       "</table>\n",
       "</div>"
      ],
      "text/plain": [
       "                  시군구     번지   본번 부번     단지명  전용면적(㎡)    계약년월 계약일 거래금액(만원)  \\\n",
       "0  강원특별자치도 양구군 양구읍 상리    510  510  0      경림   59.400  200509  23    5,000   \n",
       "0        경기도 의정부시 민락동  756-7  756  7   한라비발디   84.990  200510  30   12,750   \n",
       "1        경기도 의정부시 신곡동    456  456  0     신일1   59.878  200510  20    5,750   \n",
       "2        경기도 의정부시 신곡동  727-1  727  1      풍림   49.830  200510  20    5,500   \n",
       "0        경기도 의정부시 용현동     46   46  0  용현현대1차  129.730  200511  21   12,200   \n",
       "\n",
       "    층  건축년도          도로명  해제사유발생일 등기신청일자 거래유형 중개사소재지  \n",
       "0  11  1998   양록길23번길 11      NaN           -      -  \n",
       "0  19  2003       오목로 73      NaN           -      -  \n",
       "1   3  1997  시민로245번길 10      NaN           -      -  \n",
       "2   8  1998      회룡로 245      NaN           -      -  \n",
       "0  11  1992       오목로 36      NaN           -      -  "
      ]
     },
     "execution_count": 30,
     "metadata": {},
     "output_type": "execute_result"
    }
   ],
   "source": [
    "data_hap.head()"
   ]
  },
  {
   "cell_type": "code",
   "execution_count": 71,
   "id": "f642089e",
   "metadata": {},
   "outputs": [],
   "source": [
    "data = data_hap"
   ]
  },
  {
   "cell_type": "code",
   "execution_count": 32,
   "id": "5b4f2485",
   "metadata": {},
   "outputs": [
    {
     "data": {
      "text/plain": [
       "9591343"
      ]
     },
     "execution_count": 32,
     "metadata": {},
     "output_type": "execute_result"
    }
   ],
   "source": [
    "len(data)"
   ]
  },
  {
   "cell_type": "code",
   "execution_count": 72,
   "id": "07d764ac",
   "metadata": {},
   "outputs": [],
   "source": [
    "data = data.reset_index(drop=True)"
   ]
  },
  {
   "cell_type": "code",
   "execution_count": 14,
   "id": "45d2ef08",
   "metadata": {
    "scrolled": false
   },
   "outputs": [
    {
     "data": {
      "text/html": [
       "<div>\n",
       "<style scoped>\n",
       "    .dataframe tbody tr th:only-of-type {\n",
       "        vertical-align: middle;\n",
       "    }\n",
       "\n",
       "    .dataframe tbody tr th {\n",
       "        vertical-align: top;\n",
       "    }\n",
       "\n",
       "    .dataframe thead th {\n",
       "        text-align: right;\n",
       "    }\n",
       "</style>\n",
       "<table border=\"1\" class=\"dataframe\">\n",
       "  <thead>\n",
       "    <tr style=\"text-align: right;\">\n",
       "      <th></th>\n",
       "      <th>시군구</th>\n",
       "      <th>번지</th>\n",
       "      <th>본번</th>\n",
       "      <th>부번</th>\n",
       "      <th>단지명</th>\n",
       "      <th>전용면적(㎡)</th>\n",
       "      <th>계약년월</th>\n",
       "      <th>계약일</th>\n",
       "      <th>거래금액(만원)</th>\n",
       "      <th>층</th>\n",
       "      <th>건축년도</th>\n",
       "      <th>도로명</th>\n",
       "      <th>해제사유발생일</th>\n",
       "      <th>등기신청일자</th>\n",
       "      <th>거래유형</th>\n",
       "      <th>중개사소재지</th>\n",
       "    </tr>\n",
       "  </thead>\n",
       "  <tbody>\n",
       "    <tr>\n",
       "      <th>0</th>\n",
       "      <td>강원특별자치도 양구군 양구읍 상리</td>\n",
       "      <td>510</td>\n",
       "      <td>510</td>\n",
       "      <td>0</td>\n",
       "      <td>경림</td>\n",
       "      <td>59.400</td>\n",
       "      <td>200509</td>\n",
       "      <td>23</td>\n",
       "      <td>5,000</td>\n",
       "      <td>11</td>\n",
       "      <td>1998</td>\n",
       "      <td>양록길23번길 11</td>\n",
       "      <td>NaN</td>\n",
       "      <td></td>\n",
       "      <td>-</td>\n",
       "      <td>-</td>\n",
       "    </tr>\n",
       "    <tr>\n",
       "      <th>1</th>\n",
       "      <td>경기도 의정부시 민락동</td>\n",
       "      <td>756-7</td>\n",
       "      <td>756</td>\n",
       "      <td>7</td>\n",
       "      <td>한라비발디</td>\n",
       "      <td>84.990</td>\n",
       "      <td>200510</td>\n",
       "      <td>30</td>\n",
       "      <td>12,750</td>\n",
       "      <td>19</td>\n",
       "      <td>2003</td>\n",
       "      <td>오목로 73</td>\n",
       "      <td>NaN</td>\n",
       "      <td></td>\n",
       "      <td>-</td>\n",
       "      <td>-</td>\n",
       "    </tr>\n",
       "    <tr>\n",
       "      <th>2</th>\n",
       "      <td>경기도 의정부시 신곡동</td>\n",
       "      <td>456</td>\n",
       "      <td>456</td>\n",
       "      <td>0</td>\n",
       "      <td>신일1</td>\n",
       "      <td>59.878</td>\n",
       "      <td>200510</td>\n",
       "      <td>20</td>\n",
       "      <td>5,750</td>\n",
       "      <td>3</td>\n",
       "      <td>1997</td>\n",
       "      <td>시민로245번길 10</td>\n",
       "      <td>NaN</td>\n",
       "      <td></td>\n",
       "      <td>-</td>\n",
       "      <td>-</td>\n",
       "    </tr>\n",
       "    <tr>\n",
       "      <th>3</th>\n",
       "      <td>경기도 의정부시 신곡동</td>\n",
       "      <td>727-1</td>\n",
       "      <td>727</td>\n",
       "      <td>1</td>\n",
       "      <td>풍림</td>\n",
       "      <td>49.830</td>\n",
       "      <td>200510</td>\n",
       "      <td>20</td>\n",
       "      <td>5,500</td>\n",
       "      <td>8</td>\n",
       "      <td>1998</td>\n",
       "      <td>회룡로 245</td>\n",
       "      <td>NaN</td>\n",
       "      <td></td>\n",
       "      <td>-</td>\n",
       "      <td>-</td>\n",
       "    </tr>\n",
       "    <tr>\n",
       "      <th>4</th>\n",
       "      <td>경기도 의정부시 용현동</td>\n",
       "      <td>46</td>\n",
       "      <td>46</td>\n",
       "      <td>0</td>\n",
       "      <td>용현현대1차</td>\n",
       "      <td>129.730</td>\n",
       "      <td>200511</td>\n",
       "      <td>21</td>\n",
       "      <td>12,200</td>\n",
       "      <td>11</td>\n",
       "      <td>1992</td>\n",
       "      <td>오목로 36</td>\n",
       "      <td>NaN</td>\n",
       "      <td></td>\n",
       "      <td>-</td>\n",
       "      <td>-</td>\n",
       "    </tr>\n",
       "  </tbody>\n",
       "</table>\n",
       "</div>"
      ],
      "text/plain": [
       "                  시군구     번지   본번 부번     단지명  전용면적(㎡)    계약년월 계약일 거래금액(만원)  \\\n",
       "0  강원특별자치도 양구군 양구읍 상리    510  510  0      경림   59.400  200509  23    5,000   \n",
       "1        경기도 의정부시 민락동  756-7  756  7   한라비발디   84.990  200510  30   12,750   \n",
       "2        경기도 의정부시 신곡동    456  456  0     신일1   59.878  200510  20    5,750   \n",
       "3        경기도 의정부시 신곡동  727-1  727  1      풍림   49.830  200510  20    5,500   \n",
       "4        경기도 의정부시 용현동     46   46  0  용현현대1차  129.730  200511  21   12,200   \n",
       "\n",
       "    층  건축년도          도로명  해제사유발생일 등기신청일자 거래유형 중개사소재지  \n",
       "0  11  1998   양록길23번길 11      NaN           -      -  \n",
       "1  19  2003       오목로 73      NaN           -      -  \n",
       "2   3  1997  시민로245번길 10      NaN           -      -  \n",
       "3   8  1998      회룡로 245      NaN           -      -  \n",
       "4  11  1992       오목로 36      NaN           -      -  "
      ]
     },
     "execution_count": 14,
     "metadata": {},
     "output_type": "execute_result"
    }
   ],
   "source": [
    "data.head()"
   ]
  },
  {
   "cell_type": "code",
   "execution_count": 15,
   "id": "ec585e8e",
   "metadata": {},
   "outputs": [],
   "source": [
    "# 전체 컬럼을 열어볼 수 있다.\n",
    "pd.set_option(\"display.max_columns\", None)"
   ]
  },
  {
   "cell_type": "code",
   "execution_count": 16,
   "id": "fd2c343b",
   "metadata": {
    "scrolled": true
   },
   "outputs": [
    {
     "name": "stdout",
     "output_type": "stream",
     "text": [
      "<class 'pandas.core.frame.DataFrame'>\n",
      "RangeIndex: 9591343 entries, 0 to 9591342\n",
      "Data columns (total 16 columns):\n",
      " #   Column    Dtype  \n",
      "---  ------    -----  \n",
      " 0   시군구       object \n",
      " 1   번지        object \n",
      " 2   본번        object \n",
      " 3   부번        object \n",
      " 4   단지명       object \n",
      " 5   전용면적(㎡)   float64\n",
      " 6   계약년월      object \n",
      " 7   계약일       object \n",
      " 8   거래금액(만원)  object \n",
      " 9   층         object \n",
      " 10  건축년도      object \n",
      " 11  도로명       object \n",
      " 12  해제사유발생일   float64\n",
      " 13  등기신청일자    object \n",
      " 14  거래유형      object \n",
      " 15  중개사소재지    object \n",
      "dtypes: float64(2), object(14)\n",
      "memory usage: 1.1+ GB\n"
     ]
    }
   ],
   "source": [
    "data.info()"
   ]
  },
  {
   "cell_type": "code",
   "execution_count": 73,
   "id": "cf1718fa",
   "metadata": {},
   "outputs": [],
   "source": [
    "data.drop(['번지', '본번','부번', '계약일', '해제사유발생일', '등기신청일자','거래유형','중개사소재지'],axis=1, inplace=True)"
   ]
  },
  {
   "cell_type": "code",
   "execution_count": 74,
   "id": "b2d9825d",
   "metadata": {},
   "outputs": [
    {
     "data": {
      "text/html": [
       "<div>\n",
       "<style scoped>\n",
       "    .dataframe tbody tr th:only-of-type {\n",
       "        vertical-align: middle;\n",
       "    }\n",
       "\n",
       "    .dataframe tbody tr th {\n",
       "        vertical-align: top;\n",
       "    }\n",
       "\n",
       "    .dataframe thead th {\n",
       "        text-align: right;\n",
       "    }\n",
       "</style>\n",
       "<table border=\"1\" class=\"dataframe\">\n",
       "  <thead>\n",
       "    <tr style=\"text-align: right;\">\n",
       "      <th></th>\n",
       "      <th>시군구</th>\n",
       "      <th>단지명</th>\n",
       "      <th>전용면적(㎡)</th>\n",
       "      <th>계약년월</th>\n",
       "      <th>거래금액(만원)</th>\n",
       "      <th>층</th>\n",
       "      <th>건축년도</th>\n",
       "      <th>도로명</th>\n",
       "      <th>시</th>\n",
       "      <th>구</th>\n",
       "      <th>동</th>\n",
       "    </tr>\n",
       "  </thead>\n",
       "  <tbody>\n",
       "    <tr>\n",
       "      <th>0</th>\n",
       "      <td>강원특별자치도 양구군 양구읍 상리</td>\n",
       "      <td>경림</td>\n",
       "      <td>59.400</td>\n",
       "      <td>200509</td>\n",
       "      <td>5,000</td>\n",
       "      <td>11</td>\n",
       "      <td>1998</td>\n",
       "      <td>양록길23번길 11</td>\n",
       "      <td>0</td>\n",
       "      <td>1</td>\n",
       "      <td>2</td>\n",
       "    </tr>\n",
       "    <tr>\n",
       "      <th>1</th>\n",
       "      <td>경기도 의정부시 민락동</td>\n",
       "      <td>한라비발디</td>\n",
       "      <td>84.990</td>\n",
       "      <td>200510</td>\n",
       "      <td>12,750</td>\n",
       "      <td>19</td>\n",
       "      <td>2003</td>\n",
       "      <td>오목로 73</td>\n",
       "      <td>0</td>\n",
       "      <td>1</td>\n",
       "      <td>2</td>\n",
       "    </tr>\n",
       "    <tr>\n",
       "      <th>2</th>\n",
       "      <td>경기도 의정부시 신곡동</td>\n",
       "      <td>신일1</td>\n",
       "      <td>59.878</td>\n",
       "      <td>200510</td>\n",
       "      <td>5,750</td>\n",
       "      <td>3</td>\n",
       "      <td>1997</td>\n",
       "      <td>시민로245번길 10</td>\n",
       "      <td>0</td>\n",
       "      <td>1</td>\n",
       "      <td>2</td>\n",
       "    </tr>\n",
       "    <tr>\n",
       "      <th>3</th>\n",
       "      <td>경기도 의정부시 신곡동</td>\n",
       "      <td>풍림</td>\n",
       "      <td>49.830</td>\n",
       "      <td>200510</td>\n",
       "      <td>5,500</td>\n",
       "      <td>8</td>\n",
       "      <td>1998</td>\n",
       "      <td>회룡로 245</td>\n",
       "      <td>0</td>\n",
       "      <td>1</td>\n",
       "      <td>2</td>\n",
       "    </tr>\n",
       "    <tr>\n",
       "      <th>4</th>\n",
       "      <td>경기도 의정부시 용현동</td>\n",
       "      <td>용현현대1차</td>\n",
       "      <td>129.730</td>\n",
       "      <td>200511</td>\n",
       "      <td>12,200</td>\n",
       "      <td>11</td>\n",
       "      <td>1992</td>\n",
       "      <td>오목로 36</td>\n",
       "      <td>0</td>\n",
       "      <td>1</td>\n",
       "      <td>2</td>\n",
       "    </tr>\n",
       "  </tbody>\n",
       "</table>\n",
       "</div>"
      ],
      "text/plain": [
       "                  시군구     단지명  전용면적(㎡)    계약년월 거래금액(만원)   층  건축년도  \\\n",
       "0  강원특별자치도 양구군 양구읍 상리      경림   59.400  200509    5,000  11  1998   \n",
       "1        경기도 의정부시 민락동   한라비발디   84.990  200510   12,750  19  2003   \n",
       "2        경기도 의정부시 신곡동     신일1   59.878  200510    5,750   3  1997   \n",
       "3        경기도 의정부시 신곡동      풍림   49.830  200510    5,500   8  1998   \n",
       "4        경기도 의정부시 용현동  용현현대1차  129.730  200511   12,200  11  1992   \n",
       "\n",
       "           도로명  시  구  동  \n",
       "0   양록길23번길 11  0  1  2  \n",
       "1       오목로 73  0  1  2  \n",
       "2  시민로245번길 10  0  1  2  \n",
       "3      회룡로 245  0  1  2  \n",
       "4       오목로 36  0  1  2  "
      ]
     },
     "execution_count": 74,
     "metadata": {},
     "output_type": "execute_result"
    }
   ],
   "source": [
    "data.head()"
   ]
  },
  {
   "cell_type": "code",
   "execution_count": 75,
   "id": "595fe25a",
   "metadata": {
    "scrolled": true
   },
   "outputs": [],
   "source": [
    "# data2[data2[\"Name\"].str.contains(\"John\")] 특정 이름이 들어있는 거 찾을 때 방법.\n",
    "data = data[data['시군구'].str.contains(\"서울\")] "
   ]
  },
  {
   "cell_type": "code",
   "execution_count": 43,
   "id": "83a5275c",
   "metadata": {},
   "outputs": [
    {
     "name": "stdout",
     "output_type": "stream",
     "text": [
      "<class 'pandas.core.frame.DataFrame'>\n",
      "RangeIndex: 1215019 entries, 0 to 1215018\n",
      "Data columns (total 11 columns):\n",
      " #   Column    Non-Null Count    Dtype  \n",
      "---  ------    --------------    -----  \n",
      " 0   시군구       1215019 non-null  object \n",
      " 1   단지명       1215019 non-null  object \n",
      " 2   전용면적(㎡)   1215019 non-null  float64\n",
      " 3   계약년월      1215019 non-null  object \n",
      " 4   거래금액(만원)  1215019 non-null  object \n",
      " 5   층         1215019 non-null  object \n",
      " 6   건축년도      1215019 non-null  object \n",
      " 7   도로명       1215019 non-null  object \n",
      " 8   시         1215019 non-null  int64  \n",
      " 9   구         1215019 non-null  int64  \n",
      " 10  동         1215019 non-null  int64  \n",
      "dtypes: float64(1), int64(3), object(7)\n",
      "memory usage: 102.0+ MB\n"
     ]
    }
   ],
   "source": [
    "data.info()"
   ]
  },
  {
   "cell_type": "markdown",
   "id": "5ef70de4",
   "metadata": {},
   "source": [
    "data['시군구'] = data[data['시군구'].str.contains(\"서울\")] 이렇게 하면 ValueError: Columns must be same length as key 이런 오류가 뜨네.\n",
    "data = data[data['시군구'].str.contains(\"서울\")] 이렇게 넣어야 해!"
   ]
  },
  {
   "cell_type": "code",
   "execution_count": 44,
   "id": "e8de62d1",
   "metadata": {
    "scrolled": true
   },
   "outputs": [
    {
     "data": {
      "text/html": [
       "<div>\n",
       "<style scoped>\n",
       "    .dataframe tbody tr th:only-of-type {\n",
       "        vertical-align: middle;\n",
       "    }\n",
       "\n",
       "    .dataframe tbody tr th {\n",
       "        vertical-align: top;\n",
       "    }\n",
       "\n",
       "    .dataframe thead th {\n",
       "        text-align: right;\n",
       "    }\n",
       "</style>\n",
       "<table border=\"1\" class=\"dataframe\">\n",
       "  <thead>\n",
       "    <tr style=\"text-align: right;\">\n",
       "      <th></th>\n",
       "      <th>시군구</th>\n",
       "      <th>단지명</th>\n",
       "      <th>전용면적(㎡)</th>\n",
       "      <th>계약년월</th>\n",
       "      <th>거래금액(만원)</th>\n",
       "      <th>층</th>\n",
       "      <th>건축년도</th>\n",
       "      <th>도로명</th>\n",
       "      <th>시</th>\n",
       "      <th>구</th>\n",
       "      <th>동</th>\n",
       "    </tr>\n",
       "  </thead>\n",
       "  <tbody>\n",
       "    <tr>\n",
       "      <th>0</th>\n",
       "      <td>서울특별시 강남구 개포동</td>\n",
       "      <td>개포6차우성아파트1동~8동</td>\n",
       "      <td>67.28</td>\n",
       "      <td>200601</td>\n",
       "      <td>54,500</td>\n",
       "      <td>3</td>\n",
       "      <td>1987</td>\n",
       "      <td>언주로 3</td>\n",
       "      <td>0</td>\n",
       "      <td>1</td>\n",
       "      <td>2</td>\n",
       "    </tr>\n",
       "    <tr>\n",
       "      <th>1</th>\n",
       "      <td>서울특별시 강남구 개포동</td>\n",
       "      <td>개포6차우성아파트1동~8동</td>\n",
       "      <td>79.97</td>\n",
       "      <td>200601</td>\n",
       "      <td>67,000</td>\n",
       "      <td>3</td>\n",
       "      <td>1987</td>\n",
       "      <td>언주로 3</td>\n",
       "      <td>0</td>\n",
       "      <td>1</td>\n",
       "      <td>2</td>\n",
       "    </tr>\n",
       "    <tr>\n",
       "      <th>2</th>\n",
       "      <td>서울특별시 강남구 개포동</td>\n",
       "      <td>개포6차우성아파트1동~8동</td>\n",
       "      <td>79.97</td>\n",
       "      <td>200601</td>\n",
       "      <td>67,500</td>\n",
       "      <td>4</td>\n",
       "      <td>1987</td>\n",
       "      <td>언주로 3</td>\n",
       "      <td>0</td>\n",
       "      <td>1</td>\n",
       "      <td>2</td>\n",
       "    </tr>\n",
       "    <tr>\n",
       "      <th>3</th>\n",
       "      <td>서울특별시 강남구 개포동</td>\n",
       "      <td>개포우성3차</td>\n",
       "      <td>104.43</td>\n",
       "      <td>200601</td>\n",
       "      <td>73,000</td>\n",
       "      <td>9</td>\n",
       "      <td>1984</td>\n",
       "      <td>개포로 307</td>\n",
       "      <td>0</td>\n",
       "      <td>1</td>\n",
       "      <td>2</td>\n",
       "    </tr>\n",
       "    <tr>\n",
       "      <th>4</th>\n",
       "      <td>서울특별시 강남구 개포동</td>\n",
       "      <td>개포우성3차</td>\n",
       "      <td>104.43</td>\n",
       "      <td>200601</td>\n",
       "      <td>71,250</td>\n",
       "      <td>6</td>\n",
       "      <td>1984</td>\n",
       "      <td>개포로 307</td>\n",
       "      <td>0</td>\n",
       "      <td>1</td>\n",
       "      <td>2</td>\n",
       "    </tr>\n",
       "  </tbody>\n",
       "</table>\n",
       "</div>"
      ],
      "text/plain": [
       "             시군구             단지명  전용면적(㎡)    계약년월 거래금액(만원)  층  건축년도      도로명  \\\n",
       "0  서울특별시 강남구 개포동  개포6차우성아파트1동~8동    67.28  200601   54,500  3  1987    언주로 3   \n",
       "1  서울특별시 강남구 개포동  개포6차우성아파트1동~8동    79.97  200601   67,000  3  1987    언주로 3   \n",
       "2  서울특별시 강남구 개포동  개포6차우성아파트1동~8동    79.97  200601   67,500  4  1987    언주로 3   \n",
       "3  서울특별시 강남구 개포동          개포우성3차   104.43  200601   73,000  9  1984  개포로 307   \n",
       "4  서울특별시 강남구 개포동          개포우성3차   104.43  200601   71,250  6  1984  개포로 307   \n",
       "\n",
       "   시  구  동  \n",
       "0  0  1  2  \n",
       "1  0  1  2  \n",
       "2  0  1  2  \n",
       "3  0  1  2  \n",
       "4  0  1  2  "
      ]
     },
     "execution_count": 44,
     "metadata": {},
     "output_type": "execute_result"
    }
   ],
   "source": [
    "data.head()"
   ]
  },
  {
   "cell_type": "code",
   "execution_count": 76,
   "id": "b17c95f7",
   "metadata": {},
   "outputs": [],
   "source": [
    "# ,때문에 object로 되어있는 금액을 int로 바꾸기\n",
    "data['거래금액(만원)'] = data['거래금액(만원)'].str.replace(',','').astype(int)"
   ]
  },
  {
   "cell_type": "code",
   "execution_count": 23,
   "id": "92627836",
   "metadata": {
    "scrolled": true
   },
   "outputs": [
    {
     "name": "stdout",
     "output_type": "stream",
     "text": [
      "<class 'pandas.core.frame.DataFrame'>\n",
      "Index: 1215019 entries, 15268 to 9582298\n",
      "Data columns (total 8 columns):\n",
      " #   Column    Non-Null Count    Dtype  \n",
      "---  ------    --------------    -----  \n",
      " 0   시군구       1215019 non-null  object \n",
      " 1   단지명       1215019 non-null  object \n",
      " 2   전용면적(㎡)   1215019 non-null  float64\n",
      " 3   계약년월      1215019 non-null  object \n",
      " 4   거래금액(만원)  1215019 non-null  int32  \n",
      " 5   층         1215019 non-null  object \n",
      " 6   건축년도      1215019 non-null  object \n",
      " 7   도로명       1215019 non-null  object \n",
      "dtypes: float64(1), int32(1), object(6)\n",
      "memory usage: 78.8+ MB\n"
     ]
    }
   ],
   "source": [
    "data.info()"
   ]
  },
  {
   "cell_type": "code",
   "execution_count": 24,
   "id": "cf803d1f",
   "metadata": {
    "scrolled": true
   },
   "outputs": [
    {
     "data": {
      "text/html": [
       "<div>\n",
       "<style scoped>\n",
       "    .dataframe tbody tr th:only-of-type {\n",
       "        vertical-align: middle;\n",
       "    }\n",
       "\n",
       "    .dataframe tbody tr th {\n",
       "        vertical-align: top;\n",
       "    }\n",
       "\n",
       "    .dataframe thead th {\n",
       "        text-align: right;\n",
       "    }\n",
       "</style>\n",
       "<table border=\"1\" class=\"dataframe\">\n",
       "  <thead>\n",
       "    <tr style=\"text-align: right;\">\n",
       "      <th></th>\n",
       "      <th>시군구</th>\n",
       "      <th>단지명</th>\n",
       "      <th>전용면적(㎡)</th>\n",
       "      <th>계약년월</th>\n",
       "      <th>거래금액(만원)</th>\n",
       "      <th>층</th>\n",
       "      <th>건축년도</th>\n",
       "      <th>도로명</th>\n",
       "    </tr>\n",
       "  </thead>\n",
       "  <tbody>\n",
       "    <tr>\n",
       "      <th>15268</th>\n",
       "      <td>서울특별시 강남구 개포동</td>\n",
       "      <td>개포6차우성아파트1동~8동</td>\n",
       "      <td>67.28</td>\n",
       "      <td>200601</td>\n",
       "      <td>54500</td>\n",
       "      <td>3</td>\n",
       "      <td>1987</td>\n",
       "      <td>언주로 3</td>\n",
       "    </tr>\n",
       "    <tr>\n",
       "      <th>15269</th>\n",
       "      <td>서울특별시 강남구 개포동</td>\n",
       "      <td>개포6차우성아파트1동~8동</td>\n",
       "      <td>79.97</td>\n",
       "      <td>200601</td>\n",
       "      <td>67000</td>\n",
       "      <td>3</td>\n",
       "      <td>1987</td>\n",
       "      <td>언주로 3</td>\n",
       "    </tr>\n",
       "    <tr>\n",
       "      <th>15270</th>\n",
       "      <td>서울특별시 강남구 개포동</td>\n",
       "      <td>개포6차우성아파트1동~8동</td>\n",
       "      <td>79.97</td>\n",
       "      <td>200601</td>\n",
       "      <td>67500</td>\n",
       "      <td>4</td>\n",
       "      <td>1987</td>\n",
       "      <td>언주로 3</td>\n",
       "    </tr>\n",
       "    <tr>\n",
       "      <th>15271</th>\n",
       "      <td>서울특별시 강남구 개포동</td>\n",
       "      <td>개포우성3차</td>\n",
       "      <td>104.43</td>\n",
       "      <td>200601</td>\n",
       "      <td>73000</td>\n",
       "      <td>9</td>\n",
       "      <td>1984</td>\n",
       "      <td>개포로 307</td>\n",
       "    </tr>\n",
       "    <tr>\n",
       "      <th>15272</th>\n",
       "      <td>서울특별시 강남구 개포동</td>\n",
       "      <td>개포우성3차</td>\n",
       "      <td>104.43</td>\n",
       "      <td>200601</td>\n",
       "      <td>71250</td>\n",
       "      <td>6</td>\n",
       "      <td>1984</td>\n",
       "      <td>개포로 307</td>\n",
       "    </tr>\n",
       "  </tbody>\n",
       "</table>\n",
       "</div>"
      ],
      "text/plain": [
       "                 시군구             단지명  전용면적(㎡)    계약년월  거래금액(만원)  층  건축년도  \\\n",
       "15268  서울특별시 강남구 개포동  개포6차우성아파트1동~8동    67.28  200601     54500  3  1987   \n",
       "15269  서울특별시 강남구 개포동  개포6차우성아파트1동~8동    79.97  200601     67000  3  1987   \n",
       "15270  서울특별시 강남구 개포동  개포6차우성아파트1동~8동    79.97  200601     67500  4  1987   \n",
       "15271  서울특별시 강남구 개포동          개포우성3차   104.43  200601     73000  9  1984   \n",
       "15272  서울특별시 강남구 개포동          개포우성3차   104.43  200601     71250  6  1984   \n",
       "\n",
       "           도로명  \n",
       "15268    언주로 3  \n",
       "15269    언주로 3  \n",
       "15270    언주로 3  \n",
       "15271  개포로 307  \n",
       "15272  개포로 307  "
      ]
     },
     "execution_count": 24,
     "metadata": {},
     "output_type": "execute_result"
    }
   ],
   "source": [
    "data.head()"
   ]
  },
  {
   "cell_type": "code",
   "execution_count": 77,
   "id": "59fe0ce6",
   "metadata": {},
   "outputs": [],
   "source": [
    "data = data.reset_index(drop=True)"
   ]
  },
  {
   "cell_type": "code",
   "execution_count": 78,
   "id": "475c13d5",
   "metadata": {},
   "outputs": [
    {
     "data": {
      "text/html": [
       "<div>\n",
       "<style scoped>\n",
       "    .dataframe tbody tr th:only-of-type {\n",
       "        vertical-align: middle;\n",
       "    }\n",
       "\n",
       "    .dataframe tbody tr th {\n",
       "        vertical-align: top;\n",
       "    }\n",
       "\n",
       "    .dataframe thead th {\n",
       "        text-align: right;\n",
       "    }\n",
       "</style>\n",
       "<table border=\"1\" class=\"dataframe\">\n",
       "  <thead>\n",
       "    <tr style=\"text-align: right;\">\n",
       "      <th></th>\n",
       "      <th>시군구</th>\n",
       "      <th>단지명</th>\n",
       "      <th>전용면적(㎡)</th>\n",
       "      <th>계약년월</th>\n",
       "      <th>거래금액(만원)</th>\n",
       "      <th>층</th>\n",
       "      <th>건축년도</th>\n",
       "      <th>도로명</th>\n",
       "      <th>시</th>\n",
       "      <th>구</th>\n",
       "      <th>동</th>\n",
       "    </tr>\n",
       "  </thead>\n",
       "  <tbody>\n",
       "    <tr>\n",
       "      <th>0</th>\n",
       "      <td>서울특별시 강남구 개포동</td>\n",
       "      <td>개포6차우성아파트1동~8동</td>\n",
       "      <td>67.28</td>\n",
       "      <td>200601</td>\n",
       "      <td>54500</td>\n",
       "      <td>3</td>\n",
       "      <td>1987</td>\n",
       "      <td>언주로 3</td>\n",
       "      <td>0</td>\n",
       "      <td>1</td>\n",
       "      <td>2</td>\n",
       "    </tr>\n",
       "    <tr>\n",
       "      <th>1</th>\n",
       "      <td>서울특별시 강남구 개포동</td>\n",
       "      <td>개포6차우성아파트1동~8동</td>\n",
       "      <td>79.97</td>\n",
       "      <td>200601</td>\n",
       "      <td>67000</td>\n",
       "      <td>3</td>\n",
       "      <td>1987</td>\n",
       "      <td>언주로 3</td>\n",
       "      <td>0</td>\n",
       "      <td>1</td>\n",
       "      <td>2</td>\n",
       "    </tr>\n",
       "    <tr>\n",
       "      <th>2</th>\n",
       "      <td>서울특별시 강남구 개포동</td>\n",
       "      <td>개포6차우성아파트1동~8동</td>\n",
       "      <td>79.97</td>\n",
       "      <td>200601</td>\n",
       "      <td>67500</td>\n",
       "      <td>4</td>\n",
       "      <td>1987</td>\n",
       "      <td>언주로 3</td>\n",
       "      <td>0</td>\n",
       "      <td>1</td>\n",
       "      <td>2</td>\n",
       "    </tr>\n",
       "    <tr>\n",
       "      <th>3</th>\n",
       "      <td>서울특별시 강남구 개포동</td>\n",
       "      <td>개포우성3차</td>\n",
       "      <td>104.43</td>\n",
       "      <td>200601</td>\n",
       "      <td>73000</td>\n",
       "      <td>9</td>\n",
       "      <td>1984</td>\n",
       "      <td>개포로 307</td>\n",
       "      <td>0</td>\n",
       "      <td>1</td>\n",
       "      <td>2</td>\n",
       "    </tr>\n",
       "    <tr>\n",
       "      <th>4</th>\n",
       "      <td>서울특별시 강남구 개포동</td>\n",
       "      <td>개포우성3차</td>\n",
       "      <td>104.43</td>\n",
       "      <td>200601</td>\n",
       "      <td>71250</td>\n",
       "      <td>6</td>\n",
       "      <td>1984</td>\n",
       "      <td>개포로 307</td>\n",
       "      <td>0</td>\n",
       "      <td>1</td>\n",
       "      <td>2</td>\n",
       "    </tr>\n",
       "  </tbody>\n",
       "</table>\n",
       "</div>"
      ],
      "text/plain": [
       "             시군구             단지명  전용면적(㎡)    계약년월  거래금액(만원)  층  건축년도      도로명  \\\n",
       "0  서울특별시 강남구 개포동  개포6차우성아파트1동~8동    67.28  200601     54500  3  1987    언주로 3   \n",
       "1  서울특별시 강남구 개포동  개포6차우성아파트1동~8동    79.97  200601     67000  3  1987    언주로 3   \n",
       "2  서울특별시 강남구 개포동  개포6차우성아파트1동~8동    79.97  200601     67500  4  1987    언주로 3   \n",
       "3  서울특별시 강남구 개포동          개포우성3차   104.43  200601     73000  9  1984  개포로 307   \n",
       "4  서울특별시 강남구 개포동          개포우성3차   104.43  200601     71250  6  1984  개포로 307   \n",
       "\n",
       "   시  구  동  \n",
       "0  0  1  2  \n",
       "1  0  1  2  \n",
       "2  0  1  2  \n",
       "3  0  1  2  \n",
       "4  0  1  2  "
      ]
     },
     "execution_count": 78,
     "metadata": {},
     "output_type": "execute_result"
    }
   ],
   "source": [
    "data.head()"
   ]
  },
  {
   "cell_type": "code",
   "execution_count": 27,
   "id": "ea0c7518",
   "metadata": {},
   "outputs": [
    {
     "data": {
      "text/plain": [
       "시군구         0\n",
       "단지명         0\n",
       "전용면적(㎡)     0\n",
       "계약년월        0\n",
       "거래금액(만원)    0\n",
       "층           0\n",
       "건축년도        0\n",
       "도로명         0\n",
       "dtype: int64"
      ]
     },
     "execution_count": 27,
     "metadata": {},
     "output_type": "execute_result"
    }
   ],
   "source": [
    "data.isna().sum()"
   ]
  },
  {
   "cell_type": "code",
   "execution_count": 80,
   "id": "7401c79c",
   "metadata": {
    "scrolled": true
   },
   "outputs": [],
   "source": [
    "sigungu = data['시군구']"
   ]
  },
  {
   "cell_type": "code",
   "execution_count": 81,
   "id": "afd75471",
   "metadata": {},
   "outputs": [],
   "source": [
    "data2 = data['시군구'].str.split(expand=True, n=2)"
   ]
  },
  {
   "cell_type": "code",
   "execution_count": 82,
   "id": "ad53a815",
   "metadata": {},
   "outputs": [
    {
     "data": {
      "text/html": [
       "<div>\n",
       "<style scoped>\n",
       "    .dataframe tbody tr th:only-of-type {\n",
       "        vertical-align: middle;\n",
       "    }\n",
       "\n",
       "    .dataframe tbody tr th {\n",
       "        vertical-align: top;\n",
       "    }\n",
       "\n",
       "    .dataframe thead th {\n",
       "        text-align: right;\n",
       "    }\n",
       "</style>\n",
       "<table border=\"1\" class=\"dataframe\">\n",
       "  <thead>\n",
       "    <tr style=\"text-align: right;\">\n",
       "      <th></th>\n",
       "      <th>0</th>\n",
       "      <th>1</th>\n",
       "      <th>2</th>\n",
       "    </tr>\n",
       "  </thead>\n",
       "  <tbody>\n",
       "    <tr>\n",
       "      <th>0</th>\n",
       "      <td>서울특별시</td>\n",
       "      <td>강남구</td>\n",
       "      <td>개포동</td>\n",
       "    </tr>\n",
       "    <tr>\n",
       "      <th>1</th>\n",
       "      <td>서울특별시</td>\n",
       "      <td>강남구</td>\n",
       "      <td>개포동</td>\n",
       "    </tr>\n",
       "    <tr>\n",
       "      <th>2</th>\n",
       "      <td>서울특별시</td>\n",
       "      <td>강남구</td>\n",
       "      <td>개포동</td>\n",
       "    </tr>\n",
       "    <tr>\n",
       "      <th>3</th>\n",
       "      <td>서울특별시</td>\n",
       "      <td>강남구</td>\n",
       "      <td>개포동</td>\n",
       "    </tr>\n",
       "    <tr>\n",
       "      <th>4</th>\n",
       "      <td>서울특별시</td>\n",
       "      <td>강남구</td>\n",
       "      <td>개포동</td>\n",
       "    </tr>\n",
       "    <tr>\n",
       "      <th>...</th>\n",
       "      <td>...</td>\n",
       "      <td>...</td>\n",
       "      <td>...</td>\n",
       "    </tr>\n",
       "    <tr>\n",
       "      <th>1215014</th>\n",
       "      <td>서울특별시</td>\n",
       "      <td>중랑구</td>\n",
       "      <td>신내동</td>\n",
       "    </tr>\n",
       "    <tr>\n",
       "      <th>1215015</th>\n",
       "      <td>서울특별시</td>\n",
       "      <td>중랑구</td>\n",
       "      <td>신내동</td>\n",
       "    </tr>\n",
       "    <tr>\n",
       "      <th>1215016</th>\n",
       "      <td>서울특별시</td>\n",
       "      <td>중랑구</td>\n",
       "      <td>신내동</td>\n",
       "    </tr>\n",
       "    <tr>\n",
       "      <th>1215017</th>\n",
       "      <td>서울특별시</td>\n",
       "      <td>중랑구</td>\n",
       "      <td>중화동</td>\n",
       "    </tr>\n",
       "    <tr>\n",
       "      <th>1215018</th>\n",
       "      <td>서울특별시</td>\n",
       "      <td>중랑구</td>\n",
       "      <td>중화동</td>\n",
       "    </tr>\n",
       "  </tbody>\n",
       "</table>\n",
       "<p>1215019 rows × 3 columns</p>\n",
       "</div>"
      ],
      "text/plain": [
       "             0    1    2\n",
       "0        서울특별시  강남구  개포동\n",
       "1        서울특별시  강남구  개포동\n",
       "2        서울특별시  강남구  개포동\n",
       "3        서울특별시  강남구  개포동\n",
       "4        서울특별시  강남구  개포동\n",
       "...        ...  ...  ...\n",
       "1215014  서울특별시  중랑구  신내동\n",
       "1215015  서울특별시  중랑구  신내동\n",
       "1215016  서울특별시  중랑구  신내동\n",
       "1215017  서울특별시  중랑구  중화동\n",
       "1215018  서울특별시  중랑구  중화동\n",
       "\n",
       "[1215019 rows x 3 columns]"
      ]
     },
     "execution_count": 82,
     "metadata": {},
     "output_type": "execute_result"
    }
   ],
   "source": [
    "data2"
   ]
  },
  {
   "cell_type": "code",
   "execution_count": 83,
   "id": "38ba45cd",
   "metadata": {},
   "outputs": [],
   "source": [
    "data2.columns=['시','구','동']"
   ]
  },
  {
   "cell_type": "code",
   "execution_count": 84,
   "id": "22b86ffb",
   "metadata": {},
   "outputs": [],
   "source": [
    "data = pd.concat([data2, data], axis=1)"
   ]
  },
  {
   "cell_type": "code",
   "execution_count": 85,
   "id": "9f18c285",
   "metadata": {},
   "outputs": [],
   "source": [
    "data = data.drop('시군구', axis=1)"
   ]
  },
  {
   "cell_type": "code",
   "execution_count": 86,
   "id": "035d47f3",
   "metadata": {
    "scrolled": true
   },
   "outputs": [
    {
     "data": {
      "text/html": [
       "<div>\n",
       "<style scoped>\n",
       "    .dataframe tbody tr th:only-of-type {\n",
       "        vertical-align: middle;\n",
       "    }\n",
       "\n",
       "    .dataframe tbody tr th {\n",
       "        vertical-align: top;\n",
       "    }\n",
       "\n",
       "    .dataframe thead th {\n",
       "        text-align: right;\n",
       "    }\n",
       "</style>\n",
       "<table border=\"1\" class=\"dataframe\">\n",
       "  <thead>\n",
       "    <tr style=\"text-align: right;\">\n",
       "      <th></th>\n",
       "      <th>시</th>\n",
       "      <th>구</th>\n",
       "      <th>동</th>\n",
       "      <th>단지명</th>\n",
       "      <th>전용면적(㎡)</th>\n",
       "      <th>계약년월</th>\n",
       "      <th>거래금액(만원)</th>\n",
       "      <th>층</th>\n",
       "      <th>건축년도</th>\n",
       "      <th>도로명</th>\n",
       "      <th>시</th>\n",
       "      <th>구</th>\n",
       "      <th>동</th>\n",
       "    </tr>\n",
       "  </thead>\n",
       "  <tbody>\n",
       "    <tr>\n",
       "      <th>0</th>\n",
       "      <td>서울특별시</td>\n",
       "      <td>강남구</td>\n",
       "      <td>개포동</td>\n",
       "      <td>개포6차우성아파트1동~8동</td>\n",
       "      <td>67.28</td>\n",
       "      <td>200601</td>\n",
       "      <td>54500</td>\n",
       "      <td>3</td>\n",
       "      <td>1987</td>\n",
       "      <td>언주로 3</td>\n",
       "      <td>0</td>\n",
       "      <td>1</td>\n",
       "      <td>2</td>\n",
       "    </tr>\n",
       "    <tr>\n",
       "      <th>1</th>\n",
       "      <td>서울특별시</td>\n",
       "      <td>강남구</td>\n",
       "      <td>개포동</td>\n",
       "      <td>개포6차우성아파트1동~8동</td>\n",
       "      <td>79.97</td>\n",
       "      <td>200601</td>\n",
       "      <td>67000</td>\n",
       "      <td>3</td>\n",
       "      <td>1987</td>\n",
       "      <td>언주로 3</td>\n",
       "      <td>0</td>\n",
       "      <td>1</td>\n",
       "      <td>2</td>\n",
       "    </tr>\n",
       "    <tr>\n",
       "      <th>2</th>\n",
       "      <td>서울특별시</td>\n",
       "      <td>강남구</td>\n",
       "      <td>개포동</td>\n",
       "      <td>개포6차우성아파트1동~8동</td>\n",
       "      <td>79.97</td>\n",
       "      <td>200601</td>\n",
       "      <td>67500</td>\n",
       "      <td>4</td>\n",
       "      <td>1987</td>\n",
       "      <td>언주로 3</td>\n",
       "      <td>0</td>\n",
       "      <td>1</td>\n",
       "      <td>2</td>\n",
       "    </tr>\n",
       "    <tr>\n",
       "      <th>3</th>\n",
       "      <td>서울특별시</td>\n",
       "      <td>강남구</td>\n",
       "      <td>개포동</td>\n",
       "      <td>개포우성3차</td>\n",
       "      <td>104.43</td>\n",
       "      <td>200601</td>\n",
       "      <td>73000</td>\n",
       "      <td>9</td>\n",
       "      <td>1984</td>\n",
       "      <td>개포로 307</td>\n",
       "      <td>0</td>\n",
       "      <td>1</td>\n",
       "      <td>2</td>\n",
       "    </tr>\n",
       "    <tr>\n",
       "      <th>4</th>\n",
       "      <td>서울특별시</td>\n",
       "      <td>강남구</td>\n",
       "      <td>개포동</td>\n",
       "      <td>개포우성3차</td>\n",
       "      <td>104.43</td>\n",
       "      <td>200601</td>\n",
       "      <td>71250</td>\n",
       "      <td>6</td>\n",
       "      <td>1984</td>\n",
       "      <td>개포로 307</td>\n",
       "      <td>0</td>\n",
       "      <td>1</td>\n",
       "      <td>2</td>\n",
       "    </tr>\n",
       "    <tr>\n",
       "      <th>...</th>\n",
       "      <td>...</td>\n",
       "      <td>...</td>\n",
       "      <td>...</td>\n",
       "      <td>...</td>\n",
       "      <td>...</td>\n",
       "      <td>...</td>\n",
       "      <td>...</td>\n",
       "      <td>...</td>\n",
       "      <td>...</td>\n",
       "      <td>...</td>\n",
       "      <td>...</td>\n",
       "      <td>...</td>\n",
       "      <td>...</td>\n",
       "    </tr>\n",
       "    <tr>\n",
       "      <th>1215014</th>\n",
       "      <td>서울특별시</td>\n",
       "      <td>중랑구</td>\n",
       "      <td>신내동</td>\n",
       "      <td>화성.두산아파트</td>\n",
       "      <td>84.99</td>\n",
       "      <td>202308</td>\n",
       "      <td>73800</td>\n",
       "      <td>11</td>\n",
       "      <td>1995.0</td>\n",
       "      <td>신내로 155</td>\n",
       "      <td>0</td>\n",
       "      <td>1</td>\n",
       "      <td>2</td>\n",
       "    </tr>\n",
       "    <tr>\n",
       "      <th>1215015</th>\n",
       "      <td>서울특별시</td>\n",
       "      <td>중랑구</td>\n",
       "      <td>신내동</td>\n",
       "      <td>화성.두산아파트</td>\n",
       "      <td>84.99</td>\n",
       "      <td>202308</td>\n",
       "      <td>70000</td>\n",
       "      <td>12</td>\n",
       "      <td>1995.0</td>\n",
       "      <td>신내로 155</td>\n",
       "      <td>0</td>\n",
       "      <td>1</td>\n",
       "      <td>2</td>\n",
       "    </tr>\n",
       "    <tr>\n",
       "      <th>1215016</th>\n",
       "      <td>서울특별시</td>\n",
       "      <td>중랑구</td>\n",
       "      <td>신내동</td>\n",
       "      <td>화성.두산아파트</td>\n",
       "      <td>66.96</td>\n",
       "      <td>202308</td>\n",
       "      <td>59000</td>\n",
       "      <td>8</td>\n",
       "      <td>1995.0</td>\n",
       "      <td>신내로 155</td>\n",
       "      <td>0</td>\n",
       "      <td>1</td>\n",
       "      <td>2</td>\n",
       "    </tr>\n",
       "    <tr>\n",
       "      <th>1215017</th>\n",
       "      <td>서울특별시</td>\n",
       "      <td>중랑구</td>\n",
       "      <td>중화동</td>\n",
       "      <td>한신아파트(103~109)</td>\n",
       "      <td>50.37</td>\n",
       "      <td>202308</td>\n",
       "      <td>54200</td>\n",
       "      <td>9</td>\n",
       "      <td>1997.0</td>\n",
       "      <td>동일로 752</td>\n",
       "      <td>0</td>\n",
       "      <td>1</td>\n",
       "      <td>2</td>\n",
       "    </tr>\n",
       "    <tr>\n",
       "      <th>1215018</th>\n",
       "      <td>서울특별시</td>\n",
       "      <td>중랑구</td>\n",
       "      <td>중화동</td>\n",
       "      <td>한신아파트(103~109)</td>\n",
       "      <td>59.76</td>\n",
       "      <td>202308</td>\n",
       "      <td>58000</td>\n",
       "      <td>2</td>\n",
       "      <td>1997.0</td>\n",
       "      <td>동일로 752</td>\n",
       "      <td>0</td>\n",
       "      <td>1</td>\n",
       "      <td>2</td>\n",
       "    </tr>\n",
       "  </tbody>\n",
       "</table>\n",
       "<p>1215019 rows × 13 columns</p>\n",
       "</div>"
      ],
      "text/plain": [
       "             시    구    동             단지명  전용면적(㎡)    계약년월  거래금액(만원)   층  \\\n",
       "0        서울특별시  강남구  개포동  개포6차우성아파트1동~8동    67.28  200601     54500   3   \n",
       "1        서울특별시  강남구  개포동  개포6차우성아파트1동~8동    79.97  200601     67000   3   \n",
       "2        서울특별시  강남구  개포동  개포6차우성아파트1동~8동    79.97  200601     67500   4   \n",
       "3        서울특별시  강남구  개포동          개포우성3차   104.43  200601     73000   9   \n",
       "4        서울특별시  강남구  개포동          개포우성3차   104.43  200601     71250   6   \n",
       "...        ...  ...  ...             ...      ...     ...       ...  ..   \n",
       "1215014  서울특별시  중랑구  신내동        화성.두산아파트    84.99  202308     73800  11   \n",
       "1215015  서울특별시  중랑구  신내동        화성.두산아파트    84.99  202308     70000  12   \n",
       "1215016  서울특별시  중랑구  신내동        화성.두산아파트    66.96  202308     59000   8   \n",
       "1215017  서울특별시  중랑구  중화동  한신아파트(103~109)    50.37  202308     54200   9   \n",
       "1215018  서울특별시  중랑구  중화동  한신아파트(103~109)    59.76  202308     58000   2   \n",
       "\n",
       "           건축년도      도로명  시  구  동  \n",
       "0          1987    언주로 3  0  1  2  \n",
       "1          1987    언주로 3  0  1  2  \n",
       "2          1987    언주로 3  0  1  2  \n",
       "3          1984  개포로 307  0  1  2  \n",
       "4          1984  개포로 307  0  1  2  \n",
       "...         ...      ... .. .. ..  \n",
       "1215014  1995.0  신내로 155  0  1  2  \n",
       "1215015  1995.0  신내로 155  0  1  2  \n",
       "1215016  1995.0  신내로 155  0  1  2  \n",
       "1215017  1997.0  동일로 752  0  1  2  \n",
       "1215018  1997.0  동일로 752  0  1  2  \n",
       "\n",
       "[1215019 rows x 13 columns]"
      ]
     },
     "execution_count": 86,
     "metadata": {},
     "output_type": "execute_result"
    }
   ],
   "source": [
    "data"
   ]
  },
  {
   "cell_type": "markdown",
   "id": "5af88673",
   "metadata": {},
   "source": [
    "* iloc 로 인덱싱을 사용해서 잘라보자.<br>\n",
    " iloc<br>\n",
    "인덱싱/슬라이싱을 사용해서 원하는 행과 컬럼만 가져오기 <br>\n",
    "데이터프레임.iloc[행시작번호:행끝번호, 열시작번호:열끝번호]<br>\n",
    "\n",
    "data2.iloc[4:10, 3:7]"
   ]
  },
  {
   "cell_type": "code",
   "execution_count": 87,
   "id": "394ba691",
   "metadata": {},
   "outputs": [],
   "source": [
    "data = data.iloc[:,:-3]"
   ]
  },
  {
   "cell_type": "code",
   "execution_count": 88,
   "id": "20924d84",
   "metadata": {
    "scrolled": true
   },
   "outputs": [
    {
     "data": {
      "text/html": [
       "<div>\n",
       "<style scoped>\n",
       "    .dataframe tbody tr th:only-of-type {\n",
       "        vertical-align: middle;\n",
       "    }\n",
       "\n",
       "    .dataframe tbody tr th {\n",
       "        vertical-align: top;\n",
       "    }\n",
       "\n",
       "    .dataframe thead th {\n",
       "        text-align: right;\n",
       "    }\n",
       "</style>\n",
       "<table border=\"1\" class=\"dataframe\">\n",
       "  <thead>\n",
       "    <tr style=\"text-align: right;\">\n",
       "      <th></th>\n",
       "      <th>시</th>\n",
       "      <th>구</th>\n",
       "      <th>동</th>\n",
       "      <th>단지명</th>\n",
       "      <th>전용면적(㎡)</th>\n",
       "      <th>계약년월</th>\n",
       "      <th>거래금액(만원)</th>\n",
       "      <th>층</th>\n",
       "      <th>건축년도</th>\n",
       "      <th>도로명</th>\n",
       "    </tr>\n",
       "  </thead>\n",
       "  <tbody>\n",
       "    <tr>\n",
       "      <th>0</th>\n",
       "      <td>서울특별시</td>\n",
       "      <td>강남구</td>\n",
       "      <td>개포동</td>\n",
       "      <td>개포6차우성아파트1동~8동</td>\n",
       "      <td>67.28</td>\n",
       "      <td>200601</td>\n",
       "      <td>54500</td>\n",
       "      <td>3</td>\n",
       "      <td>1987</td>\n",
       "      <td>언주로 3</td>\n",
       "    </tr>\n",
       "    <tr>\n",
       "      <th>1</th>\n",
       "      <td>서울특별시</td>\n",
       "      <td>강남구</td>\n",
       "      <td>개포동</td>\n",
       "      <td>개포6차우성아파트1동~8동</td>\n",
       "      <td>79.97</td>\n",
       "      <td>200601</td>\n",
       "      <td>67000</td>\n",
       "      <td>3</td>\n",
       "      <td>1987</td>\n",
       "      <td>언주로 3</td>\n",
       "    </tr>\n",
       "    <tr>\n",
       "      <th>2</th>\n",
       "      <td>서울특별시</td>\n",
       "      <td>강남구</td>\n",
       "      <td>개포동</td>\n",
       "      <td>개포6차우성아파트1동~8동</td>\n",
       "      <td>79.97</td>\n",
       "      <td>200601</td>\n",
       "      <td>67500</td>\n",
       "      <td>4</td>\n",
       "      <td>1987</td>\n",
       "      <td>언주로 3</td>\n",
       "    </tr>\n",
       "    <tr>\n",
       "      <th>3</th>\n",
       "      <td>서울특별시</td>\n",
       "      <td>강남구</td>\n",
       "      <td>개포동</td>\n",
       "      <td>개포우성3차</td>\n",
       "      <td>104.43</td>\n",
       "      <td>200601</td>\n",
       "      <td>73000</td>\n",
       "      <td>9</td>\n",
       "      <td>1984</td>\n",
       "      <td>개포로 307</td>\n",
       "    </tr>\n",
       "    <tr>\n",
       "      <th>4</th>\n",
       "      <td>서울특별시</td>\n",
       "      <td>강남구</td>\n",
       "      <td>개포동</td>\n",
       "      <td>개포우성3차</td>\n",
       "      <td>104.43</td>\n",
       "      <td>200601</td>\n",
       "      <td>71250</td>\n",
       "      <td>6</td>\n",
       "      <td>1984</td>\n",
       "      <td>개포로 307</td>\n",
       "    </tr>\n",
       "    <tr>\n",
       "      <th>...</th>\n",
       "      <td>...</td>\n",
       "      <td>...</td>\n",
       "      <td>...</td>\n",
       "      <td>...</td>\n",
       "      <td>...</td>\n",
       "      <td>...</td>\n",
       "      <td>...</td>\n",
       "      <td>...</td>\n",
       "      <td>...</td>\n",
       "      <td>...</td>\n",
       "    </tr>\n",
       "    <tr>\n",
       "      <th>1215014</th>\n",
       "      <td>서울특별시</td>\n",
       "      <td>중랑구</td>\n",
       "      <td>신내동</td>\n",
       "      <td>화성.두산아파트</td>\n",
       "      <td>84.99</td>\n",
       "      <td>202308</td>\n",
       "      <td>73800</td>\n",
       "      <td>11</td>\n",
       "      <td>1995.0</td>\n",
       "      <td>신내로 155</td>\n",
       "    </tr>\n",
       "    <tr>\n",
       "      <th>1215015</th>\n",
       "      <td>서울특별시</td>\n",
       "      <td>중랑구</td>\n",
       "      <td>신내동</td>\n",
       "      <td>화성.두산아파트</td>\n",
       "      <td>84.99</td>\n",
       "      <td>202308</td>\n",
       "      <td>70000</td>\n",
       "      <td>12</td>\n",
       "      <td>1995.0</td>\n",
       "      <td>신내로 155</td>\n",
       "    </tr>\n",
       "    <tr>\n",
       "      <th>1215016</th>\n",
       "      <td>서울특별시</td>\n",
       "      <td>중랑구</td>\n",
       "      <td>신내동</td>\n",
       "      <td>화성.두산아파트</td>\n",
       "      <td>66.96</td>\n",
       "      <td>202308</td>\n",
       "      <td>59000</td>\n",
       "      <td>8</td>\n",
       "      <td>1995.0</td>\n",
       "      <td>신내로 155</td>\n",
       "    </tr>\n",
       "    <tr>\n",
       "      <th>1215017</th>\n",
       "      <td>서울특별시</td>\n",
       "      <td>중랑구</td>\n",
       "      <td>중화동</td>\n",
       "      <td>한신아파트(103~109)</td>\n",
       "      <td>50.37</td>\n",
       "      <td>202308</td>\n",
       "      <td>54200</td>\n",
       "      <td>9</td>\n",
       "      <td>1997.0</td>\n",
       "      <td>동일로 752</td>\n",
       "    </tr>\n",
       "    <tr>\n",
       "      <th>1215018</th>\n",
       "      <td>서울특별시</td>\n",
       "      <td>중랑구</td>\n",
       "      <td>중화동</td>\n",
       "      <td>한신아파트(103~109)</td>\n",
       "      <td>59.76</td>\n",
       "      <td>202308</td>\n",
       "      <td>58000</td>\n",
       "      <td>2</td>\n",
       "      <td>1997.0</td>\n",
       "      <td>동일로 752</td>\n",
       "    </tr>\n",
       "  </tbody>\n",
       "</table>\n",
       "<p>1215019 rows × 10 columns</p>\n",
       "</div>"
      ],
      "text/plain": [
       "             시    구    동             단지명  전용면적(㎡)    계약년월  거래금액(만원)   층  \\\n",
       "0        서울특별시  강남구  개포동  개포6차우성아파트1동~8동    67.28  200601     54500   3   \n",
       "1        서울특별시  강남구  개포동  개포6차우성아파트1동~8동    79.97  200601     67000   3   \n",
       "2        서울특별시  강남구  개포동  개포6차우성아파트1동~8동    79.97  200601     67500   4   \n",
       "3        서울특별시  강남구  개포동          개포우성3차   104.43  200601     73000   9   \n",
       "4        서울특별시  강남구  개포동          개포우성3차   104.43  200601     71250   6   \n",
       "...        ...  ...  ...             ...      ...     ...       ...  ..   \n",
       "1215014  서울특별시  중랑구  신내동        화성.두산아파트    84.99  202308     73800  11   \n",
       "1215015  서울특별시  중랑구  신내동        화성.두산아파트    84.99  202308     70000  12   \n",
       "1215016  서울특별시  중랑구  신내동        화성.두산아파트    66.96  202308     59000   8   \n",
       "1215017  서울특별시  중랑구  중화동  한신아파트(103~109)    50.37  202308     54200   9   \n",
       "1215018  서울특별시  중랑구  중화동  한신아파트(103~109)    59.76  202308     58000   2   \n",
       "\n",
       "           건축년도      도로명  \n",
       "0          1987    언주로 3  \n",
       "1          1987    언주로 3  \n",
       "2          1987    언주로 3  \n",
       "3          1984  개포로 307  \n",
       "4          1984  개포로 307  \n",
       "...         ...      ...  \n",
       "1215014  1995.0  신내로 155  \n",
       "1215015  1995.0  신내로 155  \n",
       "1215016  1995.0  신내로 155  \n",
       "1215017  1997.0  동일로 752  \n",
       "1215018  1997.0  동일로 752  \n",
       "\n",
       "[1215019 rows x 10 columns]"
      ]
     },
     "execution_count": 88,
     "metadata": {},
     "output_type": "execute_result"
    }
   ],
   "source": [
    "data"
   ]
  },
  {
   "cell_type": "code",
   "execution_count": 95,
   "id": "aeb275c0",
   "metadata": {},
   "outputs": [
    {
     "data": {
      "text/plain": [
       "0          서울특별시 강남구 개포동\n",
       "1          서울특별시 강남구 개포동\n",
       "2          서울특별시 강남구 개포동\n",
       "3          서울특별시 강남구 개포동\n",
       "4          서울특별시 강남구 개포동\n",
       "               ...      \n",
       "1215014    서울특별시 중랑구 신내동\n",
       "1215015    서울특별시 중랑구 신내동\n",
       "1215016    서울특별시 중랑구 신내동\n",
       "1215017    서울특별시 중랑구 중화동\n",
       "1215018    서울특별시 중랑구 중화동\n",
       "Name: 시군구, Length: 1215019, dtype: object"
      ]
     },
     "execution_count": 95,
     "metadata": {},
     "output_type": "execute_result"
    }
   ],
   "source": [
    "sigungu"
   ]
  }
 ],
 "metadata": {
  "kernelspec": {
   "display_name": "testenv",
   "language": "python",
   "name": "testenv"
  },
  "language_info": {
   "codemirror_mode": {
    "name": "ipython",
    "version": 3
   },
   "file_extension": ".py",
   "mimetype": "text/x-python",
   "name": "python",
   "nbconvert_exporter": "python",
   "pygments_lexer": "ipython3",
   "version": "3.8.17"
  }
 },
 "nbformat": 4,
 "nbformat_minor": 5
}
