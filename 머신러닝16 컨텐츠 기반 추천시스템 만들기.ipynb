{
 "cells": [
  {
   "cell_type": "markdown",
   "id": "d010f36a",
   "metadata": {},
   "source": [
    "# 컨텐츠 기반 추천시스템 만들기- TMDB 5000 Movie Dataset \n",
    "*TMDB5000Movie 데이터셋을 가지고 영화 추천 시스템을 만들자!\n",
    "* 함께 비교하면 좋을 상품 : 코사인 유사도를 통해서 구현할 수 있어!"
   ]
  },
  {
   "cell_type": "code",
   "execution_count": 13,
   "id": "d1f5b627",
   "metadata": {},
   "outputs": [],
   "source": [
    "import pandas as pd\n",
    "import numpy as np\n",
    "import matplotlib.pyplot as plt\n",
    "import seaborn as sns\n",
    "import koreanize_matplotlib\n",
    "import json"
   ]
  },
  {
   "cell_type": "code",
   "execution_count": 80,
   "id": "c3cd1cbf",
   "metadata": {},
   "outputs": [],
   "source": [
    "data = pd.read_csv('https://raw.githubusercontent.com/haram4th/ablearn/main/tmdb_5000_movies.csv')"
   ]
  },
  {
   "cell_type": "code",
   "execution_count": 81,
   "id": "7861aaeb",
   "metadata": {},
   "outputs": [
    {
     "data": {
      "text/html": [
       "<div>\n",
       "<style scoped>\n",
       "    .dataframe tbody tr th:only-of-type {\n",
       "        vertical-align: middle;\n",
       "    }\n",
       "\n",
       "    .dataframe tbody tr th {\n",
       "        vertical-align: top;\n",
       "    }\n",
       "\n",
       "    .dataframe thead th {\n",
       "        text-align: right;\n",
       "    }\n",
       "</style>\n",
       "<table border=\"1\" class=\"dataframe\">\n",
       "  <thead>\n",
       "    <tr style=\"text-align: right;\">\n",
       "      <th></th>\n",
       "      <th>budget</th>\n",
       "      <th>genres</th>\n",
       "      <th>homepage</th>\n",
       "      <th>id</th>\n",
       "      <th>keywords</th>\n",
       "      <th>original_language</th>\n",
       "      <th>original_title</th>\n",
       "      <th>overview</th>\n",
       "      <th>popularity</th>\n",
       "      <th>production_companies</th>\n",
       "      <th>production_countries</th>\n",
       "      <th>release_date</th>\n",
       "      <th>revenue</th>\n",
       "      <th>runtime</th>\n",
       "      <th>spoken_languages</th>\n",
       "      <th>status</th>\n",
       "      <th>tagline</th>\n",
       "      <th>title</th>\n",
       "      <th>vote_average</th>\n",
       "      <th>vote_count</th>\n",
       "    </tr>\n",
       "  </thead>\n",
       "  <tbody>\n",
       "    <tr>\n",
       "      <th>0</th>\n",
       "      <td>237000000</td>\n",
       "      <td>[{\"id\": 28, \"name\": \"Action\"}, {\"id\": 12, \"nam...</td>\n",
       "      <td>http://www.avatarmovie.com/</td>\n",
       "      <td>19995</td>\n",
       "      <td>[{\"id\": 1463, \"name\": \"culture clash\"}, {\"id\":...</td>\n",
       "      <td>en</td>\n",
       "      <td>Avatar</td>\n",
       "      <td>In the 22nd century, a paraplegic Marine is di...</td>\n",
       "      <td>150.437577</td>\n",
       "      <td>[{\"name\": \"Ingenious Film Partners\", \"id\": 289...</td>\n",
       "      <td>[{\"iso_3166_1\": \"US\", \"name\": \"United States o...</td>\n",
       "      <td>2009-12-10</td>\n",
       "      <td>2787965087</td>\n",
       "      <td>162.0</td>\n",
       "      <td>[{\"iso_639_1\": \"en\", \"name\": \"English\"}, {\"iso...</td>\n",
       "      <td>Released</td>\n",
       "      <td>Enter the World of Pandora.</td>\n",
       "      <td>Avatar</td>\n",
       "      <td>7.2</td>\n",
       "      <td>11800</td>\n",
       "    </tr>\n",
       "    <tr>\n",
       "      <th>1</th>\n",
       "      <td>300000000</td>\n",
       "      <td>[{\"id\": 12, \"name\": \"Adventure\"}, {\"id\": 14, \"...</td>\n",
       "      <td>http://disney.go.com/disneypictures/pirates/</td>\n",
       "      <td>285</td>\n",
       "      <td>[{\"id\": 270, \"name\": \"ocean\"}, {\"id\": 726, \"na...</td>\n",
       "      <td>en</td>\n",
       "      <td>Pirates of the Caribbean: At World's End</td>\n",
       "      <td>Captain Barbossa, long believed to be dead, ha...</td>\n",
       "      <td>139.082615</td>\n",
       "      <td>[{\"name\": \"Walt Disney Pictures\", \"id\": 2}, {\"...</td>\n",
       "      <td>[{\"iso_3166_1\": \"US\", \"name\": \"United States o...</td>\n",
       "      <td>2007-05-19</td>\n",
       "      <td>961000000</td>\n",
       "      <td>169.0</td>\n",
       "      <td>[{\"iso_639_1\": \"en\", \"name\": \"English\"}]</td>\n",
       "      <td>Released</td>\n",
       "      <td>At the end of the world, the adventure begins.</td>\n",
       "      <td>Pirates of the Caribbean: At World's End</td>\n",
       "      <td>6.9</td>\n",
       "      <td>4500</td>\n",
       "    </tr>\n",
       "  </tbody>\n",
       "</table>\n",
       "</div>"
      ],
      "text/plain": [
       "      budget                                             genres  \\\n",
       "0  237000000  [{\"id\": 28, \"name\": \"Action\"}, {\"id\": 12, \"nam...   \n",
       "1  300000000  [{\"id\": 12, \"name\": \"Adventure\"}, {\"id\": 14, \"...   \n",
       "\n",
       "                                       homepage     id  \\\n",
       "0                   http://www.avatarmovie.com/  19995   \n",
       "1  http://disney.go.com/disneypictures/pirates/    285   \n",
       "\n",
       "                                            keywords original_language  \\\n",
       "0  [{\"id\": 1463, \"name\": \"culture clash\"}, {\"id\":...                en   \n",
       "1  [{\"id\": 270, \"name\": \"ocean\"}, {\"id\": 726, \"na...                en   \n",
       "\n",
       "                             original_title  \\\n",
       "0                                    Avatar   \n",
       "1  Pirates of the Caribbean: At World's End   \n",
       "\n",
       "                                            overview  popularity  \\\n",
       "0  In the 22nd century, a paraplegic Marine is di...  150.437577   \n",
       "1  Captain Barbossa, long believed to be dead, ha...  139.082615   \n",
       "\n",
       "                                production_companies  \\\n",
       "0  [{\"name\": \"Ingenious Film Partners\", \"id\": 289...   \n",
       "1  [{\"name\": \"Walt Disney Pictures\", \"id\": 2}, {\"...   \n",
       "\n",
       "                                production_countries release_date     revenue  \\\n",
       "0  [{\"iso_3166_1\": \"US\", \"name\": \"United States o...   2009-12-10  2787965087   \n",
       "1  [{\"iso_3166_1\": \"US\", \"name\": \"United States o...   2007-05-19   961000000   \n",
       "\n",
       "   runtime                                   spoken_languages    status  \\\n",
       "0    162.0  [{\"iso_639_1\": \"en\", \"name\": \"English\"}, {\"iso...  Released   \n",
       "1    169.0           [{\"iso_639_1\": \"en\", \"name\": \"English\"}]  Released   \n",
       "\n",
       "                                          tagline  \\\n",
       "0                     Enter the World of Pandora.   \n",
       "1  At the end of the world, the adventure begins.   \n",
       "\n",
       "                                      title  vote_average  vote_count  \n",
       "0                                    Avatar           7.2       11800  \n",
       "1  Pirates of the Caribbean: At World's End           6.9        4500  "
      ]
     },
     "execution_count": 81,
     "metadata": {},
     "output_type": "execute_result"
    }
   ],
   "source": [
    "data.head(2)"
   ]
  },
  {
   "cell_type": "code",
   "execution_count": 6,
   "id": "652f1308",
   "metadata": {},
   "outputs": [
    {
     "name": "stderr",
     "output_type": "stream",
     "text": [
      "C:\\Users\\hi\\anaconda3\\envs\\testenv\\lib\\site-packages\\tqdm\\auto.py:21: TqdmWarning: IProgress not found. Please update jupyter and ipywidgets. See https://ipywidgets.readthedocs.io/en/stable/user_install.html\n",
      "  from .autonotebook import tqdm as notebook_tqdm\n",
      "Summarize dataset: 100%|████████████████████████████████████████████████████| 79/79 [00:10<00:00,  7.54it/s, Completed]\n",
      "Generate report structure: 100%|█████████████████████████████████████████████████████████| 1/1 [00:14<00:00, 14.83s/it]\n",
      "Render HTML: 100%|███████████████████████████████████████████████████████████████████████| 1/1 [00:02<00:00,  2.95s/it]\n",
      "Export report to file: 100%|█████████████████████████████████████████████████████████████| 1/1 [00:00<00:00, 47.37it/s]\n"
     ]
    }
   ],
   "source": [
    "from ydata_profiling import ProfileReport\n",
    "profile = ProfileReport(data, title=\"Profile Report\")\n",
    "profile.to_file(\"movie_set.html\")"
   ]
  },
  {
   "cell_type": "code",
   "execution_count": 7,
   "id": "65488d02",
   "metadata": {
    "scrolled": true
   },
   "outputs": [
    {
     "data": {
      "text/plain": [
       "Index(['budget', 'genres', 'homepage', 'id', 'keywords', 'original_language',\n",
       "       'original_title', 'overview', 'popularity', 'production_companies',\n",
       "       'production_countries', 'release_date', 'revenue', 'runtime',\n",
       "       'spoken_languages', 'status', 'tagline', 'title', 'vote_average',\n",
       "       'vote_count'],\n",
       "      dtype='object')"
      ]
     },
     "execution_count": 7,
     "metadata": {},
     "output_type": "execute_result"
    }
   ],
   "source": [
    "data.columns"
   ]
  },
  {
   "cell_type": "code",
   "execution_count": 55,
   "id": "db04f40d",
   "metadata": {
    "scrolled": false
   },
   "outputs": [
    {
     "data": {
      "text/plain": [
       "budget                     0\n",
       "genres                     0\n",
       "homepage                3091\n",
       "id                         0\n",
       "keywords                   0\n",
       "original_language          0\n",
       "original_title             0\n",
       "overview                   3\n",
       "popularity                 0\n",
       "production_companies       0\n",
       "production_countries       0\n",
       "release_date               1\n",
       "revenue                    0\n",
       "runtime                    2\n",
       "spoken_languages           0\n",
       "status                     0\n",
       "tagline                  844\n",
       "title                      0\n",
       "vote_average               0\n",
       "vote_count                 0\n",
       "dtype: int64"
      ]
     },
     "execution_count": 55,
     "metadata": {},
     "output_type": "execute_result"
    }
   ],
   "source": [
    "data.isna().sum()"
   ]
  },
  {
   "cell_type": "code",
   "execution_count": 69,
   "id": "547e9eec",
   "metadata": {
    "scrolled": true
   },
   "outputs": [
    {
     "name": "stdout",
     "output_type": "stream",
     "text": [
      "<class 'pandas.core.frame.DataFrame'>\n",
      "RangeIndex: 4803 entries, 0 to 4802\n",
      "Data columns (total 20 columns):\n",
      " #   Column                Non-Null Count  Dtype  \n",
      "---  ------                --------------  -----  \n",
      " 0   budget                4803 non-null   int64  \n",
      " 1   genres                4803 non-null   object \n",
      " 2   homepage              1712 non-null   object \n",
      " 3   id                    4803 non-null   int64  \n",
      " 4   keywords              4803 non-null   object \n",
      " 5   original_language     4803 non-null   object \n",
      " 6   original_title        4803 non-null   object \n",
      " 7   overview              4800 non-null   object \n",
      " 8   popularity            4803 non-null   float64\n",
      " 9   production_companies  4803 non-null   object \n",
      " 10  production_countries  4803 non-null   object \n",
      " 11  release_date          4802 non-null   object \n",
      " 12  revenue               4803 non-null   int64  \n",
      " 13  runtime               4801 non-null   float64\n",
      " 14  spoken_languages      4803 non-null   object \n",
      " 15  status                4803 non-null   object \n",
      " 16  tagline               3959 non-null   object \n",
      " 17  title                 4803 non-null   object \n",
      " 18  vote_average          4803 non-null   float64\n",
      " 19  vote_count            4803 non-null   int64  \n",
      "dtypes: float64(3), int64(4), object(13)\n",
      "memory usage: 750.6+ KB\n"
     ]
    }
   ],
   "source": [
    "data.info()"
   ]
  },
  {
   "cell_type": "code",
   "execution_count": 66,
   "id": "7b6098ae",
   "metadata": {},
   "outputs": [],
   "source": [
    "data['overview'] = data['overview'].dropna()"
   ]
  },
  {
   "cell_type": "code",
   "execution_count": 68,
   "id": "e3da759b",
   "metadata": {},
   "outputs": [
    {
     "data": {
      "text/plain": [
       "budget                     0\n",
       "genres                     0\n",
       "homepage                3091\n",
       "id                         0\n",
       "keywords                   0\n",
       "original_language          0\n",
       "original_title             0\n",
       "overview                   3\n",
       "popularity                 0\n",
       "production_companies       0\n",
       "production_countries       0\n",
       "release_date               1\n",
       "revenue                    0\n",
       "runtime                    2\n",
       "spoken_languages           0\n",
       "status                     0\n",
       "tagline                  844\n",
       "title                      0\n",
       "vote_average               0\n",
       "vote_count                 0\n",
       "dtype: int64"
      ]
     },
     "execution_count": 68,
     "metadata": {},
     "output_type": "execute_result"
    }
   ],
   "source": [
    "data.isna().sum() # drop na 했으면 없어야하는 거 아냐??"
   ]
  },
  {
   "cell_type": "code",
   "execution_count": 83,
   "id": "e34208c3",
   "metadata": {},
   "outputs": [
    {
     "data": {
      "text/plain": [
       "str"
      ]
     },
     "execution_count": 83,
     "metadata": {},
     "output_type": "execute_result"
    }
   ],
   "source": [
    "type(data['genres'][0]) # 얘는 Json파일이겠구나"
   ]
  },
  {
   "cell_type": "code",
   "execution_count": 84,
   "id": "855f9dc9",
   "metadata": {},
   "outputs": [
    {
     "data": {
      "text/plain": [
       "'[{\"id\": 28, \"name\": \"Action\"}, {\"id\": 12, \"name\": \"Adventure\"}, {\"id\": 14, \"name\": \"Fantasy\"}, {\"id\": 878, \"name\": \"Science Fiction\"}]'"
      ]
     },
     "execution_count": 84,
     "metadata": {},
     "output_type": "execute_result"
    }
   ],
   "source": [
    "data['genres'][0]"
   ]
  },
  {
   "cell_type": "code",
   "execution_count": 87,
   "id": "ca343399",
   "metadata": {},
   "outputs": [
    {
     "data": {
      "text/plain": [
       "[{'id': 28, 'name': 'Action'},\n",
       " {'id': 12, 'name': 'Adventure'},\n",
       " {'id': 14, 'name': 'Fantasy'},\n",
       " {'id': 878, 'name': 'Science Fiction'}]"
      ]
     },
     "execution_count": 87,
     "metadata": {},
     "output_type": "execute_result"
    }
   ],
   "source": [
    "test = json.loads(data['genres'][0]) \n",
    "test"
   ]
  },
  {
   "cell_type": "markdown",
   "id": "47127c10",
   "metadata": {},
   "source": [
    "이렇게 해주면 data['genres'][0]는 JSON이 되는거야. 리스트 안에 있으니까 반복문에 넣어서 뽑아야겠네."
   ]
  },
  {
   "cell_type": "code",
   "execution_count": null,
   "id": "b8cde69e",
   "metadata": {},
   "outputs": [],
   "source": [
    "for i in test:\n",
    "    print(list(i.values())[1])"
   ]
  },
  {
   "cell_type": "markdown",
   "id": "d5d983c6",
   "metadata": {},
   "source": [
    "첫번째 방법"
   ]
  },
  {
   "cell_type": "code",
   "execution_count": 92,
   "id": "b07be366",
   "metadata": {},
   "outputs": [
    {
     "name": "stdout",
     "output_type": "stream",
     "text": [
      "Action\n",
      "Adventure\n",
      "Fantasy\n",
      "Science Fiction\n"
     ]
    }
   ],
   "source": [
    "for i in test:\n",
    "    print(i['name'])"
   ]
  },
  {
   "cell_type": "markdown",
   "id": "dae47a3c",
   "metadata": {},
   "source": [
    "이렇게 두 가지 방법이 있어."
   ]
  },
  {
   "cell_type": "code",
   "execution_count": 93,
   "id": "4ffa245f",
   "metadata": {},
   "outputs": [],
   "source": [
    "genre = []\n",
    "for i in test:\n",
    "    genre.append(i['name'])"
   ]
  },
  {
   "cell_type": "code",
   "execution_count": 94,
   "id": "f554545e",
   "metadata": {},
   "outputs": [
    {
     "data": {
      "text/plain": [
       "['Action', 'Adventure', 'Fantasy', 'Science Fiction']"
      ]
     },
     "execution_count": 94,
     "metadata": {},
     "output_type": "execute_result"
    }
   ],
   "source": [
    "genre # 리스트로 나오도록"
   ]
  },
  {
   "cell_type": "code",
   "execution_count": 95,
   "id": "5ff73a9f",
   "metadata": {},
   "outputs": [
    {
     "data": {
      "text/plain": [
       "'Action Adventure Fantasy Science Fiction'"
      ]
     },
     "execution_count": 95,
     "metadata": {},
     "output_type": "execute_result"
    }
   ],
   "source": [
    "genre = \" \".join(genre)\n",
    "genre"
   ]
  },
  {
   "cell_type": "code",
   "execution_count": 97,
   "id": "3e7ccaaf",
   "metadata": {},
   "outputs": [],
   "source": [
    "data['genres'] = data['genres'].apply(json.loads)"
   ]
  },
  {
   "cell_type": "code",
   "execution_count": 101,
   "id": "8309b8df",
   "metadata": {},
   "outputs": [],
   "source": [
    "data['genres'] = data['genres'].apply(lambda x : [i['name'] for i in x])"
   ]
  },
  {
   "cell_type": "code",
   "execution_count": 103,
   "id": "e04e3416",
   "metadata": {},
   "outputs": [],
   "source": [
    "data['genres'] = data['genres'].apply(lambda x : \" \".join(x))"
   ]
  },
  {
   "cell_type": "code",
   "execution_count": 104,
   "id": "616b2766",
   "metadata": {},
   "outputs": [
    {
     "data": {
      "text/plain": [
       "0       Action Adventure Fantasy Science Fiction\n",
       "1                       Adventure Fantasy Action\n",
       "2                         Action Adventure Crime\n",
       "3                    Action Crime Drama Thriller\n",
       "4               Action Adventure Science Fiction\n",
       "                          ...                   \n",
       "4798                       Action Crime Thriller\n",
       "4799                              Comedy Romance\n",
       "4800               Comedy Drama Romance TV Movie\n",
       "4801                                            \n",
       "4802                                 Documentary\n",
       "Name: genres, Length: 4803, dtype: object"
      ]
     },
     "execution_count": 104,
     "metadata": {},
     "output_type": "execute_result"
    }
   ],
   "source": [
    "data['genres']"
   ]
  },
  {
   "cell_type": "code",
   "execution_count": 106,
   "id": "186319f6",
   "metadata": {},
   "outputs": [
    {
     "data": {
      "text/html": [
       "<div>\n",
       "<style scoped>\n",
       "    .dataframe tbody tr th:only-of-type {\n",
       "        vertical-align: middle;\n",
       "    }\n",
       "\n",
       "    .dataframe tbody tr th {\n",
       "        vertical-align: top;\n",
       "    }\n",
       "\n",
       "    .dataframe thead th {\n",
       "        text-align: right;\n",
       "    }\n",
       "</style>\n",
       "<table border=\"1\" class=\"dataframe\">\n",
       "  <thead>\n",
       "    <tr style=\"text-align: right;\">\n",
       "      <th></th>\n",
       "      <th>budget</th>\n",
       "      <th>genres</th>\n",
       "      <th>homepage</th>\n",
       "      <th>id</th>\n",
       "      <th>keywords</th>\n",
       "      <th>original_language</th>\n",
       "      <th>original_title</th>\n",
       "      <th>overview</th>\n",
       "      <th>popularity</th>\n",
       "      <th>production_companies</th>\n",
       "      <th>production_countries</th>\n",
       "      <th>release_date</th>\n",
       "      <th>revenue</th>\n",
       "      <th>runtime</th>\n",
       "      <th>spoken_languages</th>\n",
       "      <th>status</th>\n",
       "      <th>tagline</th>\n",
       "      <th>title</th>\n",
       "      <th>vote_average</th>\n",
       "      <th>vote_count</th>\n",
       "    </tr>\n",
       "  </thead>\n",
       "  <tbody>\n",
       "    <tr>\n",
       "      <th>0</th>\n",
       "      <td>237000000</td>\n",
       "      <td>Action Adventure Fantasy Science Fiction</td>\n",
       "      <td>http://www.avatarmovie.com/</td>\n",
       "      <td>19995</td>\n",
       "      <td>[{\"id\": 1463, \"name\": \"culture clash\"}, {\"id\":...</td>\n",
       "      <td>en</td>\n",
       "      <td>Avatar</td>\n",
       "      <td>In the 22nd century, a paraplegic Marine is di...</td>\n",
       "      <td>150.437577</td>\n",
       "      <td>[{\"name\": \"Ingenious Film Partners\", \"id\": 289...</td>\n",
       "      <td>[{\"iso_3166_1\": \"US\", \"name\": \"United States o...</td>\n",
       "      <td>2009-12-10</td>\n",
       "      <td>2787965087</td>\n",
       "      <td>162.0</td>\n",
       "      <td>[{\"iso_639_1\": \"en\", \"name\": \"English\"}, {\"iso...</td>\n",
       "      <td>Released</td>\n",
       "      <td>Enter the World of Pandora.</td>\n",
       "      <td>Avatar</td>\n",
       "      <td>7.2</td>\n",
       "      <td>11800</td>\n",
       "    </tr>\n",
       "    <tr>\n",
       "      <th>1</th>\n",
       "      <td>300000000</td>\n",
       "      <td>Adventure Fantasy Action</td>\n",
       "      <td>http://disney.go.com/disneypictures/pirates/</td>\n",
       "      <td>285</td>\n",
       "      <td>[{\"id\": 270, \"name\": \"ocean\"}, {\"id\": 726, \"na...</td>\n",
       "      <td>en</td>\n",
       "      <td>Pirates of the Caribbean: At World's End</td>\n",
       "      <td>Captain Barbossa, long believed to be dead, ha...</td>\n",
       "      <td>139.082615</td>\n",
       "      <td>[{\"name\": \"Walt Disney Pictures\", \"id\": 2}, {\"...</td>\n",
       "      <td>[{\"iso_3166_1\": \"US\", \"name\": \"United States o...</td>\n",
       "      <td>2007-05-19</td>\n",
       "      <td>961000000</td>\n",
       "      <td>169.0</td>\n",
       "      <td>[{\"iso_639_1\": \"en\", \"name\": \"English\"}]</td>\n",
       "      <td>Released</td>\n",
       "      <td>At the end of the world, the adventure begins.</td>\n",
       "      <td>Pirates of the Caribbean: At World's End</td>\n",
       "      <td>6.9</td>\n",
       "      <td>4500</td>\n",
       "    </tr>\n",
       "  </tbody>\n",
       "</table>\n",
       "</div>"
      ],
      "text/plain": [
       "      budget                                    genres  \\\n",
       "0  237000000  Action Adventure Fantasy Science Fiction   \n",
       "1  300000000                  Adventure Fantasy Action   \n",
       "\n",
       "                                       homepage     id  \\\n",
       "0                   http://www.avatarmovie.com/  19995   \n",
       "1  http://disney.go.com/disneypictures/pirates/    285   \n",
       "\n",
       "                                            keywords original_language  \\\n",
       "0  [{\"id\": 1463, \"name\": \"culture clash\"}, {\"id\":...                en   \n",
       "1  [{\"id\": 270, \"name\": \"ocean\"}, {\"id\": 726, \"na...                en   \n",
       "\n",
       "                             original_title  \\\n",
       "0                                    Avatar   \n",
       "1  Pirates of the Caribbean: At World's End   \n",
       "\n",
       "                                            overview  popularity  \\\n",
       "0  In the 22nd century, a paraplegic Marine is di...  150.437577   \n",
       "1  Captain Barbossa, long believed to be dead, ha...  139.082615   \n",
       "\n",
       "                                production_companies  \\\n",
       "0  [{\"name\": \"Ingenious Film Partners\", \"id\": 289...   \n",
       "1  [{\"name\": \"Walt Disney Pictures\", \"id\": 2}, {\"...   \n",
       "\n",
       "                                production_countries release_date     revenue  \\\n",
       "0  [{\"iso_3166_1\": \"US\", \"name\": \"United States o...   2009-12-10  2787965087   \n",
       "1  [{\"iso_3166_1\": \"US\", \"name\": \"United States o...   2007-05-19   961000000   \n",
       "\n",
       "   runtime                                   spoken_languages    status  \\\n",
       "0    162.0  [{\"iso_639_1\": \"en\", \"name\": \"English\"}, {\"iso...  Released   \n",
       "1    169.0           [{\"iso_639_1\": \"en\", \"name\": \"English\"}]  Released   \n",
       "\n",
       "                                          tagline  \\\n",
       "0                     Enter the World of Pandora.   \n",
       "1  At the end of the world, the adventure begins.   \n",
       "\n",
       "                                      title  vote_average  vote_count  \n",
       "0                                    Avatar           7.2       11800  \n",
       "1  Pirates of the Caribbean: At World's End           6.9        4500  "
      ]
     },
     "execution_count": 106,
     "metadata": {},
     "output_type": "execute_result"
    }
   ],
   "source": [
    "data.head(2)"
   ]
  },
  {
   "cell_type": "code",
   "execution_count": 107,
   "id": "5c8ab54e",
   "metadata": {},
   "outputs": [
    {
     "data": {
      "text/plain": [
       "Index(['budget', 'genres', 'homepage', 'id', 'keywords', 'original_language',\n",
       "       'original_title', 'overview', 'popularity', 'production_companies',\n",
       "       'production_countries', 'release_date', 'revenue', 'runtime',\n",
       "       'spoken_languages', 'status', 'tagline', 'title', 'vote_average',\n",
       "       'vote_count'],\n",
       "      dtype='object')"
      ]
     },
     "execution_count": 107,
     "metadata": {},
     "output_type": "execute_result"
    }
   ],
   "source": [
    "data.columns # 같이 name에 들어가있으니까 반복문에 넣어주면 됨."
   ]
  },
  {
   "cell_type": "code",
   "execution_count": null,
   "id": "5e318ee0",
   "metadata": {},
   "outputs": [],
   "source": [
    "['keywords', 'production_companies', 'production_countries','spoken_languages']"
   ]
  },
  {
   "cell_type": "code",
   "execution_count": 108,
   "id": "ae6d78a2",
   "metadata": {},
   "outputs": [],
   "source": [
    "# 똑같이 딕셔너리에 있는 것들을 json으로 바꾸고 뽑아오는 것을 for문에 넣어서 만들기.\n",
    "for col in ['keywords', 'production_companies', 'production_countries','spoken_languages']:\n",
    "    data[col] = data[col].apply(json.loads)\n",
    "    data[col] = data[col].apply(lambda x : [i['name'] for i in x])\n",
    "    data[col] = data[col].apply(lambda x : \" \".join(x))"
   ]
  },
  {
   "cell_type": "code",
   "execution_count": 109,
   "id": "83d754b8",
   "metadata": {},
   "outputs": [
    {
     "data": {
      "text/html": [
       "<div>\n",
       "<style scoped>\n",
       "    .dataframe tbody tr th:only-of-type {\n",
       "        vertical-align: middle;\n",
       "    }\n",
       "\n",
       "    .dataframe tbody tr th {\n",
       "        vertical-align: top;\n",
       "    }\n",
       "\n",
       "    .dataframe thead th {\n",
       "        text-align: right;\n",
       "    }\n",
       "</style>\n",
       "<table border=\"1\" class=\"dataframe\">\n",
       "  <thead>\n",
       "    <tr style=\"text-align: right;\">\n",
       "      <th></th>\n",
       "      <th>budget</th>\n",
       "      <th>genres</th>\n",
       "      <th>homepage</th>\n",
       "      <th>id</th>\n",
       "      <th>keywords</th>\n",
       "      <th>original_language</th>\n",
       "      <th>original_title</th>\n",
       "      <th>overview</th>\n",
       "      <th>popularity</th>\n",
       "      <th>production_companies</th>\n",
       "      <th>production_countries</th>\n",
       "      <th>release_date</th>\n",
       "      <th>revenue</th>\n",
       "      <th>runtime</th>\n",
       "      <th>spoken_languages</th>\n",
       "      <th>status</th>\n",
       "      <th>tagline</th>\n",
       "      <th>title</th>\n",
       "      <th>vote_average</th>\n",
       "      <th>vote_count</th>\n",
       "    </tr>\n",
       "  </thead>\n",
       "  <tbody>\n",
       "    <tr>\n",
       "      <th>0</th>\n",
       "      <td>237000000</td>\n",
       "      <td>Action Adventure Fantasy Science Fiction</td>\n",
       "      <td>http://www.avatarmovie.com/</td>\n",
       "      <td>19995</td>\n",
       "      <td>culture clash future space war space colony so...</td>\n",
       "      <td>en</td>\n",
       "      <td>Avatar</td>\n",
       "      <td>In the 22nd century, a paraplegic Marine is di...</td>\n",
       "      <td>150.437577</td>\n",
       "      <td>Ingenious Film Partners Twentieth Century Fox ...</td>\n",
       "      <td>United States of America United Kingdom</td>\n",
       "      <td>2009-12-10</td>\n",
       "      <td>2787965087</td>\n",
       "      <td>162.0</td>\n",
       "      <td>English Español</td>\n",
       "      <td>Released</td>\n",
       "      <td>Enter the World of Pandora.</td>\n",
       "      <td>Avatar</td>\n",
       "      <td>7.2</td>\n",
       "      <td>11800</td>\n",
       "    </tr>\n",
       "    <tr>\n",
       "      <th>1</th>\n",
       "      <td>300000000</td>\n",
       "      <td>Adventure Fantasy Action</td>\n",
       "      <td>http://disney.go.com/disneypictures/pirates/</td>\n",
       "      <td>285</td>\n",
       "      <td>ocean drug abuse exotic island east india trad...</td>\n",
       "      <td>en</td>\n",
       "      <td>Pirates of the Caribbean: At World's End</td>\n",
       "      <td>Captain Barbossa, long believed to be dead, ha...</td>\n",
       "      <td>139.082615</td>\n",
       "      <td>Walt Disney Pictures Jerry Bruckheimer Films S...</td>\n",
       "      <td>United States of America</td>\n",
       "      <td>2007-05-19</td>\n",
       "      <td>961000000</td>\n",
       "      <td>169.0</td>\n",
       "      <td>English</td>\n",
       "      <td>Released</td>\n",
       "      <td>At the end of the world, the adventure begins.</td>\n",
       "      <td>Pirates of the Caribbean: At World's End</td>\n",
       "      <td>6.9</td>\n",
       "      <td>4500</td>\n",
       "    </tr>\n",
       "    <tr>\n",
       "      <th>2</th>\n",
       "      <td>245000000</td>\n",
       "      <td>Action Adventure Crime</td>\n",
       "      <td>http://www.sonypictures.com/movies/spectre/</td>\n",
       "      <td>206647</td>\n",
       "      <td>spy based on novel secret agent sequel mi6 bri...</td>\n",
       "      <td>en</td>\n",
       "      <td>Spectre</td>\n",
       "      <td>A cryptic message from Bond’s past sends him o...</td>\n",
       "      <td>107.376788</td>\n",
       "      <td>Columbia Pictures Danjaq B24</td>\n",
       "      <td>United Kingdom United States of America</td>\n",
       "      <td>2015-10-26</td>\n",
       "      <td>880674609</td>\n",
       "      <td>148.0</td>\n",
       "      <td>Français English Español Italiano Deutsch</td>\n",
       "      <td>Released</td>\n",
       "      <td>A Plan No One Escapes</td>\n",
       "      <td>Spectre</td>\n",
       "      <td>6.3</td>\n",
       "      <td>4466</td>\n",
       "    </tr>\n",
       "    <tr>\n",
       "      <th>3</th>\n",
       "      <td>250000000</td>\n",
       "      <td>Action Crime Drama Thriller</td>\n",
       "      <td>http://www.thedarkknightrises.com/</td>\n",
       "      <td>49026</td>\n",
       "      <td>dc comics crime fighter terrorist secret ident...</td>\n",
       "      <td>en</td>\n",
       "      <td>The Dark Knight Rises</td>\n",
       "      <td>Following the death of District Attorney Harve...</td>\n",
       "      <td>112.312950</td>\n",
       "      <td>Legendary Pictures Warner Bros. DC Entertainme...</td>\n",
       "      <td>United States of America</td>\n",
       "      <td>2012-07-16</td>\n",
       "      <td>1084939099</td>\n",
       "      <td>165.0</td>\n",
       "      <td>English</td>\n",
       "      <td>Released</td>\n",
       "      <td>The Legend Ends</td>\n",
       "      <td>The Dark Knight Rises</td>\n",
       "      <td>7.6</td>\n",
       "      <td>9106</td>\n",
       "    </tr>\n",
       "    <tr>\n",
       "      <th>4</th>\n",
       "      <td>260000000</td>\n",
       "      <td>Action Adventure Science Fiction</td>\n",
       "      <td>http://movies.disney.com/john-carter</td>\n",
       "      <td>49529</td>\n",
       "      <td>based on novel mars medallion space travel pri...</td>\n",
       "      <td>en</td>\n",
       "      <td>John Carter</td>\n",
       "      <td>John Carter is a war-weary, former military ca...</td>\n",
       "      <td>43.926995</td>\n",
       "      <td>Walt Disney Pictures</td>\n",
       "      <td>United States of America</td>\n",
       "      <td>2012-03-07</td>\n",
       "      <td>284139100</td>\n",
       "      <td>132.0</td>\n",
       "      <td>English</td>\n",
       "      <td>Released</td>\n",
       "      <td>Lost in our world, found in another.</td>\n",
       "      <td>John Carter</td>\n",
       "      <td>6.1</td>\n",
       "      <td>2124</td>\n",
       "    </tr>\n",
       "  </tbody>\n",
       "</table>\n",
       "</div>"
      ],
      "text/plain": [
       "      budget                                    genres  \\\n",
       "0  237000000  Action Adventure Fantasy Science Fiction   \n",
       "1  300000000                  Adventure Fantasy Action   \n",
       "2  245000000                    Action Adventure Crime   \n",
       "3  250000000               Action Crime Drama Thriller   \n",
       "4  260000000          Action Adventure Science Fiction   \n",
       "\n",
       "                                       homepage      id  \\\n",
       "0                   http://www.avatarmovie.com/   19995   \n",
       "1  http://disney.go.com/disneypictures/pirates/     285   \n",
       "2   http://www.sonypictures.com/movies/spectre/  206647   \n",
       "3            http://www.thedarkknightrises.com/   49026   \n",
       "4          http://movies.disney.com/john-carter   49529   \n",
       "\n",
       "                                            keywords original_language  \\\n",
       "0  culture clash future space war space colony so...                en   \n",
       "1  ocean drug abuse exotic island east india trad...                en   \n",
       "2  spy based on novel secret agent sequel mi6 bri...                en   \n",
       "3  dc comics crime fighter terrorist secret ident...                en   \n",
       "4  based on novel mars medallion space travel pri...                en   \n",
       "\n",
       "                             original_title  \\\n",
       "0                                    Avatar   \n",
       "1  Pirates of the Caribbean: At World's End   \n",
       "2                                   Spectre   \n",
       "3                     The Dark Knight Rises   \n",
       "4                               John Carter   \n",
       "\n",
       "                                            overview  popularity  \\\n",
       "0  In the 22nd century, a paraplegic Marine is di...  150.437577   \n",
       "1  Captain Barbossa, long believed to be dead, ha...  139.082615   \n",
       "2  A cryptic message from Bond’s past sends him o...  107.376788   \n",
       "3  Following the death of District Attorney Harve...  112.312950   \n",
       "4  John Carter is a war-weary, former military ca...   43.926995   \n",
       "\n",
       "                                production_companies  \\\n",
       "0  Ingenious Film Partners Twentieth Century Fox ...   \n",
       "1  Walt Disney Pictures Jerry Bruckheimer Films S...   \n",
       "2                       Columbia Pictures Danjaq B24   \n",
       "3  Legendary Pictures Warner Bros. DC Entertainme...   \n",
       "4                               Walt Disney Pictures   \n",
       "\n",
       "                      production_countries release_date     revenue  runtime  \\\n",
       "0  United States of America United Kingdom   2009-12-10  2787965087    162.0   \n",
       "1                 United States of America   2007-05-19   961000000    169.0   \n",
       "2  United Kingdom United States of America   2015-10-26   880674609    148.0   \n",
       "3                 United States of America   2012-07-16  1084939099    165.0   \n",
       "4                 United States of America   2012-03-07   284139100    132.0   \n",
       "\n",
       "                            spoken_languages    status  \\\n",
       "0                            English Español  Released   \n",
       "1                                    English  Released   \n",
       "2  Français English Español Italiano Deutsch  Released   \n",
       "3                                    English  Released   \n",
       "4                                    English  Released   \n",
       "\n",
       "                                          tagline  \\\n",
       "0                     Enter the World of Pandora.   \n",
       "1  At the end of the world, the adventure begins.   \n",
       "2                           A Plan No One Escapes   \n",
       "3                                 The Legend Ends   \n",
       "4            Lost in our world, found in another.   \n",
       "\n",
       "                                      title  vote_average  vote_count  \n",
       "0                                    Avatar           7.2       11800  \n",
       "1  Pirates of the Caribbean: At World's End           6.9        4500  \n",
       "2                                   Spectre           6.3        4466  \n",
       "3                     The Dark Knight Rises           7.6        9106  \n",
       "4                               John Carter           6.1        2124  "
      ]
     },
     "execution_count": 109,
     "metadata": {},
     "output_type": "execute_result"
    }
   ],
   "source": [
    "data.head()"
   ]
  },
  {
   "cell_type": "code",
   "execution_count": 110,
   "id": "6ca1c76f",
   "metadata": {},
   "outputs": [
    {
     "data": {
      "text/plain": [
       "Index(['budget', 'genres', 'homepage', 'id', 'keywords', 'original_language',\n",
       "       'original_title', 'overview', 'popularity', 'production_companies',\n",
       "       'production_countries', 'release_date', 'revenue', 'runtime',\n",
       "       'spoken_languages', 'status', 'tagline', 'title', 'vote_average',\n",
       "       'vote_count'],\n",
       "      dtype='object')"
      ]
     },
     "execution_count": 110,
     "metadata": {},
     "output_type": "execute_result"
    }
   ],
   "source": [
    "data.columns"
   ]
  },
  {
   "cell_type": "code",
   "execution_count": 112,
   "id": "d2e65880",
   "metadata": {},
   "outputs": [
    {
     "data": {
      "text/html": [
       "<div>\n",
       "<style scoped>\n",
       "    .dataframe tbody tr th:only-of-type {\n",
       "        vertical-align: middle;\n",
       "    }\n",
       "\n",
       "    .dataframe tbody tr th {\n",
       "        vertical-align: top;\n",
       "    }\n",
       "\n",
       "    .dataframe thead th {\n",
       "        text-align: right;\n",
       "    }\n",
       "</style>\n",
       "<table border=\"1\" class=\"dataframe\">\n",
       "  <thead>\n",
       "    <tr style=\"text-align: right;\">\n",
       "      <th></th>\n",
       "      <th>id</th>\n",
       "      <th>title</th>\n",
       "      <th>genres</th>\n",
       "      <th>vote_average</th>\n",
       "      <th>popularity</th>\n",
       "      <th>keywords</th>\n",
       "      <th>overview</th>\n",
       "    </tr>\n",
       "  </thead>\n",
       "  <tbody>\n",
       "    <tr>\n",
       "      <th>0</th>\n",
       "      <td>19995</td>\n",
       "      <td>Avatar</td>\n",
       "      <td>Action Adventure Fantasy Science Fiction</td>\n",
       "      <td>7.2</td>\n",
       "      <td>150.437577</td>\n",
       "      <td>culture clash future space war space colony so...</td>\n",
       "      <td>In the 22nd century, a paraplegic Marine is di...</td>\n",
       "    </tr>\n",
       "    <tr>\n",
       "      <th>1</th>\n",
       "      <td>285</td>\n",
       "      <td>Pirates of the Caribbean: At World's End</td>\n",
       "      <td>Adventure Fantasy Action</td>\n",
       "      <td>6.9</td>\n",
       "      <td>139.082615</td>\n",
       "      <td>ocean drug abuse exotic island east india trad...</td>\n",
       "      <td>Captain Barbossa, long believed to be dead, ha...</td>\n",
       "    </tr>\n",
       "    <tr>\n",
       "      <th>2</th>\n",
       "      <td>206647</td>\n",
       "      <td>Spectre</td>\n",
       "      <td>Action Adventure Crime</td>\n",
       "      <td>6.3</td>\n",
       "      <td>107.376788</td>\n",
       "      <td>spy based on novel secret agent sequel mi6 bri...</td>\n",
       "      <td>A cryptic message from Bond’s past sends him o...</td>\n",
       "    </tr>\n",
       "    <tr>\n",
       "      <th>3</th>\n",
       "      <td>49026</td>\n",
       "      <td>The Dark Knight Rises</td>\n",
       "      <td>Action Crime Drama Thriller</td>\n",
       "      <td>7.6</td>\n",
       "      <td>112.312950</td>\n",
       "      <td>dc comics crime fighter terrorist secret ident...</td>\n",
       "      <td>Following the death of District Attorney Harve...</td>\n",
       "    </tr>\n",
       "    <tr>\n",
       "      <th>4</th>\n",
       "      <td>49529</td>\n",
       "      <td>John Carter</td>\n",
       "      <td>Action Adventure Science Fiction</td>\n",
       "      <td>6.1</td>\n",
       "      <td>43.926995</td>\n",
       "      <td>based on novel mars medallion space travel pri...</td>\n",
       "      <td>John Carter is a war-weary, former military ca...</td>\n",
       "    </tr>\n",
       "  </tbody>\n",
       "</table>\n",
       "</div>"
      ],
      "text/plain": [
       "       id                                     title  \\\n",
       "0   19995                                    Avatar   \n",
       "1     285  Pirates of the Caribbean: At World's End   \n",
       "2  206647                                   Spectre   \n",
       "3   49026                     The Dark Knight Rises   \n",
       "4   49529                               John Carter   \n",
       "\n",
       "                                     genres  vote_average  popularity  \\\n",
       "0  Action Adventure Fantasy Science Fiction           7.2  150.437577   \n",
       "1                  Adventure Fantasy Action           6.9  139.082615   \n",
       "2                    Action Adventure Crime           6.3  107.376788   \n",
       "3               Action Crime Drama Thriller           7.6  112.312950   \n",
       "4          Action Adventure Science Fiction           6.1   43.926995   \n",
       "\n",
       "                                            keywords  \\\n",
       "0  culture clash future space war space colony so...   \n",
       "1  ocean drug abuse exotic island east india trad...   \n",
       "2  spy based on novel secret agent sequel mi6 bri...   \n",
       "3  dc comics crime fighter terrorist secret ident...   \n",
       "4  based on novel mars medallion space travel pri...   \n",
       "\n",
       "                                            overview  \n",
       "0  In the 22nd century, a paraplegic Marine is di...  \n",
       "1  Captain Barbossa, long believed to be dead, ha...  \n",
       "2  A cryptic message from Bond’s past sends him o...  \n",
       "3  Following the death of District Attorney Harve...  \n",
       "4  John Carter is a war-weary, former military ca...  "
      ]
     },
     "execution_count": 112,
     "metadata": {},
     "output_type": "execute_result"
    }
   ],
   "source": [
    "# 컬럼이 너무 많을 때 몇몇 컬럼만 뽑아서 쓸 경우 이렇게 한다.\n",
    "data = data[['id', 'title', 'genres', 'vote_average', 'popularity', 'keywords', 'overview']]\n",
    "data.head()"
   ]
  },
  {
   "cell_type": "markdown",
   "id": "408565b3",
   "metadata": {},
   "source": [
    "* 장르의 단어를 벡터화해서 코사인유사도를 통해 비슷한 장르를 가진 행을 찾고, \n",
    "* 유사도가 높은 행을 기준으로 내림차순 정렬"
   ]
  },
  {
   "cell_type": "code",
   "execution_count": 114,
   "id": "5c8baefd",
   "metadata": {},
   "outputs": [],
   "source": [
    "from sklearn.feature_extraction.text import CountVectorizer"
   ]
  },
  {
   "cell_type": "code",
   "execution_count": 115,
   "id": "0db1162c",
   "metadata": {
    "scrolled": true
   },
   "outputs": [
    {
     "name": "stdout",
     "output_type": "stream",
     "text": [
      "  (0, 0)\t1\n",
      "  (0, 16)\t1\n",
      "  (0, 124)\t1\n",
      "  (0, 232)\t1\n",
      "  (0, 138)\t1\n",
      "  (0, 1)\t1\n",
      "  (0, 24)\t1\n",
      "  (0, 135)\t1\n",
      "  (0, 233)\t1\n",
      "  (1, 0)\t1\n",
      "  (1, 16)\t1\n",
      "  (1, 124)\t1\n",
      "  (1, 24)\t1\n",
      "  (1, 125)\t1\n",
      "  (2, 0)\t1\n",
      "  (2, 16)\t1\n",
      "  (2, 1)\t1\n",
      "  (2, 64)\t1\n",
      "  (2, 20)\t1\n",
      "  (3, 0)\t1\n",
      "  (3, 64)\t1\n",
      "  (3, 90)\t1\n",
      "  (3, 234)\t1\n",
      "  (3, 4)\t1\n",
      "  (3, 68)\t1\n",
      "  :\t:\n",
      "  (4796, 90)\t1\n",
      "  (4796, 234)\t1\n",
      "  (4796, 106)\t1\n",
      "  (4796, 144)\t1\n",
      "  (4797, 234)\t1\n",
      "  (4797, 153)\t1\n",
      "  (4797, 157)\t1\n",
      "  (4798, 0)\t1\n",
      "  (4798, 64)\t1\n",
      "  (4798, 234)\t1\n",
      "  (4798, 4)\t1\n",
      "  (4798, 78)\t1\n",
      "  (4799, 44)\t1\n",
      "  (4799, 214)\t1\n",
      "  (4799, 58)\t1\n",
      "  (4800, 90)\t1\n",
      "  (4800, 44)\t1\n",
      "  (4800, 214)\t1\n",
      "  (4800, 104)\t1\n",
      "  (4800, 50)\t1\n",
      "  (4800, 250)\t1\n",
      "  (4800, 182)\t1\n",
      "  (4800, 251)\t1\n",
      "  (4800, 229)\t1\n",
      "  (4802, 80)\t1\n"
     ]
    }
   ],
   "source": [
    "cv = CountVectorizer(ngram_range=(1,2))\n",
    "genre_mat = cv.fit_transform(data['genres'])\n",
    "print(genre_mat)"
   ]
  },
  {
   "cell_type": "markdown",
   "id": "dbc661fa",
   "metadata": {},
   "source": [
    "* ngram_range=(1,2) 글자를 한 글자씩 하겠다."
   ]
  },
  {
   "cell_type": "code",
   "execution_count": 116,
   "id": "fa13c207",
   "metadata": {},
   "outputs": [
    {
     "data": {
      "text/plain": [
       "(4803, 276)"
      ]
     },
     "execution_count": 116,
     "metadata": {},
     "output_type": "execute_result"
    }
   ],
   "source": [
    "genre_mat.shape #4803행 276열이 있는 벡터로 만들어버림."
   ]
  },
  {
   "cell_type": "markdown",
   "id": "b785e6a6",
   "metadata": {},
   "source": [
    "* 코사인 유사도를 사용해 genre_mat의 유사도 산출 후 genre_sim에 저장\n",
    "* 비슷한 장르 영화를 찾기 위해서 계산\n",
    "* 코사인 유사도는 주로 문자, 문서의 유사도 계산에 사용됨."
   ]
  },
  {
   "cell_type": "code",
   "execution_count": 117,
   "id": "b8f8107c",
   "metadata": {},
   "outputs": [],
   "source": [
    "from sklearn.metrics.pairwise import cosine_similarity"
   ]
  },
  {
   "cell_type": "code",
   "execution_count": 121,
   "id": "683fe73f",
   "metadata": {},
   "outputs": [
    {
     "name": "stdout",
     "output_type": "stream",
     "text": [
      "(4803, 4803)\n",
      "[[1.         0.59628479 0.4472136  ... 0.         0.         0.        ]\n",
      " [0.59628479 1.         0.4        ... 0.         0.         0.        ]\n",
      " [0.4472136  0.4        1.         ... 0.         0.         0.        ]\n",
      " ...\n",
      " [0.75592895 0.3380617  0.50709255 ... 0.         0.         0.        ]\n",
      " [0.4472136  0.6        0.2        ... 0.         0.         0.        ]\n",
      " [0.74535599 0.8        0.6        ... 0.         0.         0.        ]]\n"
     ]
    }
   ],
   "source": [
    "genre_sim = cosine_similarity(genre_mat, genre_mat) # 행에 genre_mat 넣고 열에 genre_mat을 넣어서 상관분석 처럼 코사인유사도 측정.\n",
    "print(genre_sim.shape)\n",
    "print(genre_sim[:10])"
   ]
  },
  {
   "cell_type": "code",
   "execution_count": 120,
   "id": "f0fa6382",
   "metadata": {},
   "outputs": [
    {
     "data": {
      "text/plain": [
       "0    Action Adventure Fantasy Science Fiction\n",
       "1                    Adventure Fantasy Action\n",
       "2                      Action Adventure Crime\n",
       "3                 Action Crime Drama Thriller\n",
       "4            Action Adventure Science Fiction\n",
       "Name: genres, dtype: object"
      ]
     },
     "execution_count": 120,
     "metadata": {},
     "output_type": "execute_result"
    }
   ],
   "source": [
    "data['genres'][:5]"
   ]
  },
  {
   "cell_type": "code",
   "execution_count": 131,
   "id": "517853ad",
   "metadata": {},
   "outputs": [],
   "source": [
    "a = np.array([34,1,47,466666,5])"
   ]
  },
  {
   "cell_type": "code",
   "execution_count": 132,
   "id": "3135b93a",
   "metadata": {},
   "outputs": [
    {
     "data": {
      "text/plain": [
       "array([1, 4, 0, 2, 3], dtype=int64)"
      ]
     },
     "execution_count": 132,
     "metadata": {},
     "output_type": "execute_result"
    }
   ],
   "source": [
    "a.argsort() # 숫자 순서대로 인덱스가 나오는 것."
   ]
  },
  {
   "cell_type": "code",
   "execution_count": 134,
   "id": "3fee60cc",
   "metadata": {},
   "outputs": [
    {
     "data": {
      "text/plain": [
       "array([     5, 466666,     47,      1,     34])"
      ]
     },
     "execution_count": 134,
     "metadata": {},
     "output_type": "execute_result"
    }
   ],
   "source": [
    "a[::-1]"
   ]
  },
  {
   "cell_type": "code",
   "execution_count": 135,
   "id": "88fbe57b",
   "metadata": {},
   "outputs": [
    {
     "data": {
      "text/plain": [
       "[5, 466666, 47, 1, 34]"
      ]
     },
     "execution_count": 135,
     "metadata": {},
     "output_type": "execute_result"
    }
   ],
   "source": [
    "[34,1,47,466666,5][::-1] #역순정렬"
   ]
  },
  {
   "cell_type": "code",
   "execution_count": 137,
   "id": "6864b719",
   "metadata": {},
   "outputs": [],
   "source": [
    "sorted_genre_sim = genre_sim.argsort()[:, ::-1]"
   ]
  },
  {
   "cell_type": "code",
   "execution_count": 138,
   "id": "82a6b999",
   "metadata": {},
   "outputs": [
    {
     "data": {
      "text/plain": [
       "array([[   0, 3494,  813, ..., 3038, 3037, 2401]], dtype=int64)"
      ]
     },
     "execution_count": 138,
     "metadata": {},
     "output_type": "execute_result"
    }
   ],
   "source": [
    "sorted_genre_sim[:1]"
   ]
  },
  {
   "cell_type": "code",
   "execution_count": 139,
   "id": "ceb6839b",
   "metadata": {
    "scrolled": true
   },
   "outputs": [
    {
     "data": {
      "text/plain": [
       "id                                                          19995\n",
       "title                                                      Avatar\n",
       "genres                   Action Adventure Fantasy Science Fiction\n",
       "vote_average                                                  7.2\n",
       "popularity                                             150.437577\n",
       "keywords        culture clash future space war space colony so...\n",
       "overview        In the 22nd century, a paraplegic Marine is di...\n",
       "Name: 0, dtype: object"
      ]
     },
     "execution_count": 139,
     "metadata": {},
     "output_type": "execute_result"
    }
   ],
   "source": [
    "data.loc[0]"
   ]
  },
  {
   "cell_type": "code",
   "execution_count": 140,
   "id": "0a50f99f",
   "metadata": {},
   "outputs": [
    {
     "data": {
      "text/plain": [
       "id                                                          27549\n",
       "title                   Beastmaster 2: Through the Portal of Time\n",
       "genres                   Action Adventure Fantasy Science Fiction\n",
       "vote_average                                                  4.6\n",
       "popularity                                               1.478505\n",
       "keywords        based on novel time travel sequel psychotronic...\n",
       "overview        Mark Singer returns as Dar, the warrior who ca...\n",
       "Name: 3494, dtype: object"
      ]
     },
     "execution_count": 140,
     "metadata": {},
     "output_type": "execute_result"
    }
   ],
   "source": [
    "data.loc[3494]"
   ]
  },
  {
   "cell_type": "code",
   "execution_count": 141,
   "id": "c946ac5e",
   "metadata": {
    "scrolled": true
   },
   "outputs": [
    {
     "data": {
      "text/plain": [
       "id                                                           1924\n",
       "title                                                    Superman\n",
       "genres                   Action Adventure Fantasy Science Fiction\n",
       "vote_average                                                  6.9\n",
       "popularity                                              48.507081\n",
       "keywords        saving the world journalist dc comics crime fi...\n",
       "overview        Mild-mannered Clark Kent works as a reporter a...\n",
       "Name: 813, dtype: object"
      ]
     },
     "execution_count": 141,
     "metadata": {},
     "output_type": "execute_result"
    }
   ],
   "source": [
    "data.loc[813] # 내가 좋아하는 영화와 장르가 비슷한 애들"
   ]
  },
  {
   "cell_type": "code",
   "execution_count": 145,
   "id": "a4377507",
   "metadata": {
    "scrolled": true
   },
   "outputs": [
    {
     "data": {
      "text/html": [
       "<div>\n",
       "<style scoped>\n",
       "    .dataframe tbody tr th:only-of-type {\n",
       "        vertical-align: middle;\n",
       "    }\n",
       "\n",
       "    .dataframe tbody tr th {\n",
       "        vertical-align: top;\n",
       "    }\n",
       "\n",
       "    .dataframe thead th {\n",
       "        text-align: right;\n",
       "    }\n",
       "</style>\n",
       "<table border=\"1\" class=\"dataframe\">\n",
       "  <thead>\n",
       "    <tr style=\"text-align: right;\">\n",
       "      <th></th>\n",
       "      <th>id</th>\n",
       "      <th>title</th>\n",
       "      <th>genres</th>\n",
       "      <th>vote_average</th>\n",
       "      <th>popularity</th>\n",
       "      <th>keywords</th>\n",
       "      <th>overview</th>\n",
       "    </tr>\n",
       "  </thead>\n",
       "  <tbody>\n",
       "    <tr>\n",
       "      <th>813</th>\n",
       "      <td>1924</td>\n",
       "      <td>Superman</td>\n",
       "      <td>Action Adventure Fantasy Science Fiction</td>\n",
       "      <td>6.9</td>\n",
       "      <td>48.507081</td>\n",
       "      <td>saving the world journalist dc comics crime fi...</td>\n",
       "      <td>Mild-mannered Clark Kent works as a reporter a...</td>\n",
       "    </tr>\n",
       "  </tbody>\n",
       "</table>\n",
       "</div>"
      ],
      "text/plain": [
       "       id     title                                    genres  vote_average  \\\n",
       "813  1924  Superman  Action Adventure Fantasy Science Fiction           6.9   \n",
       "\n",
       "     popularity                                           keywords  \\\n",
       "813   48.507081  saving the world journalist dc comics crime fi...   \n",
       "\n",
       "                                              overview  \n",
       "813  Mild-mannered Clark Kent works as a reporter a...  "
      ]
     },
     "execution_count": 145,
     "metadata": {},
     "output_type": "execute_result"
    }
   ],
   "source": [
    "data[data['title'] ==  'Superman']"
   ]
  },
  {
   "cell_type": "code",
   "execution_count": 146,
   "id": "b8a1f4b7",
   "metadata": {},
   "outputs": [
    {
     "data": {
      "text/plain": [
       "array([813], dtype=int64)"
      ]
     },
     "execution_count": 146,
     "metadata": {},
     "output_type": "execute_result"
    }
   ],
   "source": [
    "data[data['title'] ==  'Superman'].index.values\n"
   ]
  },
  {
   "cell_type": "code",
   "execution_count": 153,
   "id": "19c28912",
   "metadata": {},
   "outputs": [
    {
     "data": {
      "text/html": [
       "<div>\n",
       "<style scoped>\n",
       "    .dataframe tbody tr th:only-of-type {\n",
       "        vertical-align: middle;\n",
       "    }\n",
       "\n",
       "    .dataframe tbody tr th {\n",
       "        vertical-align: top;\n",
       "    }\n",
       "\n",
       "    .dataframe thead th {\n",
       "        text-align: right;\n",
       "    }\n",
       "</style>\n",
       "<table border=\"1\" class=\"dataframe\">\n",
       "  <thead>\n",
       "    <tr style=\"text-align: right;\">\n",
       "      <th></th>\n",
       "      <th>id</th>\n",
       "      <th>title</th>\n",
       "      <th>genres</th>\n",
       "      <th>vote_average</th>\n",
       "      <th>popularity</th>\n",
       "      <th>keywords</th>\n",
       "      <th>overview</th>\n",
       "    </tr>\n",
       "  </thead>\n",
       "  <tbody>\n",
       "    <tr>\n",
       "      <th>0</th>\n",
       "      <td>19995</td>\n",
       "      <td>Avatar</td>\n",
       "      <td>Action Adventure Fantasy Science Fiction</td>\n",
       "      <td>7.2</td>\n",
       "      <td>150.437577</td>\n",
       "      <td>culture clash future space war space colony so...</td>\n",
       "      <td>In the 22nd century, a paraplegic Marine is di...</td>\n",
       "    </tr>\n",
       "    <tr>\n",
       "      <th>3494</th>\n",
       "      <td>27549</td>\n",
       "      <td>Beastmaster 2: Through the Portal of Time</td>\n",
       "      <td>Action Adventure Fantasy Science Fiction</td>\n",
       "      <td>4.6</td>\n",
       "      <td>1.478505</td>\n",
       "      <td>based on novel time travel sequel psychotronic...</td>\n",
       "      <td>Mark Singer returns as Dar, the warrior who ca...</td>\n",
       "    </tr>\n",
       "    <tr>\n",
       "      <th>813</th>\n",
       "      <td>1924</td>\n",
       "      <td>Superman</td>\n",
       "      <td>Action Adventure Fantasy Science Fiction</td>\n",
       "      <td>6.9</td>\n",
       "      <td>48.507081</td>\n",
       "      <td>saving the world journalist dc comics crime fi...</td>\n",
       "      <td>Mild-mannered Clark Kent works as a reporter a...</td>\n",
       "    </tr>\n",
       "    <tr>\n",
       "      <th>870</th>\n",
       "      <td>8536</td>\n",
       "      <td>Superman II</td>\n",
       "      <td>Action Adventure Fantasy Science Fiction</td>\n",
       "      <td>6.5</td>\n",
       "      <td>30.515175</td>\n",
       "      <td>saving the world dc comics sequel superhero ba...</td>\n",
       "      <td>Three escaped criminals from the planet Krypto...</td>\n",
       "    </tr>\n",
       "    <tr>\n",
       "      <th>46</th>\n",
       "      <td>127585</td>\n",
       "      <td>X-Men: Days of Future Past</td>\n",
       "      <td>Action Adventure Fantasy Science Fiction</td>\n",
       "      <td>7.5</td>\n",
       "      <td>118.078691</td>\n",
       "      <td>1970s mutant time travel marvel comic based on...</td>\n",
       "      <td>The ultimate X-Men ensemble fights a war for t...</td>\n",
       "    </tr>\n",
       "  </tbody>\n",
       "</table>\n",
       "</div>"
      ],
      "text/plain": [
       "          id                                      title  \\\n",
       "0      19995                                     Avatar   \n",
       "3494   27549  Beastmaster 2: Through the Portal of Time   \n",
       "813     1924                                   Superman   \n",
       "870     8536                                Superman II   \n",
       "46    127585                 X-Men: Days of Future Past   \n",
       "\n",
       "                                        genres  vote_average  popularity  \\\n",
       "0     Action Adventure Fantasy Science Fiction           7.2  150.437577   \n",
       "3494  Action Adventure Fantasy Science Fiction           4.6    1.478505   \n",
       "813   Action Adventure Fantasy Science Fiction           6.9   48.507081   \n",
       "870   Action Adventure Fantasy Science Fiction           6.5   30.515175   \n",
       "46    Action Adventure Fantasy Science Fiction           7.5  118.078691   \n",
       "\n",
       "                                               keywords  \\\n",
       "0     culture clash future space war space colony so...   \n",
       "3494  based on novel time travel sequel psychotronic...   \n",
       "813   saving the world journalist dc comics crime fi...   \n",
       "870   saving the world dc comics sequel superhero ba...   \n",
       "46    1970s mutant time travel marvel comic based on...   \n",
       "\n",
       "                                               overview  \n",
       "0     In the 22nd century, a paraplegic Marine is di...  \n",
       "3494  Mark Singer returns as Dar, the warrior who ca...  \n",
       "813   Mild-mannered Clark Kent works as a reporter a...  \n",
       "870   Three escaped criminals from the planet Krypto...  \n",
       "46    The ultimate X-Men ensemble fights a war for t...  "
      ]
     },
     "execution_count": 153,
     "metadata": {},
     "output_type": "execute_result"
    }
   ],
   "source": [
    "data.iloc[sorted_genre_sim[813,: (5)].reshape(-1)]"
   ]
  },
  {
   "cell_type": "code",
   "execution_count": 154,
   "id": "b4314b10",
   "metadata": {},
   "outputs": [],
   "source": [
    "def find_sim_movie(df, sorted_genre_sim, title_name, top_n=10): # top_n=10  기본값을 10으로 받겠다.\n",
    "    title_movie = df[df['title'] == title_name]\n",
    "    title_index =  title_movie.index.values\n",
    "    similar_indexes = sorted_genre_sim[title_index, : (top_n)]\n",
    "    print(similar_indexes)\n",
    "    similar_indexes = similar_indexes.reshape(-1)\n",
    "    return df.iloc[similar_indexes]"
   ]
  },
  {
   "cell_type": "code",
   "execution_count": 155,
   "id": "1c68d361",
   "metadata": {},
   "outputs": [
    {
     "name": "stdout",
     "output_type": "stream",
     "text": [
      "[[   0 3494  813  870   46   14 1296 1652  419  420]]\n"
     ]
    },
    {
     "data": {
      "text/html": [
       "<div>\n",
       "<style scoped>\n",
       "    .dataframe tbody tr th:only-of-type {\n",
       "        vertical-align: middle;\n",
       "    }\n",
       "\n",
       "    .dataframe tbody tr th {\n",
       "        vertical-align: top;\n",
       "    }\n",
       "\n",
       "    .dataframe thead th {\n",
       "        text-align: right;\n",
       "    }\n",
       "</style>\n",
       "<table border=\"1\" class=\"dataframe\">\n",
       "  <thead>\n",
       "    <tr style=\"text-align: right;\">\n",
       "      <th></th>\n",
       "      <th>id</th>\n",
       "      <th>title</th>\n",
       "      <th>genres</th>\n",
       "      <th>vote_average</th>\n",
       "      <th>popularity</th>\n",
       "      <th>keywords</th>\n",
       "      <th>overview</th>\n",
       "    </tr>\n",
       "  </thead>\n",
       "  <tbody>\n",
       "    <tr>\n",
       "      <th>0</th>\n",
       "      <td>19995</td>\n",
       "      <td>Avatar</td>\n",
       "      <td>Action Adventure Fantasy Science Fiction</td>\n",
       "      <td>7.2</td>\n",
       "      <td>150.437577</td>\n",
       "      <td>culture clash future space war space colony so...</td>\n",
       "      <td>In the 22nd century, a paraplegic Marine is di...</td>\n",
       "    </tr>\n",
       "    <tr>\n",
       "      <th>3494</th>\n",
       "      <td>27549</td>\n",
       "      <td>Beastmaster 2: Through the Portal of Time</td>\n",
       "      <td>Action Adventure Fantasy Science Fiction</td>\n",
       "      <td>4.6</td>\n",
       "      <td>1.478505</td>\n",
       "      <td>based on novel time travel sequel psychotronic...</td>\n",
       "      <td>Mark Singer returns as Dar, the warrior who ca...</td>\n",
       "    </tr>\n",
       "    <tr>\n",
       "      <th>813</th>\n",
       "      <td>1924</td>\n",
       "      <td>Superman</td>\n",
       "      <td>Action Adventure Fantasy Science Fiction</td>\n",
       "      <td>6.9</td>\n",
       "      <td>48.507081</td>\n",
       "      <td>saving the world journalist dc comics crime fi...</td>\n",
       "      <td>Mild-mannered Clark Kent works as a reporter a...</td>\n",
       "    </tr>\n",
       "    <tr>\n",
       "      <th>870</th>\n",
       "      <td>8536</td>\n",
       "      <td>Superman II</td>\n",
       "      <td>Action Adventure Fantasy Science Fiction</td>\n",
       "      <td>6.5</td>\n",
       "      <td>30.515175</td>\n",
       "      <td>saving the world dc comics sequel superhero ba...</td>\n",
       "      <td>Three escaped criminals from the planet Krypto...</td>\n",
       "    </tr>\n",
       "    <tr>\n",
       "      <th>46</th>\n",
       "      <td>127585</td>\n",
       "      <td>X-Men: Days of Future Past</td>\n",
       "      <td>Action Adventure Fantasy Science Fiction</td>\n",
       "      <td>7.5</td>\n",
       "      <td>118.078691</td>\n",
       "      <td>1970s mutant time travel marvel comic based on...</td>\n",
       "      <td>The ultimate X-Men ensemble fights a war for t...</td>\n",
       "    </tr>\n",
       "    <tr>\n",
       "      <th>14</th>\n",
       "      <td>49521</td>\n",
       "      <td>Man of Steel</td>\n",
       "      <td>Action Adventure Fantasy Science Fiction</td>\n",
       "      <td>6.5</td>\n",
       "      <td>99.398009</td>\n",
       "      <td>saving the world dc comics superhero based on ...</td>\n",
       "      <td>A young boy learns that he has extraordinary p...</td>\n",
       "    </tr>\n",
       "    <tr>\n",
       "      <th>1296</th>\n",
       "      <td>9531</td>\n",
       "      <td>Superman III</td>\n",
       "      <td>Comedy Action Adventure Fantasy Science Fiction</td>\n",
       "      <td>5.3</td>\n",
       "      <td>22.164202</td>\n",
       "      <td>saving the world dc comics super computer iden...</td>\n",
       "      <td>Aiming to defeat the Man of Steel, wealthy exe...</td>\n",
       "    </tr>\n",
       "    <tr>\n",
       "      <th>1652</th>\n",
       "      <td>14164</td>\n",
       "      <td>Dragonball Evolution</td>\n",
       "      <td>Action Adventure Fantasy Science Fiction Thriller</td>\n",
       "      <td>2.9</td>\n",
       "      <td>21.677732</td>\n",
       "      <td>karate superhero revenge dragon duringcreditss...</td>\n",
       "      <td>The young warrior Son Goku sets out on a quest...</td>\n",
       "    </tr>\n",
       "    <tr>\n",
       "      <th>419</th>\n",
       "      <td>8247</td>\n",
       "      <td>Jumper</td>\n",
       "      <td>Adventure Fantasy Science Fiction</td>\n",
       "      <td>5.9</td>\n",
       "      <td>21.218000</td>\n",
       "      <td>adolescence based on novel loss of child fight...</td>\n",
       "      <td>David Rice is a man who knows no boundaries, a...</td>\n",
       "    </tr>\n",
       "    <tr>\n",
       "      <th>420</th>\n",
       "      <td>11253</td>\n",
       "      <td>Hellboy II: The Golden Army</td>\n",
       "      <td>Adventure Fantasy Science Fiction</td>\n",
       "      <td>6.5</td>\n",
       "      <td>58.579760</td>\n",
       "      <td>auction northern ireland resignation superhero...</td>\n",
       "      <td>In this continuation to the adventure of the d...</td>\n",
       "    </tr>\n",
       "  </tbody>\n",
       "</table>\n",
       "</div>"
      ],
      "text/plain": [
       "          id                                      title  \\\n",
       "0      19995                                     Avatar   \n",
       "3494   27549  Beastmaster 2: Through the Portal of Time   \n",
       "813     1924                                   Superman   \n",
       "870     8536                                Superman II   \n",
       "46    127585                 X-Men: Days of Future Past   \n",
       "14     49521                               Man of Steel   \n",
       "1296    9531                               Superman III   \n",
       "1652   14164                       Dragonball Evolution   \n",
       "419     8247                                     Jumper   \n",
       "420    11253                Hellboy II: The Golden Army   \n",
       "\n",
       "                                                 genres  vote_average  \\\n",
       "0              Action Adventure Fantasy Science Fiction           7.2   \n",
       "3494           Action Adventure Fantasy Science Fiction           4.6   \n",
       "813            Action Adventure Fantasy Science Fiction           6.9   \n",
       "870            Action Adventure Fantasy Science Fiction           6.5   \n",
       "46             Action Adventure Fantasy Science Fiction           7.5   \n",
       "14             Action Adventure Fantasy Science Fiction           6.5   \n",
       "1296    Comedy Action Adventure Fantasy Science Fiction           5.3   \n",
       "1652  Action Adventure Fantasy Science Fiction Thriller           2.9   \n",
       "419                   Adventure Fantasy Science Fiction           5.9   \n",
       "420                   Adventure Fantasy Science Fiction           6.5   \n",
       "\n",
       "      popularity                                           keywords  \\\n",
       "0     150.437577  culture clash future space war space colony so...   \n",
       "3494    1.478505  based on novel time travel sequel psychotronic...   \n",
       "813    48.507081  saving the world journalist dc comics crime fi...   \n",
       "870    30.515175  saving the world dc comics sequel superhero ba...   \n",
       "46    118.078691  1970s mutant time travel marvel comic based on...   \n",
       "14     99.398009  saving the world dc comics superhero based on ...   \n",
       "1296   22.164202  saving the world dc comics super computer iden...   \n",
       "1652   21.677732  karate superhero revenge dragon duringcreditss...   \n",
       "419    21.218000  adolescence based on novel loss of child fight...   \n",
       "420    58.579760  auction northern ireland resignation superhero...   \n",
       "\n",
       "                                               overview  \n",
       "0     In the 22nd century, a paraplegic Marine is di...  \n",
       "3494  Mark Singer returns as Dar, the warrior who ca...  \n",
       "813   Mild-mannered Clark Kent works as a reporter a...  \n",
       "870   Three escaped criminals from the planet Krypto...  \n",
       "46    The ultimate X-Men ensemble fights a war for t...  \n",
       "14    A young boy learns that he has extraordinary p...  \n",
       "1296  Aiming to defeat the Man of Steel, wealthy exe...  \n",
       "1652  The young warrior Son Goku sets out on a quest...  \n",
       "419   David Rice is a man who knows no boundaries, a...  \n",
       "420   In this continuation to the adventure of the d...  "
      ]
     },
     "execution_count": 155,
     "metadata": {},
     "output_type": "execute_result"
    }
   ],
   "source": [
    "find_sim_movie(data, sorted_genre_sim, 'Avatar', 10) # 10개 추천해줘"
   ]
  },
  {
   "cell_type": "code",
   "execution_count": null,
   "id": "4e0c63f2",
   "metadata": {},
   "outputs": [],
   "source": []
  },
  {
   "cell_type": "code",
   "execution_count": null,
   "id": "bfa683ed",
   "metadata": {},
   "outputs": [],
   "source": []
  },
  {
   "cell_type": "code",
   "execution_count": null,
   "id": "99da3c29",
   "metadata": {},
   "outputs": [],
   "source": []
  },
  {
   "cell_type": "code",
   "execution_count": null,
   "id": "868727ae",
   "metadata": {},
   "outputs": [],
   "source": []
  }
 ],
 "metadata": {
  "kernelspec": {
   "display_name": "testenv",
   "language": "python",
   "name": "testenv"
  },
  "language_info": {
   "codemirror_mode": {
    "name": "ipython",
    "version": 3
   },
   "file_extension": ".py",
   "mimetype": "text/x-python",
   "name": "python",
   "nbconvert_exporter": "python",
   "pygments_lexer": "ipython3",
   "version": "3.8.17"
  }
 },
 "nbformat": 4,
 "nbformat_minor": 5
}
