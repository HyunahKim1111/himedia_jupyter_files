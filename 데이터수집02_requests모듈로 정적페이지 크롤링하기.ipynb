{
 "cells": [
  {
   "cell_type": "markdown",
   "id": "feaa3dd7",
   "metadata": {},
   "source": [
    "네이버 웹사이트의 Naver 책 페이지에서 원하는 분야의 키워드로 책을 검색한 후 <br>\n",
    "책 제목, 저자, 출판사, 출간일, 가격, ebook 가격, 소개 글을 수집 및 저장한다<br>\n",
    "라이브러리는 requests, BeautifulSoup4를 사용한다."
   ]
  },
  {
   "cell_type": "markdown",
   "id": "10b5b7e2",
   "metadata": {},
   "source": [
    "# 1.requests 모듈: HTTP 프로토콜을 사용할 수 있게 해주는 라이브러리\n",
    "* requests모듈 사용 설명서 https://requests.readthedocs.io/en/latest/"
   ]
  },
  {
   "cell_type": "markdown",
   "id": "6a5d5005",
   "metadata": {},
   "source": [
    "# 2. requests 모듈 설치: \n",
    "* conda install requests\n",
    "* pip install requests"
   ]
  },
  {
   "cell_type": "markdown",
   "id": "5e016686",
   "metadata": {},
   "source": [
    "아나콘다 프롬프트에서 가상환경 들어가기 : (base) C:\\Users\\hi>conda activate testenv"
   ]
  },
  {
   "cell_type": "markdown",
   "id": "82920585",
   "metadata": {},
   "source": [
    "# 3.모듈 불러오기: import requests"
   ]
  },
  {
   "cell_type": "code",
   "execution_count": 1,
   "id": "3a6ba2af",
   "metadata": {},
   "outputs": [],
   "source": [
    "import requests"
   ]
  },
  {
   "cell_type": "markdown",
   "id": "99804ca8",
   "metadata": {},
   "source": [
    "# 4.http 접근 요청 get\n",
    "* r=requests.get(url, parameters)"
   ]
  },
  {
   "cell_type": "markdown",
   "id": "27e6f495",
   "metadata": {},
   "source": [
    "# 5. url 파라미터: payload 변수에 딕셔너리 형태로 저장 후 params에 할당\n",
    "* r=requests.get(url, params=payload)"
   ]
  },
  {
   "cell_type": "markdown",
   "id": "005527d5",
   "metadata": {},
   "source": [
    "# 6. 만들어진 url 확인: print(r.url)\n",
    "* print(r.url)"
   ]
  },
  {
   "cell_type": "markdown",
   "id": "678e684a",
   "metadata": {},
   "source": [
    "# 7. header 값 넣기: header 변수에 딕셔너리 형태로 저장 후 headers에 할당\n",
    "* r=requests.get(url, params=payload, headers=header)"
   ]
  },
  {
   "cell_type": "markdown",
   "id": "68383091",
   "metadata": {},
   "source": [
    "# 8. 응답요소: text, json\n",
    "* r.text: text형태의 자료 받기\n",
    "* r.json: json 형태의 자료 받기"
   ]
  },
  {
   "cell_type": "markdown",
   "id": "0b637afe",
   "metadata": {},
   "source": [
    "# 9.응답코드: .status_code\n",
    "* 200:정상\n",
    "* 400: 클라이언트 오류 404 not found\n",
    "* 500: 서버오류\n",
    "* r.status_code"
   ]
  },
  {
   "cell_type": "code",
   "execution_count": 2,
   "id": "1248b340",
   "metadata": {},
   "outputs": [],
   "source": [
    "url = \"https://search.shopping.naver.com/book/search\" #사이트에 가야하니까!"
   ]
  },
  {
   "cell_type": "code",
   "execution_count": 3,
   "id": "97c81858",
   "metadata": {},
   "outputs": [
    {
     "name": "stdout",
     "output_type": "stream",
     "text": [
      "{'bookTabType': 'ALL', 'frm': 'NVSHSRC', 'pageIndex': 1, 'pageSize': 40, 'query': '파이썬', 'sort': 'REL'}\n"
     ]
    }
   ],
   "source": [
    "# https://search.shopping.naver.com/search/all?query=%ED%8C%8C%EC%9D%B4%EC%8D%AC&cat_id=&frm=NVSHATC url 뒤에 오는 파라미터들을 dict로 변경\n",
    "payload = dict(bookTabType='ALL', frm='NVSHSRC', pageIndex=1, pageSize=40, query='파이썬', sort='REL')\n",
    "#dict함수로 할당이 가능하도록 딕셔너리 만들 때는 할 때 문자는 ''로 감싸줘야 해.\n",
    "print(payload)"
   ]
  },
  {
   "cell_type": "code",
   "execution_count": 4,
   "id": "d32482ec",
   "metadata": {
    "scrolled": true
   },
   "outputs": [
    {
     "name": "stdout",
     "output_type": "stream",
     "text": [
      "https://search.shopping.naver.com/book/search?bookTabType=ALL&frm=NVSHSRC&pageIndex=1&pageSize=40&query=%ED%8C%8C%EC%9D%B4%EC%8D%AC&sort=REL\n",
      "200\n"
     ]
    }
   ],
   "source": [
    "r = requests.get(url, params=payload) #url완성\n",
    "print(r.url)\n",
    "print(r.status_code) #요청이 제대로 됐는지 확인"
   ]
  },
  {
   "cell_type": "code",
   "execution_count": 5,
   "id": "d7c10d26",
   "metadata": {},
   "outputs": [],
   "source": [
    "response = r.text #html을 가장한 문자열 (문자열로 저장된 내용물을 볼 수 있음.)"
   ]
  },
  {
   "cell_type": "code",
   "execution_count": 6,
   "id": "8c8a5ba4",
   "metadata": {
    "scrolled": true
   },
   "outputs": [
    {
     "data": {
      "text/plain": [
       "'<!DOCTYPE html><html lang=\"ko\"><head><meta charSet=\"utf-8\"/><meta http-equiv=\"Cache-Control\" content=\"no-cache, no-store, must-revalidate\"/><meta name=\"viewport\" content=\"width=device-width, initial-scale=1, shrink-to-fit=no, minimum-scale=1.0, maximum-scale=1.0, user-scalable=no\"/><title>파이썬 : 네이버 도서</title><link rel=\"shortcut icon\" href=\"https://ssl.pstatic.net/shoppingsearch/static/book-search/book-search-230907-104544/img/favicon.ico\"/><link rel=\"apple-touch-icon\" href=\"https://ssl.pstatic.net/shoppingsearch/static/book-search/book-search-230907-104544/img/favicon_180.png\"/><meta property=\"og:title\" content=\"파이썬 : 네이버 도서\"/><meta property=\"og:description\" content=\"&#x27;파이썬&#x27;의 네이버 도서 검색 결과입니다.\"/><meta property=\"og:image\" content=\"https://ssl.pstatic.net/imgshopping/static/mo2014/icon/og_shopping_v2.png\"/><meta property=\"og:url\" content=\"https://search.shopping.naver.com/book/search?query=%ED%8C%8C%EC%9D%B4%EC%8D%AC\"/><meta name=\"next-head-count\" content=\"10\"/><link rel=\"preconnect\" href=\"https://static.nid.naver.com\"/><link rel=\"preconnect\" href=\"https://lcs.naver.com\"/><link rel=\"preconnect\" href=\"http://shopping.phinf.naver.net\"/><link rel=\"preconnect\" href=\"https://ssl.pstatic.net\"/><link rel=\"preconnect\" href=\"https://shopping-phinf.pstatic.net\"/><link rel=\"preconnect\" href=\"https://volts.shopping.naver.com\"/><link rel=\"preload\" href=\"https://ssl.pstatic.net/shoppingsearch/static/book-search/book-search-230907-104544/_next/static/css/6f981f51784e4102.css\" as=\"style\"/><link rel=\"stylesheet\" href=\"https://ssl.pstatic.net/shoppingsearch/static/book-search/book-search-230907-104544/_next/static/css/6f981f51784e4102.css\" data-n-g=\"\"/><link rel=\"preload\" href=\"https://ssl.pstatic.net/shoppingsearch/static/book-search/book-search-230907-104544/_next/static/css/585039363cbfcb1a.css\" as=\"style\"/><link rel=\"stylesheet\" href=\"https://ssl.pstatic.net/shoppingsearch/static/book-search/book-search-230907-104544/_next/static/css/585039363cbfcb1a.css\" data-n-p=\"\"/><link rel=\"preload\" href=\"https://ssl.pstatic.net/shoppingsearch/static/book-search/book-search-230907-104544/_next/static/css/1b0cdee5d7bbbd78.css\" as=\"style\"/><link rel=\"stylesheet\" href=\"https://ssl.pstatic.net/shoppingsearch/static/book-search/book-search-230907-104544/_next/static/css/1b0cdee5d7bbbd78.css\" data-n-p=\"\"/><link rel=\"preload\" href=\"https://ssl.pstatic.net/shoppingsearch/static/book-search/book-search-230907-104544/_next/static/css/c0b0c54e7553b563.css\" as=\"style\"/><link rel=\"stylesheet\" href=\"https://ssl.pstatic.net/shoppingsearch/static/book-search/book-search-230907-104544/_next/static/css/c0b0c54e7553b563.css\" data-n-p=\"\"/><link rel=\"preload\" href=\"https://ssl.pstatic.net/shoppingsearch/static/book-search/book-search-230907-104544/_next/static/css/6ae063deaa19c1d7.css\" as=\"style\"/><link rel=\"stylesheet\" href=\"https://ssl.pstatic.net/shoppingsearch/static/book-search/book-search-230907-104544/_next/static/css/6ae063deaa19c1d7.css\" data-n-p=\"\"/><noscript data-n-css=\"\"></noscript><script defer=\"\" nomodule=\"\" src=\"https://ssl.pstatic.net/shoppingsearch/static/book-search/book-search-230907-104544/_next/static/chunks/polyfills-5cd94c89d3acac5f.js\"></script><script src=\"https://ssl.pstatic.net/shoppingsearch/static/book-search/book-search-230907-104544/_next/static/chunks/webpack-0871768afe454a2c.js\" defer=\"\"></script><script src=\"https://ssl.pstatic.net/shoppingsearch/static/book-search/book-search-230907-104544/_next/static/chunks/framework-d136e45277b15cbf.js\" defer=\"\"></script><script src=\"https://ssl.pstatic.net/shoppingsearch/static/book-search/book-search-230907-104544/_next/static/chunks/main-d21d32a3a7973bed.js\" defer=\"\"></script><script src=\"https://ssl.pstatic.net/shoppingsearch/static/book-search/book-search-230907-104544/_next/static/chunks/pages/_app-6ede34ae0a2bb090.js\" defer=\"\"></script><script src=\"https://ssl.pstatic.net/shoppingsearch/static/book-search/book-search-230907-104544/_next/static/chunks/bf77ac6b-fe0e288b9d696158.js\" defer=\"\"></script><script src=\"https://ssl.pstatic.net/shoppingsearch/static/book-search/book-search-230907-104544/_next/static/chunks/07538b86-fc9e2abd8e8e83c5.js\" defer=\"\"></script><script src=\"https://ssl.pstatic.net/shoppingsearch/static/book-search/book-search-230907-104544/_next/static/chunks/830-c79a5d6a905be5a6.js\" defer=\"\"></script><script src=\"https://ssl.pstatic.net/shoppingsearch/static/book-search/book-search-230907-104544/_next/static/chunks/23-ad94b9dec3c08091.js\" defer=\"\"></script><script src=\"https://ssl.pstatic.net/shoppingsearch/static/book-search/book-search-230907-104544/_next/static/chunks/702-d693299f3ed850a7.js\" defer=\"\"></script><script src=\"https://ssl.pstatic.net/shoppingsearch/static/book-search/book-search-230907-104544/_next/static/chunks/360-a15dff57b934d98b.js\" defer=\"\"></script><script src=\"https://ssl.pstatic.net/shoppingsearch/static/book-search/book-search-230907-104544/_next/static/chunks/383-cead46c32591e01a.js\" defer=\"\"></script><script src=\"https://ssl.pstatic.net/shoppingsearch/static/book-search/book-search-230907-104544/_next/static/chunks/pages/index-ac4b49a6f4ff5667.js\" defer=\"\"></script><script src=\"https://ssl.pstatic.net/shoppingsearch/static/book-search/book-search-230907-104544/_next/static/0SucNVGzqOeLGp7KTzr1w/_buildManifest.js\" defer=\"\"></script><script src=\"https://ssl.pstatic.net/shoppingsearch/static/book-search/book-search-230907-104544/_next/static/0SucNVGzqOeLGp7KTzr1w/_ssgManifest.js\" defer=\"\"></script><script src=\"https://ssl.pstatic.net/shoppingsearch/static/book-search/book-search-230907-104544/_next/static/0SucNVGzqOeLGp7KTzr1w/_middlewareManifest.js\" defer=\"\"></script></head><body><div id=\"__next\" data-reactroot=\"\"><div id=\"wrap\" class=\"style_wrap__9MMLu pc_type\"><div class=\"_gnb_gnb_2C24o\" id=\"gnb-gnb\"><div id=\"u_skip\" class=\"_gnb_skip_navigation_3S3aO\"><button class=\"_gnb_link_3K4IH\"><span class=\"_gnb_text_3gc0U\">메인 메뉴로 바로가기</span></button><button class=\"_gnb_link_3K4IH\" data-vertical=\"BOOK\" data-id=\"content\"><span class=\"_gnb_text_3gc0U\">본문으로 바로가기</span></button></div><div class=\"_gnb_header_area_150KE\"><div class=\"header_fix \"><div class=\"_gnbHeader_gnb_header_aiw0M\"><div class=\"_gnbHeader_header_inner_2hQhW\"><div class=\"_gnbHeader_main_site_2NLsV\"><a href=\"https://www.naver.com\" class=\"_gnbHeader_link_naver_27gfm _gnbHeader_link_wW48B N=a:GNB.naver\" title=\"나의 경쟁력, 네이버\"><span class=\"blind \">NAVER</span></a><a href=\"https://new-m.pay.naver.com/pcpay?page=1\" class=\"_gnbHeader_link_npay_p3s_q _gnbHeader_link_wW48B N=a:GNB.naverpay\" title=\"네이버 아이디로 간편구매, 네이버페이\"><span class=\"blind \">네이버페이</span></a></div><div class=\"_gnbHeader_shopping_gnb_wrap_1GW-y\"><a href=\"https://shopping.naver.com/cart?frm=gnb\" class=\"_gnbHeader_link_basket_3VW4Q N=a:GNB.cart\"><span class=\"_gnbHeader_icon_area_1BEtH\"><svg width=\"19\" height=\"19\" viewBox=\"0 0 19 19\" fill=\"none\" class=\"_gnbHeader_icon_3CZKN\"><mask id=\"iconGradationBasket_19x19_white_svg__jewnKMQuxta\" maskUnits=\"userSpaceOnUse\" x=\"-0.944\" y=\"0.583\" width=\"20\" height=\"19\" fill=\"#000\"><path fill=\"#fff\" d=\"M-.944.583h20v19h-20z\"></path><path fill-rule=\"evenodd\" clip-rule=\"evenodd\" d=\"M9.493 1.583a4.004 4.004 0 00-4.004 4.004v.747H2.191c-.731 0-1.272.67-1.105 1.37l2.265 9.502a.97.97 0 00.948.739h10.402a.97.97 0 00.948-.74l2.265-9.501c.167-.7-.373-1.37-1.105-1.37h-3.312v-.747a4.004 4.004 0 00-4.004-4.003zm2.948 4.75v-.746a2.948 2.948 0 10-5.897 0v.747h5.898z\"></path></mask><path fill-rule=\"evenodd\" clip-rule=\"evenodd\" d=\"M9.493 1.583a4.004 4.004 0 00-4.004 4.004v.747H2.191c-.731 0-1.272.67-1.105 1.37l2.265 9.502a.97.97 0 00.948.739h10.402a.97.97 0 00.948-.74l2.265-9.501c.167-.7-.373-1.37-1.105-1.37h-3.312v-.747a4.004 4.004 0 00-4.004-4.003zm2.948 4.75v-.746a2.948 2.948 0 10-5.897 0v.747h5.898z\" fill=\"#fff\"></path><path d=\"M14.382 6.833a.5.5 0 100-1v1zm-.885-1a.5.5 0 100 1v-1zm.885 0h-.885v1h.885v-1zm-8.893.5v1a1 1 0 001-1h-1zm-4.403 1.37l-.973.233.973-.232zm2.265 9.503l.973-.232-.973.232zm12.298 0l.973.232-.973-.232zm2.265-9.502l-.973-.232.973.232zm-4.417-1.37h-1a1 1 0 001 1v-1zm-1.056 0v1a1 1 0 001-1h-1zm-5.897 0h-1a1 1 0 001 1v-1zm-.055-.747a3.004 3.004 0 013.004-3.003v-2a5.004 5.004 0 00-5.004 5.003h2zm0 .747v-.747h-2v.747h2zm-1.43 1h.43v-2h-.43v2zm-2.868 0h2.868v-2H2.19v2zm-.132.138a.096.096 0 01.021-.088c.024-.03.06-.05.11-.05v-2C.837 5.334-.207 6.586.114 7.936l1.946-.464zm2.265 9.502L2.06 7.472l-1.946.464 2.266 9.502 1.945-.464zm-.025-.03h.002l.002.001.006.004a.038.038 0 01.008.009c.003.004.006.01.007.016l-1.945.464a1.97 1.97 0 001.92 1.507v-2zm10.402 0H4.299v2h10.402v-2zm-.025.03a.053.053 0 01.007-.016.038.038 0 01.008-.01.024.024 0 01.006-.003h.003v2a1.97 1.97 0 001.922-1.507l-1.946-.464zm2.265-9.502l-2.265 9.502 1.946.464 2.265-9.502-1.946-.464zm-.132-.138c.051 0 .087.02.111.05a.096.096 0 01.021.088l1.946.464c.322-1.35-.722-2.602-2.078-2.602v2zm-3.312 0h3.312v-2h-3.312v2zm-1-1.747v.747h2v-.747h-2zM9.493 2.584a3.004 3.004 0 013.004 3.003h2A5.004 5.004 0 009.493.583v2zm3.948 3.75v-.747h-2v.747h2zm0-.747A3.948 3.948 0 009.493 1.64v2c1.076 0 1.948.872 1.948 1.948h2zM9.493 1.64a3.948 3.948 0 00-3.949 3.948h2c0-1.076.873-1.948 1.949-1.948v-2zM5.544 5.587v.747h2v-.747h-2zm1 1.747h.146v-2h-.146v2zm.146 0h1.313v-2H6.69v2zm1.313 0h2.944v-2H8.003v2zm2.944 0h1.365v-2h-1.365v2zm1.365 0h.13v-2h-.13v2z\" fill=\"#000\" fill-opacity=\"0.1\" mask=\"url(#iconGradationBasket_19x19_white_svg__jewnKMQuxta)\"></path></svg></span>장바구니</a><div id=\"gnb\" class=\"gnb_dark_type2\" style=\"display:inline-block;vertical-align:top\"></div></div></div></div><div class=\"_gnbLogo_gnb_logo_3eIAf\"><div class=\"_gnbLogo_inner_12QAI\"><h1 class=\"_gnbLogo_title_1xWf-\"><a href=\"https://shopping.naver.com\" class=\"_gnbLogo_link_naver_15bLF N=a:SNB.home\"><span class=\"blind \">네이버 쇼핑</span></a></h1><div class=\"_gnbLogo_live_area_tayLB\"><a href=\"https://shoppinglive.naver.com\" class=\"_gnbLogo_link_live_3WczV\"><span class=\"blind N=a:SNB.shoppinglive\">쇼핑LIVE</span></a></div><div class=\"_gnbSearch_gnb_search_3O1L2\"><h2 class=\"blind \">검색영역</h2><form name=\"search\" method=\"get\"><div class=\"_gnbSearch_inner_2Zksb\"><div class=\"_searchInput_search_input_QXUFf\"><input type=\"text\" class=\"_searchInput_search_text_3CUDs\" title=\"검색어 입력\" value=\"\"/><button type=\"button\" class=\"_searchInput_button_search_auto_3pWbK\"><span class=\"_searchInput_more_28Bh5\"><span class=\"blind \">자동완성 펼치기</span></span></button><div class=\"_searchInput_layer_tooltip_1IU-p\"><span class=\"_searchInput_inner_3yZXf\">자동완성 펼치기</span></div><button type=\"button\" class=\"_searchInput_button_search_1n1aw\"><svg width=\"50\" height=\"34\" viewBox=\"0 0 50 34\" fill=\"none\" class=\"_searchInput_icon_DaIWa\"><path fill=\"#00C73C\" stroke=\"#00A030\" d=\"M.5.5h49v33H.5z\"></path><g filter=\"url(#iconMagnifierBox_50x34_green_svg__filter0_d_4_5922)\" stroke=\"#fff\" stroke-width=\"2\"><path d=\"M28 20l6 5\"></path><circle cx=\"23.5\" cy=\"15.5\" r=\"6.5\"></circle></g><defs><filter id=\"iconMagnifierBox_50x34_green_svg__filter0_d_4_5922\" x=\"14\" y=\"6\" width=\"22.64\" height=\"21.768\" filterUnits=\"userSpaceOnUse\" color-interpolation-filters=\"sRGB\"><feFlood flood-opacity=\"0\" result=\"BackgroundImageFix\"></feFlood><feColorMatrix in=\"SourceAlpha\" values=\"0 0 0 0 0 0 0 0 0 0 0 0 0 0 0 0 0 0 127 0\" result=\"hardAlpha\"></feColorMatrix><feOffset></feOffset><feGaussianBlur stdDeviation=\"1\"></feGaussianBlur><feComposite in2=\"hardAlpha\" operator=\"out\"></feComposite><feColorMatrix values=\"0 0 0 0 0 0 0 0 0 0 0 0 0 0 0 0 0 0 0.35 0\"></feColorMatrix><feBlend in2=\"BackgroundImageFix\" result=\"effect1_dropShadow_4_5922\"></feBlend><feBlend in=\"SourceGraphic\" in2=\"effect1_dropShadow_4_5922\" result=\"shape\"></feBlend></filter></defs></svg><span class=\"blind \">네이버쇼핑 검색</span></button></div></div><div class=\"_detailSearch_detail_search_mlvXq\"><button type=\"button\" class=\"_detailSearch_btn_detail_1Jdn- N=a:SNB.detailsearch\"><span class=\"_detailSearch_text_2bu_A\">상세검색</span><span class=\"_detailSearch_more_1IwfB\">접기</span></button></div></form></div><div class=\"_categoryButton_category_button_1lIOy\"><button type=\"button\" class=\"_categoryButton_category_3_5ml N=a:SNB.category\"><svg width=\"107\" height=\"26\" viewBox=\"0 0 107 26\" fill=\"none\" class=\"_categoryButton_icon_1Yw91\"><rect x=\"0.5\" y=\"0.5\" width=\"106\" height=\"25\" rx=\"1.5\" stroke=\"#fff\" stroke-opacity=\"0.3\"></rect><path d=\"M19.108 12.032h.576c.288 0 .624 0 .912-.048v1.272c-.276-.048-.636-.048-.912-.048h-.576v3.78c0 .54 0 1.068.048 1.608h-1.392c.048-.54.06-1.068.06-1.608V9.476c0-.54-.012-1.068-.06-1.608h1.392c-.048.54-.048 1.068-.048 1.608v2.556zM12.292 9.62c-.396 0-.684 0-1.08.048V8.492c.396.048.684.048 1.08.048h3.936c-.024 1.62-.396 3.024-1.02 4.236-.828 1.608-2.088 2.868-3.564 3.84a8.06 8.06 0 00-1.104-.876c1.404-.732 2.904-2.112 3.468-3.372-.888.096-1.92.132-3.156.132v-1.044c1.356 0 2.784-.048 3.612-.144.156-.468.276-1.236.324-1.692h-2.496zM26.637 12.596h-.684c-.192 0-.444 0-.636.048v-1.32c.204.048.456.048.66.048h.66V9.668c0-.54-.012-1.068-.048-1.608h1.332c-.036.54-.036 1.068-.036 1.608v6.816c0 .54 0 1.068.036 1.608h-1.332c.036-.54.048-1.068.048-1.608v-3.888zm3.312 4.392c0 .54 0 1.068.048 1.608H28.64c.048-.54.06-1.068.06-1.608v-7.5c0-.54-.012-1.068-.06-1.608h1.356c-.048.54-.048 1.068-.048 1.608v7.5zm-8.616-7.284c0-.408 0-.828-.06-1.236h2.988c.312 0 .588 0 .9-.036v1.2c-.312-.048-.588-.036-.9-.036h-1.656V11.6h2.376v1.128h-2.376V14.9c.06 0 .924.024 1.764-.036.612-.036 1.248-.096 1.548-.168V15.8c-.3.06-.924.12-1.572.168-1.128.096-2.916.084-3.012.084V9.704zM32.617 17.408c-.624 0-1.212 0-1.836.048v-1.224c.624.048 1.212.048 1.836.048h1.716v-2.94c0-.336 0-.72-.048-1.056h1.404c-.048.312-.048.744-.048 1.056v2.94h3.336c.624 0 1.212 0 1.836-.048v1.224c-.624-.048-1.212-.048-1.836-.048h-6.36zm.6-7.824c-.504 0-.864 0-1.368.048V8.42c.504.048.864.048 1.368.048h6.396c-.084 1.848-.372 4.536-.72 6.384H37.61c.312-1.692.552-3.588.612-5.268h-5.004zM45.582 9.56H42.93c-.396 0-.684 0-1.08.048V8.384c.396.048.684.048 1.08.048h3.984c-.048.36-.048.672-.048 1.032v3.324h-3.732v2.184h1.908c.924 0 2.532-.168 3.252-.3V15.8c-.744.108-2.448.3-3.84.312l-2.604.012v-4.44h3.732V9.56zm4.524 7.416c0 .54 0 1.068.048 1.608H48.75c.048-.54.06-1.068.06-1.608V9.488c0-.54-.012-1.068-.06-1.608h1.404c-.048.54-.048 1.068-.048 1.608v7.488zM61.567 12.524h-1.98c-.276 0-.612 0-.888.048v-1.224c.288.048.624.048.912.048h1.956V9.488c0-.54-.012-1.068-.06-1.608h1.404c-.048.54-.048 1.068-.048 1.608v7.5c0 .54 0 1.068.048 1.608h-1.404c.048-.54.06-1.068.06-1.608v-4.464zm-5.604-2.856v5.22l1.164-.012c1.176-.012 3.324-.3 3.54-.336v1.116c-.336.048-2.496.36-4.08.372l-1.908.012V9.788c0-.408 0-.828-.06-1.236h3.876c.396 0 .744 0 1.14-.036v1.188c-.396-.048-.744-.036-1.14-.036h-2.532zM69.647 14.096v2.184h2.52c.624 0 1.212 0 1.836-.048v1.224c-.624-.048-1.212-.048-1.836-.048h-6.36c-.624 0-1.212 0-1.836.048v-1.224c.624.048 1.212.048 1.836.048h2.496v-2.184h-3.048v-4.68c0-.432-.012-.792-.06-1.224h1.416c-.048.432-.06.792-.06 1.224v.528h4.86v-.528c0-.432-.012-.792-.06-1.224h1.416c-.048.432-.06.792-.06 1.224v4.68h-3.06zm1.764-1.128V11.06h-4.86v1.908h4.86zM76.168 9.656c-.396 0-.684 0-1.08.048V8.48c.396.048.684.048 1.08.048h4.02c-.024 1.548-.36 3.024-1.056 4.356-.768 1.476-1.932 2.76-3.528 3.72a8.397 8.397 0 00-1.104-.864c1.416-.744 2.496-1.716 3.216-2.856.6-.96.948-2.052 1.02-3.228h-2.568zm7.26 7.332c0 .54 0 1.068.048 1.608h-1.404c.048-.54.06-1.068.06-1.608v-7.5c0-.54-.012-1.068-.06-1.608h1.404c-.048.54-.048 1.068-.048 1.608v7.5zM97 12h-6l3 3 3-3z\" fill=\"#fff\"></path></svg><span class=\"blind \">카테고리 더보기</span></button></div><div class=\"_siteButton_site_button_mUZWX\"><a href=\"https://search.shopping.naver.com/best/home\" class=\"_siteButton_link_best_3Y9cW _siteButton_link_3vUut N=a:SNB.best100\"><svg width=\"60\" height=\"14\" viewBox=\"0 0 60 14\" class=\"_siteButton_text_icon_2KCsd\"><path d=\"M10.542 7.394l.826-1.26c-1.904-.322-4.452-1.946-4.452-4.13v-.728H5.208v.728c0 2.212-2.408 3.78-4.438 4.074.252.448.504.882.77 1.316 1.708-.35 3.864-1.652 4.508-3.332.714 1.666 2.786 2.954 4.494 3.332zm1.148 4.158v-1.288H8.876v-2.66H7.238v2.66H4.816v-2.66H3.178v2.66H.42v1.288h11.27zm11.158-3.486V.632H21.21v7.434h1.638zm-2.954-5.152V1.612h-6.93v1.302h6.93zm.476 4.41l-.126-1.232c-.56.07-1.092.126-1.652.182l.104-.882.19-1.764c-.532-.042-1.05-.098-1.582-.154l-.14 2.898c-.518.014-1.022.028-1.54.028-.042-.966-.112-1.946-.14-2.926l-1.624.168c.112.938.196 1.862.294 2.772h-1.61c.084.462.14.91.224 1.358 2.576.014 5.754-.126 7.602-.448zm-1.806 5.684c2.772 0 4.382-.896 4.382-2.352 0-1.484-1.61-2.38-4.382-2.38-2.758 0-4.354.896-4.354 2.38 0 1.456 1.596 2.352 4.354 2.352zm0-1.302c-1.68 0-2.688-.378-2.688-1.05 0-.7 1.008-1.078 2.688-1.078 1.708 0 2.702.378 2.702 1.078 0 .672-.994 1.05-2.702 1.05zm12.924.258c2.184 0 3.206-1.008 3.206-2.66v-.35c0-1.4-.826-2.114-2.058-2.296 1.204-.294 1.596-1.148 1.596-2.03v-.294c0-1.652-1.036-2.464-3.178-2.464h-3.92v10.094h4.354zM30.4 5.986h-1.488V3.354h1.372c1.512 0 2.128.224 2.128 1.078v.252c0 1.208-.72 1.296-2.012 1.302zm.136 4.494h-1.624V7.442h1.358c1.918 0 2.59.308 2.59 1.358v.308c0 1.19-.742 1.372-2.324 1.372zm12.246 1.484V10.48h-4.816V7.526h4.424V6.07h-4.424V3.354h4.718V1.87h-6.496v10.094h6.594zm4.896.154c1.96 0 3.71-.7 3.71-2.954v-.182c0-1.386-.798-2.366-3.178-2.898-1.19-.266-2.184-.406-2.184-1.386V4.53c0-.546.588-1.218 1.862-1.218.812 0 1.47.098 2.282.63l.84-1.386c-1.022-.658-2.044-.84-3.15-.84-2.73 0-3.612 1.624-3.612 2.842v.182c0 2.338 1.89 2.632 3.57 2.996 1.148.252 1.778.602 1.778 1.414v.154c0 .686-.56 1.204-1.834 1.204-1.204 0-2.212-.462-2.828-.98l-.868 1.428c.784.644 2.156 1.162 3.612 1.162zm9.152-.154V3.382h2.954V1.87H52.07v1.512h2.968v8.582h1.792z\" fill=\"#FFF\" fill-rule=\"nonzero\"></path></svg><span class=\"blind \">쇼핑 BEST</span></a></div><div class=\"_myButton_my_button_1GyxC\"><button type=\"button\" class=\"_myButton_button_2646r N=a:SNB.m.shoppingmy\"><svg width=\"12\" height=\"12\" viewBox=\"0 0 12 12\" class=\"_myButton_icon_2H5fU\"><path d=\"M11.29 9.642l-.001-.022v-.042l-.002-.004a.79.79 0 00-.377-.605l-.004-.006-3.352-1.936v-.693A2.48 2.48 0 008.61 4.3V3.083A2.47 2.47 0 006.146.605a2.47 2.47 0 00-2.464 2.478V4.3c0 .842.417 1.586 1.056 2.034v.693l-3.35 1.934-.002.004A.786.786 0 001 9.641c0 .02.002.04.003.059v1.8h10.286V9.641h0z\" stroke=\"#FFF\" fill=\"none\" fill-rule=\"evenodd\"></path></svg><svg width=\"45\" height=\"14\" viewBox=\"0 0 45 14\" class=\"_myButton_text_icon_3L7su\"><path d=\"M10.542 7.394l.826-1.26c-1.904-.322-4.452-1.946-4.452-4.13v-.728H5.208v.728c0 2.212-2.408 3.78-4.438 4.074.252.448.504.882.77 1.316 1.708-.35 3.864-1.652 4.508-3.332.714 1.666 2.786 2.954 4.494 3.332zm1.148 4.158v-1.288H8.876v-2.66H7.238v2.66H4.816v-2.66H3.178v2.66H.42v1.288h11.27zm10.158-3.486V.632H20.21v7.434h1.638zm-2.954-5.152V1.612h-6.93v1.302h6.93zm.476 4.41l-.126-1.232c-.56.07-1.092.126-1.652.182l.104-.882.19-1.764c-.532-.042-1.05-.098-1.582-.154l-.14 2.898c-.518.014-1.022.028-1.54.028-.042-.966-.112-1.946-.14-2.926l-1.624.168c.112.938.196 1.862.294 2.772h-1.61c.084.462.14.91.224 1.358 2.576.014 5.754-.126 7.602-.448zm-1.806 5.684c2.772 0 4.382-.896 4.382-2.352 0-1.484-1.61-2.38-4.382-2.38-2.758 0-4.354.896-4.354 2.38 0 1.456 1.596 2.352 4.354 2.352zm0-1.302c-1.68 0-2.688-.378-2.688-1.05 0-.7 1.008-1.078 2.688-1.078 1.708 0 2.702.378 2.702 1.078 0 .672-.994 1.05-2.702 1.05zm9.236.258V3.438c.238.728.378 1.176.518 1.526l2.086 5.32h1.428l2.114-5.32c.126-.364.266-.686.476-1.526v8.526h1.694V1.87H32.54l-2.38 6.272-2.478-6.272h-2.548v10.094H26.8zm14.382 0v-3.99L44.64 1.87h-1.96l-2.352 4.452-2.394-4.452h-2.002l3.458 6.104v3.99h1.792z\" fill=\"#FFF\" fill-rule=\"nonzero\"></path></svg><span class=\"blind \">쇼핑MY</span></button></div></div></div><div id=\"lnb\" class=\"_lnb_lnb_wrap_2q1Hz\"><div class=\"_lnb_lnb__0v-g\"><h2 class=\"blind \">메인 메뉴</h2><div class=\"_lnb_menu_area_2FZGN _lnb_have_search_D5xhp\"><ul class=\"_lnb_menu_1BTuI\" style=\"margin-left:0\"><li class=\"_lnb_lnb_home_2Z1pi\"><a href=\"https://shopping.naver.com/home\" class=\"N=a:LNB.home\"><span class=\"_lnb_text_3f3tB\"><span class=\"blind \">홈</span></span></a></li><li class=\"_lnb_lnb_logistics_1FG4U\"><a href=\"https://shopping.naver.com/logistics/home\" class=\"N=a:LNB.logistics\"><span class=\"_lnb_text_3f3tB\"><span class=\"blind \">도착보장</span></span><i class=\"_lnb_lnb_beta_2qg3j\"><svg width=\"15\" height=\"8\" viewBox=\"0 0 15 8\" fill=\"none\" class=\"_lnb_icon_1iCPm\"><path d=\"M6.388 1.44a1.744 1.744 0 01-.512 1.024c-.256.288-.672.512-1.184.704.384.224.64.448.768.768.128.288.16.672.064 1.12-.064.32-.16.64-.32.896s-.32.512-.544.704c-.224.192-.448.352-.704.448-.256.096-.544.16-.832.16-.256 0-.512-.032-.672-.128-.192-.096-.384-.288-.576-.544L1.396 8H.5l1.984-5.568c.256-.8.64-1.408 1.088-1.824C4.02.192 4.532 0 5.108 0c.48 0 .8.128 1.056.416.224.256.288.608.224 1.024zM5.3 1.056C5.236.928 5.076.864 4.884.864c-.288 0-.544.128-.8.384-.224.256-.416.608-.608 1.056L2.292 5.408c-.032.064-.032.128 0 .256 0 .096.032.192.064.256.064.16.16.288.32.384.16.096.32.128.544.128.352 0 .64-.128.896-.384s.384-.576.48-.992c.064-.384 0-.704-.16-.96a.837.837 0 00-.8-.352h-.224l.256-.864h.352c.32 0 .608-.128.896-.352.224-.288.384-.576.448-.928.032-.224.032-.416-.064-.544zm3.936 4.16l-.032.128H6.772l-.032.096c-.032.192-.032.384-.032.512.032.16.064.256.128.352.064.096.16.16.288.224.128.032.256.064.448.064s.384-.032.544-.096c.16-.064.352-.16.512-.256l.224.48c-.224.16-.448.288-.704.384a2.151 2.151 0 01-.768.128c-.288 0-.544-.064-.768-.16a1.283 1.283 0 01-.48-.448c-.128-.192-.192-.416-.224-.672a2.455 2.455 0 01.032-.832c.064-.32.128-.608.256-.864s.288-.48.448-.672c.16-.192.384-.32.608-.416.224-.096.448-.16.704-.16.256 0 .48.032.672.128.192.096.32.224.448.416.096.192.16.416.192.672.064.32.032.64-.032.992zm-.768-1.248c-.064-.096-.128-.192-.224-.224a.54.54 0 00-.32-.096c-.128 0-.256.032-.384.064-.096.032-.192.128-.288.192-.096.096-.16.224-.224.352-.064.128-.096.32-.128.48h1.6c.032-.16.032-.32.032-.448 0-.096-.032-.192-.064-.32zm3.424-.832l-.256.64c-.16 0-.288-.032-.384-.032h-.384l-.384 2.272c-.064.16-.064.288-.064.352s.032.16.096.224c.032.032.064.064.128.064s.128.032.192 0c.064 0 .16 0 .224-.032.064 0 .128-.032.192-.064v.512a1.355 1.355 0 01-.384.128c-.128.032-.256.032-.384.032-.16 0-.32-.032-.416-.064a.466.466 0 01-.288-.192c-.064-.096-.128-.192-.128-.32-.032-.128 0-.288 0-.448l.448-2.496h-.448l.096-.576h.448a.886.886 0 00.032-.288c0-.096.032-.192.032-.256 0-.096.032-.16.032-.256s.032-.16.032-.224l.896-.128a3.869 3.869 0 00-.16.576c-.032.192-.064.384-.128.576h.448c.16.032.32 0 .512 0zm2.944 1.504l-.256 1.216c-.032.128-.032.224-.064.32V6.4c0 .096.032.16.064.224a.848.848 0 00.16.192l-.48.512a.498.498 0 01-.256-.192c-.064-.096-.128-.192-.16-.352-.16.16-.352.288-.576.384a1.525 1.525 0 01-.64.128c-.192 0-.384-.032-.512-.064a.953.953 0 01-.352-.224.73.73 0 01-.192-.384 1.374 1.374 0 010-.512c.032-.224.128-.416.224-.608.096-.16.256-.32.448-.448.16-.096.384-.192.64-.256s.544-.096.864-.096h.32l.032-.256c.032-.128.032-.256.032-.352 0-.096-.032-.16-.064-.224s-.096-.096-.192-.128c-.064-.032-.16-.032-.256-.032-.192 0-.384.032-.608.096-.192.064-.416.192-.64.32l-.256-.544c.128-.096.288-.16.448-.224.16-.064.288-.128.448-.16.16-.032.288-.064.416-.096s.288-.032.416-.032c.224 0 .416.032.576.096.16.064.256.16.352.288.064.128.128.288.128.48.032.192 0 .416-.064.704zm-1.024.608h-.096c-.192 0-.384.032-.544.064-.16.032-.288.096-.384.16a.974.974 0 00-.256.256 1.146 1.146 0 00-.128.352.444.444 0 000 .288c0 .096.032.16.096.192.032.064.096.096.16.128s.16.032.256.032c.16 0 .32-.032.48-.096.16-.064.288-.192.416-.32l.16-.992c-.064-.064-.096-.064-.16-.064z\" fill=\"#959595\"></path></svg><span class=\"blind \">베타</span></i></a></li><li class=\"_lnb_lnb_fashion_group_2cCML\"><a href=\"https://shopping.naver.com/window/main/fashion-group\" class=\"N=a:LNB.fashiontown\"><span class=\"_lnb_text_3f3tB\"><span class=\"blind \">패션타운</span></span><i class=\"_lnb_lnb_beta_2qg3j\"><svg width=\"15\" height=\"8\" viewBox=\"0 0 15 8\" fill=\"none\" class=\"_lnb_icon_1iCPm\"><path d=\"M6.388 1.44a1.744 1.744 0 01-.512 1.024c-.256.288-.672.512-1.184.704.384.224.64.448.768.768.128.288.16.672.064 1.12-.064.32-.16.64-.32.896s-.32.512-.544.704c-.224.192-.448.352-.704.448-.256.096-.544.16-.832.16-.256 0-.512-.032-.672-.128-.192-.096-.384-.288-.576-.544L1.396 8H.5l1.984-5.568c.256-.8.64-1.408 1.088-1.824C4.02.192 4.532 0 5.108 0c.48 0 .8.128 1.056.416.224.256.288.608.224 1.024zM5.3 1.056C5.236.928 5.076.864 4.884.864c-.288 0-.544.128-.8.384-.224.256-.416.608-.608 1.056L2.292 5.408c-.032.064-.032.128 0 .256 0 .096.032.192.064.256.064.16.16.288.32.384.16.096.32.128.544.128.352 0 .64-.128.896-.384s.384-.576.48-.992c.064-.384 0-.704-.16-.96a.837.837 0 00-.8-.352h-.224l.256-.864h.352c.32 0 .608-.128.896-.352.224-.288.384-.576.448-.928.032-.224.032-.416-.064-.544zm3.936 4.16l-.032.128H6.772l-.032.096c-.032.192-.032.384-.032.512.032.16.064.256.128.352.064.096.16.16.288.224.128.032.256.064.448.064s.384-.032.544-.096c.16-.064.352-.16.512-.256l.224.48c-.224.16-.448.288-.704.384a2.151 2.151 0 01-.768.128c-.288 0-.544-.064-.768-.16a1.283 1.283 0 01-.48-.448c-.128-.192-.192-.416-.224-.672a2.455 2.455 0 01.032-.832c.064-.32.128-.608.256-.864s.288-.48.448-.672c.16-.192.384-.32.608-.416.224-.096.448-.16.704-.16.256 0 .48.032.672.128.192.096.32.224.448.416.096.192.16.416.192.672.064.32.032.64-.032.992zm-.768-1.248c-.064-.096-.128-.192-.224-.224a.54.54 0 00-.32-.096c-.128 0-.256.032-.384.064-.096.032-.192.128-.288.192-.096.096-.16.224-.224.352-.064.128-.096.32-.128.48h1.6c.032-.16.032-.32.032-.448 0-.096-.032-.192-.064-.32zm3.424-.832l-.256.64c-.16 0-.288-.032-.384-.032h-.384l-.384 2.272c-.064.16-.064.288-.064.352s.032.16.096.224c.032.032.064.064.128.064s.128.032.192 0c.064 0 .16 0 .224-.032.064 0 .128-.032.192-.064v.512a1.355 1.355 0 01-.384.128c-.128.032-.256.032-.384.032-.16 0-.32-.032-.416-.064a.466.466 0 01-.288-.192c-.064-.096-.128-.192-.128-.32-.032-.128 0-.288 0-.448l.448-2.496h-.448l.096-.576h.448a.886.886 0 00.032-.288c0-.096.032-.192.032-.256 0-.096.032-.16.032-.256s.032-.16.032-.224l.896-.128a3.869 3.869 0 00-.16.576c-.032.192-.064.384-.128.576h.448c.16.032.32 0 .512 0zm2.944 1.504l-.256 1.216c-.032.128-.032.224-.064.32V6.4c0 .096.032.16.064.224a.848.848 0 00.16.192l-.48.512a.498.498 0 01-.256-.192c-.064-.096-.128-.192-.16-.352-.16.16-.352.288-.576.384a1.525 1.525 0 01-.64.128c-.192 0-.384-.032-.512-.064a.953.953 0 01-.352-.224.73.73 0 01-.192-.384 1.374 1.374 0 010-.512c.032-.224.128-.416.224-.608.096-.16.256-.32.448-.448.16-.096.384-.192.64-.256s.544-.096.864-.096h.32l.032-.256c.032-.128.032-.256.032-.352 0-.096-.032-.16-.064-.224s-.096-.096-.192-.128c-.064-.032-.16-.032-.256-.032-.192 0-.384.032-.608.096-.192.064-.416.192-.64.32l-.256-.544c.128-.096.288-.16.448-.224.16-.064.288-.128.448-.16.16-.032.288-.064.416-.096s.288-.032.416-.032c.224 0 .416.032.576.096.16.064.256.16.352.288.064.128.128.288.128.48.032.192 0 .416-.064.704zm-1.024.608h-.096c-.192 0-.384.032-.544.064-.16.032-.288.096-.384.16a.974.974 0 00-.256.256 1.146 1.146 0 00-.128.352.444.444 0 000 .288c0 .096.032.16.096.192.032.064.096.096.16.128s.16.032.256.032c.16 0 .32-.032.48-.096.16-.064.288-.192.416-.32l.16-.992c-.064-.064-.096-.064-.16-.064z\" fill=\"#959595\"></path></svg><span class=\"blind \">베타</span></i></a></li><li class=\"_lnb_lnb_luxury_1o1FM\"><a href=\"https://shopping.naver.com/luxury/home\" class=\"N=a:LNB.luxury\"><span class=\"_lnb_text_3f3tB\"><span class=\"blind \">럭셔리</span></span></a><ul class=\"_lnb_lnb_sub_2tZeQ\"><li class=\"sub_undefined\"><a href=\"https://shopping.naver.com/luxury/home\" class=\"N=a:LNB.undefined\"><span class=\"_lnb_text_3f3tB\"><span class=\"blind \">럭셔리뷰티</span></span></a></li><li class=\"sub_undefined\"><a href=\"https://shopping.naver.com/luxury/home\" class=\"N=a:LNB.undefined\"><span class=\"_lnb_text_3f3tB\"><span class=\"blind \">럭셔리패션</span></span></a></li></ul></li><li class=\"_lnb_lnb_living_jw1CR\"><a href=\"https://shopping.naver.com/living/home\" class=\"N=a:LNB.wliving\"><span class=\"_lnb_text_3f3tB\"><span class=\"blind \">리빙윈도</span></span></a><ul class=\"_lnb_lnb_sub_2tZeQ\"><li class=\"_lnb_sub_homeliving_2nL1g\"><a href=\"https://shopping.naver.com/living/homeliving/home\" class=\"N=a:LNB.homeliving\"><span class=\"_lnb_text_3f3tB\"><span class=\"blind \">홈&amp;데코</span></span></a></li><li class=\"_lnb_sub_handmade_2Zv4d\"><a href=\"https://shopping.naver.com/living/handmade/home\" class=\"N=a:LNB.handmade\"><span class=\"_lnb_text_3f3tB\"><span class=\"blind \">창작공방</span></span></a></li><li class=\"_lnb_sub_stationery_3O9eh\"><a href=\"https://shopping.naver.com/living/stationery/home\" class=\"N=a:LNB.stationery\"><span class=\"_lnb_text_3f3tB\"><span class=\"blind \">문방구</span></span></a></li></ul></li><li class=\"_lnb_lnb_fresh_2qFwh\"><a href=\"https://shopping.naver.com/fresh/home\" class=\"N=a:LNB.fresh\"><span class=\"_lnb_text_3f3tB\"><span class=\"blind \">푸드윈도</span></span></a><ul class=\"_lnb_lnb_sub_2tZeQ\"><li class=\"_lnb_sub_producer_3DG7T\"><a href=\"https://shopping.naver.com/fresh/directfarm/home\" class=\"N=a:LNB.wsanji\"><span class=\"_lnb_text_3f3tB\"><span class=\"blind \">산지직송</span></span></a></li><li class=\"_lnb_sub_region_1ejEM\"><a href=\"https://shopping.naver.com/fresh/localfood/home\" class=\"N=a:LNB.wlocal\"><span class=\"_lnb_text_3f3tB\"><span class=\"blind \">지역명물</span></span></a></li><li class=\"_lnb_sub_alcohol_1Rb-l\"><a href=\"https://shopping.naver.com/fresh/traditionalalcohol/home\" class=\"N=a:LNB.walcohol\"><span class=\"_lnb_text_3f3tB\"><span class=\"blind \">전통주</span></span></a></li><li class=\"_lnb_sub_cooking_1awsz\"><a href=\"https://shopping.naver.com/fresh/homemeal/home\" class=\"N=a:LNB.whomemeal\"><span class=\"_lnb_text_3f3tB\"><span class=\"blind \">간편집밥</span></span></a></li><li class=\"_lnb_sub_healthy_1y_CP\"><a href=\"https://shopping.naver.com/fresh/healthy/home\" class=\"N=a:LNB.whealthy\"><span class=\"_lnb_text_3f3tB\"><span class=\"blind \">헬시</span></span></a></li></ul></li><li class=\"_lnb_lnb_market_JI678\"><a href=\"https://shopping.naver.com/market/home\" class=\"N=a:LNB.marketwindow\"><span class=\"_lnb_text_3f3tB\"><span class=\"blind \">장보기</span></span></a><ul class=\"_lnb_lnb_sub_2tZeQ\"><li class=\"sub_undefined\"><a href=\"https://shopping.naver.com/market/home\" class=\"N=a:LNB.undefined\"><span class=\"_lnb_text_3f3tB\"><span class=\"blind \">Homeplus</span></span></a></li><li class=\"sub_undefined\"><a href=\"https://shopping.naver.com/market/home\" class=\"N=a:LNB.undefined\"><span class=\"_lnb_text_3f3tB\"><span class=\"blind \">GS 프레시몰</span></span></a></li><li class=\"sub_undefined\"><a href=\"https://shopping.naver.com/market/home\" class=\"N=a:LNB.undefined\"><span class=\"_lnb_text_3f3tB\"><span class=\"blind \">농협하나로마트</span></span></a></li><li class=\"sub_undefined\"><a href=\"https://shopping.naver.com/market/home\" class=\"N=a:LNB.undefined\"><span class=\"_lnb_text_3f3tB\"><span class=\"blind \">초록마을</span></span></a></li><li class=\"sub_undefined\"><a href=\"https://shopping.naver.com/market/home\" class=\"N=a:LNB.undefined\"><span class=\"_lnb_text_3f3tB\"><span class=\"blind \">올가</span></span></a></li><li class=\"sub_undefined\"><a href=\"https://shopping.naver.com/market/home\" class=\"N=a:LNB.undefined\"><span class=\"_lnb_text_3f3tB\"><span class=\"blind \">동네시장</span></span></a></li><li class=\"sub_undefined\"><a href=\"https://shopping.naver.com/market/home\" class=\"N=a:LNB.undefined\"><span class=\"_lnb_text_3f3tB\"><span class=\"blind \">백화점식품관</span></span></a></li><li class=\"sub_undefined\"><a href=\"https://shopping.naver.com/market/home\" class=\"N=a:LNB.undefined\"><span class=\"_lnb_text_3f3tB\"><span class=\"blind \">특가창고</span></span></a></li><li class=\"sub_undefined\"><a href=\"https://shopping.naver.com/market/home\" class=\"N=a:LNB.undefined\"><span class=\"_lnb_text_3f3tB\"><span class=\"blind \">이마트몰</span></span></a></li></ul></li><li class=\"_lnb_lnb_kids_FzznM\"><a href=\"https://shopping.naver.com/window/kids/home\" class=\"N=a:LNB.wkids\"><span class=\"_lnb_text_3f3tB\"><span class=\"blind \">키즈윈도</span></span></a></li><li class=\"_lnb_lnb_pet_bzi39\"><a href=\"https://shopping.naver.com/window/main/pet-group\" class=\"N=a:LNB.pet\"><span class=\"_lnb_text_3f3tB\"><span class=\"blind \">펫</span></span></a><ul class=\"_lnb_lnb_sub_2tZeQ\"><li class=\"sub_undefined\"><a href=\"https://shopping.naver.com/window/main/pet-group\" class=\"N=a:LNB.undefined\"><span class=\"_lnb_text_3f3tB\"><span class=\"blind \">펫프렌즈</span></span></a></li></ul></li><li class=\"_lnb_lnb_play_3RY_Z\"><a href=\"https://shopping.naver.com/play/home\" class=\"N=a:LNB.wplay\"><span class=\"_lnb_text_3f3tB\"><span class=\"blind \">플레이윈도</span></span></a><ul class=\"_lnb_lnb_sub_2tZeQ\"><li class=\"_lnb_sub_tech_kn85a\"><a href=\"https://shopping.naver.com/window/play/home\" class=\"N=a:LNB.wtech\"><span class=\"_lnb_text_3f3tB\"><span class=\"blind \">테크·레저</span></span></a></li><li class=\"_lnb_sub_fishing_2BA1T\"><a href=\"https://shopping.naver.com/play/fishing/home\" class=\"N=a:LNB.wfishing\"><span class=\"_lnb_text_3f3tB\"><span class=\"blind \">낚시</span></span></a></li></ul></li><li class=\"_lnb_lnb_art_wh6Uy\"><a href=\"https://shopping.naver.com/art/home\" class=\"N=a:LNB.wart\"><span class=\"_lnb_text_3f3tB\"><span class=\"blind \">아트윈도</span></span></a></li><li class=\"_lnb_lnb_book_3hMNa\"><a href=\"https://search.shopping.naver.com/book/home\" class=\"_lnb_active_3ABI4 N=a:LNB.book\"><span class=\"_lnb_text_3f3tB\"><span class=\"blind \">도서</span></span></a></li><li class=\"_lnb_lnb_mister_2w-AT\"><a href=\"https://shopping.naver.com/mister/trends\" class=\"N=a:LNB.mr\"><span class=\"_lnb_text_3f3tB\"><span class=\"blind \">MR.</span></span></a></li><li class=\"_lnb_lnb_plusdeal_gpXR7\"><a href=\"https://plusdeal.naver.com/\" class=\"N=a:LNB.oneplus\"><span class=\"_lnb_text_3f3tB\"><span class=\"blind \">원쁠딜</span></span></a><ul class=\"_lnb_lnb_sub_2tZeQ\"><li class=\"_lnb_sub_social_3eb6s\"><a href=\"https://shopping.naver.com/hotdeal/p/social/index.naver\" class=\"N=a:LNB.socialbest\"><span class=\"_lnb_text_3f3tB\"><span class=\"blind \">몰 추천핫딜</span></span></a></li></ul></li><li class=\"_lnb_lnb_theme_1xgzu\"><a href=\"https://shopping.naver.com/plan2/p/index.naver\" class=\"N=a:LNB.theme\"><span class=\"_lnb_text_3f3tB\"><span class=\"blind \">기획전</span></span></a></li><li class=\"_lnb_lnb_hotitem_1jj7V\"><a href=\"https://shopsquare.shopping.naver.com/\" class=\"N=a:LNB.trendproduct\"><span class=\"_lnb_text_3f3tB\"><span class=\"blind \">핫아이템</span></span></a></li><li class=\"_lnb_lnb_aitems_2J1sa\"><a href=\"https://search.shopping.naver.com/aitems\" class=\"N=a:LNB.aitems\"><span class=\"_lnb_text_3f3tB\"><span class=\"blind \">AITEMS</span></span></a></li></ul><a href=\"#\" role=\"button\" class=\"_lnb_btn_prev_MZqHv\"><span>왼쪽으로 이동</span></a><a href=\"#\" role=\"button\" class=\"_lnb_btn_next_iGtU6\"><span>오른쪽으로 이동</span></a></div><div class=\"_lnbSearch_lnb_search_29ynI\"><button type=\"button\" class=\"_lnbSearch_button_search_open_3A5JM\"><svg width=\"18\" height=\"18\" viewBox=\"0 0 18 18\" fill=\"none\" class=\"_lnbSearch_icon_1Fdw_\"><path d=\"M12 12l5 5\" stroke=\"#00A832\" stroke-width=\"1.55\"></path><circle cx=\"7.25\" cy=\"7.25\" r=\"6.475\" stroke=\"#00A832\" stroke-width=\"1.55\"></circle></svg><span class=\"blind \">검색영역 보기</span></button><div class=\"_lnbSearch_search_area_C8bkO\"><div class=\"_lnbSearch_inner_2EgO1\"><form><input type=\"text\" class=\"_lnbSearch_search_input_dwib1 N=a:sech.input\" title=\"검색어 입력\" placeholder=\"도서 검색\" autoComplete=\"off\" value=\"파이썬\"/><button type=\"submit\" class=\"_lnbSearch_button_search_1uP2R N=a:sech.sch\"><svg width=\"18\" height=\"18\" viewBox=\"0 0 18 18\" fill=\"none\" class=\"_lnbSearch_icon_1Fdw_\"><path d=\"M12 12l5 5\" stroke=\"#00A832\" stroke-width=\"1.55\"></path><circle cx=\"7.25\" cy=\"7.25\" r=\"6.475\" stroke=\"#00A832\" stroke-width=\"1.55\"></circle></svg><span class=\"blind \">검색</span></button></form></div><button type=\"button\" class=\"_lnbSearch_button_search_close_3Xo6D N=a:sech.close\"><span class=\"blind \">검색영역 닫기</span></button></div></div></div></div></div></div></div><div id=\"container\" class=\"style_container__IrlMV\"><div class=\"bookSearch_inner_container__hsgFD\"><div class=\"bookSearch_book_search__Hp2Ly\"><div class=\"book_content\"><div class=\"bookSearchNotice_keyword_result__l36Cg\"><div class=\"bookSearchNotice_result_context__3oQjJ\"><em class=\"bookSearchNotice_keyword__nBhB_\">‘<span class=\"bookSearchNotice_ellipsis__pGf_O\">파이썬</span>‘</em>에 대한 검색결과입니다.</div><a href=\"/search/all?query=%ED%8C%8C%EC%9D%B4%EC%8D%AC&amp;fs=true\" class=\"bookSearchNotice_show_all__Wlf8A\" data-nclick=\"N=a:sinfo.goshopping\">쇼핑검색결과 보기<svg width=\"13\" height=\"12\" fill=\"none\" xmlns=\"http://www.w3.org/2000/svg\" class=\"bookSearchNotice_svg_query__jWj8N\"><path fill=\"#555\" d=\"M0 5.2h11v1H0z\"></path><path fill=\"#555\" d=\"M6 10.657 11.657 5l.707.707-5.657 5.657z\"></path><path fill=\"#555\" d=\"m6.707 0 5.657 5.657-.707.707L6 .707z\"></path></svg></a></div><div class=\"bookSearch_filter_area__p7aA9\"><div class=\"book_filter\"><div class=\"bookSearchFilter_filter_list__41K1N\"><div class=\"bookSearchFilter_list_inner__AvL4K\"><a href=\"#\" role=\"tab\" class=\"bookSearchFilter_btn_filter__N1OzM\" aria-selected=\"false\">분야<svg width=\"9\" height=\"5\" xmlns=\"http://www.w3.org/2000/svg\" class=\"bookSearchFilter_svg_filter__4ftBo\"><path d=\"M4.5 3.765 8.366 0 9 .617 4.5 5 0 .617.634 0z\" fill=\"#666\"></path></svg></a><a href=\"#\" role=\"tab\" class=\"bookSearchFilter_btn_filter__N1OzM\" aria-selected=\"false\">도서타입<svg width=\"9\" height=\"5\" xmlns=\"http://www.w3.org/2000/svg\" class=\"bookSearchFilter_svg_filter__4ftBo\"><path d=\"M4.5 3.765 8.366 0 9 .617 4.5 5 0 .617.634 0z\" fill=\"#666\"></path></svg></a><a href=\"#\" role=\"tab\" class=\"bookSearchFilter_btn_filter__N1OzM\" aria-selected=\"false\">배송<svg width=\"9\" height=\"5\" xmlns=\"http://www.w3.org/2000/svg\" class=\"bookSearchFilter_svg_filter__4ftBo\"><path d=\"M4.5 3.765 8.366 0 9 .617 4.5 5 0 .617.634 0z\" fill=\"#666\"></path></svg></a></div><div class=\"currentButton_current_button__TtKva\"></div></div></div></div><div id=\"book_list\" class=\"bookSearchList_book_list_wrap__cpDrD\"><div class=\"bookSearchList_sort_area__G_wrH\"><div class=\"sortFilterItem_sort_box__JKKU2\"><a href=\"#\" role=\"button\" class=\"sortFilterItem_btn_basic_sort__h9SK8\" data-nclick=\"N=a:stab1f*o.close\">네이버 랭킹순<svg width=\"12\" height=\"7\" xmlns=\"http://www.w3.org/2000/svg\" class=\"sortFilterItem_svg_arrow__25Kdf\"><path d=\"M6.056 5.047 10.78.444l.775.755-5.5 5.357-5.5-5.357.774-.755z\" fill=\"#7C8187\"></path></svg></a><ul class=\"sortFilterItem_list_sort__ERxUi\"><li class=\"sortFilterItem_item_sort__RVt9M sortFilterItem_type_info__Y2s0q sortFilterItem_active__uqE_R\"><a href=\"#\" role=\"button\" class=\"sortFilterItem_btn_sort__fjYW0\" data-nclick=\"N=a:stab1f*o.rank\">네이버 랭킹순</a><a href=\"#\" role=\"button\" class=\"sortFilterItem_btn_info__bG329\" data-nclick=\"N=a:stab1f*o.rankclose\"><svg width=\"15\" height=\"15\" xmlns=\"http://www.w3.org/2000/svg\" class=\"svg_info\"><g fill=\"none\" fill-rule=\"evenodd\"><circle stroke=\"#2580E8\" cx=\"7.5\" cy=\"7.5\" r=\"7\"></circle><path d=\"M8 5v6H7V5h1zm-.5-2a.5.5 0 1 1 0 1 .5.5 0 0 1 0-1z\" fill=\"#2580E8\"></path></g></svg></a><div class=\"sortFilterItem_layer_ranking_info__Snx_W\"><svg width=\"8\" height=\"32\" xmlns=\"http://www.w3.org/2000/svg\" class=\"sortFilterItem_svg_tooltip__Keaz0\"><path d=\"M8 32.001V22.15l-8-6.148 8-6V0\" fill=\"#FFF\" stroke=\"#DBDDE0\" fill-rule=\"evenodd\"></path></svg><div class=\"sortFilterItem_layer_contents__ND0Sr\"><div class=\"sortFilterItem_text_area__8ZlMU\"><strong class=\"sortFilterItem_layer_title__o_l90\">네이버 도서 랭킹순</strong><p class=\"sortFilterItem_desc__2W0yX\">적합도 지수, 상품이나 작가의 인기도 등을 점수화하여 정렬</p><em class=\"sortFilterItem_sub_title__WVy6M\">적합도 지수</em><p class=\"sortFilterItem_sub_desc__JHijI\">검색어의 상품 정보 연관도/카테고리 적합도</p><em class=\"sortFilterItem_sub_title__WVy6M\">인기도 지수</em><p class=\"sortFilterItem_sub_desc__JHijI\">네이버 도서를 통한 상품 클릭수, 판매 실적, 구매평수, 찜수, 최신성, 베스트셀러, 인기 작가</p><em class=\"sortFilterItem_sub_title__WVy6M\">신뢰도 지수</em><p class=\"sortFilterItem_sub_desc__JHijI\">네이버 도서 패널티, 상품명 SEO 스코어, 그 외 가이드 준수 여부</p></div><a href=\"#\" role=\"button\" class=\"sortFilterItem_btn_confirm__aB3T2\">확인</a></div></div></li><li class=\"sortFilterItem_item_sort__RVt9M\"><a href=\"#\" role=\"button\" class=\"sortFilterItem_btn_sort__fjYW0\" data-nclick=\"N=a:stab1f*o.pub\">발행일순</a></li><li class=\"sortFilterItem_item_sort__RVt9M\"><a href=\"#\" role=\"button\" class=\"sortFilterItem_btn_sort__fjYW0\" data-nclick=\"N=a:stab1f*o.review\">리뷰 많은순</a></li></ul></div><div class=\"naverPayFilterItem_filter_box__CetJO\"><a href=\"#\" role=\"button\" class=\"naverPayFilterItem_btn_npay__eZMit\"><svg xmlns=\"http://www.w3.org/2000/svg\" height=\"15\" viewBox=\"0 0 35 15\" class=\"naverPayFilterItem_svg_npay__WYeQM\"><path fill=\"#FFF\" d=\"M1.114 1.114h12.771v12.771H1.114z\"></path><path data-color=\"#03C75A\" fill=\"#03C75A\" d=\"M34 0H1a1 1 0 0 0-1 1v13a1 1 0 0 0 1 1h33a1 1 0 0 0 1-1V1a1 1 0 0 0-1-1zM13.7 13.7H1.3V1.3h12.4v12.4z\"></path><path data-color=\"#03C75A\" fill=\"#03C75A\" d=\"M8.747 4v3.5L6.151 4H4v7h2.253V7.5L8.849 11H11V4z\"></path><path fill=\"#FFF\" d=\"M16.831 3.606h2.503c.348-.007.694.041 1.026.143.26.08.499.214.703.394.182.166.323.372.41.603.09.24.135.497.133.754v.193c0 .263-.05.523-.143.768-.093.241-.24.458-.429.635a2.09 2.09 0 0 1-.714.428c-.32.114-.66.169-1 .162h-1.326v2.553h-1.177l.014-6.633zm1.178.984v2.107h1.168c.32.018.636-.06.912-.221.22-.143.331-.413.331-.8V5.51a1.068 1.068 0 0 0-.083-.45.713.713 0 0 0-.236-.286.97.97 0 0 0-.362-.143 2.452 2.452 0 0 0-.46-.041h-1.27zm5.848 5.723c-.546 0-.968-.124-1.268-.373a1.278 1.278 0 0 1-.452-1.044V8.6a1.66 1.66 0 0 1 .097-.571c.064-.178.173-.336.316-.459.174-.14.376-.244.593-.304.294-.08.597-.116.901-.11h1.159v-.193c0-.312-.072-.538-.216-.677-.144-.139-.372-.207-.686-.206a2.27 2.27 0 0 0-1.435.506l-.572-.847c.275-.187.568-.346.875-.473a3.181 3.181 0 0 1 1.96-.097c.233.065.453.173.648.317.374.28.587.725.572 1.192v3.56h-1.035l-.018-.625a.817.817 0 0 1-.235.299c-.11.09-.231.164-.362.22a2.223 2.223 0 0 1-.842.18zm1.353-2.254h-1.131c-.308 0-.52.058-.64.175a.627.627 0 0 0-.179.469v.11a.469.469 0 0 0 .169.387c.15.104.332.154.515.143.472 0 .821-.113 1.049-.34a.613.613 0 0 0 .184-.336c.02-.154.03-.309.027-.464l.006-.144zm3.093-2.889 1.143 3.744h.035l1.16-3.744h1.233l-2.63 7.176-1.085-.377.652-1.665L27.01 5.17h1.294z\"></path></svg>네이버페이</a></div></div><ul class=\"list_book\"><li class=\"bookListItem_item_book__1yCey\"><div class=\"bookListItem_item_inner__Fp7hN\"><a target=\"_blank\" rel=\"noopener\" class=\"bookListItem_info_top__VgpiO linkAnchor\" data-nclick=\"N=a:stab1l*c.info,i:32491517782,r:1\" data-i=\"32491517782\" href=\"https://cr3.shopping.naver.com/book/adcr?x=Wi524gJ4y%2FznHKphY46YCf%2F%2F%2Fw%3D%3DsVRKzwdc2vGX4vGedKIBRNzfeSHsjai2sB6rAcn1mhMu57StUFLKmRh1TRW6ZM83NGiActldglwZI9Ht2Wg2yWp7FWzSOT3260RpHjzTrkYvW6%2Fmgy3Y4KMhDn%2BJ6yE4yMQoUMOeBpXsr%2FDUcA16wxd9%2BKy%2Fm0d%2BgYWHtEf61Jo4Nj51x%2B5NtY5Hk3HVsotFZzMYdV9AdtsvIOwWdjTPYIEIee9mp%2BT1ysnnqhZagQKgSi1jPP8Yt02lZX7%2BJ%2FItcX3h64qwrGLq84J1p5pEmIIWsOdrz2GsDwyuzTkbiJMs%2Bd0TcbJiTH3Lys8V5OoWgcfY62%2F%2BxY4w5xbi4%2BHEPriFzevyVajC7NvPtfqyjQhzOQtKydjLYcG6IJgXO93HKaCggqxzSk0EzU99rGAl7HUeq7xa2bs6%2FahMzsv2lyyJ6UKte4oi8O8Vf%2FhRI0jVAzfNVo1KcSVSazeZg7M%2BAaXBvM%2FBtcGatO2NeQHOOK%2FhwxL22mLYbVXisQOlntWYpgaTmsHOi4pxcTo6ldDev%2BK7ODxYWyQD2bnGnjp5do3Tks4qGbaANy%2Bv7%2F5bsJz2WVtSJNIpLDB1DPvwX3jnaMlp%2BiM69rtZoGmolz8iSxPEiQlobJat8LrVlXwYhm8Ln&amp;nvMid=32491517782&amp;catId=50010920\"><div class=\"bookListItem_thumbnail_area__JSZ_U\"><div class=\"bookListItem_thumbnail___NBwO\"><img src=\"https://shopping-phinf.pstatic.net/main_3249151/32491517782.20230313182516.jpg?type=w300\" alt=\"파이썬과 데이터 과학\"/></div></div><div class=\"bookListItem_text_area__hF892\"><div class=\"bookListItem_title__X7f9_\"><span class=\"bookListItem_text__bglOw\"><span>파이썬과 데이터 과학</span><span> (파이썬으로 시작하는 데이터 과학과 기계학습)</span></span></div><div class=\"bookListItem_feature__txTlp\">컴퓨터/IT 148위</div><div class=\"bookListItem_detail__RBQ6x\"><div class=\"bookListItem_define_item__LdTib\"><span class=\"bookListItem_define_title__ujtNf\">저자</span><span class=\"bookListItem_define_data__kKD8t\">천인국, 박동규</span></div><div class=\"bookListItem_define_item__LdTib bookListItem_publish____VOP\"><div class=\"bookListItem_detail_publish__FgPYQ\"><span class=\"bookListItem_define_title__ujtNf\">출판</span><span class=\"bookListItem_define_data__kKD8t\">생능출판</span></div><div class=\"bookListItem_detail_date___byvG\">2020.12.28.</div></div></div><div class=\"bookListItem_grade__tywh2\"><span class=\"bookListItem_star__A_4PU\"><svg width=\"15\" height=\"14\" xmlns=\"http://www.w3.org/2000/svg\" class=\"svg_star\"><g fill=\"none\" fill-rule=\"evenodd\"><path fill=\"#FF5356\" d=\"m5.874 5.513-.374.005L1 5.58l3.867 2.944-.104.335L3.486 13 7.5 10.383l.298.193L11.514 13l-1.38-4.476.284-.217L14 5.58l-4.873-.067L7.5 1z\"></path><path stroke=\"#F43435\" stroke-width=\"0.95\" stroke-linecap=\"round\" stroke-linejoin=\"round\" d=\"M7.5 1 5.873 5.513 5.5 5.52 1 5.58l3.866 2.944-.103.335L3.486 13 7.5 10.383l.298.195L11.514 13l-1.381-4.476.285-.216L14 5.58l-4.873-.067z\"></path></g></svg>평점</span>5.0<!-- -->\\xa0<span class=\"bookListItem_reviewer__kwofa\">(<!-- -->10<!-- -->)</span></div></div></a><a href=\"#\" role=\"button\" class=\"bookListItem_btn_zzim__Jg53Q N=a:stab1l*c.fav,i:32491517782,r:1\" data-nclick=\"N=a:stab1l*c.fav,i:32491517782,r:1\" data-i=\"32491517782\"><svg width=\"27\" height=\"27\" xmlns=\"http://www.w3.org/2000/svg\" class=\"bookListItem_svg_zzim__z_wK4\"><g fill=\"none\" fill-rule=\"evenodd\"><circle stroke=\"#E2E2E2\" fill=\"#FFF\" cx=\"13.5\" cy=\"13.5\" r=\"13\"></circle><path d=\"m13.486 20.77-6.157-6.064a3.749 3.749 0 0 1 2.652-6.398c1.004 0 1.947.39 2.656 1.098.15.236.15.425 0 .567-.15.141-.351.142-.602 0-1.098-1.098-3.011-1.097-4.105 0a2.945 2.945 0 0 0-.001 4.164l5.557 5.472 5.748-5.657c.993-1.127.928-2.884-.167-3.979-1.097-1.1-3.01-1.098-4.107 0l-2.588 2.558a1.206 1.206 0 0 0-.004 1.745c.5.483 1.312.483 1.812 0l2.224-2.19a.426.426 0 0 1 .593-.003.401.401 0 0 1 .004.575l-2.227 2.192a2.17 2.17 0 0 1-2.998.002 2.005 2.005 0 0 1 0-2.894l2.584-2.554a3.727 3.727 0 0 1 2.655-1.096c1.004 0 1.947.39 2.654 1.099 1.393 1.392 1.474 3.63.181 5.095\" fill=\"gray\"></path></g></svg><span class=\"bookListItem_text__bglOw\">찜하기</span></a><div class=\"bookListItem_sub_info__AfkOO\"><div class=\"bookListItem_item_sub__bTJ7u\"><a target=\"_blank\" rel=\"noopener\" class=\"bookListItem_item_box__6Mjr9 linkAnchor\" data-nclick=\"N=a:stab1l*c.pricep,i:32491517782,r:1\" data-i=\"32491517782\" href=\"https://cr3.shopping.naver.com/book/adcr?x=Wi524gJ4y%2FznHKphY46YCf%2F%2F%2Fw%3D%3DsVRKzwdc2vGX4vGedKIBRNzfeSHsjai2sB6rAcn1mhMu57StUFLKmRh1TRW6ZM83NGiActldglwZI9Ht2Wg2yWp7FWzSOT3260RpHjzTrkYvW6%2Fmgy3Y4KMhDn%2BJ6yE4yMQoUMOeBpXsr%2FDUcA16wxd9%2BKy%2Fm0d%2BgYWHtEf61Jo4Nj51x%2B5NtY5Hk3HVsotFZzMYdV9AdtsvIOwWdjTPYIEIee9mp%2BT1ysnnqhZagQKgSi1jPP8Yt02lZX7%2BJ%2FItcX3h64qwrGLq84J1p5pEmIIWsOdrz2GsDwyuzTkbiJMs%2Bd0TcbJiTH3Lys8V5OoWgcfY62%2F%2BxY4w5xbi4%2BHEPriFzevyVajC7NvPtfqyjQhzOQtKydjLYcG6IJgXO93HKaCggqxzSk0EzU99rGAl7HUeq7xa2bs6%2FahMzsv2lyyJ6UKte4oi8O8Vf%2FhRI0jVAzfNVo1KcSVSazeZg7M%2BAaXBvM%2FBtcGatO2NeQHOOK%2FhwxL22mLYbVXisQOlntWYpgaTmsHOi4pxcTo6ldDev%2BK7ODxYWyQD2bnGnjp5do3Tks4qGbaANy%2Bv7%2F5bsJz2WVtSJNIpLDB1DPvwX3jnaMlp%2BiM69rtZoGmolz8iSxPEiQlobJat8LrVlXwYhm8Ln&amp;nvMid=32491517782&amp;catId=50010920\"><div class=\"goods_title\">도서</div><div class=\"bookListItem_vendor__d_xBD\">판매처 <!-- -->21</div></a><span class=\"bookPrice_price__zr5dh\">최저<!-- --> <em>24,700</em>원</span></div><a href=\"https://search.shopping.naver.com/book/report/product?nvMid=32491517782\" target=\"popup\" class=\"bookListItem_btn_report__cjrVh linkAnchor\" data-nclick=\"N=a:stab1l*c.report,i:32491517782,r:1\"><svg width=\"12\" height=\"12\" xmlns=\"http://www.w3.org/2000/svg\" class=\"bookListItem_svg_report__xc5Xi\"><g stroke=\"#999\" fill=\"none\" fill-rule=\"evenodd\"><path d=\"M5.999 1a4.166 4.166 0 0 0-4.166 4.166V8.5h8.334V5.166A4.167 4.167 0 0 0 5.999 1z\" stroke-linejoin=\"round\"></path><path d=\"M5.583 3.083c-.92 0-1.666.746-1.666 1.667M1 11h10V8.5H1z\"></path></g></svg>신고</a></div></div></li><li class=\"bookListItem_item_book__1yCey\"><div class=\"bookListItem_item_inner__Fp7hN\"><a target=\"_blank\" rel=\"noopener\" class=\"bookListItem_info_top__VgpiO linkAnchor\" data-nclick=\"N=a:stab1l*c.info,i:36813141618,r:2\" data-i=\"36813141618\" href=\"https://cr3.shopping.naver.com/book/adcr?x=NYmw9FPq%2Fq7j3R6oR5Ewa%2F%2F%2F%2Fw%3D%3DsX9bpBnXcK6EgSE%2B607bY5Yedz%2BNPwlR98yCV2r6HHV257StUFLKmRh1TRW6ZM83NkQwsi%2BW4bf7pZFKDQqE68J7FWzSOT3260RpHjzTrkYvW6%2Fmgy3Y4KMhDn%2BJ6yE4yMQoUMOeBpXsr%2FDUcA16wxd9%2BKy%2Fm0d%2BgYWHtEf61Jo4Nj51x%2B5NtY5Hk3HVsotFZAxItDgp4cohouEOBMj54g8bifAAc%2BhVGpw5Z9hbvMMwSi1jPP8Yt02lZX7%2BJ%2FItcX3h64qwrGLq84J1p5pEmIIWsOdrz2GsDwyuzTkbiJMs%2Bd0TcbJiTH3Lys8V5OoWgcfY62%2F%2BxY4w5xbi4%2BHEPriFzevyVajC7NvPtfqyjQhxOZ6sRK7M5%2B3zTagwNHELQkJSqE1u6AUeUuHufxXkT4keq7xa2bs6%2FahMzsv2lyyKHXTfrk1XTxFNU2hJyHp41zfNVo1KcSVSazeZg7M%2BAaRKaJHYB2HOTyB%2FIejk632FQLZwCYq0SDcJrkbSnSgou8MxkEbODCn3%2B%2BGcSmQ0uCruo9TKHCl3EfytqJwsWr7jnUozSk6MgpJeDpfnt31s2KyiA%2Bw4go0d0EBdHHTNA8eJEDFLiZr8L6jKAK6mGKxTh8lJwzwUuC%2FejUzuiaBcc&amp;nvMid=36813141618&amp;catId=50010920\"><div class=\"bookListItem_thumbnail_area__JSZ_U\"><div class=\"bookListItem_thumbnail___NBwO\"><img src=\"https://shopping-phinf.pstatic.net/main_3681314/36813141618.20230131165403.jpg?type=w300\" alt=\"두근두근 파이썬\"/></div></div><div class=\"bookListItem_text_area__hF892\"><div class=\"bookListItem_title__X7f9_\"><span class=\"bookListItem_text__bglOw\"><span>두근두근 파이썬</span><span> (만들면서 배우는)</span></span></div><div class=\"bookListItem_feature__txTlp\">컴퓨터/IT 73위</div><div class=\"bookListItem_detail__RBQ6x\"><div class=\"bookListItem_define_item__LdTib\"><span class=\"bookListItem_define_title__ujtNf\">저자</span><span class=\"bookListItem_define_data__kKD8t\">천인국</span></div><div class=\"bookListItem_define_item__LdTib bookListItem_publish____VOP\"><div class=\"bookListItem_detail_publish__FgPYQ\"><span class=\"bookListItem_define_title__ujtNf\">출판</span><span class=\"bookListItem_define_data__kKD8t\">생능출판</span></div><div class=\"bookListItem_detail_date___byvG\">2023.01.05.</div></div></div><div class=\"bookListItem_grade__tywh2\"><span class=\"bookListItem_star__A_4PU\"><svg width=\"15\" height=\"14\" xmlns=\"http://www.w3.org/2000/svg\" class=\"svg_star\"><g fill=\"none\" fill-rule=\"evenodd\"><path fill=\"#FF5356\" d=\"m5.874 5.513-.374.005L1 5.58l3.867 2.944-.104.335L3.486 13 7.5 10.383l.298.193L11.514 13l-1.38-4.476.284-.217L14 5.58l-4.873-.067L7.5 1z\"></path><path stroke=\"#F43435\" stroke-width=\"0.95\" stroke-linecap=\"round\" stroke-linejoin=\"round\" d=\"M7.5 1 5.873 5.513 5.5 5.52 1 5.58l3.866 2.944-.103.335L3.486 13 7.5 10.383l.298.195L11.514 13l-1.381-4.476.285-.216L14 5.58l-4.873-.067z\"></path></g></svg>평점</span>4.7<!-- -->\\xa0<span class=\"bookListItem_reviewer__kwofa\">(<!-- -->3<!-- -->)</span></div></div></a><a href=\"#\" role=\"button\" class=\"bookListItem_btn_zzim__Jg53Q N=a:stab1l*c.fav,i:36813141618,r:2\" data-nclick=\"N=a:stab1l*c.fav,i:36813141618,r:2\" data-i=\"36813141618\"><svg width=\"27\" height=\"27\" xmlns=\"http://www.w3.org/2000/svg\" class=\"bookListItem_svg_zzim__z_wK4\"><g fill=\"none\" fill-rule=\"evenodd\"><circle stroke=\"#E2E2E2\" fill=\"#FFF\" cx=\"13.5\" cy=\"13.5\" r=\"13\"></circle><path d=\"m13.486 20.77-6.157-6.064a3.749 3.749 0 0 1 2.652-6.398c1.004 0 1.947.39 2.656 1.098.15.236.15.425 0 .567-.15.141-.351.142-.602 0-1.098-1.098-3.011-1.097-4.105 0a2.945 2.945 0 0 0-.001 4.164l5.557 5.472 5.748-5.657c.993-1.127.928-2.884-.167-3.979-1.097-1.1-3.01-1.098-4.107 0l-2.588 2.558a1.206 1.206 0 0 0-.004 1.745c.5.483 1.312.483 1.812 0l2.224-2.19a.426.426 0 0 1 .593-.003.401.401 0 0 1 .004.575l-2.227 2.192a2.17 2.17 0 0 1-2.998.002 2.005 2.005 0 0 1 0-2.894l2.584-2.554a3.727 3.727 0 0 1 2.655-1.096c1.004 0 1.947.39 2.654 1.099 1.393 1.392 1.474 3.63.181 5.095\" fill=\"gray\"></path></g></svg><span class=\"bookListItem_text__bglOw\">찜하기</span></a><div class=\"bookListItem_sub_info__AfkOO\"><div class=\"bookListItem_item_sub__bTJ7u\"><a target=\"_blank\" rel=\"noopener\" class=\"bookListItem_item_box__6Mjr9 linkAnchor\" data-nclick=\"N=a:stab1l*c.pricep,i:36813141618,r:2\" data-i=\"36813141618\" href=\"https://cr3.shopping.naver.com/book/adcr?x=NYmw9FPq%2Fq7j3R6oR5Ewa%2F%2F%2F%2Fw%3D%3DsX9bpBnXcK6EgSE%2B607bY5Yedz%2BNPwlR98yCV2r6HHV257StUFLKmRh1TRW6ZM83NkQwsi%2BW4bf7pZFKDQqE68J7FWzSOT3260RpHjzTrkYvW6%2Fmgy3Y4KMhDn%2BJ6yE4yMQoUMOeBpXsr%2FDUcA16wxd9%2BKy%2Fm0d%2BgYWHtEf61Jo4Nj51x%2B5NtY5Hk3HVsotFZAxItDgp4cohouEOBMj54g8bifAAc%2BhVGpw5Z9hbvMMwSi1jPP8Yt02lZX7%2BJ%2FItcX3h64qwrGLq84J1p5pEmIIWsOdrz2GsDwyuzTkbiJMs%2Bd0TcbJiTH3Lys8V5OoWgcfY62%2F%2BxY4w5xbi4%2BHEPriFzevyVajC7NvPtfqyjQhxOZ6sRK7M5%2B3zTagwNHELQkJSqE1u6AUeUuHufxXkT4keq7xa2bs6%2FahMzsv2lyyKHXTfrk1XTxFNU2hJyHp41zfNVo1KcSVSazeZg7M%2BAaRKaJHYB2HOTyB%2FIejk632FQLZwCYq0SDcJrkbSnSgou8MxkEbODCn3%2B%2BGcSmQ0uCruo9TKHCl3EfytqJwsWr7jnUozSk6MgpJeDpfnt31s2KyiA%2Bw4go0d0EBdHHTNA8eJEDFLiZr8L6jKAK6mGKxTh8lJwzwUuC%2FejUzuiaBcc&amp;nvMid=36813141618&amp;catId=50010920\"><div class=\"goods_title\">도서</div><div class=\"bookListItem_vendor__d_xBD\">판매처 <!-- -->39</div></a><span class=\"bookPrice_price__zr5dh\">최저<!-- --> <em>23,750</em>원</span></div><a href=\"https://search.shopping.naver.com/book/report/product?nvMid=36813141618\" target=\"popup\" class=\"bookListItem_btn_report__cjrVh linkAnchor\" data-nclick=\"N=a:stab1l*c.report,i:36813141618,r:2\"><svg width=\"12\" height=\"12\" xmlns=\"http://www.w3.org/2000/svg\" class=\"bookListItem_svg_report__xc5Xi\"><g stroke=\"#999\" fill=\"none\" fill-rule=\"evenodd\"><path d=\"M5.999 1a4.166 4.166 0 0 0-4.166 4.166V8.5h8.334V5.166A4.167 4.167 0 0 0 5.999 1z\" stroke-linejoin=\"round\"></path><path d=\"M5.583 3.083c-.92 0-1.666.746-1.666 1.667M1 11h10V8.5H1z\"></path></g></svg>신고</a></div></div></li><li class=\"bookListItem_item_book__1yCey\"><div class=\"bookListItem_item_inner__Fp7hN\"><a target=\"_blank\" rel=\"noopener\" class=\"bookListItem_info_top__VgpiO linkAnchor\" data-nclick=\"N=a:stab1l*c.info,i:42173058623,r:3\" data-i=\"42173058623\" href=\"https://cr3.shopping.naver.com/book/adcr?x=a05vSHHj%2B%2B1WKG2fgbZvuv%2F%2F%2Fw%3D%3Dsmu1ZXAKhU9cLyjiIaGN0NVsdtYm2y4MU33DDPQ%2BPO7%2BJnnL5Sdl1Om0OnvyPouDNNPoMY7Qyb2DC9KtArSMrc8ez10KvC75IXKXEmsZjpY3VMc6ISzfSnRmT9F0G4N3nY8EigvBQinIZsg%2B2TARrJsv%2BjB2erv%2BZ%2Brrs5VHOiTTt4DqiWzfh638rk6r8T8q24D0Xwus0ivXag7Ag1tsGrP7IntYW81Xs6qvX%2Bsnxc5xra%2BpI6UJu%2BTwtNWUwqdlIxG2P0Q%2Fj4lhGbx8gGDwffhzzON9aTM%2Fdo2I2z9yt2AmFo49JCi6J6VM8a%2Bwjzt8%2BFqPkbhZKyIpiX5j%2F%2BxkCe1WgmKC6jv4on9gzTYjdIY0wLX1kFCoUYWiIJ2IcLtLqSWkruqzLNR%2BNlNcFNXSh%2Br2rjFsnXw88P3iZF1ToG3Tzke9xqokF8gqeKRDS5EgIWjQqm0nba4rLoBgE8SauX6NPOa7btcUyJYftN8mIC0Kca4Eilmnx6oXlvGWl3rDBdp9sSWzyQ0u3D14Lop0GNiYFs%2BpDC4Hd0fa10Sd%2B318udrATo8ESSBvbB%2BoYa1DS%2Fqy4FAfVXrxVJ0%2FiEW4NWK1nsfBi9KlpuZGyIHYMxahzS0NmutU52%2FeznATz8xiY&amp;nvMid=42173058623&amp;catId=50010920\"><div class=\"bookListItem_thumbnail_area__JSZ_U\"><div class=\"bookListItem_thumbnail___NBwO\"><img src=\"https://shopping-phinf.pstatic.net/main_4217305/42173058623.20230905101047.jpg?type=w300\" alt=\"코딩 뇌를 깨우는 파이썬\"/></div></div><div class=\"bookListItem_text_area__hF892\"><div class=\"bookListItem_title__X7f9_\"><span class=\"bookListItem_text__bglOw\"><span>코딩 뇌를 깨우는 파이썬</span><span> (문제 해결 능력을 키우는 컴퓨팅 사고부터 알고리즘, 데이터 분석, 머신러닝까지)</span></span></div><div class=\"bookListItem_feature__txTlp\">컴퓨터/IT 80위</div><div class=\"bookListItem_detail__RBQ6x\"><div class=\"bookListItem_define_item__LdTib\"><span class=\"bookListItem_define_title__ujtNf\">저자</span><span class=\"bookListItem_define_data__kKD8t\">존 V. 구태그</span></div><div class=\"bookListItem_define_item__LdTib bookListItem_publish____VOP\"><div class=\"bookListItem_detail_publish__FgPYQ\"><span class=\"bookListItem_define_title__ujtNf\">출판</span><span class=\"bookListItem_define_data__kKD8t\">한빛미디어</span></div><div class=\"bookListItem_detail_date___byvG\">2023.08.30.</div></div></div></div></a><a href=\"#\" role=\"button\" class=\"bookListItem_btn_zzim__Jg53Q N=a:stab1l*c.fav,i:42173058623,r:3\" data-nclick=\"N=a:stab1l*c.fav,i:42173058623,r:3\" data-i=\"42173058623\"><svg width=\"27\" height=\"27\" xmlns=\"http://www.w3.org/2000/svg\" class=\"bookListItem_svg_zzim__z_wK4\"><g fill=\"none\" fill-rule=\"evenodd\"><circle stroke=\"#E2E2E2\" fill=\"#FFF\" cx=\"13.5\" cy=\"13.5\" r=\"13\"></circle><path d=\"m13.486 20.77-6.157-6.064a3.749 3.749 0 0 1 2.652-6.398c1.004 0 1.947.39 2.656 1.098.15.236.15.425 0 .567-.15.141-.351.142-.602 0-1.098-1.098-3.011-1.097-4.105 0a2.945 2.945 0 0 0-.001 4.164l5.557 5.472 5.748-5.657c.993-1.127.928-2.884-.167-3.979-1.097-1.1-3.01-1.098-4.107 0l-2.588 2.558a1.206 1.206 0 0 0-.004 1.745c.5.483 1.312.483 1.812 0l2.224-2.19a.426.426 0 0 1 .593-.003.401.401 0 0 1 .004.575l-2.227 2.192a2.17 2.17 0 0 1-2.998.002 2.005 2.005 0 0 1 0-2.894l2.584-2.554a3.727 3.727 0 0 1 2.655-1.096c1.004 0 1.947.39 2.654 1.099 1.393 1.392 1.474 3.63.181 5.095\" fill=\"gray\"></path></g></svg><span class=\"bookListItem_text__bglOw\">찜하기</span></a><div class=\"bookListItem_sub_info__AfkOO\"><div class=\"bookListItem_item_sub__bTJ7u\"><a target=\"_blank\" rel=\"noopener\" class=\"bookListItem_item_box__6Mjr9 linkAnchor\" data-nclick=\"N=a:stab1l*c.pricep,i:42173058623,r:3\" data-i=\"42173058623\" href=\"https://cr3.shopping.naver.com/book/adcr?x=a05vSHHj%2B%2B1WKG2fgbZvuv%2F%2F%2Fw%3D%3Dsmu1ZXAKhU9cLyjiIaGN0NVsdtYm2y4MU33DDPQ%2BPO7%2BJnnL5Sdl1Om0OnvyPouDNNPoMY7Qyb2DC9KtArSMrc8ez10KvC75IXKXEmsZjpY3VMc6ISzfSnRmT9F0G4N3nY8EigvBQinIZsg%2B2TARrJsv%2BjB2erv%2BZ%2Brrs5VHOiTTt4DqiWzfh638rk6r8T8q24D0Xwus0ivXag7Ag1tsGrP7IntYW81Xs6qvX%2Bsnxc5xra%2BpI6UJu%2BTwtNWUwqdlIxG2P0Q%2Fj4lhGbx8gGDwffhzzON9aTM%2Fdo2I2z9yt2AmFo49JCi6J6VM8a%2Bwjzt8%2BFqPkbhZKyIpiX5j%2F%2BxkCe1WgmKC6jv4on9gzTYjdIY0wLX1kFCoUYWiIJ2IcLtLqSWkruqzLNR%2BNlNcFNXSh%2Br2rjFsnXw88P3iZF1ToG3Tzke9xqokF8gqeKRDS5EgIWjQqm0nba4rLoBgE8SauX6NPOa7btcUyJYftN8mIC0Kca4Eilmnx6oXlvGWl3rDBdp9sSWzyQ0u3D14Lop0GNiYFs%2BpDC4Hd0fa10Sd%2B318udrATo8ESSBvbB%2BoYa1DS%2Fqy4FAfVXrxVJ0%2FiEW4NWK1nsfBi9KlpuZGyIHYMxahzS0NmutU52%2FeznATz8xiY&amp;nvMid=42173058623&amp;catId=50010920\"><div class=\"goods_title\">도서</div><div class=\"bookListItem_vendor__d_xBD\">판매처 <!-- -->91</div></a><span class=\"bookPrice_price__zr5dh\">최저<!-- --> <em>31,500</em>원</span></div><div class=\"bookListItem_item_sub__bTJ7u\"><a target=\"_blank\" rel=\"noopener\" class=\"bookListItem_item_box__6Mjr9 linkAnchor\" data-nclick=\"N=a:stab1l*c.pricee,i:42173058623,r:3\" data-i=\"42173058623\" href=\"https://cr3.shopping.naver.com/book/adcr?x=a05vSHHj%2B%2B1WKG2fgbZvuv%2F%2F%2Fw%3D%3Dsmu1ZXAKhU9cLyjiIaGN0NVsdtYm2y4MU33DDPQ%2BPO7%2BJnnL5Sdl1Om0OnvyPouDNNPoMY7Qyb2DC9KtArSMrc8ez10KvC75IXKXEmsZjpY3VMc6ISzfSnRmT9F0G4N3nY8EigvBQinIZsg%2B2TARrJsv%2BjB2erv%2BZ%2Brrs5VHOiTTt4DqiWzfh638rk6r8T8q24D0Xwus0ivXag7Ag1tsGrP7IntYW81Xs6qvX%2Bsnxc5xra%2BpI6UJu%2BTwtNWUwqdlIxG2P0Q%2Fj4lhGbx8gGDwffhzzON9aTM%2Fdo2I2z9yt2AmFo49JCi6J6VM8a%2Bwjzt8%2BFqPkbhZKyIpiX5j%2F%2BxkCe1WgmKC6jv4on9gzTYjdIY0wLX1kFCoUYWiIJ2IcLtLqSWkruqzLNR%2BNlNcFNXSh%2Br2rjFsnXw88P3iZF1ToG3Tzke9xqokF8gqeKRDS5EgIWjQqm0nba4rLoBgE8SauX6NPOa7btcUyJYftN8mIC0Kca4Eilmnx6oXlvGWl3rDBdp9sSWzyQ0u3D14Lop0GNiYFs%2BpDC4Hd0fa10Sd%2B318udrATo8ESSBvbB%2BoYa1DS%2Fqy4FAfVXrxVJ0%2FiEW4NWK1nsfBi9KlpuZGyIHYMxahzS0NmutU52%2FeznATz8xiY&amp;nvMid=42173058623&amp;catId=50010920\"><div class=\"goods_title\">e북</div><div class=\"bookListItem_vendor__d_xBD\">판매처 <!-- -->4</div></a><span class=\"bookPrice_price__zr5dh\">구매<!-- --> <em>25,200</em>원</span></div><a href=\"https://search.shopping.naver.com/book/report/product?nvMid=42173058623\" target=\"popup\" class=\"bookListItem_btn_report__cjrVh linkAnchor\" data-nclick=\"N=a:stab1l*c.report,i:42173058623,r:3\"><svg width=\"12\" height=\"12\" xmlns=\"http://www.w3.org/2000/svg\" class=\"bookListItem_svg_report__xc5Xi\"><g stroke=\"#999\" fill=\"none\" fill-rule=\"evenodd\"><path d=\"M5.999 1a4.166 4.166 0 0 0-4.166 4.166V8.5h8.334V5.166A4.167 4.167 0 0 0 5.999 1z\" stroke-linejoin=\"round\"></path><path d=\"M5.583 3.083c-.92 0-1.666.746-1.666 1.667M1 11h10V8.5H1z\"></path></g></svg>신고</a></div></div></li><li class=\"bookListItem_item_book__1yCey\"><div class=\"bookListItem_item_inner__Fp7hN\"><a target=\"_blank\" rel=\"noopener\" class=\"bookListItem_info_top__VgpiO linkAnchor\" data-nclick=\"N=a:stab1l*c.info,i:40354085633,r:4\" data-i=\"40354085633\" href=\"https://cr3.shopping.naver.com/book/adcr?x=JyXEqL66RswxDqCn4X7uU%2F%2F%2F%2Fw%3D%3Ds5wg5KYHWWnwvyrz4xSq%2FWozKVMbAl8ugU7g5HiMGCHy57StUFLKmRh1TRW6ZM83N4%2F5KWZ6tFStUdfjr3R86IZ7FWzSOT3260RpHjzTrkYvW6%2Fmgy3Y4KMhDn%2BJ6yE4yMQoUMOeBpXsr%2FDUcA16wxd9%2BKy%2Fm0d%2BgYWHtEf61Jo4Nj51x%2B5NtY5Hk3HVsotFZAnxZJG0XE4iQR8nldX95MF7lf97rnwmjkFEj%2FbIsWo8Si1jPP8Yt02lZX7%2BJ%2FItcX3h64qwrGLq84J1p5pEmIIWsOdrz2GsDwyuzTkbiJMs%2Bd0TcbJiTH3Lys8V5OoWgcfY62%2F%2BxY4w5xbi4%2BHEPriFzevyVajC7NvPtfqyjQhy0vsTb0N96OfouyaNPBJmGbSaYUAR5OgK45HyKFf50r0eq7xa2bs6%2FahMzsv2lyyKAy%2BQuR2QQ0ZwvsTrKpWDLzfNVo1KcSVSazeZg7M%2BAaVq4ieBZFlKty9pEQZ2mYpBEkjl0kXQRv0ricU1YZ%2B0FMhn5r4ftWDF2E66Jr8uMt%2BCJsjhVia1FPoNfnPCAK9Eh7avOjVf9UscdQuAPGD3PyMRKY036vKJ6UZX3NwIa3s3zVaNSnElUms3mYOzPgGmNdPisRTy5Azu8oXP0HAys&amp;nvMid=40354085633&amp;catId=50010920\"><div class=\"bookListItem_thumbnail_area__JSZ_U\"><div class=\"bookListItem_thumbnail___NBwO\"><img src=\"https://shopping-phinf.pstatic.net/main_4035408/40354085633.20230919130929.jpg?type=w300\" alt=\"Do it! 점프 투 파이썬\"/></div></div><div class=\"bookListItem_text_area__hF892\"><div class=\"bookListItem_title__X7f9_\"><span class=\"bookListItem_text__bglOw\"><span>Do it! 점프 투 파이썬</span><span> (중학생도 첫날부터 실습하는 초고속 입문서)</span></span></div><div class=\"bookListItem_feature__txTlp\">컴퓨터/IT 5위</div><div class=\"bookListItem_detail__RBQ6x\"><div class=\"bookListItem_define_item__LdTib\"><span class=\"bookListItem_define_title__ujtNf\">저자</span><span class=\"bookListItem_define_data__kKD8t\">박응용</span></div><div class=\"bookListItem_define_item__LdTib bookListItem_publish____VOP\"><div class=\"bookListItem_detail_publish__FgPYQ\"><span class=\"bookListItem_define_title__ujtNf\">출판</span><span class=\"bookListItem_define_data__kKD8t\">이지스퍼블리싱</span></div><div class=\"bookListItem_detail_date___byvG\">2023.06.15.</div></div></div><div class=\"bookListItem_grade__tywh2\"><span class=\"bookListItem_star__A_4PU\"><svg width=\"15\" height=\"14\" xmlns=\"http://www.w3.org/2000/svg\" class=\"svg_star\"><g fill=\"none\" fill-rule=\"evenodd\"><path fill=\"#FF5356\" d=\"m5.874 5.513-.374.005L1 5.58l3.867 2.944-.104.335L3.486 13 7.5 10.383l.298.193L11.514 13l-1.38-4.476.284-.217L14 5.58l-4.873-.067L7.5 1z\"></path><path stroke=\"#F43435\" stroke-width=\"0.95\" stroke-linecap=\"round\" stroke-linejoin=\"round\" d=\"M7.5 1 5.873 5.513 5.5 5.52 1 5.58l3.866 2.944-.103.335L3.486 13 7.5 10.383l.298.195L11.514 13l-1.381-4.476.285-.216L14 5.58l-4.873-.067z\"></path></g></svg>평점</span>4.9<!-- -->\\xa0<span class=\"bookListItem_reviewer__kwofa\">(<!-- -->49<!-- -->)</span></div></div></a><a href=\"#\" role=\"button\" class=\"bookListItem_btn_zzim__Jg53Q N=a:stab1l*c.fav,i:40354085633,r:4\" data-nclick=\"N=a:stab1l*c.fav,i:40354085633,r:4\" data-i=\"40354085633\"><svg width=\"27\" height=\"27\" xmlns=\"http://www.w3.org/2000/svg\" class=\"bookListItem_svg_zzim__z_wK4\"><g fill=\"none\" fill-rule=\"evenodd\"><circle stroke=\"#E2E2E2\" fill=\"#FFF\" cx=\"13.5\" cy=\"13.5\" r=\"13\"></circle><path d=\"m13.486 20.77-6.157-6.064a3.749 3.749 0 0 1 2.652-6.398c1.004 0 1.947.39 2.656 1.098.15.236.15.425 0 .567-.15.141-.351.142-.602 0-1.098-1.098-3.011-1.097-4.105 0a2.945 2.945 0 0 0-.001 4.164l5.557 5.472 5.748-5.657c.993-1.127.928-2.884-.167-3.979-1.097-1.1-3.01-1.098-4.107 0l-2.588 2.558a1.206 1.206 0 0 0-.004 1.745c.5.483 1.312.483 1.812 0l2.224-2.19a.426.426 0 0 1 .593-.003.401.401 0 0 1 .004.575l-2.227 2.192a2.17 2.17 0 0 1-2.998.002 2.005 2.005 0 0 1 0-2.894l2.584-2.554a3.727 3.727 0 0 1 2.655-1.096c1.004 0 1.947.39 2.654 1.099 1.393 1.392 1.474 3.63.181 5.095\" fill=\"gray\"></path></g></svg><span class=\"bookListItem_text__bglOw\">찜하기</span></a><div class=\"bookListItem_sub_info__AfkOO\"><div class=\"bookListItem_item_sub__bTJ7u\"><a target=\"_blank\" rel=\"noopener\" class=\"bookListItem_item_box__6Mjr9 linkAnchor\" data-nclick=\"N=a:stab1l*c.pricep,i:40354085633,r:4\" data-i=\"40354085633\" href=\"https://cr3.shopping.naver.com/book/adcr?x=JyXEqL66RswxDqCn4X7uU%2F%2F%2F%2Fw%3D%3Ds5wg5KYHWWnwvyrz4xSq%2FWozKVMbAl8ugU7g5HiMGCHy57StUFLKmRh1TRW6ZM83N4%2F5KWZ6tFStUdfjr3R86IZ7FWzSOT3260RpHjzTrkYvW6%2Fmgy3Y4KMhDn%2BJ6yE4yMQoUMOeBpXsr%2FDUcA16wxd9%2BKy%2Fm0d%2BgYWHtEf61Jo4Nj51x%2B5NtY5Hk3HVsotFZAnxZJG0XE4iQR8nldX95MF7lf97rnwmjkFEj%2FbIsWo8Si1jPP8Yt02lZX7%2BJ%2FItcX3h64qwrGLq84J1p5pEmIIWsOdrz2GsDwyuzTkbiJMs%2Bd0TcbJiTH3Lys8V5OoWgcfY62%2F%2BxY4w5xbi4%2BHEPriFzevyVajC7NvPtfqyjQhy0vsTb0N96OfouyaNPBJmGbSaYUAR5OgK45HyKFf50r0eq7xa2bs6%2FahMzsv2lyyKAy%2BQuR2QQ0ZwvsTrKpWDLzfNVo1KcSVSazeZg7M%2BAaVq4ieBZFlKty9pEQZ2mYpBEkjl0kXQRv0ricU1YZ%2B0FMhn5r4ftWDF2E66Jr8uMt%2BCJsjhVia1FPoNfnPCAK9Eh7avOjVf9UscdQuAPGD3PyMRKY036vKJ6UZX3NwIa3s3zVaNSnElUms3mYOzPgGmNdPisRTy5Azu8oXP0HAys&amp;nvMid=40354085633&amp;catId=50010920\"><div class=\"goods_title\">도서</div><div class=\"bookListItem_vendor__d_xBD\">판매처 <!-- -->162</div></a><span class=\"bookPrice_price__zr5dh\">최저<!-- --> <em>19,800</em>원</span></div><div class=\"bookListItem_item_sub__bTJ7u\"><a target=\"_blank\" rel=\"noopener\" class=\"bookListItem_item_box__6Mjr9 linkAnchor\" data-nclick=\"N=a:stab1l*c.pricee,i:40354085633,r:4\" data-i=\"40354085633\" href=\"https://cr3.shopping.naver.com/book/adcr?x=JyXEqL66RswxDqCn4X7uU%2F%2F%2F%2Fw%3D%3Ds5wg5KYHWWnwvyrz4xSq%2FWozKVMbAl8ugU7g5HiMGCHy57StUFLKmRh1TRW6ZM83N4%2F5KWZ6tFStUdfjr3R86IZ7FWzSOT3260RpHjzTrkYvW6%2Fmgy3Y4KMhDn%2BJ6yE4yMQoUMOeBpXsr%2FDUcA16wxd9%2BKy%2Fm0d%2BgYWHtEf61Jo4Nj51x%2B5NtY5Hk3HVsotFZAnxZJG0XE4iQR8nldX95MF7lf97rnwmjkFEj%2FbIsWo8Si1jPP8Yt02lZX7%2BJ%2FItcX3h64qwrGLq84J1p5pEmIIWsOdrz2GsDwyuzTkbiJMs%2Bd0TcbJiTH3Lys8V5OoWgcfY62%2F%2BxY4w5xbi4%2BHEPriFzevyVajC7NvPtfqyjQhy0vsTb0N96OfouyaNPBJmGbSaYUAR5OgK45HyKFf50r0eq7xa2bs6%2FahMzsv2lyyKAy%2BQuR2QQ0ZwvsTrKpWDLzfNVo1KcSVSazeZg7M%2BAaVq4ieBZFlKty9pEQZ2mYpBEkjl0kXQRv0ricU1YZ%2B0FMhn5r4ftWDF2E66Jr8uMt%2BCJsjhVia1FPoNfnPCAK9Eh7avOjVf9UscdQuAPGD3PyMRKY036vKJ6UZX3NwIa3s3zVaNSnElUms3mYOzPgGmNdPisRTy5Azu8oXP0HAys&amp;nvMid=40354085633&amp;catId=50010920\"><div class=\"goods_title\">e북</div><div class=\"bookListItem_vendor__d_xBD\">판매처 <!-- -->4</div></a><span class=\"bookPrice_price__zr5dh\">구매<!-- --> <em>13,500</em>원</span></div><a href=\"https://search.shopping.naver.com/book/report/product?nvMid=40354085633\" target=\"popup\" class=\"bookListItem_btn_report__cjrVh linkAnchor\" data-nclick=\"N=a:stab1l*c.report,i:40354085633,r:4\"><svg width=\"12\" height=\"12\" xmlns=\"http://www.w3.org/2000/svg\" class=\"bookListItem_svg_report__xc5Xi\"><g stroke=\"#999\" fill=\"none\" fill-rule=\"evenodd\"><path d=\"M5.999 1a4.166 4.166 0 0 0-4.166 4.166V8.5h8.334V5.166A4.167 4.167 0 0 0 5.999 1z\" stroke-linejoin=\"round\"></path><path d=\"M5.583 3.083c-.92 0-1.666.746-1.666 1.667M1 11h10V8.5H1z\"></path></g></svg>신고</a></div></div></li><li class=\"bookListItem_item_book__1yCey\"><div class=\"bookListItem_item_inner__Fp7hN\"><a target=\"_blank\" rel=\"noopener\" class=\"bookListItem_info_top__VgpiO linkAnchor\" data-nclick=\"N=a:stab1l*c.info,i:42484664618,r:5\" data-i=\"42484664618\" href=\"https://cr3.shopping.naver.com/book/adcr?x=f1YAbF%2BLxQn6TT0AlqRToP%2F%2F%2Fw%3D%3DsZICmKW%2Ffdrr6iu8i11y50fApaABCCYqURKLfMS22p4ToLdJsmLe0ih5KVXMQNR0tF02GRVJRSPR7frshrCcMlNxIjgbflltgvEQbLoNWERSccjp4dwMX%2Fb%2BwjPoiKkopDGFJhaa7gItRzyDgzBdRcVVd6Z%2BmZ5fvTALbBBPmfKIKVnJqocqfFwLra6hFr54BWb1Mb7biPToyquRF3aK3pfj6xDMeJaPTHtDIoNWns%2BM%2BoN22s6dKwm7Qn7boTIbfr9lKBJ72xSdUlAg54IqouvziKuqi6lvlwe2gIVAf2UAfPZcFNtCPSmp7XCTzD5M1nTA3JmbDOshDuZxVHcaj%2FBTTVoyc1TJkglBxgQt00u00R8LmVsuIXrRndZNjKZnjvd1KjBnNlG933oUkWOZUeI%2BTI5LtliRqfOF7YCo%2BEYn8ORx0MpKNZ%2FBQpEkYlichf5VORkkZ%2FGzAPyNzthD%2F9BPsy9mvWb%2BCKv1o4PpMB9xyTNBcUUJVidWPWHxY6%2BwSTx0m%2FAsuHmYr5t4JKRbLE%2FVuYP%2FxcWayoXsHb3qiiaQXgKCBXaokRPfV2QcULfft63amo3CAIgaDXQIo6fYMWvEnYw5CxZ3h2t2wyM7r4g4tv14vi5WSJ1CQMeM9rnwvzUhNzs2VE%2B%2Bisqs3JAEppg%3D%3D&amp;nvMid=42484664618&amp;catId=50010920\"><div class=\"bookListItem_thumbnail_area__JSZ_U\"><div class=\"bookListItem_thumbnail___NBwO\"><img src=\"https://shopping-phinf.pstatic.net/main_4248466/42484664618.20230919131751.jpg?type=w300\" alt=\"나는 파이썬으로 머신러닝한다 2\"/></div></div><div class=\"bookListItem_text_area__hF892\"><div class=\"bookListItem_title__X7f9_\"><span class=\"bookListItem_text__bglOw\"><span>나는 파이썬으로 머신러닝한다 2</span><span> (인공지능 자신감 UP 인공지능 약간 매운맛)</span></span></div><div class=\"bookListItem_feature__txTlp\">컴퓨터/IT 79위</div><div class=\"bookListItem_detail__RBQ6x\"><div class=\"bookListItem_define_item__LdTib\"><span class=\"bookListItem_define_title__ujtNf\">저자</span><span class=\"bookListItem_define_data__kKD8t\">장병철, 이지항 외 2명</span></div><div class=\"bookListItem_define_item__LdTib bookListItem_publish____VOP\"><div class=\"bookListItem_detail_publish__FgPYQ\"><span class=\"bookListItem_define_title__ujtNf\">출판</span><span class=\"bookListItem_define_data__kKD8t\">씨마스</span></div><div class=\"bookListItem_detail_date___byvG\">2023.09.01.</div></div></div><div class=\"bookListItem_grade__tywh2\"><span class=\"bookListItem_star__A_4PU\"><svg width=\"15\" height=\"14\" xmlns=\"http://www.w3.org/2000/svg\" class=\"svg_star\"><g fill=\"none\" fill-rule=\"evenodd\"><path fill=\"#FF5356\" d=\"m5.874 5.513-.374.005L1 5.58l3.867 2.944-.104.335L3.486 13 7.5 10.383l.298.193L11.514 13l-1.38-4.476.284-.217L14 5.58l-4.873-.067L7.5 1z\"></path><path stroke=\"#F43435\" stroke-width=\"0.95\" stroke-linecap=\"round\" stroke-linejoin=\"round\" d=\"M7.5 1 5.873 5.513 5.5 5.52 1 5.58l3.866 2.944-.103.335L3.486 13 7.5 10.383l.298.195L11.514 13l-1.381-4.476.285-.216L14 5.58l-4.873-.067z\"></path></g></svg>평점</span>5.0<!-- -->\\xa0<span class=\"bookListItem_reviewer__kwofa\">(<!-- -->1<!-- -->)</span></div></div></a><a href=\"#\" role=\"button\" class=\"bookListItem_btn_zzim__Jg53Q N=a:stab1l*c.fav,i:42484664618,r:5\" data-nclick=\"N=a:stab1l*c.fav,i:42484664618,r:5\" data-i=\"42484664618\"><svg width=\"27\" height=\"27\" xmlns=\"http://www.w3.org/2000/svg\" class=\"bookListItem_svg_zzim__z_wK4\"><g fill=\"none\" fill-rule=\"evenodd\"><circle stroke=\"#E2E2E2\" fill=\"#FFF\" cx=\"13.5\" cy=\"13.5\" r=\"13\"></circle><path d=\"m13.486 20.77-6.157-6.064a3.749 3.749 0 0 1 2.652-6.398c1.004 0 1.947.39 2.656 1.098.15.236.15.425 0 .567-.15.141-.351.142-.602 0-1.098-1.098-3.011-1.097-4.105 0a2.945 2.945 0 0 0-.001 4.164l5.557 5.472 5.748-5.657c.993-1.127.928-2.884-.167-3.979-1.097-1.1-3.01-1.098-4.107 0l-2.588 2.558a1.206 1.206 0 0 0-.004 1.745c.5.483 1.312.483 1.812 0l2.224-2.19a.426.426 0 0 1 .593-.003.401.401 0 0 1 .004.575l-2.227 2.192a2.17 2.17 0 0 1-2.998.002 2.005 2.005 0 0 1 0-2.894l2.584-2.554a3.727 3.727 0 0 1 2.655-1.096c1.004 0 1.947.39 2.654 1.099 1.393 1.392 1.474 3.63.181 5.095\" fill=\"gray\"></path></g></svg><span class=\"bookListItem_text__bglOw\">찜하기</span></a><div class=\"bookListItem_sub_info__AfkOO\"><div class=\"bookListItem_item_sub__bTJ7u\"><a target=\"_blank\" rel=\"noopener\" class=\"bookListItem_item_box__6Mjr9 linkAnchor\" data-nclick=\"N=a:stab1l*c.pricep,i:42484664618,r:5\" data-i=\"42484664618\" href=\"https://cr3.shopping.naver.com/book/adcr?x=f1YAbF%2BLxQn6TT0AlqRToP%2F%2F%2Fw%3D%3DsZICmKW%2Ffdrr6iu8i11y50fApaABCCYqURKLfMS22p4ToLdJsmLe0ih5KVXMQNR0tF02GRVJRSPR7frshrCcMlNxIjgbflltgvEQbLoNWERSccjp4dwMX%2Fb%2BwjPoiKkopDGFJhaa7gItRzyDgzBdRcVVd6Z%2BmZ5fvTALbBBPmfKIKVnJqocqfFwLra6hFr54BWb1Mb7biPToyquRF3aK3pfj6xDMeJaPTHtDIoNWns%2BM%2BoN22s6dKwm7Qn7boTIbfr9lKBJ72xSdUlAg54IqouvziKuqi6lvlwe2gIVAf2UAfPZcFNtCPSmp7XCTzD5M1nTA3JmbDOshDuZxVHcaj%2FBTTVoyc1TJkglBxgQt00u00R8LmVsuIXrRndZNjKZnjvd1KjBnNlG933oUkWOZUeI%2BTI5LtliRqfOF7YCo%2BEYn8ORx0MpKNZ%2FBQpEkYlichf5VORkkZ%2FGzAPyNzthD%2F9BPsy9mvWb%2BCKv1o4PpMB9xyTNBcUUJVidWPWHxY6%2BwSTx0m%2FAsuHmYr5t4JKRbLE%2FVuYP%2FxcWayoXsHb3qiiaQXgKCBXaokRPfV2QcULfft63amo3CAIgaDXQIo6fYMWvEnYw5CxZ3h2t2wyM7r4g4tv14vi5WSJ1CQMeM9rnwvzUhNzs2VE%2B%2Bisqs3JAEppg%3D%3D&amp;nvMid=42484664618&amp;catId=50010920\"><div class=\"goods_title\">도서</div><div class=\"bookListItem_vendor__d_xBD\">판매처 <!-- -->54</div></a><span class=\"bookPrice_price__zr5dh\">최저<!-- --> <em>20,700</em>원</span></div><a href=\"https://search.shopping.naver.com/book/report/product?nvMid=42484664618\" target=\"popup\" class=\"bookListItem_btn_report__cjrVh linkAnchor\" data-nclick=\"N=a:stab1l*c.report,i:42484664618,r:5\"><svg width=\"12\" height=\"12\" xmlns=\"http://www.w3.org/2000/svg\" class=\"bookListItem_svg_report__xc5Xi\"><g stroke=\"#999\" fill=\"none\" fill-rule=\"evenodd\"><path d=\"M5.999 1a4.166 4.166 0 0 0-4.166 4.166V8.5h8.334V5.166A4.167 4.167 0 0 0 5.999 1z\" stroke-linejoin=\"round\"></path><path d=\"M5.583 3.083c-.92 0-1.666.746-1.666 1.667M1 11h10V8.5H1z\"></path></g></svg>신고</a></div></div></li><li class=\"bookListItem_item_book__1yCey\"><div class=\"bookListItem_item_inner__Fp7hN\"><a target=\"_blank\" rel=\"noopener\" class=\"bookListItem_info_top__VgpiO linkAnchor\" data-nclick=\"N=a:stab1l*c.info,i:32507605957,r:6\" data-i=\"32507605957\" href=\"https://cr3.shopping.naver.com/book/adcr?x=iVlQkdteK1YMcziwQKjBEP%2F%2F%2Fw%3D%3DsYEjgDY9q9tdDVinsl1Pxn3SavTTTXiBICYZv52R7PIy57StUFLKmRh1TRW6ZM83NEerzm9pKXXc38rYaCzt7Hp7FWzSOT3260RpHjzTrkYvW6%2Fmgy3Y4KMhDn%2BJ6yE4yMQoUMOeBpXsr%2FDUcA16wxd9%2BKy%2Fm0d%2BgYWHtEf61Jo4Nj51x%2B5NtY5Hk3HVsotFZd6XR4pPaLRiYiJIYw70nSj3U7Q6MTwrU3FR7udgasvcSi1jPP8Yt02lZX7%2BJ%2FItcX3h64qwrGLq84J1p5pEmIIWsOdrz2GsDwyuzTkbiJMs%2Bd0TcbJiTH3Lys8V5OoWgcfY62%2F%2BxY4w5xbi4%2BHEPriFzevyVajC7NvPtfqyjQhzKHpHnQMgBBnCTd6N%2Bf0%2F3nej2z53PUS1TSUIYwD3Ij0eq7xa2bs6%2FahMzsv2lyyIoFUJht16kwWLdhhtLycuBzfNVo1KcSVSazeZg7M%2BAaU2IVjL6BFcjteNcmc1cUOjGup%2B6sy11P0ZgwthWWcP9gaTmsHOi4pxcTo6ldDev%2BIZMDaUx77Vs0mY%2FoeAAdLDks4qGbaANy%2Bv7%2F5bsJz2WmE11trPbpjt%2BN5%2Fk87U1GFp%2BiM69rtZoGmolz8iSxPEiQlobJat8LrVlXwYhm8Ln&amp;nvMid=32507605957&amp;catId=50010920\"><div class=\"bookListItem_thumbnail_area__JSZ_U\"><div class=\"bookListItem_thumbnail___NBwO\"><img src=\"https://shopping-phinf.pstatic.net/main_3250760/32507605957.20230509170119.jpg?type=w300\" alt=\"혼자 공부하는 파이썬\"/></div></div><div class=\"bookListItem_text_area__hF892\"><div class=\"bookListItem_title__X7f9_\"><span class=\"bookListItem_text__bglOw\"><span>혼자 공부하는 파이썬</span><span> (1:1 과외하듯 배우는 프로그래밍 자습서)</span></span></div><div class=\"bookListItem_feature__txTlp\">컴퓨터/IT 9위</div><div class=\"bookListItem_detail__RBQ6x\"><div class=\"bookListItem_define_item__LdTib\"><span class=\"bookListItem_define_title__ujtNf\">저자</span><span class=\"bookListItem_define_data__kKD8t\">윤인성</span></div><div class=\"bookListItem_define_item__LdTib bookListItem_publish____VOP\"><div class=\"bookListItem_detail_publish__FgPYQ\"><span class=\"bookListItem_define_title__ujtNf\">출판</span><span class=\"bookListItem_define_data__kKD8t\">한빛미디어</span></div><div class=\"bookListItem_detail_date___byvG\">2022.06.01.</div></div></div><div class=\"bookListItem_grade__tywh2\"><span class=\"bookListItem_star__A_4PU\"><svg width=\"15\" height=\"14\" xmlns=\"http://www.w3.org/2000/svg\" class=\"svg_star\"><g fill=\"none\" fill-rule=\"evenodd\"><path fill=\"#FF5356\" d=\"m5.874 5.513-.374.005L1 5.58l3.867 2.944-.104.335L3.486 13 7.5 10.383l.298.193L11.514 13l-1.38-4.476.284-.217L14 5.58l-4.873-.067L7.5 1z\"></path><path stroke=\"#F43435\" stroke-width=\"0.95\" stroke-linecap=\"round\" stroke-linejoin=\"round\" d=\"M7.5 1 5.873 5.513 5.5 5.52 1 5.58l3.866 2.944-.103.335L3.486 13 7.5 10.383l.298.195L11.514 13l-1.381-4.476.285-.216L14 5.58l-4.873-.067z\"></path></g></svg>평점</span>4.9<!-- -->\\xa0<span class=\"bookListItem_reviewer__kwofa\">(<!-- -->19<!-- -->)</span></div></div></a><a href=\"#\" role=\"button\" class=\"bookListItem_btn_zzim__Jg53Q N=a:stab1l*c.fav,i:32507605957,r:6\" data-nclick=\"N=a:stab1l*c.fav,i:32507605957,r:6\" data-i=\"32507605957\"><svg width=\"27\" height=\"27\" xmlns=\"http://www.w3.org/2000/svg\" class=\"bookListItem_svg_zzim__z_wK4\"><g fill=\"none\" fill-rule=\"evenodd\"><circle stroke=\"#E2E2E2\" fill=\"#FFF\" cx=\"13.5\" cy=\"13.5\" r=\"13\"></circle><path d=\"m13.486 20.77-6.157-6.064a3.749 3.749 0 0 1 2.652-6.398c1.004 0 1.947.39 2.656 1.098.15.236.15.425 0 .567-.15.141-.351.142-.602 0-1.098-1.098-3.011-1.097-4.105 0a2.945 2.945 0 0 0-.001 4.164l5.557 5.472 5.748-5.657c.993-1.127.928-2.884-.167-3.979-1.097-1.1-3.01-1.098-4.107 0l-2.588 2.558a1.206 1.206 0 0 0-.004 1.745c.5.483 1.312.483 1.812 0l2.224-2.19a.426.426 0 0 1 .593-.003.401.401 0 0 1 .004.575l-2.227 2.192a2.17 2.17 0 0 1-2.998.002 2.005 2.005 0 0 1 0-2.894l2.584-2.554a3.727 3.727 0 0 1 2.655-1.096c1.004 0 1.947.39 2.654 1.099 1.393 1.392 1.474 3.63.181 5.095\" fill=\"gray\"></path></g></svg><span class=\"bookListItem_text__bglOw\">찜하기</span></a><div class=\"bookListItem_sub_info__AfkOO\"><div class=\"bookListItem_item_sub__bTJ7u\"><a target=\"_blank\" rel=\"noopener\" class=\"bookListItem_item_box__6Mjr9 linkAnchor\" data-nclick=\"N=a:stab1l*c.pricep,i:32507605957,r:6\" data-i=\"32507605957\" href=\"https://cr3.shopping.naver.com/book/adcr?x=iVlQkdteK1YMcziwQKjBEP%2F%2F%2Fw%3D%3DsYEjgDY9q9tdDVinsl1Pxn3SavTTTXiBICYZv52R7PIy57StUFLKmRh1TRW6ZM83NEerzm9pKXXc38rYaCzt7Hp7FWzSOT3260RpHjzTrkYvW6%2Fmgy3Y4KMhDn%2BJ6yE4yMQoUMOeBpXsr%2FDUcA16wxd9%2BKy%2Fm0d%2BgYWHtEf61Jo4Nj51x%2B5NtY5Hk3HVsotFZd6XR4pPaLRiYiJIYw70nSj3U7Q6MTwrU3FR7udgasvcSi1jPP8Yt02lZX7%2BJ%2FItcX3h64qwrGLq84J1p5pEmIIWsOdrz2GsDwyuzTkbiJMs%2Bd0TcbJiTH3Lys8V5OoWgcfY62%2F%2BxY4w5xbi4%2BHEPriFzevyVajC7NvPtfqyjQhzKHpHnQMgBBnCTd6N%2Bf0%2F3nej2z53PUS1TSUIYwD3Ij0eq7xa2bs6%2FahMzsv2lyyIoFUJht16kwWLdhhtLycuBzfNVo1KcSVSazeZg7M%2BAaU2IVjL6BFcjteNcmc1cUOjGup%2B6sy11P0ZgwthWWcP9gaTmsHOi4pxcTo6ldDev%2BIZMDaUx77Vs0mY%2FoeAAdLDks4qGbaANy%2Bv7%2F5bsJz2WmE11trPbpjt%2BN5%2Fk87U1GFp%2BiM69rtZoGmolz8iSxPEiQlobJat8LrVlXwYhm8Ln&amp;nvMid=32507605957&amp;catId=50010920\"><div class=\"goods_title\">도서</div><div class=\"bookListItem_vendor__d_xBD\">판매처 <!-- -->137</div></a><span class=\"bookPrice_price__zr5dh\">최저<!-- --> <em>19,800</em>원</span></div><div class=\"bookListItem_item_sub__bTJ7u\"><a target=\"_blank\" rel=\"noopener\" class=\"bookListItem_item_box__6Mjr9 linkAnchor\" data-nclick=\"N=a:stab1l*c.pricee,i:32507605957,r:6\" data-i=\"32507605957\" href=\"https://cr3.shopping.naver.com/book/adcr?x=iVlQkdteK1YMcziwQKjBEP%2F%2F%2Fw%3D%3DsYEjgDY9q9tdDVinsl1Pxn3SavTTTXiBICYZv52R7PIy57StUFLKmRh1TRW6ZM83NEerzm9pKXXc38rYaCzt7Hp7FWzSOT3260RpHjzTrkYvW6%2Fmgy3Y4KMhDn%2BJ6yE4yMQoUMOeBpXsr%2FDUcA16wxd9%2BKy%2Fm0d%2BgYWHtEf61Jo4Nj51x%2B5NtY5Hk3HVsotFZd6XR4pPaLRiYiJIYw70nSj3U7Q6MTwrU3FR7udgasvcSi1jPP8Yt02lZX7%2BJ%2FItcX3h64qwrGLq84J1p5pEmIIWsOdrz2GsDwyuzTkbiJMs%2Bd0TcbJiTH3Lys8V5OoWgcfY62%2F%2BxY4w5xbi4%2BHEPriFzevyVajC7NvPtfqyjQhzKHpHnQMgBBnCTd6N%2Bf0%2F3nej2z53PUS1TSUIYwD3Ij0eq7xa2bs6%2FahMzsv2lyyIoFUJht16kwWLdhhtLycuBzfNVo1KcSVSazeZg7M%2BAaU2IVjL6BFcjteNcmc1cUOjGup%2B6sy11P0ZgwthWWcP9gaTmsHOi4pxcTo6ldDev%2BIZMDaUx77Vs0mY%2FoeAAdLDks4qGbaANy%2Bv7%2F5bsJz2WmE11trPbpjt%2BN5%2Fk87U1GFp%2BiM69rtZoGmolz8iSxPEiQlobJat8LrVlXwYhm8Ln&amp;nvMid=32507605957&amp;catId=50010920\"><div class=\"goods_title\">e북</div><div class=\"bookListItem_vendor__d_xBD\">판매처 <!-- -->4</div></a><span class=\"bookPrice_price__zr5dh\">구매<!-- --> <em>15,840</em>원</span></div><a href=\"https://search.shopping.naver.com/book/report/product?nvMid=32507605957\" target=\"popup\" class=\"bookListItem_btn_report__cjrVh linkAnchor\" data-nclick=\"N=a:stab1l*c.report,i:32507605957,r:6\"><svg width=\"12\" height=\"12\" xmlns=\"http://www.w3.org/2000/svg\" class=\"bookListItem_svg_report__xc5Xi\"><g stroke=\"#999\" fill=\"none\" fill-rule=\"evenodd\"><path d=\"M5.999 1a4.166 4.166 0 0 0-4.166 4.166V8.5h8.334V5.166A4.167 4.167 0 0 0 5.999 1z\" stroke-linejoin=\"round\"></path><path d=\"M5.583 3.083c-.92 0-1.666.746-1.666 1.667M1 11h10V8.5H1z\"></path></g></svg>신고</a></div></div></li><li class=\"bookListItem_item_book__1yCey\"><div class=\"bookListItem_item_inner__Fp7hN\"><a target=\"_blank\" rel=\"noopener\" class=\"bookListItem_info_top__VgpiO linkAnchor\" data-nclick=\"N=a:stab1l*c.info,i:40595743620,r:7\" data-i=\"40595743620\" href=\"https://cr3.shopping.naver.com/book/adcr?x=tsG5Pqd9f76gIk%2FlLCJeDv%2F%2F%2Fw%3D%3DsnVGIlDeZJF21RU%2B9wIt0EADeK0r7UFHCh33%2FfIt%2BPKLoLdJsmLe0ih5KVXMQNR0tXNTKtPLgAU84kPJtSYgKBNxIjgbflltgvEQbLoNWERSccjp4dwMX%2Fb%2BwjPoiKkopDGFJhaa7gItRzyDgzBdRcVVd6Z%2BmZ5fvTALbBBPmfKIKVnJqocqfFwLra6hFr54BvFkdfWOmiTgcIZ49%2FP01L%2Fj6xDMeJaPTHtDIoNWns%2BM%2BoN22s6dKwm7Qn7boTIbfr9lKBJ72xSdUlAg54IqouvziKuqi6lvlwe2gIVAf2UAfPZcFNtCPSmp7XCTzD5M1nTA3JmbDOshDuZxVHcaj%2FBTTVoyc1TJkglBxgQt00u2t8T04SRo0fezYpMshUM8Evd1KjBnNlG933oUkWOZUeI%2BTI5LtliRqfOF7YCo%2BEYkxwqLe5s0YbfkYFtJ8t2dGf2AuPqje%2Bd5jNfTrpcYfVGBpBr2l2pK%2FEYpRPsmgr5YX%2Fw5SbY7hzDeFihWOPTYrGaDs4wHWQiSrERQ882wenGvdKAo9BBIP7%2BjIdE6Tpo1cIBDN8Tkg7QBeqHvLjYM3TL8Iaz9ooeT7ZukKAi%2BFxZ1kAkBxOq9C%2BB8UnbGJGC84GUD4Cse8hIjNblRwmU6N5cpi4XzhOrShino8V0zOvg%3D%3D&amp;nvMid=40595743620&amp;catId=50010920\"><div class=\"bookListItem_thumbnail_area__JSZ_U\"><div class=\"bookListItem_thumbnail___NBwO\"><img src=\"https://shopping-phinf.pstatic.net/main_4059574/40595743620.20230711115354.jpg?type=w300\" alt=\"파이썬으로 쉽게 배우는 자료구조\"/></div></div><div class=\"bookListItem_text_area__hF892\"><div class=\"bookListItem_title__X7f9_\"><span class=\"bookListItem_text__bglOw\"><span>파이썬으로 쉽게 배우는 자료구조</span><span> (개정판)</span></span></div><div class=\"bookListItem_feature__txTlp\">컴퓨터/IT 70위</div><div class=\"bookListItem_detail__RBQ6x\"><div class=\"bookListItem_define_item__LdTib\"><span class=\"bookListItem_define_title__ujtNf\">저자</span><span class=\"bookListItem_define_data__kKD8t\">최영규, 천인국</span></div><div class=\"bookListItem_define_item__LdTib bookListItem_publish____VOP\"><div class=\"bookListItem_detail_publish__FgPYQ\"><span class=\"bookListItem_define_title__ujtNf\">출판</span><span class=\"bookListItem_define_data__kKD8t\">생능출판</span></div><div class=\"bookListItem_detail_date___byvG\">2023.06.26.</div></div></div><div class=\"bookListItem_grade__tywh2\"><span class=\"bookListItem_star__A_4PU\"><svg width=\"15\" height=\"14\" xmlns=\"http://www.w3.org/2000/svg\" class=\"svg_star\"><g fill=\"none\" fill-rule=\"evenodd\"><path fill=\"#FF5356\" d=\"m5.874 5.513-.374.005L1 5.58l3.867 2.944-.104.335L3.486 13 7.5 10.383l.298.193L11.514 13l-1.38-4.476.284-.217L14 5.58l-4.873-.067L7.5 1z\"></path><path stroke=\"#F43435\" stroke-width=\"0.95\" stroke-linecap=\"round\" stroke-linejoin=\"round\" d=\"M7.5 1 5.873 5.513 5.5 5.52 1 5.58l3.866 2.944-.103.335L3.486 13 7.5 10.383l.298.195L11.514 13l-1.381-4.476.285-.216L14 5.58l-4.873-.067z\"></path></g></svg>평점</span>3.0<!-- -->\\xa0<span class=\"bookListItem_reviewer__kwofa\">(<!-- -->1<!-- -->)</span></div></div></a><a href=\"#\" role=\"button\" class=\"bookListItem_btn_zzim__Jg53Q N=a:stab1l*c.fav,i:40595743620,r:7\" data-nclick=\"N=a:stab1l*c.fav,i:40595743620,r:7\" data-i=\"40595743620\"><svg width=\"27\" height=\"27\" xmlns=\"http://www.w3.org/2000/svg\" class=\"bookListItem_svg_zzim__z_wK4\"><g fill=\"none\" fill-rule=\"evenodd\"><circle stroke=\"#E2E2E2\" fill=\"#FFF\" cx=\"13.5\" cy=\"13.5\" r=\"13\"></circle><path d=\"m13.486 20.77-6.157-6.064a3.749 3.749 0 0 1 2.652-6.398c1.004 0 1.947.39 2.656 1.098.15.236.15.425 0 .567-.15.141-.351.142-.602 0-1.098-1.098-3.011-1.097-4.105 0a2.945 2.945 0 0 0-.001 4.164l5.557 5.472 5.748-5.657c.993-1.127.928-2.884-.167-3.979-1.097-1.1-3.01-1.098-4.107 0l-2.588 2.558a1.206 1.206 0 0 0-.004 1.745c.5.483 1.312.483 1.812 0l2.224-2.19a.426.426 0 0 1 .593-.003.401.401 0 0 1 .004.575l-2.227 2.192a2.17 2.17 0 0 1-2.998.002 2.005 2.005 0 0 1 0-2.894l2.584-2.554a3.727 3.727 0 0 1 2.655-1.096c1.004 0 1.947.39 2.654 1.099 1.393 1.392 1.474 3.63.181 5.095\" fill=\"gray\"></path></g></svg><span class=\"bookListItem_text__bglOw\">찜하기</span></a><div class=\"bookListItem_sub_info__AfkOO\"><div class=\"bookListItem_item_sub__bTJ7u\"><a target=\"_blank\" rel=\"noopener\" class=\"bookListItem_item_box__6Mjr9 linkAnchor\" data-nclick=\"N=a:stab1l*c.pricep,i:40595743620,r:7\" data-i=\"40595743620\" href=\"https://cr3.shopping.naver.com/book/adcr?x=tsG5Pqd9f76gIk%2FlLCJeDv%2F%2F%2Fw%3D%3DsnVGIlDeZJF21RU%2B9wIt0EADeK0r7UFHCh33%2FfIt%2BPKLoLdJsmLe0ih5KVXMQNR0tXNTKtPLgAU84kPJtSYgKBNxIjgbflltgvEQbLoNWERSccjp4dwMX%2Fb%2BwjPoiKkopDGFJhaa7gItRzyDgzBdRcVVd6Z%2BmZ5fvTALbBBPmfKIKVnJqocqfFwLra6hFr54BvFkdfWOmiTgcIZ49%2FP01L%2Fj6xDMeJaPTHtDIoNWns%2BM%2BoN22s6dKwm7Qn7boTIbfr9lKBJ72xSdUlAg54IqouvziKuqi6lvlwe2gIVAf2UAfPZcFNtCPSmp7XCTzD5M1nTA3JmbDOshDuZxVHcaj%2FBTTVoyc1TJkglBxgQt00u2t8T04SRo0fezYpMshUM8Evd1KjBnNlG933oUkWOZUeI%2BTI5LtliRqfOF7YCo%2BEYkxwqLe5s0YbfkYFtJ8t2dGf2AuPqje%2Bd5jNfTrpcYfVGBpBr2l2pK%2FEYpRPsmgr5YX%2Fw5SbY7hzDeFihWOPTYrGaDs4wHWQiSrERQ882wenGvdKAo9BBIP7%2BjIdE6Tpo1cIBDN8Tkg7QBeqHvLjYM3TL8Iaz9ooeT7ZukKAi%2BFxZ1kAkBxOq9C%2BB8UnbGJGC84GUD4Cse8hIjNblRwmU6N5cpi4XzhOrShino8V0zOvg%3D%3D&amp;nvMid=40595743620&amp;catId=50010920\"><div class=\"goods_title\">도서</div><div class=\"bookListItem_vendor__d_xBD\">판매처 <!-- -->30</div></a><span class=\"bookPrice_price__zr5dh\">최저<!-- --> <em>26,100</em>원</span></div><a href=\"https://search.shopping.naver.com/book/report/product?nvMid=40595743620\" target=\"popup\" class=\"bookListItem_btn_report__cjrVh linkAnchor\" data-nclick=\"N=a:stab1l*c.report,i:40595743620,r:7\"><svg width=\"12\" height=\"12\" xmlns=\"http://www.w3.org/2000/svg\" class=\"bookListItem_svg_report__xc5Xi\"><g stroke=\"#999\" fill=\"none\" fill-rule=\"evenodd\"><path d=\"M5.999 1a4.166 4.166 0 0 0-4.166 4.166V8.5h8.334V5.166A4.167 4.167 0 0 0 5.999 1z\" stroke-linejoin=\"round\"></path><path d=\"M5.583 3.083c-.92 0-1.666.746-1.666 1.667M1 11h10V8.5H1z\"></path></g></svg>신고</a></div></div></li><li class=\"bookListItem_item_book__1yCey\"><div class=\"bookListItem_item_inner__Fp7hN\"><a target=\"_blank\" rel=\"noopener\" class=\"bookListItem_info_top__VgpiO linkAnchor\" data-nclick=\"N=a:stab1l*c.info,i:34233217628,r:8\" data-i=\"34233217628\" href=\"https://cr3.shopping.naver.com/book/adcr?x=FEB%2FyLp9QdW7YRB7uo4F7f%2F%2F%2Fw%3D%3DsYXZdMv%2BSlS%2Fzgo0JRGee%2Fp7bwNXfK9okJVzR5lFNxsmJnnL5Sdl1Om0OnvyPouDNWsHgd59aodcZg4noxYK97cez10KvC75IXKXEmsZjpY3VMc6ISzfSnRmT9F0G4N3nY8EigvBQinIZsg%2B2TARrJsv%2BjB2erv%2BZ%2Brrs5VHOiTTt4DqiWzfh638rk6r8T8q2b07ghmkLuHkkg743TIAdMP7IntYW81Xs6qvX%2Bsnxc5xra%2BpI6UJu%2BTwtNWUwqdlIxG2P0Q%2Fj4lhGbx8gGDwffhzzON9aTM%2Fdo2I2z9yt2AmFo49JCi6J6VM8a%2Bwjzt8%2BFqPkbhZKyIpiX5j%2F%2BxkCe1WgmKC6jv4on9gzTYjdIY2xfAxiZlReU27hOsieXre3SWkruqzLNR%2BNlNcFNXSh%2Br2rjFsnXw88P3iZF1ToG3SY%2FdVuToRNBhAmcloqDZs%2FqdBNsTtFRV22m6lbk6e%2BY24MBrv0odS5b4MSy65w6Etf0yhAU4p06hPTGmJPKPmljfZ6iDk3KJfrgos6patt1FMpu6gmuPI6RDtROkHuF9vTGB3c8PkbW4YKhe2hFTs8gq8x2MrzjCFf0q4xhTxb9Kz4gs1H4l0WZCAcYkV52Ns%3D&amp;nvMid=34233217628&amp;catId=50010920\"><div class=\"bookListItem_thumbnail_area__JSZ_U\"><div class=\"bookListItem_thumbnail___NBwO\"><img src=\"https://shopping-phinf.pstatic.net/main_3423321/34233217628.20221019114545.jpg?type=w300\" alt=\"디딤돌 파이썬\"/></div></div><div class=\"bookListItem_text_area__hF892\"><div class=\"bookListItem_title__X7f9_\"><span class=\"bookListItem_text__bglOw\"><span>디딤돌 파이썬</span><span> (구조적 프로그래밍으로 설명한 파이썬 기초)</span></span></div><div class=\"bookListItem_detail__RBQ6x\"><div class=\"bookListItem_define_item__LdTib\"><span class=\"bookListItem_define_title__ujtNf\">저자</span><span class=\"bookListItem_define_data__kKD8t\">이찬수</span></div><div class=\"bookListItem_define_item__LdTib bookListItem_publish____VOP\"><div class=\"bookListItem_detail_publish__FgPYQ\"><span class=\"bookListItem_define_title__ujtNf\">출판</span><span class=\"bookListItem_define_data__kKD8t\">인피니티북스</span></div><div class=\"bookListItem_detail_date___byvG\">2022.08.23.</div></div></div></div></a><a href=\"#\" role=\"button\" class=\"bookListItem_btn_zzim__Jg53Q N=a:stab1l*c.fav,i:34233217628,r:8\" data-nclick=\"N=a:stab1l*c.fav,i:34233217628,r:8\" data-i=\"34233217628\"><svg width=\"27\" height=\"27\" xmlns=\"http://www.w3.org/2000/svg\" class=\"bookListItem_svg_zzim__z_wK4\"><g fill=\"none\" fill-rule=\"evenodd\"><circle stroke=\"#E2E2E2\" fill=\"#FFF\" cx=\"13.5\" cy=\"13.5\" r=\"13\"></circle><path d=\"m13.486 20.77-6.157-6.064a3.749 3.749 0 0 1 2.652-6.398c1.004 0 1.947.39 2.656 1.098.15.236.15.425 0 .567-.15.141-.351.142-.602 0-1.098-1.098-3.011-1.097-4.105 0a2.945 2.945 0 0 0-.001 4.164l5.557 5.472 5.748-5.657c.993-1.127.928-2.884-.167-3.979-1.097-1.1-3.01-1.098-4.107 0l-2.588 2.558a1.206 1.206 0 0 0-.004 1.745c.5.483 1.312.483 1.812 0l2.224-2.19a.426.426 0 0 1 .593-.003.401.401 0 0 1 .004.575l-2.227 2.192a2.17 2.17 0 0 1-2.998.002 2.005 2.005 0 0 1 0-2.894l2.584-2.554a3.727 3.727 0 0 1 2.655-1.096c1.004 0 1.947.39 2.654 1.099 1.393 1.392 1.474 3.63.181 5.095\" fill=\"gray\"></path></g></svg><span class=\"bookListItem_text__bglOw\">찜하기</span></a><div class=\"bookListItem_sub_info__AfkOO\"><div class=\"bookListItem_item_sub__bTJ7u\"><a target=\"_blank\" rel=\"noopener\" class=\"bookListItem_item_box__6Mjr9 linkAnchor\" data-nclick=\"N=a:stab1l*c.pricep,i:34233217628,r:8\" data-i=\"34233217628\" href=\"https://cr3.shopping.naver.com/book/adcr?x=FEB%2FyLp9QdW7YRB7uo4F7f%2F%2F%2Fw%3D%3DsYXZdMv%2BSlS%2Fzgo0JRGee%2Fp7bwNXfK9okJVzR5lFNxsmJnnL5Sdl1Om0OnvyPouDNWsHgd59aodcZg4noxYK97cez10KvC75IXKXEmsZjpY3VMc6ISzfSnRmT9F0G4N3nY8EigvBQinIZsg%2B2TARrJsv%2BjB2erv%2BZ%2Brrs5VHOiTTt4DqiWzfh638rk6r8T8q2b07ghmkLuHkkg743TIAdMP7IntYW81Xs6qvX%2Bsnxc5xra%2BpI6UJu%2BTwtNWUwqdlIxG2P0Q%2Fj4lhGbx8gGDwffhzzON9aTM%2Fdo2I2z9yt2AmFo49JCi6J6VM8a%2Bwjzt8%2BFqPkbhZKyIpiX5j%2F%2BxkCe1WgmKC6jv4on9gzTYjdIY2xfAxiZlReU27hOsieXre3SWkruqzLNR%2BNlNcFNXSh%2Br2rjFsnXw88P3iZF1ToG3SY%2FdVuToRNBhAmcloqDZs%2FqdBNsTtFRV22m6lbk6e%2BY24MBrv0odS5b4MSy65w6Etf0yhAU4p06hPTGmJPKPmljfZ6iDk3KJfrgos6patt1FMpu6gmuPI6RDtROkHuF9vTGB3c8PkbW4YKhe2hFTs8gq8x2MrzjCFf0q4xhTxb9Kz4gs1H4l0WZCAcYkV52Ns%3D&amp;nvMid=34233217628&amp;catId=50010920\"><div class=\"goods_title\">도서</div><div class=\"bookListItem_vendor__d_xBD\">판매처 <!-- -->23</div></a><span class=\"bookPrice_price__zr5dh\">최저<!-- --> <em>26,100</em>원</span></div><a href=\"https://search.shopping.naver.com/book/report/product?nvMid=34233217628\" target=\"popup\" class=\"bookListItem_btn_report__cjrVh linkAnchor\" data-nclick=\"N=a:stab1l*c.report,i:34233217628,r:8\"><svg width=\"12\" height=\"12\" xmlns=\"http://www.w3.org/2000/svg\" class=\"bookListItem_svg_report__xc5Xi\"><g stroke=\"#999\" fill=\"none\" fill-rule=\"evenodd\"><path d=\"M5.999 1a4.166 4.166 0 0 0-4.166 4.166V8.5h8.334V5.166A4.167 4.167 0 0 0 5.999 1z\" stroke-linejoin=\"round\"></path><path d=\"M5.583 3.083c-.92 0-1.666.746-1.666 1.667M1 11h10V8.5H1z\"></path></g></svg>신고</a></div></div></li><li class=\"bookListItem_item_book__1yCey\"><div class=\"bookListItem_item_inner__Fp7hN\"><a target=\"_blank\" rel=\"noopener\" class=\"bookListItem_info_top__VgpiO linkAnchor\" data-nclick=\"N=a:stab1l*c.info,i:33230969618,r:9\" data-i=\"33230969618\" href=\"https://cr3.shopping.naver.com/book/adcr?x=ATOff4R0MyLcl%2BkJpMyj4%2F%2F%2F%2Fw%3D%3DscYsrN%2FlgFB%2BHzHeBjXi7xwkomjo%2BwoIZO4ZmrFkN4M2JnnL5Sdl1Om0OnvyPouDNyQgQIxbeElehn9%2BCiAjFzcez10KvC75IXKXEmsZjpY3VMc6ISzfSnRmT9F0G4N3nY8EigvBQinIZsg%2B2TARrJsv%2BjB2erv%2BZ%2Brrs5VHOiTTt4DqiWzfh638rk6r8T8q2nj6%2BMaClI2dOjtwkFtHAz%2F7IntYW81Xs6qvX%2Bsnxc5xra%2BpI6UJu%2BTwtNWUwqdlIxG2P0Q%2Fj4lhGbx8gGDwffhzzON9aTM%2Fdo2I2z9yt2AmFo49JCi6J6VM8a%2Bwjzt8%2BFqPkbhZKyIpiX5j%2F%2BxkCe1WgmKC6jv4on9gzTYjdIY1a%2BWUwWSj337C7MH2I49EGSWkruqzLNR%2BNlNcFNXSh%2Br2rjFsnXw88P3iZF1ToG3SFVE8rlExvmHGMJhMgVnWnQRNPDTvcTqfT%2BBa3TV9HfcW3dvB2t9g8YSUuJjNSbYQh6oPiVMYfbSvVF%2BLgCVnUlyA5ELuE1Rin0qYSkS7q1eHHF%2BQOFc34Kz2n7%2Bz8kQ7TGB3c8PkbW4YKhe2hFTs8glF6eu4M8cUOPmDD4T%2FYfqz4gs1H4l0WZCAcYkV52Ns%3D&amp;nvMid=33230969618&amp;catId=50010920\"><div class=\"bookListItem_thumbnail_area__JSZ_U\"><div class=\"bookListItem_thumbnail___NBwO\"><img src=\"https://shopping-phinf.pstatic.net/main_3323096/33230969618.20221019120731.jpg?type=w300\" alt=\"파이썬 스타트\"/></div></div><div class=\"bookListItem_text_area__hF892\"><div class=\"bookListItem_title__X7f9_\"><span class=\"bookListItem_text__bglOw\"><span>파이썬 스타트</span><span> (AI로 가는 첫걸음)</span></span></div><div class=\"bookListItem_detail__RBQ6x\"><div class=\"bookListItem_define_item__LdTib\"><span class=\"bookListItem_define_title__ujtNf\">저자</span><span class=\"bookListItem_define_data__kKD8t\">박희재</span></div><div class=\"bookListItem_define_item__LdTib bookListItem_publish____VOP\"><div class=\"bookListItem_detail_publish__FgPYQ\"><span class=\"bookListItem_define_title__ujtNf\">출판</span><span class=\"bookListItem_define_data__kKD8t\">인피니티북스</span></div><div class=\"bookListItem_detail_date___byvG\">2022.06.28.</div></div></div></div></a><a href=\"#\" role=\"button\" class=\"bookListItem_btn_zzim__Jg53Q N=a:stab1l*c.fav,i:33230969618,r:9\" data-nclick=\"N=a:stab1l*c.fav,i:33230969618,r:9\" data-i=\"33230969618\"><svg width=\"27\" height=\"27\" xmlns=\"http://www.w3.org/2000/svg\" class=\"bookListItem_svg_zzim__z_wK4\"><g fill=\"none\" fill-rule=\"evenodd\"><circle stroke=\"#E2E2E2\" fill=\"#FFF\" cx=\"13.5\" cy=\"13.5\" r=\"13\"></circle><path d=\"m13.486 20.77-6.157-6.064a3.749 3.749 0 0 1 2.652-6.398c1.004 0 1.947.39 2.656 1.098.15.236.15.425 0 .567-.15.141-.351.142-.602 0-1.098-1.098-3.011-1.097-4.105 0a2.945 2.945 0 0 0-.001 4.164l5.557 5.472 5.748-5.657c.993-1.127.928-2.884-.167-3.979-1.097-1.1-3.01-1.098-4.107 0l-2.588 2.558a1.206 1.206 0 0 0-.004 1.745c.5.483 1.312.483 1.812 0l2.224-2.19a.426.426 0 0 1 .593-.003.401.401 0 0 1 .004.575l-2.227 2.192a2.17 2.17 0 0 1-2.998.002 2.005 2.005 0 0 1 0-2.894l2.584-2.554a3.727 3.727 0 0 1 2.655-1.096c1.004 0 1.947.39 2.654 1.099 1.393 1.392 1.474 3.63.181 5.095\" fill=\"gray\"></path></g></svg><span class=\"bookListItem_text__bglOw\">찜하기</span></a><div class=\"bookListItem_sub_info__AfkOO\"><div class=\"bookListItem_item_sub__bTJ7u\"><a target=\"_blank\" rel=\"noopener\" class=\"bookListItem_item_box__6Mjr9 linkAnchor\" data-nclick=\"N=a:stab1l*c.pricep,i:33230969618,r:9\" data-i=\"33230969618\" href=\"https://cr3.shopping.naver.com/book/adcr?x=ATOff4R0MyLcl%2BkJpMyj4%2F%2F%2F%2Fw%3D%3DscYsrN%2FlgFB%2BHzHeBjXi7xwkomjo%2BwoIZO4ZmrFkN4M2JnnL5Sdl1Om0OnvyPouDNyQgQIxbeElehn9%2BCiAjFzcez10KvC75IXKXEmsZjpY3VMc6ISzfSnRmT9F0G4N3nY8EigvBQinIZsg%2B2TARrJsv%2BjB2erv%2BZ%2Brrs5VHOiTTt4DqiWzfh638rk6r8T8q2nj6%2BMaClI2dOjtwkFtHAz%2F7IntYW81Xs6qvX%2Bsnxc5xra%2BpI6UJu%2BTwtNWUwqdlIxG2P0Q%2Fj4lhGbx8gGDwffhzzON9aTM%2Fdo2I2z9yt2AmFo49JCi6J6VM8a%2Bwjzt8%2BFqPkbhZKyIpiX5j%2F%2BxkCe1WgmKC6jv4on9gzTYjdIY1a%2BWUwWSj337C7MH2I49EGSWkruqzLNR%2BNlNcFNXSh%2Br2rjFsnXw88P3iZF1ToG3SFVE8rlExvmHGMJhMgVnWnQRNPDTvcTqfT%2BBa3TV9HfcW3dvB2t9g8YSUuJjNSbYQh6oPiVMYfbSvVF%2BLgCVnUlyA5ELuE1Rin0qYSkS7q1eHHF%2BQOFc34Kz2n7%2Bz8kQ7TGB3c8PkbW4YKhe2hFTs8glF6eu4M8cUOPmDD4T%2FYfqz4gs1H4l0WZCAcYkV52Ns%3D&amp;nvMid=33230969618&amp;catId=50010920\"><div class=\"goods_title\">도서</div><div class=\"bookListItem_vendor__d_xBD\">판매처 <!-- -->23</div></a><span class=\"bookPrice_price__zr5dh\">최저<!-- --> <em>22,500</em>원</span></div><a href=\"https://search.shopping.naver.com/book/report/product?nvMid=33230969618\" target=\"popup\" class=\"bookListItem_btn_report__cjrVh linkAnchor\" data-nclick=\"N=a:stab1l*c.report,i:33230969618,r:9\"><svg width=\"12\" height=\"12\" xmlns=\"http://www.w3.org/2000/svg\" class=\"bookListItem_svg_report__xc5Xi\"><g stroke=\"#999\" fill=\"none\" fill-rule=\"evenodd\"><path d=\"M5.999 1a4.166 4.166 0 0 0-4.166 4.166V8.5h8.334V5.166A4.167 4.167 0 0 0 5.999 1z\" stroke-linejoin=\"round\"></path><path d=\"M5.583 3.083c-.92 0-1.666.746-1.666 1.667M1 11h10V8.5H1z\"></path></g></svg>신고</a></div></div></li><li class=\"bookListItem_item_book__1yCey\"><div class=\"bookListItem_item_inner__Fp7hN\"><a target=\"_blank\" rel=\"noopener\" class=\"bookListItem_info_top__VgpiO linkAnchor\" data-nclick=\"N=a:stab1l*c.info,i:36019497623,r:10\" data-i=\"36019497623\" href=\"https://cr3.shopping.naver.com/book/adcr?x=M9viXt4B1ig3kEzl61CZAf%2F%2F%2Fw%3D%3DsBhWgxsIhYtoMbHmStc9x9Jv4ojzsGl0vonMp3eI1Zpq57StUFLKmRh1TRW6ZM83NhPZMJ2V8%2BehhSTjMaB0HPZ7FWzSOT3260RpHjzTrkYvW6%2Fmgy3Y4KMhDn%2BJ6yE4yMQoUMOeBpXsr%2FDUcA16wxd9%2BKy%2Fm0d%2BgYWHtEf61Jo4Nj51x%2B5NtY5Hk3HVsotFZ0gXZQV2KGQx7NtsEuL91cU8WkLc%2Fg0DrJxRdZzdeiZ4Si1jPP8Yt02lZX7%2BJ%2FItcX3h64qwrGLq84J1p5pEmIIWsOdrz2GsDwyuzTkbiJMs%2Bd0TcbJiTH3Lys8V5OoWgcfY62%2F%2BxY4w5xbi4%2BHEPriFzevyVajC7NvPtfqyjQhz2G%2FIxs263uVVLPv6ypRSodXuuPsatgYU9id2jTf8AfUeq7xa2bs6%2FahMzsv2lyyKXi14EzCUiDsS0Ojz3JGkLzfNVo1KcSVSazeZg7M%2BAachmPLalC3ORMYUopjiGStdQLZwCYq0SDcJrkbSnSgouUsc9A%2FGuqi9z9TEzQOB7ihRA8mKc4rx14ZcD6ARy9rLnUozSk6MgpJeDpfnt31s2gRYApx9AEBB0K9mzWlIk%2BzgZQPgKx7yEiM1uVHCZTo3lymLhfOE6tKGKejxXTM6%2B&amp;nvMid=36019497623&amp;catId=50010920\"><div class=\"bookListItem_thumbnail_area__JSZ_U\"><div class=\"bookListItem_thumbnail___NBwO\"><img src=\"https://shopping-phinf.pstatic.net/main_3601949/36019497623.20230801122946.jpg?type=w300\" alt=\"자기주도 파이썬\"/></div></div><div class=\"bookListItem_text_area__hF892\"><div class=\"bookListItem_title__X7f9_\"><span class=\"bookListItem_text__bglOw\"><span>자기주도 파이썬</span><span> (정보영재 및 올림피아드를 위한 최적의 입문서)</span></span></div><div class=\"bookListItem_detail__RBQ6x\"><div class=\"bookListItem_define_item__LdTib\"><span class=\"bookListItem_define_title__ujtNf\">저자</span><span class=\"bookListItem_define_data__kKD8t\">한컴에듀케이션 알고리즘연구소</span></div><div class=\"bookListItem_define_item__LdTib bookListItem_publish____VOP\"><div class=\"bookListItem_detail_publish__FgPYQ\"><span class=\"bookListItem_define_title__ujtNf\">출판</span><span class=\"bookListItem_define_data__kKD8t\">복두출판사</span></div><div class=\"bookListItem_detail_date___byvG\">2022.11.15.</div></div></div><div class=\"bookListItem_grade__tywh2\"><span class=\"bookListItem_star__A_4PU\"><svg width=\"15\" height=\"14\" xmlns=\"http://www.w3.org/2000/svg\" class=\"svg_star\"><g fill=\"none\" fill-rule=\"evenodd\"><path fill=\"#FF5356\" d=\"m5.874 5.513-.374.005L1 5.58l3.867 2.944-.104.335L3.486 13 7.5 10.383l.298.193L11.514 13l-1.38-4.476.284-.217L14 5.58l-4.873-.067L7.5 1z\"></path><path stroke=\"#F43435\" stroke-width=\"0.95\" stroke-linecap=\"round\" stroke-linejoin=\"round\" d=\"M7.5 1 5.873 5.513 5.5 5.52 1 5.58l3.866 2.944-.103.335L3.486 13 7.5 10.383l.298.195L11.514 13l-1.381-4.476.285-.216L14 5.58l-4.873-.067z\"></path></g></svg>평점</span>5.0<!-- -->\\xa0<span class=\"bookListItem_reviewer__kwofa\">(<!-- -->2<!-- -->)</span></div></div></a><a href=\"#\" role=\"button\" class=\"bookListItem_btn_zzim__Jg53Q N=a:stab1l*c.fav,i:36019497623,r:10\" data-nclick=\"N=a:stab1l*c.fav,i:36019497623,r:10\" data-i=\"36019497623\"><svg width=\"27\" height=\"27\" xmlns=\"http://www.w3.org/2000/svg\" class=\"bookListItem_svg_zzim__z_wK4\"><g fill=\"none\" fill-rule=\"evenodd\"><circle stroke=\"#E2E2E2\" fill=\"#FFF\" cx=\"13.5\" cy=\"13.5\" r=\"13\"></circle><path d=\"m13.486 20.77-6.157-6.064a3.749 3.749 0 0 1 2.652-6.398c1.004 0 1.947.39 2.656 1.098.15.236.15.425 0 .567-.15.141-.351.142-.602 0-1.098-1.098-3.011-1.097-4.105 0a2.945 2.945 0 0 0-.001 4.164l5.557 5.472 5.748-5.657c.993-1.127.928-2.884-.167-3.979-1.097-1.1-3.01-1.098-4.107 0l-2.588 2.558a1.206 1.206 0 0 0-.004 1.745c.5.483 1.312.483 1.812 0l2.224-2.19a.426.426 0 0 1 .593-.003.401.401 0 0 1 .004.575l-2.227 2.192a2.17 2.17 0 0 1-2.998.002 2.005 2.005 0 0 1 0-2.894l2.584-2.554a3.727 3.727 0 0 1 2.655-1.096c1.004 0 1.947.39 2.654 1.099 1.393 1.392 1.474 3.63.181 5.095\" fill=\"gray\"></path></g></svg><span class=\"bookListItem_text__bglOw\">찜하기</span></a><div class=\"bookListItem_sub_info__AfkOO\"><div class=\"bookListItem_item_sub__bTJ7u\"><a target=\"_blank\" rel=\"noopener\" class=\"bookListItem_item_box__6Mjr9 linkAnchor\" data-nclick=\"N=a:stab1l*c.pricep,i:36019497623,r:10\" data-i=\"36019497623\" href=\"https://cr3.shopping.naver.com/book/adcr?x=M9viXt4B1ig3kEzl61CZAf%2F%2F%2Fw%3D%3DsBhWgxsIhYtoMbHmStc9x9Jv4ojzsGl0vonMp3eI1Zpq57StUFLKmRh1TRW6ZM83NhPZMJ2V8%2BehhSTjMaB0HPZ7FWzSOT3260RpHjzTrkYvW6%2Fmgy3Y4KMhDn%2BJ6yE4yMQoUMOeBpXsr%2FDUcA16wxd9%2BKy%2Fm0d%2BgYWHtEf61Jo4Nj51x%2B5NtY5Hk3HVsotFZ0gXZQV2KGQx7NtsEuL91cU8WkLc%2Fg0DrJxRdZzdeiZ4Si1jPP8Yt02lZX7%2BJ%2FItcX3h64qwrGLq84J1p5pEmIIWsOdrz2GsDwyuzTkbiJMs%2Bd0TcbJiTH3Lys8V5OoWgcfY62%2F%2BxY4w5xbi4%2BHEPriFzevyVajC7NvPtfqyjQhz2G%2FIxs263uVVLPv6ypRSodXuuPsatgYU9id2jTf8AfUeq7xa2bs6%2FahMzsv2lyyKXi14EzCUiDsS0Ojz3JGkLzfNVo1KcSVSazeZg7M%2BAachmPLalC3ORMYUopjiGStdQLZwCYq0SDcJrkbSnSgouUsc9A%2FGuqi9z9TEzQOB7ihRA8mKc4rx14ZcD6ARy9rLnUozSk6MgpJeDpfnt31s2gRYApx9AEBB0K9mzWlIk%2BzgZQPgKx7yEiM1uVHCZTo3lymLhfOE6tKGKejxXTM6%2B&amp;nvMid=36019497623&amp;catId=50010920\"><div class=\"goods_title\">도서</div><div class=\"bookListItem_vendor__d_xBD\">판매처 <!-- -->21</div></a><span class=\"bookPrice_price__zr5dh\">최저<!-- --> <em>15,300</em>원</span></div><div class=\"bookListItem_item_sub__bTJ7u\"><a target=\"_blank\" rel=\"noopener\" class=\"bookListItem_item_box__6Mjr9 linkAnchor\" data-nclick=\"N=a:stab1l*c.pricee,i:36019497623,r:10\" data-i=\"36019497623\" href=\"https://cr3.shopping.naver.com/book/adcr?x=M9viXt4B1ig3kEzl61CZAf%2F%2F%2Fw%3D%3DsBhWgxsIhYtoMbHmStc9x9Jv4ojzsGl0vonMp3eI1Zpq57StUFLKmRh1TRW6ZM83NhPZMJ2V8%2BehhSTjMaB0HPZ7FWzSOT3260RpHjzTrkYvW6%2Fmgy3Y4KMhDn%2BJ6yE4yMQoUMOeBpXsr%2FDUcA16wxd9%2BKy%2Fm0d%2BgYWHtEf61Jo4Nj51x%2B5NtY5Hk3HVsotFZ0gXZQV2KGQx7NtsEuL91cU8WkLc%2Fg0DrJxRdZzdeiZ4Si1jPP8Yt02lZX7%2BJ%2FItcX3h64qwrGLq84J1p5pEmIIWsOdrz2GsDwyuzTkbiJMs%2Bd0TcbJiTH3Lys8V5OoWgcfY62%2F%2BxY4w5xbi4%2BHEPriFzevyVajC7NvPtfqyjQhz2G%2FIxs263uVVLPv6ypRSodXuuPsatgYU9id2jTf8AfUeq7xa2bs6%2FahMzsv2lyyKXi14EzCUiDsS0Ojz3JGkLzfNVo1KcSVSazeZg7M%2BAachmPLalC3ORMYUopjiGStdQLZwCYq0SDcJrkbSnSgouUsc9A%2FGuqi9z9TEzQOB7ihRA8mKc4rx14ZcD6ARy9rLnUozSk6MgpJeDpfnt31s2gRYApx9AEBB0K9mzWlIk%2BzgZQPgKx7yEiM1uVHCZTo3lymLhfOE6tKGKejxXTM6%2B&amp;nvMid=36019497623&amp;catId=50010920\"><div class=\"goods_title\">e북</div><div class=\"bookListItem_vendor__d_xBD\">판매처 <!-- -->3</div></a><span class=\"bookPrice_price__zr5dh\">구매<!-- --> <em>15,300</em>원</span></div><a href=\"https://search.shopping.naver.com/book/report/product?nvMid=36019497623\" target=\"popup\" class=\"bookListItem_btn_report__cjrVh linkAnchor\" data-nclick=\"N=a:stab1l*c.report,i:36019497623,r:10\"><svg width=\"12\" height=\"12\" xmlns=\"http://www.w3.org/2000/svg\" class=\"bookListItem_svg_report__xc5Xi\"><g stroke=\"#999\" fill=\"none\" fill-rule=\"evenodd\"><path d=\"M5.999 1a4.166 4.166 0 0 0-4.166 4.166V8.5h8.334V5.166A4.167 4.167 0 0 0 5.999 1z\" stroke-linejoin=\"round\"></path><path d=\"M5.583 3.083c-.92 0-1.666.746-1.666 1.667M1 11h10V8.5H1z\"></path></g></svg>신고</a></div></div></li></ul></div><div class=\"Paginator_list_paging__OTDcR\"><a href=\"#\" role=\"button\" class=\"Paginator_active__EWE51\" data-nclick=\"N=a:stab1p.page\">1</a><a href=\"#\" role=\"button\" class=\"\" data-nclick=\"N=a:stab1p.page\">2</a><a href=\"#\" role=\"button\" class=\"\" data-nclick=\"N=a:stab1p.page\">3</a><a href=\"#\" role=\"button\" class=\"\" data-nclick=\"N=a:stab1p.page\">4</a><a href=\"#\" role=\"button\" class=\"\" data-nclick=\"N=a:stab1p.page\">5</a><button type=\"button\" class=\"Paginator_btn_next__0pdVd\" data-nclick=\"N=a:stab1p.next\"><svg width=\"6\" height=\"8\" xmlns=\"http://www.w3.org/2000/svg\" class=\"Paginator_svg_arrow__9BR9T\"><path d=\"m1 0 4 4-4 4\" stroke=\"#888\" fill=\"none\" stroke-linecap=\"square\"></path></svg>다음리스트</button></div></div></div></div></div><div class=\"_footer_footer_2TxxH\"><div class=\"_footer_footer_area_vSoas\"><h2 class=\"blind \">하위영역</h2><div class=\"_footer_info_site_E7GyY\"><a href=\"http://www.naver.com/rules/service.html\" target=\"_blank\" class=\"N=a:fot.agreement \">네이버 이용약관</a><a href=\"https://new-m.pay.naver.com/member/terms-policy/npay-usage\" target=\"_blank\" class=\"N=a:fot.payagreement \">네이버페이 이용약관</a><a href=\"http://www.naver.com/rules/privacy.html\" target=\"_blank\" class=\"N=a:fot.privacy \"><strong>개인정보처리방침</strong></a><a href=\"https://shopping.naver.com/help/legal-basis\" target=\"_blank\" class=\"N=a:fot.disclaimer \">법적고지 및 주의사항</a><a href=\"http://join.shopping.naver.com/index.nhn\" target=\"_blank\" class=\"N=a:fot.join \">입점안내</a><a href=\"https://sell.smartstore.naver.com/#/home/about?tipModal=WINDOW_EXPOSURE&amp;tap=book\" target=\"_blank\" class=\"N=a:fot.shoppingw \">쇼핑윈도 노출안내</a><br/><a href=\"https://center.shopping.naver.com/\" target=\"_blank\" class=\"N=a:fot.ad \">쇼핑파트너센터</a><a href=\"https://sell.storefarm.naver.com/#/home/about\" target=\"_blank\" class=\"N=a:fot.sfsell \">스마트스토어센터</a><a href=\"https://safety.shopping.naver.com\" target=\"_blank\" class=\"N=a:fot.safety \">안전거래센터</a><a href=\"https://new-m.pay.naver.com/member/terms-policy/finance\" target=\"_blank\" class=\"N=a:fot.terms \">전자금융거래약관</a><a href=\"https://help.pay.naver.com/index.nhn\" target=\"_blank\" class=\"N=a:fot.help \">쇼핑&amp;페이 고객센터</a></div><p class=\"_footer_marketing_gID8M\">네이버㈜는 통신판매중개자이며, 통신판매의 당사자가 아닙니다. 상품, 상품정보, 거래에 관한 의무와 책임은 판매자에게 있습니다.</p><address class=\"_footer_address_1pmC5\"><span class=\"_footer_item_3KpZE\">사업자등록번호 : 220-81-62517</span><span class=\"_footer_item_3KpZE\">통신판매업신고번호 : 제2006-경기성남-0692호</span><span class=\"_footer_item_3KpZE\">대표이사 : 최수연</span><a href=\"http://www.ftc.go.kr/bizCommPop.do?wrkr_no=2208162517\" target=\"_blank\" class=\"N=a:fot.rbinformation _footer_item_3KpZE\">사업자등록정보확인</a><span class=\"_footer_item_3KpZE\">이메일 :<!-- --> <a href=\"mailto:helpcustomer@naver.com\" target=\"_blank\">helpcustomer@naver.com</a></span><br/><span class=\"_footer_item_3KpZE\">주소 : 경기도 성남시 분당구 정자일로 95, NAVER 1784, 13561</span><span class=\"_footer_item_3KpZE\">대표전화 : 1588-3819</span><span class=\"_footer_item_3KpZE\"><a href=\"https://help.pay.naver.com/mail/form.help\" target=\"_blank\"><strong>1:1문의 바로가기</strong></a></span><span class=\"_footer_item_3KpZE\">호스팅 서비스 제공 : NAVER Cloud</span></address><p class=\"_footer_copyright_3HxUh\"><a href=\"http://www.naver.com\" class=\"_footer_logo_1YzUN\" target=\"_blank\"><span class=\"blind \">NAVER</span></a>Copyright ©<strong><a href=\"http://www.navercorp.com/ko/index.nhn\" target=\"_blank\">NAVER Corp.</a></strong>All Rights Reserved.</p></div></div></div></div><script id=\"__NEXT_DATA__\" type=\"application/json\">{\"props\":{\"pageProps\":{\"isMobileDomain\":false,\"ogTag\":{\"title\":\"파이썬 : 네이버 도서\",\"description\":\"\\'파이썬\\'의 네이버 도서 검색 결과입니다.\",\"image\":\"https://ssl.pstatic.net/imgshopping/static/mo2014/icon/og_shopping_v2.png\",\"url\":\"https://search.shopping.naver.com/book/search?query=%ED%8C%8C%EC%9D%B4%EC%8D%AC\"},\"isLogin\":false,\"userInfo\":{\"demoType\":\"A00\",\"naverIdNo\":\"\",\"naverId\":\"\",\"nickName\":\"\",\"isAdultAge\":false,\"isRealAdult\":false,\"naverMembershipEndDate\":\"\",\"isValidMembership\":false,\"isFemale\":false,\"isMale\":false,\"koreanAge\":null,\"age\":null,\"nnb\":\"\"},\"dehydratedState\":{\"mutations\":[],\"queries\":[{\"state\":{\"data\":{\"QueryValidation\":{\"validQuery\":\"파이썬\",\"uncorrectedQuery\":null,\"queryValidateResult\":{\"status\":\"NORMAL\",\"isAdultQuery\":false},\"searchBanInfo\":null,\"redirectUrl\":null}},\"dataUpdateCount\":1,\"dataUpdatedAt\":1695104598460,\"error\":null,\"errorUpdateCount\":0,\"errorUpdatedAt\":0,\"fetchFailureCount\":0,\"fetchFailureReason\":null,\"fetchMeta\":null,\"isInvalidated\":false,\"status\":\"success\",\"fetchStatus\":\"idle\"},\"queryKey\":[\"QueryValidation\",{\"params\":{\"query\":\"파이썬\",\"fo\":false}}],\"queryHash\":\"[\\\\\"QueryValidation\\\\\",{\\\\\"params\\\\\":{\\\\\"fo\\\\\":false,\\\\\"query\\\\\":\\\\\"파이썬\\\\\"}}]\"},{\"state\":{\"data\":{\"Nlu\":{\"query\":\"파이썬\",\"nluResult\":{\"q\":\"파이썬\",\"type\":null,\"category\":null,\"categoryIds\":null,\"prize\":null,\"shop\":null,\"author\":null,\"authorIds\":null,\"title\":\"파이썬\",\"publisher\":null,\"theme\":null,\"mg\":null}}},\"dataUpdateCount\":1,\"dataUpdatedAt\":1695104598468,\"error\":null,\"errorUpdateCount\":0,\"errorUpdatedAt\":0,\"fetchFailureCount\":0,\"fetchFailureReason\":null,\"fetchMeta\":null,\"isInvalidated\":false,\"status\":\"success\",\"fetchStatus\":\"idle\"},\"queryKey\":[\"Nlu\",{\"params\":{\"query\":\"파이썬\"}}],\"queryHash\":\"[\\\\\"Nlu\\\\\",{\\\\\"params\\\\\":{\\\\\"query\\\\\":\\\\\"파이썬\\\\\"}}]\"},{\"state\":{\"data\":{\"SearchAll\":{\"bookSasResult\":{\"total\":41572,\"itemCount\":40,\"itemList\":[{\"id\":\"32491517782\",\"title\":\"파이썬과 데이터 과학\",\"subtitle\":\"파이썬으로 시작하는 데이터 과학과 기계학습\",\"thumbnailUrl\":\"https://shopping-phinf.pstatic.net/main_3249151/32491517782.20230313182516.jpg\",\"isAdult\":0,\"author\":\"천인국^박동규\",\"illustrator\":\"\",\"publishDay\":\"20201228\",\"publisher\":\"생능출판\",\"purchaseCnt\":\"0\",\"reviewCount\":10,\"reviewScore\":5,\"keepCount\":\"4\",\"mallName\":\"\",\"lowPrice\":24700,\"rentalPrice\":null,\"nPayPcType\":\"0\",\"nPayMblType\":\"0\",\"goodsType\":\"1\",\"hasDlvryFeeCont\":0,\"dlvryCd\":0,\"prodBuyPntCont\":\"^^\",\"hasProdBuyPntCont\":0,\"cupnCont\":\"^^^\",\"hasCupnCont\":0,\"evtCont\":\"\",\"hasEvtCont\":0,\"naverPayAccumRto\":0,\"chnlSeq\":\"\",\"mallNo\":\"0\",\"awardInfo\":\"\",\"isAnswerBook\":0,\"description\":\"최근 가장 빠르게 인기를 얻고 있는 프로그래밍 언어는 바로 파이썬이다. 그 속도는 놀라울 정도로 빠르며, 새롭게 프로그래밍 언어를 배우는 이들이 가장 많이 시작하는 언어로 자리 잡았다. 다른 언어를 주로 사용하던 프로그래머들도 파이썬을 접하고 나서는 자신이 사용하는 프로그래밍 언어 목록에서 파이썬을 쉽게 제외하지 않는다.\\\\n이러한 인기의 비결은 무엇보다 파이썬의 문법이 간결하고 익히기 쉬워 초보자들도 직관적인 코딩을 할 수 있다는 점일 것이다. 그러나 쉽다는 것만으로 최상의 인기를 누리는 프로그래밍 언어 자리를 차지할 수는 없다. 여러 가지 중요한 문제를 빠르게 해결해 주는 생산성도 없이 그저 쉽기만 한 언어는 장난감 언어에 불과할 것이다.\\\\n파이썬은 간결한 코드로도 엄청나게 많은 일을 할 수 있으며, 이것이 지금의 영예를 누릴 수 있게 된 가장 중요한 이유이다. 특히 최근의 컴퓨터 과학 분야에서 가장 중요한 영역이라 할 데이터 과학에 최적인 언어이면서, 기계학습과 인공지능 분야의 소프트웨어 개발을 가장 효율적으로 해낼 수 있는 언어이다.\\\\n저자들은 독자들에게 파이썬의 문법을 설명하는 일 이상을 하고 싶었다. 그러한 이유로 파이썬의 강력한 능력을 드러내어, 더 깊고 풍부한 프로그래밍의 세계로 독자를 안내하기 위해 이 책을 기획하였다.\\\\n독자들에게 파이썬 언어의 핵심을 전달하는 일과 함께 수치 데이터, 텍스트와 이미지 데이터를 전문가처럼 다룰 수 있도록 돕는 것이 이 책의 목적이다.\\\\n이 책의 저자들은 \\\\\"두근두근 파이썬\\\\\"과 \\\\\"으뜸 파이썬\\\\\"이라는 파이썬 문법 도서를 따로 내어 많은 독자들의 사랑을 받은 바가 있다. 그리고 이제 그 파이썬을 이용해서 할 수 있는 놀라운 일들을 독자들에게 소개하고, 데이터 과학 분야에 들어서는 것을 돕고자 뜻을 모아 이 책을 함께 만들었다. 독자들의 사랑과 충고를 기대한다.\\\\n\\\\n이 책의 특징은 다음과 같다.\\\\nㆍ 파이썬을 처음 익히는 독자들을 위한 친절하고 상세한 설명과 많은 예시 그림이 있다.\\\\nㆍ 각 장은 핵심주제에 맞는 짧은 절로 나뉘어져 있어 간결하게 핵심을 파악할 수 있다.\\\\nㆍ 독자들이 이해한 내용을 스스로 연습하고 확인해 볼 수 있는 LAB 문제들이 있다.\\\\nㆍ 파이썬의 기초부터 시작하지만 실무에 활용 가능한 데이터 처리, 시각화 기술을 다루고 있다.\\\\nㆍ 기계학습과 인공지능 분야의 기초를 독자들이 쉽게 이해할 수 있도록 하였다.\\\\nㆍ 기계학습의 주요 라이브러리인 sckit-learn과 최신 버전의 텐서플로 2.0을 사용하였다.\",\"ebookLowPrice\":null,\"ebookLendLowPrice\":null,\"audioBookLowPrice\":null,\"audioBookLendLowPrice\":null,\"bestsellerRank\":\"컴퓨터/IT 148위\",\"mallTypeCnt\":\"P/21\",\"issueType\":\"2\",\"prodTp\":\"4\",\"mpTp\":0,\"crUrl\":\"https://cr3.shopping.naver.com/book/adcr?x=Wi524gJ4y%2FznHKphY46YCf%2F%2F%2Fw%3D%3DsVRKzwdc2vGX4vGedKIBRNzfeSHsjai2sB6rAcn1mhMu57StUFLKmRh1TRW6ZM83NGiActldglwZI9Ht2Wg2yWp7FWzSOT3260RpHjzTrkYvW6%2Fmgy3Y4KMhDn%2BJ6yE4yMQoUMOeBpXsr%2FDUcA16wxd9%2BKy%2Fm0d%2BgYWHtEf61Jo4Nj51x%2B5NtY5Hk3HVsotFZzMYdV9AdtsvIOwWdjTPYIEIee9mp%2BT1ysnnqhZagQKgSi1jPP8Yt02lZX7%2BJ%2FItcX3h64qwrGLq84J1p5pEmIIWsOdrz2GsDwyuzTkbiJMs%2Bd0TcbJiTH3Lys8V5OoWgcfY62%2F%2BxY4w5xbi4%2BHEPriFzevyVajC7NvPtfqyjQhzOQtKydjLYcG6IJgXO93HKaCggqxzSk0EzU99rGAl7HUeq7xa2bs6%2FahMzsv2lyyJ6UKte4oi8O8Vf%2FhRI0jVAzfNVo1KcSVSazeZg7M%2BAaXBvM%2FBtcGatO2NeQHOOK%2FhwxL22mLYbVXisQOlntWYpgaTmsHOi4pxcTo6ldDev%2BK7ODxYWyQD2bnGnjp5do3Tks4qGbaANy%2Bv7%2F5bsJz2WVtSJNIpLDB1DPvwX3jnaMlp%2BiM69rtZoGmolz8iSxPEiQlobJat8LrVlXwYhm8Ln\\\\u0026nvMid=32491517782\\\\u0026catId=50010920\",\"mallCache\":null},{\"id\":\"36813141618\",\"title\":\"두근두근 파이썬\",\"subtitle\":\"만들면서 배우는\",\"thumbnailUrl\":\"https://shopping-phinf.pstatic.net/main_3681314/36813141618.20230131165403.jpg\",\"isAdult\":0,\"author\":\"천인국\",\"illustrator\":\"\",\"publishDay\":\"20230105\",\"publisher\":\"생능출판\",\"purchaseCnt\":\"0\",\"reviewCount\":3,\"reviewScore\":4.7,\"keepCount\":\"7\",\"mallName\":\"\",\"lowPrice\":23750,\"rentalPrice\":null,\"nPayPcType\":\"0\",\"nPayMblType\":\"0\",\"goodsType\":\"1\",\"hasDlvryFeeCont\":0,\"dlvryCd\":0,\"prodBuyPntCont\":\"^^\",\"hasProdBuyPntCont\":0,\"cupnCont\":\"^^^\",\"hasCupnCont\":0,\"evtCont\":\"\",\"hasEvtCont\":0,\"naverPayAccumRto\":0,\"chnlSeq\":\"\",\"mallNo\":\"0\",\"awardInfo\":\"\",\"isAnswerBook\":0,\"description\":\"파이썬은 지금도 프로그래밍 언어 분야에 1위를 지키고 있는 매우 인기있는 언어이다. 파이썬은 인공지능이나 빅데이터 분야의 필수 언어가 되었고, 과학이나 공학 분야 뿐만 아니라 인문, 사회 과학 분야에서도 사용되고 있다. 무엇보다도 간결하고 사용하기가 쉬워서 그럴 것이다. 이번 개정판에서는 다음과 같은 점을 보완하고 수정하였다.\\\\n\\\\nㆍ 초판과 마찬가지로 적절한 그림을 가능한, 많이 사용하여 친숙하고, 지루하지 않으며 독자들이 이해하기 쉬운 교재를 만들려고 노력하였다. 터틀 그래픽과 tkinter 등을 이용하여서 흥미있는 예제들을 제공하려고 노력하였다.\\\\n\\\\nㆍ 파이썬이 인기있는 또 다른 이유는 강력한 라이브러리 때문이다. 초판에 비하여, 개정판에서는 라이브러리 사용 예제를 추가하였다. 너무 복잡한 라이브러리는 제외하였고 맷플롯립(MatPlotLib), 필로우(Pillow), OpenCV, PyGame 등의 기초적인 예제를 추가하였다.\\\\n\\\\nㆍ 예제 중에서 좀 더 심도있게 살펴보아야 할 주제는 LAB으로 제공하였다. LAB의 기본 소스를 학습자들이 수정 보완할 수 있도록 도전 문제를 추가하였다.\\\\n\\\\nㆍ 학습자들이 프로젝트로 진행할만한 주제들을 8장과 14장에 배치하여서 프로젝트 주제로 사용될 수 있도록 하였다.\",\"ebookLowPrice\":null,\"ebookLendLowPrice\":null,\"audioBookLowPrice\":null,\"audioBookLendLowPrice\":null,\"bestsellerRank\":\"컴퓨터/IT 73위\",\"mallTypeCnt\":\"P/39\",\"issueType\":\"2\",\"prodTp\":\"4\",\"mpTp\":0,\"crUrl\":\"https://cr3.shopping.naver.com/book/adcr?x=NYmw9FPq%2Fq7j3R6oR5Ewa%2F%2F%2F%2Fw%3D%3DsX9bpBnXcK6EgSE%2B607bY5Yedz%2BNPwlR98yCV2r6HHV257StUFLKmRh1TRW6ZM83NkQwsi%2BW4bf7pZFKDQqE68J7FWzSOT3260RpHjzTrkYvW6%2Fmgy3Y4KMhDn%2BJ6yE4yMQoUMOeBpXsr%2FDUcA16wxd9%2BKy%2Fm0d%2BgYWHtEf61Jo4Nj51x%2B5NtY5Hk3HVsotFZAxItDgp4cohouEOBMj54g8bifAAc%2BhVGpw5Z9hbvMMwSi1jPP8Yt02lZX7%2BJ%2FItcX3h64qwrGLq84J1p5pEmIIWsOdrz2GsDwyuzTkbiJMs%2Bd0TcbJiTH3Lys8V5OoWgcfY62%2F%2BxY4w5xbi4%2BHEPriFzevyVajC7NvPtfqyjQhxOZ6sRK7M5%2B3zTagwNHELQkJSqE1u6AUeUuHufxXkT4keq7xa2bs6%2FahMzsv2lyyKHXTfrk1XTxFNU2hJyHp41zfNVo1KcSVSazeZg7M%2BAaRKaJHYB2HOTyB%2FIejk632FQLZwCYq0SDcJrkbSnSgou8MxkEbODCn3%2B%2BGcSmQ0uCruo9TKHCl3EfytqJwsWr7jnUozSk6MgpJeDpfnt31s2KyiA%2Bw4go0d0EBdHHTNA8eJEDFLiZr8L6jKAK6mGKxTh8lJwzwUuC%2FejUzuiaBcc\\\\u0026nvMid=36813141618\\\\u0026catId=50010920\",\"mallCache\":null},{\"id\":\"42173058623\",\"title\":\"코딩 뇌를 깨우는 파이썬\",\"subtitle\":\"문제 해결 능력을 키우는 컴퓨팅 사고부터 알고리즘, 데이터 분석, 머신러닝까지\",\"thumbnailUrl\":\"https://shopping-phinf.pstatic.net/main_4217305/42173058623.20230905101047.jpg\",\"isAdult\":0,\"author\":\"존 V. 구태그\",\"illustrator\":\"\",\"publishDay\":\"20230830\",\"publisher\":\"한빛미디어\",\"purchaseCnt\":\"0\",\"reviewCount\":0,\"reviewScore\":0,\"keepCount\":\"0\",\"mallName\":\"\",\"lowPrice\":31500,\"rentalPrice\":null,\"nPayPcType\":\"0\",\"nPayMblType\":\"0\",\"goodsType\":\"3\",\"hasDlvryFeeCont\":0,\"dlvryCd\":0,\"prodBuyPntCont\":\"^^\",\"hasProdBuyPntCont\":0,\"cupnCont\":\"^^^\",\"hasCupnCont\":0,\"evtCont\":\"\",\"hasEvtCont\":0,\"naverPayAccumRto\":0,\"chnlSeq\":\"\",\"mallNo\":\"0\",\"awardInfo\":\"\",\"isAnswerBook\":0,\"description\":\"잠자는 코딩 뇌를 깨워라\\\\n파이썬 기초부터 머신러닝까지 한 권에!\\\\n\\\\n프로그래밍 경험이나 지식이 없는 분들을 위해 파이썬과 다양한 라이브러리(넘파이, 맷플롯립, 판다스, 사이킷런 등)를 사용한 문제 해결 비법을 소개합니다. 이 책을 통해 일상에서 마주하는 다양한 문제를 프로그래밍으로 해결하는 기술을 배워보세요. 데이터 모델링과 해석 같은 데이터 과학의 핵심을 배우고, 간단한 머신러닝 기법도 만나봅니다.\\\\n이 책은 MIT 강의를 기반으로 만들어진 컴퓨터 과학 입문서로 프로그래밍을 전혀 모르는 초보자도 부담 없이 펼쳐볼 수 있습니다. 컴퓨팅 사고와 간단한 알고리즘처럼 프로그래밍 입문에 꼭 필요한 주제로 잠들어 있던 코딩 뇌를 깨우세요. 각 장에 마련된 뇌풀기 문제를 통해 데이터 시각화나 시뮬레이션, 데이터 계산 기법, 머신러닝 같은 실용적인 주제를 살펴보며 프로그래밍 능력을 키워봅시다.\",\"ebookLowPrice\":25200,\"ebookLendLowPrice\":null,\"audioBookLowPrice\":null,\"audioBookLendLowPrice\":null,\"bestsellerRank\":\"컴퓨터/IT 80위\",\"mallTypeCnt\":\"P/91|E/4\",\"issueType\":\"3\",\"prodTp\":\"4\",\"mpTp\":0,\"crUrl\":\"https://cr3.shopping.naver.com/book/adcr?x=a05vSHHj%2B%2B1WKG2fgbZvuv%2F%2F%2Fw%3D%3Dsmu1ZXAKhU9cLyjiIaGN0NVsdtYm2y4MU33DDPQ%2BPO7%2BJnnL5Sdl1Om0OnvyPouDNNPoMY7Qyb2DC9KtArSMrc8ez10KvC75IXKXEmsZjpY3VMc6ISzfSnRmT9F0G4N3nY8EigvBQinIZsg%2B2TARrJsv%2BjB2erv%2BZ%2Brrs5VHOiTTt4DqiWzfh638rk6r8T8q24D0Xwus0ivXag7Ag1tsGrP7IntYW81Xs6qvX%2Bsnxc5xra%2BpI6UJu%2BTwtNWUwqdlIxG2P0Q%2Fj4lhGbx8gGDwffhzzON9aTM%2Fdo2I2z9yt2AmFo49JCi6J6VM8a%2Bwjzt8%2BFqPkbhZKyIpiX5j%2F%2BxkCe1WgmKC6jv4on9gzTYjdIY0wLX1kFCoUYWiIJ2IcLtLqSWkruqzLNR%2BNlNcFNXSh%2Br2rjFsnXw88P3iZF1ToG3Tzke9xqokF8gqeKRDS5EgIWjQqm0nba4rLoBgE8SauX6NPOa7btcUyJYftN8mIC0Kca4Eilmnx6oXlvGWl3rDBdp9sSWzyQ0u3D14Lop0GNiYFs%2BpDC4Hd0fa10Sd%2B318udrATo8ESSBvbB%2BoYa1DS%2Fqy4FAfVXrxVJ0%2FiEW4NWK1nsfBi9KlpuZGyIHYMxahzS0NmutU52%2FeznATz8xiY\\\\u0026nvMid=42173058623\\\\u0026catId=50010920\",\"mallCache\":null},{\"id\":\"40354085633\",\"title\":\"Do it! 점프 투 파이썬\",\"subtitle\":\"중학생도 첫날부터 실습하는 초고속 입문서\",\"thumbnailUrl\":\"https://shopping-phinf.pstatic.net/main_4035408/40354085633.20230919130929.jpg\",\"isAdult\":0,\"author\":\"박응용\",\"illustrator\":\"\",\"publishDay\":\"20230615\",\"publisher\":\"이지스퍼블리싱\",\"purchaseCnt\":\"0\",\"reviewCount\":49,\"reviewScore\":4.9,\"keepCount\":\"50\",\"mallName\":\"\",\"lowPrice\":19800,\"rentalPrice\":null,\"nPayPcType\":\"0\",\"nPayMblType\":\"0\",\"goodsType\":\"3\",\"hasDlvryFeeCont\":0,\"dlvryCd\":0,\"prodBuyPntCont\":\"^^\",\"hasProdBuyPntCont\":0,\"cupnCont\":\"^^^\",\"hasCupnCont\":0,\"evtCont\":\"\",\"hasEvtCont\":0,\"naverPayAccumRto\":0,\"chnlSeq\":\"\",\"mallNo\":\"0\",\"awardInfo\":\"\",\"isAnswerBook\":0,\"description\":\"프로그래밍 분야 8년 연속 베스트셀러!\\\\n《Do it! 점프 투 파이썬》 전면 개정 2판 출시!\\\\n\\\\n중고등학생도, 비전공자도, 직장인도 프로그래밍에 눈뜨게 만든 바로 그 책이 전면 개정 2판으로 새롭게 태어났다! 챗GPT를 시작으로 펼쳐진 생성 AI 시대에 맞춰 설명과 예제를 다듬고, 최신 경향과 심화 내용을 보충했다. 또한 이번 개정 2판도 50만 코딩 유튜버인 조코딩과 협업을 통해 유튜브 동영상을 제공해 파이썬을 더 쉽게 공부할 수 있다.\\\\n\\\\n8년 연속 베스트셀러! 위키독스 누적 방문 300만! 독자의 입에서 입으로 전해진 추천과 수많은 대학 및 학원의 교재 채택을 통해 검증은 이미 끝났다. 코딩을 처음 배우는 중고등학생부터 코딩 소양을 기르려는 비전공자, 자기계발에 진심인 직장인까지! 이 책과 함께 파이썬 프로그래밍의 세계로 ‘점프’해 보자!\",\"ebookLowPrice\":13500,\"ebookLendLowPrice\":null,\"audioBookLowPrice\":null,\"audioBookLendLowPrice\":null,\"bestsellerRank\":\"컴퓨터/IT 5위\",\"mallTypeCnt\":\"P/162|E/4\",\"issueType\":\"2\",\"prodTp\":\"4\",\"mpTp\":0,\"crUrl\":\"https://cr3.shopping.naver.com/book/adcr?x=JyXEqL66RswxDqCn4X7uU%2F%2F%2F%2Fw%3D%3Ds5wg5KYHWWnwvyrz4xSq%2FWozKVMbAl8ugU7g5HiMGCHy57StUFLKmRh1TRW6ZM83N4%2F5KWZ6tFStUdfjr3R86IZ7FWzSOT3260RpHjzTrkYvW6%2Fmgy3Y4KMhDn%2BJ6yE4yMQoUMOeBpXsr%2FDUcA16wxd9%2BKy%2Fm0d%2BgYWHtEf61Jo4Nj51x%2B5NtY5Hk3HVsotFZAnxZJG0XE4iQR8nldX95MF7lf97rnwmjkFEj%2FbIsWo8Si1jPP8Yt02lZX7%2BJ%2FItcX3h64qwrGLq84J1p5pEmIIWsOdrz2GsDwyuzTkbiJMs%2Bd0TcbJiTH3Lys8V5OoWgcfY62%2F%2BxY4w5xbi4%2BHEPriFzevyVajC7NvPtfqyjQhy0vsTb0N96OfouyaNPBJmGbSaYUAR5OgK45HyKFf50r0eq7xa2bs6%2FahMzsv2lyyKAy%2BQuR2QQ0ZwvsTrKpWDLzfNVo1KcSVSazeZg7M%2BAaVq4ieBZFlKty9pEQZ2mYpBEkjl0kXQRv0ricU1YZ%2B0FMhn5r4ftWDF2E66Jr8uMt%2BCJsjhVia1FPoNfnPCAK9Eh7avOjVf9UscdQuAPGD3PyMRKY036vKJ6UZX3NwIa3s3zVaNSnElUms3mYOzPgGmNdPisRTy5Azu8oXP0HAys\\\\u0026nvMid=40354085633\\\\u0026catId=50010920\",\"mallCache\":null},{\"id\":\"42484664618\",\"title\":\"나는 파이썬으로 머신러닝한다 2\",\"subtitle\":\"인공지능 자신감 UP 인공지능 약간 매운맛\",\"thumbnailUrl\":\"https://shopping-phinf.pstatic.net/main_4248466/42484664618.20230919131751.jpg\",\"isAdult\":0,\"author\":\"장병철^이지항^박지훈^최정원\",\"illustrator\":\"\",\"publishDay\":\"20230901\",\"publisher\":\"씨마스\",\"purchaseCnt\":\"0\",\"reviewCount\":1,\"reviewScore\":5,\"keepCount\":\"0\",\"mallName\":\"\",\"lowPrice\":20700,\"rentalPrice\":null,\"nPayPcType\":\"0\",\"nPayMblType\":\"0\",\"goodsType\":\"1\",\"hasDlvryFeeCont\":0,\"dlvryCd\":0,\"prodBuyPntCont\":\"^^\",\"hasProdBuyPntCont\":0,\"cupnCont\":\"^^^\",\"hasCupnCont\":0,\"evtCont\":\"\",\"hasEvtCont\":0,\"naverPayAccumRto\":0,\"chnlSeq\":\"\",\"mallNo\":\"0\",\"awardInfo\":\"\",\"isAnswerBook\":0,\"description\":\"〈나는 파이썬으로 머신러닝한다 2 약간 매운맛〉\\\\n\\\\n파이썬 문법과 머신러닝 기초 입문 도서 ‘나는 파이썬으로 머신러닝한다 1(순한맛)’에 이은 ‘나는 파이썬으로 머신러닝한다 2(약간 매운맛)’은 머신러닝 알고리즘의 핵심 원리와 실제 적용을 체계적으로 익힐 수 있는 안내서입니다.\\\\n\\\\n2015개정 교육 과정 교과서 집필에 참여한 저자의 교육 경험을 바탕으로 인공지능의 원리를 좀 더 자세히 알고자 하는 분들을 위해 자세한 설명과 그림을 수록하여 학습자뿐만 아니라 학생들을 지도하시는 선생님들에게 도움이 될 수 있도록 내용을 구성하였습니다.\\\\n\\\\n머신러닝 알고리즘의 원리를 학습자의 눈높이에서 이해할 수 있도록 각 PART를 개념 학습 + 실습 학습으로 구성하여 학습자들이 머신러닝 알고리즘에 대한 전반적인 이해를 도울 수 있는 개념과(개념 학습), 활동에 제시된 문제를 해결하기 위해 알고리즘의 주요 용어, 특징(맛보기), 모델 학습에 사용한 머신러닝 알고리즘의 핵심 원리를 깊이 있게 탐구(더 자세히) 할 수 있도록 하였습니다.\",\"ebookLowPrice\":null,\"ebookLendLowPrice\":null,\"audioBookLowPrice\":null,\"audioBookLendLowPrice\":null,\"bestsellerRank\":\"컴퓨터/IT 79위\",\"mallTypeCnt\":\"P/54\",\"issueType\":\"3\",\"prodTp\":\"4\",\"mpTp\":0,\"crUrl\":\"https://cr3.shopping.naver.com/book/adcr?x=f1YAbF%2BLxQn6TT0AlqRToP%2F%2F%2Fw%3D%3DsZICmKW%2Ffdrr6iu8i11y50fApaABCCYqURKLfMS22p4ToLdJsmLe0ih5KVXMQNR0tF02GRVJRSPR7frshrCcMlNxIjgbflltgvEQbLoNWERSccjp4dwMX%2Fb%2BwjPoiKkopDGFJhaa7gItRzyDgzBdRcVVd6Z%2BmZ5fvTALbBBPmfKIKVnJqocqfFwLra6hFr54BWb1Mb7biPToyquRF3aK3pfj6xDMeJaPTHtDIoNWns%2BM%2BoN22s6dKwm7Qn7boTIbfr9lKBJ72xSdUlAg54IqouvziKuqi6lvlwe2gIVAf2UAfPZcFNtCPSmp7XCTzD5M1nTA3JmbDOshDuZxVHcaj%2FBTTVoyc1TJkglBxgQt00u00R8LmVsuIXrRndZNjKZnjvd1KjBnNlG933oUkWOZUeI%2BTI5LtliRqfOF7YCo%2BEYn8ORx0MpKNZ%2FBQpEkYlichf5VORkkZ%2FGzAPyNzthD%2F9BPsy9mvWb%2BCKv1o4PpMB9xyTNBcUUJVidWPWHxY6%2BwSTx0m%2FAsuHmYr5t4JKRbLE%2FVuYP%2FxcWayoXsHb3qiiaQXgKCBXaokRPfV2QcULfft63amo3CAIgaDXQIo6fYMWvEnYw5CxZ3h2t2wyM7r4g4tv14vi5WSJ1CQMeM9rnwvzUhNzs2VE%2B%2Bisqs3JAEppg%3D%3D\\\\u0026nvMid=42484664618\\\\u0026catId=50010920\",\"mallCache\":null},{\"id\":\"32507605957\",\"title\":\"혼자 공부하는 파이썬\",\"subtitle\":\"1:1 과외하듯 배우는 프로그래밍 자습서\",\"thumbnailUrl\":\"https://shopping-phinf.pstatic.net/main_3250760/32507605957.20230509170119.jpg\",\"isAdult\":0,\"author\":\"윤인성\",\"illustrator\":\"\",\"publishDay\":\"20220601\",\"publisher\":\"한빛미디어\",\"purchaseCnt\":\"0\",\"reviewCount\":19,\"reviewScore\":4.9,\"keepCount\":\"122\",\"mallName\":\"\",\"lowPrice\":19800,\"rentalPrice\":null,\"nPayPcType\":\"0\",\"nPayMblType\":\"0\",\"goodsType\":\"3\",\"hasDlvryFeeCont\":0,\"dlvryCd\":0,\"prodBuyPntCont\":\"^^\",\"hasProdBuyPntCont\":0,\"cupnCont\":\"^^^\",\"hasCupnCont\":0,\"evtCont\":\"\",\"hasEvtCont\":0,\"naverPayAccumRto\":0,\"chnlSeq\":\"\",\"mallNo\":\"0\",\"awardInfo\":\"\",\"isAnswerBook\":0,\"description\":\"혼자 해도 충분하다! 1:1 과외하듯 배우는 파이썬 프로그래밍 자습서\\\\n\\\\n『혼자 공부하는 파이썬』이 더욱 흥미있고 알찬 내용으로 개정되었습니다. 프로그래밍이 정말 처음인 입문자도 따라갈 수 있는 친절한 설명과 단계별 학습은 그대로! 혼자 공부하더라도 체계적으로 계획을 세워 학습할 수 있도록 ‘혼공 계획표’를 새롭게 추가했습니다. 또한 입문자가 자주 물어보는 질문과 오류 해결 방법을 적재적소에 배치하여 예상치 못한 문제에 부딪혀도 좌절하지 않고 끝까지 완독할 수 있도록 도와줍니다. 단순한 문법 암기와 코딩 따라하기에 지쳤다면, 새로운 혼공파와 함께 ‘누적 예제’와 ‘도전 문제’로 프로그래밍의 신세계를 경험해 보세요! 배운 내용을 씹고 뜯고 맛보고 즐기다 보면 응용력은 물론 알고리즘 사고력까지 키워 코딩 실력이 쑥쑥 성장할 것입니다.\\\\n\\\\n이 책은 독학으로 파이썬을 배우는 입문자가 ‘꼭 필요한 내용을 제대로 학습’할 수 있도록 구성했습니다. 뭘 모르는지조차 모르는 입문자의 막연한 마음에 십분 공감하여 과외 선생님이 알려주듯 친절하게, 핵심적인 내용만 콕콕 집어줍니다. 책의 첫 페이지를 펼쳐서 마지막 페이지를 덮을 때까지, 혼자서도 충분히 파이썬을 배울 수 있다는 자신감과 확신이 계속될 것입니다!\\\\n\\\\n베타리더와 함께 입문자에게 맞는 난이도, 분량, 학습 요소 등을 적극 반영했습니다. 어려운 용어와 개념은 한 번 더 풀어쓰고, 복잡한 설명은 눈에 잘 들어오는 그림으로 풀어냈습니다. ‘혼자 공부해 본’ 여러 입문자의 초심과 눈높이가 책 곳곳에 반영된 것이 이 책의 가장 큰 장점입니다.\",\"ebookLowPrice\":15840,\"ebookLendLowPrice\":null,\"audioBookLowPrice\":null,\"audioBookLendLowPrice\":null,\"bestsellerRank\":\"컴퓨터/IT 9위\",\"mallTypeCnt\":\"P/137|E/4\",\"issueType\":\"2\",\"prodTp\":\"4\",\"mpTp\":0,\"crUrl\":\"https://cr3.shopping.naver.com/book/adcr?x=iVlQkdteK1YMcziwQKjBEP%2F%2F%2Fw%3D%3DsYEjgDY9q9tdDVinsl1Pxn3SavTTTXiBICYZv52R7PIy57StUFLKmRh1TRW6ZM83NEerzm9pKXXc38rYaCzt7Hp7FWzSOT3260RpHjzTrkYvW6%2Fmgy3Y4KMhDn%2BJ6yE4yMQoUMOeBpXsr%2FDUcA16wxd9%2BKy%2Fm0d%2BgYWHtEf61Jo4Nj51x%2B5NtY5Hk3HVsotFZd6XR4pPaLRiYiJIYw70nSj3U7Q6MTwrU3FR7udgasvcSi1jPP8Yt02lZX7%2BJ%2FItcX3h64qwrGLq84J1p5pEmIIWsOdrz2GsDwyuzTkbiJMs%2Bd0TcbJiTH3Lys8V5OoWgcfY62%2F%2BxY4w5xbi4%2BHEPriFzevyVajC7NvPtfqyjQhzKHpHnQMgBBnCTd6N%2Bf0%2F3nej2z53PUS1TSUIYwD3Ij0eq7xa2bs6%2FahMzsv2lyyIoFUJht16kwWLdhhtLycuBzfNVo1KcSVSazeZg7M%2BAaU2IVjL6BFcjteNcmc1cUOjGup%2B6sy11P0ZgwthWWcP9gaTmsHOi4pxcTo6ldDev%2BIZMDaUx77Vs0mY%2FoeAAdLDks4qGbaANy%2Bv7%2F5bsJz2WmE11trPbpjt%2BN5%2Fk87U1GFp%2BiM69rtZoGmolz8iSxPEiQlobJat8LrVlXwYhm8Ln\\\\u0026nvMid=32507605957\\\\u0026catId=50010920\",\"mallCache\":null},{\"id\":\"40595743620\",\"title\":\"파이썬으로 쉽게 배우는 자료구조\",\"subtitle\":\"개정판\",\"thumbnailUrl\":\"https://shopping-phinf.pstatic.net/main_4059574/40595743620.20230711115354.jpg\",\"isAdult\":0,\"author\":\"최영규^천인국\",\"illustrator\":\"\",\"publishDay\":\"20230626\",\"publisher\":\"생능출판\",\"purchaseCnt\":\"0\",\"reviewCount\":1,\"reviewScore\":3,\"keepCount\":\"4\",\"mallName\":\"\",\"lowPrice\":26100,\"rentalPrice\":null,\"nPayPcType\":\"0\",\"nPayMblType\":\"0\",\"goodsType\":\"1\",\"hasDlvryFeeCont\":0,\"dlvryCd\":0,\"prodBuyPntCont\":\"^^\",\"hasProdBuyPntCont\":0,\"cupnCont\":\"^^^\",\"hasCupnCont\":0,\"evtCont\":\"\",\"hasEvtCont\":0,\"naverPayAccumRto\":0,\"chnlSeq\":\"\",\"mallNo\":\"0\",\"awardInfo\":\"\",\"isAnswerBook\":0,\"description\":\"자료구조(data structure)는 컴퓨터로 처리할 자료들을 효율적으로 관리하고 구조화시키기 위한 학문으로 컴퓨터 분야에서 매우 중요하고 기초적인 과목이다. 그러나 개념의 이해와 함께 코딩을 통한 구현 능력이 필수적으로 요구되기 때문에 학생들이 어려워하는 과목이기도 하다.\\\\n이 책은 입문자들이 보다 쉽고 재미있게 자료구조를 공부하고 다양한 문제 해결에 활용할 수 있는 능력을 기르는데 초점을 맞추었다.\",\"ebookLowPrice\":null,\"ebookLendLowPrice\":null,\"audioBookLowPrice\":null,\"audioBookLendLowPrice\":null,\"bestsellerRank\":\"컴퓨터/IT 70위\",\"mallTypeCnt\":\"P/30\",\"issueType\":\"2\",\"prodTp\":\"4\",\"mpTp\":0,\"crUrl\":\"https://cr3.shopping.naver.com/book/adcr?x=tsG5Pqd9f76gIk%2FlLCJeDv%2F%2F%2Fw%3D%3DsnVGIlDeZJF21RU%2B9wIt0EADeK0r7UFHCh33%2FfIt%2BPKLoLdJsmLe0ih5KVXMQNR0tXNTKtPLgAU84kPJtSYgKBNxIjgbflltgvEQbLoNWERSccjp4dwMX%2Fb%2BwjPoiKkopDGFJhaa7gItRzyDgzBdRcVVd6Z%2BmZ5fvTALbBBPmfKIKVnJqocqfFwLra6hFr54BvFkdfWOmiTgcIZ49%2FP01L%2Fj6xDMeJaPTHtDIoNWns%2BM%2BoN22s6dKwm7Qn7boTIbfr9lKBJ72xSdUlAg54IqouvziKuqi6lvlwe2gIVAf2UAfPZcFNtCPSmp7XCTzD5M1nTA3JmbDOshDuZxVHcaj%2FBTTVoyc1TJkglBxgQt00u2t8T04SRo0fezYpMshUM8Evd1KjBnNlG933oUkWOZUeI%2BTI5LtliRqfOF7YCo%2BEYkxwqLe5s0YbfkYFtJ8t2dGf2AuPqje%2Bd5jNfTrpcYfVGBpBr2l2pK%2FEYpRPsmgr5YX%2Fw5SbY7hzDeFihWOPTYrGaDs4wHWQiSrERQ882wenGvdKAo9BBIP7%2BjIdE6Tpo1cIBDN8Tkg7QBeqHvLjYM3TL8Iaz9ooeT7ZukKAi%2BFxZ1kAkBxOq9C%2BB8UnbGJGC84GUD4Cse8hIjNblRwmU6N5cpi4XzhOrShino8V0zOvg%3D%3D\\\\u0026nvMid=40595743620\\\\u0026catId=50010920\",\"mallCache\":null},{\"id\":\"34233217628\",\"title\":\"디딤돌 파이썬\",\"subtitle\":\"구조적 프로그래밍으로 설명한 파이썬 기초\",\"thumbnailUrl\":\"https://shopping-phinf.pstatic.net/main_3423321/34233217628.20221019114545.jpg\",\"isAdult\":0,\"author\":\"이찬수\",\"illustrator\":\"\",\"publishDay\":\"20220823\",\"publisher\":\"인피니티북스\",\"purchaseCnt\":\"0\",\"reviewCount\":0,\"reviewScore\":0,\"keepCount\":\"0\",\"mallName\":\"\",\"lowPrice\":26100,\"rentalPrice\":null,\"nPayPcType\":\"0\",\"nPayMblType\":\"0\",\"goodsType\":\"1\",\"hasDlvryFeeCont\":0,\"dlvryCd\":0,\"prodBuyPntCont\":\"^^\",\"hasProdBuyPntCont\":0,\"cupnCont\":\"^^^\",\"hasCupnCont\":0,\"evtCont\":\"\",\"hasEvtCont\":0,\"naverPayAccumRto\":0,\"chnlSeq\":\"\",\"mallNo\":\"0\",\"awardInfo\":\"\",\"isAnswerBook\":0,\"description\":\"이 책은 파이썬의 고유한 문법이나 그에 대한 활용보다는, 파이썬 언어를 기반으로 한 컴퓨터 프로그래밍과 문제해결에 비중을 두고 있다. 이를 위해 일반적인 파이썬 학습 순서와는 달리 첫 시작부터 ‘사용자 정의 함수’를 중심으로 서술한다.\\\\n다양한 예제를 통해 문제의 요구사항을 의사코드로 설계하고, 이를 실제로 구현해볼 수 있다. 이 과정에서 복잡한 문제를 좀 더 다루기 쉽도록 작은 규모로 분해하고, 함수로 구조화하여 문제를 해결한다. 또한 앞에서 다룬 코드에 기능을 추가하거나 수정하여 프로그램을 점차 확장시킨다. 이러한 학습 과정으로 어떤 새롭고 복잡한 문제를 만나더라도 스스로 해결할 수 있는 능력을 갖출 수 있을 것이다.\\\\n\\\\n이 책의 구성\\\\n- 1장: 컴퓨터 시스템의 기본 특징을 통해 프로그래밍에 대한 개념을 소개한다. \\\\n- 2장: 파이썬 소스코드에 나타나는 주석과 문장, 리터럴 그리고 함수에 대해 소개한다. \\\\n- 3장: 변수에 대한 개념과 입력문을 통해 데이터를 입력 받는 방법에 대해 알아본다. \\\\n- 4장: 하나의 연산 표현식을 이루는 기본 연산자 중 부호, 산술, 대입, 비트, 축약 대입 연산자 그리고 연산자 우선순위와 결합규칙을 소개함으로써 기본적인 연산을 처리하는 프로그램을 작성할 수 있도록 한다.\\\\n- 5장: 지역변수와 전역변수의 차이를 기반으로 함수 호출 메커니즘에 대한 온전한 이해를 도모한다.\\\\n- 6장: 문자열을 표현하는 다양한 방법과 문자열에서 제공되는 기본 메서드에 대해 소개한다. \\\\n- 7장: 비교 연산자와 논리 연산자를 기반으로 조건평가식을 구성하고, 이를 조건문에 적용해 본다.\\\\n- 8장: 프로그램에서의 반복 루프를 효율적으로 기술하기 위해 while 문과 for 문에 대해 다룬다.\\\\n- 9장: 복합 자료형 중 리스트와 튜플, 딕셔너리에 대해 다룬다.\\\\n- 10장: 복합 자료형의 데이터를 반복문과 같이 좀 더 효율적으로 사용하는 방법에 대해 다룬다.\\\\n- 11장: 객체지향 프로그래밍에 대한 기본 개념들을 다룬다.\\\\n- 12장: 데이터 파일에 대한 개념과 더불어 데이터 파일에 입출력하는 방법에 대해 다룬다.\\\\n- 13장: tkinter 모듈을 인용해 GUI 프로그램을 작성하는 방법에 대해 소개한다.\",\"ebookLowPrice\":null,\"ebookLendLowPrice\":null,\"audioBookLowPrice\":null,\"audioBookLendLowPrice\":null,\"bestsellerRank\":\"\",\"mallTypeCnt\":\"P/23\",\"issueType\":\"0\",\"prodTp\":\"4\",\"mpTp\":0,\"crUrl\":\"https://cr3.shopping.naver.com/book/adcr?x=FEB%2FyLp9QdW7YRB7uo4F7f%2F%2F%2Fw%3D%3DsYXZdMv%2BSlS%2Fzgo0JRGee%2Fp7bwNXfK9okJVzR5lFNxsmJnnL5Sdl1Om0OnvyPouDNWsHgd59aodcZg4noxYK97cez10KvC75IXKXEmsZjpY3VMc6ISzfSnRmT9F0G4N3nY8EigvBQinIZsg%2B2TARrJsv%2BjB2erv%2BZ%2Brrs5VHOiTTt4DqiWzfh638rk6r8T8q2b07ghmkLuHkkg743TIAdMP7IntYW81Xs6qvX%2Bsnxc5xra%2BpI6UJu%2BTwtNWUwqdlIxG2P0Q%2Fj4lhGbx8gGDwffhzzON9aTM%2Fdo2I2z9yt2AmFo49JCi6J6VM8a%2Bwjzt8%2BFqPkbhZKyIpiX5j%2F%2BxkCe1WgmKC6jv4on9gzTYjdIY2xfAxiZlReU27hOsieXre3SWkruqzLNR%2BNlNcFNXSh%2Br2rjFsnXw88P3iZF1ToG3SY%2FdVuToRNBhAmcloqDZs%2FqdBNsTtFRV22m6lbk6e%2BY24MBrv0odS5b4MSy65w6Etf0yhAU4p06hPTGmJPKPmljfZ6iDk3KJfrgos6patt1FMpu6gmuPI6RDtROkHuF9vTGB3c8PkbW4YKhe2hFTs8gq8x2MrzjCFf0q4xhTxb9Kz4gs1H4l0WZCAcYkV52Ns%3D\\\\u0026nvMid=34233217628\\\\u0026catId=50010920\",\"mallCache\":null},{\"id\":\"33230969618\",\"title\":\"파이썬 스타트\",\"subtitle\":\"AI로 가는 첫걸음\",\"thumbnailUrl\":\"https://shopping-phinf.pstatic.net/main_3323096/33230969618.20221019120731.jpg\",\"isAdult\":0,\"author\":\"박희재\",\"illustrator\":\"\",\"publishDay\":\"20220628\",\"publisher\":\"인피니티북스\",\"purchaseCnt\":\"0\",\"reviewCount\":0,\"reviewScore\":0,\"keepCount\":\"0\",\"mallName\":\"\",\"lowPrice\":22500,\"rentalPrice\":null,\"nPayPcType\":\"0\",\"nPayMblType\":\"0\",\"goodsType\":\"1\",\"hasDlvryFeeCont\":0,\"dlvryCd\":0,\"prodBuyPntCont\":\"^^\",\"hasProdBuyPntCont\":0,\"cupnCont\":\"^^^\",\"hasCupnCont\":0,\"evtCont\":\"\",\"hasEvtCont\":0,\"naverPayAccumRto\":0,\"chnlSeq\":\"\",\"mallNo\":\"0\",\"awardInfo\":\"\",\"isAnswerBook\":0,\"description\":\"이 책은 저자의 다양한 경험과 노하우를 바탕으로 파이썬을 좀 더 쉽게 이해할 수 있도록 다양한 그림과 아이콘을 활용하여 설명한다. 프로그래밍을 처음 배우는 초심자를 위한 기초 문법부터 인공지능·빅데이터·영상처리에 활용하는 심화 주제까지 파이썬 전반을 모두 다루고 있어 독자 스스로 목적과 필요에 맞게 학습할 수 있다. 또한 각 장의 마지막에는 학습한 내용을 점검해 볼 수 있는 다양한 종류와 난이도의 연습 문제를 제공한다.\\\\n\\\\nㆍ 6개의 유형으로 예제를 분류하여 다양한 학습기회를 제공\\\\nㆍ 점검 퀴즈, 주·객관식 문제, 프로그래밍 문제, 프로젝트 문제를 수록\\\\nㆍ 기본 모듈과 대표적인 라이브러리 활용에 대한 내용을 포함\",\"ebookLowPrice\":null,\"ebookLendLowPrice\":null,\"audioBookLowPrice\":null,\"audioBookLendLowPrice\":null,\"bestsellerRank\":\"\",\"mallTypeCnt\":\"P/23\",\"issueType\":\"0\",\"prodTp\":\"4\",\"mpTp\":0,\"crUrl\":\"https://cr3.shopping.naver.com/book/adcr?x=ATOff4R0MyLcl%2BkJpMyj4%2F%2F%2F%2Fw%3D%3DscYsrN%2FlgFB%2BHzHeBjXi7xwkomjo%2BwoIZO4ZmrFkN4M2JnnL5Sdl1Om0OnvyPouDNyQgQIxbeElehn9%2BCiAjFzcez10KvC75IXKXEmsZjpY3VMc6ISzfSnRmT9F0G4N3nY8EigvBQinIZsg%2B2TARrJsv%2BjB2erv%2BZ%2Brrs5VHOiTTt4DqiWzfh638rk6r8T8q2nj6%2BMaClI2dOjtwkFtHAz%2F7IntYW81Xs6qvX%2Bsnxc5xra%2BpI6UJu%2BTwtNWUwqdlIxG2P0Q%2Fj4lhGbx8gGDwffhzzON9aTM%2Fdo2I2z9yt2AmFo49JCi6J6VM8a%2Bwjzt8%2BFqPkbhZKyIpiX5j%2F%2BxkCe1WgmKC6jv4on9gzTYjdIY1a%2BWUwWSj337C7MH2I49EGSWkruqzLNR%2BNlNcFNXSh%2Br2rjFsnXw88P3iZF1ToG3SFVE8rlExvmHGMJhMgVnWnQRNPDTvcTqfT%2BBa3TV9HfcW3dvB2t9g8YSUuJjNSbYQh6oPiVMYfbSvVF%2BLgCVnUlyA5ELuE1Rin0qYSkS7q1eHHF%2BQOFc34Kz2n7%2Bz8kQ7TGB3c8PkbW4YKhe2hFTs8glF6eu4M8cUOPmDD4T%2FYfqz4gs1H4l0WZCAcYkV52Ns%3D\\\\u0026nvMid=33230969618\\\\u0026catId=50010920\",\"mallCache\":null},{\"id\":\"36019497623\",\"title\":\"자기주도 파이썬\",\"subtitle\":\"정보영재 및 올림피아드를 위한 최적의 입문서\",\"thumbnailUrl\":\"https://shopping-phinf.pstatic.net/main_3601949/36019497623.20230801122946.jpg\",\"isAdult\":0,\"author\":\"한컴에듀케이션 알고리즘연구소\",\"illustrator\":\"\",\"publishDay\":\"20221115\",\"publisher\":\"복두출판사\",\"purchaseCnt\":\"0\",\"reviewCount\":2,\"reviewScore\":5,\"keepCount\":\"1\",\"mallName\":\"\",\"lowPrice\":15300,\"rentalPrice\":null,\"nPayPcType\":\"0\",\"nPayMblType\":\"0\",\"goodsType\":\"3\",\"hasDlvryFeeCont\":0,\"dlvryCd\":0,\"prodBuyPntCont\":\"^^\",\"hasProdBuyPntCont\":0,\"cupnCont\":\"^^^\",\"hasCupnCont\":0,\"evtCont\":\"\",\"hasEvtCont\":0,\"naverPayAccumRto\":0,\"chnlSeq\":\"\",\"mallNo\":\"0\",\"awardInfo\":\"\",\"isAnswerBook\":0,\"description\":\"이 책의 활용 방법\\\\n이 책은 각 단원마다 따라하면서 쉽게 익힐 수 있는 기본학습과 각 단원마다 마무리 평가를 위한 형성평가를 통해 학습자 스스로가 자기 주도적으로 프로그램을 익혀나갈 수 있도록 구성되어 있다.\\\\n\\\\n기본학습\\\\n각 단원마다 8개 내외의 과제를 해결해 나가는 형식으로 구성되었다. 각 과제를 해결해 나가는 과정은 다음과 같다.\\\\n\\\\n1. 과제제시\\\\n- 해결해야 하는 과제가 문제 형식으로 주어지고 입력과 출력의 예가 제시된다.\\\\n- 기존에 자신이 알던 방법으로 이 과제를 해결하기 위해 무엇이 부족한지를 생각해보아야 한다.\\\\n- 새로 익히게 될 문법이나 형식에 대하여 호기심과 동기를 유발하고자 함이다.\\\\n  \\\\n2. 소스\\\\n- 위 과제를 해결하기 위한 소스 파일을 제시한다.\\\\n- 전체적인 내용을 보면서 자신이 모르는 생소한 부분을 찾아서 그 내용이 자신이 위에서 생각했던 것과 연관지어 어떤 역할을 하는지를 개략적으로 유추하게 한다.\\\\n \\\\n3. 설명\\\\n- 위 소스에서 새로운 문법이나 형식에 대하여 자세한 풀이를 한다.\\\\n- 위에서 이미 생소한 부분에 대하여 일차적으로 생각을 했다면 그냥 문법을 제시하고 설명하는 것보다 훨씬 강하게 의미가 전달될 수 있다.\\\\n- 과제를 해결하기 위해서 새로운 문법의 도입 필요성을 인식하고 구체적으로 활용사례를 익힘으로써, 문법을 먼저 이해하고 예제에 적용하는 방법보다 훨씬 효과적으로 새로운 내용을 익히게 될 것이다.\\\\n\\\\n4. 자가진단\\\\n위 과제와 거의 유사한 문제를 제시하여 스스로 반복학습과 약간의 응용을 통해 새로운 문법이나 형식을 확실하게 적용할 수 있도록 하고 온라인 채점을 통해 스스로를 점검하도록 한다. \\\\n\\\\n기타 필요할 경우 “따라하기”와 “Tip” 등을 두어 보충설명을 하였다.\\\\n\\\\n형성평가\\\\n모든 과제에 대한 학습이 완료되면 단원을 마무리하기 위해 5~10개의 형성평가 문제가 제시되고 역시 온라인 채점을 통해 단원의 핵심적인 내용을 다시 한 번 숙지하도록 한다.\",\"ebookLowPrice\":15300,\"ebookLendLowPrice\":null,\"audioBookLowPrice\":null,\"audioBookLendLowPrice\":null,\"bestsellerRank\":\"\",\"mallTypeCnt\":\"P/21|E/3\",\"issueType\":\"0\",\"prodTp\":\"4\",\"mpTp\":0,\"crUrl\":\"https://cr3.shopping.naver.com/book/adcr?x=M9viXt4B1ig3kEzl61CZAf%2F%2F%2Fw%3D%3DsBhWgxsIhYtoMbHmStc9x9Jv4ojzsGl0vonMp3eI1Zpq57StUFLKmRh1TRW6ZM83NhPZMJ2V8%2BehhSTjMaB0HPZ7FWzSOT3260RpHjzTrkYvW6%2Fmgy3Y4KMhDn%2BJ6yE4yMQoUMOeBpXsr%2FDUcA16wxd9%2BKy%2Fm0d%2BgYWHtEf61Jo4Nj51x%2B5NtY5Hk3HVsotFZ0gXZQV2KGQx7NtsEuL91cU8WkLc%2Fg0DrJxRdZzdeiZ4Si1jPP8Yt02lZX7%2BJ%2FItcX3h64qwrGLq84J1p5pEmIIWsOdrz2GsDwyuzTkbiJMs%2Bd0TcbJiTH3Lys8V5OoWgcfY62%2F%2BxY4w5xbi4%2BHEPriFzevyVajC7NvPtfqyjQhz2G%2FIxs263uVVLPv6ypRSodXuuPsatgYU9id2jTf8AfUeq7xa2bs6%2FahMzsv2lyyKXi14EzCUiDsS0Ojz3JGkLzfNVo1KcSVSazeZg7M%2BAachmPLalC3ORMYUopjiGStdQLZwCYq0SDcJrkbSnSgouUsc9A%2FGuqi9z9TEzQOB7ihRA8mKc4rx14ZcD6ARy9rLnUozSk6MgpJeDpfnt31s2gRYApx9AEBB0K9mzWlIk%2BzgZQPgKx7yEiM1uVHCZTo3lymLhfOE6tKGKejxXTM6%2B\\\\u0026nvMid=36019497623\\\\u0026catId=50010920\",\"mallCache\":null},{\"id\":\"32456486633\",\"title\":\"파이썬 알고리즘 인터뷰\",\"subtitle\":\"95가지 알고리즘 문제 풀이로 완성하는 코딩 테스트\",\"thumbnailUrl\":\"https://shopping-phinf.pstatic.net/main_3245648/32456486633.20230829091349.jpg\",\"isAdult\":0,\"author\":\"박상길\",\"illustrator\":\"정진호\",\"publishDay\":\"20200715\",\"publisher\":\"책만\",\"purchaseCnt\":\"0\",\"reviewCount\":4,\"reviewScore\":4,\"keepCount\":\"14\",\"mallName\":\"\",\"lowPrice\":34200,\"rentalPrice\":null,\"nPayPcType\":\"0\",\"nPayMblType\":\"0\",\"goodsType\":\"3\",\"hasDlvryFeeCont\":0,\"dlvryCd\":0,\"prodBuyPntCont\":\"^^\",\"hasProdBuyPntCont\":0,\"cupnCont\":\"^^^\",\"hasCupnCont\":0,\"evtCont\":\"\",\"hasEvtCont\":0,\"naverPayAccumRto\":0,\"chnlSeq\":\"\",\"mallNo\":\"0\",\"awardInfo\":\"\",\"isAnswerBook\":0,\"description\":\"코딩 테스트와 인터뷰를 준비하는 취준생과 이직자를 위한 \\\\n알고리즘 문제 풀이 완벽 마스터!\\\\n\\\\n세계 최고 온라인 문제 풀이 사이트인 리트코드(LeetCode)의 기출문제 풀이와 분석! 200여 개가 넘는 일러스트를 통해 알고리즘과 자료구조 이론을 한눈에 쉽게 익힐 수 있음은 물론, 파이썬으로 구현하는 코드 풀이를 통해 성능 최적화 기법, 파이썬의 핵심 문법과 다양한 실용 테크닉까지 배울 수 있는, 초보 개발자와 숙련 개발자 모두를 위한 책이다.\\\\n\\\\n마이크로소프트와 구글을 필두로 전 세계 개발자 채용의 첫 관문이 된 코딩 인터뷰! 주요 기업에서 실시하는 코딩 테스트의 기출 문제를 분석하고 상세한 문제 풀이와 해설을 통해 취업과 이직에 한발짝 다가서자. 이 책은 현업과 실무에 유용한 주요 알고리즘 이론을 깊숙이 이해하고, 파이썬의 핵심 기능과 문법까지 상세하게 이해할 수 있는 취업용 코딩 테스트를 위한 완벽 가이드다. 이 책을 다 읽고 나면, “왜 알고리즘을 공부하는가?”라는 질문에 대한 해답을 얻을 것이다.\",\"ebookLowPrice\":27360,\"ebookLendLowPrice\":null,\"audioBookLowPrice\":null,\"audioBookLendLowPrice\":null,\"bestsellerRank\":\"컴퓨터/IT 150위\",\"mallTypeCnt\":\"P/48|E/3\",\"issueType\":\"2\",\"prodTp\":\"4\",\"mpTp\":0,\"crUrl\":\"https://cr3.shopping.naver.com/book/adcr?x=I35XEm4NWR%2BBw7XVS%2B2r9f%2F%2F%2Fw%3D%3DsJC5BFLi5tCEvHiHEohY2%2Bvr5bCaZVFcEOgsJ8Lr%2BYBm57StUFLKmRh1TRW6ZM83NDvfaQ4FV5hLYYx6jG6ZRR57FWzSOT3260RpHjzTrkYvW6%2Fmgy3Y4KMhDn%2BJ6yE4yMQoUMOeBpXsr%2FDUcA16wxd9%2BKy%2Fm0d%2BgYWHtEf61Jo4Nj51x%2B5NtY5Hk3HVsotFZ1eDsOqyD6IgvHAYIKcB9nF7lf97rnwmjkFEj%2FbIsWo8Si1jPP8Yt02lZX7%2BJ%2FItcX3h64qwrGLq84J1p5pEmIIWsOdrz2GsDwyuzTkbiJMs%2Bd0TcbJiTH3Lys8V5OoWgcfY62%2F%2BxY4w5xbi4%2BHEPriFzevyVajC7NvPtfqyjQhwHbzJ5W6wuWyd28U9yh8RvbSaYUAR5OgK45HyKFf50r0eq7xa2bs6%2FahMzsv2lyyL5eA0YJJVrixHPJvl1LxiizfNVo1KcSVSazeZg7M%2BAaVfOgLbC%2FOQKXsTJhSZEA1Zx2ajNBH4qSlvCb7VfRB%2FYR6%2B6%2BtVvyt7nox2G8GToEkGASMZIFGK45J3%2BpK9RR8auvQVMmjAgabiGJycBeNs10xgd3PD5G1uGCoXtoRU7PDjFa6ujgV9qpnQwEja%2FL%2Fd1iSxZereF5JmZ9e%2B3Ic5F\\\\u0026nvMid=32456486633\\\\u0026catId=50010920\",\"mallCache\":null},{\"id\":\"32460987987\",\"title\":\"파이썬\",\"subtitle\":\"\",\"thumbnailUrl\":\"https://shopping-phinf.pstatic.net/main_3246098/32460987987.20230207163755.jpg\",\"isAdult\":0,\"author\":\"홍의경\",\"illustrator\":\"\",\"publishDay\":\"20220309\",\"publisher\":\"생능출판\",\"purchaseCnt\":\"0\",\"reviewCount\":0,\"reviewScore\":0,\"keepCount\":\"0\",\"mallName\":\"\",\"lowPrice\":30400,\"rentalPrice\":null,\"nPayPcType\":\"0\",\"nPayMblType\":\"0\",\"goodsType\":\"1\",\"hasDlvryFeeCont\":0,\"dlvryCd\":0,\"prodBuyPntCont\":\"^^\",\"hasProdBuyPntCont\":0,\"cupnCont\":\"^^^\",\"hasCupnCont\":0,\"evtCont\":\"\",\"hasEvtCont\":0,\"naverPayAccumRto\":0,\"chnlSeq\":\"\",\"mallNo\":\"0\",\"awardInfo\":\"\",\"isAnswerBook\":0,\"description\":\"코딩 실력을 키우는 지름길은 실습이다.\\\\n\\\\n2008년 즈음에 검인정 중학교 교과서 정보1, 정보2, 정보3을 공저로 저술하였습니다. 그 당시에 8종류의 교과서가 검인정에 합격하였는데, 파이썬을 기반으로 하는 교과서가 2종류, C언어를 기반으로 하는 교과서가 2종류, 베이직을 기반으로 하는 교과서가 2종류, 스크래치를 기반으로 하는 교과서가 2종류였습니다.\\\\n\\\\n교육용 언어로 시작한 파이썬이 중학교 학생들이 비교적 쉽게 학습할 수 있는 프로그래밍 언어라고 생각했는데 10여년의 세월이 흐른 지금 파이썬이 활용되는 분야가 가히 폭발적으로 증가하였습니다. \\\\n\\\\n파이썬에 관한 쉽고 좋은 교재를 저술하기 위해서 인터넷에서 30,000페이지 이상의 자료를 찾아서 검토하였습니다. 어쩌면 파이썬이 첫 프로그래밍 언어일 본 교재의 독자들이 두려움 없이 파이썬을 기초부터 쉽게 공부하다가, 교재를 다 읽고 나면 “어느새 중급 수준에 도달했구나”라는 생각이 들도록  완성도 높은 교재를 목표로 하였습니다. \\\\n\\\\n입문자를 대상으로 하는 교재일수록 집필하는데 훨씬 더 많은 정성과 노력이 필요하다는 것을 잘 알고 있습니다. 개인적으로는 데이터베이스 전공교재를 저술할 때보다 몇 배 더 힘들었고, 공을 많이 들였습니다. \\\\n\\\\n원고를 버전 9까지 작성하는 동안 셀 수 없이 원고를 읽어보면서 꼭 필요하지 않은 문장은 삭제하고, 필요한 문장은 반드시 넣었습니다. 고등학교 검인정 교과서 1권, 중학교 검인정 교과서 3권, 데이터베이스 전공 교재 2권, 엑셀 교재 1권, 번역서 2권을 집필하면서 나름대로 한글을 정확하고 간결하게 표현하는데 자신이 있습니다.\",\"ebookLowPrice\":null,\"ebookLendLowPrice\":null,\"audioBookLowPrice\":null,\"audioBookLendLowPrice\":null,\"bestsellerRank\":\"\",\"mallTypeCnt\":\"P/21\",\"issueType\":\"0\",\"prodTp\":\"4\",\"mpTp\":0,\"crUrl\":\"https://cr3.shopping.naver.com/book/adcr?x=jhSXhrY0yEqTr4XCE3TR%2Bv%2F%2F%2Fw%3D%3Ds2FGs1djbQB4FzwOJBgbZHkQ8Np7u3ou6PuXATf5sFaGJnnL5Sdl1Om0OnvyPouDNR6Bqaeasb6U4IdOrgN3qNcez10KvC75IXKXEmsZjpY3VMc6ISzfSnRmT9F0G4N3nY8EigvBQinIZsg%2B2TARrJsv%2BjB2erv%2BZ%2Brrs5VHOiTTt4DqiWzfh638rk6r8T8q2%2BlNGSpUv%2BOTSLPq7EFBkkv7IntYW81Xs6qvX%2Bsnxc5xra%2BpI6UJu%2BTwtNWUwqdlIxG2P0Q%2Fj4lhGbx8gGDwffhzzON9aTM%2Fdo2I2z9yt2AmFo49JCi6J6VM8a%2Bwjzt8%2BFqPkbhZKyIpiX5j%2F%2BxkCe1WgmKC6jv4on9gzTYjdIY2Ew6KRhpacZkR4ErqNe9WdSWkruqzLNR%2BNlNcFNXSh%2Br2rjFsnXw88P3iZF1ToG3RiOl4GKZknduQ35QzCbJ7yQRNPDTvcTqfT%2BBa3TV9HfVAtnAJirRINwmuRtKdKCi5K6Q7LHObeg0SucPnEax%2F%2FKRplGMntHrPkfz6ZCtUkqedSjNKToyCkl4Ol%2Be3fWzYTQQWUkj6OOF%2FRChaRyc4wOBlA%2BArHvISIzW5UcJlOjeXKYuF84Tq0oYp6PFdMzr4%3D\\\\u0026nvMid=32460987987\\\\u0026catId=50010920\",\"mallCache\":null},{\"id\":\"32458141395\",\"title\":\"난생처음 파이썬 프로그래밍\",\"subtitle\":\"\",\"thumbnailUrl\":\"https://shopping-phinf.pstatic.net/main_3245814/32458141395.20230905101035.jpg\",\"isAdult\":0,\"author\":\"우재남\",\"illustrator\":\"\",\"publishDay\":\"20210628\",\"publisher\":\"한빛아카데미\",\"purchaseCnt\":\"0\",\"reviewCount\":5,\"reviewScore\":5,\"keepCount\":\"13\",\"mallName\":\"\",\"lowPrice\":22800,\"rentalPrice\":null,\"nPayPcType\":\"0\",\"nPayMblType\":\"0\",\"goodsType\":\"3\",\"hasDlvryFeeCont\":0,\"dlvryCd\":0,\"prodBuyPntCont\":\"^^\",\"hasProdBuyPntCont\":0,\"cupnCont\":\"^^^\",\"hasCupnCont\":0,\"evtCont\":\"\",\"hasEvtCont\":0,\"naverPayAccumRto\":0,\"chnlSeq\":\"\",\"mallNo\":\"0\",\"awardInfo\":\"\",\"isAnswerBook\":0,\"description\":\"실생활 예제와 동영상 강의로 난생처음 배우는 파이썬 프로그래밍\\\\n\\\\n이 책은 파이썬의 핵심 문법을 다양한 삽화와 도식을 통해 시각적으로 설명하여 비전공자도 쉽고 재미있게 배울 수 있습니다. 또한 각 장마다 수록된 실생활 사례 위주의 [LAB]과 [실전 예제]를 실습하면서 프로그래밍 실력을 자연스럽게 향상시킬 수 있습니다. 파이썬의 기초 문법과 고급 문법을 배우고 나면 외부 라이브러리 Pillow, Pygame, Tkinter를 활용하여 완성도 높은 실전 프로젝트를 경험할 수 있습니다. \\\\n\\\\n※ 본 도서는 대학 강의용 교재로 개발되었으므로 연습문제 해답은 제공하지 않습니다.\",\"ebookLowPrice\":21600,\"ebookLendLowPrice\":null,\"audioBookLowPrice\":null,\"audioBookLendLowPrice\":null,\"bestsellerRank\":\"컴퓨터/IT 7위\",\"mallTypeCnt\":\"P/37|E/4\",\"issueType\":\"2\",\"prodTp\":\"4\",\"mpTp\":0,\"crUrl\":\"https://cr3.shopping.naver.com/book/adcr?x=SA4vmj1VQXpB39gmDjgidv%2F%2F%2Fw%3D%3DstG9OvRIF0thm%2FRDtQjpThvOMdwmHqUKBj10Td5I4QL2JnnL5Sdl1Om0OnvyPouDNsaNIT7DvBpEC7O8z87pVncez10KvC75IXKXEmsZjpY3VMc6ISzfSnRmT9F0G4N3nY8EigvBQinIZsg%2B2TARrJsv%2BjB2erv%2BZ%2Brrs5VHOiTTt4DqiWzfh638rk6r8T8q2Amv1dw%2BDpXS2Dovnv1jhgf7IntYW81Xs6qvX%2Bsnxc5xra%2BpI6UJu%2BTwtNWUwqdlIxG2P0Q%2Fj4lhGbx8gGDwffhzzON9aTM%2Fdo2I2z9yt2AmFo49JCi6J6VM8a%2Bwjzt8%2BFqPkbhZKyIpiX5j%2F%2BxkCe1WgmKC6jv4on9gzTYjdIY39czbi6cKpkNEw0%2Fcv9O0fSWkruqzLNR%2BNlNcFNXSh%2Br2rjFsnXw88P3iZF1ToG3RNewgo01RCG5iISqpN%2FuDfgB%2B13tC2q5wooFP6bFbCsh2WkACxKryBhO1nLdQ9Vxcps%2FbfPQpxSIZ4CBbcF519SewxCHlIzkXrVdaXSvEIbqWzbXoouazOc0a5w7bAKFVvWoeUYrmMzA8AwG3EDK%2FocHv%2FbdtULdklnoN3n1CftfwnQG%2FBr2gpJD3xg7UbG88VuaoOvyx%2BkZY1lyZF596L1JIslBmdxaTx7xO1%2BPPoWw%3D%3D\\\\u0026nvMid=32458141395\\\\u0026catId=50010920\",\"mallCache\":null},{\"id\":\"32489150082\",\"title\":\"파이썬\",\"subtitle\":\"\",\"thumbnailUrl\":\"https://shopping-phinf.pstatic.net/main_3248915/32489150082.20230207165503.jpg\",\"isAdult\":0,\"author\":\"천인국\",\"illustrator\":\"\",\"publishDay\":\"20170830\",\"publisher\":\"인피니티북스\",\"purchaseCnt\":\"0\",\"reviewCount\":0,\"reviewScore\":0,\"keepCount\":\"1\",\"mallName\":\"\",\"lowPrice\":10800,\"rentalPrice\":null,\"nPayPcType\":\"0\",\"nPayMblType\":\"0\",\"goodsType\":\"1\",\"hasDlvryFeeCont\":0,\"dlvryCd\":0,\"prodBuyPntCont\":\"^^\",\"hasProdBuyPntCont\":0,\"cupnCont\":\"^^^\",\"hasCupnCont\":0,\"evtCont\":\"\",\"hasEvtCont\":0,\"naverPayAccumRto\":0,\"chnlSeq\":\"\",\"mallNo\":\"0\",\"awardInfo\":\"\",\"isAnswerBook\":0,\"description\":\"컴퓨팅 사고(Computational Thinking)는 자넷 윙 교수가 2006년에 컴퓨터 학술지에서 언급한 이후로 컴퓨터 교육 분야에서 상당한 이슈가 되고 있는 용어이다. 컴퓨팅 사고는 복잡한 문제를 분해하여 문제 안에 내재된 패턴을 찾고 추상화 단계를 거쳐서 문제를 해결하는 알고리즘을 작성하는 과정이다. 작성된 알고리즘은 사람이 수행하거나 컴퓨터를 이용하여 자동화될 수 있다. \\\\n이 책은 컴퓨팅 사고와 파이썬을 동시에 학습할 수 있도록 기획되었다. 파이썬은 컴퓨터를 전공하지 않은 학생들도 쉽게 사용할 수 있다는 큰 장점이 있다. 컴퓨팅 사고는 흥미로운 실습 예제가 많이 필요하다. 이 책에서는 최대한 많은 실습 예제를 간추려서 파이썬으로 실습할 수 있도록 하였다. 파이썬은 다양한 애니메이션이나 가상 실습을 만들 수 있는 최적의 도구이다. 학생들은 파이썬을 통하여 컴퓨터 프로그래밍의 기본적인 개념들과 컴퓨팅 사고에서 나타나는 다양한 실습을 수행할 수 있을 것이다.\",\"ebookLowPrice\":null,\"ebookLendLowPrice\":null,\"audioBookLowPrice\":null,\"audioBookLendLowPrice\":null,\"bestsellerRank\":\"\",\"mallTypeCnt\":\"P/17\",\"issueType\":\"0\",\"prodTp\":\"4\",\"mpTp\":0,\"crUrl\":\"https://cr3.shopping.naver.com/book/adcr?x=ufz28kDagzYUL1yzCdJOLf%2F%2F%2Fw%3D%3DsF3jNrlID%2BjtD3i6OJvGopchhhdN2oLh5w662NHqym2m57StUFLKmRh1TRW6ZM83NItI%2BZKpItq7yNwfJ08i1FJ7FWzSOT3260RpHjzTrkYvW6%2Fmgy3Y4KMhDn%2BJ6yE4yMQoUMOeBpXsr%2FDUcA16wxd9%2BKy%2Fm0d%2BgYWHtEf61Jo4Nj51x%2B5NtY5Hk3HVsotFZK8DHd41aPIsL7o%2FvFWZ7XUIee9mp%2BT1ysnnqhZagQKgSi1jPP8Yt02lZX7%2BJ%2FItcX3h64qwrGLq84J1p5pEmIIWsOdrz2GsDwyuzTkbiJMs%2Bd0TcbJiTH3Lys8V5OoWgcfY62%2F%2BxY4w5xbi4%2BHEPriFzevyVajC7NvPtfqyjQhxDo%2BRfSz3%2BuaXWcBMsj5bpycWs3TjDHVv4c1SqsXutuUeq7xa2bs6%2FahMzsv2lyyIXI%2F65oIqCCAH4nnJSHeeezfNVo1KcSVSazeZg7M%2BAaVGO%2B9GpYuTcYSkrW8fDz9hLWRiCDJNHITqM9eWy8SChTT5raJKg81kWpcu%2FgbGYsdhyVIf4jjNe%2BM0vheFt21AimSGhNMm4HET9q9OnZQVVKh1RGgY1oGtzrJAZl0iD8Pc8JVrSYijlJNSO6uNf840%3D\\\\u0026nvMid=32489150082\\\\u0026catId=50010920\",\"mallCache\":null},{\"id\":\"36555425618\",\"title\":\"혼자 공부하는 데이터 분석 with 파이썬\",\"subtitle\":\"1:1 과외하듯 배우는 데이터 분석 자습서\",\"thumbnailUrl\":\"https://shopping-phinf.pstatic.net/main_3655542/36555425618.20230103163017.jpg\",\"isAdult\":0,\"author\":\"박해선\",\"illustrator\":\"\",\"publishDay\":\"20230102\",\"publisher\":\"한빛미디어\",\"purchaseCnt\":\"0\",\"reviewCount\":1,\"reviewScore\":5,\"keepCount\":\"52\",\"mallName\":\"\",\"lowPrice\":23400,\"rentalPrice\":null,\"nPayPcType\":\"0\",\"nPayMblType\":\"0\",\"goodsType\":\"3\",\"hasDlvryFeeCont\":0,\"dlvryCd\":0,\"prodBuyPntCont\":\"^^\",\"hasProdBuyPntCont\":0,\"cupnCont\":\"^^^\",\"hasCupnCont\":0,\"evtCont\":\"\",\"hasEvtCont\":0,\"naverPayAccumRto\":0,\"chnlSeq\":\"\",\"mallNo\":\"0\",\"awardInfo\":\"\",\"isAnswerBook\":0,\"description\":\"혼자 해도 충분하다! 1:1 과외하듯 배우는 데이터 분석 자습서\\\\n\\\\n이 책은 독학으로 데이터 분석을 배우는 입문자가 ‘꼭 필요한 내용을 제대로 학습’할 수 있도록 구성했습니다. 뭘 모르는지조차 모르는 입문자의 막연한 마음에 십분 공감하여 과외 선생님이 알려주듯 친절하게, 핵심적인 내용만 콕콕 집어 줍니다. 책의 첫 페이지를 펼쳐서 마지막 페이지를 덮을 때까지, 혼자서도 충분히 데이터 분석을 배울 수 있다는 자신감과 확신이 계속될 것입니다!\\\\n\\\\n베타리더 검증으로, ‘함께 만든’ 입문자 맞춤형 도서\\\\n베타리더와 함께 입문자에게 맞는 난이도, 분량, 학습 요소 등을 고민하고 이를 적극 반영했습니다. 어려운 용어와 개념은 한 번 더 풀어쓰고, 복잡한 설명은 눈에 잘 들어오는 그림으로 풀어냈습니다. ‘혼자 공부해 본’ 여러 입문자의 초심과 눈높이가 책 곳곳에 반영된 것이 이 책의 가장 큰 장점입니다.\\\\n\\\\n누구를 위한 책인가요?\\\\n\\\\n●\\\\t데이터 분석을 어떻게 시작할지 막막한 비전공자\\\\n●\\\\t파이썬을 배운 다음 의미 있는 실습을 해 보고 싶은 파이썬 입문자\\\\n●\\\\t프로그래밍은 알지만, 분석(통계)에 대한 이해가 필요한 개발자\\\\n●\\\\t데이터에서 유의미한 결과를 도출해 이를 기획이나 마케팅에 적용해 보고 싶은 직장인\\\\n●\\\\t데이터 분석가, 데이터 사이언티스트라는 직업에 관심 있는 모든 사람\",\"ebookLowPrice\":18720,\"ebookLendLowPrice\":null,\"audioBookLowPrice\":null,\"audioBookLendLowPrice\":null,\"bestsellerRank\":\"컴퓨터/IT 61위\",\"mallTypeCnt\":\"P/140|E/4\",\"issueType\":\"2\",\"prodTp\":\"4\",\"mpTp\":0,\"crUrl\":\"https://cr3.shopping.naver.com/book/adcr?x=ViO%2BACcMqE%2FA1Pwq77rq4f%2F%2F%2Fw%3D%3Dsw2qJH%2FqDIapMZvuNcz%2BG%2BxPcPWgMvn0YGMkEuHyFD3O57StUFLKmRh1TRW6ZM83NXa%2FrQ32qgSsRBH8vshZ0bZ7FWzSOT3260RpHjzTrkYvW6%2Fmgy3Y4KMhDn%2BJ6yE4yMQoUMOeBpXsr%2FDUcA16wxd9%2BKy%2Fm0d%2BgYWHtEf61Jo4Nj51x%2B5NtY5Hk3HVsotFZL7wxlFnxEQF%2FRyHs4t%2B3LsbifAAc%2BhVGpw5Z9hbvMMwSi1jPP8Yt02lZX7%2BJ%2FItcX3h64qwrGLq84J1p5pEmIIWsOdrz2GsDwyuzTkbiJMs%2Bd0TcbJiTH3Lys8V5OoWgcfY62%2F%2BxY4w5xbi4%2BHEPriFzevyVajC7NvPtfqyjQhxFUT5Rt5nomE6rwJdzcfYNycWs3TjDHVv4c1SqsXutucO0zDQPvieFAWe52xa75xkdkyiZJz2Jb7gidm25NEUOzfNVo1KcSVSazeZg7M%2BAaU2IVjL6BFcjteNcmc1cUOg2iifKfdUNZyETRG3dX7z%2BS2K8EIy1X%2BPWQqrJkqyj2rzwGqH9PnzoJ264xEpZz7Ex8z81QQWJLkyEJ%2Fy53S8iK1nUDw0h4nwQiq7wpvr%2Fh3B7%2F23bVC3ZJZ6Dd59Qn7XMmTvY43e%2BsDJwdsKIr93HFbmqDr8sfpGWNZcmRefei9SSLJQZncWk8e8Ttfjz6Fs%3D\\\\u0026nvMid=36555425618\\\\u0026catId=50010921\",\"mallCache\":null},{\"id\":\"37828235624\",\"title\":\"코딩 자율학습 나도코딩의 파이썬 입문\",\"subtitle\":\"초보자 눈높이에 맞춘 친절한 프로그래밍 자습서\",\"thumbnailUrl\":\"https://shopping-phinf.pstatic.net/main_3782823/37828235624.20230404163151.jpg\",\"isAdult\":0,\"author\":\"나도코딩\",\"illustrator\":\"\",\"publishDay\":\"20230220\",\"publisher\":\"길벗\",\"purchaseCnt\":\"0\",\"reviewCount\":12,\"reviewScore\":4.8,\"keepCount\":\"23\",\"mallName\":\"\",\"lowPrice\":21600,\"rentalPrice\":null,\"nPayPcType\":\"0\",\"nPayMblType\":\"0\",\"goodsType\":\"3\",\"hasDlvryFeeCont\":0,\"dlvryCd\":0,\"prodBuyPntCont\":\"^^\",\"hasProdBuyPntCont\":0,\"cupnCont\":\"^^^\",\"hasCupnCont\":0,\"evtCont\":\"\",\"hasEvtCont\":0,\"naverPayAccumRto\":0,\"chnlSeq\":\"\",\"mallNo\":\"0\",\"awardInfo\":\"\",\"isAnswerBook\":0,\"description\":\"30만 명의 구독자와 2만 6천 명의 수강생이 증명한 최고의 파이썬 강의\\\\n나도코딩의 프로그래밍 학습 노하우를 배우자!\\\\n\\\\n유튜브와 인프런 최고의 인기 강의를 한 권에 담았습니다. 일상 속 재미있는 예제로 파이썬 기본 개념을 배우고 1분 퀴즈, 실습 문제, 셀프체크로 이어지는 단계별 학습으로 파이썬을 완공할 수 있습니다. 이제 코딩은 선택이 아닌 필수! 코딩은 전공자만 배울 수 있다는 생각으로 지레 포기하지 마세요. 파이썬은 초보자가 가장 쉽게 배울 수 있는 프로그래밍 언어입니다. 관심만 있다면 누구나 코딩을 배울 수 있습니다. 나도코딩이 쉽고 재미있게 알려드립니다. 코딩을 처음 배우는 사람도 단계적 용어 설명과 친절한 지시선으로 막힘없이 따라 할 수 있습니다. 기본 설명 외에 팁, 노트 등을 적재적소에 배치해 혼자 공부할 때 생길 수 있는 의문점을 쉽게 해결할 수 있게 도와줍니다. 이제 〈코딩 자율학습 나도코딩의 파이썬 입문〉으로 완벽한 코딩 자율학습을 경험해 보세요.\",\"ebookLowPrice\":17280,\"ebookLendLowPrice\":null,\"audioBookLowPrice\":null,\"audioBookLendLowPrice\":null,\"bestsellerRank\":\"컴퓨터/IT 91위\",\"mallTypeCnt\":\"P/180|E/5\",\"issueType\":\"2\",\"prodTp\":\"4\",\"mpTp\":0,\"crUrl\":\"https://cr3.shopping.naver.com/book/adcr?x=0KAG2D%2BtHDEIfeJsoREW7f%2F%2F%2Fw%3D%3Dstr9YmrYZ%2FDTbKnfqVWJ1Caxs6rlepwVNmjj0lR5TP3657StUFLKmRh1TRW6ZM83Nz4WIrX4P235iIs%2Fa4Nss6J7FWzSOT3260RpHjzTrkYvW6%2Fmgy3Y4KMhDn%2BJ6yE4yMQoUMOeBpXsr%2FDUcA16wxd9%2BKy%2Fm0d%2BgYWHtEf61Jo4Nj51x%2B5NtY5Hk3HVsotFZULj4pdeuHHmz2fR35OFqEYF%2BUPzqBU%2B0am2NK5ICsNoSi1jPP8Yt02lZX7%2BJ%2FItcX3h64qwrGLq84J1p5pEmIIWsOdrz2GsDwyuzTkbiJMs%2Bd0TcbJiTH3Lys8V5OoWgcfY62%2F%2BxY4w5xbi4%2BHEPriFzevyVajC7NvPtfqyjQhw6p3mnI85e%2BmIRXrphHK8bycWs3TjDHVv4c1SqsXutuUeq7xa2bs6%2FahMzsv2lyyJKrMss5Y4i4l1NwY30cxm8zfNVo1KcSVSazeZg7M%2BAabbuKH8evdVvSvtRxMb0Gnt7diNN3VJxrYmhz1lMQn4jm7%2Fm40njJWzjv9wgXBmPJIp3BAjKsp%2FN%2B5X1dKZs3EN%2BCCY6CZvJ5n6GIC%2BJmbPLbj4Sk3m8yyXTfFIjE1dElVxZa65svuTaYuc2qVHqoPj79bia5q2QNsHwrX1ebdl4Lb9eL4uVkidQkDHjPa58L81ITc7NlRPvorKrNyQBKaY%3D\\\\u0026nvMid=37828235624\\\\u0026catId=50010920\",\"mallCache\":null},{\"id\":\"32485894885\",\"title\":\"파이썬 머신러닝 완벽 가이드\",\"subtitle\":\"다양한 캐글 예제와 함께 기초 알고리즘부터 최신 기법까지 배우는\",\"thumbnailUrl\":\"https://shopping-phinf.pstatic.net/main_3248589/32485894885.20230620101232.jpg\",\"isAdult\":0,\"author\":\"권철민\",\"illustrator\":\"\",\"publishDay\":\"20220421\",\"publisher\":\"위키북스\",\"purchaseCnt\":\"0\",\"reviewCount\":10,\"reviewScore\":4.6,\"keepCount\":\"26\",\"mallName\":\"\",\"lowPrice\":34560,\"rentalPrice\":null,\"nPayPcType\":\"0\",\"nPayMblType\":\"0\",\"goodsType\":\"1\",\"hasDlvryFeeCont\":0,\"dlvryCd\":0,\"prodBuyPntCont\":\"^^\",\"hasProdBuyPntCont\":0,\"cupnCont\":\"^^^\",\"hasCupnCont\":0,\"evtCont\":\"\",\"hasEvtCont\":0,\"naverPayAccumRto\":0,\"chnlSeq\":\"\",\"mallNo\":\"0\",\"awardInfo\":\"\",\"isAnswerBook\":0,\"description\":\"자세한 이론 설명과 파이썬 실습을 통해 머신러닝을 완벽하게 배울 수 있습니다!\\\\n\\\\n《파이썬 머신러닝 완벽 가이드》는 이론 위주의 머신러닝 책에서 탈피해, 다양한 실전 예제를 직접 구현해 보면서 머신러닝을 체득할 수 있도록 만들었습니다. 캐글과 UCI 머신러닝 리포지토리에서 난이도가 있는 실습 데이터를 기반으로 실전 예제를 구성했고, XGBoost, LightGBM, 스태킹 기법 등 캐글의 많은 데이터 사이언스에서 애용하는 최신 알고리즘과 기법을 상세하게 설명했습니다.\\\\n\\\\n이번 개정2판에서는 최신 사이킷런 버전(1.0.2)을 포함해 책에서 사용되는 모든 라이브러리를 최신 버전으로 업그레이드한 실습 코드를 구현하고, 다양한 유형의 하이퍼파라미터를 가지는 XGBoost나 LightGBM 모델의 최적 하이퍼파라미터 튜닝을 위한 베이지안 최적화 기법 적용 실습을 제공합니다. 또한 머신러닝 관련 데이터 분석에 널리 쓰이는 시각화 라이브러리인 matplotlib과 seaborn의 활용법을 다룬 장을 새롭게 추가했습니다.\",\"ebookLowPrice\":null,\"ebookLendLowPrice\":null,\"audioBookLowPrice\":null,\"audioBookLendLowPrice\":null,\"bestsellerRank\":\"컴퓨터/IT 97위\",\"mallTypeCnt\":\"P/82\",\"issueType\":\"2\",\"prodTp\":\"4\",\"mpTp\":0,\"crUrl\":\"https://cr3.shopping.naver.com/book/adcr?x=QVJlWw%2Ff1Lk8eFE3gUdzwf%2F%2F%2Fw%3D%3Dsr571q3Wzdmnr%2F5gg2pRnCa976AqMG0UBx7a%2FtIFRK1uJnnL5Sdl1Om0OnvyPouDNtvz89ChVd2%2FvLjk0kwTu%2FMez10KvC75IXKXEmsZjpY3VMc6ISzfSnRmT9F0G4N3nY8EigvBQinIZsg%2B2TARrJsv%2BjB2erv%2BZ%2Brrs5VHOiTTt4DqiWzfh638rk6r8T8q28Cbnn0Fcl%2BykIeyFU6SroP7IntYW81Xs6qvX%2Bsnxc5xra%2BpI6UJu%2BTwtNWUwqdlIxG2P0Q%2Fj4lhGbx8gGDwffhzzON9aTM%2Fdo2I2z9yt2AmFo49JCi6J6VM8a%2Bwjzt8%2BFqPkbhZKyIpiX5j%2F%2BxkCe1WgmKC6jv4on9gzTYjdIY0wZrewoXdxHQQuOmlUn2tiSWkruqzLNR%2BNlNcFNXSh%2Br2rjFsnXw88P3iZF1ToG3T%2FOPXmQR9TJnijY8pf69ejQRNPDTvcTqfT%2BBa3TV9HfZ00XMPTgnEgxiaPQTWN7SnOkTQMl7o%2FJnIS7%2FB2zrFagVWguHWybxT2LCOGLX8UINZCe800gYpkC974ioAUBIqkOh5lh7YWvLCKkmFHcxD7XFlrrmy%2B5Npi5zapUeqg%2BBMJgHf8g47B2aHWbOS3qWstv14vi5WSJ1CQMeM9rnwvzUhNzs2VE%2B%2Bisqs3JAEppg%3D%3D\\\\u0026nvMid=32485894885\\\\u0026catId=50010920\",\"mallCache\":null},{\"id\":\"32436003648\",\"title\":\"파이썬\",\"subtitle\":\"비전공자를위한 파이썬 기초 입문서\",\"thumbnailUrl\":\"https://shopping-phinf.pstatic.net/main_3243600/32436003648.20230919073603.jpg\",\"isAdult\":0,\"author\":\"김명호\",\"illustrator\":\"\",\"publishDay\":\"20190525\",\"publisher\":\"에듀웨이\",\"purchaseCnt\":\"0\",\"reviewCount\":0,\"reviewScore\":0,\"keepCount\":\"0\",\"mallName\":\"\",\"lowPrice\":16200,\"rentalPrice\":null,\"nPayPcType\":\"0\",\"nPayMblType\":\"0\",\"goodsType\":\"1\",\"hasDlvryFeeCont\":0,\"dlvryCd\":0,\"prodBuyPntCont\":\"^^\",\"hasProdBuyPntCont\":0,\"cupnCont\":\"^^^\",\"hasCupnCont\":0,\"evtCont\":\"\",\"hasEvtCont\":0,\"naverPayAccumRto\":0,\"chnlSeq\":\"\",\"mallNo\":\"0\",\"awardInfo\":\"\",\"isAnswerBook\":0,\"description\":\"막막했던 파이썬, 이제 한 권으로 기초를 배우는\\\\n파이썬 사용 설명서!\\\\n\\\\n전 세계적으로 유명한 구글(Google)이 자신의 많은 서비스를 파이썬으로 제공하고 있습니다. 이것은 구글의 뛰어난 서비스를 개인의 비즈니스에 쉽게 이용할 수 있다는 의미입니다.  이러한 발전에 맞춰 파이썬 문법의 기초를 쉽게 이해할 수 있도록 이 책에서는 친절한 도해와 함께 코딩 개념을 설명합니다. 파이썬을 처음 배우는 학생부터 비전공자, 코딩 실력을 높이려는 직장인까지 기본 문법부터 예제를 통한 활용 실력을 높여 파이썬 프로그래밍을 마스터할 수 있습니다. 가장 쉽고, 빠르게, 효율적인 파이썬 사용 설명서! ‘한 권으로 끝내는 파이썬’에서 찾아보세요.\",\"ebookLowPrice\":null,\"ebookLendLowPrice\":null,\"audioBookLowPrice\":null,\"audioBookLendLowPrice\":null,\"bestsellerRank\":\"\",\"mallTypeCnt\":\"P/53\",\"issueType\":\"0\",\"prodTp\":\"4\",\"mpTp\":0,\"crUrl\":\"https://cr3.shopping.naver.com/book/adcr?x=g4T7RlWN9jUrO3UrCHSb7P%2F%2F%2Fw%3D%3DsANBYEQQKYpgEGPMHOlQymsaqi3pDcbXWoN11DkTw4ceJnnL5Sdl1Om0OnvyPouDNpMfL9KKMX8bOI6JnZ98ROsez10KvC75IXKXEmsZjpY3VMc6ISzfSnRmT9F0G4N3nY8EigvBQinIZsg%2B2TARrJsv%2BjB2erv%2BZ%2Brrs5VHOiTTt4DqiWzfh638rk6r8T8q2gZpYIYlkzUQbk4CFNhR4Bf7IntYW81Xs6qvX%2Bsnxc5xra%2BpI6UJu%2BTwtNWUwqdlIxG2P0Q%2Fj4lhGbx8gGDwffhzzON9aTM%2Fdo2I2z9yt2AmFo49JCi6J6VM8a%2Bwjzt8%2BFqPkbhZKyIpiX5j%2F%2BxkCe1WgmKC6jv4on9gzTYjdIY0rW%2BJDAug3MxWKXhuDuknASWkruqzLNR%2BNlNcFNXSh%2Br2rjFsnXw88P3iZF1ToG3RCVOMZsz8cgvHm7jrYLQmPQRNPDTvcTqfT%2BBa3TV9HfVAtnAJirRINwmuRtKdKCi57XVqensNuOXKljRqL6uaio0pOB5c86FZufQXxi3p%2Bk%2BdSjNKToyCkl4Ol%2Be3fWzYUQw6R%2FWNVev%2BAD9OlPGhBOBlA%2BArHvISIzW5UcJlOjeXKYuF84Tq0oYp6PFdMzr4%3D\\\\u0026nvMid=32436003648\\\\u0026catId=50010920\",\"mallCache\":null},{\"id\":\"32505098970\",\"title\":\"파이썬\",\"subtitle\":\"\",\"thumbnailUrl\":\"https://shopping-phinf.pstatic.net/main_3250509/32505098970.20220527074158.jpg\",\"isAdult\":0,\"author\":\"서정원^김태령\",\"illustrator\":\"\",\"publishDay\":\"20190228\",\"publisher\":\"생능출판\",\"purchaseCnt\":\"0\",\"reviewCount\":1,\"reviewScore\":5,\"keepCount\":\"1\",\"mallName\":\"\",\"lowPrice\":27550,\"rentalPrice\":null,\"nPayPcType\":\"0\",\"nPayMblType\":\"0\",\"goodsType\":\"1\",\"hasDlvryFeeCont\":0,\"dlvryCd\":0,\"prodBuyPntCont\":\"^^\",\"hasProdBuyPntCont\":0,\"cupnCont\":\"^^^\",\"hasCupnCont\":0,\"evtCont\":\"\",\"hasEvtCont\":0,\"naverPayAccumRto\":0,\"chnlSeq\":\"\",\"mallNo\":\"0\",\"awardInfo\":\"\",\"isAnswerBook\":0,\"description\":\"이 책은 지금까지 경험하지 못한 코딩 교육의 진수를 보여준다. “코딩 교육이 가야 할 방향은 컴퓨팅 사고력을 높이는 것이다.”라고 이 책의 저자들이 말하듯, “디지털 시대에 적합한 창의력과 문제해결력을 기르기 위한 코딩의 기초부터 응용까지 컴퓨터 코드를 작성하는 것은 물론이고, 알고리즘 학습을 통한 컴퓨팅 사고력을 완전 정복한다.\",\"ebookLowPrice\":null,\"ebookLendLowPrice\":null,\"audioBookLowPrice\":null,\"audioBookLendLowPrice\":null,\"bestsellerRank\":\"\",\"mallTypeCnt\":\"P/2\",\"issueType\":\"0\",\"prodTp\":\"4\",\"mpTp\":0,\"crUrl\":\"https://cr3.shopping.naver.com/book/adcr?x=EBm7kcFerhUYmdCjsS%2FMM%2F%2F%2F%2Fw%3D%3DsBC13Y2NPzXNGGE7X7GWMZKOPmRq1vH7SVt7HunmDVMeJnnL5Sdl1Om0OnvyPouDNuQMc8doAdjZE8t52%2BTOdp8ez10KvC75IXKXEmsZjpY3VMc6ISzfSnRmT9F0G4N3nY8EigvBQinIZsg%2B2TARrJsv%2BjB2erv%2BZ%2Brrs5VHOiTTt4DqiWzfh638rk6r8T8q2RzCMDJIz36bivH0LDD9D3f7IntYW81Xs6qvX%2Bsnxc5xra%2BpI6UJu%2BTwtNWUwqdlIxG2P0Q%2Fj4lhGbx8gGDwffhzzON9aTM%2Fdo2I2z9yt2AmFo49JCi6J6VM8a%2Bwjzt8%2BFqPkbhZKyIpiX5j%2F%2BxkCe1WgmKC6jv4on9gzTYjdIY0hkUN1ggejGmE%2BZ7mQjhAYSWkruqzLNR%2BNlNcFNXSh%2Br2rjFsnXw88P3iZF1ToG3SUIIhyykFMvZFLIGsc6o0KQRNPDTvcTqfT%2BBa3TV9HfVAtnAJirRINwmuRtKdKCi5m2QOk%2B70YNOUo%2FLE5ZWxvkdrQGn8d8c4RktxkeLJpBudSjNKToyCkl4Ol%2Be3fWzY9hMjVKNxFf2PQE9K4TtdXOBlA%2BArHvISIzW5UcJlOjeXKYuF84Tq0oYp6PFdMzr4%3D\\\\u0026nvMid=32505098970\\\\u0026catId=50010920\",\"mallCache\":null},{\"id\":\"32490271648\",\"title\":\"파이썬\",\"subtitle\":\"\",\"thumbnailUrl\":\"https://shopping-phinf.pstatic.net/main_3249027/32490271648.20220527033830.jpg\",\"isAdult\":0,\"author\":\"염기원\",\"illustrator\":\"\",\"publishDay\":\"20200820\",\"publisher\":\"복두출판사\",\"purchaseCnt\":\"0\",\"reviewCount\":0,\"reviewScore\":0,\"keepCount\":\"1\",\"mallName\":\"\",\"lowPrice\":15000,\"rentalPrice\":null,\"nPayPcType\":\"0\",\"nPayMblType\":\"0\",\"goodsType\":\"3\",\"hasDlvryFeeCont\":0,\"dlvryCd\":0,\"prodBuyPntCont\":\"^^\",\"hasProdBuyPntCont\":0,\"cupnCont\":\"^^^\",\"hasCupnCont\":0,\"evtCont\":\"\",\"hasEvtCont\":0,\"naverPayAccumRto\":0,\"chnlSeq\":\"\",\"mallNo\":\"0\",\"awardInfo\":\"\",\"isAnswerBook\":0,\"description\":\"비전공자의 데이터 분석을 위한 『파이썬』은 〈파이썬 기초〉, 〈파이썬을 이용한 데이터 분석 기초〉, 〈시각화 라이브러리 사용하기〉 등 파이썬의 기초적이고 전반적인 내용이 수록되어 있다.\",\"ebookLowPrice\":13500,\"ebookLendLowPrice\":null,\"audioBookLowPrice\":null,\"audioBookLendLowPrice\":null,\"bestsellerRank\":\"\",\"mallTypeCnt\":\"P/1|E/3\",\"issueType\":\"0\",\"prodTp\":\"4\",\"mpTp\":0,\"crUrl\":\"https://cr3.shopping.naver.com/book/adcr?x=Yv5TPr1XEOVQjsVU1Ysv6v%2F%2F%2Fw%3D%3DsUGjlirF3Kf1%2Bs%2FVll0J32ChvXEImge1%2Fz6v07i%2BkFLW57StUFLKmRh1TRW6ZM83NzLvs7pdyImZNEK7mzfsUaZ7FWzSOT3260RpHjzTrkYvW6%2Fmgy3Y4KMhDn%2BJ6yE4yMQoUMOeBpXsr%2FDUcA16wxd9%2BKy%2Fm0d%2BgYWHtEf61Jo4Nj51x%2B5NtY5Hk3HVsotFZDComvsy44u7txTduWTUySRUyeAFscvov6c3QyEIRsywSi1jPP8Yt02lZX7%2BJ%2FItcX3h64qwrGLq84J1p5pEmIIWsOdrz2GsDwyuzTkbiJMs%2Bd0TcbJiTH3Lys8V5OoWgcfY62%2F%2BxY4w5xbi4%2BHEPriFzevyVajC7NvPtfqyjQhzfRFdrrN1E%2BDtjX4ose4nOaCggqxzSk0EzU99rGAl7HcO0zDQPvieFAWe52xa75xleXn3mqH7HYsWL7zQ%2FWOZSzfNVo1KcSVSazeZg7M%2BAaVGO%2B9GpYuTcYSkrW8fDz9gbckaqaTs0DJGxt1CM2SBN1Tn1CJSX8JdiWwoeeK3pj9hyVIf4jjNe%2BM0vheFt21CSfvGB4bjx0pDGM%2F0hwpWSKh1RGgY1oGtzrJAZl0iD8Pc8JVrSYijlJNSO6uNf840%3D\\\\u0026nvMid=32490271648\\\\u0026catId=50010921\",\"mallCache\":null},{\"id\":\"32441653441\",\"title\":\"파이썬\",\"subtitle\":\"\",\"thumbnailUrl\":\"https://shopping-phinf.pstatic.net/main_3244165/32441653441.20230418164550.jpg\",\"isAdult\":0,\"author\":\"Y. Daniel Liang\",\"illustrator\":\"\",\"publishDay\":\"20180302\",\"publisher\":\"에피스테메\",\"purchaseCnt\":\"0\",\"reviewCount\":0,\"reviewScore\":0,\"keepCount\":\"1\",\"mallName\":\"\",\"lowPrice\":31500,\"rentalPrice\":null,\"nPayPcType\":\"0\",\"nPayMblType\":\"0\",\"goodsType\":\"1\",\"hasDlvryFeeCont\":0,\"dlvryCd\":0,\"prodBuyPntCont\":\"^^\",\"hasProdBuyPntCont\":0,\"cupnCont\":\"^^^\",\"hasCupnCont\":0,\"evtCont\":\"\",\"hasEvtCont\":0,\"naverPayAccumRto\":0,\"chnlSeq\":\"\",\"mallNo\":\"0\",\"awardInfo\":\"\",\"isAnswerBook\":0,\"description\":\"이 책은 누구나 쉽게 따라할 수 있는 파이썬 프로그래밍 언어에 기반하고 있기 때문에 프로그래밍을 통해 얻을 수 있는 논리 능력 향상과 문제 해결력 배양에 가장 적합하다. \\\\n비전공자도 쉽게 이해하고 활용할 수 있는 풍부한 예제를 제공하여 프로그래밍의 기본 개념 정립에 도움을 주며 실생활과 밀접하게 관련된 다양한 사례 연구를 통해 실생활의 문제 해결 능력을 자연스럽게 배양시킨다.\\\\n 이 책을 활용한 프로그래밍 학습을 통해 파이썬 프로그램을 스스로 작성하고 실행해 봄으로써 자신만의 프로그램을 작성할 수 있다는 뿌듯함을 느껴볼 수 있다. \\\\n객체지향 개념과 그래픽 처리, 이벤트 처리 등이 쉽게 설명되어 있어 복잡하지 않고 간단하게 프로그램에 추가하여 다양한 기능을 가진 자신만의 프로그램도 작성해 볼 수 있다.\\\\n이 책은 파이썬 언어에 대한 기본 문법부터 활용까지 프로그래밍에 관한 전반적인 내용을 다루고 있고 원저자의 경험과 능력, 치밀한 구성에 의해 완성한 책인 만큼 완성도 및 충실도는 매우 뛰어나다. \\\\n그동안 무심코 넘어갔던 개념들에 대해서 다시 한 번 생각해 보는 계기를 마련해 준다. 그만큼 이 책은 파이썬 프로그래밍 언어에 대한 개념과 활용을 집대성했기 때문이다. 그래서 IT 전공자뿐만 아니라 광범위한 분야에서 프로그래밍에 관심 있는 입문자들에게 많은 도움과 개념을 정리해 줄 수 있는 책이다.\",\"ebookLowPrice\":null,\"ebookLendLowPrice\":null,\"audioBookLowPrice\":null,\"audioBookLendLowPrice\":null,\"bestsellerRank\":\"\",\"mallTypeCnt\":\"P/12\",\"issueType\":\"0\",\"prodTp\":\"4\",\"mpTp\":0,\"crUrl\":\"https://cr3.shopping.naver.com/book/adcr?x=bu1Tmgqj0kIcznh1eo6Ej%2F%2F%2F%2Fw%3D%3DsIEFA11DksLLUV9N%2BzZsPy4bbFyo4o00UnXLgCQv%2BnKC57StUFLKmRh1TRW6ZM83NulNiOJiorsrDVVgPe8sd057FWzSOT3260RpHjzTrkYvW6%2Fmgy3Y4KMhDn%2BJ6yE4yMQoUMOeBpXsr%2FDUcA16wxd9%2BKy%2Fm0d%2BgYWHtEf61Jo4Nj51x%2B5NtY5Hk3HVsotFZruMooyy0X5eqvqUc44ux0jJlYDiJ6iMf%2FJhTgF6rY30Si1jPP8Yt02lZX7%2BJ%2FItcX3h64qwrGLq84J1p5pEmIIWsOdrz2GsDwyuzTkbiJMs%2Bd0TcbJiTH3Lys8V5OoWgcfY62%2F%2BxY4w5xbi4%2BHEPriFzevyVajC7NvPtfqyjQhwtbfQVsixII0o1%2Ft4UdJ2%2Bnej2z53PUS1TSUIYwD3Ij0eq7xa2bs6%2FahMzsv2lyyISWaCYvvUqjUSEJDZSoGBVzfNVo1KcSVSazeZg7M%2BAaVGO%2B9GpYuTcYSkrW8fDz9g4leyc7iR%2FJF8KFWiBF8A3vSm6jQ3y23Xrm3a21DxgoNhyVIf4jjNe%2BM0vheFt21DiHVG2NX6adDtGw3H6j1mjKh1RGgY1oGtzrJAZl0iD8Pc8JVrSYijlJNSO6uNf840%3D\\\\u0026nvMid=32441653441\\\\u0026catId=50010920\",\"mallCache\":null},{\"id\":\"32504743740\",\"title\":\"파이썬\",\"subtitle\":\"\",\"thumbnailUrl\":\"https://shopping-phinf.pstatic.net/main_3250474/32504743740.20220527031429.jpg\",\"isAdult\":0,\"author\":\"Y. Daniel Liang\",\"illustrator\":\"\",\"publishDay\":\"20160205\",\"publisher\":\"생능출판\",\"purchaseCnt\":\"0\",\"reviewCount\":0,\"reviewScore\":0,\"keepCount\":\"0\",\"mallName\":\"\",\"lowPrice\":0,\"rentalPrice\":null,\"nPayPcType\":\"0\",\"nPayMblType\":\"0\",\"goodsType\":\"0\",\"hasDlvryFeeCont\":0,\"dlvryCd\":0,\"prodBuyPntCont\":\"^^\",\"hasProdBuyPntCont\":0,\"cupnCont\":\"^^^\",\"hasCupnCont\":0,\"evtCont\":\"\",\"hasEvtCont\":0,\"naverPayAccumRto\":0,\"chnlSeq\":\"\",\"mallNo\":\"0\",\"awardInfo\":\"\",\"isAnswerBook\":0,\"description\":\"[파이썬]은 파이썬 언어에 대한 기본 문법부터 활용까지 프로그래밍에 관한 전반적인 내용을 다루고 있다. 이 책을 활용한 프로그래밍 학습을 통해 파이썬 프로그램을 스스로 작성하고 실행해 봄으로써 자신만의 프로그램을 작성할 수 있을 것이다.\",\"ebookLowPrice\":null,\"ebookLendLowPrice\":null,\"audioBookLowPrice\":null,\"audioBookLendLowPrice\":null,\"bestsellerRank\":\"\",\"mallTypeCnt\":\"P/0\",\"issueType\":\"0\",\"prodTp\":\"4\",\"mpTp\":0,\"crUrl\":\"https://cr3.shopping.naver.com/book/adcr?x=w9%2B9aUFPSHT7lH7nhNxkEv%2F%2F%2Fw%3D%3Ds0kHgjXPoLcw8XyXyCZnqcUdV%2FiD2xWeY%2FyffbovV6LyJnnL5Sdl1Om0OnvyPouDNPZE9vcjynis2R4MJaqR8jcez10KvC75IXKXEmsZjpY3VMc6ISzfSnRmT9F0G4N3nY8EigvBQinIZsg%2B2TARrJsv%2BjB2erv%2BZ%2Brrs5VHOiTTt4DqiWzfh638rk6r8T8q2hV%2B8Jm%2BP3mouNc4KPsPRmv7IntYW81Xs6qvX%2Bsnxc5xra%2BpI6UJu%2BTwtNWUwqdlIxG2P0Q%2Fj4lhGbx8gGDwffhzzON9aTM%2Fdo2I2z9yt2AmFo49JCi6J6VM8a%2Bwjzt8%2BFqPkbhZKyIpiX5j%2F%2BxkCe1WgmKC6jv4on9gzTYjdIY0BfhTuHM3zTCtoMRWUeSKLSWkruqzLNR%2BNlNcFNXSh%2BsEkY9%2Bx4kAEGheuQemjp%2BQJ2nwo%2FeeOo%2Bqg%2BNLWwztbQRNPDTvcTqfT%2BBa3TV9HfVAtnAJirRINwmuRtKdKCi6mDuJ0SF6PEbYMoqDmYZ7YAPbPyc2wQC%2B3bTOfOZ3%2FxQ2YrJp32L3i0sgvezuRUGMY7SqGZRu0X0%2BLf7MqYNZCQyBvInugGbtYJ47CkdqgBVaRsOtQUnaEEbxBoHxZXOc%3D\\\\u0026nvMid=32504743740\\\\u0026catId=50010921\",\"mallCache\":null},{\"id\":\"32441765959\",\"title\":\"파이썬\",\"subtitle\":\"다양한 예제로 알로리즘 쉽게 분석하기\",\"thumbnailUrl\":\"https://shopping-phinf.pstatic.net/main_3244176/32441765959.20220527045202.jpg\",\"isAdult\":0,\"author\":\"김유진\",\"illustrator\":\"\",\"publishDay\":\"20190410\",\"publisher\":\"다본\",\"purchaseCnt\":\"0\",\"reviewCount\":0,\"reviewScore\":0,\"keepCount\":\"1\",\"mallName\":\"\",\"lowPrice\":22500,\"rentalPrice\":null,\"nPayPcType\":\"0\",\"nPayMblType\":\"0\",\"goodsType\":\"1\",\"hasDlvryFeeCont\":0,\"dlvryCd\":0,\"prodBuyPntCont\":\"^^\",\"hasProdBuyPntCont\":0,\"cupnCont\":\"^^^\",\"hasCupnCont\":0,\"evtCont\":\"\",\"hasEvtCont\":0,\"naverPayAccumRto\":0,\"chnlSeq\":\"\",\"mallNo\":\"0\",\"awardInfo\":\"\",\"isAnswerBook\":0,\"description\":\"파이썬은 인터프리터 방식으로 접근이 쉬운 반면 다양한 기능의 라이브러리들이 제공되어 빅 데이터나 머신 러닝, 순수 과학, 웹, GUI 등 다양한 분야에서 사용되고 있다. 또한, 파이썬은 이식성이 높고 모듈 제작이 가능하기 때문에 자주 사용하는 기능을 모듈로 제작하여 해당 기능이 필요할 때마다 작성한 모듈을 임포트(import)하여 사용할 수 있다. 이처럼 많은 장점을 가진 파이썬은 특히 빅 데이터나 머신 러닝, 사물 인터넷, 웹에서 많이 사용되므로 해당 분야와 관련해 취업을 준비하거나 공부하는 학생 그리고 이런 분야와 관련된 일을 하는 개발자들에게 꼭 필요한 프로그램 언어이므로 이 책은 이들에게 좋은 참고서가 될 것이다.\",\"ebookLowPrice\":null,\"ebookLendLowPrice\":null,\"audioBookLowPrice\":null,\"audioBookLendLowPrice\":null,\"bestsellerRank\":\"\",\"mallTypeCnt\":\"P/3\",\"issueType\":\"0\",\"prodTp\":\"4\",\"mpTp\":0,\"crUrl\":\"https://cr3.shopping.naver.com/book/adcr?x=W3Hi8yZAWFhGPulkiYTs4f%2F%2F%2Fw%3D%3DsjfdPhVclflcFediVRk0OwvvPaegXtZQiam%2BxZu5tlMaJnnL5Sdl1Om0OnvyPouDNt%2FR1Hv7p6KOx6jJJYwH8%2Bsez10KvC75IXKXEmsZjpY3VMc6ISzfSnRmT9F0G4N3nY8EigvBQinIZsg%2B2TARrJsv%2BjB2erv%2BZ%2Brrs5VHOiTTt4DqiWzfh638rk6r8T8q2MuXDAL6LEUz8CJqtw%2FNpC%2F7IntYW81Xs6qvX%2Bsnxc5xra%2BpI6UJu%2BTwtNWUwqdlIxG2P0Q%2Fj4lhGbx8gGDwffhzzON9aTM%2Fdo2I2z9yt2AmFo49JCi6J6VM8a%2Bwjzt8%2BFqPkbhZKyIpiX5j%2F%2BxkCe1WgmKC6jv4on9gzTYjdIY1vZZFsmt7xGbyikOILCiHhSWkruqzLNR%2BNlNcFNXSh%2Br2rjFsnXw88P3iZF1ToG3S7riVyLqTOF48GJYJ3L8Y0QRNPDTvcTqfT%2BBa3TV9HfVAtnAJirRINwmuRtKdKCi5%2FoU%2B9LYuF5H5D6h0M1GyeRhE9QhCJvPiPhz1bZIbhWudSjNKToyCkl4Ol%2Be3fWzZiAAtg%2BvWpmZd0Ah2ciUekOBlA%2BArHvISIzW5UcJlOjeXKYuF84Tq0oYp6PFdMzr4%3D\\\\u0026nvMid=32441765959\\\\u0026catId=50010920\",\"mallCache\":null},{\"id\":\"39490930623\",\"title\":\"파이썬 라이브러리를 활용한 데이터 분석\",\"subtitle\":\"영화 평점, 이름 통계, 선거 데이터 등 실사례 사용\",\"thumbnailUrl\":\"https://shopping-phinf.pstatic.net/main_3949093/39490930623.20230704090728.jpg\",\"isAdult\":0,\"author\":\"Wes McKinney\",\"illustrator\":\"\",\"publishDay\":\"20230501\",\"publisher\":\"한빛미디어\",\"purchaseCnt\":\"0\",\"reviewCount\":0,\"reviewScore\":0,\"keepCount\":\"7\",\"mallName\":\"\",\"lowPrice\":35100,\"rentalPrice\":null,\"nPayPcType\":\"0\",\"nPayMblType\":\"0\",\"goodsType\":\"3\",\"hasDlvryFeeCont\":0,\"dlvryCd\":0,\"prodBuyPntCont\":\"^^\",\"hasProdBuyPntCont\":0,\"cupnCont\":\"^^^\",\"hasCupnCont\":0,\"evtCont\":\"\",\"hasEvtCont\":0,\"naverPayAccumRto\":0,\"chnlSeq\":\"\",\"mallNo\":\"0\",\"awardInfo\":\"\",\"isAnswerBook\":0,\"description\":\"데이터 분석을 배우는 가장 완벽한 방법 \\\\n파이썬 라이브러리 사용법부터 실제 데이터를 활용한 실습까지\\\\n\\\\n믿고 보는 파이썬 데이터 분석 대표 도서가 3판으로 돌아왔다. 파이썬 판다스 프로젝트 창시자인 웨스 맥키니가 직접 설명하는 파이썬 라이브러리 사용법은 실용적이고 현대적이다. 파이썬과 판다스 최신 버전을 기준으로 내용을 업데이트했고 다양한 사례를 살펴보며 데이터 분석 문제를 효과적으로 해결하는 방법을 알아본다. \\\\n\\\\n판다스, 넘파이, IPython, 맷플롯립, 주피터 등 다양한 파이썬 라이브러리를 소개하고 새로운 기능뿐만 아니라 메모리 사용량을 줄이고 성능을 개선하는 고급 사용법까지 다룬다. 또한 모델링 도구인 statsmodels와 사이킷런 라이브러리도 소개한다. 신생아 이름 통계 자료, 대선 데이터베이스 등 실제 데이터로 실습하며 데이터에 적합한 도구를 선택하고 효과적으로 분석하는 전문가로 거듭나보자.\",\"ebookLowPrice\":28080,\"ebookLendLowPrice\":null,\"audioBookLowPrice\":null,\"audioBookLendLowPrice\":null,\"bestsellerRank\":\"컴퓨터/IT 64위\",\"mallTypeCnt\":\"P/117|E/4\",\"issueType\":\"2\",\"prodTp\":\"4\",\"mpTp\":0,\"crUrl\":\"https://cr3.shopping.naver.com/book/adcr?x=Fgblp2i1jjwwyqx2kbSd3v%2F%2F%2Fw%3D%3DsgZKluifsIC9TuwMWhazM3UMxdlDe1qsr6yHoCeBSv5657StUFLKmRh1TRW6ZM83Nge1fkamYvdo%2FRs2b%2BH2hiZ7FWzSOT3260RpHjzTrkYvW6%2Fmgy3Y4KMhDn%2BJ6yE4yMQoUMOeBpXsr%2FDUcA16wxd9%2BKy%2Fm0d%2BgYWHtEf61Jo4Nj51x%2B5NtY5Hk3HVsotFZ6kw4uk1Vs3tWKJIqll5cbE8WkLc%2Fg0DrJxRdZzdeiZ4Si1jPP8Yt02lZX7%2BJ%2FItcX3h64qwrGLq84J1p5pEmIIWsOdrz2GsDwyuzTkbiJMs%2Bd0TcbJiTH3Lys8V5OoWgcfY62%2F%2BxY4w5xbi4%2BHEPriFzevyVajC7NvPtfqyjQhzmx4XM2ZCLdPl5XX%2BFXEC3J3Db0y2BaiPKAq%2F8KmD1PcO0zDQPvieFAWe52xa75xkEH8UTFi%2FE4jvhJ8DtF0cmzfNVo1KcSVSazeZg7M%2BAaZ75MMzY%2FnVsoFgPAPkZ4dTrjexAwns6wcHmLms1G6rU0HMFs%2FhKXckzGU%2FJrCNl3qRTwG7GzUhNNb66aN%2FDtraFbjvl0xjFGuKZ944Cd3O1XM74GB8sYgEqncIDAnFWy0y%2FCGs%2FaKHk%2B2bpCgIvhcXzSSKUzYBuZnhhbVXfUKtLwaI3%2FO136%2BBCw3Fl87UQAerhUs6FKLb41v0hsQ6h1Y0%3D\\\\u0026nvMid=39490930623\\\\u0026catId=50010921\",\"mallCache\":null},{\"id\":\"42377563630\",\"title\":\"파이썬 올인원\",\"subtitle\":\"기초부터 데이터분석까지\",\"thumbnailUrl\":\"https://shopping-phinf.pstatic.net/main_4237756/42377563630.20230919123057.jpg\",\"isAdult\":0,\"author\":\"이지민^임희경\",\"illustrator\":\"\",\"publishDay\":\"20230904\",\"publisher\":\"연두에디션\",\"purchaseCnt\":\"0\",\"reviewCount\":0,\"reviewScore\":0,\"keepCount\":\"1\",\"mallName\":\"\",\"lowPrice\":20700,\"rentalPrice\":null,\"nPayPcType\":\"0\",\"nPayMblType\":\"0\",\"goodsType\":\"1\",\"hasDlvryFeeCont\":0,\"dlvryCd\":0,\"prodBuyPntCont\":\"^^\",\"hasProdBuyPntCont\":0,\"cupnCont\":\"^^^\",\"hasCupnCont\":0,\"evtCont\":\"\",\"hasEvtCont\":0,\"naverPayAccumRto\":0,\"chnlSeq\":\"\",\"mallNo\":\"0\",\"awardInfo\":\"\",\"isAnswerBook\":0,\"description\":\"현재 우리가 사는 시대는 컴퓨터가 주도하고 있다고 말할 수 있는 시기입니다. 특히 인공지능 시대가 도래하면서 컴퓨터를 움직이는 요소인 소프트웨어를 만들고 다룰 수 있는 코딩 능력은 현대 사회를 살아가는데 필수 요소로 자리 잡았습니다. 현대 사회에서 IT와 관련 되지 않은 업무를 찾아보기 힘들만큼 기본 소양으로서 코딩 기술을 통한 문제 해결능력이 요구되고 있습니다.\\\\n\\\\n현재 가장 각광받는 언어라고 할 수 있는 파이썬은 프로그래밍 초보자가 접근하기 쉬운 언어입니다. 특히, 산업 전반의 화두로 자리잡은 인공지능과 데이터 분석에 가장 널리 사용되는 언어가 파이썬입니다. 익히기에는 간편하지만, 능력은 무한하고, 이미 존재하는 도구를 활용하면 확장성도 좋은 언어입니다.\\\\n\\\\n본 도서를 통해, 파이썬 기초부터 데이터 분석에 필요한 심화 내용까지 쉽고 효과적으로 학습할\\\\n수 있기를 바랍니다.\",\"ebookLowPrice\":null,\"ebookLendLowPrice\":null,\"audioBookLowPrice\":null,\"audioBookLendLowPrice\":null,\"bestsellerRank\":\"\",\"mallTypeCnt\":\"P/18\",\"issueType\":\"1\",\"prodTp\":\"4\",\"mpTp\":0,\"crUrl\":\"https://cr3.shopping.naver.com/book/adcr?x=4UtzFPRKsRp1HXnhv35oPf%2F%2F%2Fw%3D%3DsVHBrHruBOK5Ha47kXmmPoHnLcOU6mXvs16OLB1qPeEC57StUFLKmRh1TRW6ZM83NMv3XxsaFNEGPEwyD85zj5J7FWzSOT3260RpHjzTrkYvW6%2Fmgy3Y4KMhDn%2BJ6yE4yMQoUMOeBpXsr%2FDUcA16wxd9%2BKy%2Fm0d%2BgYWHtEf61Jo4Nj51x%2B5NtY5Hk3HVsotFZ5Bog9DB9uLGAczcwBTMi9KE64gFx1E%2BbKPQcwx6QHhgSi1jPP8Yt02lZX7%2BJ%2FItcX3h64qwrGLq84J1p5pEmIIWsOdrz2GsDwyuzTkbiJMs%2Bd0TcbJiTH3Lys8V5OoWgcfY62%2F%2BxY4w5xbi4%2BHEPriFzevyVajC7NvPtfqyjQhyeFmOQkPZmfHAPfjRaU7dtMYtTqz2d9AlLB1q5Qt4F7Eeq7xa2bs6%2FahMzsv2lyyJTH2GMrzv1FZUXG1Ong7opzfNVo1KcSVSazeZg7M%2BAaWSUdyqxP4hXGjWmuxh1P7v8L4YpI%2FHdC0e%2BsF%2F5jn0gwbV7ERgb%2B1l%2B69sD1HmEaI0Ye7bvgnikFcTdQegYiR1we%2F9t21Qt2SWeg3efUJ%2B1uLCcTNkXp6bjitgT3E7mjBW5qg6%2FLH6RljWXJkXn3ovUkiyUGZ3FpPHvE7X48%2Bhb\\\\u0026nvMid=42377563630\\\\u0026catId=50010920\",\"mallCache\":null},{\"id\":\"37233438618\",\"title\":\"데이터사이언스를 위한 기초수학 with 파이썬\",\"subtitle\":\"\",\"thumbnailUrl\":\"https://shopping-phinf.pstatic.net/main_3723343/37233438618.20230131162358.jpg\",\"isAdult\":0,\"author\":\"박민서\",\"illustrator\":\"\",\"publishDay\":\"20230117\",\"publisher\":\"길벗캠퍼스\",\"purchaseCnt\":\"0\",\"reviewCount\":1,\"reviewScore\":5,\"keepCount\":\"6\",\"mallName\":\"\",\"lowPrice\":25650,\"rentalPrice\":null,\"nPayPcType\":\"0\",\"nPayMblType\":\"0\",\"goodsType\":\"1\",\"hasDlvryFeeCont\":0,\"dlvryCd\":0,\"prodBuyPntCont\":\"^^\",\"hasProdBuyPntCont\":0,\"cupnCont\":\"^^^\",\"hasCupnCont\":0,\"evtCont\":\"\",\"hasEvtCont\":0,\"naverPayAccumRto\":0,\"chnlSeq\":\"\",\"mallNo\":\"0\",\"awardInfo\":\"\",\"isAnswerBook\":0,\"description\":\"인공지능의 시작, 데이터사이언스를 위한 수학적 메타인지를 강화한다!\\\\n\\\\n이 책을 통해 미분, 벡터, 선형대수, 확률, 통계 등 데이터를 다루는 머신러닝과 인공신경망과 같은 딥러닝을 공부하는데 필요한 데이터사이언스의 중요한 수학적 개념에 대해서 왜 배워야 하는지, 무엇을 알아야 하는지, 어떤 역할을 하는지 비전공자인 인문계 학생도 배경 지식을 전략적으로 학습할 수 있습니다.\\\\n통계, 분석, 모델링, 프로그래밍을 통한 데이터 속의 의미를 찾아서 문제를 해결하기 위해 중요한 수학적인 지식과 기술을 배우는 한편, 벡터, 행렬, 선형대수학, 확률 및 통계, 미분의 연산과 기초적인 개념부터 머신러닝, 딥러닝 학습에 필요한 원리와 수학을 이해하고 파이썬 코드로 구현할 수 있습니다.\\\\n\\\\n이 책의 장점, 세 가지 요약\\\\n1. 파이썬 코드로 수학 개념을 완벽하게 풀이 및 검증\\\\n2. 어려운 개념은 그림과 도해로 누구나 쉽게 이해 가능\\\\n3. 다양한 상황을 설정한 예제로 수학적 활용 능력치 강화\",\"ebookLowPrice\":null,\"ebookLendLowPrice\":null,\"audioBookLowPrice\":null,\"audioBookLendLowPrice\":null,\"bestsellerRank\":\"컴퓨터/IT 138위\",\"mallTypeCnt\":\"P/34\",\"issueType\":\"2\",\"prodTp\":\"4\",\"mpTp\":0,\"crUrl\":\"https://cr3.shopping.naver.com/book/adcr?x=77q%2FfKzONivwFBM5iXKTNP%2F%2F%2Fw%3D%3DsBpUucv3xn1j5lqODigmvMqJpWyufq0N0nHGL87gUVG%2BJnnL5Sdl1Om0OnvyPouDNxwzZAM7whQvxMocRAmJsGcez10KvC75IXKXEmsZjpY3VMc6ISzfSnRmT9F0G4N3nY8EigvBQinIZsg%2B2TARrJsv%2BjB2erv%2BZ%2Brrs5VHOiTTt4DqiWzfh638rk6r8T8q2hUMx4u4j3BuhK3ffEcl%2BfP7IntYW81Xs6qvX%2Bsnxc5xra%2BpI6UJu%2BTwtNWUwqdlIxG2P0Q%2Fj4lhGbx8gGDwffhzzON9aTM%2Fdo2I2z9yt2AmFo49JCi6J6VM8a%2Bwjzt8%2BFqPkbhZKyIpiX5j%2F%2BxkCe1WgmKC6jv4on9gzTYjdIY3LJpS81sKjP07MhrM7jM4TSWkruqzLNR%2BNlNcFNXSh%2BsEkY9%2Bx4kAEGheuQemjp%2BQNVRZ4R1C99UitiKLizci2ADyZ4At%2BvCqeHRZojf7GdNd%2BQNJkkRexEf8ydOxTLVPzZmhIxIjhkSVCWSLb%2FKGn5VyzsJSnw4da%2B5KXt8WxxeCoaTYG6qr0HqO6cxTkasMznpXBZTn%2FeDDuJe5%2B%2BmXXTQkOu905FOKreiaZ5L2cefH0OK75XRBis9wRqleSgB4iow1vZID6zpdMufwwy1CYmpFgmrvi1%2B9zfQljqc8AKxfavnbwgdVJrCdhaoDUH9A%3D\\\\u0026nvMid=37233438618\\\\u0026catId=50010921\",\"mallCache\":null},{\"id\":\"42326876627\",\"title\":\"달구나 파이썬!\",\"subtitle\":\"개정판\",\"thumbnailUrl\":\"https://shopping-phinf.pstatic.net/main_4232687/42326876627.20230916070952.jpg\",\"isAdult\":0,\"author\":\"노순국^이금분^정유정\",\"illustrator\":\"\",\"publishDay\":\"20230815\",\"publisher\":\"연두에디션\",\"purchaseCnt\":\"0\",\"reviewCount\":0,\"reviewScore\":0,\"keepCount\":\"0\",\"mallName\":\"\",\"lowPrice\":18000,\"rentalPrice\":null,\"nPayPcType\":\"0\",\"nPayMblType\":\"0\",\"goodsType\":\"1\",\"hasDlvryFeeCont\":0,\"dlvryCd\":0,\"prodBuyPntCont\":\"^^\",\"hasProdBuyPntCont\":0,\"cupnCont\":\"^^^\",\"hasCupnCont\":0,\"evtCont\":\"\",\"hasEvtCont\":0,\"naverPayAccumRto\":0,\"chnlSeq\":\"\",\"mallNo\":\"0\",\"awardInfo\":\"\",\"isAnswerBook\":0,\"description\":\"최근 전 세계는 4차산업 혁명시대를 맞이하여 소프트웨어(Software)가 새로운 가치 창출의 중심으로 급부상함에 따라 소프트웨어 중심사회로 변화하고 있고, 더욱이 인공지능(Artificial Intelligence)이 실생활에서 다양하게 구현됨으로 인해 미래 사회의 중요한 기술로 다가오고 있음을 우리 모두 인식하고 있다. \\\\n\\\\n\\\\n\\\\n특히, 4차산업 혁명 관련 IT기술을 구현하기 위해 소프트웨어(Software)의 중요성은 더욱 크게 부각되고 있다. \\\\n\\\\n\\\\n\\\\n이 책을 통해, 최근 가장 많이 활용되고 있는 언어인 Python 언어를 알아보고, 프로그램에 대한 이해와 기초를 습득하고 (Coding) 실력을 향상시켜 주어진 문제에 대한 해결 능력을 갖추도록 하는데 일조하고자 한다.\",\"ebookLowPrice\":null,\"ebookLendLowPrice\":null,\"audioBookLowPrice\":null,\"audioBookLendLowPrice\":null,\"bestsellerRank\":\"\",\"mallTypeCnt\":\"P/17\",\"issueType\":\"1\",\"prodTp\":\"4\",\"mpTp\":0,\"crUrl\":\"https://cr3.shopping.naver.com/book/adcr?x=E27QTW43DYb8aVlznDscEf%2F%2F%2Fw%3D%3Dsec7IfwOaMdP7%2BrzLVoCi%2BSm5SkkiVjoS0h5V2C6rF8eJnnL5Sdl1Om0OnvyPouDNNiU%2Bp%2B0ynIN4g9wxyPSIB8ez10KvC75IXKXEmsZjpY3VMc6ISzfSnRmT9F0G4N3nY8EigvBQinIZsg%2B2TARrJsv%2BjB2erv%2BZ%2Brrs5VHOiTTt4DqiWzfh638rk6r8T8q2C2%2FLAomoWUAzbL3ArDQTjf7IntYW81Xs6qvX%2Bsnxc5xra%2BpI6UJu%2BTwtNWUwqdlIxG2P0Q%2Fj4lhGbx8gGDwffhzzON9aTM%2Fdo2I2z9yt2AmFo49JCi6J6VM8a%2Bwjzt8%2BFqPkbhZKyIpiX5j%2F%2BxkCe1WgmKC6jv4on9gzTYjdIY1h4SFX%2FHQFQYSy7WojlNdlSWkruqzLNR%2BNlNcFNXSh%2Br2rjFsnXw88P3iZF1ToG3T7E%2FVx7P03ufcaZhC%2F2zsUEqDiPlXQi3pHud6o466IfRDTKMgVflR95%2FcVIyD22co00M1rIYYAo0524TileAqk7SPR1gVhK9xACodV5ghMI9B2Lj2BhH4hGVUtZ4dSbgeTbdvg3jumNa3MUJCFZE9lbGzLLy1zG23XwnsWdvwlSNZf4YOTQYyvtuRm2BsDeHY%3D\\\\u0026nvMid=42326876627\\\\u0026catId=50010920\",\"mallCache\":null},{\"id\":\"32496549634\",\"title\":\"으뜸 파이썬\",\"subtitle\":\"프로그래밍을 사랑하는 두 교수가 작정하고 쓴\",\"thumbnailUrl\":\"https://shopping-phinf.pstatic.net/main_3249654/32496549634.20230919125730.jpg\",\"isAdult\":0,\"author\":\"박동규\",\"illustrator\":\"\",\"publishDay\":\"20200217\",\"publisher\":\"생능출판\",\"purchaseCnt\":\"0\",\"reviewCount\":6,\"reviewScore\":4.8,\"keepCount\":\"6\",\"mallName\":\"\",\"lowPrice\":30400,\"rentalPrice\":null,\"nPayPcType\":\"0\",\"nPayMblType\":\"0\",\"goodsType\":\"1\",\"hasDlvryFeeCont\":0,\"dlvryCd\":0,\"prodBuyPntCont\":\"^^\",\"hasProdBuyPntCont\":0,\"cupnCont\":\"^^^\",\"hasCupnCont\":0,\"evtCont\":\"\",\"hasEvtCont\":0,\"naverPayAccumRto\":0,\"chnlSeq\":\"\",\"mallNo\":\"0\",\"awardInfo\":\"\",\"isAnswerBook\":0,\"description\":\"[이 책의 특징]\\\\n첫째, 파이썬의 기초를 익히고자 하는 초급자들이 쉽게 코딩의 원리를 이해하도록 돕기 위해 짧은 코드는 대화창에서 그 기능을 보여주며, 다소 긴 코드는 스크립트 파일로 제공한다.\\\\n\\\\n둘째, 각 절의 마지막에는 LAB 문제를 넣어서 각 절에서 이해한 내용을 실습을 통해서 다시 확인할 수 있도록 하였다.\\\\n\\\\n셋째, 각 장의 마지막에는 단계별 연습문제를 제공하여, 한 번 더 본문의 내용과 관련된 깊이있는 문제를 해결하며 프로그래밍의 즐거움을 느낄 수 있도록 하였다.\\\\n\\\\n넷째, 파이썬의 고급 개발자로 발돋움 할 수 있는 다양한 모듈 사용법과 리스트 축약표현 등에 대한 깊이 있는 설명과 고급 문제를 제공하였다.\\\\n다섯째, 기계 학습 교과목을 익히는데 필수적인 넘파이를 기초부터 익힐 수 있도록 하였다. 독자 여러분은 넘파이의 가장 핵심인 다차원 배열과 선형방정식에 대한 핵심적인 내용을 익히게 됨으로서 넘파이의 구조를 깊이 있게 알 수 있을 것이다.\\\\n\\\\n여섯째, 이 책의 분량 때문에 다루지 못한 파이참 개발환경의 설치와 구글 colab 환경의 개발 방식은 출판사 웹 사이트에서 제공하는 부록 pdf 파일을 다운받아서 활용할 수 있다.\\\\n\\\\n마지막으로, 저자는 유튜브 강좌 “널널한 교수의 기초 파이썬”이외에도 “널널한 교수의 고급 파이썬”에서는 이 책에서 깊이 다루지 못한 참조와 객체, 동적 타이핑 등에 대해 상세히 다루고 있다. 향후 “널널한 교수의 으뜸 파이썬”이라는 강의를 통해 이 책의 내용을 동영상을 통해 설명할 예정이다.\",\"ebookLowPrice\":null,\"ebookLendLowPrice\":null,\"audioBookLowPrice\":null,\"audioBookLendLowPrice\":null,\"bestsellerRank\":\"\",\"mallTypeCnt\":\"P/21\",\"issueType\":\"0\",\"prodTp\":\"4\",\"mpTp\":0,\"crUrl\":\"https://cr3.shopping.naver.com/book/adcr?x=ambpk11%2BlOmzFJsPaCHD4P%2F%2F%2Fw%3D%3Dsz3iaFqwKlrYOr%2BSEo7Cw8yv7bTQnITxYUxM58gvLbtCJnnL5Sdl1Om0OnvyPouDNo6ZZcdn4s5YEeR7ov%2BPCuMez10KvC75IXKXEmsZjpY3VMc6ISzfSnRmT9F0G4N3nY8EigvBQinIZsg%2B2TARrJsv%2BjB2erv%2BZ%2Brrs5VHOiTTt4DqiWzfh638rk6r8T8q2lUA3SLwWd%2FJRc1cJ%2FjX8JP7IntYW81Xs6qvX%2Bsnxc5xra%2BpI6UJu%2BTwtNWUwqdlIxG2P0Q%2Fj4lhGbx8gGDwffhzzON9aTM%2Fdo2I2z9yt2AmFo49JCi6J6VM8a%2Bwjzt8%2BFqPkbhZKyIpiX5j%2F%2BxkCe1WgmKC6jv4on9gzTYjdIY0u%2Bk1%2BCTodepKoYm%2FI%2F8xwSWkruqzLNR%2BNlNcFNXSh%2Br2rjFsnXw88P3iZF1ToG3RkeDq6MMPqSLM5gmpB7h%2FnE2se7LoirpDpaVvCc0hdh44PDhV%2B0YwkGMcEfE1M28WBpOawc6LinFxOjqV0N6%2F4V7%2F9oAqdPU1xg56gYMhVZuSzioZtoA3L6%2Fv%2FluwnPZayVnfcr1JhBSSsGWgbkPkjrWex8GL0qWm5kbIgdgzFqHNLQ2a61Tnb97OcBPPzGJg%3D\\\\u0026nvMid=32496549634\\\\u0026catId=50010920\",\"mallCache\":null},{\"id\":\"32489149599\",\"title\":\"파이썬 코딩의 기초\",\"subtitle\":\"문제해결을 위한\",\"thumbnailUrl\":\"https://shopping-phinf.pstatic.net/main_3248914/32489149599.20221228074106.jpg\",\"isAdult\":0,\"author\":\"조연상\",\"illustrator\":\"\",\"publishDay\":\"20210701\",\"publisher\":\"상학당\",\"purchaseCnt\":\"0\",\"reviewCount\":0,\"reviewScore\":0,\"keepCount\":\"0\",\"mallName\":\"\",\"lowPrice\":28800,\"rentalPrice\":null,\"nPayPcType\":\"0\",\"nPayMblType\":\"0\",\"goodsType\":\"1\",\"hasDlvryFeeCont\":0,\"dlvryCd\":0,\"prodBuyPntCont\":\"^^\",\"hasProdBuyPntCont\":0,\"cupnCont\":\"^^^\",\"hasCupnCont\":0,\"evtCont\":\"\",\"hasEvtCont\":0,\"naverPayAccumRto\":0,\"chnlSeq\":\"\",\"mallNo\":\"0\",\"awardInfo\":\"\",\"isAnswerBook\":0,\"description\":\"▶ 이 책은 파이썬 코딩의 기초에 대해 다룬 도서입니다. 파이썬 코딩의 기초에 대한 기초적이고 전반적인 내용을 확인할 수 있도록 구성했습니다.\",\"ebookLowPrice\":null,\"ebookLendLowPrice\":null,\"audioBookLowPrice\":null,\"audioBookLendLowPrice\":null,\"bestsellerRank\":\"\",\"mallTypeCnt\":\"P/14\",\"issueType\":\"0\",\"prodTp\":\"4\",\"mpTp\":0,\"crUrl\":\"https://cr3.shopping.naver.com/book/adcr?x=1yMzblbvepzd0MAHKGmL5%2F%2F%2F%2Fw%3D%3DsMBYPVBaLyrYauMj2Wq3lgZ6ZjtyVlNm5VG%2FO2kzsa0GJnnL5Sdl1Om0OnvyPouDNitLzBWbqRIoDjtNOEk80pMez10KvC75IXKXEmsZjpY3VMc6ISzfSnRmT9F0G4N3nY8EigvBQinIZsg%2B2TARrJsv%2BjB2erv%2BZ%2Brrs5VHOiTTt4DqiWzfh638rk6r8T8q24pCbNs7qHExVWGi0DUtyFf7IntYW81Xs6qvX%2Bsnxc5xra%2BpI6UJu%2BTwtNWUwqdlIxG2P0Q%2Fj4lhGbx8gGDwffhzzON9aTM%2Fdo2I2z9yt2AmFo49JCi6J6VM8a%2Bwjzt8%2BFqPkbhZKyIpiX5j%2F%2BxkCe1WgmKC6jv4on9gzTYjdIY1WP0Oq3sNUh4TdOwS3912pSWkruqzLNR%2BNlNcFNXSh%2Br2rjFsnXw88P3iZF1ToG3TivLhD%2FINOkyIjmYVDep5LQRNPDTvcTqfT%2BBa3TV9HfdbgWnPzBmC9OVbdMcBzrquissTRowwE4HcQtMDxWdGYIVHHnYNZNn0cZRHKclIGcX6RujerHwYM%2FeWQRLmNnWtMvwhrP2ih5Ptm6QoCL4XFBgJj1AapVsFlkCiXaRYgp8GiN%2Fztd%2BvgQsNxZfO1EAHq4VLOhSi2%2BNb9IbEOodWN\\\\u0026nvMid=32489149599\\\\u0026catId=50010920\",\"mallCache\":null},{\"id\":\"33490408618\",\"title\":\"Wonder 파이썬\",\"subtitle\":\"놀랍도록 쉬운 파이썬 기초\",\"thumbnailUrl\":\"https://shopping-phinf.pstatic.net/main_3349040/33490408618.20230919122219.jpg\",\"isAdult\":0,\"author\":\"조성호\",\"illustrator\":\"\",\"publishDay\":\"20220708\",\"publisher\":\"인피니티북스\",\"purchaseCnt\":\"0\",\"reviewCount\":2,\"reviewScore\":4.5,\"keepCount\":\"6\",\"mallName\":\"\",\"lowPrice\":25200,\"rentalPrice\":null,\"nPayPcType\":\"0\",\"nPayMblType\":\"0\",\"goodsType\":\"1\",\"hasDlvryFeeCont\":0,\"dlvryCd\":0,\"prodBuyPntCont\":\"^^\",\"hasProdBuyPntCont\":0,\"cupnCont\":\"^^^\",\"hasCupnCont\":0,\"evtCont\":\"\",\"hasEvtCont\":0,\"naverPayAccumRto\":0,\"chnlSeq\":\"\",\"mallNo\":\"0\",\"awardInfo\":\"\",\"isAnswerBook\":0,\"description\":\"파이썬을 이보다 더 쉽고 재미있게 설명할 수 없다\\\\n\\\\n파이썬 언어의 문법은 매우 단순하여 누구나 쉽게 배울 수 있다. 이러한 장점으로 프로그래밍을 처음 배우는 초보자들에게 추천되는 언어이다. 이 책은 실생활에서 흔히 접할 수 있는 예제와 여러 캐릭터를 활용한 그림으로 비전공자도 쉽게 이해할 수 있도록 풀어서 설명했다. 그리고 어느 파이썬 책에서도 볼 수 없었던 독창적인 예제 코드들로, 놀랍고 신기한 실행결과를 눈으로 직접 확인해볼 수 있다. 또한 다양한 주제의 LAB을 통해 직접 실습하고, 각 장마다 학습한 내용은 연습문제를 통해 점검할 수 있도록 구성하였다.\\\\n\\\\n이 책의 특징\\\\n1. 파이썬 문법을 다양한 캐릭터와 그림으로 재미있게 설명\\\\n2. 30줄 내외의 간결한 코드로 초보자도 쉽게 이해하고 실습 가능\\\\n3. 실생활에 응용할 수 있는 다양한 주제의 LAB과 PROJECT를 포함\\\\n4. 움직이는 코드나 화려한 그래픽을 활용한 150여 개의 독창적인 코드\\\\n5. 각 장마다 중간점검 문제와 코드를 포함한 다양한 연습문제 376개 수록\",\"ebookLowPrice\":null,\"ebookLendLowPrice\":null,\"audioBookLowPrice\":null,\"audioBookLendLowPrice\":null,\"bestsellerRank\":\"\",\"mallTypeCnt\":\"P/23\",\"issueType\":\"0\",\"prodTp\":\"4\",\"mpTp\":0,\"crUrl\":\"https://cr3.shopping.naver.com/book/adcr?x=eIgOfut6Vy10uf80iZd1c%2F%2F%2F%2Fw%3D%3DsFGFkUkHiiiekxmLAL3sk7GVjnWMH0EvoOZ5n6%2FGt9%2FCJnnL5Sdl1Om0OnvyPouDNJOnHGqNnGb%2FlIHAp%2BjrD58ez10KvC75IXKXEmsZjpY3VMc6ISzfSnRmT9F0G4N3nY8EigvBQinIZsg%2B2TARrJsv%2BjB2erv%2BZ%2Brrs5VHOiTTt4DqiWzfh638rk6r8T8q2Nf1pl8lOJMml4j8hwT7dav7IntYW81Xs6qvX%2Bsnxc5xra%2BpI6UJu%2BTwtNWUwqdlIxG2P0Q%2Fj4lhGbx8gGDwffhzzON9aTM%2Fdo2I2z9yt2AmFo49JCi6J6VM8a%2Bwjzt8%2BFqPkbhZKyIpiX5j%2F%2BxkCe1WgmKC6jv4on9gzTYjdIY26OlxO2FAwWhDyaQrWq9gESWkruqzLNR%2BNlNcFNXSh%2Br2rjFsnXw88P3iZF1ToG3SMFQB2Iqc4RLw0H3Qm8CCcA80%2BK5c%2FWVLE8IFLRPPPi7bI2q%2BJzg6EpZx%2F7aZl2nyBpOawc6LinFxOjqV0N6%2F4DpKVdC1tpBoBxQRZYkBCBeSzioZtoA3L6%2Fv%2FluwnPZZspkW%2FwtpofhdirmPsHiBCrWex8GL0qWm5kbIgdgzFqHNLQ2a61Tnb97OcBPPzGJg%3D\\\\u0026nvMid=33490408618\\\\u0026catId=50010920\",\"mallCache\":null},{\"id\":\"39215805619\",\"title\":\"파이썬 강좌\",\"subtitle\":\"\",\"thumbnailUrl\":\"https://shopping-phinf.pstatic.net/main_3921580/39215805619.20230412070838.jpg\",\"isAdult\":0,\"author\":\"류주환\",\"illustrator\":\"\",\"publishDay\":\"20230327\",\"publisher\":\"퍼플\",\"purchaseCnt\":\"0\",\"reviewCount\":0,\"reviewScore\":0,\"keepCount\":\"0\",\"mallName\":\"\",\"lowPrice\":19000,\"rentalPrice\":null,\"nPayPcType\":\"0\",\"nPayMblType\":\"0\",\"goodsType\":\"1\",\"hasDlvryFeeCont\":0,\"dlvryCd\":0,\"prodBuyPntCont\":\"^^\",\"hasProdBuyPntCont\":0,\"cupnCont\":\"^^^\",\"hasCupnCont\":0,\"evtCont\":\"\",\"hasEvtCont\":0,\"naverPayAccumRto\":0,\"chnlSeq\":\"\",\"mallNo\":\"0\",\"awardInfo\":\"\",\"isAnswerBook\":0,\"description\":\"파이썬은 확장성과 능력이 큰 컴퓨터 언어이다. 이 책은 파이썬의 설치의 안내부터 시작해서 기본문법을 빠르게 습득하도록 의도하였다. 그 과정에서 항상 실제 프로그램을 작성하고 이용하는 것에 목표를 두었다. 그래서 이 책은 상세한 언어 문법 매뉴얼이 아니다. 내용을 따라가다 보면 활용하기에 충분한 코딩 능력을 갖추게 되리라고 기대한다. 동일한 맥락에서 그래픽, CGI, Database, 정규식, GUI 프로그래밍 등의 주제들을 포함하고 있다. 프로그램을 작성해서 무엇인가 해보려고 하면 본격적으로 알아야 하는 것들이 많다. 여기서도 그 각각을 방대하게 접근하는 것보다는 실제 사용해서 결과를 얻을 수 있는 실용적인 방법으로 접근하려 노력했다.\\\\n\\\\n  그래서 이 책은 비록 파이썬의 설치를 포함하여 가장 기본부터 시작하지만 결코 입문서로 끝나지 않고 파이썬에 익숙해진 중급자가 참고해도 좋을 내용들이 담겨 있다. 이 책은 애초에 대학의 공학 부문에서 공학수학을 배우는 학생들에게 파이썬을 가르치는 데 사용하려고 기획되었다. 학생들이 파이썬에 대한 사전 지식은 없어도 파이썬 문법의 일부만 배우고도 바로 그것을 문제 풀이에 적용해볼 수 있다. ‘배우면 바로  활용하기’가 이 책의 모토라 할 수 있다.  \\\\n\\\\n  그리고 파이썬의 용도는 계산에만 국한되는 것이 아니다. 현대에는 누구나 컴퓨터를 이용하고 살아가는데, 이 책을 따라가다 보면 여러 작업을 자신이 직접 프로그래밍하여 처리할 수 있음을 깨닫게 될 것이다. 파이썬은 딥러닝, 머신러닝까지 포함해서 온갖 분야에서 강력한 도구로 사용되고 있다. 그래서 파이썬이라는 언어는 과학, 공학, 산업 등의 현대 사회의 발전을 배울 수 있는 안내서라고 해도 과언이 아니다. 이런 것이 가능하게 하는 배경 중 하나는 파이썬의 놀라운 개방성이다. 이 책을 통해 그 대양\\\\u0026#40;大洋\\\\u0026#41;에 접해 보기를, 그리고 거기서 물고기를 잡을 수 있는 그물을 갖출 수 있게 되기를 바란다.\",\"ebookLowPrice\":null,\"ebookLendLowPrice\":null,\"audioBookLowPrice\":null,\"audioBookLendLowPrice\":null,\"bestsellerRank\":\"\",\"mallTypeCnt\":\"P/1\",\"issueType\":\"0\",\"prodTp\":\"4\",\"mpTp\":0,\"crUrl\":\"https://cr3.shopping.naver.com/book/adcr?x=he9vSGpt3gHVwnw4mA1gMP%2F%2F%2Fw%3D%3Dsf%2BPS0bLPIvtRK4Cj1AaLbc2%2BnelJhN%2Bd0UQy9a1rqSGJnnL5Sdl1Om0OnvyPouDNf7RYSBfsZI6tLGp6qnaFfcez10KvC75IXKXEmsZjpY3VMc6ISzfSnRmT9F0G4N3nY8EigvBQinIZsg%2B2TARrJsv%2BjB2erv%2BZ%2Brrs5VHOiTTt4DqiWzfh638rk6r8T8q2HFMm%2Fb%2BZZCgHRHDhlE4t%2Fv7IntYW81Xs6qvX%2Bsnxc5xra%2BpI6UJu%2BTwtNWUwqdlIxG2P0Q%2Fj4lhGbx8gGDwffhzzON9aTM%2Fdo2I2z9yt2AmFo49JCi6J6VM8a%2Bwjzt8%2BFqPkbhZKyIpiX5j%2F%2BxkCe1WgmKC6jv4on9gzTYjdIY26MtIJgno1CFYwLd5Vwt0ESWkruqzLNR%2BNlNcFNXSh%2BgSizl3Bpesg6PzekL%2FIIJndS2ELUh4DtiTmK7usilR0QRNPDTvcTqfT%2BBa3TV9HfVDihhL7cMXFcTx%2Bag2I1QVxYQWBpLdkPdhTzGKcmRcfa5BsrQCq4bNSnsHsljeNMeSzioZtoA3L6%2Fv%2FluwnPZYE2ga9CanNjCiM%2BjbZWZTsrWex8GL0qWm5kbIgdgzFqHNLQ2a61Tnb97OcBPPzGJg%3D\\\\u0026nvMid=39215805619\\\\u0026catId=50005561\",\"mallCache\":null},{\"id\":\"33084056619\",\"title\":\"새내기 파이썬\",\"subtitle\":\"\",\"thumbnailUrl\":\"https://shopping-phinf.pstatic.net/main_3308405/33084056619.20230207163743.jpg\",\"isAdult\":0,\"author\":\"천인국\",\"illustrator\":\"\",\"publishDay\":\"20220630\",\"publisher\":\"생능출판\",\"purchaseCnt\":\"0\",\"reviewCount\":2,\"reviewScore\":5,\"keepCount\":\"2\",\"mallName\":\"\",\"lowPrice\":28500,\"rentalPrice\":null,\"nPayPcType\":\"0\",\"nPayMblType\":\"0\",\"goodsType\":\"1\",\"hasDlvryFeeCont\":0,\"dlvryCd\":0,\"prodBuyPntCont\":\"^^\",\"hasProdBuyPntCont\":0,\"cupnCont\":\"^^^\",\"hasCupnCont\":0,\"evtCont\":\"\",\"hasEvtCont\":0,\"naverPayAccumRto\":0,\"chnlSeq\":\"\",\"mallNo\":\"0\",\"awardInfo\":\"\",\"isAnswerBook\":0,\"description\":\"파이썬은 현재 가장 각광받는 언어라고 말할 수 있다. 최근에 인공지능이나 데이터 과학, 영상처리, 업무 자동화 분야는 파이썬으로 프로그램을 작성하는 것이 거의 표준으로 되어 있다. 해가 갈수록 각 분야에서 파이썬 활용이 폭발적으로 늘어나고 있다. 이 책은 다양한 전공의 학생들에게 파이썬을 소개하고, 해당 전공에서 파이썬을 활용하기 위한 목적으로 기획되었다. 이 책을 저술하면서 역점을 두었던 몇 가지는 다음과 같다.\\\\n\\\\nㆍ 파이썬 기초부터 심도 있는 내용까지를 다루려고 노력하였다.\\\\nㆍ 다양한 그림을 사용하여 내용을 쉽게 이해할 수 있도록 노력하였다.\\\\nㆍ 독자들이 흥미를 가질만한 예제(example)를 간추려서 제공하였다.\\\\nㆍ 독자들이 다양하게 변형시켜보고 실험할 수 있는 주제는 Lab으로 제공하였고 도전할 수 있는 주제를 제시하였다.\\\\nㆍ 독자들이 파이썬 기초를 학습한 후에, 다양한 라이브러리를 이용하여 작품을 만들 수 있도록 14장과 15장을 추가하였다. 14장에서는 데이터 과학을 위한 라이브러리들을 소개하였고 15장에서는 넘파이와 영상처리를 위한 라이브러리를 소개하였다.\",\"ebookLowPrice\":null,\"ebookLendLowPrice\":null,\"audioBookLowPrice\":null,\"audioBookLendLowPrice\":null,\"bestsellerRank\":\"\",\"mallTypeCnt\":\"P/25\",\"issueType\":\"0\",\"prodTp\":\"4\",\"mpTp\":0,\"crUrl\":\"https://cr3.shopping.naver.com/book/adcr?x=bhyBufKjcOvyF2PsFoG92P%2F%2F%2Fw%3D%3Ds2qv1JdFT8L%2B7IyCrPttmMbdzbqjVzI8kYMG%2FauQGozG57StUFLKmRh1TRW6ZM83NQalHg2ONTBh5d1a%2FOf9Uwp7FWzSOT3260RpHjzTrkYvW6%2Fmgy3Y4KMhDn%2BJ6yE4yMQoUMOeBpXsr%2FDUcA16wxd9%2BKy%2Fm0d%2BgYWHtEf61Jo4Nj51x%2B5NtY5Hk3HVsotFZMsN%2FJMncoUa3dlEoF%2FGS2c5M5UO9sr3fasAH8MGEdigSi1jPP8Yt02lZX7%2BJ%2FItcX3h64qwrGLq84J1p5pEmIIWsOdrz2GsDwyuzTkbiJMs%2Bd0TcbJiTH3Lys8V5OoWgcfY62%2F%2BxY4w5xbi4%2BHEPriFzevyVajC7NvPtfqyjQhxy7S4vYF%2BMH%2B2JBsOSVPKI8%2FltUem26kZ1An0Fy7keyUeq7xa2bs6%2FahMzsv2lyyJ3l8SKB7zY2A5gjuGRo4s7zfNVo1KcSVSazeZg7M%2BAacK8r92IInJMeB1NzCFx14G88Bqh%2FT586CduuMRKWc%2BxiHyszAgTWc50uFGOzfwkGCdd%2FzIZXY6kEmoWKQgwPKVwe%2F9t21Qt2SWeg3efUJ%2B1ntOsQ8pxO3kMkypOnRPovxW5qg6%2FLH6RljWXJkXn3ovUkiyUGZ3FpPHvE7X48%2Bhb\\\\u0026nvMid=33084056619\\\\u0026catId=50010920\",\"mallCache\":null},{\"id\":\"32485534946\",\"title\":\"파이썬 3\",\"subtitle\":\"프로그래밍을 배우기에 가장 재미있는 언어\",\"thumbnailUrl\":\"https://shopping-phinf.pstatic.net/main_3248553/32485534946.20221019105212.jpg\",\"isAdult\":0,\"author\":\"박상현\",\"illustrator\":\"\",\"publishDay\":\"20160210\",\"publisher\":\"한빛미디어\",\"purchaseCnt\":\"0\",\"reviewCount\":0,\"reviewScore\":0,\"keepCount\":\"1\",\"mallName\":\"\",\"lowPrice\":22500,\"rentalPrice\":null,\"nPayPcType\":\"0\",\"nPayMblType\":\"0\",\"goodsType\":\"3\",\"hasDlvryFeeCont\":0,\"dlvryCd\":0,\"prodBuyPntCont\":\"^^\",\"hasProdBuyPntCont\":0,\"cupnCont\":\"^^^\",\"hasCupnCont\":0,\"evtCont\":\"\",\"hasEvtCont\":0,\"naverPayAccumRto\":0,\"chnlSeq\":\"\",\"mallNo\":\"0\",\"awardInfo\":\"\",\"isAnswerBook\":0,\"description\":\"본서는 프로그래밍 경험이 없는 독자가 파이썬을 통해 프로그래밍을 배워볼 수 있는 입문서로서, 프로그래밍을 배우고 싶지만 두려움이 있는 입문자에게 가장 적합한 난이도로 설명한다.\",\"ebookLowPrice\":15750,\"ebookLendLowPrice\":null,\"audioBookLowPrice\":null,\"audioBookLendLowPrice\":null,\"bestsellerRank\":\"\",\"mallTypeCnt\":\"P/1|E/4\",\"issueType\":\"0\",\"prodTp\":\"4\",\"mpTp\":0,\"crUrl\":\"https://cr3.shopping.naver.com/book/adcr?x=7t2DkmS56R%2F3V5%2F9fI1nhf%2F%2F%2Fw%3D%3DspGXAXp0%2B4thYHkcWAwNRSyYj2R9%2Bix4ThbhOmO28nYW57StUFLKmRh1TRW6ZM83NrYqaOb90J5f6XvRkE%2FcDN57FWzSOT3260RpHjzTrkYvW6%2Fmgy3Y4KMhDn%2BJ6yE4yMQoUMOeBpXsr%2FDUcA16wxd9%2BKy%2Fm0d%2BgYWHtEf61Jo4Nj51x%2B5NtY5Hk3HVsotFZnZxt615D%2BVOy4wQdWE1Q2bPUEh7iggR1r%2BJc1h5bKtwSi1jPP8Yt02lZX7%2BJ%2FItcX3h64qwrGLq84J1p5pEmIIWsOdrz2GsDwyuzTkbiJMs%2Bd0TcbJiTH3Lys8V5OoWgcfY62%2F%2BxY4w5xbi4%2BHEPriFzevyVajC7NvPtfqyjQhwuaHJ1QxVXUQ8fOXuX%2FnoPnej2z53PUS1TSUIYwD3Ij0eq7xa2bs6%2FahMzsv2lyyItmbcNm2B4a6o8kfh3jU6DzfNVo1KcSVSazeZg7M%2BAaUI9gyGcAh9ylaVX9%2FAT62L0jZPHWVIp0KiG6L8PAiVrHkHKUMGB430DMMEIbPn0JiHtq86NV%2F1Sxx1C4A8YPc%2BqTX3wB%2FUBiS8%2FJSbdcZD43BFDJPmINGVd22UpeKU8sq46yyKbB74VQcgoMPv34yw%3D\\\\u0026nvMid=32485534946\\\\u0026catId=50010920\",\"mallCache\":null},{\"id\":\"37180911622\",\"title\":\"파이썬 코딩 도장\",\"subtitle\":\"프로그래밍은 공부가 아닙니다 연습입니다\",\"thumbnailUrl\":\"https://shopping-phinf.pstatic.net/main_3718091/37180911622.20230905101602.jpg\",\"isAdult\":0,\"author\":\"남재윤\",\"illustrator\":\"\",\"publishDay\":\"20230130\",\"publisher\":\"길벗\",\"purchaseCnt\":\"0\",\"reviewCount\":1,\"reviewScore\":5,\"keepCount\":\"8\",\"mallName\":\"\",\"lowPrice\":27000,\"rentalPrice\":null,\"nPayPcType\":\"0\",\"nPayMblType\":\"0\",\"goodsType\":\"3\",\"hasDlvryFeeCont\":0,\"dlvryCd\":0,\"prodBuyPntCont\":\"^^\",\"hasProdBuyPntCont\":0,\"cupnCont\":\"^^^\",\"hasCupnCont\":0,\"evtCont\":\"\",\"hasEvtCont\":0,\"naverPayAccumRto\":0,\"chnlSeq\":\"\",\"mallNo\":\"0\",\"awardInfo\":\"\",\"isAnswerBook\":0,\"description\":\"프로그래밍은 연습으로 배우는 것이다!\\\\n\\\\n반복 학습으로 외우지 말고 체득하라\\\\n\\\\n이론 〉 실습 〉 퀴즈 〉 연습문제 〉 심사문제로 반복해서 학습한다.\\\\n핵심정리와 Q\\\\u0026A로 학습한 내용을 정리한다.\\\\n\\\\n올바른 코딩을 익혀라\\\\n혼자 작성한 코드가 올바른지 알 수 없다.\\\\n심사를 통과하지 못한다면 코드가 잘못된 것이다.\\\\n온라인 심사로 꼼꼼하게 채점해서 실수를 바로 잡는다.\\\\n\\\\n의미있는 성장을 하라\\\\n학습 진척도를 통해 자신의 학습을 점검하고 성장을 체크한다.\\\\n심사문제 평균 통과율 90%! 심사를 통과하고 성장을 확인하라!\\\\n노력하면 반드시 통과하고 성장할 수 있는 심사문제!\\\\n10번, 20번씩 시도한 만큼 확실하게 성장한다.\\\\n\\\\n학습 전용 사이트 제공\\\\n코딩 도장(dojang.io) 사이트에서 동영상 강의, 학습 진척도, 온라인 심사, 독자 Q\\\\u0026A를 제공한다.\\\\n초판 출간 이후 누적 페이지뷰 5,500만, 방문자수 1,800만을 달성!\\\\n\\\\n예제 소스: https://github.com/gilbutitbook/006936\\\\n코딩 도장: https://dojang.io\",\"ebookLowPrice\":21600,\"ebookLendLowPrice\":null,\"audioBookLowPrice\":null,\"audioBookLendLowPrice\":null,\"bestsellerRank\":\"\",\"mallTypeCnt\":\"P/171|E/5\",\"issueType\":\"0\",\"prodTp\":\"4\",\"mpTp\":0,\"crUrl\":\"https://cr3.shopping.naver.com/book/adcr?x=hjDoJPtfsEjT7M4KTumPXv%2F%2F%2Fw%3D%3Dsa35oomHo4zdJlmsU%2Bkdpijr2km4UJYtjmiWTC3xHMYGJnnL5Sdl1Om0OnvyPouDNGnQZXW484KqJMI4u41sk%2F8ez10KvC75IXKXEmsZjpY3VMc6ISzfSnRmT9F0G4N3nY8EigvBQinIZsg%2B2TARrJsv%2BjB2erv%2BZ%2Brrs5VHOiTTt4DqiWzfh638rk6r8T8q2dhFHgyZPvQoOZRvb6%2BrE9v7IntYW81Xs6qvX%2Bsnxc5xra%2BpI6UJu%2BTwtNWUwqdlIxG2P0Q%2Fj4lhGbx8gGDwffhzzON9aTM%2Fdo2I2z9yt2AmFo49JCi6J6VM8a%2Bwjzt8%2BFqPkbhZKyIpiX5j%2F%2BxkCe1WgmKC6jv4on9gzTYjdIY2VUH2fkkLNLM8QMpSgeR8ySWkruqzLNR%2BNlNcFNXSh%2Br2rjFsnXw88P3iZF1ToG3QZn7nYYbQ9sYXpMeHb8LAbQRNPDTvcTqfT%2BBa3TV9HfaBOiShjHGCvwgNAT3uZmH7ydfjFE3Re2xREdZnz3oYs4ludPCJrqbU6WJnFiKWx9hHwWq1koTML0T3iYysYVLpcWWuubL7k2mLnNqlR6qD4SKqKknZx8QOQLdJshyvuIi2%2FXi%2BLlZInUJAx4z2ufC%2FNSE3OzZUT76KyqzckASmm\\\\u0026nvMid=37180911622\\\\u0026catId=50010920\",\"mallCache\":null},{\"id\":\"42670654630\",\"title\":\"파이썬과 수치해석\",\"subtitle\":\"\",\"thumbnailUrl\":\"https://shopping-phinf.pstatic.net/main_4267065/42670654630.20230916071145.jpg\",\"isAdult\":0,\"author\":\"권기운\",\"illustrator\":\"\",\"publishDay\":\"20230915\",\"publisher\":\"교우사(교재)\",\"purchaseCnt\":\"0\",\"reviewCount\":0,\"reviewScore\":0,\"keepCount\":\"0\",\"mallName\":\"\",\"lowPrice\":18000,\"rentalPrice\":null,\"nPayPcType\":\"0\",\"nPayMblType\":\"0\",\"goodsType\":\"1\",\"hasDlvryFeeCont\":0,\"dlvryCd\":0,\"prodBuyPntCont\":\"^^\",\"hasProdBuyPntCont\":0,\"cupnCont\":\"^^^\",\"hasCupnCont\":0,\"evtCont\":\"\",\"hasEvtCont\":0,\"naverPayAccumRto\":0,\"chnlSeq\":\"\",\"mallNo\":\"0\",\"awardInfo\":\"\",\"isAnswerBook\":0,\"description\":\"파이썬은 인공지능 및 데이터 분석 분야에서 가장 인기 있는 프로그래밍 언어 중 하나다. 2010년부터 동국대 수학과에서 ‘수치해석 및 실습’ 과목에서 강의했던 강의 노트와 처음엔 Matlab코드로 작성했던 것을 2021년 이후 파이썬으로 옮기면서 만들었던 파이썬 코드를 정리하여 작성한 교재다. 수치해석의 많은 부분을 담지는 않았으며, 고급 파이썬 기술들을 구사하지는 않았지만, 기본에 충실하려 하였고, 이론과 프로그래밍이 유기적으로 연결되는 데 중점을 두었다.\",\"ebookLowPrice\":null,\"ebookLendLowPrice\":null,\"audioBookLowPrice\":null,\"audioBookLendLowPrice\":null,\"bestsellerRank\":\"\",\"mallTypeCnt\":\"P/11\",\"issueType\":\"1\",\"prodTp\":\"4\",\"mpTp\":0,\"crUrl\":\"https://cr3.shopping.naver.com/book/adcr?x=lKAHNvKHJRNFgKXf9PGScf%2F%2F%2Fw%3D%3DsxD51lUh7xFJjhHrASxjacELMOVFPn%2FZGRWcSQBqMRoroLdJsmLe0ih5KVXMQNR0twdi5lhBRb%2BwcyxOr5i07q9xIjgbflltgvEQbLoNWERSccjp4dwMX%2Fb%2BwjPoiKkopDGFJhaa7gItRzyDgzBdRcVVd6Z%2BmZ5fvTALbBBPmfKIKVnJqocqfFwLra6hFr54B0gDpMkhIsBHy18poLD%2BvZvj6xDMeJaPTHtDIoNWns%2BM%2BoN22s6dKwm7Qn7boTIbfr9lKBJ72xSdUlAg54IqouvziKuqi6lvlwe2gIVAf2UAfPZcFNtCPSmp7XCTzD5M1nTA3JmbDOshDuZxVHcaj%2FBTTVoyc1TJkglBxgQt00u0%2Fsmz9HJSW49ozCE6tOuSkvd1KjBnNlG933oUkWOZUeI%2BTI5LtliRqfOF7YCo%2BEYmQDZJTWy5AgpCn8Sh2zDIrf2AuPqje%2Bd5jNfTrpcYfVMpdAxzrq4muNiYKIBUj1wZ5WRKu85EcFrgt9XSuQiJzjnsO06nuChBcNzrEZiJQqAa%2BrFNGF4k99fWX4XedwGZwe%2F9t21Qt2SWeg3efUJ%2B1xRueEVuMCqXaUdFSWXvIxRW5qg6%2FLH6RljWXJkXn3ovUkiyUGZ3FpPHvE7X48%2Bhb\\\\u0026nvMid=42670654630\\\\u0026catId=50010920\",\"mallCache\":null},{\"id\":\"35101517622\",\"title\":\"파이썬 네트워크 프로그래밍\",\"subtitle\":\"사물인터넷을 위한\",\"thumbnailUrl\":\"https://shopping-phinf.pstatic.net/main_3510151/35101517622.20230919072415.jpg\",\"isAdult\":0,\"author\":\"서열규^전희성\",\"illustrator\":\"\",\"publishDay\":\"20220930\",\"publisher\":\"복두출판사\",\"purchaseCnt\":\"0\",\"reviewCount\":0,\"reviewScore\":0,\"keepCount\":\"0\",\"mallName\":\"\",\"lowPrice\":27000,\"rentalPrice\":null,\"nPayPcType\":\"0\",\"nPayMblType\":\"0\",\"goodsType\":\"1\",\"hasDlvryFeeCont\":0,\"dlvryCd\":0,\"prodBuyPntCont\":\"^^\",\"hasProdBuyPntCont\":0,\"cupnCont\":\"^^^\",\"hasCupnCont\":0,\"evtCont\":\"\",\"hasEvtCont\":0,\"naverPayAccumRto\":0,\"chnlSeq\":\"\",\"mallNo\":\"0\",\"awardInfo\":\"\",\"isAnswerBook\":0,\"description\":\"파이썬을 사용하여 사물인터넷을 구현하기 위한 인터넷 기반의 네트워크 프로그래밍 방법을 소개하였다. 파이썬은 사용하기 쉽고, 다양한 플랫폼에서 사용할 수 있으며 모듈이 매우 풍부하여 대학을 비롯한 교육기관, 연구기관 및 산업계에서 많이 사용되고 있다. 특히 파이썬과 함께 제공되는 모듈을 사용하면 다른 언어보다 훨씬 간단하고 효율적인 네트워크 프로그래밍이 가능하다.\",\"ebookLowPrice\":null,\"ebookLendLowPrice\":null,\"audioBookLowPrice\":null,\"audioBookLendLowPrice\":null,\"bestsellerRank\":\"\",\"mallTypeCnt\":\"P/21\",\"issueType\":\"0\",\"prodTp\":\"4\",\"mpTp\":0,\"crUrl\":\"https://cr3.shopping.naver.com/book/adcr?x=p6ltYqUYTVNejzmny0TmD%2F%2F%2F%2Fw%3D%3Dsr%2BzkraEjqA5w%2BgvRA%2BDYgszgfBPNwTLLS92p90QolLaJnnL5Sdl1Om0OnvyPouDNVblEsfMDKknXzP30ZimVjcez10KvC75IXKXEmsZjpY3VMc6ISzfSnRmT9F0G4N3nY8EigvBQinIZsg%2B2TARrJsv%2BjB2erv%2BZ%2Brrs5VHOiTTt4DqiWzfh638rk6r8T8q2EF3tgDwuw5b7TDYGCBcImf7IntYW81Xs6qvX%2Bsnxc5xra%2BpI6UJu%2BTwtNWUwqdlIxG2P0Q%2Fj4lhGbx8gGDwffhzzON9aTM%2Fdo2I2z9yt2AmFo49JCi6J6VM8a%2Bwjzt8%2BFqPkbhZKyIpiX5j%2F%2BxkCe1WgmKC6jv4on9gzTYjdIY0b%2BccHPsvmoO0G2smt8iBKSWkruqzLNR%2BNlNcFNXSh%2Br2rjFsnXw88P3iZF1ToG3ThItYBer00LnxlqPgqEmJMQRNPDTvcTqfT%2BBa3TV9HfUS8Q6yy%2BFh3z%2FWIfU70mjJ55hBA4eLIcwJlpjZ5RX4VSewxCHlIzkXrVdaXSvEIbnJcnF6MM1fxltUxfcWe4YQlf6s2lsJOKVXULd92cLgYcHv%2FbdtULdklnoN3n1CftUtihHUOqFUPJJHjOMOfijkVuaoOvyx%2BkZY1lyZF596L1JIslBmdxaTx7xO1%2BPPoWw%3D%3D\\\\u0026nvMid=35101517622\\\\u0026catId=50010920\",\"mallCache\":null},{\"id\":\"32456895000\",\"title\":\"Do it! 점프 투 파이썬\",\"subtitle\":\"이미 200만명이 이 책으로 프로그래밍을 시작했다!\",\"thumbnailUrl\":\"https://shopping-phinf.pstatic.net/main_3245689/32456895000.20230718121538.jpg\",\"isAdult\":0,\"author\":\"박응용\",\"illustrator\":\"\",\"publishDay\":\"20190620\",\"publisher\":\"이지스퍼블리싱\",\"purchaseCnt\":\"0\",\"reviewCount\":19,\"reviewScore\":4.8,\"keepCount\":\"71\",\"mallName\":\"\",\"lowPrice\":16920,\"rentalPrice\":null,\"nPayPcType\":\"0\",\"nPayMblType\":\"0\",\"goodsType\":\"3\",\"hasDlvryFeeCont\":0,\"dlvryCd\":0,\"prodBuyPntCont\":\"^^\",\"hasProdBuyPntCont\":0,\"cupnCont\":\"^^^\",\"hasCupnCont\":0,\"evtCont\":\"\",\"hasEvtCont\":0,\"naverPayAccumRto\":0,\"chnlSeq\":\"\",\"mallNo\":\"0\",\"awardInfo\":\"\",\"isAnswerBook\":0,\"description\":\"파이썬 4년 연속 베스트셀러 1위!\\\\n《Do it! 점프 투 파이썬》 전면 개정판 출시!\\\\n\\\\n문과생도 중고등학생도 직장인도 프로그래밍에 눈뜨게 만든 바로 그 책이 전면 개정판으로 새로 태어났다! 2016년 《Do it! 점프 투 파이썬》으로 출간되었던 이 책은 약 4년 동안의 피드백을 반영하여 초보자가 더 빠르게 입문하고, 더 깊이 있게 공부할 수 있도록 개정되었다. 특히 ‘나 혼자 코딩’과 ‘코딩 면허 시험 20제’ 등 독자의 학습 흐름에 맞게 문제를 보강한 점이 눈에 띈다. 실습량도 두 배로 늘었다.\\\\n\\\\n4년 동안 압도적 1위! 위키독스 누적 방문 200만! 수많은 대학 및 학원의 교재 채택 등! 검증은 이미 끝났다. 코딩을 처음 배우는 중고등학생부터 나만의 경쟁력이 필요한 문과생, 데이터 분석과 인공지능/머신러닝으로 커리어를 뻗어 나가고 싶은 직장인까지! 프로그래밍의 세계에 풍덩 빠져 보자.\",\"ebookLowPrice\":11700,\"ebookLendLowPrice\":null,\"audioBookLowPrice\":null,\"audioBookLendLowPrice\":null,\"bestsellerRank\":\"\",\"mallTypeCnt\":\"P/20|E/3\",\"issueType\":\"0\",\"prodTp\":\"4\",\"mpTp\":0,\"crUrl\":\"https://cr3.shopping.naver.com/book/adcr?x=D0K9tfb0Qi8nVhyDaXvUQv%2F%2F%2Fw%3D%3Dsc8PZXltAsXlxpxlLDyHwau1R5f8O9V9bVvpvh2ClAVy57StUFLKmRh1TRW6ZM83NOgd%2F%2Ffcb6Ysx%2FHIJvyezJZ7FWzSOT3260RpHjzTrkYvW6%2Fmgy3Y4KMhDn%2BJ6yE4yMQoUMOeBpXsr%2FDUcA16wxd9%2BKy%2Fm0d%2BgYWHtEf61Jo4Nj51x%2B5NtY5Hk3HVsotFZV4LA14ogZEicTPytT%2BXj04Sn%2B1bcf392HRnw%2FP5byc0Si1jPP8Yt02lZX7%2BJ%2FItcX3h64qwrGLq84J1p5pEmIIWsOdrz2GsDwyuzTkbiJMs%2Bd0TcbJiTH3Lys8V5OoWgcfY62%2F%2BxY4w5xbi4%2BHEPriFzevyVajC7NvPtfqyjQhyElQQrSVk8%2BMyj%2Fazx32ud8%2FltUem26kZ1An0Fy7keyUeq7xa2bs6%2FahMzsv2lyyK2LmYXD7CmGFg2BD5z4Ro7zfNVo1KcSVSazeZg7M%2BAaVq4ieBZFlKty9pEQZ2mYpBEkjl0kXQRv0ricU1YZ%2B0F9I2Tx1lSKdCohui%2FDwIla59Y55V5T7EfTdjXh4ovzNAh7avOjVf9UscdQuAPGD3PesVK8tl38TB99neP4w5cidwRQyT5iDRlXdtlKXilPLKuOssimwe%2BFUHIKDD79%2BMs\\\\u0026nvMid=32456895000\\\\u0026catId=50010920\",\"mallCache\":null},{\"id\":\"41434455620\",\"title\":\"파이썬 크래시 코스\",\"subtitle\":\"누적 판매 150만 부 기록! 파이썬 분야 글로벌 1위 베스트셀러 I  연습문제 + 해답, 파이썬 치트 시트 제공\",\"thumbnailUrl\":\"https://shopping-phinf.pstatic.net/main_4143445/41434455620.20230919135312.jpg\",\"isAdult\":0,\"author\":\"Matthes, Eric\",\"illustrator\":\"\",\"publishDay\":\"20230803\",\"publisher\":\"한빛미디어\",\"purchaseCnt\":\"0\",\"reviewCount\":1,\"reviewScore\":5,\"keepCount\":\"0\",\"mallName\":\"\",\"lowPrice\":35100,\"rentalPrice\":null,\"nPayPcType\":\"0\",\"nPayMblType\":\"0\",\"goodsType\":\"3\",\"hasDlvryFeeCont\":0,\"dlvryCd\":0,\"prodBuyPntCont\":\"^^\",\"hasProdBuyPntCont\":0,\"cupnCont\":\"^^^\",\"hasCupnCont\":0,\"evtCont\":\"\",\"hasEvtCont\":0,\"naverPayAccumRto\":0,\"chnlSeq\":\"\",\"mallNo\":\"0\",\"awardInfo\":\"\",\"isAnswerBook\":0,\"description\":\"전 세계 150만 부 이상 판매, 파이썬 분야 글로벌 1위 베스트셀러를 \\\\n기본과 실습, 1+1 구성으로 만나보세요!\\\\n* 연습문제 + 해답, 파이썬 치트 시트 제공\\\\n* 이 도서는 『나의 첫 파이썬(2판)』의 개정판입니다\\\\n\\\\n전 세계에서 가장 많이 판매된 부동의 파이썬 입문 베스트셀러가 더욱 새롭게 구성되어 출간되었습니다. 이번 개정판은 최신 파이썬 업데이트를 포함해 텍스트 편집을 위한 비주얼 스튜디오 코드, 파일 처리를 위한 Pathlib 모듈, 코드 테스트를 위한 pytest, Matplotlib, Plotly, Django의 최신 기능을 담았습니다. 입문자에게 맞춰진 페이스로 파이썬 기본 지식을 배우고, 프로그램을 만들고, 문제를 해결하여 자신만의 애플리케이션을 완성할 수 있습니다. 기본편에서는 변수, 리스트, 클래스, 루프 같은 프로그래밍의 기본 개념을 배우고 각 장마다 연습문제를 풀어 보며 좋은 코드를 짜는 법을 배웁니다. 실습편에서는 ‘외계인 침공’ 게임, 파이썬 라이브러리를 활용한 데이터 시각화, 온라인에 배포할 수 있는 웹 애플리케이션 이렇게 3가지 큰 프로젝트를 만들어 봅니다.\\\\n주요 내용\\\\n\\\\n●\\\\t파이게임, Matplotlib, Plotly, Django 등 강력한 파이썬 라이브러리와 도구 사용법\\\\n●\\\\t키 입력, 마우스 클릭 등 점점 어려워지는 2D 게임 만들기\\\\n●\\\\t다양한 데이터를 이용해 상호작용 가능한 시각화 생성하기\\\\n●\\\\t웹 애플리케이션을 생성하고 커스텀해서 온라인에 배포하기\\\\n●\\\\t프로그래밍 실수와 오류에 현명하게 대처하는 법\\\\n●\\\\t깃을 활용해 효율적으로 프로그램 버전을 관리하는 법\",\"ebookLowPrice\":28080,\"ebookLendLowPrice\":null,\"audioBookLowPrice\":null,\"audioBookLendLowPrice\":null,\"bestsellerRank\":\"\",\"mallTypeCnt\":\"P/98|E/4\",\"issueType\":\"0\",\"prodTp\":\"4\",\"mpTp\":0,\"crUrl\":\"https://cr3.shopping.naver.com/book/adcr?x=NR1oc7XfulZyvKnFhVGe8P%2F%2F%2Fw%3D%3DsSlune%2FgrlQoIXqh1wNaJ8h0Can5Jo2McdvWDM1QsJNCJnnL5Sdl1Om0OnvyPouDNLK%2FKOOnRKphL5L2jEYqEY8ez10KvC75IXKXEmsZjpY3VMc6ISzfSnRmT9F0G4N3nY8EigvBQinIZsg%2B2TARrJsv%2BjB2erv%2BZ%2Brrs5VHOiTTt4DqiWzfh638rk6r8T8q2%2FRXpwCMUacnFzYhk3%2FKzgP7IntYW81Xs6qvX%2Bsnxc5xra%2BpI6UJu%2BTwtNWUwqdlIxG2P0Q%2Fj4lhGbx8gGDwffhzzON9aTM%2Fdo2I2z9yt2AmFo49JCi6J6VM8a%2Bwjzt8%2BFqPkbhZKyIpiX5j%2F%2BxkCe1WgmKC6jv4on9gzTYjdIY2MMMXLsXt1bm7BYNOW5PsDSWkruqzLNR%2BNlNcFNXSh%2Br2rjFsnXw88P3iZF1ToG3QZOYA2ryHtjmGHy20khovmQRNPDTvcTqfT%2BBa3TV9HfWr%2BicC6u1usk3kebl9UkYDhK8pKXjVSVdOio4ML5DwdW5sPl05RdV3mXnY0lp6BVYfT6TZ1Ic5VjjZxITRS2CxMvwhrP2ih5Ptm6QoCL4XFU7M2B%2FobAoKdycDTg3l71sGiN%2Fztd%2BvgQsNxZfO1EAHq4VLOhSi2%2BNb9IbEOodWN\\\\u0026nvMid=41434455620\\\\u0026catId=50010920\",\"mallCache\":null},{\"id\":\"41823633633\",\"title\":\"금융 파이썬 완전 정복\",\"subtitle\":\"\",\"thumbnailUrl\":\"https://shopping-phinf.pstatic.net/main_4182363/41823633633.20230919125427.jpg\",\"isAdult\":0,\"author\":\"제임스 마 와이밍\",\"illustrator\":\"\",\"publishDay\":\"20230831\",\"publisher\":\"에이콘출판\",\"purchaseCnt\":\"0\",\"reviewCount\":0,\"reviewScore\":0,\"keepCount\":\"2\",\"mallName\":\"\",\"lowPrice\":36000,\"rentalPrice\":null,\"nPayPcType\":\"0\",\"nPayMblType\":\"0\",\"goodsType\":\"1\",\"hasDlvryFeeCont\":0,\"dlvryCd\":0,\"prodBuyPntCont\":\"^^\",\"hasProdBuyPntCont\":0,\"cupnCont\":\"^^^\",\"hasCupnCont\":0,\"evtCont\":\"\",\"hasEvtCont\":0,\"naverPayAccumRto\":0,\"chnlSeq\":\"\",\"mallNo\":\"0\",\"awardInfo\":\"\",\"isAnswerBook\":0,\"description\":\"파이썬을 활용해 금융의 여러 개념을 친절하게 설명하는 책이다. 파이썬을 활용한 금융 정보 분석이 무엇인지 설명하는 1장을 시작으로, 2장에서는 금융에서의 선형 성질이 가지는 의미를 파악하며 3장에서 비선형으로 확장한다.\\\\n4장은 옵션 가격을 책정하기 위한 여러 수치적 기법을 심도 있게 살펴보며 5장은 이자율에 관한 여러가지 모델링 기법을 설명한다. 6장은 금융의 가장 핵심이기도 한 시계열 데이터를 다루는 열 기법을 소개하며, 7장에서는 VIX(Volatility Index)를 가지고 상호작용적 금융 분석에 관한 여러 개념을 살펴본다. EURO STOXX 50 index, VSTOXX, VIX 등의 여러 지표에 대해 소개하며 S\\\\u0026P 500 지수와 VIX를 통해 다양한 금융 분석을 수행한다. \\\\n8장에서는 알고리듬 트레이딩을 위한 기초적 알고리듬을 공개 API를 사용해 직접 구축해 보며 평균-회귀, 추세-추종 등의 여러 알고리듬 트레이딩 기법을 소개한다. 9장은 금융의 주요 요소인 백테스팅을 소개하고 10장, 11장은 인공지능과 금융의 여러 측면을 살펴본다.\",\"ebookLowPrice\":null,\"ebookLendLowPrice\":null,\"audioBookLowPrice\":null,\"audioBookLendLowPrice\":null,\"bestsellerRank\":\"\",\"mallTypeCnt\":\"P/42\",\"issueType\":\"1\",\"prodTp\":\"4\",\"mpTp\":0,\"crUrl\":\"https://cr3.shopping.naver.com/book/adcr?x=UwIyy0CxE94F4qn%2BJix9rf%2F%2F%2Fw%3D%3DseuJoE9MTZ8NtUsPLqOCwHo2yojhFZMs71Hkg0thwS4O57StUFLKmRh1TRW6ZM83N0qu67RiFiVdSKMPSZrO%2BM57FWzSOT3260RpHjzTrkYvW6%2Fmgy3Y4KMhDn%2BJ6yE4yMQoUMOeBpXsr%2FDUcA16wxd9%2BKy%2Fm0d%2BgYWHtEf61Jo4Nj51x%2B5NtY5Hk3HVsotFZ8g0VvnKXZZ0uUpSftoNI6l7lf97rnwmjkFEj%2FbIsWo8Si1jPP8Yt02lZX7%2BJ%2FItcX3h64qwrGLq84J1p5pEmIIWsOdrz2GsDwyuzTkbiJMs%2Bd0TcbJiTH3Lys8V5OoWgcfY62%2F%2BxY4w5xbi4%2BHEPriFzevyVajC7NvPtfqyjQhzll7oza9H5BSW94wB5Vqrqnej2z53PUS1TSUIYwD3Ij0eq7xa2bs6%2FahMzsv2lyyL8Cv43SQrZ4LmCrmBb1gL2zfNVo1KcSVSazeZg7M%2BAaQCMd7SHaJWF7HtRqWh2cS4fuujNk3Egvelo6JY%2Btmmldp9sSWzyQ0u3D14Lop0GNg3f2oC7yh7TCbr5Pi0%2F4OEudrATo8ESSBvbB%2BoYa1DS%2Fqy4FAfVXrxVJ0%2FiEW4NWPpPWxczpZyC9erl9z9Yuv%2BCdKNLrAP9Z4gU2uHjpOB7\\\\u0026nvMid=41823633633\\\\u0026catId=50010920\",\"mallCache\":null},{\"id\":\"32487126181\",\"title\":\"안녕, 파이썬\",\"subtitle\":\"\",\"thumbnailUrl\":\"https://shopping-phinf.pstatic.net/main_3248712/32487126181.20230313182830.jpg\",\"isAdult\":0,\"author\":\"김학인\",\"illustrator\":\"\",\"publishDay\":\"20220314\",\"publisher\":\"북랩\",\"purchaseCnt\":\"0\",\"reviewCount\":0,\"reviewScore\":0,\"keepCount\":\"1\",\"mallName\":\"\",\"lowPrice\":16110,\"rentalPrice\":null,\"nPayPcType\":\"0\",\"nPayMblType\":\"0\",\"goodsType\":\"3\",\"hasDlvryFeeCont\":0,\"dlvryCd\":0,\"prodBuyPntCont\":\"^^\",\"hasProdBuyPntCont\":0,\"cupnCont\":\"^^^\",\"hasCupnCont\":0,\"evtCont\":\"\",\"hasEvtCont\":0,\"naverPayAccumRto\":0,\"chnlSeq\":\"\",\"mallNo\":\"0\",\"awardInfo\":\"\",\"isAnswerBook\":0,\"description\":\"직관적이고 간결한 프로그래밍 언어, 파이썬\\\\n코딩 입문자라면 망설이지 말고 파이썬으로 시작하자\\\\n\\\\n비전공자와 초보자를 프로그래밍의 세계로 안내해줄\\\\n친절하고 재밌는 파이썬 입문서\\\\n\\\\n4차 산업혁명 시대에는 ‘컴퓨팅 사고’가 필수적이다. 이를 바탕으로 한 창의적인 문제해결력이야말로 이 시대의 가장 중요한 경쟁력이다. 컴퓨팅 사고와 창의적 문제해결력 계발의 중심에는 코딩 교육이 있다. 우리가 늘 손에 들고 있는 스마트폰도, 이미 우리 삶의 일부분이 된 인공지능(AI)도 그 근간에는 코딩이 있다.\\\\n이렇게 코딩은 이 시대의 가장 ‘핫’한 것 중 하나가 되었다. 하지만 초보자와 비전공자에게 코딩은 넘지 못할 산과도 같다. 지레 겁을 먹고 포기한다거나, 프로그래밍 언어의 문법이 당최 무슨 말인지 모르겠다는 생각에 금세 흥미를 잃고 손을 놓아버리기도 한다.\\\\n파이썬은 특유의 직관적이고 간결한 문법, 빠른 프로그래밍 속도와 폭넓은 확장성으로 초보자들과 비전공자들에게 각광을 받고 있는 프로그래밍 언어다. 그리고 그런 초보자들과 비전공자들을 위해 이 책이 탄생했다. 오랫동안 프로그래밍을 가르치면서 그들의 괴로움을 누구보다 잘 알고 있는 저자가 교육 현장에서 갈고닦은 노하우를 이 책 한 권에 전부 녹여냈다. 옆집 언니가 알려주는 듯 따뜻한 파이썬, 같이 시작해볼까?\",\"ebookLowPrice\":11340,\"ebookLendLowPrice\":null,\"audioBookLowPrice\":null,\"audioBookLendLowPrice\":null,\"bestsellerRank\":\"\",\"mallTypeCnt\":\"P/56|E/4\",\"issueType\":\"0\",\"prodTp\":\"4\",\"mpTp\":0,\"crUrl\":\"https://cr3.shopping.naver.com/book/adcr?x=mFCneDgYi9bxeNuAOYhU9%2F%2F%2F%2Fw%3D%3DsN56%2B9r2TY0Le0BhQsXoaWB2vf7l9ptSN1ohkAdTZS%2BeJnnL5Sdl1Om0OnvyPouDNPOgeBFYHU0GNw5yM1Effosez10KvC75IXKXEmsZjpY3VMc6ISzfSnRmT9F0G4N3nY8EigvBQinIZsg%2B2TARrJsv%2BjB2erv%2BZ%2Brrs5VHOiTTt4DqiWzfh638rk6r8T8q2Sug9TA5GaFsjAG5BaSOK%2Bv7IntYW81Xs6qvX%2Bsnxc5xra%2BpI6UJu%2BTwtNWUwqdlIxG2P0Q%2Fj4lhGbx8gGDwffhzzON9aTM%2Fdo2I2z9yt2AmFo49JCi6J6VM8a%2Bwjzt8%2BFqPkbhZKyIpiX5j%2F%2BxkCe1WgmKC6jv4on9gzTYjdIY20kwNBEbH3%2FxOQ0zJP%2B4JwSWkruqzLNR%2BNlNcFNXSh%2Br2rjFsnXw88P3iZF1ToG3SflOlRupWixCXLgicLI5JaSGvyA3Mo4deUUDeSDOc2k5C%2FEY53DqrvK0j%2FmEwrXBl2n2xJbPJDS7cPXguinQY2AHYMGX6GjNNeqF4gc%2Bi1j%2FBHiW%2B1hPHvOHus5%2Bm2RatCHZq2y%2BiH9DYedBHFh%2BKgUPHxrWqUcyXAxHRsgaCBzoJ0o0usA%2F1niBTa4eOk4Hs%3D\\\\u0026nvMid=32487126181\\\\u0026catId=50010920\",\"mallCache\":null}]}}},\"dataUpdateCount\":1,\"dataUpdatedAt\":1695104598606,\"error\":null,\"errorUpdateCount\":0,\"errorUpdatedAt\":0,\"fetchFailureCount\":0,\"fetchFailureReason\":null,\"fetchMeta\":null,\"isInvalidated\":false,\"status\":\"success\",\"fetchStatus\":\"idle\"},\"queryKey\":[\"SearchAll\",{\"params\":{\"query\":\"파이썬\",\"sort\":\"REL\",\"pageIndex\":1,\"pageSize\":40,\"bookTabType\":\"ALL\",\"isAdultQuery\":false,\"nluResult\":{\"q\":\"파이썬\",\"type\":null,\"category\":null,\"categoryIds\":null,\"prize\":null,\"shop\":null,\"author\":null,\"authorIds\":null,\"title\":\"파이썬\",\"publisher\":null,\"theme\":null,\"mg\":null},\"pageType\":\"BOOK_SEARCH\"},\"exposeReportParam\":{\"exposeAreaName\":\"RESULT\",\"query\":\"파이썬\"}}],\"queryHash\":\"[\\\\\"SearchAll\\\\\",{\\\\\"exposeReportParam\\\\\":{\\\\\"exposeAreaName\\\\\":\\\\\"RESULT\\\\\",\\\\\"query\\\\\":\\\\\"파이썬\\\\\"},\\\\\"params\\\\\":{\\\\\"bookTabType\\\\\":\\\\\"ALL\\\\\",\\\\\"isAdultQuery\\\\\":false,\\\\\"nluResult\\\\\":{\\\\\"author\\\\\":null,\\\\\"authorIds\\\\\":null,\\\\\"category\\\\\":null,\\\\\"categoryIds\\\\\":null,\\\\\"mg\\\\\":null,\\\\\"prize\\\\\":null,\\\\\"publisher\\\\\":null,\\\\\"q\\\\\":\\\\\"파이썬\\\\\",\\\\\"shop\\\\\":null,\\\\\"theme\\\\\":null,\\\\\"title\\\\\":\\\\\"파이썬\\\\\",\\\\\"type\\\\\":null},\\\\\"pageIndex\\\\\":1,\\\\\"pageSize\\\\\":40,\\\\\"pageType\\\\\":\\\\\"BOOK_SEARCH\\\\\",\\\\\"query\\\\\":\\\\\"파이썬\\\\\",\\\\\"sort\\\\\":\\\\\"REL\\\\\"}}]\"},{\"state\":{\"data\":{\"SearchSummary\":{\"bookSasSummaryResult\":{\"summary\":{\"category2IdList\":[{\"value\":50005543,\"count\":83,\"categoryName\":\"소설\"},{\"value\":50005544,\"count\":18,\"categoryName\":\"시/에세이\"},{\"value\":50005545,\"count\":715,\"categoryName\":\"인문\"},{\"value\":50005546,\"count\":20,\"categoryName\":\"가정/요리\"},{\"value\":50005549,\"count\":190,\"categoryName\":\"경제/경영\"},{\"value\":50005550,\"count\":118,\"categoryName\":\"자기계발\"},{\"value\":50005551,\"count\":118,\"categoryName\":\"사회/정치\"},{\"value\":50005552,\"count\":2,\"categoryName\":\"역사\"},{\"value\":50005554,\"count\":33,\"categoryName\":\"예술/대중문화\"},{\"value\":50005556,\"count\":8,\"categoryName\":\"국어/외국어\"}]}}}},\"dataUpdateCount\":1,\"dataUpdatedAt\":1695104598645,\"error\":null,\"errorUpdateCount\":0,\"errorUpdatedAt\":0,\"fetchFailureCount\":0,\"fetchFailureReason\":null,\"fetchMeta\":null,\"isInvalidated\":false,\"status\":\"success\",\"fetchStatus\":\"idle\"},\"queryKey\":[\"SearchSummary\",{\"params\":{\"query\":\"파이썬\"}}],\"queryHash\":\"[\\\\\"SearchSummary\\\\\",{\\\\\"params\\\\\":{\\\\\"query\\\\\":\\\\\"파이썬\\\\\"}}]\"}]},\"searchParam\":{\"query\":\"파이썬\",\"sort\":\"REL\",\"pageIndex\":1,\"pageSize\":40,\"bookTabType\":\"ALL\",\"isAdultQuery\":false},\"exposeAreas\":{\"result\":\"RESULT\",\"bestSellers\":\"BEST_SELLER_BY_FIELD\",\"newBooks\":\"NEW_BOOK_BY_FIELD\"},\"queryValidation\":{\"validQuery\":\"파이썬\",\"uncorrectedQuery\":null,\"queryValidateResult\":{\"status\":\"NORMAL\",\"isAdultQuery\":false},\"searchBanInfo\":null,\"redirectUrl\":null},\"nluApiResult\":{\"q\":\"파이썬\",\"type\":null,\"category\":null,\"categoryIds\":null,\"prize\":null,\"shop\":null,\"author\":null,\"authorIds\":null,\"title\":\"파이썬\",\"publisher\":null,\"theme\":null,\"mg\":null},\"tabInfo\":{\"defaultTab\":\"ALL\",\"exposeTabList\":[\"ALL\"]},\"pageType\":\"BOOK_SEARCH\",\"pageNclick\":{\"SEARCH_TAB\":{\"ALL\":\"stab.all\",\"NEW_BOOK\":\"stab.new\",\"BEST_SELLER\":\"stab.best\"},\"SEARCH_TOOL\":{\"FIELD_OPEN\":\"stab1f*c.open\",\"FIELD_CLOSE\":\"stab1f*c.close\",\"FIELD_FILTER_SELECT\":\"stab1f*c.list\",\"FIELD_FILTER_SELECT_CANCEL\":\"stab1f*c.del\",\"BOOK_TYPE_OPEN\":\"stab1f*t.open\",\"BOOK_TYPE_CLOSE\":\"stab1f*t.close\",\"BOOK_TYPE_FILTER_SELECT\":\"stab1f*t.list\",\"BOOK_TYPE_FILTER_SELECT_CANCEL\":\"stab1f*t.del\",\"DELIVERY_OPEN\":\"stab1f*d.open\",\"DELIVERY_CLOSE\":\"stab1f*d.close\",\"DELIVERY_FILTER_SELECT\":\"stab1f*d.list\",\"DELIVERY_FILTER_SELECT_CANCEL\":\"stab1f*d.del\",\"FEEDBACK_FILTER_DELETE\":\"stab1f*f.del\",\"FEEDBACK_FILTER_RESET\":\"stab1f*f.reset\",\"FIELD_PREV_BUTTON\":\"stab1f*c.pre\",\"FIELD_NEXT_BUTTON\":\"stab1f*c.next\",\"FIELD_FLICKING\":\"stab1f*c.flick\"},\"NAVER_PAY_FILTER\":{\"FILTER_ON\":\"stab1f*p.npayon\",\"FILTER_OFF\":\"stab1f*p.npaypoff\"},\"NAVER_PAY_PLUS_FILTER\":{\"FILTER_ON\":\"stab1f*p.paypluson\",\"FILTER_OFF\":\"stab1f*p.payplusoff\"},\"NAVER_PAY_PLUS_INFO\":{\"OPEN\":\"stab1f*p.payplusinfo\",\"CLOSE\":\"stab1f*p.payplusclose\",\"MORE\":\"stab1f*p.payplusgo\"},\"SORTING\":{\"ALL\":{\"OPEN\":\"stab1f*o.open\",\"CLOSE\":\"stab1f*o.close\",\"RANKING_SORT\":\"stab1f*o.rank\",\"PUBLISH_SORT\":\"stab1f*o.pub\",\"REVIEW_SORT\":\"stab1f*o.review\",\"RANKING_SORT_INFO_LAYER_OPEN\":\"stab1f*o.rankinfo\",\"RANKING_SORT_INFO_LAYER_CLOSE\":\"stab1f*o.rankclose\"},\"NEW_BOOK\":{\"OPEN\":\"stab2o.open\",\"CLOSE\":\"stab2o.close\",\"RANKING_SORT\":\"stab2o.rank\",\"PUBLISH_SORT\":\"stab2o.pub\",\"REVIEW_SORT\":\"stab2o.review\",\"RANKING_SORT_INFO_LAYER_OPEN\":\"stab2o.rankinfo\",\"RANKING_SORT_INFO_LAYER_CLOSE\":\"stab2o.rankclose\"}},\"ANSWER_TYPE_CATALOG\":{\"BOOK_INFO\":\"slistl*a.info\",\"BOOK_INFO_PAPER_BOOK\":\"slistl*a.pricep\",\"BOOK_INFO_E_BOOK\":\"slistl*a.pricee\",\"BOOK_INFO_AUDIO_BOOK\":\"slistl*a.pricea\",\"BOOK_ZZIM\":\"slistl*a.fav\",\"BOOK_REPORT\":\"slistl*a.report\",\"BOOK_INTRO\":\"slistl*a.int\"},\"LIST_TYPE_CATALOG\":{\"ALL\":{\"BOOK_INFO\":\"stab1l*c.info\",\"BOOK_INFO_PAPER_BOOK\":\"stab1l*c.pricep\",\"BOOK_INFO_E_BOOK\":\"stab1l*c.pricee\",\"BOOK_INFO_AUDIO_BOOK\":\"stab1l*c.pricea\",\"BOOK_ZZIM\":\"stab1l*c.fav\",\"BOOK_REPORT\":\"stab1l*c.report\"},\"NEW_BOOK\":{\"BOOK_INFO\":\"stab2l.info\",\"BOOK_INFO_PAPER_BOOK\":\"stab2l.pricep\",\"BOOK_INFO_E_BOOK\":\"stab2l.pricee\",\"BOOK_INFO_AUDIO_BOOK\":\"stab2l.pricea\",\"BOOK_ZZIM\":\"stab2l.fav\",\"BOOK_REPORT\":\"stab2l.report\"},\"BEST_SELLER\":{\"BOOK_INFO\":\"stab3l.info\",\"BOOK_INFO_PAPER_BOOK\":\"stab3l.pricep\",\"BOOK_INFO_E_BOOK\":\"stab3l.pricee\",\"BOOK_INFO_AUDIO_BOOK\":\"stab3l.pricea\",\"BOOK_ZZIM\":\"stab3l.fav\",\"BOOK_REPORT\":\"stab3l.report\"}},\"LIST_TYPE_PRODUCT\":{\"BOOK_INFO_AND_PRICE\":\"stab1l*p.infoprice\",\"BOOK_ZZIM\":\"stab1l*p.fav\",\"BOOK_REPORT\":\"stab1l*p.report\"},\"PAGING\":{\"ALL\":{\"PAGE_NUMBER\":\"stab1p.page\",\"PREV_BUTTON\":\"stab1p.pre\",\"NEXT_BUTTON\":\"stab1p.next\"},\"NEW_BOOK\":{\"PAGE_NUMBER\":\"stab2p.page\",\"PREV_BUTTON\":\"stab2p.pre\",\"NEXT_BUTTON\":\"stab2p.next\"}},\"NEW_BOOK_AND_BEST_SELLER_RANKING_COUNTING_INFO_LAYER\":{\"NEW_BOOK\":{\"OPEN\":\"stab2i.open\",\"CLOSE\":\"stab2i.close\"},\"BEST_SELLER\":{\"OPEN\":\"stab3i2.open\",\"CLOSE\":\"stab3i2.close\"}},\"BEST_SELLER_INFO_LAYER\":{\"OPEN\":\"stab3i1.open\",\"CLOSE\":\"stab3i1.close\"},\"ASIDE_BEST_SELLER\":{\"PRODUCT\":\"s1280b.list\",\"PAGING_BUTTON\":\"s1280b.prenext\",\"INFO_LAYER_OPEN\":\"s1280b.infoopen\",\"INFO_LAYER_CLOSE\":\"s1280b.infoclose\"},\"ASIDE_NEW_BOOK\":{\"PRODUCT\":\"s1280n.list\",\"PAGING_BUTTON\":\"s1280n.prenext\",\"INFO_LAYER_OPEN\":\"s1280n.infoopen\",\"INFO_LAYER_CLOSE\":\"s1280n.infoclose\"},\"AUTHOR_PROFILE\":{\"ONLY_THIS_AUTHOR_FILTER\":\"spro.filter\",\"PREV_BUTTON\":\"spro.pre\",\"NEXT_BUTTON\":\"spro.next\",\"FLICKING\":\"spro.flick\"},\"TYPO_ERROR\":{\"SEARCH_AGAIN\":\"stypo.result\"},\"DIRECT_SHOPPING_SEARCH\":\"sinfo.goshopping\",\"REACTIVE_FORYOU\":{\"TAB_LIST\":\"scm.tlist\",\"PRODUCT\":\"scm*N.item\",\"CATALOG\":\"scm*C.item\",\"SCROLL\":\"scm.scr\",\"PRODUCT_ZZIM\":\"scm*N.fav\",\"CATALOG_ZZIM\":\"scm*C.fav\"}},\"isValidLengthQuery\":true,\"initialState\":\"{\\\\\"gnb\\\\\":{\\\\\"searchBar\\\\\":{\\\\\"isHome\\\\\":false,\\\\\"isOpen\\\\\":false},\\\\\"category\\\\\":{\\\\\"isOpen\\\\\":false},\\\\\"searchLayer\\\\\":{\\\\\"isOpen\\\\\":false},\\\\\"recentHistory\\\\\":{\\\\\"isOpen\\\\\":false,\\\\\"isActive\\\\\":true,\\\\\"isLoading\\\\\":true,\\\\\"isLoaded\\\\\":false,\\\\\"isModified\\\\\":false,\\\\\"keywords\\\\\":[],\\\\\"products\\\\\":[],\\\\\"totalKeywordCount\\\\\":0,\\\\\"totalProductCount\\\\\":0},\\\\\"autoComplete\\\\\":{\\\\\"isOpen\\\\\":false,\\\\\"isActive\\\\\":true,\\\\\"keyword\\\\\":\\\\\"\\\\\",\\\\\"keywordQuery\\\\\":[],\\\\\"selected\\\\\":-1,\\\\\"totalCount\\\\\":0,\\\\\"data\\\\\":{}},\\\\\"autoCompletePC\\\\\":{\\\\\"isOpen\\\\\":false,\\\\\"isActive\\\\\":true,\\\\\"typedKeyword\\\\\":\\\\\"\\\\\",\\\\\"currentKeyword\\\\\":\\\\\"\\\\\",\\\\\"currentIndex\\\\\":-1,\\\\\"lndURL\\\\\":\\\\\"\\\\\",\\\\\"suggestions\\\\\":{\\\\\"totalCount\\\\\":0}},\\\\\"bookSearch\\\\\":{\\\\\"isShow\\\\\":false,\\\\\"isOpen\\\\\":false,\\\\\"isActive\\\\\":true,\\\\\"typedKeyword\\\\\":\\\\\"파이썬\\\\\",\\\\\"currentKeyword\\\\\":\\\\\"\\\\\",\\\\\"currentIndex\\\\\":-1,\\\\\"lndURL\\\\\":\\\\\"\\\\\",\\\\\"suggestions\\\\\":{\\\\\"totalCount\\\\\":0}},\\\\\"brandSearch\\\\\":{\\\\\"isOpen\\\\\":false}}}\"},\"__N_SSP\":true},\"page\":\"/\",\"query\":{\"bookTabType\":\"ALL\",\"frm\":\"NVSHSRC\",\"pageIndex\":\"1\",\"pageSize\":\"40\",\"query\":\"파이썬\",\"sort\":\"REL\"},\"buildId\":\"0SucNVGzqOeLGp7KTzr1w\",\"assetPrefix\":\"https://ssl.pstatic.net/shoppingsearch/static/book-search/book-search-230907-104544\",\"runtimeConfig\":{\"DEPLOY_ENV\":\"production\"},\"isFallback\":false,\"gssp\":true,\"scriptLoader\":[]}</script></body></html>'"
      ]
     },
     "execution_count": 6,
     "metadata": {},
     "output_type": "execute_result"
    }
   ],
   "source": [
    "response"
   ]
  },
  {
   "cell_type": "markdown",
   "id": "c8005e23",
   "metadata": {},
   "source": [
    "# BeautifulSoup 설치 및 사용\n",
    "* 이렇게 문자열로 응답받은 데이터를 html로 변환해주는 라이브러리\n",
    "* css selector를 사용해서 html 안의 데이터를 추출할수 있다.\n",
    "* 설치방법 : 아나콘다에서 (testenv) C:\\Users\\hi>conda install beautifulsoup4 or pip install beautifulsoup4 후에 (testenv) C:\\Users\\hi>conda install lxml"
   ]
  },
  {
   "cell_type": "markdown",
   "id": "279c47e8",
   "metadata": {},
   "source": [
    "lxml: c언어 기반의 빠른 parser(변환) \n",
    "설치방법: (testenv) C:\\Users\\hi>conda install lxml / pip install lxml"
   ]
  },
  {
   "cell_type": "code",
   "execution_count": 7,
   "id": "cefe507d",
   "metadata": {},
   "outputs": [],
   "source": [
    "from bs4 import BeautifulSoup as bs"
   ]
  },
  {
   "cell_type": "code",
   "execution_count": 8,
   "id": "f8950fcb",
   "metadata": {
    "scrolled": false
   },
   "outputs": [],
   "source": [
    "soup = bs(response, 'lxml') # 기본은 html.parser 이지만 빠른 속도를 위해서 lxml사용\n"
   ]
  },
  {
   "cell_type": "code",
   "execution_count": 9,
   "id": "54adf188",
   "metadata": {
    "scrolled": true
   },
   "outputs": [
    {
     "data": {
      "text/plain": [
       "'파이썬 : 네이버 도서'"
      ]
     },
     "execution_count": 9,
     "metadata": {},
     "output_type": "execute_result"
    }
   ],
   "source": [
    "soup.select_one('title').text"
   ]
  },
  {
   "cell_type": "markdown",
   "id": "432415fa",
   "metadata": {},
   "source": [
    "# BeautifulSoup 모듈로 원하는 자료 가져오는 법\n",
    "* find_all(), find(): 태그 기반으로 찾는 필터\n",
    "  * find_all(): 결과값이 list로 저장.\n",
    "  * find(): 단일 값 저장\n",
    "* select(), select_one(): css셀렉터를 기반으로 찾는 필터\n",
    "  * select(): 결과값이 list로 저장\n",
    "  * select_one(): 단일 값으로 저장"
   ]
  },
  {
   "cell_type": "code",
   "execution_count": 10,
   "id": "4b0bfe22",
   "metadata": {},
   "outputs": [
    {
     "data": {
      "text/plain": [
       "<span class=\"bookListItem_text__bglOw\"><span>파이썬과 데이터 과학</span><span> (파이썬으로 시작하는 데이터 과학과 기계학습)</span></span>"
      ]
     },
     "execution_count": 10,
     "metadata": {},
     "output_type": "execute_result"
    }
   ],
   "source": [
    "soup.find(\"span\",\"bookListItem_text__bglOw\") # span class=bookListItem_text__bglOw title의 클래스 이름이야"
   ]
  },
  {
   "cell_type": "code",
   "execution_count": 11,
   "id": "56943edb",
   "metadata": {},
   "outputs": [],
   "source": [
    "title = soup.find(\"span\",\"bookListItem_text__bglOw\").text # 텍스트만 나오도록"
   ]
  },
  {
   "cell_type": "code",
   "execution_count": 12,
   "id": "2c13cbd7",
   "metadata": {},
   "outputs": [],
   "source": [
    "ranking = soup.find(\"div\",\"bookListItem_feature__txTlp\").text # "
   ]
  },
  {
   "cell_type": "code",
   "execution_count": 13,
   "id": "5ba70313",
   "metadata": {
    "scrolled": true
   },
   "outputs": [],
   "source": [
    "author = soup.find(\"span\",\"bookListItem_define_data__kKD8t\").text #저자명"
   ]
  },
  {
   "cell_type": "code",
   "execution_count": 14,
   "id": "1fe71e79",
   "metadata": {},
   "outputs": [
    {
     "data": {
      "text/plain": [
       "'천인국, 박동규'"
      ]
     },
     "execution_count": 14,
     "metadata": {},
     "output_type": "execute_result"
    }
   ],
   "source": [
    "soup.find(\"span\",\"bookListItem_define_data__kKD8t\").text"
   ]
  },
  {
   "cell_type": "code",
   "execution_count": 15,
   "id": "6f4b9bec",
   "metadata": {
    "scrolled": true
   },
   "outputs": [],
   "source": [
    "pubulisher = soup.find(\"div\", \"bookListItem_detail_publish__FgPYQ\").find(\"span\",\"bookListItem_define_data__kKD8t\").text"
   ]
  },
  {
   "cell_type": "code",
   "execution_count": 16,
   "id": "4de53d03",
   "metadata": {},
   "outputs": [],
   "source": [
    "starpoint = soup.find(\"div\",\"bookListItem_grade__tywh2\").text[2:5]"
   ]
  },
  {
   "cell_type": "code",
   "execution_count": 17,
   "id": "b2682f91",
   "metadata": {},
   "outputs": [],
   "source": [
    "price = soup.find(\"span\", \"bookPrice_price__zr5dh\").find(\"em\").text"
   ]
  },
  {
   "cell_type": "code",
   "execution_count": 18,
   "id": "7ea35fba",
   "metadata": {},
   "outputs": [
    {
     "name": "stdout",
     "output_type": "stream",
     "text": [
      "파이썬과 데이터 과학 (파이썬으로 시작하는 데이터 과학과 기계학습) 컴퓨터/IT 148위 천인국, 박동규 생능출판 5.0 24,700\n"
     ]
    }
   ],
   "source": [
    "title = soup.find(\"span\",\"bookListItem_text__bglOw\").text\n",
    "ranking = soup.find(\"div\",\"bookListItem_feature__txTlp\").text\n",
    "author = soup.find(\"span\",\"bookListItem_define_data__kKD8t\").text\n",
    "pubulisher = soup.find(\"div\", \"bookListItem_detail_publish__FgPYQ\").find(\"span\",\"bookListItem_define_data__kKD8t\").text\n",
    "starpoint = soup.find(\"div\",\"bookListItem_grade__tywh2\").text[2:5]\n",
    "price = soup.find(\"span\", \"bookPrice_price__zr5dh\").find(\"em\").text\n",
    "print(title, ranking, author,pubulisher, starpoint, price)"
   ]
  },
  {
   "cell_type": "code",
   "execution_count": 19,
   "id": "f01655d6",
   "metadata": {},
   "outputs": [
    {
     "data": {
      "text/plain": [
       "10"
      ]
     },
     "execution_count": 19,
     "metadata": {},
     "output_type": "execute_result"
    }
   ],
   "source": [
    "len(soup.find(\"ul\",\"list_book\").find_all(\"li\"))"
   ]
  },
  {
   "cell_type": "code",
   "execution_count": 20,
   "id": "801c28ef",
   "metadata": {},
   "outputs": [
    {
     "name": "stdout",
     "output_type": "stream",
     "text": [
      "[<li class=\"bookListItem_item_book__1yCey\"><div class=\"bookListItem_item_inner__Fp7hN\"><a class=\"bookListItem_info_top__VgpiO linkAnchor\" data-i=\"32491517782\" data-nclick=\"N=a:stab1l*c.info,i:32491517782,r:1\" href=\"https://cr3.shopping.naver.com/book/adcr?x=Wi524gJ4y%2FznHKphY46YCf%2F%2F%2Fw%3D%3DsVRKzwdc2vGX4vGedKIBRNzfeSHsjai2sB6rAcn1mhMu57StUFLKmRh1TRW6ZM83NGiActldglwZI9Ht2Wg2yWp7FWzSOT3260RpHjzTrkYvW6%2Fmgy3Y4KMhDn%2BJ6yE4yMQoUMOeBpXsr%2FDUcA16wxd9%2BKy%2Fm0d%2BgYWHtEf61Jo4Nj51x%2B5NtY5Hk3HVsotFZzMYdV9AdtsvIOwWdjTPYIEIee9mp%2BT1ysnnqhZagQKgSi1jPP8Yt02lZX7%2BJ%2FItcX3h64qwrGLq84J1p5pEmIIWsOdrz2GsDwyuzTkbiJMs%2Bd0TcbJiTH3Lys8V5OoWgcfY62%2F%2BxY4w5xbi4%2BHEPriFzevyVajC7NvPtfqyjQhzOQtKydjLYcG6IJgXO93HKaCggqxzSk0EzU99rGAl7HUeq7xa2bs6%2FahMzsv2lyyJ6UKte4oi8O8Vf%2FhRI0jVAzfNVo1KcSVSazeZg7M%2BAaXBvM%2FBtcGatO2NeQHOOK%2FhwxL22mLYbVXisQOlntWYpgaTmsHOi4pxcTo6ldDev%2BK7ODxYWyQD2bnGnjp5do3Tks4qGbaANy%2Bv7%2F5bsJz2WVtSJNIpLDB1DPvwX3jnaMlp%2BiM69rtZoGmolz8iSxPEiQlobJat8LrVlXwYhm8Ln&amp;nvMid=32491517782&amp;catId=50010920\" rel=\"noopener\" target=\"_blank\"><div class=\"bookListItem_thumbnail_area__JSZ_U\"><div class=\"bookListItem_thumbnail___NBwO\"><img alt=\"파이썬과 데이터 과학\" src=\"https://shopping-phinf.pstatic.net/main_3249151/32491517782.20230313182516.jpg?type=w300\"/></div></div><div class=\"bookListItem_text_area__hF892\"><div class=\"bookListItem_title__X7f9_\"><span class=\"bookListItem_text__bglOw\"><span>파이썬과 데이터 과학</span><span> (파이썬으로 시작하는 데이터 과학과 기계학습)</span></span></div><div class=\"bookListItem_feature__txTlp\">컴퓨터/IT 148위</div><div class=\"bookListItem_detail__RBQ6x\"><div class=\"bookListItem_define_item__LdTib\"><span class=\"bookListItem_define_title__ujtNf\">저자</span><span class=\"bookListItem_define_data__kKD8t\">천인국, 박동규</span></div><div class=\"bookListItem_define_item__LdTib bookListItem_publish____VOP\"><div class=\"bookListItem_detail_publish__FgPYQ\"><span class=\"bookListItem_define_title__ujtNf\">출판</span><span class=\"bookListItem_define_data__kKD8t\">생능출판</span></div><div class=\"bookListItem_detail_date___byvG\">2020.12.28.</div></div></div><div class=\"bookListItem_grade__tywh2\"><span class=\"bookListItem_star__A_4PU\"><svg class=\"svg_star\" height=\"14\" width=\"15\" xmlns=\"http://www.w3.org/2000/svg\"><g fill=\"none\" fill-rule=\"evenodd\"><path d=\"m5.874 5.513-.374.005L1 5.58l3.867 2.944-.104.335L3.486 13 7.5 10.383l.298.193L11.514 13l-1.38-4.476.284-.217L14 5.58l-4.873-.067L7.5 1z\" fill=\"#FF5356\"></path><path d=\"M7.5 1 5.873 5.513 5.5 5.52 1 5.58l3.866 2.944-.103.335L3.486 13 7.5 10.383l.298.195L11.514 13l-1.381-4.476.285-.216L14 5.58l-4.873-.067z\" stroke=\"#F43435\" stroke-linecap=\"round\" stroke-linejoin=\"round\" stroke-width=\"0.95\"></path></g></svg>평점</span>5.0<!-- --> <span class=\"bookListItem_reviewer__kwofa\">(<!-- -->10<!-- -->)</span></div></div></a><a class=\"bookListItem_btn_zzim__Jg53Q N=a:stab1l*c.fav,i:32491517782,r:1\" data-i=\"32491517782\" data-nclick=\"N=a:stab1l*c.fav,i:32491517782,r:1\" href=\"#\" role=\"button\"><svg class=\"bookListItem_svg_zzim__z_wK4\" height=\"27\" width=\"27\" xmlns=\"http://www.w3.org/2000/svg\"><g fill=\"none\" fill-rule=\"evenodd\"><circle cx=\"13.5\" cy=\"13.5\" fill=\"#FFF\" r=\"13\" stroke=\"#E2E2E2\"></circle><path d=\"m13.486 20.77-6.157-6.064a3.749 3.749 0 0 1 2.652-6.398c1.004 0 1.947.39 2.656 1.098.15.236.15.425 0 .567-.15.141-.351.142-.602 0-1.098-1.098-3.011-1.097-4.105 0a2.945 2.945 0 0 0-.001 4.164l5.557 5.472 5.748-5.657c.993-1.127.928-2.884-.167-3.979-1.097-1.1-3.01-1.098-4.107 0l-2.588 2.558a1.206 1.206 0 0 0-.004 1.745c.5.483 1.312.483 1.812 0l2.224-2.19a.426.426 0 0 1 .593-.003.401.401 0 0 1 .004.575l-2.227 2.192a2.17 2.17 0 0 1-2.998.002 2.005 2.005 0 0 1 0-2.894l2.584-2.554a3.727 3.727 0 0 1 2.655-1.096c1.004 0 1.947.39 2.654 1.099 1.393 1.392 1.474 3.63.181 5.095\" fill=\"gray\"></path></g></svg><span class=\"bookListItem_text__bglOw\">찜하기</span></a><div class=\"bookListItem_sub_info__AfkOO\"><div class=\"bookListItem_item_sub__bTJ7u\"><a class=\"bookListItem_item_box__6Mjr9 linkAnchor\" data-i=\"32491517782\" data-nclick=\"N=a:stab1l*c.pricep,i:32491517782,r:1\" href=\"https://cr3.shopping.naver.com/book/adcr?x=Wi524gJ4y%2FznHKphY46YCf%2F%2F%2Fw%3D%3DsVRKzwdc2vGX4vGedKIBRNzfeSHsjai2sB6rAcn1mhMu57StUFLKmRh1TRW6ZM83NGiActldglwZI9Ht2Wg2yWp7FWzSOT3260RpHjzTrkYvW6%2Fmgy3Y4KMhDn%2BJ6yE4yMQoUMOeBpXsr%2FDUcA16wxd9%2BKy%2Fm0d%2BgYWHtEf61Jo4Nj51x%2B5NtY5Hk3HVsotFZzMYdV9AdtsvIOwWdjTPYIEIee9mp%2BT1ysnnqhZagQKgSi1jPP8Yt02lZX7%2BJ%2FItcX3h64qwrGLq84J1p5pEmIIWsOdrz2GsDwyuzTkbiJMs%2Bd0TcbJiTH3Lys8V5OoWgcfY62%2F%2BxY4w5xbi4%2BHEPriFzevyVajC7NvPtfqyjQhzOQtKydjLYcG6IJgXO93HKaCggqxzSk0EzU99rGAl7HUeq7xa2bs6%2FahMzsv2lyyJ6UKte4oi8O8Vf%2FhRI0jVAzfNVo1KcSVSazeZg7M%2BAaXBvM%2FBtcGatO2NeQHOOK%2FhwxL22mLYbVXisQOlntWYpgaTmsHOi4pxcTo6ldDev%2BK7ODxYWyQD2bnGnjp5do3Tks4qGbaANy%2Bv7%2F5bsJz2WVtSJNIpLDB1DPvwX3jnaMlp%2BiM69rtZoGmolz8iSxPEiQlobJat8LrVlXwYhm8Ln&amp;nvMid=32491517782&amp;catId=50010920\" rel=\"noopener\" target=\"_blank\"><div class=\"goods_title\">도서</div><div class=\"bookListItem_vendor__d_xBD\">판매처 <!-- -->21</div></a><span class=\"bookPrice_price__zr5dh\">최저<!-- --> <em>24,700</em>원</span></div><a class=\"bookListItem_btn_report__cjrVh linkAnchor\" data-nclick=\"N=a:stab1l*c.report,i:32491517782,r:1\" href=\"https://search.shopping.naver.com/book/report/product?nvMid=32491517782\" target=\"popup\"><svg class=\"bookListItem_svg_report__xc5Xi\" height=\"12\" width=\"12\" xmlns=\"http://www.w3.org/2000/svg\"><g fill=\"none\" fill-rule=\"evenodd\" stroke=\"#999\"><path d=\"M5.999 1a4.166 4.166 0 0 0-4.166 4.166V8.5h8.334V5.166A4.167 4.167 0 0 0 5.999 1z\" stroke-linejoin=\"round\"></path><path d=\"M5.583 3.083c-.92 0-1.666.746-1.666 1.667M1 11h10V8.5H1z\"></path></g></svg>신고</a></div></div></li>, <li class=\"bookListItem_item_book__1yCey\"><div class=\"bookListItem_item_inner__Fp7hN\"><a class=\"bookListItem_info_top__VgpiO linkAnchor\" data-i=\"36813141618\" data-nclick=\"N=a:stab1l*c.info,i:36813141618,r:2\" href=\"https://cr3.shopping.naver.com/book/adcr?x=NYmw9FPq%2Fq7j3R6oR5Ewa%2F%2F%2F%2Fw%3D%3DsX9bpBnXcK6EgSE%2B607bY5Yedz%2BNPwlR98yCV2r6HHV257StUFLKmRh1TRW6ZM83NkQwsi%2BW4bf7pZFKDQqE68J7FWzSOT3260RpHjzTrkYvW6%2Fmgy3Y4KMhDn%2BJ6yE4yMQoUMOeBpXsr%2FDUcA16wxd9%2BKy%2Fm0d%2BgYWHtEf61Jo4Nj51x%2B5NtY5Hk3HVsotFZAxItDgp4cohouEOBMj54g8bifAAc%2BhVGpw5Z9hbvMMwSi1jPP8Yt02lZX7%2BJ%2FItcX3h64qwrGLq84J1p5pEmIIWsOdrz2GsDwyuzTkbiJMs%2Bd0TcbJiTH3Lys8V5OoWgcfY62%2F%2BxY4w5xbi4%2BHEPriFzevyVajC7NvPtfqyjQhxOZ6sRK7M5%2B3zTagwNHELQkJSqE1u6AUeUuHufxXkT4keq7xa2bs6%2FahMzsv2lyyKHXTfrk1XTxFNU2hJyHp41zfNVo1KcSVSazeZg7M%2BAaRKaJHYB2HOTyB%2FIejk632FQLZwCYq0SDcJrkbSnSgou8MxkEbODCn3%2B%2BGcSmQ0uCruo9TKHCl3EfytqJwsWr7jnUozSk6MgpJeDpfnt31s2KyiA%2Bw4go0d0EBdHHTNA8eJEDFLiZr8L6jKAK6mGKxTh8lJwzwUuC%2FejUzuiaBcc&amp;nvMid=36813141618&amp;catId=50010920\" rel=\"noopener\" target=\"_blank\"><div class=\"bookListItem_thumbnail_area__JSZ_U\"><div class=\"bookListItem_thumbnail___NBwO\"><img alt=\"두근두근 파이썬\" src=\"https://shopping-phinf.pstatic.net/main_3681314/36813141618.20230131165403.jpg?type=w300\"/></div></div><div class=\"bookListItem_text_area__hF892\"><div class=\"bookListItem_title__X7f9_\"><span class=\"bookListItem_text__bglOw\"><span>두근두근 파이썬</span><span> (만들면서 배우는)</span></span></div><div class=\"bookListItem_feature__txTlp\">컴퓨터/IT 73위</div><div class=\"bookListItem_detail__RBQ6x\"><div class=\"bookListItem_define_item__LdTib\"><span class=\"bookListItem_define_title__ujtNf\">저자</span><span class=\"bookListItem_define_data__kKD8t\">천인국</span></div><div class=\"bookListItem_define_item__LdTib bookListItem_publish____VOP\"><div class=\"bookListItem_detail_publish__FgPYQ\"><span class=\"bookListItem_define_title__ujtNf\">출판</span><span class=\"bookListItem_define_data__kKD8t\">생능출판</span></div><div class=\"bookListItem_detail_date___byvG\">2023.01.05.</div></div></div><div class=\"bookListItem_grade__tywh2\"><span class=\"bookListItem_star__A_4PU\"><svg class=\"svg_star\" height=\"14\" width=\"15\" xmlns=\"http://www.w3.org/2000/svg\"><g fill=\"none\" fill-rule=\"evenodd\"><path d=\"m5.874 5.513-.374.005L1 5.58l3.867 2.944-.104.335L3.486 13 7.5 10.383l.298.193L11.514 13l-1.38-4.476.284-.217L14 5.58l-4.873-.067L7.5 1z\" fill=\"#FF5356\"></path><path d=\"M7.5 1 5.873 5.513 5.5 5.52 1 5.58l3.866 2.944-.103.335L3.486 13 7.5 10.383l.298.195L11.514 13l-1.381-4.476.285-.216L14 5.58l-4.873-.067z\" stroke=\"#F43435\" stroke-linecap=\"round\" stroke-linejoin=\"round\" stroke-width=\"0.95\"></path></g></svg>평점</span>4.7<!-- --> <span class=\"bookListItem_reviewer__kwofa\">(<!-- -->3<!-- -->)</span></div></div></a><a class=\"bookListItem_btn_zzim__Jg53Q N=a:stab1l*c.fav,i:36813141618,r:2\" data-i=\"36813141618\" data-nclick=\"N=a:stab1l*c.fav,i:36813141618,r:2\" href=\"#\" role=\"button\"><svg class=\"bookListItem_svg_zzim__z_wK4\" height=\"27\" width=\"27\" xmlns=\"http://www.w3.org/2000/svg\"><g fill=\"none\" fill-rule=\"evenodd\"><circle cx=\"13.5\" cy=\"13.5\" fill=\"#FFF\" r=\"13\" stroke=\"#E2E2E2\"></circle><path d=\"m13.486 20.77-6.157-6.064a3.749 3.749 0 0 1 2.652-6.398c1.004 0 1.947.39 2.656 1.098.15.236.15.425 0 .567-.15.141-.351.142-.602 0-1.098-1.098-3.011-1.097-4.105 0a2.945 2.945 0 0 0-.001 4.164l5.557 5.472 5.748-5.657c.993-1.127.928-2.884-.167-3.979-1.097-1.1-3.01-1.098-4.107 0l-2.588 2.558a1.206 1.206 0 0 0-.004 1.745c.5.483 1.312.483 1.812 0l2.224-2.19a.426.426 0 0 1 .593-.003.401.401 0 0 1 .004.575l-2.227 2.192a2.17 2.17 0 0 1-2.998.002 2.005 2.005 0 0 1 0-2.894l2.584-2.554a3.727 3.727 0 0 1 2.655-1.096c1.004 0 1.947.39 2.654 1.099 1.393 1.392 1.474 3.63.181 5.095\" fill=\"gray\"></path></g></svg><span class=\"bookListItem_text__bglOw\">찜하기</span></a><div class=\"bookListItem_sub_info__AfkOO\"><div class=\"bookListItem_item_sub__bTJ7u\"><a class=\"bookListItem_item_box__6Mjr9 linkAnchor\" data-i=\"36813141618\" data-nclick=\"N=a:stab1l*c.pricep,i:36813141618,r:2\" href=\"https://cr3.shopping.naver.com/book/adcr?x=NYmw9FPq%2Fq7j3R6oR5Ewa%2F%2F%2F%2Fw%3D%3DsX9bpBnXcK6EgSE%2B607bY5Yedz%2BNPwlR98yCV2r6HHV257StUFLKmRh1TRW6ZM83NkQwsi%2BW4bf7pZFKDQqE68J7FWzSOT3260RpHjzTrkYvW6%2Fmgy3Y4KMhDn%2BJ6yE4yMQoUMOeBpXsr%2FDUcA16wxd9%2BKy%2Fm0d%2BgYWHtEf61Jo4Nj51x%2B5NtY5Hk3HVsotFZAxItDgp4cohouEOBMj54g8bifAAc%2BhVGpw5Z9hbvMMwSi1jPP8Yt02lZX7%2BJ%2FItcX3h64qwrGLq84J1p5pEmIIWsOdrz2GsDwyuzTkbiJMs%2Bd0TcbJiTH3Lys8V5OoWgcfY62%2F%2BxY4w5xbi4%2BHEPriFzevyVajC7NvPtfqyjQhxOZ6sRK7M5%2B3zTagwNHELQkJSqE1u6AUeUuHufxXkT4keq7xa2bs6%2FahMzsv2lyyKHXTfrk1XTxFNU2hJyHp41zfNVo1KcSVSazeZg7M%2BAaRKaJHYB2HOTyB%2FIejk632FQLZwCYq0SDcJrkbSnSgou8MxkEbODCn3%2B%2BGcSmQ0uCruo9TKHCl3EfytqJwsWr7jnUozSk6MgpJeDpfnt31s2KyiA%2Bw4go0d0EBdHHTNA8eJEDFLiZr8L6jKAK6mGKxTh8lJwzwUuC%2FejUzuiaBcc&amp;nvMid=36813141618&amp;catId=50010920\" rel=\"noopener\" target=\"_blank\"><div class=\"goods_title\">도서</div><div class=\"bookListItem_vendor__d_xBD\">판매처 <!-- -->39</div></a><span class=\"bookPrice_price__zr5dh\">최저<!-- --> <em>23,750</em>원</span></div><a class=\"bookListItem_btn_report__cjrVh linkAnchor\" data-nclick=\"N=a:stab1l*c.report,i:36813141618,r:2\" href=\"https://search.shopping.naver.com/book/report/product?nvMid=36813141618\" target=\"popup\"><svg class=\"bookListItem_svg_report__xc5Xi\" height=\"12\" width=\"12\" xmlns=\"http://www.w3.org/2000/svg\"><g fill=\"none\" fill-rule=\"evenodd\" stroke=\"#999\"><path d=\"M5.999 1a4.166 4.166 0 0 0-4.166 4.166V8.5h8.334V5.166A4.167 4.167 0 0 0 5.999 1z\" stroke-linejoin=\"round\"></path><path d=\"M5.583 3.083c-.92 0-1.666.746-1.666 1.667M1 11h10V8.5H1z\"></path></g></svg>신고</a></div></div></li>, <li class=\"bookListItem_item_book__1yCey\"><div class=\"bookListItem_item_inner__Fp7hN\"><a class=\"bookListItem_info_top__VgpiO linkAnchor\" data-i=\"42173058623\" data-nclick=\"N=a:stab1l*c.info,i:42173058623,r:3\" href=\"https://cr3.shopping.naver.com/book/adcr?x=a05vSHHj%2B%2B1WKG2fgbZvuv%2F%2F%2Fw%3D%3Dsmu1ZXAKhU9cLyjiIaGN0NVsdtYm2y4MU33DDPQ%2BPO7%2BJnnL5Sdl1Om0OnvyPouDNNPoMY7Qyb2DC9KtArSMrc8ez10KvC75IXKXEmsZjpY3VMc6ISzfSnRmT9F0G4N3nY8EigvBQinIZsg%2B2TARrJsv%2BjB2erv%2BZ%2Brrs5VHOiTTt4DqiWzfh638rk6r8T8q24D0Xwus0ivXag7Ag1tsGrP7IntYW81Xs6qvX%2Bsnxc5xra%2BpI6UJu%2BTwtNWUwqdlIxG2P0Q%2Fj4lhGbx8gGDwffhzzON9aTM%2Fdo2I2z9yt2AmFo49JCi6J6VM8a%2Bwjzt8%2BFqPkbhZKyIpiX5j%2F%2BxkCe1WgmKC6jv4on9gzTYjdIY0wLX1kFCoUYWiIJ2IcLtLqSWkruqzLNR%2BNlNcFNXSh%2Br2rjFsnXw88P3iZF1ToG3Tzke9xqokF8gqeKRDS5EgIWjQqm0nba4rLoBgE8SauX6NPOa7btcUyJYftN8mIC0Kca4Eilmnx6oXlvGWl3rDBdp9sSWzyQ0u3D14Lop0GNiYFs%2BpDC4Hd0fa10Sd%2B318udrATo8ESSBvbB%2BoYa1DS%2Fqy4FAfVXrxVJ0%2FiEW4NWK1nsfBi9KlpuZGyIHYMxahzS0NmutU52%2FeznATz8xiY&amp;nvMid=42173058623&amp;catId=50010920\" rel=\"noopener\" target=\"_blank\"><div class=\"bookListItem_thumbnail_area__JSZ_U\"><div class=\"bookListItem_thumbnail___NBwO\"><img alt=\"코딩 뇌를 깨우는 파이썬\" src=\"https://shopping-phinf.pstatic.net/main_4217305/42173058623.20230905101047.jpg?type=w300\"/></div></div><div class=\"bookListItem_text_area__hF892\"><div class=\"bookListItem_title__X7f9_\"><span class=\"bookListItem_text__bglOw\"><span>코딩 뇌를 깨우는 파이썬</span><span> (문제 해결 능력을 키우는 컴퓨팅 사고부터 알고리즘, 데이터 분석, 머신러닝까지)</span></span></div><div class=\"bookListItem_feature__txTlp\">컴퓨터/IT 80위</div><div class=\"bookListItem_detail__RBQ6x\"><div class=\"bookListItem_define_item__LdTib\"><span class=\"bookListItem_define_title__ujtNf\">저자</span><span class=\"bookListItem_define_data__kKD8t\">존 V. 구태그</span></div><div class=\"bookListItem_define_item__LdTib bookListItem_publish____VOP\"><div class=\"bookListItem_detail_publish__FgPYQ\"><span class=\"bookListItem_define_title__ujtNf\">출판</span><span class=\"bookListItem_define_data__kKD8t\">한빛미디어</span></div><div class=\"bookListItem_detail_date___byvG\">2023.08.30.</div></div></div></div></a><a class=\"bookListItem_btn_zzim__Jg53Q N=a:stab1l*c.fav,i:42173058623,r:3\" data-i=\"42173058623\" data-nclick=\"N=a:stab1l*c.fav,i:42173058623,r:3\" href=\"#\" role=\"button\"><svg class=\"bookListItem_svg_zzim__z_wK4\" height=\"27\" width=\"27\" xmlns=\"http://www.w3.org/2000/svg\"><g fill=\"none\" fill-rule=\"evenodd\"><circle cx=\"13.5\" cy=\"13.5\" fill=\"#FFF\" r=\"13\" stroke=\"#E2E2E2\"></circle><path d=\"m13.486 20.77-6.157-6.064a3.749 3.749 0 0 1 2.652-6.398c1.004 0 1.947.39 2.656 1.098.15.236.15.425 0 .567-.15.141-.351.142-.602 0-1.098-1.098-3.011-1.097-4.105 0a2.945 2.945 0 0 0-.001 4.164l5.557 5.472 5.748-5.657c.993-1.127.928-2.884-.167-3.979-1.097-1.1-3.01-1.098-4.107 0l-2.588 2.558a1.206 1.206 0 0 0-.004 1.745c.5.483 1.312.483 1.812 0l2.224-2.19a.426.426 0 0 1 .593-.003.401.401 0 0 1 .004.575l-2.227 2.192a2.17 2.17 0 0 1-2.998.002 2.005 2.005 0 0 1 0-2.894l2.584-2.554a3.727 3.727 0 0 1 2.655-1.096c1.004 0 1.947.39 2.654 1.099 1.393 1.392 1.474 3.63.181 5.095\" fill=\"gray\"></path></g></svg><span class=\"bookListItem_text__bglOw\">찜하기</span></a><div class=\"bookListItem_sub_info__AfkOO\"><div class=\"bookListItem_item_sub__bTJ7u\"><a class=\"bookListItem_item_box__6Mjr9 linkAnchor\" data-i=\"42173058623\" data-nclick=\"N=a:stab1l*c.pricep,i:42173058623,r:3\" href=\"https://cr3.shopping.naver.com/book/adcr?x=a05vSHHj%2B%2B1WKG2fgbZvuv%2F%2F%2Fw%3D%3Dsmu1ZXAKhU9cLyjiIaGN0NVsdtYm2y4MU33DDPQ%2BPO7%2BJnnL5Sdl1Om0OnvyPouDNNPoMY7Qyb2DC9KtArSMrc8ez10KvC75IXKXEmsZjpY3VMc6ISzfSnRmT9F0G4N3nY8EigvBQinIZsg%2B2TARrJsv%2BjB2erv%2BZ%2Brrs5VHOiTTt4DqiWzfh638rk6r8T8q24D0Xwus0ivXag7Ag1tsGrP7IntYW81Xs6qvX%2Bsnxc5xra%2BpI6UJu%2BTwtNWUwqdlIxG2P0Q%2Fj4lhGbx8gGDwffhzzON9aTM%2Fdo2I2z9yt2AmFo49JCi6J6VM8a%2Bwjzt8%2BFqPkbhZKyIpiX5j%2F%2BxkCe1WgmKC6jv4on9gzTYjdIY0wLX1kFCoUYWiIJ2IcLtLqSWkruqzLNR%2BNlNcFNXSh%2Br2rjFsnXw88P3iZF1ToG3Tzke9xqokF8gqeKRDS5EgIWjQqm0nba4rLoBgE8SauX6NPOa7btcUyJYftN8mIC0Kca4Eilmnx6oXlvGWl3rDBdp9sSWzyQ0u3D14Lop0GNiYFs%2BpDC4Hd0fa10Sd%2B318udrATo8ESSBvbB%2BoYa1DS%2Fqy4FAfVXrxVJ0%2FiEW4NWK1nsfBi9KlpuZGyIHYMxahzS0NmutU52%2FeznATz8xiY&amp;nvMid=42173058623&amp;catId=50010920\" rel=\"noopener\" target=\"_blank\"><div class=\"goods_title\">도서</div><div class=\"bookListItem_vendor__d_xBD\">판매처 <!-- -->91</div></a><span class=\"bookPrice_price__zr5dh\">최저<!-- --> <em>31,500</em>원</span></div><div class=\"bookListItem_item_sub__bTJ7u\"><a class=\"bookListItem_item_box__6Mjr9 linkAnchor\" data-i=\"42173058623\" data-nclick=\"N=a:stab1l*c.pricee,i:42173058623,r:3\" href=\"https://cr3.shopping.naver.com/book/adcr?x=a05vSHHj%2B%2B1WKG2fgbZvuv%2F%2F%2Fw%3D%3Dsmu1ZXAKhU9cLyjiIaGN0NVsdtYm2y4MU33DDPQ%2BPO7%2BJnnL5Sdl1Om0OnvyPouDNNPoMY7Qyb2DC9KtArSMrc8ez10KvC75IXKXEmsZjpY3VMc6ISzfSnRmT9F0G4N3nY8EigvBQinIZsg%2B2TARrJsv%2BjB2erv%2BZ%2Brrs5VHOiTTt4DqiWzfh638rk6r8T8q24D0Xwus0ivXag7Ag1tsGrP7IntYW81Xs6qvX%2Bsnxc5xra%2BpI6UJu%2BTwtNWUwqdlIxG2P0Q%2Fj4lhGbx8gGDwffhzzON9aTM%2Fdo2I2z9yt2AmFo49JCi6J6VM8a%2Bwjzt8%2BFqPkbhZKyIpiX5j%2F%2BxkCe1WgmKC6jv4on9gzTYjdIY0wLX1kFCoUYWiIJ2IcLtLqSWkruqzLNR%2BNlNcFNXSh%2Br2rjFsnXw88P3iZF1ToG3Tzke9xqokF8gqeKRDS5EgIWjQqm0nba4rLoBgE8SauX6NPOa7btcUyJYftN8mIC0Kca4Eilmnx6oXlvGWl3rDBdp9sSWzyQ0u3D14Lop0GNiYFs%2BpDC4Hd0fa10Sd%2B318udrATo8ESSBvbB%2BoYa1DS%2Fqy4FAfVXrxVJ0%2FiEW4NWK1nsfBi9KlpuZGyIHYMxahzS0NmutU52%2FeznATz8xiY&amp;nvMid=42173058623&amp;catId=50010920\" rel=\"noopener\" target=\"_blank\"><div class=\"goods_title\">e북</div><div class=\"bookListItem_vendor__d_xBD\">판매처 <!-- -->4</div></a><span class=\"bookPrice_price__zr5dh\">구매<!-- --> <em>25,200</em>원</span></div><a class=\"bookListItem_btn_report__cjrVh linkAnchor\" data-nclick=\"N=a:stab1l*c.report,i:42173058623,r:3\" href=\"https://search.shopping.naver.com/book/report/product?nvMid=42173058623\" target=\"popup\"><svg class=\"bookListItem_svg_report__xc5Xi\" height=\"12\" width=\"12\" xmlns=\"http://www.w3.org/2000/svg\"><g fill=\"none\" fill-rule=\"evenodd\" stroke=\"#999\"><path d=\"M5.999 1a4.166 4.166 0 0 0-4.166 4.166V8.5h8.334V5.166A4.167 4.167 0 0 0 5.999 1z\" stroke-linejoin=\"round\"></path><path d=\"M5.583 3.083c-.92 0-1.666.746-1.666 1.667M1 11h10V8.5H1z\"></path></g></svg>신고</a></div></div></li>, <li class=\"bookListItem_item_book__1yCey\"><div class=\"bookListItem_item_inner__Fp7hN\"><a class=\"bookListItem_info_top__VgpiO linkAnchor\" data-i=\"40354085633\" data-nclick=\"N=a:stab1l*c.info,i:40354085633,r:4\" href=\"https://cr3.shopping.naver.com/book/adcr?x=JyXEqL66RswxDqCn4X7uU%2F%2F%2F%2Fw%3D%3Ds5wg5KYHWWnwvyrz4xSq%2FWozKVMbAl8ugU7g5HiMGCHy57StUFLKmRh1TRW6ZM83N4%2F5KWZ6tFStUdfjr3R86IZ7FWzSOT3260RpHjzTrkYvW6%2Fmgy3Y4KMhDn%2BJ6yE4yMQoUMOeBpXsr%2FDUcA16wxd9%2BKy%2Fm0d%2BgYWHtEf61Jo4Nj51x%2B5NtY5Hk3HVsotFZAnxZJG0XE4iQR8nldX95MF7lf97rnwmjkFEj%2FbIsWo8Si1jPP8Yt02lZX7%2BJ%2FItcX3h64qwrGLq84J1p5pEmIIWsOdrz2GsDwyuzTkbiJMs%2Bd0TcbJiTH3Lys8V5OoWgcfY62%2F%2BxY4w5xbi4%2BHEPriFzevyVajC7NvPtfqyjQhy0vsTb0N96OfouyaNPBJmGbSaYUAR5OgK45HyKFf50r0eq7xa2bs6%2FahMzsv2lyyKAy%2BQuR2QQ0ZwvsTrKpWDLzfNVo1KcSVSazeZg7M%2BAaVq4ieBZFlKty9pEQZ2mYpBEkjl0kXQRv0ricU1YZ%2B0FMhn5r4ftWDF2E66Jr8uMt%2BCJsjhVia1FPoNfnPCAK9Eh7avOjVf9UscdQuAPGD3PyMRKY036vKJ6UZX3NwIa3s3zVaNSnElUms3mYOzPgGmNdPisRTy5Azu8oXP0HAys&amp;nvMid=40354085633&amp;catId=50010920\" rel=\"noopener\" target=\"_blank\"><div class=\"bookListItem_thumbnail_area__JSZ_U\"><div class=\"bookListItem_thumbnail___NBwO\"><img alt=\"Do it! 점프 투 파이썬\" src=\"https://shopping-phinf.pstatic.net/main_4035408/40354085633.20230919130929.jpg?type=w300\"/></div></div><div class=\"bookListItem_text_area__hF892\"><div class=\"bookListItem_title__X7f9_\"><span class=\"bookListItem_text__bglOw\"><span>Do it! 점프 투 파이썬</span><span> (중학생도 첫날부터 실습하는 초고속 입문서)</span></span></div><div class=\"bookListItem_feature__txTlp\">컴퓨터/IT 5위</div><div class=\"bookListItem_detail__RBQ6x\"><div class=\"bookListItem_define_item__LdTib\"><span class=\"bookListItem_define_title__ujtNf\">저자</span><span class=\"bookListItem_define_data__kKD8t\">박응용</span></div><div class=\"bookListItem_define_item__LdTib bookListItem_publish____VOP\"><div class=\"bookListItem_detail_publish__FgPYQ\"><span class=\"bookListItem_define_title__ujtNf\">출판</span><span class=\"bookListItem_define_data__kKD8t\">이지스퍼블리싱</span></div><div class=\"bookListItem_detail_date___byvG\">2023.06.15.</div></div></div><div class=\"bookListItem_grade__tywh2\"><span class=\"bookListItem_star__A_4PU\"><svg class=\"svg_star\" height=\"14\" width=\"15\" xmlns=\"http://www.w3.org/2000/svg\"><g fill=\"none\" fill-rule=\"evenodd\"><path d=\"m5.874 5.513-.374.005L1 5.58l3.867 2.944-.104.335L3.486 13 7.5 10.383l.298.193L11.514 13l-1.38-4.476.284-.217L14 5.58l-4.873-.067L7.5 1z\" fill=\"#FF5356\"></path><path d=\"M7.5 1 5.873 5.513 5.5 5.52 1 5.58l3.866 2.944-.103.335L3.486 13 7.5 10.383l.298.195L11.514 13l-1.381-4.476.285-.216L14 5.58l-4.873-.067z\" stroke=\"#F43435\" stroke-linecap=\"round\" stroke-linejoin=\"round\" stroke-width=\"0.95\"></path></g></svg>평점</span>4.9<!-- --> <span class=\"bookListItem_reviewer__kwofa\">(<!-- -->49<!-- -->)</span></div></div></a><a class=\"bookListItem_btn_zzim__Jg53Q N=a:stab1l*c.fav,i:40354085633,r:4\" data-i=\"40354085633\" data-nclick=\"N=a:stab1l*c.fav,i:40354085633,r:4\" href=\"#\" role=\"button\"><svg class=\"bookListItem_svg_zzim__z_wK4\" height=\"27\" width=\"27\" xmlns=\"http://www.w3.org/2000/svg\"><g fill=\"none\" fill-rule=\"evenodd\"><circle cx=\"13.5\" cy=\"13.5\" fill=\"#FFF\" r=\"13\" stroke=\"#E2E2E2\"></circle><path d=\"m13.486 20.77-6.157-6.064a3.749 3.749 0 0 1 2.652-6.398c1.004 0 1.947.39 2.656 1.098.15.236.15.425 0 .567-.15.141-.351.142-.602 0-1.098-1.098-3.011-1.097-4.105 0a2.945 2.945 0 0 0-.001 4.164l5.557 5.472 5.748-5.657c.993-1.127.928-2.884-.167-3.979-1.097-1.1-3.01-1.098-4.107 0l-2.588 2.558a1.206 1.206 0 0 0-.004 1.745c.5.483 1.312.483 1.812 0l2.224-2.19a.426.426 0 0 1 .593-.003.401.401 0 0 1 .004.575l-2.227 2.192a2.17 2.17 0 0 1-2.998.002 2.005 2.005 0 0 1 0-2.894l2.584-2.554a3.727 3.727 0 0 1 2.655-1.096c1.004 0 1.947.39 2.654 1.099 1.393 1.392 1.474 3.63.181 5.095\" fill=\"gray\"></path></g></svg><span class=\"bookListItem_text__bglOw\">찜하기</span></a><div class=\"bookListItem_sub_info__AfkOO\"><div class=\"bookListItem_item_sub__bTJ7u\"><a class=\"bookListItem_item_box__6Mjr9 linkAnchor\" data-i=\"40354085633\" data-nclick=\"N=a:stab1l*c.pricep,i:40354085633,r:4\" href=\"https://cr3.shopping.naver.com/book/adcr?x=JyXEqL66RswxDqCn4X7uU%2F%2F%2F%2Fw%3D%3Ds5wg5KYHWWnwvyrz4xSq%2FWozKVMbAl8ugU7g5HiMGCHy57StUFLKmRh1TRW6ZM83N4%2F5KWZ6tFStUdfjr3R86IZ7FWzSOT3260RpHjzTrkYvW6%2Fmgy3Y4KMhDn%2BJ6yE4yMQoUMOeBpXsr%2FDUcA16wxd9%2BKy%2Fm0d%2BgYWHtEf61Jo4Nj51x%2B5NtY5Hk3HVsotFZAnxZJG0XE4iQR8nldX95MF7lf97rnwmjkFEj%2FbIsWo8Si1jPP8Yt02lZX7%2BJ%2FItcX3h64qwrGLq84J1p5pEmIIWsOdrz2GsDwyuzTkbiJMs%2Bd0TcbJiTH3Lys8V5OoWgcfY62%2F%2BxY4w5xbi4%2BHEPriFzevyVajC7NvPtfqyjQhy0vsTb0N96OfouyaNPBJmGbSaYUAR5OgK45HyKFf50r0eq7xa2bs6%2FahMzsv2lyyKAy%2BQuR2QQ0ZwvsTrKpWDLzfNVo1KcSVSazeZg7M%2BAaVq4ieBZFlKty9pEQZ2mYpBEkjl0kXQRv0ricU1YZ%2B0FMhn5r4ftWDF2E66Jr8uMt%2BCJsjhVia1FPoNfnPCAK9Eh7avOjVf9UscdQuAPGD3PyMRKY036vKJ6UZX3NwIa3s3zVaNSnElUms3mYOzPgGmNdPisRTy5Azu8oXP0HAys&amp;nvMid=40354085633&amp;catId=50010920\" rel=\"noopener\" target=\"_blank\"><div class=\"goods_title\">도서</div><div class=\"bookListItem_vendor__d_xBD\">판매처 <!-- -->162</div></a><span class=\"bookPrice_price__zr5dh\">최저<!-- --> <em>19,800</em>원</span></div><div class=\"bookListItem_item_sub__bTJ7u\"><a class=\"bookListItem_item_box__6Mjr9 linkAnchor\" data-i=\"40354085633\" data-nclick=\"N=a:stab1l*c.pricee,i:40354085633,r:4\" href=\"https://cr3.shopping.naver.com/book/adcr?x=JyXEqL66RswxDqCn4X7uU%2F%2F%2F%2Fw%3D%3Ds5wg5KYHWWnwvyrz4xSq%2FWozKVMbAl8ugU7g5HiMGCHy57StUFLKmRh1TRW6ZM83N4%2F5KWZ6tFStUdfjr3R86IZ7FWzSOT3260RpHjzTrkYvW6%2Fmgy3Y4KMhDn%2BJ6yE4yMQoUMOeBpXsr%2FDUcA16wxd9%2BKy%2Fm0d%2BgYWHtEf61Jo4Nj51x%2B5NtY5Hk3HVsotFZAnxZJG0XE4iQR8nldX95MF7lf97rnwmjkFEj%2FbIsWo8Si1jPP8Yt02lZX7%2BJ%2FItcX3h64qwrGLq84J1p5pEmIIWsOdrz2GsDwyuzTkbiJMs%2Bd0TcbJiTH3Lys8V5OoWgcfY62%2F%2BxY4w5xbi4%2BHEPriFzevyVajC7NvPtfqyjQhy0vsTb0N96OfouyaNPBJmGbSaYUAR5OgK45HyKFf50r0eq7xa2bs6%2FahMzsv2lyyKAy%2BQuR2QQ0ZwvsTrKpWDLzfNVo1KcSVSazeZg7M%2BAaVq4ieBZFlKty9pEQZ2mYpBEkjl0kXQRv0ricU1YZ%2B0FMhn5r4ftWDF2E66Jr8uMt%2BCJsjhVia1FPoNfnPCAK9Eh7avOjVf9UscdQuAPGD3PyMRKY036vKJ6UZX3NwIa3s3zVaNSnElUms3mYOzPgGmNdPisRTy5Azu8oXP0HAys&amp;nvMid=40354085633&amp;catId=50010920\" rel=\"noopener\" target=\"_blank\"><div class=\"goods_title\">e북</div><div class=\"bookListItem_vendor__d_xBD\">판매처 <!-- -->4</div></a><span class=\"bookPrice_price__zr5dh\">구매<!-- --> <em>13,500</em>원</span></div><a class=\"bookListItem_btn_report__cjrVh linkAnchor\" data-nclick=\"N=a:stab1l*c.report,i:40354085633,r:4\" href=\"https://search.shopping.naver.com/book/report/product?nvMid=40354085633\" target=\"popup\"><svg class=\"bookListItem_svg_report__xc5Xi\" height=\"12\" width=\"12\" xmlns=\"http://www.w3.org/2000/svg\"><g fill=\"none\" fill-rule=\"evenodd\" stroke=\"#999\"><path d=\"M5.999 1a4.166 4.166 0 0 0-4.166 4.166V8.5h8.334V5.166A4.167 4.167 0 0 0 5.999 1z\" stroke-linejoin=\"round\"></path><path d=\"M5.583 3.083c-.92 0-1.666.746-1.666 1.667M1 11h10V8.5H1z\"></path></g></svg>신고</a></div></div></li>, <li class=\"bookListItem_item_book__1yCey\"><div class=\"bookListItem_item_inner__Fp7hN\"><a class=\"bookListItem_info_top__VgpiO linkAnchor\" data-i=\"42484664618\" data-nclick=\"N=a:stab1l*c.info,i:42484664618,r:5\" href=\"https://cr3.shopping.naver.com/book/adcr?x=f1YAbF%2BLxQn6TT0AlqRToP%2F%2F%2Fw%3D%3DsZICmKW%2Ffdrr6iu8i11y50fApaABCCYqURKLfMS22p4ToLdJsmLe0ih5KVXMQNR0tF02GRVJRSPR7frshrCcMlNxIjgbflltgvEQbLoNWERSccjp4dwMX%2Fb%2BwjPoiKkopDGFJhaa7gItRzyDgzBdRcVVd6Z%2BmZ5fvTALbBBPmfKIKVnJqocqfFwLra6hFr54BWb1Mb7biPToyquRF3aK3pfj6xDMeJaPTHtDIoNWns%2BM%2BoN22s6dKwm7Qn7boTIbfr9lKBJ72xSdUlAg54IqouvziKuqi6lvlwe2gIVAf2UAfPZcFNtCPSmp7XCTzD5M1nTA3JmbDOshDuZxVHcaj%2FBTTVoyc1TJkglBxgQt00u00R8LmVsuIXrRndZNjKZnjvd1KjBnNlG933oUkWOZUeI%2BTI5LtliRqfOF7YCo%2BEYn8ORx0MpKNZ%2FBQpEkYlichf5VORkkZ%2FGzAPyNzthD%2F9BPsy9mvWb%2BCKv1o4PpMB9xyTNBcUUJVidWPWHxY6%2BwSTx0m%2FAsuHmYr5t4JKRbLE%2FVuYP%2FxcWayoXsHb3qiiaQXgKCBXaokRPfV2QcULfft63amo3CAIgaDXQIo6fYMWvEnYw5CxZ3h2t2wyM7r4g4tv14vi5WSJ1CQMeM9rnwvzUhNzs2VE%2B%2Bisqs3JAEppg%3D%3D&amp;nvMid=42484664618&amp;catId=50010920\" rel=\"noopener\" target=\"_blank\"><div class=\"bookListItem_thumbnail_area__JSZ_U\"><div class=\"bookListItem_thumbnail___NBwO\"><img alt=\"나는 파이썬으로 머신러닝한다 2\" src=\"https://shopping-phinf.pstatic.net/main_4248466/42484664618.20230919131751.jpg?type=w300\"/></div></div><div class=\"bookListItem_text_area__hF892\"><div class=\"bookListItem_title__X7f9_\"><span class=\"bookListItem_text__bglOw\"><span>나는 파이썬으로 머신러닝한다 2</span><span> (인공지능 자신감 UP 인공지능 약간 매운맛)</span></span></div><div class=\"bookListItem_feature__txTlp\">컴퓨터/IT 79위</div><div class=\"bookListItem_detail__RBQ6x\"><div class=\"bookListItem_define_item__LdTib\"><span class=\"bookListItem_define_title__ujtNf\">저자</span><span class=\"bookListItem_define_data__kKD8t\">장병철, 이지항 외 2명</span></div><div class=\"bookListItem_define_item__LdTib bookListItem_publish____VOP\"><div class=\"bookListItem_detail_publish__FgPYQ\"><span class=\"bookListItem_define_title__ujtNf\">출판</span><span class=\"bookListItem_define_data__kKD8t\">씨마스</span></div><div class=\"bookListItem_detail_date___byvG\">2023.09.01.</div></div></div><div class=\"bookListItem_grade__tywh2\"><span class=\"bookListItem_star__A_4PU\"><svg class=\"svg_star\" height=\"14\" width=\"15\" xmlns=\"http://www.w3.org/2000/svg\"><g fill=\"none\" fill-rule=\"evenodd\"><path d=\"m5.874 5.513-.374.005L1 5.58l3.867 2.944-.104.335L3.486 13 7.5 10.383l.298.193L11.514 13l-1.38-4.476.284-.217L14 5.58l-4.873-.067L7.5 1z\" fill=\"#FF5356\"></path><path d=\"M7.5 1 5.873 5.513 5.5 5.52 1 5.58l3.866 2.944-.103.335L3.486 13 7.5 10.383l.298.195L11.514 13l-1.381-4.476.285-.216L14 5.58l-4.873-.067z\" stroke=\"#F43435\" stroke-linecap=\"round\" stroke-linejoin=\"round\" stroke-width=\"0.95\"></path></g></svg>평점</span>5.0<!-- --> <span class=\"bookListItem_reviewer__kwofa\">(<!-- -->1<!-- -->)</span></div></div></a><a class=\"bookListItem_btn_zzim__Jg53Q N=a:stab1l*c.fav,i:42484664618,r:5\" data-i=\"42484664618\" data-nclick=\"N=a:stab1l*c.fav,i:42484664618,r:5\" href=\"#\" role=\"button\"><svg class=\"bookListItem_svg_zzim__z_wK4\" height=\"27\" width=\"27\" xmlns=\"http://www.w3.org/2000/svg\"><g fill=\"none\" fill-rule=\"evenodd\"><circle cx=\"13.5\" cy=\"13.5\" fill=\"#FFF\" r=\"13\" stroke=\"#E2E2E2\"></circle><path d=\"m13.486 20.77-6.157-6.064a3.749 3.749 0 0 1 2.652-6.398c1.004 0 1.947.39 2.656 1.098.15.236.15.425 0 .567-.15.141-.351.142-.602 0-1.098-1.098-3.011-1.097-4.105 0a2.945 2.945 0 0 0-.001 4.164l5.557 5.472 5.748-5.657c.993-1.127.928-2.884-.167-3.979-1.097-1.1-3.01-1.098-4.107 0l-2.588 2.558a1.206 1.206 0 0 0-.004 1.745c.5.483 1.312.483 1.812 0l2.224-2.19a.426.426 0 0 1 .593-.003.401.401 0 0 1 .004.575l-2.227 2.192a2.17 2.17 0 0 1-2.998.002 2.005 2.005 0 0 1 0-2.894l2.584-2.554a3.727 3.727 0 0 1 2.655-1.096c1.004 0 1.947.39 2.654 1.099 1.393 1.392 1.474 3.63.181 5.095\" fill=\"gray\"></path></g></svg><span class=\"bookListItem_text__bglOw\">찜하기</span></a><div class=\"bookListItem_sub_info__AfkOO\"><div class=\"bookListItem_item_sub__bTJ7u\"><a class=\"bookListItem_item_box__6Mjr9 linkAnchor\" data-i=\"42484664618\" data-nclick=\"N=a:stab1l*c.pricep,i:42484664618,r:5\" href=\"https://cr3.shopping.naver.com/book/adcr?x=f1YAbF%2BLxQn6TT0AlqRToP%2F%2F%2Fw%3D%3DsZICmKW%2Ffdrr6iu8i11y50fApaABCCYqURKLfMS22p4ToLdJsmLe0ih5KVXMQNR0tF02GRVJRSPR7frshrCcMlNxIjgbflltgvEQbLoNWERSccjp4dwMX%2Fb%2BwjPoiKkopDGFJhaa7gItRzyDgzBdRcVVd6Z%2BmZ5fvTALbBBPmfKIKVnJqocqfFwLra6hFr54BWb1Mb7biPToyquRF3aK3pfj6xDMeJaPTHtDIoNWns%2BM%2BoN22s6dKwm7Qn7boTIbfr9lKBJ72xSdUlAg54IqouvziKuqi6lvlwe2gIVAf2UAfPZcFNtCPSmp7XCTzD5M1nTA3JmbDOshDuZxVHcaj%2FBTTVoyc1TJkglBxgQt00u00R8LmVsuIXrRndZNjKZnjvd1KjBnNlG933oUkWOZUeI%2BTI5LtliRqfOF7YCo%2BEYn8ORx0MpKNZ%2FBQpEkYlichf5VORkkZ%2FGzAPyNzthD%2F9BPsy9mvWb%2BCKv1o4PpMB9xyTNBcUUJVidWPWHxY6%2BwSTx0m%2FAsuHmYr5t4JKRbLE%2FVuYP%2FxcWayoXsHb3qiiaQXgKCBXaokRPfV2QcULfft63amo3CAIgaDXQIo6fYMWvEnYw5CxZ3h2t2wyM7r4g4tv14vi5WSJ1CQMeM9rnwvzUhNzs2VE%2B%2Bisqs3JAEppg%3D%3D&amp;nvMid=42484664618&amp;catId=50010920\" rel=\"noopener\" target=\"_blank\"><div class=\"goods_title\">도서</div><div class=\"bookListItem_vendor__d_xBD\">판매처 <!-- -->54</div></a><span class=\"bookPrice_price__zr5dh\">최저<!-- --> <em>20,700</em>원</span></div><a class=\"bookListItem_btn_report__cjrVh linkAnchor\" data-nclick=\"N=a:stab1l*c.report,i:42484664618,r:5\" href=\"https://search.shopping.naver.com/book/report/product?nvMid=42484664618\" target=\"popup\"><svg class=\"bookListItem_svg_report__xc5Xi\" height=\"12\" width=\"12\" xmlns=\"http://www.w3.org/2000/svg\"><g fill=\"none\" fill-rule=\"evenodd\" stroke=\"#999\"><path d=\"M5.999 1a4.166 4.166 0 0 0-4.166 4.166V8.5h8.334V5.166A4.167 4.167 0 0 0 5.999 1z\" stroke-linejoin=\"round\"></path><path d=\"M5.583 3.083c-.92 0-1.666.746-1.666 1.667M1 11h10V8.5H1z\"></path></g></svg>신고</a></div></div></li>, <li class=\"bookListItem_item_book__1yCey\"><div class=\"bookListItem_item_inner__Fp7hN\"><a class=\"bookListItem_info_top__VgpiO linkAnchor\" data-i=\"32507605957\" data-nclick=\"N=a:stab1l*c.info,i:32507605957,r:6\" href=\"https://cr3.shopping.naver.com/book/adcr?x=iVlQkdteK1YMcziwQKjBEP%2F%2F%2Fw%3D%3DsYEjgDY9q9tdDVinsl1Pxn3SavTTTXiBICYZv52R7PIy57StUFLKmRh1TRW6ZM83NEerzm9pKXXc38rYaCzt7Hp7FWzSOT3260RpHjzTrkYvW6%2Fmgy3Y4KMhDn%2BJ6yE4yMQoUMOeBpXsr%2FDUcA16wxd9%2BKy%2Fm0d%2BgYWHtEf61Jo4Nj51x%2B5NtY5Hk3HVsotFZd6XR4pPaLRiYiJIYw70nSj3U7Q6MTwrU3FR7udgasvcSi1jPP8Yt02lZX7%2BJ%2FItcX3h64qwrGLq84J1p5pEmIIWsOdrz2GsDwyuzTkbiJMs%2Bd0TcbJiTH3Lys8V5OoWgcfY62%2F%2BxY4w5xbi4%2BHEPriFzevyVajC7NvPtfqyjQhzKHpHnQMgBBnCTd6N%2Bf0%2F3nej2z53PUS1TSUIYwD3Ij0eq7xa2bs6%2FahMzsv2lyyIoFUJht16kwWLdhhtLycuBzfNVo1KcSVSazeZg7M%2BAaU2IVjL6BFcjteNcmc1cUOjGup%2B6sy11P0ZgwthWWcP9gaTmsHOi4pxcTo6ldDev%2BIZMDaUx77Vs0mY%2FoeAAdLDks4qGbaANy%2Bv7%2F5bsJz2WmE11trPbpjt%2BN5%2Fk87U1GFp%2BiM69rtZoGmolz8iSxPEiQlobJat8LrVlXwYhm8Ln&amp;nvMid=32507605957&amp;catId=50010920\" rel=\"noopener\" target=\"_blank\"><div class=\"bookListItem_thumbnail_area__JSZ_U\"><div class=\"bookListItem_thumbnail___NBwO\"><img alt=\"혼자 공부하는 파이썬\" src=\"https://shopping-phinf.pstatic.net/main_3250760/32507605957.20230509170119.jpg?type=w300\"/></div></div><div class=\"bookListItem_text_area__hF892\"><div class=\"bookListItem_title__X7f9_\"><span class=\"bookListItem_text__bglOw\"><span>혼자 공부하는 파이썬</span><span> (1:1 과외하듯 배우는 프로그래밍 자습서)</span></span></div><div class=\"bookListItem_feature__txTlp\">컴퓨터/IT 9위</div><div class=\"bookListItem_detail__RBQ6x\"><div class=\"bookListItem_define_item__LdTib\"><span class=\"bookListItem_define_title__ujtNf\">저자</span><span class=\"bookListItem_define_data__kKD8t\">윤인성</span></div><div class=\"bookListItem_define_item__LdTib bookListItem_publish____VOP\"><div class=\"bookListItem_detail_publish__FgPYQ\"><span class=\"bookListItem_define_title__ujtNf\">출판</span><span class=\"bookListItem_define_data__kKD8t\">한빛미디어</span></div><div class=\"bookListItem_detail_date___byvG\">2022.06.01.</div></div></div><div class=\"bookListItem_grade__tywh2\"><span class=\"bookListItem_star__A_4PU\"><svg class=\"svg_star\" height=\"14\" width=\"15\" xmlns=\"http://www.w3.org/2000/svg\"><g fill=\"none\" fill-rule=\"evenodd\"><path d=\"m5.874 5.513-.374.005L1 5.58l3.867 2.944-.104.335L3.486 13 7.5 10.383l.298.193L11.514 13l-1.38-4.476.284-.217L14 5.58l-4.873-.067L7.5 1z\" fill=\"#FF5356\"></path><path d=\"M7.5 1 5.873 5.513 5.5 5.52 1 5.58l3.866 2.944-.103.335L3.486 13 7.5 10.383l.298.195L11.514 13l-1.381-4.476.285-.216L14 5.58l-4.873-.067z\" stroke=\"#F43435\" stroke-linecap=\"round\" stroke-linejoin=\"round\" stroke-width=\"0.95\"></path></g></svg>평점</span>4.9<!-- --> <span class=\"bookListItem_reviewer__kwofa\">(<!-- -->19<!-- -->)</span></div></div></a><a class=\"bookListItem_btn_zzim__Jg53Q N=a:stab1l*c.fav,i:32507605957,r:6\" data-i=\"32507605957\" data-nclick=\"N=a:stab1l*c.fav,i:32507605957,r:6\" href=\"#\" role=\"button\"><svg class=\"bookListItem_svg_zzim__z_wK4\" height=\"27\" width=\"27\" xmlns=\"http://www.w3.org/2000/svg\"><g fill=\"none\" fill-rule=\"evenodd\"><circle cx=\"13.5\" cy=\"13.5\" fill=\"#FFF\" r=\"13\" stroke=\"#E2E2E2\"></circle><path d=\"m13.486 20.77-6.157-6.064a3.749 3.749 0 0 1 2.652-6.398c1.004 0 1.947.39 2.656 1.098.15.236.15.425 0 .567-.15.141-.351.142-.602 0-1.098-1.098-3.011-1.097-4.105 0a2.945 2.945 0 0 0-.001 4.164l5.557 5.472 5.748-5.657c.993-1.127.928-2.884-.167-3.979-1.097-1.1-3.01-1.098-4.107 0l-2.588 2.558a1.206 1.206 0 0 0-.004 1.745c.5.483 1.312.483 1.812 0l2.224-2.19a.426.426 0 0 1 .593-.003.401.401 0 0 1 .004.575l-2.227 2.192a2.17 2.17 0 0 1-2.998.002 2.005 2.005 0 0 1 0-2.894l2.584-2.554a3.727 3.727 0 0 1 2.655-1.096c1.004 0 1.947.39 2.654 1.099 1.393 1.392 1.474 3.63.181 5.095\" fill=\"gray\"></path></g></svg><span class=\"bookListItem_text__bglOw\">찜하기</span></a><div class=\"bookListItem_sub_info__AfkOO\"><div class=\"bookListItem_item_sub__bTJ7u\"><a class=\"bookListItem_item_box__6Mjr9 linkAnchor\" data-i=\"32507605957\" data-nclick=\"N=a:stab1l*c.pricep,i:32507605957,r:6\" href=\"https://cr3.shopping.naver.com/book/adcr?x=iVlQkdteK1YMcziwQKjBEP%2F%2F%2Fw%3D%3DsYEjgDY9q9tdDVinsl1Pxn3SavTTTXiBICYZv52R7PIy57StUFLKmRh1TRW6ZM83NEerzm9pKXXc38rYaCzt7Hp7FWzSOT3260RpHjzTrkYvW6%2Fmgy3Y4KMhDn%2BJ6yE4yMQoUMOeBpXsr%2FDUcA16wxd9%2BKy%2Fm0d%2BgYWHtEf61Jo4Nj51x%2B5NtY5Hk3HVsotFZd6XR4pPaLRiYiJIYw70nSj3U7Q6MTwrU3FR7udgasvcSi1jPP8Yt02lZX7%2BJ%2FItcX3h64qwrGLq84J1p5pEmIIWsOdrz2GsDwyuzTkbiJMs%2Bd0TcbJiTH3Lys8V5OoWgcfY62%2F%2BxY4w5xbi4%2BHEPriFzevyVajC7NvPtfqyjQhzKHpHnQMgBBnCTd6N%2Bf0%2F3nej2z53PUS1TSUIYwD3Ij0eq7xa2bs6%2FahMzsv2lyyIoFUJht16kwWLdhhtLycuBzfNVo1KcSVSazeZg7M%2BAaU2IVjL6BFcjteNcmc1cUOjGup%2B6sy11P0ZgwthWWcP9gaTmsHOi4pxcTo6ldDev%2BIZMDaUx77Vs0mY%2FoeAAdLDks4qGbaANy%2Bv7%2F5bsJz2WmE11trPbpjt%2BN5%2Fk87U1GFp%2BiM69rtZoGmolz8iSxPEiQlobJat8LrVlXwYhm8Ln&amp;nvMid=32507605957&amp;catId=50010920\" rel=\"noopener\" target=\"_blank\"><div class=\"goods_title\">도서</div><div class=\"bookListItem_vendor__d_xBD\">판매처 <!-- -->137</div></a><span class=\"bookPrice_price__zr5dh\">최저<!-- --> <em>19,800</em>원</span></div><div class=\"bookListItem_item_sub__bTJ7u\"><a class=\"bookListItem_item_box__6Mjr9 linkAnchor\" data-i=\"32507605957\" data-nclick=\"N=a:stab1l*c.pricee,i:32507605957,r:6\" href=\"https://cr3.shopping.naver.com/book/adcr?x=iVlQkdteK1YMcziwQKjBEP%2F%2F%2Fw%3D%3DsYEjgDY9q9tdDVinsl1Pxn3SavTTTXiBICYZv52R7PIy57StUFLKmRh1TRW6ZM83NEerzm9pKXXc38rYaCzt7Hp7FWzSOT3260RpHjzTrkYvW6%2Fmgy3Y4KMhDn%2BJ6yE4yMQoUMOeBpXsr%2FDUcA16wxd9%2BKy%2Fm0d%2BgYWHtEf61Jo4Nj51x%2B5NtY5Hk3HVsotFZd6XR4pPaLRiYiJIYw70nSj3U7Q6MTwrU3FR7udgasvcSi1jPP8Yt02lZX7%2BJ%2FItcX3h64qwrGLq84J1p5pEmIIWsOdrz2GsDwyuzTkbiJMs%2Bd0TcbJiTH3Lys8V5OoWgcfY62%2F%2BxY4w5xbi4%2BHEPriFzevyVajC7NvPtfqyjQhzKHpHnQMgBBnCTd6N%2Bf0%2F3nej2z53PUS1TSUIYwD3Ij0eq7xa2bs6%2FahMzsv2lyyIoFUJht16kwWLdhhtLycuBzfNVo1KcSVSazeZg7M%2BAaU2IVjL6BFcjteNcmc1cUOjGup%2B6sy11P0ZgwthWWcP9gaTmsHOi4pxcTo6ldDev%2BIZMDaUx77Vs0mY%2FoeAAdLDks4qGbaANy%2Bv7%2F5bsJz2WmE11trPbpjt%2BN5%2Fk87U1GFp%2BiM69rtZoGmolz8iSxPEiQlobJat8LrVlXwYhm8Ln&amp;nvMid=32507605957&amp;catId=50010920\" rel=\"noopener\" target=\"_blank\"><div class=\"goods_title\">e북</div><div class=\"bookListItem_vendor__d_xBD\">판매처 <!-- -->4</div></a><span class=\"bookPrice_price__zr5dh\">구매<!-- --> <em>15,840</em>원</span></div><a class=\"bookListItem_btn_report__cjrVh linkAnchor\" data-nclick=\"N=a:stab1l*c.report,i:32507605957,r:6\" href=\"https://search.shopping.naver.com/book/report/product?nvMid=32507605957\" target=\"popup\"><svg class=\"bookListItem_svg_report__xc5Xi\" height=\"12\" width=\"12\" xmlns=\"http://www.w3.org/2000/svg\"><g fill=\"none\" fill-rule=\"evenodd\" stroke=\"#999\"><path d=\"M5.999 1a4.166 4.166 0 0 0-4.166 4.166V8.5h8.334V5.166A4.167 4.167 0 0 0 5.999 1z\" stroke-linejoin=\"round\"></path><path d=\"M5.583 3.083c-.92 0-1.666.746-1.666 1.667M1 11h10V8.5H1z\"></path></g></svg>신고</a></div></div></li>, <li class=\"bookListItem_item_book__1yCey\"><div class=\"bookListItem_item_inner__Fp7hN\"><a class=\"bookListItem_info_top__VgpiO linkAnchor\" data-i=\"40595743620\" data-nclick=\"N=a:stab1l*c.info,i:40595743620,r:7\" href=\"https://cr3.shopping.naver.com/book/adcr?x=tsG5Pqd9f76gIk%2FlLCJeDv%2F%2F%2Fw%3D%3DsnVGIlDeZJF21RU%2B9wIt0EADeK0r7UFHCh33%2FfIt%2BPKLoLdJsmLe0ih5KVXMQNR0tXNTKtPLgAU84kPJtSYgKBNxIjgbflltgvEQbLoNWERSccjp4dwMX%2Fb%2BwjPoiKkopDGFJhaa7gItRzyDgzBdRcVVd6Z%2BmZ5fvTALbBBPmfKIKVnJqocqfFwLra6hFr54BvFkdfWOmiTgcIZ49%2FP01L%2Fj6xDMeJaPTHtDIoNWns%2BM%2BoN22s6dKwm7Qn7boTIbfr9lKBJ72xSdUlAg54IqouvziKuqi6lvlwe2gIVAf2UAfPZcFNtCPSmp7XCTzD5M1nTA3JmbDOshDuZxVHcaj%2FBTTVoyc1TJkglBxgQt00u2t8T04SRo0fezYpMshUM8Evd1KjBnNlG933oUkWOZUeI%2BTI5LtliRqfOF7YCo%2BEYkxwqLe5s0YbfkYFtJ8t2dGf2AuPqje%2Bd5jNfTrpcYfVGBpBr2l2pK%2FEYpRPsmgr5YX%2Fw5SbY7hzDeFihWOPTYrGaDs4wHWQiSrERQ882wenGvdKAo9BBIP7%2BjIdE6Tpo1cIBDN8Tkg7QBeqHvLjYM3TL8Iaz9ooeT7ZukKAi%2BFxZ1kAkBxOq9C%2BB8UnbGJGC84GUD4Cse8hIjNblRwmU6N5cpi4XzhOrShino8V0zOvg%3D%3D&amp;nvMid=40595743620&amp;catId=50010920\" rel=\"noopener\" target=\"_blank\"><div class=\"bookListItem_thumbnail_area__JSZ_U\"><div class=\"bookListItem_thumbnail___NBwO\"><img alt=\"파이썬으로 쉽게 배우는 자료구조\" src=\"https://shopping-phinf.pstatic.net/main_4059574/40595743620.20230711115354.jpg?type=w300\"/></div></div><div class=\"bookListItem_text_area__hF892\"><div class=\"bookListItem_title__X7f9_\"><span class=\"bookListItem_text__bglOw\"><span>파이썬으로 쉽게 배우는 자료구조</span><span> (개정판)</span></span></div><div class=\"bookListItem_feature__txTlp\">컴퓨터/IT 70위</div><div class=\"bookListItem_detail__RBQ6x\"><div class=\"bookListItem_define_item__LdTib\"><span class=\"bookListItem_define_title__ujtNf\">저자</span><span class=\"bookListItem_define_data__kKD8t\">최영규, 천인국</span></div><div class=\"bookListItem_define_item__LdTib bookListItem_publish____VOP\"><div class=\"bookListItem_detail_publish__FgPYQ\"><span class=\"bookListItem_define_title__ujtNf\">출판</span><span class=\"bookListItem_define_data__kKD8t\">생능출판</span></div><div class=\"bookListItem_detail_date___byvG\">2023.06.26.</div></div></div><div class=\"bookListItem_grade__tywh2\"><span class=\"bookListItem_star__A_4PU\"><svg class=\"svg_star\" height=\"14\" width=\"15\" xmlns=\"http://www.w3.org/2000/svg\"><g fill=\"none\" fill-rule=\"evenodd\"><path d=\"m5.874 5.513-.374.005L1 5.58l3.867 2.944-.104.335L3.486 13 7.5 10.383l.298.193L11.514 13l-1.38-4.476.284-.217L14 5.58l-4.873-.067L7.5 1z\" fill=\"#FF5356\"></path><path d=\"M7.5 1 5.873 5.513 5.5 5.52 1 5.58l3.866 2.944-.103.335L3.486 13 7.5 10.383l.298.195L11.514 13l-1.381-4.476.285-.216L14 5.58l-4.873-.067z\" stroke=\"#F43435\" stroke-linecap=\"round\" stroke-linejoin=\"round\" stroke-width=\"0.95\"></path></g></svg>평점</span>3.0<!-- --> <span class=\"bookListItem_reviewer__kwofa\">(<!-- -->1<!-- -->)</span></div></div></a><a class=\"bookListItem_btn_zzim__Jg53Q N=a:stab1l*c.fav,i:40595743620,r:7\" data-i=\"40595743620\" data-nclick=\"N=a:stab1l*c.fav,i:40595743620,r:7\" href=\"#\" role=\"button\"><svg class=\"bookListItem_svg_zzim__z_wK4\" height=\"27\" width=\"27\" xmlns=\"http://www.w3.org/2000/svg\"><g fill=\"none\" fill-rule=\"evenodd\"><circle cx=\"13.5\" cy=\"13.5\" fill=\"#FFF\" r=\"13\" stroke=\"#E2E2E2\"></circle><path d=\"m13.486 20.77-6.157-6.064a3.749 3.749 0 0 1 2.652-6.398c1.004 0 1.947.39 2.656 1.098.15.236.15.425 0 .567-.15.141-.351.142-.602 0-1.098-1.098-3.011-1.097-4.105 0a2.945 2.945 0 0 0-.001 4.164l5.557 5.472 5.748-5.657c.993-1.127.928-2.884-.167-3.979-1.097-1.1-3.01-1.098-4.107 0l-2.588 2.558a1.206 1.206 0 0 0-.004 1.745c.5.483 1.312.483 1.812 0l2.224-2.19a.426.426 0 0 1 .593-.003.401.401 0 0 1 .004.575l-2.227 2.192a2.17 2.17 0 0 1-2.998.002 2.005 2.005 0 0 1 0-2.894l2.584-2.554a3.727 3.727 0 0 1 2.655-1.096c1.004 0 1.947.39 2.654 1.099 1.393 1.392 1.474 3.63.181 5.095\" fill=\"gray\"></path></g></svg><span class=\"bookListItem_text__bglOw\">찜하기</span></a><div class=\"bookListItem_sub_info__AfkOO\"><div class=\"bookListItem_item_sub__bTJ7u\"><a class=\"bookListItem_item_box__6Mjr9 linkAnchor\" data-i=\"40595743620\" data-nclick=\"N=a:stab1l*c.pricep,i:40595743620,r:7\" href=\"https://cr3.shopping.naver.com/book/adcr?x=tsG5Pqd9f76gIk%2FlLCJeDv%2F%2F%2Fw%3D%3DsnVGIlDeZJF21RU%2B9wIt0EADeK0r7UFHCh33%2FfIt%2BPKLoLdJsmLe0ih5KVXMQNR0tXNTKtPLgAU84kPJtSYgKBNxIjgbflltgvEQbLoNWERSccjp4dwMX%2Fb%2BwjPoiKkopDGFJhaa7gItRzyDgzBdRcVVd6Z%2BmZ5fvTALbBBPmfKIKVnJqocqfFwLra6hFr54BvFkdfWOmiTgcIZ49%2FP01L%2Fj6xDMeJaPTHtDIoNWns%2BM%2BoN22s6dKwm7Qn7boTIbfr9lKBJ72xSdUlAg54IqouvziKuqi6lvlwe2gIVAf2UAfPZcFNtCPSmp7XCTzD5M1nTA3JmbDOshDuZxVHcaj%2FBTTVoyc1TJkglBxgQt00u2t8T04SRo0fezYpMshUM8Evd1KjBnNlG933oUkWOZUeI%2BTI5LtliRqfOF7YCo%2BEYkxwqLe5s0YbfkYFtJ8t2dGf2AuPqje%2Bd5jNfTrpcYfVGBpBr2l2pK%2FEYpRPsmgr5YX%2Fw5SbY7hzDeFihWOPTYrGaDs4wHWQiSrERQ882wenGvdKAo9BBIP7%2BjIdE6Tpo1cIBDN8Tkg7QBeqHvLjYM3TL8Iaz9ooeT7ZukKAi%2BFxZ1kAkBxOq9C%2BB8UnbGJGC84GUD4Cse8hIjNblRwmU6N5cpi4XzhOrShino8V0zOvg%3D%3D&amp;nvMid=40595743620&amp;catId=50010920\" rel=\"noopener\" target=\"_blank\"><div class=\"goods_title\">도서</div><div class=\"bookListItem_vendor__d_xBD\">판매처 <!-- -->30</div></a><span class=\"bookPrice_price__zr5dh\">최저<!-- --> <em>26,100</em>원</span></div><a class=\"bookListItem_btn_report__cjrVh linkAnchor\" data-nclick=\"N=a:stab1l*c.report,i:40595743620,r:7\" href=\"https://search.shopping.naver.com/book/report/product?nvMid=40595743620\" target=\"popup\"><svg class=\"bookListItem_svg_report__xc5Xi\" height=\"12\" width=\"12\" xmlns=\"http://www.w3.org/2000/svg\"><g fill=\"none\" fill-rule=\"evenodd\" stroke=\"#999\"><path d=\"M5.999 1a4.166 4.166 0 0 0-4.166 4.166V8.5h8.334V5.166A4.167 4.167 0 0 0 5.999 1z\" stroke-linejoin=\"round\"></path><path d=\"M5.583 3.083c-.92 0-1.666.746-1.666 1.667M1 11h10V8.5H1z\"></path></g></svg>신고</a></div></div></li>, <li class=\"bookListItem_item_book__1yCey\"><div class=\"bookListItem_item_inner__Fp7hN\"><a class=\"bookListItem_info_top__VgpiO linkAnchor\" data-i=\"34233217628\" data-nclick=\"N=a:stab1l*c.info,i:34233217628,r:8\" href=\"https://cr3.shopping.naver.com/book/adcr?x=FEB%2FyLp9QdW7YRB7uo4F7f%2F%2F%2Fw%3D%3DsYXZdMv%2BSlS%2Fzgo0JRGee%2Fp7bwNXfK9okJVzR5lFNxsmJnnL5Sdl1Om0OnvyPouDNWsHgd59aodcZg4noxYK97cez10KvC75IXKXEmsZjpY3VMc6ISzfSnRmT9F0G4N3nY8EigvBQinIZsg%2B2TARrJsv%2BjB2erv%2BZ%2Brrs5VHOiTTt4DqiWzfh638rk6r8T8q2b07ghmkLuHkkg743TIAdMP7IntYW81Xs6qvX%2Bsnxc5xra%2BpI6UJu%2BTwtNWUwqdlIxG2P0Q%2Fj4lhGbx8gGDwffhzzON9aTM%2Fdo2I2z9yt2AmFo49JCi6J6VM8a%2Bwjzt8%2BFqPkbhZKyIpiX5j%2F%2BxkCe1WgmKC6jv4on9gzTYjdIY2xfAxiZlReU27hOsieXre3SWkruqzLNR%2BNlNcFNXSh%2Br2rjFsnXw88P3iZF1ToG3SY%2FdVuToRNBhAmcloqDZs%2FqdBNsTtFRV22m6lbk6e%2BY24MBrv0odS5b4MSy65w6Etf0yhAU4p06hPTGmJPKPmljfZ6iDk3KJfrgos6patt1FMpu6gmuPI6RDtROkHuF9vTGB3c8PkbW4YKhe2hFTs8gq8x2MrzjCFf0q4xhTxb9Kz4gs1H4l0WZCAcYkV52Ns%3D&amp;nvMid=34233217628&amp;catId=50010920\" rel=\"noopener\" target=\"_blank\"><div class=\"bookListItem_thumbnail_area__JSZ_U\"><div class=\"bookListItem_thumbnail___NBwO\"><img alt=\"디딤돌 파이썬\" src=\"https://shopping-phinf.pstatic.net/main_3423321/34233217628.20221019114545.jpg?type=w300\"/></div></div><div class=\"bookListItem_text_area__hF892\"><div class=\"bookListItem_title__X7f9_\"><span class=\"bookListItem_text__bglOw\"><span>디딤돌 파이썬</span><span> (구조적 프로그래밍으로 설명한 파이썬 기초)</span></span></div><div class=\"bookListItem_detail__RBQ6x\"><div class=\"bookListItem_define_item__LdTib\"><span class=\"bookListItem_define_title__ujtNf\">저자</span><span class=\"bookListItem_define_data__kKD8t\">이찬수</span></div><div class=\"bookListItem_define_item__LdTib bookListItem_publish____VOP\"><div class=\"bookListItem_detail_publish__FgPYQ\"><span class=\"bookListItem_define_title__ujtNf\">출판</span><span class=\"bookListItem_define_data__kKD8t\">인피니티북스</span></div><div class=\"bookListItem_detail_date___byvG\">2022.08.23.</div></div></div></div></a><a class=\"bookListItem_btn_zzim__Jg53Q N=a:stab1l*c.fav,i:34233217628,r:8\" data-i=\"34233217628\" data-nclick=\"N=a:stab1l*c.fav,i:34233217628,r:8\" href=\"#\" role=\"button\"><svg class=\"bookListItem_svg_zzim__z_wK4\" height=\"27\" width=\"27\" xmlns=\"http://www.w3.org/2000/svg\"><g fill=\"none\" fill-rule=\"evenodd\"><circle cx=\"13.5\" cy=\"13.5\" fill=\"#FFF\" r=\"13\" stroke=\"#E2E2E2\"></circle><path d=\"m13.486 20.77-6.157-6.064a3.749 3.749 0 0 1 2.652-6.398c1.004 0 1.947.39 2.656 1.098.15.236.15.425 0 .567-.15.141-.351.142-.602 0-1.098-1.098-3.011-1.097-4.105 0a2.945 2.945 0 0 0-.001 4.164l5.557 5.472 5.748-5.657c.993-1.127.928-2.884-.167-3.979-1.097-1.1-3.01-1.098-4.107 0l-2.588 2.558a1.206 1.206 0 0 0-.004 1.745c.5.483 1.312.483 1.812 0l2.224-2.19a.426.426 0 0 1 .593-.003.401.401 0 0 1 .004.575l-2.227 2.192a2.17 2.17 0 0 1-2.998.002 2.005 2.005 0 0 1 0-2.894l2.584-2.554a3.727 3.727 0 0 1 2.655-1.096c1.004 0 1.947.39 2.654 1.099 1.393 1.392 1.474 3.63.181 5.095\" fill=\"gray\"></path></g></svg><span class=\"bookListItem_text__bglOw\">찜하기</span></a><div class=\"bookListItem_sub_info__AfkOO\"><div class=\"bookListItem_item_sub__bTJ7u\"><a class=\"bookListItem_item_box__6Mjr9 linkAnchor\" data-i=\"34233217628\" data-nclick=\"N=a:stab1l*c.pricep,i:34233217628,r:8\" href=\"https://cr3.shopping.naver.com/book/adcr?x=FEB%2FyLp9QdW7YRB7uo4F7f%2F%2F%2Fw%3D%3DsYXZdMv%2BSlS%2Fzgo0JRGee%2Fp7bwNXfK9okJVzR5lFNxsmJnnL5Sdl1Om0OnvyPouDNWsHgd59aodcZg4noxYK97cez10KvC75IXKXEmsZjpY3VMc6ISzfSnRmT9F0G4N3nY8EigvBQinIZsg%2B2TARrJsv%2BjB2erv%2BZ%2Brrs5VHOiTTt4DqiWzfh638rk6r8T8q2b07ghmkLuHkkg743TIAdMP7IntYW81Xs6qvX%2Bsnxc5xra%2BpI6UJu%2BTwtNWUwqdlIxG2P0Q%2Fj4lhGbx8gGDwffhzzON9aTM%2Fdo2I2z9yt2AmFo49JCi6J6VM8a%2Bwjzt8%2BFqPkbhZKyIpiX5j%2F%2BxkCe1WgmKC6jv4on9gzTYjdIY2xfAxiZlReU27hOsieXre3SWkruqzLNR%2BNlNcFNXSh%2Br2rjFsnXw88P3iZF1ToG3SY%2FdVuToRNBhAmcloqDZs%2FqdBNsTtFRV22m6lbk6e%2BY24MBrv0odS5b4MSy65w6Etf0yhAU4p06hPTGmJPKPmljfZ6iDk3KJfrgos6patt1FMpu6gmuPI6RDtROkHuF9vTGB3c8PkbW4YKhe2hFTs8gq8x2MrzjCFf0q4xhTxb9Kz4gs1H4l0WZCAcYkV52Ns%3D&amp;nvMid=34233217628&amp;catId=50010920\" rel=\"noopener\" target=\"_blank\"><div class=\"goods_title\">도서</div><div class=\"bookListItem_vendor__d_xBD\">판매처 <!-- -->23</div></a><span class=\"bookPrice_price__zr5dh\">최저<!-- --> <em>26,100</em>원</span></div><a class=\"bookListItem_btn_report__cjrVh linkAnchor\" data-nclick=\"N=a:stab1l*c.report,i:34233217628,r:8\" href=\"https://search.shopping.naver.com/book/report/product?nvMid=34233217628\" target=\"popup\"><svg class=\"bookListItem_svg_report__xc5Xi\" height=\"12\" width=\"12\" xmlns=\"http://www.w3.org/2000/svg\"><g fill=\"none\" fill-rule=\"evenodd\" stroke=\"#999\"><path d=\"M5.999 1a4.166 4.166 0 0 0-4.166 4.166V8.5h8.334V5.166A4.167 4.167 0 0 0 5.999 1z\" stroke-linejoin=\"round\"></path><path d=\"M5.583 3.083c-.92 0-1.666.746-1.666 1.667M1 11h10V8.5H1z\"></path></g></svg>신고</a></div></div></li>, <li class=\"bookListItem_item_book__1yCey\"><div class=\"bookListItem_item_inner__Fp7hN\"><a class=\"bookListItem_info_top__VgpiO linkAnchor\" data-i=\"33230969618\" data-nclick=\"N=a:stab1l*c.info,i:33230969618,r:9\" href=\"https://cr3.shopping.naver.com/book/adcr?x=ATOff4R0MyLcl%2BkJpMyj4%2F%2F%2F%2Fw%3D%3DscYsrN%2FlgFB%2BHzHeBjXi7xwkomjo%2BwoIZO4ZmrFkN4M2JnnL5Sdl1Om0OnvyPouDNyQgQIxbeElehn9%2BCiAjFzcez10KvC75IXKXEmsZjpY3VMc6ISzfSnRmT9F0G4N3nY8EigvBQinIZsg%2B2TARrJsv%2BjB2erv%2BZ%2Brrs5VHOiTTt4DqiWzfh638rk6r8T8q2nj6%2BMaClI2dOjtwkFtHAz%2F7IntYW81Xs6qvX%2Bsnxc5xra%2BpI6UJu%2BTwtNWUwqdlIxG2P0Q%2Fj4lhGbx8gGDwffhzzON9aTM%2Fdo2I2z9yt2AmFo49JCi6J6VM8a%2Bwjzt8%2BFqPkbhZKyIpiX5j%2F%2BxkCe1WgmKC6jv4on9gzTYjdIY1a%2BWUwWSj337C7MH2I49EGSWkruqzLNR%2BNlNcFNXSh%2Br2rjFsnXw88P3iZF1ToG3SFVE8rlExvmHGMJhMgVnWnQRNPDTvcTqfT%2BBa3TV9HfcW3dvB2t9g8YSUuJjNSbYQh6oPiVMYfbSvVF%2BLgCVnUlyA5ELuE1Rin0qYSkS7q1eHHF%2BQOFc34Kz2n7%2Bz8kQ7TGB3c8PkbW4YKhe2hFTs8glF6eu4M8cUOPmDD4T%2FYfqz4gs1H4l0WZCAcYkV52Ns%3D&amp;nvMid=33230969618&amp;catId=50010920\" rel=\"noopener\" target=\"_blank\"><div class=\"bookListItem_thumbnail_area__JSZ_U\"><div class=\"bookListItem_thumbnail___NBwO\"><img alt=\"파이썬 스타트\" src=\"https://shopping-phinf.pstatic.net/main_3323096/33230969618.20221019120731.jpg?type=w300\"/></div></div><div class=\"bookListItem_text_area__hF892\"><div class=\"bookListItem_title__X7f9_\"><span class=\"bookListItem_text__bglOw\"><span>파이썬 스타트</span><span> (AI로 가는 첫걸음)</span></span></div><div class=\"bookListItem_detail__RBQ6x\"><div class=\"bookListItem_define_item__LdTib\"><span class=\"bookListItem_define_title__ujtNf\">저자</span><span class=\"bookListItem_define_data__kKD8t\">박희재</span></div><div class=\"bookListItem_define_item__LdTib bookListItem_publish____VOP\"><div class=\"bookListItem_detail_publish__FgPYQ\"><span class=\"bookListItem_define_title__ujtNf\">출판</span><span class=\"bookListItem_define_data__kKD8t\">인피니티북스</span></div><div class=\"bookListItem_detail_date___byvG\">2022.06.28.</div></div></div></div></a><a class=\"bookListItem_btn_zzim__Jg53Q N=a:stab1l*c.fav,i:33230969618,r:9\" data-i=\"33230969618\" data-nclick=\"N=a:stab1l*c.fav,i:33230969618,r:9\" href=\"#\" role=\"button\"><svg class=\"bookListItem_svg_zzim__z_wK4\" height=\"27\" width=\"27\" xmlns=\"http://www.w3.org/2000/svg\"><g fill=\"none\" fill-rule=\"evenodd\"><circle cx=\"13.5\" cy=\"13.5\" fill=\"#FFF\" r=\"13\" stroke=\"#E2E2E2\"></circle><path d=\"m13.486 20.77-6.157-6.064a3.749 3.749 0 0 1 2.652-6.398c1.004 0 1.947.39 2.656 1.098.15.236.15.425 0 .567-.15.141-.351.142-.602 0-1.098-1.098-3.011-1.097-4.105 0a2.945 2.945 0 0 0-.001 4.164l5.557 5.472 5.748-5.657c.993-1.127.928-2.884-.167-3.979-1.097-1.1-3.01-1.098-4.107 0l-2.588 2.558a1.206 1.206 0 0 0-.004 1.745c.5.483 1.312.483 1.812 0l2.224-2.19a.426.426 0 0 1 .593-.003.401.401 0 0 1 .004.575l-2.227 2.192a2.17 2.17 0 0 1-2.998.002 2.005 2.005 0 0 1 0-2.894l2.584-2.554a3.727 3.727 0 0 1 2.655-1.096c1.004 0 1.947.39 2.654 1.099 1.393 1.392 1.474 3.63.181 5.095\" fill=\"gray\"></path></g></svg><span class=\"bookListItem_text__bglOw\">찜하기</span></a><div class=\"bookListItem_sub_info__AfkOO\"><div class=\"bookListItem_item_sub__bTJ7u\"><a class=\"bookListItem_item_box__6Mjr9 linkAnchor\" data-i=\"33230969618\" data-nclick=\"N=a:stab1l*c.pricep,i:33230969618,r:9\" href=\"https://cr3.shopping.naver.com/book/adcr?x=ATOff4R0MyLcl%2BkJpMyj4%2F%2F%2F%2Fw%3D%3DscYsrN%2FlgFB%2BHzHeBjXi7xwkomjo%2BwoIZO4ZmrFkN4M2JnnL5Sdl1Om0OnvyPouDNyQgQIxbeElehn9%2BCiAjFzcez10KvC75IXKXEmsZjpY3VMc6ISzfSnRmT9F0G4N3nY8EigvBQinIZsg%2B2TARrJsv%2BjB2erv%2BZ%2Brrs5VHOiTTt4DqiWzfh638rk6r8T8q2nj6%2BMaClI2dOjtwkFtHAz%2F7IntYW81Xs6qvX%2Bsnxc5xra%2BpI6UJu%2BTwtNWUwqdlIxG2P0Q%2Fj4lhGbx8gGDwffhzzON9aTM%2Fdo2I2z9yt2AmFo49JCi6J6VM8a%2Bwjzt8%2BFqPkbhZKyIpiX5j%2F%2BxkCe1WgmKC6jv4on9gzTYjdIY1a%2BWUwWSj337C7MH2I49EGSWkruqzLNR%2BNlNcFNXSh%2Br2rjFsnXw88P3iZF1ToG3SFVE8rlExvmHGMJhMgVnWnQRNPDTvcTqfT%2BBa3TV9HfcW3dvB2t9g8YSUuJjNSbYQh6oPiVMYfbSvVF%2BLgCVnUlyA5ELuE1Rin0qYSkS7q1eHHF%2BQOFc34Kz2n7%2Bz8kQ7TGB3c8PkbW4YKhe2hFTs8glF6eu4M8cUOPmDD4T%2FYfqz4gs1H4l0WZCAcYkV52Ns%3D&amp;nvMid=33230969618&amp;catId=50010920\" rel=\"noopener\" target=\"_blank\"><div class=\"goods_title\">도서</div><div class=\"bookListItem_vendor__d_xBD\">판매처 <!-- -->23</div></a><span class=\"bookPrice_price__zr5dh\">최저<!-- --> <em>22,500</em>원</span></div><a class=\"bookListItem_btn_report__cjrVh linkAnchor\" data-nclick=\"N=a:stab1l*c.report,i:33230969618,r:9\" href=\"https://search.shopping.naver.com/book/report/product?nvMid=33230969618\" target=\"popup\"><svg class=\"bookListItem_svg_report__xc5Xi\" height=\"12\" width=\"12\" xmlns=\"http://www.w3.org/2000/svg\"><g fill=\"none\" fill-rule=\"evenodd\" stroke=\"#999\"><path d=\"M5.999 1a4.166 4.166 0 0 0-4.166 4.166V8.5h8.334V5.166A4.167 4.167 0 0 0 5.999 1z\" stroke-linejoin=\"round\"></path><path d=\"M5.583 3.083c-.92 0-1.666.746-1.666 1.667M1 11h10V8.5H1z\"></path></g></svg>신고</a></div></div></li>, <li class=\"bookListItem_item_book__1yCey\"><div class=\"bookListItem_item_inner__Fp7hN\"><a class=\"bookListItem_info_top__VgpiO linkAnchor\" data-i=\"36019497623\" data-nclick=\"N=a:stab1l*c.info,i:36019497623,r:10\" href=\"https://cr3.shopping.naver.com/book/adcr?x=M9viXt4B1ig3kEzl61CZAf%2F%2F%2Fw%3D%3DsBhWgxsIhYtoMbHmStc9x9Jv4ojzsGl0vonMp3eI1Zpq57StUFLKmRh1TRW6ZM83NhPZMJ2V8%2BehhSTjMaB0HPZ7FWzSOT3260RpHjzTrkYvW6%2Fmgy3Y4KMhDn%2BJ6yE4yMQoUMOeBpXsr%2FDUcA16wxd9%2BKy%2Fm0d%2BgYWHtEf61Jo4Nj51x%2B5NtY5Hk3HVsotFZ0gXZQV2KGQx7NtsEuL91cU8WkLc%2Fg0DrJxRdZzdeiZ4Si1jPP8Yt02lZX7%2BJ%2FItcX3h64qwrGLq84J1p5pEmIIWsOdrz2GsDwyuzTkbiJMs%2Bd0TcbJiTH3Lys8V5OoWgcfY62%2F%2BxY4w5xbi4%2BHEPriFzevyVajC7NvPtfqyjQhz2G%2FIxs263uVVLPv6ypRSodXuuPsatgYU9id2jTf8AfUeq7xa2bs6%2FahMzsv2lyyKXi14EzCUiDsS0Ojz3JGkLzfNVo1KcSVSazeZg7M%2BAachmPLalC3ORMYUopjiGStdQLZwCYq0SDcJrkbSnSgouUsc9A%2FGuqi9z9TEzQOB7ihRA8mKc4rx14ZcD6ARy9rLnUozSk6MgpJeDpfnt31s2gRYApx9AEBB0K9mzWlIk%2BzgZQPgKx7yEiM1uVHCZTo3lymLhfOE6tKGKejxXTM6%2B&amp;nvMid=36019497623&amp;catId=50010920\" rel=\"noopener\" target=\"_blank\"><div class=\"bookListItem_thumbnail_area__JSZ_U\"><div class=\"bookListItem_thumbnail___NBwO\"><img alt=\"자기주도 파이썬\" src=\"https://shopping-phinf.pstatic.net/main_3601949/36019497623.20230801122946.jpg?type=w300\"/></div></div><div class=\"bookListItem_text_area__hF892\"><div class=\"bookListItem_title__X7f9_\"><span class=\"bookListItem_text__bglOw\"><span>자기주도 파이썬</span><span> (정보영재 및 올림피아드를 위한 최적의 입문서)</span></span></div><div class=\"bookListItem_detail__RBQ6x\"><div class=\"bookListItem_define_item__LdTib\"><span class=\"bookListItem_define_title__ujtNf\">저자</span><span class=\"bookListItem_define_data__kKD8t\">한컴에듀케이션 알고리즘연구소</span></div><div class=\"bookListItem_define_item__LdTib bookListItem_publish____VOP\"><div class=\"bookListItem_detail_publish__FgPYQ\"><span class=\"bookListItem_define_title__ujtNf\">출판</span><span class=\"bookListItem_define_data__kKD8t\">복두출판사</span></div><div class=\"bookListItem_detail_date___byvG\">2022.11.15.</div></div></div><div class=\"bookListItem_grade__tywh2\"><span class=\"bookListItem_star__A_4PU\"><svg class=\"svg_star\" height=\"14\" width=\"15\" xmlns=\"http://www.w3.org/2000/svg\"><g fill=\"none\" fill-rule=\"evenodd\"><path d=\"m5.874 5.513-.374.005L1 5.58l3.867 2.944-.104.335L3.486 13 7.5 10.383l.298.193L11.514 13l-1.38-4.476.284-.217L14 5.58l-4.873-.067L7.5 1z\" fill=\"#FF5356\"></path><path d=\"M7.5 1 5.873 5.513 5.5 5.52 1 5.58l3.866 2.944-.103.335L3.486 13 7.5 10.383l.298.195L11.514 13l-1.381-4.476.285-.216L14 5.58l-4.873-.067z\" stroke=\"#F43435\" stroke-linecap=\"round\" stroke-linejoin=\"round\" stroke-width=\"0.95\"></path></g></svg>평점</span>5.0<!-- --> <span class=\"bookListItem_reviewer__kwofa\">(<!-- -->2<!-- -->)</span></div></div></a><a class=\"bookListItem_btn_zzim__Jg53Q N=a:stab1l*c.fav,i:36019497623,r:10\" data-i=\"36019497623\" data-nclick=\"N=a:stab1l*c.fav,i:36019497623,r:10\" href=\"#\" role=\"button\"><svg class=\"bookListItem_svg_zzim__z_wK4\" height=\"27\" width=\"27\" xmlns=\"http://www.w3.org/2000/svg\"><g fill=\"none\" fill-rule=\"evenodd\"><circle cx=\"13.5\" cy=\"13.5\" fill=\"#FFF\" r=\"13\" stroke=\"#E2E2E2\"></circle><path d=\"m13.486 20.77-6.157-6.064a3.749 3.749 0 0 1 2.652-6.398c1.004 0 1.947.39 2.656 1.098.15.236.15.425 0 .567-.15.141-.351.142-.602 0-1.098-1.098-3.011-1.097-4.105 0a2.945 2.945 0 0 0-.001 4.164l5.557 5.472 5.748-5.657c.993-1.127.928-2.884-.167-3.979-1.097-1.1-3.01-1.098-4.107 0l-2.588 2.558a1.206 1.206 0 0 0-.004 1.745c.5.483 1.312.483 1.812 0l2.224-2.19a.426.426 0 0 1 .593-.003.401.401 0 0 1 .004.575l-2.227 2.192a2.17 2.17 0 0 1-2.998.002 2.005 2.005 0 0 1 0-2.894l2.584-2.554a3.727 3.727 0 0 1 2.655-1.096c1.004 0 1.947.39 2.654 1.099 1.393 1.392 1.474 3.63.181 5.095\" fill=\"gray\"></path></g></svg><span class=\"bookListItem_text__bglOw\">찜하기</span></a><div class=\"bookListItem_sub_info__AfkOO\"><div class=\"bookListItem_item_sub__bTJ7u\"><a class=\"bookListItem_item_box__6Mjr9 linkAnchor\" data-i=\"36019497623\" data-nclick=\"N=a:stab1l*c.pricep,i:36019497623,r:10\" href=\"https://cr3.shopping.naver.com/book/adcr?x=M9viXt4B1ig3kEzl61CZAf%2F%2F%2Fw%3D%3DsBhWgxsIhYtoMbHmStc9x9Jv4ojzsGl0vonMp3eI1Zpq57StUFLKmRh1TRW6ZM83NhPZMJ2V8%2BehhSTjMaB0HPZ7FWzSOT3260RpHjzTrkYvW6%2Fmgy3Y4KMhDn%2BJ6yE4yMQoUMOeBpXsr%2FDUcA16wxd9%2BKy%2Fm0d%2BgYWHtEf61Jo4Nj51x%2B5NtY5Hk3HVsotFZ0gXZQV2KGQx7NtsEuL91cU8WkLc%2Fg0DrJxRdZzdeiZ4Si1jPP8Yt02lZX7%2BJ%2FItcX3h64qwrGLq84J1p5pEmIIWsOdrz2GsDwyuzTkbiJMs%2Bd0TcbJiTH3Lys8V5OoWgcfY62%2F%2BxY4w5xbi4%2BHEPriFzevyVajC7NvPtfqyjQhz2G%2FIxs263uVVLPv6ypRSodXuuPsatgYU9id2jTf8AfUeq7xa2bs6%2FahMzsv2lyyKXi14EzCUiDsS0Ojz3JGkLzfNVo1KcSVSazeZg7M%2BAachmPLalC3ORMYUopjiGStdQLZwCYq0SDcJrkbSnSgouUsc9A%2FGuqi9z9TEzQOB7ihRA8mKc4rx14ZcD6ARy9rLnUozSk6MgpJeDpfnt31s2gRYApx9AEBB0K9mzWlIk%2BzgZQPgKx7yEiM1uVHCZTo3lymLhfOE6tKGKejxXTM6%2B&amp;nvMid=36019497623&amp;catId=50010920\" rel=\"noopener\" target=\"_blank\"><div class=\"goods_title\">도서</div><div class=\"bookListItem_vendor__d_xBD\">판매처 <!-- -->21</div></a><span class=\"bookPrice_price__zr5dh\">최저<!-- --> <em>15,300</em>원</span></div><div class=\"bookListItem_item_sub__bTJ7u\"><a class=\"bookListItem_item_box__6Mjr9 linkAnchor\" data-i=\"36019497623\" data-nclick=\"N=a:stab1l*c.pricee,i:36019497623,r:10\" href=\"https://cr3.shopping.naver.com/book/adcr?x=M9viXt4B1ig3kEzl61CZAf%2F%2F%2Fw%3D%3DsBhWgxsIhYtoMbHmStc9x9Jv4ojzsGl0vonMp3eI1Zpq57StUFLKmRh1TRW6ZM83NhPZMJ2V8%2BehhSTjMaB0HPZ7FWzSOT3260RpHjzTrkYvW6%2Fmgy3Y4KMhDn%2BJ6yE4yMQoUMOeBpXsr%2FDUcA16wxd9%2BKy%2Fm0d%2BgYWHtEf61Jo4Nj51x%2B5NtY5Hk3HVsotFZ0gXZQV2KGQx7NtsEuL91cU8WkLc%2Fg0DrJxRdZzdeiZ4Si1jPP8Yt02lZX7%2BJ%2FItcX3h64qwrGLq84J1p5pEmIIWsOdrz2GsDwyuzTkbiJMs%2Bd0TcbJiTH3Lys8V5OoWgcfY62%2F%2BxY4w5xbi4%2BHEPriFzevyVajC7NvPtfqyjQhz2G%2FIxs263uVVLPv6ypRSodXuuPsatgYU9id2jTf8AfUeq7xa2bs6%2FahMzsv2lyyKXi14EzCUiDsS0Ojz3JGkLzfNVo1KcSVSazeZg7M%2BAachmPLalC3ORMYUopjiGStdQLZwCYq0SDcJrkbSnSgouUsc9A%2FGuqi9z9TEzQOB7ihRA8mKc4rx14ZcD6ARy9rLnUozSk6MgpJeDpfnt31s2gRYApx9AEBB0K9mzWlIk%2BzgZQPgKx7yEiM1uVHCZTo3lymLhfOE6tKGKejxXTM6%2B&amp;nvMid=36019497623&amp;catId=50010920\" rel=\"noopener\" target=\"_blank\"><div class=\"goods_title\">e북</div><div class=\"bookListItem_vendor__d_xBD\">판매처 <!-- -->3</div></a><span class=\"bookPrice_price__zr5dh\">구매<!-- --> <em>15,300</em>원</span></div><a class=\"bookListItem_btn_report__cjrVh linkAnchor\" data-nclick=\"N=a:stab1l*c.report,i:36019497623,r:10\" href=\"https://search.shopping.naver.com/book/report/product?nvMid=36019497623\" target=\"popup\"><svg class=\"bookListItem_svg_report__xc5Xi\" height=\"12\" width=\"12\" xmlns=\"http://www.w3.org/2000/svg\"><g fill=\"none\" fill-rule=\"evenodd\" stroke=\"#999\"><path d=\"M5.999 1a4.166 4.166 0 0 0-4.166 4.166V8.5h8.334V5.166A4.167 4.167 0 0 0 5.999 1z\" stroke-linejoin=\"round\"></path><path d=\"M5.583 3.083c-.92 0-1.666.746-1.666 1.667M1 11h10V8.5H1z\"></path></g></svg>신고</a></div></div></li>]\n"
     ]
    }
   ],
   "source": [
    "book_list = soup.find(\"ul\",\"list_book\").find_all(\"li\")\n",
    "print(book_list)"
   ]
  },
  {
   "cell_type": "code",
   "execution_count": 21,
   "id": "8912bf3f",
   "metadata": {},
   "outputs": [
    {
     "data": {
      "text/plain": [
       "'파이썬과 데이터 과학 (파이썬으로 시작하는 데이터 과학과 기계학습)'"
      ]
     },
     "execution_count": 21,
     "metadata": {},
     "output_type": "execute_result"
    }
   ],
   "source": [
    "book_list[0].find(\"span\",\"bookListItem_text__bglOw\").text #title"
   ]
  },
  {
   "cell_type": "markdown",
   "id": "388c5fae",
   "metadata": {},
   "source": [
    "# book_list에서 10권의 제목, 랭킹, 저자, 출판사, 가격 등 정보 추출해서 모으기\n",
    "## 추출한 정보는 pandas 데이터프레임으로 변환하기"
   ]
  },
  {
   "cell_type": "code",
   "execution_count": 22,
   "id": "df8746ef",
   "metadata": {},
   "outputs": [
    {
     "data": {
      "text/plain": [
       "'컴퓨터/IT 148위'"
      ]
     },
     "execution_count": 22,
     "metadata": {},
     "output_type": "execute_result"
    }
   ],
   "source": [
    "book_list[0].find(\"div\",\"bookListItem_feature__txTlp\").text #ranking"
   ]
  },
  {
   "cell_type": "code",
   "execution_count": 23,
   "id": "ea3707ca",
   "metadata": {
    "scrolled": false
   },
   "outputs": [],
   "source": [
    "book_info = []\n",
    "for book in book_list:\n",
    "    title = book.find(\"span\",\"bookListItem_text__bglOw\").text\n",
    "    #ranking = book.find(\"div\",\"bookListItem_feature__txTlp\").text\n",
    "    if book.find(\"div\",\"bookListItem_feature__txTlp\") is not None:\n",
    "        ranking = book.find(\"div\",\"bookListItem_feature__txTlp\").text\n",
    "    else:\n",
    "        ranking = None\n",
    "    author = book.find(\"span\",\"bookListItem_define_data__kKD8t\").text\n",
    "    pubulisher = book.find(\"div\", \"bookListItem_detail_publish__FgPYQ\").find(\"span\",\"bookListItem_define_data__kKD8t\").text\n",
    "    #starpoint = book.find(\"div\",\"bookListItem_grade__tywh2\").text[2:5]\n",
    "    if book.find(\"div\",\"bookListItem_grade__tywh2\") is not None:\n",
    "        starpoint = book.find(\"div\",\"bookListItem_grade__tywh2\").text[2:5]\n",
    "    else:\n",
    "        starpoint = None\n",
    "    price = book.find(\"span\", \"bookPrice_price__zr5dh\").find(\"em\").text\n",
    "    book_info.append([title, ranking, author, pubulisher, starpoint, price])"
   ]
  },
  {
   "cell_type": "code",
   "execution_count": 24,
   "id": "8f1e5e4b",
   "metadata": {
    "scrolled": true
   },
   "outputs": [
    {
     "name": "stdout",
     "output_type": "stream",
     "text": [
      "[['파이썬과 데이터 과학 (파이썬으로 시작하는 데이터 과학과 기계학습)', '컴퓨터/IT 148위', '천인국, 박동규', '생능출판', '5.0', '24,700'], ['두근두근 파이썬 (만들면서 배우는)', '컴퓨터/IT 73위', '천인국', '생능출판', '4.7', '23,750'], ['코딩 뇌를 깨우는 파이썬 (문제 해결 능력을 키우는 컴퓨팅 사고부터 알고리즘, 데이터 분석, 머신러닝까지)', '컴퓨터/IT 80위', '존 V. 구태그', '한빛미디어', None, '31,500'], ['Do it! 점프 투 파이썬 (중학생도 첫날부터 실습하는 초고속 입문서)', '컴퓨터/IT 5위', '박응용', '이지스퍼블리싱', '4.9', '19,800'], ['나는 파이썬으로 머신러닝한다 2 (인공지능 자신감 UP 인공지능 약간 매운맛)', '컴퓨터/IT 79위', '장병철, 이지항 외 2명', '씨마스', '5.0', '20,700'], ['혼자 공부하는 파이썬 (1:1 과외하듯 배우는 프로그래밍 자습서)', '컴퓨터/IT 9위', '윤인성', '한빛미디어', '4.9', '19,800'], ['파이썬으로 쉽게 배우는 자료구조 (개정판)', '컴퓨터/IT 70위', '최영규, 천인국', '생능출판', '3.0', '26,100'], ['디딤돌 파이썬 (구조적 프로그래밍으로 설명한 파이썬 기초)', None, '이찬수', '인피니티북스', None, '26,100'], ['파이썬 스타트 (AI로 가는 첫걸음)', None, '박희재', '인피니티북스', None, '22,500'], ['자기주도 파이썬 (정보영재 및 올림피아드를 위한 최적의 입문서)', None, '한컴에듀케이션 알고리즘연구소', '복두출판사', '5.0', '15,300']]\n"
     ]
    }
   ],
   "source": [
    "print(book_info)"
   ]
  },
  {
   "cell_type": "code",
   "execution_count": 25,
   "id": "c4a9b69b",
   "metadata": {},
   "outputs": [],
   "source": [
    "book_info2 = []\n",
    "for book in book_list:\n",
    "    title = book.find(\"span\",\"bookListItem_text__bglOw\").text\n",
    "    #ranking = book.find(\"div\",\"bookListItem_feature__txTlp\").text\n",
    "    ranking = book.find(\"div\",\"bookListItem_feature__txTlp\").text if book.find(\"div\",\"bookListItem_feature__txTlp\") !=None else \"None\"\n",
    "    author = book.find(\"span\",\"bookListItem_define_data__kKD8t\").text\n",
    "    pubulisher = book.find(\"div\", \"bookListItem_detail_publish__FgPYQ\").find(\"span\",\"bookListItem_define_data__kKD8t\").text\n",
    "    #starpoint = book.find(\"div\",\"bookListItem_grade__tywh2\").text[2:5]\n",
    "    if book.find(\"div\",\"bookListItem_grade__tywh2\") != None:\n",
    "        starpoint = book.find(\"div\",\"bookListItem_grade__tywh2\").text[2:5]\n",
    "    else:\n",
    "        starpoint = 0\n",
    "    #price = book.find(\"span\", \"bookPrice_price__zr5dh\").find(\"em\").text\n",
    "    \n",
    "    if len(book.find_all(\"span\", \"bookPrice_price__zr5dh\")) < 2:\n",
    "        price1 = book.find_all(\"span\", \"bookPrice_price__zr5dh\")[0].find(\"em\").text\n",
    "        price2 = \"None\"\n",
    "    else:\n",
    "        price1 = book.find_all(\"span\", \"bookPrice_price__zr5dh\")[0].find(\"em\").text\n",
    "        price2 = book.find_all(\"span\", \"bookPrice_price__zr5dh\")[1].find(\"em\").text\n",
    "        \n",
    "    book_info2.append([title, ranking, author, pubulisher, starpoint, price1, price2])"
   ]
  },
  {
   "cell_type": "code",
   "execution_count": 72,
   "id": "fa6c8646",
   "metadata": {},
   "outputs": [
    {
     "data": {
      "text/plain": [
       "'15,300'"
      ]
     },
     "execution_count": 72,
     "metadata": {},
     "output_type": "execute_result"
    }
   ],
   "source": [
    "book.find_all(\"span\", \"bookPrice_price__zr5dh\")[1].find(\"em\").text"
   ]
  },
  {
   "cell_type": "code",
   "execution_count": 26,
   "id": "7d9568fb",
   "metadata": {},
   "outputs": [
    {
     "data": {
      "text/plain": [
       "[['파이썬과 데이터 과학 (파이썬으로 시작하는 데이터 과학과 기계학습)',\n",
       "  '컴퓨터/IT 148위',\n",
       "  '천인국, 박동규',\n",
       "  '생능출판',\n",
       "  '5.0',\n",
       "  '24,700',\n",
       "  'None'],\n",
       " ['두근두근 파이썬 (만들면서 배우는)', '컴퓨터/IT 73위', '천인국', '생능출판', '4.7', '23,750', 'None'],\n",
       " ['코딩 뇌를 깨우는 파이썬 (문제 해결 능력을 키우는 컴퓨팅 사고부터 알고리즘, 데이터 분석, 머신러닝까지)',\n",
       "  '컴퓨터/IT 80위',\n",
       "  '존 V. 구태그',\n",
       "  '한빛미디어',\n",
       "  0,\n",
       "  '31,500',\n",
       "  '25,200'],\n",
       " ['Do it! 점프 투 파이썬 (중학생도 첫날부터 실습하는 초고속 입문서)',\n",
       "  '컴퓨터/IT 5위',\n",
       "  '박응용',\n",
       "  '이지스퍼블리싱',\n",
       "  '4.9',\n",
       "  '19,800',\n",
       "  '13,500'],\n",
       " ['나는 파이썬으로 머신러닝한다 2 (인공지능 자신감 UP 인공지능 약간 매운맛)',\n",
       "  '컴퓨터/IT 79위',\n",
       "  '장병철, 이지항 외 2명',\n",
       "  '씨마스',\n",
       "  '5.0',\n",
       "  '20,700',\n",
       "  'None'],\n",
       " ['혼자 공부하는 파이썬 (1:1 과외하듯 배우는 프로그래밍 자습서)',\n",
       "  '컴퓨터/IT 9위',\n",
       "  '윤인성',\n",
       "  '한빛미디어',\n",
       "  '4.9',\n",
       "  '19,800',\n",
       "  '15,840'],\n",
       " ['파이썬으로 쉽게 배우는 자료구조 (개정판)',\n",
       "  '컴퓨터/IT 70위',\n",
       "  '최영규, 천인국',\n",
       "  '생능출판',\n",
       "  '3.0',\n",
       "  '26,100',\n",
       "  'None'],\n",
       " ['디딤돌 파이썬 (구조적 프로그래밍으로 설명한 파이썬 기초)',\n",
       "  'None',\n",
       "  '이찬수',\n",
       "  '인피니티북스',\n",
       "  0,\n",
       "  '26,100',\n",
       "  'None'],\n",
       " ['파이썬 스타트 (AI로 가는 첫걸음)', 'None', '박희재', '인피니티북스', 0, '22,500', 'None'],\n",
       " ['자기주도 파이썬 (정보영재 및 올림피아드를 위한 최적의 입문서)',\n",
       "  'None',\n",
       "  '한컴에듀케이션 알고리즘연구소',\n",
       "  '복두출판사',\n",
       "  '5.0',\n",
       "  '15,300',\n",
       "  '15,300']]"
      ]
     },
     "execution_count": 26,
     "metadata": {},
     "output_type": "execute_result"
    }
   ],
   "source": [
    "book_info2"
   ]
  },
  {
   "cell_type": "code",
   "execution_count": 27,
   "id": "bb204715",
   "metadata": {},
   "outputs": [],
   "source": [
    "import pandas as pd"
   ]
  },
  {
   "cell_type": "code",
   "execution_count": 28,
   "id": "dbbe4f7d",
   "metadata": {},
   "outputs": [],
   "source": [
    "df = pd.DataFrame(book_info2, columns=['title', 'ranking', 'author', 'pubulisher', 'starpoint', 'price1', 'price2'])"
   ]
  },
  {
   "cell_type": "code",
   "execution_count": 29,
   "id": "2b869e4a",
   "metadata": {
    "scrolled": true
   },
   "outputs": [
    {
     "data": {
      "text/html": [
       "<div>\n",
       "<style scoped>\n",
       "    .dataframe tbody tr th:only-of-type {\n",
       "        vertical-align: middle;\n",
       "    }\n",
       "\n",
       "    .dataframe tbody tr th {\n",
       "        vertical-align: top;\n",
       "    }\n",
       "\n",
       "    .dataframe thead th {\n",
       "        text-align: right;\n",
       "    }\n",
       "</style>\n",
       "<table border=\"1\" class=\"dataframe\">\n",
       "  <thead>\n",
       "    <tr style=\"text-align: right;\">\n",
       "      <th></th>\n",
       "      <th>title</th>\n",
       "      <th>ranking</th>\n",
       "      <th>author</th>\n",
       "      <th>pubulisher</th>\n",
       "      <th>starpoint</th>\n",
       "      <th>price1</th>\n",
       "      <th>price2</th>\n",
       "    </tr>\n",
       "  </thead>\n",
       "  <tbody>\n",
       "    <tr>\n",
       "      <th>0</th>\n",
       "      <td>파이썬과 데이터 과학 (파이썬으로 시작하는 데이터 과학과 기계학습)</td>\n",
       "      <td>컴퓨터/IT 148위</td>\n",
       "      <td>천인국, 박동규</td>\n",
       "      <td>생능출판</td>\n",
       "      <td>5.0</td>\n",
       "      <td>24,700</td>\n",
       "      <td>None</td>\n",
       "    </tr>\n",
       "    <tr>\n",
       "      <th>1</th>\n",
       "      <td>두근두근 파이썬 (만들면서 배우는)</td>\n",
       "      <td>컴퓨터/IT 73위</td>\n",
       "      <td>천인국</td>\n",
       "      <td>생능출판</td>\n",
       "      <td>4.7</td>\n",
       "      <td>23,750</td>\n",
       "      <td>None</td>\n",
       "    </tr>\n",
       "    <tr>\n",
       "      <th>2</th>\n",
       "      <td>코딩 뇌를 깨우는 파이썬 (문제 해결 능력을 키우는 컴퓨팅 사고부터 알고리즘, 데이...</td>\n",
       "      <td>컴퓨터/IT 80위</td>\n",
       "      <td>존 V. 구태그</td>\n",
       "      <td>한빛미디어</td>\n",
       "      <td>0</td>\n",
       "      <td>31,500</td>\n",
       "      <td>25,200</td>\n",
       "    </tr>\n",
       "    <tr>\n",
       "      <th>3</th>\n",
       "      <td>Do it! 점프 투 파이썬 (중학생도 첫날부터 실습하는 초고속 입문서)</td>\n",
       "      <td>컴퓨터/IT 5위</td>\n",
       "      <td>박응용</td>\n",
       "      <td>이지스퍼블리싱</td>\n",
       "      <td>4.9</td>\n",
       "      <td>19,800</td>\n",
       "      <td>13,500</td>\n",
       "    </tr>\n",
       "    <tr>\n",
       "      <th>4</th>\n",
       "      <td>나는 파이썬으로 머신러닝한다 2 (인공지능 자신감 UP 인공지능 약간 매운맛)</td>\n",
       "      <td>컴퓨터/IT 79위</td>\n",
       "      <td>장병철, 이지항 외 2명</td>\n",
       "      <td>씨마스</td>\n",
       "      <td>5.0</td>\n",
       "      <td>20,700</td>\n",
       "      <td>None</td>\n",
       "    </tr>\n",
       "    <tr>\n",
       "      <th>5</th>\n",
       "      <td>혼자 공부하는 파이썬 (1:1 과외하듯 배우는 프로그래밍 자습서)</td>\n",
       "      <td>컴퓨터/IT 9위</td>\n",
       "      <td>윤인성</td>\n",
       "      <td>한빛미디어</td>\n",
       "      <td>4.9</td>\n",
       "      <td>19,800</td>\n",
       "      <td>15,840</td>\n",
       "    </tr>\n",
       "    <tr>\n",
       "      <th>6</th>\n",
       "      <td>파이썬으로 쉽게 배우는 자료구조 (개정판)</td>\n",
       "      <td>컴퓨터/IT 70위</td>\n",
       "      <td>최영규, 천인국</td>\n",
       "      <td>생능출판</td>\n",
       "      <td>3.0</td>\n",
       "      <td>26,100</td>\n",
       "      <td>None</td>\n",
       "    </tr>\n",
       "    <tr>\n",
       "      <th>7</th>\n",
       "      <td>디딤돌 파이썬 (구조적 프로그래밍으로 설명한 파이썬 기초)</td>\n",
       "      <td>None</td>\n",
       "      <td>이찬수</td>\n",
       "      <td>인피니티북스</td>\n",
       "      <td>0</td>\n",
       "      <td>26,100</td>\n",
       "      <td>None</td>\n",
       "    </tr>\n",
       "    <tr>\n",
       "      <th>8</th>\n",
       "      <td>파이썬 스타트 (AI로 가는 첫걸음)</td>\n",
       "      <td>None</td>\n",
       "      <td>박희재</td>\n",
       "      <td>인피니티북스</td>\n",
       "      <td>0</td>\n",
       "      <td>22,500</td>\n",
       "      <td>None</td>\n",
       "    </tr>\n",
       "    <tr>\n",
       "      <th>9</th>\n",
       "      <td>자기주도 파이썬 (정보영재 및 올림피아드를 위한 최적의 입문서)</td>\n",
       "      <td>None</td>\n",
       "      <td>한컴에듀케이션 알고리즘연구소</td>\n",
       "      <td>복두출판사</td>\n",
       "      <td>5.0</td>\n",
       "      <td>15,300</td>\n",
       "      <td>15,300</td>\n",
       "    </tr>\n",
       "  </tbody>\n",
       "</table>\n",
       "</div>"
      ],
      "text/plain": [
       "                                               title      ranking  \\\n",
       "0              파이썬과 데이터 과학 (파이썬으로 시작하는 데이터 과학과 기계학습)  컴퓨터/IT 148위   \n",
       "1                                두근두근 파이썬 (만들면서 배우는)   컴퓨터/IT 73위   \n",
       "2  코딩 뇌를 깨우는 파이썬 (문제 해결 능력을 키우는 컴퓨팅 사고부터 알고리즘, 데이...   컴퓨터/IT 80위   \n",
       "3           Do it! 점프 투 파이썬 (중학생도 첫날부터 실습하는 초고속 입문서)    컴퓨터/IT 5위   \n",
       "4        나는 파이썬으로 머신러닝한다 2 (인공지능 자신감 UP 인공지능 약간 매운맛)   컴퓨터/IT 79위   \n",
       "5               혼자 공부하는 파이썬 (1:1 과외하듯 배우는 프로그래밍 자습서)    컴퓨터/IT 9위   \n",
       "6                            파이썬으로 쉽게 배우는 자료구조 (개정판)   컴퓨터/IT 70위   \n",
       "7                   디딤돌 파이썬 (구조적 프로그래밍으로 설명한 파이썬 기초)         None   \n",
       "8                               파이썬 스타트 (AI로 가는 첫걸음)         None   \n",
       "9                자기주도 파이썬 (정보영재 및 올림피아드를 위한 최적의 입문서)         None   \n",
       "\n",
       "            author pubulisher starpoint  price1  price2  \n",
       "0         천인국, 박동규       생능출판       5.0  24,700    None  \n",
       "1              천인국       생능출판       4.7  23,750    None  \n",
       "2         존 V. 구태그      한빛미디어         0  31,500  25,200  \n",
       "3              박응용    이지스퍼블리싱       4.9  19,800  13,500  \n",
       "4    장병철, 이지항 외 2명        씨마스       5.0  20,700    None  \n",
       "5              윤인성      한빛미디어       4.9  19,800  15,840  \n",
       "6         최영규, 천인국       생능출판       3.0  26,100    None  \n",
       "7              이찬수     인피니티북스         0  26,100    None  \n",
       "8              박희재     인피니티북스         0  22,500    None  \n",
       "9  한컴에듀케이션 알고리즘연구소      복두출판사       5.0  15,300  15,300  "
      ]
     },
     "execution_count": 29,
     "metadata": {},
     "output_type": "execute_result"
    }
   ],
   "source": [
    "df"
   ]
  },
  {
   "cell_type": "code",
   "execution_count": 30,
   "id": "a6a40d6c",
   "metadata": {
    "scrolled": true
   },
   "outputs": [],
   "source": [
    "df2 = pd.DataFrame(book_info, columns=['title', 'ranking', 'author', 'pubulisher', 'starpoint', 'price'])"
   ]
  },
  {
   "cell_type": "code",
   "execution_count": 31,
   "id": "b34e9d7e",
   "metadata": {},
   "outputs": [
    {
     "data": {
      "text/html": [
       "<div>\n",
       "<style scoped>\n",
       "    .dataframe tbody tr th:only-of-type {\n",
       "        vertical-align: middle;\n",
       "    }\n",
       "\n",
       "    .dataframe tbody tr th {\n",
       "        vertical-align: top;\n",
       "    }\n",
       "\n",
       "    .dataframe thead th {\n",
       "        text-align: right;\n",
       "    }\n",
       "</style>\n",
       "<table border=\"1\" class=\"dataframe\">\n",
       "  <thead>\n",
       "    <tr style=\"text-align: right;\">\n",
       "      <th></th>\n",
       "      <th>title</th>\n",
       "      <th>ranking</th>\n",
       "      <th>author</th>\n",
       "      <th>pubulisher</th>\n",
       "      <th>starpoint</th>\n",
       "      <th>price</th>\n",
       "    </tr>\n",
       "  </thead>\n",
       "  <tbody>\n",
       "    <tr>\n",
       "      <th>0</th>\n",
       "      <td>파이썬과 데이터 과학 (파이썬으로 시작하는 데이터 과학과 기계학습)</td>\n",
       "      <td>컴퓨터/IT 148위</td>\n",
       "      <td>천인국, 박동규</td>\n",
       "      <td>생능출판</td>\n",
       "      <td>5.0</td>\n",
       "      <td>24,700</td>\n",
       "    </tr>\n",
       "    <tr>\n",
       "      <th>1</th>\n",
       "      <td>두근두근 파이썬 (만들면서 배우는)</td>\n",
       "      <td>컴퓨터/IT 73위</td>\n",
       "      <td>천인국</td>\n",
       "      <td>생능출판</td>\n",
       "      <td>4.7</td>\n",
       "      <td>23,750</td>\n",
       "    </tr>\n",
       "    <tr>\n",
       "      <th>2</th>\n",
       "      <td>코딩 뇌를 깨우는 파이썬 (문제 해결 능력을 키우는 컴퓨팅 사고부터 알고리즘, 데이...</td>\n",
       "      <td>컴퓨터/IT 80위</td>\n",
       "      <td>존 V. 구태그</td>\n",
       "      <td>한빛미디어</td>\n",
       "      <td>None</td>\n",
       "      <td>31,500</td>\n",
       "    </tr>\n",
       "    <tr>\n",
       "      <th>3</th>\n",
       "      <td>Do it! 점프 투 파이썬 (중학생도 첫날부터 실습하는 초고속 입문서)</td>\n",
       "      <td>컴퓨터/IT 5위</td>\n",
       "      <td>박응용</td>\n",
       "      <td>이지스퍼블리싱</td>\n",
       "      <td>4.9</td>\n",
       "      <td>19,800</td>\n",
       "    </tr>\n",
       "    <tr>\n",
       "      <th>4</th>\n",
       "      <td>나는 파이썬으로 머신러닝한다 2 (인공지능 자신감 UP 인공지능 약간 매운맛)</td>\n",
       "      <td>컴퓨터/IT 79위</td>\n",
       "      <td>장병철, 이지항 외 2명</td>\n",
       "      <td>씨마스</td>\n",
       "      <td>5.0</td>\n",
       "      <td>20,700</td>\n",
       "    </tr>\n",
       "    <tr>\n",
       "      <th>5</th>\n",
       "      <td>혼자 공부하는 파이썬 (1:1 과외하듯 배우는 프로그래밍 자습서)</td>\n",
       "      <td>컴퓨터/IT 9위</td>\n",
       "      <td>윤인성</td>\n",
       "      <td>한빛미디어</td>\n",
       "      <td>4.9</td>\n",
       "      <td>19,800</td>\n",
       "    </tr>\n",
       "    <tr>\n",
       "      <th>6</th>\n",
       "      <td>파이썬으로 쉽게 배우는 자료구조 (개정판)</td>\n",
       "      <td>컴퓨터/IT 70위</td>\n",
       "      <td>최영규, 천인국</td>\n",
       "      <td>생능출판</td>\n",
       "      <td>3.0</td>\n",
       "      <td>26,100</td>\n",
       "    </tr>\n",
       "    <tr>\n",
       "      <th>7</th>\n",
       "      <td>디딤돌 파이썬 (구조적 프로그래밍으로 설명한 파이썬 기초)</td>\n",
       "      <td>None</td>\n",
       "      <td>이찬수</td>\n",
       "      <td>인피니티북스</td>\n",
       "      <td>None</td>\n",
       "      <td>26,100</td>\n",
       "    </tr>\n",
       "    <tr>\n",
       "      <th>8</th>\n",
       "      <td>파이썬 스타트 (AI로 가는 첫걸음)</td>\n",
       "      <td>None</td>\n",
       "      <td>박희재</td>\n",
       "      <td>인피니티북스</td>\n",
       "      <td>None</td>\n",
       "      <td>22,500</td>\n",
       "    </tr>\n",
       "    <tr>\n",
       "      <th>9</th>\n",
       "      <td>자기주도 파이썬 (정보영재 및 올림피아드를 위한 최적의 입문서)</td>\n",
       "      <td>None</td>\n",
       "      <td>한컴에듀케이션 알고리즘연구소</td>\n",
       "      <td>복두출판사</td>\n",
       "      <td>5.0</td>\n",
       "      <td>15,300</td>\n",
       "    </tr>\n",
       "  </tbody>\n",
       "</table>\n",
       "</div>"
      ],
      "text/plain": [
       "                                               title      ranking  \\\n",
       "0              파이썬과 데이터 과학 (파이썬으로 시작하는 데이터 과학과 기계학습)  컴퓨터/IT 148위   \n",
       "1                                두근두근 파이썬 (만들면서 배우는)   컴퓨터/IT 73위   \n",
       "2  코딩 뇌를 깨우는 파이썬 (문제 해결 능력을 키우는 컴퓨팅 사고부터 알고리즘, 데이...   컴퓨터/IT 80위   \n",
       "3           Do it! 점프 투 파이썬 (중학생도 첫날부터 실습하는 초고속 입문서)    컴퓨터/IT 5위   \n",
       "4        나는 파이썬으로 머신러닝한다 2 (인공지능 자신감 UP 인공지능 약간 매운맛)   컴퓨터/IT 79위   \n",
       "5               혼자 공부하는 파이썬 (1:1 과외하듯 배우는 프로그래밍 자습서)    컴퓨터/IT 9위   \n",
       "6                            파이썬으로 쉽게 배우는 자료구조 (개정판)   컴퓨터/IT 70위   \n",
       "7                   디딤돌 파이썬 (구조적 프로그래밍으로 설명한 파이썬 기초)         None   \n",
       "8                               파이썬 스타트 (AI로 가는 첫걸음)         None   \n",
       "9                자기주도 파이썬 (정보영재 및 올림피아드를 위한 최적의 입문서)         None   \n",
       "\n",
       "            author pubulisher starpoint   price  \n",
       "0         천인국, 박동규       생능출판       5.0  24,700  \n",
       "1              천인국       생능출판       4.7  23,750  \n",
       "2         존 V. 구태그      한빛미디어      None  31,500  \n",
       "3              박응용    이지스퍼블리싱       4.9  19,800  \n",
       "4    장병철, 이지항 외 2명        씨마스       5.0  20,700  \n",
       "5              윤인성      한빛미디어       4.9  19,800  \n",
       "6         최영규, 천인국       생능출판       3.0  26,100  \n",
       "7              이찬수     인피니티북스      None  26,100  \n",
       "8              박희재     인피니티북스      None  22,500  \n",
       "9  한컴에듀케이션 알고리즘연구소      복두출판사       5.0  15,300  "
      ]
     },
     "execution_count": 31,
     "metadata": {},
     "output_type": "execute_result"
    }
   ],
   "source": [
    "df2"
   ]
  },
  {
   "cell_type": "markdown",
   "id": "96601ab5",
   "metadata": {},
   "source": [
    "# select, select_one을 이용해서 자료 추출하기"
   ]
  },
  {
   "cell_type": "code",
   "execution_count": 32,
   "id": "3f6ed22f",
   "metadata": {},
   "outputs": [
    {
     "data": {
      "text/plain": [
       "'파이썬과 데이터 과학 (파이썬으로 시작하는 데이터 과학과 기계학습)'"
      ]
     },
     "execution_count": 32,
     "metadata": {},
     "output_type": "execute_result"
    }
   ],
   "source": [
    "soup.select_one(\".bookListItem_text__bglOw\").text "
   ]
  },
  {
   "cell_type": "code",
   "execution_count": 33,
   "id": "e2398153",
   "metadata": {},
   "outputs": [
    {
     "data": {
      "text/plain": [
       "'천인국, 박동규'"
      ]
     },
     "execution_count": 33,
     "metadata": {},
     "output_type": "execute_result"
    }
   ],
   "source": [
    "soup.select_one(\"span.bookListItem_define_data__kKD8t\").text # author"
   ]
  },
  {
   "cell_type": "code",
   "execution_count": 34,
   "id": "dd585efc",
   "metadata": {},
   "outputs": [],
   "source": [
    "ranking = soup.select(\".bookListItem_feature__txTlp\") #ranking"
   ]
  },
  {
   "cell_type": "code",
   "execution_count": 35,
   "id": "2dcf6790",
   "metadata": {},
   "outputs": [
    {
     "name": "stdout",
     "output_type": "stream",
     "text": [
      "파이썬과 데이터 과학 (파이썬으로 시작하는 데이터 과학과 기계학습) 컴퓨터/IT 148위 천인국, 박동규 생능출판 5.0  24,700\n"
     ]
    }
   ],
   "source": [
    "title = soup.select(\".bookListItem_text__bglOw\")[0].text #title\n",
    "ranking = soup.select(\".bookListItem_feature__txTlp\")[0].text #ranking\n",
    "author = soup.select(\".bookListItem_define_data__kKD8t\")[0].text #author\n",
    "pubulisher = soup.select(\".bookListItem_detail_publish__FgPYQ\")[0].select(\".bookListItem_define_data__kKD8t\")[0].text #pubulisher\n",
    "starpoint = soup.select(\".bookListItem_grade__tywh2\")[0].text[2:6]\n",
    "price = soup.select(\".bookPrice_price__zr5dh\")[0].select(\"em\")[0].text\n",
    "\n",
    "print(title, ranking, author, pubulisher, starpoint, price)"
   ]
  },
  {
   "cell_type": "code",
   "execution_count": 36,
   "id": "9ccb2935",
   "metadata": {},
   "outputs": [
    {
     "data": {
      "text/plain": [
       "'파이썬과 데이터 과학 (파이썬으로 시작하는 데이터 과학과 기계학습)컴퓨터/IT 148위저자천인국, 박동규출판생능출판2020.12.28.평점5.0\\xa0(10)찜하기도서판매처 21최저 24,700원신고'"
      ]
     },
     "execution_count": 36,
     "metadata": {},
     "output_type": "execute_result"
    }
   ],
   "source": [
    "soup.select_one(\".list_book\").select(\".bookListItem_item_book__1yCey\")[0].text"
   ]
  },
  {
   "cell_type": "code",
   "execution_count": 37,
   "id": "1744c18b",
   "metadata": {},
   "outputs": [
    {
     "data": {
      "text/plain": [
       "108"
      ]
     },
     "execution_count": 37,
     "metadata": {},
     "output_type": "execute_result"
    }
   ],
   "source": [
    "len(soup.select_one(\".list_book\").select(\".bookListItem_item_book__1yCey\")[0].text)"
   ]
  },
  {
   "cell_type": "code",
   "execution_count": 55,
   "id": "48506f6e",
   "metadata": {},
   "outputs": [
    {
     "data": {
      "text/plain": [
       "[<li class=\"bookListItem_item_book__1yCey\"><div class=\"bookListItem_item_inner__Fp7hN\"><a class=\"bookListItem_info_top__VgpiO linkAnchor\" data-i=\"32491517782\" data-nclick=\"N=a:stab1l*c.info,i:32491517782,r:1\" href=\"https://cr3.shopping.naver.com/book/adcr?x=Wi524gJ4y%2FznHKphY46YCf%2F%2F%2Fw%3D%3DsVRKzwdc2vGX4vGedKIBRNzfeSHsjai2sB6rAcn1mhMu57StUFLKmRh1TRW6ZM83NGiActldglwZI9Ht2Wg2yWp7FWzSOT3260RpHjzTrkYvW6%2Fmgy3Y4KMhDn%2BJ6yE4yMQoUMOeBpXsr%2FDUcA16wxd9%2BKy%2Fm0d%2BgYWHtEf61Jo4Nj51x%2B5NtY5Hk3HVsotFZzMYdV9AdtsvIOwWdjTPYIEIee9mp%2BT1ysnnqhZagQKgSi1jPP8Yt02lZX7%2BJ%2FItcX3h64qwrGLq84J1p5pEmIIWsOdrz2GsDwyuzTkbiJMs%2Bd0TcbJiTH3Lys8V5OoWgcfY62%2F%2BxY4w5xbi4%2BHEPriFzevyVajC7NvPtfqyjQhzOQtKydjLYcG6IJgXO93HKaCggqxzSk0EzU99rGAl7HUeq7xa2bs6%2FahMzsv2lyyJ6UKte4oi8O8Vf%2FhRI0jVAzfNVo1KcSVSazeZg7M%2BAaXBvM%2FBtcGatO2NeQHOOK%2FhwxL22mLYbVXisQOlntWYpgaTmsHOi4pxcTo6ldDev%2BK7ODxYWyQD2bnGnjp5do3Tks4qGbaANy%2Bv7%2F5bsJz2WVtSJNIpLDB1DPvwX3jnaMlp%2BiM69rtZoGmolz8iSxPEiQlobJat8LrVlXwYhm8Ln&amp;nvMid=32491517782&amp;catId=50010920\" rel=\"noopener\" target=\"_blank\"><div class=\"bookListItem_thumbnail_area__JSZ_U\"><div class=\"bookListItem_thumbnail___NBwO\"><img alt=\"파이썬과 데이터 과학\" src=\"https://shopping-phinf.pstatic.net/main_3249151/32491517782.20230313182516.jpg?type=w300\"/></div></div><div class=\"bookListItem_text_area__hF892\"><div class=\"bookListItem_title__X7f9_\"><span class=\"bookListItem_text__bglOw\"><span>파이썬과 데이터 과학</span><span> (파이썬으로 시작하는 데이터 과학과 기계학습)</span></span></div><div class=\"bookListItem_feature__txTlp\">컴퓨터/IT 148위</div><div class=\"bookListItem_detail__RBQ6x\"><div class=\"bookListItem_define_item__LdTib\"><span class=\"bookListItem_define_title__ujtNf\">저자</span><span class=\"bookListItem_define_data__kKD8t\">천인국, 박동규</span></div><div class=\"bookListItem_define_item__LdTib bookListItem_publish____VOP\"><div class=\"bookListItem_detail_publish__FgPYQ\"><span class=\"bookListItem_define_title__ujtNf\">출판</span><span class=\"bookListItem_define_data__kKD8t\">생능출판</span></div><div class=\"bookListItem_detail_date___byvG\">2020.12.28.</div></div></div><div class=\"bookListItem_grade__tywh2\"><span class=\"bookListItem_star__A_4PU\"><svg class=\"svg_star\" height=\"14\" width=\"15\" xmlns=\"http://www.w3.org/2000/svg\"><g fill=\"none\" fill-rule=\"evenodd\"><path d=\"m5.874 5.513-.374.005L1 5.58l3.867 2.944-.104.335L3.486 13 7.5 10.383l.298.193L11.514 13l-1.38-4.476.284-.217L14 5.58l-4.873-.067L7.5 1z\" fill=\"#FF5356\"></path><path d=\"M7.5 1 5.873 5.513 5.5 5.52 1 5.58l3.866 2.944-.103.335L3.486 13 7.5 10.383l.298.195L11.514 13l-1.381-4.476.285-.216L14 5.58l-4.873-.067z\" stroke=\"#F43435\" stroke-linecap=\"round\" stroke-linejoin=\"round\" stroke-width=\"0.95\"></path></g></svg>평점</span>5.0<!-- --> <span class=\"bookListItem_reviewer__kwofa\">(<!-- -->10<!-- -->)</span></div></div></a><a class=\"bookListItem_btn_zzim__Jg53Q N=a:stab1l*c.fav,i:32491517782,r:1\" data-i=\"32491517782\" data-nclick=\"N=a:stab1l*c.fav,i:32491517782,r:1\" href=\"#\" role=\"button\"><svg class=\"bookListItem_svg_zzim__z_wK4\" height=\"27\" width=\"27\" xmlns=\"http://www.w3.org/2000/svg\"><g fill=\"none\" fill-rule=\"evenodd\"><circle cx=\"13.5\" cy=\"13.5\" fill=\"#FFF\" r=\"13\" stroke=\"#E2E2E2\"></circle><path d=\"m13.486 20.77-6.157-6.064a3.749 3.749 0 0 1 2.652-6.398c1.004 0 1.947.39 2.656 1.098.15.236.15.425 0 .567-.15.141-.351.142-.602 0-1.098-1.098-3.011-1.097-4.105 0a2.945 2.945 0 0 0-.001 4.164l5.557 5.472 5.748-5.657c.993-1.127.928-2.884-.167-3.979-1.097-1.1-3.01-1.098-4.107 0l-2.588 2.558a1.206 1.206 0 0 0-.004 1.745c.5.483 1.312.483 1.812 0l2.224-2.19a.426.426 0 0 1 .593-.003.401.401 0 0 1 .004.575l-2.227 2.192a2.17 2.17 0 0 1-2.998.002 2.005 2.005 0 0 1 0-2.894l2.584-2.554a3.727 3.727 0 0 1 2.655-1.096c1.004 0 1.947.39 2.654 1.099 1.393 1.392 1.474 3.63.181 5.095\" fill=\"gray\"></path></g></svg><span class=\"bookListItem_text__bglOw\">찜하기</span></a><div class=\"bookListItem_sub_info__AfkOO\"><div class=\"bookListItem_item_sub__bTJ7u\"><a class=\"bookListItem_item_box__6Mjr9 linkAnchor\" data-i=\"32491517782\" data-nclick=\"N=a:stab1l*c.pricep,i:32491517782,r:1\" href=\"https://cr3.shopping.naver.com/book/adcr?x=Wi524gJ4y%2FznHKphY46YCf%2F%2F%2Fw%3D%3DsVRKzwdc2vGX4vGedKIBRNzfeSHsjai2sB6rAcn1mhMu57StUFLKmRh1TRW6ZM83NGiActldglwZI9Ht2Wg2yWp7FWzSOT3260RpHjzTrkYvW6%2Fmgy3Y4KMhDn%2BJ6yE4yMQoUMOeBpXsr%2FDUcA16wxd9%2BKy%2Fm0d%2BgYWHtEf61Jo4Nj51x%2B5NtY5Hk3HVsotFZzMYdV9AdtsvIOwWdjTPYIEIee9mp%2BT1ysnnqhZagQKgSi1jPP8Yt02lZX7%2BJ%2FItcX3h64qwrGLq84J1p5pEmIIWsOdrz2GsDwyuzTkbiJMs%2Bd0TcbJiTH3Lys8V5OoWgcfY62%2F%2BxY4w5xbi4%2BHEPriFzevyVajC7NvPtfqyjQhzOQtKydjLYcG6IJgXO93HKaCggqxzSk0EzU99rGAl7HUeq7xa2bs6%2FahMzsv2lyyJ6UKte4oi8O8Vf%2FhRI0jVAzfNVo1KcSVSazeZg7M%2BAaXBvM%2FBtcGatO2NeQHOOK%2FhwxL22mLYbVXisQOlntWYpgaTmsHOi4pxcTo6ldDev%2BK7ODxYWyQD2bnGnjp5do3Tks4qGbaANy%2Bv7%2F5bsJz2WVtSJNIpLDB1DPvwX3jnaMlp%2BiM69rtZoGmolz8iSxPEiQlobJat8LrVlXwYhm8Ln&amp;nvMid=32491517782&amp;catId=50010920\" rel=\"noopener\" target=\"_blank\"><div class=\"goods_title\">도서</div><div class=\"bookListItem_vendor__d_xBD\">판매처 <!-- -->21</div></a><span class=\"bookPrice_price__zr5dh\">최저<!-- --> <em>24,700</em>원</span></div><a class=\"bookListItem_btn_report__cjrVh linkAnchor\" data-nclick=\"N=a:stab1l*c.report,i:32491517782,r:1\" href=\"https://search.shopping.naver.com/book/report/product?nvMid=32491517782\" target=\"popup\"><svg class=\"bookListItem_svg_report__xc5Xi\" height=\"12\" width=\"12\" xmlns=\"http://www.w3.org/2000/svg\"><g fill=\"none\" fill-rule=\"evenodd\" stroke=\"#999\"><path d=\"M5.999 1a4.166 4.166 0 0 0-4.166 4.166V8.5h8.334V5.166A4.167 4.167 0 0 0 5.999 1z\" stroke-linejoin=\"round\"></path><path d=\"M5.583 3.083c-.92 0-1.666.746-1.666 1.667M1 11h10V8.5H1z\"></path></g></svg>신고</a></div></div></li>,\n",
       " <li class=\"bookListItem_item_book__1yCey\"><div class=\"bookListItem_item_inner__Fp7hN\"><a class=\"bookListItem_info_top__VgpiO linkAnchor\" data-i=\"36813141618\" data-nclick=\"N=a:stab1l*c.info,i:36813141618,r:2\" href=\"https://cr3.shopping.naver.com/book/adcr?x=NYmw9FPq%2Fq7j3R6oR5Ewa%2F%2F%2F%2Fw%3D%3DsX9bpBnXcK6EgSE%2B607bY5Yedz%2BNPwlR98yCV2r6HHV257StUFLKmRh1TRW6ZM83NkQwsi%2BW4bf7pZFKDQqE68J7FWzSOT3260RpHjzTrkYvW6%2Fmgy3Y4KMhDn%2BJ6yE4yMQoUMOeBpXsr%2FDUcA16wxd9%2BKy%2Fm0d%2BgYWHtEf61Jo4Nj51x%2B5NtY5Hk3HVsotFZAxItDgp4cohouEOBMj54g8bifAAc%2BhVGpw5Z9hbvMMwSi1jPP8Yt02lZX7%2BJ%2FItcX3h64qwrGLq84J1p5pEmIIWsOdrz2GsDwyuzTkbiJMs%2Bd0TcbJiTH3Lys8V5OoWgcfY62%2F%2BxY4w5xbi4%2BHEPriFzevyVajC7NvPtfqyjQhxOZ6sRK7M5%2B3zTagwNHELQkJSqE1u6AUeUuHufxXkT4keq7xa2bs6%2FahMzsv2lyyKHXTfrk1XTxFNU2hJyHp41zfNVo1KcSVSazeZg7M%2BAaRKaJHYB2HOTyB%2FIejk632FQLZwCYq0SDcJrkbSnSgou8MxkEbODCn3%2B%2BGcSmQ0uCruo9TKHCl3EfytqJwsWr7jnUozSk6MgpJeDpfnt31s2KyiA%2Bw4go0d0EBdHHTNA8eJEDFLiZr8L6jKAK6mGKxTh8lJwzwUuC%2FejUzuiaBcc&amp;nvMid=36813141618&amp;catId=50010920\" rel=\"noopener\" target=\"_blank\"><div class=\"bookListItem_thumbnail_area__JSZ_U\"><div class=\"bookListItem_thumbnail___NBwO\"><img alt=\"두근두근 파이썬\" src=\"https://shopping-phinf.pstatic.net/main_3681314/36813141618.20230131165403.jpg?type=w300\"/></div></div><div class=\"bookListItem_text_area__hF892\"><div class=\"bookListItem_title__X7f9_\"><span class=\"bookListItem_text__bglOw\"><span>두근두근 파이썬</span><span> (만들면서 배우는)</span></span></div><div class=\"bookListItem_feature__txTlp\">컴퓨터/IT 73위</div><div class=\"bookListItem_detail__RBQ6x\"><div class=\"bookListItem_define_item__LdTib\"><span class=\"bookListItem_define_title__ujtNf\">저자</span><span class=\"bookListItem_define_data__kKD8t\">천인국</span></div><div class=\"bookListItem_define_item__LdTib bookListItem_publish____VOP\"><div class=\"bookListItem_detail_publish__FgPYQ\"><span class=\"bookListItem_define_title__ujtNf\">출판</span><span class=\"bookListItem_define_data__kKD8t\">생능출판</span></div><div class=\"bookListItem_detail_date___byvG\">2023.01.05.</div></div></div><div class=\"bookListItem_grade__tywh2\"><span class=\"bookListItem_star__A_4PU\"><svg class=\"svg_star\" height=\"14\" width=\"15\" xmlns=\"http://www.w3.org/2000/svg\"><g fill=\"none\" fill-rule=\"evenodd\"><path d=\"m5.874 5.513-.374.005L1 5.58l3.867 2.944-.104.335L3.486 13 7.5 10.383l.298.193L11.514 13l-1.38-4.476.284-.217L14 5.58l-4.873-.067L7.5 1z\" fill=\"#FF5356\"></path><path d=\"M7.5 1 5.873 5.513 5.5 5.52 1 5.58l3.866 2.944-.103.335L3.486 13 7.5 10.383l.298.195L11.514 13l-1.381-4.476.285-.216L14 5.58l-4.873-.067z\" stroke=\"#F43435\" stroke-linecap=\"round\" stroke-linejoin=\"round\" stroke-width=\"0.95\"></path></g></svg>평점</span>4.7<!-- --> <span class=\"bookListItem_reviewer__kwofa\">(<!-- -->3<!-- -->)</span></div></div></a><a class=\"bookListItem_btn_zzim__Jg53Q N=a:stab1l*c.fav,i:36813141618,r:2\" data-i=\"36813141618\" data-nclick=\"N=a:stab1l*c.fav,i:36813141618,r:2\" href=\"#\" role=\"button\"><svg class=\"bookListItem_svg_zzim__z_wK4\" height=\"27\" width=\"27\" xmlns=\"http://www.w3.org/2000/svg\"><g fill=\"none\" fill-rule=\"evenodd\"><circle cx=\"13.5\" cy=\"13.5\" fill=\"#FFF\" r=\"13\" stroke=\"#E2E2E2\"></circle><path d=\"m13.486 20.77-6.157-6.064a3.749 3.749 0 0 1 2.652-6.398c1.004 0 1.947.39 2.656 1.098.15.236.15.425 0 .567-.15.141-.351.142-.602 0-1.098-1.098-3.011-1.097-4.105 0a2.945 2.945 0 0 0-.001 4.164l5.557 5.472 5.748-5.657c.993-1.127.928-2.884-.167-3.979-1.097-1.1-3.01-1.098-4.107 0l-2.588 2.558a1.206 1.206 0 0 0-.004 1.745c.5.483 1.312.483 1.812 0l2.224-2.19a.426.426 0 0 1 .593-.003.401.401 0 0 1 .004.575l-2.227 2.192a2.17 2.17 0 0 1-2.998.002 2.005 2.005 0 0 1 0-2.894l2.584-2.554a3.727 3.727 0 0 1 2.655-1.096c1.004 0 1.947.39 2.654 1.099 1.393 1.392 1.474 3.63.181 5.095\" fill=\"gray\"></path></g></svg><span class=\"bookListItem_text__bglOw\">찜하기</span></a><div class=\"bookListItem_sub_info__AfkOO\"><div class=\"bookListItem_item_sub__bTJ7u\"><a class=\"bookListItem_item_box__6Mjr9 linkAnchor\" data-i=\"36813141618\" data-nclick=\"N=a:stab1l*c.pricep,i:36813141618,r:2\" href=\"https://cr3.shopping.naver.com/book/adcr?x=NYmw9FPq%2Fq7j3R6oR5Ewa%2F%2F%2F%2Fw%3D%3DsX9bpBnXcK6EgSE%2B607bY5Yedz%2BNPwlR98yCV2r6HHV257StUFLKmRh1TRW6ZM83NkQwsi%2BW4bf7pZFKDQqE68J7FWzSOT3260RpHjzTrkYvW6%2Fmgy3Y4KMhDn%2BJ6yE4yMQoUMOeBpXsr%2FDUcA16wxd9%2BKy%2Fm0d%2BgYWHtEf61Jo4Nj51x%2B5NtY5Hk3HVsotFZAxItDgp4cohouEOBMj54g8bifAAc%2BhVGpw5Z9hbvMMwSi1jPP8Yt02lZX7%2BJ%2FItcX3h64qwrGLq84J1p5pEmIIWsOdrz2GsDwyuzTkbiJMs%2Bd0TcbJiTH3Lys8V5OoWgcfY62%2F%2BxY4w5xbi4%2BHEPriFzevyVajC7NvPtfqyjQhxOZ6sRK7M5%2B3zTagwNHELQkJSqE1u6AUeUuHufxXkT4keq7xa2bs6%2FahMzsv2lyyKHXTfrk1XTxFNU2hJyHp41zfNVo1KcSVSazeZg7M%2BAaRKaJHYB2HOTyB%2FIejk632FQLZwCYq0SDcJrkbSnSgou8MxkEbODCn3%2B%2BGcSmQ0uCruo9TKHCl3EfytqJwsWr7jnUozSk6MgpJeDpfnt31s2KyiA%2Bw4go0d0EBdHHTNA8eJEDFLiZr8L6jKAK6mGKxTh8lJwzwUuC%2FejUzuiaBcc&amp;nvMid=36813141618&amp;catId=50010920\" rel=\"noopener\" target=\"_blank\"><div class=\"goods_title\">도서</div><div class=\"bookListItem_vendor__d_xBD\">판매처 <!-- -->39</div></a><span class=\"bookPrice_price__zr5dh\">최저<!-- --> <em>23,750</em>원</span></div><a class=\"bookListItem_btn_report__cjrVh linkAnchor\" data-nclick=\"N=a:stab1l*c.report,i:36813141618,r:2\" href=\"https://search.shopping.naver.com/book/report/product?nvMid=36813141618\" target=\"popup\"><svg class=\"bookListItem_svg_report__xc5Xi\" height=\"12\" width=\"12\" xmlns=\"http://www.w3.org/2000/svg\"><g fill=\"none\" fill-rule=\"evenodd\" stroke=\"#999\"><path d=\"M5.999 1a4.166 4.166 0 0 0-4.166 4.166V8.5h8.334V5.166A4.167 4.167 0 0 0 5.999 1z\" stroke-linejoin=\"round\"></path><path d=\"M5.583 3.083c-.92 0-1.666.746-1.666 1.667M1 11h10V8.5H1z\"></path></g></svg>신고</a></div></div></li>,\n",
       " <li class=\"bookListItem_item_book__1yCey\"><div class=\"bookListItem_item_inner__Fp7hN\"><a class=\"bookListItem_info_top__VgpiO linkAnchor\" data-i=\"42173058623\" data-nclick=\"N=a:stab1l*c.info,i:42173058623,r:3\" href=\"https://cr3.shopping.naver.com/book/adcr?x=a05vSHHj%2B%2B1WKG2fgbZvuv%2F%2F%2Fw%3D%3Dsmu1ZXAKhU9cLyjiIaGN0NVsdtYm2y4MU33DDPQ%2BPO7%2BJnnL5Sdl1Om0OnvyPouDNNPoMY7Qyb2DC9KtArSMrc8ez10KvC75IXKXEmsZjpY3VMc6ISzfSnRmT9F0G4N3nY8EigvBQinIZsg%2B2TARrJsv%2BjB2erv%2BZ%2Brrs5VHOiTTt4DqiWzfh638rk6r8T8q24D0Xwus0ivXag7Ag1tsGrP7IntYW81Xs6qvX%2Bsnxc5xra%2BpI6UJu%2BTwtNWUwqdlIxG2P0Q%2Fj4lhGbx8gGDwffhzzON9aTM%2Fdo2I2z9yt2AmFo49JCi6J6VM8a%2Bwjzt8%2BFqPkbhZKyIpiX5j%2F%2BxkCe1WgmKC6jv4on9gzTYjdIY0wLX1kFCoUYWiIJ2IcLtLqSWkruqzLNR%2BNlNcFNXSh%2Br2rjFsnXw88P3iZF1ToG3Tzke9xqokF8gqeKRDS5EgIWjQqm0nba4rLoBgE8SauX6NPOa7btcUyJYftN8mIC0Kca4Eilmnx6oXlvGWl3rDBdp9sSWzyQ0u3D14Lop0GNiYFs%2BpDC4Hd0fa10Sd%2B318udrATo8ESSBvbB%2BoYa1DS%2Fqy4FAfVXrxVJ0%2FiEW4NWK1nsfBi9KlpuZGyIHYMxahzS0NmutU52%2FeznATz8xiY&amp;nvMid=42173058623&amp;catId=50010920\" rel=\"noopener\" target=\"_blank\"><div class=\"bookListItem_thumbnail_area__JSZ_U\"><div class=\"bookListItem_thumbnail___NBwO\"><img alt=\"코딩 뇌를 깨우는 파이썬\" src=\"https://shopping-phinf.pstatic.net/main_4217305/42173058623.20230905101047.jpg?type=w300\"/></div></div><div class=\"bookListItem_text_area__hF892\"><div class=\"bookListItem_title__X7f9_\"><span class=\"bookListItem_text__bglOw\"><span>코딩 뇌를 깨우는 파이썬</span><span> (문제 해결 능력을 키우는 컴퓨팅 사고부터 알고리즘, 데이터 분석, 머신러닝까지)</span></span></div><div class=\"bookListItem_feature__txTlp\">컴퓨터/IT 80위</div><div class=\"bookListItem_detail__RBQ6x\"><div class=\"bookListItem_define_item__LdTib\"><span class=\"bookListItem_define_title__ujtNf\">저자</span><span class=\"bookListItem_define_data__kKD8t\">존 V. 구태그</span></div><div class=\"bookListItem_define_item__LdTib bookListItem_publish____VOP\"><div class=\"bookListItem_detail_publish__FgPYQ\"><span class=\"bookListItem_define_title__ujtNf\">출판</span><span class=\"bookListItem_define_data__kKD8t\">한빛미디어</span></div><div class=\"bookListItem_detail_date___byvG\">2023.08.30.</div></div></div></div></a><a class=\"bookListItem_btn_zzim__Jg53Q N=a:stab1l*c.fav,i:42173058623,r:3\" data-i=\"42173058623\" data-nclick=\"N=a:stab1l*c.fav,i:42173058623,r:3\" href=\"#\" role=\"button\"><svg class=\"bookListItem_svg_zzim__z_wK4\" height=\"27\" width=\"27\" xmlns=\"http://www.w3.org/2000/svg\"><g fill=\"none\" fill-rule=\"evenodd\"><circle cx=\"13.5\" cy=\"13.5\" fill=\"#FFF\" r=\"13\" stroke=\"#E2E2E2\"></circle><path d=\"m13.486 20.77-6.157-6.064a3.749 3.749 0 0 1 2.652-6.398c1.004 0 1.947.39 2.656 1.098.15.236.15.425 0 .567-.15.141-.351.142-.602 0-1.098-1.098-3.011-1.097-4.105 0a2.945 2.945 0 0 0-.001 4.164l5.557 5.472 5.748-5.657c.993-1.127.928-2.884-.167-3.979-1.097-1.1-3.01-1.098-4.107 0l-2.588 2.558a1.206 1.206 0 0 0-.004 1.745c.5.483 1.312.483 1.812 0l2.224-2.19a.426.426 0 0 1 .593-.003.401.401 0 0 1 .004.575l-2.227 2.192a2.17 2.17 0 0 1-2.998.002 2.005 2.005 0 0 1 0-2.894l2.584-2.554a3.727 3.727 0 0 1 2.655-1.096c1.004 0 1.947.39 2.654 1.099 1.393 1.392 1.474 3.63.181 5.095\" fill=\"gray\"></path></g></svg><span class=\"bookListItem_text__bglOw\">찜하기</span></a><div class=\"bookListItem_sub_info__AfkOO\"><div class=\"bookListItem_item_sub__bTJ7u\"><a class=\"bookListItem_item_box__6Mjr9 linkAnchor\" data-i=\"42173058623\" data-nclick=\"N=a:stab1l*c.pricep,i:42173058623,r:3\" href=\"https://cr3.shopping.naver.com/book/adcr?x=a05vSHHj%2B%2B1WKG2fgbZvuv%2F%2F%2Fw%3D%3Dsmu1ZXAKhU9cLyjiIaGN0NVsdtYm2y4MU33DDPQ%2BPO7%2BJnnL5Sdl1Om0OnvyPouDNNPoMY7Qyb2DC9KtArSMrc8ez10KvC75IXKXEmsZjpY3VMc6ISzfSnRmT9F0G4N3nY8EigvBQinIZsg%2B2TARrJsv%2BjB2erv%2BZ%2Brrs5VHOiTTt4DqiWzfh638rk6r8T8q24D0Xwus0ivXag7Ag1tsGrP7IntYW81Xs6qvX%2Bsnxc5xra%2BpI6UJu%2BTwtNWUwqdlIxG2P0Q%2Fj4lhGbx8gGDwffhzzON9aTM%2Fdo2I2z9yt2AmFo49JCi6J6VM8a%2Bwjzt8%2BFqPkbhZKyIpiX5j%2F%2BxkCe1WgmKC6jv4on9gzTYjdIY0wLX1kFCoUYWiIJ2IcLtLqSWkruqzLNR%2BNlNcFNXSh%2Br2rjFsnXw88P3iZF1ToG3Tzke9xqokF8gqeKRDS5EgIWjQqm0nba4rLoBgE8SauX6NPOa7btcUyJYftN8mIC0Kca4Eilmnx6oXlvGWl3rDBdp9sSWzyQ0u3D14Lop0GNiYFs%2BpDC4Hd0fa10Sd%2B318udrATo8ESSBvbB%2BoYa1DS%2Fqy4FAfVXrxVJ0%2FiEW4NWK1nsfBi9KlpuZGyIHYMxahzS0NmutU52%2FeznATz8xiY&amp;nvMid=42173058623&amp;catId=50010920\" rel=\"noopener\" target=\"_blank\"><div class=\"goods_title\">도서</div><div class=\"bookListItem_vendor__d_xBD\">판매처 <!-- -->91</div></a><span class=\"bookPrice_price__zr5dh\">최저<!-- --> <em>31,500</em>원</span></div><div class=\"bookListItem_item_sub__bTJ7u\"><a class=\"bookListItem_item_box__6Mjr9 linkAnchor\" data-i=\"42173058623\" data-nclick=\"N=a:stab1l*c.pricee,i:42173058623,r:3\" href=\"https://cr3.shopping.naver.com/book/adcr?x=a05vSHHj%2B%2B1WKG2fgbZvuv%2F%2F%2Fw%3D%3Dsmu1ZXAKhU9cLyjiIaGN0NVsdtYm2y4MU33DDPQ%2BPO7%2BJnnL5Sdl1Om0OnvyPouDNNPoMY7Qyb2DC9KtArSMrc8ez10KvC75IXKXEmsZjpY3VMc6ISzfSnRmT9F0G4N3nY8EigvBQinIZsg%2B2TARrJsv%2BjB2erv%2BZ%2Brrs5VHOiTTt4DqiWzfh638rk6r8T8q24D0Xwus0ivXag7Ag1tsGrP7IntYW81Xs6qvX%2Bsnxc5xra%2BpI6UJu%2BTwtNWUwqdlIxG2P0Q%2Fj4lhGbx8gGDwffhzzON9aTM%2Fdo2I2z9yt2AmFo49JCi6J6VM8a%2Bwjzt8%2BFqPkbhZKyIpiX5j%2F%2BxkCe1WgmKC6jv4on9gzTYjdIY0wLX1kFCoUYWiIJ2IcLtLqSWkruqzLNR%2BNlNcFNXSh%2Br2rjFsnXw88P3iZF1ToG3Tzke9xqokF8gqeKRDS5EgIWjQqm0nba4rLoBgE8SauX6NPOa7btcUyJYftN8mIC0Kca4Eilmnx6oXlvGWl3rDBdp9sSWzyQ0u3D14Lop0GNiYFs%2BpDC4Hd0fa10Sd%2B318udrATo8ESSBvbB%2BoYa1DS%2Fqy4FAfVXrxVJ0%2FiEW4NWK1nsfBi9KlpuZGyIHYMxahzS0NmutU52%2FeznATz8xiY&amp;nvMid=42173058623&amp;catId=50010920\" rel=\"noopener\" target=\"_blank\"><div class=\"goods_title\">e북</div><div class=\"bookListItem_vendor__d_xBD\">판매처 <!-- -->4</div></a><span class=\"bookPrice_price__zr5dh\">구매<!-- --> <em>25,200</em>원</span></div><a class=\"bookListItem_btn_report__cjrVh linkAnchor\" data-nclick=\"N=a:stab1l*c.report,i:42173058623,r:3\" href=\"https://search.shopping.naver.com/book/report/product?nvMid=42173058623\" target=\"popup\"><svg class=\"bookListItem_svg_report__xc5Xi\" height=\"12\" width=\"12\" xmlns=\"http://www.w3.org/2000/svg\"><g fill=\"none\" fill-rule=\"evenodd\" stroke=\"#999\"><path d=\"M5.999 1a4.166 4.166 0 0 0-4.166 4.166V8.5h8.334V5.166A4.167 4.167 0 0 0 5.999 1z\" stroke-linejoin=\"round\"></path><path d=\"M5.583 3.083c-.92 0-1.666.746-1.666 1.667M1 11h10V8.5H1z\"></path></g></svg>신고</a></div></div></li>,\n",
       " <li class=\"bookListItem_item_book__1yCey\"><div class=\"bookListItem_item_inner__Fp7hN\"><a class=\"bookListItem_info_top__VgpiO linkAnchor\" data-i=\"40354085633\" data-nclick=\"N=a:stab1l*c.info,i:40354085633,r:4\" href=\"https://cr3.shopping.naver.com/book/adcr?x=JyXEqL66RswxDqCn4X7uU%2F%2F%2F%2Fw%3D%3Ds5wg5KYHWWnwvyrz4xSq%2FWozKVMbAl8ugU7g5HiMGCHy57StUFLKmRh1TRW6ZM83N4%2F5KWZ6tFStUdfjr3R86IZ7FWzSOT3260RpHjzTrkYvW6%2Fmgy3Y4KMhDn%2BJ6yE4yMQoUMOeBpXsr%2FDUcA16wxd9%2BKy%2Fm0d%2BgYWHtEf61Jo4Nj51x%2B5NtY5Hk3HVsotFZAnxZJG0XE4iQR8nldX95MF7lf97rnwmjkFEj%2FbIsWo8Si1jPP8Yt02lZX7%2BJ%2FItcX3h64qwrGLq84J1p5pEmIIWsOdrz2GsDwyuzTkbiJMs%2Bd0TcbJiTH3Lys8V5OoWgcfY62%2F%2BxY4w5xbi4%2BHEPriFzevyVajC7NvPtfqyjQhy0vsTb0N96OfouyaNPBJmGbSaYUAR5OgK45HyKFf50r0eq7xa2bs6%2FahMzsv2lyyKAy%2BQuR2QQ0ZwvsTrKpWDLzfNVo1KcSVSazeZg7M%2BAaVq4ieBZFlKty9pEQZ2mYpBEkjl0kXQRv0ricU1YZ%2B0FMhn5r4ftWDF2E66Jr8uMt%2BCJsjhVia1FPoNfnPCAK9Eh7avOjVf9UscdQuAPGD3PyMRKY036vKJ6UZX3NwIa3s3zVaNSnElUms3mYOzPgGmNdPisRTy5Azu8oXP0HAys&amp;nvMid=40354085633&amp;catId=50010920\" rel=\"noopener\" target=\"_blank\"><div class=\"bookListItem_thumbnail_area__JSZ_U\"><div class=\"bookListItem_thumbnail___NBwO\"><img alt=\"Do it! 점프 투 파이썬\" src=\"https://shopping-phinf.pstatic.net/main_4035408/40354085633.20230919130929.jpg?type=w300\"/></div></div><div class=\"bookListItem_text_area__hF892\"><div class=\"bookListItem_title__X7f9_\"><span class=\"bookListItem_text__bglOw\"><span>Do it! 점프 투 파이썬</span><span> (중학생도 첫날부터 실습하는 초고속 입문서)</span></span></div><div class=\"bookListItem_feature__txTlp\">컴퓨터/IT 5위</div><div class=\"bookListItem_detail__RBQ6x\"><div class=\"bookListItem_define_item__LdTib\"><span class=\"bookListItem_define_title__ujtNf\">저자</span><span class=\"bookListItem_define_data__kKD8t\">박응용</span></div><div class=\"bookListItem_define_item__LdTib bookListItem_publish____VOP\"><div class=\"bookListItem_detail_publish__FgPYQ\"><span class=\"bookListItem_define_title__ujtNf\">출판</span><span class=\"bookListItem_define_data__kKD8t\">이지스퍼블리싱</span></div><div class=\"bookListItem_detail_date___byvG\">2023.06.15.</div></div></div><div class=\"bookListItem_grade__tywh2\"><span class=\"bookListItem_star__A_4PU\"><svg class=\"svg_star\" height=\"14\" width=\"15\" xmlns=\"http://www.w3.org/2000/svg\"><g fill=\"none\" fill-rule=\"evenodd\"><path d=\"m5.874 5.513-.374.005L1 5.58l3.867 2.944-.104.335L3.486 13 7.5 10.383l.298.193L11.514 13l-1.38-4.476.284-.217L14 5.58l-4.873-.067L7.5 1z\" fill=\"#FF5356\"></path><path d=\"M7.5 1 5.873 5.513 5.5 5.52 1 5.58l3.866 2.944-.103.335L3.486 13 7.5 10.383l.298.195L11.514 13l-1.381-4.476.285-.216L14 5.58l-4.873-.067z\" stroke=\"#F43435\" stroke-linecap=\"round\" stroke-linejoin=\"round\" stroke-width=\"0.95\"></path></g></svg>평점</span>4.9<!-- --> <span class=\"bookListItem_reviewer__kwofa\">(<!-- -->49<!-- -->)</span></div></div></a><a class=\"bookListItem_btn_zzim__Jg53Q N=a:stab1l*c.fav,i:40354085633,r:4\" data-i=\"40354085633\" data-nclick=\"N=a:stab1l*c.fav,i:40354085633,r:4\" href=\"#\" role=\"button\"><svg class=\"bookListItem_svg_zzim__z_wK4\" height=\"27\" width=\"27\" xmlns=\"http://www.w3.org/2000/svg\"><g fill=\"none\" fill-rule=\"evenodd\"><circle cx=\"13.5\" cy=\"13.5\" fill=\"#FFF\" r=\"13\" stroke=\"#E2E2E2\"></circle><path d=\"m13.486 20.77-6.157-6.064a3.749 3.749 0 0 1 2.652-6.398c1.004 0 1.947.39 2.656 1.098.15.236.15.425 0 .567-.15.141-.351.142-.602 0-1.098-1.098-3.011-1.097-4.105 0a2.945 2.945 0 0 0-.001 4.164l5.557 5.472 5.748-5.657c.993-1.127.928-2.884-.167-3.979-1.097-1.1-3.01-1.098-4.107 0l-2.588 2.558a1.206 1.206 0 0 0-.004 1.745c.5.483 1.312.483 1.812 0l2.224-2.19a.426.426 0 0 1 .593-.003.401.401 0 0 1 .004.575l-2.227 2.192a2.17 2.17 0 0 1-2.998.002 2.005 2.005 0 0 1 0-2.894l2.584-2.554a3.727 3.727 0 0 1 2.655-1.096c1.004 0 1.947.39 2.654 1.099 1.393 1.392 1.474 3.63.181 5.095\" fill=\"gray\"></path></g></svg><span class=\"bookListItem_text__bglOw\">찜하기</span></a><div class=\"bookListItem_sub_info__AfkOO\"><div class=\"bookListItem_item_sub__bTJ7u\"><a class=\"bookListItem_item_box__6Mjr9 linkAnchor\" data-i=\"40354085633\" data-nclick=\"N=a:stab1l*c.pricep,i:40354085633,r:4\" href=\"https://cr3.shopping.naver.com/book/adcr?x=JyXEqL66RswxDqCn4X7uU%2F%2F%2F%2Fw%3D%3Ds5wg5KYHWWnwvyrz4xSq%2FWozKVMbAl8ugU7g5HiMGCHy57StUFLKmRh1TRW6ZM83N4%2F5KWZ6tFStUdfjr3R86IZ7FWzSOT3260RpHjzTrkYvW6%2Fmgy3Y4KMhDn%2BJ6yE4yMQoUMOeBpXsr%2FDUcA16wxd9%2BKy%2Fm0d%2BgYWHtEf61Jo4Nj51x%2B5NtY5Hk3HVsotFZAnxZJG0XE4iQR8nldX95MF7lf97rnwmjkFEj%2FbIsWo8Si1jPP8Yt02lZX7%2BJ%2FItcX3h64qwrGLq84J1p5pEmIIWsOdrz2GsDwyuzTkbiJMs%2Bd0TcbJiTH3Lys8V5OoWgcfY62%2F%2BxY4w5xbi4%2BHEPriFzevyVajC7NvPtfqyjQhy0vsTb0N96OfouyaNPBJmGbSaYUAR5OgK45HyKFf50r0eq7xa2bs6%2FahMzsv2lyyKAy%2BQuR2QQ0ZwvsTrKpWDLzfNVo1KcSVSazeZg7M%2BAaVq4ieBZFlKty9pEQZ2mYpBEkjl0kXQRv0ricU1YZ%2B0FMhn5r4ftWDF2E66Jr8uMt%2BCJsjhVia1FPoNfnPCAK9Eh7avOjVf9UscdQuAPGD3PyMRKY036vKJ6UZX3NwIa3s3zVaNSnElUms3mYOzPgGmNdPisRTy5Azu8oXP0HAys&amp;nvMid=40354085633&amp;catId=50010920\" rel=\"noopener\" target=\"_blank\"><div class=\"goods_title\">도서</div><div class=\"bookListItem_vendor__d_xBD\">판매처 <!-- -->162</div></a><span class=\"bookPrice_price__zr5dh\">최저<!-- --> <em>19,800</em>원</span></div><div class=\"bookListItem_item_sub__bTJ7u\"><a class=\"bookListItem_item_box__6Mjr9 linkAnchor\" data-i=\"40354085633\" data-nclick=\"N=a:stab1l*c.pricee,i:40354085633,r:4\" href=\"https://cr3.shopping.naver.com/book/adcr?x=JyXEqL66RswxDqCn4X7uU%2F%2F%2F%2Fw%3D%3Ds5wg5KYHWWnwvyrz4xSq%2FWozKVMbAl8ugU7g5HiMGCHy57StUFLKmRh1TRW6ZM83N4%2F5KWZ6tFStUdfjr3R86IZ7FWzSOT3260RpHjzTrkYvW6%2Fmgy3Y4KMhDn%2BJ6yE4yMQoUMOeBpXsr%2FDUcA16wxd9%2BKy%2Fm0d%2BgYWHtEf61Jo4Nj51x%2B5NtY5Hk3HVsotFZAnxZJG0XE4iQR8nldX95MF7lf97rnwmjkFEj%2FbIsWo8Si1jPP8Yt02lZX7%2BJ%2FItcX3h64qwrGLq84J1p5pEmIIWsOdrz2GsDwyuzTkbiJMs%2Bd0TcbJiTH3Lys8V5OoWgcfY62%2F%2BxY4w5xbi4%2BHEPriFzevyVajC7NvPtfqyjQhy0vsTb0N96OfouyaNPBJmGbSaYUAR5OgK45HyKFf50r0eq7xa2bs6%2FahMzsv2lyyKAy%2BQuR2QQ0ZwvsTrKpWDLzfNVo1KcSVSazeZg7M%2BAaVq4ieBZFlKty9pEQZ2mYpBEkjl0kXQRv0ricU1YZ%2B0FMhn5r4ftWDF2E66Jr8uMt%2BCJsjhVia1FPoNfnPCAK9Eh7avOjVf9UscdQuAPGD3PyMRKY036vKJ6UZX3NwIa3s3zVaNSnElUms3mYOzPgGmNdPisRTy5Azu8oXP0HAys&amp;nvMid=40354085633&amp;catId=50010920\" rel=\"noopener\" target=\"_blank\"><div class=\"goods_title\">e북</div><div class=\"bookListItem_vendor__d_xBD\">판매처 <!-- -->4</div></a><span class=\"bookPrice_price__zr5dh\">구매<!-- --> <em>13,500</em>원</span></div><a class=\"bookListItem_btn_report__cjrVh linkAnchor\" data-nclick=\"N=a:stab1l*c.report,i:40354085633,r:4\" href=\"https://search.shopping.naver.com/book/report/product?nvMid=40354085633\" target=\"popup\"><svg class=\"bookListItem_svg_report__xc5Xi\" height=\"12\" width=\"12\" xmlns=\"http://www.w3.org/2000/svg\"><g fill=\"none\" fill-rule=\"evenodd\" stroke=\"#999\"><path d=\"M5.999 1a4.166 4.166 0 0 0-4.166 4.166V8.5h8.334V5.166A4.167 4.167 0 0 0 5.999 1z\" stroke-linejoin=\"round\"></path><path d=\"M5.583 3.083c-.92 0-1.666.746-1.666 1.667M1 11h10V8.5H1z\"></path></g></svg>신고</a></div></div></li>,\n",
       " <li class=\"bookListItem_item_book__1yCey\"><div class=\"bookListItem_item_inner__Fp7hN\"><a class=\"bookListItem_info_top__VgpiO linkAnchor\" data-i=\"42484664618\" data-nclick=\"N=a:stab1l*c.info,i:42484664618,r:5\" href=\"https://cr3.shopping.naver.com/book/adcr?x=f1YAbF%2BLxQn6TT0AlqRToP%2F%2F%2Fw%3D%3DsZICmKW%2Ffdrr6iu8i11y50fApaABCCYqURKLfMS22p4ToLdJsmLe0ih5KVXMQNR0tF02GRVJRSPR7frshrCcMlNxIjgbflltgvEQbLoNWERSccjp4dwMX%2Fb%2BwjPoiKkopDGFJhaa7gItRzyDgzBdRcVVd6Z%2BmZ5fvTALbBBPmfKIKVnJqocqfFwLra6hFr54BWb1Mb7biPToyquRF3aK3pfj6xDMeJaPTHtDIoNWns%2BM%2BoN22s6dKwm7Qn7boTIbfr9lKBJ72xSdUlAg54IqouvziKuqi6lvlwe2gIVAf2UAfPZcFNtCPSmp7XCTzD5M1nTA3JmbDOshDuZxVHcaj%2FBTTVoyc1TJkglBxgQt00u00R8LmVsuIXrRndZNjKZnjvd1KjBnNlG933oUkWOZUeI%2BTI5LtliRqfOF7YCo%2BEYn8ORx0MpKNZ%2FBQpEkYlichf5VORkkZ%2FGzAPyNzthD%2F9BPsy9mvWb%2BCKv1o4PpMB9xyTNBcUUJVidWPWHxY6%2BwSTx0m%2FAsuHmYr5t4JKRbLE%2FVuYP%2FxcWayoXsHb3qiiaQXgKCBXaokRPfV2QcULfft63amo3CAIgaDXQIo6fYMWvEnYw5CxZ3h2t2wyM7r4g4tv14vi5WSJ1CQMeM9rnwvzUhNzs2VE%2B%2Bisqs3JAEppg%3D%3D&amp;nvMid=42484664618&amp;catId=50010920\" rel=\"noopener\" target=\"_blank\"><div class=\"bookListItem_thumbnail_area__JSZ_U\"><div class=\"bookListItem_thumbnail___NBwO\"><img alt=\"나는 파이썬으로 머신러닝한다 2\" src=\"https://shopping-phinf.pstatic.net/main_4248466/42484664618.20230919131751.jpg?type=w300\"/></div></div><div class=\"bookListItem_text_area__hF892\"><div class=\"bookListItem_title__X7f9_\"><span class=\"bookListItem_text__bglOw\"><span>나는 파이썬으로 머신러닝한다 2</span><span> (인공지능 자신감 UP 인공지능 약간 매운맛)</span></span></div><div class=\"bookListItem_feature__txTlp\">컴퓨터/IT 79위</div><div class=\"bookListItem_detail__RBQ6x\"><div class=\"bookListItem_define_item__LdTib\"><span class=\"bookListItem_define_title__ujtNf\">저자</span><span class=\"bookListItem_define_data__kKD8t\">장병철, 이지항 외 2명</span></div><div class=\"bookListItem_define_item__LdTib bookListItem_publish____VOP\"><div class=\"bookListItem_detail_publish__FgPYQ\"><span class=\"bookListItem_define_title__ujtNf\">출판</span><span class=\"bookListItem_define_data__kKD8t\">씨마스</span></div><div class=\"bookListItem_detail_date___byvG\">2023.09.01.</div></div></div><div class=\"bookListItem_grade__tywh2\"><span class=\"bookListItem_star__A_4PU\"><svg class=\"svg_star\" height=\"14\" width=\"15\" xmlns=\"http://www.w3.org/2000/svg\"><g fill=\"none\" fill-rule=\"evenodd\"><path d=\"m5.874 5.513-.374.005L1 5.58l3.867 2.944-.104.335L3.486 13 7.5 10.383l.298.193L11.514 13l-1.38-4.476.284-.217L14 5.58l-4.873-.067L7.5 1z\" fill=\"#FF5356\"></path><path d=\"M7.5 1 5.873 5.513 5.5 5.52 1 5.58l3.866 2.944-.103.335L3.486 13 7.5 10.383l.298.195L11.514 13l-1.381-4.476.285-.216L14 5.58l-4.873-.067z\" stroke=\"#F43435\" stroke-linecap=\"round\" stroke-linejoin=\"round\" stroke-width=\"0.95\"></path></g></svg>평점</span>5.0<!-- --> <span class=\"bookListItem_reviewer__kwofa\">(<!-- -->1<!-- -->)</span></div></div></a><a class=\"bookListItem_btn_zzim__Jg53Q N=a:stab1l*c.fav,i:42484664618,r:5\" data-i=\"42484664618\" data-nclick=\"N=a:stab1l*c.fav,i:42484664618,r:5\" href=\"#\" role=\"button\"><svg class=\"bookListItem_svg_zzim__z_wK4\" height=\"27\" width=\"27\" xmlns=\"http://www.w3.org/2000/svg\"><g fill=\"none\" fill-rule=\"evenodd\"><circle cx=\"13.5\" cy=\"13.5\" fill=\"#FFF\" r=\"13\" stroke=\"#E2E2E2\"></circle><path d=\"m13.486 20.77-6.157-6.064a3.749 3.749 0 0 1 2.652-6.398c1.004 0 1.947.39 2.656 1.098.15.236.15.425 0 .567-.15.141-.351.142-.602 0-1.098-1.098-3.011-1.097-4.105 0a2.945 2.945 0 0 0-.001 4.164l5.557 5.472 5.748-5.657c.993-1.127.928-2.884-.167-3.979-1.097-1.1-3.01-1.098-4.107 0l-2.588 2.558a1.206 1.206 0 0 0-.004 1.745c.5.483 1.312.483 1.812 0l2.224-2.19a.426.426 0 0 1 .593-.003.401.401 0 0 1 .004.575l-2.227 2.192a2.17 2.17 0 0 1-2.998.002 2.005 2.005 0 0 1 0-2.894l2.584-2.554a3.727 3.727 0 0 1 2.655-1.096c1.004 0 1.947.39 2.654 1.099 1.393 1.392 1.474 3.63.181 5.095\" fill=\"gray\"></path></g></svg><span class=\"bookListItem_text__bglOw\">찜하기</span></a><div class=\"bookListItem_sub_info__AfkOO\"><div class=\"bookListItem_item_sub__bTJ7u\"><a class=\"bookListItem_item_box__6Mjr9 linkAnchor\" data-i=\"42484664618\" data-nclick=\"N=a:stab1l*c.pricep,i:42484664618,r:5\" href=\"https://cr3.shopping.naver.com/book/adcr?x=f1YAbF%2BLxQn6TT0AlqRToP%2F%2F%2Fw%3D%3DsZICmKW%2Ffdrr6iu8i11y50fApaABCCYqURKLfMS22p4ToLdJsmLe0ih5KVXMQNR0tF02GRVJRSPR7frshrCcMlNxIjgbflltgvEQbLoNWERSccjp4dwMX%2Fb%2BwjPoiKkopDGFJhaa7gItRzyDgzBdRcVVd6Z%2BmZ5fvTALbBBPmfKIKVnJqocqfFwLra6hFr54BWb1Mb7biPToyquRF3aK3pfj6xDMeJaPTHtDIoNWns%2BM%2BoN22s6dKwm7Qn7boTIbfr9lKBJ72xSdUlAg54IqouvziKuqi6lvlwe2gIVAf2UAfPZcFNtCPSmp7XCTzD5M1nTA3JmbDOshDuZxVHcaj%2FBTTVoyc1TJkglBxgQt00u00R8LmVsuIXrRndZNjKZnjvd1KjBnNlG933oUkWOZUeI%2BTI5LtliRqfOF7YCo%2BEYn8ORx0MpKNZ%2FBQpEkYlichf5VORkkZ%2FGzAPyNzthD%2F9BPsy9mvWb%2BCKv1o4PpMB9xyTNBcUUJVidWPWHxY6%2BwSTx0m%2FAsuHmYr5t4JKRbLE%2FVuYP%2FxcWayoXsHb3qiiaQXgKCBXaokRPfV2QcULfft63amo3CAIgaDXQIo6fYMWvEnYw5CxZ3h2t2wyM7r4g4tv14vi5WSJ1CQMeM9rnwvzUhNzs2VE%2B%2Bisqs3JAEppg%3D%3D&amp;nvMid=42484664618&amp;catId=50010920\" rel=\"noopener\" target=\"_blank\"><div class=\"goods_title\">도서</div><div class=\"bookListItem_vendor__d_xBD\">판매처 <!-- -->54</div></a><span class=\"bookPrice_price__zr5dh\">최저<!-- --> <em>20,700</em>원</span></div><a class=\"bookListItem_btn_report__cjrVh linkAnchor\" data-nclick=\"N=a:stab1l*c.report,i:42484664618,r:5\" href=\"https://search.shopping.naver.com/book/report/product?nvMid=42484664618\" target=\"popup\"><svg class=\"bookListItem_svg_report__xc5Xi\" height=\"12\" width=\"12\" xmlns=\"http://www.w3.org/2000/svg\"><g fill=\"none\" fill-rule=\"evenodd\" stroke=\"#999\"><path d=\"M5.999 1a4.166 4.166 0 0 0-4.166 4.166V8.5h8.334V5.166A4.167 4.167 0 0 0 5.999 1z\" stroke-linejoin=\"round\"></path><path d=\"M5.583 3.083c-.92 0-1.666.746-1.666 1.667M1 11h10V8.5H1z\"></path></g></svg>신고</a></div></div></li>,\n",
       " <li class=\"bookListItem_item_book__1yCey\"><div class=\"bookListItem_item_inner__Fp7hN\"><a class=\"bookListItem_info_top__VgpiO linkAnchor\" data-i=\"32507605957\" data-nclick=\"N=a:stab1l*c.info,i:32507605957,r:6\" href=\"https://cr3.shopping.naver.com/book/adcr?x=iVlQkdteK1YMcziwQKjBEP%2F%2F%2Fw%3D%3DsYEjgDY9q9tdDVinsl1Pxn3SavTTTXiBICYZv52R7PIy57StUFLKmRh1TRW6ZM83NEerzm9pKXXc38rYaCzt7Hp7FWzSOT3260RpHjzTrkYvW6%2Fmgy3Y4KMhDn%2BJ6yE4yMQoUMOeBpXsr%2FDUcA16wxd9%2BKy%2Fm0d%2BgYWHtEf61Jo4Nj51x%2B5NtY5Hk3HVsotFZd6XR4pPaLRiYiJIYw70nSj3U7Q6MTwrU3FR7udgasvcSi1jPP8Yt02lZX7%2BJ%2FItcX3h64qwrGLq84J1p5pEmIIWsOdrz2GsDwyuzTkbiJMs%2Bd0TcbJiTH3Lys8V5OoWgcfY62%2F%2BxY4w5xbi4%2BHEPriFzevyVajC7NvPtfqyjQhzKHpHnQMgBBnCTd6N%2Bf0%2F3nej2z53PUS1TSUIYwD3Ij0eq7xa2bs6%2FahMzsv2lyyIoFUJht16kwWLdhhtLycuBzfNVo1KcSVSazeZg7M%2BAaU2IVjL6BFcjteNcmc1cUOjGup%2B6sy11P0ZgwthWWcP9gaTmsHOi4pxcTo6ldDev%2BIZMDaUx77Vs0mY%2FoeAAdLDks4qGbaANy%2Bv7%2F5bsJz2WmE11trPbpjt%2BN5%2Fk87U1GFp%2BiM69rtZoGmolz8iSxPEiQlobJat8LrVlXwYhm8Ln&amp;nvMid=32507605957&amp;catId=50010920\" rel=\"noopener\" target=\"_blank\"><div class=\"bookListItem_thumbnail_area__JSZ_U\"><div class=\"bookListItem_thumbnail___NBwO\"><img alt=\"혼자 공부하는 파이썬\" src=\"https://shopping-phinf.pstatic.net/main_3250760/32507605957.20230509170119.jpg?type=w300\"/></div></div><div class=\"bookListItem_text_area__hF892\"><div class=\"bookListItem_title__X7f9_\"><span class=\"bookListItem_text__bglOw\"><span>혼자 공부하는 파이썬</span><span> (1:1 과외하듯 배우는 프로그래밍 자습서)</span></span></div><div class=\"bookListItem_feature__txTlp\">컴퓨터/IT 9위</div><div class=\"bookListItem_detail__RBQ6x\"><div class=\"bookListItem_define_item__LdTib\"><span class=\"bookListItem_define_title__ujtNf\">저자</span><span class=\"bookListItem_define_data__kKD8t\">윤인성</span></div><div class=\"bookListItem_define_item__LdTib bookListItem_publish____VOP\"><div class=\"bookListItem_detail_publish__FgPYQ\"><span class=\"bookListItem_define_title__ujtNf\">출판</span><span class=\"bookListItem_define_data__kKD8t\">한빛미디어</span></div><div class=\"bookListItem_detail_date___byvG\">2022.06.01.</div></div></div><div class=\"bookListItem_grade__tywh2\"><span class=\"bookListItem_star__A_4PU\"><svg class=\"svg_star\" height=\"14\" width=\"15\" xmlns=\"http://www.w3.org/2000/svg\"><g fill=\"none\" fill-rule=\"evenodd\"><path d=\"m5.874 5.513-.374.005L1 5.58l3.867 2.944-.104.335L3.486 13 7.5 10.383l.298.193L11.514 13l-1.38-4.476.284-.217L14 5.58l-4.873-.067L7.5 1z\" fill=\"#FF5356\"></path><path d=\"M7.5 1 5.873 5.513 5.5 5.52 1 5.58l3.866 2.944-.103.335L3.486 13 7.5 10.383l.298.195L11.514 13l-1.381-4.476.285-.216L14 5.58l-4.873-.067z\" stroke=\"#F43435\" stroke-linecap=\"round\" stroke-linejoin=\"round\" stroke-width=\"0.95\"></path></g></svg>평점</span>4.9<!-- --> <span class=\"bookListItem_reviewer__kwofa\">(<!-- -->19<!-- -->)</span></div></div></a><a class=\"bookListItem_btn_zzim__Jg53Q N=a:stab1l*c.fav,i:32507605957,r:6\" data-i=\"32507605957\" data-nclick=\"N=a:stab1l*c.fav,i:32507605957,r:6\" href=\"#\" role=\"button\"><svg class=\"bookListItem_svg_zzim__z_wK4\" height=\"27\" width=\"27\" xmlns=\"http://www.w3.org/2000/svg\"><g fill=\"none\" fill-rule=\"evenodd\"><circle cx=\"13.5\" cy=\"13.5\" fill=\"#FFF\" r=\"13\" stroke=\"#E2E2E2\"></circle><path d=\"m13.486 20.77-6.157-6.064a3.749 3.749 0 0 1 2.652-6.398c1.004 0 1.947.39 2.656 1.098.15.236.15.425 0 .567-.15.141-.351.142-.602 0-1.098-1.098-3.011-1.097-4.105 0a2.945 2.945 0 0 0-.001 4.164l5.557 5.472 5.748-5.657c.993-1.127.928-2.884-.167-3.979-1.097-1.1-3.01-1.098-4.107 0l-2.588 2.558a1.206 1.206 0 0 0-.004 1.745c.5.483 1.312.483 1.812 0l2.224-2.19a.426.426 0 0 1 .593-.003.401.401 0 0 1 .004.575l-2.227 2.192a2.17 2.17 0 0 1-2.998.002 2.005 2.005 0 0 1 0-2.894l2.584-2.554a3.727 3.727 0 0 1 2.655-1.096c1.004 0 1.947.39 2.654 1.099 1.393 1.392 1.474 3.63.181 5.095\" fill=\"gray\"></path></g></svg><span class=\"bookListItem_text__bglOw\">찜하기</span></a><div class=\"bookListItem_sub_info__AfkOO\"><div class=\"bookListItem_item_sub__bTJ7u\"><a class=\"bookListItem_item_box__6Mjr9 linkAnchor\" data-i=\"32507605957\" data-nclick=\"N=a:stab1l*c.pricep,i:32507605957,r:6\" href=\"https://cr3.shopping.naver.com/book/adcr?x=iVlQkdteK1YMcziwQKjBEP%2F%2F%2Fw%3D%3DsYEjgDY9q9tdDVinsl1Pxn3SavTTTXiBICYZv52R7PIy57StUFLKmRh1TRW6ZM83NEerzm9pKXXc38rYaCzt7Hp7FWzSOT3260RpHjzTrkYvW6%2Fmgy3Y4KMhDn%2BJ6yE4yMQoUMOeBpXsr%2FDUcA16wxd9%2BKy%2Fm0d%2BgYWHtEf61Jo4Nj51x%2B5NtY5Hk3HVsotFZd6XR4pPaLRiYiJIYw70nSj3U7Q6MTwrU3FR7udgasvcSi1jPP8Yt02lZX7%2BJ%2FItcX3h64qwrGLq84J1p5pEmIIWsOdrz2GsDwyuzTkbiJMs%2Bd0TcbJiTH3Lys8V5OoWgcfY62%2F%2BxY4w5xbi4%2BHEPriFzevyVajC7NvPtfqyjQhzKHpHnQMgBBnCTd6N%2Bf0%2F3nej2z53PUS1TSUIYwD3Ij0eq7xa2bs6%2FahMzsv2lyyIoFUJht16kwWLdhhtLycuBzfNVo1KcSVSazeZg7M%2BAaU2IVjL6BFcjteNcmc1cUOjGup%2B6sy11P0ZgwthWWcP9gaTmsHOi4pxcTo6ldDev%2BIZMDaUx77Vs0mY%2FoeAAdLDks4qGbaANy%2Bv7%2F5bsJz2WmE11trPbpjt%2BN5%2Fk87U1GFp%2BiM69rtZoGmolz8iSxPEiQlobJat8LrVlXwYhm8Ln&amp;nvMid=32507605957&amp;catId=50010920\" rel=\"noopener\" target=\"_blank\"><div class=\"goods_title\">도서</div><div class=\"bookListItem_vendor__d_xBD\">판매처 <!-- -->137</div></a><span class=\"bookPrice_price__zr5dh\">최저<!-- --> <em>19,800</em>원</span></div><div class=\"bookListItem_item_sub__bTJ7u\"><a class=\"bookListItem_item_box__6Mjr9 linkAnchor\" data-i=\"32507605957\" data-nclick=\"N=a:stab1l*c.pricee,i:32507605957,r:6\" href=\"https://cr3.shopping.naver.com/book/adcr?x=iVlQkdteK1YMcziwQKjBEP%2F%2F%2Fw%3D%3DsYEjgDY9q9tdDVinsl1Pxn3SavTTTXiBICYZv52R7PIy57StUFLKmRh1TRW6ZM83NEerzm9pKXXc38rYaCzt7Hp7FWzSOT3260RpHjzTrkYvW6%2Fmgy3Y4KMhDn%2BJ6yE4yMQoUMOeBpXsr%2FDUcA16wxd9%2BKy%2Fm0d%2BgYWHtEf61Jo4Nj51x%2B5NtY5Hk3HVsotFZd6XR4pPaLRiYiJIYw70nSj3U7Q6MTwrU3FR7udgasvcSi1jPP8Yt02lZX7%2BJ%2FItcX3h64qwrGLq84J1p5pEmIIWsOdrz2GsDwyuzTkbiJMs%2Bd0TcbJiTH3Lys8V5OoWgcfY62%2F%2BxY4w5xbi4%2BHEPriFzevyVajC7NvPtfqyjQhzKHpHnQMgBBnCTd6N%2Bf0%2F3nej2z53PUS1TSUIYwD3Ij0eq7xa2bs6%2FahMzsv2lyyIoFUJht16kwWLdhhtLycuBzfNVo1KcSVSazeZg7M%2BAaU2IVjL6BFcjteNcmc1cUOjGup%2B6sy11P0ZgwthWWcP9gaTmsHOi4pxcTo6ldDev%2BIZMDaUx77Vs0mY%2FoeAAdLDks4qGbaANy%2Bv7%2F5bsJz2WmE11trPbpjt%2BN5%2Fk87U1GFp%2BiM69rtZoGmolz8iSxPEiQlobJat8LrVlXwYhm8Ln&amp;nvMid=32507605957&amp;catId=50010920\" rel=\"noopener\" target=\"_blank\"><div class=\"goods_title\">e북</div><div class=\"bookListItem_vendor__d_xBD\">판매처 <!-- -->4</div></a><span class=\"bookPrice_price__zr5dh\">구매<!-- --> <em>15,840</em>원</span></div><a class=\"bookListItem_btn_report__cjrVh linkAnchor\" data-nclick=\"N=a:stab1l*c.report,i:32507605957,r:6\" href=\"https://search.shopping.naver.com/book/report/product?nvMid=32507605957\" target=\"popup\"><svg class=\"bookListItem_svg_report__xc5Xi\" height=\"12\" width=\"12\" xmlns=\"http://www.w3.org/2000/svg\"><g fill=\"none\" fill-rule=\"evenodd\" stroke=\"#999\"><path d=\"M5.999 1a4.166 4.166 0 0 0-4.166 4.166V8.5h8.334V5.166A4.167 4.167 0 0 0 5.999 1z\" stroke-linejoin=\"round\"></path><path d=\"M5.583 3.083c-.92 0-1.666.746-1.666 1.667M1 11h10V8.5H1z\"></path></g></svg>신고</a></div></div></li>,\n",
       " <li class=\"bookListItem_item_book__1yCey\"><div class=\"bookListItem_item_inner__Fp7hN\"><a class=\"bookListItem_info_top__VgpiO linkAnchor\" data-i=\"40595743620\" data-nclick=\"N=a:stab1l*c.info,i:40595743620,r:7\" href=\"https://cr3.shopping.naver.com/book/adcr?x=tsG5Pqd9f76gIk%2FlLCJeDv%2F%2F%2Fw%3D%3DsnVGIlDeZJF21RU%2B9wIt0EADeK0r7UFHCh33%2FfIt%2BPKLoLdJsmLe0ih5KVXMQNR0tXNTKtPLgAU84kPJtSYgKBNxIjgbflltgvEQbLoNWERSccjp4dwMX%2Fb%2BwjPoiKkopDGFJhaa7gItRzyDgzBdRcVVd6Z%2BmZ5fvTALbBBPmfKIKVnJqocqfFwLra6hFr54BvFkdfWOmiTgcIZ49%2FP01L%2Fj6xDMeJaPTHtDIoNWns%2BM%2BoN22s6dKwm7Qn7boTIbfr9lKBJ72xSdUlAg54IqouvziKuqi6lvlwe2gIVAf2UAfPZcFNtCPSmp7XCTzD5M1nTA3JmbDOshDuZxVHcaj%2FBTTVoyc1TJkglBxgQt00u2t8T04SRo0fezYpMshUM8Evd1KjBnNlG933oUkWOZUeI%2BTI5LtliRqfOF7YCo%2BEYkxwqLe5s0YbfkYFtJ8t2dGf2AuPqje%2Bd5jNfTrpcYfVGBpBr2l2pK%2FEYpRPsmgr5YX%2Fw5SbY7hzDeFihWOPTYrGaDs4wHWQiSrERQ882wenGvdKAo9BBIP7%2BjIdE6Tpo1cIBDN8Tkg7QBeqHvLjYM3TL8Iaz9ooeT7ZukKAi%2BFxZ1kAkBxOq9C%2BB8UnbGJGC84GUD4Cse8hIjNblRwmU6N5cpi4XzhOrShino8V0zOvg%3D%3D&amp;nvMid=40595743620&amp;catId=50010920\" rel=\"noopener\" target=\"_blank\"><div class=\"bookListItem_thumbnail_area__JSZ_U\"><div class=\"bookListItem_thumbnail___NBwO\"><img alt=\"파이썬으로 쉽게 배우는 자료구조\" src=\"https://shopping-phinf.pstatic.net/main_4059574/40595743620.20230711115354.jpg?type=w300\"/></div></div><div class=\"bookListItem_text_area__hF892\"><div class=\"bookListItem_title__X7f9_\"><span class=\"bookListItem_text__bglOw\"><span>파이썬으로 쉽게 배우는 자료구조</span><span> (개정판)</span></span></div><div class=\"bookListItem_feature__txTlp\">컴퓨터/IT 70위</div><div class=\"bookListItem_detail__RBQ6x\"><div class=\"bookListItem_define_item__LdTib\"><span class=\"bookListItem_define_title__ujtNf\">저자</span><span class=\"bookListItem_define_data__kKD8t\">최영규, 천인국</span></div><div class=\"bookListItem_define_item__LdTib bookListItem_publish____VOP\"><div class=\"bookListItem_detail_publish__FgPYQ\"><span class=\"bookListItem_define_title__ujtNf\">출판</span><span class=\"bookListItem_define_data__kKD8t\">생능출판</span></div><div class=\"bookListItem_detail_date___byvG\">2023.06.26.</div></div></div><div class=\"bookListItem_grade__tywh2\"><span class=\"bookListItem_star__A_4PU\"><svg class=\"svg_star\" height=\"14\" width=\"15\" xmlns=\"http://www.w3.org/2000/svg\"><g fill=\"none\" fill-rule=\"evenodd\"><path d=\"m5.874 5.513-.374.005L1 5.58l3.867 2.944-.104.335L3.486 13 7.5 10.383l.298.193L11.514 13l-1.38-4.476.284-.217L14 5.58l-4.873-.067L7.5 1z\" fill=\"#FF5356\"></path><path d=\"M7.5 1 5.873 5.513 5.5 5.52 1 5.58l3.866 2.944-.103.335L3.486 13 7.5 10.383l.298.195L11.514 13l-1.381-4.476.285-.216L14 5.58l-4.873-.067z\" stroke=\"#F43435\" stroke-linecap=\"round\" stroke-linejoin=\"round\" stroke-width=\"0.95\"></path></g></svg>평점</span>3.0<!-- --> <span class=\"bookListItem_reviewer__kwofa\">(<!-- -->1<!-- -->)</span></div></div></a><a class=\"bookListItem_btn_zzim__Jg53Q N=a:stab1l*c.fav,i:40595743620,r:7\" data-i=\"40595743620\" data-nclick=\"N=a:stab1l*c.fav,i:40595743620,r:7\" href=\"#\" role=\"button\"><svg class=\"bookListItem_svg_zzim__z_wK4\" height=\"27\" width=\"27\" xmlns=\"http://www.w3.org/2000/svg\"><g fill=\"none\" fill-rule=\"evenodd\"><circle cx=\"13.5\" cy=\"13.5\" fill=\"#FFF\" r=\"13\" stroke=\"#E2E2E2\"></circle><path d=\"m13.486 20.77-6.157-6.064a3.749 3.749 0 0 1 2.652-6.398c1.004 0 1.947.39 2.656 1.098.15.236.15.425 0 .567-.15.141-.351.142-.602 0-1.098-1.098-3.011-1.097-4.105 0a2.945 2.945 0 0 0-.001 4.164l5.557 5.472 5.748-5.657c.993-1.127.928-2.884-.167-3.979-1.097-1.1-3.01-1.098-4.107 0l-2.588 2.558a1.206 1.206 0 0 0-.004 1.745c.5.483 1.312.483 1.812 0l2.224-2.19a.426.426 0 0 1 .593-.003.401.401 0 0 1 .004.575l-2.227 2.192a2.17 2.17 0 0 1-2.998.002 2.005 2.005 0 0 1 0-2.894l2.584-2.554a3.727 3.727 0 0 1 2.655-1.096c1.004 0 1.947.39 2.654 1.099 1.393 1.392 1.474 3.63.181 5.095\" fill=\"gray\"></path></g></svg><span class=\"bookListItem_text__bglOw\">찜하기</span></a><div class=\"bookListItem_sub_info__AfkOO\"><div class=\"bookListItem_item_sub__bTJ7u\"><a class=\"bookListItem_item_box__6Mjr9 linkAnchor\" data-i=\"40595743620\" data-nclick=\"N=a:stab1l*c.pricep,i:40595743620,r:7\" href=\"https://cr3.shopping.naver.com/book/adcr?x=tsG5Pqd9f76gIk%2FlLCJeDv%2F%2F%2Fw%3D%3DsnVGIlDeZJF21RU%2B9wIt0EADeK0r7UFHCh33%2FfIt%2BPKLoLdJsmLe0ih5KVXMQNR0tXNTKtPLgAU84kPJtSYgKBNxIjgbflltgvEQbLoNWERSccjp4dwMX%2Fb%2BwjPoiKkopDGFJhaa7gItRzyDgzBdRcVVd6Z%2BmZ5fvTALbBBPmfKIKVnJqocqfFwLra6hFr54BvFkdfWOmiTgcIZ49%2FP01L%2Fj6xDMeJaPTHtDIoNWns%2BM%2BoN22s6dKwm7Qn7boTIbfr9lKBJ72xSdUlAg54IqouvziKuqi6lvlwe2gIVAf2UAfPZcFNtCPSmp7XCTzD5M1nTA3JmbDOshDuZxVHcaj%2FBTTVoyc1TJkglBxgQt00u2t8T04SRo0fezYpMshUM8Evd1KjBnNlG933oUkWOZUeI%2BTI5LtliRqfOF7YCo%2BEYkxwqLe5s0YbfkYFtJ8t2dGf2AuPqje%2Bd5jNfTrpcYfVGBpBr2l2pK%2FEYpRPsmgr5YX%2Fw5SbY7hzDeFihWOPTYrGaDs4wHWQiSrERQ882wenGvdKAo9BBIP7%2BjIdE6Tpo1cIBDN8Tkg7QBeqHvLjYM3TL8Iaz9ooeT7ZukKAi%2BFxZ1kAkBxOq9C%2BB8UnbGJGC84GUD4Cse8hIjNblRwmU6N5cpi4XzhOrShino8V0zOvg%3D%3D&amp;nvMid=40595743620&amp;catId=50010920\" rel=\"noopener\" target=\"_blank\"><div class=\"goods_title\">도서</div><div class=\"bookListItem_vendor__d_xBD\">판매처 <!-- -->30</div></a><span class=\"bookPrice_price__zr5dh\">최저<!-- --> <em>26,100</em>원</span></div><a class=\"bookListItem_btn_report__cjrVh linkAnchor\" data-nclick=\"N=a:stab1l*c.report,i:40595743620,r:7\" href=\"https://search.shopping.naver.com/book/report/product?nvMid=40595743620\" target=\"popup\"><svg class=\"bookListItem_svg_report__xc5Xi\" height=\"12\" width=\"12\" xmlns=\"http://www.w3.org/2000/svg\"><g fill=\"none\" fill-rule=\"evenodd\" stroke=\"#999\"><path d=\"M5.999 1a4.166 4.166 0 0 0-4.166 4.166V8.5h8.334V5.166A4.167 4.167 0 0 0 5.999 1z\" stroke-linejoin=\"round\"></path><path d=\"M5.583 3.083c-.92 0-1.666.746-1.666 1.667M1 11h10V8.5H1z\"></path></g></svg>신고</a></div></div></li>,\n",
       " <li class=\"bookListItem_item_book__1yCey\"><div class=\"bookListItem_item_inner__Fp7hN\"><a class=\"bookListItem_info_top__VgpiO linkAnchor\" data-i=\"34233217628\" data-nclick=\"N=a:stab1l*c.info,i:34233217628,r:8\" href=\"https://cr3.shopping.naver.com/book/adcr?x=FEB%2FyLp9QdW7YRB7uo4F7f%2F%2F%2Fw%3D%3DsYXZdMv%2BSlS%2Fzgo0JRGee%2Fp7bwNXfK9okJVzR5lFNxsmJnnL5Sdl1Om0OnvyPouDNWsHgd59aodcZg4noxYK97cez10KvC75IXKXEmsZjpY3VMc6ISzfSnRmT9F0G4N3nY8EigvBQinIZsg%2B2TARrJsv%2BjB2erv%2BZ%2Brrs5VHOiTTt4DqiWzfh638rk6r8T8q2b07ghmkLuHkkg743TIAdMP7IntYW81Xs6qvX%2Bsnxc5xra%2BpI6UJu%2BTwtNWUwqdlIxG2P0Q%2Fj4lhGbx8gGDwffhzzON9aTM%2Fdo2I2z9yt2AmFo49JCi6J6VM8a%2Bwjzt8%2BFqPkbhZKyIpiX5j%2F%2BxkCe1WgmKC6jv4on9gzTYjdIY2xfAxiZlReU27hOsieXre3SWkruqzLNR%2BNlNcFNXSh%2Br2rjFsnXw88P3iZF1ToG3SY%2FdVuToRNBhAmcloqDZs%2FqdBNsTtFRV22m6lbk6e%2BY24MBrv0odS5b4MSy65w6Etf0yhAU4p06hPTGmJPKPmljfZ6iDk3KJfrgos6patt1FMpu6gmuPI6RDtROkHuF9vTGB3c8PkbW4YKhe2hFTs8gq8x2MrzjCFf0q4xhTxb9Kz4gs1H4l0WZCAcYkV52Ns%3D&amp;nvMid=34233217628&amp;catId=50010920\" rel=\"noopener\" target=\"_blank\"><div class=\"bookListItem_thumbnail_area__JSZ_U\"><div class=\"bookListItem_thumbnail___NBwO\"><img alt=\"디딤돌 파이썬\" src=\"https://shopping-phinf.pstatic.net/main_3423321/34233217628.20221019114545.jpg?type=w300\"/></div></div><div class=\"bookListItem_text_area__hF892\"><div class=\"bookListItem_title__X7f9_\"><span class=\"bookListItem_text__bglOw\"><span>디딤돌 파이썬</span><span> (구조적 프로그래밍으로 설명한 파이썬 기초)</span></span></div><div class=\"bookListItem_detail__RBQ6x\"><div class=\"bookListItem_define_item__LdTib\"><span class=\"bookListItem_define_title__ujtNf\">저자</span><span class=\"bookListItem_define_data__kKD8t\">이찬수</span></div><div class=\"bookListItem_define_item__LdTib bookListItem_publish____VOP\"><div class=\"bookListItem_detail_publish__FgPYQ\"><span class=\"bookListItem_define_title__ujtNf\">출판</span><span class=\"bookListItem_define_data__kKD8t\">인피니티북스</span></div><div class=\"bookListItem_detail_date___byvG\">2022.08.23.</div></div></div></div></a><a class=\"bookListItem_btn_zzim__Jg53Q N=a:stab1l*c.fav,i:34233217628,r:8\" data-i=\"34233217628\" data-nclick=\"N=a:stab1l*c.fav,i:34233217628,r:8\" href=\"#\" role=\"button\"><svg class=\"bookListItem_svg_zzim__z_wK4\" height=\"27\" width=\"27\" xmlns=\"http://www.w3.org/2000/svg\"><g fill=\"none\" fill-rule=\"evenodd\"><circle cx=\"13.5\" cy=\"13.5\" fill=\"#FFF\" r=\"13\" stroke=\"#E2E2E2\"></circle><path d=\"m13.486 20.77-6.157-6.064a3.749 3.749 0 0 1 2.652-6.398c1.004 0 1.947.39 2.656 1.098.15.236.15.425 0 .567-.15.141-.351.142-.602 0-1.098-1.098-3.011-1.097-4.105 0a2.945 2.945 0 0 0-.001 4.164l5.557 5.472 5.748-5.657c.993-1.127.928-2.884-.167-3.979-1.097-1.1-3.01-1.098-4.107 0l-2.588 2.558a1.206 1.206 0 0 0-.004 1.745c.5.483 1.312.483 1.812 0l2.224-2.19a.426.426 0 0 1 .593-.003.401.401 0 0 1 .004.575l-2.227 2.192a2.17 2.17 0 0 1-2.998.002 2.005 2.005 0 0 1 0-2.894l2.584-2.554a3.727 3.727 0 0 1 2.655-1.096c1.004 0 1.947.39 2.654 1.099 1.393 1.392 1.474 3.63.181 5.095\" fill=\"gray\"></path></g></svg><span class=\"bookListItem_text__bglOw\">찜하기</span></a><div class=\"bookListItem_sub_info__AfkOO\"><div class=\"bookListItem_item_sub__bTJ7u\"><a class=\"bookListItem_item_box__6Mjr9 linkAnchor\" data-i=\"34233217628\" data-nclick=\"N=a:stab1l*c.pricep,i:34233217628,r:8\" href=\"https://cr3.shopping.naver.com/book/adcr?x=FEB%2FyLp9QdW7YRB7uo4F7f%2F%2F%2Fw%3D%3DsYXZdMv%2BSlS%2Fzgo0JRGee%2Fp7bwNXfK9okJVzR5lFNxsmJnnL5Sdl1Om0OnvyPouDNWsHgd59aodcZg4noxYK97cez10KvC75IXKXEmsZjpY3VMc6ISzfSnRmT9F0G4N3nY8EigvBQinIZsg%2B2TARrJsv%2BjB2erv%2BZ%2Brrs5VHOiTTt4DqiWzfh638rk6r8T8q2b07ghmkLuHkkg743TIAdMP7IntYW81Xs6qvX%2Bsnxc5xra%2BpI6UJu%2BTwtNWUwqdlIxG2P0Q%2Fj4lhGbx8gGDwffhzzON9aTM%2Fdo2I2z9yt2AmFo49JCi6J6VM8a%2Bwjzt8%2BFqPkbhZKyIpiX5j%2F%2BxkCe1WgmKC6jv4on9gzTYjdIY2xfAxiZlReU27hOsieXre3SWkruqzLNR%2BNlNcFNXSh%2Br2rjFsnXw88P3iZF1ToG3SY%2FdVuToRNBhAmcloqDZs%2FqdBNsTtFRV22m6lbk6e%2BY24MBrv0odS5b4MSy65w6Etf0yhAU4p06hPTGmJPKPmljfZ6iDk3KJfrgos6patt1FMpu6gmuPI6RDtROkHuF9vTGB3c8PkbW4YKhe2hFTs8gq8x2MrzjCFf0q4xhTxb9Kz4gs1H4l0WZCAcYkV52Ns%3D&amp;nvMid=34233217628&amp;catId=50010920\" rel=\"noopener\" target=\"_blank\"><div class=\"goods_title\">도서</div><div class=\"bookListItem_vendor__d_xBD\">판매처 <!-- -->23</div></a><span class=\"bookPrice_price__zr5dh\">최저<!-- --> <em>26,100</em>원</span></div><a class=\"bookListItem_btn_report__cjrVh linkAnchor\" data-nclick=\"N=a:stab1l*c.report,i:34233217628,r:8\" href=\"https://search.shopping.naver.com/book/report/product?nvMid=34233217628\" target=\"popup\"><svg class=\"bookListItem_svg_report__xc5Xi\" height=\"12\" width=\"12\" xmlns=\"http://www.w3.org/2000/svg\"><g fill=\"none\" fill-rule=\"evenodd\" stroke=\"#999\"><path d=\"M5.999 1a4.166 4.166 0 0 0-4.166 4.166V8.5h8.334V5.166A4.167 4.167 0 0 0 5.999 1z\" stroke-linejoin=\"round\"></path><path d=\"M5.583 3.083c-.92 0-1.666.746-1.666 1.667M1 11h10V8.5H1z\"></path></g></svg>신고</a></div></div></li>,\n",
       " <li class=\"bookListItem_item_book__1yCey\"><div class=\"bookListItem_item_inner__Fp7hN\"><a class=\"bookListItem_info_top__VgpiO linkAnchor\" data-i=\"33230969618\" data-nclick=\"N=a:stab1l*c.info,i:33230969618,r:9\" href=\"https://cr3.shopping.naver.com/book/adcr?x=ATOff4R0MyLcl%2BkJpMyj4%2F%2F%2F%2Fw%3D%3DscYsrN%2FlgFB%2BHzHeBjXi7xwkomjo%2BwoIZO4ZmrFkN4M2JnnL5Sdl1Om0OnvyPouDNyQgQIxbeElehn9%2BCiAjFzcez10KvC75IXKXEmsZjpY3VMc6ISzfSnRmT9F0G4N3nY8EigvBQinIZsg%2B2TARrJsv%2BjB2erv%2BZ%2Brrs5VHOiTTt4DqiWzfh638rk6r8T8q2nj6%2BMaClI2dOjtwkFtHAz%2F7IntYW81Xs6qvX%2Bsnxc5xra%2BpI6UJu%2BTwtNWUwqdlIxG2P0Q%2Fj4lhGbx8gGDwffhzzON9aTM%2Fdo2I2z9yt2AmFo49JCi6J6VM8a%2Bwjzt8%2BFqPkbhZKyIpiX5j%2F%2BxkCe1WgmKC6jv4on9gzTYjdIY1a%2BWUwWSj337C7MH2I49EGSWkruqzLNR%2BNlNcFNXSh%2Br2rjFsnXw88P3iZF1ToG3SFVE8rlExvmHGMJhMgVnWnQRNPDTvcTqfT%2BBa3TV9HfcW3dvB2t9g8YSUuJjNSbYQh6oPiVMYfbSvVF%2BLgCVnUlyA5ELuE1Rin0qYSkS7q1eHHF%2BQOFc34Kz2n7%2Bz8kQ7TGB3c8PkbW4YKhe2hFTs8glF6eu4M8cUOPmDD4T%2FYfqz4gs1H4l0WZCAcYkV52Ns%3D&amp;nvMid=33230969618&amp;catId=50010920\" rel=\"noopener\" target=\"_blank\"><div class=\"bookListItem_thumbnail_area__JSZ_U\"><div class=\"bookListItem_thumbnail___NBwO\"><img alt=\"파이썬 스타트\" src=\"https://shopping-phinf.pstatic.net/main_3323096/33230969618.20221019120731.jpg?type=w300\"/></div></div><div class=\"bookListItem_text_area__hF892\"><div class=\"bookListItem_title__X7f9_\"><span class=\"bookListItem_text__bglOw\"><span>파이썬 스타트</span><span> (AI로 가는 첫걸음)</span></span></div><div class=\"bookListItem_detail__RBQ6x\"><div class=\"bookListItem_define_item__LdTib\"><span class=\"bookListItem_define_title__ujtNf\">저자</span><span class=\"bookListItem_define_data__kKD8t\">박희재</span></div><div class=\"bookListItem_define_item__LdTib bookListItem_publish____VOP\"><div class=\"bookListItem_detail_publish__FgPYQ\"><span class=\"bookListItem_define_title__ujtNf\">출판</span><span class=\"bookListItem_define_data__kKD8t\">인피니티북스</span></div><div class=\"bookListItem_detail_date___byvG\">2022.06.28.</div></div></div></div></a><a class=\"bookListItem_btn_zzim__Jg53Q N=a:stab1l*c.fav,i:33230969618,r:9\" data-i=\"33230969618\" data-nclick=\"N=a:stab1l*c.fav,i:33230969618,r:9\" href=\"#\" role=\"button\"><svg class=\"bookListItem_svg_zzim__z_wK4\" height=\"27\" width=\"27\" xmlns=\"http://www.w3.org/2000/svg\"><g fill=\"none\" fill-rule=\"evenodd\"><circle cx=\"13.5\" cy=\"13.5\" fill=\"#FFF\" r=\"13\" stroke=\"#E2E2E2\"></circle><path d=\"m13.486 20.77-6.157-6.064a3.749 3.749 0 0 1 2.652-6.398c1.004 0 1.947.39 2.656 1.098.15.236.15.425 0 .567-.15.141-.351.142-.602 0-1.098-1.098-3.011-1.097-4.105 0a2.945 2.945 0 0 0-.001 4.164l5.557 5.472 5.748-5.657c.993-1.127.928-2.884-.167-3.979-1.097-1.1-3.01-1.098-4.107 0l-2.588 2.558a1.206 1.206 0 0 0-.004 1.745c.5.483 1.312.483 1.812 0l2.224-2.19a.426.426 0 0 1 .593-.003.401.401 0 0 1 .004.575l-2.227 2.192a2.17 2.17 0 0 1-2.998.002 2.005 2.005 0 0 1 0-2.894l2.584-2.554a3.727 3.727 0 0 1 2.655-1.096c1.004 0 1.947.39 2.654 1.099 1.393 1.392 1.474 3.63.181 5.095\" fill=\"gray\"></path></g></svg><span class=\"bookListItem_text__bglOw\">찜하기</span></a><div class=\"bookListItem_sub_info__AfkOO\"><div class=\"bookListItem_item_sub__bTJ7u\"><a class=\"bookListItem_item_box__6Mjr9 linkAnchor\" data-i=\"33230969618\" data-nclick=\"N=a:stab1l*c.pricep,i:33230969618,r:9\" href=\"https://cr3.shopping.naver.com/book/adcr?x=ATOff4R0MyLcl%2BkJpMyj4%2F%2F%2F%2Fw%3D%3DscYsrN%2FlgFB%2BHzHeBjXi7xwkomjo%2BwoIZO4ZmrFkN4M2JnnL5Sdl1Om0OnvyPouDNyQgQIxbeElehn9%2BCiAjFzcez10KvC75IXKXEmsZjpY3VMc6ISzfSnRmT9F0G4N3nY8EigvBQinIZsg%2B2TARrJsv%2BjB2erv%2BZ%2Brrs5VHOiTTt4DqiWzfh638rk6r8T8q2nj6%2BMaClI2dOjtwkFtHAz%2F7IntYW81Xs6qvX%2Bsnxc5xra%2BpI6UJu%2BTwtNWUwqdlIxG2P0Q%2Fj4lhGbx8gGDwffhzzON9aTM%2Fdo2I2z9yt2AmFo49JCi6J6VM8a%2Bwjzt8%2BFqPkbhZKyIpiX5j%2F%2BxkCe1WgmKC6jv4on9gzTYjdIY1a%2BWUwWSj337C7MH2I49EGSWkruqzLNR%2BNlNcFNXSh%2Br2rjFsnXw88P3iZF1ToG3SFVE8rlExvmHGMJhMgVnWnQRNPDTvcTqfT%2BBa3TV9HfcW3dvB2t9g8YSUuJjNSbYQh6oPiVMYfbSvVF%2BLgCVnUlyA5ELuE1Rin0qYSkS7q1eHHF%2BQOFc34Kz2n7%2Bz8kQ7TGB3c8PkbW4YKhe2hFTs8glF6eu4M8cUOPmDD4T%2FYfqz4gs1H4l0WZCAcYkV52Ns%3D&amp;nvMid=33230969618&amp;catId=50010920\" rel=\"noopener\" target=\"_blank\"><div class=\"goods_title\">도서</div><div class=\"bookListItem_vendor__d_xBD\">판매처 <!-- -->23</div></a><span class=\"bookPrice_price__zr5dh\">최저<!-- --> <em>22,500</em>원</span></div><a class=\"bookListItem_btn_report__cjrVh linkAnchor\" data-nclick=\"N=a:stab1l*c.report,i:33230969618,r:9\" href=\"https://search.shopping.naver.com/book/report/product?nvMid=33230969618\" target=\"popup\"><svg class=\"bookListItem_svg_report__xc5Xi\" height=\"12\" width=\"12\" xmlns=\"http://www.w3.org/2000/svg\"><g fill=\"none\" fill-rule=\"evenodd\" stroke=\"#999\"><path d=\"M5.999 1a4.166 4.166 0 0 0-4.166 4.166V8.5h8.334V5.166A4.167 4.167 0 0 0 5.999 1z\" stroke-linejoin=\"round\"></path><path d=\"M5.583 3.083c-.92 0-1.666.746-1.666 1.667M1 11h10V8.5H1z\"></path></g></svg>신고</a></div></div></li>,\n",
       " <li class=\"bookListItem_item_book__1yCey\"><div class=\"bookListItem_item_inner__Fp7hN\"><a class=\"bookListItem_info_top__VgpiO linkAnchor\" data-i=\"36019497623\" data-nclick=\"N=a:stab1l*c.info,i:36019497623,r:10\" href=\"https://cr3.shopping.naver.com/book/adcr?x=M9viXt4B1ig3kEzl61CZAf%2F%2F%2Fw%3D%3DsBhWgxsIhYtoMbHmStc9x9Jv4ojzsGl0vonMp3eI1Zpq57StUFLKmRh1TRW6ZM83NhPZMJ2V8%2BehhSTjMaB0HPZ7FWzSOT3260RpHjzTrkYvW6%2Fmgy3Y4KMhDn%2BJ6yE4yMQoUMOeBpXsr%2FDUcA16wxd9%2BKy%2Fm0d%2BgYWHtEf61Jo4Nj51x%2B5NtY5Hk3HVsotFZ0gXZQV2KGQx7NtsEuL91cU8WkLc%2Fg0DrJxRdZzdeiZ4Si1jPP8Yt02lZX7%2BJ%2FItcX3h64qwrGLq84J1p5pEmIIWsOdrz2GsDwyuzTkbiJMs%2Bd0TcbJiTH3Lys8V5OoWgcfY62%2F%2BxY4w5xbi4%2BHEPriFzevyVajC7NvPtfqyjQhz2G%2FIxs263uVVLPv6ypRSodXuuPsatgYU9id2jTf8AfUeq7xa2bs6%2FahMzsv2lyyKXi14EzCUiDsS0Ojz3JGkLzfNVo1KcSVSazeZg7M%2BAachmPLalC3ORMYUopjiGStdQLZwCYq0SDcJrkbSnSgouUsc9A%2FGuqi9z9TEzQOB7ihRA8mKc4rx14ZcD6ARy9rLnUozSk6MgpJeDpfnt31s2gRYApx9AEBB0K9mzWlIk%2BzgZQPgKx7yEiM1uVHCZTo3lymLhfOE6tKGKejxXTM6%2B&amp;nvMid=36019497623&amp;catId=50010920\" rel=\"noopener\" target=\"_blank\"><div class=\"bookListItem_thumbnail_area__JSZ_U\"><div class=\"bookListItem_thumbnail___NBwO\"><img alt=\"자기주도 파이썬\" src=\"https://shopping-phinf.pstatic.net/main_3601949/36019497623.20230801122946.jpg?type=w300\"/></div></div><div class=\"bookListItem_text_area__hF892\"><div class=\"bookListItem_title__X7f9_\"><span class=\"bookListItem_text__bglOw\"><span>자기주도 파이썬</span><span> (정보영재 및 올림피아드를 위한 최적의 입문서)</span></span></div><div class=\"bookListItem_detail__RBQ6x\"><div class=\"bookListItem_define_item__LdTib\"><span class=\"bookListItem_define_title__ujtNf\">저자</span><span class=\"bookListItem_define_data__kKD8t\">한컴에듀케이션 알고리즘연구소</span></div><div class=\"bookListItem_define_item__LdTib bookListItem_publish____VOP\"><div class=\"bookListItem_detail_publish__FgPYQ\"><span class=\"bookListItem_define_title__ujtNf\">출판</span><span class=\"bookListItem_define_data__kKD8t\">복두출판사</span></div><div class=\"bookListItem_detail_date___byvG\">2022.11.15.</div></div></div><div class=\"bookListItem_grade__tywh2\"><span class=\"bookListItem_star__A_4PU\"><svg class=\"svg_star\" height=\"14\" width=\"15\" xmlns=\"http://www.w3.org/2000/svg\"><g fill=\"none\" fill-rule=\"evenodd\"><path d=\"m5.874 5.513-.374.005L1 5.58l3.867 2.944-.104.335L3.486 13 7.5 10.383l.298.193L11.514 13l-1.38-4.476.284-.217L14 5.58l-4.873-.067L7.5 1z\" fill=\"#FF5356\"></path><path d=\"M7.5 1 5.873 5.513 5.5 5.52 1 5.58l3.866 2.944-.103.335L3.486 13 7.5 10.383l.298.195L11.514 13l-1.381-4.476.285-.216L14 5.58l-4.873-.067z\" stroke=\"#F43435\" stroke-linecap=\"round\" stroke-linejoin=\"round\" stroke-width=\"0.95\"></path></g></svg>평점</span>5.0<!-- --> <span class=\"bookListItem_reviewer__kwofa\">(<!-- -->2<!-- -->)</span></div></div></a><a class=\"bookListItem_btn_zzim__Jg53Q N=a:stab1l*c.fav,i:36019497623,r:10\" data-i=\"36019497623\" data-nclick=\"N=a:stab1l*c.fav,i:36019497623,r:10\" href=\"#\" role=\"button\"><svg class=\"bookListItem_svg_zzim__z_wK4\" height=\"27\" width=\"27\" xmlns=\"http://www.w3.org/2000/svg\"><g fill=\"none\" fill-rule=\"evenodd\"><circle cx=\"13.5\" cy=\"13.5\" fill=\"#FFF\" r=\"13\" stroke=\"#E2E2E2\"></circle><path d=\"m13.486 20.77-6.157-6.064a3.749 3.749 0 0 1 2.652-6.398c1.004 0 1.947.39 2.656 1.098.15.236.15.425 0 .567-.15.141-.351.142-.602 0-1.098-1.098-3.011-1.097-4.105 0a2.945 2.945 0 0 0-.001 4.164l5.557 5.472 5.748-5.657c.993-1.127.928-2.884-.167-3.979-1.097-1.1-3.01-1.098-4.107 0l-2.588 2.558a1.206 1.206 0 0 0-.004 1.745c.5.483 1.312.483 1.812 0l2.224-2.19a.426.426 0 0 1 .593-.003.401.401 0 0 1 .004.575l-2.227 2.192a2.17 2.17 0 0 1-2.998.002 2.005 2.005 0 0 1 0-2.894l2.584-2.554a3.727 3.727 0 0 1 2.655-1.096c1.004 0 1.947.39 2.654 1.099 1.393 1.392 1.474 3.63.181 5.095\" fill=\"gray\"></path></g></svg><span class=\"bookListItem_text__bglOw\">찜하기</span></a><div class=\"bookListItem_sub_info__AfkOO\"><div class=\"bookListItem_item_sub__bTJ7u\"><a class=\"bookListItem_item_box__6Mjr9 linkAnchor\" data-i=\"36019497623\" data-nclick=\"N=a:stab1l*c.pricep,i:36019497623,r:10\" href=\"https://cr3.shopping.naver.com/book/adcr?x=M9viXt4B1ig3kEzl61CZAf%2F%2F%2Fw%3D%3DsBhWgxsIhYtoMbHmStc9x9Jv4ojzsGl0vonMp3eI1Zpq57StUFLKmRh1TRW6ZM83NhPZMJ2V8%2BehhSTjMaB0HPZ7FWzSOT3260RpHjzTrkYvW6%2Fmgy3Y4KMhDn%2BJ6yE4yMQoUMOeBpXsr%2FDUcA16wxd9%2BKy%2Fm0d%2BgYWHtEf61Jo4Nj51x%2B5NtY5Hk3HVsotFZ0gXZQV2KGQx7NtsEuL91cU8WkLc%2Fg0DrJxRdZzdeiZ4Si1jPP8Yt02lZX7%2BJ%2FItcX3h64qwrGLq84J1p5pEmIIWsOdrz2GsDwyuzTkbiJMs%2Bd0TcbJiTH3Lys8V5OoWgcfY62%2F%2BxY4w5xbi4%2BHEPriFzevyVajC7NvPtfqyjQhz2G%2FIxs263uVVLPv6ypRSodXuuPsatgYU9id2jTf8AfUeq7xa2bs6%2FahMzsv2lyyKXi14EzCUiDsS0Ojz3JGkLzfNVo1KcSVSazeZg7M%2BAachmPLalC3ORMYUopjiGStdQLZwCYq0SDcJrkbSnSgouUsc9A%2FGuqi9z9TEzQOB7ihRA8mKc4rx14ZcD6ARy9rLnUozSk6MgpJeDpfnt31s2gRYApx9AEBB0K9mzWlIk%2BzgZQPgKx7yEiM1uVHCZTo3lymLhfOE6tKGKejxXTM6%2B&amp;nvMid=36019497623&amp;catId=50010920\" rel=\"noopener\" target=\"_blank\"><div class=\"goods_title\">도서</div><div class=\"bookListItem_vendor__d_xBD\">판매처 <!-- -->21</div></a><span class=\"bookPrice_price__zr5dh\">최저<!-- --> <em>15,300</em>원</span></div><div class=\"bookListItem_item_sub__bTJ7u\"><a class=\"bookListItem_item_box__6Mjr9 linkAnchor\" data-i=\"36019497623\" data-nclick=\"N=a:stab1l*c.pricee,i:36019497623,r:10\" href=\"https://cr3.shopping.naver.com/book/adcr?x=M9viXt4B1ig3kEzl61CZAf%2F%2F%2Fw%3D%3DsBhWgxsIhYtoMbHmStc9x9Jv4ojzsGl0vonMp3eI1Zpq57StUFLKmRh1TRW6ZM83NhPZMJ2V8%2BehhSTjMaB0HPZ7FWzSOT3260RpHjzTrkYvW6%2Fmgy3Y4KMhDn%2BJ6yE4yMQoUMOeBpXsr%2FDUcA16wxd9%2BKy%2Fm0d%2BgYWHtEf61Jo4Nj51x%2B5NtY5Hk3HVsotFZ0gXZQV2KGQx7NtsEuL91cU8WkLc%2Fg0DrJxRdZzdeiZ4Si1jPP8Yt02lZX7%2BJ%2FItcX3h64qwrGLq84J1p5pEmIIWsOdrz2GsDwyuzTkbiJMs%2Bd0TcbJiTH3Lys8V5OoWgcfY62%2F%2BxY4w5xbi4%2BHEPriFzevyVajC7NvPtfqyjQhz2G%2FIxs263uVVLPv6ypRSodXuuPsatgYU9id2jTf8AfUeq7xa2bs6%2FahMzsv2lyyKXi14EzCUiDsS0Ojz3JGkLzfNVo1KcSVSazeZg7M%2BAachmPLalC3ORMYUopjiGStdQLZwCYq0SDcJrkbSnSgouUsc9A%2FGuqi9z9TEzQOB7ihRA8mKc4rx14ZcD6ARy9rLnUozSk6MgpJeDpfnt31s2gRYApx9AEBB0K9mzWlIk%2BzgZQPgKx7yEiM1uVHCZTo3lymLhfOE6tKGKejxXTM6%2B&amp;nvMid=36019497623&amp;catId=50010920\" rel=\"noopener\" target=\"_blank\"><div class=\"goods_title\">e북</div><div class=\"bookListItem_vendor__d_xBD\">판매처 <!-- -->3</div></a><span class=\"bookPrice_price__zr5dh\">구매<!-- --> <em>15,300</em>원</span></div><a class=\"bookListItem_btn_report__cjrVh linkAnchor\" data-nclick=\"N=a:stab1l*c.report,i:36019497623,r:10\" href=\"https://search.shopping.naver.com/book/report/product?nvMid=36019497623\" target=\"popup\"><svg class=\"bookListItem_svg_report__xc5Xi\" height=\"12\" width=\"12\" xmlns=\"http://www.w3.org/2000/svg\"><g fill=\"none\" fill-rule=\"evenodd\" stroke=\"#999\"><path d=\"M5.999 1a4.166 4.166 0 0 0-4.166 4.166V8.5h8.334V5.166A4.167 4.167 0 0 0 5.999 1z\" stroke-linejoin=\"round\"></path><path d=\"M5.583 3.083c-.92 0-1.666.746-1.666 1.667M1 11h10V8.5H1z\"></path></g></svg>신고</a></div></div></li>]"
      ]
     },
     "execution_count": 55,
     "metadata": {},
     "output_type": "execute_result"
    }
   ],
   "source": [
    "sel_book_list = soup.select_one(\".list_book\").select(\".bookListItem_item_book__1yCey\")\n",
    "sel_book_list"
   ]
  },
  {
   "cell_type": "code",
   "execution_count": 67,
   "id": "f9e5a740",
   "metadata": {},
   "outputs": [
    {
     "data": {
      "text/plain": [
       "'파이썬과 데이터 과학 (파이썬으로 시작하는 데이터 과학과 기계학습)'"
      ]
     },
     "execution_count": 67,
     "metadata": {},
     "output_type": "execute_result"
    }
   ],
   "source": [
    "sel_books.select(\".bookListItem_text__bglOw\")[0].text #title"
   ]
  },
  {
   "cell_type": "code",
   "execution_count": 64,
   "id": "b0e56115",
   "metadata": {},
   "outputs": [
    {
     "data": {
      "text/plain": [
       "'24,700'"
      ]
     },
     "execution_count": 64,
     "metadata": {},
     "output_type": "execute_result"
    }
   ],
   "source": [
    "sel_books.select(\".bookPrice_price__zr5dh\")[0].select(\"em\")[0].text"
   ]
  },
  {
   "cell_type": "code",
   "execution_count": 146,
   "id": "52c5c1fa",
   "metadata": {},
   "outputs": [],
   "source": [
    "sel_books_list2 = []\n",
    "for sel_books in sel_book_list:\n",
    "    title = sel_books.select_one(\".bookListItem_text__bglOw\").text \n",
    "    author = sel_books.select_one(\".bookListItem_define_data__kKD8t\").text\n",
    "    pubulisher = sel_books.select_one(\".bookListItem_detail_publish__FgPYQ\").select_one(\".bookListItem_define_data__kKD8t\").text\n",
    "    \n",
    "#     if sel_books.select(\".bookListItem_feature__txTlp\") is not None:\n",
    "#         ranking = sel_books.select(\".bookListItem_feature__txTlp\")[0].text\n",
    "#     else:\n",
    "#         ranking = None\n",
    "    \n",
    "#     if sel_books.select(\".bookListItem_grade__tywh2\") is not None:\n",
    "#         starpoint = sel_books.select(\".bookListItem_grade__tywh2\")[0].text\n",
    "#     else:\n",
    "#         starpoint = None\n",
    "    title = sel_books.select_one(\".bookListItem_text__bglOw\").text\n",
    "    author = sel_books.select_one(\".bookListItem_define_data__kKD8t\").text\n",
    "    pubulisher = sel_books.select_one(\".bookListItem_detail_publish__FgPYQ\").select_one(\".bookListItem_define_data__kKD8t\").text\n",
    "    rank = sel_books.select_one(\".bookListItem_feature__txTlp\").text if sel_books.select_one(\".bookListItem_feature__txTlp\") is not None else \"None\"\n",
    "    starpoint = sel_books.select_one(\".bookListItem_grade__tywh2\").text[2:5] if sel_books.select_one(\".bookListItem_grade__tywh2\") is not None else \"None\"\n",
    "    \n",
    "    if len(sel_books.select(\".bookPrice_price__zr5dh\")) < 2:\n",
    "        price1 = sel_books.select(\".bookPrice_price__zr5dh\")[0].select(\"em\")[0].text\n",
    "        price2 = \"None\"\n",
    "    else :\n",
    "        price1 = sel_books.select(\".bookPrice_price__zr5dh\")[0].select(\"em\")[0].text\n",
    "        price2 = sel_books.select(\".bookPrice_price__zr5dh\")[1].select(\"em\")[0].text\n",
    "    \n",
    "#     if len(sel_books.select(\".bookPrice_price__zr5dh\")) < 2:\n",
    "#         price1 = sel_books.select(\".bookPrice_price__zr5dh\")[0].select(\"em\")[0].text\n",
    "#         price2 = \"None\"\n",
    "#     else:\n",
    "#         price1 = sel_books.select(\".bookPrice_price__zr5dh\")[0].select(\"em\")[0].text\n",
    "#         price2 = sel_books.select(\".bookPrice_price__zr5dh\")[1].select(\"em\")[0].text\n",
    "        \n",
    "    #price = sel_books.select(\".bookPrice_price__zr5dh\")[0].select(\"em\")[0].text\n",
    "    sel_books_list2.append([title, ranking, author, pubulisher, starpoint, price1, price2])\n",
    "   "
   ]
  },
  {
   "cell_type": "code",
   "execution_count": 147,
   "id": "dbb40012",
   "metadata": {},
   "outputs": [
    {
     "name": "stdout",
     "output_type": "stream",
     "text": [
      "[['파이썬과 데이터 과학 (파이썬으로 시작하는 데이터 과학과 기계학습)', '컴퓨터/IT 148위', '천인국, 박동규', '생능출판', '평점5.0\\xa0(10)', '24,700'], ['두근두근 파이썬 (만들면서 배우는)', '컴퓨터/IT 73위', '천인국', '생능출판', '평점4.7\\xa0(3)', '23,750'], ['파이썬과 데이터 과학 (파이썬으로 시작하는 데이터 과학과 기계학습)', '컴퓨터/IT 148위', '천인국, 박동규', '생능출판', '평점5.0\\xa0(10)', '24,700'], ['두근두근 파이썬 (만들면서 배우는)', '컴퓨터/IT 73위', '천인국', '생능출판', '평점4.7\\xa0(3)', '23,750']]\n"
     ]
    }
   ],
   "source": [
    "print(sel_books_list)"
   ]
  },
  {
   "cell_type": "code",
   "execution_count": 135,
   "id": "beba50ca",
   "metadata": {
    "collapsed": true
   },
   "outputs": [
    {
     "data": {
      "text/plain": [
       "[['파이썬과 데이터 과학 (파이썬으로 시작하는 데이터 과학과 기계학습)',\n",
       "  '컴퓨터/IT 80위',\n",
       "  '천인국, 박동규',\n",
       "  '생능출판',\n",
       "  '평점5.0\\xa0(10)',\n",
       "  '24,700',\n",
       "  'None'],\n",
       " ['두근두근 파이썬 (만들면서 배우는)',\n",
       "  '컴퓨터/IT 80위',\n",
       "  '천인국',\n",
       "  '생능출판',\n",
       "  '평점4.7\\xa0(3)',\n",
       "  '23,750',\n",
       "  'None'],\n",
       " ['코딩 뇌를 깨우는 파이썬 (문제 해결 능력을 키우는 컴퓨팅 사고부터 알고리즘, 데이터 분석, 머신러닝까지)',\n",
       "  '컴퓨터/IT 80위',\n",
       "  '존 V. 구태그',\n",
       "  '한빛미디어',\n",
       "  'None',\n",
       "  '31,500',\n",
       "  '25,200'],\n",
       " ['Do it! 점프 투 파이썬 (중학생도 첫날부터 실습하는 초고속 입문서)',\n",
       "  '컴퓨터/IT 80위',\n",
       "  '박응용',\n",
       "  '이지스퍼블리싱',\n",
       "  '평점4.9\\xa0(49)',\n",
       "  '19,800',\n",
       "  '13,500'],\n",
       " ['나는 파이썬으로 머신러닝한다 2 (인공지능 자신감 UP 인공지능 약간 매운맛)',\n",
       "  '컴퓨터/IT 80위',\n",
       "  '장병철, 이지항 외 2명',\n",
       "  '씨마스',\n",
       "  '평점5.0\\xa0(1)',\n",
       "  '20,700',\n",
       "  'None'],\n",
       " ['혼자 공부하는 파이썬 (1:1 과외하듯 배우는 프로그래밍 자습서)',\n",
       "  '컴퓨터/IT 80위',\n",
       "  '윤인성',\n",
       "  '한빛미디어',\n",
       "  '평점4.9\\xa0(19)',\n",
       "  '19,800',\n",
       "  '15,840'],\n",
       " ['파이썬으로 쉽게 배우는 자료구조 (개정판)',\n",
       "  '컴퓨터/IT 80위',\n",
       "  '최영규, 천인국',\n",
       "  '생능출판',\n",
       "  '평점3.0\\xa0(1)',\n",
       "  '26,100',\n",
       "  'None'],\n",
       " ['디딤돌 파이썬 (구조적 프로그래밍으로 설명한 파이썬 기초)',\n",
       "  '컴퓨터/IT 80위',\n",
       "  '이찬수',\n",
       "  '인피니티북스',\n",
       "  'None',\n",
       "  '26,100',\n",
       "  'None'],\n",
       " ['파이썬 스타트 (AI로 가는 첫걸음)',\n",
       "  '컴퓨터/IT 80위',\n",
       "  '박희재',\n",
       "  '인피니티북스',\n",
       "  'None',\n",
       "  '22,500',\n",
       "  'None'],\n",
       " ['자기주도 파이썬 (정보영재 및 올림피아드를 위한 최적의 입문서)',\n",
       "  '컴퓨터/IT 80위',\n",
       "  '한컴에듀케이션 알고리즘연구소',\n",
       "  '복두출판사',\n",
       "  '평점5.0\\xa0(2)',\n",
       "  '15,300',\n",
       "  '15,300']]"
      ]
     },
     "execution_count": 135,
     "metadata": {},
     "output_type": "execute_result"
    }
   ],
   "source": [
    "sel_books_list2"
   ]
  },
  {
   "cell_type": "code",
   "execution_count": 50,
   "id": "65a9427c",
   "metadata": {
    "scrolled": true
   },
   "outputs": [],
   "source": [
    "df3 = pd.DataFrame(sel_books_list, columns=['title', 'ranking', 'author', 'pubulisher', 'starpoint', 'price'])"
   ]
  },
  {
   "cell_type": "code",
   "execution_count": 51,
   "id": "5e846f2b",
   "metadata": {},
   "outputs": [
    {
     "data": {
      "text/html": [
       "<div>\n",
       "<style scoped>\n",
       "    .dataframe tbody tr th:only-of-type {\n",
       "        vertical-align: middle;\n",
       "    }\n",
       "\n",
       "    .dataframe tbody tr th {\n",
       "        vertical-align: top;\n",
       "    }\n",
       "\n",
       "    .dataframe thead th {\n",
       "        text-align: right;\n",
       "    }\n",
       "</style>\n",
       "<table border=\"1\" class=\"dataframe\">\n",
       "  <thead>\n",
       "    <tr style=\"text-align: right;\">\n",
       "      <th></th>\n",
       "      <th>title</th>\n",
       "      <th>ranking</th>\n",
       "      <th>author</th>\n",
       "      <th>pubulisher</th>\n",
       "      <th>starpoint</th>\n",
       "      <th>price</th>\n",
       "    </tr>\n",
       "  </thead>\n",
       "  <tbody>\n",
       "    <tr>\n",
       "      <th>0</th>\n",
       "      <td>자기주도 파이썬 (정보영재 및 올림피아드를 위한 최적의 입문서)</td>\n",
       "      <td>[]</td>\n",
       "      <td>한컴에듀케이션 알고리즘연구소</td>\n",
       "      <td>복두출판사</td>\n",
       "      <td>[[[&lt;svg class=\"svg_star\" height=\"14\" width=\"15...</td>\n",
       "      <td>15,300</td>\n",
       "    </tr>\n",
       "  </tbody>\n",
       "</table>\n",
       "</div>"
      ],
      "text/plain": [
       "                                 title ranking           author pubulisher  \\\n",
       "0  자기주도 파이썬 (정보영재 및 올림피아드를 위한 최적의 입문서)      []  한컴에듀케이션 알고리즘연구소      복두출판사   \n",
       "\n",
       "                                           starpoint   price  \n",
       "0  [[[<svg class=\"svg_star\" height=\"14\" width=\"15...  15,300  "
      ]
     },
     "execution_count": 51,
     "metadata": {},
     "output_type": "execute_result"
    }
   ],
   "source": [
    "df3"
   ]
  },
  {
   "cell_type": "code",
   "execution_count": 78,
   "id": "f023c1a0",
   "metadata": {},
   "outputs": [
    {
     "data": {
      "text/plain": [
       "'24,700'"
      ]
     },
     "execution_count": 78,
     "metadata": {},
     "output_type": "execute_result"
    }
   ],
   "source": [
    "sel_books.select(\".bookPrice_price__zr5dh\")[0].select(\"em\")[0].text"
   ]
  },
  {
   "cell_type": "code",
   "execution_count": 79,
   "id": "cab07fc5",
   "metadata": {},
   "outputs": [],
   "source": [
    "sel_books_list2 = []\n",
    "for sel_books in sel_book_list:\n",
    "    title = sel_books.select(\".bookListItem_text__bglOw\")[0].text \n",
    "    author = sel_books.select(\".bookListItem_define_data__kKD8t\")[0].text\n",
    "    pubulisher = sel_books.select(\".bookListItem_detail_publish__FgPYQ\")[0].select(\".bookListItem_define_data__kKD8t\")[0].text\n",
    "    sel_books_list2.append([title, author, pubulisher])"
   ]
  },
  {
   "cell_type": "code",
   "execution_count": 81,
   "id": "5aa0c6e2",
   "metadata": {},
   "outputs": [],
   "source": [
    "df4 = pd.DataFrame(sel_books_list2, columns=['title', 'author', 'pubulisher'])"
   ]
  },
  {
   "cell_type": "code",
   "execution_count": 82,
   "id": "fb27f6e6",
   "metadata": {
    "scrolled": true
   },
   "outputs": [
    {
     "data": {
      "text/html": [
       "<div>\n",
       "<style scoped>\n",
       "    .dataframe tbody tr th:only-of-type {\n",
       "        vertical-align: middle;\n",
       "    }\n",
       "\n",
       "    .dataframe tbody tr th {\n",
       "        vertical-align: top;\n",
       "    }\n",
       "\n",
       "    .dataframe thead th {\n",
       "        text-align: right;\n",
       "    }\n",
       "</style>\n",
       "<table border=\"1\" class=\"dataframe\">\n",
       "  <thead>\n",
       "    <tr style=\"text-align: right;\">\n",
       "      <th></th>\n",
       "      <th>title</th>\n",
       "      <th>author</th>\n",
       "      <th>pubulisher</th>\n",
       "    </tr>\n",
       "  </thead>\n",
       "  <tbody>\n",
       "    <tr>\n",
       "      <th>0</th>\n",
       "      <td>파이썬과 데이터 과학 (파이썬으로 시작하는 데이터 과학과 기계학습)</td>\n",
       "      <td>천인국, 박동규</td>\n",
       "      <td>생능출판</td>\n",
       "    </tr>\n",
       "    <tr>\n",
       "      <th>1</th>\n",
       "      <td>두근두근 파이썬 (만들면서 배우는)</td>\n",
       "      <td>천인국</td>\n",
       "      <td>생능출판</td>\n",
       "    </tr>\n",
       "    <tr>\n",
       "      <th>2</th>\n",
       "      <td>코딩 뇌를 깨우는 파이썬 (문제 해결 능력을 키우는 컴퓨팅 사고부터 알고리즘, 데이...</td>\n",
       "      <td>존 V. 구태그</td>\n",
       "      <td>한빛미디어</td>\n",
       "    </tr>\n",
       "    <tr>\n",
       "      <th>3</th>\n",
       "      <td>Do it! 점프 투 파이썬 (중학생도 첫날부터 실습하는 초고속 입문서)</td>\n",
       "      <td>박응용</td>\n",
       "      <td>이지스퍼블리싱</td>\n",
       "    </tr>\n",
       "    <tr>\n",
       "      <th>4</th>\n",
       "      <td>나는 파이썬으로 머신러닝한다 2 (인공지능 자신감 UP 인공지능 약간 매운맛)</td>\n",
       "      <td>장병철, 이지항 외 2명</td>\n",
       "      <td>씨마스</td>\n",
       "    </tr>\n",
       "    <tr>\n",
       "      <th>5</th>\n",
       "      <td>혼자 공부하는 파이썬 (1:1 과외하듯 배우는 프로그래밍 자습서)</td>\n",
       "      <td>윤인성</td>\n",
       "      <td>한빛미디어</td>\n",
       "    </tr>\n",
       "    <tr>\n",
       "      <th>6</th>\n",
       "      <td>파이썬으로 쉽게 배우는 자료구조 (개정판)</td>\n",
       "      <td>최영규, 천인국</td>\n",
       "      <td>생능출판</td>\n",
       "    </tr>\n",
       "    <tr>\n",
       "      <th>7</th>\n",
       "      <td>디딤돌 파이썬 (구조적 프로그래밍으로 설명한 파이썬 기초)</td>\n",
       "      <td>이찬수</td>\n",
       "      <td>인피니티북스</td>\n",
       "    </tr>\n",
       "    <tr>\n",
       "      <th>8</th>\n",
       "      <td>파이썬 스타트 (AI로 가는 첫걸음)</td>\n",
       "      <td>박희재</td>\n",
       "      <td>인피니티북스</td>\n",
       "    </tr>\n",
       "    <tr>\n",
       "      <th>9</th>\n",
       "      <td>자기주도 파이썬 (정보영재 및 올림피아드를 위한 최적의 입문서)</td>\n",
       "      <td>한컴에듀케이션 알고리즘연구소</td>\n",
       "      <td>복두출판사</td>\n",
       "    </tr>\n",
       "  </tbody>\n",
       "</table>\n",
       "</div>"
      ],
      "text/plain": [
       "                                               title           author  \\\n",
       "0              파이썬과 데이터 과학 (파이썬으로 시작하는 데이터 과학과 기계학습)         천인국, 박동규   \n",
       "1                                두근두근 파이썬 (만들면서 배우는)              천인국   \n",
       "2  코딩 뇌를 깨우는 파이썬 (문제 해결 능력을 키우는 컴퓨팅 사고부터 알고리즘, 데이...         존 V. 구태그   \n",
       "3           Do it! 점프 투 파이썬 (중학생도 첫날부터 실습하는 초고속 입문서)              박응용   \n",
       "4        나는 파이썬으로 머신러닝한다 2 (인공지능 자신감 UP 인공지능 약간 매운맛)    장병철, 이지항 외 2명   \n",
       "5               혼자 공부하는 파이썬 (1:1 과외하듯 배우는 프로그래밍 자습서)              윤인성   \n",
       "6                            파이썬으로 쉽게 배우는 자료구조 (개정판)         최영규, 천인국   \n",
       "7                   디딤돌 파이썬 (구조적 프로그래밍으로 설명한 파이썬 기초)              이찬수   \n",
       "8                               파이썬 스타트 (AI로 가는 첫걸음)              박희재   \n",
       "9                자기주도 파이썬 (정보영재 및 올림피아드를 위한 최적의 입문서)  한컴에듀케이션 알고리즘연구소   \n",
       "\n",
       "  pubulisher  \n",
       "0       생능출판  \n",
       "1       생능출판  \n",
       "2      한빛미디어  \n",
       "3    이지스퍼블리싱  \n",
       "4        씨마스  \n",
       "5      한빛미디어  \n",
       "6       생능출판  \n",
       "7     인피니티북스  \n",
       "8     인피니티북스  \n",
       "9      복두출판사  "
      ]
     },
     "execution_count": 82,
     "metadata": {},
     "output_type": "execute_result"
    }
   ],
   "source": [
    "df4"
   ]
  },
  {
   "cell_type": "code",
   "execution_count": 161,
   "id": "13e56147",
   "metadata": {},
   "outputs": [],
   "source": [
    "book_list2 = soup.select(\"ul.list_book > li\")"
   ]
  },
  {
   "cell_type": "code",
   "execution_count": 162,
   "id": "3e6fef14",
   "metadata": {},
   "outputs": [
    {
     "data": {
      "text/plain": [
       "10"
      ]
     },
     "execution_count": 162,
     "metadata": {},
     "output_type": "execute_result"
    }
   ],
   "source": [
    "len(book_list2)"
   ]
  },
  {
   "cell_type": "code",
   "execution_count": 164,
   "id": "a429c472",
   "metadata": {},
   "outputs": [],
   "source": [
    "result2 = []\n",
    "for book in book_list2:\n",
    "    title = book.select_one(\".bookListItem_text__bglOw\").text\n",
    "    ranking = book.select_one(\".bookListItem_feature__txTlp\").text if book.select_one(\".bookListItem_feature__txTlp\") != None else None\n",
    "    author = book.select_one(\".bookListItem_define_data__kKD8t\").text\n",
    "    publisher = book.select_one(\"div.bookListItem_detail_publish__FgPYQ > span.bookListItem_define_data__kKD8t\").text\n",
    "    pub_date = book.select_one(\".bookListItem_detail_date___byvG\").text\n",
    "    starpoint = book.select_one(\".bookListItem_grade__tywh2\").text[2:5] if book.select_one(\".bookListItem_grade__tywh2\") != None else 0\n",
    "    reviews = book.select_one(\".bookListItem_reviewer__kwofa\").text.strip(\"() \") if book.select_one(\".bookListItem_reviewer__kwofa\") != None else 0\n",
    "    \n",
    "    if len(book.select(\".bookPrice_price__zr5dh\")) < 2:\n",
    "        book_price = book.select(\".bookPrice_price__zr5dh\")[0].select_one(\"em\").text\n",
    "        ebook_price = \"None\"\n",
    "        \n",
    "    else:\n",
    "        book_price = book.select(\".bookPrice_price__zr5dh\")[0].select_one(\"em\").text\n",
    "        ebook_price = book.select(\".bookPrice_price__zr5dh\")[1].select_one(\"em\").text\n",
    "            \n",
    "    result2.append([title, ranking, author, publisher, pub_date, starpoint, reviews, book_price, ebook_price])"
   ]
  },
  {
   "cell_type": "code",
   "execution_count": 166,
   "id": "980e69df",
   "metadata": {},
   "outputs": [
    {
     "data": {
      "text/plain": [
       "10"
      ]
     },
     "execution_count": 166,
     "metadata": {},
     "output_type": "execute_result"
    }
   ],
   "source": [
    "len(result2)"
   ]
  },
  {
   "cell_type": "code",
   "execution_count": 167,
   "id": "c0b7e062",
   "metadata": {},
   "outputs": [],
   "source": [
    "import pandas as pd"
   ]
  },
  {
   "cell_type": "code",
   "execution_count": 168,
   "id": "776d344c",
   "metadata": {},
   "outputs": [
    {
     "data": {
      "text/html": [
       "<div>\n",
       "<style scoped>\n",
       "    .dataframe tbody tr th:only-of-type {\n",
       "        vertical-align: middle;\n",
       "    }\n",
       "\n",
       "    .dataframe tbody tr th {\n",
       "        vertical-align: top;\n",
       "    }\n",
       "\n",
       "    .dataframe thead th {\n",
       "        text-align: right;\n",
       "    }\n",
       "</style>\n",
       "<table border=\"1\" class=\"dataframe\">\n",
       "  <thead>\n",
       "    <tr style=\"text-align: right;\">\n",
       "      <th></th>\n",
       "      <th>title</th>\n",
       "      <th>ranking</th>\n",
       "      <th>author</th>\n",
       "      <th>publisher</th>\n",
       "      <th>pub_date</th>\n",
       "      <th>starpoint</th>\n",
       "      <th>reviews</th>\n",
       "      <th>book_price</th>\n",
       "      <th>ebook_price</th>\n",
       "    </tr>\n",
       "  </thead>\n",
       "  <tbody>\n",
       "    <tr>\n",
       "      <th>0</th>\n",
       "      <td>파이썬과 데이터 과학 (파이썬으로 시작하는 데이터 과학과 기계학습)</td>\n",
       "      <td>컴퓨터/IT 148위</td>\n",
       "      <td>천인국, 박동규</td>\n",
       "      <td>생능출판</td>\n",
       "      <td>2020.12.28.</td>\n",
       "      <td>5.0</td>\n",
       "      <td>10</td>\n",
       "      <td>24,700</td>\n",
       "      <td>None</td>\n",
       "    </tr>\n",
       "    <tr>\n",
       "      <th>1</th>\n",
       "      <td>두근두근 파이썬 (만들면서 배우는)</td>\n",
       "      <td>컴퓨터/IT 73위</td>\n",
       "      <td>천인국</td>\n",
       "      <td>생능출판</td>\n",
       "      <td>2023.01.05.</td>\n",
       "      <td>4.7</td>\n",
       "      <td>3</td>\n",
       "      <td>23,750</td>\n",
       "      <td>None</td>\n",
       "    </tr>\n",
       "    <tr>\n",
       "      <th>2</th>\n",
       "      <td>코딩 뇌를 깨우는 파이썬 (문제 해결 능력을 키우는 컴퓨팅 사고부터 알고리즘, 데이...</td>\n",
       "      <td>컴퓨터/IT 80위</td>\n",
       "      <td>존 V. 구태그</td>\n",
       "      <td>한빛미디어</td>\n",
       "      <td>2023.08.30.</td>\n",
       "      <td>0</td>\n",
       "      <td>0</td>\n",
       "      <td>31,500</td>\n",
       "      <td>25,200</td>\n",
       "    </tr>\n",
       "    <tr>\n",
       "      <th>3</th>\n",
       "      <td>Do it! 점프 투 파이썬 (중학생도 첫날부터 실습하는 초고속 입문서)</td>\n",
       "      <td>컴퓨터/IT 5위</td>\n",
       "      <td>박응용</td>\n",
       "      <td>이지스퍼블리싱</td>\n",
       "      <td>2023.06.15.</td>\n",
       "      <td>4.9</td>\n",
       "      <td>49</td>\n",
       "      <td>19,800</td>\n",
       "      <td>13,500</td>\n",
       "    </tr>\n",
       "    <tr>\n",
       "      <th>4</th>\n",
       "      <td>나는 파이썬으로 머신러닝한다 2 (인공지능 자신감 UP 인공지능 약간 매운맛)</td>\n",
       "      <td>컴퓨터/IT 79위</td>\n",
       "      <td>장병철, 이지항 외 2명</td>\n",
       "      <td>씨마스</td>\n",
       "      <td>2023.09.01.</td>\n",
       "      <td>5.0</td>\n",
       "      <td>1</td>\n",
       "      <td>20,700</td>\n",
       "      <td>None</td>\n",
       "    </tr>\n",
       "    <tr>\n",
       "      <th>5</th>\n",
       "      <td>혼자 공부하는 파이썬 (1:1 과외하듯 배우는 프로그래밍 자습서)</td>\n",
       "      <td>컴퓨터/IT 9위</td>\n",
       "      <td>윤인성</td>\n",
       "      <td>한빛미디어</td>\n",
       "      <td>2022.06.01.</td>\n",
       "      <td>4.9</td>\n",
       "      <td>19</td>\n",
       "      <td>19,800</td>\n",
       "      <td>15,840</td>\n",
       "    </tr>\n",
       "    <tr>\n",
       "      <th>6</th>\n",
       "      <td>파이썬으로 쉽게 배우는 자료구조 (개정판)</td>\n",
       "      <td>컴퓨터/IT 70위</td>\n",
       "      <td>최영규, 천인국</td>\n",
       "      <td>생능출판</td>\n",
       "      <td>2023.06.26.</td>\n",
       "      <td>3.0</td>\n",
       "      <td>1</td>\n",
       "      <td>26,100</td>\n",
       "      <td>None</td>\n",
       "    </tr>\n",
       "    <tr>\n",
       "      <th>7</th>\n",
       "      <td>디딤돌 파이썬 (구조적 프로그래밍으로 설명한 파이썬 기초)</td>\n",
       "      <td>None</td>\n",
       "      <td>이찬수</td>\n",
       "      <td>인피니티북스</td>\n",
       "      <td>2022.08.23.</td>\n",
       "      <td>0</td>\n",
       "      <td>0</td>\n",
       "      <td>26,100</td>\n",
       "      <td>None</td>\n",
       "    </tr>\n",
       "    <tr>\n",
       "      <th>8</th>\n",
       "      <td>파이썬 스타트 (AI로 가는 첫걸음)</td>\n",
       "      <td>None</td>\n",
       "      <td>박희재</td>\n",
       "      <td>인피니티북스</td>\n",
       "      <td>2022.06.28.</td>\n",
       "      <td>0</td>\n",
       "      <td>0</td>\n",
       "      <td>22,500</td>\n",
       "      <td>None</td>\n",
       "    </tr>\n",
       "    <tr>\n",
       "      <th>9</th>\n",
       "      <td>자기주도 파이썬 (정보영재 및 올림피아드를 위한 최적의 입문서)</td>\n",
       "      <td>None</td>\n",
       "      <td>한컴에듀케이션 알고리즘연구소</td>\n",
       "      <td>복두출판사</td>\n",
       "      <td>2022.11.15.</td>\n",
       "      <td>5.0</td>\n",
       "      <td>2</td>\n",
       "      <td>15,300</td>\n",
       "      <td>15,300</td>\n",
       "    </tr>\n",
       "  </tbody>\n",
       "</table>\n",
       "</div>"
      ],
      "text/plain": [
       "                                               title      ranking  \\\n",
       "0              파이썬과 데이터 과학 (파이썬으로 시작하는 데이터 과학과 기계학습)  컴퓨터/IT 148위   \n",
       "1                                두근두근 파이썬 (만들면서 배우는)   컴퓨터/IT 73위   \n",
       "2  코딩 뇌를 깨우는 파이썬 (문제 해결 능력을 키우는 컴퓨팅 사고부터 알고리즘, 데이...   컴퓨터/IT 80위   \n",
       "3           Do it! 점프 투 파이썬 (중학생도 첫날부터 실습하는 초고속 입문서)    컴퓨터/IT 5위   \n",
       "4        나는 파이썬으로 머신러닝한다 2 (인공지능 자신감 UP 인공지능 약간 매운맛)   컴퓨터/IT 79위   \n",
       "5               혼자 공부하는 파이썬 (1:1 과외하듯 배우는 프로그래밍 자습서)    컴퓨터/IT 9위   \n",
       "6                            파이썬으로 쉽게 배우는 자료구조 (개정판)   컴퓨터/IT 70위   \n",
       "7                   디딤돌 파이썬 (구조적 프로그래밍으로 설명한 파이썬 기초)         None   \n",
       "8                               파이썬 스타트 (AI로 가는 첫걸음)         None   \n",
       "9                자기주도 파이썬 (정보영재 및 올림피아드를 위한 최적의 입문서)         None   \n",
       "\n",
       "            author publisher     pub_date starpoint reviews book_price  \\\n",
       "0         천인국, 박동규      생능출판  2020.12.28.       5.0      10     24,700   \n",
       "1              천인국      생능출판  2023.01.05.       4.7       3     23,750   \n",
       "2         존 V. 구태그     한빛미디어  2023.08.30.         0       0     31,500   \n",
       "3              박응용   이지스퍼블리싱  2023.06.15.       4.9      49     19,800   \n",
       "4    장병철, 이지항 외 2명       씨마스  2023.09.01.       5.0       1     20,700   \n",
       "5              윤인성     한빛미디어  2022.06.01.       4.9      19     19,800   \n",
       "6         최영규, 천인국      생능출판  2023.06.26.       3.0       1     26,100   \n",
       "7              이찬수    인피니티북스  2022.08.23.         0       0     26,100   \n",
       "8              박희재    인피니티북스  2022.06.28.         0       0     22,500   \n",
       "9  한컴에듀케이션 알고리즘연구소     복두출판사  2022.11.15.       5.0       2     15,300   \n",
       "\n",
       "  ebook_price  \n",
       "0        None  \n",
       "1        None  \n",
       "2      25,200  \n",
       "3      13,500  \n",
       "4        None  \n",
       "5      15,840  \n",
       "6        None  \n",
       "7        None  \n",
       "8        None  \n",
       "9      15,300  "
      ]
     },
     "execution_count": 168,
     "metadata": {},
     "output_type": "execute_result"
    }
   ],
   "source": [
    "df5 = pd.DataFrame(result2, columns=['title', 'ranking', 'author', 'publisher', 'pub_date', 'starpoint', 'reviews', 'book_price', 'ebook_price'])\n",
    "df5"
   ]
  },
  {
   "cell_type": "code",
   "execution_count": 3,
   "id": "1706d5a0",
   "metadata": {},
   "outputs": [
    {
     "data": {
      "text/plain": [
       "[1, 2, 3, 4, 5, 6, 7, 8, 9, 10]"
      ]
     },
     "execution_count": 3,
     "metadata": {},
     "output_type": "execute_result"
    }
   ],
   "source": [
    "temp = []\n",
    "for i in range(1,11):\n",
    "    temp.append(i)\n",
    "temp"
   ]
  },
  {
   "cell_type": "code",
   "execution_count": 1,
   "id": "efcb43be",
   "metadata": {
    "scrolled": true
   },
   "outputs": [
    {
     "data": {
      "text/plain": [
       "[1, 2, 3, 4, 5, 6, 7, 8, 9, 10]"
      ]
     },
     "execution_count": 1,
     "metadata": {},
     "output_type": "execute_result"
    }
   ],
   "source": [
    "[i for i in range(1,11)]"
   ]
  },
  {
   "cell_type": "code",
   "execution_count": 2,
   "id": "57f9397c",
   "metadata": {
    "scrolled": true
   },
   "outputs": [
    {
     "data": {
      "text/plain": [
       "[2, 4, 6, 8, 10]"
      ]
     },
     "execution_count": 2,
     "metadata": {},
     "output_type": "execute_result"
    }
   ],
   "source": [
    "[i for i in range(1,11) if i % 2 == 0]"
   ]
  },
  {
   "cell_type": "markdown",
   "id": "63a8a050",
   "metadata": {},
   "source": [
    "#링크만 뽑아서 보기"
   ]
  },
  {
   "cell_type": "code",
   "execution_count": 4,
   "id": "062747e9",
   "metadata": {
    "scrolled": true
   },
   "outputs": [
    {
     "ename": "NameError",
     "evalue": "name 'book_list' is not defined",
     "output_type": "error",
     "traceback": [
      "\u001b[1;31m---------------------------------------------------------------------------\u001b[0m",
      "\u001b[1;31mNameError\u001b[0m                                 Traceback (most recent call last)",
      "Cell \u001b[1;32mIn[4], line 1\u001b[0m\n\u001b[1;32m----> 1\u001b[0m \u001b[43mbook_list\u001b[49m[\u001b[38;5;241m2\u001b[39m]\u001b[38;5;241m.\u001b[39mselect_one(\u001b[38;5;124m\"\u001b[39m\u001b[38;5;124m.bookListItem_item_inner_Fp7hN > a\u001b[39m\u001b[38;5;124m\"\u001b[39m)[\u001b[38;5;124m'\u001b[39m\u001b[38;5;124mhref\u001b[39m\u001b[38;5;124m'\u001b[39m]\n",
      "\u001b[1;31mNameError\u001b[0m: name 'book_list' is not defined"
     ]
    }
   ],
   "source": [
    "book_list[2].select_one(\".bookListItem_item_inner_Fp7hN > a\")['href'] # 링크만 뽑아서 보기"
   ]
  }
 ],
 "metadata": {
  "kernelspec": {
   "display_name": "testenv",
   "language": "python",
   "name": "testenv"
  },
  "language_info": {
   "codemirror_mode": {
    "name": "ipython",
    "version": 3
   },
   "file_extension": ".py",
   "mimetype": "text/x-python",
   "name": "python",
   "nbconvert_exporter": "python",
   "pygments_lexer": "ipython3",
   "version": "3.8.17"
  }
 },
 "nbformat": 4,
 "nbformat_minor": 5
}
