{
 "cells": [
  {
   "cell_type": "code",
   "execution_count": 5,
   "id": "19a27060",
   "metadata": {},
   "outputs": [],
   "source": [
    "from tensorflow.keras.preprocessing.text import Tokenizer, text_to_word_sequence\n",
    "from tensorflow.keras.preprocessing.sequence import pad_sequences\n",
    "from tensorflow.keras.models import Sequential\n",
    "from tensorflow.keras.layers import Dense, Flatten, Embedding\n",
    "from tensorflow.keras.utils import to_categorical\n",
    "from numpy import array"
   ]
  },
  {
   "cell_type": "code",
   "execution_count": 6,
   "id": "ffa65818",
   "metadata": {},
   "outputs": [],
   "source": [
    "text = '해보지 않으면 해낼 수 없다.'"
   ]
  },
  {
   "cell_type": "code",
   "execution_count": 9,
   "id": "708d4320",
   "metadata": {},
   "outputs": [
    {
     "name": "stdout",
     "output_type": "stream",
     "text": [
      "원문:  해보지 않으면 해낼 수 없다.\n",
      "토큰화:  ['해보지', '않으면', '해낼', '수', '없다']\n"
     ]
    }
   ],
   "source": [
    "result = text_to_word_sequence(text) # 토크나이징을 자동으로 해준다.\n",
    "print(\"원문: \", text)\n",
    "print(\"토큰화: \", result) # 토큰, 코퍼스(corpus)"
   ]
  },
  {
   "cell_type": "markdown",
   "id": "06f06dad",
   "metadata": {},
   "source": [
    "# 토크나이저 사용법"
   ]
  },
  {
   "cell_type": "code",
   "execution_count": 11,
   "id": "7a420ef5",
   "metadata": {},
   "outputs": [],
   "source": [
    "#단어 빈도수 세기\n",
    "docs = ['먼저 텍스트의 각 단어를 나누어 토큰화 합니다.',\n",
    "       '텍스트의 단어로 토큰화해야 딥러닝에서 인식됩니다.',\n",
    "       '토큰화한 결과는 딥러닝에서 사용할 수 있습니다.']\n"
   ]
  },
  {
   "cell_type": "code",
   "execution_count": 12,
   "id": "b30f1926",
   "metadata": {},
   "outputs": [],
   "source": [
    "# 문장 토큰화 하기\n",
    "token =Tokenizer(lower=False)\n",
    "token.fit_on_texts(docs)"
   ]
  },
  {
   "cell_type": "code",
   "execution_count": 13,
   "id": "1511767a",
   "metadata": {},
   "outputs": [
    {
     "name": "stdout",
     "output_type": "stream",
     "text": [
      "단어 카운트:  OrderedDict([('먼저', 1), ('텍스트의', 2), ('각', 1), ('단어를', 1), ('나누어', 1), ('토큰화', 1), ('합니다', 1), ('단어로', 1), ('토큰화해야', 1), ('딥러닝에서', 2), ('인식됩니다', 1), ('토큰화한', 1), ('결과는', 1), ('사용할', 1), ('수', 1), ('있습니다', 1)])\n"
     ]
    }
   ],
   "source": [
    "print('단어 카운트: ', token.word_counts)"
   ]
  },
  {
   "cell_type": "code",
   "execution_count": 15,
   "id": "2aa20956",
   "metadata": {},
   "outputs": [
    {
     "name": "stdout",
     "output_type": "stream",
     "text": [
      "문장 카운트: 3\n"
     ]
    }
   ],
   "source": [
    "print('문장 카운트:', token.document_count)"
   ]
  },
  {
   "cell_type": "code",
   "execution_count": 16,
   "id": "656fdc96",
   "metadata": {},
   "outputs": [
    {
     "name": "stdout",
     "output_type": "stream",
     "text": [
      "각 단어가 몇 개의 문장에 포함되어 있는가? defaultdict(<class 'int'>, {'토큰화': 1, '합니다': 1, '단어를': 1, '텍스트의': 2, '나누어': 1, '각': 1, '먼저': 1, '토큰화해야': 1, '인식됩니다': 1, '단어로': 1, '딥러닝에서': 2, '사용할': 1, '수': 1, '토큰화한': 1, '결과는': 1, '있습니다': 1})\n"
     ]
    }
   ],
   "source": [
    "print('각 단어가 몇 개의 문장에 포함되어 있는가?', token.word_docs)"
   ]
  },
  {
   "cell_type": "markdown",
   "id": "5fd5447b",
   "metadata": {},
   "source": [
    "텍스트의 2는 2개의 문장에 포함되어있다,."
   ]
  },
  {
   "cell_type": "code",
   "execution_count": 17,
   "id": "dda679c9",
   "metadata": {},
   "outputs": [
    {
     "name": "stdout",
     "output_type": "stream",
     "text": [
      "각 단어에 매겨진 인덱스: {'텍스트의': 1, '딥러닝에서': 2, '먼저': 3, '각': 4, '단어를': 5, '나누어': 6, '토큰화': 7, '합니다': 8, '단어로': 9, '토큰화해야': 10, '인식됩니다': 11, '토큰화한': 12, '결과는': 13, '사용할': 14, '수': 15, '있습니다': 16}\n"
     ]
    }
   ],
   "source": [
    "print('각 단어에 매겨진 인덱스:', token.word_index)"
   ]
  },
  {
   "cell_type": "markdown",
   "id": "39c9c379",
   "metadata": {},
   "source": [
    "# 단어의 원-핫 인코딩"
   ]
  },
  {
   "cell_type": "code",
   "execution_count": 18,
   "id": "a6ff0605",
   "metadata": {},
   "outputs": [
    {
     "name": "stdout",
     "output_type": "stream",
     "text": [
      "{'오랫동안': 1, '꿈꾸는': 2, '이는': 3, '그': 4, '꿈을': 5, '닮아간다': 6}\n"
     ]
    }
   ],
   "source": [
    "text = '오랫동안 꿈꾸는 이는 그 꿈을 닮아간다.'\n",
    "token = Tokenizer(lower=False)\n",
    "token.fit_on_texts([text])\n",
    "print(token.word_index)"
   ]
  },
  {
   "cell_type": "code",
   "execution_count": 20,
   "id": "c676bc14",
   "metadata": {},
   "outputs": [],
   "source": [
    "# 단어를 벡터로 변환\n",
    "x = token.texts_to_sequences([text])"
   ]
  },
  {
   "cell_type": "code",
   "execution_count": 24,
   "id": "370ffa9f",
   "metadata": {},
   "outputs": [],
   "source": [
    "# 인덱스에 1을 추가해서 원-핫 인코딩 배열 만들기, \n",
    "word_size = len(token.word_index) + 1 "
   ]
  },
  {
   "cell_type": "code",
   "execution_count": 22,
   "id": "0d0d0635",
   "metadata": {},
   "outputs": [
    {
     "data": {
      "text/plain": [
       "6"
      ]
     },
     "execution_count": 22,
     "metadata": {},
     "output_type": "execute_result"
    }
   ],
   "source": [
    "word_size"
   ]
  },
  {
   "cell_type": "code",
   "execution_count": 25,
   "id": "46ac35d4",
   "metadata": {},
   "outputs": [
    {
     "name": "stdout",
     "output_type": "stream",
     "text": [
      "[[[0. 1. 0. 0. 0. 0. 0.]\n",
      "  [0. 0. 1. 0. 0. 0. 0.]\n",
      "  [0. 0. 0. 1. 0. 0. 0.]\n",
      "  [0. 0. 0. 0. 1. 0. 0.]\n",
      "  [0. 0. 0. 0. 0. 1. 0.]\n",
      "  [0. 0. 0. 0. 0. 0. 1.]]]\n"
     ]
    }
   ],
   "source": [
    "x = to_categorical(x, num_classes=word_size) # 배열이 정상적으로 들어가려면 +1을 해줘야 한다. 그래서 앞을 0으로 만들어줘야 해\n",
    "print(x)"
   ]
  },
  {
   "cell_type": "markdown",
   "id": "f38a6d1f",
   "metadata": {},
   "source": [
    "# 텍스트를 읽고 긍정, 부정 예측하기"
   ]
  },
  {
   "cell_type": "code",
   "execution_count": 51,
   "id": "82a639bd",
   "metadata": {},
   "outputs": [],
   "source": [
    "docs = [\"너무 재미있네요\",\n",
    "       \"한 번 더 보고싶네요\",\n",
    "       \"최고에요\",\n",
    "       \"참 잘 만든 영화이네요.\",\n",
    "       \"추천하고싶은 영화입니다.\",\n",
    "        \"조금 아쉬워요\",\n",
    "       \"이건 별로에요\",\n",
    "       \"그냥 그래요\",\n",
    "       \"생각보다 지루해요\",\n",
    "       \"최악이에요\"]\n",
    "\n",
    "#긍정 리뷰는 1, 부정리뷰는 0으로 클래스 지정\n",
    "classes = array([1,1,1,1,1,0,0,0,0,0])"
   ]
  },
  {
   "cell_type": "code",
   "execution_count": 52,
   "id": "4bf92267",
   "metadata": {},
   "outputs": [
    {
     "name": "stdout",
     "output_type": "stream",
     "text": [
      "{'너무': 1, '재미있네요': 2, '한': 3, '번': 4, '더': 5, '보고싶네요': 6, '최고에요': 7, '참': 8, '잘': 9, '만든': 10, '영화이네요': 11, '추천하고싶은': 12, '영화입니다': 13, '조금': 14, '아쉬워요': 15, '이건': 16, '별로에요': 17, '그냥': 18, '그래요': 19, '생각보다': 20, '지루해요': 21, '최악이에요': 22}\n"
     ]
    }
   ],
   "source": [
    "# 토큰화\n",
    "token = Tokenizer(lower=False)\n",
    "token.fit_on_texts(docs)\n",
    "print(token.word_index)"
   ]
  },
  {
   "cell_type": "code",
   "execution_count": 53,
   "id": "c402935b",
   "metadata": {},
   "outputs": [
    {
     "name": "stdout",
     "output_type": "stream",
     "text": [
      "[[1, 2], [3, 4, 5, 6], [7], [8, 9, 10, 11], [12, 13], [14, 15], [16, 17], [18, 19], [20, 21], [22]]\n"
     ]
    }
   ],
   "source": [
    "#원핫인코딩\n",
    "x = token.texts_to_sequences(docs)\n",
    "print(x)"
   ]
  },
  {
   "cell_type": "code",
   "execution_count": 34,
   "id": "95630d75",
   "metadata": {},
   "outputs": [
    {
     "name": "stdout",
     "output_type": "stream",
     "text": [
      "2\n",
      "4\n",
      "1\n",
      "4\n",
      "2\n",
      "2\n",
      "2\n",
      "2\n",
      "2\n",
      "2\n",
      "1\n",
      "4\n"
     ]
    }
   ],
   "source": [
    "# 패딩 추가, 단어가 제일 긴 []에 맞춤.\n",
    "# 길이 먼저 찾기 숙제!!!\n",
    "for i in x:\n",
    "    print(len(i))"
   ]
  },
  {
   "cell_type": "code",
   "execution_count": 54,
   "id": "5d607724",
   "metadata": {},
   "outputs": [
    {
     "name": "stdout",
     "output_type": "stream",
     "text": [
      "패딩 결과 [[ 0  0  1  2]\n",
      " [ 3  4  5  6]\n",
      " [ 0  0  0  7]\n",
      " [ 8  9 10 11]\n",
      " [ 0  0 12 13]\n",
      " [ 0  0 14 15]\n",
      " [ 0  0 16 17]\n",
      " [ 0  0 18 19]\n",
      " [ 0  0 20 21]\n",
      " [ 0  0  0 22]]\n"
     ]
    }
   ],
   "source": [
    "# 패딩 추가, pad_sequences(데이터, 가장 긴 문장의 길이)\n",
    "padded_x = pad_sequences(x, 4)\n",
    "print(\"패딩 결과\", padded_x)"
   ]
  },
  {
   "cell_type": "code",
   "execution_count": 55,
   "id": "fec01d4c",
   "metadata": {},
   "outputs": [],
   "source": [
    "# 임베딩에 입력된 단어의 수 지정\n",
    "word_size = len(token.word_index) + 1"
   ]
  },
  {
   "cell_type": "code",
   "execution_count": 58,
   "id": "15c36196",
   "metadata": {},
   "outputs": [
    {
     "data": {
      "text/plain": [
       "23"
      ]
     },
     "execution_count": 58,
     "metadata": {},
     "output_type": "execute_result"
    }
   ],
   "source": [
    "# 임베딩에 입력된 단어의 수 지정\n",
    "word_size"
   ]
  },
  {
   "cell_type": "code",
   "execution_count": 56,
   "id": "61e486c4",
   "metadata": {},
   "outputs": [
    {
     "name": "stdout",
     "output_type": "stream",
     "text": [
      "Model: \"sequential_2\"\n",
      "_________________________________________________________________\n",
      " Layer (type)                Output Shape              Param #   \n",
      "=================================================================\n",
      " embedding_2 (Embedding)     (None, 4, 8)              184       \n",
      "                                                                 \n",
      " flatten_2 (Flatten)         (None, 32)                0         \n",
      "                                                                 \n",
      " dense_2 (Dense)             (None, 1)                 33        \n",
      "                                                                 \n",
      "=================================================================\n",
      "Total params: 217\n",
      "Trainable params: 217\n",
      "Non-trainable params: 0\n",
      "_________________________________________________________________\n"
     ]
    }
   ],
   "source": [
    "# 단어 임베딩을 포함해서 딥러닝 모델 생성\n",
    "model = Sequential()\n",
    "model.add(Embedding(word_size, 8, input_length=4))\n",
    "model.add(Flatten())\n",
    "model.add(Dense(1, activation='sigmoid'))\n",
    "model.summary()"
   ]
  },
  {
   "cell_type": "code",
   "execution_count": 57,
   "id": "5d6a71ea",
   "metadata": {},
   "outputs": [
    {
     "name": "stdout",
     "output_type": "stream",
     "text": [
      "Epoch 1/20\n",
      "1/1 [==============================] - 4s 4s/step - loss: 0.6857 - accuracy: 0.8000\n",
      "Epoch 2/20\n",
      "1/1 [==============================] - 0s 37ms/step - loss: 0.6835 - accuracy: 0.9000\n",
      "Epoch 3/20\n",
      "1/1 [==============================] - 0s 50ms/step - loss: 0.6813 - accuracy: 0.9000\n",
      "Epoch 4/20\n",
      "1/1 [==============================] - 0s 33ms/step - loss: 0.6790 - accuracy: 0.9000\n",
      "Epoch 5/20\n",
      "1/1 [==============================] - 0s 81ms/step - loss: 0.6768 - accuracy: 0.9000\n",
      "Epoch 6/20\n",
      "1/1 [==============================] - 0s 67ms/step - loss: 0.6746 - accuracy: 0.9000\n",
      "Epoch 7/20\n",
      "1/1 [==============================] - 0s 67ms/step - loss: 0.6724 - accuracy: 0.9000\n",
      "Epoch 8/20\n",
      "1/1 [==============================] - 0s 18ms/step - loss: 0.6701 - accuracy: 0.9000\n",
      "Epoch 9/20\n",
      "1/1 [==============================] - 0s 0s/step - loss: 0.6679 - accuracy: 0.9000\n",
      "Epoch 10/20\n",
      "1/1 [==============================] - 0s 4ms/step - loss: 0.6656 - accuracy: 1.0000\n",
      "Epoch 11/20\n",
      "1/1 [==============================] - 0s 3ms/step - loss: 0.6634 - accuracy: 1.0000\n",
      "Epoch 12/20\n",
      "1/1 [==============================] - 0s 18ms/step - loss: 0.6611 - accuracy: 1.0000\n",
      "Epoch 13/20\n",
      "1/1 [==============================] - 0s 14ms/step - loss: 0.6589 - accuracy: 1.0000\n",
      "Epoch 14/20\n",
      "1/1 [==============================] - 0s 0s/step - loss: 0.6566 - accuracy: 1.0000\n",
      "Epoch 15/20\n",
      "1/1 [==============================] - 0s 2ms/step - loss: 0.6543 - accuracy: 1.0000\n",
      "Epoch 16/20\n",
      "1/1 [==============================] - 0s 113ms/step - loss: 0.6521 - accuracy: 1.0000\n",
      "Epoch 17/20\n",
      "1/1 [==============================] - 0s 65ms/step - loss: 0.6498 - accuracy: 1.0000\n",
      "Epoch 18/20\n",
      "1/1 [==============================] - 0s 67ms/step - loss: 0.6475 - accuracy: 1.0000\n",
      "Epoch 19/20\n",
      "1/1 [==============================] - 0s 67ms/step - loss: 0.6452 - accuracy: 1.0000\n",
      "Epoch 20/20\n",
      "1/1 [==============================] - 0s 83ms/step - loss: 0.6428 - accuracy: 1.0000\n",
      "1/1 [==============================] - 0s 201ms/step - loss: 0.6405 - accuracy: 1.0000\n",
      "Accuracy:  1.0\n"
     ]
    }
   ],
   "source": [
    "model.compile(loss='binary_crossentropy', optimizer='adam', metrics=['accuracy'])\n",
    "history = model.fit(padded_x, classes, epochs=20)\n",
    "print('Accuracy: ',model.evaluate(padded_x, classes)[1])"
   ]
  },
  {
   "cell_type": "code",
   "execution_count": null,
   "id": "e4059ec1",
   "metadata": {},
   "outputs": [],
   "source": []
  }
 ],
 "metadata": {
  "kernelspec": {
   "display_name": "Python 3 (ipykernel)",
   "language": "python",
   "name": "python3"
  },
  "language_info": {
   "codemirror_mode": {
    "name": "ipython",
    "version": 3
   },
   "file_extension": ".py",
   "mimetype": "text/x-python",
   "name": "python",
   "nbconvert_exporter": "python",
   "pygments_lexer": "ipython3",
   "version": "3.9.18"
  }
 },
 "nbformat": 4,
 "nbformat_minor": 5
}
