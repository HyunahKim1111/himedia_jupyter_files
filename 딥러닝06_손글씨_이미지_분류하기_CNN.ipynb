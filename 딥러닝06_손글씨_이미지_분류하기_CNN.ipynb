{
 "cells": [
  {
   "cell_type": "markdown",
   "id": "d691f1af",
   "metadata": {},
   "source": [
    "# 딥러닝을 이용해서 이미지 분류"
   ]
  },
  {
   "cell_type": "code",
   "execution_count": 1,
   "id": "9b0d7ee2",
   "metadata": {},
   "outputs": [],
   "source": [
    "from tensorflow.keras.datasets import mnist\n",
    "from tensorflow.keras.utils import to_categorical\n",
    "import matplotlib.pyplot as plt\n",
    "import sys\n",
    "import pandas as pd\n",
    "import numpy as np\n",
    "import koreanize_matplotlib\n",
    "import seaborn as sns"
   ]
  },
  {
   "cell_type": "code",
   "execution_count": 2,
   "id": "926caa9d",
   "metadata": {},
   "outputs": [],
   "source": [
    "# MNIST 손글씨 데이터 불러와 저장하기\n",
    "(X_train, y_train), (X_test, y_test) = mnist.load_data()"
   ]
  },
  {
   "cell_type": "code",
   "execution_count": 3,
   "id": "1b7b7aa3",
   "metadata": {},
   "outputs": [
    {
     "data": {
      "text/plain": [
       "(60000, 28, 28)"
      ]
     },
     "execution_count": 3,
     "metadata": {},
     "output_type": "execute_result"
    }
   ],
   "source": [
    "X_train.shape # 가로세로 28x28 짜리가 6만개 있음"
   ]
  },
  {
   "cell_type": "code",
   "execution_count": 4,
   "id": "51f984a5",
   "metadata": {},
   "outputs": [
    {
     "data": {
      "text/plain": [
       "(10000, 28, 28)"
      ]
     },
     "execution_count": 4,
     "metadata": {},
     "output_type": "execute_result"
    }
   ],
   "source": [
    "X_test.shape"
   ]
  },
  {
   "cell_type": "code",
   "execution_count": 5,
   "id": "3c08079e",
   "metadata": {},
   "outputs": [
    {
     "data": {
      "text/plain": [
       "<matplotlib.image.AxesImage at 0x1eceb8d0a30>"
      ]
     },
     "execution_count": 5,
     "metadata": {},
     "output_type": "execute_result"
    },
    {
     "data": {
      "image/png": "[encoded data removed]",
      "text/plain": [
       "<Figure size 640x480 with 1 Axes>"
      ]
     },
     "metadata": {},
     "output_type": "display_data"
    }
   ],
   "source": [
    "plt.imshow(X_train[59999]) # 이런 손글씨가 X_train에는 6만개, X_test에는 만개가 있음."
   ]
  },
  {
   "cell_type": "code",
   "execution_count": 6,
   "id": "d3579b81",
   "metadata": {},
   "outputs": [
    {
     "name": "stdout",
     "output_type": "stream",
     "text": [
      "[0 0 0 0 0 0 0 0 0 0 0 0 0 0 0 0 0 0 0 0 0 0 0 0 0 0 0 0]\n",
      "0  0  0  0  0  0  0  0  0  0  0  0  0  0  0  0  0  0  0  0  0  0  0  0  0  0  0  0  \n",
      "[0 0 0 0 0 0 0 0 0 0 0 0 0 0 0 0 0 0 0 0 0 0 0 0 0 0 0 0]\n",
      "0  0  0  0  0  0  0  0  0  0  0  0  0  0  0  0  0  0  0  0  0  0  0  0  0  0  0  0  \n",
      "[0 0 0 0 0 0 0 0 0 0 0 0 0 0 0 0 0 0 0 0 0 0 0 0 0 0 0 0]\n",
      "0  0  0  0  0  0  0  0  0  0  0  0  0  0  0  0  0  0  0  0  0  0  0  0  0  0  0  0  \n",
      "[0 0 0 0 0 0 0 0 0 0 0 0 0 0 0 0 0 0 0 0 0 0 0 0 0 0 0 0]\n",
      "0  0  0  0  0  0  0  0  0  0  0  0  0  0  0  0  0  0  0  0  0  0  0  0  0  0  0  0  \n",
      "[0 0 0 0 0 0 0 0 0 0 0 0 0 0 0 0 0 0 0 0 0 0 0 0 0 0 0 0]\n",
      "0  0  0  0  0  0  0  0  0  0  0  0  0  0  0  0  0  0  0  0  0  0  0  0  0  0  0  0  \n",
      "[  0   0   0   0   0   0   0   0   0   0   0   0   3  18  18  18 126 136\n",
      " 175  26 166 255 247 127   0   0   0   0]\n",
      "0  0  0  0  0  0  0  0  0  0  0  0  3  18 18 18 12613617526 1662552471270  0  0  0  \n",
      "[  0   0   0   0   0   0   0   0  30  36  94 154 170 253 253 253 253 253\n",
      " 225 172 253 242 195  64   0   0   0   0]\n",
      "0  0  0  0  0  0  0  0  30 36 94 15417025325325325325322517225324219564 0  0  0  0  \n",
      "[  0   0   0   0   0   0   0  49 238 253 253 253 253 253 253 253 253 251\n",
      "  93  82  82  56  39   0   0   0   0   0]\n",
      "0  0  0  0  0  0  0  49 23825325325325325325325325325193 82 82 56 39 0  0  0  0  0  \n",
      "[  0   0   0   0   0   0   0  18 219 253 253 253 253 253 198 182 247 241\n",
      "   0   0   0   0   0   0   0   0   0   0]\n",
      "0  0  0  0  0  0  0  18 2192532532532532531981822472410  0  0  0  0  0  0  0  0  0  \n",
      "[  0   0   0   0   0   0   0   0  80 156 107 253 253 205  11   0  43 154\n",
      "   0   0   0   0   0   0   0   0   0   0]\n",
      "0  0  0  0  0  0  0  0  80 15610725325320511 0  43 1540  0  0  0  0  0  0  0  0  0  \n",
      "[  0   0   0   0   0   0   0   0   0  14   1 154 253  90   0   0   0   0\n",
      "   0   0   0   0   0   0   0   0   0   0]\n",
      "0  0  0  0  0  0  0  0  0  14 1  15425390 0  0  0  0  0  0  0  0  0  0  0  0  0  0  \n",
      "[  0   0   0   0   0   0   0   0   0   0   0 139 253 190   2   0   0   0\n",
      "   0   0   0   0   0   0   0   0   0   0]\n",
      "0  0  0  0  0  0  0  0  0  0  0  1392531902  0  0  0  0  0  0  0  0  0  0  0  0  0  \n",
      "[  0   0   0   0   0   0   0   0   0   0   0  11 190 253  70   0   0   0\n",
      "   0   0   0   0   0   0   0   0   0   0]\n",
      "0  0  0  0  0  0  0  0  0  0  0  11 19025370 0  0  0  0  0  0  0  0  0  0  0  0  0  \n",
      "[  0   0   0   0   0   0   0   0   0   0   0   0  35 241 225 160 108   1\n",
      "   0   0   0   0   0   0   0   0   0   0]\n",
      "0  0  0  0  0  0  0  0  0  0  0  0  35 2412251601081  0  0  0  0  0  0  0  0  0  0  \n",
      "[  0   0   0   0   0   0   0   0   0   0   0   0   0  81 240 253 253 119\n",
      "  25   0   0   0   0   0   0   0   0   0]\n",
      "0  0  0  0  0  0  0  0  0  0  0  0  0  81 24025325311925 0  0  0  0  0  0  0  0  0  \n",
      "[  0   0   0   0   0   0   0   0   0   0   0   0   0   0  45 186 253 253\n",
      " 150  27   0   0   0   0   0   0   0   0]\n",
      "0  0  0  0  0  0  0  0  0  0  0  0  0  0  45 18625325315027 0  0  0  0  0  0  0  0  \n",
      "[  0   0   0   0   0   0   0   0   0   0   0   0   0   0   0  16  93 252\n",
      " 253 187   0   0   0   0   0   0   0   0]\n",
      "0  0  0  0  0  0  0  0  0  0  0  0  0  0  0  16 93 2522531870  0  0  0  0  0  0  0  \n",
      "[  0   0   0   0   0   0   0   0   0   0   0   0   0   0   0   0   0 249\n",
      " 253 249  64   0   0   0   0   0   0   0]\n",
      "0  0  0  0  0  0  0  0  0  0  0  0  0  0  0  0  0  24925324964 0  0  0  0  0  0  0  \n",
      "[  0   0   0   0   0   0   0   0   0   0   0   0   0   0  46 130 183 253\n",
      " 253 207   2   0   0   0   0   0   0   0]\n",
      "0  0  0  0  0  0  0  0  0  0  0  0  0  0  46 1301832532532072  0  0  0  0  0  0  0  \n",
      "[  0   0   0   0   0   0   0   0   0   0   0   0  39 148 229 253 253 253\n",
      " 250 182   0   0   0   0   0   0   0   0]\n",
      "0  0  0  0  0  0  0  0  0  0  0  0  39 1482292532532532501820  0  0  0  0  0  0  0  \n",
      "[  0   0   0   0   0   0   0   0   0   0  24 114 221 253 253 253 253 201\n",
      "  78   0   0   0   0   0   0   0   0   0]\n",
      "0  0  0  0  0  0  0  0  0  0  24 11422125325325325320178 0  0  0  0  0  0  0  0  0  \n",
      "[  0   0   0   0   0   0   0   0  23  66 213 253 253 253 253 198  81   2\n",
      "   0   0   0   0   0   0   0   0   0   0]\n",
      "0  0  0  0  0  0  0  0  23 66 21325325325325319881 2  0  0  0  0  0  0  0  0  0  0  \n",
      "[  0   0   0   0   0   0  18 171 219 253 253 253 253 195  80   9   0   0\n",
      "   0   0   0   0   0   0   0   0   0   0]\n",
      "0  0  0  0  0  0  18 17121925325325325319580 9  0  0  0  0  0  0  0  0  0  0  0  0  \n",
      "[  0   0   0   0  55 172 226 253 253 253 253 244 133  11   0   0   0   0\n",
      "   0   0   0   0   0   0   0   0   0   0]\n",
      "0  0  0  0  55 17222625325325325324413311 0  0  0  0  0  0  0  0  0  0  0  0  0  0  \n",
      "[  0   0   0   0 136 253 253 253 212 135 132  16   0   0   0   0   0   0\n",
      "   0   0   0   0   0   0   0   0   0   0]\n",
      "0  0  0  0  13625325325321213513216 0  0  0  0  0  0  0  0  0  0  0  0  0  0  0  0  \n",
      "[0 0 0 0 0 0 0 0 0 0 0 0 0 0 0 0 0 0 0 0 0 0 0 0 0 0 0 0]\n",
      "0  0  0  0  0  0  0  0  0  0  0  0  0  0  0  0  0  0  0  0  0  0  0  0  0  0  0  0  \n",
      "[0 0 0 0 0 0 0 0 0 0 0 0 0 0 0 0 0 0 0 0 0 0 0 0 0 0 0 0]\n",
      "0  0  0  0  0  0  0  0  0  0  0  0  0  0  0  0  0  0  0  0  0  0  0  0  0  0  0  0  \n",
      "[0 0 0 0 0 0 0 0 0 0 0 0 0 0 0 0 0 0 0 0 0 0 0 0 0 0 0 0]\n",
      "0  0  0  0  0  0  0  0  0  0  0  0  0  0  0  0  0  0  0  0  0  0  0  0  0  0  0  0  \n"
     ]
    }
   ],
   "source": [
    "# 컴퓨터는 어떻게 이미지를 인식하는가? --> 숫자들의 조합!\n",
    "for x in X_train[0]:\n",
    "    print(x)\n",
    "    for i in x: # 리스트 안에 있으니까 한번 더 돌려\n",
    "        sys.stdout.write(\"%-3s\" % i)\n",
    "    sys.stdout.write('\\n') # \\n줄바꿈"
   ]
  },
  {
   "cell_type": "code",
   "execution_count": 7,
   "id": "e13d5c31",
   "metadata": {},
   "outputs": [],
   "source": [
    "# 0-255의 숫자로 이뤄져있다."
   ]
  },
  {
   "cell_type": "code",
   "execution_count": 8,
   "id": "1ab5f669",
   "metadata": {},
   "outputs": [
    {
     "data": {
      "text/plain": [
       "60000"
      ]
     },
     "execution_count": 8,
     "metadata": {},
     "output_type": "execute_result"
    }
   ],
   "source": [
    "X_train.shape[0]"
   ]
  },
  {
   "cell_type": "code",
   "execution_count": 9,
   "id": "4638bc45",
   "metadata": {},
   "outputs": [],
   "source": [
    "# 차원 변환 과정 보기\n",
    "X_train = X_train.reshape(X_train.shape[0], 784)"
   ]
  },
  {
   "cell_type": "code",
   "execution_count": 10,
   "id": "abe3f9bd",
   "metadata": {},
   "outputs": [
    {
     "data": {
      "text/plain": [
       "(60000, 784)"
      ]
     },
     "execution_count": 10,
     "metadata": {},
     "output_type": "execute_result"
    }
   ],
   "source": [
    "X_train.shape"
   ]
  },
  {
   "cell_type": "code",
   "execution_count": 11,
   "id": "ee17e255",
   "metadata": {},
   "outputs": [
    {
     "data": {
      "text/plain": [
       "array([[0, 0, 0, ..., 0, 0, 0],\n",
       "       [0, 0, 0, ..., 0, 0, 0],\n",
       "       [0, 0, 0, ..., 0, 0, 0],\n",
       "       ...,\n",
       "       [0, 0, 0, ..., 0, 0, 0],\n",
       "       [0, 0, 0, ..., 0, 0, 0],\n",
       "       [0, 0, 0, ..., 0, 0, 0]], dtype=uint8)"
      ]
     },
     "execution_count": 11,
     "metadata": {},
     "output_type": "execute_result"
    }
   ],
   "source": [
    "X_train"
   ]
  },
  {
   "cell_type": "code",
   "execution_count": 12,
   "id": "57a7a633",
   "metadata": {},
   "outputs": [],
   "source": [
    "# 케라스에서 이미지 분석을 할 때 데이터를 0에서 1사이의 값으로 변환해야 분석이 잘 됨.\n",
    "# 이미지 분석을 할 때 꼭 해줘야하는 작업은 255로 나누어주는 작업이 필수.\n",
    "# 이러한 작업을 데이터 정규화(nomalization)이라고 한다.\n",
    "X_train = X_train.astype('float64')\n",
    "X_train = X_train / 255"
   ]
  },
  {
   "cell_type": "code",
   "execution_count": 13,
   "id": "e2858708",
   "metadata": {},
   "outputs": [],
   "source": [
    "X_test = X_test.reshape(X_test.shape[0], 784)\n",
    "X_test = X_test.astype('float64')\n",
    "X_test = X_test / 255"
   ]
  },
  {
   "cell_type": "code",
   "execution_count": 14,
   "id": "e669ccb3",
   "metadata": {},
   "outputs": [
    {
     "data": {
      "text/plain": [
       "array([[0., 0., 0., ..., 0., 0., 0.],\n",
       "       [0., 0., 0., ..., 0., 0., 0.],\n",
       "       [0., 0., 0., ..., 0., 0., 0.],\n",
       "       ...,\n",
       "       [0., 0., 0., ..., 0., 0., 0.],\n",
       "       [0., 0., 0., ..., 0., 0., 0.],\n",
       "       [0., 0., 0., ..., 0., 0., 0.]])"
      ]
     },
     "execution_count": 14,
     "metadata": {},
     "output_type": "execute_result"
    }
   ],
   "source": [
    "X_test"
   ]
  },
  {
   "cell_type": "code",
   "execution_count": 15,
   "id": "3cab5360",
   "metadata": {},
   "outputs": [
    {
     "data": {
      "text/plain": [
       "9"
      ]
     },
     "execution_count": 15,
     "metadata": {},
     "output_type": "execute_result"
    }
   ],
   "source": [
    "y_train[4] # 이미지 숫자의 정답지"
   ]
  },
  {
   "cell_type": "markdown",
   "id": "0757c9a3",
   "metadata": {},
   "source": [
    "타겟변수가 숫자로 되어있는데, 카테고리인 얘를 원핫인코딩으로 더미변수화를 해야해."
   ]
  },
  {
   "cell_type": "code",
   "execution_count": 16,
   "id": "d507d8eb",
   "metadata": {},
   "outputs": [],
   "source": [
    "# 타겟이 카테고리형이어야 하기 때문에 숫자로 된 타켓 컬럼을 원핫인코딩 해줌\n",
    "y_train = to_categorical(y_train, 10)\n",
    "y_test = to_categorical(y_test, 10)"
   ]
  },
  {
   "cell_type": "code",
   "execution_count": 17,
   "id": "dacf5bd9",
   "metadata": {},
   "outputs": [
    {
     "data": {
      "text/plain": [
       "array([0., 0., 0., 0., 0., 0., 0., 0., 0., 1.], dtype=float32)"
      ]
     },
     "execution_count": 17,
     "metadata": {},
     "output_type": "execute_result"
    }
   ],
   "source": [
    "y_train[4]"
   ]
  },
  {
   "cell_type": "markdown",
   "id": "d0d98edc",
   "metadata": {},
   "source": [
    "딥러닝을 이용한 mnist손글씨 분석"
   ]
  },
  {
   "cell_type": "code",
   "execution_count": 18,
   "id": "1100d7d6",
   "metadata": {},
   "outputs": [],
   "source": [
    "from tensorflow.keras.models import Sequential\n",
    "from tensorflow.keras.layers import Dense\n",
    "from tensorflow.keras.callbacks import ModelCheckpoint, EarlyStopping\n",
    "import os"
   ]
  },
  {
   "cell_type": "code",
   "execution_count": 19,
   "id": "4d673249",
   "metadata": {},
   "outputs": [
    {
     "data": {
      "text/plain": [
       "(60000, 784)"
      ]
     },
     "execution_count": 19,
     "metadata": {},
     "output_type": "execute_result"
    }
   ],
   "source": [
    "X_train.shape"
   ]
  },
  {
   "cell_type": "code",
   "execution_count": 20,
   "id": "559640bd",
   "metadata": {
    "scrolled": true
   },
   "outputs": [
    {
     "name": "stdout",
     "output_type": "stream",
     "text": [
      "Model: \"sequential\"\n",
      "_________________________________________________________________\n",
      " Layer (type)                Output Shape              Param #   \n",
      "=================================================================\n",
      " dense (Dense)               (None, 512)               401920    \n",
      "                                                                 \n",
      " dense_1 (Dense)             (None, 10)                5130      \n",
      "                                                                 \n",
      "=================================================================\n",
      "Total params: 407,050\n",
      "Trainable params: 407,050\n",
      "Non-trainable params: 0\n",
      "_________________________________________________________________\n"
     ]
    }
   ],
   "source": [
    "model = Sequential()\n",
    "model.add(Dense(512, input_dim=X_train.shape[1], activation='relu'))\n",
    "model.add(Dense(10, activation='softmax'))\n",
    "model.compile(loss='categorical_crossentropy', optimizer='adam', metrics=['accuracy'])\n",
    "model.summary()"
   ]
  },
  {
   "cell_type": "markdown",
   "id": "d2732958",
   "metadata": {},
   "source": [
    "Dense는 2의 배수로 넣어주기. 카테고리가 10개라서 10이야."
   ]
  },
  {
   "cell_type": "code",
   "execution_count": 21,
   "id": "23cf656f",
   "metadata": {},
   "outputs": [
    {
     "data": {
      "text/plain": [
       "'c:\\\\bigdata'"
      ]
     },
     "execution_count": 21,
     "metadata": {},
     "output_type": "execute_result"
    }
   ],
   "source": [
    "pwd"
   ]
  },
  {
   "cell_type": "code",
   "execution_count": 22,
   "id": "1d652a21",
   "metadata": {},
   "outputs": [],
   "source": [
    "# 모델 최적화를 위한 설정\n",
    "model_dir = \"./model/\"\n",
    "if not os.path.exists(model_dir): # 디렉토리가 없을 때 자동 생성\n",
    "    os.mkdir(model_dir)\n",
    "    \n",
    "modelpath=\"./model/MNIST_MLP.hdf5\"\n",
    "checkpointer = ModelCheckpoint(filepath=modelpath, monitor='val_loss', verbose=1, save_best_only=True)\n",
    "early_stopping_callback = EarlyStopping(monitor='val_loss', patience=10)"
   ]
  },
  {
   "cell_type": "markdown",
   "id": "32e967ac",
   "metadata": {},
   "source": [
    "모델이 없으면 자동으로 만들어서 파일을 넣어라.,"
   ]
  },
  {
   "cell_type": "code",
   "execution_count": 23,
   "id": "b4995552",
   "metadata": {},
   "outputs": [
    {
     "name": "stdout",
     "output_type": "stream",
     "text": [
      "\n",
      "Epoch 1: val_loss improved from inf to 0.19690, saving model to ./model\\MNIST_MLP.hdf5\n",
      "\n",
      "Epoch 2: val_loss improved from 0.19690 to 0.13834, saving model to ./model\\MNIST_MLP.hdf5\n",
      "\n",
      "Epoch 3: val_loss improved from 0.13834 to 0.11561, saving model to ./model\\MNIST_MLP.hdf5\n",
      "\n",
      "Epoch 4: val_loss improved from 0.11561 to 0.10338, saving model to ./model\\MNIST_MLP.hdf5\n",
      "\n",
      "Epoch 5: val_loss improved from 0.10338 to 0.09381, saving model to ./model\\MNIST_MLP.hdf5\n",
      "\n",
      "Epoch 6: val_loss improved from 0.09381 to 0.08792, saving model to ./model\\MNIST_MLP.hdf5\n",
      "\n",
      "Epoch 7: val_loss improved from 0.08792 to 0.08266, saving model to ./model\\MNIST_MLP.hdf5\n",
      "\n",
      "Epoch 8: val_loss did not improve from 0.08266\n",
      "\n",
      "Epoch 9: val_loss improved from 0.08266 to 0.07629, saving model to ./model\\MNIST_MLP.hdf5\n",
      "\n",
      "Epoch 10: val_loss did not improve from 0.07629\n",
      "\n",
      "Epoch 11: val_loss did not improve from 0.07629\n",
      "\n",
      "Epoch 12: val_loss did not improve from 0.07629\n",
      "\n",
      "Epoch 13: val_loss did not improve from 0.07629\n",
      "\n",
      "Epoch 14: val_loss did not improve from 0.07629\n",
      "\n",
      "Epoch 15: val_loss did not improve from 0.07629\n",
      "\n",
      "Epoch 16: val_loss did not improve from 0.07629\n",
      "\n",
      "Epoch 17: val_loss did not improve from 0.07629\n",
      "\n",
      "Epoch 18: val_loss did not improve from 0.07629\n",
      "\n",
      "Epoch 19: val_loss did not improve from 0.07629\n"
     ]
    }
   ],
   "source": [
    "# 모델 훈련\n",
    "history = model.fit(X_train, y_train, validation_split=0.25, epochs=30, batch_size=200, verbose=0, \n",
    "                   callbacks=[early_stopping_callback, checkpointer])"
   ]
  },
  {
   "cell_type": "code",
   "execution_count": 24,
   "id": "0cf46a7e",
   "metadata": {},
   "outputs": [
    {
     "name": "stdout",
     "output_type": "stream",
     "text": [
      "313/313 [==============================] - 1s 4ms/step - loss: 0.0690 - accuracy: 0.9810\n",
      "loss: 0.06896534562110901\n",
      "accuracy:  0.9810000061988831\n"
     ]
    }
   ],
   "source": [
    "score = model.evaluate(X_test, y_test)\n",
    "print('loss:', score[0])\n",
    "print('accuracy: ', score[1])"
   ]
  },
  {
   "cell_type": "code",
   "execution_count": 25,
   "id": "defd7897",
   "metadata": {},
   "outputs": [],
   "source": [
    "y_val_loss = history.history['val_loss']\n",
    "y_loss = history.history['loss']"
   ]
  },
  {
   "cell_type": "code",
   "execution_count": 26,
   "id": "0d385b85",
   "metadata": {},
   "outputs": [
    {
     "data": {
      "image/png": "[encoded data removed]",
      "text/plain": [
       "<Figure size 640x480 with 1 Axes>"
      ]
     },
     "metadata": {},
     "output_type": "display_data"
    }
   ],
   "source": [
    "x_len = np.arange(len(y_loss))\n",
    "plt.plot(x_len, y_val_loss, marker='.', c=\"red\", label='Testest_loss')\n",
    "plt.plot(x_len, y_loss, marker='.', c=\"blue\", label='Trainset_loss')\n",
    "plt.legend(loc='upper right')\n",
    "plt.grid()\n",
    "plt.xlabel('epoch')\n",
    "plt.ylabel('loss')\n",
    "plt.show()"
   ]
  },
  {
   "cell_type": "markdown",
   "id": "f83a6041",
   "metadata": {},
   "source": [
    "# 합성곱 신경망(Convolution Neural Network) CNN\n",
    "* 입력된 이미지에서 다시 한 번 특징을 추출하기 위해서 커널(필터)을 이용하는 방법\n"
   ]
  },
  {
   "cell_type": "markdown",
   "id": "1a6fd920",
   "metadata": {},
   "source": [
    "* CNN 순서\n",
    "  * 원본 \n",
    "  - 합성곱(특성추출, 차원축소) \n",
    "  - 풀링(특성추출, 차원축소 Max Pooling, Average Pooling) \n",
    "  - 드롭아웃(은닉층의 노드를 일부러 꺼줌. 과적합 방지를 위해서)\n",
    "  - 플래튼(2차원 데이터를 1차원으로 변환) - 은닉층과 연결(deep learning 연산) \n",
    "  - softmax, sigmoid로 분류 분석"
   ]
  },
  {
   "cell_type": "code",
   "execution_count": 27,
   "id": "b5a27683",
   "metadata": {},
   "outputs": [],
   "source": [
    "# MNIST 손글씨 데이터 불러와 저장하기\n",
    "(X_train, y_train), (X_test, y_test) = mnist.load_data()"
   ]
  },
  {
   "cell_type": "code",
   "execution_count": 28,
   "id": "1ac9b213",
   "metadata": {},
   "outputs": [],
   "source": [
    "X_train = X_train.reshape(X_train.shape[0],28,28,1).astype('float32') /255\n",
    "X_test = X_test.reshape(X_test.shape[0],28,28,1).astype('float32') /255\n",
    "y_train = to_categorical(y_train) # 원핫인코딩 해주기\n",
    "y_test = to_categorical(y_test)"
   ]
  },
  {
   "cell_type": "code",
   "execution_count": 29,
   "id": "ddf99d19",
   "metadata": {},
   "outputs": [],
   "source": [
    "from tensorflow.keras.layers import Conv2D, MaxPooling2D, Flatten, Dropout"
   ]
  },
  {
   "cell_type": "code",
   "execution_count": 30,
   "id": "32df5acf",
   "metadata": {},
   "outputs": [
    {
     "name": "stdout",
     "output_type": "stream",
     "text": [
      "Model: \"sequential_1\"\n",
      "_________________________________________________________________\n",
      " Layer (type)                Output Shape              Param #   \n",
      "=================================================================\n",
      " conv2d (Conv2D)             (None, 26, 26, 32)        320       \n",
      "                                                                 \n",
      " conv2d_1 (Conv2D)           (None, 24, 24, 63)        18207     \n",
      "                                                                 \n",
      " max_pooling2d (MaxPooling2D  (None, 12, 12, 63)       0         \n",
      " )                                                               \n",
      "                                                                 \n",
      " dropout (Dropout)           (None, 12, 12, 63)        0         \n",
      "                                                                 \n",
      " flatten (Flatten)           (None, 9072)              0         \n",
      "                                                                 \n",
      " dense_2 (Dense)             (None, 128)               1161344   \n",
      "                                                                 \n",
      " dropout_1 (Dropout)         (None, 128)               0         \n",
      "                                                                 \n",
      " dense_3 (Dense)             (None, 10)                1290      \n",
      "                                                                 \n",
      "=================================================================\n",
      "Total params: 1,181,161\n",
      "Trainable params: 1,181,161\n",
      "Non-trainable params: 0\n",
      "_________________________________________________________________\n"
     ]
    }
   ],
   "source": [
    "# 컨볼루션 신경망 설정\n",
    "model = Sequential()\n",
    "model.add(Conv2D(32, kernel_size=(3,3), input_shape=(28, 28, 1), activation='relu'))\n",
    "model.add(Conv2D(63, (3,3), activation='relu'))\n",
    "model.add(MaxPooling2D(pool_size=(2,2)))\n",
    "model.add(Dropout(0.25))\n",
    "model.add(Flatten())\n",
    "# 딥러닝 설정하기\n",
    "model.add(Dense(128, activation='relu'))\n",
    "model.add(Dropout(0.5))\n",
    "model.add(Dense(10, activation='softmax'))\n",
    "model.summary()"
   ]
  },
  {
   "cell_type": "markdown",
   "id": "7c69ba7c",
   "metadata": {},
   "source": [
    "input_shape=(28, 28, 1) 가 input_dim의 역할을 한다."
   ]
  },
  {
   "cell_type": "code",
   "execution_count": 31,
   "id": "05ad372c",
   "metadata": {},
   "outputs": [],
   "source": [
    "model.compile(loss='categorical_crossentropy', optimizer='adam', metrics=['accuracy'])\n",
    "# 모델 최적화를 위한 설정\n",
    "model_dir = \"./model/\"\n",
    "if not os.path.exists(model_dir): # 디렉토리가 없을 때 자동 생성\n",
    "    os.mkdir(model_dir)\n",
    "    \n",
    "modelpath=\"./model/MNIST_CNN.hdf5\"\n",
    "checkpointer = ModelCheckpoint(filepath=modelpath, monitor='val_loss', verbose=1, save_best_only=True)\n",
    "early_stopping_callback = EarlyStopping(monitor='val_loss', patience=10)"
   ]
  },
  {
   "cell_type": "code",
   "execution_count": 32,
   "id": "add0bbfe",
   "metadata": {},
   "outputs": [
    {
     "name": "stdout",
     "output_type": "stream",
     "text": [
      "None\n"
     ]
    }
   ],
   "source": [
    "import tensorflow as tf\n",
    "# 텐서가 어디에 할당 되어 있는지 확인\n",
    "print(tf.debugging.set_log_device_placement(True))"
   ]
  },
  {
   "cell_type": "code",
   "execution_count": 33,
   "id": "ed855d5c",
   "metadata": {},
   "outputs": [
    {
     "name": "stdout",
     "output_type": "stream",
     "text": [
      "\n",
      "Epoch 1: val_loss improved from inf to 0.08576, saving model to ./model\\MNIST_CNN.hdf5\n",
      "\n",
      "Epoch 2: val_loss improved from 0.08576 to 0.06002, saving model to ./model\\MNIST_CNN.hdf5\n",
      "\n",
      "Epoch 3: val_loss improved from 0.06002 to 0.05168, saving model to ./model\\MNIST_CNN.hdf5\n",
      "\n",
      "Epoch 4: val_loss improved from 0.05168 to 0.04587, saving model to ./model\\MNIST_CNN.hdf5\n",
      "\n",
      "Epoch 5: val_loss improved from 0.04587 to 0.04282, saving model to ./model\\MNIST_CNN.hdf5\n",
      "\n",
      "Epoch 6: val_loss did not improve from 0.04282\n",
      "\n",
      "Epoch 7: val_loss improved from 0.04282 to 0.03900, saving model to ./model\\MNIST_CNN.hdf5\n",
      "\n",
      "Epoch 8: val_loss did not improve from 0.03900\n",
      "\n",
      "Epoch 9: val_loss improved from 0.03900 to 0.03799, saving model to ./model\\MNIST_CNN.hdf5\n",
      "\n",
      "Epoch 10: val_loss did not improve from 0.03799\n",
      "\n",
      "Epoch 11: val_loss improved from 0.03799 to 0.03728, saving model to ./model\\MNIST_CNN.hdf5\n",
      "\n",
      "Epoch 12: val_loss did not improve from 0.03728\n",
      "\n",
      "Epoch 13: val_loss did not improve from 0.03728\n",
      "\n",
      "Epoch 14: val_loss did not improve from 0.03728\n",
      "\n",
      "Epoch 15: val_loss did not improve from 0.03728\n",
      "\n",
      "Epoch 16: val_loss did not improve from 0.03728\n",
      "\n",
      "Epoch 17: val_loss did not improve from 0.03728\n",
      "\n",
      "Epoch 18: val_loss did not improve from 0.03728\n",
      "\n",
      "Epoch 19: val_loss did not improve from 0.03728\n",
      "\n",
      "Epoch 20: val_loss did not improve from 0.03728\n",
      "\n",
      "Epoch 21: val_loss did not improve from 0.03728\n"
     ]
    }
   ],
   "source": [
    "# 모델 훈련\n",
    "history = model.fit(X_train, y_train, validation_split=0.25, epochs=30, batch_size=200, verbose=0, \n",
    "                   callbacks=[early_stopping_callback, checkpointer])"
   ]
  },
  {
   "cell_type": "code",
   "execution_count": 34,
   "id": "fece32c9",
   "metadata": {},
   "outputs": [
    {
     "name": "stdout",
     "output_type": "stream",
     "text": [
      "313/313 [==============================] - 2s 7ms/step - loss: 0.0335 - accuracy: 0.9916\n",
      "loss: 0.033537693321704865\n",
      "accuracy:  0.991599977016449\n"
     ]
    }
   ],
   "source": [
    "score = model.evaluate(X_test, y_test)\n",
    "print('loss:', score[0])\n",
    "print('accuracy: ', score[1])"
   ]
  },
  {
   "cell_type": "code",
   "execution_count": 35,
   "id": "c23736ad",
   "metadata": {},
   "outputs": [],
   "source": [
    "y_val_loss = history.history['val_loss']\n",
    "y_loss = history.history['loss']"
   ]
  },
  {
   "cell_type": "code",
   "execution_count": 36,
   "id": "912e9ec6",
   "metadata": {},
   "outputs": [
    {
     "data": {
      "image/png": "[encoded data removed]",
      "text/plain": [
       "<Figure size 640x480 with 1 Axes>"
      ]
     },
     "metadata": {},
     "output_type": "display_data"
    }
   ],
   "source": [
    "x_len = np.arange(len(y_loss))\n",
    "plt.plot(x_len, y_val_loss, marker='.', c=\"red\", label='Testest_loss')\n",
    "plt.plot(x_len, y_loss, marker='.', c=\"blue\", label='Trainset_loss')\n",
    "plt.legend(loc='upper right')\n",
    "plt.grid()\n",
    "plt.xlabel('epoch')\n",
    "plt.ylabel('loss')\n",
    "plt.show()"
   ]
  },
  {
   "cell_type": "code",
   "execution_count": null,
   "id": "f4bf54ba",
   "metadata": {},
   "outputs": [],
   "source": []
  },
  {
   "cell_type": "code",
   "execution_count": null,
   "id": "50151daa",
   "metadata": {},
   "outputs": [],
   "source": []
  }
 ],
 "metadata": {
  "kernelspec": {
   "display_name": "tensorflow",
   "language": "python",
   "name": "tensorflow"
  },
  "language_info": {
   "codemirror_mode": {
    "name": "ipython",
    "version": 3
   },
   "file_extension": ".py",
   "mimetype": "text/x-python",
   "name": "python",
   "nbconvert_exporter": "python",
   "pygments_lexer": "ipython3",
   "version": "3.9.18"
  }
 },
 "nbformat": 4,
 "nbformat_minor": 5
}
