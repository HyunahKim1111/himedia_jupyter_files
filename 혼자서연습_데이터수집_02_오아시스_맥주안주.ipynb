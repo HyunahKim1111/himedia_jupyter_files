{
 "cells": [
  {
   "cell_type": "code",
   "execution_count": 1,
   "id": "31ab1468",
   "metadata": {},
   "outputs": [],
   "source": [
    "# selenium 4\n",
    "from selenium import webdriver\n",
    "from selenium.webdriver.chrome.service import Service as ChromeService\n",
    "from webdriver_manager.chrome import ChromeDriverManager\n",
    "from selenium.webdriver.common.keys import Keys\n",
    "from selenium.webdriver.common.by import By\n",
    "from bs4 import BeautifulSoup as bs\n",
    "import time"
   ]
  },
  {
   "cell_type": "code",
   "execution_count": null,
   "id": "f765e860",
   "metadata": {},
   "outputs": [],
   "source": [
    "# 웹 드라이버를 버전에 맞게 자동으로 다운 받고 옵션을 추가해 줌.\n",
    "driver = webdriver.Chrome(service=ChromeService(ChromeDriverManager().install()))\n",
    "driver.set_window_size(1920, 1080) # 웹 브라우저 해상도 조절\n",
    "keyword = input(\"검색할 제품 입력: \")\n",
    "driver.get(\"https://www.oasis.co.kr/product/search?keyword={keyword}&page=1&sort=priority&direction=desc&corpId=&couponType=&rows=20\")"
   ]
  },
  {
   "cell_type": "code",
   "execution_count": null,
   "id": "a6037c7b",
   "metadata": {},
   "outputs": [],
   "source": [
    "# 웹 드라이버를 버전에 맞게 자동으로 다운 받고 옵션을 추가해 줌.\n",
    "driver = webdriver.Chrome(service=ChromeService(ChromeDriverManager().install()))\n",
    "driver.set_window_size(1920, 1080) # 웹 브라우저 해상도 조절\n",
    "keyword = input(\"검색할 제품 입력: \")\n",
    "driver.get(\"https://front.homeplus.co.kr/search?entry=recent&keyword={keyword}\") # 크롤링 할 웹사이트 주소"
   ]
  },
  {
   "cell_type": "code",
   "execution_count": null,
   "id": "1a2570a1",
   "metadata": {},
   "outputs": [],
   "source": [
    "https://www.oasis.co.kr/product/search?keyword=%EB%A7%A5%EC%A3%BC%EC%95%88%EC%A3%BC&page=1&sort=priority&direction=desc&corpId=&couponType=&rows=20"
   ]
  }
 ],
 "metadata": {
  "kernelspec": {
   "display_name": "testenv",
   "language": "python",
   "name": "testenv"
  },
  "language_info": {
   "codemirror_mode": {
    "name": "ipython",
    "version": 3
   },
   "file_extension": ".py",
   "mimetype": "text/x-python",
   "name": "python",
   "nbconvert_exporter": "python",
   "pygments_lexer": "ipython3",
   "version": "3.8.17"
  }
 },
 "nbformat": 4,
 "nbformat_minor": 5
}
